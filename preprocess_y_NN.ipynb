{
 "cells": [
  {
   "cell_type": "markdown",
   "metadata": {},
   "source": [
    "## preparar la base de datos"
   ]
  },
  {
   "cell_type": "code",
   "execution_count": 1,
   "metadata": {},
   "outputs": [
    {
     "name": "stdout",
     "output_type": "stream",
     "text": [
      "❌ Faltan archivos: V → en /Users/benjaminvaca/Documents/USFQ/semestre7/machine_learning/proyecto/Base-sismos-2024/1 Stiker Slip (SS)/Mag. 4-6/Vs30. 200-400\n",
      "❌ Faltan archivos: V → en /Users/benjaminvaca/Documents/USFQ/semestre7/machine_learning/proyecto/Base-sismos-2024/1 Stiker Slip (SS)/Mag. 4-6/Vs30. 200-400\n",
      "❌ Faltan archivos: V → en /Users/benjaminvaca/Documents/USFQ/semestre7/machine_learning/proyecto/Base-sismos-2024/1 Stiker Slip (SS)/Mag. 4-6/Vs30. 200-400\n",
      "📁 1 Stiker Slip (SS) | Mag. 4-6 | Vs30. 200-400 → ✅ 97 eventos válidos\n",
      "❌ Faltan archivos: V → en /Users/benjaminvaca/Documents/USFQ/semestre7/machine_learning/proyecto/Base-sismos-2024/1 Stiker Slip (SS)/Mag. 4-6/Vs30. 400-600\n",
      "❌ Faltan archivos: V → en /Users/benjaminvaca/Documents/USFQ/semestre7/machine_learning/proyecto/Base-sismos-2024/1 Stiker Slip (SS)/Mag. 4-6/Vs30. 400-600\n",
      "📁 1 Stiker Slip (SS) | Mag. 4-6 | Vs30. 400-600 → ✅ 98 eventos válidos\n",
      "📁 1 Stiker Slip (SS) | Mag. 4-6 | Vs30. 0-200 → ✅ 40 eventos válidos\n",
      "❌ Faltan archivos: V → en /Users/benjaminvaca/Documents/USFQ/semestre7/machine_learning/proyecto/Base-sismos-2024/1 Stiker Slip (SS)/Mag. 4-6/Vs30. 600-\n",
      "❌ Faltan archivos: V → en /Users/benjaminvaca/Documents/USFQ/semestre7/machine_learning/proyecto/Base-sismos-2024/1 Stiker Slip (SS)/Mag. 4-6/Vs30. 600-\n",
      "❌ Faltan archivos: V → en /Users/benjaminvaca/Documents/USFQ/semestre7/machine_learning/proyecto/Base-sismos-2024/1 Stiker Slip (SS)/Mag. 4-6/Vs30. 600-\n",
      "📁 1 Stiker Slip (SS) | Mag. 4-6 | Vs30. 600- → ✅ 88 eventos válidos\n",
      "❌ Faltan archivos: V → en /Users/benjaminvaca/Documents/USFQ/semestre7/machine_learning/proyecto/Base-sismos-2024/1 Stiker Slip (SS)/Mag. 6-8/Vs30. 200-400\n",
      "📁 1 Stiker Slip (SS) | Mag. 6-8 | Vs30. 200-400 → ✅ 60 eventos válidos\n",
      "📁 1 Stiker Slip (SS) | Mag. 6-8 | Vs30. 400-600 → ✅ 101 eventos válidos\n",
      "❌ Faltan archivos: V → en /Users/benjaminvaca/Documents/USFQ/semestre7/machine_learning/proyecto/Base-sismos-2024/1 Stiker Slip (SS)/Mag. 6-8/Vs30. 0-200\n",
      "❌ Faltan archivos: H1 → en /Users/benjaminvaca/Documents/USFQ/semestre7/machine_learning/proyecto/Base-sismos-2024/1 Stiker Slip (SS)/Mag. 6-8/Vs30. 0-200\n",
      "❌ Faltan archivos: H1 → en /Users/benjaminvaca/Documents/USFQ/semestre7/machine_learning/proyecto/Base-sismos-2024/1 Stiker Slip (SS)/Mag. 6-8/Vs30. 0-200\n",
      "❌ Faltan archivos: H1 → en /Users/benjaminvaca/Documents/USFQ/semestre7/machine_learning/proyecto/Base-sismos-2024/1 Stiker Slip (SS)/Mag. 6-8/Vs30. 0-200\n",
      "❌ Faltan archivos: H1 → en /Users/benjaminvaca/Documents/USFQ/semestre7/machine_learning/proyecto/Base-sismos-2024/1 Stiker Slip (SS)/Mag. 6-8/Vs30. 0-200\n",
      "❌ Faltan archivos: H1 → en /Users/benjaminvaca/Documents/USFQ/semestre7/machine_learning/proyecto/Base-sismos-2024/1 Stiker Slip (SS)/Mag. 6-8/Vs30. 0-200\n",
      "❌ Faltan archivos: H1 → en /Users/benjaminvaca/Documents/USFQ/semestre7/machine_learning/proyecto/Base-sismos-2024/1 Stiker Slip (SS)/Mag. 6-8/Vs30. 0-200\n",
      "❌ Faltan archivos: H2 → en /Users/benjaminvaca/Documents/USFQ/semestre7/machine_learning/proyecto/Base-sismos-2024/1 Stiker Slip (SS)/Mag. 6-8/Vs30. 0-200\n",
      "❌ Faltan archivos: H2 → en /Users/benjaminvaca/Documents/USFQ/semestre7/machine_learning/proyecto/Base-sismos-2024/1 Stiker Slip (SS)/Mag. 6-8/Vs30. 0-200\n",
      "❌ Faltan archivos: H1 → en /Users/benjaminvaca/Documents/USFQ/semestre7/machine_learning/proyecto/Base-sismos-2024/1 Stiker Slip (SS)/Mag. 6-8/Vs30. 0-200\n",
      "❌ Faltan archivos: H1 → en /Users/benjaminvaca/Documents/USFQ/semestre7/machine_learning/proyecto/Base-sismos-2024/1 Stiker Slip (SS)/Mag. 6-8/Vs30. 0-200\n",
      "❌ Faltan archivos: H1 → en /Users/benjaminvaca/Documents/USFQ/semestre7/machine_learning/proyecto/Base-sismos-2024/1 Stiker Slip (SS)/Mag. 6-8/Vs30. 0-200\n",
      "❌ Faltan archivos: H1 → en /Users/benjaminvaca/Documents/USFQ/semestre7/machine_learning/proyecto/Base-sismos-2024/1 Stiker Slip (SS)/Mag. 6-8/Vs30. 0-200\n",
      "❌ Faltan archivos: H1 → en /Users/benjaminvaca/Documents/USFQ/semestre7/machine_learning/proyecto/Base-sismos-2024/1 Stiker Slip (SS)/Mag. 6-8/Vs30. 0-200\n",
      "❌ Faltan archivos: H1 → en /Users/benjaminvaca/Documents/USFQ/semestre7/machine_learning/proyecto/Base-sismos-2024/1 Stiker Slip (SS)/Mag. 6-8/Vs30. 0-200\n",
      "❌ Faltan archivos: H1 → en /Users/benjaminvaca/Documents/USFQ/semestre7/machine_learning/proyecto/Base-sismos-2024/1 Stiker Slip (SS)/Mag. 6-8/Vs30. 0-200\n",
      "❌ Faltan archivos: H1 → en /Users/benjaminvaca/Documents/USFQ/semestre7/machine_learning/proyecto/Base-sismos-2024/1 Stiker Slip (SS)/Mag. 6-8/Vs30. 0-200\n",
      "❌ Faltan archivos: H1 → en /Users/benjaminvaca/Documents/USFQ/semestre7/machine_learning/proyecto/Base-sismos-2024/1 Stiker Slip (SS)/Mag. 6-8/Vs30. 0-200\n",
      "❌ Faltan archivos: H1 → en /Users/benjaminvaca/Documents/USFQ/semestre7/machine_learning/proyecto/Base-sismos-2024/1 Stiker Slip (SS)/Mag. 6-8/Vs30. 0-200\n",
      "❌ Faltan archivos: H1 → en /Users/benjaminvaca/Documents/USFQ/semestre7/machine_learning/proyecto/Base-sismos-2024/1 Stiker Slip (SS)/Mag. 6-8/Vs30. 0-200\n",
      "❌ Faltan archivos: H1 → en /Users/benjaminvaca/Documents/USFQ/semestre7/machine_learning/proyecto/Base-sismos-2024/1 Stiker Slip (SS)/Mag. 6-8/Vs30. 0-200\n",
      "❌ Faltan archivos: H1 → en /Users/benjaminvaca/Documents/USFQ/semestre7/machine_learning/proyecto/Base-sismos-2024/1 Stiker Slip (SS)/Mag. 6-8/Vs30. 0-200\n",
      "❌ Faltan archivos: H1 → en /Users/benjaminvaca/Documents/USFQ/semestre7/machine_learning/proyecto/Base-sismos-2024/1 Stiker Slip (SS)/Mag. 6-8/Vs30. 0-200\n",
      "❌ Faltan archivos: H1 → en /Users/benjaminvaca/Documents/USFQ/semestre7/machine_learning/proyecto/Base-sismos-2024/1 Stiker Slip (SS)/Mag. 6-8/Vs30. 0-200\n",
      "❌ Faltan archivos: H1 → en /Users/benjaminvaca/Documents/USFQ/semestre7/machine_learning/proyecto/Base-sismos-2024/1 Stiker Slip (SS)/Mag. 6-8/Vs30. 0-200\n",
      "❌ Faltan archivos: H1 → en /Users/benjaminvaca/Documents/USFQ/semestre7/machine_learning/proyecto/Base-sismos-2024/1 Stiker Slip (SS)/Mag. 6-8/Vs30. 0-200\n",
      "❌ Faltan archivos: H1 → en /Users/benjaminvaca/Documents/USFQ/semestre7/machine_learning/proyecto/Base-sismos-2024/1 Stiker Slip (SS)/Mag. 6-8/Vs30. 0-200\n",
      "❌ Faltan archivos: H1 → en /Users/benjaminvaca/Documents/USFQ/semestre7/machine_learning/proyecto/Base-sismos-2024/1 Stiker Slip (SS)/Mag. 6-8/Vs30. 0-200\n",
      "❌ Faltan archivos: H1 → en /Users/benjaminvaca/Documents/USFQ/semestre7/machine_learning/proyecto/Base-sismos-2024/1 Stiker Slip (SS)/Mag. 6-8/Vs30. 0-200\n",
      "❌ Faltan archivos: H1 → en /Users/benjaminvaca/Documents/USFQ/semestre7/machine_learning/proyecto/Base-sismos-2024/1 Stiker Slip (SS)/Mag. 6-8/Vs30. 0-200\n",
      "❌ Faltan archivos: H1 → en /Users/benjaminvaca/Documents/USFQ/semestre7/machine_learning/proyecto/Base-sismos-2024/1 Stiker Slip (SS)/Mag. 6-8/Vs30. 0-200\n",
      "❌ Faltan archivos: H1 → en /Users/benjaminvaca/Documents/USFQ/semestre7/machine_learning/proyecto/Base-sismos-2024/1 Stiker Slip (SS)/Mag. 6-8/Vs30. 0-200\n",
      "❌ Faltan archivos: H1 → en /Users/benjaminvaca/Documents/USFQ/semestre7/machine_learning/proyecto/Base-sismos-2024/1 Stiker Slip (SS)/Mag. 6-8/Vs30. 0-200\n",
      "❌ Faltan archivos: H1 → en /Users/benjaminvaca/Documents/USFQ/semestre7/machine_learning/proyecto/Base-sismos-2024/1 Stiker Slip (SS)/Mag. 6-8/Vs30. 0-200\n",
      "❌ Faltan archivos: H1 → en /Users/benjaminvaca/Documents/USFQ/semestre7/machine_learning/proyecto/Base-sismos-2024/1 Stiker Slip (SS)/Mag. 6-8/Vs30. 0-200\n",
      "❌ Faltan archivos: H1 → en /Users/benjaminvaca/Documents/USFQ/semestre7/machine_learning/proyecto/Base-sismos-2024/1 Stiker Slip (SS)/Mag. 6-8/Vs30. 0-200\n",
      "❌ Faltan archivos: H1 → en /Users/benjaminvaca/Documents/USFQ/semestre7/machine_learning/proyecto/Base-sismos-2024/1 Stiker Slip (SS)/Mag. 6-8/Vs30. 0-200\n",
      "❌ Faltan archivos: H1 → en /Users/benjaminvaca/Documents/USFQ/semestre7/machine_learning/proyecto/Base-sismos-2024/1 Stiker Slip (SS)/Mag. 6-8/Vs30. 0-200\n",
      "❌ Faltan archivos: H1 → en /Users/benjaminvaca/Documents/USFQ/semestre7/machine_learning/proyecto/Base-sismos-2024/1 Stiker Slip (SS)/Mag. 6-8/Vs30. 0-200\n",
      "❌ Faltan archivos: H1 → en /Users/benjaminvaca/Documents/USFQ/semestre7/machine_learning/proyecto/Base-sismos-2024/1 Stiker Slip (SS)/Mag. 6-8/Vs30. 0-200\n",
      "❌ Faltan archivos: H1 → en /Users/benjaminvaca/Documents/USFQ/semestre7/machine_learning/proyecto/Base-sismos-2024/1 Stiker Slip (SS)/Mag. 6-8/Vs30. 0-200\n",
      "❌ Faltan archivos: H1 → en /Users/benjaminvaca/Documents/USFQ/semestre7/machine_learning/proyecto/Base-sismos-2024/1 Stiker Slip (SS)/Mag. 6-8/Vs30. 0-200\n",
      "❌ Faltan archivos: H1 → en /Users/benjaminvaca/Documents/USFQ/semestre7/machine_learning/proyecto/Base-sismos-2024/1 Stiker Slip (SS)/Mag. 6-8/Vs30. 0-200\n",
      "❌ Faltan archivos: H1 → en /Users/benjaminvaca/Documents/USFQ/semestre7/machine_learning/proyecto/Base-sismos-2024/1 Stiker Slip (SS)/Mag. 6-8/Vs30. 0-200\n",
      "❌ Faltan archivos: H1 → en /Users/benjaminvaca/Documents/USFQ/semestre7/machine_learning/proyecto/Base-sismos-2024/1 Stiker Slip (SS)/Mag. 6-8/Vs30. 0-200\n",
      "❌ Faltan archivos: H1 → en /Users/benjaminvaca/Documents/USFQ/semestre7/machine_learning/proyecto/Base-sismos-2024/1 Stiker Slip (SS)/Mag. 6-8/Vs30. 0-200\n",
      "❌ Faltan archivos: H1 → en /Users/benjaminvaca/Documents/USFQ/semestre7/machine_learning/proyecto/Base-sismos-2024/1 Stiker Slip (SS)/Mag. 6-8/Vs30. 0-200\n",
      "❌ Faltan archivos: H1 → en /Users/benjaminvaca/Documents/USFQ/semestre7/machine_learning/proyecto/Base-sismos-2024/1 Stiker Slip (SS)/Mag. 6-8/Vs30. 0-200\n",
      "❌ Faltan archivos: H1 → en /Users/benjaminvaca/Documents/USFQ/semestre7/machine_learning/proyecto/Base-sismos-2024/1 Stiker Slip (SS)/Mag. 6-8/Vs30. 0-200\n",
      "❌ Faltan archivos: H1 → en /Users/benjaminvaca/Documents/USFQ/semestre7/machine_learning/proyecto/Base-sismos-2024/1 Stiker Slip (SS)/Mag. 6-8/Vs30. 0-200\n",
      "❌ Faltan archivos: H1 → en /Users/benjaminvaca/Documents/USFQ/semestre7/machine_learning/proyecto/Base-sismos-2024/1 Stiker Slip (SS)/Mag. 6-8/Vs30. 0-200\n",
      "❌ Faltan archivos: H1 → en /Users/benjaminvaca/Documents/USFQ/semestre7/machine_learning/proyecto/Base-sismos-2024/1 Stiker Slip (SS)/Mag. 6-8/Vs30. 0-200\n",
      "📁 1 Stiker Slip (SS) | Mag. 6-8 | Vs30. 0-200 → ✅ 37 eventos válidos\n",
      "📁 1 Stiker Slip (SS) | Mag. 6-8 | Vs30. 600- → ✅ 76 eventos válidos\n",
      "📁 2 Normal-Oblique | Mag. 4-6 | Vs30. 200-400 → ✅ 101 eventos válidos\n",
      "❌ Faltan archivos: V → en /Users/benjaminvaca/Documents/USFQ/semestre7/machine_learning/proyecto/Base-sismos-2024/2 Normal-Oblique/Mag. 4-6/Vs30. 400-600\n",
      "❌ Faltan archivos: V → en /Users/benjaminvaca/Documents/USFQ/semestre7/machine_learning/proyecto/Base-sismos-2024/2 Normal-Oblique/Mag. 4-6/Vs30. 400-600\n",
      "❌ Faltan archivos: V → en /Users/benjaminvaca/Documents/USFQ/semestre7/machine_learning/proyecto/Base-sismos-2024/2 Normal-Oblique/Mag. 4-6/Vs30. 400-600\n",
      "❌ Faltan archivos: V → en /Users/benjaminvaca/Documents/USFQ/semestre7/machine_learning/proyecto/Base-sismos-2024/2 Normal-Oblique/Mag. 4-6/Vs30. 400-600\n",
      "❌ Faltan archivos: V → en /Users/benjaminvaca/Documents/USFQ/semestre7/machine_learning/proyecto/Base-sismos-2024/2 Normal-Oblique/Mag. 4-6/Vs30. 400-600\n",
      "📁 2 Normal-Oblique | Mag. 4-6 | Vs30. 400-600 → ✅ 91 eventos válidos\n",
      "📁 2 Normal-Oblique | Mag. 4-6 | Vs30. 0-200 → ✅ 7 eventos válidos\n",
      "❌ Faltan archivos: V → en /Users/benjaminvaca/Documents/USFQ/semestre7/machine_learning/proyecto/Base-sismos-2024/2 Normal-Oblique/Mag. 4-6/Vs30. 600-\n",
      "❌ Faltan archivos: V → en /Users/benjaminvaca/Documents/USFQ/semestre7/machine_learning/proyecto/Base-sismos-2024/2 Normal-Oblique/Mag. 4-6/Vs30. 600-\n",
      "📁 2 Normal-Oblique | Mag. 4-6 | Vs30. 600- → ✅ 99 eventos válidos\n",
      "❌ Faltan archivos: V → en /Users/benjaminvaca/Documents/USFQ/semestre7/machine_learning/proyecto/Base-sismos-2024/2 Normal-Oblique/Mag. 6-8/Vs30. 200-400\n",
      "❌ Faltan archivos: V → en /Users/benjaminvaca/Documents/USFQ/semestre7/machine_learning/proyecto/Base-sismos-2024/2 Normal-Oblique/Mag. 6-8/Vs30. 200-400\n",
      "❌ Faltan archivos: V → en /Users/benjaminvaca/Documents/USFQ/semestre7/machine_learning/proyecto/Base-sismos-2024/2 Normal-Oblique/Mag. 6-8/Vs30. 200-400\n",
      "❌ Faltan archivos: V → en /Users/benjaminvaca/Documents/USFQ/semestre7/machine_learning/proyecto/Base-sismos-2024/2 Normal-Oblique/Mag. 6-8/Vs30. 200-400\n",
      "📁 2 Normal-Oblique | Mag. 6-8 | Vs30. 200-400 → ✅ 34 eventos válidos\n",
      "📁 2 Normal-Oblique | Mag. 6-8 | Vs30. 400-600 → ✅ 60 eventos válidos\n",
      "📁 2 Normal-Oblique | Mag. 6-8 | Vs30. 0-200 → ✅ 1 eventos válidos\n",
      "📁 2 Normal-Oblique | Mag. 6-8 | Vs30. 600- → ✅ 14 eventos válidos\n",
      "❌ Faltan archivos: V → en /Users/benjaminvaca/Documents/USFQ/semestre7/machine_learning/proyecto/Base-sismos-2024/3 Reverse-Oblique/Mag. 4-6/Vs30. 200-400\n",
      "❌ Faltan archivos: V → en /Users/benjaminvaca/Documents/USFQ/semestre7/machine_learning/proyecto/Base-sismos-2024/3 Reverse-Oblique/Mag. 4-6/Vs30. 200-400\n",
      "📁 3 Reverse-Oblique | Mag. 4-6 | Vs30. 200-400 → ✅ 98 eventos válidos\n",
      "❌ Faltan archivos: V → en /Users/benjaminvaca/Documents/USFQ/semestre7/machine_learning/proyecto/Base-sismos-2024/3 Reverse-Oblique/Mag. 4-6/Vs30. 400-600\n",
      "❌ Faltan archivos: V → en /Users/benjaminvaca/Documents/USFQ/semestre7/machine_learning/proyecto/Base-sismos-2024/3 Reverse-Oblique/Mag. 4-6/Vs30. 400-600\n",
      "❌ Faltan archivos: V → en /Users/benjaminvaca/Documents/USFQ/semestre7/machine_learning/proyecto/Base-sismos-2024/3 Reverse-Oblique/Mag. 4-6/Vs30. 400-600\n",
      "❌ Faltan archivos: V → en /Users/benjaminvaca/Documents/USFQ/semestre7/machine_learning/proyecto/Base-sismos-2024/3 Reverse-Oblique/Mag. 4-6/Vs30. 400-600\n",
      "❌ Faltan archivos: V → en /Users/benjaminvaca/Documents/USFQ/semestre7/machine_learning/proyecto/Base-sismos-2024/3 Reverse-Oblique/Mag. 4-6/Vs30. 400-600\n",
      "❌ Faltan archivos: V → en /Users/benjaminvaca/Documents/USFQ/semestre7/machine_learning/proyecto/Base-sismos-2024/3 Reverse-Oblique/Mag. 4-6/Vs30. 400-600\n",
      "❌ Faltan archivos: V → en /Users/benjaminvaca/Documents/USFQ/semestre7/machine_learning/proyecto/Base-sismos-2024/3 Reverse-Oblique/Mag. 4-6/Vs30. 400-600\n",
      "❌ Faltan archivos: V → en /Users/benjaminvaca/Documents/USFQ/semestre7/machine_learning/proyecto/Base-sismos-2024/3 Reverse-Oblique/Mag. 4-6/Vs30. 400-600\n",
      "📁 3 Reverse-Oblique | Mag. 4-6 | Vs30. 400-600 → ✅ 88 eventos válidos\n",
      "📁 3 Reverse-Oblique | Mag. 4-6 | Vs30. 0-200 → ✅ 35 eventos válidos\n",
      "❌ Faltan archivos: V → en /Users/benjaminvaca/Documents/USFQ/semestre7/machine_learning/proyecto/Base-sismos-2024/3 Reverse-Oblique/Mag. 4-6/Vs30. 600-\n",
      "📁 3 Reverse-Oblique | Mag. 4-6 | Vs30. 600- → ✅ 100 eventos válidos\n",
      "❌ Faltan archivos: V → en /Users/benjaminvaca/Documents/USFQ/semestre7/machine_learning/proyecto/Base-sismos-2024/3 Reverse-Oblique/Mag. 6-8/Vs30. 200-400\n",
      "❌ Faltan archivos: V → en /Users/benjaminvaca/Documents/USFQ/semestre7/machine_learning/proyecto/Base-sismos-2024/3 Reverse-Oblique/Mag. 6-8/Vs30. 200-400\n",
      "❌ Faltan archivos: V → en /Users/benjaminvaca/Documents/USFQ/semestre7/machine_learning/proyecto/Base-sismos-2024/3 Reverse-Oblique/Mag. 6-8/Vs30. 200-400\n",
      "❌ Faltan archivos: V → en /Users/benjaminvaca/Documents/USFQ/semestre7/machine_learning/proyecto/Base-sismos-2024/3 Reverse-Oblique/Mag. 6-8/Vs30. 200-400\n",
      "📁 3 Reverse-Oblique | Mag. 6-8 | Vs30. 200-400 → ✅ 96 eventos válidos\n",
      "❌ Faltan archivos: V → en /Users/benjaminvaca/Documents/USFQ/semestre7/machine_learning/proyecto/Base-sismos-2024/3 Reverse-Oblique/Mag. 6-8/Vs30. 400-600\n",
      "📁 3 Reverse-Oblique | Mag. 6-8 | Vs30. 400-600 → ✅ 95 eventos válidos\n",
      "📁 3 Reverse-Oblique | Mag. 6-8 | Vs30. 0-200 → ✅ 81 eventos válidos\n",
      "❌ Faltan archivos: V → en /Users/benjaminvaca/Documents/USFQ/semestre7/machine_learning/proyecto/Base-sismos-2024/3 Reverse-Oblique/Mag. 6-8/Vs30. 600-\n",
      "❌ Faltan archivos: V → en /Users/benjaminvaca/Documents/USFQ/semestre7/machine_learning/proyecto/Base-sismos-2024/3 Reverse-Oblique/Mag. 6-8/Vs30. 600-\n",
      "📁 3 Reverse-Oblique | Mag. 6-8 | Vs30. 600- → ✅ 99 eventos válidos\n",
      "\n",
      "📄 Archivo CSV generado: eventos_validos.csv\n",
      "\n",
      "🎯 TOTAL GLOBAL de eventos válidos con los tres componentes: 1696\n"
     ]
    }
   ],
   "source": [
    "# código funciona perfectamente\n",
    "import os\n",
    "import csv\n",
    "\n",
    "def cargar_lineas_validas(csv_path, salto=34):\n",
    "    lineas = []\n",
    "    with open(csv_path, 'r', encoding='utf-8', errors='ignore') as f:\n",
    "        for i, line in enumerate(f):\n",
    "            if i >= salto:\n",
    "                if line.strip() == \"\":\n",
    "                    break\n",
    "                lineas.append(line.strip())\n",
    "    return lineas\n",
    "\n",
    "def encontrar_ruta_componente(archivo, dirs_prioridad):\n",
    "    for d in dirs_prioridad:\n",
    "        posible = os.path.join(d, archivo)\n",
    "        if os.path.exists(posible):\n",
    "            return posible\n",
    "    return None\n",
    "\n",
    "def procesar_vs30(tipo, magnitud, vs30, vs30_path, registros_validos):\n",
    "    componentes = {\n",
    "        \"H1\": os.path.join(vs30_path, \"Componente Horizontal 1\"),\n",
    "        \"H2\": os.path.join(vs30_path, \"Componente Horizontal 2\"),\n",
    "        \"V\":  os.path.join(vs30_path, \"Componente Vertical\")\n",
    "    }\n",
    "    search_csv = os.path.join(vs30_path, \"_SearchResults.csv\")\n",
    "    if not os.path.isfile(search_csv):\n",
    "        print(f\"⚠️ No se encuentra el archivo CSV: {search_csv}\")\n",
    "        return 0\n",
    "\n",
    "    lineas = cargar_lineas_validas(search_csv)\n",
    "    if not lineas:\n",
    "        print(f\"⚠️ No se encontraron líneas válidas en el CSV: {search_csv}\")\n",
    "        return 0\n",
    "\n",
    "    validos = 0\n",
    "    for linea in lineas:\n",
    "        row = linea.split(\",\")\n",
    "        if len(row) < 3:\n",
    "            continue\n",
    "        arch_h1, arch_h2, arch_v = row[-3].strip(), row[-2].strip(), row[-1].strip()\n",
    "        ruta_h1 = encontrar_ruta_componente(arch_h1, [componentes[\"H1\"], componentes[\"H2\"], componentes[\"V\"]])\n",
    "        ruta_h2 = encontrar_ruta_componente(arch_h2, [componentes[\"H2\"], componentes[\"H1\"]])\n",
    "        ruta_v  = encontrar_ruta_componente(arch_v,  [componentes[\"V\"],  componentes[\"H1\"], componentes[\"H2\"]])\n",
    "        \n",
    "        if ruta_h1 and ruta_h2 and ruta_v:\n",
    "            validos += 1\n",
    "            registros_validos.append({\n",
    "                \"Tipo de evento\": tipo,\n",
    "                \"Magnitud\": magnitud,\n",
    "                \"Vs30\": vs30,\n",
    "                \"Archivo H1\": arch_h1,\n",
    "                \"Ruta H1\": ruta_h1,\n",
    "                \"Archivo H2\": arch_h2,\n",
    "                \"Ruta H2\": ruta_h2,\n",
    "                \"Archivo V\": arch_v,\n",
    "                \"Ruta V\": ruta_v\n",
    "            })\n",
    "        else:\n",
    "            print(\"❌ Faltan archivos:\", end=\" \")\n",
    "            if not ruta_h1: print(\"H1\", end=\" \")\n",
    "            if not ruta_h2: print(\"H2\", end=\" \")\n",
    "            if not ruta_v:  print(\"V\",  end=\" \")\n",
    "            print(f\"→ en {vs30_path}\")\n",
    "    return validos\n",
    "\n",
    "def contar_eventos_validos_y_guardar_csv(base_path, tipos_evento, archivo_salida=\"eventos_validos.csv\"):\n",
    "    total_global = 0\n",
    "    registros_validos = []\n",
    "\n",
    "    for tipo in tipos_evento:\n",
    "        tipo_path = os.path.join(base_path, tipo)\n",
    "        if not os.path.isdir(tipo_path):\n",
    "            print(f\"❌ No existe la carpeta de tipo: {tipo_path}\")\n",
    "            continue\n",
    "\n",
    "        for magnitud in os.listdir(tipo_path):\n",
    "            mag_path = os.path.join(tipo_path, magnitud)\n",
    "            if not os.path.isdir(mag_path):\n",
    "                continue\n",
    "\n",
    "            for vs30 in os.listdir(mag_path):\n",
    "                vs30_path = os.path.join(mag_path, vs30)\n",
    "                if not os.path.isdir(vs30_path):\n",
    "                    continue\n",
    "\n",
    "                total_local = procesar_vs30(tipo, magnitud, vs30, vs30_path, registros_validos)\n",
    "                total_global += total_local\n",
    "\n",
    "                estado = \"✅\" if total_local > 0 else \"⚠️\"\n",
    "                print(f\"📁 {tipo} | {magnitud} | {vs30} → {estado} {total_local} eventos válidos\")\n",
    "\n",
    "    # Guardar CSV\n",
    "    if registros_validos:\n",
    "        campos = list(registros_validos[0].keys())\n",
    "        with open(archivo_salida, 'w', newline='', encoding='utf-8') as f:\n",
    "            writer = csv.DictWriter(f, fieldnames=campos)\n",
    "            writer.writeheader()\n",
    "            writer.writerows(registros_validos)\n",
    "        print(f\"\\n📄 Archivo CSV generado: {archivo_salida}\")\n",
    "    else:\n",
    "        print(\"\\n⚠️ No se generó ningún registro válido, no se creó el CSV.\")\n",
    "\n",
    "    return total_global\n",
    "\n",
    "# Ejecutar\n",
    "base_dir = os.path.join(os.getcwd(), \"Base-sismos-2024\")\n",
    "tipos = [\"1 Stiker Slip (SS)\", \"2 Normal-Oblique\", \"3 Reverse-Oblique\"]\n",
    "total = contar_eventos_validos_y_guardar_csv(base_dir, tipos)\n",
    "print(\"\\n🎯 TOTAL GLOBAL de eventos válidos con los tres componentes:\", total)\n"
   ]
  },
  {
   "cell_type": "code",
   "execution_count": 2,
   "metadata": {},
   "outputs": [],
   "source": [
    "import pandas as pd"
   ]
  },
  {
   "cell_type": "code",
   "execution_count": 3,
   "metadata": {},
   "outputs": [],
   "source": [
    "df_completo = pd.read_csv('eventos_validos.csv', encoding='utf-8')"
   ]
  },
  {
   "cell_type": "code",
   "execution_count": 4,
   "metadata": {},
   "outputs": [],
   "source": [
    "# Creación del ID\n",
    "import pandas as pd\n",
    "import numpy as np\n",
    "ph1=df_completo['Archivo H1'].str.split('_').str[:2].str.join('_')\n",
    "ph2=df_completo['Archivo H2'].str.split('_').str[:2].str.join('_')\n",
    "phv=df_completo['Archivo V'].str.split('_').str[:2].str.join('_')\n",
    "\n",
    "mascara = (ph1 == ph2) & (ph1 == phv)\n",
    "df_completo.loc[mascara, 'Evento ID'] = ph1[mascara]\n",
    "columnas = ['Evento ID']+ [c for c in df_completo.columns if c != 'Evento ID']\n",
    "df_completo = df_completo[columnas] #Reordenar, luego esto se lo meteria en el codigo de Andres para que eeste mas clean\n",
    "\n",
    "#Nose como funciono esto, pero chat ayudo\n",
    "ocurrencias = df_completo.groupby('Evento ID').cumcount()\n",
    "mask_segundas = ocurrencias == 1\n",
    "\n",
    "# 3) Renombra sólo esas filas, añadiendo \"_2\" al final\n",
    "df_completo.loc[mask_segundas, 'Evento ID'] = (\n",
    "    df_completo.loc[mask_segundas, 'Evento ID'] + '_2'\n",
    ")\n",
    "\n",
    "df_completo['Evento ID'].nunique()\n",
    "df_completo.to_csv('eventos_actualizado.csv', index=False) #OJO A LOS NOMBRES DE ARCHIVO\n"
   ]
  },
  {
   "cell_type": "code",
   "execution_count": 5,
   "metadata": {},
   "outputs": [],
   "source": [
    "# Creo que tiene ya todo junto\n",
    "import re\n",
    "\n",
    "def processNGAfile3(filepath, scalefactor=None):\n",
    "    \"\"\"\n",
    "    Lee un .AT2 y devuelve (npts, dt, time, inp_acc), buscando dinámicamente\n",
    "    la línea con NPTS= y DT=, y detectando el inicio de los datos numéricos.\n",
    "    \"\"\"\n",
    "    if scalefactor is None:\n",
    "        scalefactor = 1.0\n",
    "\n",
    "    with open(filepath, 'r') as f:\n",
    "        lines = f.readlines()\n",
    "\n",
    "    # 1) Buscar NPTS y DT en las primeras 20 líneas\n",
    "    npts = dt = None\n",
    "    for line in lines[:20]:\n",
    "        m_n = re.search(r'NPTS\\s*=\\s*([0-9]+)', line)\n",
    "        m_d = re.search(r'DT\\s*=\\s*([0-9]*\\.?[0-9]+)', line)\n",
    "        if m_n: npts = int(m_n.group(1))\n",
    "        if m_d: dt   = float(m_d.group(1))\n",
    "        if npts is not None and dt is not None:\n",
    "            break\n",
    "    if npts is None or dt is None:\n",
    "        raise ValueError(f\"No se encontró NPTS/DT en {filepath}\")\n",
    "\n",
    "    # 2) Detectar el índice donde empiezan los datos (línea con floats)\n",
    "    start_idx = None\n",
    "    num_pattern = re.compile(r'^[-+]?[0-9]*\\.?[0-9]+')\n",
    "    for i, line in enumerate(lines):\n",
    "        tokens = line.strip().split()\n",
    "        # si TODOS los tokens tienen formato numérico, asumimos datos\n",
    "        if tokens and all(num_pattern.match(t) for t in tokens):\n",
    "            start_idx = i\n",
    "            break\n",
    "    if start_idx is None:\n",
    "        raise ValueError(f\"No se encontró inicio de datos en {filepath}\")\n",
    "\n",
    "    # 3) Leer todos los valores desde start_idx en adelante\n",
    "    acc_data = []\n",
    "    for line in lines[start_idx:]:\n",
    "        for tok in line.strip().split():\n",
    "            acc_data.append(float(tok) * scalefactor)\n",
    "\n",
    "    inp_acc = np.array(acc_data, dtype=float)\n",
    "    time    = np.arange(len(acc_data)) * dt\n",
    "\n",
    "    return npts, dt, time, inp_acc\n"
   ]
  },
  {
   "cell_type": "code",
   "execution_count": 6,
   "metadata": {},
   "outputs": [],
   "source": [
    "#Verificacion de que se estan leyendo bien los datos que nos interesan para hacer la normalizacion\n",
    "import pandas as pd\n",
    "\n",
    "def agregar_dt_npts(df, comp_cols=('Ruta H1','Ruta H2','Ruta V')):\n",
    "    \"\"\"\n",
    "    A un DataFrame que ya contiene rutas completas en comp_cols,\n",
    "    le añade dos columnas por componente: NPTS_<sufijo> y DT_<sufijo>.\n",
    "\n",
    "    Parámetros\n",
    "    ----------\n",
    "    df : pd.DataFrame\n",
    "        Debe tener al menos las columnas indicadas en comp_cols, con la ruta\n",
    "        completa al archivo .AT2 en cada celda.\n",
    "    comp_cols : tuple de str\n",
    "        Nombres de las columnas de df con las rutas para H1, H2 y V.\n",
    "\n",
    "    Devuelve\n",
    "    -------\n",
    "    pd.DataFrame\n",
    "        Copia de df con las 6 columnas adicionales.\n",
    "    \"\"\"\n",
    "    df2 = df.copy()\n",
    "\n",
    "    for comp in comp_cols:\n",
    "        npts_list = []\n",
    "        dt_list   = []\n",
    "\n",
    "        # Procesa cada ruta de archivo directamente\n",
    "        for filepath in df2[comp]:\n",
    "            # Llama a tu parser robusto:\n",
    "            npts, dt,_,_ = processNGAfile3(filepath)\n",
    "            npts_list.append(int(npts))\n",
    "            dt_list.append(float(dt))\n",
    "\n",
    "        # Extrae sufijo 'H1','H2' o 'V' a partir del nombre de la columna\n",
    "        suf = comp.split()[-1]\n",
    "\n",
    "        # Añade las nuevas columnas\n",
    "        df2[f'NPTS_{suf}'] = npts_list\n",
    "        df2[f'DT_{suf}']   = dt_list\n",
    "\n",
    "    return df2\n"
   ]
  },
  {
   "cell_type": "code",
   "execution_count": 7,
   "metadata": {},
   "outputs": [],
   "source": [
    "df_completo=agregar_dt_npts(df_completo,comp_cols=('Ruta H1','Ruta H2','Ruta V'))"
   ]
  },
  {
   "cell_type": "code",
   "execution_count": 8,
   "metadata": {},
   "outputs": [],
   "source": [
    "\n",
    "# Lista con todos los nuevos nombres, en el orden actual de las columnas\n",
    "df_completo.columns = ['Evento ID', 'Tipo de evento', 'Magnitud', 'Vs30',\n",
    "              'Archivo H2', 'Ruta H2', 'Archivo H1', 'Ruta H1',\n",
    "              'Archivo V', 'Ruta V', 'NPTS_H2', 'DT_H2', 'NPTS_H1', 'DT_H1', 'NPTS_HV', 'DT_HV']"
   ]
  },
  {
   "cell_type": "code",
   "execution_count": 9,
   "metadata": {},
   "outputs": [],
   "source": [
    "import numpy as np\n",
    "from scipy.interpolate import interp1d\n",
    "\n",
    "def normalizar_frecuencia_muestreo(tiempo, aceleracion, dt_obj=0.01):\n",
    "    t0, t1 = tiempo[0], tiempo[-1]\n",
    "    t_new   = np.arange(t0, t1, dt_obj)\n",
    "    f       = interp1d(tiempo, aceleracion,\n",
    "                       kind='linear',\n",
    "                       fill_value='extrapolate')\n",
    "    acc_new = f(t_new)\n",
    "    return t_new, acc_new"
   ]
  },
  {
   "cell_type": "code",
   "execution_count": 10,
   "metadata": {},
   "outputs": [],
   "source": [
    "\n",
    "def estandarización(df, comp_cols=('Ruta H1','Ruta H2','Ruta V'),\n",
    "                          parser=processNGAfile3,\n",
    "                          dt_obj=0.01):\n",
    "\n",
    "    for label in ['H1','H2','V']:\n",
    "        df[f'Acc_{label}_std'] = None\n",
    "    df['NPTS_common'] = None\n",
    "    df['DT_common']   = None\n",
    "\n",
    "    # 2) Recorre cada evento (fila) de df\n",
    "    for idx, row in df.iterrows():\n",
    "        remuestreos = {}\n",
    "\n",
    "        # 2a) Leer y remuestrear\n",
    "        for label, col in zip(['H1','H2','V'], comp_cols):\n",
    "            npts, dt, tiempo, acc = parser(row[col])\n",
    "            # avisar si el dt original no es el esperado\n",
    "            if abs(dt - dt_obj) > 1e-8:\n",
    "                print(f\"[Aviso] dt original {dt}≠{dt_obj} en fila {idx} / {label}\")\n",
    "            # remuestreo\n",
    "            _, acc_norm = normalizar_frecuencia_muestreo(tiempo, acc, dt_obj=dt_obj)\n",
    "            remuestreos[label] = acc_norm\n",
    "\n",
    "        # 2b) Determinar longitud mínima común\n",
    "        min_len = min(len(a) for a in remuestreos.values())\n",
    "        df.at[idx, 'NPTS_common'] = min_len\n",
    "        df.at[idx, 'DT_common']   = dt_obj\n",
    "\n",
    "        # 2c) Truncar y guardar en df\n",
    "        for label in ['H1','H2','V']:\n",
    "            df.at[idx, f'Acc_{label}_std'] = remuestreos[label][:min_len].tolist()\n",
    "\n",
    "    return df"
   ]
  },
  {
   "cell_type": "code",
   "execution_count": 11,
   "metadata": {},
   "outputs": [
    {
     "name": "stdout",
     "output_type": "stream",
     "text": [
      "[Aviso] dt original 0.005≠0.01 en fila 0 / H1\n",
      "[Aviso] dt original 0.005≠0.01 en fila 0 / H2\n",
      "[Aviso] dt original 0.005≠0.01 en fila 0 / V\n",
      "[Aviso] dt original 0.005≠0.01 en fila 1 / H1\n",
      "[Aviso] dt original 0.005≠0.01 en fila 1 / H2\n",
      "[Aviso] dt original 0.005≠0.01 en fila 1 / V\n",
      "[Aviso] dt original 0.005≠0.01 en fila 2 / H1\n",
      "[Aviso] dt original 0.005≠0.01 en fila 2 / H2\n",
      "[Aviso] dt original 0.005≠0.01 en fila 2 / V\n",
      "[Aviso] dt original 0.005≠0.01 en fila 3 / H1\n",
      "[Aviso] dt original 0.005≠0.01 en fila 3 / H2\n",
      "[Aviso] dt original 0.005≠0.01 en fila 3 / V\n",
      "[Aviso] dt original 0.005≠0.01 en fila 4 / H1\n",
      "[Aviso] dt original 0.005≠0.01 en fila 4 / H2\n",
      "[Aviso] dt original 0.005≠0.01 en fila 4 / V\n",
      "[Aviso] dt original 0.005≠0.01 en fila 5 / H1\n",
      "[Aviso] dt original 0.005≠0.01 en fila 5 / H2\n",
      "[Aviso] dt original 0.005≠0.01 en fila 5 / V\n",
      "[Aviso] dt original 0.005≠0.01 en fila 6 / H1\n",
      "[Aviso] dt original 0.005≠0.01 en fila 6 / H2\n",
      "[Aviso] dt original 0.005≠0.01 en fila 6 / V\n",
      "[Aviso] dt original 0.005≠0.01 en fila 7 / H1\n",
      "[Aviso] dt original 0.005≠0.01 en fila 7 / H2\n",
      "[Aviso] dt original 0.005≠0.01 en fila 7 / V\n",
      "[Aviso] dt original 0.005≠0.01 en fila 8 / H1\n",
      "[Aviso] dt original 0.005≠0.01 en fila 8 / H2\n",
      "[Aviso] dt original 0.005≠0.01 en fila 8 / V\n",
      "[Aviso] dt original 0.005≠0.01 en fila 9 / H1\n",
      "[Aviso] dt original 0.005≠0.01 en fila 9 / H2\n",
      "[Aviso] dt original 0.005≠0.01 en fila 9 / V\n",
      "[Aviso] dt original 0.005≠0.01 en fila 10 / H1\n",
      "[Aviso] dt original 0.005≠0.01 en fila 10 / H2\n",
      "[Aviso] dt original 0.005≠0.01 en fila 10 / V\n",
      "[Aviso] dt original 0.005≠0.01 en fila 11 / H1\n",
      "[Aviso] dt original 0.005≠0.01 en fila 11 / H2\n",
      "[Aviso] dt original 0.005≠0.01 en fila 11 / V\n",
      "[Aviso] dt original 0.005≠0.01 en fila 12 / H1\n",
      "[Aviso] dt original 0.005≠0.01 en fila 12 / H2\n",
      "[Aviso] dt original 0.005≠0.01 en fila 12 / V\n",
      "[Aviso] dt original 0.005≠0.01 en fila 13 / H1\n",
      "[Aviso] dt original 0.005≠0.01 en fila 13 / H2\n",
      "[Aviso] dt original 0.005≠0.01 en fila 13 / V\n",
      "[Aviso] dt original 0.005≠0.01 en fila 14 / H1\n",
      "[Aviso] dt original 0.005≠0.01 en fila 14 / H2\n",
      "[Aviso] dt original 0.005≠0.01 en fila 14 / V\n",
      "[Aviso] dt original 0.005≠0.01 en fila 15 / H1\n",
      "[Aviso] dt original 0.005≠0.01 en fila 15 / H2\n",
      "[Aviso] dt original 0.005≠0.01 en fila 15 / V\n",
      "[Aviso] dt original 0.005≠0.01 en fila 16 / H1\n",
      "[Aviso] dt original 0.005≠0.01 en fila 16 / H2\n",
      "[Aviso] dt original 0.005≠0.01 en fila 16 / V\n",
      "[Aviso] dt original 0.005≠0.01 en fila 17 / H1\n",
      "[Aviso] dt original 0.005≠0.01 en fila 17 / H2\n",
      "[Aviso] dt original 0.005≠0.01 en fila 17 / V\n",
      "[Aviso] dt original 0.005≠0.01 en fila 18 / H1\n",
      "[Aviso] dt original 0.005≠0.01 en fila 18 / H2\n",
      "[Aviso] dt original 0.005≠0.01 en fila 18 / V\n",
      "[Aviso] dt original 0.005≠0.01 en fila 19 / H1\n",
      "[Aviso] dt original 0.005≠0.01 en fila 19 / H2\n",
      "[Aviso] dt original 0.005≠0.01 en fila 19 / V\n",
      "[Aviso] dt original 0.005≠0.01 en fila 20 / H1\n",
      "[Aviso] dt original 0.005≠0.01 en fila 20 / H2\n",
      "[Aviso] dt original 0.005≠0.01 en fila 20 / V\n",
      "[Aviso] dt original 0.005≠0.01 en fila 21 / H1\n",
      "[Aviso] dt original 0.005≠0.01 en fila 21 / H2\n",
      "[Aviso] dt original 0.005≠0.01 en fila 21 / V\n",
      "[Aviso] dt original 0.005≠0.01 en fila 22 / H1\n",
      "[Aviso] dt original 0.005≠0.01 en fila 22 / H2\n",
      "[Aviso] dt original 0.005≠0.01 en fila 22 / V\n",
      "[Aviso] dt original 0.005≠0.01 en fila 23 / H1\n",
      "[Aviso] dt original 0.005≠0.01 en fila 23 / H2\n",
      "[Aviso] dt original 0.005≠0.01 en fila 23 / V\n",
      "[Aviso] dt original 0.005≠0.01 en fila 24 / H1\n",
      "[Aviso] dt original 0.005≠0.01 en fila 24 / H2\n",
      "[Aviso] dt original 0.005≠0.01 en fila 24 / V\n",
      "[Aviso] dt original 0.005≠0.01 en fila 25 / H1\n",
      "[Aviso] dt original 0.005≠0.01 en fila 25 / H2\n",
      "[Aviso] dt original 0.005≠0.01 en fila 25 / V\n",
      "[Aviso] dt original 0.005≠0.01 en fila 26 / H1\n",
      "[Aviso] dt original 0.005≠0.01 en fila 26 / H2\n",
      "[Aviso] dt original 0.005≠0.01 en fila 26 / V\n",
      "[Aviso] dt original 0.005≠0.01 en fila 27 / H1\n",
      "[Aviso] dt original 0.005≠0.01 en fila 27 / H2\n",
      "[Aviso] dt original 0.005≠0.01 en fila 27 / V\n",
      "[Aviso] dt original 0.005≠0.01 en fila 28 / H1\n",
      "[Aviso] dt original 0.005≠0.01 en fila 28 / H2\n",
      "[Aviso] dt original 0.005≠0.01 en fila 28 / V\n",
      "[Aviso] dt original 0.005≠0.01 en fila 29 / H1\n",
      "[Aviso] dt original 0.005≠0.01 en fila 29 / H2\n",
      "[Aviso] dt original 0.005≠0.01 en fila 29 / V\n",
      "[Aviso] dt original 0.005≠0.01 en fila 30 / H1\n",
      "[Aviso] dt original 0.005≠0.01 en fila 30 / H2\n",
      "[Aviso] dt original 0.005≠0.01 en fila 30 / V\n",
      "[Aviso] dt original 0.005≠0.01 en fila 31 / H1\n",
      "[Aviso] dt original 0.005≠0.01 en fila 31 / H2\n",
      "[Aviso] dt original 0.005≠0.01 en fila 31 / V\n",
      "[Aviso] dt original 0.005≠0.01 en fila 32 / H1\n",
      "[Aviso] dt original 0.005≠0.01 en fila 32 / H2\n",
      "[Aviso] dt original 0.005≠0.01 en fila 32 / V\n",
      "[Aviso] dt original 0.005≠0.01 en fila 33 / H1\n",
      "[Aviso] dt original 0.005≠0.01 en fila 33 / H2\n",
      "[Aviso] dt original 0.005≠0.01 en fila 33 / V\n",
      "[Aviso] dt original 0.005≠0.01 en fila 34 / H1\n",
      "[Aviso] dt original 0.005≠0.01 en fila 34 / H2\n",
      "[Aviso] dt original 0.005≠0.01 en fila 34 / V\n",
      "[Aviso] dt original 0.005≠0.01 en fila 35 / H1\n",
      "[Aviso] dt original 0.005≠0.01 en fila 35 / H2\n",
      "[Aviso] dt original 0.005≠0.01 en fila 35 / V\n",
      "[Aviso] dt original 0.005≠0.01 en fila 36 / H1\n",
      "[Aviso] dt original 0.005≠0.01 en fila 36 / H2\n",
      "[Aviso] dt original 0.005≠0.01 en fila 36 / V\n",
      "[Aviso] dt original 0.005≠0.01 en fila 37 / H1\n",
      "[Aviso] dt original 0.005≠0.01 en fila 37 / H2\n",
      "[Aviso] dt original 0.005≠0.01 en fila 37 / V\n",
      "[Aviso] dt original 0.005≠0.01 en fila 38 / H1\n",
      "[Aviso] dt original 0.005≠0.01 en fila 38 / H2\n",
      "[Aviso] dt original 0.005≠0.01 en fila 38 / V\n",
      "[Aviso] dt original 0.005≠0.01 en fila 39 / H1\n",
      "[Aviso] dt original 0.005≠0.01 en fila 39 / H2\n",
      "[Aviso] dt original 0.005≠0.01 en fila 39 / V\n",
      "[Aviso] dt original 0.005≠0.01 en fila 40 / H1\n",
      "[Aviso] dt original 0.005≠0.01 en fila 40 / H2\n",
      "[Aviso] dt original 0.005≠0.01 en fila 40 / V\n",
      "[Aviso] dt original 0.005≠0.01 en fila 41 / H1\n",
      "[Aviso] dt original 0.005≠0.01 en fila 41 / H2\n",
      "[Aviso] dt original 0.005≠0.01 en fila 41 / V\n",
      "[Aviso] dt original 0.005≠0.01 en fila 42 / H1\n",
      "[Aviso] dt original 0.005≠0.01 en fila 42 / H2\n",
      "[Aviso] dt original 0.005≠0.01 en fila 42 / V\n",
      "[Aviso] dt original 0.005≠0.01 en fila 43 / H1\n",
      "[Aviso] dt original 0.005≠0.01 en fila 43 / H2\n",
      "[Aviso] dt original 0.005≠0.01 en fila 43 / V\n",
      "[Aviso] dt original 0.005≠0.01 en fila 44 / H1\n",
      "[Aviso] dt original 0.005≠0.01 en fila 44 / H2\n",
      "[Aviso] dt original 0.005≠0.01 en fila 44 / V\n",
      "[Aviso] dt original 0.005≠0.01 en fila 45 / H1\n",
      "[Aviso] dt original 0.005≠0.01 en fila 45 / H2\n",
      "[Aviso] dt original 0.005≠0.01 en fila 45 / V\n",
      "[Aviso] dt original 0.005≠0.01 en fila 46 / H1\n",
      "[Aviso] dt original 0.005≠0.01 en fila 46 / H2\n",
      "[Aviso] dt original 0.005≠0.01 en fila 46 / V\n",
      "[Aviso] dt original 0.005≠0.01 en fila 47 / H1\n",
      "[Aviso] dt original 0.005≠0.01 en fila 47 / H2\n",
      "[Aviso] dt original 0.005≠0.01 en fila 47 / V\n",
      "[Aviso] dt original 0.005≠0.01 en fila 48 / H1\n",
      "[Aviso] dt original 0.005≠0.01 en fila 48 / H2\n",
      "[Aviso] dt original 0.005≠0.01 en fila 48 / V\n",
      "[Aviso] dt original 0.005≠0.01 en fila 49 / H1\n",
      "[Aviso] dt original 0.005≠0.01 en fila 49 / H2\n",
      "[Aviso] dt original 0.005≠0.01 en fila 49 / V\n",
      "[Aviso] dt original 0.005≠0.01 en fila 50 / H1\n",
      "[Aviso] dt original 0.005≠0.01 en fila 50 / H2\n",
      "[Aviso] dt original 0.005≠0.01 en fila 50 / V\n",
      "[Aviso] dt original 0.005≠0.01 en fila 51 / H1\n",
      "[Aviso] dt original 0.005≠0.01 en fila 51 / H2\n",
      "[Aviso] dt original 0.005≠0.01 en fila 51 / V\n",
      "[Aviso] dt original 0.005≠0.01 en fila 52 / H1\n",
      "[Aviso] dt original 0.005≠0.01 en fila 52 / H2\n",
      "[Aviso] dt original 0.005≠0.01 en fila 52 / V\n",
      "[Aviso] dt original 0.005≠0.01 en fila 53 / H1\n",
      "[Aviso] dt original 0.005≠0.01 en fila 53 / H2\n",
      "[Aviso] dt original 0.005≠0.01 en fila 53 / V\n",
      "[Aviso] dt original 0.005≠0.01 en fila 54 / H1\n",
      "[Aviso] dt original 0.005≠0.01 en fila 54 / H2\n",
      "[Aviso] dt original 0.005≠0.01 en fila 54 / V\n",
      "[Aviso] dt original 0.005≠0.01 en fila 55 / H1\n",
      "[Aviso] dt original 0.005≠0.01 en fila 55 / H2\n",
      "[Aviso] dt original 0.005≠0.01 en fila 55 / V\n",
      "[Aviso] dt original 0.005≠0.01 en fila 56 / H1\n",
      "[Aviso] dt original 0.005≠0.01 en fila 56 / H2\n",
      "[Aviso] dt original 0.005≠0.01 en fila 56 / V\n",
      "[Aviso] dt original 0.005≠0.01 en fila 57 / H1\n",
      "[Aviso] dt original 0.005≠0.01 en fila 57 / H2\n",
      "[Aviso] dt original 0.005≠0.01 en fila 57 / V\n",
      "[Aviso] dt original 0.005≠0.01 en fila 58 / H1\n",
      "[Aviso] dt original 0.005≠0.01 en fila 58 / H2\n",
      "[Aviso] dt original 0.005≠0.01 en fila 58 / V\n",
      "[Aviso] dt original 0.005≠0.01 en fila 59 / H1\n",
      "[Aviso] dt original 0.005≠0.01 en fila 59 / H2\n",
      "[Aviso] dt original 0.005≠0.01 en fila 59 / V\n",
      "[Aviso] dt original 0.005≠0.01 en fila 60 / H1\n",
      "[Aviso] dt original 0.005≠0.01 en fila 60 / H2\n",
      "[Aviso] dt original 0.005≠0.01 en fila 60 / V\n",
      "[Aviso] dt original 0.005≠0.01 en fila 61 / H1\n",
      "[Aviso] dt original 0.005≠0.01 en fila 61 / H2\n",
      "[Aviso] dt original 0.005≠0.01 en fila 61 / V\n",
      "[Aviso] dt original 0.005≠0.01 en fila 62 / H1\n",
      "[Aviso] dt original 0.005≠0.01 en fila 62 / H2\n",
      "[Aviso] dt original 0.005≠0.01 en fila 62 / V\n",
      "[Aviso] dt original 0.005≠0.01 en fila 63 / H1\n",
      "[Aviso] dt original 0.005≠0.01 en fila 63 / H2\n",
      "[Aviso] dt original 0.005≠0.01 en fila 63 / V\n",
      "[Aviso] dt original 0.005≠0.01 en fila 64 / H1\n",
      "[Aviso] dt original 0.005≠0.01 en fila 64 / H2\n",
      "[Aviso] dt original 0.005≠0.01 en fila 64 / V\n",
      "[Aviso] dt original 0.005≠0.01 en fila 65 / H1\n",
      "[Aviso] dt original 0.005≠0.01 en fila 65 / H2\n",
      "[Aviso] dt original 0.005≠0.01 en fila 65 / V\n",
      "[Aviso] dt original 0.005≠0.01 en fila 66 / H1\n",
      "[Aviso] dt original 0.005≠0.01 en fila 66 / H2\n",
      "[Aviso] dt original 0.005≠0.01 en fila 66 / V\n",
      "[Aviso] dt original 0.005≠0.01 en fila 67 / H1\n",
      "[Aviso] dt original 0.005≠0.01 en fila 67 / H2\n",
      "[Aviso] dt original 0.005≠0.01 en fila 67 / V\n",
      "[Aviso] dt original 0.005≠0.01 en fila 68 / H1\n",
      "[Aviso] dt original 0.005≠0.01 en fila 68 / H2\n",
      "[Aviso] dt original 0.005≠0.01 en fila 68 / V\n",
      "[Aviso] dt original 0.005≠0.01 en fila 69 / H1\n",
      "[Aviso] dt original 0.005≠0.01 en fila 69 / H2\n",
      "[Aviso] dt original 0.005≠0.01 en fila 69 / V\n",
      "[Aviso] dt original 0.005≠0.01 en fila 70 / H1\n",
      "[Aviso] dt original 0.005≠0.01 en fila 70 / H2\n",
      "[Aviso] dt original 0.005≠0.01 en fila 70 / V\n",
      "[Aviso] dt original 0.005≠0.01 en fila 71 / H1\n",
      "[Aviso] dt original 0.005≠0.01 en fila 71 / H2\n",
      "[Aviso] dt original 0.005≠0.01 en fila 71 / V\n",
      "[Aviso] dt original 0.005≠0.01 en fila 72 / H1\n",
      "[Aviso] dt original 0.005≠0.01 en fila 72 / H2\n",
      "[Aviso] dt original 0.005≠0.01 en fila 72 / V\n",
      "[Aviso] dt original 0.005≠0.01 en fila 73 / H1\n",
      "[Aviso] dt original 0.005≠0.01 en fila 73 / H2\n",
      "[Aviso] dt original 0.005≠0.01 en fila 73 / V\n",
      "[Aviso] dt original 0.005≠0.01 en fila 74 / H1\n",
      "[Aviso] dt original 0.005≠0.01 en fila 74 / H2\n",
      "[Aviso] dt original 0.005≠0.01 en fila 74 / V\n",
      "[Aviso] dt original 0.005≠0.01 en fila 75 / H1\n",
      "[Aviso] dt original 0.005≠0.01 en fila 75 / H2\n",
      "[Aviso] dt original 0.005≠0.01 en fila 75 / V\n",
      "[Aviso] dt original 0.005≠0.01 en fila 76 / H1\n",
      "[Aviso] dt original 0.005≠0.01 en fila 76 / H2\n",
      "[Aviso] dt original 0.005≠0.01 en fila 76 / V\n",
      "[Aviso] dt original 0.005≠0.01 en fila 77 / H1\n",
      "[Aviso] dt original 0.005≠0.01 en fila 77 / H2\n",
      "[Aviso] dt original 0.005≠0.01 en fila 77 / V\n",
      "[Aviso] dt original 0.005≠0.01 en fila 78 / H1\n",
      "[Aviso] dt original 0.005≠0.01 en fila 78 / H2\n",
      "[Aviso] dt original 0.005≠0.01 en fila 78 / V\n",
      "[Aviso] dt original 0.005≠0.01 en fila 79 / H1\n",
      "[Aviso] dt original 0.005≠0.01 en fila 79 / H2\n",
      "[Aviso] dt original 0.005≠0.01 en fila 79 / V\n",
      "[Aviso] dt original 0.005≠0.01 en fila 80 / H1\n",
      "[Aviso] dt original 0.005≠0.01 en fila 80 / H2\n",
      "[Aviso] dt original 0.005≠0.01 en fila 80 / V\n",
      "[Aviso] dt original 0.005≠0.01 en fila 81 / H1\n",
      "[Aviso] dt original 0.005≠0.01 en fila 81 / H2\n",
      "[Aviso] dt original 0.005≠0.01 en fila 81 / V\n",
      "[Aviso] dt original 0.005≠0.01 en fila 82 / H1\n",
      "[Aviso] dt original 0.005≠0.01 en fila 82 / H2\n",
      "[Aviso] dt original 0.005≠0.01 en fila 82 / V\n",
      "[Aviso] dt original 0.005≠0.01 en fila 83 / H1\n",
      "[Aviso] dt original 0.005≠0.01 en fila 83 / H2\n",
      "[Aviso] dt original 0.005≠0.01 en fila 83 / V\n",
      "[Aviso] dt original 0.005≠0.01 en fila 84 / H1\n",
      "[Aviso] dt original 0.005≠0.01 en fila 84 / H2\n",
      "[Aviso] dt original 0.005≠0.01 en fila 84 / V\n",
      "[Aviso] dt original 0.005≠0.01 en fila 85 / H1\n",
      "[Aviso] dt original 0.005≠0.01 en fila 85 / H2\n",
      "[Aviso] dt original 0.005≠0.01 en fila 85 / V\n",
      "[Aviso] dt original 0.005≠0.01 en fila 86 / H1\n",
      "[Aviso] dt original 0.005≠0.01 en fila 86 / H2\n",
      "[Aviso] dt original 0.005≠0.01 en fila 86 / V\n",
      "[Aviso] dt original 0.005≠0.01 en fila 87 / H1\n",
      "[Aviso] dt original 0.005≠0.01 en fila 87 / H2\n",
      "[Aviso] dt original 0.005≠0.01 en fila 87 / V\n",
      "[Aviso] dt original 0.02≠0.01 en fila 88 / H1\n",
      "[Aviso] dt original 0.02≠0.01 en fila 88 / H2\n",
      "[Aviso] dt original 0.02≠0.01 en fila 88 / V\n",
      "[Aviso] dt original 0.02≠0.01 en fila 89 / H1\n",
      "[Aviso] dt original 0.02≠0.01 en fila 89 / H2\n",
      "[Aviso] dt original 0.02≠0.01 en fila 89 / V\n",
      "[Aviso] dt original 0.02≠0.01 en fila 90 / H1\n",
      "[Aviso] dt original 0.02≠0.01 en fila 90 / H2\n",
      "[Aviso] dt original 0.02≠0.01 en fila 90 / V\n",
      "[Aviso] dt original 0.02≠0.01 en fila 91 / H1\n",
      "[Aviso] dt original 0.02≠0.01 en fila 91 / H2\n",
      "[Aviso] dt original 0.02≠0.01 en fila 91 / V\n",
      "[Aviso] dt original 0.005≠0.01 en fila 92 / H1\n",
      "[Aviso] dt original 0.005≠0.01 en fila 92 / H2\n",
      "[Aviso] dt original 0.005≠0.01 en fila 92 / V\n",
      "[Aviso] dt original 0.005≠0.01 en fila 93 / H1\n",
      "[Aviso] dt original 0.005≠0.01 en fila 93 / H2\n",
      "[Aviso] dt original 0.005≠0.01 en fila 93 / V\n",
      "[Aviso] dt original 0.005≠0.01 en fila 94 / H1\n",
      "[Aviso] dt original 0.005≠0.01 en fila 94 / H2\n",
      "[Aviso] dt original 0.005≠0.01 en fila 94 / V\n",
      "[Aviso] dt original 0.005≠0.01 en fila 95 / H1\n",
      "[Aviso] dt original 0.005≠0.01 en fila 95 / H2\n",
      "[Aviso] dt original 0.005≠0.01 en fila 95 / V\n",
      "[Aviso] dt original 0.005≠0.01 en fila 96 / H1\n",
      "[Aviso] dt original 0.005≠0.01 en fila 96 / H2\n",
      "[Aviso] dt original 0.005≠0.01 en fila 96 / V\n",
      "[Aviso] dt original 0.005≠0.01 en fila 99 / H1\n",
      "[Aviso] dt original 0.005≠0.01 en fila 99 / H2\n",
      "[Aviso] dt original 0.005≠0.01 en fila 99 / V\n",
      "[Aviso] dt original 0.005≠0.01 en fila 100 / H1\n",
      "[Aviso] dt original 0.005≠0.01 en fila 100 / H2\n",
      "[Aviso] dt original 0.005≠0.01 en fila 100 / V\n",
      "[Aviso] dt original 0.005≠0.01 en fila 101 / H1\n",
      "[Aviso] dt original 0.005≠0.01 en fila 101 / H2\n",
      "[Aviso] dt original 0.005≠0.01 en fila 101 / V\n",
      "[Aviso] dt original 0.005≠0.01 en fila 102 / H1\n",
      "[Aviso] dt original 0.005≠0.01 en fila 102 / H2\n",
      "[Aviso] dt original 0.005≠0.01 en fila 102 / V\n",
      "[Aviso] dt original 0.005≠0.01 en fila 103 / H1\n",
      "[Aviso] dt original 0.005≠0.01 en fila 103 / H2\n",
      "[Aviso] dt original 0.005≠0.01 en fila 103 / V\n",
      "[Aviso] dt original 0.005≠0.01 en fila 104 / H1\n",
      "[Aviso] dt original 0.005≠0.01 en fila 104 / H2\n",
      "[Aviso] dt original 0.005≠0.01 en fila 104 / V\n",
      "[Aviso] dt original 0.005≠0.01 en fila 105 / H1\n",
      "[Aviso] dt original 0.005≠0.01 en fila 105 / H2\n",
      "[Aviso] dt original 0.005≠0.01 en fila 105 / V\n",
      "[Aviso] dt original 0.005≠0.01 en fila 106 / H1\n",
      "[Aviso] dt original 0.005≠0.01 en fila 106 / H2\n",
      "[Aviso] dt original 0.005≠0.01 en fila 106 / V\n",
      "[Aviso] dt original 0.005≠0.01 en fila 107 / H1\n",
      "[Aviso] dt original 0.005≠0.01 en fila 107 / H2\n",
      "[Aviso] dt original 0.005≠0.01 en fila 107 / V\n",
      "[Aviso] dt original 0.005≠0.01 en fila 108 / H1\n",
      "[Aviso] dt original 0.005≠0.01 en fila 108 / H2\n",
      "[Aviso] dt original 0.005≠0.01 en fila 108 / V\n",
      "[Aviso] dt original 0.005≠0.01 en fila 109 / H1\n",
      "[Aviso] dt original 0.005≠0.01 en fila 109 / H2\n",
      "[Aviso] dt original 0.005≠0.01 en fila 109 / V\n",
      "[Aviso] dt original 0.005≠0.01 en fila 110 / H1\n",
      "[Aviso] dt original 0.005≠0.01 en fila 110 / H2\n",
      "[Aviso] dt original 0.005≠0.01 en fila 110 / V\n",
      "[Aviso] dt original 0.005≠0.01 en fila 111 / H1\n",
      "[Aviso] dt original 0.005≠0.01 en fila 111 / H2\n",
      "[Aviso] dt original 0.005≠0.01 en fila 111 / V\n",
      "[Aviso] dt original 0.005≠0.01 en fila 112 / H1\n",
      "[Aviso] dt original 0.005≠0.01 en fila 112 / H2\n",
      "[Aviso] dt original 0.005≠0.01 en fila 112 / V\n",
      "[Aviso] dt original 0.005≠0.01 en fila 113 / H1\n",
      "[Aviso] dt original 0.005≠0.01 en fila 113 / H2\n",
      "[Aviso] dt original 0.005≠0.01 en fila 113 / V\n",
      "[Aviso] dt original 0.005≠0.01 en fila 114 / H1\n",
      "[Aviso] dt original 0.005≠0.01 en fila 114 / H2\n",
      "[Aviso] dt original 0.005≠0.01 en fila 114 / V\n",
      "[Aviso] dt original 0.005≠0.01 en fila 115 / H1\n",
      "[Aviso] dt original 0.005≠0.01 en fila 115 / H2\n",
      "[Aviso] dt original 0.005≠0.01 en fila 115 / V\n",
      "[Aviso] dt original 0.005≠0.01 en fila 116 / H1\n",
      "[Aviso] dt original 0.005≠0.01 en fila 116 / H2\n",
      "[Aviso] dt original 0.005≠0.01 en fila 116 / V\n",
      "[Aviso] dt original 0.005≠0.01 en fila 117 / H1\n",
      "[Aviso] dt original 0.005≠0.01 en fila 117 / H2\n",
      "[Aviso] dt original 0.005≠0.01 en fila 117 / V\n",
      "[Aviso] dt original 0.005≠0.01 en fila 118 / H1\n",
      "[Aviso] dt original 0.005≠0.01 en fila 118 / H2\n",
      "[Aviso] dt original 0.005≠0.01 en fila 118 / V\n",
      "[Aviso] dt original 0.005≠0.01 en fila 119 / H1\n",
      "[Aviso] dt original 0.005≠0.01 en fila 119 / H2\n",
      "[Aviso] dt original 0.005≠0.01 en fila 119 / V\n",
      "[Aviso] dt original 0.005≠0.01 en fila 120 / H1\n",
      "[Aviso] dt original 0.005≠0.01 en fila 120 / H2\n",
      "[Aviso] dt original 0.005≠0.01 en fila 120 / V\n",
      "[Aviso] dt original 0.005≠0.01 en fila 121 / H1\n",
      "[Aviso] dt original 0.005≠0.01 en fila 121 / H2\n",
      "[Aviso] dt original 0.005≠0.01 en fila 121 / V\n",
      "[Aviso] dt original 0.005≠0.01 en fila 122 / H1\n",
      "[Aviso] dt original 0.005≠0.01 en fila 122 / H2\n",
      "[Aviso] dt original 0.005≠0.01 en fila 122 / V\n",
      "[Aviso] dt original 0.005≠0.01 en fila 123 / H1\n",
      "[Aviso] dt original 0.005≠0.01 en fila 123 / H2\n",
      "[Aviso] dt original 0.005≠0.01 en fila 123 / V\n",
      "[Aviso] dt original 0.005≠0.01 en fila 124 / H1\n",
      "[Aviso] dt original 0.005≠0.01 en fila 124 / H2\n",
      "[Aviso] dt original 0.005≠0.01 en fila 124 / V\n",
      "[Aviso] dt original 0.005≠0.01 en fila 125 / H1\n",
      "[Aviso] dt original 0.005≠0.01 en fila 125 / H2\n",
      "[Aviso] dt original 0.005≠0.01 en fila 125 / V\n",
      "[Aviso] dt original 0.005≠0.01 en fila 126 / H1\n",
      "[Aviso] dt original 0.005≠0.01 en fila 126 / H2\n",
      "[Aviso] dt original 0.005≠0.01 en fila 126 / V\n",
      "[Aviso] dt original 0.005≠0.01 en fila 127 / H1\n",
      "[Aviso] dt original 0.005≠0.01 en fila 127 / H2\n",
      "[Aviso] dt original 0.005≠0.01 en fila 127 / V\n",
      "[Aviso] dt original 0.005≠0.01 en fila 128 / H1\n",
      "[Aviso] dt original 0.005≠0.01 en fila 128 / H2\n",
      "[Aviso] dt original 0.005≠0.01 en fila 128 / V\n",
      "[Aviso] dt original 0.005≠0.01 en fila 129 / H1\n",
      "[Aviso] dt original 0.005≠0.01 en fila 129 / H2\n",
      "[Aviso] dt original 0.005≠0.01 en fila 129 / V\n",
      "[Aviso] dt original 0.005≠0.01 en fila 130 / H1\n",
      "[Aviso] dt original 0.005≠0.01 en fila 130 / H2\n",
      "[Aviso] dt original 0.005≠0.01 en fila 130 / V\n",
      "[Aviso] dt original 0.005≠0.01 en fila 131 / H1\n",
      "[Aviso] dt original 0.005≠0.01 en fila 131 / H2\n",
      "[Aviso] dt original 0.005≠0.01 en fila 131 / V\n",
      "[Aviso] dt original 0.005≠0.01 en fila 132 / H1\n",
      "[Aviso] dt original 0.005≠0.01 en fila 132 / H2\n",
      "[Aviso] dt original 0.005≠0.01 en fila 132 / V\n",
      "[Aviso] dt original 0.005≠0.01 en fila 133 / H1\n",
      "[Aviso] dt original 0.005≠0.01 en fila 133 / H2\n",
      "[Aviso] dt original 0.005≠0.01 en fila 133 / V\n",
      "[Aviso] dt original 0.005≠0.01 en fila 134 / H1\n",
      "[Aviso] dt original 0.005≠0.01 en fila 134 / H2\n",
      "[Aviso] dt original 0.005≠0.01 en fila 134 / V\n",
      "[Aviso] dt original 0.005≠0.01 en fila 136 / H1\n",
      "[Aviso] dt original 0.005≠0.01 en fila 136 / H2\n",
      "[Aviso] dt original 0.005≠0.01 en fila 136 / V\n",
      "[Aviso] dt original 0.005≠0.01 en fila 137 / H1\n",
      "[Aviso] dt original 0.005≠0.01 en fila 137 / H2\n",
      "[Aviso] dt original 0.005≠0.01 en fila 137 / V\n",
      "[Aviso] dt original 0.005≠0.01 en fila 138 / H1\n",
      "[Aviso] dt original 0.005≠0.01 en fila 138 / H2\n",
      "[Aviso] dt original 0.005≠0.01 en fila 138 / V\n",
      "[Aviso] dt original 0.005≠0.01 en fila 139 / H1\n",
      "[Aviso] dt original 0.005≠0.01 en fila 139 / H2\n",
      "[Aviso] dt original 0.005≠0.01 en fila 139 / V\n",
      "[Aviso] dt original 0.005≠0.01 en fila 140 / H1\n",
      "[Aviso] dt original 0.005≠0.01 en fila 140 / H2\n",
      "[Aviso] dt original 0.005≠0.01 en fila 140 / V\n",
      "[Aviso] dt original 0.005≠0.01 en fila 141 / H1\n",
      "[Aviso] dt original 0.005≠0.01 en fila 141 / H2\n",
      "[Aviso] dt original 0.005≠0.01 en fila 141 / V\n",
      "[Aviso] dt original 0.005≠0.01 en fila 142 / H1\n",
      "[Aviso] dt original 0.005≠0.01 en fila 142 / H2\n",
      "[Aviso] dt original 0.005≠0.01 en fila 142 / V\n",
      "[Aviso] dt original 0.005≠0.01 en fila 143 / H1\n",
      "[Aviso] dt original 0.005≠0.01 en fila 143 / H2\n",
      "[Aviso] dt original 0.005≠0.01 en fila 143 / V\n",
      "[Aviso] dt original 0.005≠0.01 en fila 144 / H1\n",
      "[Aviso] dt original 0.005≠0.01 en fila 144 / H2\n",
      "[Aviso] dt original 0.005≠0.01 en fila 144 / V\n",
      "[Aviso] dt original 0.005≠0.01 en fila 145 / H1\n",
      "[Aviso] dt original 0.005≠0.01 en fila 145 / H2\n",
      "[Aviso] dt original 0.005≠0.01 en fila 145 / V\n",
      "[Aviso] dt original 0.005≠0.01 en fila 146 / H1\n",
      "[Aviso] dt original 0.005≠0.01 en fila 146 / H2\n",
      "[Aviso] dt original 0.005≠0.01 en fila 146 / V\n",
      "[Aviso] dt original 0.005≠0.01 en fila 147 / H1\n",
      "[Aviso] dt original 0.005≠0.01 en fila 147 / H2\n",
      "[Aviso] dt original 0.005≠0.01 en fila 147 / V\n",
      "[Aviso] dt original 0.005≠0.01 en fila 148 / H1\n",
      "[Aviso] dt original 0.005≠0.01 en fila 148 / H2\n",
      "[Aviso] dt original 0.005≠0.01 en fila 148 / V\n",
      "[Aviso] dt original 0.005≠0.01 en fila 149 / H1\n",
      "[Aviso] dt original 0.005≠0.01 en fila 149 / H2\n",
      "[Aviso] dt original 0.005≠0.01 en fila 149 / V\n",
      "[Aviso] dt original 0.005≠0.01 en fila 150 / H1\n",
      "[Aviso] dt original 0.005≠0.01 en fila 150 / H2\n",
      "[Aviso] dt original 0.005≠0.01 en fila 150 / V\n",
      "[Aviso] dt original 0.005≠0.01 en fila 151 / H1\n",
      "[Aviso] dt original 0.005≠0.01 en fila 151 / H2\n",
      "[Aviso] dt original 0.005≠0.01 en fila 151 / V\n",
      "[Aviso] dt original 0.005≠0.01 en fila 154 / H1\n",
      "[Aviso] dt original 0.005≠0.01 en fila 154 / H2\n",
      "[Aviso] dt original 0.005≠0.01 en fila 154 / V\n",
      "[Aviso] dt original 0.005≠0.01 en fila 155 / H1\n",
      "[Aviso] dt original 0.005≠0.01 en fila 155 / H2\n",
      "[Aviso] dt original 0.005≠0.01 en fila 155 / V\n",
      "[Aviso] dt original 0.005≠0.01 en fila 156 / H1\n",
      "[Aviso] dt original 0.005≠0.01 en fila 156 / H2\n",
      "[Aviso] dt original 0.005≠0.01 en fila 156 / V\n",
      "[Aviso] dt original 0.005≠0.01 en fila 157 / H1\n",
      "[Aviso] dt original 0.005≠0.01 en fila 157 / H2\n",
      "[Aviso] dt original 0.005≠0.01 en fila 157 / V\n",
      "[Aviso] dt original 0.005≠0.01 en fila 158 / H1\n",
      "[Aviso] dt original 0.005≠0.01 en fila 158 / H2\n",
      "[Aviso] dt original 0.005≠0.01 en fila 158 / V\n",
      "[Aviso] dt original 0.005≠0.01 en fila 159 / H1\n",
      "[Aviso] dt original 0.005≠0.01 en fila 159 / H2\n",
      "[Aviso] dt original 0.005≠0.01 en fila 159 / V\n",
      "[Aviso] dt original 0.005≠0.01 en fila 160 / H1\n",
      "[Aviso] dt original 0.005≠0.01 en fila 160 / H2\n",
      "[Aviso] dt original 0.005≠0.01 en fila 160 / V\n",
      "[Aviso] dt original 0.005≠0.01 en fila 161 / H1\n",
      "[Aviso] dt original 0.005≠0.01 en fila 161 / H2\n",
      "[Aviso] dt original 0.005≠0.01 en fila 161 / V\n",
      "[Aviso] dt original 0.005≠0.01 en fila 162 / H1\n",
      "[Aviso] dt original 0.005≠0.01 en fila 162 / H2\n",
      "[Aviso] dt original 0.005≠0.01 en fila 162 / V\n",
      "[Aviso] dt original 0.005≠0.01 en fila 163 / H1\n",
      "[Aviso] dt original 0.005≠0.01 en fila 163 / H2\n",
      "[Aviso] dt original 0.005≠0.01 en fila 163 / V\n",
      "[Aviso] dt original 0.005≠0.01 en fila 164 / H1\n",
      "[Aviso] dt original 0.005≠0.01 en fila 164 / H2\n",
      "[Aviso] dt original 0.005≠0.01 en fila 164 / V\n",
      "[Aviso] dt original 0.005≠0.01 en fila 165 / H1\n",
      "[Aviso] dt original 0.005≠0.01 en fila 165 / H2\n",
      "[Aviso] dt original 0.005≠0.01 en fila 165 / V\n",
      "[Aviso] dt original 0.005≠0.01 en fila 166 / H1\n",
      "[Aviso] dt original 0.005≠0.01 en fila 166 / H2\n",
      "[Aviso] dt original 0.005≠0.01 en fila 166 / V\n",
      "[Aviso] dt original 0.005≠0.01 en fila 167 / H1\n",
      "[Aviso] dt original 0.005≠0.01 en fila 167 / H2\n",
      "[Aviso] dt original 0.005≠0.01 en fila 167 / V\n",
      "[Aviso] dt original 0.005≠0.01 en fila 168 / H1\n",
      "[Aviso] dt original 0.005≠0.01 en fila 168 / H2\n",
      "[Aviso] dt original 0.005≠0.01 en fila 168 / V\n",
      "[Aviso] dt original 0.005≠0.01 en fila 169 / H1\n",
      "[Aviso] dt original 0.005≠0.01 en fila 169 / H2\n",
      "[Aviso] dt original 0.005≠0.01 en fila 169 / V\n",
      "[Aviso] dt original 0.005≠0.01 en fila 170 / H1\n",
      "[Aviso] dt original 0.005≠0.01 en fila 170 / H2\n",
      "[Aviso] dt original 0.005≠0.01 en fila 170 / V\n",
      "[Aviso] dt original 0.005≠0.01 en fila 171 / H1\n",
      "[Aviso] dt original 0.005≠0.01 en fila 171 / H2\n",
      "[Aviso] dt original 0.005≠0.01 en fila 171 / V\n",
      "[Aviso] dt original 0.005≠0.01 en fila 172 / H1\n",
      "[Aviso] dt original 0.005≠0.01 en fila 172 / H2\n",
      "[Aviso] dt original 0.005≠0.01 en fila 172 / V\n",
      "[Aviso] dt original 0.0125≠0.01 en fila 173 / H1\n",
      "[Aviso] dt original 0.0125≠0.01 en fila 173 / H2\n",
      "[Aviso] dt original 0.0125≠0.01 en fila 173 / V\n",
      "[Aviso] dt original 0.005≠0.01 en fila 174 / H1\n",
      "[Aviso] dt original 0.005≠0.01 en fila 174 / H2\n",
      "[Aviso] dt original 0.005≠0.01 en fila 174 / V\n",
      "[Aviso] dt original 0.005≠0.01 en fila 175 / H1\n",
      "[Aviso] dt original 0.005≠0.01 en fila 175 / H2\n",
      "[Aviso] dt original 0.005≠0.01 en fila 175 / V\n",
      "[Aviso] dt original 0.005≠0.01 en fila 176 / H1\n",
      "[Aviso] dt original 0.005≠0.01 en fila 176 / H2\n",
      "[Aviso] dt original 0.005≠0.01 en fila 176 / V\n",
      "[Aviso] dt original 0.005≠0.01 en fila 177 / H1\n",
      "[Aviso] dt original 0.005≠0.01 en fila 177 / H2\n",
      "[Aviso] dt original 0.005≠0.01 en fila 177 / V\n",
      "[Aviso] dt original 0.005≠0.01 en fila 178 / H1\n",
      "[Aviso] dt original 0.005≠0.01 en fila 178 / H2\n",
      "[Aviso] dt original 0.005≠0.01 en fila 178 / V\n",
      "[Aviso] dt original 0.005≠0.01 en fila 179 / H1\n",
      "[Aviso] dt original 0.005≠0.01 en fila 179 / H2\n",
      "[Aviso] dt original 0.005≠0.01 en fila 179 / V\n",
      "[Aviso] dt original 0.005≠0.01 en fila 180 / H1\n",
      "[Aviso] dt original 0.005≠0.01 en fila 180 / H2\n",
      "[Aviso] dt original 0.005≠0.01 en fila 180 / V\n",
      "[Aviso] dt original 0.005≠0.01 en fila 181 / H1\n",
      "[Aviso] dt original 0.005≠0.01 en fila 181 / H2\n",
      "[Aviso] dt original 0.005≠0.01 en fila 181 / V\n",
      "[Aviso] dt original 0.005≠0.01 en fila 182 / H1\n",
      "[Aviso] dt original 0.005≠0.01 en fila 182 / H2\n",
      "[Aviso] dt original 0.005≠0.01 en fila 182 / V\n",
      "[Aviso] dt original 0.005≠0.01 en fila 183 / H1\n",
      "[Aviso] dt original 0.005≠0.01 en fila 183 / H2\n",
      "[Aviso] dt original 0.005≠0.01 en fila 183 / V\n",
      "[Aviso] dt original 0.005≠0.01 en fila 184 / H1\n",
      "[Aviso] dt original 0.005≠0.01 en fila 184 / H2\n",
      "[Aviso] dt original 0.005≠0.01 en fila 184 / V\n",
      "[Aviso] dt original 0.005≠0.01 en fila 185 / H1\n",
      "[Aviso] dt original 0.005≠0.01 en fila 185 / H2\n",
      "[Aviso] dt original 0.005≠0.01 en fila 185 / V\n",
      "[Aviso] dt original 0.005≠0.01 en fila 186 / H1\n",
      "[Aviso] dt original 0.005≠0.01 en fila 186 / H2\n",
      "[Aviso] dt original 0.005≠0.01 en fila 186 / V\n",
      "[Aviso] dt original 0.005≠0.01 en fila 187 / H1\n",
      "[Aviso] dt original 0.005≠0.01 en fila 187 / H2\n",
      "[Aviso] dt original 0.005≠0.01 en fila 187 / V\n",
      "[Aviso] dt original 0.005≠0.01 en fila 188 / H1\n",
      "[Aviso] dt original 0.005≠0.01 en fila 188 / H2\n",
      "[Aviso] dt original 0.005≠0.01 en fila 188 / V\n",
      "[Aviso] dt original 0.005≠0.01 en fila 189 / H1\n",
      "[Aviso] dt original 0.005≠0.01 en fila 189 / H2\n",
      "[Aviso] dt original 0.005≠0.01 en fila 189 / V\n",
      "[Aviso] dt original 0.005≠0.01 en fila 190 / H1\n",
      "[Aviso] dt original 0.005≠0.01 en fila 190 / H2\n",
      "[Aviso] dt original 0.005≠0.01 en fila 190 / V\n",
      "[Aviso] dt original 0.005≠0.01 en fila 191 / H1\n",
      "[Aviso] dt original 0.005≠0.01 en fila 191 / H2\n",
      "[Aviso] dt original 0.005≠0.01 en fila 191 / V\n",
      "[Aviso] dt original 0.005≠0.01 en fila 192 / H1\n",
      "[Aviso] dt original 0.005≠0.01 en fila 192 / H2\n",
      "[Aviso] dt original 0.005≠0.01 en fila 192 / V\n",
      "[Aviso] dt original 0.005≠0.01 en fila 193 / H1\n",
      "[Aviso] dt original 0.005≠0.01 en fila 193 / H2\n",
      "[Aviso] dt original 0.005≠0.01 en fila 193 / V\n",
      "[Aviso] dt original 0.005≠0.01 en fila 194 / H1\n",
      "[Aviso] dt original 0.005≠0.01 en fila 194 / H2\n",
      "[Aviso] dt original 0.005≠0.01 en fila 194 / V\n",
      "[Aviso] dt original 0.005≠0.01 en fila 195 / H1\n",
      "[Aviso] dt original 0.005≠0.01 en fila 195 / H2\n",
      "[Aviso] dt original 0.005≠0.01 en fila 195 / V\n",
      "[Aviso] dt original 0.005≠0.01 en fila 196 / H1\n",
      "[Aviso] dt original 0.005≠0.01 en fila 196 / H2\n",
      "[Aviso] dt original 0.005≠0.01 en fila 196 / V\n",
      "[Aviso] dt original 0.005≠0.01 en fila 197 / H1\n",
      "[Aviso] dt original 0.005≠0.01 en fila 197 / H2\n",
      "[Aviso] dt original 0.005≠0.01 en fila 197 / V\n",
      "[Aviso] dt original 0.005≠0.01 en fila 198 / H1\n",
      "[Aviso] dt original 0.005≠0.01 en fila 198 / H2\n",
      "[Aviso] dt original 0.005≠0.01 en fila 198 / V\n",
      "[Aviso] dt original 0.005≠0.01 en fila 199 / H1\n",
      "[Aviso] dt original 0.005≠0.01 en fila 199 / H2\n",
      "[Aviso] dt original 0.005≠0.01 en fila 199 / V\n",
      "[Aviso] dt original 0.005≠0.01 en fila 200 / H1\n",
      "[Aviso] dt original 0.005≠0.01 en fila 200 / H2\n",
      "[Aviso] dt original 0.005≠0.01 en fila 200 / V\n",
      "[Aviso] dt original 0.005≠0.01 en fila 201 / H1\n",
      "[Aviso] dt original 0.005≠0.01 en fila 201 / H2\n",
      "[Aviso] dt original 0.005≠0.01 en fila 201 / V\n",
      "[Aviso] dt original 0.005≠0.01 en fila 202 / H1\n",
      "[Aviso] dt original 0.005≠0.01 en fila 202 / H2\n",
      "[Aviso] dt original 0.005≠0.01 en fila 202 / V\n",
      "[Aviso] dt original 0.005≠0.01 en fila 203 / H1\n",
      "[Aviso] dt original 0.005≠0.01 en fila 203 / H2\n",
      "[Aviso] dt original 0.005≠0.01 en fila 203 / V\n",
      "[Aviso] dt original 0.005≠0.01 en fila 204 / H1\n",
      "[Aviso] dt original 0.005≠0.01 en fila 204 / H2\n",
      "[Aviso] dt original 0.005≠0.01 en fila 204 / V\n",
      "[Aviso] dt original 0.005≠0.01 en fila 205 / H1\n",
      "[Aviso] dt original 0.005≠0.01 en fila 205 / H2\n",
      "[Aviso] dt original 0.005≠0.01 en fila 205 / V\n",
      "[Aviso] dt original 0.005≠0.01 en fila 206 / H1\n",
      "[Aviso] dt original 0.005≠0.01 en fila 206 / H2\n",
      "[Aviso] dt original 0.005≠0.01 en fila 206 / V\n",
      "[Aviso] dt original 0.005≠0.01 en fila 207 / H1\n",
      "[Aviso] dt original 0.005≠0.01 en fila 207 / H2\n",
      "[Aviso] dt original 0.005≠0.01 en fila 207 / V\n",
      "[Aviso] dt original 0.005≠0.01 en fila 208 / H1\n",
      "[Aviso] dt original 0.005≠0.01 en fila 208 / H2\n",
      "[Aviso] dt original 0.005≠0.01 en fila 208 / V\n",
      "[Aviso] dt original 0.005≠0.01 en fila 209 / H1\n",
      "[Aviso] dt original 0.005≠0.01 en fila 209 / H2\n",
      "[Aviso] dt original 0.005≠0.01 en fila 209 / V\n",
      "[Aviso] dt original 0.005≠0.01 en fila 210 / H1\n",
      "[Aviso] dt original 0.005≠0.01 en fila 210 / H2\n",
      "[Aviso] dt original 0.005≠0.01 en fila 210 / V\n",
      "[Aviso] dt original 0.005≠0.01 en fila 213 / H1\n",
      "[Aviso] dt original 0.005≠0.01 en fila 213 / H2\n",
      "[Aviso] dt original 0.005≠0.01 en fila 213 / V\n",
      "[Aviso] dt original 0.005≠0.01 en fila 214 / H1\n",
      "[Aviso] dt original 0.005≠0.01 en fila 214 / H2\n",
      "[Aviso] dt original 0.005≠0.01 en fila 214 / V\n",
      "[Aviso] dt original 0.005≠0.01 en fila 222 / H1\n",
      "[Aviso] dt original 0.005≠0.01 en fila 222 / H2\n",
      "[Aviso] dt original 0.005≠0.01 en fila 222 / V\n",
      "[Aviso] dt original 0.005≠0.01 en fila 229 / H1\n",
      "[Aviso] dt original 0.005≠0.01 en fila 229 / H2\n",
      "[Aviso] dt original 0.005≠0.01 en fila 229 / V\n",
      "[Aviso] dt original 0.005≠0.01 en fila 230 / H1\n",
      "[Aviso] dt original 0.005≠0.01 en fila 230 / H2\n",
      "[Aviso] dt original 0.005≠0.01 en fila 230 / V\n",
      "[Aviso] dt original 0.005≠0.01 en fila 231 / H1\n",
      "[Aviso] dt original 0.005≠0.01 en fila 231 / H2\n",
      "[Aviso] dt original 0.005≠0.01 en fila 231 / V\n",
      "[Aviso] dt original 0.005≠0.01 en fila 232 / H1\n",
      "[Aviso] dt original 0.005≠0.01 en fila 232 / H2\n",
      "[Aviso] dt original 0.005≠0.01 en fila 232 / V\n",
      "[Aviso] dt original 0.005≠0.01 en fila 235 / H1\n",
      "[Aviso] dt original 0.005≠0.01 en fila 235 / H2\n",
      "[Aviso] dt original 0.005≠0.01 en fila 235 / V\n",
      "[Aviso] dt original 0.005≠0.01 en fila 236 / H1\n",
      "[Aviso] dt original 0.005≠0.01 en fila 236 / H2\n",
      "[Aviso] dt original 0.005≠0.01 en fila 236 / V\n",
      "[Aviso] dt original 0.005≠0.01 en fila 237 / H1\n",
      "[Aviso] dt original 0.005≠0.01 en fila 237 / H2\n",
      "[Aviso] dt original 0.005≠0.01 en fila 237 / V\n",
      "[Aviso] dt original 0.005≠0.01 en fila 238 / H1\n",
      "[Aviso] dt original 0.005≠0.01 en fila 238 / H2\n",
      "[Aviso] dt original 0.005≠0.01 en fila 238 / V\n",
      "[Aviso] dt original 0.005≠0.01 en fila 239 / H1\n",
      "[Aviso] dt original 0.005≠0.01 en fila 239 / H2\n",
      "[Aviso] dt original 0.005≠0.01 en fila 239 / V\n",
      "[Aviso] dt original 0.005≠0.01 en fila 240 / H1\n",
      "[Aviso] dt original 0.005≠0.01 en fila 240 / H2\n",
      "[Aviso] dt original 0.005≠0.01 en fila 240 / V\n",
      "[Aviso] dt original 0.005≠0.01 en fila 241 / H1\n",
      "[Aviso] dt original 0.005≠0.01 en fila 241 / H2\n",
      "[Aviso] dt original 0.005≠0.01 en fila 241 / V\n",
      "[Aviso] dt original 0.005≠0.01 en fila 243 / H1\n",
      "[Aviso] dt original 0.005≠0.01 en fila 243 / H2\n",
      "[Aviso] dt original 0.005≠0.01 en fila 243 / V\n",
      "[Aviso] dt original 0.005≠0.01 en fila 244 / H1\n",
      "[Aviso] dt original 0.005≠0.01 en fila 244 / H2\n",
      "[Aviso] dt original 0.005≠0.01 en fila 244 / V\n",
      "[Aviso] dt original 0.005≠0.01 en fila 245 / H1\n",
      "[Aviso] dt original 0.005≠0.01 en fila 245 / H2\n",
      "[Aviso] dt original 0.005≠0.01 en fila 245 / V\n",
      "[Aviso] dt original 0.005≠0.01 en fila 248 / H1\n",
      "[Aviso] dt original 0.005≠0.01 en fila 248 / H2\n",
      "[Aviso] dt original 0.005≠0.01 en fila 248 / V\n",
      "[Aviso] dt original 0.005≠0.01 en fila 249 / H1\n",
      "[Aviso] dt original 0.005≠0.01 en fila 249 / H2\n",
      "[Aviso] dt original 0.005≠0.01 en fila 249 / V\n",
      "[Aviso] dt original 0.005≠0.01 en fila 250 / H1\n",
      "[Aviso] dt original 0.005≠0.01 en fila 250 / H2\n",
      "[Aviso] dt original 0.005≠0.01 en fila 250 / V\n",
      "[Aviso] dt original 0.005≠0.01 en fila 251 / H1\n",
      "[Aviso] dt original 0.005≠0.01 en fila 251 / H2\n",
      "[Aviso] dt original 0.005≠0.01 en fila 251 / V\n",
      "[Aviso] dt original 0.005≠0.01 en fila 252 / H1\n",
      "[Aviso] dt original 0.005≠0.01 en fila 252 / H2\n",
      "[Aviso] dt original 0.005≠0.01 en fila 252 / V\n",
      "[Aviso] dt original 0.005≠0.01 en fila 253 / H1\n",
      "[Aviso] dt original 0.005≠0.01 en fila 253 / H2\n",
      "[Aviso] dt original 0.005≠0.01 en fila 253 / V\n",
      "[Aviso] dt original 0.005≠0.01 en fila 254 / H1\n",
      "[Aviso] dt original 0.005≠0.01 en fila 254 / H2\n",
      "[Aviso] dt original 0.005≠0.01 en fila 254 / V\n",
      "[Aviso] dt original 0.00244≠0.01 en fila 255 / H1\n",
      "[Aviso] dt original 0.00244≠0.01 en fila 255 / H2\n",
      "[Aviso] dt original 0.00244≠0.01 en fila 255 / V\n",
      "[Aviso] dt original 0.0125≠0.01 en fila 256 / H1\n",
      "[Aviso] dt original 0.0125≠0.01 en fila 256 / H2\n",
      "[Aviso] dt original 0.0125≠0.01 en fila 256 / V\n",
      "[Aviso] dt original 0.0125≠0.01 en fila 265 / H1\n",
      "[Aviso] dt original 0.0125≠0.01 en fila 265 / H2\n",
      "[Aviso] dt original 0.0125≠0.01 en fila 265 / V\n",
      "[Aviso] dt original 0.005≠0.01 en fila 269 / H1\n",
      "[Aviso] dt original 0.005≠0.01 en fila 269 / H2\n",
      "[Aviso] dt original 0.005≠0.01 en fila 269 / V\n",
      "[Aviso] dt original 0.005≠0.01 en fila 270 / H1\n",
      "[Aviso] dt original 0.005≠0.01 en fila 270 / H2\n",
      "[Aviso] dt original 0.005≠0.01 en fila 270 / V\n",
      "[Aviso] dt original 0.0125≠0.01 en fila 272 / H1\n",
      "[Aviso] dt original 0.0125≠0.01 en fila 272 / H2\n",
      "[Aviso] dt original 0.0125≠0.01 en fila 272 / V\n",
      "[Aviso] dt original 0.0125≠0.01 en fila 279 / H1\n",
      "[Aviso] dt original 0.0125≠0.01 en fila 279 / H2\n",
      "[Aviso] dt original 0.0125≠0.01 en fila 279 / V\n",
      "[Aviso] dt original 0.0125≠0.01 en fila 280 / H1\n",
      "[Aviso] dt original 0.0125≠0.01 en fila 280 / H2\n",
      "[Aviso] dt original 0.0125≠0.01 en fila 280 / V\n",
      "[Aviso] dt original 0.0125≠0.01 en fila 281 / H1\n",
      "[Aviso] dt original 0.0125≠0.01 en fila 281 / H2\n",
      "[Aviso] dt original 0.0125≠0.01 en fila 281 / V\n",
      "[Aviso] dt original 0.0125≠0.01 en fila 282 / H1\n",
      "[Aviso] dt original 0.0125≠0.01 en fila 282 / H2\n",
      "[Aviso] dt original 0.0125≠0.01 en fila 282 / V\n",
      "[Aviso] dt original 0.0125≠0.01 en fila 308 / H1\n",
      "[Aviso] dt original 0.0125≠0.01 en fila 308 / H2\n",
      "[Aviso] dt original 0.0125≠0.01 en fila 308 / V\n",
      "[Aviso] dt original 0.005≠0.01 en fila 324 / H1\n",
      "[Aviso] dt original 0.005≠0.01 en fila 324 / H2\n",
      "[Aviso] dt original 0.005≠0.01 en fila 324 / V\n",
      "[Aviso] dt original 0.005≠0.01 en fila 325 / H1\n",
      "[Aviso] dt original 0.005≠0.01 en fila 325 / H2\n",
      "[Aviso] dt original 0.005≠0.01 en fila 325 / V\n",
      "[Aviso] dt original 0.005≠0.01 en fila 326 / H1\n",
      "[Aviso] dt original 0.005≠0.01 en fila 326 / H2\n",
      "[Aviso] dt original 0.005≠0.01 en fila 326 / V\n",
      "[Aviso] dt original 0.005≠0.01 en fila 327 / H1\n",
      "[Aviso] dt original 0.005≠0.01 en fila 327 / H2\n",
      "[Aviso] dt original 0.005≠0.01 en fila 327 / V\n",
      "[Aviso] dt original 0.005≠0.01 en fila 328 / H1\n",
      "[Aviso] dt original 0.005≠0.01 en fila 328 / H2\n",
      "[Aviso] dt original 0.005≠0.01 en fila 328 / V\n",
      "[Aviso] dt original 0.005≠0.01 en fila 332 / H1\n",
      "[Aviso] dt original 0.005≠0.01 en fila 332 / H2\n",
      "[Aviso] dt original 0.005≠0.01 en fila 332 / V\n",
      "[Aviso] dt original 0.005≠0.01 en fila 333 / H1\n",
      "[Aviso] dt original 0.005≠0.01 en fila 333 / H2\n",
      "[Aviso] dt original 0.005≠0.01 en fila 333 / V\n",
      "[Aviso] dt original 0.005≠0.01 en fila 334 / H1\n",
      "[Aviso] dt original 0.005≠0.01 en fila 334 / H2\n",
      "[Aviso] dt original 0.005≠0.01 en fila 334 / V\n",
      "[Aviso] dt original 0.005≠0.01 en fila 337 / H1\n",
      "[Aviso] dt original 0.005≠0.01 en fila 337 / H2\n",
      "[Aviso] dt original 0.005≠0.01 en fila 337 / V\n",
      "[Aviso] dt original 0.005≠0.01 en fila 338 / H1\n",
      "[Aviso] dt original 0.005≠0.01 en fila 338 / H2\n",
      "[Aviso] dt original 0.005≠0.01 en fila 338 / V\n",
      "[Aviso] dt original 0.005≠0.01 en fila 339 / H1\n",
      "[Aviso] dt original 0.005≠0.01 en fila 339 / H2\n",
      "[Aviso] dt original 0.005≠0.01 en fila 339 / V\n",
      "[Aviso] dt original 0.005≠0.01 en fila 340 / H1\n",
      "[Aviso] dt original 0.005≠0.01 en fila 340 / H2\n",
      "[Aviso] dt original 0.005≠0.01 en fila 340 / V\n",
      "[Aviso] dt original 0.005≠0.01 en fila 342 / H1\n",
      "[Aviso] dt original 0.005≠0.01 en fila 342 / H2\n",
      "[Aviso] dt original 0.005≠0.01 en fila 342 / V\n",
      "[Aviso] dt original 0.005≠0.01 en fila 345 / H1\n",
      "[Aviso] dt original 0.005≠0.01 en fila 345 / H2\n",
      "[Aviso] dt original 0.005≠0.01 en fila 345 / V\n",
      "[Aviso] dt original 0.005≠0.01 en fila 346 / H1\n",
      "[Aviso] dt original 0.005≠0.01 en fila 346 / H2\n",
      "[Aviso] dt original 0.005≠0.01 en fila 346 / V\n",
      "[Aviso] dt original 0.005≠0.01 en fila 347 / H1\n",
      "[Aviso] dt original 0.005≠0.01 en fila 347 / H2\n",
      "[Aviso] dt original 0.005≠0.01 en fila 347 / V\n",
      "[Aviso] dt original 0.005≠0.01 en fila 348 / H1\n",
      "[Aviso] dt original 0.005≠0.01 en fila 348 / H2\n",
      "[Aviso] dt original 0.005≠0.01 en fila 348 / V\n",
      "[Aviso] dt original 0.005≠0.01 en fila 349 / H1\n",
      "[Aviso] dt original 0.005≠0.01 en fila 349 / H2\n",
      "[Aviso] dt original 0.005≠0.01 en fila 349 / V\n",
      "[Aviso] dt original 0.005≠0.01 en fila 350 / H1\n",
      "[Aviso] dt original 0.005≠0.01 en fila 350 / H2\n",
      "[Aviso] dt original 0.005≠0.01 en fila 350 / V\n",
      "[Aviso] dt original 0.005≠0.01 en fila 351 / H1\n",
      "[Aviso] dt original 0.005≠0.01 en fila 351 / H2\n",
      "[Aviso] dt original 0.005≠0.01 en fila 351 / V\n",
      "[Aviso] dt original 0.005≠0.01 en fila 352 / H1\n",
      "[Aviso] dt original 0.005≠0.01 en fila 352 / H2\n",
      "[Aviso] dt original 0.005≠0.01 en fila 352 / V\n",
      "[Aviso] dt original 0.005≠0.01 en fila 353 / H1\n",
      "[Aviso] dt original 0.005≠0.01 en fila 353 / H2\n",
      "[Aviso] dt original 0.005≠0.01 en fila 353 / V\n",
      "[Aviso] dt original 0.005≠0.01 en fila 354 / H1\n",
      "[Aviso] dt original 0.005≠0.01 en fila 354 / H2\n",
      "[Aviso] dt original 0.005≠0.01 en fila 354 / V\n",
      "[Aviso] dt original 0.005≠0.01 en fila 355 / H1\n",
      "[Aviso] dt original 0.005≠0.01 en fila 355 / H2\n",
      "[Aviso] dt original 0.005≠0.01 en fila 355 / V\n",
      "[Aviso] dt original 0.005≠0.01 en fila 356 / H1\n",
      "[Aviso] dt original 0.005≠0.01 en fila 356 / H2\n",
      "[Aviso] dt original 0.005≠0.01 en fila 356 / V\n",
      "[Aviso] dt original 0.005≠0.01 en fila 357 / H1\n",
      "[Aviso] dt original 0.005≠0.01 en fila 357 / H2\n",
      "[Aviso] dt original 0.005≠0.01 en fila 357 / V\n",
      "[Aviso] dt original 0.005≠0.01 en fila 358 / H1\n",
      "[Aviso] dt original 0.005≠0.01 en fila 358 / H2\n",
      "[Aviso] dt original 0.005≠0.01 en fila 358 / V\n",
      "[Aviso] dt original 0.005≠0.01 en fila 359 / H1\n",
      "[Aviso] dt original 0.005≠0.01 en fila 359 / H2\n",
      "[Aviso] dt original 0.005≠0.01 en fila 359 / V\n",
      "[Aviso] dt original 0.005≠0.01 en fila 360 / H1\n",
      "[Aviso] dt original 0.005≠0.01 en fila 360 / H2\n",
      "[Aviso] dt original 0.005≠0.01 en fila 360 / V\n",
      "[Aviso] dt original 0.005≠0.01 en fila 364 / H1\n",
      "[Aviso] dt original 0.005≠0.01 en fila 364 / H2\n",
      "[Aviso] dt original 0.005≠0.01 en fila 364 / V\n",
      "[Aviso] dt original 0.005≠0.01 en fila 365 / H1\n",
      "[Aviso] dt original 0.005≠0.01 en fila 365 / H2\n",
      "[Aviso] dt original 0.005≠0.01 en fila 365 / V\n",
      "[Aviso] dt original 0.005≠0.01 en fila 366 / H1\n",
      "[Aviso] dt original 0.005≠0.01 en fila 366 / H2\n",
      "[Aviso] dt original 0.005≠0.01 en fila 366 / V\n",
      "[Aviso] dt original 0.005≠0.01 en fila 367 / H1\n",
      "[Aviso] dt original 0.005≠0.01 en fila 367 / H2\n",
      "[Aviso] dt original 0.005≠0.01 en fila 367 / V\n",
      "[Aviso] dt original 0.005≠0.01 en fila 368 / H1\n",
      "[Aviso] dt original 0.005≠0.01 en fila 368 / H2\n",
      "[Aviso] dt original 0.005≠0.01 en fila 368 / V\n",
      "[Aviso] dt original 0.005≠0.01 en fila 369 / H1\n",
      "[Aviso] dt original 0.005≠0.01 en fila 369 / H2\n",
      "[Aviso] dt original 0.005≠0.01 en fila 369 / V\n",
      "[Aviso] dt original 0.005≠0.01 en fila 370 / H1\n",
      "[Aviso] dt original 0.005≠0.01 en fila 370 / H2\n",
      "[Aviso] dt original 0.005≠0.01 en fila 370 / V\n",
      "[Aviso] dt original 0.005≠0.01 en fila 371 / H1\n",
      "[Aviso] dt original 0.005≠0.01 en fila 371 / H2\n",
      "[Aviso] dt original 0.005≠0.01 en fila 371 / V\n",
      "[Aviso] dt original 0.005≠0.01 en fila 372 / H1\n",
      "[Aviso] dt original 0.005≠0.01 en fila 372 / H2\n",
      "[Aviso] dt original 0.005≠0.01 en fila 372 / V\n",
      "[Aviso] dt original 0.005≠0.01 en fila 373 / H1\n",
      "[Aviso] dt original 0.005≠0.01 en fila 373 / H2\n",
      "[Aviso] dt original 0.005≠0.01 en fila 373 / V\n",
      "[Aviso] dt original 0.005≠0.01 en fila 374 / H1\n",
      "[Aviso] dt original 0.005≠0.01 en fila 374 / H2\n",
      "[Aviso] dt original 0.005≠0.01 en fila 374 / V\n",
      "[Aviso] dt original 0.005≠0.01 en fila 375 / H1\n",
      "[Aviso] dt original 0.005≠0.01 en fila 375 / H2\n",
      "[Aviso] dt original 0.005≠0.01 en fila 375 / V\n",
      "[Aviso] dt original 0.005≠0.01 en fila 376 / H1\n",
      "[Aviso] dt original 0.005≠0.01 en fila 376 / H2\n",
      "[Aviso] dt original 0.005≠0.01 en fila 376 / V\n",
      "[Aviso] dt original 0.005≠0.01 en fila 377 / H1\n",
      "[Aviso] dt original 0.005≠0.01 en fila 377 / H2\n",
      "[Aviso] dt original 0.005≠0.01 en fila 377 / V\n",
      "[Aviso] dt original 0.005≠0.01 en fila 378 / H1\n",
      "[Aviso] dt original 0.005≠0.01 en fila 378 / H2\n",
      "[Aviso] dt original 0.005≠0.01 en fila 378 / V\n",
      "[Aviso] dt original 0.005≠0.01 en fila 379 / H1\n",
      "[Aviso] dt original 0.005≠0.01 en fila 379 / H2\n",
      "[Aviso] dt original 0.005≠0.01 en fila 379 / V\n",
      "[Aviso] dt original 0.005≠0.01 en fila 380 / H1\n",
      "[Aviso] dt original 0.005≠0.01 en fila 380 / H2\n",
      "[Aviso] dt original 0.005≠0.01 en fila 380 / V\n",
      "[Aviso] dt original 0.005≠0.01 en fila 381 / H1\n",
      "[Aviso] dt original 0.005≠0.01 en fila 381 / H2\n",
      "[Aviso] dt original 0.005≠0.01 en fila 381 / V\n",
      "[Aviso] dt original 0.005≠0.01 en fila 382 / H1\n",
      "[Aviso] dt original 0.005≠0.01 en fila 382 / H2\n",
      "[Aviso] dt original 0.005≠0.01 en fila 382 / V\n",
      "[Aviso] dt original 0.005≠0.01 en fila 385 / H1\n",
      "[Aviso] dt original 0.005≠0.01 en fila 385 / H2\n",
      "[Aviso] dt original 0.005≠0.01 en fila 385 / V\n",
      "[Aviso] dt original 0.005≠0.01 en fila 389 / H1\n",
      "[Aviso] dt original 0.005≠0.01 en fila 389 / H2\n",
      "[Aviso] dt original 0.005≠0.01 en fila 389 / V\n",
      "[Aviso] dt original 0.005≠0.01 en fila 390 / H1\n",
      "[Aviso] dt original 0.005≠0.01 en fila 390 / H2\n",
      "[Aviso] dt original 0.005≠0.01 en fila 390 / V\n",
      "[Aviso] dt original 0.0024≠0.01 en fila 393 / H1\n",
      "[Aviso] dt original 0.0024≠0.01 en fila 393 / H2\n",
      "[Aviso] dt original 0.0024≠0.01 en fila 393 / V\n",
      "[Aviso] dt original 0.005≠0.01 en fila 394 / H1\n",
      "[Aviso] dt original 0.005≠0.01 en fila 394 / H2\n",
      "[Aviso] dt original 0.005≠0.01 en fila 394 / V\n",
      "[Aviso] dt original 0.005≠0.01 en fila 395 / H1\n",
      "[Aviso] dt original 0.005≠0.01 en fila 395 / H2\n",
      "[Aviso] dt original 0.005≠0.01 en fila 395 / V\n",
      "[Aviso] dt original 0.005≠0.01 en fila 396 / H1\n",
      "[Aviso] dt original 0.005≠0.01 en fila 396 / H2\n",
      "[Aviso] dt original 0.005≠0.01 en fila 396 / V\n",
      "[Aviso] dt original 0.005≠0.01 en fila 397 / H1\n",
      "[Aviso] dt original 0.005≠0.01 en fila 397 / H2\n",
      "[Aviso] dt original 0.005≠0.01 en fila 397 / V\n",
      "[Aviso] dt original 0.005≠0.01 en fila 398 / H1\n",
      "[Aviso] dt original 0.005≠0.01 en fila 398 / H2\n",
      "[Aviso] dt original 0.005≠0.01 en fila 398 / V\n",
      "[Aviso] dt original 0.005≠0.01 en fila 399 / H1\n",
      "[Aviso] dt original 0.005≠0.01 en fila 399 / H2\n",
      "[Aviso] dt original 0.005≠0.01 en fila 399 / V\n",
      "[Aviso] dt original 0.005≠0.01 en fila 400 / H1\n",
      "[Aviso] dt original 0.005≠0.01 en fila 400 / H2\n",
      "[Aviso] dt original 0.005≠0.01 en fila 400 / V\n",
      "[Aviso] dt original 0.005≠0.01 en fila 401 / H1\n",
      "[Aviso] dt original 0.005≠0.01 en fila 401 / H2\n",
      "[Aviso] dt original 0.005≠0.01 en fila 401 / V\n",
      "[Aviso] dt original 0.005≠0.01 en fila 402 / H1\n",
      "[Aviso] dt original 0.005≠0.01 en fila 402 / H2\n",
      "[Aviso] dt original 0.005≠0.01 en fila 402 / V\n",
      "[Aviso] dt original 0.005≠0.01 en fila 403 / H1\n",
      "[Aviso] dt original 0.005≠0.01 en fila 403 / H2\n",
      "[Aviso] dt original 0.005≠0.01 en fila 403 / V\n",
      "[Aviso] dt original 0.005≠0.01 en fila 404 / H1\n",
      "[Aviso] dt original 0.005≠0.01 en fila 404 / H2\n",
      "[Aviso] dt original 0.005≠0.01 en fila 404 / V\n",
      "[Aviso] dt original 0.005≠0.01 en fila 405 / H1\n",
      "[Aviso] dt original 0.005≠0.01 en fila 405 / H2\n",
      "[Aviso] dt original 0.005≠0.01 en fila 405 / V\n",
      "[Aviso] dt original 0.005≠0.01 en fila 406 / H1\n",
      "[Aviso] dt original 0.005≠0.01 en fila 406 / H2\n",
      "[Aviso] dt original 0.005≠0.01 en fila 406 / V\n",
      "[Aviso] dt original 0.005≠0.01 en fila 407 / H1\n",
      "[Aviso] dt original 0.005≠0.01 en fila 407 / H2\n",
      "[Aviso] dt original 0.005≠0.01 en fila 407 / V\n",
      "[Aviso] dt original 0.005≠0.01 en fila 408 / H1\n",
      "[Aviso] dt original 0.005≠0.01 en fila 408 / H2\n",
      "[Aviso] dt original 0.005≠0.01 en fila 408 / V\n",
      "[Aviso] dt original 0.005≠0.01 en fila 409 / H1\n",
      "[Aviso] dt original 0.005≠0.01 en fila 409 / H2\n",
      "[Aviso] dt original 0.005≠0.01 en fila 409 / V\n",
      "[Aviso] dt original 0.005≠0.01 en fila 410 / H1\n",
      "[Aviso] dt original 0.005≠0.01 en fila 410 / H2\n",
      "[Aviso] dt original 0.005≠0.01 en fila 410 / V\n",
      "[Aviso] dt original 0.02≠0.01 en fila 411 / H1\n",
      "[Aviso] dt original 0.02≠0.01 en fila 411 / H2\n",
      "[Aviso] dt original 0.02≠0.01 en fila 411 / V\n",
      "[Aviso] dt original 0.005≠0.01 en fila 412 / H1\n",
      "[Aviso] dt original 0.005≠0.01 en fila 412 / H2\n",
      "[Aviso] dt original 0.005≠0.01 en fila 412 / V\n",
      "[Aviso] dt original 0.005≠0.01 en fila 413 / H1\n",
      "[Aviso] dt original 0.005≠0.01 en fila 413 / H2\n",
      "[Aviso] dt original 0.005≠0.01 en fila 413 / V\n",
      "[Aviso] dt original 0.005≠0.01 en fila 414 / H1\n",
      "[Aviso] dt original 0.005≠0.01 en fila 414 / H2\n",
      "[Aviso] dt original 0.005≠0.01 en fila 414 / V\n",
      "[Aviso] dt original 0.02≠0.01 en fila 419 / H1\n",
      "[Aviso] dt original 0.02≠0.01 en fila 419 / H2\n",
      "[Aviso] dt original 0.02≠0.01 en fila 419 / V\n",
      "[Aviso] dt original 0.02≠0.01 en fila 423 / H1\n",
      "[Aviso] dt original 0.02≠0.01 en fila 423 / H2\n",
      "[Aviso] dt original 0.02≠0.01 en fila 423 / V\n",
      "[Aviso] dt original 0.02≠0.01 en fila 424 / H1\n",
      "[Aviso] dt original 0.02≠0.01 en fila 424 / H2\n",
      "[Aviso] dt original 0.02≠0.01 en fila 424 / V\n",
      "[Aviso] dt original 0.005≠0.01 en fila 427 / H1\n",
      "[Aviso] dt original 0.005≠0.01 en fila 427 / H2\n",
      "[Aviso] dt original 0.005≠0.01 en fila 427 / V\n",
      "[Aviso] dt original 0.005≠0.01 en fila 429 / H1\n",
      "[Aviso] dt original 0.005≠0.01 en fila 429 / H2\n",
      "[Aviso] dt original 0.005≠0.01 en fila 429 / V\n",
      "[Aviso] dt original 0.005≠0.01 en fila 431 / H1\n",
      "[Aviso] dt original 0.005≠0.01 en fila 431 / H2\n",
      "[Aviso] dt original 0.005≠0.01 en fila 431 / V\n",
      "[Aviso] dt original 0.005≠0.01 en fila 432 / H1\n",
      "[Aviso] dt original 0.005≠0.01 en fila 432 / H2\n",
      "[Aviso] dt original 0.005≠0.01 en fila 432 / V\n",
      "[Aviso] dt original 0.005≠0.01 en fila 434 / H1\n",
      "[Aviso] dt original 0.005≠0.01 en fila 434 / H2\n",
      "[Aviso] dt original 0.005≠0.01 en fila 434 / V\n",
      "[Aviso] dt original 0.005≠0.01 en fila 440 / H1\n",
      "[Aviso] dt original 0.005≠0.01 en fila 440 / H2\n",
      "[Aviso] dt original 0.005≠0.01 en fila 440 / V\n",
      "[Aviso] dt original 0.005≠0.01 en fila 443 / H1\n",
      "[Aviso] dt original 0.005≠0.01 en fila 443 / H2\n",
      "[Aviso] dt original 0.005≠0.01 en fila 443 / V\n",
      "[Aviso] dt original 0.005≠0.01 en fila 444 / H1\n",
      "[Aviso] dt original 0.005≠0.01 en fila 444 / H2\n",
      "[Aviso] dt original 0.005≠0.01 en fila 444 / V\n",
      "[Aviso] dt original 0.005≠0.01 en fila 445 / H1\n",
      "[Aviso] dt original 0.005≠0.01 en fila 445 / H2\n",
      "[Aviso] dt original 0.005≠0.01 en fila 445 / V\n",
      "[Aviso] dt original 0.005≠0.01 en fila 446 / H1\n",
      "[Aviso] dt original 0.005≠0.01 en fila 446 / H2\n",
      "[Aviso] dt original 0.005≠0.01 en fila 446 / V\n",
      "[Aviso] dt original 0.005≠0.01 en fila 447 / H1\n",
      "[Aviso] dt original 0.005≠0.01 en fila 447 / H2\n",
      "[Aviso] dt original 0.005≠0.01 en fila 447 / V\n",
      "[Aviso] dt original 0.005≠0.01 en fila 448 / H1\n",
      "[Aviso] dt original 0.005≠0.01 en fila 448 / H2\n",
      "[Aviso] dt original 0.005≠0.01 en fila 448 / V\n",
      "[Aviso] dt original 0.005≠0.01 en fila 449 / H1\n",
      "[Aviso] dt original 0.005≠0.01 en fila 449 / H2\n",
      "[Aviso] dt original 0.005≠0.01 en fila 449 / V\n",
      "[Aviso] dt original 0.005≠0.01 en fila 450 / H1\n",
      "[Aviso] dt original 0.005≠0.01 en fila 450 / H2\n",
      "[Aviso] dt original 0.005≠0.01 en fila 450 / V\n",
      "[Aviso] dt original 0.005≠0.01 en fila 451 / H1\n",
      "[Aviso] dt original 0.005≠0.01 en fila 451 / H2\n",
      "[Aviso] dt original 0.005≠0.01 en fila 451 / V\n",
      "[Aviso] dt original 0.005≠0.01 en fila 452 / H1\n",
      "[Aviso] dt original 0.005≠0.01 en fila 452 / H2\n",
      "[Aviso] dt original 0.005≠0.01 en fila 452 / V\n",
      "[Aviso] dt original 0.005≠0.01 en fila 453 / H1\n",
      "[Aviso] dt original 0.005≠0.01 en fila 453 / H2\n",
      "[Aviso] dt original 0.005≠0.01 en fila 453 / V\n",
      "[Aviso] dt original 0.005≠0.01 en fila 454 / H1\n",
      "[Aviso] dt original 0.005≠0.01 en fila 454 / H2\n",
      "[Aviso] dt original 0.005≠0.01 en fila 454 / V\n",
      "[Aviso] dt original 0.005≠0.01 en fila 455 / H1\n",
      "[Aviso] dt original 0.005≠0.01 en fila 455 / H2\n",
      "[Aviso] dt original 0.005≠0.01 en fila 455 / V\n",
      "[Aviso] dt original 0.005≠0.01 en fila 456 / H1\n",
      "[Aviso] dt original 0.005≠0.01 en fila 456 / H2\n",
      "[Aviso] dt original 0.005≠0.01 en fila 456 / V\n",
      "[Aviso] dt original 0.005≠0.01 en fila 457 / H1\n",
      "[Aviso] dt original 0.005≠0.01 en fila 457 / H2\n",
      "[Aviso] dt original 0.005≠0.01 en fila 457 / V\n",
      "[Aviso] dt original 0.005≠0.01 en fila 458 / H1\n",
      "[Aviso] dt original 0.005≠0.01 en fila 458 / H2\n",
      "[Aviso] dt original 0.005≠0.01 en fila 458 / V\n",
      "[Aviso] dt original 0.005≠0.01 en fila 459 / H1\n",
      "[Aviso] dt original 0.005≠0.01 en fila 459 / H2\n",
      "[Aviso] dt original 0.005≠0.01 en fila 459 / V\n",
      "[Aviso] dt original 0.005≠0.01 en fila 461 / H1\n",
      "[Aviso] dt original 0.005≠0.01 en fila 461 / H2\n",
      "[Aviso] dt original 0.005≠0.01 en fila 461 / V\n",
      "[Aviso] dt original 0.005≠0.01 en fila 462 / H1\n",
      "[Aviso] dt original 0.005≠0.01 en fila 462 / H2\n",
      "[Aviso] dt original 0.005≠0.01 en fila 462 / V\n",
      "[Aviso] dt original 0.005≠0.01 en fila 463 / H1\n",
      "[Aviso] dt original 0.005≠0.01 en fila 463 / H2\n",
      "[Aviso] dt original 0.005≠0.01 en fila 463 / V\n",
      "[Aviso] dt original 0.005≠0.01 en fila 464 / H1\n",
      "[Aviso] dt original 0.005≠0.01 en fila 464 / H2\n",
      "[Aviso] dt original 0.005≠0.01 en fila 464 / V\n",
      "[Aviso] dt original 0.005≠0.01 en fila 465 / H1\n",
      "[Aviso] dt original 0.005≠0.01 en fila 465 / H2\n",
      "[Aviso] dt original 0.005≠0.01 en fila 465 / V\n",
      "[Aviso] dt original 0.005≠0.01 en fila 466 / H1\n",
      "[Aviso] dt original 0.005≠0.01 en fila 466 / H2\n",
      "[Aviso] dt original 0.005≠0.01 en fila 466 / V\n",
      "[Aviso] dt original 0.005≠0.01 en fila 467 / H1\n",
      "[Aviso] dt original 0.005≠0.01 en fila 467 / H2\n",
      "[Aviso] dt original 0.005≠0.01 en fila 467 / V\n",
      "[Aviso] dt original 0.005≠0.01 en fila 468 / H1\n",
      "[Aviso] dt original 0.005≠0.01 en fila 468 / H2\n",
      "[Aviso] dt original 0.005≠0.01 en fila 468 / V\n",
      "[Aviso] dt original 0.005≠0.01 en fila 469 / H1\n",
      "[Aviso] dt original 0.005≠0.01 en fila 469 / H2\n",
      "[Aviso] dt original 0.005≠0.01 en fila 469 / V\n",
      "[Aviso] dt original 0.005≠0.01 en fila 470 / H1\n",
      "[Aviso] dt original 0.005≠0.01 en fila 470 / H2\n",
      "[Aviso] dt original 0.005≠0.01 en fila 470 / V\n",
      "[Aviso] dt original 0.005≠0.01 en fila 471 / H1\n",
      "[Aviso] dt original 0.005≠0.01 en fila 471 / H2\n",
      "[Aviso] dt original 0.005≠0.01 en fila 471 / V\n",
      "[Aviso] dt original 0.005≠0.01 en fila 472 / H1\n",
      "[Aviso] dt original 0.005≠0.01 en fila 472 / H2\n",
      "[Aviso] dt original 0.005≠0.01 en fila 472 / V\n",
      "[Aviso] dt original 0.005≠0.01 en fila 473 / H1\n",
      "[Aviso] dt original 0.005≠0.01 en fila 473 / H2\n",
      "[Aviso] dt original 0.005≠0.01 en fila 473 / V\n",
      "[Aviso] dt original 0.005≠0.01 en fila 474 / H1\n",
      "[Aviso] dt original 0.005≠0.01 en fila 474 / H2\n",
      "[Aviso] dt original 0.005≠0.01 en fila 474 / V\n",
      "[Aviso] dt original 0.005≠0.01 en fila 475 / H1\n",
      "[Aviso] dt original 0.005≠0.01 en fila 475 / H2\n",
      "[Aviso] dt original 0.005≠0.01 en fila 475 / V\n",
      "[Aviso] dt original 0.005≠0.01 en fila 476 / H1\n",
      "[Aviso] dt original 0.005≠0.01 en fila 476 / H2\n",
      "[Aviso] dt original 0.005≠0.01 en fila 476 / V\n",
      "[Aviso] dt original 0.005≠0.01 en fila 477 / H1\n",
      "[Aviso] dt original 0.005≠0.01 en fila 477 / H2\n",
      "[Aviso] dt original 0.005≠0.01 en fila 477 / V\n",
      "[Aviso] dt original 0.005≠0.01 en fila 478 / H1\n",
      "[Aviso] dt original 0.005≠0.01 en fila 478 / H2\n",
      "[Aviso] dt original 0.005≠0.01 en fila 478 / V\n",
      "[Aviso] dt original 0.004≠0.01 en fila 479 / H1\n",
      "[Aviso] dt original 0.004≠0.01 en fila 479 / H2\n",
      "[Aviso] dt original 0.004≠0.01 en fila 479 / V\n",
      "[Aviso] dt original 0.004≠0.01 en fila 480 / H1\n",
      "[Aviso] dt original 0.004≠0.01 en fila 480 / H2\n",
      "[Aviso] dt original 0.004≠0.01 en fila 480 / V\n",
      "[Aviso] dt original 0.005≠0.01 en fila 481 / H1\n",
      "[Aviso] dt original 0.005≠0.01 en fila 481 / H2\n",
      "[Aviso] dt original 0.005≠0.01 en fila 481 / V\n",
      "[Aviso] dt original 0.005≠0.01 en fila 482 / H1\n",
      "[Aviso] dt original 0.005≠0.01 en fila 482 / H2\n",
      "[Aviso] dt original 0.005≠0.01 en fila 482 / V\n",
      "[Aviso] dt original 0.005≠0.01 en fila 483 / H1\n",
      "[Aviso] dt original 0.005≠0.01 en fila 483 / H2\n",
      "[Aviso] dt original 0.005≠0.01 en fila 483 / V\n",
      "[Aviso] dt original 0.005≠0.01 en fila 484 / H1\n",
      "[Aviso] dt original 0.005≠0.01 en fila 484 / H2\n",
      "[Aviso] dt original 0.005≠0.01 en fila 484 / V\n",
      "[Aviso] dt original 0.005≠0.01 en fila 485 / H1\n",
      "[Aviso] dt original 0.005≠0.01 en fila 485 / H2\n",
      "[Aviso] dt original 0.005≠0.01 en fila 485 / V\n",
      "[Aviso] dt original 0.005≠0.01 en fila 486 / H1\n",
      "[Aviso] dt original 0.005≠0.01 en fila 486 / H2\n",
      "[Aviso] dt original 0.005≠0.01 en fila 486 / V\n",
      "[Aviso] dt original 0.005≠0.01 en fila 487 / H1\n",
      "[Aviso] dt original 0.005≠0.01 en fila 487 / H2\n",
      "[Aviso] dt original 0.005≠0.01 en fila 487 / V\n",
      "[Aviso] dt original 0.005≠0.01 en fila 488 / H1\n",
      "[Aviso] dt original 0.005≠0.01 en fila 488 / H2\n",
      "[Aviso] dt original 0.005≠0.01 en fila 488 / V\n",
      "[Aviso] dt original 0.005≠0.01 en fila 489 / H1\n",
      "[Aviso] dt original 0.005≠0.01 en fila 489 / H2\n",
      "[Aviso] dt original 0.005≠0.01 en fila 489 / V\n",
      "[Aviso] dt original 0.005≠0.01 en fila 490 / H1\n",
      "[Aviso] dt original 0.005≠0.01 en fila 490 / H2\n",
      "[Aviso] dt original 0.005≠0.01 en fila 490 / V\n",
      "[Aviso] dt original 0.005≠0.01 en fila 491 / H1\n",
      "[Aviso] dt original 0.005≠0.01 en fila 491 / H2\n",
      "[Aviso] dt original 0.005≠0.01 en fila 491 / V\n",
      "[Aviso] dt original 0.005≠0.01 en fila 492 / H1\n",
      "[Aviso] dt original 0.005≠0.01 en fila 492 / H2\n",
      "[Aviso] dt original 0.005≠0.01 en fila 492 / V\n",
      "[Aviso] dt original 0.005≠0.01 en fila 493 / H1\n",
      "[Aviso] dt original 0.005≠0.01 en fila 493 / H2\n",
      "[Aviso] dt original 0.005≠0.01 en fila 493 / V\n",
      "[Aviso] dt original 0.005≠0.01 en fila 494 / H1\n",
      "[Aviso] dt original 0.005≠0.01 en fila 494 / H2\n",
      "[Aviso] dt original 0.005≠0.01 en fila 494 / V\n",
      "[Aviso] dt original 0.005≠0.01 en fila 495 / H1\n",
      "[Aviso] dt original 0.005≠0.01 en fila 495 / H2\n",
      "[Aviso] dt original 0.005≠0.01 en fila 495 / V\n",
      "[Aviso] dt original 0.005≠0.01 en fila 497 / H1\n",
      "[Aviso] dt original 0.005≠0.01 en fila 497 / H2\n",
      "[Aviso] dt original 0.005≠0.01 en fila 497 / V\n",
      "[Aviso] dt original 0.005≠0.01 en fila 498 / H1\n",
      "[Aviso] dt original 0.005≠0.01 en fila 498 / H2\n",
      "[Aviso] dt original 0.005≠0.01 en fila 498 / V\n",
      "[Aviso] dt original 0.004≠0.01 en fila 499 / H1\n",
      "[Aviso] dt original 0.004≠0.01 en fila 499 / H2\n",
      "[Aviso] dt original 0.004≠0.01 en fila 499 / V\n",
      "[Aviso] dt original 0.005≠0.01 en fila 500 / H1\n",
      "[Aviso] dt original 0.005≠0.01 en fila 500 / H2\n",
      "[Aviso] dt original 0.005≠0.01 en fila 500 / V\n",
      "[Aviso] dt original 0.005≠0.01 en fila 501 / H1\n",
      "[Aviso] dt original 0.005≠0.01 en fila 501 / H2\n",
      "[Aviso] dt original 0.005≠0.01 en fila 501 / V\n",
      "[Aviso] dt original 0.005≠0.01 en fila 502 / H1\n",
      "[Aviso] dt original 0.005≠0.01 en fila 502 / H2\n",
      "[Aviso] dt original 0.005≠0.01 en fila 502 / V\n",
      "[Aviso] dt original 0.004≠0.01 en fila 503 / H1\n",
      "[Aviso] dt original 0.004≠0.01 en fila 503 / H2\n",
      "[Aviso] dt original 0.004≠0.01 en fila 503 / V\n",
      "[Aviso] dt original 0.005≠0.01 en fila 504 / H1\n",
      "[Aviso] dt original 0.005≠0.01 en fila 504 / H2\n",
      "[Aviso] dt original 0.005≠0.01 en fila 504 / V\n",
      "[Aviso] dt original 0.005≠0.01 en fila 505 / H1\n",
      "[Aviso] dt original 0.005≠0.01 en fila 505 / H2\n",
      "[Aviso] dt original 0.005≠0.01 en fila 505 / V\n",
      "[Aviso] dt original 0.005≠0.01 en fila 506 / H1\n",
      "[Aviso] dt original 0.005≠0.01 en fila 506 / H2\n",
      "[Aviso] dt original 0.005≠0.01 en fila 506 / V\n",
      "[Aviso] dt original 0.005≠0.01 en fila 507 / H1\n",
      "[Aviso] dt original 0.005≠0.01 en fila 507 / H2\n",
      "[Aviso] dt original 0.005≠0.01 en fila 507 / V\n",
      "[Aviso] dt original 0.005≠0.01 en fila 508 / H1\n",
      "[Aviso] dt original 0.005≠0.01 en fila 508 / H2\n",
      "[Aviso] dt original 0.005≠0.01 en fila 508 / V\n",
      "[Aviso] dt original 0.005≠0.01 en fila 509 / H1\n",
      "[Aviso] dt original 0.005≠0.01 en fila 509 / H2\n",
      "[Aviso] dt original 0.005≠0.01 en fila 509 / V\n",
      "[Aviso] dt original 0.005≠0.01 en fila 510 / H1\n",
      "[Aviso] dt original 0.005≠0.01 en fila 510 / H2\n",
      "[Aviso] dt original 0.005≠0.01 en fila 510 / V\n",
      "[Aviso] dt original 0.004≠0.01 en fila 511 / H1\n",
      "[Aviso] dt original 0.004≠0.01 en fila 511 / H2\n",
      "[Aviso] dt original 0.004≠0.01 en fila 511 / V\n",
      "[Aviso] dt original 0.004≠0.01 en fila 512 / H1\n",
      "[Aviso] dt original 0.004≠0.01 en fila 512 / H2\n",
      "[Aviso] dt original 0.004≠0.01 en fila 512 / V\n",
      "[Aviso] dt original 0.004≠0.01 en fila 513 / H1\n",
      "[Aviso] dt original 0.004≠0.01 en fila 513 / H2\n",
      "[Aviso] dt original 0.004≠0.01 en fila 513 / V\n",
      "[Aviso] dt original 0.005≠0.01 en fila 514 / H1\n",
      "[Aviso] dt original 0.005≠0.01 en fila 514 / H2\n",
      "[Aviso] dt original 0.005≠0.01 en fila 514 / V\n",
      "[Aviso] dt original 0.005≠0.01 en fila 515 / H1\n",
      "[Aviso] dt original 0.005≠0.01 en fila 515 / H2\n",
      "[Aviso] dt original 0.005≠0.01 en fila 515 / V\n",
      "[Aviso] dt original 0.005≠0.01 en fila 516 / H1\n",
      "[Aviso] dt original 0.005≠0.01 en fila 516 / H2\n",
      "[Aviso] dt original 0.005≠0.01 en fila 516 / V\n",
      "[Aviso] dt original 0.004≠0.01 en fila 517 / H1\n",
      "[Aviso] dt original 0.004≠0.01 en fila 517 / H2\n",
      "[Aviso] dt original 0.004≠0.01 en fila 517 / V\n",
      "[Aviso] dt original 0.005≠0.01 en fila 518 / H1\n",
      "[Aviso] dt original 0.005≠0.01 en fila 518 / H2\n",
      "[Aviso] dt original 0.005≠0.01 en fila 518 / V\n",
      "[Aviso] dt original 0.005≠0.01 en fila 519 / H1\n",
      "[Aviso] dt original 0.005≠0.01 en fila 519 / H2\n",
      "[Aviso] dt original 0.005≠0.01 en fila 519 / V\n",
      "[Aviso] dt original 0.005≠0.01 en fila 520 / H1\n",
      "[Aviso] dt original 0.005≠0.01 en fila 520 / H2\n",
      "[Aviso] dt original 0.005≠0.01 en fila 520 / V\n",
      "[Aviso] dt original 0.005≠0.01 en fila 521 / H1\n",
      "[Aviso] dt original 0.005≠0.01 en fila 521 / H2\n",
      "[Aviso] dt original 0.005≠0.01 en fila 521 / V\n",
      "[Aviso] dt original 0.005≠0.01 en fila 522 / H1\n",
      "[Aviso] dt original 0.005≠0.01 en fila 522 / H2\n",
      "[Aviso] dt original 0.005≠0.01 en fila 522 / V\n",
      "[Aviso] dt original 0.005≠0.01 en fila 523 / H1\n",
      "[Aviso] dt original 0.005≠0.01 en fila 523 / H2\n",
      "[Aviso] dt original 0.005≠0.01 en fila 523 / V\n",
      "[Aviso] dt original 0.02≠0.01 en fila 524 / H1\n",
      "[Aviso] dt original 0.02≠0.01 en fila 524 / H2\n",
      "[Aviso] dt original 0.02≠0.01 en fila 524 / V\n",
      "[Aviso] dt original 0.02≠0.01 en fila 525 / H1\n",
      "[Aviso] dt original 0.02≠0.01 en fila 525 / H2\n",
      "[Aviso] dt original 0.02≠0.01 en fila 525 / V\n",
      "[Aviso] dt original 0.02≠0.01 en fila 527 / H1\n",
      "[Aviso] dt original 0.02≠0.01 en fila 527 / H2\n",
      "[Aviso] dt original 0.02≠0.01 en fila 527 / V\n",
      "[Aviso] dt original 0.02≠0.01 en fila 529 / H1\n",
      "[Aviso] dt original 0.02≠0.01 en fila 529 / H2\n",
      "[Aviso] dt original 0.02≠0.01 en fila 529 / V\n",
      "[Aviso] dt original 0.02≠0.01 en fila 531 / H1\n",
      "[Aviso] dt original 0.02≠0.01 en fila 531 / H2\n",
      "[Aviso] dt original 0.02≠0.01 en fila 531 / V\n",
      "[Aviso] dt original 0.02≠0.01 en fila 532 / H1\n",
      "[Aviso] dt original 0.02≠0.01 en fila 532 / H2\n",
      "[Aviso] dt original 0.02≠0.01 en fila 532 / V\n",
      "[Aviso] dt original 0.005≠0.01 en fila 534 / H1\n",
      "[Aviso] dt original 0.005≠0.01 en fila 534 / H2\n",
      "[Aviso] dt original 0.005≠0.01 en fila 534 / V\n",
      "[Aviso] dt original 0.005≠0.01 en fila 535 / H1\n",
      "[Aviso] dt original 0.005≠0.01 en fila 535 / H2\n",
      "[Aviso] dt original 0.005≠0.01 en fila 535 / V\n",
      "[Aviso] dt original 0.0078≠0.01 en fila 536 / H1\n",
      "[Aviso] dt original 0.0078≠0.01 en fila 536 / H2\n",
      "[Aviso] dt original 0.0078≠0.01 en fila 536 / V\n",
      "[Aviso] dt original 0.005≠0.01 en fila 539 / H1\n",
      "[Aviso] dt original 0.005≠0.01 en fila 539 / H2\n",
      "[Aviso] dt original 0.005≠0.01 en fila 539 / V\n",
      "[Aviso] dt original 0.02≠0.01 en fila 540 / H1\n",
      "[Aviso] dt original 0.02≠0.01 en fila 540 / H2\n",
      "[Aviso] dt original 0.02≠0.01 en fila 540 / V\n",
      "[Aviso] dt original 0.005≠0.01 en fila 541 / H1\n",
      "[Aviso] dt original 0.005≠0.01 en fila 541 / H2\n",
      "[Aviso] dt original 0.005≠0.01 en fila 541 / V\n",
      "[Aviso] dt original 0.005≠0.01 en fila 542 / H1\n",
      "[Aviso] dt original 0.005≠0.01 en fila 542 / H2\n",
      "[Aviso] dt original 0.005≠0.01 en fila 542 / V\n",
      "[Aviso] dt original 0.005≠0.01 en fila 543 / H1\n",
      "[Aviso] dt original 0.005≠0.01 en fila 543 / H2\n",
      "[Aviso] dt original 0.005≠0.01 en fila 543 / V\n",
      "[Aviso] dt original 0.005≠0.01 en fila 545 / H1\n",
      "[Aviso] dt original 0.005≠0.01 en fila 545 / H2\n",
      "[Aviso] dt original 0.005≠0.01 en fila 545 / V\n",
      "[Aviso] dt original 0.005≠0.01 en fila 546 / H1\n",
      "[Aviso] dt original 0.005≠0.01 en fila 546 / H2\n",
      "[Aviso] dt original 0.005≠0.01 en fila 546 / V\n",
      "[Aviso] dt original 0.02≠0.01 en fila 547 / H1\n",
      "[Aviso] dt original 0.02≠0.01 en fila 547 / H2\n",
      "[Aviso] dt original 0.02≠0.01 en fila 547 / V\n",
      "[Aviso] dt original 0.005≠0.01 en fila 548 / H1\n",
      "[Aviso] dt original 0.005≠0.01 en fila 548 / H2\n",
      "[Aviso] dt original 0.005≠0.01 en fila 548 / V\n",
      "[Aviso] dt original 0.005≠0.01 en fila 549 / H1\n",
      "[Aviso] dt original 0.005≠0.01 en fila 549 / H2\n",
      "[Aviso] dt original 0.005≠0.01 en fila 549 / V\n",
      "[Aviso] dt original 0.005≠0.01 en fila 550 / H1\n",
      "[Aviso] dt original 0.005≠0.01 en fila 550 / H2\n",
      "[Aviso] dt original 0.005≠0.01 en fila 550 / V\n",
      "[Aviso] dt original 0.005≠0.01 en fila 551 / H1\n",
      "[Aviso] dt original 0.005≠0.01 en fila 551 / H2\n",
      "[Aviso] dt original 0.005≠0.01 en fila 551 / V\n",
      "[Aviso] dt original 0.005≠0.01 en fila 552 / H1\n",
      "[Aviso] dt original 0.005≠0.01 en fila 552 / H2\n",
      "[Aviso] dt original 0.005≠0.01 en fila 552 / V\n",
      "[Aviso] dt original 0.004≠0.01 en fila 553 / H1\n",
      "[Aviso] dt original 0.004≠0.01 en fila 553 / H2\n",
      "[Aviso] dt original 0.004≠0.01 en fila 553 / V\n",
      "[Aviso] dt original 0.005≠0.01 en fila 554 / H1\n",
      "[Aviso] dt original 0.005≠0.01 en fila 554 / H2\n",
      "[Aviso] dt original 0.005≠0.01 en fila 554 / V\n",
      "[Aviso] dt original 0.005≠0.01 en fila 555 / H1\n",
      "[Aviso] dt original 0.005≠0.01 en fila 555 / H2\n",
      "[Aviso] dt original 0.005≠0.01 en fila 555 / V\n",
      "[Aviso] dt original 0.005≠0.01 en fila 556 / H1\n",
      "[Aviso] dt original 0.005≠0.01 en fila 556 / H2\n",
      "[Aviso] dt original 0.005≠0.01 en fila 556 / V\n",
      "[Aviso] dt original 0.005≠0.01 en fila 557 / H1\n",
      "[Aviso] dt original 0.005≠0.01 en fila 557 / H2\n",
      "[Aviso] dt original 0.005≠0.01 en fila 557 / V\n",
      "[Aviso] dt original 0.005≠0.01 en fila 558 / H1\n",
      "[Aviso] dt original 0.005≠0.01 en fila 558 / H2\n",
      "[Aviso] dt original 0.005≠0.01 en fila 558 / V\n",
      "[Aviso] dt original 0.005≠0.01 en fila 559 / H1\n",
      "[Aviso] dt original 0.005≠0.01 en fila 559 / H2\n",
      "[Aviso] dt original 0.005≠0.01 en fila 559 / V\n",
      "[Aviso] dt original 0.004≠0.01 en fila 560 / H1\n",
      "[Aviso] dt original 0.004≠0.01 en fila 560 / H2\n",
      "[Aviso] dt original 0.004≠0.01 en fila 560 / V\n",
      "[Aviso] dt original 0.005≠0.01 en fila 561 / H1\n",
      "[Aviso] dt original 0.005≠0.01 en fila 561 / H2\n",
      "[Aviso] dt original 0.005≠0.01 en fila 561 / V\n",
      "[Aviso] dt original 0.005≠0.01 en fila 562 / H1\n",
      "[Aviso] dt original 0.005≠0.01 en fila 562 / H2\n",
      "[Aviso] dt original 0.005≠0.01 en fila 562 / V\n",
      "[Aviso] dt original 0.004≠0.01 en fila 563 / H1\n",
      "[Aviso] dt original 0.004≠0.01 en fila 563 / H2\n",
      "[Aviso] dt original 0.004≠0.01 en fila 563 / V\n",
      "[Aviso] dt original 0.005≠0.01 en fila 564 / H1\n",
      "[Aviso] dt original 0.005≠0.01 en fila 564 / H2\n",
      "[Aviso] dt original 0.005≠0.01 en fila 564 / V\n",
      "[Aviso] dt original 0.005≠0.01 en fila 565 / H1\n",
      "[Aviso] dt original 0.005≠0.01 en fila 565 / H2\n",
      "[Aviso] dt original 0.005≠0.01 en fila 565 / V\n",
      "[Aviso] dt original 0.005≠0.01 en fila 566 / H1\n",
      "[Aviso] dt original 0.005≠0.01 en fila 566 / H2\n",
      "[Aviso] dt original 0.005≠0.01 en fila 566 / V\n",
      "[Aviso] dt original 0.005≠0.01 en fila 567 / H1\n",
      "[Aviso] dt original 0.005≠0.01 en fila 567 / H2\n",
      "[Aviso] dt original 0.005≠0.01 en fila 567 / V\n",
      "[Aviso] dt original 0.005≠0.01 en fila 568 / H1\n",
      "[Aviso] dt original 0.005≠0.01 en fila 568 / H2\n",
      "[Aviso] dt original 0.005≠0.01 en fila 568 / V\n",
      "[Aviso] dt original 0.005≠0.01 en fila 569 / H1\n",
      "[Aviso] dt original 0.005≠0.01 en fila 569 / H2\n",
      "[Aviso] dt original 0.005≠0.01 en fila 569 / V\n",
      "[Aviso] dt original 0.005≠0.01 en fila 570 / H1\n",
      "[Aviso] dt original 0.005≠0.01 en fila 570 / H2\n",
      "[Aviso] dt original 0.005≠0.01 en fila 570 / V\n",
      "[Aviso] dt original 0.004≠0.01 en fila 571 / H1\n",
      "[Aviso] dt original 0.004≠0.01 en fila 571 / H2\n",
      "[Aviso] dt original 0.004≠0.01 en fila 571 / V\n",
      "[Aviso] dt original 0.004≠0.01 en fila 572 / H1\n",
      "[Aviso] dt original 0.004≠0.01 en fila 572 / H2\n",
      "[Aviso] dt original 0.004≠0.01 en fila 572 / V\n",
      "[Aviso] dt original 0.005≠0.01 en fila 573 / H1\n",
      "[Aviso] dt original 0.005≠0.01 en fila 573 / H2\n",
      "[Aviso] dt original 0.005≠0.01 en fila 573 / V\n",
      "[Aviso] dt original 0.005≠0.01 en fila 574 / H1\n",
      "[Aviso] dt original 0.005≠0.01 en fila 574 / H2\n",
      "[Aviso] dt original 0.005≠0.01 en fila 574 / V\n",
      "[Aviso] dt original 0.005≠0.01 en fila 575 / H1\n",
      "[Aviso] dt original 0.005≠0.01 en fila 575 / H2\n",
      "[Aviso] dt original 0.005≠0.01 en fila 575 / V\n",
      "[Aviso] dt original 0.005≠0.01 en fila 576 / H1\n",
      "[Aviso] dt original 0.005≠0.01 en fila 576 / H2\n",
      "[Aviso] dt original 0.005≠0.01 en fila 576 / V\n",
      "[Aviso] dt original 0.005≠0.01 en fila 577 / H1\n",
      "[Aviso] dt original 0.005≠0.01 en fila 577 / H2\n",
      "[Aviso] dt original 0.005≠0.01 en fila 577 / V\n",
      "[Aviso] dt original 0.004≠0.01 en fila 578 / H1\n",
      "[Aviso] dt original 0.004≠0.01 en fila 578 / H2\n",
      "[Aviso] dt original 0.004≠0.01 en fila 578 / V\n",
      "[Aviso] dt original 0.004≠0.01 en fila 579 / H1\n",
      "[Aviso] dt original 0.004≠0.01 en fila 579 / H2\n",
      "[Aviso] dt original 0.004≠0.01 en fila 579 / V\n",
      "[Aviso] dt original 0.005≠0.01 en fila 580 / H1\n",
      "[Aviso] dt original 0.005≠0.01 en fila 580 / H2\n",
      "[Aviso] dt original 0.005≠0.01 en fila 580 / V\n",
      "[Aviso] dt original 0.005≠0.01 en fila 585 / H1\n",
      "[Aviso] dt original 0.005≠0.01 en fila 585 / H2\n",
      "[Aviso] dt original 0.005≠0.01 en fila 585 / V\n",
      "[Aviso] dt original 0.005≠0.01 en fila 586 / H1\n",
      "[Aviso] dt original 0.005≠0.01 en fila 586 / H2\n",
      "[Aviso] dt original 0.005≠0.01 en fila 586 / V\n",
      "[Aviso] dt original 0.005≠0.01 en fila 587 / H1\n",
      "[Aviso] dt original 0.005≠0.01 en fila 587 / H2\n",
      "[Aviso] dt original 0.005≠0.01 en fila 587 / V\n",
      "[Aviso] dt original 0.005≠0.01 en fila 588 / H1\n",
      "[Aviso] dt original 0.005≠0.01 en fila 588 / H2\n",
      "[Aviso] dt original 0.005≠0.01 en fila 588 / V\n",
      "[Aviso] dt original 0.005≠0.01 en fila 589 / H1\n",
      "[Aviso] dt original 0.005≠0.01 en fila 589 / H2\n",
      "[Aviso] dt original 0.005≠0.01 en fila 589 / V\n",
      "[Aviso] dt original 0.005≠0.01 en fila 590 / H1\n",
      "[Aviso] dt original 0.005≠0.01 en fila 590 / H2\n",
      "[Aviso] dt original 0.005≠0.01 en fila 590 / V\n",
      "[Aviso] dt original 0.005≠0.01 en fila 591 / H1\n",
      "[Aviso] dt original 0.005≠0.01 en fila 591 / H2\n",
      "[Aviso] dt original 0.005≠0.01 en fila 591 / V\n",
      "[Aviso] dt original 0.005≠0.01 en fila 595 / H1\n",
      "[Aviso] dt original 0.005≠0.01 en fila 595 / H2\n",
      "[Aviso] dt original 0.005≠0.01 en fila 595 / V\n",
      "[Aviso] dt original 0.005≠0.01 en fila 596 / H1\n",
      "[Aviso] dt original 0.005≠0.01 en fila 596 / H2\n",
      "[Aviso] dt original 0.005≠0.01 en fila 596 / V\n",
      "[Aviso] dt original 0.005≠0.01 en fila 597 / H1\n",
      "[Aviso] dt original 0.005≠0.01 en fila 597 / H2\n",
      "[Aviso] dt original 0.005≠0.01 en fila 597 / V\n",
      "[Aviso] dt original 0.005≠0.01 en fila 598 / H1\n",
      "[Aviso] dt original 0.005≠0.01 en fila 598 / H2\n",
      "[Aviso] dt original 0.005≠0.01 en fila 598 / V\n",
      "[Aviso] dt original 0.005≠0.01 en fila 599 / H1\n",
      "[Aviso] dt original 0.005≠0.01 en fila 599 / H2\n",
      "[Aviso] dt original 0.005≠0.01 en fila 599 / V\n",
      "[Aviso] dt original 0.005≠0.01 en fila 600 / H1\n",
      "[Aviso] dt original 0.005≠0.01 en fila 600 / H2\n",
      "[Aviso] dt original 0.005≠0.01 en fila 600 / V\n",
      "[Aviso] dt original 0.005≠0.01 en fila 601 / H1\n",
      "[Aviso] dt original 0.005≠0.01 en fila 601 / H2\n",
      "[Aviso] dt original 0.005≠0.01 en fila 601 / V\n",
      "[Aviso] dt original 0.005≠0.01 en fila 602 / H1\n",
      "[Aviso] dt original 0.005≠0.01 en fila 602 / H2\n",
      "[Aviso] dt original 0.005≠0.01 en fila 602 / V\n",
      "[Aviso] dt original 0.005≠0.01 en fila 603 / H1\n",
      "[Aviso] dt original 0.005≠0.01 en fila 603 / H2\n",
      "[Aviso] dt original 0.005≠0.01 en fila 603 / V\n",
      "[Aviso] dt original 0.02≠0.01 en fila 604 / H1\n",
      "[Aviso] dt original 0.02≠0.01 en fila 604 / H2\n",
      "[Aviso] dt original 0.02≠0.01 en fila 604 / V\n",
      "[Aviso] dt original 0.00244≠0.01 en fila 605 / H1\n",
      "[Aviso] dt original 0.00244≠0.01 en fila 605 / H2\n",
      "[Aviso] dt original 0.00244≠0.01 en fila 605 / V\n",
      "[Aviso] dt original 0.00244≠0.01 en fila 606 / H1\n",
      "[Aviso] dt original 0.00244≠0.01 en fila 606 / H2\n",
      "[Aviso] dt original 0.00244≠0.01 en fila 606 / V\n",
      "[Aviso] dt original 0.0024≠0.01 en fila 614 / H1\n",
      "[Aviso] dt original 0.0024≠0.01 en fila 614 / H2\n",
      "[Aviso] dt original 0.0024≠0.01 en fila 614 / V\n",
      "[Aviso] dt original 0.0024≠0.01 en fila 615 / H1\n",
      "[Aviso] dt original 0.0024≠0.01 en fila 615 / H2\n",
      "[Aviso] dt original 0.0024≠0.01 en fila 615 / V\n",
      "[Aviso] dt original 0.0024≠0.01 en fila 616 / H1\n",
      "[Aviso] dt original 0.0024≠0.01 en fila 616 / H2\n",
      "[Aviso] dt original 0.0024≠0.01 en fila 616 / V\n",
      "[Aviso] dt original 0.0024≠0.01 en fila 617 / H1\n",
      "[Aviso] dt original 0.0024≠0.01 en fila 617 / H2\n",
      "[Aviso] dt original 0.0024≠0.01 en fila 617 / V\n",
      "[Aviso] dt original 0.02≠0.01 en fila 618 / H1\n",
      "[Aviso] dt original 0.02≠0.01 en fila 618 / H2\n",
      "[Aviso] dt original 0.02≠0.01 en fila 618 / V\n",
      "[Aviso] dt original 0.005≠0.01 en fila 619 / H1\n",
      "[Aviso] dt original 0.005≠0.01 en fila 619 / H2\n",
      "[Aviso] dt original 0.005≠0.01 en fila 619 / V\n",
      "[Aviso] dt original 0.005≠0.01 en fila 620 / H1\n",
      "[Aviso] dt original 0.005≠0.01 en fila 620 / H2\n",
      "[Aviso] dt original 0.005≠0.01 en fila 620 / V\n",
      "[Aviso] dt original 0.005≠0.01 en fila 621 / H1\n",
      "[Aviso] dt original 0.005≠0.01 en fila 621 / H2\n",
      "[Aviso] dt original 0.005≠0.01 en fila 621 / V\n",
      "[Aviso] dt original 0.005≠0.01 en fila 622 / H1\n",
      "[Aviso] dt original 0.005≠0.01 en fila 622 / H2\n",
      "[Aviso] dt original 0.005≠0.01 en fila 622 / V\n",
      "[Aviso] dt original 0.02≠0.01 en fila 623 / H1\n",
      "[Aviso] dt original 0.02≠0.01 en fila 623 / H2\n",
      "[Aviso] dt original 0.02≠0.01 en fila 623 / V\n",
      "[Aviso] dt original 0.02≠0.01 en fila 624 / H1\n",
      "[Aviso] dt original 0.02≠0.01 en fila 624 / H2\n",
      "[Aviso] dt original 0.02≠0.01 en fila 624 / V\n",
      "[Aviso] dt original 0.02≠0.01 en fila 625 / H1\n",
      "[Aviso] dt original 0.02≠0.01 en fila 625 / H2\n",
      "[Aviso] dt original 0.02≠0.01 en fila 625 / V\n",
      "[Aviso] dt original 0.02≠0.01 en fila 626 / H1\n",
      "[Aviso] dt original 0.02≠0.01 en fila 626 / H2\n",
      "[Aviso] dt original 0.02≠0.01 en fila 626 / V\n",
      "[Aviso] dt original 0.005≠0.01 en fila 627 / H1\n",
      "[Aviso] dt original 0.005≠0.01 en fila 627 / H2\n",
      "[Aviso] dt original 0.005≠0.01 en fila 627 / V\n",
      "[Aviso] dt original 0.005≠0.01 en fila 629 / H1\n",
      "[Aviso] dt original 0.005≠0.01 en fila 629 / H2\n",
      "[Aviso] dt original 0.005≠0.01 en fila 629 / V\n",
      "[Aviso] dt original 0.005≠0.01 en fila 630 / H1\n",
      "[Aviso] dt original 0.005≠0.01 en fila 630 / H2\n",
      "[Aviso] dt original 0.005≠0.01 en fila 630 / V\n",
      "[Aviso] dt original 0.005≠0.01 en fila 631 / H1\n",
      "[Aviso] dt original 0.005≠0.01 en fila 631 / H2\n",
      "[Aviso] dt original 0.005≠0.01 en fila 631 / V\n",
      "[Aviso] dt original 0.005≠0.01 en fila 634 / H1\n",
      "[Aviso] dt original 0.005≠0.01 en fila 634 / H2\n",
      "[Aviso] dt original 0.005≠0.01 en fila 634 / V\n",
      "[Aviso] dt original 0.005≠0.01 en fila 635 / H1\n",
      "[Aviso] dt original 0.005≠0.01 en fila 635 / H2\n",
      "[Aviso] dt original 0.005≠0.01 en fila 635 / V\n",
      "[Aviso] dt original 0.005≠0.01 en fila 636 / H1\n",
      "[Aviso] dt original 0.005≠0.01 en fila 636 / H2\n",
      "[Aviso] dt original 0.005≠0.01 en fila 636 / V\n",
      "[Aviso] dt original 0.005≠0.01 en fila 637 / H1\n",
      "[Aviso] dt original 0.005≠0.01 en fila 637 / H2\n",
      "[Aviso] dt original 0.005≠0.01 en fila 637 / V\n",
      "[Aviso] dt original 0.005≠0.01 en fila 641 / H1\n",
      "[Aviso] dt original 0.005≠0.01 en fila 641 / H2\n",
      "[Aviso] dt original 0.005≠0.01 en fila 641 / V\n",
      "[Aviso] dt original 0.005≠0.01 en fila 643 / H1\n",
      "[Aviso] dt original 0.005≠0.01 en fila 643 / H2\n",
      "[Aviso] dt original 0.005≠0.01 en fila 643 / V\n",
      "[Aviso] dt original 0.005≠0.01 en fila 645 / H1\n",
      "[Aviso] dt original 0.005≠0.01 en fila 645 / H2\n",
      "[Aviso] dt original 0.005≠0.01 en fila 645 / V\n",
      "[Aviso] dt original 0.005≠0.01 en fila 648 / H1\n",
      "[Aviso] dt original 0.005≠0.01 en fila 648 / H2\n",
      "[Aviso] dt original 0.005≠0.01 en fila 648 / V\n",
      "[Aviso] dt original 0.005≠0.01 en fila 649 / H1\n",
      "[Aviso] dt original 0.005≠0.01 en fila 649 / H2\n",
      "[Aviso] dt original 0.005≠0.01 en fila 649 / V\n",
      "[Aviso] dt original 0.005≠0.01 en fila 653 / H1\n",
      "[Aviso] dt original 0.005≠0.01 en fila 653 / H2\n",
      "[Aviso] dt original 0.005≠0.01 en fila 653 / V\n",
      "[Aviso] dt original 0.005≠0.01 en fila 654 / H1\n",
      "[Aviso] dt original 0.005≠0.01 en fila 654 / H2\n",
      "[Aviso] dt original 0.005≠0.01 en fila 654 / V\n",
      "[Aviso] dt original 0.005≠0.01 en fila 656 / H1\n",
      "[Aviso] dt original 0.005≠0.01 en fila 656 / H2\n",
      "[Aviso] dt original 0.005≠0.01 en fila 656 / V\n",
      "[Aviso] dt original 0.005≠0.01 en fila 657 / H1\n",
      "[Aviso] dt original 0.005≠0.01 en fila 657 / H2\n",
      "[Aviso] dt original 0.005≠0.01 en fila 657 / V\n",
      "[Aviso] dt original 0.005≠0.01 en fila 665 / H1\n",
      "[Aviso] dt original 0.005≠0.01 en fila 665 / H2\n",
      "[Aviso] dt original 0.005≠0.01 en fila 665 / V\n",
      "[Aviso] dt original 0.005≠0.01 en fila 666 / H1\n",
      "[Aviso] dt original 0.005≠0.01 en fila 666 / H2\n",
      "[Aviso] dt original 0.005≠0.01 en fila 666 / V\n",
      "[Aviso] dt original 0.005≠0.01 en fila 667 / H1\n",
      "[Aviso] dt original 0.005≠0.01 en fila 667 / H2\n",
      "[Aviso] dt original 0.005≠0.01 en fila 667 / V\n",
      "[Aviso] dt original 0.005≠0.01 en fila 668 / H1\n",
      "[Aviso] dt original 0.005≠0.01 en fila 668 / H2\n",
      "[Aviso] dt original 0.005≠0.01 en fila 668 / V\n",
      "[Aviso] dt original 0.005≠0.01 en fila 669 / H1\n",
      "[Aviso] dt original 0.005≠0.01 en fila 669 / H2\n",
      "[Aviso] dt original 0.005≠0.01 en fila 669 / V\n",
      "[Aviso] dt original 0.00244≠0.01 en fila 673 / H1\n",
      "[Aviso] dt original 0.00244≠0.01 en fila 673 / H2\n",
      "[Aviso] dt original 0.00244≠0.01 en fila 673 / V\n",
      "[Aviso] dt original 0.005≠0.01 en fila 698 / H1\n",
      "[Aviso] dt original 0.005≠0.01 en fila 698 / H2\n",
      "[Aviso] dt original 0.005≠0.01 en fila 698 / V\n",
      "[Aviso] dt original 0.005≠0.01 en fila 699 / H1\n",
      "[Aviso] dt original 0.005≠0.01 en fila 699 / H2\n",
      "[Aviso] dt original 0.005≠0.01 en fila 699 / V\n",
      "[Aviso] dt original 0.005≠0.01 en fila 700 / H1\n",
      "[Aviso] dt original 0.005≠0.01 en fila 700 / H2\n",
      "[Aviso] dt original 0.005≠0.01 en fila 700 / V\n",
      "[Aviso] dt original 0.005≠0.01 en fila 701 / H1\n",
      "[Aviso] dt original 0.005≠0.01 en fila 701 / H2\n",
      "[Aviso] dt original 0.005≠0.01 en fila 701 / V\n",
      "[Aviso] dt original 0.005≠0.01 en fila 702 / H1\n",
      "[Aviso] dt original 0.005≠0.01 en fila 702 / H2\n",
      "[Aviso] dt original 0.005≠0.01 en fila 702 / V\n",
      "[Aviso] dt original 0.005≠0.01 en fila 703 / H1\n",
      "[Aviso] dt original 0.005≠0.01 en fila 703 / H2\n",
      "[Aviso] dt original 0.005≠0.01 en fila 703 / V\n",
      "[Aviso] dt original 0.002≠0.01 en fila 706 / H1\n",
      "[Aviso] dt original 0.002≠0.01 en fila 706 / H2\n",
      "[Aviso] dt original 0.002≠0.01 en fila 706 / V\n",
      "[Aviso] dt original 0.002≠0.01 en fila 707 / H1\n",
      "[Aviso] dt original 0.002≠0.01 en fila 707 / H2\n",
      "[Aviso] dt original 0.002≠0.01 en fila 707 / V\n",
      "[Aviso] dt original 0.002≠0.01 en fila 708 / H1\n",
      "[Aviso] dt original 0.002≠0.01 en fila 708 / H2\n",
      "[Aviso] dt original 0.002≠0.01 en fila 708 / V\n",
      "[Aviso] dt original 0.0024≠0.01 en fila 709 / H1\n",
      "[Aviso] dt original 0.0024≠0.01 en fila 709 / H2\n",
      "[Aviso] dt original 0.0024≠0.01 en fila 709 / V\n",
      "[Aviso] dt original 0.00244≠0.01 en fila 710 / H1\n",
      "[Aviso] dt original 0.00244≠0.01 en fila 710 / H2\n",
      "[Aviso] dt original 0.00244≠0.01 en fila 710 / V\n",
      "[Aviso] dt original 0.00244≠0.01 en fila 711 / H1\n",
      "[Aviso] dt original 0.00244≠0.01 en fila 711 / H2\n",
      "[Aviso] dt original 0.00244≠0.01 en fila 711 / V\n",
      "[Aviso] dt original 0.00244≠0.01 en fila 712 / H1\n",
      "[Aviso] dt original 0.00244≠0.01 en fila 712 / H2\n",
      "[Aviso] dt original 0.00244≠0.01 en fila 712 / V\n",
      "[Aviso] dt original 0.00244≠0.01 en fila 713 / H1\n",
      "[Aviso] dt original 0.00244≠0.01 en fila 713 / H2\n",
      "[Aviso] dt original 0.00244≠0.01 en fila 713 / V\n",
      "[Aviso] dt original 0.0024≠0.01 en fila 714 / H1\n",
      "[Aviso] dt original 0.0024≠0.01 en fila 714 / H2\n",
      "[Aviso] dt original 0.0024≠0.01 en fila 714 / V\n",
      "[Aviso] dt original 0.0024≠0.01 en fila 715 / H1\n",
      "[Aviso] dt original 0.0024≠0.01 en fila 715 / H2\n",
      "[Aviso] dt original 0.0024≠0.01 en fila 715 / V\n",
      "[Aviso] dt original 0.0024≠0.01 en fila 716 / H1\n",
      "[Aviso] dt original 0.0024≠0.01 en fila 716 / H2\n",
      "[Aviso] dt original 0.0024≠0.01 en fila 716 / V\n",
      "[Aviso] dt original 0.0024≠0.01 en fila 717 / H1\n",
      "[Aviso] dt original 0.0024≠0.01 en fila 717 / H2\n",
      "[Aviso] dt original 0.0024≠0.01 en fila 717 / V\n",
      "[Aviso] dt original 0.0028≠0.01 en fila 718 / H1\n",
      "[Aviso] dt original 0.0028≠0.01 en fila 718 / H2\n",
      "[Aviso] dt original 0.0028≠0.01 en fila 718 / V\n",
      "[Aviso] dt original 0.0028≠0.01 en fila 719 / H1\n",
      "[Aviso] dt original 0.0028≠0.01 en fila 719 / H2\n",
      "[Aviso] dt original 0.0028≠0.01 en fila 719 / V\n",
      "[Aviso] dt original 0.005≠0.01 en fila 720 / H1\n",
      "[Aviso] dt original 0.005≠0.01 en fila 720 / H2\n",
      "[Aviso] dt original 0.005≠0.01 en fila 720 / V\n",
      "[Aviso] dt original 0.005≠0.01 en fila 721 / H1\n",
      "[Aviso] dt original 0.005≠0.01 en fila 721 / H2\n",
      "[Aviso] dt original 0.005≠0.01 en fila 721 / V\n",
      "[Aviso] dt original 0.005≠0.01 en fila 722 / H1\n",
      "[Aviso] dt original 0.005≠0.01 en fila 722 / H2\n",
      "[Aviso] dt original 0.005≠0.01 en fila 722 / V\n",
      "[Aviso] dt original 0.005≠0.01 en fila 723 / H1\n",
      "[Aviso] dt original 0.005≠0.01 en fila 723 / H2\n",
      "[Aviso] dt original 0.005≠0.01 en fila 723 / V\n",
      "[Aviso] dt original 0.005≠0.01 en fila 724 / H1\n",
      "[Aviso] dt original 0.005≠0.01 en fila 724 / H2\n",
      "[Aviso] dt original 0.005≠0.01 en fila 724 / V\n",
      "[Aviso] dt original 0.005≠0.01 en fila 725 / H1\n",
      "[Aviso] dt original 0.005≠0.01 en fila 725 / H2\n",
      "[Aviso] dt original 0.005≠0.01 en fila 725 / V\n",
      "[Aviso] dt original 0.005≠0.01 en fila 726 / H1\n",
      "[Aviso] dt original 0.005≠0.01 en fila 726 / H2\n",
      "[Aviso] dt original 0.005≠0.01 en fila 726 / V\n",
      "[Aviso] dt original 0.02≠0.01 en fila 727 / H1\n",
      "[Aviso] dt original 0.02≠0.01 en fila 727 / H2\n",
      "[Aviso] dt original 0.02≠0.01 en fila 727 / V\n",
      "[Aviso] dt original 0.02≠0.01 en fila 728 / H1\n",
      "[Aviso] dt original 0.02≠0.01 en fila 728 / H2\n",
      "[Aviso] dt original 0.02≠0.01 en fila 728 / V\n",
      "[Aviso] dt original 0.005≠0.01 en fila 729 / H1\n",
      "[Aviso] dt original 0.005≠0.01 en fila 729 / H2\n",
      "[Aviso] dt original 0.005≠0.01 en fila 729 / V\n",
      "[Aviso] dt original 0.005≠0.01 en fila 730 / H1\n",
      "[Aviso] dt original 0.005≠0.01 en fila 730 / H2\n",
      "[Aviso] dt original 0.005≠0.01 en fila 730 / V\n",
      "[Aviso] dt original 0.005≠0.01 en fila 731 / H1\n",
      "[Aviso] dt original 0.005≠0.01 en fila 731 / H2\n",
      "[Aviso] dt original 0.005≠0.01 en fila 731 / V\n",
      "[Aviso] dt original 0.005≠0.01 en fila 732 / H1\n",
      "[Aviso] dt original 0.005≠0.01 en fila 732 / H2\n",
      "[Aviso] dt original 0.005≠0.01 en fila 732 / V\n",
      "[Aviso] dt original 0.005≠0.01 en fila 734 / H1\n",
      "[Aviso] dt original 0.005≠0.01 en fila 734 / H2\n",
      "[Aviso] dt original 0.005≠0.01 en fila 734 / V\n",
      "[Aviso] dt original 0.005≠0.01 en fila 737 / H1\n",
      "[Aviso] dt original 0.005≠0.01 en fila 737 / H2\n",
      "[Aviso] dt original 0.005≠0.01 en fila 737 / V\n",
      "[Aviso] dt original 0.005≠0.01 en fila 743 / H1\n",
      "[Aviso] dt original 0.005≠0.01 en fila 743 / H2\n",
      "[Aviso] dt original 0.005≠0.01 en fila 743 / V\n",
      "[Aviso] dt original 0.005≠0.01 en fila 746 / H1\n",
      "[Aviso] dt original 0.005≠0.01 en fila 746 / H2\n",
      "[Aviso] dt original 0.005≠0.01 en fila 746 / V\n",
      "[Aviso] dt original 0.005≠0.01 en fila 747 / H1\n",
      "[Aviso] dt original 0.005≠0.01 en fila 747 / H2\n",
      "[Aviso] dt original 0.005≠0.01 en fila 747 / V\n",
      "[Aviso] dt original 0.005≠0.01 en fila 748 / H1\n",
      "[Aviso] dt original 0.005≠0.01 en fila 748 / H2\n",
      "[Aviso] dt original 0.005≠0.01 en fila 748 / V\n",
      "[Aviso] dt original 0.005≠0.01 en fila 750 / H1\n",
      "[Aviso] dt original 0.005≠0.01 en fila 750 / H2\n",
      "[Aviso] dt original 0.005≠0.01 en fila 750 / V\n",
      "[Aviso] dt original 0.00244≠0.01 en fila 751 / H1\n",
      "[Aviso] dt original 0.00244≠0.01 en fila 751 / H2\n",
      "[Aviso] dt original 0.00244≠0.01 en fila 751 / V\n",
      "[Aviso] dt original 0.005≠0.01 en fila 752 / H1\n",
      "[Aviso] dt original 0.005≠0.01 en fila 752 / H2\n",
      "[Aviso] dt original 0.005≠0.01 en fila 752 / V\n",
      "[Aviso] dt original 0.00244≠0.01 en fila 753 / H1\n",
      "[Aviso] dt original 0.00244≠0.01 en fila 753 / H2\n",
      "[Aviso] dt original 0.00244≠0.01 en fila 753 / V\n",
      "[Aviso] dt original 0.00244≠0.01 en fila 754 / H1\n",
      "[Aviso] dt original 0.00244≠0.01 en fila 754 / H2\n",
      "[Aviso] dt original 0.00244≠0.01 en fila 754 / V\n",
      "[Aviso] dt original 0.0024≠0.01 en fila 755 / H1\n",
      "[Aviso] dt original 0.0024≠0.01 en fila 755 / H2\n",
      "[Aviso] dt original 0.0024≠0.01 en fila 755 / V\n",
      "[Aviso] dt original 0.00244≠0.01 en fila 756 / H1\n",
      "[Aviso] dt original 0.00244≠0.01 en fila 756 / H2\n",
      "[Aviso] dt original 0.00244≠0.01 en fila 756 / V\n",
      "[Aviso] dt original 0.00244≠0.01 en fila 757 / H1\n",
      "[Aviso] dt original 0.00244≠0.01 en fila 757 / H2\n",
      "[Aviso] dt original 0.00244≠0.01 en fila 757 / V\n",
      "[Aviso] dt original 0.005≠0.01 en fila 758 / H1\n",
      "[Aviso] dt original 0.005≠0.01 en fila 758 / H2\n",
      "[Aviso] dt original 0.005≠0.01 en fila 758 / V\n",
      "[Aviso] dt original 0.005≠0.01 en fila 759 / H1\n",
      "[Aviso] dt original 0.005≠0.01 en fila 759 / H2\n",
      "[Aviso] dt original 0.005≠0.01 en fila 759 / V\n",
      "[Aviso] dt original 0.005≠0.01 en fila 760 / H1\n",
      "[Aviso] dt original 0.005≠0.01 en fila 760 / H2\n",
      "[Aviso] dt original 0.005≠0.01 en fila 760 / V\n",
      "[Aviso] dt original 0.005≠0.01 en fila 761 / H1\n",
      "[Aviso] dt original 0.005≠0.01 en fila 761 / H2\n",
      "[Aviso] dt original 0.005≠0.01 en fila 761 / V\n",
      "[Aviso] dt original 0.005≠0.01 en fila 762 / H1\n",
      "[Aviso] dt original 0.005≠0.01 en fila 762 / H2\n",
      "[Aviso] dt original 0.005≠0.01 en fila 762 / V\n",
      "[Aviso] dt original 0.005≠0.01 en fila 763 / H1\n",
      "[Aviso] dt original 0.005≠0.01 en fila 763 / H2\n",
      "[Aviso] dt original 0.005≠0.01 en fila 763 / V\n",
      "[Aviso] dt original 0.005≠0.01 en fila 764 / H1\n",
      "[Aviso] dt original 0.005≠0.01 en fila 764 / H2\n",
      "[Aviso] dt original 0.005≠0.01 en fila 764 / V\n",
      "[Aviso] dt original 0.005≠0.01 en fila 765 / H1\n",
      "[Aviso] dt original 0.005≠0.01 en fila 765 / H2\n",
      "[Aviso] dt original 0.005≠0.01 en fila 765 / V\n",
      "[Aviso] dt original 0.005≠0.01 en fila 766 / H1\n",
      "[Aviso] dt original 0.005≠0.01 en fila 766 / H2\n",
      "[Aviso] dt original 0.005≠0.01 en fila 766 / V\n",
      "[Aviso] dt original 0.00244≠0.01 en fila 767 / H1\n",
      "[Aviso] dt original 0.00244≠0.01 en fila 767 / H2\n",
      "[Aviso] dt original 0.00244≠0.01 en fila 767 / V\n",
      "[Aviso] dt original 0.005≠0.01 en fila 768 / H1\n",
      "[Aviso] dt original 0.005≠0.01 en fila 768 / H2\n",
      "[Aviso] dt original 0.005≠0.01 en fila 768 / V\n",
      "[Aviso] dt original 0.00247≠0.01 en fila 769 / H1\n",
      "[Aviso] dt original 0.00247≠0.01 en fila 769 / H2\n",
      "[Aviso] dt original 0.00247≠0.01 en fila 769 / V\n",
      "[Aviso] dt original 0.005≠0.01 en fila 770 / H1\n",
      "[Aviso] dt original 0.005≠0.01 en fila 770 / H2\n",
      "[Aviso] dt original 0.005≠0.01 en fila 770 / V\n",
      "[Aviso] dt original 0.00244≠0.01 en fila 771 / H1\n",
      "[Aviso] dt original 0.00244≠0.01 en fila 771 / H2\n",
      "[Aviso] dt original 0.00244≠0.01 en fila 771 / V\n",
      "[Aviso] dt original 0.00244≠0.01 en fila 772 / H1\n",
      "[Aviso] dt original 0.00244≠0.01 en fila 772 / H2\n",
      "[Aviso] dt original 0.00244≠0.01 en fila 772 / V\n",
      "[Aviso] dt original 0.00247≠0.01 en fila 773 / H1\n",
      "[Aviso] dt original 0.00247≠0.01 en fila 773 / H2\n",
      "[Aviso] dt original 0.00247≠0.01 en fila 773 / V\n",
      "[Aviso] dt original 0.00244≠0.01 en fila 774 / H1\n",
      "[Aviso] dt original 0.00244≠0.01 en fila 774 / H2\n",
      "[Aviso] dt original 0.00244≠0.01 en fila 774 / V\n",
      "[Aviso] dt original 0.005≠0.01 en fila 775 / H1\n",
      "[Aviso] dt original 0.005≠0.01 en fila 775 / H2\n",
      "[Aviso] dt original 0.005≠0.01 en fila 775 / V\n",
      "[Aviso] dt original 0.00244≠0.01 en fila 776 / H1\n",
      "[Aviso] dt original 0.00244≠0.01 en fila 776 / H2\n",
      "[Aviso] dt original 0.00244≠0.01 en fila 776 / V\n",
      "[Aviso] dt original 0.005≠0.01 en fila 777 / H1\n",
      "[Aviso] dt original 0.005≠0.01 en fila 777 / H2\n",
      "[Aviso] dt original 0.005≠0.01 en fila 777 / V\n",
      "[Aviso] dt original 0.00244≠0.01 en fila 778 / H1\n",
      "[Aviso] dt original 0.00244≠0.01 en fila 778 / H2\n",
      "[Aviso] dt original 0.00244≠0.01 en fila 778 / V\n",
      "[Aviso] dt original 0.005≠0.01 en fila 779 / H1\n",
      "[Aviso] dt original 0.005≠0.01 en fila 779 / H2\n",
      "[Aviso] dt original 0.005≠0.01 en fila 779 / V\n",
      "[Aviso] dt original 0.00244≠0.01 en fila 780 / H1\n",
      "[Aviso] dt original 0.00244≠0.01 en fila 780 / H2\n",
      "[Aviso] dt original 0.00244≠0.01 en fila 780 / V\n",
      "[Aviso] dt original 0.00244≠0.01 en fila 781 / H1\n",
      "[Aviso] dt original 0.00244≠0.01 en fila 781 / H2\n",
      "[Aviso] dt original 0.00244≠0.01 en fila 781 / V\n",
      "[Aviso] dt original 0.00244≠0.01 en fila 782 / H1\n",
      "[Aviso] dt original 0.00244≠0.01 en fila 782 / H2\n",
      "[Aviso] dt original 0.00244≠0.01 en fila 782 / V\n",
      "[Aviso] dt original 0.00244≠0.01 en fila 783 / H1\n",
      "[Aviso] dt original 0.00244≠0.01 en fila 783 / H2\n",
      "[Aviso] dt original 0.00244≠0.01 en fila 783 / V\n",
      "[Aviso] dt original 0.00244≠0.01 en fila 784 / H1\n",
      "[Aviso] dt original 0.00244≠0.01 en fila 784 / H2\n",
      "[Aviso] dt original 0.00244≠0.01 en fila 784 / V\n",
      "[Aviso] dt original 0.00244≠0.01 en fila 785 / H1\n",
      "[Aviso] dt original 0.00244≠0.01 en fila 785 / H2\n",
      "[Aviso] dt original 0.00244≠0.01 en fila 785 / V\n",
      "[Aviso] dt original 0.005≠0.01 en fila 786 / H1\n",
      "[Aviso] dt original 0.005≠0.01 en fila 786 / H2\n",
      "[Aviso] dt original 0.005≠0.01 en fila 786 / V\n",
      "[Aviso] dt original 0.005≠0.01 en fila 787 / H1\n",
      "[Aviso] dt original 0.005≠0.01 en fila 787 / H2\n",
      "[Aviso] dt original 0.005≠0.01 en fila 787 / V\n",
      "[Aviso] dt original 0.005≠0.01 en fila 788 / H1\n",
      "[Aviso] dt original 0.005≠0.01 en fila 788 / H2\n",
      "[Aviso] dt original 0.005≠0.01 en fila 788 / V\n",
      "[Aviso] dt original 0.005≠0.01 en fila 789 / H1\n",
      "[Aviso] dt original 0.005≠0.01 en fila 789 / H2\n",
      "[Aviso] dt original 0.005≠0.01 en fila 789 / V\n",
      "[Aviso] dt original 0.005≠0.01 en fila 790 / H1\n",
      "[Aviso] dt original 0.005≠0.01 en fila 790 / H2\n",
      "[Aviso] dt original 0.005≠0.01 en fila 790 / V\n",
      "[Aviso] dt original 0.005≠0.01 en fila 791 / H1\n",
      "[Aviso] dt original 0.005≠0.01 en fila 791 / H2\n",
      "[Aviso] dt original 0.005≠0.01 en fila 791 / V\n",
      "[Aviso] dt original 0.005≠0.01 en fila 796 / H1\n",
      "[Aviso] dt original 0.005≠0.01 en fila 796 / H2\n",
      "[Aviso] dt original 0.005≠0.01 en fila 796 / V\n",
      "[Aviso] dt original 0.005≠0.01 en fila 797 / H1\n",
      "[Aviso] dt original 0.005≠0.01 en fila 797 / H2\n",
      "[Aviso] dt original 0.005≠0.01 en fila 797 / V\n",
      "[Aviso] dt original 0.005≠0.01 en fila 799 / H1\n",
      "[Aviso] dt original 0.005≠0.01 en fila 799 / H2\n",
      "[Aviso] dt original 0.005≠0.01 en fila 799 / V\n",
      "[Aviso] dt original 0.005≠0.01 en fila 801 / H1\n",
      "[Aviso] dt original 0.005≠0.01 en fila 801 / H2\n",
      "[Aviso] dt original 0.005≠0.01 en fila 801 / V\n",
      "[Aviso] dt original 0.005≠0.01 en fila 803 / H1\n",
      "[Aviso] dt original 0.005≠0.01 en fila 803 / H2\n",
      "[Aviso] dt original 0.005≠0.01 en fila 803 / V\n",
      "[Aviso] dt original 0.005≠0.01 en fila 804 / H1\n",
      "[Aviso] dt original 0.005≠0.01 en fila 804 / H2\n",
      "[Aviso] dt original 0.005≠0.01 en fila 804 / V\n",
      "[Aviso] dt original 0.00247≠0.01 en fila 805 / H1\n",
      "[Aviso] dt original 0.00247≠0.01 en fila 805 / H2\n",
      "[Aviso] dt original 0.00247≠0.01 en fila 805 / V\n",
      "[Aviso] dt original 0.00244≠0.01 en fila 806 / H1\n",
      "[Aviso] dt original 0.00244≠0.01 en fila 806 / H2\n",
      "[Aviso] dt original 0.00244≠0.01 en fila 806 / V\n",
      "[Aviso] dt original 0.00244≠0.01 en fila 807 / H1\n",
      "[Aviso] dt original 0.00244≠0.01 en fila 807 / H2\n",
      "[Aviso] dt original 0.00244≠0.01 en fila 807 / V\n",
      "[Aviso] dt original 0.005≠0.01 en fila 808 / H1\n",
      "[Aviso] dt original 0.005≠0.01 en fila 808 / H2\n",
      "[Aviso] dt original 0.005≠0.01 en fila 808 / V\n",
      "[Aviso] dt original 0.00333≠0.01 en fila 809 / H1\n",
      "[Aviso] dt original 0.00333≠0.01 en fila 809 / H2\n",
      "[Aviso] dt original 0.00333≠0.01 en fila 809 / V\n",
      "[Aviso] dt original 0.005≠0.01 en fila 810 / H1\n",
      "[Aviso] dt original 0.005≠0.01 en fila 810 / H2\n",
      "[Aviso] dt original 0.005≠0.01 en fila 810 / V\n",
      "[Aviso] dt original 0.005≠0.01 en fila 811 / H1\n",
      "[Aviso] dt original 0.005≠0.01 en fila 811 / H2\n",
      "[Aviso] dt original 0.005≠0.01 en fila 811 / V\n",
      "[Aviso] dt original 0.005≠0.01 en fila 812 / H1\n",
      "[Aviso] dt original 0.005≠0.01 en fila 812 / H2\n",
      "[Aviso] dt original 0.005≠0.01 en fila 812 / V\n",
      "[Aviso] dt original 0.005≠0.01 en fila 813 / H1\n",
      "[Aviso] dt original 0.005≠0.01 en fila 813 / H2\n",
      "[Aviso] dt original 0.005≠0.01 en fila 813 / V\n",
      "[Aviso] dt original 0.005≠0.01 en fila 814 / H1\n",
      "[Aviso] dt original 0.005≠0.01 en fila 814 / H2\n",
      "[Aviso] dt original 0.005≠0.01 en fila 814 / V\n",
      "[Aviso] dt original 0.005≠0.01 en fila 815 / H1\n",
      "[Aviso] dt original 0.005≠0.01 en fila 815 / H2\n",
      "[Aviso] dt original 0.005≠0.01 en fila 815 / V\n",
      "[Aviso] dt original 0.005≠0.01 en fila 816 / H1\n",
      "[Aviso] dt original 0.005≠0.01 en fila 816 / H2\n",
      "[Aviso] dt original 0.005≠0.01 en fila 816 / V\n",
      "[Aviso] dt original 0.005≠0.01 en fila 817 / H1\n",
      "[Aviso] dt original 0.005≠0.01 en fila 817 / H2\n",
      "[Aviso] dt original 0.005≠0.01 en fila 817 / V\n",
      "[Aviso] dt original 0.005≠0.01 en fila 818 / H1\n",
      "[Aviso] dt original 0.005≠0.01 en fila 818 / H2\n",
      "[Aviso] dt original 0.005≠0.01 en fila 818 / V\n",
      "[Aviso] dt original 0.005≠0.01 en fila 819 / H1\n",
      "[Aviso] dt original 0.005≠0.01 en fila 819 / H2\n",
      "[Aviso] dt original 0.005≠0.01 en fila 819 / V\n",
      "[Aviso] dt original 0.005≠0.01 en fila 820 / H1\n",
      "[Aviso] dt original 0.005≠0.01 en fila 820 / H2\n",
      "[Aviso] dt original 0.005≠0.01 en fila 820 / V\n",
      "[Aviso] dt original 0.005≠0.01 en fila 821 / H1\n",
      "[Aviso] dt original 0.005≠0.01 en fila 821 / H2\n",
      "[Aviso] dt original 0.005≠0.01 en fila 821 / V\n",
      "[Aviso] dt original 0.005≠0.01 en fila 822 / H1\n",
      "[Aviso] dt original 0.005≠0.01 en fila 822 / H2\n",
      "[Aviso] dt original 0.005≠0.01 en fila 822 / V\n",
      "[Aviso] dt original 0.005≠0.01 en fila 823 / H1\n",
      "[Aviso] dt original 0.005≠0.01 en fila 823 / H2\n",
      "[Aviso] dt original 0.005≠0.01 en fila 823 / V\n",
      "[Aviso] dt original 0.005≠0.01 en fila 824 / H1\n",
      "[Aviso] dt original 0.005≠0.01 en fila 824 / H2\n",
      "[Aviso] dt original 0.005≠0.01 en fila 824 / V\n",
      "[Aviso] dt original 0.005≠0.01 en fila 825 / H1\n",
      "[Aviso] dt original 0.005≠0.01 en fila 825 / H2\n",
      "[Aviso] dt original 0.005≠0.01 en fila 825 / V\n",
      "[Aviso] dt original 0.005≠0.01 en fila 826 / H1\n",
      "[Aviso] dt original 0.005≠0.01 en fila 826 / H2\n",
      "[Aviso] dt original 0.005≠0.01 en fila 826 / V\n",
      "[Aviso] dt original 0.005≠0.01 en fila 827 / H1\n",
      "[Aviso] dt original 0.005≠0.01 en fila 827 / H2\n",
      "[Aviso] dt original 0.005≠0.01 en fila 827 / V\n",
      "[Aviso] dt original 0.005≠0.01 en fila 828 / H1\n",
      "[Aviso] dt original 0.005≠0.01 en fila 828 / H2\n",
      "[Aviso] dt original 0.005≠0.01 en fila 828 / V\n",
      "[Aviso] dt original 0.0125≠0.01 en fila 839 / H1\n",
      "[Aviso] dt original 0.0125≠0.01 en fila 839 / H2\n",
      "[Aviso] dt original 0.0125≠0.01 en fila 839 / V\n",
      "[Aviso] dt original 0.0125≠0.01 en fila 848 / H1\n",
      "[Aviso] dt original 0.0125≠0.01 en fila 848 / H2\n",
      "[Aviso] dt original 0.0125≠0.01 en fila 848 / V\n",
      "[Aviso] dt original 0.0125≠0.01 en fila 853 / H1\n",
      "[Aviso] dt original 0.0125≠0.01 en fila 853 / H2\n",
      "[Aviso] dt original 0.0125≠0.01 en fila 853 / V\n",
      "[Aviso] dt original 0.0125≠0.01 en fila 867 / H1\n",
      "[Aviso] dt original 0.0125≠0.01 en fila 867 / H2\n",
      "[Aviso] dt original 0.0125≠0.01 en fila 867 / V\n",
      "[Aviso] dt original 0.0125≠0.01 en fila 870 / H1\n",
      "[Aviso] dt original 0.0125≠0.01 en fila 870 / H2\n",
      "[Aviso] dt original 0.0125≠0.01 en fila 870 / V\n",
      "[Aviso] dt original 0.0125≠0.01 en fila 880 / H1\n",
      "[Aviso] dt original 0.0125≠0.01 en fila 880 / H2\n",
      "[Aviso] dt original 0.0125≠0.01 en fila 880 / V\n",
      "[Aviso] dt original 0.0125≠0.01 en fila 881 / H1\n",
      "[Aviso] dt original 0.0125≠0.01 en fila 881 / H2\n",
      "[Aviso] dt original 0.0125≠0.01 en fila 881 / V\n",
      "[Aviso] dt original 0.0125≠0.01 en fila 885 / H1\n",
      "[Aviso] dt original 0.0125≠0.01 en fila 885 / H2\n",
      "[Aviso] dt original 0.0125≠0.01 en fila 885 / V\n",
      "[Aviso] dt original 0.0125≠0.01 en fila 889 / H1\n",
      "[Aviso] dt original 0.0125≠0.01 en fila 889 / H2\n",
      "[Aviso] dt original 0.0125≠0.01 en fila 889 / V\n",
      "[Aviso] dt original 0.0125≠0.01 en fila 892 / H1\n",
      "[Aviso] dt original 0.0125≠0.01 en fila 892 / H2\n",
      "[Aviso] dt original 0.0125≠0.01 en fila 892 / V\n",
      "[Aviso] dt original 0.005≠0.01 en fila 894 / H1\n",
      "[Aviso] dt original 0.005≠0.01 en fila 894 / H2\n",
      "[Aviso] dt original 0.005≠0.01 en fila 894 / V\n",
      "[Aviso] dt original 0.005≠0.01 en fila 895 / H1\n",
      "[Aviso] dt original 0.005≠0.01 en fila 895 / H2\n",
      "[Aviso] dt original 0.005≠0.01 en fila 895 / V\n",
      "[Aviso] dt original 0.005≠0.01 en fila 896 / H1\n",
      "[Aviso] dt original 0.005≠0.01 en fila 896 / H2\n",
      "[Aviso] dt original 0.005≠0.01 en fila 896 / V\n",
      "[Aviso] dt original 0.0029≠0.01 en fila 897 / H1\n",
      "[Aviso] dt original 0.0029≠0.01 en fila 897 / H2\n",
      "[Aviso] dt original 0.0029≠0.01 en fila 897 / V\n",
      "[Aviso] dt original 0.0024≠0.01 en fila 898 / H1\n",
      "[Aviso] dt original 0.0024≠0.01 en fila 898 / H2\n",
      "[Aviso] dt original 0.0024≠0.01 en fila 898 / V\n",
      "[Aviso] dt original 0.0029≠0.01 en fila 899 / H1\n",
      "[Aviso] dt original 0.0029≠0.01 en fila 899 / H2\n",
      "[Aviso] dt original 0.0029≠0.01 en fila 899 / V\n",
      "[Aviso] dt original 0.0024≠0.01 en fila 900 / H1\n",
      "[Aviso] dt original 0.0024≠0.01 en fila 900 / H2\n",
      "[Aviso] dt original 0.0024≠0.01 en fila 900 / V\n",
      "[Aviso] dt original 0.02≠0.01 en fila 902 / H1\n",
      "[Aviso] dt original 0.02≠0.01 en fila 902 / H2\n",
      "[Aviso] dt original 0.02≠0.01 en fila 902 / V\n",
      "[Aviso] dt original 0.02≠0.01 en fila 903 / H1\n",
      "[Aviso] dt original 0.02≠0.01 en fila 903 / H2\n",
      "[Aviso] dt original 0.02≠0.01 en fila 903 / V\n",
      "[Aviso] dt original 0.0024≠0.01 en fila 904 / H1\n",
      "[Aviso] dt original 0.0024≠0.01 en fila 904 / H2\n",
      "[Aviso] dt original 0.0024≠0.01 en fila 904 / V\n",
      "[Aviso] dt original 0.005≠0.01 en fila 905 / H1\n",
      "[Aviso] dt original 0.005≠0.01 en fila 905 / H2\n",
      "[Aviso] dt original 0.005≠0.01 en fila 905 / V\n",
      "[Aviso] dt original 0.005≠0.01 en fila 906 / H1\n",
      "[Aviso] dt original 0.005≠0.01 en fila 906 / H2\n",
      "[Aviso] dt original 0.005≠0.01 en fila 906 / V\n",
      "[Aviso] dt original 0.0039≠0.01 en fila 907 / H1\n",
      "[Aviso] dt original 0.0039≠0.01 en fila 907 / H2\n",
      "[Aviso] dt original 0.0039≠0.01 en fila 907 / V\n",
      "[Aviso] dt original 0.005≠0.01 en fila 908 / H1\n",
      "[Aviso] dt original 0.005≠0.01 en fila 908 / H2\n",
      "[Aviso] dt original 0.005≠0.01 en fila 908 / V\n",
      "[Aviso] dt original 0.02≠0.01 en fila 909 / H1\n",
      "[Aviso] dt original 0.02≠0.01 en fila 909 / H2\n",
      "[Aviso] dt original 0.02≠0.01 en fila 909 / V\n",
      "[Aviso] dt original 0.005≠0.01 en fila 910 / H1\n",
      "[Aviso] dt original 0.005≠0.01 en fila 910 / H2\n",
      "[Aviso] dt original 0.005≠0.01 en fila 910 / V\n",
      "[Aviso] dt original 0.005≠0.01 en fila 911 / H1\n",
      "[Aviso] dt original 0.005≠0.01 en fila 911 / H2\n",
      "[Aviso] dt original 0.005≠0.01 en fila 911 / V\n",
      "[Aviso] dt original 0.005≠0.01 en fila 912 / H1\n",
      "[Aviso] dt original 0.005≠0.01 en fila 912 / H2\n",
      "[Aviso] dt original 0.005≠0.01 en fila 912 / V\n",
      "[Aviso] dt original 0.005≠0.01 en fila 913 / H1\n",
      "[Aviso] dt original 0.005≠0.01 en fila 913 / H2\n",
      "[Aviso] dt original 0.005≠0.01 en fila 913 / V\n",
      "[Aviso] dt original 0.005≠0.01 en fila 914 / H1\n",
      "[Aviso] dt original 0.005≠0.01 en fila 914 / H2\n",
      "[Aviso] dt original 0.005≠0.01 en fila 914 / V\n",
      "[Aviso] dt original 0.005≠0.01 en fila 915 / H1\n",
      "[Aviso] dt original 0.005≠0.01 en fila 915 / H2\n",
      "[Aviso] dt original 0.005≠0.01 en fila 915 / V\n",
      "[Aviso] dt original 0.005≠0.01 en fila 916 / H1\n",
      "[Aviso] dt original 0.005≠0.01 en fila 916 / H2\n",
      "[Aviso] dt original 0.005≠0.01 en fila 916 / V\n",
      "[Aviso] dt original 0.005≠0.01 en fila 917 / H1\n",
      "[Aviso] dt original 0.005≠0.01 en fila 917 / H2\n",
      "[Aviso] dt original 0.005≠0.01 en fila 917 / V\n",
      "[Aviso] dt original 0.005≠0.01 en fila 918 / H1\n",
      "[Aviso] dt original 0.005≠0.01 en fila 918 / H2\n",
      "[Aviso] dt original 0.005≠0.01 en fila 918 / V\n",
      "[Aviso] dt original 0.005≠0.01 en fila 919 / H1\n",
      "[Aviso] dt original 0.005≠0.01 en fila 919 / H2\n",
      "[Aviso] dt original 0.005≠0.01 en fila 919 / V\n",
      "[Aviso] dt original 0.005≠0.01 en fila 920 / H1\n",
      "[Aviso] dt original 0.005≠0.01 en fila 920 / H2\n",
      "[Aviso] dt original 0.005≠0.01 en fila 920 / V\n",
      "[Aviso] dt original 0.005≠0.01 en fila 921 / H1\n",
      "[Aviso] dt original 0.005≠0.01 en fila 921 / H2\n",
      "[Aviso] dt original 0.005≠0.01 en fila 921 / V\n",
      "[Aviso] dt original 0.005≠0.01 en fila 922 / H1\n",
      "[Aviso] dt original 0.005≠0.01 en fila 922 / H2\n",
      "[Aviso] dt original 0.005≠0.01 en fila 922 / V\n",
      "[Aviso] dt original 0.005≠0.01 en fila 923 / H1\n",
      "[Aviso] dt original 0.005≠0.01 en fila 923 / H2\n",
      "[Aviso] dt original 0.005≠0.01 en fila 923 / V\n",
      "[Aviso] dt original 0.005≠0.01 en fila 924 / H1\n",
      "[Aviso] dt original 0.005≠0.01 en fila 924 / H2\n",
      "[Aviso] dt original 0.005≠0.01 en fila 924 / V\n",
      "[Aviso] dt original 0.005≠0.01 en fila 925 / H1\n",
      "[Aviso] dt original 0.005≠0.01 en fila 925 / H2\n",
      "[Aviso] dt original 0.005≠0.01 en fila 925 / V\n",
      "[Aviso] dt original 0.005≠0.01 en fila 926 / H1\n",
      "[Aviso] dt original 0.005≠0.01 en fila 926 / H2\n",
      "[Aviso] dt original 0.005≠0.01 en fila 926 / V\n",
      "[Aviso] dt original 0.005≠0.01 en fila 927 / H1\n",
      "[Aviso] dt original 0.005≠0.01 en fila 927 / H2\n",
      "[Aviso] dt original 0.005≠0.01 en fila 927 / V\n",
      "[Aviso] dt original 0.005≠0.01 en fila 928 / H1\n",
      "[Aviso] dt original 0.005≠0.01 en fila 928 / H2\n",
      "[Aviso] dt original 0.005≠0.01 en fila 928 / V\n",
      "[Aviso] dt original 0.005≠0.01 en fila 929 / H1\n",
      "[Aviso] dt original 0.005≠0.01 en fila 929 / H2\n",
      "[Aviso] dt original 0.005≠0.01 en fila 929 / V\n",
      "[Aviso] dt original 0.0029≠0.01 en fila 930 / H1\n",
      "[Aviso] dt original 0.0029≠0.01 en fila 930 / H2\n",
      "[Aviso] dt original 0.0029≠0.01 en fila 930 / V\n",
      "[Aviso] dt original 0.0029≠0.01 en fila 931 / H1\n",
      "[Aviso] dt original 0.0029≠0.01 en fila 931 / H2\n",
      "[Aviso] dt original 0.0029≠0.01 en fila 931 / V\n",
      "[Aviso] dt original 0.0029≠0.01 en fila 932 / H1\n",
      "[Aviso] dt original 0.0029≠0.01 en fila 932 / H2\n",
      "[Aviso] dt original 0.0029≠0.01 en fila 932 / V\n",
      "[Aviso] dt original 0.0024≠0.01 en fila 933 / H1\n",
      "[Aviso] dt original 0.0024≠0.01 en fila 933 / H2\n",
      "[Aviso] dt original 0.0024≠0.01 en fila 933 / V\n",
      "[Aviso] dt original 0.0029≠0.01 en fila 934 / H1\n",
      "[Aviso] dt original 0.0029≠0.01 en fila 934 / H2\n",
      "[Aviso] dt original 0.0029≠0.01 en fila 934 / V\n",
      "[Aviso] dt original 0.0029≠0.01 en fila 935 / H1\n",
      "[Aviso] dt original 0.0029≠0.01 en fila 935 / H2\n",
      "[Aviso] dt original 0.0029≠0.01 en fila 935 / V\n",
      "[Aviso] dt original 0.0029≠0.01 en fila 936 / H1\n",
      "[Aviso] dt original 0.0029≠0.01 en fila 936 / H2\n",
      "[Aviso] dt original 0.0029≠0.01 en fila 936 / V\n",
      "[Aviso] dt original 0.0029≠0.01 en fila 937 / H1\n",
      "[Aviso] dt original 0.0029≠0.01 en fila 937 / H2\n",
      "[Aviso] dt original 0.0029≠0.01 en fila 937 / V\n",
      "[Aviso] dt original 0.0029≠0.01 en fila 938 / H1\n",
      "[Aviso] dt original 0.0029≠0.01 en fila 938 / H2\n",
      "[Aviso] dt original 0.0029≠0.01 en fila 938 / V\n",
      "[Aviso] dt original 0.0029≠0.01 en fila 939 / H1\n",
      "[Aviso] dt original 0.0029≠0.01 en fila 939 / H2\n",
      "[Aviso] dt original 0.0029≠0.01 en fila 939 / V\n",
      "[Aviso] dt original 0.0029≠0.01 en fila 940 / H1\n",
      "[Aviso] dt original 0.0029≠0.01 en fila 940 / H2\n",
      "[Aviso] dt original 0.0029≠0.01 en fila 940 / V\n",
      "[Aviso] dt original 0.0024≠0.01 en fila 941 / H1\n",
      "[Aviso] dt original 0.0024≠0.01 en fila 941 / H2\n",
      "[Aviso] dt original 0.0024≠0.01 en fila 941 / V\n",
      "[Aviso] dt original 0.0029≠0.01 en fila 942 / H1\n",
      "[Aviso] dt original 0.0029≠0.01 en fila 942 / H2\n",
      "[Aviso] dt original 0.0029≠0.01 en fila 942 / V\n",
      "[Aviso] dt original 0.0029≠0.01 en fila 943 / H1\n",
      "[Aviso] dt original 0.0029≠0.01 en fila 943 / H2\n",
      "[Aviso] dt original 0.0029≠0.01 en fila 943 / V\n",
      "[Aviso] dt original 0.0029≠0.01 en fila 944 / H1\n",
      "[Aviso] dt original 0.0029≠0.01 en fila 944 / H2\n",
      "[Aviso] dt original 0.0029≠0.01 en fila 944 / V\n",
      "[Aviso] dt original 0.02≠0.01 en fila 945 / H1\n",
      "[Aviso] dt original 0.02≠0.01 en fila 945 / H2\n",
      "[Aviso] dt original 0.02≠0.01 en fila 945 / V\n",
      "[Aviso] dt original 0.02≠0.01 en fila 946 / H1\n",
      "[Aviso] dt original 0.02≠0.01 en fila 946 / H2\n",
      "[Aviso] dt original 0.02≠0.01 en fila 946 / V\n",
      "[Aviso] dt original 0.02≠0.01 en fila 947 / H1\n",
      "[Aviso] dt original 0.02≠0.01 en fila 947 / H2\n",
      "[Aviso] dt original 0.02≠0.01 en fila 947 / V\n",
      "[Aviso] dt original 0.005≠0.01 en fila 950 / H1\n",
      "[Aviso] dt original 0.005≠0.01 en fila 950 / H2\n",
      "[Aviso] dt original 0.005≠0.01 en fila 950 / V\n",
      "[Aviso] dt original 0.005≠0.01 en fila 951 / H1\n",
      "[Aviso] dt original 0.005≠0.01 en fila 951 / H2\n",
      "[Aviso] dt original 0.005≠0.01 en fila 951 / V\n",
      "[Aviso] dt original 0.005≠0.01 en fila 952 / H1\n",
      "[Aviso] dt original 0.005≠0.01 en fila 952 / H2\n",
      "[Aviso] dt original 0.005≠0.01 en fila 952 / V\n",
      "[Aviso] dt original 0.0078≠0.01 en fila 953 / H1\n",
      "[Aviso] dt original 0.0078≠0.01 en fila 953 / H2\n",
      "[Aviso] dt original 0.0078≠0.01 en fila 953 / V\n",
      "[Aviso] dt original 0.005≠0.01 en fila 954 / H1\n",
      "[Aviso] dt original 0.005≠0.01 en fila 954 / H2\n",
      "[Aviso] dt original 0.005≠0.01 en fila 954 / V\n",
      "[Aviso] dt original 0.0078≠0.01 en fila 955 / H1\n",
      "[Aviso] dt original 0.0078≠0.01 en fila 955 / H2\n",
      "[Aviso] dt original 0.0078≠0.01 en fila 955 / V\n",
      "[Aviso] dt original 0.005≠0.01 en fila 956 / H1\n",
      "[Aviso] dt original 0.005≠0.01 en fila 956 / H2\n",
      "[Aviso] dt original 0.005≠0.01 en fila 956 / V\n",
      "[Aviso] dt original 0.0078≠0.01 en fila 957 / H1\n",
      "[Aviso] dt original 0.0078≠0.01 en fila 957 / H2\n",
      "[Aviso] dt original 0.0078≠0.01 en fila 957 / V\n",
      "[Aviso] dt original 0.0078≠0.01 en fila 958 / H1\n",
      "[Aviso] dt original 0.0078≠0.01 en fila 958 / H2\n",
      "[Aviso] dt original 0.0078≠0.01 en fila 958 / V\n",
      "[Aviso] dt original 0.005≠0.01 en fila 959 / H1\n",
      "[Aviso] dt original 0.005≠0.01 en fila 959 / H2\n",
      "[Aviso] dt original 0.005≠0.01 en fila 959 / V\n",
      "[Aviso] dt original 0.005≠0.01 en fila 960 / H1\n",
      "[Aviso] dt original 0.005≠0.01 en fila 960 / H2\n",
      "[Aviso] dt original 0.005≠0.01 en fila 960 / V\n",
      "[Aviso] dt original 0.005≠0.01 en fila 961 / H1\n",
      "[Aviso] dt original 0.005≠0.01 en fila 961 / H2\n",
      "[Aviso] dt original 0.005≠0.01 en fila 961 / V\n",
      "[Aviso] dt original 0.005≠0.01 en fila 962 / H1\n",
      "[Aviso] dt original 0.005≠0.01 en fila 962 / H2\n",
      "[Aviso] dt original 0.005≠0.01 en fila 962 / V\n",
      "[Aviso] dt original 0.005≠0.01 en fila 963 / H1\n",
      "[Aviso] dt original 0.005≠0.01 en fila 963 / H2\n",
      "[Aviso] dt original 0.005≠0.01 en fila 963 / V\n",
      "[Aviso] dt original 0.005≠0.01 en fila 964 / H1\n",
      "[Aviso] dt original 0.005≠0.01 en fila 964 / H2\n",
      "[Aviso] dt original 0.005≠0.01 en fila 964 / V\n",
      "[Aviso] dt original 0.005≠0.01 en fila 965 / H1\n",
      "[Aviso] dt original 0.005≠0.01 en fila 965 / H2\n",
      "[Aviso] dt original 0.005≠0.01 en fila 965 / V\n",
      "[Aviso] dt original 0.005≠0.01 en fila 966 / H1\n",
      "[Aviso] dt original 0.005≠0.01 en fila 966 / H2\n",
      "[Aviso] dt original 0.005≠0.01 en fila 966 / V\n",
      "[Aviso] dt original 0.005≠0.01 en fila 967 / H1\n",
      "[Aviso] dt original 0.005≠0.01 en fila 967 / H2\n",
      "[Aviso] dt original 0.005≠0.01 en fila 967 / V\n",
      "[Aviso] dt original 0.005≠0.01 en fila 968 / H1\n",
      "[Aviso] dt original 0.005≠0.01 en fila 968 / H2\n",
      "[Aviso] dt original 0.005≠0.01 en fila 968 / V\n",
      "[Aviso] dt original 0.005≠0.01 en fila 969 / H1\n",
      "[Aviso] dt original 0.005≠0.01 en fila 969 / H2\n",
      "[Aviso] dt original 0.005≠0.01 en fila 969 / V\n",
      "[Aviso] dt original 0.005≠0.01 en fila 970 / H1\n",
      "[Aviso] dt original 0.005≠0.01 en fila 970 / H2\n",
      "[Aviso] dt original 0.005≠0.01 en fila 970 / V\n",
      "[Aviso] dt original 0.005≠0.01 en fila 971 / H1\n",
      "[Aviso] dt original 0.005≠0.01 en fila 971 / H2\n",
      "[Aviso] dt original 0.005≠0.01 en fila 971 / V\n",
      "[Aviso] dt original 0.005≠0.01 en fila 972 / H1\n",
      "[Aviso] dt original 0.005≠0.01 en fila 972 / H2\n",
      "[Aviso] dt original 0.005≠0.01 en fila 972 / V\n",
      "[Aviso] dt original 0.005≠0.01 en fila 973 / H1\n",
      "[Aviso] dt original 0.005≠0.01 en fila 973 / H2\n",
      "[Aviso] dt original 0.005≠0.01 en fila 973 / V\n",
      "[Aviso] dt original 0.005≠0.01 en fila 974 / H1\n",
      "[Aviso] dt original 0.005≠0.01 en fila 974 / H2\n",
      "[Aviso] dt original 0.005≠0.01 en fila 974 / V\n",
      "[Aviso] dt original 0.005≠0.01 en fila 975 / H1\n",
      "[Aviso] dt original 0.005≠0.01 en fila 975 / H2\n",
      "[Aviso] dt original 0.005≠0.01 en fila 975 / V\n",
      "[Aviso] dt original 0.005≠0.01 en fila 976 / H1\n",
      "[Aviso] dt original 0.005≠0.01 en fila 976 / H2\n",
      "[Aviso] dt original 0.005≠0.01 en fila 976 / V\n",
      "[Aviso] dt original 0.005≠0.01 en fila 977 / H1\n",
      "[Aviso] dt original 0.005≠0.01 en fila 977 / H2\n",
      "[Aviso] dt original 0.005≠0.01 en fila 977 / V\n",
      "[Aviso] dt original 0.005≠0.01 en fila 978 / H1\n",
      "[Aviso] dt original 0.005≠0.01 en fila 978 / H2\n",
      "[Aviso] dt original 0.005≠0.01 en fila 978 / V\n",
      "[Aviso] dt original 0.005≠0.01 en fila 979 / H1\n",
      "[Aviso] dt original 0.005≠0.01 en fila 979 / H2\n",
      "[Aviso] dt original 0.005≠0.01 en fila 979 / V\n",
      "[Aviso] dt original 0.005≠0.01 en fila 980 / H1\n",
      "[Aviso] dt original 0.005≠0.01 en fila 980 / H2\n",
      "[Aviso] dt original 0.005≠0.01 en fila 980 / V\n",
      "[Aviso] dt original 0.005≠0.01 en fila 981 / H1\n",
      "[Aviso] dt original 0.005≠0.01 en fila 981 / H2\n",
      "[Aviso] dt original 0.005≠0.01 en fila 981 / V\n",
      "[Aviso] dt original 0.005≠0.01 en fila 982 / H1\n",
      "[Aviso] dt original 0.005≠0.01 en fila 982 / H2\n",
      "[Aviso] dt original 0.005≠0.01 en fila 982 / V\n",
      "[Aviso] dt original 0.005≠0.01 en fila 983 / H1\n",
      "[Aviso] dt original 0.005≠0.01 en fila 983 / H2\n",
      "[Aviso] dt original 0.005≠0.01 en fila 983 / V\n",
      "[Aviso] dt original 0.005≠0.01 en fila 984 / H1\n",
      "[Aviso] dt original 0.005≠0.01 en fila 984 / H2\n",
      "[Aviso] dt original 0.005≠0.01 en fila 984 / V\n",
      "[Aviso] dt original 0.005≠0.01 en fila 985 / H1\n",
      "[Aviso] dt original 0.005≠0.01 en fila 985 / H2\n",
      "[Aviso] dt original 0.005≠0.01 en fila 985 / V\n",
      "[Aviso] dt original 0.005≠0.01 en fila 986 / H1\n",
      "[Aviso] dt original 0.005≠0.01 en fila 986 / H2\n",
      "[Aviso] dt original 0.005≠0.01 en fila 986 / V\n",
      "[Aviso] dt original 0.005≠0.01 en fila 987 / H1\n",
      "[Aviso] dt original 0.005≠0.01 en fila 987 / H2\n",
      "[Aviso] dt original 0.005≠0.01 en fila 987 / V\n",
      "[Aviso] dt original 0.005≠0.01 en fila 988 / H1\n",
      "[Aviso] dt original 0.005≠0.01 en fila 988 / H2\n",
      "[Aviso] dt original 0.005≠0.01 en fila 988 / V\n",
      "[Aviso] dt original 0.005≠0.01 en fila 989 / H1\n",
      "[Aviso] dt original 0.005≠0.01 en fila 989 / H2\n",
      "[Aviso] dt original 0.005≠0.01 en fila 989 / V\n",
      "[Aviso] dt original 0.0029≠0.01 en fila 990 / H1\n",
      "[Aviso] dt original 0.0029≠0.01 en fila 990 / H2\n",
      "[Aviso] dt original 0.0029≠0.01 en fila 990 / V\n",
      "[Aviso] dt original 0.0029≠0.01 en fila 991 / H1\n",
      "[Aviso] dt original 0.0029≠0.01 en fila 991 / H2\n",
      "[Aviso] dt original 0.0029≠0.01 en fila 991 / V\n",
      "[Aviso] dt original 0.0029≠0.01 en fila 992 / H1\n",
      "[Aviso] dt original 0.0029≠0.01 en fila 992 / H2\n",
      "[Aviso] dt original 0.0029≠0.01 en fila 992 / V\n",
      "[Aviso] dt original 0.005≠0.01 en fila 993 / H1\n",
      "[Aviso] dt original 0.005≠0.01 en fila 993 / H2\n",
      "[Aviso] dt original 0.005≠0.01 en fila 993 / V\n",
      "[Aviso] dt original 0.005≠0.01 en fila 994 / H1\n",
      "[Aviso] dt original 0.005≠0.01 en fila 994 / H2\n",
      "[Aviso] dt original 0.005≠0.01 en fila 994 / V\n",
      "[Aviso] dt original 0.005≠0.01 en fila 995 / H1\n",
      "[Aviso] dt original 0.005≠0.01 en fila 995 / H2\n",
      "[Aviso] dt original 0.005≠0.01 en fila 995 / V\n",
      "[Aviso] dt original 0.005≠0.01 en fila 996 / H1\n",
      "[Aviso] dt original 0.005≠0.01 en fila 996 / H2\n",
      "[Aviso] dt original 0.005≠0.01 en fila 996 / V\n",
      "[Aviso] dt original 0.005≠0.01 en fila 997 / H1\n",
      "[Aviso] dt original 0.005≠0.01 en fila 997 / H2\n",
      "[Aviso] dt original 0.005≠0.01 en fila 997 / V\n",
      "[Aviso] dt original 0.005≠0.01 en fila 998 / H1\n",
      "[Aviso] dt original 0.005≠0.01 en fila 998 / H2\n",
      "[Aviso] dt original 0.005≠0.01 en fila 998 / V\n",
      "[Aviso] dt original 0.005≠0.01 en fila 999 / H1\n",
      "[Aviso] dt original 0.005≠0.01 en fila 999 / H2\n",
      "[Aviso] dt original 0.005≠0.01 en fila 999 / V\n",
      "[Aviso] dt original 0.005≠0.01 en fila 1000 / H1\n",
      "[Aviso] dt original 0.005≠0.01 en fila 1000 / H2\n",
      "[Aviso] dt original 0.005≠0.01 en fila 1000 / V\n",
      "[Aviso] dt original 0.005≠0.01 en fila 1001 / H1\n",
      "[Aviso] dt original 0.005≠0.01 en fila 1001 / H2\n",
      "[Aviso] dt original 0.005≠0.01 en fila 1001 / V\n",
      "[Aviso] dt original 0.005≠0.01 en fila 1002 / H1\n",
      "[Aviso] dt original 0.005≠0.01 en fila 1002 / H2\n",
      "[Aviso] dt original 0.005≠0.01 en fila 1002 / V\n",
      "[Aviso] dt original 0.005≠0.01 en fila 1003 / H1\n",
      "[Aviso] dt original 0.005≠0.01 en fila 1003 / H2\n",
      "[Aviso] dt original 0.005≠0.01 en fila 1003 / V\n",
      "[Aviso] dt original 0.005≠0.01 en fila 1004 / H1\n",
      "[Aviso] dt original 0.005≠0.01 en fila 1004 / H2\n",
      "[Aviso] dt original 0.005≠0.01 en fila 1004 / V\n",
      "[Aviso] dt original 0.005≠0.01 en fila 1005 / H1\n",
      "[Aviso] dt original 0.005≠0.01 en fila 1005 / H2\n",
      "[Aviso] dt original 0.005≠0.01 en fila 1005 / V\n",
      "[Aviso] dt original 0.005≠0.01 en fila 1006 / H1\n",
      "[Aviso] dt original 0.005≠0.01 en fila 1006 / H2\n",
      "[Aviso] dt original 0.005≠0.01 en fila 1006 / V\n",
      "[Aviso] dt original 0.00244≠0.01 en fila 1007 / H1\n",
      "[Aviso] dt original 0.00244≠0.01 en fila 1007 / H2\n",
      "[Aviso] dt original 0.00244≠0.01 en fila 1007 / V\n",
      "[Aviso] dt original 0.005≠0.01 en fila 1008 / H1\n",
      "[Aviso] dt original 0.005≠0.01 en fila 1008 / H2\n",
      "[Aviso] dt original 0.005≠0.01 en fila 1008 / V\n",
      "[Aviso] dt original 0.005≠0.01 en fila 1009 / H1\n",
      "[Aviso] dt original 0.005≠0.01 en fila 1009 / H2\n",
      "[Aviso] dt original 0.005≠0.01 en fila 1009 / V\n",
      "[Aviso] dt original 0.005≠0.01 en fila 1017 / H1\n",
      "[Aviso] dt original 0.005≠0.01 en fila 1017 / H2\n",
      "[Aviso] dt original 0.005≠0.01 en fila 1017 / V\n",
      "[Aviso] dt original 0.005≠0.01 en fila 1018 / H1\n",
      "[Aviso] dt original 0.005≠0.01 en fila 1018 / H2\n",
      "[Aviso] dt original 0.005≠0.01 en fila 1018 / V\n",
      "[Aviso] dt original 0.005≠0.01 en fila 1019 / H1\n",
      "[Aviso] dt original 0.005≠0.01 en fila 1019 / H2\n",
      "[Aviso] dt original 0.005≠0.01 en fila 1019 / V\n",
      "[Aviso] dt original 0.005≠0.01 en fila 1020 / H1\n",
      "[Aviso] dt original 0.005≠0.01 en fila 1020 / H2\n",
      "[Aviso] dt original 0.005≠0.01 en fila 1020 / V\n",
      "[Aviso] dt original 0.005≠0.01 en fila 1021 / H1\n",
      "[Aviso] dt original 0.005≠0.01 en fila 1021 / H2\n",
      "[Aviso] dt original 0.005≠0.01 en fila 1021 / V\n",
      "[Aviso] dt original 0.005≠0.01 en fila 1022 / H1\n",
      "[Aviso] dt original 0.005≠0.01 en fila 1022 / H2\n",
      "[Aviso] dt original 0.005≠0.01 en fila 1022 / V\n",
      "[Aviso] dt original 0.005≠0.01 en fila 1023 / H1\n",
      "[Aviso] dt original 0.005≠0.01 en fila 1023 / H2\n",
      "[Aviso] dt original 0.005≠0.01 en fila 1023 / V\n",
      "[Aviso] dt original 0.005≠0.01 en fila 1024 / H1\n",
      "[Aviso] dt original 0.005≠0.01 en fila 1024 / H2\n",
      "[Aviso] dt original 0.005≠0.01 en fila 1024 / V\n",
      "[Aviso] dt original 0.005≠0.01 en fila 1025 / H1\n",
      "[Aviso] dt original 0.005≠0.01 en fila 1025 / H2\n",
      "[Aviso] dt original 0.005≠0.01 en fila 1025 / V\n",
      "[Aviso] dt original 0.005≠0.01 en fila 1026 / H1\n",
      "[Aviso] dt original 0.005≠0.01 en fila 1026 / H2\n",
      "[Aviso] dt original 0.005≠0.01 en fila 1026 / V\n",
      "[Aviso] dt original 0.005≠0.01 en fila 1027 / H1\n",
      "[Aviso] dt original 0.005≠0.01 en fila 1027 / H2\n",
      "[Aviso] dt original 0.005≠0.01 en fila 1027 / V\n",
      "[Aviso] dt original 0.005≠0.01 en fila 1028 / H1\n",
      "[Aviso] dt original 0.005≠0.01 en fila 1028 / H2\n",
      "[Aviso] dt original 0.005≠0.01 en fila 1028 / V\n",
      "[Aviso] dt original 0.005≠0.01 en fila 1029 / H1\n",
      "[Aviso] dt original 0.005≠0.01 en fila 1029 / H2\n",
      "[Aviso] dt original 0.005≠0.01 en fila 1029 / V\n",
      "[Aviso] dt original 0.005≠0.01 en fila 1030 / H1\n",
      "[Aviso] dt original 0.005≠0.01 en fila 1030 / H2\n",
      "[Aviso] dt original 0.005≠0.01 en fila 1030 / V\n",
      "[Aviso] dt original 0.005≠0.01 en fila 1031 / H1\n",
      "[Aviso] dt original 0.005≠0.01 en fila 1031 / H2\n",
      "[Aviso] dt original 0.005≠0.01 en fila 1031 / V\n",
      "[Aviso] dt original 0.005≠0.01 en fila 1032 / H1\n",
      "[Aviso] dt original 0.005≠0.01 en fila 1032 / H2\n",
      "[Aviso] dt original 0.005≠0.01 en fila 1032 / V\n",
      "[Aviso] dt original 0.005≠0.01 en fila 1033 / H1\n",
      "[Aviso] dt original 0.005≠0.01 en fila 1033 / H2\n",
      "[Aviso] dt original 0.005≠0.01 en fila 1033 / V\n",
      "[Aviso] dt original 0.005≠0.01 en fila 1034 / H1\n",
      "[Aviso] dt original 0.005≠0.01 en fila 1034 / H2\n",
      "[Aviso] dt original 0.005≠0.01 en fila 1034 / V\n",
      "[Aviso] dt original 0.005≠0.01 en fila 1035 / H1\n",
      "[Aviso] dt original 0.005≠0.01 en fila 1035 / H2\n",
      "[Aviso] dt original 0.005≠0.01 en fila 1035 / V\n",
      "[Aviso] dt original 0.005≠0.01 en fila 1036 / H1\n",
      "[Aviso] dt original 0.005≠0.01 en fila 1036 / H2\n",
      "[Aviso] dt original 0.005≠0.01 en fila 1036 / V\n",
      "[Aviso] dt original 0.005≠0.01 en fila 1037 / H1\n",
      "[Aviso] dt original 0.005≠0.01 en fila 1037 / H2\n",
      "[Aviso] dt original 0.005≠0.01 en fila 1037 / V\n",
      "[Aviso] dt original 0.005≠0.01 en fila 1038 / H1\n",
      "[Aviso] dt original 0.005≠0.01 en fila 1038 / H2\n",
      "[Aviso] dt original 0.005≠0.01 en fila 1038 / V\n",
      "[Aviso] dt original 0.005≠0.01 en fila 1039 / H1\n",
      "[Aviso] dt original 0.005≠0.01 en fila 1039 / H2\n",
      "[Aviso] dt original 0.005≠0.01 en fila 1039 / V\n",
      "[Aviso] dt original 0.005≠0.01 en fila 1040 / H1\n",
      "[Aviso] dt original 0.005≠0.01 en fila 1040 / H2\n",
      "[Aviso] dt original 0.005≠0.01 en fila 1040 / V\n",
      "[Aviso] dt original 0.005≠0.01 en fila 1041 / H1\n",
      "[Aviso] dt original 0.005≠0.01 en fila 1041 / H2\n",
      "[Aviso] dt original 0.005≠0.01 en fila 1041 / V\n",
      "[Aviso] dt original 0.005≠0.01 en fila 1042 / H1\n",
      "[Aviso] dt original 0.005≠0.01 en fila 1042 / H2\n",
      "[Aviso] dt original 0.005≠0.01 en fila 1042 / V\n",
      "[Aviso] dt original 0.005≠0.01 en fila 1043 / H1\n",
      "[Aviso] dt original 0.005≠0.01 en fila 1043 / H2\n",
      "[Aviso] dt original 0.005≠0.01 en fila 1043 / V\n",
      "[Aviso] dt original 0.005≠0.01 en fila 1044 / H1\n",
      "[Aviso] dt original 0.005≠0.01 en fila 1044 / H2\n",
      "[Aviso] dt original 0.005≠0.01 en fila 1044 / V\n",
      "[Aviso] dt original 0.005≠0.01 en fila 1045 / H1\n",
      "[Aviso] dt original 0.005≠0.01 en fila 1045 / H2\n",
      "[Aviso] dt original 0.005≠0.01 en fila 1045 / V\n",
      "[Aviso] dt original 0.005≠0.01 en fila 1046 / H1\n",
      "[Aviso] dt original 0.005≠0.01 en fila 1046 / H2\n",
      "[Aviso] dt original 0.005≠0.01 en fila 1046 / V\n",
      "[Aviso] dt original 0.005≠0.01 en fila 1047 / H1\n",
      "[Aviso] dt original 0.005≠0.01 en fila 1047 / H2\n",
      "[Aviso] dt original 0.005≠0.01 en fila 1047 / V\n",
      "[Aviso] dt original 0.005≠0.01 en fila 1048 / H1\n",
      "[Aviso] dt original 0.005≠0.01 en fila 1048 / H2\n",
      "[Aviso] dt original 0.005≠0.01 en fila 1048 / V\n",
      "[Aviso] dt original 0.005≠0.01 en fila 1049 / H1\n",
      "[Aviso] dt original 0.005≠0.01 en fila 1049 / H2\n",
      "[Aviso] dt original 0.005≠0.01 en fila 1049 / V\n",
      "[Aviso] dt original 0.005≠0.01 en fila 1050 / H1\n",
      "[Aviso] dt original 0.005≠0.01 en fila 1050 / H2\n",
      "[Aviso] dt original 0.005≠0.01 en fila 1050 / V\n",
      "[Aviso] dt original 0.005≠0.01 en fila 1051 / H1\n",
      "[Aviso] dt original 0.005≠0.01 en fila 1051 / H2\n",
      "[Aviso] dt original 0.005≠0.01 en fila 1051 / V\n",
      "[Aviso] dt original 0.005≠0.01 en fila 1052 / H1\n",
      "[Aviso] dt original 0.005≠0.01 en fila 1052 / H2\n",
      "[Aviso] dt original 0.005≠0.01 en fila 1052 / V\n",
      "[Aviso] dt original 0.005≠0.01 en fila 1053 / H1\n",
      "[Aviso] dt original 0.005≠0.01 en fila 1053 / H2\n",
      "[Aviso] dt original 0.005≠0.01 en fila 1053 / V\n",
      "[Aviso] dt original 0.005≠0.01 en fila 1054 / H1\n",
      "[Aviso] dt original 0.005≠0.01 en fila 1054 / H2\n",
      "[Aviso] dt original 0.005≠0.01 en fila 1054 / V\n",
      "[Aviso] dt original 0.005≠0.01 en fila 1055 / H1\n",
      "[Aviso] dt original 0.005≠0.01 en fila 1055 / H2\n",
      "[Aviso] dt original 0.005≠0.01 en fila 1055 / V\n",
      "[Aviso] dt original 0.005≠0.01 en fila 1056 / H1\n",
      "[Aviso] dt original 0.005≠0.01 en fila 1056 / H2\n",
      "[Aviso] dt original 0.005≠0.01 en fila 1056 / V\n",
      "[Aviso] dt original 0.005≠0.01 en fila 1057 / H1\n",
      "[Aviso] dt original 0.005≠0.01 en fila 1057 / H2\n",
      "[Aviso] dt original 0.005≠0.01 en fila 1057 / V\n",
      "[Aviso] dt original 0.005≠0.01 en fila 1058 / H1\n",
      "[Aviso] dt original 0.005≠0.01 en fila 1058 / H2\n",
      "[Aviso] dt original 0.005≠0.01 en fila 1058 / V\n",
      "[Aviso] dt original 0.005≠0.01 en fila 1059 / H1\n",
      "[Aviso] dt original 0.005≠0.01 en fila 1059 / H2\n",
      "[Aviso] dt original 0.005≠0.01 en fila 1059 / V\n",
      "[Aviso] dt original 0.005≠0.01 en fila 1060 / H1\n",
      "[Aviso] dt original 0.005≠0.01 en fila 1060 / H2\n",
      "[Aviso] dt original 0.005≠0.01 en fila 1060 / V\n",
      "[Aviso] dt original 0.005≠0.01 en fila 1061 / H1\n",
      "[Aviso] dt original 0.005≠0.01 en fila 1061 / H2\n",
      "[Aviso] dt original 0.005≠0.01 en fila 1061 / V\n",
      "[Aviso] dt original 0.005≠0.01 en fila 1062 / H1\n",
      "[Aviso] dt original 0.005≠0.01 en fila 1062 / H2\n",
      "[Aviso] dt original 0.005≠0.01 en fila 1062 / V\n",
      "[Aviso] dt original 0.005≠0.01 en fila 1063 / H1\n",
      "[Aviso] dt original 0.005≠0.01 en fila 1063 / H2\n",
      "[Aviso] dt original 0.005≠0.01 en fila 1063 / V\n",
      "[Aviso] dt original 0.005≠0.01 en fila 1064 / H1\n",
      "[Aviso] dt original 0.005≠0.01 en fila 1064 / H2\n",
      "[Aviso] dt original 0.005≠0.01 en fila 1064 / V\n",
      "[Aviso] dt original 0.005≠0.01 en fila 1065 / H1\n",
      "[Aviso] dt original 0.005≠0.01 en fila 1065 / H2\n",
      "[Aviso] dt original 0.005≠0.01 en fila 1065 / V\n",
      "[Aviso] dt original 0.005≠0.01 en fila 1066 / H1\n",
      "[Aviso] dt original 0.005≠0.01 en fila 1066 / H2\n",
      "[Aviso] dt original 0.005≠0.01 en fila 1066 / V\n",
      "[Aviso] dt original 0.005≠0.01 en fila 1067 / H1\n",
      "[Aviso] dt original 0.005≠0.01 en fila 1067 / H2\n",
      "[Aviso] dt original 0.005≠0.01 en fila 1067 / V\n",
      "[Aviso] dt original 0.005≠0.01 en fila 1068 / H1\n",
      "[Aviso] dt original 0.005≠0.01 en fila 1068 / H2\n",
      "[Aviso] dt original 0.005≠0.01 en fila 1068 / V\n",
      "[Aviso] dt original 0.005≠0.01 en fila 1069 / H1\n",
      "[Aviso] dt original 0.005≠0.01 en fila 1069 / H2\n",
      "[Aviso] dt original 0.005≠0.01 en fila 1069 / V\n",
      "[Aviso] dt original 0.005≠0.01 en fila 1070 / H1\n",
      "[Aviso] dt original 0.005≠0.01 en fila 1070 / H2\n",
      "[Aviso] dt original 0.005≠0.01 en fila 1070 / V\n",
      "[Aviso] dt original 0.005≠0.01 en fila 1071 / H1\n",
      "[Aviso] dt original 0.005≠0.01 en fila 1071 / H2\n",
      "[Aviso] dt original 0.005≠0.01 en fila 1071 / V\n",
      "[Aviso] dt original 0.005≠0.01 en fila 1072 / H1\n",
      "[Aviso] dt original 0.005≠0.01 en fila 1072 / H2\n",
      "[Aviso] dt original 0.005≠0.01 en fila 1072 / V\n",
      "[Aviso] dt original 0.005≠0.01 en fila 1073 / H1\n",
      "[Aviso] dt original 0.005≠0.01 en fila 1073 / H2\n",
      "[Aviso] dt original 0.005≠0.01 en fila 1073 / V\n",
      "[Aviso] dt original 0.005≠0.01 en fila 1074 / H1\n",
      "[Aviso] dt original 0.005≠0.01 en fila 1074 / H2\n",
      "[Aviso] dt original 0.005≠0.01 en fila 1074 / V\n",
      "[Aviso] dt original 0.005≠0.01 en fila 1075 / H1\n",
      "[Aviso] dt original 0.005≠0.01 en fila 1075 / H2\n",
      "[Aviso] dt original 0.005≠0.01 en fila 1075 / V\n",
      "[Aviso] dt original 0.005≠0.01 en fila 1076 / H1\n",
      "[Aviso] dt original 0.005≠0.01 en fila 1076 / H2\n",
      "[Aviso] dt original 0.005≠0.01 en fila 1076 / V\n",
      "[Aviso] dt original 0.005≠0.01 en fila 1077 / H1\n",
      "[Aviso] dt original 0.005≠0.01 en fila 1077 / H2\n",
      "[Aviso] dt original 0.005≠0.01 en fila 1077 / V\n",
      "[Aviso] dt original 0.005≠0.01 en fila 1078 / H1\n",
      "[Aviso] dt original 0.005≠0.01 en fila 1078 / H2\n",
      "[Aviso] dt original 0.005≠0.01 en fila 1078 / V\n",
      "[Aviso] dt original 0.005≠0.01 en fila 1079 / H1\n",
      "[Aviso] dt original 0.005≠0.01 en fila 1079 / H2\n",
      "[Aviso] dt original 0.005≠0.01 en fila 1079 / V\n",
      "[Aviso] dt original 0.005≠0.01 en fila 1080 / H1\n",
      "[Aviso] dt original 0.005≠0.01 en fila 1080 / H2\n",
      "[Aviso] dt original 0.005≠0.01 en fila 1080 / V\n",
      "[Aviso] dt original 0.005≠0.01 en fila 1081 / H1\n",
      "[Aviso] dt original 0.005≠0.01 en fila 1081 / H2\n",
      "[Aviso] dt original 0.005≠0.01 en fila 1081 / V\n",
      "[Aviso] dt original 0.005≠0.01 en fila 1082 / H1\n",
      "[Aviso] dt original 0.005≠0.01 en fila 1082 / H2\n",
      "[Aviso] dt original 0.005≠0.01 en fila 1082 / V\n",
      "[Aviso] dt original 0.005≠0.01 en fila 1083 / H1\n",
      "[Aviso] dt original 0.005≠0.01 en fila 1083 / H2\n",
      "[Aviso] dt original 0.005≠0.01 en fila 1083 / V\n",
      "[Aviso] dt original 0.005≠0.01 en fila 1084 / H1\n",
      "[Aviso] dt original 0.005≠0.01 en fila 1084 / H2\n",
      "[Aviso] dt original 0.005≠0.01 en fila 1084 / V\n",
      "[Aviso] dt original 0.005≠0.01 en fila 1085 / H1\n",
      "[Aviso] dt original 0.005≠0.01 en fila 1085 / H2\n",
      "[Aviso] dt original 0.005≠0.01 en fila 1085 / V\n",
      "[Aviso] dt original 0.005≠0.01 en fila 1086 / H1\n",
      "[Aviso] dt original 0.005≠0.01 en fila 1086 / H2\n",
      "[Aviso] dt original 0.005≠0.01 en fila 1086 / V\n",
      "[Aviso] dt original 0.005≠0.01 en fila 1087 / H1\n",
      "[Aviso] dt original 0.005≠0.01 en fila 1087 / H2\n",
      "[Aviso] dt original 0.005≠0.01 en fila 1087 / V\n",
      "[Aviso] dt original 0.005≠0.01 en fila 1088 / H1\n",
      "[Aviso] dt original 0.005≠0.01 en fila 1088 / H2\n",
      "[Aviso] dt original 0.005≠0.01 en fila 1088 / V\n",
      "[Aviso] dt original 0.005≠0.01 en fila 1089 / H1\n",
      "[Aviso] dt original 0.005≠0.01 en fila 1089 / H2\n",
      "[Aviso] dt original 0.005≠0.01 en fila 1089 / V\n",
      "[Aviso] dt original 0.005≠0.01 en fila 1090 / H1\n",
      "[Aviso] dt original 0.005≠0.01 en fila 1090 / H2\n",
      "[Aviso] dt original 0.005≠0.01 en fila 1090 / V\n",
      "[Aviso] dt original 0.005≠0.01 en fila 1091 / H1\n",
      "[Aviso] dt original 0.005≠0.01 en fila 1091 / H2\n",
      "[Aviso] dt original 0.005≠0.01 en fila 1091 / V\n",
      "[Aviso] dt original 0.005≠0.01 en fila 1092 / H1\n",
      "[Aviso] dt original 0.005≠0.01 en fila 1092 / H2\n",
      "[Aviso] dt original 0.005≠0.01 en fila 1092 / V\n",
      "[Aviso] dt original 0.005≠0.01 en fila 1093 / H1\n",
      "[Aviso] dt original 0.005≠0.01 en fila 1093 / H2\n",
      "[Aviso] dt original 0.005≠0.01 en fila 1093 / V\n",
      "[Aviso] dt original 0.005≠0.01 en fila 1094 / H1\n",
      "[Aviso] dt original 0.005≠0.01 en fila 1094 / H2\n",
      "[Aviso] dt original 0.005≠0.01 en fila 1094 / V\n",
      "[Aviso] dt original 0.005≠0.01 en fila 1095 / H1\n",
      "[Aviso] dt original 0.005≠0.01 en fila 1095 / H2\n",
      "[Aviso] dt original 0.005≠0.01 en fila 1095 / V\n",
      "[Aviso] dt original 0.005≠0.01 en fila 1096 / H1\n",
      "[Aviso] dt original 0.005≠0.01 en fila 1096 / H2\n",
      "[Aviso] dt original 0.005≠0.01 en fila 1096 / V\n",
      "[Aviso] dt original 0.005≠0.01 en fila 1097 / H1\n",
      "[Aviso] dt original 0.005≠0.01 en fila 1097 / H2\n",
      "[Aviso] dt original 0.005≠0.01 en fila 1097 / V\n",
      "[Aviso] dt original 0.005≠0.01 en fila 1098 / H1\n",
      "[Aviso] dt original 0.005≠0.01 en fila 1098 / H2\n",
      "[Aviso] dt original 0.005≠0.01 en fila 1098 / V\n",
      "[Aviso] dt original 0.005≠0.01 en fila 1099 / H1\n",
      "[Aviso] dt original 0.005≠0.01 en fila 1099 / H2\n",
      "[Aviso] dt original 0.005≠0.01 en fila 1099 / V\n",
      "[Aviso] dt original 0.005≠0.01 en fila 1100 / H1\n",
      "[Aviso] dt original 0.005≠0.01 en fila 1100 / H2\n",
      "[Aviso] dt original 0.005≠0.01 en fila 1100 / V\n",
      "[Aviso] dt original 0.005≠0.01 en fila 1101 / H1\n",
      "[Aviso] dt original 0.005≠0.01 en fila 1101 / H2\n",
      "[Aviso] dt original 0.005≠0.01 en fila 1101 / V\n",
      "[Aviso] dt original 0.005≠0.01 en fila 1102 / H1\n",
      "[Aviso] dt original 0.005≠0.01 en fila 1102 / H2\n",
      "[Aviso] dt original 0.005≠0.01 en fila 1102 / V\n",
      "[Aviso] dt original 0.005≠0.01 en fila 1103 / H1\n",
      "[Aviso] dt original 0.005≠0.01 en fila 1103 / H2\n",
      "[Aviso] dt original 0.005≠0.01 en fila 1103 / V\n",
      "[Aviso] dt original 0.005≠0.01 en fila 1104 / H1\n",
      "[Aviso] dt original 0.005≠0.01 en fila 1104 / H2\n",
      "[Aviso] dt original 0.005≠0.01 en fila 1104 / V\n",
      "[Aviso] dt original 0.005≠0.01 en fila 1105 / H1\n",
      "[Aviso] dt original 0.005≠0.01 en fila 1105 / H2\n",
      "[Aviso] dt original 0.005≠0.01 en fila 1105 / V\n",
      "[Aviso] dt original 0.005≠0.01 en fila 1106 / H1\n",
      "[Aviso] dt original 0.005≠0.01 en fila 1106 / H2\n",
      "[Aviso] dt original 0.005≠0.01 en fila 1106 / V\n",
      "[Aviso] dt original 0.00244≠0.01 en fila 1107 / H1\n",
      "[Aviso] dt original 0.00244≠0.01 en fila 1107 / H2\n",
      "[Aviso] dt original 0.00244≠0.01 en fila 1107 / V\n",
      "[Aviso] dt original 0.005≠0.01 en fila 1108 / H1\n",
      "[Aviso] dt original 0.005≠0.01 en fila 1108 / H2\n",
      "[Aviso] dt original 0.005≠0.01 en fila 1108 / V\n",
      "[Aviso] dt original 0.005≠0.01 en fila 1111 / H1\n",
      "[Aviso] dt original 0.005≠0.01 en fila 1111 / H2\n",
      "[Aviso] dt original 0.005≠0.01 en fila 1111 / V\n",
      "[Aviso] dt original 0.005≠0.01 en fila 1112 / H1\n",
      "[Aviso] dt original 0.005≠0.01 en fila 1112 / H2\n",
      "[Aviso] dt original 0.005≠0.01 en fila 1112 / V\n",
      "[Aviso] dt original 0.005≠0.01 en fila 1113 / H1\n",
      "[Aviso] dt original 0.005≠0.01 en fila 1113 / H2\n",
      "[Aviso] dt original 0.005≠0.01 en fila 1113 / V\n",
      "[Aviso] dt original 0.005≠0.01 en fila 1114 / H1\n",
      "[Aviso] dt original 0.005≠0.01 en fila 1114 / H2\n",
      "[Aviso] dt original 0.005≠0.01 en fila 1114 / V\n",
      "[Aviso] dt original 0.005≠0.01 en fila 1115 / H1\n",
      "[Aviso] dt original 0.005≠0.01 en fila 1115 / H2\n",
      "[Aviso] dt original 0.005≠0.01 en fila 1115 / V\n",
      "[Aviso] dt original 0.005≠0.01 en fila 1116 / H1\n",
      "[Aviso] dt original 0.005≠0.01 en fila 1116 / H2\n",
      "[Aviso] dt original 0.005≠0.01 en fila 1116 / V\n",
      "[Aviso] dt original 0.005≠0.01 en fila 1117 / H1\n",
      "[Aviso] dt original 0.005≠0.01 en fila 1117 / H2\n",
      "[Aviso] dt original 0.005≠0.01 en fila 1117 / V\n",
      "[Aviso] dt original 0.005≠0.01 en fila 1118 / H1\n",
      "[Aviso] dt original 0.005≠0.01 en fila 1118 / H2\n",
      "[Aviso] dt original 0.005≠0.01 en fila 1118 / V\n",
      "[Aviso] dt original 0.005≠0.01 en fila 1119 / H1\n",
      "[Aviso] dt original 0.005≠0.01 en fila 1119 / H2\n",
      "[Aviso] dt original 0.005≠0.01 en fila 1119 / V\n",
      "[Aviso] dt original 0.005≠0.01 en fila 1120 / H1\n",
      "[Aviso] dt original 0.005≠0.01 en fila 1120 / H2\n",
      "[Aviso] dt original 0.005≠0.01 en fila 1120 / V\n",
      "[Aviso] dt original 0.005≠0.01 en fila 1121 / H1\n",
      "[Aviso] dt original 0.005≠0.01 en fila 1121 / H2\n",
      "[Aviso] dt original 0.005≠0.01 en fila 1121 / V\n",
      "[Aviso] dt original 0.005≠0.01 en fila 1122 / H1\n",
      "[Aviso] dt original 0.005≠0.01 en fila 1122 / H2\n",
      "[Aviso] dt original 0.005≠0.01 en fila 1122 / V\n",
      "[Aviso] dt original 0.005≠0.01 en fila 1123 / H1\n",
      "[Aviso] dt original 0.005≠0.01 en fila 1123 / H2\n",
      "[Aviso] dt original 0.005≠0.01 en fila 1123 / V\n",
      "[Aviso] dt original 0.005≠0.01 en fila 1124 / H1\n",
      "[Aviso] dt original 0.005≠0.01 en fila 1124 / H2\n",
      "[Aviso] dt original 0.005≠0.01 en fila 1124 / V\n",
      "[Aviso] dt original 0.005≠0.01 en fila 1125 / H1\n",
      "[Aviso] dt original 0.005≠0.01 en fila 1125 / H2\n",
      "[Aviso] dt original 0.005≠0.01 en fila 1125 / V\n",
      "[Aviso] dt original 0.005≠0.01 en fila 1126 / H1\n",
      "[Aviso] dt original 0.005≠0.01 en fila 1126 / H2\n",
      "[Aviso] dt original 0.005≠0.01 en fila 1126 / V\n",
      "[Aviso] dt original 0.005≠0.01 en fila 1127 / H1\n",
      "[Aviso] dt original 0.005≠0.01 en fila 1127 / H2\n",
      "[Aviso] dt original 0.005≠0.01 en fila 1127 / V\n",
      "[Aviso] dt original 0.005≠0.01 en fila 1128 / H1\n",
      "[Aviso] dt original 0.005≠0.01 en fila 1128 / H2\n",
      "[Aviso] dt original 0.005≠0.01 en fila 1128 / V\n",
      "[Aviso] dt original 0.005≠0.01 en fila 1129 / H1\n",
      "[Aviso] dt original 0.005≠0.01 en fila 1129 / H2\n",
      "[Aviso] dt original 0.005≠0.01 en fila 1129 / V\n",
      "[Aviso] dt original 0.005≠0.01 en fila 1130 / H1\n",
      "[Aviso] dt original 0.005≠0.01 en fila 1130 / H2\n",
      "[Aviso] dt original 0.005≠0.01 en fila 1130 / V\n",
      "[Aviso] dt original 0.005≠0.01 en fila 1131 / H1\n",
      "[Aviso] dt original 0.005≠0.01 en fila 1131 / H2\n",
      "[Aviso] dt original 0.005≠0.01 en fila 1131 / V\n",
      "[Aviso] dt original 0.005≠0.01 en fila 1132 / H1\n",
      "[Aviso] dt original 0.005≠0.01 en fila 1132 / H2\n",
      "[Aviso] dt original 0.005≠0.01 en fila 1132 / V\n",
      "[Aviso] dt original 0.005≠0.01 en fila 1133 / H1\n",
      "[Aviso] dt original 0.005≠0.01 en fila 1133 / H2\n",
      "[Aviso] dt original 0.005≠0.01 en fila 1133 / V\n",
      "[Aviso] dt original 0.005≠0.01 en fila 1134 / H1\n",
      "[Aviso] dt original 0.005≠0.01 en fila 1134 / H2\n",
      "[Aviso] dt original 0.005≠0.01 en fila 1134 / V\n",
      "[Aviso] dt original 0.005≠0.01 en fila 1135 / H1\n",
      "[Aviso] dt original 0.005≠0.01 en fila 1135 / H2\n",
      "[Aviso] dt original 0.005≠0.01 en fila 1135 / V\n",
      "[Aviso] dt original 0.005≠0.01 en fila 1136 / H1\n",
      "[Aviso] dt original 0.005≠0.01 en fila 1136 / H2\n",
      "[Aviso] dt original 0.005≠0.01 en fila 1136 / V\n",
      "[Aviso] dt original 0.005≠0.01 en fila 1137 / H1\n",
      "[Aviso] dt original 0.005≠0.01 en fila 1137 / H2\n",
      "[Aviso] dt original 0.005≠0.01 en fila 1137 / V\n",
      "[Aviso] dt original 0.005≠0.01 en fila 1138 / H1\n",
      "[Aviso] dt original 0.005≠0.01 en fila 1138 / H2\n",
      "[Aviso] dt original 0.005≠0.01 en fila 1138 / V\n",
      "[Aviso] dt original 0.005≠0.01 en fila 1139 / H1\n",
      "[Aviso] dt original 0.005≠0.01 en fila 1139 / H2\n",
      "[Aviso] dt original 0.005≠0.01 en fila 1139 / V\n",
      "[Aviso] dt original 0.005≠0.01 en fila 1140 / H1\n",
      "[Aviso] dt original 0.005≠0.01 en fila 1140 / H2\n",
      "[Aviso] dt original 0.005≠0.01 en fila 1140 / V\n",
      "[Aviso] dt original 0.005≠0.01 en fila 1141 / H1\n",
      "[Aviso] dt original 0.005≠0.01 en fila 1141 / H2\n",
      "[Aviso] dt original 0.005≠0.01 en fila 1141 / V\n",
      "[Aviso] dt original 0.005≠0.01 en fila 1142 / H1\n",
      "[Aviso] dt original 0.005≠0.01 en fila 1142 / H2\n",
      "[Aviso] dt original 0.005≠0.01 en fila 1142 / V\n",
      "[Aviso] dt original 0.005≠0.01 en fila 1143 / H1\n",
      "[Aviso] dt original 0.005≠0.01 en fila 1143 / H2\n",
      "[Aviso] dt original 0.005≠0.01 en fila 1143 / V\n",
      "[Aviso] dt original 0.005≠0.01 en fila 1144 / H1\n",
      "[Aviso] dt original 0.005≠0.01 en fila 1144 / H2\n",
      "[Aviso] dt original 0.005≠0.01 en fila 1144 / V\n",
      "[Aviso] dt original 0.005≠0.01 en fila 1145 / H1\n",
      "[Aviso] dt original 0.005≠0.01 en fila 1145 / H2\n",
      "[Aviso] dt original 0.005≠0.01 en fila 1145 / V\n",
      "[Aviso] dt original 0.005≠0.01 en fila 1146 / H1\n",
      "[Aviso] dt original 0.005≠0.01 en fila 1146 / H2\n",
      "[Aviso] dt original 0.005≠0.01 en fila 1146 / V\n",
      "[Aviso] dt original 0.005≠0.01 en fila 1147 / H1\n",
      "[Aviso] dt original 0.005≠0.01 en fila 1147 / H2\n",
      "[Aviso] dt original 0.005≠0.01 en fila 1147 / V\n",
      "[Aviso] dt original 0.005≠0.01 en fila 1148 / H1\n",
      "[Aviso] dt original 0.005≠0.01 en fila 1148 / H2\n",
      "[Aviso] dt original 0.005≠0.01 en fila 1148 / V\n",
      "[Aviso] dt original 0.005≠0.01 en fila 1149 / H1\n",
      "[Aviso] dt original 0.005≠0.01 en fila 1149 / H2\n",
      "[Aviso] dt original 0.005≠0.01 en fila 1149 / V\n",
      "[Aviso] dt original 0.005≠0.01 en fila 1150 / H1\n",
      "[Aviso] dt original 0.005≠0.01 en fila 1150 / H2\n",
      "[Aviso] dt original 0.005≠0.01 en fila 1150 / V\n",
      "[Aviso] dt original 0.005≠0.01 en fila 1151 / H1\n",
      "[Aviso] dt original 0.005≠0.01 en fila 1151 / H2\n",
      "[Aviso] dt original 0.005≠0.01 en fila 1151 / V\n",
      "[Aviso] dt original 0.005≠0.01 en fila 1152 / H1\n",
      "[Aviso] dt original 0.005≠0.01 en fila 1152 / H2\n",
      "[Aviso] dt original 0.005≠0.01 en fila 1152 / V\n",
      "[Aviso] dt original 0.005≠0.01 en fila 1153 / H1\n",
      "[Aviso] dt original 0.005≠0.01 en fila 1153 / H2\n",
      "[Aviso] dt original 0.005≠0.01 en fila 1153 / V\n",
      "[Aviso] dt original 0.005≠0.01 en fila 1154 / H1\n",
      "[Aviso] dt original 0.005≠0.01 en fila 1154 / H2\n",
      "[Aviso] dt original 0.005≠0.01 en fila 1154 / V\n",
      "[Aviso] dt original 0.005≠0.01 en fila 1155 / H1\n",
      "[Aviso] dt original 0.005≠0.01 en fila 1155 / H2\n",
      "[Aviso] dt original 0.005≠0.01 en fila 1155 / V\n",
      "[Aviso] dt original 0.005≠0.01 en fila 1156 / H1\n",
      "[Aviso] dt original 0.005≠0.01 en fila 1156 / H2\n",
      "[Aviso] dt original 0.005≠0.01 en fila 1156 / V\n",
      "[Aviso] dt original 0.02≠0.01 en fila 1157 / H1\n",
      "[Aviso] dt original 0.02≠0.01 en fila 1157 / H2\n",
      "[Aviso] dt original 0.02≠0.01 en fila 1157 / V\n",
      "[Aviso] dt original 0.02≠0.01 en fila 1158 / H1\n",
      "[Aviso] dt original 0.02≠0.01 en fila 1158 / H2\n",
      "[Aviso] dt original 0.02≠0.01 en fila 1158 / V\n",
      "[Aviso] dt original 0.02≠0.01 en fila 1159 / H1\n",
      "[Aviso] dt original 0.02≠0.01 en fila 1159 / H2\n",
      "[Aviso] dt original 0.02≠0.01 en fila 1159 / V\n",
      "[Aviso] dt original 0.02≠0.01 en fila 1161 / H1\n",
      "[Aviso] dt original 0.02≠0.01 en fila 1161 / H2\n",
      "[Aviso] dt original 0.02≠0.01 en fila 1161 / V\n",
      "[Aviso] dt original 0.02≠0.01 en fila 1163 / H1\n",
      "[Aviso] dt original 0.02≠0.01 en fila 1163 / H2\n",
      "[Aviso] dt original 0.02≠0.01 en fila 1163 / V\n",
      "[Aviso] dt original 0.02≠0.01 en fila 1164 / H1\n",
      "[Aviso] dt original 0.02≠0.01 en fila 1164 / H2\n",
      "[Aviso] dt original 0.02≠0.01 en fila 1164 / V\n",
      "[Aviso] dt original 0.02≠0.01 en fila 1167 / H1\n",
      "[Aviso] dt original 0.02≠0.01 en fila 1167 / H2\n",
      "[Aviso] dt original 0.02≠0.01 en fila 1167 / V\n",
      "[Aviso] dt original 0.02≠0.01 en fila 1172 / H1\n",
      "[Aviso] dt original 0.02≠0.01 en fila 1172 / H2\n",
      "[Aviso] dt original 0.02≠0.01 en fila 1172 / V\n",
      "[Aviso] dt original 0.004≠0.01 en fila 1175 / H1\n",
      "[Aviso] dt original 0.004≠0.01 en fila 1175 / H2\n",
      "[Aviso] dt original 0.004≠0.01 en fila 1175 / V\n",
      "[Aviso] dt original 0.004≠0.01 en fila 1176 / H1\n",
      "[Aviso] dt original 0.004≠0.01 en fila 1176 / H2\n",
      "[Aviso] dt original 0.004≠0.01 en fila 1176 / V\n",
      "[Aviso] dt original 0.005≠0.01 en fila 1177 / H1\n",
      "[Aviso] dt original 0.005≠0.01 en fila 1177 / H2\n",
      "[Aviso] dt original 0.005≠0.01 en fila 1177 / V\n",
      "[Aviso] dt original 0.005≠0.01 en fila 1178 / H1\n",
      "[Aviso] dt original 0.005≠0.01 en fila 1178 / H2\n",
      "[Aviso] dt original 0.005≠0.01 en fila 1178 / V\n",
      "[Aviso] dt original 0.005≠0.01 en fila 1179 / H1\n",
      "[Aviso] dt original 0.005≠0.01 en fila 1179 / H2\n",
      "[Aviso] dt original 0.005≠0.01 en fila 1179 / V\n",
      "[Aviso] dt original 0.005≠0.01 en fila 1180 / H1\n",
      "[Aviso] dt original 0.005≠0.01 en fila 1180 / H2\n",
      "[Aviso] dt original 0.005≠0.01 en fila 1180 / V\n",
      "[Aviso] dt original 0.005≠0.01 en fila 1181 / H1\n",
      "[Aviso] dt original 0.005≠0.01 en fila 1181 / H2\n",
      "[Aviso] dt original 0.005≠0.01 en fila 1181 / V\n",
      "[Aviso] dt original 0.005≠0.01 en fila 1182 / H1\n",
      "[Aviso] dt original 0.005≠0.01 en fila 1182 / H2\n",
      "[Aviso] dt original 0.005≠0.01 en fila 1182 / V\n",
      "[Aviso] dt original 0.005≠0.01 en fila 1183 / H1\n",
      "[Aviso] dt original 0.005≠0.01 en fila 1183 / H2\n",
      "[Aviso] dt original 0.005≠0.01 en fila 1183 / V\n",
      "[Aviso] dt original 0.004≠0.01 en fila 1184 / H1\n",
      "[Aviso] dt original 0.004≠0.01 en fila 1184 / H2\n",
      "[Aviso] dt original 0.004≠0.01 en fila 1184 / V\n",
      "[Aviso] dt original 0.005≠0.01 en fila 1185 / H1\n",
      "[Aviso] dt original 0.005≠0.01 en fila 1185 / H2\n",
      "[Aviso] dt original 0.005≠0.01 en fila 1185 / V\n",
      "[Aviso] dt original 0.005≠0.01 en fila 1186 / H1\n",
      "[Aviso] dt original 0.005≠0.01 en fila 1186 / H2\n",
      "[Aviso] dt original 0.005≠0.01 en fila 1186 / V\n",
      "[Aviso] dt original 0.005≠0.01 en fila 1187 / H1\n",
      "[Aviso] dt original 0.005≠0.01 en fila 1187 / H2\n",
      "[Aviso] dt original 0.005≠0.01 en fila 1187 / V\n",
      "[Aviso] dt original 0.005≠0.01 en fila 1188 / H1\n",
      "[Aviso] dt original 0.005≠0.01 en fila 1188 / H2\n",
      "[Aviso] dt original 0.005≠0.01 en fila 1188 / V\n",
      "[Aviso] dt original 0.005≠0.01 en fila 1189 / H1\n",
      "[Aviso] dt original 0.005≠0.01 en fila 1189 / H2\n",
      "[Aviso] dt original 0.005≠0.01 en fila 1189 / V\n",
      "[Aviso] dt original 0.005≠0.01 en fila 1190 / H1\n",
      "[Aviso] dt original 0.005≠0.01 en fila 1190 / H2\n",
      "[Aviso] dt original 0.005≠0.01 en fila 1190 / V\n",
      "[Aviso] dt original 0.005≠0.01 en fila 1191 / H1\n",
      "[Aviso] dt original 0.005≠0.01 en fila 1191 / H2\n",
      "[Aviso] dt original 0.005≠0.01 en fila 1191 / V\n",
      "[Aviso] dt original 0.004≠0.01 en fila 1192 / H1\n",
      "[Aviso] dt original 0.004≠0.01 en fila 1192 / H2\n",
      "[Aviso] dt original 0.004≠0.01 en fila 1192 / V\n",
      "[Aviso] dt original 0.005≠0.01 en fila 1193 / H1\n",
      "[Aviso] dt original 0.005≠0.01 en fila 1193 / H2\n",
      "[Aviso] dt original 0.005≠0.01 en fila 1193 / V\n",
      "[Aviso] dt original 0.005≠0.01 en fila 1194 / H1\n",
      "[Aviso] dt original 0.005≠0.01 en fila 1194 / H2\n",
      "[Aviso] dt original 0.005≠0.01 en fila 1194 / V\n",
      "[Aviso] dt original 0.005≠0.01 en fila 1195 / H1\n",
      "[Aviso] dt original 0.005≠0.01 en fila 1195 / H2\n",
      "[Aviso] dt original 0.005≠0.01 en fila 1195 / V\n",
      "[Aviso] dt original 0.004≠0.01 en fila 1196 / H1\n",
      "[Aviso] dt original 0.004≠0.01 en fila 1196 / H2\n",
      "[Aviso] dt original 0.004≠0.01 en fila 1196 / V\n",
      "[Aviso] dt original 0.005≠0.01 en fila 1197 / H1\n",
      "[Aviso] dt original 0.005≠0.01 en fila 1197 / H2\n",
      "[Aviso] dt original 0.005≠0.01 en fila 1197 / V\n",
      "[Aviso] dt original 0.005≠0.01 en fila 1198 / H1\n",
      "[Aviso] dt original 0.005≠0.01 en fila 1198 / H2\n",
      "[Aviso] dt original 0.005≠0.01 en fila 1198 / V\n",
      "[Aviso] dt original 0.005≠0.01 en fila 1199 / H1\n",
      "[Aviso] dt original 0.005≠0.01 en fila 1199 / H2\n",
      "[Aviso] dt original 0.005≠0.01 en fila 1199 / V\n",
      "[Aviso] dt original 0.005≠0.01 en fila 1200 / H1\n",
      "[Aviso] dt original 0.005≠0.01 en fila 1200 / H2\n",
      "[Aviso] dt original 0.005≠0.01 en fila 1200 / V\n",
      "[Aviso] dt original 0.005≠0.01 en fila 1201 / H1\n",
      "[Aviso] dt original 0.005≠0.01 en fila 1201 / H2\n",
      "[Aviso] dt original 0.005≠0.01 en fila 1201 / V\n",
      "[Aviso] dt original 0.005≠0.01 en fila 1202 / H1\n",
      "[Aviso] dt original 0.005≠0.01 en fila 1202 / H2\n",
      "[Aviso] dt original 0.005≠0.01 en fila 1202 / V\n",
      "[Aviso] dt original 0.004≠0.01 en fila 1203 / H1\n",
      "[Aviso] dt original 0.004≠0.01 en fila 1203 / H2\n",
      "[Aviso] dt original 0.004≠0.01 en fila 1203 / V\n",
      "[Aviso] dt original 0.004≠0.01 en fila 1204 / H1\n",
      "[Aviso] dt original 0.004≠0.01 en fila 1204 / H2\n",
      "[Aviso] dt original 0.004≠0.01 en fila 1204 / V\n",
      "[Aviso] dt original 0.004≠0.01 en fila 1205 / H1\n",
      "[Aviso] dt original 0.004≠0.01 en fila 1205 / H2\n",
      "[Aviso] dt original 0.004≠0.01 en fila 1205 / V\n",
      "[Aviso] dt original 0.004≠0.01 en fila 1206 / H1\n",
      "[Aviso] dt original 0.004≠0.01 en fila 1206 / H2\n",
      "[Aviso] dt original 0.004≠0.01 en fila 1206 / V\n",
      "[Aviso] dt original 0.004≠0.01 en fila 1207 / H1\n",
      "[Aviso] dt original 0.004≠0.01 en fila 1207 / H2\n",
      "[Aviso] dt original 0.004≠0.01 en fila 1207 / V\n",
      "[Aviso] dt original 0.004≠0.01 en fila 1208 / H1\n",
      "[Aviso] dt original 0.004≠0.01 en fila 1208 / H2\n",
      "[Aviso] dt original 0.004≠0.01 en fila 1208 / V\n",
      "[Aviso] dt original 0.004≠0.01 en fila 1209 / H1\n",
      "[Aviso] dt original 0.004≠0.01 en fila 1209 / H2\n",
      "[Aviso] dt original 0.004≠0.01 en fila 1209 / V\n",
      "[Aviso] dt original 0.004≠0.01 en fila 1210 / H1\n",
      "[Aviso] dt original 0.004≠0.01 en fila 1210 / H2\n",
      "[Aviso] dt original 0.004≠0.01 en fila 1210 / V\n",
      "[Aviso] dt original 0.005≠0.01 en fila 1211 / H1\n",
      "[Aviso] dt original 0.005≠0.01 en fila 1211 / H2\n",
      "[Aviso] dt original 0.005≠0.01 en fila 1211 / V\n",
      "[Aviso] dt original 0.005≠0.01 en fila 1212 / H1\n",
      "[Aviso] dt original 0.005≠0.01 en fila 1212 / H2\n",
      "[Aviso] dt original 0.005≠0.01 en fila 1212 / V\n",
      "[Aviso] dt original 0.005≠0.01 en fila 1213 / H1\n",
      "[Aviso] dt original 0.005≠0.01 en fila 1213 / H2\n",
      "[Aviso] dt original 0.005≠0.01 en fila 1213 / V\n",
      "[Aviso] dt original 0.005≠0.01 en fila 1214 / H1\n",
      "[Aviso] dt original 0.005≠0.01 en fila 1214 / H2\n",
      "[Aviso] dt original 0.005≠0.01 en fila 1214 / V\n",
      "[Aviso] dt original 0.005≠0.01 en fila 1215 / H1\n",
      "[Aviso] dt original 0.005≠0.01 en fila 1215 / H2\n",
      "[Aviso] dt original 0.005≠0.01 en fila 1215 / V\n",
      "[Aviso] dt original 0.005≠0.01 en fila 1216 / H1\n",
      "[Aviso] dt original 0.005≠0.01 en fila 1216 / H2\n",
      "[Aviso] dt original 0.005≠0.01 en fila 1216 / V\n",
      "[Aviso] dt original 0.005≠0.01 en fila 1217 / H1\n",
      "[Aviso] dt original 0.005≠0.01 en fila 1217 / H2\n",
      "[Aviso] dt original 0.005≠0.01 en fila 1217 / V\n",
      "[Aviso] dt original 0.005≠0.01 en fila 1218 / H1\n",
      "[Aviso] dt original 0.005≠0.01 en fila 1218 / H2\n",
      "[Aviso] dt original 0.005≠0.01 en fila 1218 / V\n",
      "[Aviso] dt original 0.005≠0.01 en fila 1219 / H1\n",
      "[Aviso] dt original 0.005≠0.01 en fila 1219 / H2\n",
      "[Aviso] dt original 0.005≠0.01 en fila 1219 / V\n",
      "[Aviso] dt original 0.005≠0.01 en fila 1220 / H1\n",
      "[Aviso] dt original 0.005≠0.01 en fila 1220 / H2\n",
      "[Aviso] dt original 0.005≠0.01 en fila 1220 / V\n",
      "[Aviso] dt original 0.005≠0.01 en fila 1221 / H1\n",
      "[Aviso] dt original 0.005≠0.01 en fila 1221 / H2\n",
      "[Aviso] dt original 0.005≠0.01 en fila 1221 / V\n",
      "[Aviso] dt original 0.004≠0.01 en fila 1222 / H1\n",
      "[Aviso] dt original 0.004≠0.01 en fila 1222 / H2\n",
      "[Aviso] dt original 0.004≠0.01 en fila 1222 / V\n",
      "[Aviso] dt original 0.005≠0.01 en fila 1225 / H1\n",
      "[Aviso] dt original 0.005≠0.01 en fila 1225 / H2\n",
      "[Aviso] dt original 0.005≠0.01 en fila 1225 / V\n",
      "[Aviso] dt original 0.005≠0.01 en fila 1226 / H1\n",
      "[Aviso] dt original 0.005≠0.01 en fila 1226 / H2\n",
      "[Aviso] dt original 0.005≠0.01 en fila 1226 / V\n",
      "[Aviso] dt original 0.005≠0.01 en fila 1227 / H1\n",
      "[Aviso] dt original 0.005≠0.01 en fila 1227 / H2\n",
      "[Aviso] dt original 0.005≠0.01 en fila 1227 / V\n",
      "[Aviso] dt original 0.00244≠0.01 en fila 1228 / H1\n",
      "[Aviso] dt original 0.00244≠0.01 en fila 1228 / H2\n",
      "[Aviso] dt original 0.00244≠0.01 en fila 1228 / V\n",
      "[Aviso] dt original 0.005≠0.01 en fila 1229 / H1\n",
      "[Aviso] dt original 0.005≠0.01 en fila 1229 / H2\n",
      "[Aviso] dt original 0.005≠0.01 en fila 1229 / V\n",
      "[Aviso] dt original 0.005≠0.01 en fila 1230 / H1\n",
      "[Aviso] dt original 0.005≠0.01 en fila 1230 / H2\n",
      "[Aviso] dt original 0.005≠0.01 en fila 1230 / V\n",
      "[Aviso] dt original 0.005≠0.01 en fila 1231 / H1\n",
      "[Aviso] dt original 0.005≠0.01 en fila 1231 / H2\n",
      "[Aviso] dt original 0.005≠0.01 en fila 1231 / V\n",
      "[Aviso] dt original 0.005≠0.01 en fila 1232 / H1\n",
      "[Aviso] dt original 0.005≠0.01 en fila 1232 / H2\n",
      "[Aviso] dt original 0.005≠0.01 en fila 1232 / V\n",
      "[Aviso] dt original 0.005≠0.01 en fila 1233 / H1\n",
      "[Aviso] dt original 0.005≠0.01 en fila 1233 / H2\n",
      "[Aviso] dt original 0.005≠0.01 en fila 1233 / V\n",
      "[Aviso] dt original 0.005≠0.01 en fila 1234 / H1\n",
      "[Aviso] dt original 0.005≠0.01 en fila 1234 / H2\n",
      "[Aviso] dt original 0.005≠0.01 en fila 1234 / V\n",
      "[Aviso] dt original 0.005≠0.01 en fila 1235 / H1\n",
      "[Aviso] dt original 0.005≠0.01 en fila 1235 / H2\n",
      "[Aviso] dt original 0.005≠0.01 en fila 1235 / V\n",
      "[Aviso] dt original 0.005≠0.01 en fila 1236 / H1\n",
      "[Aviso] dt original 0.005≠0.01 en fila 1236 / H2\n",
      "[Aviso] dt original 0.005≠0.01 en fila 1236 / V\n",
      "[Aviso] dt original 0.005≠0.01 en fila 1237 / H1\n",
      "[Aviso] dt original 0.005≠0.01 en fila 1237 / H2\n",
      "[Aviso] dt original 0.005≠0.01 en fila 1237 / V\n",
      "[Aviso] dt original 0.005≠0.01 en fila 1238 / H1\n",
      "[Aviso] dt original 0.005≠0.01 en fila 1238 / H2\n",
      "[Aviso] dt original 0.005≠0.01 en fila 1238 / V\n",
      "[Aviso] dt original 0.005≠0.01 en fila 1239 / H1\n",
      "[Aviso] dt original 0.005≠0.01 en fila 1239 / H2\n",
      "[Aviso] dt original 0.005≠0.01 en fila 1239 / V\n",
      "[Aviso] dt original 0.005≠0.01 en fila 1240 / H1\n",
      "[Aviso] dt original 0.005≠0.01 en fila 1240 / H2\n",
      "[Aviso] dt original 0.005≠0.01 en fila 1240 / V\n",
      "[Aviso] dt original 0.02≠0.01 en fila 1241 / H1\n",
      "[Aviso] dt original 0.02≠0.01 en fila 1241 / H2\n",
      "[Aviso] dt original 0.02≠0.01 en fila 1241 / V\n",
      "[Aviso] dt original 0.02≠0.01 en fila 1242 / H1\n",
      "[Aviso] dt original 0.02≠0.01 en fila 1242 / H2\n",
      "[Aviso] dt original 0.02≠0.01 en fila 1242 / V\n",
      "[Aviso] dt original 0.02≠0.01 en fila 1243 / H1\n",
      "[Aviso] dt original 0.02≠0.01 en fila 1243 / H2\n",
      "[Aviso] dt original 0.02≠0.01 en fila 1243 / V\n",
      "[Aviso] dt original 0.005≠0.01 en fila 1245 / H1\n",
      "[Aviso] dt original 0.005≠0.01 en fila 1245 / H2\n",
      "[Aviso] dt original 0.005≠0.01 en fila 1245 / V\n",
      "[Aviso] dt original 0.005≠0.01 en fila 1246 / H1\n",
      "[Aviso] dt original 0.005≠0.01 en fila 1246 / H2\n",
      "[Aviso] dt original 0.005≠0.01 en fila 1246 / V\n",
      "[Aviso] dt original 0.005≠0.01 en fila 1247 / H1\n",
      "[Aviso] dt original 0.005≠0.01 en fila 1247 / H2\n",
      "[Aviso] dt original 0.005≠0.01 en fila 1247 / V\n",
      "[Aviso] dt original 0.005≠0.01 en fila 1248 / H1\n",
      "[Aviso] dt original 0.005≠0.01 en fila 1248 / H2\n",
      "[Aviso] dt original 0.005≠0.01 en fila 1248 / V\n",
      "[Aviso] dt original 0.004≠0.01 en fila 1249 / H1\n",
      "[Aviso] dt original 0.004≠0.01 en fila 1249 / H2\n",
      "[Aviso] dt original 0.004≠0.01 en fila 1249 / V\n",
      "[Aviso] dt original 0.005≠0.01 en fila 1250 / H1\n",
      "[Aviso] dt original 0.005≠0.01 en fila 1250 / H2\n",
      "[Aviso] dt original 0.005≠0.01 en fila 1250 / V\n",
      "[Aviso] dt original 0.005≠0.01 en fila 1251 / H1\n",
      "[Aviso] dt original 0.005≠0.01 en fila 1251 / H2\n",
      "[Aviso] dt original 0.005≠0.01 en fila 1251 / V\n",
      "[Aviso] dt original 0.005≠0.01 en fila 1252 / H1\n",
      "[Aviso] dt original 0.005≠0.01 en fila 1252 / H2\n",
      "[Aviso] dt original 0.005≠0.01 en fila 1252 / V\n",
      "[Aviso] dt original 0.005≠0.01 en fila 1253 / H1\n",
      "[Aviso] dt original 0.005≠0.01 en fila 1253 / H2\n",
      "[Aviso] dt original 0.005≠0.01 en fila 1253 / V\n",
      "[Aviso] dt original 0.005≠0.01 en fila 1254 / H1\n",
      "[Aviso] dt original 0.005≠0.01 en fila 1254 / H2\n",
      "[Aviso] dt original 0.005≠0.01 en fila 1254 / V\n",
      "[Aviso] dt original 0.005≠0.01 en fila 1255 / H1\n",
      "[Aviso] dt original 0.005≠0.01 en fila 1255 / H2\n",
      "[Aviso] dt original 0.005≠0.01 en fila 1255 / V\n",
      "[Aviso] dt original 0.005≠0.01 en fila 1256 / H1\n",
      "[Aviso] dt original 0.005≠0.01 en fila 1256 / H2\n",
      "[Aviso] dt original 0.005≠0.01 en fila 1256 / V\n",
      "[Aviso] dt original 0.004≠0.01 en fila 1257 / H1\n",
      "[Aviso] dt original 0.004≠0.01 en fila 1257 / H2\n",
      "[Aviso] dt original 0.004≠0.01 en fila 1257 / V\n",
      "[Aviso] dt original 0.005≠0.01 en fila 1258 / H1\n",
      "[Aviso] dt original 0.005≠0.01 en fila 1258 / H2\n",
      "[Aviso] dt original 0.005≠0.01 en fila 1258 / V\n",
      "[Aviso] dt original 0.004≠0.01 en fila 1259 / H1\n",
      "[Aviso] dt original 0.004≠0.01 en fila 1259 / H2\n",
      "[Aviso] dt original 0.004≠0.01 en fila 1259 / V\n",
      "[Aviso] dt original 0.004≠0.01 en fila 1260 / H1\n",
      "[Aviso] dt original 0.004≠0.01 en fila 1260 / H2\n",
      "[Aviso] dt original 0.004≠0.01 en fila 1260 / V\n",
      "[Aviso] dt original 0.004≠0.01 en fila 1261 / H1\n",
      "[Aviso] dt original 0.004≠0.01 en fila 1261 / H2\n",
      "[Aviso] dt original 0.004≠0.01 en fila 1261 / V\n",
      "[Aviso] dt original 0.005≠0.01 en fila 1262 / H1\n",
      "[Aviso] dt original 0.005≠0.01 en fila 1262 / H2\n",
      "[Aviso] dt original 0.005≠0.01 en fila 1262 / V\n",
      "[Aviso] dt original 0.005≠0.01 en fila 1263 / H1\n",
      "[Aviso] dt original 0.005≠0.01 en fila 1263 / H2\n",
      "[Aviso] dt original 0.005≠0.01 en fila 1263 / V\n",
      "[Aviso] dt original 0.005≠0.01 en fila 1264 / H1\n",
      "[Aviso] dt original 0.005≠0.01 en fila 1264 / H2\n",
      "[Aviso] dt original 0.005≠0.01 en fila 1264 / V\n",
      "[Aviso] dt original 0.004≠0.01 en fila 1265 / H1\n",
      "[Aviso] dt original 0.004≠0.01 en fila 1265 / H2\n",
      "[Aviso] dt original 0.004≠0.01 en fila 1265 / V\n",
      "[Aviso] dt original 0.005≠0.01 en fila 1266 / H1\n",
      "[Aviso] dt original 0.005≠0.01 en fila 1266 / H2\n",
      "[Aviso] dt original 0.005≠0.01 en fila 1266 / V\n",
      "[Aviso] dt original 0.005≠0.01 en fila 1267 / H1\n",
      "[Aviso] dt original 0.005≠0.01 en fila 1267 / H2\n",
      "[Aviso] dt original 0.005≠0.01 en fila 1267 / V\n",
      "[Aviso] dt original 0.005≠0.01 en fila 1268 / H1\n",
      "[Aviso] dt original 0.005≠0.01 en fila 1268 / H2\n",
      "[Aviso] dt original 0.005≠0.01 en fila 1268 / V\n",
      "[Aviso] dt original 0.005≠0.01 en fila 1269 / H1\n",
      "[Aviso] dt original 0.005≠0.01 en fila 1269 / H2\n",
      "[Aviso] dt original 0.005≠0.01 en fila 1269 / V\n",
      "[Aviso] dt original 0.005≠0.01 en fila 1270 / H1\n",
      "[Aviso] dt original 0.005≠0.01 en fila 1270 / H2\n",
      "[Aviso] dt original 0.005≠0.01 en fila 1270 / V\n",
      "[Aviso] dt original 0.004≠0.01 en fila 1271 / H1\n",
      "[Aviso] dt original 0.004≠0.01 en fila 1271 / H2\n",
      "[Aviso] dt original 0.004≠0.01 en fila 1271 / V\n",
      "[Aviso] dt original 0.004≠0.01 en fila 1272 / H1\n",
      "[Aviso] dt original 0.004≠0.01 en fila 1272 / H2\n",
      "[Aviso] dt original 0.004≠0.01 en fila 1272 / V\n",
      "[Aviso] dt original 0.004≠0.01 en fila 1273 / H1\n",
      "[Aviso] dt original 0.004≠0.01 en fila 1273 / H2\n",
      "[Aviso] dt original 0.004≠0.01 en fila 1273 / V\n",
      "[Aviso] dt original 0.005≠0.01 en fila 1274 / H1\n",
      "[Aviso] dt original 0.005≠0.01 en fila 1274 / H2\n",
      "[Aviso] dt original 0.005≠0.01 en fila 1274 / V\n",
      "[Aviso] dt original 0.005≠0.01 en fila 1275 / H1\n",
      "[Aviso] dt original 0.005≠0.01 en fila 1275 / H2\n",
      "[Aviso] dt original 0.005≠0.01 en fila 1275 / V\n",
      "[Aviso] dt original 0.005≠0.01 en fila 1276 / H1\n",
      "[Aviso] dt original 0.005≠0.01 en fila 1276 / H2\n",
      "[Aviso] dt original 0.005≠0.01 en fila 1276 / V\n",
      "[Aviso] dt original 0.005≠0.01 en fila 1277 / H1\n",
      "[Aviso] dt original 0.005≠0.01 en fila 1277 / H2\n",
      "[Aviso] dt original 0.005≠0.01 en fila 1277 / V\n",
      "[Aviso] dt original 0.005≠0.01 en fila 1278 / H1\n",
      "[Aviso] dt original 0.005≠0.01 en fila 1278 / H2\n",
      "[Aviso] dt original 0.005≠0.01 en fila 1278 / V\n",
      "[Aviso] dt original 0.005≠0.01 en fila 1279 / H1\n",
      "[Aviso] dt original 0.005≠0.01 en fila 1279 / H2\n",
      "[Aviso] dt original 0.005≠0.01 en fila 1279 / V\n",
      "[Aviso] dt original 0.005≠0.01 en fila 1280 / H1\n",
      "[Aviso] dt original 0.005≠0.01 en fila 1280 / H2\n",
      "[Aviso] dt original 0.005≠0.01 en fila 1280 / V\n",
      "[Aviso] dt original 0.005≠0.01 en fila 1281 / H1\n",
      "[Aviso] dt original 0.005≠0.01 en fila 1281 / H2\n",
      "[Aviso] dt original 0.005≠0.01 en fila 1281 / V\n",
      "[Aviso] dt original 0.005≠0.01 en fila 1282 / H1\n",
      "[Aviso] dt original 0.005≠0.01 en fila 1282 / H2\n",
      "[Aviso] dt original 0.005≠0.01 en fila 1282 / V\n",
      "[Aviso] dt original 0.005≠0.01 en fila 1283 / H1\n",
      "[Aviso] dt original 0.005≠0.01 en fila 1283 / H2\n",
      "[Aviso] dt original 0.005≠0.01 en fila 1283 / V\n",
      "[Aviso] dt original 0.004≠0.01 en fila 1284 / H1\n",
      "[Aviso] dt original 0.004≠0.01 en fila 1284 / H2\n",
      "[Aviso] dt original 0.004≠0.01 en fila 1284 / V\n",
      "[Aviso] dt original 0.004≠0.01 en fila 1285 / H1\n",
      "[Aviso] dt original 0.004≠0.01 en fila 1285 / H2\n",
      "[Aviso] dt original 0.004≠0.01 en fila 1285 / V\n",
      "[Aviso] dt original 0.005≠0.01 en fila 1286 / H1\n",
      "[Aviso] dt original 0.005≠0.01 en fila 1286 / H2\n",
      "[Aviso] dt original 0.005≠0.01 en fila 1286 / V\n",
      "[Aviso] dt original 0.005≠0.01 en fila 1287 / H1\n",
      "[Aviso] dt original 0.005≠0.01 en fila 1287 / H2\n",
      "[Aviso] dt original 0.005≠0.01 en fila 1287 / V\n",
      "[Aviso] dt original 0.005≠0.01 en fila 1288 / H1\n",
      "[Aviso] dt original 0.005≠0.01 en fila 1288 / H2\n",
      "[Aviso] dt original 0.005≠0.01 en fila 1288 / V\n",
      "[Aviso] dt original 0.005≠0.01 en fila 1289 / H1\n",
      "[Aviso] dt original 0.005≠0.01 en fila 1289 / H2\n",
      "[Aviso] dt original 0.005≠0.01 en fila 1289 / V\n",
      "[Aviso] dt original 0.004≠0.01 en fila 1290 / H1\n",
      "[Aviso] dt original 0.004≠0.01 en fila 1290 / H2\n",
      "[Aviso] dt original 0.004≠0.01 en fila 1290 / V\n",
      "[Aviso] dt original 0.004≠0.01 en fila 1291 / H1\n",
      "[Aviso] dt original 0.004≠0.01 en fila 1291 / H2\n",
      "[Aviso] dt original 0.004≠0.01 en fila 1291 / V\n",
      "[Aviso] dt original 0.005≠0.01 en fila 1292 / H1\n",
      "[Aviso] dt original 0.005≠0.01 en fila 1292 / H2\n",
      "[Aviso] dt original 0.005≠0.01 en fila 1292 / V\n",
      "[Aviso] dt original 0.005≠0.01 en fila 1293 / H1\n",
      "[Aviso] dt original 0.005≠0.01 en fila 1293 / H2\n",
      "[Aviso] dt original 0.005≠0.01 en fila 1293 / V\n",
      "[Aviso] dt original 0.02≠0.01 en fila 1294 / H1\n",
      "[Aviso] dt original 0.02≠0.01 en fila 1294 / H2\n",
      "[Aviso] dt original 0.02≠0.01 en fila 1294 / V\n",
      "[Aviso] dt original 0.005≠0.01 en fila 1296 / H1\n",
      "[Aviso] dt original 0.005≠0.01 en fila 1296 / H2\n",
      "[Aviso] dt original 0.005≠0.01 en fila 1296 / V\n",
      "[Aviso] dt original 0.0125≠0.01 en fila 1303 / H1\n",
      "[Aviso] dt original 0.0125≠0.01 en fila 1303 / H2\n",
      "[Aviso] dt original 0.0125≠0.01 en fila 1303 / V\n",
      "[Aviso] dt original 0.0125≠0.01 en fila 1311 / H1\n",
      "[Aviso] dt original 0.0125≠0.01 en fila 1311 / H2\n",
      "[Aviso] dt original 0.0125≠0.01 en fila 1311 / V\n",
      "[Aviso] dt original 0.0125≠0.01 en fila 1318 / H1\n",
      "[Aviso] dt original 0.0125≠0.01 en fila 1318 / H2\n",
      "[Aviso] dt original 0.0125≠0.01 en fila 1318 / V\n",
      "[Aviso] dt original 0.0125≠0.01 en fila 1323 / H1\n",
      "[Aviso] dt original 0.0125≠0.01 en fila 1323 / H2\n",
      "[Aviso] dt original 0.0125≠0.01 en fila 1323 / V\n",
      "[Aviso] dt original 0.005≠0.01 en fila 1325 / H1\n",
      "[Aviso] dt original 0.005≠0.01 en fila 1325 / H2\n",
      "[Aviso] dt original 0.005≠0.01 en fila 1325 / V\n",
      "[Aviso] dt original 0.005≠0.01 en fila 1327 / H1\n",
      "[Aviso] dt original 0.005≠0.01 en fila 1327 / H2\n",
      "[Aviso] dt original 0.005≠0.01 en fila 1327 / V\n",
      "[Aviso] dt original 0.005≠0.01 en fila 1329 / H1\n",
      "[Aviso] dt original 0.005≠0.01 en fila 1329 / H2\n",
      "[Aviso] dt original 0.005≠0.01 en fila 1329 / V\n",
      "[Aviso] dt original 0.005≠0.01 en fila 1330 / H1\n",
      "[Aviso] dt original 0.005≠0.01 en fila 1330 / H2\n",
      "[Aviso] dt original 0.005≠0.01 en fila 1330 / V\n",
      "[Aviso] dt original 0.005≠0.01 en fila 1331 / H1\n",
      "[Aviso] dt original 0.005≠0.01 en fila 1331 / H2\n",
      "[Aviso] dt original 0.005≠0.01 en fila 1331 / V\n",
      "[Aviso] dt original 0.005≠0.01 en fila 1332 / H1\n",
      "[Aviso] dt original 0.005≠0.01 en fila 1332 / H2\n",
      "[Aviso] dt original 0.005≠0.01 en fila 1332 / V\n",
      "[Aviso] dt original 0.005≠0.01 en fila 1333 / H1\n",
      "[Aviso] dt original 0.005≠0.01 en fila 1333 / H2\n",
      "[Aviso] dt original 0.005≠0.01 en fila 1333 / V\n",
      "[Aviso] dt original 0.005≠0.01 en fila 1334 / H1\n",
      "[Aviso] dt original 0.005≠0.01 en fila 1334 / H2\n",
      "[Aviso] dt original 0.005≠0.01 en fila 1334 / V\n",
      "[Aviso] dt original 0.005≠0.01 en fila 1335 / H1\n",
      "[Aviso] dt original 0.005≠0.01 en fila 1335 / H2\n",
      "[Aviso] dt original 0.005≠0.01 en fila 1335 / V\n",
      "[Aviso] dt original 0.005≠0.01 en fila 1338 / H1\n",
      "[Aviso] dt original 0.005≠0.01 en fila 1338 / H2\n",
      "[Aviso] dt original 0.005≠0.01 en fila 1338 / V\n",
      "[Aviso] dt original 0.005≠0.01 en fila 1339 / H1\n",
      "[Aviso] dt original 0.005≠0.01 en fila 1339 / H2\n",
      "[Aviso] dt original 0.005≠0.01 en fila 1339 / V\n",
      "[Aviso] dt original 0.005≠0.01 en fila 1341 / H1\n",
      "[Aviso] dt original 0.005≠0.01 en fila 1341 / H2\n",
      "[Aviso] dt original 0.005≠0.01 en fila 1341 / V\n",
      "[Aviso] dt original 0.005≠0.01 en fila 1342 / H1\n",
      "[Aviso] dt original 0.005≠0.01 en fila 1342 / H2\n",
      "[Aviso] dt original 0.005≠0.01 en fila 1342 / V\n",
      "[Aviso] dt original 0.005≠0.01 en fila 1343 / H1\n",
      "[Aviso] dt original 0.005≠0.01 en fila 1343 / H2\n",
      "[Aviso] dt original 0.005≠0.01 en fila 1343 / V\n",
      "[Aviso] dt original 0.005≠0.01 en fila 1344 / H1\n",
      "[Aviso] dt original 0.005≠0.01 en fila 1344 / H2\n",
      "[Aviso] dt original 0.005≠0.01 en fila 1344 / V\n",
      "[Aviso] dt original 0.005≠0.01 en fila 1345 / H1\n",
      "[Aviso] dt original 0.005≠0.01 en fila 1345 / H2\n",
      "[Aviso] dt original 0.005≠0.01 en fila 1345 / V\n",
      "[Aviso] dt original 0.005≠0.01 en fila 1346 / H1\n",
      "[Aviso] dt original 0.005≠0.01 en fila 1346 / H2\n",
      "[Aviso] dt original 0.005≠0.01 en fila 1346 / V\n",
      "[Aviso] dt original 0.005≠0.01 en fila 1347 / H1\n",
      "[Aviso] dt original 0.005≠0.01 en fila 1347 / H2\n",
      "[Aviso] dt original 0.005≠0.01 en fila 1347 / V\n",
      "[Aviso] dt original 0.005≠0.01 en fila 1348 / H1\n",
      "[Aviso] dt original 0.005≠0.01 en fila 1348 / H2\n",
      "[Aviso] dt original 0.005≠0.01 en fila 1348 / V\n",
      "[Aviso] dt original 0.0066≠0.01 en fila 1349 / H1\n",
      "[Aviso] dt original 0.0066≠0.01 en fila 1349 / H2\n",
      "[Aviso] dt original 0.0066≠0.01 en fila 1349 / V\n",
      "[Aviso] dt original 0.02≠0.01 en fila 1350 / H1\n",
      "[Aviso] dt original 0.02≠0.01 en fila 1350 / H2\n",
      "[Aviso] dt original 0.02≠0.01 en fila 1350 / V\n",
      "[Aviso] dt original 0.02≠0.01 en fila 1351 / H1\n",
      "[Aviso] dt original 0.02≠0.01 en fila 1351 / H2\n",
      "[Aviso] dt original 0.02≠0.01 en fila 1351 / V\n",
      "[Aviso] dt original 0.02≠0.01 en fila 1352 / H1\n",
      "[Aviso] dt original 0.02≠0.01 en fila 1352 / H2\n",
      "[Aviso] dt original 0.02≠0.01 en fila 1352 / V\n",
      "[Aviso] dt original 0.02≠0.01 en fila 1353 / H1\n",
      "[Aviso] dt original 0.02≠0.01 en fila 1353 / H2\n",
      "[Aviso] dt original 0.02≠0.01 en fila 1353 / V\n",
      "[Aviso] dt original 0.02≠0.01 en fila 1354 / H1\n",
      "[Aviso] dt original 0.02≠0.01 en fila 1354 / H2\n",
      "[Aviso] dt original 0.02≠0.01 en fila 1354 / V\n",
      "[Aviso] dt original 0.005≠0.01 en fila 1385 / H1\n",
      "[Aviso] dt original 0.005≠0.01 en fila 1385 / H2\n",
      "[Aviso] dt original 0.005≠0.01 en fila 1385 / V\n",
      "[Aviso] dt original 0.005≠0.01 en fila 1386 / H1\n",
      "[Aviso] dt original 0.005≠0.01 en fila 1386 / H2\n",
      "[Aviso] dt original 0.005≠0.01 en fila 1386 / V\n",
      "[Aviso] dt original 0.005≠0.01 en fila 1403 / H1\n",
      "[Aviso] dt original 0.005≠0.01 en fila 1403 / H2\n",
      "[Aviso] dt original 0.005≠0.01 en fila 1403 / V\n",
      "[Aviso] dt original 0.005≠0.01 en fila 1404 / H1\n",
      "[Aviso] dt original 0.005≠0.01 en fila 1404 / H2\n",
      "[Aviso] dt original 0.005≠0.01 en fila 1404 / V\n",
      "[Aviso] dt original 0.005≠0.01 en fila 1405 / H1\n",
      "[Aviso] dt original 0.005≠0.01 en fila 1405 / H2\n",
      "[Aviso] dt original 0.005≠0.01 en fila 1405 / V\n",
      "[Aviso] dt original 0.005≠0.01 en fila 1406 / H1\n",
      "[Aviso] dt original 0.005≠0.01 en fila 1406 / H2\n",
      "[Aviso] dt original 0.005≠0.01 en fila 1406 / V\n",
      "[Aviso] dt original 0.005≠0.01 en fila 1407 / H1\n",
      "[Aviso] dt original 0.005≠0.01 en fila 1407 / H2\n",
      "[Aviso] dt original 0.005≠0.01 en fila 1407 / V\n",
      "[Aviso] dt original 0.005≠0.01 en fila 1408 / H1\n",
      "[Aviso] dt original 0.005≠0.01 en fila 1408 / H2\n",
      "[Aviso] dt original 0.005≠0.01 en fila 1408 / V\n",
      "[Aviso] dt original 0.005≠0.01 en fila 1409 / H1\n",
      "[Aviso] dt original 0.005≠0.01 en fila 1409 / H2\n",
      "[Aviso] dt original 0.005≠0.01 en fila 1409 / V\n",
      "[Aviso] dt original 0.005≠0.01 en fila 1410 / H1\n",
      "[Aviso] dt original 0.005≠0.01 en fila 1410 / H2\n",
      "[Aviso] dt original 0.005≠0.01 en fila 1410 / V\n",
      "[Aviso] dt original 0.005≠0.01 en fila 1411 / H1\n",
      "[Aviso] dt original 0.005≠0.01 en fila 1411 / H2\n",
      "[Aviso] dt original 0.005≠0.01 en fila 1411 / V\n",
      "[Aviso] dt original 0.005≠0.01 en fila 1412 / H1\n",
      "[Aviso] dt original 0.005≠0.01 en fila 1412 / H2\n",
      "[Aviso] dt original 0.005≠0.01 en fila 1412 / V\n",
      "[Aviso] dt original 0.005≠0.01 en fila 1413 / H1\n",
      "[Aviso] dt original 0.005≠0.01 en fila 1413 / H2\n",
      "[Aviso] dt original 0.005≠0.01 en fila 1413 / V\n",
      "[Aviso] dt original 0.005≠0.01 en fila 1414 / H1\n",
      "[Aviso] dt original 0.005≠0.01 en fila 1414 / H2\n",
      "[Aviso] dt original 0.005≠0.01 en fila 1414 / V\n",
      "[Aviso] dt original 0.005≠0.01 en fila 1415 / H1\n",
      "[Aviso] dt original 0.005≠0.01 en fila 1415 / H2\n",
      "[Aviso] dt original 0.005≠0.01 en fila 1415 / V\n",
      "[Aviso] dt original 0.005≠0.01 en fila 1416 / H1\n",
      "[Aviso] dt original 0.005≠0.01 en fila 1416 / H2\n",
      "[Aviso] dt original 0.005≠0.01 en fila 1416 / V\n",
      "[Aviso] dt original 0.005≠0.01 en fila 1417 / H1\n",
      "[Aviso] dt original 0.005≠0.01 en fila 1417 / H2\n",
      "[Aviso] dt original 0.005≠0.01 en fila 1417 / V\n",
      "[Aviso] dt original 0.005≠0.01 en fila 1418 / H1\n",
      "[Aviso] dt original 0.005≠0.01 en fila 1418 / H2\n",
      "[Aviso] dt original 0.005≠0.01 en fila 1418 / V\n",
      "[Aviso] dt original 0.005≠0.01 en fila 1424 / H1\n",
      "[Aviso] dt original 0.005≠0.01 en fila 1424 / H2\n",
      "[Aviso] dt original 0.005≠0.01 en fila 1424 / V\n",
      "[Aviso] dt original 0.005≠0.01 en fila 1425 / H1\n",
      "[Aviso] dt original 0.005≠0.01 en fila 1425 / H2\n",
      "[Aviso] dt original 0.005≠0.01 en fila 1425 / V\n",
      "[Aviso] dt original 0.005≠0.01 en fila 1427 / H1\n",
      "[Aviso] dt original 0.005≠0.01 en fila 1427 / H2\n",
      "[Aviso] dt original 0.005≠0.01 en fila 1427 / V\n",
      "[Aviso] dt original 0.005≠0.01 en fila 1428 / H1\n",
      "[Aviso] dt original 0.005≠0.01 en fila 1428 / H2\n",
      "[Aviso] dt original 0.005≠0.01 en fila 1428 / V\n",
      "[Aviso] dt original 0.005≠0.01 en fila 1433 / H1\n",
      "[Aviso] dt original 0.005≠0.01 en fila 1433 / H2\n",
      "[Aviso] dt original 0.005≠0.01 en fila 1433 / V\n",
      "[Aviso] dt original 0.005≠0.01 en fila 1435 / H1\n",
      "[Aviso] dt original 0.005≠0.01 en fila 1435 / H2\n",
      "[Aviso] dt original 0.005≠0.01 en fila 1435 / V\n",
      "[Aviso] dt original 0.005≠0.01 en fila 1436 / H1\n",
      "[Aviso] dt original 0.005≠0.01 en fila 1436 / H2\n",
      "[Aviso] dt original 0.005≠0.01 en fila 1436 / V\n",
      "[Aviso] dt original 0.005≠0.01 en fila 1437 / H1\n",
      "[Aviso] dt original 0.005≠0.01 en fila 1437 / H2\n",
      "[Aviso] dt original 0.005≠0.01 en fila 1437 / V\n",
      "[Aviso] dt original 0.02≠0.01 en fila 1438 / H1\n",
      "[Aviso] dt original 0.02≠0.01 en fila 1438 / H2\n",
      "[Aviso] dt original 0.02≠0.01 en fila 1438 / V\n",
      "[Aviso] dt original 0.005≠0.01 en fila 1450 / H1\n",
      "[Aviso] dt original 0.005≠0.01 en fila 1450 / H2\n",
      "[Aviso] dt original 0.005≠0.01 en fila 1450 / V\n",
      "[Aviso] dt original 0.005≠0.01 en fila 1451 / H1\n",
      "[Aviso] dt original 0.005≠0.01 en fila 1451 / H2\n",
      "[Aviso] dt original 0.005≠0.01 en fila 1451 / V\n",
      "[Aviso] dt original 0.005≠0.01 en fila 1452 / H1\n",
      "[Aviso] dt original 0.005≠0.01 en fila 1452 / H2\n",
      "[Aviso] dt original 0.005≠0.01 en fila 1452 / V\n",
      "[Aviso] dt original 0.005≠0.01 en fila 1453 / H1\n",
      "[Aviso] dt original 0.005≠0.01 en fila 1453 / H2\n",
      "[Aviso] dt original 0.005≠0.01 en fila 1453 / V\n",
      "[Aviso] dt original 0.005≠0.01 en fila 1454 / H1\n",
      "[Aviso] dt original 0.005≠0.01 en fila 1454 / H2\n",
      "[Aviso] dt original 0.005≠0.01 en fila 1454 / V\n",
      "[Aviso] dt original 0.005≠0.01 en fila 1455 / H1\n",
      "[Aviso] dt original 0.005≠0.01 en fila 1455 / H2\n",
      "[Aviso] dt original 0.005≠0.01 en fila 1455 / V\n",
      "[Aviso] dt original 0.005≠0.01 en fila 1456 / H1\n",
      "[Aviso] dt original 0.005≠0.01 en fila 1456 / H2\n",
      "[Aviso] dt original 0.005≠0.01 en fila 1456 / V\n",
      "[Aviso] dt original 0.005≠0.01 en fila 1457 / H1\n",
      "[Aviso] dt original 0.005≠0.01 en fila 1457 / H2\n",
      "[Aviso] dt original 0.005≠0.01 en fila 1457 / V\n",
      "[Aviso] dt original 0.005≠0.01 en fila 1458 / H1\n",
      "[Aviso] dt original 0.005≠0.01 en fila 1458 / H2\n",
      "[Aviso] dt original 0.005≠0.01 en fila 1458 / V\n",
      "[Aviso] dt original 0.005≠0.01 en fila 1459 / H1\n",
      "[Aviso] dt original 0.005≠0.01 en fila 1459 / H2\n",
      "[Aviso] dt original 0.005≠0.01 en fila 1459 / V\n",
      "[Aviso] dt original 0.005≠0.01 en fila 1460 / H1\n",
      "[Aviso] dt original 0.005≠0.01 en fila 1460 / H2\n",
      "[Aviso] dt original 0.005≠0.01 en fila 1460 / V\n",
      "[Aviso] dt original 0.005≠0.01 en fila 1461 / H1\n",
      "[Aviso] dt original 0.005≠0.01 en fila 1461 / H2\n",
      "[Aviso] dt original 0.005≠0.01 en fila 1461 / V\n",
      "[Aviso] dt original 0.005≠0.01 en fila 1462 / H1\n",
      "[Aviso] dt original 0.005≠0.01 en fila 1462 / H2\n",
      "[Aviso] dt original 0.005≠0.01 en fila 1462 / V\n",
      "[Aviso] dt original 0.005≠0.01 en fila 1463 / H1\n",
      "[Aviso] dt original 0.005≠0.01 en fila 1463 / H2\n",
      "[Aviso] dt original 0.005≠0.01 en fila 1463 / V\n",
      "[Aviso] dt original 0.005≠0.01 en fila 1464 / H1\n",
      "[Aviso] dt original 0.005≠0.01 en fila 1464 / H2\n",
      "[Aviso] dt original 0.005≠0.01 en fila 1464 / V\n",
      "[Aviso] dt original 0.005≠0.01 en fila 1465 / H1\n",
      "[Aviso] dt original 0.005≠0.01 en fila 1465 / H2\n",
      "[Aviso] dt original 0.005≠0.01 en fila 1465 / V\n",
      "[Aviso] dt original 0.005≠0.01 en fila 1466 / H1\n",
      "[Aviso] dt original 0.005≠0.01 en fila 1466 / H2\n",
      "[Aviso] dt original 0.005≠0.01 en fila 1466 / V\n",
      "[Aviso] dt original 0.005≠0.01 en fila 1467 / H1\n",
      "[Aviso] dt original 0.005≠0.01 en fila 1467 / H2\n",
      "[Aviso] dt original 0.005≠0.01 en fila 1467 / V\n",
      "[Aviso] dt original 0.005≠0.01 en fila 1468 / H1\n",
      "[Aviso] dt original 0.005≠0.01 en fila 1468 / H2\n",
      "[Aviso] dt original 0.005≠0.01 en fila 1468 / V\n",
      "[Aviso] dt original 0.005≠0.01 en fila 1469 / H1\n",
      "[Aviso] dt original 0.005≠0.01 en fila 1469 / H2\n",
      "[Aviso] dt original 0.005≠0.01 en fila 1469 / V\n",
      "[Aviso] dt original 0.005≠0.01 en fila 1470 / H1\n",
      "[Aviso] dt original 0.005≠0.01 en fila 1470 / H2\n",
      "[Aviso] dt original 0.005≠0.01 en fila 1470 / V\n",
      "[Aviso] dt original 0.005≠0.01 en fila 1471 / H1\n",
      "[Aviso] dt original 0.005≠0.01 en fila 1471 / H2\n",
      "[Aviso] dt original 0.005≠0.01 en fila 1471 / V\n",
      "[Aviso] dt original 0.005≠0.01 en fila 1472 / H1\n",
      "[Aviso] dt original 0.005≠0.01 en fila 1472 / H2\n",
      "[Aviso] dt original 0.005≠0.01 en fila 1472 / V\n",
      "[Aviso] dt original 0.005≠0.01 en fila 1473 / H1\n",
      "[Aviso] dt original 0.005≠0.01 en fila 1473 / H2\n",
      "[Aviso] dt original 0.005≠0.01 en fila 1473 / V\n",
      "[Aviso] dt original 0.005≠0.01 en fila 1474 / H1\n",
      "[Aviso] dt original 0.005≠0.01 en fila 1474 / H2\n",
      "[Aviso] dt original 0.005≠0.01 en fila 1474 / V\n",
      "[Aviso] dt original 0.005≠0.01 en fila 1475 / H1\n",
      "[Aviso] dt original 0.005≠0.01 en fila 1475 / H2\n",
      "[Aviso] dt original 0.005≠0.01 en fila 1475 / V\n",
      "[Aviso] dt original 0.005≠0.01 en fila 1476 / H1\n",
      "[Aviso] dt original 0.005≠0.01 en fila 1476 / H2\n",
      "[Aviso] dt original 0.005≠0.01 en fila 1476 / V\n",
      "[Aviso] dt original 0.005≠0.01 en fila 1477 / H1\n",
      "[Aviso] dt original 0.005≠0.01 en fila 1477 / H2\n",
      "[Aviso] dt original 0.005≠0.01 en fila 1477 / V\n",
      "[Aviso] dt original 0.005≠0.01 en fila 1478 / H1\n",
      "[Aviso] dt original 0.005≠0.01 en fila 1478 / H2\n",
      "[Aviso] dt original 0.005≠0.01 en fila 1478 / V\n",
      "[Aviso] dt original 0.005≠0.01 en fila 1479 / H1\n",
      "[Aviso] dt original 0.005≠0.01 en fila 1479 / H2\n",
      "[Aviso] dt original 0.005≠0.01 en fila 1479 / V\n",
      "[Aviso] dt original 0.005≠0.01 en fila 1480 / H1\n",
      "[Aviso] dt original 0.005≠0.01 en fila 1480 / H2\n",
      "[Aviso] dt original 0.005≠0.01 en fila 1480 / V\n",
      "[Aviso] dt original 0.005≠0.01 en fila 1481 / H1\n",
      "[Aviso] dt original 0.005≠0.01 en fila 1481 / H2\n",
      "[Aviso] dt original 0.005≠0.01 en fila 1481 / V\n",
      "[Aviso] dt original 0.0078≠0.01 en fila 1482 / H1\n",
      "[Aviso] dt original 0.0078≠0.01 en fila 1482 / H2\n",
      "[Aviso] dt original 0.0078≠0.01 en fila 1482 / V\n",
      "[Aviso] dt original 0.0078≠0.01 en fila 1483 / H1\n",
      "[Aviso] dt original 0.0078≠0.01 en fila 1483 / H2\n",
      "[Aviso] dt original 0.0078≠0.01 en fila 1483 / V\n",
      "[Aviso] dt original 0.0078≠0.01 en fila 1484 / H1\n",
      "[Aviso] dt original 0.0078≠0.01 en fila 1484 / H2\n",
      "[Aviso] dt original 0.0078≠0.01 en fila 1484 / V\n",
      "[Aviso] dt original 0.02≠0.01 en fila 1485 / H1\n",
      "[Aviso] dt original 0.02≠0.01 en fila 1485 / H2\n",
      "[Aviso] dt original 0.02≠0.01 en fila 1485 / V\n",
      "[Aviso] dt original 0.02≠0.01 en fila 1486 / H1\n",
      "[Aviso] dt original 0.02≠0.01 en fila 1486 / H2\n",
      "[Aviso] dt original 0.02≠0.01 en fila 1486 / V\n",
      "[Aviso] dt original 0.02≠0.01 en fila 1487 / H1\n",
      "[Aviso] dt original 0.02≠0.01 en fila 1487 / H2\n",
      "[Aviso] dt original 0.02≠0.01 en fila 1487 / V\n",
      "[Aviso] dt original 0.02≠0.01 en fila 1488 / H1\n",
      "[Aviso] dt original 0.02≠0.01 en fila 1488 / H2\n",
      "[Aviso] dt original 0.02≠0.01 en fila 1488 / V\n",
      "[Aviso] dt original 0.02≠0.01 en fila 1489 / H1\n",
      "[Aviso] dt original 0.02≠0.01 en fila 1489 / H2\n",
      "[Aviso] dt original 0.02≠0.01 en fila 1489 / V\n",
      "[Aviso] dt original 0.02≠0.01 en fila 1490 / H1\n",
      "[Aviso] dt original 0.02≠0.01 en fila 1490 / H2\n",
      "[Aviso] dt original 0.02≠0.01 en fila 1490 / V\n",
      "[Aviso] dt original 0.02≠0.01 en fila 1491 / H1\n",
      "[Aviso] dt original 0.02≠0.01 en fila 1491 / H2\n",
      "[Aviso] dt original 0.02≠0.01 en fila 1491 / V\n",
      "[Aviso] dt original 0.02≠0.01 en fila 1496 / H1\n",
      "[Aviso] dt original 0.02≠0.01 en fila 1496 / H2\n",
      "[Aviso] dt original 0.02≠0.01 en fila 1496 / V\n",
      "[Aviso] dt original 0.005≠0.01 en fila 1498 / H1\n",
      "[Aviso] dt original 0.005≠0.01 en fila 1498 / H2\n",
      "[Aviso] dt original 0.005≠0.01 en fila 1498 / V\n",
      "[Aviso] dt original 0.005≠0.01 en fila 1499 / H1\n",
      "[Aviso] dt original 0.005≠0.01 en fila 1499 / H2\n",
      "[Aviso] dt original 0.005≠0.01 en fila 1499 / V\n",
      "[Aviso] dt original 0.02≠0.01 en fila 1502 / H1\n",
      "[Aviso] dt original 0.02≠0.01 en fila 1502 / H2\n",
      "[Aviso] dt original 0.02≠0.01 en fila 1502 / V\n",
      "[Aviso] dt original 0.02≠0.01 en fila 1503 / H1\n",
      "[Aviso] dt original 0.02≠0.01 en fila 1503 / H2\n",
      "[Aviso] dt original 0.02≠0.01 en fila 1503 / V\n",
      "[Aviso] dt original 0.02≠0.01 en fila 1504 / H1\n",
      "[Aviso] dt original 0.02≠0.01 en fila 1504 / H2\n",
      "[Aviso] dt original 0.02≠0.01 en fila 1504 / V\n",
      "[Aviso] dt original 0.02≠0.01 en fila 1505 / H1\n",
      "[Aviso] dt original 0.02≠0.01 en fila 1505 / H2\n",
      "[Aviso] dt original 0.02≠0.01 en fila 1505 / V\n",
      "[Aviso] dt original 0.02≠0.01 en fila 1506 / H1\n",
      "[Aviso] dt original 0.02≠0.01 en fila 1506 / H2\n",
      "[Aviso] dt original 0.02≠0.01 en fila 1506 / V\n",
      "[Aviso] dt original 0.02≠0.01 en fila 1507 / H1\n",
      "[Aviso] dt original 0.02≠0.01 en fila 1507 / H2\n",
      "[Aviso] dt original 0.02≠0.01 en fila 1507 / V\n",
      "[Aviso] dt original 0.02≠0.01 en fila 1509 / H1\n",
      "[Aviso] dt original 0.02≠0.01 en fila 1509 / H2\n",
      "[Aviso] dt original 0.02≠0.01 en fila 1509 / V\n",
      "[Aviso] dt original 0.02≠0.01 en fila 1511 / H1\n",
      "[Aviso] dt original 0.02≠0.01 en fila 1511 / H2\n",
      "[Aviso] dt original 0.02≠0.01 en fila 1511 / V\n",
      "[Aviso] dt original 0.02≠0.01 en fila 1513 / H1\n",
      "[Aviso] dt original 0.02≠0.01 en fila 1513 / H2\n",
      "[Aviso] dt original 0.02≠0.01 en fila 1513 / V\n",
      "[Aviso] dt original 0.02≠0.01 en fila 1515 / H1\n",
      "[Aviso] dt original 0.02≠0.01 en fila 1515 / H2\n",
      "[Aviso] dt original 0.02≠0.01 en fila 1515 / V\n",
      "[Aviso] dt original 0.005≠0.01 en fila 1516 / H1\n",
      "[Aviso] dt original 0.005≠0.01 en fila 1516 / H2\n",
      "[Aviso] dt original 0.005≠0.01 en fila 1516 / V\n",
      "[Aviso] dt original 0.005≠0.01 en fila 1519 / H1\n",
      "[Aviso] dt original 0.005≠0.01 en fila 1519 / H2\n",
      "[Aviso] dt original 0.005≠0.01 en fila 1519 / V\n",
      "[Aviso] dt original 0.005≠0.01 en fila 1520 / H1\n",
      "[Aviso] dt original 0.005≠0.01 en fila 1520 / H2\n",
      "[Aviso] dt original 0.005≠0.01 en fila 1520 / V\n",
      "[Aviso] dt original 0.005≠0.01 en fila 1521 / H1\n",
      "[Aviso] dt original 0.005≠0.01 en fila 1521 / H2\n",
      "[Aviso] dt original 0.005≠0.01 en fila 1521 / V\n",
      "[Aviso] dt original 0.005≠0.01 en fila 1522 / H1\n",
      "[Aviso] dt original 0.005≠0.01 en fila 1522 / H2\n",
      "[Aviso] dt original 0.005≠0.01 en fila 1522 / V\n",
      "[Aviso] dt original 0.005≠0.01 en fila 1523 / H1\n",
      "[Aviso] dt original 0.005≠0.01 en fila 1523 / H2\n",
      "[Aviso] dt original 0.005≠0.01 en fila 1523 / V\n",
      "[Aviso] dt original 0.005≠0.01 en fila 1524 / H1\n",
      "[Aviso] dt original 0.005≠0.01 en fila 1524 / H2\n",
      "[Aviso] dt original 0.005≠0.01 en fila 1524 / V\n",
      "[Aviso] dt original 0.005≠0.01 en fila 1525 / H1\n",
      "[Aviso] dt original 0.005≠0.01 en fila 1525 / H2\n",
      "[Aviso] dt original 0.005≠0.01 en fila 1525 / V\n",
      "[Aviso] dt original 0.005≠0.01 en fila 1526 / H1\n",
      "[Aviso] dt original 0.005≠0.01 en fila 1526 / H2\n",
      "[Aviso] dt original 0.005≠0.01 en fila 1526 / V\n",
      "[Aviso] dt original 0.005≠0.01 en fila 1527 / H1\n",
      "[Aviso] dt original 0.005≠0.01 en fila 1527 / H2\n",
      "[Aviso] dt original 0.005≠0.01 en fila 1527 / V\n",
      "[Aviso] dt original 0.004≠0.01 en fila 1530 / H1\n",
      "[Aviso] dt original 0.004≠0.01 en fila 1530 / H2\n",
      "[Aviso] dt original 0.004≠0.01 en fila 1530 / V\n",
      "[Aviso] dt original 0.004≠0.01 en fila 1531 / H1\n",
      "[Aviso] dt original 0.004≠0.01 en fila 1531 / H2\n",
      "[Aviso] dt original 0.004≠0.01 en fila 1531 / V\n",
      "[Aviso] dt original 0.005≠0.01 en fila 1532 / H1\n",
      "[Aviso] dt original 0.005≠0.01 en fila 1532 / H2\n",
      "[Aviso] dt original 0.005≠0.01 en fila 1532 / V\n",
      "[Aviso] dt original 0.005≠0.01 en fila 1533 / H1\n",
      "[Aviso] dt original 0.005≠0.01 en fila 1533 / H2\n",
      "[Aviso] dt original 0.005≠0.01 en fila 1533 / V\n",
      "[Aviso] dt original 0.005≠0.01 en fila 1534 / H1\n",
      "[Aviso] dt original 0.005≠0.01 en fila 1534 / H2\n",
      "[Aviso] dt original 0.005≠0.01 en fila 1534 / V\n",
      "[Aviso] dt original 0.004≠0.01 en fila 1535 / H1\n",
      "[Aviso] dt original 0.004≠0.01 en fila 1535 / H2\n",
      "[Aviso] dt original 0.004≠0.01 en fila 1535 / V\n",
      "[Aviso] dt original 0.005≠0.01 en fila 1536 / H1\n",
      "[Aviso] dt original 0.005≠0.01 en fila 1536 / H2\n",
      "[Aviso] dt original 0.005≠0.01 en fila 1536 / V\n",
      "[Aviso] dt original 0.005≠0.01 en fila 1537 / H1\n",
      "[Aviso] dt original 0.005≠0.01 en fila 1537 / H2\n",
      "[Aviso] dt original 0.005≠0.01 en fila 1537 / V\n",
      "[Aviso] dt original 0.005≠0.01 en fila 1538 / H1\n",
      "[Aviso] dt original 0.005≠0.01 en fila 1538 / H2\n",
      "[Aviso] dt original 0.005≠0.01 en fila 1538 / V\n",
      "[Aviso] dt original 0.005≠0.01 en fila 1539 / H1\n",
      "[Aviso] dt original 0.005≠0.01 en fila 1539 / H2\n",
      "[Aviso] dt original 0.005≠0.01 en fila 1539 / V\n",
      "[Aviso] dt original 0.005≠0.01 en fila 1540 / H1\n",
      "[Aviso] dt original 0.005≠0.01 en fila 1540 / H2\n",
      "[Aviso] dt original 0.005≠0.01 en fila 1540 / V\n",
      "[Aviso] dt original 0.005≠0.01 en fila 1541 / H1\n",
      "[Aviso] dt original 0.005≠0.01 en fila 1541 / H2\n",
      "[Aviso] dt original 0.005≠0.01 en fila 1541 / V\n",
      "[Aviso] dt original 0.004≠0.01 en fila 1542 / H1\n",
      "[Aviso] dt original 0.004≠0.01 en fila 1542 / H2\n",
      "[Aviso] dt original 0.004≠0.01 en fila 1542 / V\n",
      "[Aviso] dt original 0.004≠0.01 en fila 1543 / H1\n",
      "[Aviso] dt original 0.004≠0.01 en fila 1543 / H2\n",
      "[Aviso] dt original 0.004≠0.01 en fila 1543 / V\n",
      "[Aviso] dt original 0.004≠0.01 en fila 1544 / H1\n",
      "[Aviso] dt original 0.004≠0.01 en fila 1544 / H2\n",
      "[Aviso] dt original 0.004≠0.01 en fila 1544 / V\n",
      "[Aviso] dt original 0.004≠0.01 en fila 1545 / H1\n",
      "[Aviso] dt original 0.004≠0.01 en fila 1545 / H2\n",
      "[Aviso] dt original 0.004≠0.01 en fila 1545 / V\n",
      "[Aviso] dt original 0.004≠0.01 en fila 1546 / H1\n",
      "[Aviso] dt original 0.004≠0.01 en fila 1546 / H2\n",
      "[Aviso] dt original 0.004≠0.01 en fila 1546 / V\n",
      "[Aviso] dt original 0.005≠0.01 en fila 1547 / H1\n",
      "[Aviso] dt original 0.005≠0.01 en fila 1547 / H2\n",
      "[Aviso] dt original 0.005≠0.01 en fila 1547 / V\n",
      "[Aviso] dt original 0.004≠0.01 en fila 1548 / H1\n",
      "[Aviso] dt original 0.004≠0.01 en fila 1548 / H2\n",
      "[Aviso] dt original 0.004≠0.01 en fila 1548 / V\n",
      "[Aviso] dt original 0.004≠0.01 en fila 1549 / H1\n",
      "[Aviso] dt original 0.004≠0.01 en fila 1549 / H2\n",
      "[Aviso] dt original 0.004≠0.01 en fila 1549 / V\n",
      "[Aviso] dt original 0.004≠0.01 en fila 1550 / H1\n",
      "[Aviso] dt original 0.004≠0.01 en fila 1550 / H2\n",
      "[Aviso] dt original 0.004≠0.01 en fila 1550 / V\n",
      "[Aviso] dt original 0.005≠0.01 en fila 1551 / H1\n",
      "[Aviso] dt original 0.005≠0.01 en fila 1551 / H2\n",
      "[Aviso] dt original 0.005≠0.01 en fila 1551 / V\n",
      "[Aviso] dt original 0.005≠0.01 en fila 1552 / H1\n",
      "[Aviso] dt original 0.005≠0.01 en fila 1552 / H2\n",
      "[Aviso] dt original 0.005≠0.01 en fila 1552 / V\n",
      "[Aviso] dt original 0.005≠0.01 en fila 1553 / H1\n",
      "[Aviso] dt original 0.005≠0.01 en fila 1553 / H2\n",
      "[Aviso] dt original 0.005≠0.01 en fila 1553 / V\n",
      "[Aviso] dt original 0.005≠0.01 en fila 1554 / H1\n",
      "[Aviso] dt original 0.005≠0.01 en fila 1554 / H2\n",
      "[Aviso] dt original 0.005≠0.01 en fila 1554 / V\n",
      "[Aviso] dt original 0.005≠0.01 en fila 1555 / H1\n",
      "[Aviso] dt original 0.005≠0.01 en fila 1555 / H2\n",
      "[Aviso] dt original 0.005≠0.01 en fila 1555 / V\n",
      "[Aviso] dt original 0.005≠0.01 en fila 1556 / H1\n",
      "[Aviso] dt original 0.005≠0.01 en fila 1556 / H2\n",
      "[Aviso] dt original 0.005≠0.01 en fila 1556 / V\n",
      "[Aviso] dt original 0.005≠0.01 en fila 1557 / H1\n",
      "[Aviso] dt original 0.005≠0.01 en fila 1557 / H2\n",
      "[Aviso] dt original 0.005≠0.01 en fila 1557 / V\n",
      "[Aviso] dt original 0.005≠0.01 en fila 1558 / H1\n",
      "[Aviso] dt original 0.005≠0.01 en fila 1558 / H2\n",
      "[Aviso] dt original 0.005≠0.01 en fila 1558 / V\n",
      "[Aviso] dt original 0.005≠0.01 en fila 1559 / H1\n",
      "[Aviso] dt original 0.005≠0.01 en fila 1559 / H2\n",
      "[Aviso] dt original 0.005≠0.01 en fila 1559 / V\n",
      "[Aviso] dt original 0.005≠0.01 en fila 1560 / H1\n",
      "[Aviso] dt original 0.005≠0.01 en fila 1560 / H2\n",
      "[Aviso] dt original 0.005≠0.01 en fila 1560 / V\n",
      "[Aviso] dt original 0.005≠0.01 en fila 1561 / H1\n",
      "[Aviso] dt original 0.005≠0.01 en fila 1561 / H2\n",
      "[Aviso] dt original 0.005≠0.01 en fila 1561 / V\n",
      "[Aviso] dt original 0.005≠0.01 en fila 1562 / H1\n",
      "[Aviso] dt original 0.005≠0.01 en fila 1562 / H2\n",
      "[Aviso] dt original 0.005≠0.01 en fila 1562 / V\n",
      "[Aviso] dt original 0.005≠0.01 en fila 1563 / H1\n",
      "[Aviso] dt original 0.005≠0.01 en fila 1563 / H2\n",
      "[Aviso] dt original 0.005≠0.01 en fila 1563 / V\n",
      "[Aviso] dt original 0.005≠0.01 en fila 1564 / H1\n",
      "[Aviso] dt original 0.005≠0.01 en fila 1564 / H2\n",
      "[Aviso] dt original 0.005≠0.01 en fila 1564 / V\n",
      "[Aviso] dt original 0.004≠0.01 en fila 1565 / H1\n",
      "[Aviso] dt original 0.004≠0.01 en fila 1565 / H2\n",
      "[Aviso] dt original 0.004≠0.01 en fila 1565 / V\n",
      "[Aviso] dt original 0.005≠0.01 en fila 1566 / H1\n",
      "[Aviso] dt original 0.005≠0.01 en fila 1566 / H2\n",
      "[Aviso] dt original 0.005≠0.01 en fila 1566 / V\n",
      "[Aviso] dt original 0.005≠0.01 en fila 1567 / H1\n",
      "[Aviso] dt original 0.005≠0.01 en fila 1567 / H2\n",
      "[Aviso] dt original 0.005≠0.01 en fila 1567 / V\n",
      "[Aviso] dt original 0.005≠0.01 en fila 1568 / H1\n",
      "[Aviso] dt original 0.005≠0.01 en fila 1568 / H2\n",
      "[Aviso] dt original 0.005≠0.01 en fila 1568 / V\n",
      "[Aviso] dt original 0.004≠0.01 en fila 1569 / H1\n",
      "[Aviso] dt original 0.004≠0.01 en fila 1569 / H2\n",
      "[Aviso] dt original 0.004≠0.01 en fila 1569 / V\n",
      "[Aviso] dt original 0.005≠0.01 en fila 1570 / H1\n",
      "[Aviso] dt original 0.005≠0.01 en fila 1570 / H2\n",
      "[Aviso] dt original 0.005≠0.01 en fila 1570 / V\n",
      "[Aviso] dt original 0.005≠0.01 en fila 1571 / H1\n",
      "[Aviso] dt original 0.005≠0.01 en fila 1571 / H2\n",
      "[Aviso] dt original 0.005≠0.01 en fila 1571 / V\n",
      "[Aviso] dt original 0.005≠0.01 en fila 1572 / H1\n",
      "[Aviso] dt original 0.005≠0.01 en fila 1572 / H2\n",
      "[Aviso] dt original 0.005≠0.01 en fila 1572 / V\n",
      "[Aviso] dt original 0.005≠0.01 en fila 1573 / H1\n",
      "[Aviso] dt original 0.005≠0.01 en fila 1573 / H2\n",
      "[Aviso] dt original 0.005≠0.01 en fila 1573 / V\n",
      "[Aviso] dt original 0.005≠0.01 en fila 1574 / H1\n",
      "[Aviso] dt original 0.005≠0.01 en fila 1574 / H2\n",
      "[Aviso] dt original 0.005≠0.01 en fila 1574 / V\n",
      "[Aviso] dt original 0.005≠0.01 en fila 1575 / H1\n",
      "[Aviso] dt original 0.005≠0.01 en fila 1575 / H2\n",
      "[Aviso] dt original 0.005≠0.01 en fila 1575 / V\n",
      "[Aviso] dt original 0.004≠0.01 en fila 1576 / H1\n",
      "[Aviso] dt original 0.004≠0.01 en fila 1576 / H2\n",
      "[Aviso] dt original 0.004≠0.01 en fila 1576 / V\n",
      "[Aviso] dt original 0.004≠0.01 en fila 1577 / H1\n",
      "[Aviso] dt original 0.004≠0.01 en fila 1577 / H2\n",
      "[Aviso] dt original 0.004≠0.01 en fila 1577 / V\n",
      "[Aviso] dt original 0.004≠0.01 en fila 1578 / H1\n",
      "[Aviso] dt original 0.004≠0.01 en fila 1578 / H2\n",
      "[Aviso] dt original 0.004≠0.01 en fila 1578 / V\n",
      "[Aviso] dt original 0.004≠0.01 en fila 1579 / H1\n",
      "[Aviso] dt original 0.004≠0.01 en fila 1579 / H2\n",
      "[Aviso] dt original 0.004≠0.01 en fila 1579 / V\n",
      "[Aviso] dt original 0.004≠0.01 en fila 1580 / H1\n",
      "[Aviso] dt original 0.004≠0.01 en fila 1580 / H2\n",
      "[Aviso] dt original 0.004≠0.01 en fila 1580 / V\n",
      "[Aviso] dt original 0.004≠0.01 en fila 1581 / H1\n",
      "[Aviso] dt original 0.004≠0.01 en fila 1581 / H2\n",
      "[Aviso] dt original 0.004≠0.01 en fila 1581 / V\n",
      "[Aviso] dt original 0.005≠0.01 en fila 1582 / H1\n",
      "[Aviso] dt original 0.005≠0.01 en fila 1582 / H2\n",
      "[Aviso] dt original 0.005≠0.01 en fila 1582 / V\n",
      "[Aviso] dt original 0.005≠0.01 en fila 1583 / H1\n",
      "[Aviso] dt original 0.005≠0.01 en fila 1583 / H2\n",
      "[Aviso] dt original 0.005≠0.01 en fila 1583 / V\n",
      "[Aviso] dt original 0.004≠0.01 en fila 1584 / H1\n",
      "[Aviso] dt original 0.004≠0.01 en fila 1584 / H2\n",
      "[Aviso] dt original 0.004≠0.01 en fila 1584 / V\n",
      "[Aviso] dt original 0.005≠0.01 en fila 1585 / H1\n",
      "[Aviso] dt original 0.005≠0.01 en fila 1585 / H2\n",
      "[Aviso] dt original 0.005≠0.01 en fila 1585 / V\n",
      "[Aviso] dt original 0.005≠0.01 en fila 1586 / H1\n",
      "[Aviso] dt original 0.005≠0.01 en fila 1586 / H2\n",
      "[Aviso] dt original 0.005≠0.01 en fila 1586 / V\n",
      "[Aviso] dt original 0.005≠0.01 en fila 1587 / H1\n",
      "[Aviso] dt original 0.005≠0.01 en fila 1587 / H2\n",
      "[Aviso] dt original 0.005≠0.01 en fila 1587 / V\n",
      "[Aviso] dt original 0.004≠0.01 en fila 1588 / H1\n",
      "[Aviso] dt original 0.004≠0.01 en fila 1588 / H2\n",
      "[Aviso] dt original 0.004≠0.01 en fila 1588 / V\n",
      "[Aviso] dt original 0.005≠0.01 en fila 1589 / H1\n",
      "[Aviso] dt original 0.005≠0.01 en fila 1589 / H2\n",
      "[Aviso] dt original 0.005≠0.01 en fila 1589 / V\n",
      "[Aviso] dt original 0.005≠0.01 en fila 1590 / H1\n",
      "[Aviso] dt original 0.005≠0.01 en fila 1590 / H2\n",
      "[Aviso] dt original 0.005≠0.01 en fila 1590 / V\n",
      "[Aviso] dt original 0.005≠0.01 en fila 1591 / H1\n",
      "[Aviso] dt original 0.005≠0.01 en fila 1591 / H2\n",
      "[Aviso] dt original 0.005≠0.01 en fila 1591 / V\n",
      "[Aviso] dt original 0.005≠0.01 en fila 1592 / H1\n",
      "[Aviso] dt original 0.005≠0.01 en fila 1592 / H2\n",
      "[Aviso] dt original 0.005≠0.01 en fila 1592 / V\n",
      "[Aviso] dt original 0.005≠0.01 en fila 1593 / H1\n",
      "[Aviso] dt original 0.005≠0.01 en fila 1593 / H2\n",
      "[Aviso] dt original 0.005≠0.01 en fila 1593 / V\n",
      "[Aviso] dt original 0.005≠0.01 en fila 1594 / H1\n",
      "[Aviso] dt original 0.005≠0.01 en fila 1594 / H2\n",
      "[Aviso] dt original 0.005≠0.01 en fila 1594 / V\n",
      "[Aviso] dt original 0.005≠0.01 en fila 1595 / H1\n",
      "[Aviso] dt original 0.005≠0.01 en fila 1595 / H2\n",
      "[Aviso] dt original 0.005≠0.01 en fila 1595 / V\n",
      "[Aviso] dt original 0.004≠0.01 en fila 1596 / H1\n",
      "[Aviso] dt original 0.004≠0.01 en fila 1596 / H2\n",
      "[Aviso] dt original 0.004≠0.01 en fila 1596 / V\n",
      "[Aviso] dt original 0.02≠0.01 en fila 1604 / H1\n",
      "[Aviso] dt original 0.02≠0.01 en fila 1604 / H2\n",
      "[Aviso] dt original 0.02≠0.01 en fila 1604 / V\n",
      "[Aviso] dt original 0.0025≠0.01 en fila 1607 / H1\n",
      "[Aviso] dt original 0.0025≠0.01 en fila 1607 / H2\n",
      "[Aviso] dt original 0.0025≠0.01 en fila 1607 / V\n",
      "[Aviso] dt original 0.0025≠0.01 en fila 1608 / H1\n",
      "[Aviso] dt original 0.0025≠0.01 en fila 1608 / H2\n",
      "[Aviso] dt original 0.0025≠0.01 en fila 1608 / V\n",
      "[Aviso] dt original 0.005≠0.01 en fila 1609 / H1\n",
      "[Aviso] dt original 0.005≠0.01 en fila 1609 / H2\n",
      "[Aviso] dt original 0.005≠0.01 en fila 1609 / V\n",
      "[Aviso] dt original 0.005≠0.01 en fila 1610 / H1\n",
      "[Aviso] dt original 0.005≠0.01 en fila 1610 / H2\n",
      "[Aviso] dt original 0.005≠0.01 en fila 1610 / V\n",
      "[Aviso] dt original 0.005≠0.01 en fila 1611 / H1\n",
      "[Aviso] dt original 0.005≠0.01 en fila 1611 / H2\n",
      "[Aviso] dt original 0.005≠0.01 en fila 1611 / V\n",
      "[Aviso] dt original 0.005≠0.01 en fila 1613 / H1\n",
      "[Aviso] dt original 0.005≠0.01 en fila 1613 / H2\n",
      "[Aviso] dt original 0.005≠0.01 en fila 1613 / V\n",
      "[Aviso] dt original 0.005≠0.01 en fila 1614 / H1\n",
      "[Aviso] dt original 0.005≠0.01 en fila 1614 / H2\n",
      "[Aviso] dt original 0.005≠0.01 en fila 1614 / V\n",
      "[Aviso] dt original 0.005≠0.01 en fila 1615 / H1\n",
      "[Aviso] dt original 0.005≠0.01 en fila 1615 / H2\n",
      "[Aviso] dt original 0.005≠0.01 en fila 1615 / V\n",
      "[Aviso] dt original 0.005≠0.01 en fila 1616 / H1\n",
      "[Aviso] dt original 0.005≠0.01 en fila 1616 / H2\n",
      "[Aviso] dt original 0.005≠0.01 en fila 1616 / V\n",
      "[Aviso] dt original 0.005≠0.01 en fila 1617 / H1\n",
      "[Aviso] dt original 0.005≠0.01 en fila 1617 / H2\n",
      "[Aviso] dt original 0.005≠0.01 en fila 1617 / V\n",
      "[Aviso] dt original 0.005≠0.01 en fila 1618 / H1\n",
      "[Aviso] dt original 0.005≠0.01 en fila 1618 / H2\n",
      "[Aviso] dt original 0.005≠0.01 en fila 1618 / V\n",
      "[Aviso] dt original 0.005≠0.01 en fila 1619 / H1\n",
      "[Aviso] dt original 0.005≠0.01 en fila 1619 / H2\n",
      "[Aviso] dt original 0.005≠0.01 en fila 1619 / V\n",
      "[Aviso] dt original 0.005≠0.01 en fila 1620 / H1\n",
      "[Aviso] dt original 0.005≠0.01 en fila 1620 / H2\n",
      "[Aviso] dt original 0.005≠0.01 en fila 1620 / V\n",
      "[Aviso] dt original 0.005≠0.01 en fila 1621 / H1\n",
      "[Aviso] dt original 0.005≠0.01 en fila 1621 / H2\n",
      "[Aviso] dt original 0.005≠0.01 en fila 1621 / V\n",
      "[Aviso] dt original 0.005≠0.01 en fila 1622 / H1\n",
      "[Aviso] dt original 0.005≠0.01 en fila 1622 / H2\n",
      "[Aviso] dt original 0.005≠0.01 en fila 1622 / V\n",
      "[Aviso] dt original 0.005≠0.01 en fila 1623 / H1\n",
      "[Aviso] dt original 0.005≠0.01 en fila 1623 / H2\n",
      "[Aviso] dt original 0.005≠0.01 en fila 1623 / V\n",
      "[Aviso] dt original 0.005≠0.01 en fila 1624 / H1\n",
      "[Aviso] dt original 0.005≠0.01 en fila 1624 / H2\n",
      "[Aviso] dt original 0.005≠0.01 en fila 1624 / V\n",
      "[Aviso] dt original 0.005≠0.01 en fila 1625 / H1\n",
      "[Aviso] dt original 0.005≠0.01 en fila 1625 / H2\n",
      "[Aviso] dt original 0.005≠0.01 en fila 1625 / V\n",
      "[Aviso] dt original 0.005≠0.01 en fila 1626 / H1\n",
      "[Aviso] dt original 0.005≠0.01 en fila 1626 / H2\n",
      "[Aviso] dt original 0.005≠0.01 en fila 1626 / V\n",
      "[Aviso] dt original 0.005≠0.01 en fila 1627 / H1\n",
      "[Aviso] dt original 0.005≠0.01 en fila 1627 / H2\n",
      "[Aviso] dt original 0.005≠0.01 en fila 1627 / V\n",
      "[Aviso] dt original 0.005≠0.01 en fila 1630 / H1\n",
      "[Aviso] dt original 0.005≠0.01 en fila 1630 / H2\n",
      "[Aviso] dt original 0.005≠0.01 en fila 1630 / V\n",
      "[Aviso] dt original 0.02≠0.01 en fila 1632 / H1\n",
      "[Aviso] dt original 0.02≠0.01 en fila 1632 / H2\n",
      "[Aviso] dt original 0.02≠0.01 en fila 1632 / V\n",
      "[Aviso] dt original 0.02≠0.01 en fila 1633 / H1\n",
      "[Aviso] dt original 0.02≠0.01 en fila 1633 / H2\n",
      "[Aviso] dt original 0.02≠0.01 en fila 1633 / V\n",
      "[Aviso] dt original 0.02≠0.01 en fila 1634 / H1\n",
      "[Aviso] dt original 0.02≠0.01 en fila 1634 / H2\n",
      "[Aviso] dt original 0.02≠0.01 en fila 1634 / V\n",
      "[Aviso] dt original 0.005≠0.01 en fila 1636 / H1\n",
      "[Aviso] dt original 0.005≠0.01 en fila 1636 / H2\n",
      "[Aviso] dt original 0.005≠0.01 en fila 1636 / V\n",
      "[Aviso] dt original 0.005≠0.01 en fila 1637 / H1\n",
      "[Aviso] dt original 0.005≠0.01 en fila 1637 / H2\n",
      "[Aviso] dt original 0.005≠0.01 en fila 1637 / V\n",
      "[Aviso] dt original 0.005≠0.01 en fila 1638 / H1\n",
      "[Aviso] dt original 0.005≠0.01 en fila 1638 / H2\n",
      "[Aviso] dt original 0.005≠0.01 en fila 1638 / V\n",
      "[Aviso] dt original 0.005≠0.01 en fila 1639 / H1\n",
      "[Aviso] dt original 0.005≠0.01 en fila 1639 / H2\n",
      "[Aviso] dt original 0.005≠0.01 en fila 1639 / V\n",
      "[Aviso] dt original 0.004≠0.01 en fila 1640 / H1\n",
      "[Aviso] dt original 0.004≠0.01 en fila 1640 / H2\n",
      "[Aviso] dt original 0.004≠0.01 en fila 1640 / V\n",
      "[Aviso] dt original 0.005≠0.01 en fila 1641 / H1\n",
      "[Aviso] dt original 0.005≠0.01 en fila 1641 / H2\n",
      "[Aviso] dt original 0.005≠0.01 en fila 1641 / V\n",
      "[Aviso] dt original 0.005≠0.01 en fila 1642 / H1\n",
      "[Aviso] dt original 0.005≠0.01 en fila 1642 / H2\n",
      "[Aviso] dt original 0.005≠0.01 en fila 1642 / V\n",
      "[Aviso] dt original 0.005≠0.01 en fila 1643 / H1\n",
      "[Aviso] dt original 0.005≠0.01 en fila 1643 / H2\n",
      "[Aviso] dt original 0.005≠0.01 en fila 1643 / V\n",
      "[Aviso] dt original 0.005≠0.01 en fila 1644 / H1\n",
      "[Aviso] dt original 0.005≠0.01 en fila 1644 / H2\n",
      "[Aviso] dt original 0.005≠0.01 en fila 1644 / V\n",
      "[Aviso] dt original 0.005≠0.01 en fila 1645 / H1\n",
      "[Aviso] dt original 0.005≠0.01 en fila 1645 / H2\n",
      "[Aviso] dt original 0.005≠0.01 en fila 1645 / V\n",
      "[Aviso] dt original 0.005≠0.01 en fila 1646 / H1\n",
      "[Aviso] dt original 0.005≠0.01 en fila 1646 / H2\n",
      "[Aviso] dt original 0.005≠0.01 en fila 1646 / V\n",
      "[Aviso] dt original 0.005≠0.01 en fila 1647 / H1\n",
      "[Aviso] dt original 0.005≠0.01 en fila 1647 / H2\n",
      "[Aviso] dt original 0.005≠0.01 en fila 1647 / V\n",
      "[Aviso] dt original 0.004≠0.01 en fila 1648 / H1\n",
      "[Aviso] dt original 0.004≠0.01 en fila 1648 / H2\n",
      "[Aviso] dt original 0.004≠0.01 en fila 1648 / V\n",
      "[Aviso] dt original 0.005≠0.01 en fila 1649 / H1\n",
      "[Aviso] dt original 0.005≠0.01 en fila 1649 / H2\n",
      "[Aviso] dt original 0.005≠0.01 en fila 1649 / V\n",
      "[Aviso] dt original 0.004≠0.01 en fila 1650 / H1\n",
      "[Aviso] dt original 0.004≠0.01 en fila 1650 / H2\n",
      "[Aviso] dt original 0.004≠0.01 en fila 1650 / V\n",
      "[Aviso] dt original 0.004≠0.01 en fila 1651 / H1\n",
      "[Aviso] dt original 0.004≠0.01 en fila 1651 / H2\n",
      "[Aviso] dt original 0.004≠0.01 en fila 1651 / V\n",
      "[Aviso] dt original 0.004≠0.01 en fila 1652 / H1\n",
      "[Aviso] dt original 0.004≠0.01 en fila 1652 / H2\n",
      "[Aviso] dt original 0.004≠0.01 en fila 1652 / V\n",
      "[Aviso] dt original 0.005≠0.01 en fila 1653 / H1\n",
      "[Aviso] dt original 0.005≠0.01 en fila 1653 / H2\n",
      "[Aviso] dt original 0.005≠0.01 en fila 1653 / V\n",
      "[Aviso] dt original 0.005≠0.01 en fila 1654 / H1\n",
      "[Aviso] dt original 0.005≠0.01 en fila 1654 / H2\n",
      "[Aviso] dt original 0.005≠0.01 en fila 1654 / V\n",
      "[Aviso] dt original 0.005≠0.01 en fila 1655 / H1\n",
      "[Aviso] dt original 0.005≠0.01 en fila 1655 / H2\n",
      "[Aviso] dt original 0.005≠0.01 en fila 1655 / V\n",
      "[Aviso] dt original 0.004≠0.01 en fila 1656 / H1\n",
      "[Aviso] dt original 0.004≠0.01 en fila 1656 / H2\n",
      "[Aviso] dt original 0.004≠0.01 en fila 1656 / V\n",
      "[Aviso] dt original 0.004≠0.01 en fila 1657 / H1\n",
      "[Aviso] dt original 0.004≠0.01 en fila 1657 / H2\n",
      "[Aviso] dt original 0.004≠0.01 en fila 1657 / V\n",
      "[Aviso] dt original 0.005≠0.01 en fila 1658 / H1\n",
      "[Aviso] dt original 0.005≠0.01 en fila 1658 / H2\n",
      "[Aviso] dt original 0.005≠0.01 en fila 1658 / V\n",
      "[Aviso] dt original 0.004≠0.01 en fila 1659 / H1\n",
      "[Aviso] dt original 0.004≠0.01 en fila 1659 / H2\n",
      "[Aviso] dt original 0.004≠0.01 en fila 1659 / V\n",
      "[Aviso] dt original 0.005≠0.01 en fila 1660 / H1\n",
      "[Aviso] dt original 0.005≠0.01 en fila 1660 / H2\n",
      "[Aviso] dt original 0.005≠0.01 en fila 1660 / V\n",
      "[Aviso] dt original 0.005≠0.01 en fila 1661 / H1\n",
      "[Aviso] dt original 0.005≠0.01 en fila 1661 / H2\n",
      "[Aviso] dt original 0.005≠0.01 en fila 1661 / V\n",
      "[Aviso] dt original 0.005≠0.01 en fila 1662 / H1\n",
      "[Aviso] dt original 0.005≠0.01 en fila 1662 / H2\n",
      "[Aviso] dt original 0.005≠0.01 en fila 1662 / V\n",
      "[Aviso] dt original 0.005≠0.01 en fila 1663 / H1\n",
      "[Aviso] dt original 0.005≠0.01 en fila 1663 / H2\n",
      "[Aviso] dt original 0.005≠0.01 en fila 1663 / V\n",
      "[Aviso] dt original 0.005≠0.01 en fila 1664 / H1\n",
      "[Aviso] dt original 0.005≠0.01 en fila 1664 / H2\n",
      "[Aviso] dt original 0.005≠0.01 en fila 1664 / V\n",
      "[Aviso] dt original 0.005≠0.01 en fila 1665 / H1\n",
      "[Aviso] dt original 0.005≠0.01 en fila 1665 / H2\n",
      "[Aviso] dt original 0.005≠0.01 en fila 1665 / V\n",
      "[Aviso] dt original 0.005≠0.01 en fila 1666 / H1\n",
      "[Aviso] dt original 0.005≠0.01 en fila 1666 / H2\n",
      "[Aviso] dt original 0.005≠0.01 en fila 1666 / V\n",
      "[Aviso] dt original 0.005≠0.01 en fila 1667 / H1\n",
      "[Aviso] dt original 0.005≠0.01 en fila 1667 / H2\n",
      "[Aviso] dt original 0.005≠0.01 en fila 1667 / V\n",
      "[Aviso] dt original 0.005≠0.01 en fila 1668 / H1\n",
      "[Aviso] dt original 0.005≠0.01 en fila 1668 / H2\n",
      "[Aviso] dt original 0.005≠0.01 en fila 1668 / V\n",
      "[Aviso] dt original 0.005≠0.01 en fila 1669 / H1\n",
      "[Aviso] dt original 0.005≠0.01 en fila 1669 / H2\n",
      "[Aviso] dt original 0.005≠0.01 en fila 1669 / V\n",
      "[Aviso] dt original 0.004≠0.01 en fila 1670 / H1\n",
      "[Aviso] dt original 0.004≠0.01 en fila 1670 / H2\n",
      "[Aviso] dt original 0.004≠0.01 en fila 1670 / V\n",
      "[Aviso] dt original 0.004≠0.01 en fila 1671 / H1\n",
      "[Aviso] dt original 0.004≠0.01 en fila 1671 / H2\n",
      "[Aviso] dt original 0.004≠0.01 en fila 1671 / V\n",
      "[Aviso] dt original 0.004≠0.01 en fila 1672 / H1\n",
      "[Aviso] dt original 0.004≠0.01 en fila 1672 / H2\n",
      "[Aviso] dt original 0.004≠0.01 en fila 1672 / V\n",
      "[Aviso] dt original 0.004≠0.01 en fila 1673 / H1\n",
      "[Aviso] dt original 0.004≠0.01 en fila 1673 / H2\n",
      "[Aviso] dt original 0.004≠0.01 en fila 1673 / V\n",
      "[Aviso] dt original 0.004≠0.01 en fila 1674 / H1\n",
      "[Aviso] dt original 0.004≠0.01 en fila 1674 / H2\n",
      "[Aviso] dt original 0.004≠0.01 en fila 1674 / V\n",
      "[Aviso] dt original 0.005≠0.01 en fila 1675 / H1\n",
      "[Aviso] dt original 0.005≠0.01 en fila 1675 / H2\n",
      "[Aviso] dt original 0.005≠0.01 en fila 1675 / V\n",
      "[Aviso] dt original 0.005≠0.01 en fila 1676 / H1\n",
      "[Aviso] dt original 0.005≠0.01 en fila 1676 / H2\n",
      "[Aviso] dt original 0.005≠0.01 en fila 1676 / V\n",
      "[Aviso] dt original 0.005≠0.01 en fila 1677 / H1\n",
      "[Aviso] dt original 0.005≠0.01 en fila 1677 / H2\n",
      "[Aviso] dt original 0.005≠0.01 en fila 1677 / V\n",
      "[Aviso] dt original 0.005≠0.01 en fila 1678 / H1\n",
      "[Aviso] dt original 0.005≠0.01 en fila 1678 / H2\n",
      "[Aviso] dt original 0.005≠0.01 en fila 1678 / V\n",
      "[Aviso] dt original 0.005≠0.01 en fila 1679 / H1\n",
      "[Aviso] dt original 0.005≠0.01 en fila 1679 / H2\n",
      "[Aviso] dt original 0.005≠0.01 en fila 1679 / V\n",
      "[Aviso] dt original 0.005≠0.01 en fila 1680 / H1\n",
      "[Aviso] dt original 0.005≠0.01 en fila 1680 / H2\n",
      "[Aviso] dt original 0.005≠0.01 en fila 1680 / V\n",
      "[Aviso] dt original 0.005≠0.01 en fila 1681 / H1\n",
      "[Aviso] dt original 0.005≠0.01 en fila 1681 / H2\n",
      "[Aviso] dt original 0.005≠0.01 en fila 1681 / V\n",
      "[Aviso] dt original 0.005≠0.01 en fila 1682 / H1\n",
      "[Aviso] dt original 0.005≠0.01 en fila 1682 / H2\n",
      "[Aviso] dt original 0.005≠0.01 en fila 1682 / V\n",
      "[Aviso] dt original 0.005≠0.01 en fila 1683 / H1\n",
      "[Aviso] dt original 0.005≠0.01 en fila 1683 / H2\n",
      "[Aviso] dt original 0.005≠0.01 en fila 1683 / V\n",
      "[Aviso] dt original 0.005≠0.01 en fila 1684 / H1\n",
      "[Aviso] dt original 0.005≠0.01 en fila 1684 / H2\n",
      "[Aviso] dt original 0.005≠0.01 en fila 1684 / V\n",
      "[Aviso] dt original 0.005≠0.01 en fila 1685 / H1\n",
      "[Aviso] dt original 0.005≠0.01 en fila 1685 / H2\n",
      "[Aviso] dt original 0.005≠0.01 en fila 1685 / V\n",
      "[Aviso] dt original 0.005≠0.01 en fila 1686 / H1\n",
      "[Aviso] dt original 0.005≠0.01 en fila 1686 / H2\n",
      "[Aviso] dt original 0.005≠0.01 en fila 1686 / V\n",
      "[Aviso] dt original 0.004≠0.01 en fila 1687 / H1\n",
      "[Aviso] dt original 0.004≠0.01 en fila 1687 / H2\n",
      "[Aviso] dt original 0.004≠0.01 en fila 1687 / V\n",
      "[Aviso] dt original 0.004≠0.01 en fila 1688 / H1\n",
      "[Aviso] dt original 0.004≠0.01 en fila 1688 / H2\n",
      "[Aviso] dt original 0.004≠0.01 en fila 1688 / V\n",
      "[Aviso] dt original 0.005≠0.01 en fila 1689 / H1\n",
      "[Aviso] dt original 0.005≠0.01 en fila 1689 / H2\n",
      "[Aviso] dt original 0.005≠0.01 en fila 1689 / V\n",
      "[Aviso] dt original 0.005≠0.01 en fila 1690 / H1\n",
      "[Aviso] dt original 0.005≠0.01 en fila 1690 / H2\n",
      "[Aviso] dt original 0.005≠0.01 en fila 1690 / V\n",
      "[Aviso] dt original 0.005≠0.01 en fila 1691 / H1\n",
      "[Aviso] dt original 0.005≠0.01 en fila 1691 / H2\n",
      "[Aviso] dt original 0.005≠0.01 en fila 1691 / V\n",
      "[Aviso] dt original 0.005≠0.01 en fila 1692 / H1\n",
      "[Aviso] dt original 0.005≠0.01 en fila 1692 / H2\n",
      "[Aviso] dt original 0.005≠0.01 en fila 1692 / V\n",
      "[Aviso] dt original 0.005≠0.01 en fila 1693 / H1\n",
      "[Aviso] dt original 0.005≠0.01 en fila 1693 / H2\n",
      "[Aviso] dt original 0.005≠0.01 en fila 1693 / V\n",
      "[Aviso] dt original 0.005≠0.01 en fila 1694 / H1\n",
      "[Aviso] dt original 0.005≠0.01 en fila 1694 / H2\n",
      "[Aviso] dt original 0.005≠0.01 en fila 1694 / V\n",
      "[Aviso] dt original 0.004≠0.01 en fila 1695 / H1\n",
      "[Aviso] dt original 0.004≠0.01 en fila 1695 / H2\n",
      "[Aviso] dt original 0.004≠0.01 en fila 1695 / V\n"
     ]
    }
   ],
   "source": [
    "df_completo = estandarización(df_completo,\n",
    "                                           comp_cols=('Ruta H1','Ruta H2','Ruta V'),\n",
    "                                           parser=processNGAfile3,dt_obj=0.01)\n",
    "\n"
   ]
  },
  {
   "cell_type": "code",
   "execution_count": 12,
   "metadata": {},
   "outputs": [],
   "source": [
    "def FFT_featuring(aceleracion): \n",
    "\n",
    "    FFT = np.fft.rfft(aceleracion, n=512) \n",
    "    magnitud = np.abs(FFT)\n",
    "\n",
    "    return magnitud"
   ]
  },
  {
   "cell_type": "code",
   "execution_count": 13,
   "metadata": {},
   "outputs": [],
   "source": [
    "import ast\n",
    "df_completo['mag_H1'] = df_completo['Acc_H1_std'].apply(lambda x: FFT_featuring(x))\n",
    "df_completo['mag_H2'] = df_completo['Acc_H2_std'].apply(lambda x: FFT_featuring(x))\n",
    "df_completo['mag_V']  = df_completo['Acc_V_std'].apply(lambda x: FFT_featuring(x))\n",
    "\n",
    "# 3. Concatenar las tres magnitudes en una columna de 'features'\n",
    "df_completo['features_sep'] = df_completo.apply(\n",
    "    lambda r: np.concatenate([r['mag_H1'], r['mag_H2'], r['mag_V']]),\n",
    "    axis=1\n",
    ")\n",
    "\n",
    "#Mientras respetes la consistencia de segmentos, no “se mezclan” físicamente las componentes: H1 nunca aparece donde va H2, porque tus índices delimitarán qué parte del vector pertenece a cada canal. Entender mejor , tal vez sea importante guardar ese orden?"
   ]
  },
  {
   "cell_type": "code",
   "execution_count": 14,
   "metadata": {},
   "outputs": [],
   "source": [
    "df_pre = df_completo.copy()\n",
    "df_pre.drop(columns=[ 'Archivo H2',\n",
    "       'Ruta H2', 'Archivo H1', 'Ruta H1', 'Archivo V', 'Ruta V', 'NPTS_H2',\n",
    "       'DT_H2', 'NPTS_H1', 'DT_H1', 'NPTS_HV', 'DT_HV', 'Acc_H1_std',\n",
    "       'Acc_H2_std', 'Acc_V_std', 'NPTS_common', 'DT_common'], inplace=True)"
   ]
  },
  {
   "cell_type": "code",
   "execution_count": 15,
   "metadata": {},
   "outputs": [
    {
     "name": "stdout",
     "output_type": "stream",
     "text": [
      "Requirement already satisfied: iterative-stratification in /Users/benjaminvaca/.pyenv/versions/3.12.7/lib/python3.12/site-packages (0.1.9)\n",
      "Requirement already satisfied: numpy in /Users/benjaminvaca/.pyenv/versions/3.12.7/lib/python3.12/site-packages (from iterative-stratification) (2.1.2)\n",
      "Requirement already satisfied: scipy in /Users/benjaminvaca/.pyenv/versions/3.12.7/lib/python3.12/site-packages (from iterative-stratification) (1.15.1)\n",
      "Requirement already satisfied: scikit-learn in /Users/benjaminvaca/.pyenv/versions/3.12.7/lib/python3.12/site-packages (from iterative-stratification) (1.6.1)\n",
      "Requirement already satisfied: joblib>=1.2.0 in /Users/benjaminvaca/.pyenv/versions/3.12.7/lib/python3.12/site-packages (from scikit-learn->iterative-stratification) (1.4.2)\n",
      "Requirement already satisfied: threadpoolctl>=3.1.0 in /Users/benjaminvaca/.pyenv/versions/3.12.7/lib/python3.12/site-packages (from scikit-learn->iterative-stratification) (3.5.0)\n",
      "\n",
      "\u001b[1m[\u001b[0m\u001b[34;49mnotice\u001b[0m\u001b[1;39;49m]\u001b[0m\u001b[39;49m A new release of pip is available: \u001b[0m\u001b[31;49m25.0.1\u001b[0m\u001b[39;49m -> \u001b[0m\u001b[32;49m25.1\u001b[0m\n",
      "\u001b[1m[\u001b[0m\u001b[34;49mnotice\u001b[0m\u001b[1;39;49m]\u001b[0m\u001b[39;49m To update, run: \u001b[0m\u001b[32;49mpip install --upgrade pip\u001b[0m\n",
      "Note: you may need to restart the kernel to use updated packages.\n"
     ]
    }
   ],
   "source": [
    "pip install iterative-stratification\n"
   ]
  },
  {
   "cell_type": "code",
   "execution_count": 16,
   "metadata": {},
   "outputs": [],
   "source": [
    "import numpy as np\n",
    "import pandas as pd\n",
    "from iterstrat.ml_stratifiers import MultilabelStratifiedKFold\n",
    "from sklearn.preprocessing import OneHotEncoder"
   ]
  },
  {
   "cell_type": "code",
   "execution_count": 17,
   "metadata": {},
   "outputs": [
    {
     "name": "stdout",
     "output_type": "stream",
     "text": [
      "Training set: 1357 muestras\n",
      "Testing set: 339 muestras\n"
     ]
    }
   ],
   "source": [
    "# Separar la data\n",
    "#X_separado = df_precopy[['mag_H1','mag_H2','mag_V']]\n",
    "\n",
    "X = np.vstack(df_pre['features_sep'].values)  # shape (n_samples, n_feats) #algo esta mal con esto podemos probar despues\n",
    "y_raw = df_pre[['Tipo de evento','Magnitud','Vs30']]\n",
    "\n",
    "\n",
    "mskf = MultilabelStratifiedKFold(n_splits=5, shuffle=True, random_state=42) \n",
    "train_idx, test_idx = next(mskf.split(X, y_raw))\n",
    "X_train, X_test = X[train_idx], X[test_idx]\n",
    "y_train, y_test = y_raw.iloc[train_idx], y_raw.iloc[test_idx]\n",
    "\n",
    "print(f\"Training set: {X_train.shape[0]} muestras\") \n",
    "print(f\"Testing set: {X_test.shape[0]} muestras\")"
   ]
  },
  {
   "cell_type": "code",
   "execution_count": 18,
   "metadata": {},
   "outputs": [],
   "source": [
    "# One hot encoding\n",
    "from sklearn.preprocessing import OneHotEncoder, LabelEncoder\n",
    "\n",
    "encoder = OneHotEncoder(sparse_output=False) \n",
    "\n",
    "y_trainOHE = encoder.fit_transform(y_train)\n",
    "y_testOHE = encoder.transform(y_test)\n"
   ]
  },
  {
   "cell_type": "code",
   "execution_count": 19,
   "metadata": {},
   "outputs": [],
   "source": [
    "import numpy as np\n",
    "from scipy.interpolate import interp1d\n",
    "\n",
    "def normalizar_frecuencia_muestreo(tiempo, aceleracion, dt_obj=0.01):\n",
    "    t0, t1 = tiempo[0], tiempo[-1]\n",
    "    t_new   = np.arange(t0, t1, dt_obj)\n",
    "    f       = interp1d(tiempo, aceleracion,\n",
    "                       kind='linear',\n",
    "                       fill_value='extrapolate')\n",
    "    acc_new = f(t_new)\n",
    "    return t_new, acc_new"
   ]
  },
  {
   "cell_type": "code",
   "execution_count": 20,
   "metadata": {},
   "outputs": [],
   "source": [
    "\n",
    "def estandarización(df, comp_cols=('Ruta H1','Ruta H2','Ruta V'),\n",
    "                          parser=processNGAfile3,\n",
    "                          dt_obj=0.01):\n",
    "\n",
    "    for label in ['H1','H2','V']:\n",
    "        df[f'Acc_{label}_std'] = None\n",
    "    df['NPTS_common'] = None\n",
    "    df['DT_common']   = None\n",
    "\n",
    "    # 2) Recorre cada evento (fila) de df\n",
    "    for idx, row in df.iterrows():\n",
    "        remuestreos = {}\n",
    "\n",
    "        # 2a) Leer y remuestrear\n",
    "        for label, col in zip(['H1','H2','V'], comp_cols):\n",
    "            npts, dt, tiempo, acc = parser(row[col])\n",
    "            # avisar si el dt original no es el esperado\n",
    "            if abs(dt - dt_obj) > 1e-8:\n",
    "                print(f\"[Aviso] dt original {dt}≠{dt_obj} en fila {idx} / {label}\")\n",
    "            # remuestreo\n",
    "            _, acc_norm = normalizar_frecuencia_muestreo(tiempo, acc, dt_obj=dt_obj)\n",
    "            remuestreos[label] = acc_norm\n",
    "\n",
    "        # 2b) Determinar longitud mínima común\n",
    "        min_len = min(len(a) for a in remuestreos.values())\n",
    "        df.at[idx, 'NPTS_common'] = min_len\n",
    "        df.at[idx, 'DT_common']   = dt_obj\n",
    "\n",
    "        # 2c) Truncar y guardar en df\n",
    "        for label in ['H1','H2','V']:\n",
    "            df.at[idx, f'Acc_{label}_std'] = remuestreos[label][:min_len].tolist()\n",
    "\n",
    "    return df"
   ]
  },
  {
   "cell_type": "code",
   "execution_count": 21,
   "metadata": {},
   "outputs": [
    {
     "name": "stdout",
     "output_type": "stream",
     "text": [
      "Requirement already satisfied: lightning in /Users/benjaminvaca/.pyenv/versions/3.12.7/lib/python3.12/site-packages (2.5.1)\n",
      "Requirement already satisfied: PyYAML<8.0,>=5.4 in /Users/benjaminvaca/.pyenv/versions/3.12.7/lib/python3.12/site-packages (from lightning) (6.0.2)\n",
      "Requirement already satisfied: fsspec<2026.0,>=2022.5.0 in /Users/benjaminvaca/.pyenv/versions/3.12.7/lib/python3.12/site-packages (from fsspec[http]<2026.0,>=2022.5.0->lightning) (2024.10.0)\n",
      "Requirement already satisfied: lightning-utilities<2.0,>=0.10.0 in /Users/benjaminvaca/.pyenv/versions/3.12.7/lib/python3.12/site-packages (from lightning) (0.14.3)\n",
      "Requirement already satisfied: packaging<25.0,>=20.0 in /Users/benjaminvaca/.pyenv/versions/3.12.7/lib/python3.12/site-packages (from lightning) (24.1)\n",
      "Requirement already satisfied: torch<4.0,>=2.1.0 in /Users/benjaminvaca/.pyenv/versions/3.12.7/lib/python3.12/site-packages (from lightning) (2.7.0)\n",
      "Requirement already satisfied: torchmetrics<3.0,>=0.7.0 in /Users/benjaminvaca/.pyenv/versions/3.12.7/lib/python3.12/site-packages (from lightning) (1.7.1)\n",
      "Requirement already satisfied: tqdm<6.0,>=4.57.0 in /Users/benjaminvaca/.pyenv/versions/3.12.7/lib/python3.12/site-packages (from lightning) (4.67.1)\n",
      "Requirement already satisfied: typing-extensions<6.0,>=4.4.0 in /Users/benjaminvaca/.pyenv/versions/3.12.7/lib/python3.12/site-packages (from lightning) (4.12.2)\n",
      "Requirement already satisfied: pytorch-lightning in /Users/benjaminvaca/.pyenv/versions/3.12.7/lib/python3.12/site-packages (from lightning) (2.5.1)\n",
      "Requirement already satisfied: aiohttp!=4.0.0a0,!=4.0.0a1 in /Users/benjaminvaca/.pyenv/versions/3.12.7/lib/python3.12/site-packages (from fsspec[http]<2026.0,>=2022.5.0->lightning) (3.11.16)\n",
      "Requirement already satisfied: setuptools in /Users/benjaminvaca/.pyenv/versions/3.12.7/lib/python3.12/site-packages (from lightning-utilities<2.0,>=0.10.0->lightning) (75.6.0)\n",
      "Requirement already satisfied: filelock in /Users/benjaminvaca/.pyenv/versions/3.12.7/lib/python3.12/site-packages (from torch<4.0,>=2.1.0->lightning) (3.16.1)\n",
      "Requirement already satisfied: sympy>=1.13.3 in /Users/benjaminvaca/.pyenv/versions/3.12.7/lib/python3.12/site-packages (from torch<4.0,>=2.1.0->lightning) (1.14.0)\n",
      "Requirement already satisfied: networkx in /Users/benjaminvaca/.pyenv/versions/3.12.7/lib/python3.12/site-packages (from torch<4.0,>=2.1.0->lightning) (3.4.2)\n",
      "Requirement already satisfied: jinja2 in /Users/benjaminvaca/.pyenv/versions/3.12.7/lib/python3.12/site-packages (from torch<4.0,>=2.1.0->lightning) (3.1.4)\n",
      "Requirement already satisfied: numpy>1.20.0 in /Users/benjaminvaca/.pyenv/versions/3.12.7/lib/python3.12/site-packages (from torchmetrics<3.0,>=0.7.0->lightning) (2.1.2)\n",
      "Requirement already satisfied: aiohappyeyeballs>=2.3.0 in /Users/benjaminvaca/.pyenv/versions/3.12.7/lib/python3.12/site-packages (from aiohttp!=4.0.0a0,!=4.0.0a1->fsspec[http]<2026.0,>=2022.5.0->lightning) (2.6.1)\n",
      "Requirement already satisfied: aiosignal>=1.1.2 in /Users/benjaminvaca/.pyenv/versions/3.12.7/lib/python3.12/site-packages (from aiohttp!=4.0.0a0,!=4.0.0a1->fsspec[http]<2026.0,>=2022.5.0->lightning) (1.3.2)\n",
      "Requirement already satisfied: attrs>=17.3.0 in /Users/benjaminvaca/.pyenv/versions/3.12.7/lib/python3.12/site-packages (from aiohttp!=4.0.0a0,!=4.0.0a1->fsspec[http]<2026.0,>=2022.5.0->lightning) (24.2.0)\n",
      "Requirement already satisfied: frozenlist>=1.1.1 in /Users/benjaminvaca/.pyenv/versions/3.12.7/lib/python3.12/site-packages (from aiohttp!=4.0.0a0,!=4.0.0a1->fsspec[http]<2026.0,>=2022.5.0->lightning) (1.5.0)\n",
      "Requirement already satisfied: multidict<7.0,>=4.5 in /Users/benjaminvaca/.pyenv/versions/3.12.7/lib/python3.12/site-packages (from aiohttp!=4.0.0a0,!=4.0.0a1->fsspec[http]<2026.0,>=2022.5.0->lightning) (6.4.3)\n",
      "Requirement already satisfied: propcache>=0.2.0 in /Users/benjaminvaca/.pyenv/versions/3.12.7/lib/python3.12/site-packages (from aiohttp!=4.0.0a0,!=4.0.0a1->fsspec[http]<2026.0,>=2022.5.0->lightning) (0.3.1)\n",
      "Requirement already satisfied: yarl<2.0,>=1.17.0 in /Users/benjaminvaca/.pyenv/versions/3.12.7/lib/python3.12/site-packages (from aiohttp!=4.0.0a0,!=4.0.0a1->fsspec[http]<2026.0,>=2022.5.0->lightning) (1.19.0)\n",
      "Requirement already satisfied: mpmath<1.4,>=1.1.0 in /Users/benjaminvaca/.pyenv/versions/3.12.7/lib/python3.12/site-packages (from sympy>=1.13.3->torch<4.0,>=2.1.0->lightning) (1.3.0)\n",
      "Requirement already satisfied: MarkupSafe>=2.0 in /Users/benjaminvaca/.pyenv/versions/3.12.7/lib/python3.12/site-packages (from jinja2->torch<4.0,>=2.1.0->lightning) (3.0.2)\n",
      "Requirement already satisfied: idna>=2.0 in /Users/benjaminvaca/.pyenv/versions/3.12.7/lib/python3.12/site-packages (from yarl<2.0,>=1.17.0->aiohttp!=4.0.0a0,!=4.0.0a1->fsspec[http]<2026.0,>=2022.5.0->lightning) (3.10)\n",
      "\n",
      "\u001b[1m[\u001b[0m\u001b[34;49mnotice\u001b[0m\u001b[1;39;49m]\u001b[0m\u001b[39;49m A new release of pip is available: \u001b[0m\u001b[31;49m25.0.1\u001b[0m\u001b[39;49m -> \u001b[0m\u001b[32;49m25.1\u001b[0m\n",
      "\u001b[1m[\u001b[0m\u001b[34;49mnotice\u001b[0m\u001b[1;39;49m]\u001b[0m\u001b[39;49m To update, run: \u001b[0m\u001b[32;49mpip install --upgrade pip\u001b[0m\n",
      "Requirement already satisfied: torchmetrics in /Users/benjaminvaca/.pyenv/versions/3.12.7/lib/python3.12/site-packages (1.7.1)\n",
      "Requirement already satisfied: numpy>1.20.0 in /Users/benjaminvaca/.pyenv/versions/3.12.7/lib/python3.12/site-packages (from torchmetrics) (2.1.2)\n",
      "Requirement already satisfied: packaging>17.1 in /Users/benjaminvaca/.pyenv/versions/3.12.7/lib/python3.12/site-packages (from torchmetrics) (24.1)\n",
      "Requirement already satisfied: torch>=2.0.0 in /Users/benjaminvaca/.pyenv/versions/3.12.7/lib/python3.12/site-packages (from torchmetrics) (2.7.0)\n",
      "Requirement already satisfied: lightning-utilities>=0.8.0 in /Users/benjaminvaca/.pyenv/versions/3.12.7/lib/python3.12/site-packages (from torchmetrics) (0.14.3)\n",
      "Requirement already satisfied: setuptools in /Users/benjaminvaca/.pyenv/versions/3.12.7/lib/python3.12/site-packages (from lightning-utilities>=0.8.0->torchmetrics) (75.6.0)\n",
      "Requirement already satisfied: typing_extensions in /Users/benjaminvaca/.pyenv/versions/3.12.7/lib/python3.12/site-packages (from lightning-utilities>=0.8.0->torchmetrics) (4.12.2)\n",
      "Requirement already satisfied: filelock in /Users/benjaminvaca/.pyenv/versions/3.12.7/lib/python3.12/site-packages (from torch>=2.0.0->torchmetrics) (3.16.1)\n",
      "Requirement already satisfied: sympy>=1.13.3 in /Users/benjaminvaca/.pyenv/versions/3.12.7/lib/python3.12/site-packages (from torch>=2.0.0->torchmetrics) (1.14.0)\n",
      "Requirement already satisfied: networkx in /Users/benjaminvaca/.pyenv/versions/3.12.7/lib/python3.12/site-packages (from torch>=2.0.0->torchmetrics) (3.4.2)\n",
      "Requirement already satisfied: jinja2 in /Users/benjaminvaca/.pyenv/versions/3.12.7/lib/python3.12/site-packages (from torch>=2.0.0->torchmetrics) (3.1.4)\n",
      "Requirement already satisfied: fsspec in /Users/benjaminvaca/.pyenv/versions/3.12.7/lib/python3.12/site-packages (from torch>=2.0.0->torchmetrics) (2024.10.0)\n",
      "Requirement already satisfied: mpmath<1.4,>=1.1.0 in /Users/benjaminvaca/.pyenv/versions/3.12.7/lib/python3.12/site-packages (from sympy>=1.13.3->torch>=2.0.0->torchmetrics) (1.3.0)\n",
      "Requirement already satisfied: MarkupSafe>=2.0 in /Users/benjaminvaca/.pyenv/versions/3.12.7/lib/python3.12/site-packages (from jinja2->torch>=2.0.0->torchmetrics) (3.0.2)\n",
      "\n",
      "\u001b[1m[\u001b[0m\u001b[34;49mnotice\u001b[0m\u001b[1;39;49m]\u001b[0m\u001b[39;49m A new release of pip is available: \u001b[0m\u001b[31;49m25.0.1\u001b[0m\u001b[39;49m -> \u001b[0m\u001b[32;49m25.1\u001b[0m\n",
      "\u001b[1m[\u001b[0m\u001b[34;49mnotice\u001b[0m\u001b[1;39;49m]\u001b[0m\u001b[39;49m To update, run: \u001b[0m\u001b[32;49mpip install --upgrade pip\u001b[0m\n"
     ]
    }
   ],
   "source": [
    "!pip install lightning\n",
    "!pip install torchmetrics"
   ]
  },
  {
   "cell_type": "markdown",
   "metadata": {},
   "source": [
    "## RED NEURONAL"
   ]
  },
  {
   "cell_type": "code",
   "execution_count": 22,
   "metadata": {},
   "outputs": [],
   "source": [
    "import lightning as L\n",
    "import torch\n",
    "from torch.utils.data import Dataset, DataLoader, Subset\n",
    "import torchvision.transforms as T\n",
    "import numpy as np\n",
    "\n",
    "class NumpyMultilabelDataset(Dataset):\n",
    "    def __init__(self, X, y, transform=None):\n",
    "        self.X = X\n",
    "        self.y = y\n",
    "        self.transform = transform\n",
    "\n",
    "    def __len__(self):\n",
    "        return len(self.X)\n",
    "\n",
    "    def __getitem__(self, idx):\n",
    "        x = self.X[idx]\n",
    "        if self.transform:\n",
    "            # tu pipeline: numpy → FloatTensor\n",
    "            x = self.transform(x)\n",
    "        # para BCEWithLogitsLoss necesitamos float en y\n",
    "        y = torch.tensor(self.y[idx], dtype=torch.float32)\n",
    "        return x, y\n",
    "\n",
    "class DataModule(L.LightningDataModule):\n",
    "    def __init__(self, X_train, y_train, X_val, y_val, X_test, y_test, batch_size = 64): #De la documentación\n",
    "        super().__init__()\n",
    "        # Particiones\n",
    "        self.X_train = X_train\n",
    "        self.y_train = y_train\n",
    "        self.X_val =  X_val   \n",
    "        self.y_val= y_val\n",
    "        self.X_test  = X_test\n",
    "        self.y_test =y_test\n",
    "        self.batch_size = batch_size\n",
    "\n",
    "        # pipeline de transform: numpy 1D → FloatTensor\n",
    "        self.transform = T.Compose([\n",
    "            T.Lambda(lambda x: torch.tensor(x, dtype=torch.float32)),\n",
    "            # si quisieras centrar/escalar por característica:\n",
    "            # T.Normalize(mean=[...], std=[...])\n",
    "        ])\n",
    "\n",
    "        # metadata para tu modelo\n",
    "        self.input_shape = X_train.shape[1]\n",
    "        self.num_classes = y_train.shape[1]\n",
    "\n",
    "        # placeholders\n",
    "        self.train_dataset   = None\n",
    "        self.val_dataset     = None\n",
    "        self.test_dataset    = None\n",
    "        self.predict_dataset = None\n",
    "\n",
    "    def prepare_data(self):\n",
    "        pass\n",
    "\n",
    "    def setup(self, stage=None):\n",
    "        # solo creamos los datasets con lo que ya tienes\n",
    "        if stage == \"fit\" or stage is None:\n",
    "            self.train_dataset = NumpyMultilabelDataset(self.X_train, self.y_train, transform=self.transform)\n",
    "            self.val_dataset = NumpyMultilabelDataset(self.X_val, self.y_val, transform=self.transform)\n",
    "\n",
    "        if stage == \"test\" or stage is None:\n",
    "            self.test_dataset = NumpyMultilabelDataset(self.X_test, self.y_test, transform=self.transform)\n",
    "\n",
    "        if stage == \"predict\" or stage is None:\n",
    "            # por ejemplo, solo los 5 primeros para demo\n",
    "            full_test = NumpyMultilabelDataset(self.X_test, self.y_test, transform=self.transform)\n",
    "            self.predict_dataset = Subset(full_test, range(5))\n",
    "\n",
    "    def train_dataloader(self):\n",
    "        return DataLoader(self.train_dataset,batch_size=self.batch_size,shuffle=True)\n",
    "\n",
    "    def val_dataloader(self):\n",
    "        return DataLoader(self.val_dataset,batch_size=self.batch_size,shuffle=False)\n",
    "\n",
    "    def test_dataloader(self):\n",
    "        return DataLoader(self.test_dataset,batch_size=self.batch_size,shuffle=False)\n",
    "\n",
    "    def predict_dataloader(self):\n",
    "        return DataLoader(self.predict_dataset,batch_size=self.batch_size,shuffle=False)\n"
   ]
  },
  {
   "cell_type": "code",
   "execution_count": 23,
   "metadata": {},
   "outputs": [
    {
     "name": "stdout",
     "output_type": "stream",
     "text": [
      "Requirement already satisfied: torch-optimizer in /Users/benjaminvaca/.pyenv/versions/3.12.7/lib/python3.12/site-packages (0.3.0)\n",
      "Requirement already satisfied: torch>=1.5.0 in /Users/benjaminvaca/.pyenv/versions/3.12.7/lib/python3.12/site-packages (from torch-optimizer) (2.7.0)\n",
      "Requirement already satisfied: pytorch-ranger>=0.1.1 in /Users/benjaminvaca/.pyenv/versions/3.12.7/lib/python3.12/site-packages (from torch-optimizer) (0.1.1)\n",
      "Requirement already satisfied: filelock in /Users/benjaminvaca/.pyenv/versions/3.12.7/lib/python3.12/site-packages (from torch>=1.5.0->torch-optimizer) (3.16.1)\n",
      "Requirement already satisfied: typing-extensions>=4.10.0 in /Users/benjaminvaca/.pyenv/versions/3.12.7/lib/python3.12/site-packages (from torch>=1.5.0->torch-optimizer) (4.12.2)\n",
      "Requirement already satisfied: setuptools in /Users/benjaminvaca/.pyenv/versions/3.12.7/lib/python3.12/site-packages (from torch>=1.5.0->torch-optimizer) (75.6.0)\n",
      "Requirement already satisfied: sympy>=1.13.3 in /Users/benjaminvaca/.pyenv/versions/3.12.7/lib/python3.12/site-packages (from torch>=1.5.0->torch-optimizer) (1.14.0)\n",
      "Requirement already satisfied: networkx in /Users/benjaminvaca/.pyenv/versions/3.12.7/lib/python3.12/site-packages (from torch>=1.5.0->torch-optimizer) (3.4.2)\n",
      "Requirement already satisfied: jinja2 in /Users/benjaminvaca/.pyenv/versions/3.12.7/lib/python3.12/site-packages (from torch>=1.5.0->torch-optimizer) (3.1.4)\n",
      "Requirement already satisfied: fsspec in /Users/benjaminvaca/.pyenv/versions/3.12.7/lib/python3.12/site-packages (from torch>=1.5.0->torch-optimizer) (2024.10.0)\n",
      "Requirement already satisfied: mpmath<1.4,>=1.1.0 in /Users/benjaminvaca/.pyenv/versions/3.12.7/lib/python3.12/site-packages (from sympy>=1.13.3->torch>=1.5.0->torch-optimizer) (1.3.0)\n",
      "Requirement already satisfied: MarkupSafe>=2.0 in /Users/benjaminvaca/.pyenv/versions/3.12.7/lib/python3.12/site-packages (from jinja2->torch>=1.5.0->torch-optimizer) (3.0.2)\n",
      "\n",
      "\u001b[1m[\u001b[0m\u001b[34;49mnotice\u001b[0m\u001b[1;39;49m]\u001b[0m\u001b[39;49m A new release of pip is available: \u001b[0m\u001b[31;49m25.0.1\u001b[0m\u001b[39;49m -> \u001b[0m\u001b[32;49m25.1\u001b[0m\n",
      "\u001b[1m[\u001b[0m\u001b[34;49mnotice\u001b[0m\u001b[1;39;49m]\u001b[0m\u001b[39;49m To update, run: \u001b[0m\u001b[32;49mpip install --upgrade pip\u001b[0m\n"
     ]
    }
   ],
   "source": [
    "!pip install torch-optimizer"
   ]
  },
  {
   "cell_type": "code",
   "execution_count": 24,
   "metadata": {},
   "outputs": [],
   "source": [
    "import torch\n",
    "import torch.nn as nn\n",
    "import pytorch_lightning as L\n",
    "from torch.utils.data import DataLoader, Dataset, Subset\n",
    "from sklearn.model_selection import RepeatedKFold\n",
    "import numpy as np\n",
    "from torchmetrics.classification import MultilabelF1Score\n",
    "import pandas as pd\n",
    "from torch_optimizer import RAdam\n",
    "from torchmetrics.classification import MultilabelHammingDistance\n",
    "from torchmetrics.classification import MultilabelAUROC, MultilabelPrecisionRecallCurve\n",
    "from torchmetrics.classification import (\n",
    "    MultilabelPrecision,\n",
    "    MultilabelRecall\n",
    ")\n",
    "\n",
    "\n",
    "class Mymodel2(L.LightningModule):\n",
    "    def __init__(self, input_shape, num_classes, hidden_units, lambda_L2=0.0):\n",
    "        super().__init__()\n",
    "        self.hidden_units = hidden_units  # Store the list of hidden units\n",
    "        layers = []\n",
    "\n",
    "        for units in hidden_units: #hidden layers\n",
    "            layers.append(nn.Linear(input_shape, units))\n",
    "            layers.append(nn.BatchNorm1d(units))\n",
    "            layers.append(nn.LeakyReLU(negative_slope=0.01)) #Activcion\n",
    "            layers.append(nn.Dropout(0.3))\n",
    "            input_shape = units\n",
    "        layers.append(nn.Linear(input_shape, num_classes))#output layer, logits 9\n",
    "        self.classifier = nn.Sequential(*layers) #clasificador\n",
    "\n",
    "        self.lambda_L2 = lambda_L2  # L2 regularization strength\n",
    "        self.loss = nn.BCEWithLogitsLoss() #Loss function para problemas multilabel\n",
    "\n",
    "        self.hamming = MultilabelHammingDistance(num_labels=num_classes)\n",
    "        self.f1_macro = MultilabelF1Score(num_labels=num_classes, average='macro')\n",
    "    #for inference\n",
    "    def forward(self, x):\n",
    "        return self.classifier(x)\n",
    "\n",
    "    def configure_optimizers(self):\n",
    "        return torch.optim.Adam(self.parameters(), lr=0.001, weight_decay=self.lambda_L2)\n",
    "\n",
    "    #Que deberia de aumentar en el codigo para poder cumplir con BCEWithLogitsLoss()\n",
    "    def shared_step(self, batch):\n",
    "        x, y = batch              # y debe ser un tensor float32 de shape [B, C]\n",
    "        logits = self(x)          # [B, C]\n",
    "        loss   = self.loss(logits, y)\n",
    "\n",
    "        # convertir logits → probabilidades → predicciones binarias\n",
    "        probs = torch.sigmoid(logits)            # [B, C], en [0,1]\n",
    "        preds = (probs > 0.5).int()              # umbral 0.5 → {0,1}\n",
    "\n",
    "        return loss, probs,preds, y\n",
    "    \n",
    "    def training_step(self, batch, batch_idx):\n",
    "        loss, probs, preds, labels= self.shared_step(batch)\n",
    "\n",
    "        ham = self.hamming(preds, labels.int()) \n",
    "        f1ma=self.f1_macro(preds, labels.int())\n",
    "\n",
    "        self.log('train_loss', loss, logger=True,prog_bar=True)\n",
    "        self.log('train_ham', ham,  logger=True,prog_bar=True)\n",
    "        self.log('train_f1ma', f1ma, logger=True,prog_bar=True)\n",
    "        return loss\n",
    "\n",
    "    def validation_step(self, batch, batch_idx):\n",
    "        loss, probs, preds, labels= self.shared_step(batch)\n",
    "\n",
    "        ham = self.hamming(preds, labels.int()) \n",
    "        f1ma=self.f1_macro(preds, labels.int())\n",
    "\n",
    "        self.log('val_loss', loss, on_step=True, on_epoch=True, logger=True,prog_bar=True)\n",
    "        self.log('val_ham', ham, on_step=True, on_epoch=True, logger=True,prog_bar=True)\n",
    "        self.log('val_f1ma', f1ma, on_step=True, on_epoch=True, logger=True,prog_bar=True)\n",
    "        return loss\n",
    "\n",
    "    def test_step(self, batch, batch_idx):\n",
    "        loss, probs, preds, labels= self.shared_step(batch)\n",
    "\n",
    "        ham = self.hamming(preds, labels.int()) \n",
    "        f1ma=self.f1_macro(preds, labels.int())\n",
    "\n",
    "        self.log('test_loss', loss, on_step=True, on_epoch=True, logger=True,prog_bar=True)\n",
    "        self.log('test_ham', ham, on_step=True, on_epoch=True, logger=True,prog_bar=True)\n",
    "        self.log('test_f1ma', f1ma, on_step=True, on_epoch=True, logger=True,prog_bar=True)\n",
    "        return loss\n",
    "    \n",
    "    def predict_step(self, batch): #not necessary if dataloader with custom collate for prediction available (see OPTION 3 at the end of the notebook)\n",
    "        # this calls forward for the inputs only\n",
    "        inputs, labels = batch\n",
    "        return self(inputs) #return logits, this calls forward\n"
   ]
  },
  {
   "cell_type": "code",
   "execution_count": 25,
   "metadata": {},
   "outputs": [
    {
     "name": "stdout",
     "output_type": "stream",
     "text": [
      "You are using cpu\n",
      "zsh:1: command not found: nvidia-smi\n",
      "zsh:1: command not found: nvidia-smi\n",
      "CUDA_VISIBLE_DEVICES = 0\n"
     ]
    }
   ],
   "source": [
    "import os\n",
    "device = torch.device(\"cuda\" if torch.cuda.is_available() else \"cpu\") #Comando para indicar que queremos usar GPU\n",
    "print(\"You are using\", device)\n",
    "!nvidia-smi #Comando para obtener datos de GPU\n",
    "!nvidia-smi -L\n",
    "num_gpus = 1\n",
    "os.environ[\"CUDA_VISIBLE_DEVICES\"] = \",\".join(str(x) for x in range(num_gpus))\n",
    "print(\"CUDA_VISIBLE_DEVICES =\", os.environ[\"CUDA_VISIBLE_DEVICES\"])"
   ]
  },
  {
   "cell_type": "code",
   "execution_count": 26,
   "metadata": {},
   "outputs": [],
   "source": [
    "from sklearn.model_selection import RepeatedKFold\n",
    "from pytorch_lightning.callbacks import EarlyStopping, ModelCheckpoint\n",
    "import pytorch_lightning as L\n",
    "import numpy as np\n",
    "from sklearn.manifold import TSNE\n",
    "import matplotlib.pyplot as plt\n",
    "\n",
    "\n",
    "def ValidacionCruzada(\n",
    "    hidden_units,\n",
    "    Xtrain,\n",
    "    ytrain,\n",
    "    Xtest,\n",
    "    ytest,\n",
    "    batch_size = 32,\n",
    "    n_splits = 5,\n",
    "    n_repeats = 2,\n",
    "    max_epochs = 50,\n",
    "    lambda_L2 = 0.0,\n",
    "):\n",
    "    \"\"\"\n",
    "    Repeated K-Fold CV para multilabel, registrando todas las métricas.\n",
    "    \"\"\"\n",
    "\n",
    "    rkf = RepeatedKFold(n_splits=n_splits, n_repeats=n_repeats, random_state=42)\n",
    "    # inicializar listas para cada métrica\n",
    "    # listas por métrica\n",
    "    losses      = []\n",
    "    hamming     = []\n",
    "    f1_macro    = []\n",
    "    train_f1mas = []\n",
    "    val_f1mas   = []\n",
    "    test_f1mas  = []\n",
    "\n",
    "    total_folds = n_splits * n_repeats\n",
    "    for fold, (train_idx, val_idx) in enumerate(rkf.split(Xtrain), start=1):\n",
    "        print(f\"Fold {fold}/{total_folds}\")\n",
    "\n",
    "        X_tr, X_val = Xtrain[train_idx], Xtrain[val_idx]\n",
    "        y_tr, y_val = ytrain[train_idx], ytrain[val_idx]\n",
    "\n",
    "        dm = DataModule(\n",
    "            X_train=X_tr, y_train=y_tr,\n",
    "            X_val=  X_val, y_val=  y_val,\n",
    "            X_test= Xtest, y_test=ytest,\n",
    "            batch_size=batch_size\n",
    "        )\n",
    "        dm.prepare_data(); dm.setup()\n",
    "\n",
    "        early_stop = EarlyStopping(\n",
    "            monitor='val_f1ma', mode='max', patience=3\n",
    "        )\n",
    "        ckpt = ModelCheckpoint(\n",
    "            monitor='val_f1ma', mode='max',\n",
    "            save_top_k=5, save_last=True\n",
    "        )\n",
    "\n",
    "        model = Mymodel2(\n",
    "            input_shape=dm.input_shape,\n",
    "            num_classes=dm.num_classes,\n",
    "            hidden_units=hidden_units,\n",
    "            lambda_L2=lambda_L2\n",
    "        )\n",
    "\n",
    "        trainer = L.Trainer(\n",
    "            max_epochs=max_epochs,\n",
    "            callbacks=[early_stop, ckpt],\n",
    "            accelerator=\"gpu\" if (device and device.type==\"cuda\") else \"cpu\",\n",
    "            devices=1,\n",
    "            logger=True\n",
    "        )\n",
    "\n",
    "        trainer.fit(\n",
    "            model,\n",
    "            train_dataloaders=dm.train_dataloader(),\n",
    "            val_dataloaders=  dm.val_dataloader()\n",
    "        )\n",
    "         # 2) extraer F1-macro en TRAIN con el mejor ckpt\n",
    "        train_res = trainer.validate(\n",
    "            model,\n",
    "            dataloaders=dm.train_dataloader(),\n",
    "            ckpt_path='best',\n",
    "            verbose=False\n",
    "        )[0]\n",
    "        train_f1mas.append(train_res['val_f1ma_epoch'])\n",
    "\n",
    "        # 3) extraer F1-macro en VAL con el mismo ckpt\n",
    "        val_res = trainer.validate(\n",
    "            model,\n",
    "            dataloaders=dm.val_dataloader(),\n",
    "            ckpt_path='best',\n",
    "            verbose=False\n",
    "        )[0]\n",
    "        val_f1mas.append(val_res['val_f1ma_epoch'])\n",
    "        res = trainer.test(\n",
    "            model,\n",
    "            dataloaders=dm.test_dataloader(),\n",
    "            ckpt_path='best'\n",
    "        )\n",
    "\n",
    "        # extraer métricas *_epoch\n",
    "        losses.append(    res[0]['test_loss_epoch']   )\n",
    "        hamming.append(   res[0]['test_ham_epoch']    )\n",
    "        f1_macro.append(  res[0]['test_f1ma_epoch']   )\n",
    "\n",
    "\n",
    "        print(\n",
    "            f\"  loss: {losses[-1]:.4f} | hamming: {hamming[-1]:.4f} | \"\n",
    "            f\"f1_macro: {f1_macro[-1]:.4f}\"\n",
    "        )\n",
    "\n",
    "    # calcular medias y desviaciones\n",
    "    def mean_std(lst):\n",
    "        return np.mean(lst), np.std(lst)\n",
    "\n",
    "    avg_loss, std_loss           = mean_std(losses)\n",
    "    avg_ham,  std_ham            = mean_std(hamming)\n",
    "    avg_f1ma, std_f1ma           = mean_std(f1_macro)\n",
    "\n",
    "\n",
    "    print(f\"\\nF1-macro promedio: {avg_f1ma:.4f} ± {std_f1ma:.4f}\")\n",
    "    print(f\"Hamming promedio: {avg_ham:.4f} ± {std_ham:.4f}\")\n",
    "    print(f\"Pérdida promedio:         {avg_loss:.4f} ± {std_loss:.4f}\")\n",
    "\n",
    "    return {\n",
    "        # métricas por fold\n",
    "        'train_f1ma': train_f1mas,\n",
    "        'val_f1ma':   val_f1mas,\n",
    "        'test_f1ma':  test_f1mas,\n",
    "        'losses':     losses,\n",
    "        'hamming':    hamming,\n",
    "        'f1_macro':   f1_macro,\n",
    "\n",
    "        # y si quieres las medias/desv:\n",
    "        'avg_loss':       avg_loss,\n",
    "        'std_loss':       std_loss,\n",
    "        'avg_hamming':    avg_ham,\n",
    "        'std_hamming':    std_ham,\n",
    "        'avg_f1_macro':   avg_f1ma,\n",
    "        'std_f1_macro':   std_f1ma,\n",
    "    }"
   ]
  },
  {
   "cell_type": "code",
   "execution_count": 27,
   "metadata": {},
   "outputs": [],
   "source": [
    "from itertools import product\n",
    "\n",
    "hidden_layers_options = [\n",
    "    [512,256,128],\n",
    "    [256,128,64],\n",
    "    [256,256,256]\n",
    "]\n",
    "lambda_L2_options = [1e-2, 1e-3, 1e-4]\n",
    "\n",
    "param_grid = [\n",
    "    {'hidden_units': hu, 'lambda_L2': l2}\n",
    "    for hu, l2 in product(hidden_layers_options, lambda_L2_options)\n",
    "]\n"
   ]
  },
  {
   "cell_type": "code",
   "execution_count": 28,
   "metadata": {},
   "outputs": [
    {
     "name": "stdout",
     "output_type": "stream",
     "text": [
      "Fold 1/10\n"
     ]
    },
    {
     "name": "stderr",
     "output_type": "stream",
     "text": [
      "GPU available: True (mps), used: False\n",
      "TPU available: False, using: 0 TPU cores\n",
      "HPU available: False, using: 0 HPUs\n",
      "/Users/benjaminvaca/.pyenv/versions/3.12.7/lib/python3.12/site-packages/pytorch_lightning/trainer/setup.py:177: GPU available but not used. You can set it by doing `Trainer(accelerator='gpu')`.\n",
      "\n",
      "  | Name       | Type                      | Params | Mode \n",
      "-----------------------------------------------------------------\n",
      "0 | classifier | Sequential                | 562 K  | train\n",
      "1 | loss       | BCEWithLogitsLoss         | 0      | train\n",
      "2 | hamming    | MultilabelHammingDistance | 0      | train\n",
      "3 | f1_macro   | MultilabelF1Score         | 0      | train\n",
      "-----------------------------------------------------------------\n",
      "562 K     Trainable params\n",
      "0         Non-trainable params\n",
      "562 K     Total params\n",
      "2.250     Total estimated model params size (MB)\n",
      "17        Modules in train mode\n",
      "0         Modules in eval mode\n"
     ]
    },
    {
     "name": "stdout",
     "output_type": "stream",
     "text": [
      "Sanity Checking DataLoader 0:   0%|          | 0/2 [00:00<?, ?it/s]"
     ]
    },
    {
     "name": "stderr",
     "output_type": "stream",
     "text": [
      "/Users/benjaminvaca/.pyenv/versions/3.12.7/lib/python3.12/site-packages/pytorch_lightning/trainer/connectors/data_connector.py:425: The 'val_dataloader' does not have many workers which may be a bottleneck. Consider increasing the value of the `num_workers` argument` to `num_workers=11` in the `DataLoader` to improve performance.\n"
     ]
    },
    {
     "name": "stdout",
     "output_type": "stream",
     "text": [
      "                                                                           "
     ]
    },
    {
     "name": "stderr",
     "output_type": "stream",
     "text": [
      "/Users/benjaminvaca/.pyenv/versions/3.12.7/lib/python3.12/site-packages/pytorch_lightning/trainer/connectors/data_connector.py:425: The 'train_dataloader' does not have many workers which may be a bottleneck. Consider increasing the value of the `num_workers` argument` to `num_workers=11` in the `DataLoader` to improve performance.\n",
      "/Users/benjaminvaca/.pyenv/versions/3.12.7/lib/python3.12/site-packages/pytorch_lightning/loops/fit_loop.py:310: The number of training batches (34) is smaller than the logging interval Trainer(log_every_n_steps=50). Set a lower value for log_every_n_steps if you want to see logs for the training epoch.\n"
     ]
    },
    {
     "name": "stdout",
     "output_type": "stream",
     "text": [
      "Epoch 3: 100%|██████████| 34/34 [00:00<00:00, 141.33it/s, v_num=180, train_loss=0.585, train_ham=0.287, train_f1ma=0.300, val_loss_step=0.562, val_ham_step=0.403, val_f1ma_step=0.0482, val_loss_epoch=0.576, val_ham_epoch=0.300, val_f1ma_epoch=0.157]\n"
     ]
    },
    {
     "name": "stderr",
     "output_type": "stream",
     "text": [
      "Restoring states from the checkpoint path at /Users/benjaminvaca/Documents/USFQ/semestre7/machine_learning/proyecto/lightning_logs/version_180/checkpoints/epoch=0-step=34.ckpt\n",
      "Loaded model weights from the checkpoint at /Users/benjaminvaca/Documents/USFQ/semestre7/machine_learning/proyecto/lightning_logs/version_180/checkpoints/epoch=0-step=34.ckpt\n",
      "/Users/benjaminvaca/.pyenv/versions/3.12.7/lib/python3.12/site-packages/pytorch_lightning/trainer/connectors/data_connector.py:476: Your `val_dataloader`'s sampler has shuffling enabled, it is strongly recommended that you turn shuffling off for val/test dataloaders.\n"
     ]
    },
    {
     "name": "stdout",
     "output_type": "stream",
     "text": [
      "Validation DataLoader 0: 100%|██████████| 34/34 [00:00<00:00, 401.87it/s]"
     ]
    },
    {
     "name": "stderr",
     "output_type": "stream",
     "text": [
      "Restoring states from the checkpoint path at /Users/benjaminvaca/Documents/USFQ/semestre7/machine_learning/proyecto/lightning_logs/version_180/checkpoints/epoch=0-step=34.ckpt\n",
      "Loaded model weights from the checkpoint at /Users/benjaminvaca/Documents/USFQ/semestre7/machine_learning/proyecto/lightning_logs/version_180/checkpoints/epoch=0-step=34.ckpt\n"
     ]
    },
    {
     "name": "stdout",
     "output_type": "stream",
     "text": [
      "\n",
      "Validation DataLoader 0: 100%|██████████| 9/9 [00:00<00:00, 394.03it/s]"
     ]
    },
    {
     "name": "stderr",
     "output_type": "stream",
     "text": [
      "Restoring states from the checkpoint path at /Users/benjaminvaca/Documents/USFQ/semestre7/machine_learning/proyecto/lightning_logs/version_180/checkpoints/epoch=0-step=34.ckpt\n"
     ]
    },
    {
     "name": "stdout",
     "output_type": "stream",
     "text": [
      "\n"
     ]
    },
    {
     "name": "stderr",
     "output_type": "stream",
     "text": [
      "Loaded model weights from the checkpoint at /Users/benjaminvaca/Documents/USFQ/semestre7/machine_learning/proyecto/lightning_logs/version_180/checkpoints/epoch=0-step=34.ckpt\n",
      "/Users/benjaminvaca/.pyenv/versions/3.12.7/lib/python3.12/site-packages/pytorch_lightning/trainer/connectors/data_connector.py:425: The 'test_dataloader' does not have many workers which may be a bottleneck. Consider increasing the value of the `num_workers` argument` to `num_workers=11` in the `DataLoader` to improve performance.\n"
     ]
    },
    {
     "name": "stdout",
     "output_type": "stream",
     "text": [
      "Testing DataLoader 0: 100%|██████████| 11/11 [00:00<00:00, 230.50it/s]\n"
     ]
    },
    {
     "data": {
      "text/html": [
       "<pre style=\"white-space:pre;overflow-x:auto;line-height:normal;font-family:Menlo,'DejaVu Sans Mono',consolas,'Courier New',monospace\">┏━━━━━━━━━━━━━━━━━━━━━━━━━━━┳━━━━━━━━━━━━━━━━━━━━━━━━━━━┓\n",
       "┃<span style=\"font-weight: bold\">        Test metric        </span>┃<span style=\"font-weight: bold\">       DataLoader 0        </span>┃\n",
       "┡━━━━━━━━━━━━━━━━━━━━━━━━━━━╇━━━━━━━━━━━━━━━━━━━━━━━━━━━┩\n",
       "│<span style=\"color: #008080; text-decoration-color: #008080\">      test_f1ma_epoch      </span>│<span style=\"color: #800080; text-decoration-color: #800080\">    0.19175776839256287    </span>│\n",
       "│<span style=\"color: #008080; text-decoration-color: #008080\">      test_ham_epoch       </span>│<span style=\"color: #800080; text-decoration-color: #800080\">    0.3071124255657196     </span>│\n",
       "│<span style=\"color: #008080; text-decoration-color: #008080\">      test_loss_epoch      </span>│<span style=\"color: #800080; text-decoration-color: #800080\">    0.6095612645149231     </span>│\n",
       "└───────────────────────────┴───────────────────────────┘\n",
       "</pre>\n"
      ],
      "text/plain": [
       "┏━━━━━━━━━━━━━━━━━━━━━━━━━━━┳━━━━━━━━━━━━━━━━━━━━━━━━━━━┓\n",
       "┃\u001b[1m \u001b[0m\u001b[1m       Test metric       \u001b[0m\u001b[1m \u001b[0m┃\u001b[1m \u001b[0m\u001b[1m      DataLoader 0       \u001b[0m\u001b[1m \u001b[0m┃\n",
       "┡━━━━━━━━━━━━━━━━━━━━━━━━━━━╇━━━━━━━━━━━━━━━━━━━━━━━━━━━┩\n",
       "│\u001b[36m \u001b[0m\u001b[36m     test_f1ma_epoch     \u001b[0m\u001b[36m \u001b[0m│\u001b[35m \u001b[0m\u001b[35m   0.19175776839256287   \u001b[0m\u001b[35m \u001b[0m│\n",
       "│\u001b[36m \u001b[0m\u001b[36m     test_ham_epoch      \u001b[0m\u001b[36m \u001b[0m│\u001b[35m \u001b[0m\u001b[35m   0.3071124255657196    \u001b[0m\u001b[35m \u001b[0m│\n",
       "│\u001b[36m \u001b[0m\u001b[36m     test_loss_epoch     \u001b[0m\u001b[36m \u001b[0m│\u001b[35m \u001b[0m\u001b[35m   0.6095612645149231    \u001b[0m\u001b[35m \u001b[0m│\n",
       "└───────────────────────────┴───────────────────────────┘\n"
      ]
     },
     "metadata": {},
     "output_type": "display_data"
    },
    {
     "name": "stdout",
     "output_type": "stream",
     "text": [
      "  loss: 0.6096 | hamming: 0.3071 | f1_macro: 0.1918\n",
      "Fold 2/10\n"
     ]
    },
    {
     "name": "stderr",
     "output_type": "stream",
     "text": [
      "GPU available: True (mps), used: False\n",
      "TPU available: False, using: 0 TPU cores\n",
      "HPU available: False, using: 0 HPUs\n",
      "/Users/benjaminvaca/.pyenv/versions/3.12.7/lib/python3.12/site-packages/pytorch_lightning/trainer/setup.py:177: GPU available but not used. You can set it by doing `Trainer(accelerator='gpu')`.\n",
      "\n",
      "  | Name       | Type                      | Params | Mode \n",
      "-----------------------------------------------------------------\n",
      "0 | classifier | Sequential                | 562 K  | train\n",
      "1 | loss       | BCEWithLogitsLoss         | 0      | train\n",
      "2 | hamming    | MultilabelHammingDistance | 0      | train\n",
      "3 | f1_macro   | MultilabelF1Score         | 0      | train\n",
      "-----------------------------------------------------------------\n",
      "562 K     Trainable params\n",
      "0         Non-trainable params\n",
      "562 K     Total params\n",
      "2.250     Total estimated model params size (MB)\n",
      "17        Modules in train mode\n",
      "0         Modules in eval mode\n"
     ]
    },
    {
     "name": "stdout",
     "output_type": "stream",
     "text": [
      "Epoch 6: 100%|██████████| 34/34 [00:00<00:00, 153.42it/s, v_num=181, train_loss=0.529, train_ham=0.276, train_f1ma=0.270, val_loss_step=0.606, val_ham_step=0.431, val_f1ma_step=0.0261, val_loss_epoch=0.571, val_ham_epoch=0.298, val_f1ma_epoch=0.142]"
     ]
    },
    {
     "name": "stderr",
     "output_type": "stream",
     "text": [
      "Restoring states from the checkpoint path at /Users/benjaminvaca/Documents/USFQ/semestre7/machine_learning/proyecto/lightning_logs/version_181/checkpoints/epoch=3-step=136.ckpt\n"
     ]
    },
    {
     "name": "stdout",
     "output_type": "stream",
     "text": [
      "\n"
     ]
    },
    {
     "name": "stderr",
     "output_type": "stream",
     "text": [
      "Loaded model weights from the checkpoint at /Users/benjaminvaca/Documents/USFQ/semestre7/machine_learning/proyecto/lightning_logs/version_181/checkpoints/epoch=3-step=136.ckpt\n"
     ]
    },
    {
     "name": "stdout",
     "output_type": "stream",
     "text": [
      "Validation DataLoader 0: 100%|██████████| 34/34 [00:00<00:00, 404.97it/s]\n"
     ]
    },
    {
     "name": "stderr",
     "output_type": "stream",
     "text": [
      "Restoring states from the checkpoint path at /Users/benjaminvaca/Documents/USFQ/semestre7/machine_learning/proyecto/lightning_logs/version_181/checkpoints/epoch=3-step=136.ckpt\n",
      "Loaded model weights from the checkpoint at /Users/benjaminvaca/Documents/USFQ/semestre7/machine_learning/proyecto/lightning_logs/version_181/checkpoints/epoch=3-step=136.ckpt\n"
     ]
    },
    {
     "name": "stdout",
     "output_type": "stream",
     "text": [
      "Validation DataLoader 0: 100%|██████████| 9/9 [00:00<00:00, 349.30it/s]"
     ]
    },
    {
     "name": "stderr",
     "output_type": "stream",
     "text": [
      "Restoring states from the checkpoint path at /Users/benjaminvaca/Documents/USFQ/semestre7/machine_learning/proyecto/lightning_logs/version_181/checkpoints/epoch=3-step=136.ckpt\n"
     ]
    },
    {
     "name": "stdout",
     "output_type": "stream",
     "text": [
      "\n"
     ]
    },
    {
     "name": "stderr",
     "output_type": "stream",
     "text": [
      "Loaded model weights from the checkpoint at /Users/benjaminvaca/Documents/USFQ/semestre7/machine_learning/proyecto/lightning_logs/version_181/checkpoints/epoch=3-step=136.ckpt\n"
     ]
    },
    {
     "name": "stdout",
     "output_type": "stream",
     "text": [
      "Testing DataLoader 0: 100%|██████████| 11/11 [00:00<00:00, 367.56it/s]\n"
     ]
    },
    {
     "data": {
      "text/html": [
       "<pre style=\"white-space:pre;overflow-x:auto;line-height:normal;font-family:Menlo,'DejaVu Sans Mono',consolas,'Courier New',monospace\">┏━━━━━━━━━━━━━━━━━━━━━━━━━━━┳━━━━━━━━━━━━━━━━━━━━━━━━━━━┓\n",
       "┃<span style=\"font-weight: bold\">        Test metric        </span>┃<span style=\"font-weight: bold\">       DataLoader 0        </span>┃\n",
       "┡━━━━━━━━━━━━━━━━━━━━━━━━━━━╇━━━━━━━━━━━━━━━━━━━━━━━━━━━┩\n",
       "│<span style=\"color: #008080; text-decoration-color: #008080\">      test_f1ma_epoch      </span>│<span style=\"color: #800080; text-decoration-color: #800080\">    0.1988404244184494     </span>│\n",
       "│<span style=\"color: #008080; text-decoration-color: #008080\">      test_ham_epoch       </span>│<span style=\"color: #800080; text-decoration-color: #800080\">    0.2936742603778839     </span>│\n",
       "│<span style=\"color: #008080; text-decoration-color: #008080\">      test_loss_epoch      </span>│<span style=\"color: #800080; text-decoration-color: #800080\">    0.5699232816696167     </span>│\n",
       "└───────────────────────────┴───────────────────────────┘\n",
       "</pre>\n"
      ],
      "text/plain": [
       "┏━━━━━━━━━━━━━━━━━━━━━━━━━━━┳━━━━━━━━━━━━━━━━━━━━━━━━━━━┓\n",
       "┃\u001b[1m \u001b[0m\u001b[1m       Test metric       \u001b[0m\u001b[1m \u001b[0m┃\u001b[1m \u001b[0m\u001b[1m      DataLoader 0       \u001b[0m\u001b[1m \u001b[0m┃\n",
       "┡━━━━━━━━━━━━━━━━━━━━━━━━━━━╇━━━━━━━━━━━━━━━━━━━━━━━━━━━┩\n",
       "│\u001b[36m \u001b[0m\u001b[36m     test_f1ma_epoch     \u001b[0m\u001b[36m \u001b[0m│\u001b[35m \u001b[0m\u001b[35m   0.1988404244184494    \u001b[0m\u001b[35m \u001b[0m│\n",
       "│\u001b[36m \u001b[0m\u001b[36m     test_ham_epoch      \u001b[0m\u001b[36m \u001b[0m│\u001b[35m \u001b[0m\u001b[35m   0.2936742603778839    \u001b[0m\u001b[35m \u001b[0m│\n",
       "│\u001b[36m \u001b[0m\u001b[36m     test_loss_epoch     \u001b[0m\u001b[36m \u001b[0m│\u001b[35m \u001b[0m\u001b[35m   0.5699232816696167    \u001b[0m\u001b[35m \u001b[0m│\n",
       "└───────────────────────────┴───────────────────────────┘\n"
      ]
     },
     "metadata": {},
     "output_type": "display_data"
    },
    {
     "name": "stdout",
     "output_type": "stream",
     "text": [
      "  loss: 0.5699 | hamming: 0.2937 | f1_macro: 0.1988\n",
      "Fold 3/10\n"
     ]
    },
    {
     "name": "stderr",
     "output_type": "stream",
     "text": [
      "GPU available: True (mps), used: False\n",
      "TPU available: False, using: 0 TPU cores\n",
      "HPU available: False, using: 0 HPUs\n",
      "\n",
      "  | Name       | Type                      | Params | Mode \n",
      "-----------------------------------------------------------------\n",
      "0 | classifier | Sequential                | 562 K  | train\n",
      "1 | loss       | BCEWithLogitsLoss         | 0      | train\n",
      "2 | hamming    | MultilabelHammingDistance | 0      | train\n",
      "3 | f1_macro   | MultilabelF1Score         | 0      | train\n",
      "-----------------------------------------------------------------\n",
      "562 K     Trainable params\n",
      "0         Non-trainable params\n",
      "562 K     Total params\n",
      "2.250     Total estimated model params size (MB)\n",
      "17        Modules in train mode\n",
      "0         Modules in eval mode\n"
     ]
    },
    {
     "name": "stdout",
     "output_type": "stream",
     "text": [
      "Epoch 3: 100%|██████████| 34/34 [00:00<00:00, 166.13it/s, v_num=182, train_loss=0.594, train_ham=0.315, train_f1ma=0.202, val_loss_step=0.566, val_ham_step=0.400, val_f1ma_step=0.0523, val_loss_epoch=0.581, val_ham_epoch=0.299, val_f1ma_epoch=0.134]\n"
     ]
    },
    {
     "name": "stderr",
     "output_type": "stream",
     "text": [
      "Restoring states from the checkpoint path at /Users/benjaminvaca/Documents/USFQ/semestre7/machine_learning/proyecto/lightning_logs/version_182/checkpoints/epoch=0-step=34.ckpt\n",
      "Loaded model weights from the checkpoint at /Users/benjaminvaca/Documents/USFQ/semestre7/machine_learning/proyecto/lightning_logs/version_182/checkpoints/epoch=0-step=34.ckpt\n"
     ]
    },
    {
     "name": "stdout",
     "output_type": "stream",
     "text": [
      "Validation DataLoader 0: 100%|██████████| 34/34 [00:00<00:00, 454.08it/s]"
     ]
    },
    {
     "name": "stderr",
     "output_type": "stream",
     "text": [
      "Restoring states from the checkpoint path at /Users/benjaminvaca/Documents/USFQ/semestre7/machine_learning/proyecto/lightning_logs/version_182/checkpoints/epoch=0-step=34.ckpt\n"
     ]
    },
    {
     "name": "stdout",
     "output_type": "stream",
     "text": [
      "\n"
     ]
    },
    {
     "name": "stderr",
     "output_type": "stream",
     "text": [
      "Loaded model weights from the checkpoint at /Users/benjaminvaca/Documents/USFQ/semestre7/machine_learning/proyecto/lightning_logs/version_182/checkpoints/epoch=0-step=34.ckpt\n"
     ]
    },
    {
     "name": "stdout",
     "output_type": "stream",
     "text": [
      "Validation DataLoader 0: 100%|██████████| 9/9 [00:00<00:00, 408.14it/s]\n"
     ]
    },
    {
     "name": "stderr",
     "output_type": "stream",
     "text": [
      "Restoring states from the checkpoint path at /Users/benjaminvaca/Documents/USFQ/semestre7/machine_learning/proyecto/lightning_logs/version_182/checkpoints/epoch=0-step=34.ckpt\n",
      "Loaded model weights from the checkpoint at /Users/benjaminvaca/Documents/USFQ/semestre7/machine_learning/proyecto/lightning_logs/version_182/checkpoints/epoch=0-step=34.ckpt\n"
     ]
    },
    {
     "name": "stdout",
     "output_type": "stream",
     "text": [
      "Testing DataLoader 0: 100%|██████████| 11/11 [00:00<00:00, 422.43it/s]\n"
     ]
    },
    {
     "data": {
      "text/html": [
       "<pre style=\"white-space:pre;overflow-x:auto;line-height:normal;font-family:Menlo,'DejaVu Sans Mono',consolas,'Courier New',monospace\">┏━━━━━━━━━━━━━━━━━━━━━━━━━━━┳━━━━━━━━━━━━━━━━━━━━━━━━━━━┓\n",
       "┃<span style=\"font-weight: bold\">        Test metric        </span>┃<span style=\"font-weight: bold\">       DataLoader 0        </span>┃\n",
       "┡━━━━━━━━━━━━━━━━━━━━━━━━━━━╇━━━━━━━━━━━━━━━━━━━━━━━━━━━┩\n",
       "│<span style=\"color: #008080; text-decoration-color: #008080\">      test_f1ma_epoch      </span>│<span style=\"color: #800080; text-decoration-color: #800080\">    0.21918107569217682    </span>│\n",
       "│<span style=\"color: #008080; text-decoration-color: #008080\">      test_ham_epoch       </span>│<span style=\"color: #800080; text-decoration-color: #800080\">    0.31825631856918335    </span>│\n",
       "│<span style=\"color: #008080; text-decoration-color: #008080\">      test_loss_epoch      </span>│<span style=\"color: #800080; text-decoration-color: #800080\">    0.6173324584960938     </span>│\n",
       "└───────────────────────────┴───────────────────────────┘\n",
       "</pre>\n"
      ],
      "text/plain": [
       "┏━━━━━━━━━━━━━━━━━━━━━━━━━━━┳━━━━━━━━━━━━━━━━━━━━━━━━━━━┓\n",
       "┃\u001b[1m \u001b[0m\u001b[1m       Test metric       \u001b[0m\u001b[1m \u001b[0m┃\u001b[1m \u001b[0m\u001b[1m      DataLoader 0       \u001b[0m\u001b[1m \u001b[0m┃\n",
       "┡━━━━━━━━━━━━━━━━━━━━━━━━━━━╇━━━━━━━━━━━━━━━━━━━━━━━━━━━┩\n",
       "│\u001b[36m \u001b[0m\u001b[36m     test_f1ma_epoch     \u001b[0m\u001b[36m \u001b[0m│\u001b[35m \u001b[0m\u001b[35m   0.21918107569217682   \u001b[0m\u001b[35m \u001b[0m│\n",
       "│\u001b[36m \u001b[0m\u001b[36m     test_ham_epoch      \u001b[0m\u001b[36m \u001b[0m│\u001b[35m \u001b[0m\u001b[35m   0.31825631856918335   \u001b[0m\u001b[35m \u001b[0m│\n",
       "│\u001b[36m \u001b[0m\u001b[36m     test_loss_epoch     \u001b[0m\u001b[36m \u001b[0m│\u001b[35m \u001b[0m\u001b[35m   0.6173324584960938    \u001b[0m\u001b[35m \u001b[0m│\n",
       "└───────────────────────────┴───────────────────────────┘\n"
      ]
     },
     "metadata": {},
     "output_type": "display_data"
    },
    {
     "name": "stdout",
     "output_type": "stream",
     "text": [
      "  loss: 0.6173 | hamming: 0.3183 | f1_macro: 0.2192\n",
      "Fold 4/10\n"
     ]
    },
    {
     "name": "stderr",
     "output_type": "stream",
     "text": [
      "GPU available: True (mps), used: False\n",
      "TPU available: False, using: 0 TPU cores\n",
      "HPU available: False, using: 0 HPUs\n",
      "\n",
      "  | Name       | Type                      | Params | Mode \n",
      "-----------------------------------------------------------------\n",
      "0 | classifier | Sequential                | 562 K  | train\n",
      "1 | loss       | BCEWithLogitsLoss         | 0      | train\n",
      "2 | hamming    | MultilabelHammingDistance | 0      | train\n",
      "3 | f1_macro   | MultilabelF1Score         | 0      | train\n",
      "-----------------------------------------------------------------\n",
      "562 K     Trainable params\n",
      "0         Non-trainable params\n",
      "562 K     Total params\n",
      "2.250     Total estimated model params size (MB)\n",
      "17        Modules in train mode\n",
      "0         Modules in eval mode\n"
     ]
    },
    {
     "name": "stdout",
     "output_type": "stream",
     "text": [
      "Epoch 3: 100%|██████████| 34/34 [00:00<00:00, 165.33it/s, v_num=183, train_loss=0.564, train_ham=0.274, train_f1ma=0.295, val_loss_step=0.579, val_ham_step=0.319, val_f1ma_step=0.110, val_loss_epoch=0.585, val_ham_epoch=0.301, val_f1ma_epoch=0.149] \n"
     ]
    },
    {
     "name": "stderr",
     "output_type": "stream",
     "text": [
      "Restoring states from the checkpoint path at /Users/benjaminvaca/Documents/USFQ/semestre7/machine_learning/proyecto/lightning_logs/version_183/checkpoints/epoch=0-step=34.ckpt\n",
      "Loaded model weights from the checkpoint at /Users/benjaminvaca/Documents/USFQ/semestre7/machine_learning/proyecto/lightning_logs/version_183/checkpoints/epoch=0-step=34.ckpt\n"
     ]
    },
    {
     "name": "stdout",
     "output_type": "stream",
     "text": [
      "Validation DataLoader 0: 100%|██████████| 34/34 [00:00<00:00, 430.78it/s]"
     ]
    },
    {
     "name": "stderr",
     "output_type": "stream",
     "text": [
      "Restoring states from the checkpoint path at /Users/benjaminvaca/Documents/USFQ/semestre7/machine_learning/proyecto/lightning_logs/version_183/checkpoints/epoch=0-step=34.ckpt\n"
     ]
    },
    {
     "name": "stdout",
     "output_type": "stream",
     "text": [
      "\n"
     ]
    },
    {
     "name": "stderr",
     "output_type": "stream",
     "text": [
      "Loaded model weights from the checkpoint at /Users/benjaminvaca/Documents/USFQ/semestre7/machine_learning/proyecto/lightning_logs/version_183/checkpoints/epoch=0-step=34.ckpt\n"
     ]
    },
    {
     "name": "stdout",
     "output_type": "stream",
     "text": [
      "Validation DataLoader 0: 100%|██████████| 9/9 [00:00<00:00, 412.25it/s]"
     ]
    },
    {
     "name": "stderr",
     "output_type": "stream",
     "text": [
      "Restoring states from the checkpoint path at /Users/benjaminvaca/Documents/USFQ/semestre7/machine_learning/proyecto/lightning_logs/version_183/checkpoints/epoch=0-step=34.ckpt\n"
     ]
    },
    {
     "name": "stdout",
     "output_type": "stream",
     "text": [
      "\n"
     ]
    },
    {
     "name": "stderr",
     "output_type": "stream",
     "text": [
      "Loaded model weights from the checkpoint at /Users/benjaminvaca/Documents/USFQ/semestre7/machine_learning/proyecto/lightning_logs/version_183/checkpoints/epoch=0-step=34.ckpt\n"
     ]
    },
    {
     "name": "stdout",
     "output_type": "stream",
     "text": [
      "Testing DataLoader 0: 100%|██████████| 11/11 [00:00<00:00, 420.87it/s]\n"
     ]
    },
    {
     "data": {
      "text/html": [
       "<pre style=\"white-space:pre;overflow-x:auto;line-height:normal;font-family:Menlo,'DejaVu Sans Mono',consolas,'Courier New',monospace\">┏━━━━━━━━━━━━━━━━━━━━━━━━━━━┳━━━━━━━━━━━━━━━━━━━━━━━━━━━┓\n",
       "┃<span style=\"font-weight: bold\">        Test metric        </span>┃<span style=\"font-weight: bold\">       DataLoader 0        </span>┃\n",
       "┡━━━━━━━━━━━━━━━━━━━━━━━━━━━╇━━━━━━━━━━━━━━━━━━━━━━━━━━━┩\n",
       "│<span style=\"color: #008080; text-decoration-color: #008080\">      test_f1ma_epoch      </span>│<span style=\"color: #800080; text-decoration-color: #800080\">    0.2163708657026291     </span>│\n",
       "│<span style=\"color: #008080; text-decoration-color: #008080\">      test_ham_epoch       </span>│<span style=\"color: #800080; text-decoration-color: #800080\">    0.30907899141311646    </span>│\n",
       "│<span style=\"color: #008080; text-decoration-color: #008080\">      test_loss_epoch      </span>│<span style=\"color: #800080; text-decoration-color: #800080\">    0.6112306118011475     </span>│\n",
       "└───────────────────────────┴───────────────────────────┘\n",
       "</pre>\n"
      ],
      "text/plain": [
       "┏━━━━━━━━━━━━━━━━━━━━━━━━━━━┳━━━━━━━━━━━━━━━━━━━━━━━━━━━┓\n",
       "┃\u001b[1m \u001b[0m\u001b[1m       Test metric       \u001b[0m\u001b[1m \u001b[0m┃\u001b[1m \u001b[0m\u001b[1m      DataLoader 0       \u001b[0m\u001b[1m \u001b[0m┃\n",
       "┡━━━━━━━━━━━━━━━━━━━━━━━━━━━╇━━━━━━━━━━━━━━━━━━━━━━━━━━━┩\n",
       "│\u001b[36m \u001b[0m\u001b[36m     test_f1ma_epoch     \u001b[0m\u001b[36m \u001b[0m│\u001b[35m \u001b[0m\u001b[35m   0.2163708657026291    \u001b[0m\u001b[35m \u001b[0m│\n",
       "│\u001b[36m \u001b[0m\u001b[36m     test_ham_epoch      \u001b[0m\u001b[36m \u001b[0m│\u001b[35m \u001b[0m\u001b[35m   0.30907899141311646   \u001b[0m\u001b[35m \u001b[0m│\n",
       "│\u001b[36m \u001b[0m\u001b[36m     test_loss_epoch     \u001b[0m\u001b[36m \u001b[0m│\u001b[35m \u001b[0m\u001b[35m   0.6112306118011475    \u001b[0m\u001b[35m \u001b[0m│\n",
       "└───────────────────────────┴───────────────────────────┘\n"
      ]
     },
     "metadata": {},
     "output_type": "display_data"
    },
    {
     "name": "stdout",
     "output_type": "stream",
     "text": [
      "  loss: 0.6112 | hamming: 0.3091 | f1_macro: 0.2164\n",
      "Fold 5/10\n"
     ]
    },
    {
     "name": "stderr",
     "output_type": "stream",
     "text": [
      "GPU available: True (mps), used: False\n",
      "TPU available: False, using: 0 TPU cores\n",
      "HPU available: False, using: 0 HPUs\n",
      "\n",
      "  | Name       | Type                      | Params | Mode \n",
      "-----------------------------------------------------------------\n",
      "0 | classifier | Sequential                | 562 K  | train\n",
      "1 | loss       | BCEWithLogitsLoss         | 0      | train\n",
      "2 | hamming    | MultilabelHammingDistance | 0      | train\n",
      "3 | f1_macro   | MultilabelF1Score         | 0      | train\n",
      "-----------------------------------------------------------------\n",
      "562 K     Trainable params\n",
      "0         Non-trainable params\n",
      "562 K     Total params\n",
      "2.250     Total estimated model params size (MB)\n",
      "17        Modules in train mode\n",
      "0         Modules in eval mode\n"
     ]
    },
    {
     "name": "stdout",
     "output_type": "stream",
     "text": [
      "Epoch 8: 100%|██████████| 34/34 [00:00<00:00, 150.72it/s, v_num=184, train_loss=0.588, train_ham=0.296, train_f1ma=0.246, val_loss_step=0.550, val_ham_step=0.326, val_f1ma_step=0.0969, val_loss_epoch=0.577, val_ham_epoch=0.307, val_f1ma_epoch=0.140]\n"
     ]
    },
    {
     "name": "stderr",
     "output_type": "stream",
     "text": [
      "Restoring states from the checkpoint path at /Users/benjaminvaca/Documents/USFQ/semestre7/machine_learning/proyecto/lightning_logs/version_184/checkpoints/epoch=5-step=204.ckpt\n",
      "Loaded model weights from the checkpoint at /Users/benjaminvaca/Documents/USFQ/semestre7/machine_learning/proyecto/lightning_logs/version_184/checkpoints/epoch=5-step=204.ckpt\n"
     ]
    },
    {
     "name": "stdout",
     "output_type": "stream",
     "text": [
      "Validation DataLoader 0: 100%|██████████| 34/34 [00:00<00:00, 393.00it/s]\n"
     ]
    },
    {
     "name": "stderr",
     "output_type": "stream",
     "text": [
      "Restoring states from the checkpoint path at /Users/benjaminvaca/Documents/USFQ/semestre7/machine_learning/proyecto/lightning_logs/version_184/checkpoints/epoch=5-step=204.ckpt\n",
      "Loaded model weights from the checkpoint at /Users/benjaminvaca/Documents/USFQ/semestre7/machine_learning/proyecto/lightning_logs/version_184/checkpoints/epoch=5-step=204.ckpt\n"
     ]
    },
    {
     "name": "stdout",
     "output_type": "stream",
     "text": [
      "Validation DataLoader 0: 100%|██████████| 9/9 [00:00<00:00, 391.35it/s]\n"
     ]
    },
    {
     "name": "stderr",
     "output_type": "stream",
     "text": [
      "Restoring states from the checkpoint path at /Users/benjaminvaca/Documents/USFQ/semestre7/machine_learning/proyecto/lightning_logs/version_184/checkpoints/epoch=5-step=204.ckpt\n",
      "Loaded model weights from the checkpoint at /Users/benjaminvaca/Documents/USFQ/semestre7/machine_learning/proyecto/lightning_logs/version_184/checkpoints/epoch=5-step=204.ckpt\n"
     ]
    },
    {
     "name": "stdout",
     "output_type": "stream",
     "text": [
      "Testing DataLoader 0: 100%|██████████| 11/11 [00:00<00:00, 219.72it/s]\n"
     ]
    },
    {
     "data": {
      "text/html": [
       "<pre style=\"white-space:pre;overflow-x:auto;line-height:normal;font-family:Menlo,'DejaVu Sans Mono',consolas,'Courier New',monospace\">┏━━━━━━━━━━━━━━━━━━━━━━━━━━━┳━━━━━━━━━━━━━━━━━━━━━━━━━━━┓\n",
       "┃<span style=\"font-weight: bold\">        Test metric        </span>┃<span style=\"font-weight: bold\">       DataLoader 0        </span>┃\n",
       "┡━━━━━━━━━━━━━━━━━━━━━━━━━━━╇━━━━━━━━━━━━━━━━━━━━━━━━━━━┩\n",
       "│<span style=\"color: #008080; text-decoration-color: #008080\">      test_f1ma_epoch      </span>│<span style=\"color: #800080; text-decoration-color: #800080\">    0.15131522715091705    </span>│\n",
       "│<span style=\"color: #008080; text-decoration-color: #008080\">      test_ham_epoch       </span>│<span style=\"color: #800080; text-decoration-color: #800080\">    0.2854801416397095     </span>│\n",
       "│<span style=\"color: #008080; text-decoration-color: #008080\">      test_loss_epoch      </span>│<span style=\"color: #800080; text-decoration-color: #800080\">    0.5702436566352844     </span>│\n",
       "└───────────────────────────┴───────────────────────────┘\n",
       "</pre>\n"
      ],
      "text/plain": [
       "┏━━━━━━━━━━━━━━━━━━━━━━━━━━━┳━━━━━━━━━━━━━━━━━━━━━━━━━━━┓\n",
       "┃\u001b[1m \u001b[0m\u001b[1m       Test metric       \u001b[0m\u001b[1m \u001b[0m┃\u001b[1m \u001b[0m\u001b[1m      DataLoader 0       \u001b[0m\u001b[1m \u001b[0m┃\n",
       "┡━━━━━━━━━━━━━━━━━━━━━━━━━━━╇━━━━━━━━━━━━━━━━━━━━━━━━━━━┩\n",
       "│\u001b[36m \u001b[0m\u001b[36m     test_f1ma_epoch     \u001b[0m\u001b[36m \u001b[0m│\u001b[35m \u001b[0m\u001b[35m   0.15131522715091705   \u001b[0m\u001b[35m \u001b[0m│\n",
       "│\u001b[36m \u001b[0m\u001b[36m     test_ham_epoch      \u001b[0m\u001b[36m \u001b[0m│\u001b[35m \u001b[0m\u001b[35m   0.2854801416397095    \u001b[0m\u001b[35m \u001b[0m│\n",
       "│\u001b[36m \u001b[0m\u001b[36m     test_loss_epoch     \u001b[0m\u001b[36m \u001b[0m│\u001b[35m \u001b[0m\u001b[35m   0.5702436566352844    \u001b[0m\u001b[35m \u001b[0m│\n",
       "└───────────────────────────┴───────────────────────────┘\n"
      ]
     },
     "metadata": {},
     "output_type": "display_data"
    },
    {
     "name": "stdout",
     "output_type": "stream",
     "text": [
      "  loss: 0.5702 | hamming: 0.2855 | f1_macro: 0.1513\n",
      "Fold 6/10\n"
     ]
    },
    {
     "name": "stderr",
     "output_type": "stream",
     "text": [
      "GPU available: True (mps), used: False\n",
      "TPU available: False, using: 0 TPU cores\n",
      "HPU available: False, using: 0 HPUs\n",
      "\n",
      "  | Name       | Type                      | Params | Mode \n",
      "-----------------------------------------------------------------\n",
      "0 | classifier | Sequential                | 562 K  | train\n",
      "1 | loss       | BCEWithLogitsLoss         | 0      | train\n",
      "2 | hamming    | MultilabelHammingDistance | 0      | train\n",
      "3 | f1_macro   | MultilabelF1Score         | 0      | train\n",
      "-----------------------------------------------------------------\n",
      "562 K     Trainable params\n",
      "0         Non-trainable params\n",
      "562 K     Total params\n",
      "2.250     Total estimated model params size (MB)\n",
      "17        Modules in train mode\n",
      "0         Modules in eval mode\n"
     ]
    },
    {
     "name": "stdout",
     "output_type": "stream",
     "text": [
      "Epoch 3: 100%|██████████| 34/34 [00:00<00:00, 165.33it/s, v_num=185, train_loss=0.591, train_ham=0.303, train_f1ma=0.281, val_loss_step=0.542, val_ham_step=0.257, val_f1ma_step=0.135, val_loss_epoch=0.569, val_ham_epoch=0.305, val_f1ma_epoch=0.141] "
     ]
    },
    {
     "name": "stderr",
     "output_type": "stream",
     "text": [
      "Restoring states from the checkpoint path at /Users/benjaminvaca/Documents/USFQ/semestre7/machine_learning/proyecto/lightning_logs/version_185/checkpoints/epoch=0-step=34.ckpt\n"
     ]
    },
    {
     "name": "stdout",
     "output_type": "stream",
     "text": [
      "\n"
     ]
    },
    {
     "name": "stderr",
     "output_type": "stream",
     "text": [
      "Loaded model weights from the checkpoint at /Users/benjaminvaca/Documents/USFQ/semestre7/machine_learning/proyecto/lightning_logs/version_185/checkpoints/epoch=0-step=34.ckpt\n"
     ]
    },
    {
     "name": "stdout",
     "output_type": "stream",
     "text": [
      "Validation DataLoader 0: 100%|██████████| 34/34 [00:00<00:00, 447.24it/s]\n"
     ]
    },
    {
     "name": "stderr",
     "output_type": "stream",
     "text": [
      "Restoring states from the checkpoint path at /Users/benjaminvaca/Documents/USFQ/semestre7/machine_learning/proyecto/lightning_logs/version_185/checkpoints/epoch=0-step=34.ckpt\n",
      "Loaded model weights from the checkpoint at /Users/benjaminvaca/Documents/USFQ/semestre7/machine_learning/proyecto/lightning_logs/version_185/checkpoints/epoch=0-step=34.ckpt\n"
     ]
    },
    {
     "name": "stdout",
     "output_type": "stream",
     "text": [
      "Validation DataLoader 0: 100%|██████████| 9/9 [00:00<00:00, 439.39it/s]"
     ]
    },
    {
     "name": "stderr",
     "output_type": "stream",
     "text": [
      "Restoring states from the checkpoint path at /Users/benjaminvaca/Documents/USFQ/semestre7/machine_learning/proyecto/lightning_logs/version_185/checkpoints/epoch=0-step=34.ckpt\n"
     ]
    },
    {
     "name": "stdout",
     "output_type": "stream",
     "text": [
      "\n"
     ]
    },
    {
     "name": "stderr",
     "output_type": "stream",
     "text": [
      "Loaded model weights from the checkpoint at /Users/benjaminvaca/Documents/USFQ/semestre7/machine_learning/proyecto/lightning_logs/version_185/checkpoints/epoch=0-step=34.ckpt\n"
     ]
    },
    {
     "name": "stdout",
     "output_type": "stream",
     "text": [
      "Testing DataLoader 0: 100%|██████████| 11/11 [00:00<00:00, 239.01it/s]\n"
     ]
    },
    {
     "data": {
      "text/html": [
       "<pre style=\"white-space:pre;overflow-x:auto;line-height:normal;font-family:Menlo,'DejaVu Sans Mono',consolas,'Courier New',monospace\">┏━━━━━━━━━━━━━━━━━━━━━━━━━━━┳━━━━━━━━━━━━━━━━━━━━━━━━━━━┓\n",
       "┃<span style=\"font-weight: bold\">        Test metric        </span>┃<span style=\"font-weight: bold\">       DataLoader 0        </span>┃\n",
       "┡━━━━━━━━━━━━━━━━━━━━━━━━━━━╇━━━━━━━━━━━━━━━━━━━━━━━━━━━┩\n",
       "│<span style=\"color: #008080; text-decoration-color: #008080\">      test_f1ma_epoch      </span>│<span style=\"color: #800080; text-decoration-color: #800080\">    0.16255433857440948    </span>│\n",
       "│<span style=\"color: #008080; text-decoration-color: #008080\">      test_ham_epoch       </span>│<span style=\"color: #800080; text-decoration-color: #800080\">    0.3241560161113739     </span>│\n",
       "│<span style=\"color: #008080; text-decoration-color: #008080\">      test_loss_epoch      </span>│<span style=\"color: #800080; text-decoration-color: #800080\">    0.6119979619979858     </span>│\n",
       "└───────────────────────────┴───────────────────────────┘\n",
       "</pre>\n"
      ],
      "text/plain": [
       "┏━━━━━━━━━━━━━━━━━━━━━━━━━━━┳━━━━━━━━━━━━━━━━━━━━━━━━━━━┓\n",
       "┃\u001b[1m \u001b[0m\u001b[1m       Test metric       \u001b[0m\u001b[1m \u001b[0m┃\u001b[1m \u001b[0m\u001b[1m      DataLoader 0       \u001b[0m\u001b[1m \u001b[0m┃\n",
       "┡━━━━━━━━━━━━━━━━━━━━━━━━━━━╇━━━━━━━━━━━━━━━━━━━━━━━━━━━┩\n",
       "│\u001b[36m \u001b[0m\u001b[36m     test_f1ma_epoch     \u001b[0m\u001b[36m \u001b[0m│\u001b[35m \u001b[0m\u001b[35m   0.16255433857440948   \u001b[0m\u001b[35m \u001b[0m│\n",
       "│\u001b[36m \u001b[0m\u001b[36m     test_ham_epoch      \u001b[0m\u001b[36m \u001b[0m│\u001b[35m \u001b[0m\u001b[35m   0.3241560161113739    \u001b[0m\u001b[35m \u001b[0m│\n",
       "│\u001b[36m \u001b[0m\u001b[36m     test_loss_epoch     \u001b[0m\u001b[36m \u001b[0m│\u001b[35m \u001b[0m\u001b[35m   0.6119979619979858    \u001b[0m\u001b[35m \u001b[0m│\n",
       "└───────────────────────────┴───────────────────────────┘\n"
      ]
     },
     "metadata": {},
     "output_type": "display_data"
    },
    {
     "name": "stdout",
     "output_type": "stream",
     "text": [
      "  loss: 0.6120 | hamming: 0.3242 | f1_macro: 0.1626\n",
      "Fold 7/10\n"
     ]
    },
    {
     "name": "stderr",
     "output_type": "stream",
     "text": [
      "GPU available: True (mps), used: False\n",
      "TPU available: False, using: 0 TPU cores\n",
      "HPU available: False, using: 0 HPUs\n",
      "\n",
      "  | Name       | Type                      | Params | Mode \n",
      "-----------------------------------------------------------------\n",
      "0 | classifier | Sequential                | 562 K  | train\n",
      "1 | loss       | BCEWithLogitsLoss         | 0      | train\n",
      "2 | hamming    | MultilabelHammingDistance | 0      | train\n",
      "3 | f1_macro   | MultilabelF1Score         | 0      | train\n",
      "-----------------------------------------------------------------\n",
      "562 K     Trainable params\n",
      "0         Non-trainable params\n",
      "562 K     Total params\n",
      "2.250     Total estimated model params size (MB)\n",
      "17        Modules in train mode\n",
      "0         Modules in eval mode\n"
     ]
    },
    {
     "name": "stdout",
     "output_type": "stream",
     "text": [
      "Epoch 3: 100%|██████████| 34/34 [00:00<00:00, 153.79it/s, v_num=186, train_loss=0.540, train_ham=0.257, train_f1ma=0.322, val_loss_step=0.552, val_ham_step=0.403, val_f1ma_step=0.0378, val_loss_epoch=0.569, val_ham_epoch=0.296, val_f1ma_epoch=0.144]"
     ]
    },
    {
     "name": "stderr",
     "output_type": "stream",
     "text": [
      "Restoring states from the checkpoint path at /Users/benjaminvaca/Documents/USFQ/semestre7/machine_learning/proyecto/lightning_logs/version_186/checkpoints/epoch=0-step=34.ckpt\n"
     ]
    },
    {
     "name": "stdout",
     "output_type": "stream",
     "text": [
      "\n"
     ]
    },
    {
     "name": "stderr",
     "output_type": "stream",
     "text": [
      "Loaded model weights from the checkpoint at /Users/benjaminvaca/Documents/USFQ/semestre7/machine_learning/proyecto/lightning_logs/version_186/checkpoints/epoch=0-step=34.ckpt\n"
     ]
    },
    {
     "name": "stdout",
     "output_type": "stream",
     "text": [
      "Validation DataLoader 0: 100%|██████████| 34/34 [00:00<00:00, 464.93it/s]"
     ]
    },
    {
     "name": "stderr",
     "output_type": "stream",
     "text": [
      "Restoring states from the checkpoint path at /Users/benjaminvaca/Documents/USFQ/semestre7/machine_learning/proyecto/lightning_logs/version_186/checkpoints/epoch=0-step=34.ckpt\n"
     ]
    },
    {
     "name": "stdout",
     "output_type": "stream",
     "text": [
      "\n"
     ]
    },
    {
     "name": "stderr",
     "output_type": "stream",
     "text": [
      "Loaded model weights from the checkpoint at /Users/benjaminvaca/Documents/USFQ/semestre7/machine_learning/proyecto/lightning_logs/version_186/checkpoints/epoch=0-step=34.ckpt\n"
     ]
    },
    {
     "name": "stdout",
     "output_type": "stream",
     "text": [
      "Validation DataLoader 0: 100%|██████████| 9/9 [00:00<00:00, 234.47it/s]"
     ]
    },
    {
     "name": "stderr",
     "output_type": "stream",
     "text": [
      "Restoring states from the checkpoint path at /Users/benjaminvaca/Documents/USFQ/semestre7/machine_learning/proyecto/lightning_logs/version_186/checkpoints/epoch=0-step=34.ckpt\n"
     ]
    },
    {
     "name": "stdout",
     "output_type": "stream",
     "text": [
      "\n"
     ]
    },
    {
     "name": "stderr",
     "output_type": "stream",
     "text": [
      "Loaded model weights from the checkpoint at /Users/benjaminvaca/Documents/USFQ/semestre7/machine_learning/proyecto/lightning_logs/version_186/checkpoints/epoch=0-step=34.ckpt\n"
     ]
    },
    {
     "name": "stdout",
     "output_type": "stream",
     "text": [
      "Testing DataLoader 0: 100%|██████████| 11/11 [00:00<00:00, 400.39it/s]\n"
     ]
    },
    {
     "data": {
      "text/html": [
       "<pre style=\"white-space:pre;overflow-x:auto;line-height:normal;font-family:Menlo,'DejaVu Sans Mono',consolas,'Courier New',monospace\">┏━━━━━━━━━━━━━━━━━━━━━━━━━━━┳━━━━━━━━━━━━━━━━━━━━━━━━━━━┓\n",
       "┃<span style=\"font-weight: bold\">        Test metric        </span>┃<span style=\"font-weight: bold\">       DataLoader 0        </span>┃\n",
       "┡━━━━━━━━━━━━━━━━━━━━━━━━━━━╇━━━━━━━━━━━━━━━━━━━━━━━━━━━┩\n",
       "│<span style=\"color: #008080; text-decoration-color: #008080\">      test_f1ma_epoch      </span>│<span style=\"color: #800080; text-decoration-color: #800080\">    0.16913799941539764    </span>│\n",
       "│<span style=\"color: #008080; text-decoration-color: #008080\">      test_ham_epoch       </span>│<span style=\"color: #800080; text-decoration-color: #800080\">    0.32120615243911743    </span>│\n",
       "│<span style=\"color: #008080; text-decoration-color: #008080\">      test_loss_epoch      </span>│<span style=\"color: #800080; text-decoration-color: #800080\">    0.6166509389877319     </span>│\n",
       "└───────────────────────────┴───────────────────────────┘\n",
       "</pre>\n"
      ],
      "text/plain": [
       "┏━━━━━━━━━━━━━━━━━━━━━━━━━━━┳━━━━━━━━━━━━━━━━━━━━━━━━━━━┓\n",
       "┃\u001b[1m \u001b[0m\u001b[1m       Test metric       \u001b[0m\u001b[1m \u001b[0m┃\u001b[1m \u001b[0m\u001b[1m      DataLoader 0       \u001b[0m\u001b[1m \u001b[0m┃\n",
       "┡━━━━━━━━━━━━━━━━━━━━━━━━━━━╇━━━━━━━━━━━━━━━━━━━━━━━━━━━┩\n",
       "│\u001b[36m \u001b[0m\u001b[36m     test_f1ma_epoch     \u001b[0m\u001b[36m \u001b[0m│\u001b[35m \u001b[0m\u001b[35m   0.16913799941539764   \u001b[0m\u001b[35m \u001b[0m│\n",
       "│\u001b[36m \u001b[0m\u001b[36m     test_ham_epoch      \u001b[0m\u001b[36m \u001b[0m│\u001b[35m \u001b[0m\u001b[35m   0.32120615243911743   \u001b[0m\u001b[35m \u001b[0m│\n",
       "│\u001b[36m \u001b[0m\u001b[36m     test_loss_epoch     \u001b[0m\u001b[36m \u001b[0m│\u001b[35m \u001b[0m\u001b[35m   0.6166509389877319    \u001b[0m\u001b[35m \u001b[0m│\n",
       "└───────────────────────────┴───────────────────────────┘\n"
      ]
     },
     "metadata": {},
     "output_type": "display_data"
    },
    {
     "name": "stdout",
     "output_type": "stream",
     "text": [
      "  loss: 0.6167 | hamming: 0.3212 | f1_macro: 0.1691\n",
      "Fold 8/10\n"
     ]
    },
    {
     "name": "stderr",
     "output_type": "stream",
     "text": [
      "GPU available: True (mps), used: False\n",
      "TPU available: False, using: 0 TPU cores\n",
      "HPU available: False, using: 0 HPUs\n",
      "\n",
      "  | Name       | Type                      | Params | Mode \n",
      "-----------------------------------------------------------------\n",
      "0 | classifier | Sequential                | 562 K  | train\n",
      "1 | loss       | BCEWithLogitsLoss         | 0      | train\n",
      "2 | hamming    | MultilabelHammingDistance | 0      | train\n",
      "3 | f1_macro   | MultilabelF1Score         | 0      | train\n",
      "-----------------------------------------------------------------\n",
      "562 K     Trainable params\n",
      "0         Non-trainable params\n",
      "562 K     Total params\n",
      "2.250     Total estimated model params size (MB)\n",
      "17        Modules in train mode\n",
      "0         Modules in eval mode\n"
     ]
    },
    {
     "name": "stdout",
     "output_type": "stream",
     "text": [
      "Epoch 7: 100%|██████████| 34/34 [00:00<00:00, 153.50it/s, v_num=187, train_loss=0.604, train_ham=0.304, train_f1ma=0.212, val_loss_step=0.572, val_ham_step=0.252, val_f1ma_step=0.103, val_loss_epoch=0.571, val_ham_epoch=0.314, val_f1ma_epoch=0.114] \n"
     ]
    },
    {
     "name": "stderr",
     "output_type": "stream",
     "text": [
      "Restoring states from the checkpoint path at /Users/benjaminvaca/Documents/USFQ/semestre7/machine_learning/proyecto/lightning_logs/version_187/checkpoints/epoch=4-step=170.ckpt\n",
      "Loaded model weights from the checkpoint at /Users/benjaminvaca/Documents/USFQ/semestre7/machine_learning/proyecto/lightning_logs/version_187/checkpoints/epoch=4-step=170.ckpt\n"
     ]
    },
    {
     "name": "stdout",
     "output_type": "stream",
     "text": [
      "Validation DataLoader 0: 100%|██████████| 34/34 [00:00<00:00, 407.62it/s]\n"
     ]
    },
    {
     "name": "stderr",
     "output_type": "stream",
     "text": [
      "Restoring states from the checkpoint path at /Users/benjaminvaca/Documents/USFQ/semestre7/machine_learning/proyecto/lightning_logs/version_187/checkpoints/epoch=4-step=170.ckpt\n",
      "Loaded model weights from the checkpoint at /Users/benjaminvaca/Documents/USFQ/semestre7/machine_learning/proyecto/lightning_logs/version_187/checkpoints/epoch=4-step=170.ckpt\n"
     ]
    },
    {
     "name": "stdout",
     "output_type": "stream",
     "text": [
      "Validation DataLoader 0: 100%|██████████| 9/9 [00:00<00:00, 358.88it/s]"
     ]
    },
    {
     "name": "stderr",
     "output_type": "stream",
     "text": [
      "Restoring states from the checkpoint path at /Users/benjaminvaca/Documents/USFQ/semestre7/machine_learning/proyecto/lightning_logs/version_187/checkpoints/epoch=4-step=170.ckpt\n"
     ]
    },
    {
     "name": "stdout",
     "output_type": "stream",
     "text": [
      "\n"
     ]
    },
    {
     "name": "stderr",
     "output_type": "stream",
     "text": [
      "Loaded model weights from the checkpoint at /Users/benjaminvaca/Documents/USFQ/semestre7/machine_learning/proyecto/lightning_logs/version_187/checkpoints/epoch=4-step=170.ckpt\n"
     ]
    },
    {
     "name": "stdout",
     "output_type": "stream",
     "text": [
      "Testing DataLoader 0: 100%|██████████| 11/11 [00:00<00:00, 352.76it/s]\n"
     ]
    },
    {
     "data": {
      "text/html": [
       "<pre style=\"white-space:pre;overflow-x:auto;line-height:normal;font-family:Menlo,'DejaVu Sans Mono',consolas,'Courier New',monospace\">┏━━━━━━━━━━━━━━━━━━━━━━━━━━━┳━━━━━━━━━━━━━━━━━━━━━━━━━━━┓\n",
       "┃<span style=\"font-weight: bold\">        Test metric        </span>┃<span style=\"font-weight: bold\">       DataLoader 0        </span>┃\n",
       "┡━━━━━━━━━━━━━━━━━━━━━━━━━━━╇━━━━━━━━━━━━━━━━━━━━━━━━━━━┩\n",
       "│<span style=\"color: #008080; text-decoration-color: #008080\">      test_f1ma_epoch      </span>│<span style=\"color: #800080; text-decoration-color: #800080\">    0.1646064966917038     </span>│\n",
       "│<span style=\"color: #008080; text-decoration-color: #008080\">      test_ham_epoch       </span>│<span style=\"color: #800080; text-decoration-color: #800080\">    0.28974106907844543    </span>│\n",
       "│<span style=\"color: #008080; text-decoration-color: #008080\">      test_loss_epoch      </span>│<span style=\"color: #800080; text-decoration-color: #800080\">    0.5739490389823914     </span>│\n",
       "└───────────────────────────┴───────────────────────────┘\n",
       "</pre>\n"
      ],
      "text/plain": [
       "┏━━━━━━━━━━━━━━━━━━━━━━━━━━━┳━━━━━━━━━━━━━━━━━━━━━━━━━━━┓\n",
       "┃\u001b[1m \u001b[0m\u001b[1m       Test metric       \u001b[0m\u001b[1m \u001b[0m┃\u001b[1m \u001b[0m\u001b[1m      DataLoader 0       \u001b[0m\u001b[1m \u001b[0m┃\n",
       "┡━━━━━━━━━━━━━━━━━━━━━━━━━━━╇━━━━━━━━━━━━━━━━━━━━━━━━━━━┩\n",
       "│\u001b[36m \u001b[0m\u001b[36m     test_f1ma_epoch     \u001b[0m\u001b[36m \u001b[0m│\u001b[35m \u001b[0m\u001b[35m   0.1646064966917038    \u001b[0m\u001b[35m \u001b[0m│\n",
       "│\u001b[36m \u001b[0m\u001b[36m     test_ham_epoch      \u001b[0m\u001b[36m \u001b[0m│\u001b[35m \u001b[0m\u001b[35m   0.28974106907844543   \u001b[0m\u001b[35m \u001b[0m│\n",
       "│\u001b[36m \u001b[0m\u001b[36m     test_loss_epoch     \u001b[0m\u001b[36m \u001b[0m│\u001b[35m \u001b[0m\u001b[35m   0.5739490389823914    \u001b[0m\u001b[35m \u001b[0m│\n",
       "└───────────────────────────┴───────────────────────────┘\n"
      ]
     },
     "metadata": {},
     "output_type": "display_data"
    },
    {
     "name": "stdout",
     "output_type": "stream",
     "text": [
      "  loss: 0.5739 | hamming: 0.2897 | f1_macro: 0.1646\n",
      "Fold 9/10\n"
     ]
    },
    {
     "name": "stderr",
     "output_type": "stream",
     "text": [
      "GPU available: True (mps), used: False\n",
      "TPU available: False, using: 0 TPU cores\n",
      "HPU available: False, using: 0 HPUs\n",
      "\n",
      "  | Name       | Type                      | Params | Mode \n",
      "-----------------------------------------------------------------\n",
      "0 | classifier | Sequential                | 562 K  | train\n",
      "1 | loss       | BCEWithLogitsLoss         | 0      | train\n",
      "2 | hamming    | MultilabelHammingDistance | 0      | train\n",
      "3 | f1_macro   | MultilabelF1Score         | 0      | train\n",
      "-----------------------------------------------------------------\n",
      "562 K     Trainable params\n",
      "0         Non-trainable params\n",
      "562 K     Total params\n",
      "2.250     Total estimated model params size (MB)\n",
      "17        Modules in train mode\n",
      "0         Modules in eval mode\n"
     ]
    },
    {
     "name": "stdout",
     "output_type": "stream",
     "text": [
      "Epoch 4: 100%|██████████| 34/34 [00:00<00:00, 164.86it/s, v_num=188, train_loss=0.552, train_ham=0.278, train_f1ma=0.268, val_loss_step=0.558, val_ham_step=0.274, val_f1ma_step=0.133, val_loss_epoch=0.571, val_ham_epoch=0.297, val_f1ma_epoch=0.152] \n"
     ]
    },
    {
     "name": "stderr",
     "output_type": "stream",
     "text": [
      "Restoring states from the checkpoint path at /Users/benjaminvaca/Documents/USFQ/semestre7/machine_learning/proyecto/lightning_logs/version_188/checkpoints/epoch=1-step=68.ckpt\n",
      "Loaded model weights from the checkpoint at /Users/benjaminvaca/Documents/USFQ/semestre7/machine_learning/proyecto/lightning_logs/version_188/checkpoints/epoch=1-step=68.ckpt\n"
     ]
    },
    {
     "name": "stdout",
     "output_type": "stream",
     "text": [
      "Validation DataLoader 0: 100%|██████████| 34/34 [00:00<00:00, 455.63it/s]"
     ]
    },
    {
     "name": "stderr",
     "output_type": "stream",
     "text": [
      "Restoring states from the checkpoint path at /Users/benjaminvaca/Documents/USFQ/semestre7/machine_learning/proyecto/lightning_logs/version_188/checkpoints/epoch=1-step=68.ckpt\n"
     ]
    },
    {
     "name": "stdout",
     "output_type": "stream",
     "text": [
      "\n"
     ]
    },
    {
     "name": "stderr",
     "output_type": "stream",
     "text": [
      "Loaded model weights from the checkpoint at /Users/benjaminvaca/Documents/USFQ/semestre7/machine_learning/proyecto/lightning_logs/version_188/checkpoints/epoch=1-step=68.ckpt\n"
     ]
    },
    {
     "name": "stdout",
     "output_type": "stream",
     "text": [
      "Validation DataLoader 0: 100%|██████████| 9/9 [00:00<00:00, 207.55it/s]"
     ]
    },
    {
     "name": "stderr",
     "output_type": "stream",
     "text": [
      "Restoring states from the checkpoint path at /Users/benjaminvaca/Documents/USFQ/semestre7/machine_learning/proyecto/lightning_logs/version_188/checkpoints/epoch=1-step=68.ckpt\n"
     ]
    },
    {
     "name": "stdout",
     "output_type": "stream",
     "text": [
      "\n"
     ]
    },
    {
     "name": "stderr",
     "output_type": "stream",
     "text": [
      "Loaded model weights from the checkpoint at /Users/benjaminvaca/Documents/USFQ/semestre7/machine_learning/proyecto/lightning_logs/version_188/checkpoints/epoch=1-step=68.ckpt\n"
     ]
    },
    {
     "name": "stdout",
     "output_type": "stream",
     "text": [
      "Testing DataLoader 0: 100%|██████████| 11/11 [00:00<00:00, 361.51it/s]\n"
     ]
    },
    {
     "data": {
      "text/html": [
       "<pre style=\"white-space:pre;overflow-x:auto;line-height:normal;font-family:Menlo,'DejaVu Sans Mono',consolas,'Courier New',monospace\">┏━━━━━━━━━━━━━━━━━━━━━━━━━━━┳━━━━━━━━━━━━━━━━━━━━━━━━━━━┓\n",
       "┃<span style=\"font-weight: bold\">        Test metric        </span>┃<span style=\"font-weight: bold\">       DataLoader 0        </span>┃\n",
       "┡━━━━━━━━━━━━━━━━━━━━━━━━━━━╇━━━━━━━━━━━━━━━━━━━━━━━━━━━┩\n",
       "│<span style=\"color: #008080; text-decoration-color: #008080\">      test_f1ma_epoch      </span>│<span style=\"color: #800080; text-decoration-color: #800080\">    0.14118312299251556    </span>│\n",
       "│<span style=\"color: #008080; text-decoration-color: #008080\">      test_ham_epoch       </span>│<span style=\"color: #800080; text-decoration-color: #800080\">    0.2953130006790161     </span>│\n",
       "│<span style=\"color: #008080; text-decoration-color: #008080\">      test_loss_epoch      </span>│<span style=\"color: #800080; text-decoration-color: #800080\">    0.5838520526885986     </span>│\n",
       "└───────────────────────────┴───────────────────────────┘\n",
       "</pre>\n"
      ],
      "text/plain": [
       "┏━━━━━━━━━━━━━━━━━━━━━━━━━━━┳━━━━━━━━━━━━━━━━━━━━━━━━━━━┓\n",
       "┃\u001b[1m \u001b[0m\u001b[1m       Test metric       \u001b[0m\u001b[1m \u001b[0m┃\u001b[1m \u001b[0m\u001b[1m      DataLoader 0       \u001b[0m\u001b[1m \u001b[0m┃\n",
       "┡━━━━━━━━━━━━━━━━━━━━━━━━━━━╇━━━━━━━━━━━━━━━━━━━━━━━━━━━┩\n",
       "│\u001b[36m \u001b[0m\u001b[36m     test_f1ma_epoch     \u001b[0m\u001b[36m \u001b[0m│\u001b[35m \u001b[0m\u001b[35m   0.14118312299251556   \u001b[0m\u001b[35m \u001b[0m│\n",
       "│\u001b[36m \u001b[0m\u001b[36m     test_ham_epoch      \u001b[0m\u001b[36m \u001b[0m│\u001b[35m \u001b[0m\u001b[35m   0.2953130006790161    \u001b[0m\u001b[35m \u001b[0m│\n",
       "│\u001b[36m \u001b[0m\u001b[36m     test_loss_epoch     \u001b[0m\u001b[36m \u001b[0m│\u001b[35m \u001b[0m\u001b[35m   0.5838520526885986    \u001b[0m\u001b[35m \u001b[0m│\n",
       "└───────────────────────────┴───────────────────────────┘\n"
      ]
     },
     "metadata": {},
     "output_type": "display_data"
    },
    {
     "name": "stdout",
     "output_type": "stream",
     "text": [
      "  loss: 0.5839 | hamming: 0.2953 | f1_macro: 0.1412\n",
      "Fold 10/10\n"
     ]
    },
    {
     "name": "stderr",
     "output_type": "stream",
     "text": [
      "GPU available: True (mps), used: False\n",
      "TPU available: False, using: 0 TPU cores\n",
      "HPU available: False, using: 0 HPUs\n",
      "\n",
      "  | Name       | Type                      | Params | Mode \n",
      "-----------------------------------------------------------------\n",
      "0 | classifier | Sequential                | 562 K  | train\n",
      "1 | loss       | BCEWithLogitsLoss         | 0      | train\n",
      "2 | hamming    | MultilabelHammingDistance | 0      | train\n",
      "3 | f1_macro   | MultilabelF1Score         | 0      | train\n",
      "-----------------------------------------------------------------\n",
      "562 K     Trainable params\n",
      "0         Non-trainable params\n",
      "562 K     Total params\n",
      "2.250     Total estimated model params size (MB)\n",
      "17        Modules in train mode\n",
      "0         Modules in eval mode\n"
     ]
    },
    {
     "name": "stdout",
     "output_type": "stream",
     "text": [
      "Epoch 3: 100%|██████████| 34/34 [00:00<00:00, 152.24it/s, v_num=189, train_loss=0.595, train_ham=0.281, train_f1ma=0.344, val_loss_step=0.587, val_ham_step=0.378, val_f1ma_step=0.0817, val_loss_epoch=0.579, val_ham_epoch=0.303, val_f1ma_epoch=0.171]"
     ]
    },
    {
     "name": "stderr",
     "output_type": "stream",
     "text": [
      "Restoring states from the checkpoint path at /Users/benjaminvaca/Documents/USFQ/semestre7/machine_learning/proyecto/lightning_logs/version_189/checkpoints/epoch=0-step=34.ckpt\n"
     ]
    },
    {
     "name": "stdout",
     "output_type": "stream",
     "text": [
      "\n"
     ]
    },
    {
     "name": "stderr",
     "output_type": "stream",
     "text": [
      "Loaded model weights from the checkpoint at /Users/benjaminvaca/Documents/USFQ/semestre7/machine_learning/proyecto/lightning_logs/version_189/checkpoints/epoch=0-step=34.ckpt\n"
     ]
    },
    {
     "name": "stdout",
     "output_type": "stream",
     "text": [
      "Validation DataLoader 0: 100%|██████████| 34/34 [00:00<00:00, 340.45it/s]"
     ]
    },
    {
     "name": "stderr",
     "output_type": "stream",
     "text": [
      "Restoring states from the checkpoint path at /Users/benjaminvaca/Documents/USFQ/semestre7/machine_learning/proyecto/lightning_logs/version_189/checkpoints/epoch=0-step=34.ckpt\n"
     ]
    },
    {
     "name": "stdout",
     "output_type": "stream",
     "text": [
      "\n"
     ]
    },
    {
     "name": "stderr",
     "output_type": "stream",
     "text": [
      "Loaded model weights from the checkpoint at /Users/benjaminvaca/Documents/USFQ/semestre7/machine_learning/proyecto/lightning_logs/version_189/checkpoints/epoch=0-step=34.ckpt\n"
     ]
    },
    {
     "name": "stdout",
     "output_type": "stream",
     "text": [
      "Validation DataLoader 0: 100%|██████████| 9/9 [00:00<00:00, 401.27it/s]"
     ]
    },
    {
     "name": "stderr",
     "output_type": "stream",
     "text": [
      "Restoring states from the checkpoint path at /Users/benjaminvaca/Documents/USFQ/semestre7/machine_learning/proyecto/lightning_logs/version_189/checkpoints/epoch=0-step=34.ckpt\n"
     ]
    },
    {
     "name": "stdout",
     "output_type": "stream",
     "text": [
      "\n"
     ]
    },
    {
     "name": "stderr",
     "output_type": "stream",
     "text": [
      "Loaded model weights from the checkpoint at /Users/benjaminvaca/Documents/USFQ/semestre7/machine_learning/proyecto/lightning_logs/version_189/checkpoints/epoch=0-step=34.ckpt\n"
     ]
    },
    {
     "name": "stdout",
     "output_type": "stream",
     "text": [
      "Testing DataLoader 0: 100%|██████████| 11/11 [00:00<00:00, 383.85it/s]\n"
     ]
    },
    {
     "data": {
      "text/html": [
       "<pre style=\"white-space:pre;overflow-x:auto;line-height:normal;font-family:Menlo,'DejaVu Sans Mono',consolas,'Courier New',monospace\">┏━━━━━━━━━━━━━━━━━━━━━━━━━━━┳━━━━━━━━━━━━━━━━━━━━━━━━━━━┓\n",
       "┃<span style=\"font-weight: bold\">        Test metric        </span>┃<span style=\"font-weight: bold\">       DataLoader 0        </span>┃\n",
       "┡━━━━━━━━━━━━━━━━━━━━━━━━━━━╇━━━━━━━━━━━━━━━━━━━━━━━━━━━┩\n",
       "│<span style=\"color: #008080; text-decoration-color: #008080\">      test_f1ma_epoch      </span>│<span style=\"color: #800080; text-decoration-color: #800080\">    0.20442508161067963    </span>│\n",
       "│<span style=\"color: #008080; text-decoration-color: #008080\">      test_ham_epoch       </span>│<span style=\"color: #800080; text-decoration-color: #800080\">    0.3162897527217865     </span>│\n",
       "│<span style=\"color: #008080; text-decoration-color: #008080\">      test_loss_epoch      </span>│<span style=\"color: #800080; text-decoration-color: #800080\">    0.6075431704521179     </span>│\n",
       "└───────────────────────────┴───────────────────────────┘\n",
       "</pre>\n"
      ],
      "text/plain": [
       "┏━━━━━━━━━━━━━━━━━━━━━━━━━━━┳━━━━━━━━━━━━━━━━━━━━━━━━━━━┓\n",
       "┃\u001b[1m \u001b[0m\u001b[1m       Test metric       \u001b[0m\u001b[1m \u001b[0m┃\u001b[1m \u001b[0m\u001b[1m      DataLoader 0       \u001b[0m\u001b[1m \u001b[0m┃\n",
       "┡━━━━━━━━━━━━━━━━━━━━━━━━━━━╇━━━━━━━━━━━━━━━━━━━━━━━━━━━┩\n",
       "│\u001b[36m \u001b[0m\u001b[36m     test_f1ma_epoch     \u001b[0m\u001b[36m \u001b[0m│\u001b[35m \u001b[0m\u001b[35m   0.20442508161067963   \u001b[0m\u001b[35m \u001b[0m│\n",
       "│\u001b[36m \u001b[0m\u001b[36m     test_ham_epoch      \u001b[0m\u001b[36m \u001b[0m│\u001b[35m \u001b[0m\u001b[35m   0.3162897527217865    \u001b[0m\u001b[35m \u001b[0m│\n",
       "│\u001b[36m \u001b[0m\u001b[36m     test_loss_epoch     \u001b[0m\u001b[36m \u001b[0m│\u001b[35m \u001b[0m\u001b[35m   0.6075431704521179    \u001b[0m\u001b[35m \u001b[0m│\n",
       "└───────────────────────────┴───────────────────────────┘\n"
      ]
     },
     "metadata": {},
     "output_type": "display_data"
    },
    {
     "name": "stdout",
     "output_type": "stream",
     "text": [
      "  loss: 0.6075 | hamming: 0.3163 | f1_macro: 0.2044\n",
      "\n",
      "F1-macro promedio: 0.1819 ± 0.0263\n",
      "Hamming promedio: 0.3060 ± 0.0133\n",
      "Pérdida promedio:         0.5972 ± 0.0191\n",
      "HU=[512, 256, 128]  L2=0.01 → val_f1ma: 0.1819\n",
      "Fold 1/10\n"
     ]
    },
    {
     "name": "stderr",
     "output_type": "stream",
     "text": [
      "GPU available: True (mps), used: False\n",
      "TPU available: False, using: 0 TPU cores\n",
      "HPU available: False, using: 0 HPUs\n",
      "\n",
      "  | Name       | Type                      | Params | Mode \n",
      "-----------------------------------------------------------------\n",
      "0 | classifier | Sequential                | 562 K  | train\n",
      "1 | loss       | BCEWithLogitsLoss         | 0      | train\n",
      "2 | hamming    | MultilabelHammingDistance | 0      | train\n",
      "3 | f1_macro   | MultilabelF1Score         | 0      | train\n",
      "-----------------------------------------------------------------\n",
      "562 K     Trainable params\n",
      "0         Non-trainable params\n",
      "562 K     Total params\n",
      "2.250     Total estimated model params size (MB)\n",
      "17        Modules in train mode\n",
      "0         Modules in eval mode\n"
     ]
    },
    {
     "name": "stdout",
     "output_type": "stream",
     "text": [
      "Epoch 9: 100%|██████████| 34/34 [00:00<00:00, 143.99it/s, v_num=190, train_loss=0.555, train_ham=0.318, train_f1ma=0.274, val_loss_step=0.554, val_ham_step=0.361, val_f1ma_step=0.0776, val_loss_epoch=0.554, val_ham_epoch=0.286, val_f1ma_epoch=0.175]"
     ]
    },
    {
     "name": "stderr",
     "output_type": "stream",
     "text": [
      "Restoring states from the checkpoint path at /Users/benjaminvaca/Documents/USFQ/semestre7/machine_learning/proyecto/lightning_logs/version_190/checkpoints/epoch=6-step=238.ckpt\n"
     ]
    },
    {
     "name": "stdout",
     "output_type": "stream",
     "text": [
      "\n"
     ]
    },
    {
     "name": "stderr",
     "output_type": "stream",
     "text": [
      "Loaded model weights from the checkpoint at /Users/benjaminvaca/Documents/USFQ/semestre7/machine_learning/proyecto/lightning_logs/version_190/checkpoints/epoch=6-step=238.ckpt\n"
     ]
    },
    {
     "name": "stdout",
     "output_type": "stream",
     "text": [
      "Validation DataLoader 0: 100%|██████████| 34/34 [00:00<00:00, 417.28it/s]"
     ]
    },
    {
     "name": "stderr",
     "output_type": "stream",
     "text": [
      "Restoring states from the checkpoint path at /Users/benjaminvaca/Documents/USFQ/semestre7/machine_learning/proyecto/lightning_logs/version_190/checkpoints/epoch=6-step=238.ckpt\n"
     ]
    },
    {
     "name": "stdout",
     "output_type": "stream",
     "text": [
      "\n"
     ]
    },
    {
     "name": "stderr",
     "output_type": "stream",
     "text": [
      "Loaded model weights from the checkpoint at /Users/benjaminvaca/Documents/USFQ/semestre7/machine_learning/proyecto/lightning_logs/version_190/checkpoints/epoch=6-step=238.ckpt\n"
     ]
    },
    {
     "name": "stdout",
     "output_type": "stream",
     "text": [
      "Validation DataLoader 0: 100%|██████████| 9/9 [00:00<00:00, 390.88it/s]\n"
     ]
    },
    {
     "name": "stderr",
     "output_type": "stream",
     "text": [
      "Restoring states from the checkpoint path at /Users/benjaminvaca/Documents/USFQ/semestre7/machine_learning/proyecto/lightning_logs/version_190/checkpoints/epoch=6-step=238.ckpt\n",
      "Loaded model weights from the checkpoint at /Users/benjaminvaca/Documents/USFQ/semestre7/machine_learning/proyecto/lightning_logs/version_190/checkpoints/epoch=6-step=238.ckpt\n"
     ]
    },
    {
     "name": "stdout",
     "output_type": "stream",
     "text": [
      "Testing DataLoader 0: 100%|██████████| 11/11 [00:00<00:00, 376.55it/s]\n"
     ]
    },
    {
     "data": {
      "text/html": [
       "<pre style=\"white-space:pre;overflow-x:auto;line-height:normal;font-family:Menlo,'DejaVu Sans Mono',consolas,'Courier New',monospace\">┏━━━━━━━━━━━━━━━━━━━━━━━━━━━┳━━━━━━━━━━━━━━━━━━━━━━━━━━━┓\n",
       "┃<span style=\"font-weight: bold\">        Test metric        </span>┃<span style=\"font-weight: bold\">       DataLoader 0        </span>┃\n",
       "┡━━━━━━━━━━━━━━━━━━━━━━━━━━━╇━━━━━━━━━━━━━━━━━━━━━━━━━━━┩\n",
       "│<span style=\"color: #008080; text-decoration-color: #008080\">      test_f1ma_epoch      </span>│<span style=\"color: #800080; text-decoration-color: #800080\">    0.1690024584531784     </span>│\n",
       "│<span style=\"color: #008080; text-decoration-color: #008080\">      test_ham_epoch       </span>│<span style=\"color: #800080; text-decoration-color: #800080\">    0.28318580985069275    </span>│\n",
       "│<span style=\"color: #008080; text-decoration-color: #008080\">      test_loss_epoch      </span>│<span style=\"color: #800080; text-decoration-color: #800080\">    0.5532874464988708     </span>│\n",
       "└───────────────────────────┴───────────────────────────┘\n",
       "</pre>\n"
      ],
      "text/plain": [
       "┏━━━━━━━━━━━━━━━━━━━━━━━━━━━┳━━━━━━━━━━━━━━━━━━━━━━━━━━━┓\n",
       "┃\u001b[1m \u001b[0m\u001b[1m       Test metric       \u001b[0m\u001b[1m \u001b[0m┃\u001b[1m \u001b[0m\u001b[1m      DataLoader 0       \u001b[0m\u001b[1m \u001b[0m┃\n",
       "┡━━━━━━━━━━━━━━━━━━━━━━━━━━━╇━━━━━━━━━━━━━━━━━━━━━━━━━━━┩\n",
       "│\u001b[36m \u001b[0m\u001b[36m     test_f1ma_epoch     \u001b[0m\u001b[36m \u001b[0m│\u001b[35m \u001b[0m\u001b[35m   0.1690024584531784    \u001b[0m\u001b[35m \u001b[0m│\n",
       "│\u001b[36m \u001b[0m\u001b[36m     test_ham_epoch      \u001b[0m\u001b[36m \u001b[0m│\u001b[35m \u001b[0m\u001b[35m   0.28318580985069275   \u001b[0m\u001b[35m \u001b[0m│\n",
       "│\u001b[36m \u001b[0m\u001b[36m     test_loss_epoch     \u001b[0m\u001b[36m \u001b[0m│\u001b[35m \u001b[0m\u001b[35m   0.5532874464988708    \u001b[0m\u001b[35m \u001b[0m│\n",
       "└───────────────────────────┴───────────────────────────┘\n"
      ]
     },
     "metadata": {},
     "output_type": "display_data"
    },
    {
     "name": "stdout",
     "output_type": "stream",
     "text": [
      "  loss: 0.5533 | hamming: 0.2832 | f1_macro: 0.1690\n",
      "Fold 2/10\n"
     ]
    },
    {
     "name": "stderr",
     "output_type": "stream",
     "text": [
      "GPU available: True (mps), used: False\n",
      "TPU available: False, using: 0 TPU cores\n",
      "HPU available: False, using: 0 HPUs\n",
      "\n",
      "  | Name       | Type                      | Params | Mode \n",
      "-----------------------------------------------------------------\n",
      "0 | classifier | Sequential                | 562 K  | train\n",
      "1 | loss       | BCEWithLogitsLoss         | 0      | train\n",
      "2 | hamming    | MultilabelHammingDistance | 0      | train\n",
      "3 | f1_macro   | MultilabelF1Score         | 0      | train\n",
      "-----------------------------------------------------------------\n",
      "562 K     Trainable params\n",
      "0         Non-trainable params\n",
      "562 K     Total params\n",
      "2.250     Total estimated model params size (MB)\n",
      "17        Modules in train mode\n",
      "0         Modules in eval mode\n"
     ]
    },
    {
     "name": "stdout",
     "output_type": "stream",
     "text": [
      "Epoch 3: 100%|██████████| 34/34 [00:00<00:00, 145.00it/s, v_num=191, train_loss=0.523, train_ham=0.299, train_f1ma=0.228, val_loss_step=0.588, val_ham_step=0.417, val_f1ma_step=0.0378, val_loss_epoch=0.562, val_ham_epoch=0.298, val_f1ma_epoch=0.170]"
     ]
    },
    {
     "name": "stderr",
     "output_type": "stream",
     "text": [
      "Restoring states from the checkpoint path at /Users/benjaminvaca/Documents/USFQ/semestre7/machine_learning/proyecto/lightning_logs/version_191/checkpoints/epoch=0-step=34.ckpt\n"
     ]
    },
    {
     "name": "stdout",
     "output_type": "stream",
     "text": [
      "\n"
     ]
    },
    {
     "name": "stderr",
     "output_type": "stream",
     "text": [
      "Loaded model weights from the checkpoint at /Users/benjaminvaca/Documents/USFQ/semestre7/machine_learning/proyecto/lightning_logs/version_191/checkpoints/epoch=0-step=34.ckpt\n"
     ]
    },
    {
     "name": "stdout",
     "output_type": "stream",
     "text": [
      "Validation DataLoader 0: 100%|██████████| 34/34 [00:00<00:00, 377.30it/s]"
     ]
    },
    {
     "name": "stderr",
     "output_type": "stream",
     "text": [
      "Restoring states from the checkpoint path at /Users/benjaminvaca/Documents/USFQ/semestre7/machine_learning/proyecto/lightning_logs/version_191/checkpoints/epoch=0-step=34.ckpt\n"
     ]
    },
    {
     "name": "stdout",
     "output_type": "stream",
     "text": [
      "\n"
     ]
    },
    {
     "name": "stderr",
     "output_type": "stream",
     "text": [
      "Loaded model weights from the checkpoint at /Users/benjaminvaca/Documents/USFQ/semestre7/machine_learning/proyecto/lightning_logs/version_191/checkpoints/epoch=0-step=34.ckpt\n"
     ]
    },
    {
     "name": "stdout",
     "output_type": "stream",
     "text": [
      "Validation DataLoader 0: 100%|██████████| 9/9 [00:00<00:00, 363.07it/s]"
     ]
    },
    {
     "name": "stderr",
     "output_type": "stream",
     "text": [
      "Restoring states from the checkpoint path at /Users/benjaminvaca/Documents/USFQ/semestre7/machine_learning/proyecto/lightning_logs/version_191/checkpoints/epoch=0-step=34.ckpt\n"
     ]
    },
    {
     "name": "stdout",
     "output_type": "stream",
     "text": [
      "\n"
     ]
    },
    {
     "name": "stderr",
     "output_type": "stream",
     "text": [
      "Loaded model weights from the checkpoint at /Users/benjaminvaca/Documents/USFQ/semestre7/machine_learning/proyecto/lightning_logs/version_191/checkpoints/epoch=0-step=34.ckpt\n"
     ]
    },
    {
     "name": "stdout",
     "output_type": "stream",
     "text": [
      "Testing DataLoader 0: 100%|██████████| 11/11 [00:00<00:00, 352.43it/s]\n"
     ]
    },
    {
     "data": {
      "text/html": [
       "<pre style=\"white-space:pre;overflow-x:auto;line-height:normal;font-family:Menlo,'DejaVu Sans Mono',consolas,'Courier New',monospace\">┏━━━━━━━━━━━━━━━━━━━━━━━━━━━┳━━━━━━━━━━━━━━━━━━━━━━━━━━━┓\n",
       "┃<span style=\"font-weight: bold\">        Test metric        </span>┃<span style=\"font-weight: bold\">       DataLoader 0        </span>┃\n",
       "┡━━━━━━━━━━━━━━━━━━━━━━━━━━━╇━━━━━━━━━━━━━━━━━━━━━━━━━━━┩\n",
       "│<span style=\"color: #008080; text-decoration-color: #008080\">      test_f1ma_epoch      </span>│<span style=\"color: #800080; text-decoration-color: #800080\">    0.17484283447265625    </span>│\n",
       "│<span style=\"color: #008080; text-decoration-color: #008080\">      test_ham_epoch       </span>│<span style=\"color: #800080; text-decoration-color: #800080\">    0.32087841629981995    </span>│\n",
       "│<span style=\"color: #008080; text-decoration-color: #008080\">      test_loss_epoch      </span>│<span style=\"color: #800080; text-decoration-color: #800080\">    0.6007649898529053     </span>│\n",
       "└───────────────────────────┴───────────────────────────┘\n",
       "</pre>\n"
      ],
      "text/plain": [
       "┏━━━━━━━━━━━━━━━━━━━━━━━━━━━┳━━━━━━━━━━━━━━━━━━━━━━━━━━━┓\n",
       "┃\u001b[1m \u001b[0m\u001b[1m       Test metric       \u001b[0m\u001b[1m \u001b[0m┃\u001b[1m \u001b[0m\u001b[1m      DataLoader 0       \u001b[0m\u001b[1m \u001b[0m┃\n",
       "┡━━━━━━━━━━━━━━━━━━━━━━━━━━━╇━━━━━━━━━━━━━━━━━━━━━━━━━━━┩\n",
       "│\u001b[36m \u001b[0m\u001b[36m     test_f1ma_epoch     \u001b[0m\u001b[36m \u001b[0m│\u001b[35m \u001b[0m\u001b[35m   0.17484283447265625   \u001b[0m\u001b[35m \u001b[0m│\n",
       "│\u001b[36m \u001b[0m\u001b[36m     test_ham_epoch      \u001b[0m\u001b[36m \u001b[0m│\u001b[35m \u001b[0m\u001b[35m   0.32087841629981995   \u001b[0m\u001b[35m \u001b[0m│\n",
       "│\u001b[36m \u001b[0m\u001b[36m     test_loss_epoch     \u001b[0m\u001b[36m \u001b[0m│\u001b[35m \u001b[0m\u001b[35m   0.6007649898529053    \u001b[0m\u001b[35m \u001b[0m│\n",
       "└───────────────────────────┴───────────────────────────┘\n"
      ]
     },
     "metadata": {},
     "output_type": "display_data"
    },
    {
     "name": "stdout",
     "output_type": "stream",
     "text": [
      "  loss: 0.6008 | hamming: 0.3209 | f1_macro: 0.1748\n",
      "Fold 3/10\n"
     ]
    },
    {
     "name": "stderr",
     "output_type": "stream",
     "text": [
      "GPU available: True (mps), used: False\n",
      "TPU available: False, using: 0 TPU cores\n",
      "HPU available: False, using: 0 HPUs\n",
      "\n",
      "  | Name       | Type                      | Params | Mode \n",
      "-----------------------------------------------------------------\n",
      "0 | classifier | Sequential                | 562 K  | train\n",
      "1 | loss       | BCEWithLogitsLoss         | 0      | train\n",
      "2 | hamming    | MultilabelHammingDistance | 0      | train\n",
      "3 | f1_macro   | MultilabelF1Score         | 0      | train\n",
      "-----------------------------------------------------------------\n",
      "562 K     Trainable params\n",
      "0         Non-trainable params\n",
      "562 K     Total params\n",
      "2.250     Total estimated model params size (MB)\n",
      "17        Modules in train mode\n",
      "0         Modules in eval mode\n"
     ]
    },
    {
     "name": "stdout",
     "output_type": "stream",
     "text": [
      "Epoch 4: 100%|██████████| 34/34 [00:00<00:00, 146.91it/s, v_num=192, train_loss=0.564, train_ham=0.296, train_f1ma=0.281, val_loss_step=0.537, val_ham_step=0.407, val_f1ma_step=0.0523, val_loss_epoch=0.569, val_ham_epoch=0.300, val_f1ma_epoch=0.181]\n"
     ]
    },
    {
     "name": "stderr",
     "output_type": "stream",
     "text": [
      "Restoring states from the checkpoint path at /Users/benjaminvaca/Documents/USFQ/semestre7/machine_learning/proyecto/lightning_logs/version_192/checkpoints/epoch=1-step=68.ckpt\n",
      "Loaded model weights from the checkpoint at /Users/benjaminvaca/Documents/USFQ/semestre7/machine_learning/proyecto/lightning_logs/version_192/checkpoints/epoch=1-step=68.ckpt\n"
     ]
    },
    {
     "name": "stdout",
     "output_type": "stream",
     "text": [
      "Validation DataLoader 0: 100%|██████████| 34/34 [00:00<00:00, 317.83it/s]"
     ]
    },
    {
     "name": "stderr",
     "output_type": "stream",
     "text": [
      "Restoring states from the checkpoint path at /Users/benjaminvaca/Documents/USFQ/semestre7/machine_learning/proyecto/lightning_logs/version_192/checkpoints/epoch=1-step=68.ckpt\n"
     ]
    },
    {
     "name": "stdout",
     "output_type": "stream",
     "text": [
      "\n"
     ]
    },
    {
     "name": "stderr",
     "output_type": "stream",
     "text": [
      "Loaded model weights from the checkpoint at /Users/benjaminvaca/Documents/USFQ/semestre7/machine_learning/proyecto/lightning_logs/version_192/checkpoints/epoch=1-step=68.ckpt\n"
     ]
    },
    {
     "name": "stdout",
     "output_type": "stream",
     "text": [
      "Validation DataLoader 0: 100%|██████████| 9/9 [00:00<00:00, 355.76it/s]"
     ]
    },
    {
     "name": "stderr",
     "output_type": "stream",
     "text": [
      "Restoring states from the checkpoint path at /Users/benjaminvaca/Documents/USFQ/semestre7/machine_learning/proyecto/lightning_logs/version_192/checkpoints/epoch=1-step=68.ckpt\n"
     ]
    },
    {
     "name": "stdout",
     "output_type": "stream",
     "text": [
      "\n"
     ]
    },
    {
     "name": "stderr",
     "output_type": "stream",
     "text": [
      "Loaded model weights from the checkpoint at /Users/benjaminvaca/Documents/USFQ/semestre7/machine_learning/proyecto/lightning_logs/version_192/checkpoints/epoch=1-step=68.ckpt\n"
     ]
    },
    {
     "name": "stdout",
     "output_type": "stream",
     "text": [
      "Testing DataLoader 0: 100%|██████████| 11/11 [00:00<00:00, 376.73it/s]\n"
     ]
    },
    {
     "data": {
      "text/html": [
       "<pre style=\"white-space:pre;overflow-x:auto;line-height:normal;font-family:Menlo,'DejaVu Sans Mono',consolas,'Courier New',monospace\">┏━━━━━━━━━━━━━━━━━━━━━━━━━━━┳━━━━━━━━━━━━━━━━━━━━━━━━━━━┓\n",
       "┃<span style=\"font-weight: bold\">        Test metric        </span>┃<span style=\"font-weight: bold\">       DataLoader 0        </span>┃\n",
       "┡━━━━━━━━━━━━━━━━━━━━━━━━━━━╇━━━━━━━━━━━━━━━━━━━━━━━━━━━┩\n",
       "│<span style=\"color: #008080; text-decoration-color: #008080\">      test_f1ma_epoch      </span>│<span style=\"color: #800080; text-decoration-color: #800080\">    0.20259350538253784    </span>│\n",
       "│<span style=\"color: #008080; text-decoration-color: #008080\">      test_ham_epoch       </span>│<span style=\"color: #800080; text-decoration-color: #800080\">    0.2930186986923218     </span>│\n",
       "│<span style=\"color: #008080; text-decoration-color: #008080\">      test_loss_epoch      </span>│<span style=\"color: #800080; text-decoration-color: #800080\">    0.5790669918060303     </span>│\n",
       "└───────────────────────────┴───────────────────────────┘\n",
       "</pre>\n"
      ],
      "text/plain": [
       "┏━━━━━━━━━━━━━━━━━━━━━━━━━━━┳━━━━━━━━━━━━━━━━━━━━━━━━━━━┓\n",
       "┃\u001b[1m \u001b[0m\u001b[1m       Test metric       \u001b[0m\u001b[1m \u001b[0m┃\u001b[1m \u001b[0m\u001b[1m      DataLoader 0       \u001b[0m\u001b[1m \u001b[0m┃\n",
       "┡━━━━━━━━━━━━━━━━━━━━━━━━━━━╇━━━━━━━━━━━━━━━━━━━━━━━━━━━┩\n",
       "│\u001b[36m \u001b[0m\u001b[36m     test_f1ma_epoch     \u001b[0m\u001b[36m \u001b[0m│\u001b[35m \u001b[0m\u001b[35m   0.20259350538253784   \u001b[0m\u001b[35m \u001b[0m│\n",
       "│\u001b[36m \u001b[0m\u001b[36m     test_ham_epoch      \u001b[0m\u001b[36m \u001b[0m│\u001b[35m \u001b[0m\u001b[35m   0.2930186986923218    \u001b[0m\u001b[35m \u001b[0m│\n",
       "│\u001b[36m \u001b[0m\u001b[36m     test_loss_epoch     \u001b[0m\u001b[36m \u001b[0m│\u001b[35m \u001b[0m\u001b[35m   0.5790669918060303    \u001b[0m\u001b[35m \u001b[0m│\n",
       "└───────────────────────────┴───────────────────────────┘\n"
      ]
     },
     "metadata": {},
     "output_type": "display_data"
    },
    {
     "name": "stderr",
     "output_type": "stream",
     "text": [
      "GPU available: True (mps), used: False\n",
      "TPU available: False, using: 0 TPU cores\n",
      "HPU available: False, using: 0 HPUs\n"
     ]
    },
    {
     "name": "stdout",
     "output_type": "stream",
     "text": [
      "  loss: 0.5791 | hamming: 0.2930 | f1_macro: 0.2026\n",
      "Fold 4/10\n"
     ]
    },
    {
     "name": "stderr",
     "output_type": "stream",
     "text": [
      "\n",
      "  | Name       | Type                      | Params | Mode \n",
      "-----------------------------------------------------------------\n",
      "0 | classifier | Sequential                | 562 K  | train\n",
      "1 | loss       | BCEWithLogitsLoss         | 0      | train\n",
      "2 | hamming    | MultilabelHammingDistance | 0      | train\n",
      "3 | f1_macro   | MultilabelF1Score         | 0      | train\n",
      "-----------------------------------------------------------------\n",
      "562 K     Trainable params\n",
      "0         Non-trainable params\n",
      "562 K     Total params\n",
      "2.250     Total estimated model params size (MB)\n",
      "17        Modules in train mode\n",
      "0         Modules in eval mode\n"
     ]
    },
    {
     "name": "stdout",
     "output_type": "stream",
     "text": [
      "Epoch 3: 100%|██████████| 34/34 [00:00<00:00, 148.65it/s, v_num=193, train_loss=0.548, train_ham=0.296, train_f1ma=0.293, val_loss_step=0.578, val_ham_step=0.363, val_f1ma_step=0.0729, val_loss_epoch=0.566, val_ham_epoch=0.293, val_f1ma_epoch=0.155]\n"
     ]
    },
    {
     "name": "stderr",
     "output_type": "stream",
     "text": [
      "Restoring states from the checkpoint path at /Users/benjaminvaca/Documents/USFQ/semestre7/machine_learning/proyecto/lightning_logs/version_193/checkpoints/epoch=0-step=34.ckpt\n",
      "Loaded model weights from the checkpoint at /Users/benjaminvaca/Documents/USFQ/semestre7/machine_learning/proyecto/lightning_logs/version_193/checkpoints/epoch=0-step=34.ckpt\n"
     ]
    },
    {
     "name": "stdout",
     "output_type": "stream",
     "text": [
      "Validation DataLoader 0: 100%|██████████| 34/34 [00:00<00:00, 430.33it/s]\n"
     ]
    },
    {
     "name": "stderr",
     "output_type": "stream",
     "text": [
      "Restoring states from the checkpoint path at /Users/benjaminvaca/Documents/USFQ/semestre7/machine_learning/proyecto/lightning_logs/version_193/checkpoints/epoch=0-step=34.ckpt\n",
      "Loaded model weights from the checkpoint at /Users/benjaminvaca/Documents/USFQ/semestre7/machine_learning/proyecto/lightning_logs/version_193/checkpoints/epoch=0-step=34.ckpt\n"
     ]
    },
    {
     "name": "stdout",
     "output_type": "stream",
     "text": [
      "Validation DataLoader 0: 100%|██████████| 9/9 [00:00<00:00, 416.15it/s]"
     ]
    },
    {
     "name": "stderr",
     "output_type": "stream",
     "text": [
      "Restoring states from the checkpoint path at /Users/benjaminvaca/Documents/USFQ/semestre7/machine_learning/proyecto/lightning_logs/version_193/checkpoints/epoch=0-step=34.ckpt\n"
     ]
    },
    {
     "name": "stdout",
     "output_type": "stream",
     "text": [
      "\n"
     ]
    },
    {
     "name": "stderr",
     "output_type": "stream",
     "text": [
      "Loaded model weights from the checkpoint at /Users/benjaminvaca/Documents/USFQ/semestre7/machine_learning/proyecto/lightning_logs/version_193/checkpoints/epoch=0-step=34.ckpt\n"
     ]
    },
    {
     "name": "stdout",
     "output_type": "stream",
     "text": [
      "Testing DataLoader 0: 100%|██████████| 11/11 [00:00<00:00, 392.07it/s]\n"
     ]
    },
    {
     "data": {
      "text/html": [
       "<pre style=\"white-space:pre;overflow-x:auto;line-height:normal;font-family:Menlo,'DejaVu Sans Mono',consolas,'Courier New',monospace\">┏━━━━━━━━━━━━━━━━━━━━━━━━━━━┳━━━━━━━━━━━━━━━━━━━━━━━━━━━┓\n",
       "┃<span style=\"font-weight: bold\">        Test metric        </span>┃<span style=\"font-weight: bold\">       DataLoader 0        </span>┃\n",
       "┡━━━━━━━━━━━━━━━━━━━━━━━━━━━╇━━━━━━━━━━━━━━━━━━━━━━━━━━━┩\n",
       "│<span style=\"color: #008080; text-decoration-color: #008080\">      test_f1ma_epoch      </span>│<span style=\"color: #800080; text-decoration-color: #800080\">    0.16216261684894562    </span>│\n",
       "│<span style=\"color: #008080; text-decoration-color: #008080\">      test_ham_epoch       </span>│<span style=\"color: #800080; text-decoration-color: #800080\">    0.3058013617992401     </span>│\n",
       "│<span style=\"color: #008080; text-decoration-color: #008080\">      test_loss_epoch      </span>│<span style=\"color: #800080; text-decoration-color: #800080\">    0.6082234382629395     </span>│\n",
       "└───────────────────────────┴───────────────────────────┘\n",
       "</pre>\n"
      ],
      "text/plain": [
       "┏━━━━━━━━━━━━━━━━━━━━━━━━━━━┳━━━━━━━━━━━━━━━━━━━━━━━━━━━┓\n",
       "┃\u001b[1m \u001b[0m\u001b[1m       Test metric       \u001b[0m\u001b[1m \u001b[0m┃\u001b[1m \u001b[0m\u001b[1m      DataLoader 0       \u001b[0m\u001b[1m \u001b[0m┃\n",
       "┡━━━━━━━━━━━━━━━━━━━━━━━━━━━╇━━━━━━━━━━━━━━━━━━━━━━━━━━━┩\n",
       "│\u001b[36m \u001b[0m\u001b[36m     test_f1ma_epoch     \u001b[0m\u001b[36m \u001b[0m│\u001b[35m \u001b[0m\u001b[35m   0.16216261684894562   \u001b[0m\u001b[35m \u001b[0m│\n",
       "│\u001b[36m \u001b[0m\u001b[36m     test_ham_epoch      \u001b[0m\u001b[36m \u001b[0m│\u001b[35m \u001b[0m\u001b[35m   0.3058013617992401    \u001b[0m\u001b[35m \u001b[0m│\n",
       "│\u001b[36m \u001b[0m\u001b[36m     test_loss_epoch     \u001b[0m\u001b[36m \u001b[0m│\u001b[35m \u001b[0m\u001b[35m   0.6082234382629395    \u001b[0m\u001b[35m \u001b[0m│\n",
       "└───────────────────────────┴───────────────────────────┘\n"
      ]
     },
     "metadata": {},
     "output_type": "display_data"
    },
    {
     "name": "stdout",
     "output_type": "stream",
     "text": [
      "  loss: 0.6082 | hamming: 0.3058 | f1_macro: 0.1622\n",
      "Fold 5/10\n"
     ]
    },
    {
     "name": "stderr",
     "output_type": "stream",
     "text": [
      "GPU available: True (mps), used: False\n",
      "TPU available: False, using: 0 TPU cores\n",
      "HPU available: False, using: 0 HPUs\n",
      "\n",
      "  | Name       | Type                      | Params | Mode \n",
      "-----------------------------------------------------------------\n",
      "0 | classifier | Sequential                | 562 K  | train\n",
      "1 | loss       | BCEWithLogitsLoss         | 0      | train\n",
      "2 | hamming    | MultilabelHammingDistance | 0      | train\n",
      "3 | f1_macro   | MultilabelF1Score         | 0      | train\n",
      "-----------------------------------------------------------------\n",
      "562 K     Trainable params\n",
      "0         Non-trainable params\n",
      "562 K     Total params\n",
      "2.250     Total estimated model params size (MB)\n",
      "17        Modules in train mode\n",
      "0         Modules in eval mode\n"
     ]
    },
    {
     "name": "stdout",
     "output_type": "stream",
     "text": [
      "Epoch 3: 100%|██████████| 34/34 [00:00<00:00, 158.02it/s, v_num=194, train_loss=0.558, train_ham=0.300, train_f1ma=0.288, val_loss_step=0.566, val_ham_step=0.341, val_f1ma_step=0.110, val_loss_epoch=0.561, val_ham_epoch=0.293, val_f1ma_epoch=0.176] "
     ]
    },
    {
     "name": "stderr",
     "output_type": "stream",
     "text": [
      "Restoring states from the checkpoint path at /Users/benjaminvaca/Documents/USFQ/semestre7/machine_learning/proyecto/lightning_logs/version_194/checkpoints/epoch=0-step=34.ckpt\n",
      "Loaded model weights from the checkpoint at /Users/benjaminvaca/Documents/USFQ/semestre7/machine_learning/proyecto/lightning_logs/version_194/checkpoints/epoch=0-step=34.ckpt\n"
     ]
    },
    {
     "name": "stdout",
     "output_type": "stream",
     "text": [
      "\n",
      "Validation DataLoader 0: 100%|██████████| 34/34 [00:00<00:00, 383.35it/s]\n"
     ]
    },
    {
     "name": "stderr",
     "output_type": "stream",
     "text": [
      "Restoring states from the checkpoint path at /Users/benjaminvaca/Documents/USFQ/semestre7/machine_learning/proyecto/lightning_logs/version_194/checkpoints/epoch=0-step=34.ckpt\n",
      "Loaded model weights from the checkpoint at /Users/benjaminvaca/Documents/USFQ/semestre7/machine_learning/proyecto/lightning_logs/version_194/checkpoints/epoch=0-step=34.ckpt\n"
     ]
    },
    {
     "name": "stdout",
     "output_type": "stream",
     "text": [
      "Validation DataLoader 0: 100%|██████████| 9/9 [00:00<00:00, 364.76it/s]"
     ]
    },
    {
     "name": "stderr",
     "output_type": "stream",
     "text": [
      "Restoring states from the checkpoint path at /Users/benjaminvaca/Documents/USFQ/semestre7/machine_learning/proyecto/lightning_logs/version_194/checkpoints/epoch=0-step=34.ckpt\n"
     ]
    },
    {
     "name": "stdout",
     "output_type": "stream",
     "text": [
      "\n"
     ]
    },
    {
     "name": "stderr",
     "output_type": "stream",
     "text": [
      "Loaded model weights from the checkpoint at /Users/benjaminvaca/Documents/USFQ/semestre7/machine_learning/proyecto/lightning_logs/version_194/checkpoints/epoch=0-step=34.ckpt\n"
     ]
    },
    {
     "name": "stdout",
     "output_type": "stream",
     "text": [
      "Testing DataLoader 0: 100%|██████████| 11/11 [00:00<00:00, 355.50it/s]\n"
     ]
    },
    {
     "data": {
      "text/html": [
       "<pre style=\"white-space:pre;overflow-x:auto;line-height:normal;font-family:Menlo,'DejaVu Sans Mono',consolas,'Courier New',monospace\">┏━━━━━━━━━━━━━━━━━━━━━━━━━━━┳━━━━━━━━━━━━━━━━━━━━━━━━━━━┓\n",
       "┃<span style=\"font-weight: bold\">        Test metric        </span>┃<span style=\"font-weight: bold\">       DataLoader 0        </span>┃\n",
       "┡━━━━━━━━━━━━━━━━━━━━━━━━━━━╇━━━━━━━━━━━━━━━━━━━━━━━━━━━┩\n",
       "│<span style=\"color: #008080; text-decoration-color: #008080\">      test_f1ma_epoch      </span>│<span style=\"color: #800080; text-decoration-color: #800080\">    0.1826169192790985     </span>│\n",
       "│<span style=\"color: #008080; text-decoration-color: #008080\">      test_ham_epoch       </span>│<span style=\"color: #800080; text-decoration-color: #800080\">    0.32120615243911743    </span>│\n",
       "│<span style=\"color: #008080; text-decoration-color: #008080\">      test_loss_epoch      </span>│<span style=\"color: #800080; text-decoration-color: #800080\">    0.5937860012054443     </span>│\n",
       "└───────────────────────────┴───────────────────────────┘\n",
       "</pre>\n"
      ],
      "text/plain": [
       "┏━━━━━━━━━━━━━━━━━━━━━━━━━━━┳━━━━━━━━━━━━━━━━━━━━━━━━━━━┓\n",
       "┃\u001b[1m \u001b[0m\u001b[1m       Test metric       \u001b[0m\u001b[1m \u001b[0m┃\u001b[1m \u001b[0m\u001b[1m      DataLoader 0       \u001b[0m\u001b[1m \u001b[0m┃\n",
       "┡━━━━━━━━━━━━━━━━━━━━━━━━━━━╇━━━━━━━━━━━━━━━━━━━━━━━━━━━┩\n",
       "│\u001b[36m \u001b[0m\u001b[36m     test_f1ma_epoch     \u001b[0m\u001b[36m \u001b[0m│\u001b[35m \u001b[0m\u001b[35m   0.1826169192790985    \u001b[0m\u001b[35m \u001b[0m│\n",
       "│\u001b[36m \u001b[0m\u001b[36m     test_ham_epoch      \u001b[0m\u001b[36m \u001b[0m│\u001b[35m \u001b[0m\u001b[35m   0.32120615243911743   \u001b[0m\u001b[35m \u001b[0m│\n",
       "│\u001b[36m \u001b[0m\u001b[36m     test_loss_epoch     \u001b[0m\u001b[36m \u001b[0m│\u001b[35m \u001b[0m\u001b[35m   0.5937860012054443    \u001b[0m\u001b[35m \u001b[0m│\n",
       "└───────────────────────────┴───────────────────────────┘\n"
      ]
     },
     "metadata": {},
     "output_type": "display_data"
    },
    {
     "name": "stdout",
     "output_type": "stream",
     "text": [
      "  loss: 0.5938 | hamming: 0.3212 | f1_macro: 0.1826\n",
      "Fold 6/10\n"
     ]
    },
    {
     "name": "stderr",
     "output_type": "stream",
     "text": [
      "GPU available: True (mps), used: False\n",
      "TPU available: False, using: 0 TPU cores\n",
      "HPU available: False, using: 0 HPUs\n",
      "\n",
      "  | Name       | Type                      | Params | Mode \n",
      "-----------------------------------------------------------------\n",
      "0 | classifier | Sequential                | 562 K  | train\n",
      "1 | loss       | BCEWithLogitsLoss         | 0      | train\n",
      "2 | hamming    | MultilabelHammingDistance | 0      | train\n",
      "3 | f1_macro   | MultilabelF1Score         | 0      | train\n",
      "-----------------------------------------------------------------\n",
      "562 K     Trainable params\n",
      "0         Non-trainable params\n",
      "562 K     Total params\n",
      "2.250     Total estimated model params size (MB)\n",
      "17        Modules in train mode\n",
      "0         Modules in eval mode\n"
     ]
    },
    {
     "name": "stdout",
     "output_type": "stream",
     "text": [
      "Epoch 3: 100%|██████████| 34/34 [00:00<00:00, 126.92it/s, v_num=195, train_loss=0.557, train_ham=0.310, train_f1ma=0.308, val_loss_step=0.563, val_ham_step=0.312, val_f1ma_step=0.127, val_loss_epoch=0.558, val_ham_epoch=0.298, val_f1ma_epoch=0.164]"
     ]
    },
    {
     "name": "stderr",
     "output_type": "stream",
     "text": [
      "Restoring states from the checkpoint path at /Users/benjaminvaca/Documents/USFQ/semestre7/machine_learning/proyecto/lightning_logs/version_195/checkpoints/epoch=0-step=34.ckpt\n"
     ]
    },
    {
     "name": "stdout",
     "output_type": "stream",
     "text": [
      "\n"
     ]
    },
    {
     "name": "stderr",
     "output_type": "stream",
     "text": [
      "Loaded model weights from the checkpoint at /Users/benjaminvaca/Documents/USFQ/semestre7/machine_learning/proyecto/lightning_logs/version_195/checkpoints/epoch=0-step=34.ckpt\n"
     ]
    },
    {
     "name": "stdout",
     "output_type": "stream",
     "text": [
      "Validation DataLoader 0: 100%|██████████| 34/34 [00:00<00:00, 350.03it/s]"
     ]
    },
    {
     "name": "stderr",
     "output_type": "stream",
     "text": [
      "Restoring states from the checkpoint path at /Users/benjaminvaca/Documents/USFQ/semestre7/machine_learning/proyecto/lightning_logs/version_195/checkpoints/epoch=0-step=34.ckpt\n"
     ]
    },
    {
     "name": "stdout",
     "output_type": "stream",
     "text": [
      "\n"
     ]
    },
    {
     "name": "stderr",
     "output_type": "stream",
     "text": [
      "Loaded model weights from the checkpoint at /Users/benjaminvaca/Documents/USFQ/semestre7/machine_learning/proyecto/lightning_logs/version_195/checkpoints/epoch=0-step=34.ckpt\n"
     ]
    },
    {
     "name": "stdout",
     "output_type": "stream",
     "text": [
      "Validation DataLoader 0: 100%|██████████| 9/9 [00:00<00:00, 307.85it/s]\n"
     ]
    },
    {
     "name": "stderr",
     "output_type": "stream",
     "text": [
      "Restoring states from the checkpoint path at /Users/benjaminvaca/Documents/USFQ/semestre7/machine_learning/proyecto/lightning_logs/version_195/checkpoints/epoch=0-step=34.ckpt\n",
      "Loaded model weights from the checkpoint at /Users/benjaminvaca/Documents/USFQ/semestre7/machine_learning/proyecto/lightning_logs/version_195/checkpoints/epoch=0-step=34.ckpt\n"
     ]
    },
    {
     "name": "stdout",
     "output_type": "stream",
     "text": [
      "Testing DataLoader 0: 100%|██████████| 11/11 [00:00<00:00, 173.57it/s]\n"
     ]
    },
    {
     "data": {
      "text/html": [
       "<pre style=\"white-space:pre;overflow-x:auto;line-height:normal;font-family:Menlo,'DejaVu Sans Mono',consolas,'Courier New',monospace\">┏━━━━━━━━━━━━━━━━━━━━━━━━━━━┳━━━━━━━━━━━━━━━━━━━━━━━━━━━┓\n",
       "┃<span style=\"font-weight: bold\">        Test metric        </span>┃<span style=\"font-weight: bold\">       DataLoader 0        </span>┃\n",
       "┡━━━━━━━━━━━━━━━━━━━━━━━━━━━╇━━━━━━━━━━━━━━━━━━━━━━━━━━━┩\n",
       "│<span style=\"color: #008080; text-decoration-color: #008080\">      test_f1ma_epoch      </span>│<span style=\"color: #800080; text-decoration-color: #800080\">    0.21522657573223114    </span>│\n",
       "│<span style=\"color: #008080; text-decoration-color: #008080\">      test_ham_epoch       </span>│<span style=\"color: #800080; text-decoration-color: #800080\">    0.30645689368247986    </span>│\n",
       "│<span style=\"color: #008080; text-decoration-color: #008080\">      test_loss_epoch      </span>│<span style=\"color: #800080; text-decoration-color: #800080\">    0.6032359004020691     </span>│\n",
       "└───────────────────────────┴───────────────────────────┘\n",
       "</pre>\n"
      ],
      "text/plain": [
       "┏━━━━━━━━━━━━━━━━━━━━━━━━━━━┳━━━━━━━━━━━━━━━━━━━━━━━━━━━┓\n",
       "┃\u001b[1m \u001b[0m\u001b[1m       Test metric       \u001b[0m\u001b[1m \u001b[0m┃\u001b[1m \u001b[0m\u001b[1m      DataLoader 0       \u001b[0m\u001b[1m \u001b[0m┃\n",
       "┡━━━━━━━━━━━━━━━━━━━━━━━━━━━╇━━━━━━━━━━━━━━━━━━━━━━━━━━━┩\n",
       "│\u001b[36m \u001b[0m\u001b[36m     test_f1ma_epoch     \u001b[0m\u001b[36m \u001b[0m│\u001b[35m \u001b[0m\u001b[35m   0.21522657573223114   \u001b[0m\u001b[35m \u001b[0m│\n",
       "│\u001b[36m \u001b[0m\u001b[36m     test_ham_epoch      \u001b[0m\u001b[36m \u001b[0m│\u001b[35m \u001b[0m\u001b[35m   0.30645689368247986   \u001b[0m\u001b[35m \u001b[0m│\n",
       "│\u001b[36m \u001b[0m\u001b[36m     test_loss_epoch     \u001b[0m\u001b[36m \u001b[0m│\u001b[35m \u001b[0m\u001b[35m   0.6032359004020691    \u001b[0m\u001b[35m \u001b[0m│\n",
       "└───────────────────────────┴───────────────────────────┘\n"
      ]
     },
     "metadata": {},
     "output_type": "display_data"
    },
    {
     "name": "stdout",
     "output_type": "stream",
     "text": [
      "  loss: 0.6032 | hamming: 0.3065 | f1_macro: 0.2152\n",
      "Fold 7/10\n"
     ]
    },
    {
     "name": "stderr",
     "output_type": "stream",
     "text": [
      "GPU available: True (mps), used: False\n",
      "TPU available: False, using: 0 TPU cores\n",
      "HPU available: False, using: 0 HPUs\n",
      "\n",
      "  | Name       | Type                      | Params | Mode \n",
      "-----------------------------------------------------------------\n",
      "0 | classifier | Sequential                | 562 K  | train\n",
      "1 | loss       | BCEWithLogitsLoss         | 0      | train\n",
      "2 | hamming    | MultilabelHammingDistance | 0      | train\n",
      "3 | f1_macro   | MultilabelF1Score         | 0      | train\n",
      "-----------------------------------------------------------------\n",
      "562 K     Trainable params\n",
      "0         Non-trainable params\n",
      "562 K     Total params\n",
      "2.250     Total estimated model params size (MB)\n",
      "17        Modules in train mode\n",
      "0         Modules in eval mode\n"
     ]
    },
    {
     "name": "stdout",
     "output_type": "stream",
     "text": [
      "Epoch 7: 100%|██████████| 34/34 [00:00<00:00, 144.21it/s, v_num=196, train_loss=0.512, train_ham=0.284, train_f1ma=0.316, val_loss_step=0.525, val_ham_step=0.229, val_f1ma_step=0.143, val_loss_epoch=0.561, val_ham_epoch=0.304, val_f1ma_epoch=0.168] \n"
     ]
    },
    {
     "name": "stderr",
     "output_type": "stream",
     "text": [
      "Restoring states from the checkpoint path at /Users/benjaminvaca/Documents/USFQ/semestre7/machine_learning/proyecto/lightning_logs/version_196/checkpoints/epoch=4-step=170.ckpt\n",
      "Loaded model weights from the checkpoint at /Users/benjaminvaca/Documents/USFQ/semestre7/machine_learning/proyecto/lightning_logs/version_196/checkpoints/epoch=4-step=170.ckpt\n"
     ]
    },
    {
     "name": "stdout",
     "output_type": "stream",
     "text": [
      "Validation DataLoader 0: 100%|██████████| 34/34 [00:00<00:00, 346.26it/s]"
     ]
    },
    {
     "name": "stderr",
     "output_type": "stream",
     "text": [
      "Restoring states from the checkpoint path at /Users/benjaminvaca/Documents/USFQ/semestre7/machine_learning/proyecto/lightning_logs/version_196/checkpoints/epoch=4-step=170.ckpt\n"
     ]
    },
    {
     "name": "stdout",
     "output_type": "stream",
     "text": [
      "\n"
     ]
    },
    {
     "name": "stderr",
     "output_type": "stream",
     "text": [
      "Loaded model weights from the checkpoint at /Users/benjaminvaca/Documents/USFQ/semestre7/machine_learning/proyecto/lightning_logs/version_196/checkpoints/epoch=4-step=170.ckpt\n"
     ]
    },
    {
     "name": "stdout",
     "output_type": "stream",
     "text": [
      "Validation DataLoader 0: 100%|██████████| 9/9 [00:00<00:00, 354.61it/s]"
     ]
    },
    {
     "name": "stderr",
     "output_type": "stream",
     "text": [
      "Restoring states from the checkpoint path at /Users/benjaminvaca/Documents/USFQ/semestre7/machine_learning/proyecto/lightning_logs/version_196/checkpoints/epoch=4-step=170.ckpt\n"
     ]
    },
    {
     "name": "stdout",
     "output_type": "stream",
     "text": [
      "\n"
     ]
    },
    {
     "name": "stderr",
     "output_type": "stream",
     "text": [
      "Loaded model weights from the checkpoint at /Users/benjaminvaca/Documents/USFQ/semestre7/machine_learning/proyecto/lightning_logs/version_196/checkpoints/epoch=4-step=170.ckpt\n"
     ]
    },
    {
     "name": "stdout",
     "output_type": "stream",
     "text": [
      "Testing DataLoader 0: 100%|██████████| 11/11 [00:00<00:00, 247.66it/s]\n"
     ]
    },
    {
     "data": {
      "text/html": [
       "<pre style=\"white-space:pre;overflow-x:auto;line-height:normal;font-family:Menlo,'DejaVu Sans Mono',consolas,'Courier New',monospace\">┏━━━━━━━━━━━━━━━━━━━━━━━━━━━┳━━━━━━━━━━━━━━━━━━━━━━━━━━━┓\n",
       "┃<span style=\"font-weight: bold\">        Test metric        </span>┃<span style=\"font-weight: bold\">       DataLoader 0        </span>┃\n",
       "┡━━━━━━━━━━━━━━━━━━━━━━━━━━━╇━━━━━━━━━━━━━━━━━━━━━━━━━━━┩\n",
       "│<span style=\"color: #008080; text-decoration-color: #008080\">      test_f1ma_epoch      </span>│<span style=\"color: #800080; text-decoration-color: #800080\">    0.1859130561351776     </span>│\n",
       "│<span style=\"color: #008080; text-decoration-color: #008080\">      test_ham_epoch       </span>│<span style=\"color: #800080; text-decoration-color: #800080\">    0.27663061022758484    </span>│\n",
       "│<span style=\"color: #008080; text-decoration-color: #008080\">      test_loss_epoch      </span>│<span style=\"color: #800080; text-decoration-color: #800080\">    0.5618765950202942     </span>│\n",
       "└───────────────────────────┴───────────────────────────┘\n",
       "</pre>\n"
      ],
      "text/plain": [
       "┏━━━━━━━━━━━━━━━━━━━━━━━━━━━┳━━━━━━━━━━━━━━━━━━━━━━━━━━━┓\n",
       "┃\u001b[1m \u001b[0m\u001b[1m       Test metric       \u001b[0m\u001b[1m \u001b[0m┃\u001b[1m \u001b[0m\u001b[1m      DataLoader 0       \u001b[0m\u001b[1m \u001b[0m┃\n",
       "┡━━━━━━━━━━━━━━━━━━━━━━━━━━━╇━━━━━━━━━━━━━━━━━━━━━━━━━━━┩\n",
       "│\u001b[36m \u001b[0m\u001b[36m     test_f1ma_epoch     \u001b[0m\u001b[36m \u001b[0m│\u001b[35m \u001b[0m\u001b[35m   0.1859130561351776    \u001b[0m\u001b[35m \u001b[0m│\n",
       "│\u001b[36m \u001b[0m\u001b[36m     test_ham_epoch      \u001b[0m\u001b[36m \u001b[0m│\u001b[35m \u001b[0m\u001b[35m   0.27663061022758484   \u001b[0m\u001b[35m \u001b[0m│\n",
       "│\u001b[36m \u001b[0m\u001b[36m     test_loss_epoch     \u001b[0m\u001b[36m \u001b[0m│\u001b[35m \u001b[0m\u001b[35m   0.5618765950202942    \u001b[0m\u001b[35m \u001b[0m│\n",
       "└───────────────────────────┴───────────────────────────┘\n"
      ]
     },
     "metadata": {},
     "output_type": "display_data"
    },
    {
     "name": "stdout",
     "output_type": "stream",
     "text": [
      "  loss: 0.5619 | hamming: 0.2766 | f1_macro: 0.1859\n",
      "Fold 8/10\n"
     ]
    },
    {
     "name": "stderr",
     "output_type": "stream",
     "text": [
      "GPU available: True (mps), used: False\n",
      "TPU available: False, using: 0 TPU cores\n",
      "HPU available: False, using: 0 HPUs\n",
      "\n",
      "  | Name       | Type                      | Params | Mode \n",
      "-----------------------------------------------------------------\n",
      "0 | classifier | Sequential                | 562 K  | train\n",
      "1 | loss       | BCEWithLogitsLoss         | 0      | train\n",
      "2 | hamming    | MultilabelHammingDistance | 0      | train\n",
      "3 | f1_macro   | MultilabelF1Score         | 0      | train\n",
      "-----------------------------------------------------------------\n",
      "562 K     Trainable params\n",
      "0         Non-trainable params\n",
      "562 K     Total params\n",
      "2.250     Total estimated model params size (MB)\n",
      "17        Modules in train mode\n",
      "0         Modules in eval mode\n"
     ]
    },
    {
     "name": "stdout",
     "output_type": "stream",
     "text": [
      "Epoch 4: 100%|██████████| 34/34 [00:00<00:00, 146.83it/s, v_num=197, train_loss=0.580, train_ham=0.307, train_f1ma=0.216, val_loss_step=0.576, val_ham_step=0.400, val_f1ma_step=0.0632, val_loss_epoch=0.562, val_ham_epoch=0.292, val_f1ma_epoch=0.179]\n"
     ]
    },
    {
     "name": "stderr",
     "output_type": "stream",
     "text": [
      "Restoring states from the checkpoint path at /Users/benjaminvaca/Documents/USFQ/semestre7/machine_learning/proyecto/lightning_logs/version_197/checkpoints/epoch=1-step=68.ckpt\n",
      "Loaded model weights from the checkpoint at /Users/benjaminvaca/Documents/USFQ/semestre7/machine_learning/proyecto/lightning_logs/version_197/checkpoints/epoch=1-step=68.ckpt\n"
     ]
    },
    {
     "name": "stdout",
     "output_type": "stream",
     "text": [
      "Validation DataLoader 0: 100%|██████████| 34/34 [00:00<00:00, 319.69it/s]"
     ]
    },
    {
     "name": "stderr",
     "output_type": "stream",
     "text": [
      "Restoring states from the checkpoint path at /Users/benjaminvaca/Documents/USFQ/semestre7/machine_learning/proyecto/lightning_logs/version_197/checkpoints/epoch=1-step=68.ckpt\n"
     ]
    },
    {
     "name": "stdout",
     "output_type": "stream",
     "text": [
      "\n"
     ]
    },
    {
     "name": "stderr",
     "output_type": "stream",
     "text": [
      "Loaded model weights from the checkpoint at /Users/benjaminvaca/Documents/USFQ/semestre7/machine_learning/proyecto/lightning_logs/version_197/checkpoints/epoch=1-step=68.ckpt\n"
     ]
    },
    {
     "name": "stdout",
     "output_type": "stream",
     "text": [
      "Validation DataLoader 0: 100%|██████████| 9/9 [00:00<00:00, 352.32it/s]"
     ]
    },
    {
     "name": "stderr",
     "output_type": "stream",
     "text": [
      "Restoring states from the checkpoint path at /Users/benjaminvaca/Documents/USFQ/semestre7/machine_learning/proyecto/lightning_logs/version_197/checkpoints/epoch=1-step=68.ckpt\n"
     ]
    },
    {
     "name": "stdout",
     "output_type": "stream",
     "text": [
      "\n"
     ]
    },
    {
     "name": "stderr",
     "output_type": "stream",
     "text": [
      "Loaded model weights from the checkpoint at /Users/benjaminvaca/Documents/USFQ/semestre7/machine_learning/proyecto/lightning_logs/version_197/checkpoints/epoch=1-step=68.ckpt\n"
     ]
    },
    {
     "name": "stdout",
     "output_type": "stream",
     "text": [
      "Testing DataLoader 0: 100%|██████████| 11/11 [00:00<00:00, 335.29it/s]\n"
     ]
    },
    {
     "data": {
      "text/html": [
       "<pre style=\"white-space:pre;overflow-x:auto;line-height:normal;font-family:Menlo,'DejaVu Sans Mono',consolas,'Courier New',monospace\">┏━━━━━━━━━━━━━━━━━━━━━━━━━━━┳━━━━━━━━━━━━━━━━━━━━━━━━━━━┓\n",
       "┃<span style=\"font-weight: bold\">        Test metric        </span>┃<span style=\"font-weight: bold\">       DataLoader 0        </span>┃\n",
       "┡━━━━━━━━━━━━━━━━━━━━━━━━━━━╇━━━━━━━━━━━━━━━━━━━━━━━━━━━┩\n",
       "│<span style=\"color: #008080; text-decoration-color: #008080\">      test_f1ma_epoch      </span>│<span style=\"color: #800080; text-decoration-color: #800080\">    0.18161194026470184    </span>│\n",
       "│<span style=\"color: #008080; text-decoration-color: #008080\">      test_ham_epoch       </span>│<span style=\"color: #800080; text-decoration-color: #800080\">    0.29072433710098267    </span>│\n",
       "│<span style=\"color: #008080; text-decoration-color: #008080\">      test_loss_epoch      </span>│<span style=\"color: #800080; text-decoration-color: #800080\">    0.5750254988670349     </span>│\n",
       "└───────────────────────────┴───────────────────────────┘\n",
       "</pre>\n"
      ],
      "text/plain": [
       "┏━━━━━━━━━━━━━━━━━━━━━━━━━━━┳━━━━━━━━━━━━━━━━━━━━━━━━━━━┓\n",
       "┃\u001b[1m \u001b[0m\u001b[1m       Test metric       \u001b[0m\u001b[1m \u001b[0m┃\u001b[1m \u001b[0m\u001b[1m      DataLoader 0       \u001b[0m\u001b[1m \u001b[0m┃\n",
       "┡━━━━━━━━━━━━━━━━━━━━━━━━━━━╇━━━━━━━━━━━━━━━━━━━━━━━━━━━┩\n",
       "│\u001b[36m \u001b[0m\u001b[36m     test_f1ma_epoch     \u001b[0m\u001b[36m \u001b[0m│\u001b[35m \u001b[0m\u001b[35m   0.18161194026470184   \u001b[0m\u001b[35m \u001b[0m│\n",
       "│\u001b[36m \u001b[0m\u001b[36m     test_ham_epoch      \u001b[0m\u001b[36m \u001b[0m│\u001b[35m \u001b[0m\u001b[35m   0.29072433710098267   \u001b[0m\u001b[35m \u001b[0m│\n",
       "│\u001b[36m \u001b[0m\u001b[36m     test_loss_epoch     \u001b[0m\u001b[36m \u001b[0m│\u001b[35m \u001b[0m\u001b[35m   0.5750254988670349    \u001b[0m\u001b[35m \u001b[0m│\n",
       "└───────────────────────────┴───────────────────────────┘\n"
      ]
     },
     "metadata": {},
     "output_type": "display_data"
    },
    {
     "name": "stderr",
     "output_type": "stream",
     "text": [
      "GPU available: True (mps), used: False\n",
      "TPU available: False, using: 0 TPU cores\n",
      "HPU available: False, using: 0 HPUs\n"
     ]
    },
    {
     "name": "stdout",
     "output_type": "stream",
     "text": [
      "  loss: 0.5750 | hamming: 0.2907 | f1_macro: 0.1816\n",
      "Fold 9/10\n"
     ]
    },
    {
     "name": "stderr",
     "output_type": "stream",
     "text": [
      "\n",
      "  | Name       | Type                      | Params | Mode \n",
      "-----------------------------------------------------------------\n",
      "0 | classifier | Sequential                | 562 K  | train\n",
      "1 | loss       | BCEWithLogitsLoss         | 0      | train\n",
      "2 | hamming    | MultilabelHammingDistance | 0      | train\n",
      "3 | f1_macro   | MultilabelF1Score         | 0      | train\n",
      "-----------------------------------------------------------------\n",
      "562 K     Trainable params\n",
      "0         Non-trainable params\n",
      "562 K     Total params\n",
      "2.250     Total estimated model params size (MB)\n",
      "17        Modules in train mode\n",
      "0         Modules in eval mode\n"
     ]
    },
    {
     "name": "stdout",
     "output_type": "stream",
     "text": [
      "Epoch 9: 100%|██████████| 34/34 [00:00<00:00, 155.38it/s, v_num=198, train_loss=0.615, train_ham=0.348, train_f1ma=0.204, val_loss_step=0.527, val_ham_step=0.222, val_f1ma_step=0.133, val_loss_epoch=0.547, val_ham_epoch=0.298, val_f1ma_epoch=0.173] "
     ]
    },
    {
     "name": "stderr",
     "output_type": "stream",
     "text": [
      "Restoring states from the checkpoint path at /Users/benjaminvaca/Documents/USFQ/semestre7/machine_learning/proyecto/lightning_logs/version_198/checkpoints/epoch=6-step=238.ckpt\n"
     ]
    },
    {
     "name": "stdout",
     "output_type": "stream",
     "text": [
      "\n"
     ]
    },
    {
     "name": "stderr",
     "output_type": "stream",
     "text": [
      "Loaded model weights from the checkpoint at /Users/benjaminvaca/Documents/USFQ/semestre7/machine_learning/proyecto/lightning_logs/version_198/checkpoints/epoch=6-step=238.ckpt\n"
     ]
    },
    {
     "name": "stdout",
     "output_type": "stream",
     "text": [
      "Validation DataLoader 0: 100%|██████████| 34/34 [00:00<00:00, 401.79it/s]"
     ]
    },
    {
     "name": "stderr",
     "output_type": "stream",
     "text": [
      "Restoring states from the checkpoint path at /Users/benjaminvaca/Documents/USFQ/semestre7/machine_learning/proyecto/lightning_logs/version_198/checkpoints/epoch=6-step=238.ckpt\n"
     ]
    },
    {
     "name": "stdout",
     "output_type": "stream",
     "text": [
      "\n"
     ]
    },
    {
     "name": "stderr",
     "output_type": "stream",
     "text": [
      "Loaded model weights from the checkpoint at /Users/benjaminvaca/Documents/USFQ/semestre7/machine_learning/proyecto/lightning_logs/version_198/checkpoints/epoch=6-step=238.ckpt\n"
     ]
    },
    {
     "name": "stdout",
     "output_type": "stream",
     "text": [
      "Validation DataLoader 0: 100%|██████████| 9/9 [00:00<00:00, 357.37it/s]\n"
     ]
    },
    {
     "name": "stderr",
     "output_type": "stream",
     "text": [
      "Restoring states from the checkpoint path at /Users/benjaminvaca/Documents/USFQ/semestre7/machine_learning/proyecto/lightning_logs/version_198/checkpoints/epoch=6-step=238.ckpt\n",
      "Loaded model weights from the checkpoint at /Users/benjaminvaca/Documents/USFQ/semestre7/machine_learning/proyecto/lightning_logs/version_198/checkpoints/epoch=6-step=238.ckpt\n"
     ]
    },
    {
     "name": "stdout",
     "output_type": "stream",
     "text": [
      "Testing DataLoader 0: 100%|██████████| 11/11 [00:00<00:00, 321.53it/s]\n"
     ]
    },
    {
     "data": {
      "text/html": [
       "<pre style=\"white-space:pre;overflow-x:auto;line-height:normal;font-family:Menlo,'DejaVu Sans Mono',consolas,'Courier New',monospace\">┏━━━━━━━━━━━━━━━━━━━━━━━━━━━┳━━━━━━━━━━━━━━━━━━━━━━━━━━━┓\n",
       "┃<span style=\"font-weight: bold\">        Test metric        </span>┃<span style=\"font-weight: bold\">       DataLoader 0        </span>┃\n",
       "┡━━━━━━━━━━━━━━━━━━━━━━━━━━━╇━━━━━━━━━━━━━━━━━━━━━━━━━━━┩\n",
       "│<span style=\"color: #008080; text-decoration-color: #008080\">      test_f1ma_epoch      </span>│<span style=\"color: #800080; text-decoration-color: #800080\">    0.18183133006095886    </span>│\n",
       "│<span style=\"color: #008080; text-decoration-color: #008080\">      test_ham_epoch       </span>│<span style=\"color: #800080; text-decoration-color: #800080\">    0.2782694101333618     </span>│\n",
       "│<span style=\"color: #008080; text-decoration-color: #008080\">      test_loss_epoch      </span>│<span style=\"color: #800080; text-decoration-color: #800080\">    0.5503256916999817     </span>│\n",
       "└───────────────────────────┴───────────────────────────┘\n",
       "</pre>\n"
      ],
      "text/plain": [
       "┏━━━━━━━━━━━━━━━━━━━━━━━━━━━┳━━━━━━━━━━━━━━━━━━━━━━━━━━━┓\n",
       "┃\u001b[1m \u001b[0m\u001b[1m       Test metric       \u001b[0m\u001b[1m \u001b[0m┃\u001b[1m \u001b[0m\u001b[1m      DataLoader 0       \u001b[0m\u001b[1m \u001b[0m┃\n",
       "┡━━━━━━━━━━━━━━━━━━━━━━━━━━━╇━━━━━━━━━━━━━━━━━━━━━━━━━━━┩\n",
       "│\u001b[36m \u001b[0m\u001b[36m     test_f1ma_epoch     \u001b[0m\u001b[36m \u001b[0m│\u001b[35m \u001b[0m\u001b[35m   0.18183133006095886   \u001b[0m\u001b[35m \u001b[0m│\n",
       "│\u001b[36m \u001b[0m\u001b[36m     test_ham_epoch      \u001b[0m\u001b[36m \u001b[0m│\u001b[35m \u001b[0m\u001b[35m   0.2782694101333618    \u001b[0m\u001b[35m \u001b[0m│\n",
       "│\u001b[36m \u001b[0m\u001b[36m     test_loss_epoch     \u001b[0m\u001b[36m \u001b[0m│\u001b[35m \u001b[0m\u001b[35m   0.5503256916999817    \u001b[0m\u001b[35m \u001b[0m│\n",
       "└───────────────────────────┴───────────────────────────┘\n"
      ]
     },
     "metadata": {},
     "output_type": "display_data"
    },
    {
     "name": "stdout",
     "output_type": "stream",
     "text": [
      "  loss: 0.5503 | hamming: 0.2783 | f1_macro: 0.1818\n",
      "Fold 10/10\n"
     ]
    },
    {
     "name": "stderr",
     "output_type": "stream",
     "text": [
      "GPU available: True (mps), used: False\n",
      "TPU available: False, using: 0 TPU cores\n",
      "HPU available: False, using: 0 HPUs\n",
      "\n",
      "  | Name       | Type                      | Params | Mode \n",
      "-----------------------------------------------------------------\n",
      "0 | classifier | Sequential                | 562 K  | train\n",
      "1 | loss       | BCEWithLogitsLoss         | 0      | train\n",
      "2 | hamming    | MultilabelHammingDistance | 0      | train\n",
      "3 | f1_macro   | MultilabelF1Score         | 0      | train\n",
      "-----------------------------------------------------------------\n",
      "562 K     Trainable params\n",
      "0         Non-trainable params\n",
      "562 K     Total params\n",
      "2.250     Total estimated model params size (MB)\n",
      "17        Modules in train mode\n",
      "0         Modules in eval mode\n"
     ]
    },
    {
     "name": "stdout",
     "output_type": "stream",
     "text": [
      "Epoch 3: 100%|██████████| 34/34 [00:00<00:00, 145.66it/s, v_num=199, train_loss=0.580, train_ham=0.341, train_f1ma=0.248, val_loss_step=0.597, val_ham_step=0.289, val_f1ma_step=0.113, val_loss_epoch=0.574, val_ham_epoch=0.319, val_f1ma_epoch=0.162] \n"
     ]
    },
    {
     "name": "stderr",
     "output_type": "stream",
     "text": [
      "Restoring states from the checkpoint path at /Users/benjaminvaca/Documents/USFQ/semestre7/machine_learning/proyecto/lightning_logs/version_199/checkpoints/epoch=0-step=34.ckpt\n",
      "Loaded model weights from the checkpoint at /Users/benjaminvaca/Documents/USFQ/semestre7/machine_learning/proyecto/lightning_logs/version_199/checkpoints/epoch=0-step=34.ckpt\n"
     ]
    },
    {
     "name": "stdout",
     "output_type": "stream",
     "text": [
      "Validation DataLoader 0: 100%|██████████| 34/34 [00:00<00:00, 370.06it/s]"
     ]
    },
    {
     "name": "stderr",
     "output_type": "stream",
     "text": [
      "Restoring states from the checkpoint path at /Users/benjaminvaca/Documents/USFQ/semestre7/machine_learning/proyecto/lightning_logs/version_199/checkpoints/epoch=0-step=34.ckpt\n"
     ]
    },
    {
     "name": "stdout",
     "output_type": "stream",
     "text": [
      "\n"
     ]
    },
    {
     "name": "stderr",
     "output_type": "stream",
     "text": [
      "Loaded model weights from the checkpoint at /Users/benjaminvaca/Documents/USFQ/semestre7/machine_learning/proyecto/lightning_logs/version_199/checkpoints/epoch=0-step=34.ckpt\n"
     ]
    },
    {
     "name": "stdout",
     "output_type": "stream",
     "text": [
      "Validation DataLoader 0: 100%|██████████| 9/9 [00:00<00:00, 355.08it/s]"
     ]
    },
    {
     "name": "stderr",
     "output_type": "stream",
     "text": [
      "Restoring states from the checkpoint path at /Users/benjaminvaca/Documents/USFQ/semestre7/machine_learning/proyecto/lightning_logs/version_199/checkpoints/epoch=0-step=34.ckpt\n"
     ]
    },
    {
     "name": "stdout",
     "output_type": "stream",
     "text": [
      "\n"
     ]
    },
    {
     "name": "stderr",
     "output_type": "stream",
     "text": [
      "Loaded model weights from the checkpoint at /Users/benjaminvaca/Documents/USFQ/semestre7/machine_learning/proyecto/lightning_logs/version_199/checkpoints/epoch=0-step=34.ckpt\n"
     ]
    },
    {
     "name": "stdout",
     "output_type": "stream",
     "text": [
      "Testing DataLoader 0: 100%|██████████| 11/11 [00:00<00:00, 216.04it/s]\n"
     ]
    },
    {
     "data": {
      "text/html": [
       "<pre style=\"white-space:pre;overflow-x:auto;line-height:normal;font-family:Menlo,'DejaVu Sans Mono',consolas,'Courier New',monospace\">┏━━━━━━━━━━━━━━━━━━━━━━━━━━━┳━━━━━━━━━━━━━━━━━━━━━━━━━━━┓\n",
       "┃<span style=\"font-weight: bold\">        Test metric        </span>┃<span style=\"font-weight: bold\">       DataLoader 0        </span>┃\n",
       "┡━━━━━━━━━━━━━━━━━━━━━━━━━━━╇━━━━━━━━━━━━━━━━━━━━━━━━━━━┩\n",
       "│<span style=\"color: #008080; text-decoration-color: #008080\">      test_f1ma_epoch      </span>│<span style=\"color: #800080; text-decoration-color: #800080\">    0.21433204412460327    </span>│\n",
       "│<span style=\"color: #008080; text-decoration-color: #008080\">      test_ham_epoch       </span>│<span style=\"color: #800080; text-decoration-color: #800080\">    0.30875125527381897    </span>│\n",
       "│<span style=\"color: #008080; text-decoration-color: #008080\">      test_loss_epoch      </span>│<span style=\"color: #800080; text-decoration-color: #800080\">    0.5936649441719055     </span>│\n",
       "└───────────────────────────┴───────────────────────────┘\n",
       "</pre>\n"
      ],
      "text/plain": [
       "┏━━━━━━━━━━━━━━━━━━━━━━━━━━━┳━━━━━━━━━━━━━━━━━━━━━━━━━━━┓\n",
       "┃\u001b[1m \u001b[0m\u001b[1m       Test metric       \u001b[0m\u001b[1m \u001b[0m┃\u001b[1m \u001b[0m\u001b[1m      DataLoader 0       \u001b[0m\u001b[1m \u001b[0m┃\n",
       "┡━━━━━━━━━━━━━━━━━━━━━━━━━━━╇━━━━━━━━━━━━━━━━━━━━━━━━━━━┩\n",
       "│\u001b[36m \u001b[0m\u001b[36m     test_f1ma_epoch     \u001b[0m\u001b[36m \u001b[0m│\u001b[35m \u001b[0m\u001b[35m   0.21433204412460327   \u001b[0m\u001b[35m \u001b[0m│\n",
       "│\u001b[36m \u001b[0m\u001b[36m     test_ham_epoch      \u001b[0m\u001b[36m \u001b[0m│\u001b[35m \u001b[0m\u001b[35m   0.30875125527381897   \u001b[0m\u001b[35m \u001b[0m│\n",
       "│\u001b[36m \u001b[0m\u001b[36m     test_loss_epoch     \u001b[0m\u001b[36m \u001b[0m│\u001b[35m \u001b[0m\u001b[35m   0.5936649441719055    \u001b[0m\u001b[35m \u001b[0m│\n",
       "└───────────────────────────┴───────────────────────────┘\n"
      ]
     },
     "metadata": {},
     "output_type": "display_data"
    },
    {
     "name": "stdout",
     "output_type": "stream",
     "text": [
      "  loss: 0.5937 | hamming: 0.3088 | f1_macro: 0.2143\n",
      "\n",
      "F1-macro promedio: 0.1870 ± 0.0172\n",
      "Hamming promedio: 0.2985 ± 0.0157\n",
      "Pérdida promedio:         0.5819 ± 0.0201\n",
      "HU=[512, 256, 128]  L2=0.001 → val_f1ma: 0.1870\n",
      "Fold 1/10\n"
     ]
    },
    {
     "name": "stderr",
     "output_type": "stream",
     "text": [
      "GPU available: True (mps), used: False\n",
      "TPU available: False, using: 0 TPU cores\n",
      "HPU available: False, using: 0 HPUs\n",
      "\n",
      "  | Name       | Type                      | Params | Mode \n",
      "-----------------------------------------------------------------\n",
      "0 | classifier | Sequential                | 562 K  | train\n",
      "1 | loss       | BCEWithLogitsLoss         | 0      | train\n",
      "2 | hamming    | MultilabelHammingDistance | 0      | train\n",
      "3 | f1_macro   | MultilabelF1Score         | 0      | train\n",
      "-----------------------------------------------------------------\n",
      "562 K     Trainable params\n",
      "0         Non-trainable params\n",
      "562 K     Total params\n",
      "2.250     Total estimated model params size (MB)\n",
      "17        Modules in train mode\n",
      "0         Modules in eval mode\n"
     ]
    },
    {
     "name": "stdout",
     "output_type": "stream",
     "text": [
      "Epoch 5: 100%|██████████| 34/34 [00:00<00:00, 157.10it/s, v_num=200, train_loss=0.524, train_ham=0.264, train_f1ma=0.368, val_loss_step=0.539, val_ham_step=0.368, val_f1ma_step=0.0795, val_loss_epoch=0.549, val_ham_epoch=0.283, val_f1ma_epoch=0.173]"
     ]
    },
    {
     "name": "stderr",
     "output_type": "stream",
     "text": [
      "Restoring states from the checkpoint path at /Users/benjaminvaca/Documents/USFQ/semestre7/machine_learning/proyecto/lightning_logs/version_200/checkpoints/epoch=2-step=102.ckpt\n"
     ]
    },
    {
     "name": "stdout",
     "output_type": "stream",
     "text": [
      "\n"
     ]
    },
    {
     "name": "stderr",
     "output_type": "stream",
     "text": [
      "Loaded model weights from the checkpoint at /Users/benjaminvaca/Documents/USFQ/semestre7/machine_learning/proyecto/lightning_logs/version_200/checkpoints/epoch=2-step=102.ckpt\n"
     ]
    },
    {
     "name": "stdout",
     "output_type": "stream",
     "text": [
      "Validation DataLoader 0: 100%|██████████| 34/34 [00:00<00:00, 401.78it/s]"
     ]
    },
    {
     "name": "stderr",
     "output_type": "stream",
     "text": [
      "Restoring states from the checkpoint path at /Users/benjaminvaca/Documents/USFQ/semestre7/machine_learning/proyecto/lightning_logs/version_200/checkpoints/epoch=2-step=102.ckpt\n"
     ]
    },
    {
     "name": "stdout",
     "output_type": "stream",
     "text": [
      "\n"
     ]
    },
    {
     "name": "stderr",
     "output_type": "stream",
     "text": [
      "Loaded model weights from the checkpoint at /Users/benjaminvaca/Documents/USFQ/semestre7/machine_learning/proyecto/lightning_logs/version_200/checkpoints/epoch=2-step=102.ckpt\n"
     ]
    },
    {
     "name": "stdout",
     "output_type": "stream",
     "text": [
      "Validation DataLoader 0: 100%|██████████| 9/9 [00:00<00:00, 372.10it/s]"
     ]
    },
    {
     "name": "stderr",
     "output_type": "stream",
     "text": [
      "Restoring states from the checkpoint path at /Users/benjaminvaca/Documents/USFQ/semestre7/machine_learning/proyecto/lightning_logs/version_200/checkpoints/epoch=2-step=102.ckpt\n"
     ]
    },
    {
     "name": "stdout",
     "output_type": "stream",
     "text": [
      "\n"
     ]
    },
    {
     "name": "stderr",
     "output_type": "stream",
     "text": [
      "Loaded model weights from the checkpoint at /Users/benjaminvaca/Documents/USFQ/semestre7/machine_learning/proyecto/lightning_logs/version_200/checkpoints/epoch=2-step=102.ckpt\n"
     ]
    },
    {
     "name": "stdout",
     "output_type": "stream",
     "text": [
      "Testing DataLoader 0: 100%|██████████| 11/11 [00:00<00:00, 387.55it/s]\n"
     ]
    },
    {
     "data": {
      "text/html": [
       "<pre style=\"white-space:pre;overflow-x:auto;line-height:normal;font-family:Menlo,'DejaVu Sans Mono',consolas,'Courier New',monospace\">┏━━━━━━━━━━━━━━━━━━━━━━━━━━━┳━━━━━━━━━━━━━━━━━━━━━━━━━━━┓\n",
       "┃<span style=\"font-weight: bold\">        Test metric        </span>┃<span style=\"font-weight: bold\">       DataLoader 0        </span>┃\n",
       "┡━━━━━━━━━━━━━━━━━━━━━━━━━━━╇━━━━━━━━━━━━━━━━━━━━━━━━━━━┩\n",
       "│<span style=\"color: #008080; text-decoration-color: #008080\">      test_f1ma_epoch      </span>│<span style=\"color: #800080; text-decoration-color: #800080\">    0.16606543958187103    </span>│\n",
       "│<span style=\"color: #008080; text-decoration-color: #008080\">      test_ham_epoch       </span>│<span style=\"color: #800080; text-decoration-color: #800080\">    0.28810223937034607    </span>│\n",
       "│<span style=\"color: #008080; text-decoration-color: #008080\">      test_loss_epoch      </span>│<span style=\"color: #800080; text-decoration-color: #800080\">    0.5663334727287292     </span>│\n",
       "└───────────────────────────┴───────────────────────────┘\n",
       "</pre>\n"
      ],
      "text/plain": [
       "┏━━━━━━━━━━━━━━━━━━━━━━━━━━━┳━━━━━━━━━━━━━━━━━━━━━━━━━━━┓\n",
       "┃\u001b[1m \u001b[0m\u001b[1m       Test metric       \u001b[0m\u001b[1m \u001b[0m┃\u001b[1m \u001b[0m\u001b[1m      DataLoader 0       \u001b[0m\u001b[1m \u001b[0m┃\n",
       "┡━━━━━━━━━━━━━━━━━━━━━━━━━━━╇━━━━━━━━━━━━━━━━━━━━━━━━━━━┩\n",
       "│\u001b[36m \u001b[0m\u001b[36m     test_f1ma_epoch     \u001b[0m\u001b[36m \u001b[0m│\u001b[35m \u001b[0m\u001b[35m   0.16606543958187103   \u001b[0m\u001b[35m \u001b[0m│\n",
       "│\u001b[36m \u001b[0m\u001b[36m     test_ham_epoch      \u001b[0m\u001b[36m \u001b[0m│\u001b[35m \u001b[0m\u001b[35m   0.28810223937034607   \u001b[0m\u001b[35m \u001b[0m│\n",
       "│\u001b[36m \u001b[0m\u001b[36m     test_loss_epoch     \u001b[0m\u001b[36m \u001b[0m│\u001b[35m \u001b[0m\u001b[35m   0.5663334727287292    \u001b[0m\u001b[35m \u001b[0m│\n",
       "└───────────────────────────┴───────────────────────────┘\n"
      ]
     },
     "metadata": {},
     "output_type": "display_data"
    },
    {
     "name": "stdout",
     "output_type": "stream",
     "text": [
      "  loss: 0.5663 | hamming: 0.2881 | f1_macro: 0.1661\n",
      "Fold 2/10\n"
     ]
    },
    {
     "name": "stderr",
     "output_type": "stream",
     "text": [
      "GPU available: True (mps), used: False\n",
      "TPU available: False, using: 0 TPU cores\n",
      "HPU available: False, using: 0 HPUs\n",
      "\n",
      "  | Name       | Type                      | Params | Mode \n",
      "-----------------------------------------------------------------\n",
      "0 | classifier | Sequential                | 562 K  | train\n",
      "1 | loss       | BCEWithLogitsLoss         | 0      | train\n",
      "2 | hamming    | MultilabelHammingDistance | 0      | train\n",
      "3 | f1_macro   | MultilabelF1Score         | 0      | train\n",
      "-----------------------------------------------------------------\n",
      "562 K     Trainable params\n",
      "0         Non-trainable params\n",
      "562 K     Total params\n",
      "2.250     Total estimated model params size (MB)\n",
      "17        Modules in train mode\n",
      "0         Modules in eval mode\n"
     ]
    },
    {
     "name": "stdout",
     "output_type": "stream",
     "text": [
      "Epoch 4: 100%|██████████| 34/34 [00:00<00:00, 150.71it/s, v_num=201, train_loss=0.573, train_ham=0.291, train_f1ma=0.288, val_loss_step=0.566, val_ham_step=0.361, val_f1ma_step=0.107, val_loss_epoch=0.559, val_ham_epoch=0.296, val_f1ma_epoch=0.183] "
     ]
    },
    {
     "name": "stderr",
     "output_type": "stream",
     "text": [
      "Restoring states from the checkpoint path at /Users/benjaminvaca/Documents/USFQ/semestre7/machine_learning/proyecto/lightning_logs/version_201/checkpoints/epoch=1-step=68.ckpt\n"
     ]
    },
    {
     "name": "stdout",
     "output_type": "stream",
     "text": [
      "\n"
     ]
    },
    {
     "name": "stderr",
     "output_type": "stream",
     "text": [
      "Loaded model weights from the checkpoint at /Users/benjaminvaca/Documents/USFQ/semestre7/machine_learning/proyecto/lightning_logs/version_201/checkpoints/epoch=1-step=68.ckpt\n"
     ]
    },
    {
     "name": "stdout",
     "output_type": "stream",
     "text": [
      "Validation DataLoader 0: 100%|██████████| 34/34 [00:00<00:00, 419.86it/s]\n"
     ]
    },
    {
     "name": "stderr",
     "output_type": "stream",
     "text": [
      "Restoring states from the checkpoint path at /Users/benjaminvaca/Documents/USFQ/semestre7/machine_learning/proyecto/lightning_logs/version_201/checkpoints/epoch=1-step=68.ckpt\n",
      "Loaded model weights from the checkpoint at /Users/benjaminvaca/Documents/USFQ/semestre7/machine_learning/proyecto/lightning_logs/version_201/checkpoints/epoch=1-step=68.ckpt\n"
     ]
    },
    {
     "name": "stdout",
     "output_type": "stream",
     "text": [
      "Validation DataLoader 0: 100%|██████████| 9/9 [00:00<00:00, 357.95it/s]"
     ]
    },
    {
     "name": "stderr",
     "output_type": "stream",
     "text": [
      "Restoring states from the checkpoint path at /Users/benjaminvaca/Documents/USFQ/semestre7/machine_learning/proyecto/lightning_logs/version_201/checkpoints/epoch=1-step=68.ckpt\n"
     ]
    },
    {
     "name": "stdout",
     "output_type": "stream",
     "text": [
      "\n"
     ]
    },
    {
     "name": "stderr",
     "output_type": "stream",
     "text": [
      "Loaded model weights from the checkpoint at /Users/benjaminvaca/Documents/USFQ/semestre7/machine_learning/proyecto/lightning_logs/version_201/checkpoints/epoch=1-step=68.ckpt\n"
     ]
    },
    {
     "name": "stdout",
     "output_type": "stream",
     "text": [
      "Testing DataLoader 0: 100%|██████████| 11/11 [00:00<00:00, 226.70it/s]\n"
     ]
    },
    {
     "data": {
      "text/html": [
       "<pre style=\"white-space:pre;overflow-x:auto;line-height:normal;font-family:Menlo,'DejaVu Sans Mono',consolas,'Courier New',monospace\">┏━━━━━━━━━━━━━━━━━━━━━━━━━━━┳━━━━━━━━━━━━━━━━━━━━━━━━━━━┓\n",
       "┃<span style=\"font-weight: bold\">        Test metric        </span>┃<span style=\"font-weight: bold\">       DataLoader 0        </span>┃\n",
       "┡━━━━━━━━━━━━━━━━━━━━━━━━━━━╇━━━━━━━━━━━━━━━━━━━━━━━━━━━┩\n",
       "│<span style=\"color: #008080; text-decoration-color: #008080\">      test_f1ma_epoch      </span>│<span style=\"color: #800080; text-decoration-color: #800080\">     0.21574667096138      </span>│\n",
       "│<span style=\"color: #008080; text-decoration-color: #008080\">      test_ham_epoch       </span>│<span style=\"color: #800080; text-decoration-color: #800080\">    0.2943297326564789     </span>│\n",
       "│<span style=\"color: #008080; text-decoration-color: #008080\">      test_loss_epoch      </span>│<span style=\"color: #800080; text-decoration-color: #800080\">    0.5740004181861877     </span>│\n",
       "└───────────────────────────┴───────────────────────────┘\n",
       "</pre>\n"
      ],
      "text/plain": [
       "┏━━━━━━━━━━━━━━━━━━━━━━━━━━━┳━━━━━━━━━━━━━━━━━━━━━━━━━━━┓\n",
       "┃\u001b[1m \u001b[0m\u001b[1m       Test metric       \u001b[0m\u001b[1m \u001b[0m┃\u001b[1m \u001b[0m\u001b[1m      DataLoader 0       \u001b[0m\u001b[1m \u001b[0m┃\n",
       "┡━━━━━━━━━━━━━━━━━━━━━━━━━━━╇━━━━━━━━━━━━━━━━━━━━━━━━━━━┩\n",
       "│\u001b[36m \u001b[0m\u001b[36m     test_f1ma_epoch     \u001b[0m\u001b[36m \u001b[0m│\u001b[35m \u001b[0m\u001b[35m    0.21574667096138     \u001b[0m\u001b[35m \u001b[0m│\n",
       "│\u001b[36m \u001b[0m\u001b[36m     test_ham_epoch      \u001b[0m\u001b[36m \u001b[0m│\u001b[35m \u001b[0m\u001b[35m   0.2943297326564789    \u001b[0m\u001b[35m \u001b[0m│\n",
       "│\u001b[36m \u001b[0m\u001b[36m     test_loss_epoch     \u001b[0m\u001b[36m \u001b[0m│\u001b[35m \u001b[0m\u001b[35m   0.5740004181861877    \u001b[0m\u001b[35m \u001b[0m│\n",
       "└───────────────────────────┴───────────────────────────┘\n"
      ]
     },
     "metadata": {},
     "output_type": "display_data"
    },
    {
     "name": "stdout",
     "output_type": "stream",
     "text": [
      "  loss: 0.5740 | hamming: 0.2943 | f1_macro: 0.2157\n",
      "Fold 3/10\n"
     ]
    },
    {
     "name": "stderr",
     "output_type": "stream",
     "text": [
      "GPU available: True (mps), used: False\n",
      "TPU available: False, using: 0 TPU cores\n",
      "HPU available: False, using: 0 HPUs\n",
      "\n",
      "  | Name       | Type                      | Params | Mode \n",
      "-----------------------------------------------------------------\n",
      "0 | classifier | Sequential                | 562 K  | train\n",
      "1 | loss       | BCEWithLogitsLoss         | 0      | train\n",
      "2 | hamming    | MultilabelHammingDistance | 0      | train\n",
      "3 | f1_macro   | MultilabelF1Score         | 0      | train\n",
      "-----------------------------------------------------------------\n",
      "562 K     Trainable params\n",
      "0         Non-trainable params\n",
      "562 K     Total params\n",
      "2.250     Total estimated model params size (MB)\n",
      "17        Modules in train mode\n",
      "0         Modules in eval mode\n"
     ]
    },
    {
     "name": "stdout",
     "output_type": "stream",
     "text": [
      "Epoch 5: 100%|██████████| 34/34 [00:00<00:00, 164.89it/s, v_num=202, train_loss=0.544, train_ham=0.274, train_f1ma=0.326, val_loss_step=0.512, val_ham_step=0.215, val_f1ma_step=0.137, val_loss_epoch=0.559, val_ham_epoch=0.318, val_f1ma_epoch=0.173] "
     ]
    },
    {
     "name": "stderr",
     "output_type": "stream",
     "text": [
      "Restoring states from the checkpoint path at /Users/benjaminvaca/Documents/USFQ/semestre7/machine_learning/proyecto/lightning_logs/version_202/checkpoints/epoch=2-step=102.ckpt\n"
     ]
    },
    {
     "name": "stdout",
     "output_type": "stream",
     "text": [
      "\n"
     ]
    },
    {
     "name": "stderr",
     "output_type": "stream",
     "text": [
      "Loaded model weights from the checkpoint at /Users/benjaminvaca/Documents/USFQ/semestre7/machine_learning/proyecto/lightning_logs/version_202/checkpoints/epoch=2-step=102.ckpt\n"
     ]
    },
    {
     "name": "stdout",
     "output_type": "stream",
     "text": [
      "Validation DataLoader 0: 100%|██████████| 34/34 [00:00<00:00, 412.47it/s]"
     ]
    },
    {
     "name": "stderr",
     "output_type": "stream",
     "text": [
      "Restoring states from the checkpoint path at /Users/benjaminvaca/Documents/USFQ/semestre7/machine_learning/proyecto/lightning_logs/version_202/checkpoints/epoch=2-step=102.ckpt\n"
     ]
    },
    {
     "name": "stdout",
     "output_type": "stream",
     "text": [
      "\n"
     ]
    },
    {
     "name": "stderr",
     "output_type": "stream",
     "text": [
      "Loaded model weights from the checkpoint at /Users/benjaminvaca/Documents/USFQ/semestre7/machine_learning/proyecto/lightning_logs/version_202/checkpoints/epoch=2-step=102.ckpt\n"
     ]
    },
    {
     "name": "stdout",
     "output_type": "stream",
     "text": [
      "Validation DataLoader 0: 100%|██████████| 9/9 [00:00<00:00, 418.90it/s]"
     ]
    },
    {
     "name": "stderr",
     "output_type": "stream",
     "text": [
      "Restoring states from the checkpoint path at /Users/benjaminvaca/Documents/USFQ/semestre7/machine_learning/proyecto/lightning_logs/version_202/checkpoints/epoch=2-step=102.ckpt\n"
     ]
    },
    {
     "name": "stdout",
     "output_type": "stream",
     "text": [
      "\n"
     ]
    },
    {
     "name": "stderr",
     "output_type": "stream",
     "text": [
      "Loaded model weights from the checkpoint at /Users/benjaminvaca/Documents/USFQ/semestre7/machine_learning/proyecto/lightning_logs/version_202/checkpoints/epoch=2-step=102.ckpt\n"
     ]
    },
    {
     "name": "stdout",
     "output_type": "stream",
     "text": [
      "Testing DataLoader 0: 100%|██████████| 11/11 [00:00<00:00, 378.80it/s]\n"
     ]
    },
    {
     "data": {
      "text/html": [
       "<pre style=\"white-space:pre;overflow-x:auto;line-height:normal;font-family:Menlo,'DejaVu Sans Mono',consolas,'Courier New',monospace\">┏━━━━━━━━━━━━━━━━━━━━━━━━━━━┳━━━━━━━━━━━━━━━━━━━━━━━━━━━┓\n",
       "┃<span style=\"font-weight: bold\">        Test metric        </span>┃<span style=\"font-weight: bold\">       DataLoader 0        </span>┃\n",
       "┡━━━━━━━━━━━━━━━━━━━━━━━━━━━╇━━━━━━━━━━━━━━━━━━━━━━━━━━━┩\n",
       "│<span style=\"color: #008080; text-decoration-color: #008080\">      test_f1ma_epoch      </span>│<span style=\"color: #800080; text-decoration-color: #800080\">    0.21816514432430267    </span>│\n",
       "│<span style=\"color: #008080; text-decoration-color: #008080\">      test_ham_epoch       </span>│<span style=\"color: #800080; text-decoration-color: #800080\">    0.29236313700675964    </span>│\n",
       "│<span style=\"color: #008080; text-decoration-color: #008080\">      test_loss_epoch      </span>│<span style=\"color: #800080; text-decoration-color: #800080\">    0.5671453475952148     </span>│\n",
       "└───────────────────────────┴───────────────────────────┘\n",
       "</pre>\n"
      ],
      "text/plain": [
       "┏━━━━━━━━━━━━━━━━━━━━━━━━━━━┳━━━━━━━━━━━━━━━━━━━━━━━━━━━┓\n",
       "┃\u001b[1m \u001b[0m\u001b[1m       Test metric       \u001b[0m\u001b[1m \u001b[0m┃\u001b[1m \u001b[0m\u001b[1m      DataLoader 0       \u001b[0m\u001b[1m \u001b[0m┃\n",
       "┡━━━━━━━━━━━━━━━━━━━━━━━━━━━╇━━━━━━━━━━━━━━━━━━━━━━━━━━━┩\n",
       "│\u001b[36m \u001b[0m\u001b[36m     test_f1ma_epoch     \u001b[0m\u001b[36m \u001b[0m│\u001b[35m \u001b[0m\u001b[35m   0.21816514432430267   \u001b[0m\u001b[35m \u001b[0m│\n",
       "│\u001b[36m \u001b[0m\u001b[36m     test_ham_epoch      \u001b[0m\u001b[36m \u001b[0m│\u001b[35m \u001b[0m\u001b[35m   0.29236313700675964   \u001b[0m\u001b[35m \u001b[0m│\n",
       "│\u001b[36m \u001b[0m\u001b[36m     test_loss_epoch     \u001b[0m\u001b[36m \u001b[0m│\u001b[35m \u001b[0m\u001b[35m   0.5671453475952148    \u001b[0m\u001b[35m \u001b[0m│\n",
       "└───────────────────────────┴───────────────────────────┘\n"
      ]
     },
     "metadata": {},
     "output_type": "display_data"
    },
    {
     "name": "stdout",
     "output_type": "stream",
     "text": [
      "  loss: 0.5671 | hamming: 0.2924 | f1_macro: 0.2182\n",
      "Fold 4/10\n"
     ]
    },
    {
     "name": "stderr",
     "output_type": "stream",
     "text": [
      "GPU available: True (mps), used: False\n",
      "TPU available: False, using: 0 TPU cores\n",
      "HPU available: False, using: 0 HPUs\n",
      "\n",
      "  | Name       | Type                      | Params | Mode \n",
      "-----------------------------------------------------------------\n",
      "0 | classifier | Sequential                | 562 K  | train\n",
      "1 | loss       | BCEWithLogitsLoss         | 0      | train\n",
      "2 | hamming    | MultilabelHammingDistance | 0      | train\n",
      "3 | f1_macro   | MultilabelF1Score         | 0      | train\n",
      "-----------------------------------------------------------------\n",
      "562 K     Trainable params\n",
      "0         Non-trainable params\n",
      "562 K     Total params\n",
      "2.250     Total estimated model params size (MB)\n",
      "17        Modules in train mode\n",
      "0         Modules in eval mode\n"
     ]
    },
    {
     "name": "stdout",
     "output_type": "stream",
     "text": [
      "Epoch 7: 100%|██████████| 34/34 [00:00<00:00, 146.49it/s, v_num=203, train_loss=0.545, train_ham=0.263, train_f1ma=0.394, val_loss_step=0.566, val_ham_step=0.333, val_f1ma_step=0.114, val_loss_epoch=0.554, val_ham_epoch=0.291, val_f1ma_epoch=0.190] \n"
     ]
    },
    {
     "name": "stderr",
     "output_type": "stream",
     "text": [
      "Restoring states from the checkpoint path at /Users/benjaminvaca/Documents/USFQ/semestre7/machine_learning/proyecto/lightning_logs/version_203/checkpoints/epoch=4-step=170.ckpt\n",
      "Loaded model weights from the checkpoint at /Users/benjaminvaca/Documents/USFQ/semestre7/machine_learning/proyecto/lightning_logs/version_203/checkpoints/epoch=4-step=170.ckpt\n"
     ]
    },
    {
     "name": "stdout",
     "output_type": "stream",
     "text": [
      "Validation DataLoader 0: 100%|██████████| 34/34 [00:00<00:00, 404.80it/s]\n"
     ]
    },
    {
     "name": "stderr",
     "output_type": "stream",
     "text": [
      "Restoring states from the checkpoint path at /Users/benjaminvaca/Documents/USFQ/semestre7/machine_learning/proyecto/lightning_logs/version_203/checkpoints/epoch=4-step=170.ckpt\n",
      "Loaded model weights from the checkpoint at /Users/benjaminvaca/Documents/USFQ/semestre7/machine_learning/proyecto/lightning_logs/version_203/checkpoints/epoch=4-step=170.ckpt\n"
     ]
    },
    {
     "name": "stdout",
     "output_type": "stream",
     "text": [
      "Validation DataLoader 0: 100%|██████████| 9/9 [00:00<00:00, 206.96it/s]"
     ]
    },
    {
     "name": "stderr",
     "output_type": "stream",
     "text": [
      "Restoring states from the checkpoint path at /Users/benjaminvaca/Documents/USFQ/semestre7/machine_learning/proyecto/lightning_logs/version_203/checkpoints/epoch=4-step=170.ckpt\n"
     ]
    },
    {
     "name": "stdout",
     "output_type": "stream",
     "text": [
      "\n"
     ]
    },
    {
     "name": "stderr",
     "output_type": "stream",
     "text": [
      "Loaded model weights from the checkpoint at /Users/benjaminvaca/Documents/USFQ/semestre7/machine_learning/proyecto/lightning_logs/version_203/checkpoints/epoch=4-step=170.ckpt\n"
     ]
    },
    {
     "name": "stdout",
     "output_type": "stream",
     "text": [
      "Testing DataLoader 0: 100%|██████████| 11/11 [00:00<00:00, 348.39it/s]\n"
     ]
    },
    {
     "data": {
      "text/html": [
       "<pre style=\"white-space:pre;overflow-x:auto;line-height:normal;font-family:Menlo,'DejaVu Sans Mono',consolas,'Courier New',monospace\">┏━━━━━━━━━━━━━━━━━━━━━━━━━━━┳━━━━━━━━━━━━━━━━━━━━━━━━━━━┓\n",
       "┃<span style=\"font-weight: bold\">        Test metric        </span>┃<span style=\"font-weight: bold\">       DataLoader 0        </span>┃\n",
       "┡━━━━━━━━━━━━━━━━━━━━━━━━━━━╇━━━━━━━━━━━━━━━━━━━━━━━━━━━┩\n",
       "│<span style=\"color: #008080; text-decoration-color: #008080\">      test_f1ma_epoch      </span>│<span style=\"color: #800080; text-decoration-color: #800080\">    0.19500243663787842    </span>│\n",
       "│<span style=\"color: #008080; text-decoration-color: #008080\">      test_ham_epoch       </span>│<span style=\"color: #800080; text-decoration-color: #800080\">    0.2769583761692047     </span>│\n",
       "│<span style=\"color: #008080; text-decoration-color: #008080\">      test_loss_epoch      </span>│<span style=\"color: #800080; text-decoration-color: #800080\">    0.5520471334457397     </span>│\n",
       "└───────────────────────────┴───────────────────────────┘\n",
       "</pre>\n"
      ],
      "text/plain": [
       "┏━━━━━━━━━━━━━━━━━━━━━━━━━━━┳━━━━━━━━━━━━━━━━━━━━━━━━━━━┓\n",
       "┃\u001b[1m \u001b[0m\u001b[1m       Test metric       \u001b[0m\u001b[1m \u001b[0m┃\u001b[1m \u001b[0m\u001b[1m      DataLoader 0       \u001b[0m\u001b[1m \u001b[0m┃\n",
       "┡━━━━━━━━━━━━━━━━━━━━━━━━━━━╇━━━━━━━━━━━━━━━━━━━━━━━━━━━┩\n",
       "│\u001b[36m \u001b[0m\u001b[36m     test_f1ma_epoch     \u001b[0m\u001b[36m \u001b[0m│\u001b[35m \u001b[0m\u001b[35m   0.19500243663787842   \u001b[0m\u001b[35m \u001b[0m│\n",
       "│\u001b[36m \u001b[0m\u001b[36m     test_ham_epoch      \u001b[0m\u001b[36m \u001b[0m│\u001b[35m \u001b[0m\u001b[35m   0.2769583761692047    \u001b[0m\u001b[35m \u001b[0m│\n",
       "│\u001b[36m \u001b[0m\u001b[36m     test_loss_epoch     \u001b[0m\u001b[36m \u001b[0m│\u001b[35m \u001b[0m\u001b[35m   0.5520471334457397    \u001b[0m\u001b[35m \u001b[0m│\n",
       "└───────────────────────────┴───────────────────────────┘\n"
      ]
     },
     "metadata": {},
     "output_type": "display_data"
    },
    {
     "name": "stderr",
     "output_type": "stream",
     "text": [
      "GPU available: True (mps), used: False\n",
      "TPU available: False, using: 0 TPU cores\n",
      "HPU available: False, using: 0 HPUs\n",
      "\n",
      "  | Name       | Type                      | Params | Mode \n",
      "-----------------------------------------------------------------\n",
      "0 | classifier | Sequential                | 562 K  | train\n",
      "1 | loss       | BCEWithLogitsLoss         | 0      | train\n",
      "2 | hamming    | MultilabelHammingDistance | 0      | train\n",
      "3 | f1_macro   | MultilabelF1Score         | 0      | train\n",
      "-----------------------------------------------------------------\n",
      "562 K     Trainable params\n",
      "0         Non-trainable params\n",
      "562 K     Total params\n",
      "2.250     Total estimated model params size (MB)\n",
      "17        Modules in train mode\n",
      "0         Modules in eval mode\n"
     ]
    },
    {
     "name": "stdout",
     "output_type": "stream",
     "text": [
      "  loss: 0.5520 | hamming: 0.2770 | f1_macro: 0.1950\n",
      "Fold 5/10\n",
      "Epoch 3: 100%|██████████| 34/34 [00:00<00:00, 132.90it/s, v_num=204, train_loss=0.557, train_ham=0.300, train_f1ma=0.282, val_loss_step=0.562, val_ham_step=0.289, val_f1ma_step=0.117, val_loss_epoch=0.563, val_ham_epoch=0.285, val_f1ma_epoch=0.192] \n"
     ]
    },
    {
     "name": "stderr",
     "output_type": "stream",
     "text": [
      "Restoring states from the checkpoint path at /Users/benjaminvaca/Documents/USFQ/semestre7/machine_learning/proyecto/lightning_logs/version_204/checkpoints/epoch=0-step=34.ckpt\n",
      "Loaded model weights from the checkpoint at /Users/benjaminvaca/Documents/USFQ/semestre7/machine_learning/proyecto/lightning_logs/version_204/checkpoints/epoch=0-step=34.ckpt\n"
     ]
    },
    {
     "name": "stdout",
     "output_type": "stream",
     "text": [
      "Validation DataLoader 0: 100%|██████████| 34/34 [00:00<00:00, 344.10it/s]"
     ]
    },
    {
     "name": "stderr",
     "output_type": "stream",
     "text": [
      "Restoring states from the checkpoint path at /Users/benjaminvaca/Documents/USFQ/semestre7/machine_learning/proyecto/lightning_logs/version_204/checkpoints/epoch=0-step=34.ckpt\n",
      "Loaded model weights from the checkpoint at /Users/benjaminvaca/Documents/USFQ/semestre7/machine_learning/proyecto/lightning_logs/version_204/checkpoints/epoch=0-step=34.ckpt\n"
     ]
    },
    {
     "name": "stdout",
     "output_type": "stream",
     "text": [
      "\n",
      "Validation DataLoader 0: 100%|██████████| 9/9 [00:00<00:00, 338.59it/s]"
     ]
    },
    {
     "name": "stderr",
     "output_type": "stream",
     "text": [
      "Restoring states from the checkpoint path at /Users/benjaminvaca/Documents/USFQ/semestre7/machine_learning/proyecto/lightning_logs/version_204/checkpoints/epoch=0-step=34.ckpt\n"
     ]
    },
    {
     "name": "stdout",
     "output_type": "stream",
     "text": [
      "\n"
     ]
    },
    {
     "name": "stderr",
     "output_type": "stream",
     "text": [
      "Loaded model weights from the checkpoint at /Users/benjaminvaca/Documents/USFQ/semestre7/machine_learning/proyecto/lightning_logs/version_204/checkpoints/epoch=0-step=34.ckpt\n"
     ]
    },
    {
     "name": "stdout",
     "output_type": "stream",
     "text": [
      "Testing DataLoader 0: 100%|██████████| 11/11 [00:00<00:00, 351.71it/s]\n"
     ]
    },
    {
     "data": {
      "text/html": [
       "<pre style=\"white-space:pre;overflow-x:auto;line-height:normal;font-family:Menlo,'DejaVu Sans Mono',consolas,'Courier New',monospace\">┏━━━━━━━━━━━━━━━━━━━━━━━━━━━┳━━━━━━━━━━━━━━━━━━━━━━━━━━━┓\n",
       "┃<span style=\"font-weight: bold\">        Test metric        </span>┃<span style=\"font-weight: bold\">       DataLoader 0        </span>┃\n",
       "┡━━━━━━━━━━━━━━━━━━━━━━━━━━━╇━━━━━━━━━━━━━━━━━━━━━━━━━━━┩\n",
       "│<span style=\"color: #008080; text-decoration-color: #008080\">      test_f1ma_epoch      </span>│<span style=\"color: #800080; text-decoration-color: #800080\">    0.20774728059768677    </span>│\n",
       "│<span style=\"color: #008080; text-decoration-color: #008080\">      test_ham_epoch       </span>│<span style=\"color: #800080; text-decoration-color: #800080\">    0.31432318687438965    </span>│\n",
       "│<span style=\"color: #008080; text-decoration-color: #008080\">      test_loss_epoch      </span>│<span style=\"color: #800080; text-decoration-color: #800080\">     0.602155864238739     </span>│\n",
       "└───────────────────────────┴───────────────────────────┘\n",
       "</pre>\n"
      ],
      "text/plain": [
       "┏━━━━━━━━━━━━━━━━━━━━━━━━━━━┳━━━━━━━━━━━━━━━━━━━━━━━━━━━┓\n",
       "┃\u001b[1m \u001b[0m\u001b[1m       Test metric       \u001b[0m\u001b[1m \u001b[0m┃\u001b[1m \u001b[0m\u001b[1m      DataLoader 0       \u001b[0m\u001b[1m \u001b[0m┃\n",
       "┡━━━━━━━━━━━━━━━━━━━━━━━━━━━╇━━━━━━━━━━━━━━━━━━━━━━━━━━━┩\n",
       "│\u001b[36m \u001b[0m\u001b[36m     test_f1ma_epoch     \u001b[0m\u001b[36m \u001b[0m│\u001b[35m \u001b[0m\u001b[35m   0.20774728059768677   \u001b[0m\u001b[35m \u001b[0m│\n",
       "│\u001b[36m \u001b[0m\u001b[36m     test_ham_epoch      \u001b[0m\u001b[36m \u001b[0m│\u001b[35m \u001b[0m\u001b[35m   0.31432318687438965   \u001b[0m\u001b[35m \u001b[0m│\n",
       "│\u001b[36m \u001b[0m\u001b[36m     test_loss_epoch     \u001b[0m\u001b[36m \u001b[0m│\u001b[35m \u001b[0m\u001b[35m    0.602155864238739    \u001b[0m\u001b[35m \u001b[0m│\n",
       "└───────────────────────────┴───────────────────────────┘\n"
      ]
     },
     "metadata": {},
     "output_type": "display_data"
    },
    {
     "name": "stdout",
     "output_type": "stream",
     "text": [
      "  loss: 0.6022 | hamming: 0.3143 | f1_macro: 0.2077\n",
      "Fold 6/10\n"
     ]
    },
    {
     "name": "stderr",
     "output_type": "stream",
     "text": [
      "GPU available: True (mps), used: False\n",
      "TPU available: False, using: 0 TPU cores\n",
      "HPU available: False, using: 0 HPUs\n",
      "\n",
      "  | Name       | Type                      | Params | Mode \n",
      "-----------------------------------------------------------------\n",
      "0 | classifier | Sequential                | 562 K  | train\n",
      "1 | loss       | BCEWithLogitsLoss         | 0      | train\n",
      "2 | hamming    | MultilabelHammingDistance | 0      | train\n",
      "3 | f1_macro   | MultilabelF1Score         | 0      | train\n",
      "-----------------------------------------------------------------\n",
      "562 K     Trainable params\n",
      "0         Non-trainable params\n",
      "562 K     Total params\n",
      "2.250     Total estimated model params size (MB)\n",
      "17        Modules in train mode\n",
      "0         Modules in eval mode\n"
     ]
    },
    {
     "name": "stdout",
     "output_type": "stream",
     "text": [
      "Epoch 3: 100%|██████████| 34/34 [00:00<00:00, 145.49it/s, v_num=205, train_loss=0.520, train_ham=0.268, train_f1ma=0.308, val_loss_step=0.603, val_ham_step=0.354, val_f1ma_step=0.105, val_loss_epoch=0.560, val_ham_epoch=0.298, val_f1ma_epoch=0.177]\n"
     ]
    },
    {
     "name": "stderr",
     "output_type": "stream",
     "text": [
      "Restoring states from the checkpoint path at /Users/benjaminvaca/Documents/USFQ/semestre7/machine_learning/proyecto/lightning_logs/version_205/checkpoints/epoch=0-step=34.ckpt\n",
      "Loaded model weights from the checkpoint at /Users/benjaminvaca/Documents/USFQ/semestre7/machine_learning/proyecto/lightning_logs/version_205/checkpoints/epoch=0-step=34.ckpt\n"
     ]
    },
    {
     "name": "stdout",
     "output_type": "stream",
     "text": [
      "Validation DataLoader 0: 100%|██████████| 34/34 [00:00<00:00, 391.46it/s]"
     ]
    },
    {
     "name": "stderr",
     "output_type": "stream",
     "text": [
      "Restoring states from the checkpoint path at /Users/benjaminvaca/Documents/USFQ/semestre7/machine_learning/proyecto/lightning_logs/version_205/checkpoints/epoch=0-step=34.ckpt\n"
     ]
    },
    {
     "name": "stdout",
     "output_type": "stream",
     "text": [
      "\n"
     ]
    },
    {
     "name": "stderr",
     "output_type": "stream",
     "text": [
      "Loaded model weights from the checkpoint at /Users/benjaminvaca/Documents/USFQ/semestre7/machine_learning/proyecto/lightning_logs/version_205/checkpoints/epoch=0-step=34.ckpt\n"
     ]
    },
    {
     "name": "stdout",
     "output_type": "stream",
     "text": [
      "Validation DataLoader 0: 100%|██████████| 9/9 [00:00<00:00, 365.48it/s]"
     ]
    },
    {
     "name": "stderr",
     "output_type": "stream",
     "text": [
      "Restoring states from the checkpoint path at /Users/benjaminvaca/Documents/USFQ/semestre7/machine_learning/proyecto/lightning_logs/version_205/checkpoints/epoch=0-step=34.ckpt\n"
     ]
    },
    {
     "name": "stdout",
     "output_type": "stream",
     "text": [
      "\n"
     ]
    },
    {
     "name": "stderr",
     "output_type": "stream",
     "text": [
      "Loaded model weights from the checkpoint at /Users/benjaminvaca/Documents/USFQ/semestre7/machine_learning/proyecto/lightning_logs/version_205/checkpoints/epoch=0-step=34.ckpt\n"
     ]
    },
    {
     "name": "stdout",
     "output_type": "stream",
     "text": [
      "Testing DataLoader 0: 100%|██████████| 11/11 [00:00<00:00, 350.67it/s]\n"
     ]
    },
    {
     "data": {
      "text/html": [
       "<pre style=\"white-space:pre;overflow-x:auto;line-height:normal;font-family:Menlo,'DejaVu Sans Mono',consolas,'Courier New',monospace\">┏━━━━━━━━━━━━━━━━━━━━━━━━━━━┳━━━━━━━━━━━━━━━━━━━━━━━━━━━┓\n",
       "┃<span style=\"font-weight: bold\">        Test metric        </span>┃<span style=\"font-weight: bold\">       DataLoader 0        </span>┃\n",
       "┡━━━━━━━━━━━━━━━━━━━━━━━━━━━╇━━━━━━━━━━━━━━━━━━━━━━━━━━━┩\n",
       "│<span style=\"color: #008080; text-decoration-color: #008080\">      test_f1ma_epoch      </span>│<span style=\"color: #800080; text-decoration-color: #800080\">    0.2143642008304596     </span>│\n",
       "│<span style=\"color: #008080; text-decoration-color: #008080\">      test_ham_epoch       </span>│<span style=\"color: #800080; text-decoration-color: #800080\">    0.32251718640327454    </span>│\n",
       "│<span style=\"color: #008080; text-decoration-color: #008080\">      test_loss_epoch      </span>│<span style=\"color: #800080; text-decoration-color: #800080\">    0.6009621620178223     </span>│\n",
       "└───────────────────────────┴───────────────────────────┘\n",
       "</pre>\n"
      ],
      "text/plain": [
       "┏━━━━━━━━━━━━━━━━━━━━━━━━━━━┳━━━━━━━━━━━━━━━━━━━━━━━━━━━┓\n",
       "┃\u001b[1m \u001b[0m\u001b[1m       Test metric       \u001b[0m\u001b[1m \u001b[0m┃\u001b[1m \u001b[0m\u001b[1m      DataLoader 0       \u001b[0m\u001b[1m \u001b[0m┃\n",
       "┡━━━━━━━━━━━━━━━━━━━━━━━━━━━╇━━━━━━━━━━━━━━━━━━━━━━━━━━━┩\n",
       "│\u001b[36m \u001b[0m\u001b[36m     test_f1ma_epoch     \u001b[0m\u001b[36m \u001b[0m│\u001b[35m \u001b[0m\u001b[35m   0.2143642008304596    \u001b[0m\u001b[35m \u001b[0m│\n",
       "│\u001b[36m \u001b[0m\u001b[36m     test_ham_epoch      \u001b[0m\u001b[36m \u001b[0m│\u001b[35m \u001b[0m\u001b[35m   0.32251718640327454   \u001b[0m\u001b[35m \u001b[0m│\n",
       "│\u001b[36m \u001b[0m\u001b[36m     test_loss_epoch     \u001b[0m\u001b[36m \u001b[0m│\u001b[35m \u001b[0m\u001b[35m   0.6009621620178223    \u001b[0m\u001b[35m \u001b[0m│\n",
       "└───────────────────────────┴───────────────────────────┘\n"
      ]
     },
     "metadata": {},
     "output_type": "display_data"
    },
    {
     "name": "stdout",
     "output_type": "stream",
     "text": [
      "  loss: 0.6010 | hamming: 0.3225 | f1_macro: 0.2144\n",
      "Fold 7/10\n"
     ]
    },
    {
     "name": "stderr",
     "output_type": "stream",
     "text": [
      "GPU available: True (mps), used: False\n",
      "TPU available: False, using: 0 TPU cores\n",
      "HPU available: False, using: 0 HPUs\n",
      "\n",
      "  | Name       | Type                      | Params | Mode \n",
      "-----------------------------------------------------------------\n",
      "0 | classifier | Sequential                | 562 K  | train\n",
      "1 | loss       | BCEWithLogitsLoss         | 0      | train\n",
      "2 | hamming    | MultilabelHammingDistance | 0      | train\n",
      "3 | f1_macro   | MultilabelF1Score         | 0      | train\n",
      "-----------------------------------------------------------------\n",
      "562 K     Trainable params\n",
      "0         Non-trainable params\n",
      "562 K     Total params\n",
      "2.250     Total estimated model params size (MB)\n",
      "17        Modules in train mode\n",
      "0         Modules in eval mode\n"
     ]
    },
    {
     "name": "stdout",
     "output_type": "stream",
     "text": [
      "Epoch 21: 100%|██████████| 34/34 [00:00<00:00, 157.26it/s, v_num=206, train_loss=0.538, train_ham=0.280, train_f1ma=0.426, val_loss_step=0.552, val_ham_step=0.368, val_f1ma_step=0.0974, val_loss_epoch=0.578, val_ham_epoch=0.290, val_f1ma_epoch=0.230]"
     ]
    },
    {
     "name": "stderr",
     "output_type": "stream",
     "text": [
      "Restoring states from the checkpoint path at /Users/benjaminvaca/Documents/USFQ/semestre7/machine_learning/proyecto/lightning_logs/version_206/checkpoints/epoch=18-step=646.ckpt\n"
     ]
    },
    {
     "name": "stdout",
     "output_type": "stream",
     "text": [
      "\n"
     ]
    },
    {
     "name": "stderr",
     "output_type": "stream",
     "text": [
      "Loaded model weights from the checkpoint at /Users/benjaminvaca/Documents/USFQ/semestre7/machine_learning/proyecto/lightning_logs/version_206/checkpoints/epoch=18-step=646.ckpt\n"
     ]
    },
    {
     "name": "stdout",
     "output_type": "stream",
     "text": [
      "Validation DataLoader 0: 100%|██████████| 34/34 [00:00<00:00, 411.82it/s]"
     ]
    },
    {
     "name": "stderr",
     "output_type": "stream",
     "text": [
      "Restoring states from the checkpoint path at /Users/benjaminvaca/Documents/USFQ/semestre7/machine_learning/proyecto/lightning_logs/version_206/checkpoints/epoch=18-step=646.ckpt\n"
     ]
    },
    {
     "name": "stdout",
     "output_type": "stream",
     "text": [
      "\n"
     ]
    },
    {
     "name": "stderr",
     "output_type": "stream",
     "text": [
      "Loaded model weights from the checkpoint at /Users/benjaminvaca/Documents/USFQ/semestre7/machine_learning/proyecto/lightning_logs/version_206/checkpoints/epoch=18-step=646.ckpt\n"
     ]
    },
    {
     "name": "stdout",
     "output_type": "stream",
     "text": [
      "Validation DataLoader 0: 100%|██████████| 9/9 [00:00<00:00, 377.58it/s]\n"
     ]
    },
    {
     "name": "stderr",
     "output_type": "stream",
     "text": [
      "Restoring states from the checkpoint path at /Users/benjaminvaca/Documents/USFQ/semestre7/machine_learning/proyecto/lightning_logs/version_206/checkpoints/epoch=18-step=646.ckpt\n",
      "Loaded model weights from the checkpoint at /Users/benjaminvaca/Documents/USFQ/semestre7/machine_learning/proyecto/lightning_logs/version_206/checkpoints/epoch=18-step=646.ckpt\n"
     ]
    },
    {
     "name": "stdout",
     "output_type": "stream",
     "text": [
      "Testing DataLoader 0: 100%|██████████| 11/11 [00:00<00:00, 332.46it/s]\n"
     ]
    },
    {
     "data": {
      "text/html": [
       "<pre style=\"white-space:pre;overflow-x:auto;line-height:normal;font-family:Menlo,'DejaVu Sans Mono',consolas,'Courier New',monospace\">┏━━━━━━━━━━━━━━━━━━━━━━━━━━━┳━━━━━━━━━━━━━━━━━━━━━━━━━━━┓\n",
       "┃<span style=\"font-weight: bold\">        Test metric        </span>┃<span style=\"font-weight: bold\">       DataLoader 0        </span>┃\n",
       "┡━━━━━━━━━━━━━━━━━━━━━━━━━━━╇━━━━━━━━━━━━━━━━━━━━━━━━━━━┩\n",
       "│<span style=\"color: #008080; text-decoration-color: #008080\">      test_f1ma_epoch      </span>│<span style=\"color: #800080; text-decoration-color: #800080\">    0.22821654379367828    </span>│\n",
       "│<span style=\"color: #008080; text-decoration-color: #008080\">      test_ham_epoch       </span>│<span style=\"color: #800080; text-decoration-color: #800080\">    0.27138644456863403    </span>│\n",
       "│<span style=\"color: #008080; text-decoration-color: #008080\">      test_loss_epoch      </span>│<span style=\"color: #800080; text-decoration-color: #800080\">    0.5403359532356262     </span>│\n",
       "└───────────────────────────┴───────────────────────────┘\n",
       "</pre>\n"
      ],
      "text/plain": [
       "┏━━━━━━━━━━━━━━━━━━━━━━━━━━━┳━━━━━━━━━━━━━━━━━━━━━━━━━━━┓\n",
       "┃\u001b[1m \u001b[0m\u001b[1m       Test metric       \u001b[0m\u001b[1m \u001b[0m┃\u001b[1m \u001b[0m\u001b[1m      DataLoader 0       \u001b[0m\u001b[1m \u001b[0m┃\n",
       "┡━━━━━━━━━━━━━━━━━━━━━━━━━━━╇━━━━━━━━━━━━━━━━━━━━━━━━━━━┩\n",
       "│\u001b[36m \u001b[0m\u001b[36m     test_f1ma_epoch     \u001b[0m\u001b[36m \u001b[0m│\u001b[35m \u001b[0m\u001b[35m   0.22821654379367828   \u001b[0m\u001b[35m \u001b[0m│\n",
       "│\u001b[36m \u001b[0m\u001b[36m     test_ham_epoch      \u001b[0m\u001b[36m \u001b[0m│\u001b[35m \u001b[0m\u001b[35m   0.27138644456863403   \u001b[0m\u001b[35m \u001b[0m│\n",
       "│\u001b[36m \u001b[0m\u001b[36m     test_loss_epoch     \u001b[0m\u001b[36m \u001b[0m│\u001b[35m \u001b[0m\u001b[35m   0.5403359532356262    \u001b[0m\u001b[35m \u001b[0m│\n",
       "└───────────────────────────┴───────────────────────────┘\n"
      ]
     },
     "metadata": {},
     "output_type": "display_data"
    },
    {
     "name": "stdout",
     "output_type": "stream",
     "text": [
      "  loss: 0.5403 | hamming: 0.2714 | f1_macro: 0.2282\n",
      "Fold 8/10\n"
     ]
    },
    {
     "name": "stderr",
     "output_type": "stream",
     "text": [
      "GPU available: True (mps), used: False\n",
      "TPU available: False, using: 0 TPU cores\n",
      "HPU available: False, using: 0 HPUs\n",
      "\n",
      "  | Name       | Type                      | Params | Mode \n",
      "-----------------------------------------------------------------\n",
      "0 | classifier | Sequential                | 562 K  | train\n",
      "1 | loss       | BCEWithLogitsLoss         | 0      | train\n",
      "2 | hamming    | MultilabelHammingDistance | 0      | train\n",
      "3 | f1_macro   | MultilabelF1Score         | 0      | train\n",
      "-----------------------------------------------------------------\n",
      "562 K     Trainable params\n",
      "0         Non-trainable params\n",
      "562 K     Total params\n",
      "2.250     Total estimated model params size (MB)\n",
      "17        Modules in train mode\n",
      "0         Modules in eval mode\n"
     ]
    },
    {
     "name": "stdout",
     "output_type": "stream",
     "text": [
      "Epoch 3: 100%|██████████| 34/34 [00:00<00:00, 144.41it/s, v_num=207, train_loss=0.577, train_ham=0.304, train_f1ma=0.279, val_loss_step=0.595, val_ham_step=0.378, val_f1ma_step=0.0741, val_loss_epoch=0.561, val_ham_epoch=0.281, val_f1ma_epoch=0.197]"
     ]
    },
    {
     "name": "stderr",
     "output_type": "stream",
     "text": [
      "Restoring states from the checkpoint path at /Users/benjaminvaca/Documents/USFQ/semestre7/machine_learning/proyecto/lightning_logs/version_207/checkpoints/epoch=0-step=34.ckpt\n"
     ]
    },
    {
     "name": "stdout",
     "output_type": "stream",
     "text": [
      "\n"
     ]
    },
    {
     "name": "stderr",
     "output_type": "stream",
     "text": [
      "Loaded model weights from the checkpoint at /Users/benjaminvaca/Documents/USFQ/semestre7/machine_learning/proyecto/lightning_logs/version_207/checkpoints/epoch=0-step=34.ckpt\n"
     ]
    },
    {
     "name": "stdout",
     "output_type": "stream",
     "text": [
      "Validation DataLoader 0: 100%|██████████| 34/34 [00:00<00:00, 376.97it/s]\n"
     ]
    },
    {
     "name": "stderr",
     "output_type": "stream",
     "text": [
      "Restoring states from the checkpoint path at /Users/benjaminvaca/Documents/USFQ/semestre7/machine_learning/proyecto/lightning_logs/version_207/checkpoints/epoch=0-step=34.ckpt\n",
      "Loaded model weights from the checkpoint at /Users/benjaminvaca/Documents/USFQ/semestre7/machine_learning/proyecto/lightning_logs/version_207/checkpoints/epoch=0-step=34.ckpt\n"
     ]
    },
    {
     "name": "stdout",
     "output_type": "stream",
     "text": [
      "Validation DataLoader 0: 100%|██████████| 9/9 [00:00<00:00, 383.91it/s]\n"
     ]
    },
    {
     "name": "stderr",
     "output_type": "stream",
     "text": [
      "Restoring states from the checkpoint path at /Users/benjaminvaca/Documents/USFQ/semestre7/machine_learning/proyecto/lightning_logs/version_207/checkpoints/epoch=0-step=34.ckpt\n",
      "Loaded model weights from the checkpoint at /Users/benjaminvaca/Documents/USFQ/semestre7/machine_learning/proyecto/lightning_logs/version_207/checkpoints/epoch=0-step=34.ckpt\n"
     ]
    },
    {
     "name": "stdout",
     "output_type": "stream",
     "text": [
      "Testing DataLoader 0: 100%|██████████| 11/11 [00:00<00:00, 359.41it/s]\n"
     ]
    },
    {
     "data": {
      "text/html": [
       "<pre style=\"white-space:pre;overflow-x:auto;line-height:normal;font-family:Menlo,'DejaVu Sans Mono',consolas,'Courier New',monospace\">┏━━━━━━━━━━━━━━━━━━━━━━━━━━━┳━━━━━━━━━━━━━━━━━━━━━━━━━━━┓\n",
       "┃<span style=\"font-weight: bold\">        Test metric        </span>┃<span style=\"font-weight: bold\">       DataLoader 0        </span>┃\n",
       "┡━━━━━━━━━━━━━━━━━━━━━━━━━━━╇━━━━━━━━━━━━━━━━━━━━━━━━━━━┩\n",
       "│<span style=\"color: #008080; text-decoration-color: #008080\">      test_f1ma_epoch      </span>│<span style=\"color: #800080; text-decoration-color: #800080\">    0.18667720258235931    </span>│\n",
       "│<span style=\"color: #008080; text-decoration-color: #008080\">      test_ham_epoch       </span>│<span style=\"color: #800080; text-decoration-color: #800080\">    0.30481812357902527    </span>│\n",
       "│<span style=\"color: #008080; text-decoration-color: #008080\">      test_loss_epoch      </span>│<span style=\"color: #800080; text-decoration-color: #800080\">    0.6042036414146423     </span>│\n",
       "└───────────────────────────┴───────────────────────────┘\n",
       "</pre>\n"
      ],
      "text/plain": [
       "┏━━━━━━━━━━━━━━━━━━━━━━━━━━━┳━━━━━━━━━━━━━━━━━━━━━━━━━━━┓\n",
       "┃\u001b[1m \u001b[0m\u001b[1m       Test metric       \u001b[0m\u001b[1m \u001b[0m┃\u001b[1m \u001b[0m\u001b[1m      DataLoader 0       \u001b[0m\u001b[1m \u001b[0m┃\n",
       "┡━━━━━━━━━━━━━━━━━━━━━━━━━━━╇━━━━━━━━━━━━━━━━━━━━━━━━━━━┩\n",
       "│\u001b[36m \u001b[0m\u001b[36m     test_f1ma_epoch     \u001b[0m\u001b[36m \u001b[0m│\u001b[35m \u001b[0m\u001b[35m   0.18667720258235931   \u001b[0m\u001b[35m \u001b[0m│\n",
       "│\u001b[36m \u001b[0m\u001b[36m     test_ham_epoch      \u001b[0m\u001b[36m \u001b[0m│\u001b[35m \u001b[0m\u001b[35m   0.30481812357902527   \u001b[0m\u001b[35m \u001b[0m│\n",
       "│\u001b[36m \u001b[0m\u001b[36m     test_loss_epoch     \u001b[0m\u001b[36m \u001b[0m│\u001b[35m \u001b[0m\u001b[35m   0.6042036414146423    \u001b[0m\u001b[35m \u001b[0m│\n",
       "└───────────────────────────┴───────────────────────────┘\n"
      ]
     },
     "metadata": {},
     "output_type": "display_data"
    },
    {
     "name": "stdout",
     "output_type": "stream",
     "text": [
      "  loss: 0.6042 | hamming: 0.3048 | f1_macro: 0.1867\n",
      "Fold 9/10\n"
     ]
    },
    {
     "name": "stderr",
     "output_type": "stream",
     "text": [
      "GPU available: True (mps), used: False\n",
      "TPU available: False, using: 0 TPU cores\n",
      "HPU available: False, using: 0 HPUs\n",
      "\n",
      "  | Name       | Type                      | Params | Mode \n",
      "-----------------------------------------------------------------\n",
      "0 | classifier | Sequential                | 562 K  | train\n",
      "1 | loss       | BCEWithLogitsLoss         | 0      | train\n",
      "2 | hamming    | MultilabelHammingDistance | 0      | train\n",
      "3 | f1_macro   | MultilabelF1Score         | 0      | train\n",
      "-----------------------------------------------------------------\n",
      "562 K     Trainable params\n",
      "0         Non-trainable params\n",
      "562 K     Total params\n",
      "2.250     Total estimated model params size (MB)\n",
      "17        Modules in train mode\n",
      "0         Modules in eval mode\n"
     ]
    },
    {
     "name": "stdout",
     "output_type": "stream",
     "text": [
      "Epoch 3: 100%|██████████| 34/34 [00:00<00:00, 144.44it/s, v_num=208, train_loss=0.574, train_ham=0.326, train_f1ma=0.243, val_loss_step=0.546, val_ham_step=0.230, val_f1ma_step=0.140, val_loss_epoch=0.561, val_ham_epoch=0.312, val_f1ma_epoch=0.179] "
     ]
    },
    {
     "name": "stderr",
     "output_type": "stream",
     "text": [
      "Restoring states from the checkpoint path at /Users/benjaminvaca/Documents/USFQ/semestre7/machine_learning/proyecto/lightning_logs/version_208/checkpoints/epoch=0-step=34.ckpt\n"
     ]
    },
    {
     "name": "stdout",
     "output_type": "stream",
     "text": [
      "\n"
     ]
    },
    {
     "name": "stderr",
     "output_type": "stream",
     "text": [
      "Loaded model weights from the checkpoint at /Users/benjaminvaca/Documents/USFQ/semestre7/machine_learning/proyecto/lightning_logs/version_208/checkpoints/epoch=0-step=34.ckpt\n"
     ]
    },
    {
     "name": "stdout",
     "output_type": "stream",
     "text": [
      "Validation DataLoader 0: 100%|██████████| 34/34 [00:00<00:00, 398.33it/s]"
     ]
    },
    {
     "name": "stderr",
     "output_type": "stream",
     "text": [
      "Restoring states from the checkpoint path at /Users/benjaminvaca/Documents/USFQ/semestre7/machine_learning/proyecto/lightning_logs/version_208/checkpoints/epoch=0-step=34.ckpt\n"
     ]
    },
    {
     "name": "stdout",
     "output_type": "stream",
     "text": [
      "\n"
     ]
    },
    {
     "name": "stderr",
     "output_type": "stream",
     "text": [
      "Loaded model weights from the checkpoint at /Users/benjaminvaca/Documents/USFQ/semestre7/machine_learning/proyecto/lightning_logs/version_208/checkpoints/epoch=0-step=34.ckpt\n"
     ]
    },
    {
     "name": "stdout",
     "output_type": "stream",
     "text": [
      "Validation DataLoader 0: 100%|██████████| 9/9 [00:00<00:00, 336.50it/s]\n"
     ]
    },
    {
     "name": "stderr",
     "output_type": "stream",
     "text": [
      "Restoring states from the checkpoint path at /Users/benjaminvaca/Documents/USFQ/semestre7/machine_learning/proyecto/lightning_logs/version_208/checkpoints/epoch=0-step=34.ckpt\n",
      "Loaded model weights from the checkpoint at /Users/benjaminvaca/Documents/USFQ/semestre7/machine_learning/proyecto/lightning_logs/version_208/checkpoints/epoch=0-step=34.ckpt\n"
     ]
    },
    {
     "name": "stdout",
     "output_type": "stream",
     "text": [
      "Testing DataLoader 0: 100%|██████████| 11/11 [00:00<00:00, 220.52it/s]\n"
     ]
    },
    {
     "data": {
      "text/html": [
       "<pre style=\"white-space:pre;overflow-x:auto;line-height:normal;font-family:Menlo,'DejaVu Sans Mono',consolas,'Courier New',monospace\">┏━━━━━━━━━━━━━━━━━━━━━━━━━━━┳━━━━━━━━━━━━━━━━━━━━━━━━━━━┓\n",
       "┃<span style=\"font-weight: bold\">        Test metric        </span>┃<span style=\"font-weight: bold\">       DataLoader 0        </span>┃\n",
       "┡━━━━━━━━━━━━━━━━━━━━━━━━━━━╇━━━━━━━━━━━━━━━━━━━━━━━━━━━┩\n",
       "│<span style=\"color: #008080; text-decoration-color: #008080\">      test_f1ma_epoch      </span>│<span style=\"color: #800080; text-decoration-color: #800080\">    0.20478017628192902    </span>│\n",
       "│<span style=\"color: #008080; text-decoration-color: #008080\">      test_ham_epoch       </span>│<span style=\"color: #800080; text-decoration-color: #800080\">    0.3162897229194641     </span>│\n",
       "│<span style=\"color: #008080; text-decoration-color: #008080\">      test_loss_epoch      </span>│<span style=\"color: #800080; text-decoration-color: #800080\">    0.6002777218818665     </span>│\n",
       "└───────────────────────────┴───────────────────────────┘\n",
       "</pre>\n"
      ],
      "text/plain": [
       "┏━━━━━━━━━━━━━━━━━━━━━━━━━━━┳━━━━━━━━━━━━━━━━━━━━━━━━━━━┓\n",
       "┃\u001b[1m \u001b[0m\u001b[1m       Test metric       \u001b[0m\u001b[1m \u001b[0m┃\u001b[1m \u001b[0m\u001b[1m      DataLoader 0       \u001b[0m\u001b[1m \u001b[0m┃\n",
       "┡━━━━━━━━━━━━━━━━━━━━━━━━━━━╇━━━━━━━━━━━━━━━━━━━━━━━━━━━┩\n",
       "│\u001b[36m \u001b[0m\u001b[36m     test_f1ma_epoch     \u001b[0m\u001b[36m \u001b[0m│\u001b[35m \u001b[0m\u001b[35m   0.20478017628192902   \u001b[0m\u001b[35m \u001b[0m│\n",
       "│\u001b[36m \u001b[0m\u001b[36m     test_ham_epoch      \u001b[0m\u001b[36m \u001b[0m│\u001b[35m \u001b[0m\u001b[35m   0.3162897229194641    \u001b[0m\u001b[35m \u001b[0m│\n",
       "│\u001b[36m \u001b[0m\u001b[36m     test_loss_epoch     \u001b[0m\u001b[36m \u001b[0m│\u001b[35m \u001b[0m\u001b[35m   0.6002777218818665    \u001b[0m\u001b[35m \u001b[0m│\n",
       "└───────────────────────────┴───────────────────────────┘\n"
      ]
     },
     "metadata": {},
     "output_type": "display_data"
    },
    {
     "name": "stderr",
     "output_type": "stream",
     "text": [
      "GPU available: True (mps), used: False\n",
      "TPU available: False, using: 0 TPU cores\n",
      "HPU available: False, using: 0 HPUs\n"
     ]
    },
    {
     "name": "stdout",
     "output_type": "stream",
     "text": [
      "  loss: 0.6003 | hamming: 0.3163 | f1_macro: 0.2048\n",
      "Fold 10/10\n"
     ]
    },
    {
     "name": "stderr",
     "output_type": "stream",
     "text": [
      "\n",
      "  | Name       | Type                      | Params | Mode \n",
      "-----------------------------------------------------------------\n",
      "0 | classifier | Sequential                | 562 K  | train\n",
      "1 | loss       | BCEWithLogitsLoss         | 0      | train\n",
      "2 | hamming    | MultilabelHammingDistance | 0      | train\n",
      "3 | f1_macro   | MultilabelF1Score         | 0      | train\n",
      "-----------------------------------------------------------------\n",
      "562 K     Trainable params\n",
      "0         Non-trainable params\n",
      "562 K     Total params\n",
      "2.250     Total estimated model params size (MB)\n",
      "17        Modules in train mode\n",
      "0         Modules in eval mode\n"
     ]
    },
    {
     "name": "stdout",
     "output_type": "stream",
     "text": [
      "Epoch 3: 100%|██████████| 34/34 [00:00<00:00, 158.27it/s, v_num=209, train_loss=0.575, train_ham=0.319, train_f1ma=0.269, val_loss_step=0.578, val_ham_step=0.311, val_f1ma_step=0.146, val_loss_epoch=0.559, val_ham_epoch=0.312, val_f1ma_epoch=0.179] \n"
     ]
    },
    {
     "name": "stderr",
     "output_type": "stream",
     "text": [
      "Restoring states from the checkpoint path at /Users/benjaminvaca/Documents/USFQ/semestre7/machine_learning/proyecto/lightning_logs/version_209/checkpoints/epoch=0-step=34.ckpt\n",
      "Loaded model weights from the checkpoint at /Users/benjaminvaca/Documents/USFQ/semestre7/machine_learning/proyecto/lightning_logs/version_209/checkpoints/epoch=0-step=34.ckpt\n"
     ]
    },
    {
     "name": "stdout",
     "output_type": "stream",
     "text": [
      "Validation DataLoader 0: 100%|██████████| 34/34 [00:00<00:00, 432.11it/s]\n"
     ]
    },
    {
     "name": "stderr",
     "output_type": "stream",
     "text": [
      "Restoring states from the checkpoint path at /Users/benjaminvaca/Documents/USFQ/semestre7/machine_learning/proyecto/lightning_logs/version_209/checkpoints/epoch=0-step=34.ckpt\n",
      "Loaded model weights from the checkpoint at /Users/benjaminvaca/Documents/USFQ/semestre7/machine_learning/proyecto/lightning_logs/version_209/checkpoints/epoch=0-step=34.ckpt\n"
     ]
    },
    {
     "name": "stdout",
     "output_type": "stream",
     "text": [
      "Validation DataLoader 0: 100%|██████████| 9/9 [00:00<00:00, 208.14it/s]\n"
     ]
    },
    {
     "name": "stderr",
     "output_type": "stream",
     "text": [
      "Restoring states from the checkpoint path at /Users/benjaminvaca/Documents/USFQ/semestre7/machine_learning/proyecto/lightning_logs/version_209/checkpoints/epoch=0-step=34.ckpt\n",
      "Loaded model weights from the checkpoint at /Users/benjaminvaca/Documents/USFQ/semestre7/machine_learning/proyecto/lightning_logs/version_209/checkpoints/epoch=0-step=34.ckpt\n"
     ]
    },
    {
     "name": "stdout",
     "output_type": "stream",
     "text": [
      "Testing DataLoader 0: 100%|██████████| 11/11 [00:00<00:00, 382.29it/s]\n"
     ]
    },
    {
     "data": {
      "text/html": [
       "<pre style=\"white-space:pre;overflow-x:auto;line-height:normal;font-family:Menlo,'DejaVu Sans Mono',consolas,'Courier New',monospace\">┏━━━━━━━━━━━━━━━━━━━━━━━━━━━┳━━━━━━━━━━━━━━━━━━━━━━━━━━━┓\n",
       "┃<span style=\"font-weight: bold\">        Test metric        </span>┃<span style=\"font-weight: bold\">       DataLoader 0        </span>┃\n",
       "┡━━━━━━━━━━━━━━━━━━━━━━━━━━━╇━━━━━━━━━━━━━━━━━━━━━━━━━━━┩\n",
       "│<span style=\"color: #008080; text-decoration-color: #008080\">      test_f1ma_epoch      </span>│<span style=\"color: #800080; text-decoration-color: #800080\">    0.19089505076408386    </span>│\n",
       "│<span style=\"color: #008080; text-decoration-color: #008080\">      test_ham_epoch       </span>│<span style=\"color: #800080; text-decoration-color: #800080\">    0.3126843571662903     </span>│\n",
       "│<span style=\"color: #008080; text-decoration-color: #008080\">      test_loss_epoch      </span>│<span style=\"color: #800080; text-decoration-color: #800080\">    0.6018955111503601     </span>│\n",
       "└───────────────────────────┴───────────────────────────┘\n",
       "</pre>\n"
      ],
      "text/plain": [
       "┏━━━━━━━━━━━━━━━━━━━━━━━━━━━┳━━━━━━━━━━━━━━━━━━━━━━━━━━━┓\n",
       "┃\u001b[1m \u001b[0m\u001b[1m       Test metric       \u001b[0m\u001b[1m \u001b[0m┃\u001b[1m \u001b[0m\u001b[1m      DataLoader 0       \u001b[0m\u001b[1m \u001b[0m┃\n",
       "┡━━━━━━━━━━━━━━━━━━━━━━━━━━━╇━━━━━━━━━━━━━━━━━━━━━━━━━━━┩\n",
       "│\u001b[36m \u001b[0m\u001b[36m     test_f1ma_epoch     \u001b[0m\u001b[36m \u001b[0m│\u001b[35m \u001b[0m\u001b[35m   0.19089505076408386   \u001b[0m\u001b[35m \u001b[0m│\n",
       "│\u001b[36m \u001b[0m\u001b[36m     test_ham_epoch      \u001b[0m\u001b[36m \u001b[0m│\u001b[35m \u001b[0m\u001b[35m   0.3126843571662903    \u001b[0m\u001b[35m \u001b[0m│\n",
       "│\u001b[36m \u001b[0m\u001b[36m     test_loss_epoch     \u001b[0m\u001b[36m \u001b[0m│\u001b[35m \u001b[0m\u001b[35m   0.6018955111503601    \u001b[0m\u001b[35m \u001b[0m│\n",
       "└───────────────────────────┴───────────────────────────┘\n"
      ]
     },
     "metadata": {},
     "output_type": "display_data"
    },
    {
     "name": "stdout",
     "output_type": "stream",
     "text": [
      "  loss: 0.6019 | hamming: 0.3127 | f1_macro: 0.1909\n",
      "\n",
      "F1-macro promedio: 0.2028 ± 0.0174\n",
      "Hamming promedio: 0.2994 ± 0.0166\n",
      "Pérdida promedio:         0.5809 ± 0.0227\n",
      "HU=[512, 256, 128]  L2=0.0001 → val_f1ma: 0.2028\n",
      "Fold 1/10\n"
     ]
    },
    {
     "name": "stderr",
     "output_type": "stream",
     "text": [
      "GPU available: True (mps), used: False\n",
      "TPU available: False, using: 0 TPU cores\n",
      "HPU available: False, using: 0 HPUs\n",
      "\n",
      "  | Name       | Type                      | Params | Mode \n",
      "-----------------------------------------------------------------\n",
      "0 | classifier | Sequential                | 240 K  | train\n",
      "1 | loss       | BCEWithLogitsLoss         | 0      | train\n",
      "2 | hamming    | MultilabelHammingDistance | 0      | train\n",
      "3 | f1_macro   | MultilabelF1Score         | 0      | train\n",
      "-----------------------------------------------------------------\n",
      "240 K     Trainable params\n",
      "0         Non-trainable params\n",
      "240 K     Total params\n",
      "0.961     Total estimated model params size (MB)\n",
      "17        Modules in train mode\n",
      "0         Modules in eval mode\n"
     ]
    },
    {
     "name": "stdout",
     "output_type": "stream",
     "text": [
      "Epoch 6: 100%|██████████| 34/34 [00:00<00:00, 174.60it/s, v_num=210, train_loss=0.579, train_ham=0.299, train_f1ma=0.248, val_loss_step=0.583, val_ham_step=0.410, val_f1ma_step=0.0378, val_loss_epoch=0.580, val_ham_epoch=0.297, val_f1ma_epoch=0.120]"
     ]
    },
    {
     "name": "stderr",
     "output_type": "stream",
     "text": [
      "Restoring states from the checkpoint path at /Users/benjaminvaca/Documents/USFQ/semestre7/machine_learning/proyecto/lightning_logs/version_210/checkpoints/epoch=3-step=136.ckpt\n"
     ]
    },
    {
     "name": "stdout",
     "output_type": "stream",
     "text": [
      "\n"
     ]
    },
    {
     "name": "stderr",
     "output_type": "stream",
     "text": [
      "Loaded model weights from the checkpoint at /Users/benjaminvaca/Documents/USFQ/semestre7/machine_learning/proyecto/lightning_logs/version_210/checkpoints/epoch=3-step=136.ckpt\n"
     ]
    },
    {
     "name": "stdout",
     "output_type": "stream",
     "text": [
      "Validation DataLoader 0: 100%|██████████| 34/34 [00:00<00:00, 428.55it/s]"
     ]
    },
    {
     "name": "stderr",
     "output_type": "stream",
     "text": [
      "Restoring states from the checkpoint path at /Users/benjaminvaca/Documents/USFQ/semestre7/machine_learning/proyecto/lightning_logs/version_210/checkpoints/epoch=3-step=136.ckpt\n"
     ]
    },
    {
     "name": "stdout",
     "output_type": "stream",
     "text": [
      "\n"
     ]
    },
    {
     "name": "stderr",
     "output_type": "stream",
     "text": [
      "Loaded model weights from the checkpoint at /Users/benjaminvaca/Documents/USFQ/semestre7/machine_learning/proyecto/lightning_logs/version_210/checkpoints/epoch=3-step=136.ckpt\n"
     ]
    },
    {
     "name": "stdout",
     "output_type": "stream",
     "text": [
      "Validation DataLoader 0: 100%|██████████| 9/9 [00:00<00:00, 385.75it/s]"
     ]
    },
    {
     "name": "stderr",
     "output_type": "stream",
     "text": [
      "Restoring states from the checkpoint path at /Users/benjaminvaca/Documents/USFQ/semestre7/machine_learning/proyecto/lightning_logs/version_210/checkpoints/epoch=3-step=136.ckpt\n"
     ]
    },
    {
     "name": "stdout",
     "output_type": "stream",
     "text": [
      "\n"
     ]
    },
    {
     "name": "stderr",
     "output_type": "stream",
     "text": [
      "Loaded model weights from the checkpoint at /Users/benjaminvaca/Documents/USFQ/semestre7/machine_learning/proyecto/lightning_logs/version_210/checkpoints/epoch=3-step=136.ckpt\n"
     ]
    },
    {
     "name": "stdout",
     "output_type": "stream",
     "text": [
      "Testing DataLoader 0: 100%|██████████| 11/11 [00:00<00:00, 375.41it/s]\n"
     ]
    },
    {
     "data": {
      "text/html": [
       "<pre style=\"white-space:pre;overflow-x:auto;line-height:normal;font-family:Menlo,'DejaVu Sans Mono',consolas,'Courier New',monospace\">┏━━━━━━━━━━━━━━━━━━━━━━━━━━━┳━━━━━━━━━━━━━━━━━━━━━━━━━━━┓\n",
       "┃<span style=\"font-weight: bold\">        Test metric        </span>┃<span style=\"font-weight: bold\">       DataLoader 0        </span>┃\n",
       "┡━━━━━━━━━━━━━━━━━━━━━━━━━━━╇━━━━━━━━━━━━━━━━━━━━━━━━━━━┩\n",
       "│<span style=\"color: #008080; text-decoration-color: #008080\">      test_f1ma_epoch      </span>│<span style=\"color: #800080; text-decoration-color: #800080\">    0.13037656247615814    </span>│\n",
       "│<span style=\"color: #008080; text-decoration-color: #008080\">      test_ham_epoch       </span>│<span style=\"color: #800080; text-decoration-color: #800080\">    0.28810226917266846    </span>│\n",
       "│<span style=\"color: #008080; text-decoration-color: #008080\">      test_loss_epoch      </span>│<span style=\"color: #800080; text-decoration-color: #800080\">    0.5799216032028198     </span>│\n",
       "└───────────────────────────┴───────────────────────────┘\n",
       "</pre>\n"
      ],
      "text/plain": [
       "┏━━━━━━━━━━━━━━━━━━━━━━━━━━━┳━━━━━━━━━━━━━━━━━━━━━━━━━━━┓\n",
       "┃\u001b[1m \u001b[0m\u001b[1m       Test metric       \u001b[0m\u001b[1m \u001b[0m┃\u001b[1m \u001b[0m\u001b[1m      DataLoader 0       \u001b[0m\u001b[1m \u001b[0m┃\n",
       "┡━━━━━━━━━━━━━━━━━━━━━━━━━━━╇━━━━━━━━━━━━━━━━━━━━━━━━━━━┩\n",
       "│\u001b[36m \u001b[0m\u001b[36m     test_f1ma_epoch     \u001b[0m\u001b[36m \u001b[0m│\u001b[35m \u001b[0m\u001b[35m   0.13037656247615814   \u001b[0m\u001b[35m \u001b[0m│\n",
       "│\u001b[36m \u001b[0m\u001b[36m     test_ham_epoch      \u001b[0m\u001b[36m \u001b[0m│\u001b[35m \u001b[0m\u001b[35m   0.28810226917266846   \u001b[0m\u001b[35m \u001b[0m│\n",
       "│\u001b[36m \u001b[0m\u001b[36m     test_loss_epoch     \u001b[0m\u001b[36m \u001b[0m│\u001b[35m \u001b[0m\u001b[35m   0.5799216032028198    \u001b[0m\u001b[35m \u001b[0m│\n",
       "└───────────────────────────┴───────────────────────────┘\n"
      ]
     },
     "metadata": {},
     "output_type": "display_data"
    },
    {
     "name": "stdout",
     "output_type": "stream",
     "text": [
      "  loss: 0.5799 | hamming: 0.2881 | f1_macro: 0.1304\n",
      "Fold 2/10\n"
     ]
    },
    {
     "name": "stderr",
     "output_type": "stream",
     "text": [
      "GPU available: True (mps), used: False\n",
      "TPU available: False, using: 0 TPU cores\n",
      "HPU available: False, using: 0 HPUs\n",
      "\n",
      "  | Name       | Type                      | Params | Mode \n",
      "-----------------------------------------------------------------\n",
      "0 | classifier | Sequential                | 240 K  | train\n",
      "1 | loss       | BCEWithLogitsLoss         | 0      | train\n",
      "2 | hamming    | MultilabelHammingDistance | 0      | train\n",
      "3 | f1_macro   | MultilabelF1Score         | 0      | train\n",
      "-----------------------------------------------------------------\n",
      "240 K     Trainable params\n",
      "0         Non-trainable params\n",
      "240 K     Total params\n",
      "0.961     Total estimated model params size (MB)\n",
      "17        Modules in train mode\n",
      "0         Modules in eval mode\n"
     ]
    },
    {
     "name": "stdout",
     "output_type": "stream",
     "text": [
      "Epoch 3: 100%|██████████| 34/34 [00:00<00:00, 166.21it/s, v_num=211, train_loss=0.585, train_ham=0.310, train_f1ma=0.264, val_loss_step=0.627, val_ham_step=0.431, val_f1ma_step=0.0261, val_loss_epoch=0.576, val_ham_epoch=0.297, val_f1ma_epoch=0.171]\n"
     ]
    },
    {
     "name": "stderr",
     "output_type": "stream",
     "text": [
      "Restoring states from the checkpoint path at /Users/benjaminvaca/Documents/USFQ/semestre7/machine_learning/proyecto/lightning_logs/version_211/checkpoints/epoch=0-step=34.ckpt\n",
      "Loaded model weights from the checkpoint at /Users/benjaminvaca/Documents/USFQ/semestre7/machine_learning/proyecto/lightning_logs/version_211/checkpoints/epoch=0-step=34.ckpt\n"
     ]
    },
    {
     "name": "stdout",
     "output_type": "stream",
     "text": [
      "Validation DataLoader 0: 100%|██████████| 34/34 [00:00<00:00, 466.33it/s]"
     ]
    },
    {
     "name": "stderr",
     "output_type": "stream",
     "text": [
      "Restoring states from the checkpoint path at /Users/benjaminvaca/Documents/USFQ/semestre7/machine_learning/proyecto/lightning_logs/version_211/checkpoints/epoch=0-step=34.ckpt\n"
     ]
    },
    {
     "name": "stdout",
     "output_type": "stream",
     "text": [
      "\n"
     ]
    },
    {
     "name": "stderr",
     "output_type": "stream",
     "text": [
      "Loaded model weights from the checkpoint at /Users/benjaminvaca/Documents/USFQ/semestre7/machine_learning/proyecto/lightning_logs/version_211/checkpoints/epoch=0-step=34.ckpt\n"
     ]
    },
    {
     "name": "stdout",
     "output_type": "stream",
     "text": [
      "Validation DataLoader 0: 100%|██████████| 9/9 [00:00<00:00, 374.78it/s]"
     ]
    },
    {
     "name": "stderr",
     "output_type": "stream",
     "text": [
      "Restoring states from the checkpoint path at /Users/benjaminvaca/Documents/USFQ/semestre7/machine_learning/proyecto/lightning_logs/version_211/checkpoints/epoch=0-step=34.ckpt\n"
     ]
    },
    {
     "name": "stdout",
     "output_type": "stream",
     "text": [
      "\n"
     ]
    },
    {
     "name": "stderr",
     "output_type": "stream",
     "text": [
      "Loaded model weights from the checkpoint at /Users/benjaminvaca/Documents/USFQ/semestre7/machine_learning/proyecto/lightning_logs/version_211/checkpoints/epoch=0-step=34.ckpt\n"
     ]
    },
    {
     "name": "stdout",
     "output_type": "stream",
     "text": [
      "Testing DataLoader 0: 100%|██████████| 11/11 [00:00<00:00, 198.98it/s]\n"
     ]
    },
    {
     "data": {
      "text/html": [
       "<pre style=\"white-space:pre;overflow-x:auto;line-height:normal;font-family:Menlo,'DejaVu Sans Mono',consolas,'Courier New',monospace\">┏━━━━━━━━━━━━━━━━━━━━━━━━━━━┳━━━━━━━━━━━━━━━━━━━━━━━━━━━┓\n",
       "┃<span style=\"font-weight: bold\">        Test metric        </span>┃<span style=\"font-weight: bold\">       DataLoader 0        </span>┃\n",
       "┡━━━━━━━━━━━━━━━━━━━━━━━━━━━╇━━━━━━━━━━━━━━━━━━━━━━━━━━━┩\n",
       "│<span style=\"color: #008080; text-decoration-color: #008080\">      test_f1ma_epoch      </span>│<span style=\"color: #800080; text-decoration-color: #800080\">    0.18672138452529907    </span>│\n",
       "│<span style=\"color: #008080; text-decoration-color: #008080\">      test_ham_epoch       </span>│<span style=\"color: #800080; text-decoration-color: #800080\">    0.3159619867801666     </span>│\n",
       "│<span style=\"color: #008080; text-decoration-color: #008080\">      test_loss_epoch      </span>│<span style=\"color: #800080; text-decoration-color: #800080\">    0.6280568242073059     </span>│\n",
       "└───────────────────────────┴───────────────────────────┘\n",
       "</pre>\n"
      ],
      "text/plain": [
       "┏━━━━━━━━━━━━━━━━━━━━━━━━━━━┳━━━━━━━━━━━━━━━━━━━━━━━━━━━┓\n",
       "┃\u001b[1m \u001b[0m\u001b[1m       Test metric       \u001b[0m\u001b[1m \u001b[0m┃\u001b[1m \u001b[0m\u001b[1m      DataLoader 0       \u001b[0m\u001b[1m \u001b[0m┃\n",
       "┡━━━━━━━━━━━━━━━━━━━━━━━━━━━╇━━━━━━━━━━━━━━━━━━━━━━━━━━━┩\n",
       "│\u001b[36m \u001b[0m\u001b[36m     test_f1ma_epoch     \u001b[0m\u001b[36m \u001b[0m│\u001b[35m \u001b[0m\u001b[35m   0.18672138452529907   \u001b[0m\u001b[35m \u001b[0m│\n",
       "│\u001b[36m \u001b[0m\u001b[36m     test_ham_epoch      \u001b[0m\u001b[36m \u001b[0m│\u001b[35m \u001b[0m\u001b[35m   0.3159619867801666    \u001b[0m\u001b[35m \u001b[0m│\n",
       "│\u001b[36m \u001b[0m\u001b[36m     test_loss_epoch     \u001b[0m\u001b[36m \u001b[0m│\u001b[35m \u001b[0m\u001b[35m   0.6280568242073059    \u001b[0m\u001b[35m \u001b[0m│\n",
       "└───────────────────────────┴───────────────────────────┘\n"
      ]
     },
     "metadata": {},
     "output_type": "display_data"
    },
    {
     "name": "stdout",
     "output_type": "stream",
     "text": [
      "  loss: 0.6281 | hamming: 0.3160 | f1_macro: 0.1867\n",
      "Fold 3/10\n"
     ]
    },
    {
     "name": "stderr",
     "output_type": "stream",
     "text": [
      "GPU available: True (mps), used: False\n",
      "TPU available: False, using: 0 TPU cores\n",
      "HPU available: False, using: 0 HPUs\n",
      "\n",
      "  | Name       | Type                      | Params | Mode \n",
      "-----------------------------------------------------------------\n",
      "0 | classifier | Sequential                | 240 K  | train\n",
      "1 | loss       | BCEWithLogitsLoss         | 0      | train\n",
      "2 | hamming    | MultilabelHammingDistance | 0      | train\n",
      "3 | f1_macro   | MultilabelF1Score         | 0      | train\n",
      "-----------------------------------------------------------------\n",
      "240 K     Trainable params\n",
      "0         Non-trainable params\n",
      "240 K     Total params\n",
      "0.961     Total estimated model params size (MB)\n",
      "17        Modules in train mode\n",
      "0         Modules in eval mode\n"
     ]
    },
    {
     "name": "stdout",
     "output_type": "stream",
     "text": [
      "Epoch 3: 100%|██████████| 34/34 [00:00<00:00, 172.25it/s, v_num=212, train_loss=0.564, train_ham=0.307, train_f1ma=0.231, val_loss_step=0.560, val_ham_step=0.415, val_f1ma_step=0.0261, val_loss_epoch=0.583, val_ham_epoch=0.299, val_f1ma_epoch=0.144]"
     ]
    },
    {
     "name": "stderr",
     "output_type": "stream",
     "text": [
      "Restoring states from the checkpoint path at /Users/benjaminvaca/Documents/USFQ/semestre7/machine_learning/proyecto/lightning_logs/version_212/checkpoints/epoch=0-step=34.ckpt\n"
     ]
    },
    {
     "name": "stdout",
     "output_type": "stream",
     "text": [
      "\n"
     ]
    },
    {
     "name": "stderr",
     "output_type": "stream",
     "text": [
      "Loaded model weights from the checkpoint at /Users/benjaminvaca/Documents/USFQ/semestre7/machine_learning/proyecto/lightning_logs/version_212/checkpoints/epoch=0-step=34.ckpt\n"
     ]
    },
    {
     "name": "stdout",
     "output_type": "stream",
     "text": [
      "Validation DataLoader 0: 100%|██████████| 34/34 [00:00<00:00, 419.83it/s]\n"
     ]
    },
    {
     "name": "stderr",
     "output_type": "stream",
     "text": [
      "Restoring states from the checkpoint path at /Users/benjaminvaca/Documents/USFQ/semestre7/machine_learning/proyecto/lightning_logs/version_212/checkpoints/epoch=0-step=34.ckpt\n",
      "Loaded model weights from the checkpoint at /Users/benjaminvaca/Documents/USFQ/semestre7/machine_learning/proyecto/lightning_logs/version_212/checkpoints/epoch=0-step=34.ckpt\n"
     ]
    },
    {
     "name": "stdout",
     "output_type": "stream",
     "text": [
      "Validation DataLoader 0: 100%|██████████| 9/9 [00:00<00:00, 196.66it/s]"
     ]
    },
    {
     "name": "stderr",
     "output_type": "stream",
     "text": [
      "Restoring states from the checkpoint path at /Users/benjaminvaca/Documents/USFQ/semestre7/machine_learning/proyecto/lightning_logs/version_212/checkpoints/epoch=0-step=34.ckpt\n"
     ]
    },
    {
     "name": "stdout",
     "output_type": "stream",
     "text": [
      "\n"
     ]
    },
    {
     "name": "stderr",
     "output_type": "stream",
     "text": [
      "Loaded model weights from the checkpoint at /Users/benjaminvaca/Documents/USFQ/semestre7/machine_learning/proyecto/lightning_logs/version_212/checkpoints/epoch=0-step=34.ckpt\n"
     ]
    },
    {
     "name": "stdout",
     "output_type": "stream",
     "text": [
      "Testing DataLoader 0: 100%|██████████| 11/11 [00:00<00:00, 383.33it/s]\n"
     ]
    },
    {
     "data": {
      "text/html": [
       "<pre style=\"white-space:pre;overflow-x:auto;line-height:normal;font-family:Menlo,'DejaVu Sans Mono',consolas,'Courier New',monospace\">┏━━━━━━━━━━━━━━━━━━━━━━━━━━━┳━━━━━━━━━━━━━━━━━━━━━━━━━━━┓\n",
       "┃<span style=\"font-weight: bold\">        Test metric        </span>┃<span style=\"font-weight: bold\">       DataLoader 0        </span>┃\n",
       "┡━━━━━━━━━━━━━━━━━━━━━━━━━━━╇━━━━━━━━━━━━━━━━━━━━━━━━━━━┩\n",
       "│<span style=\"color: #008080; text-decoration-color: #008080\">      test_f1ma_epoch      </span>│<span style=\"color: #800080; text-decoration-color: #800080\">    0.2361776977777481     </span>│\n",
       "│<span style=\"color: #008080; text-decoration-color: #008080\">      test_ham_epoch       </span>│<span style=\"color: #800080; text-decoration-color: #800080\">    0.3343166410923004     </span>│\n",
       "│<span style=\"color: #008080; text-decoration-color: #008080\">      test_loss_epoch      </span>│<span style=\"color: #800080; text-decoration-color: #800080\">    0.6441705822944641     </span>│\n",
       "└───────────────────────────┴───────────────────────────┘\n",
       "</pre>\n"
      ],
      "text/plain": [
       "┏━━━━━━━━━━━━━━━━━━━━━━━━━━━┳━━━━━━━━━━━━━━━━━━━━━━━━━━━┓\n",
       "┃\u001b[1m \u001b[0m\u001b[1m       Test metric       \u001b[0m\u001b[1m \u001b[0m┃\u001b[1m \u001b[0m\u001b[1m      DataLoader 0       \u001b[0m\u001b[1m \u001b[0m┃\n",
       "┡━━━━━━━━━━━━━━━━━━━━━━━━━━━╇━━━━━━━━━━━━━━━━━━━━━━━━━━━┩\n",
       "│\u001b[36m \u001b[0m\u001b[36m     test_f1ma_epoch     \u001b[0m\u001b[36m \u001b[0m│\u001b[35m \u001b[0m\u001b[35m   0.2361776977777481    \u001b[0m\u001b[35m \u001b[0m│\n",
       "│\u001b[36m \u001b[0m\u001b[36m     test_ham_epoch      \u001b[0m\u001b[36m \u001b[0m│\u001b[35m \u001b[0m\u001b[35m   0.3343166410923004    \u001b[0m\u001b[35m \u001b[0m│\n",
       "│\u001b[36m \u001b[0m\u001b[36m     test_loss_epoch     \u001b[0m\u001b[36m \u001b[0m│\u001b[35m \u001b[0m\u001b[35m   0.6441705822944641    \u001b[0m\u001b[35m \u001b[0m│\n",
       "└───────────────────────────┴───────────────────────────┘\n"
      ]
     },
     "metadata": {},
     "output_type": "display_data"
    },
    {
     "name": "stdout",
     "output_type": "stream",
     "text": [
      "  loss: 0.6442 | hamming: 0.3343 | f1_macro: 0.2362\n",
      "Fold 4/10\n"
     ]
    },
    {
     "name": "stderr",
     "output_type": "stream",
     "text": [
      "GPU available: True (mps), used: False\n",
      "TPU available: False, using: 0 TPU cores\n",
      "HPU available: False, using: 0 HPUs\n",
      "\n",
      "  | Name       | Type                      | Params | Mode \n",
      "-----------------------------------------------------------------\n",
      "0 | classifier | Sequential                | 240 K  | train\n",
      "1 | loss       | BCEWithLogitsLoss         | 0      | train\n",
      "2 | hamming    | MultilabelHammingDistance | 0      | train\n",
      "3 | f1_macro   | MultilabelF1Score         | 0      | train\n",
      "-----------------------------------------------------------------\n",
      "240 K     Trainable params\n",
      "0         Non-trainable params\n",
      "240 K     Total params\n",
      "0.961     Total estimated model params size (MB)\n",
      "17        Modules in train mode\n",
      "0         Modules in eval mode\n"
     ]
    },
    {
     "name": "stdout",
     "output_type": "stream",
     "text": [
      "Epoch 3: 100%|██████████| 34/34 [00:00<00:00, 187.51it/s, v_num=213, train_loss=0.591, train_ham=0.326, train_f1ma=0.191, val_loss_step=0.587, val_ham_step=0.407, val_f1ma_step=0.0468, val_loss_epoch=0.593, val_ham_epoch=0.304, val_f1ma_epoch=0.132]\n"
     ]
    },
    {
     "name": "stderr",
     "output_type": "stream",
     "text": [
      "Restoring states from the checkpoint path at /Users/benjaminvaca/Documents/USFQ/semestre7/machine_learning/proyecto/lightning_logs/version_213/checkpoints/epoch=0-step=34.ckpt\n",
      "Loaded model weights from the checkpoint at /Users/benjaminvaca/Documents/USFQ/semestre7/machine_learning/proyecto/lightning_logs/version_213/checkpoints/epoch=0-step=34.ckpt\n"
     ]
    },
    {
     "name": "stdout",
     "output_type": "stream",
     "text": [
      "Validation DataLoader 0: 100%|██████████| 34/34 [00:00<00:00, 465.33it/s]"
     ]
    },
    {
     "name": "stderr",
     "output_type": "stream",
     "text": [
      "Restoring states from the checkpoint path at /Users/benjaminvaca/Documents/USFQ/semestre7/machine_learning/proyecto/lightning_logs/version_213/checkpoints/epoch=0-step=34.ckpt\n"
     ]
    },
    {
     "name": "stdout",
     "output_type": "stream",
     "text": [
      "\n"
     ]
    },
    {
     "name": "stderr",
     "output_type": "stream",
     "text": [
      "Loaded model weights from the checkpoint at /Users/benjaminvaca/Documents/USFQ/semestre7/machine_learning/proyecto/lightning_logs/version_213/checkpoints/epoch=0-step=34.ckpt\n"
     ]
    },
    {
     "name": "stdout",
     "output_type": "stream",
     "text": [
      "Validation DataLoader 0: 100%|██████████| 9/9 [00:00<00:00, 219.23it/s]"
     ]
    },
    {
     "name": "stderr",
     "output_type": "stream",
     "text": [
      "Restoring states from the checkpoint path at /Users/benjaminvaca/Documents/USFQ/semestre7/machine_learning/proyecto/lightning_logs/version_213/checkpoints/epoch=0-step=34.ckpt\n"
     ]
    },
    {
     "name": "stdout",
     "output_type": "stream",
     "text": [
      "\n"
     ]
    },
    {
     "name": "stderr",
     "output_type": "stream",
     "text": [
      "Loaded model weights from the checkpoint at /Users/benjaminvaca/Documents/USFQ/semestre7/machine_learning/proyecto/lightning_logs/version_213/checkpoints/epoch=0-step=34.ckpt\n"
     ]
    },
    {
     "name": "stdout",
     "output_type": "stream",
     "text": [
      "Testing DataLoader 0: 100%|██████████| 11/11 [00:00<00:00, 394.82it/s]\n"
     ]
    },
    {
     "data": {
      "text/html": [
       "<pre style=\"white-space:pre;overflow-x:auto;line-height:normal;font-family:Menlo,'DejaVu Sans Mono',consolas,'Courier New',monospace\">┏━━━━━━━━━━━━━━━━━━━━━━━━━━━┳━━━━━━━━━━━━━━━━━━━━━━━━━━━┓\n",
       "┃<span style=\"font-weight: bold\">        Test metric        </span>┃<span style=\"font-weight: bold\">       DataLoader 0        </span>┃\n",
       "┡━━━━━━━━━━━━━━━━━━━━━━━━━━━╇━━━━━━━━━━━━━━━━━━━━━━━━━━━┩\n",
       "│<span style=\"color: #008080; text-decoration-color: #008080\">      test_f1ma_epoch      </span>│<span style=\"color: #800080; text-decoration-color: #800080\">    0.1509324312210083     </span>│\n",
       "│<span style=\"color: #008080; text-decoration-color: #008080\">      test_ham_epoch       </span>│<span style=\"color: #800080; text-decoration-color: #800080\">    0.3162897527217865     </span>│\n",
       "│<span style=\"color: #008080; text-decoration-color: #008080\">      test_loss_epoch      </span>│<span style=\"color: #800080; text-decoration-color: #800080\">    0.6440826058387756     </span>│\n",
       "└───────────────────────────┴───────────────────────────┘\n",
       "</pre>\n"
      ],
      "text/plain": [
       "┏━━━━━━━━━━━━━━━━━━━━━━━━━━━┳━━━━━━━━━━━━━━━━━━━━━━━━━━━┓\n",
       "┃\u001b[1m \u001b[0m\u001b[1m       Test metric       \u001b[0m\u001b[1m \u001b[0m┃\u001b[1m \u001b[0m\u001b[1m      DataLoader 0       \u001b[0m\u001b[1m \u001b[0m┃\n",
       "┡━━━━━━━━━━━━━━━━━━━━━━━━━━━╇━━━━━━━━━━━━━━━━━━━━━━━━━━━┩\n",
       "│\u001b[36m \u001b[0m\u001b[36m     test_f1ma_epoch     \u001b[0m\u001b[36m \u001b[0m│\u001b[35m \u001b[0m\u001b[35m   0.1509324312210083    \u001b[0m\u001b[35m \u001b[0m│\n",
       "│\u001b[36m \u001b[0m\u001b[36m     test_ham_epoch      \u001b[0m\u001b[36m \u001b[0m│\u001b[35m \u001b[0m\u001b[35m   0.3162897527217865    \u001b[0m\u001b[35m \u001b[0m│\n",
       "│\u001b[36m \u001b[0m\u001b[36m     test_loss_epoch     \u001b[0m\u001b[36m \u001b[0m│\u001b[35m \u001b[0m\u001b[35m   0.6440826058387756    \u001b[0m\u001b[35m \u001b[0m│\n",
       "└───────────────────────────┴───────────────────────────┘\n"
      ]
     },
     "metadata": {},
     "output_type": "display_data"
    },
    {
     "name": "stdout",
     "output_type": "stream",
     "text": [
      "  loss: 0.6441 | hamming: 0.3163 | f1_macro: 0.1509\n",
      "Fold 5/10\n"
     ]
    },
    {
     "name": "stderr",
     "output_type": "stream",
     "text": [
      "GPU available: True (mps), used: False\n",
      "TPU available: False, using: 0 TPU cores\n",
      "HPU available: False, using: 0 HPUs\n",
      "\n",
      "  | Name       | Type                      | Params | Mode \n",
      "-----------------------------------------------------------------\n",
      "0 | classifier | Sequential                | 240 K  | train\n",
      "1 | loss       | BCEWithLogitsLoss         | 0      | train\n",
      "2 | hamming    | MultilabelHammingDistance | 0      | train\n",
      "3 | f1_macro   | MultilabelF1Score         | 0      | train\n",
      "-----------------------------------------------------------------\n",
      "240 K     Trainable params\n",
      "0         Non-trainable params\n",
      "240 K     Total params\n",
      "0.961     Total estimated model params size (MB)\n",
      "17        Modules in train mode\n",
      "0         Modules in eval mode\n"
     ]
    },
    {
     "name": "stdout",
     "output_type": "stream",
     "text": [
      "Epoch 3: 100%|██████████| 34/34 [00:00<00:00, 189.25it/s, v_num=214, train_loss=0.601, train_ham=0.326, train_f1ma=0.220, val_loss_step=0.572, val_ham_step=0.356, val_f1ma_step=0.0635, val_loss_epoch=0.574, val_ham_epoch=0.294, val_f1ma_epoch=0.131]\n"
     ]
    },
    {
     "name": "stderr",
     "output_type": "stream",
     "text": [
      "Restoring states from the checkpoint path at /Users/benjaminvaca/Documents/USFQ/semestre7/machine_learning/proyecto/lightning_logs/version_214/checkpoints/epoch=0-step=34.ckpt\n",
      "Loaded model weights from the checkpoint at /Users/benjaminvaca/Documents/USFQ/semestre7/machine_learning/proyecto/lightning_logs/version_214/checkpoints/epoch=0-step=34.ckpt\n"
     ]
    },
    {
     "name": "stdout",
     "output_type": "stream",
     "text": [
      "Validation DataLoader 0: 100%|██████████| 34/34 [00:00<00:00, 376.23it/s]\n"
     ]
    },
    {
     "name": "stderr",
     "output_type": "stream",
     "text": [
      "Restoring states from the checkpoint path at /Users/benjaminvaca/Documents/USFQ/semestre7/machine_learning/proyecto/lightning_logs/version_214/checkpoints/epoch=0-step=34.ckpt\n",
      "Loaded model weights from the checkpoint at /Users/benjaminvaca/Documents/USFQ/semestre7/machine_learning/proyecto/lightning_logs/version_214/checkpoints/epoch=0-step=34.ckpt\n"
     ]
    },
    {
     "name": "stdout",
     "output_type": "stream",
     "text": [
      "Validation DataLoader 0: 100%|██████████| 9/9 [00:00<00:00, 434.57it/s]"
     ]
    },
    {
     "name": "stderr",
     "output_type": "stream",
     "text": [
      "Restoring states from the checkpoint path at /Users/benjaminvaca/Documents/USFQ/semestre7/machine_learning/proyecto/lightning_logs/version_214/checkpoints/epoch=0-step=34.ckpt\n"
     ]
    },
    {
     "name": "stdout",
     "output_type": "stream",
     "text": [
      "\n"
     ]
    },
    {
     "name": "stderr",
     "output_type": "stream",
     "text": [
      "Loaded model weights from the checkpoint at /Users/benjaminvaca/Documents/USFQ/semestre7/machine_learning/proyecto/lightning_logs/version_214/checkpoints/epoch=0-step=34.ckpt\n"
     ]
    },
    {
     "name": "stdout",
     "output_type": "stream",
     "text": [
      "Testing DataLoader 0: 100%|██████████| 11/11 [00:00<00:00, 411.37it/s]\n"
     ]
    },
    {
     "data": {
      "text/html": [
       "<pre style=\"white-space:pre;overflow-x:auto;line-height:normal;font-family:Menlo,'DejaVu Sans Mono',consolas,'Courier New',monospace\">┏━━━━━━━━━━━━━━━━━━━━━━━━━━━┳━━━━━━━━━━━━━━━━━━━━━━━━━━━┓\n",
       "┃<span style=\"font-weight: bold\">        Test metric        </span>┃<span style=\"font-weight: bold\">       DataLoader 0        </span>┃\n",
       "┡━━━━━━━━━━━━━━━━━━━━━━━━━━━╇━━━━━━━━━━━━━━━━━━━━━━━━━━━┩\n",
       "│<span style=\"color: #008080; text-decoration-color: #008080\">      test_f1ma_epoch      </span>│<span style=\"color: #800080; text-decoration-color: #800080\">    0.22218649089336395    </span>│\n",
       "│<span style=\"color: #008080; text-decoration-color: #008080\">      test_ham_epoch       </span>│<span style=\"color: #800080; text-decoration-color: #800080\">    0.3356276750564575     </span>│\n",
       "│<span style=\"color: #008080; text-decoration-color: #008080\">      test_loss_epoch      </span>│<span style=\"color: #800080; text-decoration-color: #800080\">    0.6424587368965149     </span>│\n",
       "└───────────────────────────┴───────────────────────────┘\n",
       "</pre>\n"
      ],
      "text/plain": [
       "┏━━━━━━━━━━━━━━━━━━━━━━━━━━━┳━━━━━━━━━━━━━━━━━━━━━━━━━━━┓\n",
       "┃\u001b[1m \u001b[0m\u001b[1m       Test metric       \u001b[0m\u001b[1m \u001b[0m┃\u001b[1m \u001b[0m\u001b[1m      DataLoader 0       \u001b[0m\u001b[1m \u001b[0m┃\n",
       "┡━━━━━━━━━━━━━━━━━━━━━━━━━━━╇━━━━━━━━━━━━━━━━━━━━━━━━━━━┩\n",
       "│\u001b[36m \u001b[0m\u001b[36m     test_f1ma_epoch     \u001b[0m\u001b[36m \u001b[0m│\u001b[35m \u001b[0m\u001b[35m   0.22218649089336395   \u001b[0m\u001b[35m \u001b[0m│\n",
       "│\u001b[36m \u001b[0m\u001b[36m     test_ham_epoch      \u001b[0m\u001b[36m \u001b[0m│\u001b[35m \u001b[0m\u001b[35m   0.3356276750564575    \u001b[0m\u001b[35m \u001b[0m│\n",
       "│\u001b[36m \u001b[0m\u001b[36m     test_loss_epoch     \u001b[0m\u001b[36m \u001b[0m│\u001b[35m \u001b[0m\u001b[35m   0.6424587368965149    \u001b[0m\u001b[35m \u001b[0m│\n",
       "└───────────────────────────┴───────────────────────────┘\n"
      ]
     },
     "metadata": {},
     "output_type": "display_data"
    },
    {
     "name": "stdout",
     "output_type": "stream",
     "text": [
      "  loss: 0.6425 | hamming: 0.3356 | f1_macro: 0.2222\n",
      "Fold 6/10\n"
     ]
    },
    {
     "name": "stderr",
     "output_type": "stream",
     "text": [
      "GPU available: True (mps), used: False\n",
      "TPU available: False, using: 0 TPU cores\n",
      "HPU available: False, using: 0 HPUs\n",
      "\n",
      "  | Name       | Type                      | Params | Mode \n",
      "-----------------------------------------------------------------\n",
      "0 | classifier | Sequential                | 240 K  | train\n",
      "1 | loss       | BCEWithLogitsLoss         | 0      | train\n",
      "2 | hamming    | MultilabelHammingDistance | 0      | train\n",
      "3 | f1_macro   | MultilabelF1Score         | 0      | train\n",
      "-----------------------------------------------------------------\n",
      "240 K     Trainable params\n",
      "0         Non-trainable params\n",
      "240 K     Total params\n",
      "0.961     Total estimated model params size (MB)\n",
      "17        Modules in train mode\n",
      "0         Modules in eval mode\n"
     ]
    },
    {
     "name": "stdout",
     "output_type": "stream",
     "text": [
      "Epoch 3: 100%|██████████| 34/34 [00:00<00:00, 174.19it/s, v_num=215, train_loss=0.576, train_ham=0.272, train_f1ma=0.318, val_loss_step=0.624, val_ham_step=0.347, val_f1ma_step=0.0853, val_loss_epoch=0.571, val_ham_epoch=0.297, val_f1ma_epoch=0.135]"
     ]
    },
    {
     "name": "stderr",
     "output_type": "stream",
     "text": [
      "Restoring states from the checkpoint path at /Users/benjaminvaca/Documents/USFQ/semestre7/machine_learning/proyecto/lightning_logs/version_215/checkpoints/epoch=0-step=34.ckpt\n"
     ]
    },
    {
     "name": "stdout",
     "output_type": "stream",
     "text": [
      "\n"
     ]
    },
    {
     "name": "stderr",
     "output_type": "stream",
     "text": [
      "Loaded model weights from the checkpoint at /Users/benjaminvaca/Documents/USFQ/semestre7/machine_learning/proyecto/lightning_logs/version_215/checkpoints/epoch=0-step=34.ckpt\n"
     ]
    },
    {
     "name": "stdout",
     "output_type": "stream",
     "text": [
      "Validation DataLoader 0: 100%|██████████| 34/34 [00:00<00:00, 475.04it/s]\n"
     ]
    },
    {
     "name": "stderr",
     "output_type": "stream",
     "text": [
      "Restoring states from the checkpoint path at /Users/benjaminvaca/Documents/USFQ/semestre7/machine_learning/proyecto/lightning_logs/version_215/checkpoints/epoch=0-step=34.ckpt\n",
      "Loaded model weights from the checkpoint at /Users/benjaminvaca/Documents/USFQ/semestre7/machine_learning/proyecto/lightning_logs/version_215/checkpoints/epoch=0-step=34.ckpt\n"
     ]
    },
    {
     "name": "stdout",
     "output_type": "stream",
     "text": [
      "Validation DataLoader 0: 100%|██████████| 9/9 [00:00<00:00, 408.23it/s]"
     ]
    },
    {
     "name": "stderr",
     "output_type": "stream",
     "text": [
      "Restoring states from the checkpoint path at /Users/benjaminvaca/Documents/USFQ/semestre7/machine_learning/proyecto/lightning_logs/version_215/checkpoints/epoch=0-step=34.ckpt\n"
     ]
    },
    {
     "name": "stdout",
     "output_type": "stream",
     "text": [
      "\n"
     ]
    },
    {
     "name": "stderr",
     "output_type": "stream",
     "text": [
      "Loaded model weights from the checkpoint at /Users/benjaminvaca/Documents/USFQ/semestre7/machine_learning/proyecto/lightning_logs/version_215/checkpoints/epoch=0-step=34.ckpt\n"
     ]
    },
    {
     "name": "stdout",
     "output_type": "stream",
     "text": [
      "Testing DataLoader 0: 100%|██████████| 11/11 [00:00<00:00, 424.68it/s]\n"
     ]
    },
    {
     "data": {
      "text/html": [
       "<pre style=\"white-space:pre;overflow-x:auto;line-height:normal;font-family:Menlo,'DejaVu Sans Mono',consolas,'Courier New',monospace\">┏━━━━━━━━━━━━━━━━━━━━━━━━━━━┳━━━━━━━━━━━━━━━━━━━━━━━━━━━┓\n",
       "┃<span style=\"font-weight: bold\">        Test metric        </span>┃<span style=\"font-weight: bold\">       DataLoader 0        </span>┃\n",
       "┡━━━━━━━━━━━━━━━━━━━━━━━━━━━╇━━━━━━━━━━━━━━━━━━━━━━━━━━━┩\n",
       "│<span style=\"color: #008080; text-decoration-color: #008080\">      test_f1ma_epoch      </span>│<span style=\"color: #800080; text-decoration-color: #800080\">    0.20021913945674896    </span>│\n",
       "│<span style=\"color: #008080; text-decoration-color: #008080\">      test_ham_epoch       </span>│<span style=\"color: #800080; text-decoration-color: #800080\">    0.3185841143131256     </span>│\n",
       "│<span style=\"color: #008080; text-decoration-color: #008080\">      test_loss_epoch      </span>│<span style=\"color: #800080; text-decoration-color: #800080\">    0.6300895810127258     </span>│\n",
       "└───────────────────────────┴───────────────────────────┘\n",
       "</pre>\n"
      ],
      "text/plain": [
       "┏━━━━━━━━━━━━━━━━━━━━━━━━━━━┳━━━━━━━━━━━━━━━━━━━━━━━━━━━┓\n",
       "┃\u001b[1m \u001b[0m\u001b[1m       Test metric       \u001b[0m\u001b[1m \u001b[0m┃\u001b[1m \u001b[0m\u001b[1m      DataLoader 0       \u001b[0m\u001b[1m \u001b[0m┃\n",
       "┡━━━━━━━━━━━━━━━━━━━━━━━━━━━╇━━━━━━━━━━━━━━━━━━━━━━━━━━━┩\n",
       "│\u001b[36m \u001b[0m\u001b[36m     test_f1ma_epoch     \u001b[0m\u001b[36m \u001b[0m│\u001b[35m \u001b[0m\u001b[35m   0.20021913945674896   \u001b[0m\u001b[35m \u001b[0m│\n",
       "│\u001b[36m \u001b[0m\u001b[36m     test_ham_epoch      \u001b[0m\u001b[36m \u001b[0m│\u001b[35m \u001b[0m\u001b[35m   0.3185841143131256    \u001b[0m\u001b[35m \u001b[0m│\n",
       "│\u001b[36m \u001b[0m\u001b[36m     test_loss_epoch     \u001b[0m\u001b[36m \u001b[0m│\u001b[35m \u001b[0m\u001b[35m   0.6300895810127258    \u001b[0m\u001b[35m \u001b[0m│\n",
       "└───────────────────────────┴───────────────────────────┘\n"
      ]
     },
     "metadata": {},
     "output_type": "display_data"
    },
    {
     "name": "stdout",
     "output_type": "stream",
     "text": [
      "  loss: 0.6301 | hamming: 0.3186 | f1_macro: 0.2002\n",
      "Fold 7/10\n"
     ]
    },
    {
     "name": "stderr",
     "output_type": "stream",
     "text": [
      "GPU available: True (mps), used: False\n",
      "TPU available: False, using: 0 TPU cores\n",
      "HPU available: False, using: 0 HPUs\n",
      "\n",
      "  | Name       | Type                      | Params | Mode \n",
      "-----------------------------------------------------------------\n",
      "0 | classifier | Sequential                | 240 K  | train\n",
      "1 | loss       | BCEWithLogitsLoss         | 0      | train\n",
      "2 | hamming    | MultilabelHammingDistance | 0      | train\n",
      "3 | f1_macro   | MultilabelF1Score         | 0      | train\n",
      "-----------------------------------------------------------------\n",
      "240 K     Trainable params\n",
      "0         Non-trainable params\n",
      "240 K     Total params\n",
      "0.961     Total estimated model params size (MB)\n",
      "17        Modules in train mode\n",
      "0         Modules in eval mode\n"
     ]
    },
    {
     "name": "stdout",
     "output_type": "stream",
     "text": [
      "Epoch 3: 100%|██████████| 34/34 [00:00<00:00, 163.24it/s, v_num=216, train_loss=0.555, train_ham=0.264, train_f1ma=0.329, val_loss_step=0.557, val_ham_step=0.354, val_f1ma_step=0.0853, val_loss_epoch=0.576, val_ham_epoch=0.293, val_f1ma_epoch=0.140]\n"
     ]
    },
    {
     "name": "stderr",
     "output_type": "stream",
     "text": [
      "Restoring states from the checkpoint path at /Users/benjaminvaca/Documents/USFQ/semestre7/machine_learning/proyecto/lightning_logs/version_216/checkpoints/epoch=0-step=34.ckpt\n",
      "Loaded model weights from the checkpoint at /Users/benjaminvaca/Documents/USFQ/semestre7/machine_learning/proyecto/lightning_logs/version_216/checkpoints/epoch=0-step=34.ckpt\n"
     ]
    },
    {
     "name": "stdout",
     "output_type": "stream",
     "text": [
      "Validation DataLoader 0: 100%|██████████| 34/34 [00:00<00:00, 447.45it/s]"
     ]
    },
    {
     "name": "stderr",
     "output_type": "stream",
     "text": [
      "Restoring states from the checkpoint path at /Users/benjaminvaca/Documents/USFQ/semestre7/machine_learning/proyecto/lightning_logs/version_216/checkpoints/epoch=0-step=34.ckpt\n"
     ]
    },
    {
     "name": "stdout",
     "output_type": "stream",
     "text": [
      "\n"
     ]
    },
    {
     "name": "stderr",
     "output_type": "stream",
     "text": [
      "Loaded model weights from the checkpoint at /Users/benjaminvaca/Documents/USFQ/semestre7/machine_learning/proyecto/lightning_logs/version_216/checkpoints/epoch=0-step=34.ckpt\n"
     ]
    },
    {
     "name": "stdout",
     "output_type": "stream",
     "text": [
      "Validation DataLoader 0: 100%|██████████| 9/9 [00:00<00:00, 436.33it/s]"
     ]
    },
    {
     "name": "stderr",
     "output_type": "stream",
     "text": [
      "Restoring states from the checkpoint path at /Users/benjaminvaca/Documents/USFQ/semestre7/machine_learning/proyecto/lightning_logs/version_216/checkpoints/epoch=0-step=34.ckpt\n"
     ]
    },
    {
     "name": "stdout",
     "output_type": "stream",
     "text": [
      "\n"
     ]
    },
    {
     "name": "stderr",
     "output_type": "stream",
     "text": [
      "Loaded model weights from the checkpoint at /Users/benjaminvaca/Documents/USFQ/semestre7/machine_learning/proyecto/lightning_logs/version_216/checkpoints/epoch=0-step=34.ckpt\n"
     ]
    },
    {
     "name": "stdout",
     "output_type": "stream",
     "text": [
      "Testing DataLoader 0: 100%|██████████| 11/11 [00:00<00:00, 444.38it/s]\n"
     ]
    },
    {
     "data": {
      "text/html": [
       "<pre style=\"white-space:pre;overflow-x:auto;line-height:normal;font-family:Menlo,'DejaVu Sans Mono',consolas,'Courier New',monospace\">┏━━━━━━━━━━━━━━━━━━━━━━━━━━━┳━━━━━━━━━━━━━━━━━━━━━━━━━━━┓\n",
       "┃<span style=\"font-weight: bold\">        Test metric        </span>┃<span style=\"font-weight: bold\">       DataLoader 0        </span>┃\n",
       "┡━━━━━━━━━━━━━━━━━━━━━━━━━━━╇━━━━━━━━━━━━━━━━━━━━━━━━━━━┩\n",
       "│<span style=\"color: #008080; text-decoration-color: #008080\">      test_f1ma_epoch      </span>│<span style=\"color: #800080; text-decoration-color: #800080\">    0.16888387501239777    </span>│\n",
       "│<span style=\"color: #008080; text-decoration-color: #008080\">      test_ham_epoch       </span>│<span style=\"color: #800080; text-decoration-color: #800080\">    0.33366113901138306    </span>│\n",
       "│<span style=\"color: #008080; text-decoration-color: #008080\">      test_loss_epoch      </span>│<span style=\"color: #800080; text-decoration-color: #800080\">    0.6403151750564575     </span>│\n",
       "└───────────────────────────┴───────────────────────────┘\n",
       "</pre>\n"
      ],
      "text/plain": [
       "┏━━━━━━━━━━━━━━━━━━━━━━━━━━━┳━━━━━━━━━━━━━━━━━━━━━━━━━━━┓\n",
       "┃\u001b[1m \u001b[0m\u001b[1m       Test metric       \u001b[0m\u001b[1m \u001b[0m┃\u001b[1m \u001b[0m\u001b[1m      DataLoader 0       \u001b[0m\u001b[1m \u001b[0m┃\n",
       "┡━━━━━━━━━━━━━━━━━━━━━━━━━━━╇━━━━━━━━━━━━━━━━━━━━━━━━━━━┩\n",
       "│\u001b[36m \u001b[0m\u001b[36m     test_f1ma_epoch     \u001b[0m\u001b[36m \u001b[0m│\u001b[35m \u001b[0m\u001b[35m   0.16888387501239777   \u001b[0m\u001b[35m \u001b[0m│\n",
       "│\u001b[36m \u001b[0m\u001b[36m     test_ham_epoch      \u001b[0m\u001b[36m \u001b[0m│\u001b[35m \u001b[0m\u001b[35m   0.33366113901138306   \u001b[0m\u001b[35m \u001b[0m│\n",
       "│\u001b[36m \u001b[0m\u001b[36m     test_loss_epoch     \u001b[0m\u001b[36m \u001b[0m│\u001b[35m \u001b[0m\u001b[35m   0.6403151750564575    \u001b[0m\u001b[35m \u001b[0m│\n",
       "└───────────────────────────┴───────────────────────────┘\n"
      ]
     },
     "metadata": {},
     "output_type": "display_data"
    },
    {
     "name": "stdout",
     "output_type": "stream",
     "text": [
      "  loss: 0.6403 | hamming: 0.3337 | f1_macro: 0.1689\n",
      "Fold 8/10\n"
     ]
    },
    {
     "name": "stderr",
     "output_type": "stream",
     "text": [
      "GPU available: True (mps), used: False\n",
      "TPU available: False, using: 0 TPU cores\n",
      "HPU available: False, using: 0 HPUs\n",
      "\n",
      "  | Name       | Type                      | Params | Mode \n",
      "-----------------------------------------------------------------\n",
      "0 | classifier | Sequential                | 240 K  | train\n",
      "1 | loss       | BCEWithLogitsLoss         | 0      | train\n",
      "2 | hamming    | MultilabelHammingDistance | 0      | train\n",
      "3 | f1_macro   | MultilabelF1Score         | 0      | train\n",
      "-----------------------------------------------------------------\n",
      "240 K     Trainable params\n",
      "0         Non-trainable params\n",
      "240 K     Total params\n",
      "0.961     Total estimated model params size (MB)\n",
      "17        Modules in train mode\n",
      "0         Modules in eval mode\n"
     ]
    },
    {
     "name": "stdout",
     "output_type": "stream",
     "text": [
      "Epoch 4: 100%|██████████| 34/34 [00:00<00:00, 160.86it/s, v_num=217, train_loss=0.555, train_ham=0.341, train_f1ma=0.217, val_loss_step=0.587, val_ham_step=0.400, val_f1ma_step=0.037, val_loss_epoch=0.579, val_ham_epoch=0.290, val_f1ma_epoch=0.138] \n"
     ]
    },
    {
     "name": "stderr",
     "output_type": "stream",
     "text": [
      "Restoring states from the checkpoint path at /Users/benjaminvaca/Documents/USFQ/semestre7/machine_learning/proyecto/lightning_logs/version_217/checkpoints/epoch=1-step=68.ckpt\n",
      "Loaded model weights from the checkpoint at /Users/benjaminvaca/Documents/USFQ/semestre7/machine_learning/proyecto/lightning_logs/version_217/checkpoints/epoch=1-step=68.ckpt\n"
     ]
    },
    {
     "name": "stdout",
     "output_type": "stream",
     "text": [
      "Validation DataLoader 0: 100%|██████████| 34/34 [00:00<00:00, 445.83it/s]\n"
     ]
    },
    {
     "name": "stderr",
     "output_type": "stream",
     "text": [
      "Restoring states from the checkpoint path at /Users/benjaminvaca/Documents/USFQ/semestre7/machine_learning/proyecto/lightning_logs/version_217/checkpoints/epoch=1-step=68.ckpt\n",
      "Loaded model weights from the checkpoint at /Users/benjaminvaca/Documents/USFQ/semestre7/machine_learning/proyecto/lightning_logs/version_217/checkpoints/epoch=1-step=68.ckpt\n"
     ]
    },
    {
     "name": "stdout",
     "output_type": "stream",
     "text": [
      "Validation DataLoader 0: 100%|██████████| 9/9 [00:00<00:00, 432.11it/s]"
     ]
    },
    {
     "name": "stderr",
     "output_type": "stream",
     "text": [
      "Restoring states from the checkpoint path at /Users/benjaminvaca/Documents/USFQ/semestre7/machine_learning/proyecto/lightning_logs/version_217/checkpoints/epoch=1-step=68.ckpt\n"
     ]
    },
    {
     "name": "stdout",
     "output_type": "stream",
     "text": [
      "\n"
     ]
    },
    {
     "name": "stderr",
     "output_type": "stream",
     "text": [
      "Loaded model weights from the checkpoint at /Users/benjaminvaca/Documents/USFQ/semestre7/machine_learning/proyecto/lightning_logs/version_217/checkpoints/epoch=1-step=68.ckpt\n"
     ]
    },
    {
     "name": "stdout",
     "output_type": "stream",
     "text": [
      "Testing DataLoader 0: 100%|██████████| 11/11 [00:00<00:00, 416.40it/s]\n"
     ]
    },
    {
     "data": {
      "text/html": [
       "<pre style=\"white-space:pre;overflow-x:auto;line-height:normal;font-family:Menlo,'DejaVu Sans Mono',consolas,'Courier New',monospace\">┏━━━━━━━━━━━━━━━━━━━━━━━━━━━┳━━━━━━━━━━━━━━━━━━━━━━━━━━━┓\n",
       "┃<span style=\"font-weight: bold\">        Test metric        </span>┃<span style=\"font-weight: bold\">       DataLoader 0        </span>┃\n",
       "┡━━━━━━━━━━━━━━━━━━━━━━━━━━━╇━━━━━━━━━━━━━━━━━━━━━━━━━━━┩\n",
       "│<span style=\"color: #008080; text-decoration-color: #008080\">      test_f1ma_epoch      </span>│<span style=\"color: #800080; text-decoration-color: #800080\">    0.12645111978054047    </span>│\n",
       "│<span style=\"color: #008080; text-decoration-color: #008080\">      test_ham_epoch       </span>│<span style=\"color: #800080; text-decoration-color: #800080\">    0.3074401915073395     </span>│\n",
       "│<span style=\"color: #008080; text-decoration-color: #008080\">      test_loss_epoch      </span>│<span style=\"color: #800080; text-decoration-color: #800080\">    0.5988770127296448     </span>│\n",
       "└───────────────────────────┴───────────────────────────┘\n",
       "</pre>\n"
      ],
      "text/plain": [
       "┏━━━━━━━━━━━━━━━━━━━━━━━━━━━┳━━━━━━━━━━━━━━━━━━━━━━━━━━━┓\n",
       "┃\u001b[1m \u001b[0m\u001b[1m       Test metric       \u001b[0m\u001b[1m \u001b[0m┃\u001b[1m \u001b[0m\u001b[1m      DataLoader 0       \u001b[0m\u001b[1m \u001b[0m┃\n",
       "┡━━━━━━━━━━━━━━━━━━━━━━━━━━━╇━━━━━━━━━━━━━━━━━━━━━━━━━━━┩\n",
       "│\u001b[36m \u001b[0m\u001b[36m     test_f1ma_epoch     \u001b[0m\u001b[36m \u001b[0m│\u001b[35m \u001b[0m\u001b[35m   0.12645111978054047   \u001b[0m\u001b[35m \u001b[0m│\n",
       "│\u001b[36m \u001b[0m\u001b[36m     test_ham_epoch      \u001b[0m\u001b[36m \u001b[0m│\u001b[35m \u001b[0m\u001b[35m   0.3074401915073395    \u001b[0m\u001b[35m \u001b[0m│\n",
       "│\u001b[36m \u001b[0m\u001b[36m     test_loss_epoch     \u001b[0m\u001b[36m \u001b[0m│\u001b[35m \u001b[0m\u001b[35m   0.5988770127296448    \u001b[0m\u001b[35m \u001b[0m│\n",
       "└───────────────────────────┴───────────────────────────┘\n"
      ]
     },
     "metadata": {},
     "output_type": "display_data"
    },
    {
     "name": "stderr",
     "output_type": "stream",
     "text": [
      "GPU available: True (mps), used: False\n",
      "TPU available: False, using: 0 TPU cores\n",
      "HPU available: False, using: 0 HPUs\n",
      "\n",
      "  | Name       | Type                      | Params | Mode \n",
      "-----------------------------------------------------------------\n",
      "0 | classifier | Sequential                | 240 K  | train\n",
      "1 | loss       | BCEWithLogitsLoss         | 0      | train\n",
      "2 | hamming    | MultilabelHammingDistance | 0      | train\n",
      "3 | f1_macro   | MultilabelF1Score         | 0      | train\n",
      "-----------------------------------------------------------------\n",
      "240 K     Trainable params\n",
      "0         Non-trainable params\n",
      "240 K     Total params\n",
      "0.961     Total estimated model params size (MB)\n",
      "17        Modules in train mode\n",
      "0         Modules in eval mode\n"
     ]
    },
    {
     "name": "stdout",
     "output_type": "stream",
     "text": [
      "  loss: 0.5989 | hamming: 0.3074 | f1_macro: 0.1265\n",
      "Fold 9/10\n",
      "Epoch 3: 100%|██████████| 34/34 [00:00<00:00, 195.89it/s, v_num=218, train_loss=0.531, train_ham=0.259, train_f1ma=0.295, val_loss_step=0.582, val_ham_step=0.378, val_f1ma_step=0.0741, val_loss_epoch=0.578, val_ham_epoch=0.294, val_f1ma_epoch=0.168]\n"
     ]
    },
    {
     "name": "stderr",
     "output_type": "stream",
     "text": [
      "Restoring states from the checkpoint path at /Users/benjaminvaca/Documents/USFQ/semestre7/machine_learning/proyecto/lightning_logs/version_218/checkpoints/epoch=0-step=34.ckpt\n",
      "Loaded model weights from the checkpoint at /Users/benjaminvaca/Documents/USFQ/semestre7/machine_learning/proyecto/lightning_logs/version_218/checkpoints/epoch=0-step=34.ckpt\n"
     ]
    },
    {
     "name": "stdout",
     "output_type": "stream",
     "text": [
      "Validation DataLoader 0: 100%|██████████| 34/34 [00:00<00:00, 507.20it/s]"
     ]
    },
    {
     "name": "stderr",
     "output_type": "stream",
     "text": [
      "Restoring states from the checkpoint path at /Users/benjaminvaca/Documents/USFQ/semestre7/machine_learning/proyecto/lightning_logs/version_218/checkpoints/epoch=0-step=34.ckpt\n"
     ]
    },
    {
     "name": "stdout",
     "output_type": "stream",
     "text": [
      "\n"
     ]
    },
    {
     "name": "stderr",
     "output_type": "stream",
     "text": [
      "Loaded model weights from the checkpoint at /Users/benjaminvaca/Documents/USFQ/semestre7/machine_learning/proyecto/lightning_logs/version_218/checkpoints/epoch=0-step=34.ckpt\n"
     ]
    },
    {
     "name": "stdout",
     "output_type": "stream",
     "text": [
      "Validation DataLoader 0: 100%|██████████| 9/9 [00:00<00:00, 486.67it/s]"
     ]
    },
    {
     "name": "stderr",
     "output_type": "stream",
     "text": [
      "Restoring states from the checkpoint path at /Users/benjaminvaca/Documents/USFQ/semestre7/machine_learning/proyecto/lightning_logs/version_218/checkpoints/epoch=0-step=34.ckpt\n"
     ]
    },
    {
     "name": "stdout",
     "output_type": "stream",
     "text": [
      "\n"
     ]
    },
    {
     "name": "stderr",
     "output_type": "stream",
     "text": [
      "Loaded model weights from the checkpoint at /Users/benjaminvaca/Documents/USFQ/semestre7/machine_learning/proyecto/lightning_logs/version_218/checkpoints/epoch=0-step=34.ckpt\n"
     ]
    },
    {
     "name": "stdout",
     "output_type": "stream",
     "text": [
      "Testing DataLoader 0: 100%|██████████| 11/11 [00:00<00:00, 463.21it/s]\n"
     ]
    },
    {
     "data": {
      "text/html": [
       "<pre style=\"white-space:pre;overflow-x:auto;line-height:normal;font-family:Menlo,'DejaVu Sans Mono',consolas,'Courier New',monospace\">┏━━━━━━━━━━━━━━━━━━━━━━━━━━━┳━━━━━━━━━━━━━━━━━━━━━━━━━━━┓\n",
       "┃<span style=\"font-weight: bold\">        Test metric        </span>┃<span style=\"font-weight: bold\">       DataLoader 0        </span>┃\n",
       "┡━━━━━━━━━━━━━━━━━━━━━━━━━━━╇━━━━━━━━━━━━━━━━━━━━━━━━━━━┩\n",
       "│<span style=\"color: #008080; text-decoration-color: #008080\">      test_f1ma_epoch      </span>│<span style=\"color: #800080; text-decoration-color: #800080\">    0.20718951523303986    </span>│\n",
       "│<span style=\"color: #008080; text-decoration-color: #008080\">      test_ham_epoch       </span>│<span style=\"color: #800080; text-decoration-color: #800080\">    0.3336610794067383     </span>│\n",
       "│<span style=\"color: #008080; text-decoration-color: #008080\">      test_loss_epoch      </span>│<span style=\"color: #800080; text-decoration-color: #800080\">    0.6346912384033203     </span>│\n",
       "└───────────────────────────┴───────────────────────────┘\n",
       "</pre>\n"
      ],
      "text/plain": [
       "┏━━━━━━━━━━━━━━━━━━━━━━━━━━━┳━━━━━━━━━━━━━━━━━━━━━━━━━━━┓\n",
       "┃\u001b[1m \u001b[0m\u001b[1m       Test metric       \u001b[0m\u001b[1m \u001b[0m┃\u001b[1m \u001b[0m\u001b[1m      DataLoader 0       \u001b[0m\u001b[1m \u001b[0m┃\n",
       "┡━━━━━━━━━━━━━━━━━━━━━━━━━━━╇━━━━━━━━━━━━━━━━━━━━━━━━━━━┩\n",
       "│\u001b[36m \u001b[0m\u001b[36m     test_f1ma_epoch     \u001b[0m\u001b[36m \u001b[0m│\u001b[35m \u001b[0m\u001b[35m   0.20718951523303986   \u001b[0m\u001b[35m \u001b[0m│\n",
       "│\u001b[36m \u001b[0m\u001b[36m     test_ham_epoch      \u001b[0m\u001b[36m \u001b[0m│\u001b[35m \u001b[0m\u001b[35m   0.3336610794067383    \u001b[0m\u001b[35m \u001b[0m│\n",
       "│\u001b[36m \u001b[0m\u001b[36m     test_loss_epoch     \u001b[0m\u001b[36m \u001b[0m│\u001b[35m \u001b[0m\u001b[35m   0.6346912384033203    \u001b[0m\u001b[35m \u001b[0m│\n",
       "└───────────────────────────┴───────────────────────────┘\n"
      ]
     },
     "metadata": {},
     "output_type": "display_data"
    },
    {
     "name": "stdout",
     "output_type": "stream",
     "text": [
      "  loss: 0.6347 | hamming: 0.3337 | f1_macro: 0.2072\n",
      "Fold 10/10\n"
     ]
    },
    {
     "name": "stderr",
     "output_type": "stream",
     "text": [
      "GPU available: True (mps), used: False\n",
      "TPU available: False, using: 0 TPU cores\n",
      "HPU available: False, using: 0 HPUs\n",
      "\n",
      "  | Name       | Type                      | Params | Mode \n",
      "-----------------------------------------------------------------\n",
      "0 | classifier | Sequential                | 240 K  | train\n",
      "1 | loss       | BCEWithLogitsLoss         | 0      | train\n",
      "2 | hamming    | MultilabelHammingDistance | 0      | train\n",
      "3 | f1_macro   | MultilabelF1Score         | 0      | train\n",
      "-----------------------------------------------------------------\n",
      "240 K     Trainable params\n",
      "0         Non-trainable params\n",
      "240 K     Total params\n",
      "0.961     Total estimated model params size (MB)\n",
      "17        Modules in train mode\n",
      "0         Modules in eval mode\n"
     ]
    },
    {
     "name": "stdout",
     "output_type": "stream",
     "text": [
      "Epoch 3: 100%|██████████| 34/34 [00:00<00:00, 197.65it/s, v_num=219, train_loss=0.579, train_ham=0.322, train_f1ma=0.245, val_loss_step=0.589, val_ham_step=0.393, val_f1ma_step=0.040, val_loss_epoch=0.584, val_ham_epoch=0.302, val_f1ma_epoch=0.146] "
     ]
    },
    {
     "name": "stderr",
     "output_type": "stream",
     "text": [
      "Restoring states from the checkpoint path at /Users/benjaminvaca/Documents/USFQ/semestre7/machine_learning/proyecto/lightning_logs/version_219/checkpoints/epoch=0-step=34.ckpt\n"
     ]
    },
    {
     "name": "stdout",
     "output_type": "stream",
     "text": [
      "\n"
     ]
    },
    {
     "name": "stderr",
     "output_type": "stream",
     "text": [
      "Loaded model weights from the checkpoint at /Users/benjaminvaca/Documents/USFQ/semestre7/machine_learning/proyecto/lightning_logs/version_219/checkpoints/epoch=0-step=34.ckpt\n"
     ]
    },
    {
     "name": "stdout",
     "output_type": "stream",
     "text": [
      "Validation DataLoader 0: 100%|██████████| 34/34 [00:00<00:00, 514.50it/s]\n"
     ]
    },
    {
     "name": "stderr",
     "output_type": "stream",
     "text": [
      "Restoring states from the checkpoint path at /Users/benjaminvaca/Documents/USFQ/semestre7/machine_learning/proyecto/lightning_logs/version_219/checkpoints/epoch=0-step=34.ckpt\n",
      "Loaded model weights from the checkpoint at /Users/benjaminvaca/Documents/USFQ/semestre7/machine_learning/proyecto/lightning_logs/version_219/checkpoints/epoch=0-step=34.ckpt\n"
     ]
    },
    {
     "name": "stdout",
     "output_type": "stream",
     "text": [
      "Validation DataLoader 0: 100%|██████████| 9/9 [00:00<00:00, 473.38it/s]"
     ]
    },
    {
     "name": "stderr",
     "output_type": "stream",
     "text": [
      "Restoring states from the checkpoint path at /Users/benjaminvaca/Documents/USFQ/semestre7/machine_learning/proyecto/lightning_logs/version_219/checkpoints/epoch=0-step=34.ckpt\n"
     ]
    },
    {
     "name": "stdout",
     "output_type": "stream",
     "text": [
      "\n"
     ]
    },
    {
     "name": "stderr",
     "output_type": "stream",
     "text": [
      "Loaded model weights from the checkpoint at /Users/benjaminvaca/Documents/USFQ/semestre7/machine_learning/proyecto/lightning_logs/version_219/checkpoints/epoch=0-step=34.ckpt\n"
     ]
    },
    {
     "name": "stdout",
     "output_type": "stream",
     "text": [
      "Testing DataLoader 0: 100%|██████████| 11/11 [00:00<00:00, 485.54it/s]\n"
     ]
    },
    {
     "data": {
      "text/html": [
       "<pre style=\"white-space:pre;overflow-x:auto;line-height:normal;font-family:Menlo,'DejaVu Sans Mono',consolas,'Courier New',monospace\">┏━━━━━━━━━━━━━━━━━━━━━━━━━━━┳━━━━━━━━━━━━━━━━━━━━━━━━━━━┓\n",
       "┃<span style=\"font-weight: bold\">        Test metric        </span>┃<span style=\"font-weight: bold\">       DataLoader 0        </span>┃\n",
       "┡━━━━━━━━━━━━━━━━━━━━━━━━━━━╇━━━━━━━━━━━━━━━━━━━━━━━━━━━┩\n",
       "│<span style=\"color: #008080; text-decoration-color: #008080\">      test_f1ma_epoch      </span>│<span style=\"color: #800080; text-decoration-color: #800080\">    0.21872824430465698    </span>│\n",
       "│<span style=\"color: #008080; text-decoration-color: #008080\">      test_ham_epoch       </span>│<span style=\"color: #800080; text-decoration-color: #800080\">    0.34152737259864807    </span>│\n",
       "│<span style=\"color: #008080; text-decoration-color: #008080\">      test_loss_epoch      </span>│<span style=\"color: #800080; text-decoration-color: #800080\">    0.6451709270477295     </span>│\n",
       "└───────────────────────────┴───────────────────────────┘\n",
       "</pre>\n"
      ],
      "text/plain": [
       "┏━━━━━━━━━━━━━━━━━━━━━━━━━━━┳━━━━━━━━━━━━━━━━━━━━━━━━━━━┓\n",
       "┃\u001b[1m \u001b[0m\u001b[1m       Test metric       \u001b[0m\u001b[1m \u001b[0m┃\u001b[1m \u001b[0m\u001b[1m      DataLoader 0       \u001b[0m\u001b[1m \u001b[0m┃\n",
       "┡━━━━━━━━━━━━━━━━━━━━━━━━━━━╇━━━━━━━━━━━━━━━━━━━━━━━━━━━┩\n",
       "│\u001b[36m \u001b[0m\u001b[36m     test_f1ma_epoch     \u001b[0m\u001b[36m \u001b[0m│\u001b[35m \u001b[0m\u001b[35m   0.21872824430465698   \u001b[0m\u001b[35m \u001b[0m│\n",
       "│\u001b[36m \u001b[0m\u001b[36m     test_ham_epoch      \u001b[0m\u001b[36m \u001b[0m│\u001b[35m \u001b[0m\u001b[35m   0.34152737259864807   \u001b[0m\u001b[35m \u001b[0m│\n",
       "│\u001b[36m \u001b[0m\u001b[36m     test_loss_epoch     \u001b[0m\u001b[36m \u001b[0m│\u001b[35m \u001b[0m\u001b[35m   0.6451709270477295    \u001b[0m\u001b[35m \u001b[0m│\n",
       "└───────────────────────────┴───────────────────────────┘\n"
      ]
     },
     "metadata": {},
     "output_type": "display_data"
    },
    {
     "name": "stdout",
     "output_type": "stream",
     "text": [
      "  loss: 0.6452 | hamming: 0.3415 | f1_macro: 0.2187\n",
      "\n",
      "F1-macro promedio: 0.1848 ± 0.0370\n",
      "Hamming promedio: 0.3225 ± 0.0156\n",
      "Pérdida promedio:         0.6288 ± 0.0209\n",
      "HU=[256, 128, 64]  L2=0.01 → val_f1ma: 0.1848\n",
      "Fold 1/10\n"
     ]
    },
    {
     "name": "stderr",
     "output_type": "stream",
     "text": [
      "GPU available: True (mps), used: False\n",
      "TPU available: False, using: 0 TPU cores\n",
      "HPU available: False, using: 0 HPUs\n",
      "\n",
      "  | Name       | Type                      | Params | Mode \n",
      "-----------------------------------------------------------------\n",
      "0 | classifier | Sequential                | 240 K  | train\n",
      "1 | loss       | BCEWithLogitsLoss         | 0      | train\n",
      "2 | hamming    | MultilabelHammingDistance | 0      | train\n",
      "3 | f1_macro   | MultilabelF1Score         | 0      | train\n",
      "-----------------------------------------------------------------\n",
      "240 K     Trainable params\n",
      "0         Non-trainable params\n",
      "240 K     Total params\n",
      "0.961     Total estimated model params size (MB)\n",
      "17        Modules in train mode\n",
      "0         Modules in eval mode\n"
     ]
    },
    {
     "name": "stdout",
     "output_type": "stream",
     "text": [
      "Epoch 3: 100%|██████████| 34/34 [00:00<00:00, 197.25it/s, v_num=220, train_loss=0.583, train_ham=0.307, train_f1ma=0.274, val_loss_step=0.567, val_ham_step=0.396, val_f1ma_step=0.0482, val_loss_epoch=0.569, val_ham_epoch=0.293, val_f1ma_epoch=0.135]"
     ]
    },
    {
     "name": "stderr",
     "output_type": "stream",
     "text": [
      "Restoring states from the checkpoint path at /Users/benjaminvaca/Documents/USFQ/semestre7/machine_learning/proyecto/lightning_logs/version_220/checkpoints/epoch=0-step=34.ckpt\n"
     ]
    },
    {
     "name": "stdout",
     "output_type": "stream",
     "text": [
      "\n"
     ]
    },
    {
     "name": "stderr",
     "output_type": "stream",
     "text": [
      "Loaded model weights from the checkpoint at /Users/benjaminvaca/Documents/USFQ/semestre7/machine_learning/proyecto/lightning_logs/version_220/checkpoints/epoch=0-step=34.ckpt\n"
     ]
    },
    {
     "name": "stdout",
     "output_type": "stream",
     "text": [
      "Validation DataLoader 0: 100%|██████████| 34/34 [00:00<00:00, 496.58it/s]\n"
     ]
    },
    {
     "name": "stderr",
     "output_type": "stream",
     "text": [
      "Restoring states from the checkpoint path at /Users/benjaminvaca/Documents/USFQ/semestre7/machine_learning/proyecto/lightning_logs/version_220/checkpoints/epoch=0-step=34.ckpt\n",
      "Loaded model weights from the checkpoint at /Users/benjaminvaca/Documents/USFQ/semestre7/machine_learning/proyecto/lightning_logs/version_220/checkpoints/epoch=0-step=34.ckpt\n"
     ]
    },
    {
     "name": "stdout",
     "output_type": "stream",
     "text": [
      "Validation DataLoader 0: 100%|██████████| 9/9 [00:00<00:00, 483.43it/s]"
     ]
    },
    {
     "name": "stderr",
     "output_type": "stream",
     "text": [
      "Restoring states from the checkpoint path at /Users/benjaminvaca/Documents/USFQ/semestre7/machine_learning/proyecto/lightning_logs/version_220/checkpoints/epoch=0-step=34.ckpt\n"
     ]
    },
    {
     "name": "stdout",
     "output_type": "stream",
     "text": [
      "\n"
     ]
    },
    {
     "name": "stderr",
     "output_type": "stream",
     "text": [
      "Loaded model weights from the checkpoint at /Users/benjaminvaca/Documents/USFQ/semestre7/machine_learning/proyecto/lightning_logs/version_220/checkpoints/epoch=0-step=34.ckpt\n"
     ]
    },
    {
     "name": "stdout",
     "output_type": "stream",
     "text": [
      "Testing DataLoader 0: 100%|██████████| 11/11 [00:00<00:00, 486.18it/s]\n"
     ]
    },
    {
     "data": {
      "text/html": [
       "<pre style=\"white-space:pre;overflow-x:auto;line-height:normal;font-family:Menlo,'DejaVu Sans Mono',consolas,'Courier New',monospace\">┏━━━━━━━━━━━━━━━━━━━━━━━━━━━┳━━━━━━━━━━━━━━━━━━━━━━━━━━━┓\n",
       "┃<span style=\"font-weight: bold\">        Test metric        </span>┃<span style=\"font-weight: bold\">       DataLoader 0        </span>┃\n",
       "┡━━━━━━━━━━━━━━━━━━━━━━━━━━━╇━━━━━━━━━━━━━━━━━━━━━━━━━━━┩\n",
       "│<span style=\"color: #008080; text-decoration-color: #008080\">      test_f1ma_epoch      </span>│<span style=\"color: #800080; text-decoration-color: #800080\">    0.18837463855743408    </span>│\n",
       "│<span style=\"color: #008080; text-decoration-color: #008080\">      test_ham_epoch       </span>│<span style=\"color: #800080; text-decoration-color: #800080\">    0.32907241582870483    </span>│\n",
       "│<span style=\"color: #008080; text-decoration-color: #008080\">      test_loss_epoch      </span>│<span style=\"color: #800080; text-decoration-color: #800080\">     0.629256546497345     </span>│\n",
       "└───────────────────────────┴───────────────────────────┘\n",
       "</pre>\n"
      ],
      "text/plain": [
       "┏━━━━━━━━━━━━━━━━━━━━━━━━━━━┳━━━━━━━━━━━━━━━━━━━━━━━━━━━┓\n",
       "┃\u001b[1m \u001b[0m\u001b[1m       Test metric       \u001b[0m\u001b[1m \u001b[0m┃\u001b[1m \u001b[0m\u001b[1m      DataLoader 0       \u001b[0m\u001b[1m \u001b[0m┃\n",
       "┡━━━━━━━━━━━━━━━━━━━━━━━━━━━╇━━━━━━━━━━━━━━━━━━━━━━━━━━━┩\n",
       "│\u001b[36m \u001b[0m\u001b[36m     test_f1ma_epoch     \u001b[0m\u001b[36m \u001b[0m│\u001b[35m \u001b[0m\u001b[35m   0.18837463855743408   \u001b[0m\u001b[35m \u001b[0m│\n",
       "│\u001b[36m \u001b[0m\u001b[36m     test_ham_epoch      \u001b[0m\u001b[36m \u001b[0m│\u001b[35m \u001b[0m\u001b[35m   0.32907241582870483   \u001b[0m\u001b[35m \u001b[0m│\n",
       "│\u001b[36m \u001b[0m\u001b[36m     test_loss_epoch     \u001b[0m\u001b[36m \u001b[0m│\u001b[35m \u001b[0m\u001b[35m    0.629256546497345    \u001b[0m\u001b[35m \u001b[0m│\n",
       "└───────────────────────────┴───────────────────────────┘\n"
      ]
     },
     "metadata": {},
     "output_type": "display_data"
    },
    {
     "name": "stdout",
     "output_type": "stream",
     "text": [
      "  loss: 0.6293 | hamming: 0.3291 | f1_macro: 0.1884\n",
      "Fold 2/10\n"
     ]
    },
    {
     "name": "stderr",
     "output_type": "stream",
     "text": [
      "GPU available: True (mps), used: False\n",
      "TPU available: False, using: 0 TPU cores\n",
      "HPU available: False, using: 0 HPUs\n",
      "\n",
      "  | Name       | Type                      | Params | Mode \n",
      "-----------------------------------------------------------------\n",
      "0 | classifier | Sequential                | 240 K  | train\n",
      "1 | loss       | BCEWithLogitsLoss         | 0      | train\n",
      "2 | hamming    | MultilabelHammingDistance | 0      | train\n",
      "3 | f1_macro   | MultilabelF1Score         | 0      | train\n",
      "-----------------------------------------------------------------\n",
      "240 K     Trainable params\n",
      "0         Non-trainable params\n",
      "240 K     Total params\n",
      "0.961     Total estimated model params size (MB)\n",
      "17        Modules in train mode\n",
      "0         Modules in eval mode\n"
     ]
    },
    {
     "name": "stdout",
     "output_type": "stream",
     "text": [
      "Epoch 4: 100%|██████████| 34/34 [00:00<00:00, 192.27it/s, v_num=221, train_loss=0.556, train_ham=0.261, train_f1ma=0.337, val_loss_step=0.619, val_ham_step=0.424, val_f1ma_step=0.0261, val_loss_epoch=0.563, val_ham_epoch=0.304, val_f1ma_epoch=0.161]\n"
     ]
    },
    {
     "name": "stderr",
     "output_type": "stream",
     "text": [
      "Restoring states from the checkpoint path at /Users/benjaminvaca/Documents/USFQ/semestre7/machine_learning/proyecto/lightning_logs/version_221/checkpoints/epoch=1-step=68.ckpt\n",
      "Loaded model weights from the checkpoint at /Users/benjaminvaca/Documents/USFQ/semestre7/machine_learning/proyecto/lightning_logs/version_221/checkpoints/epoch=1-step=68.ckpt\n"
     ]
    },
    {
     "name": "stdout",
     "output_type": "stream",
     "text": [
      "Validation DataLoader 0: 100%|██████████| 34/34 [00:00<00:00, 511.88it/s]"
     ]
    },
    {
     "name": "stderr",
     "output_type": "stream",
     "text": [
      "Restoring states from the checkpoint path at /Users/benjaminvaca/Documents/USFQ/semestre7/machine_learning/proyecto/lightning_logs/version_221/checkpoints/epoch=1-step=68.ckpt\n"
     ]
    },
    {
     "name": "stdout",
     "output_type": "stream",
     "text": [
      "\n"
     ]
    },
    {
     "name": "stderr",
     "output_type": "stream",
     "text": [
      "Loaded model weights from the checkpoint at /Users/benjaminvaca/Documents/USFQ/semestre7/machine_learning/proyecto/lightning_logs/version_221/checkpoints/epoch=1-step=68.ckpt\n"
     ]
    },
    {
     "name": "stdout",
     "output_type": "stream",
     "text": [
      "Validation DataLoader 0: 100%|██████████| 9/9 [00:00<00:00, 492.37it/s]"
     ]
    },
    {
     "name": "stderr",
     "output_type": "stream",
     "text": [
      "Restoring states from the checkpoint path at /Users/benjaminvaca/Documents/USFQ/semestre7/machine_learning/proyecto/lightning_logs/version_221/checkpoints/epoch=1-step=68.ckpt\n"
     ]
    },
    {
     "name": "stdout",
     "output_type": "stream",
     "text": [
      "\n"
     ]
    },
    {
     "name": "stderr",
     "output_type": "stream",
     "text": [
      "Loaded model weights from the checkpoint at /Users/benjaminvaca/Documents/USFQ/semestre7/machine_learning/proyecto/lightning_logs/version_221/checkpoints/epoch=1-step=68.ckpt\n"
     ]
    },
    {
     "name": "stdout",
     "output_type": "stream",
     "text": [
      "Testing DataLoader 0: 100%|██████████| 11/11 [00:00<00:00, 488.24it/s]\n"
     ]
    },
    {
     "data": {
      "text/html": [
       "<pre style=\"white-space:pre;overflow-x:auto;line-height:normal;font-family:Menlo,'DejaVu Sans Mono',consolas,'Courier New',monospace\">┏━━━━━━━━━━━━━━━━━━━━━━━━━━━┳━━━━━━━━━━━━━━━━━━━━━━━━━━━┓\n",
       "┃<span style=\"font-weight: bold\">        Test metric        </span>┃<span style=\"font-weight: bold\">       DataLoader 0        </span>┃\n",
       "┡━━━━━━━━━━━━━━━━━━━━━━━━━━━╇━━━━━━━━━━━━━━━━━━━━━━━━━━━┩\n",
       "│<span style=\"color: #008080; text-decoration-color: #008080\">      test_f1ma_epoch      </span>│<span style=\"color: #800080; text-decoration-color: #800080\">    0.2083864063024521     </span>│\n",
       "│<span style=\"color: #008080; text-decoration-color: #008080\">      test_ham_epoch       </span>│<span style=\"color: #800080; text-decoration-color: #800080\">    0.30514585971832275    </span>│\n",
       "│<span style=\"color: #008080; text-decoration-color: #008080\">      test_loss_epoch      </span>│<span style=\"color: #800080; text-decoration-color: #800080\">    0.5977821946144104     </span>│\n",
       "└───────────────────────────┴───────────────────────────┘\n",
       "</pre>\n"
      ],
      "text/plain": [
       "┏━━━━━━━━━━━━━━━━━━━━━━━━━━━┳━━━━━━━━━━━━━━━━━━━━━━━━━━━┓\n",
       "┃\u001b[1m \u001b[0m\u001b[1m       Test metric       \u001b[0m\u001b[1m \u001b[0m┃\u001b[1m \u001b[0m\u001b[1m      DataLoader 0       \u001b[0m\u001b[1m \u001b[0m┃\n",
       "┡━━━━━━━━━━━━━━━━━━━━━━━━━━━╇━━━━━━━━━━━━━━━━━━━━━━━━━━━┩\n",
       "│\u001b[36m \u001b[0m\u001b[36m     test_f1ma_epoch     \u001b[0m\u001b[36m \u001b[0m│\u001b[35m \u001b[0m\u001b[35m   0.2083864063024521    \u001b[0m\u001b[35m \u001b[0m│\n",
       "│\u001b[36m \u001b[0m\u001b[36m     test_ham_epoch      \u001b[0m\u001b[36m \u001b[0m│\u001b[35m \u001b[0m\u001b[35m   0.30514585971832275   \u001b[0m\u001b[35m \u001b[0m│\n",
       "│\u001b[36m \u001b[0m\u001b[36m     test_loss_epoch     \u001b[0m\u001b[36m \u001b[0m│\u001b[35m \u001b[0m\u001b[35m   0.5977821946144104    \u001b[0m\u001b[35m \u001b[0m│\n",
       "└───────────────────────────┴───────────────────────────┘\n"
      ]
     },
     "metadata": {},
     "output_type": "display_data"
    },
    {
     "name": "stdout",
     "output_type": "stream",
     "text": [
      "  loss: 0.5978 | hamming: 0.3051 | f1_macro: 0.2084\n",
      "Fold 3/10\n"
     ]
    },
    {
     "name": "stderr",
     "output_type": "stream",
     "text": [
      "GPU available: True (mps), used: False\n",
      "TPU available: False, using: 0 TPU cores\n",
      "HPU available: False, using: 0 HPUs\n",
      "\n",
      "  | Name       | Type                      | Params | Mode \n",
      "-----------------------------------------------------------------\n",
      "0 | classifier | Sequential                | 240 K  | train\n",
      "1 | loss       | BCEWithLogitsLoss         | 0      | train\n",
      "2 | hamming    | MultilabelHammingDistance | 0      | train\n",
      "3 | f1_macro   | MultilabelF1Score         | 0      | train\n",
      "-----------------------------------------------------------------\n",
      "240 K     Trainable params\n",
      "0         Non-trainable params\n",
      "240 K     Total params\n",
      "0.961     Total estimated model params size (MB)\n",
      "17        Modules in train mode\n",
      "0         Modules in eval mode\n"
     ]
    },
    {
     "name": "stdout",
     "output_type": "stream",
     "text": [
      "Epoch 3: 100%|██████████| 34/34 [00:00<00:00, 206.43it/s, v_num=222, train_loss=0.566, train_ham=0.293, train_f1ma=0.265, val_loss_step=0.558, val_ham_step=0.400, val_f1ma_step=0.0523, val_loss_epoch=0.577, val_ham_epoch=0.298, val_f1ma_epoch=0.156]\n"
     ]
    },
    {
     "name": "stderr",
     "output_type": "stream",
     "text": [
      "Restoring states from the checkpoint path at /Users/benjaminvaca/Documents/USFQ/semestre7/machine_learning/proyecto/lightning_logs/version_222/checkpoints/epoch=0-step=34.ckpt\n",
      "Loaded model weights from the checkpoint at /Users/benjaminvaca/Documents/USFQ/semestre7/machine_learning/proyecto/lightning_logs/version_222/checkpoints/epoch=0-step=34.ckpt\n"
     ]
    },
    {
     "name": "stdout",
     "output_type": "stream",
     "text": [
      "Validation DataLoader 0: 100%|██████████| 34/34 [00:00<00:00, 469.14it/s]"
     ]
    },
    {
     "name": "stderr",
     "output_type": "stream",
     "text": [
      "Restoring states from the checkpoint path at /Users/benjaminvaca/Documents/USFQ/semestre7/machine_learning/proyecto/lightning_logs/version_222/checkpoints/epoch=0-step=34.ckpt\n"
     ]
    },
    {
     "name": "stdout",
     "output_type": "stream",
     "text": [
      "\n"
     ]
    },
    {
     "name": "stderr",
     "output_type": "stream",
     "text": [
      "Loaded model weights from the checkpoint at /Users/benjaminvaca/Documents/USFQ/semestre7/machine_learning/proyecto/lightning_logs/version_222/checkpoints/epoch=0-step=34.ckpt\n"
     ]
    },
    {
     "name": "stdout",
     "output_type": "stream",
     "text": [
      "Validation DataLoader 0: 100%|██████████| 9/9 [00:00<00:00, 407.83it/s]"
     ]
    },
    {
     "name": "stderr",
     "output_type": "stream",
     "text": [
      "Restoring states from the checkpoint path at /Users/benjaminvaca/Documents/USFQ/semestre7/machine_learning/proyecto/lightning_logs/version_222/checkpoints/epoch=0-step=34.ckpt\n"
     ]
    },
    {
     "name": "stdout",
     "output_type": "stream",
     "text": [
      "\n"
     ]
    },
    {
     "name": "stderr",
     "output_type": "stream",
     "text": [
      "Loaded model weights from the checkpoint at /Users/benjaminvaca/Documents/USFQ/semestre7/machine_learning/proyecto/lightning_logs/version_222/checkpoints/epoch=0-step=34.ckpt\n"
     ]
    },
    {
     "name": "stdout",
     "output_type": "stream",
     "text": [
      "Testing DataLoader 0: 100%|██████████| 11/11 [00:00<00:00, 453.24it/s]\n"
     ]
    },
    {
     "data": {
      "text/html": [
       "<pre style=\"white-space:pre;overflow-x:auto;line-height:normal;font-family:Menlo,'DejaVu Sans Mono',consolas,'Courier New',monospace\">┏━━━━━━━━━━━━━━━━━━━━━━━━━━━┳━━━━━━━━━━━━━━━━━━━━━━━━━━━┓\n",
       "┃<span style=\"font-weight: bold\">        Test metric        </span>┃<span style=\"font-weight: bold\">       DataLoader 0        </span>┃\n",
       "┡━━━━━━━━━━━━━━━━━━━━━━━━━━━╇━━━━━━━━━━━━━━━━━━━━━━━━━━━┩\n",
       "│<span style=\"color: #008080; text-decoration-color: #008080\">      test_f1ma_epoch      </span>│<span style=\"color: #800080; text-decoration-color: #800080\">    0.16996896266937256    </span>│\n",
       "│<span style=\"color: #008080; text-decoration-color: #008080\">      test_ham_epoch       </span>│<span style=\"color: #800080; text-decoration-color: #800080\">    0.34578827023506165    </span>│\n",
       "│<span style=\"color: #008080; text-decoration-color: #008080\">      test_loss_epoch      </span>│<span style=\"color: #800080; text-decoration-color: #800080\">    0.6377259492874146     </span>│\n",
       "└───────────────────────────┴───────────────────────────┘\n",
       "</pre>\n"
      ],
      "text/plain": [
       "┏━━━━━━━━━━━━━━━━━━━━━━━━━━━┳━━━━━━━━━━━━━━━━━━━━━━━━━━━┓\n",
       "┃\u001b[1m \u001b[0m\u001b[1m       Test metric       \u001b[0m\u001b[1m \u001b[0m┃\u001b[1m \u001b[0m\u001b[1m      DataLoader 0       \u001b[0m\u001b[1m \u001b[0m┃\n",
       "┡━━━━━━━━━━━━━━━━━━━━━━━━━━━╇━━━━━━━━━━━━━━━━━━━━━━━━━━━┩\n",
       "│\u001b[36m \u001b[0m\u001b[36m     test_f1ma_epoch     \u001b[0m\u001b[36m \u001b[0m│\u001b[35m \u001b[0m\u001b[35m   0.16996896266937256   \u001b[0m\u001b[35m \u001b[0m│\n",
       "│\u001b[36m \u001b[0m\u001b[36m     test_ham_epoch      \u001b[0m\u001b[36m \u001b[0m│\u001b[35m \u001b[0m\u001b[35m   0.34578827023506165   \u001b[0m\u001b[35m \u001b[0m│\n",
       "│\u001b[36m \u001b[0m\u001b[36m     test_loss_epoch     \u001b[0m\u001b[36m \u001b[0m│\u001b[35m \u001b[0m\u001b[35m   0.6377259492874146    \u001b[0m\u001b[35m \u001b[0m│\n",
       "└───────────────────────────┴───────────────────────────┘\n"
      ]
     },
     "metadata": {},
     "output_type": "display_data"
    },
    {
     "name": "stdout",
     "output_type": "stream",
     "text": [
      "  loss: 0.6377 | hamming: 0.3458 | f1_macro: 0.1700\n",
      "Fold 4/10\n"
     ]
    },
    {
     "name": "stderr",
     "output_type": "stream",
     "text": [
      "GPU available: True (mps), used: False\n",
      "TPU available: False, using: 0 TPU cores\n",
      "HPU available: False, using: 0 HPUs\n",
      "\n",
      "  | Name       | Type                      | Params | Mode \n",
      "-----------------------------------------------------------------\n",
      "0 | classifier | Sequential                | 240 K  | train\n",
      "1 | loss       | BCEWithLogitsLoss         | 0      | train\n",
      "2 | hamming    | MultilabelHammingDistance | 0      | train\n",
      "3 | f1_macro   | MultilabelF1Score         | 0      | train\n",
      "-----------------------------------------------------------------\n",
      "240 K     Trainable params\n",
      "0         Non-trainable params\n",
      "240 K     Total params\n",
      "0.961     Total estimated model params size (MB)\n",
      "17        Modules in train mode\n",
      "0         Modules in eval mode\n"
     ]
    },
    {
     "name": "stdout",
     "output_type": "stream",
     "text": [
      "Epoch 3: 100%|██████████| 34/34 [00:00<00:00, 206.13it/s, v_num=223, train_loss=0.562, train_ham=0.333, train_f1ma=0.213, val_loss_step=0.588, val_ham_step=0.400, val_f1ma_step=0.040, val_loss_epoch=0.579, val_ham_epoch=0.297, val_f1ma_epoch=0.148] \n"
     ]
    },
    {
     "name": "stderr",
     "output_type": "stream",
     "text": [
      "Restoring states from the checkpoint path at /Users/benjaminvaca/Documents/USFQ/semestre7/machine_learning/proyecto/lightning_logs/version_223/checkpoints/epoch=0-step=34.ckpt\n",
      "Loaded model weights from the checkpoint at /Users/benjaminvaca/Documents/USFQ/semestre7/machine_learning/proyecto/lightning_logs/version_223/checkpoints/epoch=0-step=34.ckpt\n"
     ]
    },
    {
     "name": "stdout",
     "output_type": "stream",
     "text": [
      "Validation DataLoader 0: 100%|██████████| 34/34 [00:00<00:00, 516.99it/s]\n"
     ]
    },
    {
     "name": "stderr",
     "output_type": "stream",
     "text": [
      "Restoring states from the checkpoint path at /Users/benjaminvaca/Documents/USFQ/semestre7/machine_learning/proyecto/lightning_logs/version_223/checkpoints/epoch=0-step=34.ckpt\n",
      "Loaded model weights from the checkpoint at /Users/benjaminvaca/Documents/USFQ/semestre7/machine_learning/proyecto/lightning_logs/version_223/checkpoints/epoch=0-step=34.ckpt\n"
     ]
    },
    {
     "name": "stdout",
     "output_type": "stream",
     "text": [
      "Validation DataLoader 0: 100%|██████████| 9/9 [00:00<00:00, 473.71it/s]\n"
     ]
    },
    {
     "name": "stderr",
     "output_type": "stream",
     "text": [
      "Restoring states from the checkpoint path at /Users/benjaminvaca/Documents/USFQ/semestre7/machine_learning/proyecto/lightning_logs/version_223/checkpoints/epoch=0-step=34.ckpt\n",
      "Loaded model weights from the checkpoint at /Users/benjaminvaca/Documents/USFQ/semestre7/machine_learning/proyecto/lightning_logs/version_223/checkpoints/epoch=0-step=34.ckpt\n"
     ]
    },
    {
     "name": "stdout",
     "output_type": "stream",
     "text": [
      "Testing DataLoader 0: 100%|██████████| 11/11 [00:00<00:00, 491.75it/s]\n"
     ]
    },
    {
     "data": {
      "text/html": [
       "<pre style=\"white-space:pre;overflow-x:auto;line-height:normal;font-family:Menlo,'DejaVu Sans Mono',consolas,'Courier New',monospace\">┏━━━━━━━━━━━━━━━━━━━━━━━━━━━┳━━━━━━━━━━━━━━━━━━━━━━━━━━━┓\n",
       "┃<span style=\"font-weight: bold\">        Test metric        </span>┃<span style=\"font-weight: bold\">       DataLoader 0        </span>┃\n",
       "┡━━━━━━━━━━━━━━━━━━━━━━━━━━━╇━━━━━━━━━━━━━━━━━━━━━━━━━━━┩\n",
       "│<span style=\"color: #008080; text-decoration-color: #008080\">      test_f1ma_epoch      </span>│<span style=\"color: #800080; text-decoration-color: #800080\">    0.22373627126216888    </span>│\n",
       "│<span style=\"color: #008080; text-decoration-color: #008080\">      test_ham_epoch       </span>│<span style=\"color: #800080; text-decoration-color: #800080\">    0.3320222795009613     </span>│\n",
       "│<span style=\"color: #008080; text-decoration-color: #008080\">      test_loss_epoch      </span>│<span style=\"color: #800080; text-decoration-color: #800080\">    0.6297225952148438     </span>│\n",
       "└───────────────────────────┴───────────────────────────┘\n",
       "</pre>\n"
      ],
      "text/plain": [
       "┏━━━━━━━━━━━━━━━━━━━━━━━━━━━┳━━━━━━━━━━━━━━━━━━━━━━━━━━━┓\n",
       "┃\u001b[1m \u001b[0m\u001b[1m       Test metric       \u001b[0m\u001b[1m \u001b[0m┃\u001b[1m \u001b[0m\u001b[1m      DataLoader 0       \u001b[0m\u001b[1m \u001b[0m┃\n",
       "┡━━━━━━━━━━━━━━━━━━━━━━━━━━━╇━━━━━━━━━━━━━━━━━━━━━━━━━━━┩\n",
       "│\u001b[36m \u001b[0m\u001b[36m     test_f1ma_epoch     \u001b[0m\u001b[36m \u001b[0m│\u001b[35m \u001b[0m\u001b[35m   0.22373627126216888   \u001b[0m\u001b[35m \u001b[0m│\n",
       "│\u001b[36m \u001b[0m\u001b[36m     test_ham_epoch      \u001b[0m\u001b[36m \u001b[0m│\u001b[35m \u001b[0m\u001b[35m   0.3320222795009613    \u001b[0m\u001b[35m \u001b[0m│\n",
       "│\u001b[36m \u001b[0m\u001b[36m     test_loss_epoch     \u001b[0m\u001b[36m \u001b[0m│\u001b[35m \u001b[0m\u001b[35m   0.6297225952148438    \u001b[0m\u001b[35m \u001b[0m│\n",
       "└───────────────────────────┴───────────────────────────┘\n"
      ]
     },
     "metadata": {},
     "output_type": "display_data"
    },
    {
     "name": "stdout",
     "output_type": "stream",
     "text": [
      "  loss: 0.6297 | hamming: 0.3320 | f1_macro: 0.2237\n",
      "Fold 5/10\n"
     ]
    },
    {
     "name": "stderr",
     "output_type": "stream",
     "text": [
      "GPU available: True (mps), used: False\n",
      "TPU available: False, using: 0 TPU cores\n",
      "HPU available: False, using: 0 HPUs\n",
      "\n",
      "  | Name       | Type                      | Params | Mode \n",
      "-----------------------------------------------------------------\n",
      "0 | classifier | Sequential                | 240 K  | train\n",
      "1 | loss       | BCEWithLogitsLoss         | 0      | train\n",
      "2 | hamming    | MultilabelHammingDistance | 0      | train\n",
      "3 | f1_macro   | MultilabelF1Score         | 0      | train\n",
      "-----------------------------------------------------------------\n",
      "240 K     Trainable params\n",
      "0         Non-trainable params\n",
      "240 K     Total params\n",
      "0.961     Total estimated model params size (MB)\n",
      "17        Modules in train mode\n",
      "0         Modules in eval mode\n"
     ]
    },
    {
     "name": "stdout",
     "output_type": "stream",
     "text": [
      "Epoch 4: 100%|██████████| 34/34 [00:00<00:00, 201.95it/s, v_num=224, train_loss=0.533, train_ham=0.274, train_f1ma=0.315, val_loss_step=0.555, val_ham_step=0.304, val_f1ma_step=0.108, val_loss_epoch=0.569, val_ham_epoch=0.292, val_f1ma_epoch=0.150] \n"
     ]
    },
    {
     "name": "stderr",
     "output_type": "stream",
     "text": [
      "Restoring states from the checkpoint path at /Users/benjaminvaca/Documents/USFQ/semestre7/machine_learning/proyecto/lightning_logs/version_224/checkpoints/epoch=1-step=68.ckpt\n",
      "Loaded model weights from the checkpoint at /Users/benjaminvaca/Documents/USFQ/semestre7/machine_learning/proyecto/lightning_logs/version_224/checkpoints/epoch=1-step=68.ckpt\n"
     ]
    },
    {
     "name": "stdout",
     "output_type": "stream",
     "text": [
      "Validation DataLoader 0: 100%|██████████| 34/34 [00:00<00:00, 517.64it/s]"
     ]
    },
    {
     "name": "stderr",
     "output_type": "stream",
     "text": [
      "Restoring states from the checkpoint path at /Users/benjaminvaca/Documents/USFQ/semestre7/machine_learning/proyecto/lightning_logs/version_224/checkpoints/epoch=1-step=68.ckpt\n"
     ]
    },
    {
     "name": "stdout",
     "output_type": "stream",
     "text": [
      "\n"
     ]
    },
    {
     "name": "stderr",
     "output_type": "stream",
     "text": [
      "Loaded model weights from the checkpoint at /Users/benjaminvaca/Documents/USFQ/semestre7/machine_learning/proyecto/lightning_logs/version_224/checkpoints/epoch=1-step=68.ckpt\n"
     ]
    },
    {
     "name": "stdout",
     "output_type": "stream",
     "text": [
      "Validation DataLoader 0: 100%|██████████| 9/9 [00:00<00:00, 505.67it/s]\n"
     ]
    },
    {
     "name": "stderr",
     "output_type": "stream",
     "text": [
      "Restoring states from the checkpoint path at /Users/benjaminvaca/Documents/USFQ/semestre7/machine_learning/proyecto/lightning_logs/version_224/checkpoints/epoch=1-step=68.ckpt\n",
      "Loaded model weights from the checkpoint at /Users/benjaminvaca/Documents/USFQ/semestre7/machine_learning/proyecto/lightning_logs/version_224/checkpoints/epoch=1-step=68.ckpt\n"
     ]
    },
    {
     "name": "stdout",
     "output_type": "stream",
     "text": [
      "Testing DataLoader 0: 100%|██████████| 11/11 [00:00<00:00, 491.76it/s]\n"
     ]
    },
    {
     "data": {
      "text/html": [
       "<pre style=\"white-space:pre;overflow-x:auto;line-height:normal;font-family:Menlo,'DejaVu Sans Mono',consolas,'Courier New',monospace\">┏━━━━━━━━━━━━━━━━━━━━━━━━━━━┳━━━━━━━━━━━━━━━━━━━━━━━━━━━┓\n",
       "┃<span style=\"font-weight: bold\">        Test metric        </span>┃<span style=\"font-weight: bold\">       DataLoader 0        </span>┃\n",
       "┡━━━━━━━━━━━━━━━━━━━━━━━━━━━╇━━━━━━━━━━━━━━━━━━━━━━━━━━━┩\n",
       "│<span style=\"color: #008080; text-decoration-color: #008080\">      test_f1ma_epoch      </span>│<span style=\"color: #800080; text-decoration-color: #800080\">    0.15417900681495667    </span>│\n",
       "│<span style=\"color: #008080; text-decoration-color: #008080\">      test_ham_epoch       </span>│<span style=\"color: #800080; text-decoration-color: #800080\">    0.3044902980327606     </span>│\n",
       "│<span style=\"color: #008080; text-decoration-color: #008080\">      test_loss_epoch      </span>│<span style=\"color: #800080; text-decoration-color: #800080\">     0.591493546962738     </span>│\n",
       "└───────────────────────────┴───────────────────────────┘\n",
       "</pre>\n"
      ],
      "text/plain": [
       "┏━━━━━━━━━━━━━━━━━━━━━━━━━━━┳━━━━━━━━━━━━━━━━━━━━━━━━━━━┓\n",
       "┃\u001b[1m \u001b[0m\u001b[1m       Test metric       \u001b[0m\u001b[1m \u001b[0m┃\u001b[1m \u001b[0m\u001b[1m      DataLoader 0       \u001b[0m\u001b[1m \u001b[0m┃\n",
       "┡━━━━━━━━━━━━━━━━━━━━━━━━━━━╇━━━━━━━━━━━━━━━━━━━━━━━━━━━┩\n",
       "│\u001b[36m \u001b[0m\u001b[36m     test_f1ma_epoch     \u001b[0m\u001b[36m \u001b[0m│\u001b[35m \u001b[0m\u001b[35m   0.15417900681495667   \u001b[0m\u001b[35m \u001b[0m│\n",
       "│\u001b[36m \u001b[0m\u001b[36m     test_ham_epoch      \u001b[0m\u001b[36m \u001b[0m│\u001b[35m \u001b[0m\u001b[35m   0.3044902980327606    \u001b[0m\u001b[35m \u001b[0m│\n",
       "│\u001b[36m \u001b[0m\u001b[36m     test_loss_epoch     \u001b[0m\u001b[36m \u001b[0m│\u001b[35m \u001b[0m\u001b[35m    0.591493546962738    \u001b[0m\u001b[35m \u001b[0m│\n",
       "└───────────────────────────┴───────────────────────────┘\n"
      ]
     },
     "metadata": {},
     "output_type": "display_data"
    },
    {
     "name": "stdout",
     "output_type": "stream",
     "text": [
      "  loss: 0.5915 | hamming: 0.3045 | f1_macro: 0.1542\n",
      "Fold 6/10\n"
     ]
    },
    {
     "name": "stderr",
     "output_type": "stream",
     "text": [
      "GPU available: True (mps), used: False\n",
      "TPU available: False, using: 0 TPU cores\n",
      "HPU available: False, using: 0 HPUs\n",
      "\n",
      "  | Name       | Type                      | Params | Mode \n",
      "-----------------------------------------------------------------\n",
      "0 | classifier | Sequential                | 240 K  | train\n",
      "1 | loss       | BCEWithLogitsLoss         | 0      | train\n",
      "2 | hamming    | MultilabelHammingDistance | 0      | train\n",
      "3 | f1_macro   | MultilabelF1Score         | 0      | train\n",
      "-----------------------------------------------------------------\n",
      "240 K     Trainable params\n",
      "0         Non-trainable params\n",
      "240 K     Total params\n",
      "0.961     Total estimated model params size (MB)\n",
      "17        Modules in train mode\n",
      "0         Modules in eval mode\n"
     ]
    },
    {
     "name": "stdout",
     "output_type": "stream",
     "text": [
      "Epoch 3: 100%|██████████| 34/34 [00:00<00:00, 202.99it/s, v_num=225, train_loss=0.577, train_ham=0.314, train_f1ma=0.257, val_loss_step=0.581, val_ham_step=0.340, val_f1ma_step=0.105, val_loss_epoch=0.572, val_ham_epoch=0.304, val_f1ma_epoch=0.150] "
     ]
    },
    {
     "name": "stderr",
     "output_type": "stream",
     "text": [
      "Restoring states from the checkpoint path at /Users/benjaminvaca/Documents/USFQ/semestre7/machine_learning/proyecto/lightning_logs/version_225/checkpoints/epoch=0-step=34.ckpt\n"
     ]
    },
    {
     "name": "stdout",
     "output_type": "stream",
     "text": [
      "\n"
     ]
    },
    {
     "name": "stderr",
     "output_type": "stream",
     "text": [
      "Loaded model weights from the checkpoint at /Users/benjaminvaca/Documents/USFQ/semestre7/machine_learning/proyecto/lightning_logs/version_225/checkpoints/epoch=0-step=34.ckpt\n"
     ]
    },
    {
     "name": "stdout",
     "output_type": "stream",
     "text": [
      "Validation DataLoader 0: 100%|██████████| 34/34 [00:00<00:00, 510.59it/s]"
     ]
    },
    {
     "name": "stderr",
     "output_type": "stream",
     "text": [
      "Restoring states from the checkpoint path at /Users/benjaminvaca/Documents/USFQ/semestre7/machine_learning/proyecto/lightning_logs/version_225/checkpoints/epoch=0-step=34.ckpt\n"
     ]
    },
    {
     "name": "stdout",
     "output_type": "stream",
     "text": [
      "\n"
     ]
    },
    {
     "name": "stderr",
     "output_type": "stream",
     "text": [
      "Loaded model weights from the checkpoint at /Users/benjaminvaca/Documents/USFQ/semestre7/machine_learning/proyecto/lightning_logs/version_225/checkpoints/epoch=0-step=34.ckpt\n"
     ]
    },
    {
     "name": "stdout",
     "output_type": "stream",
     "text": [
      "Validation DataLoader 0: 100%|██████████| 9/9 [00:00<00:00, 485.10it/s]"
     ]
    },
    {
     "name": "stderr",
     "output_type": "stream",
     "text": [
      "Restoring states from the checkpoint path at /Users/benjaminvaca/Documents/USFQ/semestre7/machine_learning/proyecto/lightning_logs/version_225/checkpoints/epoch=0-step=34.ckpt\n"
     ]
    },
    {
     "name": "stdout",
     "output_type": "stream",
     "text": [
      "\n"
     ]
    },
    {
     "name": "stderr",
     "output_type": "stream",
     "text": [
      "Loaded model weights from the checkpoint at /Users/benjaminvaca/Documents/USFQ/semestre7/machine_learning/proyecto/lightning_logs/version_225/checkpoints/epoch=0-step=34.ckpt\n"
     ]
    },
    {
     "name": "stdout",
     "output_type": "stream",
     "text": [
      "Testing DataLoader 0: 100%|██████████| 11/11 [00:00<00:00, 487.72it/s]\n"
     ]
    },
    {
     "data": {
      "text/html": [
       "<pre style=\"white-space:pre;overflow-x:auto;line-height:normal;font-family:Menlo,'DejaVu Sans Mono',consolas,'Courier New',monospace\">┏━━━━━━━━━━━━━━━━━━━━━━━━━━━┳━━━━━━━━━━━━━━━━━━━━━━━━━━━┓\n",
       "┃<span style=\"font-weight: bold\">        Test metric        </span>┃<span style=\"font-weight: bold\">       DataLoader 0        </span>┃\n",
       "┡━━━━━━━━━━━━━━━━━━━━━━━━━━━╇━━━━━━━━━━━━━━━━━━━━━━━━━━━┩\n",
       "│<span style=\"color: #008080; text-decoration-color: #008080\">      test_f1ma_epoch      </span>│<span style=\"color: #800080; text-decoration-color: #800080\">    0.17100806534290314    </span>│\n",
       "│<span style=\"color: #008080; text-decoration-color: #008080\">      test_ham_epoch       </span>│<span style=\"color: #800080; text-decoration-color: #800080\">    0.32087841629981995    </span>│\n",
       "│<span style=\"color: #008080; text-decoration-color: #008080\">      test_loss_epoch      </span>│<span style=\"color: #800080; text-decoration-color: #800080\">    0.6323848962783813     </span>│\n",
       "└───────────────────────────┴───────────────────────────┘\n",
       "</pre>\n"
      ],
      "text/plain": [
       "┏━━━━━━━━━━━━━━━━━━━━━━━━━━━┳━━━━━━━━━━━━━━━━━━━━━━━━━━━┓\n",
       "┃\u001b[1m \u001b[0m\u001b[1m       Test metric       \u001b[0m\u001b[1m \u001b[0m┃\u001b[1m \u001b[0m\u001b[1m      DataLoader 0       \u001b[0m\u001b[1m \u001b[0m┃\n",
       "┡━━━━━━━━━━━━━━━━━━━━━━━━━━━╇━━━━━━━━━━━━━━━━━━━━━━━━━━━┩\n",
       "│\u001b[36m \u001b[0m\u001b[36m     test_f1ma_epoch     \u001b[0m\u001b[36m \u001b[0m│\u001b[35m \u001b[0m\u001b[35m   0.17100806534290314   \u001b[0m\u001b[35m \u001b[0m│\n",
       "│\u001b[36m \u001b[0m\u001b[36m     test_ham_epoch      \u001b[0m\u001b[36m \u001b[0m│\u001b[35m \u001b[0m\u001b[35m   0.32087841629981995   \u001b[0m\u001b[35m \u001b[0m│\n",
       "│\u001b[36m \u001b[0m\u001b[36m     test_loss_epoch     \u001b[0m\u001b[36m \u001b[0m│\u001b[35m \u001b[0m\u001b[35m   0.6323848962783813    \u001b[0m\u001b[35m \u001b[0m│\n",
       "└───────────────────────────┴───────────────────────────┘\n"
      ]
     },
     "metadata": {},
     "output_type": "display_data"
    },
    {
     "name": "stdout",
     "output_type": "stream",
     "text": [
      "  loss: 0.6324 | hamming: 0.3209 | f1_macro: 0.1710\n",
      "Fold 7/10\n"
     ]
    },
    {
     "name": "stderr",
     "output_type": "stream",
     "text": [
      "GPU available: True (mps), used: False\n",
      "TPU available: False, using: 0 TPU cores\n",
      "HPU available: False, using: 0 HPUs\n",
      "\n",
      "  | Name       | Type                      | Params | Mode \n",
      "-----------------------------------------------------------------\n",
      "0 | classifier | Sequential                | 240 K  | train\n",
      "1 | loss       | BCEWithLogitsLoss         | 0      | train\n",
      "2 | hamming    | MultilabelHammingDistance | 0      | train\n",
      "3 | f1_macro   | MultilabelF1Score         | 0      | train\n",
      "-----------------------------------------------------------------\n",
      "240 K     Trainable params\n",
      "0         Non-trainable params\n",
      "240 K     Total params\n",
      "0.961     Total estimated model params size (MB)\n",
      "17        Modules in train mode\n",
      "0         Modules in eval mode\n"
     ]
    },
    {
     "name": "stdout",
     "output_type": "stream",
     "text": [
      "Epoch 3: 100%|██████████| 34/34 [00:00<00:00, 203.97it/s, v_num=226, train_loss=0.600, train_ham=0.330, train_f1ma=0.212, val_loss_step=0.571, val_ham_step=0.403, val_f1ma_step=0.0351, val_loss_epoch=0.575, val_ham_epoch=0.299, val_f1ma_epoch=0.157]\n"
     ]
    },
    {
     "name": "stderr",
     "output_type": "stream",
     "text": [
      "Restoring states from the checkpoint path at /Users/benjaminvaca/Documents/USFQ/semestre7/machine_learning/proyecto/lightning_logs/version_226/checkpoints/epoch=0-step=34.ckpt\n",
      "Loaded model weights from the checkpoint at /Users/benjaminvaca/Documents/USFQ/semestre7/machine_learning/proyecto/lightning_logs/version_226/checkpoints/epoch=0-step=34.ckpt\n"
     ]
    },
    {
     "name": "stdout",
     "output_type": "stream",
     "text": [
      "Validation DataLoader 0: 100%|██████████| 34/34 [00:00<00:00, 516.13it/s]\n"
     ]
    },
    {
     "name": "stderr",
     "output_type": "stream",
     "text": [
      "Restoring states from the checkpoint path at /Users/benjaminvaca/Documents/USFQ/semestre7/machine_learning/proyecto/lightning_logs/version_226/checkpoints/epoch=0-step=34.ckpt\n",
      "Loaded model weights from the checkpoint at /Users/benjaminvaca/Documents/USFQ/semestre7/machine_learning/proyecto/lightning_logs/version_226/checkpoints/epoch=0-step=34.ckpt\n"
     ]
    },
    {
     "name": "stdout",
     "output_type": "stream",
     "text": [
      "Validation DataLoader 0: 100%|██████████| 9/9 [00:00<00:00, 490.73it/s]\n"
     ]
    },
    {
     "name": "stderr",
     "output_type": "stream",
     "text": [
      "Restoring states from the checkpoint path at /Users/benjaminvaca/Documents/USFQ/semestre7/machine_learning/proyecto/lightning_logs/version_226/checkpoints/epoch=0-step=34.ckpt\n",
      "Loaded model weights from the checkpoint at /Users/benjaminvaca/Documents/USFQ/semestre7/machine_learning/proyecto/lightning_logs/version_226/checkpoints/epoch=0-step=34.ckpt\n"
     ]
    },
    {
     "name": "stdout",
     "output_type": "stream",
     "text": [
      "Testing DataLoader 0: 100%|██████████| 11/11 [00:00<00:00, 490.96it/s]\n"
     ]
    },
    {
     "data": {
      "text/html": [
       "<pre style=\"white-space:pre;overflow-x:auto;line-height:normal;font-family:Menlo,'DejaVu Sans Mono',consolas,'Courier New',monospace\">┏━━━━━━━━━━━━━━━━━━━━━━━━━━━┳━━━━━━━━━━━━━━━━━━━━━━━━━━━┓\n",
       "┃<span style=\"font-weight: bold\">        Test metric        </span>┃<span style=\"font-weight: bold\">       DataLoader 0        </span>┃\n",
       "┡━━━━━━━━━━━━━━━━━━━━━━━━━━━╇━━━━━━━━━━━━━━━━━━━━━━━━━━━┩\n",
       "│<span style=\"color: #008080; text-decoration-color: #008080\">      test_f1ma_epoch      </span>│<span style=\"color: #800080; text-decoration-color: #800080\">    0.22099532186985016    </span>│\n",
       "│<span style=\"color: #008080; text-decoration-color: #008080\">      test_ham_epoch       </span>│<span style=\"color: #800080; text-decoration-color: #800080\">    0.3320222795009613     </span>│\n",
       "│<span style=\"color: #008080; text-decoration-color: #008080\">      test_loss_epoch      </span>│<span style=\"color: #800080; text-decoration-color: #800080\">    0.6365575194358826     </span>│\n",
       "└───────────────────────────┴───────────────────────────┘\n",
       "</pre>\n"
      ],
      "text/plain": [
       "┏━━━━━━━━━━━━━━━━━━━━━━━━━━━┳━━━━━━━━━━━━━━━━━━━━━━━━━━━┓\n",
       "┃\u001b[1m \u001b[0m\u001b[1m       Test metric       \u001b[0m\u001b[1m \u001b[0m┃\u001b[1m \u001b[0m\u001b[1m      DataLoader 0       \u001b[0m\u001b[1m \u001b[0m┃\n",
       "┡━━━━━━━━━━━━━━━━━━━━━━━━━━━╇━━━━━━━━━━━━━━━━━━━━━━━━━━━┩\n",
       "│\u001b[36m \u001b[0m\u001b[36m     test_f1ma_epoch     \u001b[0m\u001b[36m \u001b[0m│\u001b[35m \u001b[0m\u001b[35m   0.22099532186985016   \u001b[0m\u001b[35m \u001b[0m│\n",
       "│\u001b[36m \u001b[0m\u001b[36m     test_ham_epoch      \u001b[0m\u001b[36m \u001b[0m│\u001b[35m \u001b[0m\u001b[35m   0.3320222795009613    \u001b[0m\u001b[35m \u001b[0m│\n",
       "│\u001b[36m \u001b[0m\u001b[36m     test_loss_epoch     \u001b[0m\u001b[36m \u001b[0m│\u001b[35m \u001b[0m\u001b[35m   0.6365575194358826    \u001b[0m\u001b[35m \u001b[0m│\n",
       "└───────────────────────────┴───────────────────────────┘\n"
      ]
     },
     "metadata": {},
     "output_type": "display_data"
    },
    {
     "name": "stdout",
     "output_type": "stream",
     "text": [
      "  loss: 0.6366 | hamming: 0.3320 | f1_macro: 0.2210\n",
      "Fold 8/10\n"
     ]
    },
    {
     "name": "stderr",
     "output_type": "stream",
     "text": [
      "GPU available: True (mps), used: False\n",
      "TPU available: False, using: 0 TPU cores\n",
      "HPU available: False, using: 0 HPUs\n",
      "\n",
      "  | Name       | Type                      | Params | Mode \n",
      "-----------------------------------------------------------------\n",
      "0 | classifier | Sequential                | 240 K  | train\n",
      "1 | loss       | BCEWithLogitsLoss         | 0      | train\n",
      "2 | hamming    | MultilabelHammingDistance | 0      | train\n",
      "3 | f1_macro   | MultilabelF1Score         | 0      | train\n",
      "-----------------------------------------------------------------\n",
      "240 K     Trainable params\n",
      "0         Non-trainable params\n",
      "240 K     Total params\n",
      "0.961     Total estimated model params size (MB)\n",
      "17        Modules in train mode\n",
      "0         Modules in eval mode\n"
     ]
    },
    {
     "name": "stdout",
     "output_type": "stream",
     "text": [
      "Epoch 3: 100%|██████████| 34/34 [00:00<00:00, 203.35it/s, v_num=227, train_loss=0.566, train_ham=0.293, train_f1ma=0.303, val_loss_step=0.575, val_ham_step=0.259, val_f1ma_step=0.113, val_loss_epoch=0.569, val_ham_epoch=0.315, val_f1ma_epoch=0.139] \n"
     ]
    },
    {
     "name": "stderr",
     "output_type": "stream",
     "text": [
      "Restoring states from the checkpoint path at /Users/benjaminvaca/Documents/USFQ/semestre7/machine_learning/proyecto/lightning_logs/version_227/checkpoints/epoch=0-step=34.ckpt\n",
      "Loaded model weights from the checkpoint at /Users/benjaminvaca/Documents/USFQ/semestre7/machine_learning/proyecto/lightning_logs/version_227/checkpoints/epoch=0-step=34.ckpt\n"
     ]
    },
    {
     "name": "stdout",
     "output_type": "stream",
     "text": [
      "Validation DataLoader 0: 100%|██████████| 34/34 [00:00<00:00, 516.15it/s]"
     ]
    },
    {
     "name": "stderr",
     "output_type": "stream",
     "text": [
      "Restoring states from the checkpoint path at /Users/benjaminvaca/Documents/USFQ/semestre7/machine_learning/proyecto/lightning_logs/version_227/checkpoints/epoch=0-step=34.ckpt\n"
     ]
    },
    {
     "name": "stdout",
     "output_type": "stream",
     "text": [
      "\n"
     ]
    },
    {
     "name": "stderr",
     "output_type": "stream",
     "text": [
      "Loaded model weights from the checkpoint at /Users/benjaminvaca/Documents/USFQ/semestre7/machine_learning/proyecto/lightning_logs/version_227/checkpoints/epoch=0-step=34.ckpt\n"
     ]
    },
    {
     "name": "stdout",
     "output_type": "stream",
     "text": [
      "Validation DataLoader 0: 100%|██████████| 9/9 [00:00<00:00, 470.57it/s]"
     ]
    },
    {
     "name": "stderr",
     "output_type": "stream",
     "text": [
      "Restoring states from the checkpoint path at /Users/benjaminvaca/Documents/USFQ/semestre7/machine_learning/proyecto/lightning_logs/version_227/checkpoints/epoch=0-step=34.ckpt\n"
     ]
    },
    {
     "name": "stdout",
     "output_type": "stream",
     "text": [
      "\n"
     ]
    },
    {
     "name": "stderr",
     "output_type": "stream",
     "text": [
      "Loaded model weights from the checkpoint at /Users/benjaminvaca/Documents/USFQ/semestre7/machine_learning/proyecto/lightning_logs/version_227/checkpoints/epoch=0-step=34.ckpt\n"
     ]
    },
    {
     "name": "stdout",
     "output_type": "stream",
     "text": [
      "Testing DataLoader 0: 100%|██████████| 11/11 [00:00<00:00, 466.59it/s]\n"
     ]
    },
    {
     "data": {
      "text/html": [
       "<pre style=\"white-space:pre;overflow-x:auto;line-height:normal;font-family:Menlo,'DejaVu Sans Mono',consolas,'Courier New',monospace\">┏━━━━━━━━━━━━━━━━━━━━━━━━━━━┳━━━━━━━━━━━━━━━━━━━━━━━━━━━┓\n",
       "┃<span style=\"font-weight: bold\">        Test metric        </span>┃<span style=\"font-weight: bold\">       DataLoader 0        </span>┃\n",
       "┡━━━━━━━━━━━━━━━━━━━━━━━━━━━╇━━━━━━━━━━━━━━━━━━━━━━━━━━━┩\n",
       "│<span style=\"color: #008080; text-decoration-color: #008080\">      test_f1ma_epoch      </span>│<span style=\"color: #800080; text-decoration-color: #800080\">    0.2027697116136551     </span>│\n",
       "│<span style=\"color: #008080; text-decoration-color: #008080\">      test_ham_epoch       </span>│<span style=\"color: #800080; text-decoration-color: #800080\">    0.32743361592292786    </span>│\n",
       "│<span style=\"color: #008080; text-decoration-color: #008080\">      test_loss_epoch      </span>│<span style=\"color: #800080; text-decoration-color: #800080\">    0.6322523355484009     </span>│\n",
       "└───────────────────────────┴───────────────────────────┘\n",
       "</pre>\n"
      ],
      "text/plain": [
       "┏━━━━━━━━━━━━━━━━━━━━━━━━━━━┳━━━━━━━━━━━━━━━━━━━━━━━━━━━┓\n",
       "┃\u001b[1m \u001b[0m\u001b[1m       Test metric       \u001b[0m\u001b[1m \u001b[0m┃\u001b[1m \u001b[0m\u001b[1m      DataLoader 0       \u001b[0m\u001b[1m \u001b[0m┃\n",
       "┡━━━━━━━━━━━━━━━━━━━━━━━━━━━╇━━━━━━━━━━━━━━━━━━━━━━━━━━━┩\n",
       "│\u001b[36m \u001b[0m\u001b[36m     test_f1ma_epoch     \u001b[0m\u001b[36m \u001b[0m│\u001b[35m \u001b[0m\u001b[35m   0.2027697116136551    \u001b[0m\u001b[35m \u001b[0m│\n",
       "│\u001b[36m \u001b[0m\u001b[36m     test_ham_epoch      \u001b[0m\u001b[36m \u001b[0m│\u001b[35m \u001b[0m\u001b[35m   0.32743361592292786   \u001b[0m\u001b[35m \u001b[0m│\n",
       "│\u001b[36m \u001b[0m\u001b[36m     test_loss_epoch     \u001b[0m\u001b[36m \u001b[0m│\u001b[35m \u001b[0m\u001b[35m   0.6322523355484009    \u001b[0m\u001b[35m \u001b[0m│\n",
       "└───────────────────────────┴───────────────────────────┘\n"
      ]
     },
     "metadata": {},
     "output_type": "display_data"
    },
    {
     "name": "stdout",
     "output_type": "stream",
     "text": [
      "  loss: 0.6323 | hamming: 0.3274 | f1_macro: 0.2028\n",
      "Fold 9/10\n"
     ]
    },
    {
     "name": "stderr",
     "output_type": "stream",
     "text": [
      "GPU available: True (mps), used: False\n",
      "TPU available: False, using: 0 TPU cores\n",
      "HPU available: False, using: 0 HPUs\n",
      "\n",
      "  | Name       | Type                      | Params | Mode \n",
      "-----------------------------------------------------------------\n",
      "0 | classifier | Sequential                | 240 K  | train\n",
      "1 | loss       | BCEWithLogitsLoss         | 0      | train\n",
      "2 | hamming    | MultilabelHammingDistance | 0      | train\n",
      "3 | f1_macro   | MultilabelF1Score         | 0      | train\n",
      "-----------------------------------------------------------------\n",
      "240 K     Trainable params\n",
      "0         Non-trainable params\n",
      "240 K     Total params\n",
      "0.961     Total estimated model params size (MB)\n",
      "17        Modules in train mode\n",
      "0         Modules in eval mode\n"
     ]
    },
    {
     "name": "stdout",
     "output_type": "stream",
     "text": [
      "Epoch 10: 100%|██████████| 34/34 [00:00<00:00, 204.50it/s, v_num=228, train_loss=0.547, train_ham=0.296, train_f1ma=0.321, val_loss_step=0.515, val_ham_step=0.259, val_f1ma_step=0.137, val_loss_epoch=0.549, val_ham_epoch=0.286, val_f1ma_epoch=0.193]\n"
     ]
    },
    {
     "name": "stderr",
     "output_type": "stream",
     "text": [
      "Restoring states from the checkpoint path at /Users/benjaminvaca/Documents/USFQ/semestre7/machine_learning/proyecto/lightning_logs/version_228/checkpoints/epoch=7-step=272.ckpt\n",
      "Loaded model weights from the checkpoint at /Users/benjaminvaca/Documents/USFQ/semestre7/machine_learning/proyecto/lightning_logs/version_228/checkpoints/epoch=7-step=272.ckpt\n"
     ]
    },
    {
     "name": "stdout",
     "output_type": "stream",
     "text": [
      "Validation DataLoader 0: 100%|██████████| 34/34 [00:00<00:00, 510.70it/s]"
     ]
    },
    {
     "name": "stderr",
     "output_type": "stream",
     "text": [
      "Restoring states from the checkpoint path at /Users/benjaminvaca/Documents/USFQ/semestre7/machine_learning/proyecto/lightning_logs/version_228/checkpoints/epoch=7-step=272.ckpt\n"
     ]
    },
    {
     "name": "stdout",
     "output_type": "stream",
     "text": [
      "\n"
     ]
    },
    {
     "name": "stderr",
     "output_type": "stream",
     "text": [
      "Loaded model weights from the checkpoint at /Users/benjaminvaca/Documents/USFQ/semestre7/machine_learning/proyecto/lightning_logs/version_228/checkpoints/epoch=7-step=272.ckpt\n"
     ]
    },
    {
     "name": "stdout",
     "output_type": "stream",
     "text": [
      "Validation DataLoader 0: 100%|██████████| 9/9 [00:00<00:00, 492.26it/s]\n"
     ]
    },
    {
     "name": "stderr",
     "output_type": "stream",
     "text": [
      "Restoring states from the checkpoint path at /Users/benjaminvaca/Documents/USFQ/semestre7/machine_learning/proyecto/lightning_logs/version_228/checkpoints/epoch=7-step=272.ckpt\n",
      "Loaded model weights from the checkpoint at /Users/benjaminvaca/Documents/USFQ/semestre7/machine_learning/proyecto/lightning_logs/version_228/checkpoints/epoch=7-step=272.ckpt\n"
     ]
    },
    {
     "name": "stdout",
     "output_type": "stream",
     "text": [
      "Testing DataLoader 0: 100%|██████████| 11/11 [00:00<00:00, 480.05it/s]\n"
     ]
    },
    {
     "data": {
      "text/html": [
       "<pre style=\"white-space:pre;overflow-x:auto;line-height:normal;font-family:Menlo,'DejaVu Sans Mono',consolas,'Courier New',monospace\">┏━━━━━━━━━━━━━━━━━━━━━━━━━━━┳━━━━━━━━━━━━━━━━━━━━━━━━━━━┓\n",
       "┃<span style=\"font-weight: bold\">        Test metric        </span>┃<span style=\"font-weight: bold\">       DataLoader 0        </span>┃\n",
       "┡━━━━━━━━━━━━━━━━━━━━━━━━━━━╇━━━━━━━━━━━━━━━━━━━━━━━━━━━┩\n",
       "│<span style=\"color: #008080; text-decoration-color: #008080\">      test_f1ma_epoch      </span>│<span style=\"color: #800080; text-decoration-color: #800080\">    0.17319849133491516    </span>│\n",
       "│<span style=\"color: #008080; text-decoration-color: #008080\">      test_ham_epoch       </span>│<span style=\"color: #800080; text-decoration-color: #800080\">    0.2848246693611145     </span>│\n",
       "│<span style=\"color: #008080; text-decoration-color: #008080\">      test_loss_epoch      </span>│<span style=\"color: #800080; text-decoration-color: #800080\">    0.5595535635948181     </span>│\n",
       "└───────────────────────────┴───────────────────────────┘\n",
       "</pre>\n"
      ],
      "text/plain": [
       "┏━━━━━━━━━━━━━━━━━━━━━━━━━━━┳━━━━━━━━━━━━━━━━━━━━━━━━━━━┓\n",
       "┃\u001b[1m \u001b[0m\u001b[1m       Test metric       \u001b[0m\u001b[1m \u001b[0m┃\u001b[1m \u001b[0m\u001b[1m      DataLoader 0       \u001b[0m\u001b[1m \u001b[0m┃\n",
       "┡━━━━━━━━━━━━━━━━━━━━━━━━━━━╇━━━━━━━━━━━━━━━━━━━━━━━━━━━┩\n",
       "│\u001b[36m \u001b[0m\u001b[36m     test_f1ma_epoch     \u001b[0m\u001b[36m \u001b[0m│\u001b[35m \u001b[0m\u001b[35m   0.17319849133491516   \u001b[0m\u001b[35m \u001b[0m│\n",
       "│\u001b[36m \u001b[0m\u001b[36m     test_ham_epoch      \u001b[0m\u001b[36m \u001b[0m│\u001b[35m \u001b[0m\u001b[35m   0.2848246693611145    \u001b[0m\u001b[35m \u001b[0m│\n",
       "│\u001b[36m \u001b[0m\u001b[36m     test_loss_epoch     \u001b[0m\u001b[36m \u001b[0m│\u001b[35m \u001b[0m\u001b[35m   0.5595535635948181    \u001b[0m\u001b[35m \u001b[0m│\n",
       "└───────────────────────────┴───────────────────────────┘\n"
      ]
     },
     "metadata": {},
     "output_type": "display_data"
    },
    {
     "name": "stdout",
     "output_type": "stream",
     "text": [
      "  loss: 0.5596 | hamming: 0.2848 | f1_macro: 0.1732\n",
      "Fold 10/10\n"
     ]
    },
    {
     "name": "stderr",
     "output_type": "stream",
     "text": [
      "GPU available: True (mps), used: False\n",
      "TPU available: False, using: 0 TPU cores\n",
      "HPU available: False, using: 0 HPUs\n",
      "\n",
      "  | Name       | Type                      | Params | Mode \n",
      "-----------------------------------------------------------------\n",
      "0 | classifier | Sequential                | 240 K  | train\n",
      "1 | loss       | BCEWithLogitsLoss         | 0      | train\n",
      "2 | hamming    | MultilabelHammingDistance | 0      | train\n",
      "3 | f1_macro   | MultilabelF1Score         | 0      | train\n",
      "-----------------------------------------------------------------\n",
      "240 K     Trainable params\n",
      "0         Non-trainable params\n",
      "240 K     Total params\n",
      "0.961     Total estimated model params size (MB)\n",
      "17        Modules in train mode\n",
      "0         Modules in eval mode\n"
     ]
    },
    {
     "name": "stdout",
     "output_type": "stream",
     "text": [
      "Epoch 3: 100%|██████████| 34/34 [00:00<00:00, 201.86it/s, v_num=229, train_loss=0.549, train_ham=0.311, train_f1ma=0.258, val_loss_step=0.578, val_ham_step=0.370, val_f1ma_step=0.0838, val_loss_epoch=0.569, val_ham_epoch=0.290, val_f1ma_epoch=0.172]\n"
     ]
    },
    {
     "name": "stderr",
     "output_type": "stream",
     "text": [
      "Restoring states from the checkpoint path at /Users/benjaminvaca/Documents/USFQ/semestre7/machine_learning/proyecto/lightning_logs/version_229/checkpoints/epoch=0-step=34.ckpt\n",
      "Loaded model weights from the checkpoint at /Users/benjaminvaca/Documents/USFQ/semestre7/machine_learning/proyecto/lightning_logs/version_229/checkpoints/epoch=0-step=34.ckpt\n"
     ]
    },
    {
     "name": "stdout",
     "output_type": "stream",
     "text": [
      "Validation DataLoader 0: 100%|██████████| 34/34 [00:00<00:00, 520.14it/s]"
     ]
    },
    {
     "name": "stderr",
     "output_type": "stream",
     "text": [
      "Restoring states from the checkpoint path at /Users/benjaminvaca/Documents/USFQ/semestre7/machine_learning/proyecto/lightning_logs/version_229/checkpoints/epoch=0-step=34.ckpt\n"
     ]
    },
    {
     "name": "stdout",
     "output_type": "stream",
     "text": [
      "\n"
     ]
    },
    {
     "name": "stderr",
     "output_type": "stream",
     "text": [
      "Loaded model weights from the checkpoint at /Users/benjaminvaca/Documents/USFQ/semestre7/machine_learning/proyecto/lightning_logs/version_229/checkpoints/epoch=0-step=34.ckpt\n"
     ]
    },
    {
     "name": "stdout",
     "output_type": "stream",
     "text": [
      "Validation DataLoader 0: 100%|██████████| 9/9 [00:00<00:00, 504.28it/s]\n"
     ]
    },
    {
     "name": "stderr",
     "output_type": "stream",
     "text": [
      "Restoring states from the checkpoint path at /Users/benjaminvaca/Documents/USFQ/semestre7/machine_learning/proyecto/lightning_logs/version_229/checkpoints/epoch=0-step=34.ckpt\n",
      "Loaded model weights from the checkpoint at /Users/benjaminvaca/Documents/USFQ/semestre7/machine_learning/proyecto/lightning_logs/version_229/checkpoints/epoch=0-step=34.ckpt\n"
     ]
    },
    {
     "name": "stdout",
     "output_type": "stream",
     "text": [
      "Testing DataLoader 0: 100%|██████████| 11/11 [00:00<00:00, 495.92it/s]\n"
     ]
    },
    {
     "data": {
      "text/html": [
       "<pre style=\"white-space:pre;overflow-x:auto;line-height:normal;font-family:Menlo,'DejaVu Sans Mono',consolas,'Courier New',monospace\">┏━━━━━━━━━━━━━━━━━━━━━━━━━━━┳━━━━━━━━━━━━━━━━━━━━━━━━━━━┓\n",
       "┃<span style=\"font-weight: bold\">        Test metric        </span>┃<span style=\"font-weight: bold\">       DataLoader 0        </span>┃\n",
       "┡━━━━━━━━━━━━━━━━━━━━━━━━━━━╇━━━━━━━━━━━━━━━━━━━━━━━━━━━┩\n",
       "│<span style=\"color: #008080; text-decoration-color: #008080\">      test_f1ma_epoch      </span>│<span style=\"color: #800080; text-decoration-color: #800080\">     0.201552152633667     </span>│\n",
       "│<span style=\"color: #008080; text-decoration-color: #008080\">      test_ham_epoch       </span>│<span style=\"color: #800080; text-decoration-color: #800080\">    0.35463783144950867    </span>│\n",
       "│<span style=\"color: #008080; text-decoration-color: #008080\">      test_loss_epoch      </span>│<span style=\"color: #800080; text-decoration-color: #800080\">    0.6430136561393738     </span>│\n",
       "└───────────────────────────┴───────────────────────────┘\n",
       "</pre>\n"
      ],
      "text/plain": [
       "┏━━━━━━━━━━━━━━━━━━━━━━━━━━━┳━━━━━━━━━━━━━━━━━━━━━━━━━━━┓\n",
       "┃\u001b[1m \u001b[0m\u001b[1m       Test metric       \u001b[0m\u001b[1m \u001b[0m┃\u001b[1m \u001b[0m\u001b[1m      DataLoader 0       \u001b[0m\u001b[1m \u001b[0m┃\n",
       "┡━━━━━━━━━━━━━━━━━━━━━━━━━━━╇━━━━━━━━━━━━━━━━━━━━━━━━━━━┩\n",
       "│\u001b[36m \u001b[0m\u001b[36m     test_f1ma_epoch     \u001b[0m\u001b[36m \u001b[0m│\u001b[35m \u001b[0m\u001b[35m    0.201552152633667    \u001b[0m\u001b[35m \u001b[0m│\n",
       "│\u001b[36m \u001b[0m\u001b[36m     test_ham_epoch      \u001b[0m\u001b[36m \u001b[0m│\u001b[35m \u001b[0m\u001b[35m   0.35463783144950867   \u001b[0m\u001b[35m \u001b[0m│\n",
       "│\u001b[36m \u001b[0m\u001b[36m     test_loss_epoch     \u001b[0m\u001b[36m \u001b[0m│\u001b[35m \u001b[0m\u001b[35m   0.6430136561393738    \u001b[0m\u001b[35m \u001b[0m│\n",
       "└───────────────────────────┴───────────────────────────┘\n"
      ]
     },
     "metadata": {},
     "output_type": "display_data"
    },
    {
     "name": "stdout",
     "output_type": "stream",
     "text": [
      "  loss: 0.6430 | hamming: 0.3546 | f1_macro: 0.2016\n",
      "\n",
      "F1-macro promedio: 0.1914 ± 0.0225\n",
      "Hamming promedio: 0.3236 ± 0.0196\n",
      "Pérdida promedio:         0.6190 ± 0.0256\n",
      "HU=[256, 128, 64]  L2=0.001 → val_f1ma: 0.1914\n",
      "Fold 1/10\n"
     ]
    },
    {
     "name": "stderr",
     "output_type": "stream",
     "text": [
      "GPU available: True (mps), used: False\n",
      "TPU available: False, using: 0 TPU cores\n",
      "HPU available: False, using: 0 HPUs\n",
      "\n",
      "  | Name       | Type                      | Params | Mode \n",
      "-----------------------------------------------------------------\n",
      "0 | classifier | Sequential                | 240 K  | train\n",
      "1 | loss       | BCEWithLogitsLoss         | 0      | train\n",
      "2 | hamming    | MultilabelHammingDistance | 0      | train\n",
      "3 | f1_macro   | MultilabelF1Score         | 0      | train\n",
      "-----------------------------------------------------------------\n",
      "240 K     Trainable params\n",
      "0         Non-trainable params\n",
      "240 K     Total params\n",
      "0.961     Total estimated model params size (MB)\n",
      "17        Modules in train mode\n",
      "0         Modules in eval mode\n"
     ]
    },
    {
     "name": "stdout",
     "output_type": "stream",
     "text": [
      "Epoch 3: 100%|██████████| 34/34 [00:00<00:00, 193.82it/s, v_num=230, train_loss=0.574, train_ham=0.299, train_f1ma=0.291, val_loss_step=0.552, val_ham_step=0.389, val_f1ma_step=0.0575, val_loss_epoch=0.566, val_ham_epoch=0.293, val_f1ma_epoch=0.158]"
     ]
    },
    {
     "name": "stderr",
     "output_type": "stream",
     "text": [
      "Restoring states from the checkpoint path at /Users/benjaminvaca/Documents/USFQ/semestre7/machine_learning/proyecto/lightning_logs/version_230/checkpoints/epoch=0-step=34.ckpt\n"
     ]
    },
    {
     "name": "stdout",
     "output_type": "stream",
     "text": [
      "\n"
     ]
    },
    {
     "name": "stderr",
     "output_type": "stream",
     "text": [
      "Loaded model weights from the checkpoint at /Users/benjaminvaca/Documents/USFQ/semestre7/machine_learning/proyecto/lightning_logs/version_230/checkpoints/epoch=0-step=34.ckpt\n"
     ]
    },
    {
     "name": "stdout",
     "output_type": "stream",
     "text": [
      "Validation DataLoader 0: 100%|██████████| 34/34 [00:00<00:00, 477.05it/s]\n"
     ]
    },
    {
     "name": "stderr",
     "output_type": "stream",
     "text": [
      "Restoring states from the checkpoint path at /Users/benjaminvaca/Documents/USFQ/semestre7/machine_learning/proyecto/lightning_logs/version_230/checkpoints/epoch=0-step=34.ckpt\n",
      "Loaded model weights from the checkpoint at /Users/benjaminvaca/Documents/USFQ/semestre7/machine_learning/proyecto/lightning_logs/version_230/checkpoints/epoch=0-step=34.ckpt\n"
     ]
    },
    {
     "name": "stdout",
     "output_type": "stream",
     "text": [
      "Validation DataLoader 0: 100%|██████████| 9/9 [00:00<00:00, 466.25it/s]\n"
     ]
    },
    {
     "name": "stderr",
     "output_type": "stream",
     "text": [
      "Restoring states from the checkpoint path at /Users/benjaminvaca/Documents/USFQ/semestre7/machine_learning/proyecto/lightning_logs/version_230/checkpoints/epoch=0-step=34.ckpt\n",
      "Loaded model weights from the checkpoint at /Users/benjaminvaca/Documents/USFQ/semestre7/machine_learning/proyecto/lightning_logs/version_230/checkpoints/epoch=0-step=34.ckpt\n"
     ]
    },
    {
     "name": "stdout",
     "output_type": "stream",
     "text": [
      "Testing DataLoader 0: 100%|██████████| 11/11 [00:00<00:00, 428.48it/s]\n"
     ]
    },
    {
     "data": {
      "text/html": [
       "<pre style=\"white-space:pre;overflow-x:auto;line-height:normal;font-family:Menlo,'DejaVu Sans Mono',consolas,'Courier New',monospace\">┏━━━━━━━━━━━━━━━━━━━━━━━━━━━┳━━━━━━━━━━━━━━━━━━━━━━━━━━━┓\n",
       "┃<span style=\"font-weight: bold\">        Test metric        </span>┃<span style=\"font-weight: bold\">       DataLoader 0        </span>┃\n",
       "┡━━━━━━━━━━━━━━━━━━━━━━━━━━━╇━━━━━━━━━━━━━━━━━━━━━━━━━━━┩\n",
       "│<span style=\"color: #008080; text-decoration-color: #008080\">      test_f1ma_epoch      </span>│<span style=\"color: #800080; text-decoration-color: #800080\">    0.18900682032108307    </span>│\n",
       "│<span style=\"color: #008080; text-decoration-color: #008080\">      test_ham_epoch       </span>│<span style=\"color: #800080; text-decoration-color: #800080\">    0.34316617250442505    </span>│\n",
       "│<span style=\"color: #008080; text-decoration-color: #008080\">      test_loss_epoch      </span>│<span style=\"color: #800080; text-decoration-color: #800080\">    0.6395661234855652     </span>│\n",
       "└───────────────────────────┴───────────────────────────┘\n",
       "</pre>\n"
      ],
      "text/plain": [
       "┏━━━━━━━━━━━━━━━━━━━━━━━━━━━┳━━━━━━━━━━━━━━━━━━━━━━━━━━━┓\n",
       "┃\u001b[1m \u001b[0m\u001b[1m       Test metric       \u001b[0m\u001b[1m \u001b[0m┃\u001b[1m \u001b[0m\u001b[1m      DataLoader 0       \u001b[0m\u001b[1m \u001b[0m┃\n",
       "┡━━━━━━━━━━━━━━━━━━━━━━━━━━━╇━━━━━━━━━━━━━━━━━━━━━━━━━━━┩\n",
       "│\u001b[36m \u001b[0m\u001b[36m     test_f1ma_epoch     \u001b[0m\u001b[36m \u001b[0m│\u001b[35m \u001b[0m\u001b[35m   0.18900682032108307   \u001b[0m\u001b[35m \u001b[0m│\n",
       "│\u001b[36m \u001b[0m\u001b[36m     test_ham_epoch      \u001b[0m\u001b[36m \u001b[0m│\u001b[35m \u001b[0m\u001b[35m   0.34316617250442505   \u001b[0m\u001b[35m \u001b[0m│\n",
       "│\u001b[36m \u001b[0m\u001b[36m     test_loss_epoch     \u001b[0m\u001b[36m \u001b[0m│\u001b[35m \u001b[0m\u001b[35m   0.6395661234855652    \u001b[0m\u001b[35m \u001b[0m│\n",
       "└───────────────────────────┴───────────────────────────┘\n"
      ]
     },
     "metadata": {},
     "output_type": "display_data"
    },
    {
     "name": "stdout",
     "output_type": "stream",
     "text": [
      "  loss: 0.6396 | hamming: 0.3432 | f1_macro: 0.1890\n",
      "Fold 2/10\n"
     ]
    },
    {
     "name": "stderr",
     "output_type": "stream",
     "text": [
      "GPU available: True (mps), used: False\n",
      "TPU available: False, using: 0 TPU cores\n",
      "HPU available: False, using: 0 HPUs\n",
      "\n",
      "  | Name       | Type                      | Params | Mode \n",
      "-----------------------------------------------------------------\n",
      "0 | classifier | Sequential                | 240 K  | train\n",
      "1 | loss       | BCEWithLogitsLoss         | 0      | train\n",
      "2 | hamming    | MultilabelHammingDistance | 0      | train\n",
      "3 | f1_macro   | MultilabelF1Score         | 0      | train\n",
      "-----------------------------------------------------------------\n",
      "240 K     Trainable params\n",
      "0         Non-trainable params\n",
      "240 K     Total params\n",
      "0.961     Total estimated model params size (MB)\n",
      "17        Modules in train mode\n",
      "0         Modules in eval mode\n"
     ]
    },
    {
     "name": "stdout",
     "output_type": "stream",
     "text": [
      "Epoch 3: 100%|██████████| 34/34 [00:00<00:00, 180.93it/s, v_num=231, train_loss=0.584, train_ham=0.303, train_f1ma=0.320, val_loss_step=0.635, val_ham_step=0.438, val_f1ma_step=0.0261, val_loss_epoch=0.572, val_ham_epoch=0.317, val_f1ma_epoch=0.166]\n"
     ]
    },
    {
     "name": "stderr",
     "output_type": "stream",
     "text": [
      "Restoring states from the checkpoint path at /Users/benjaminvaca/Documents/USFQ/semestre7/machine_learning/proyecto/lightning_logs/version_231/checkpoints/epoch=0-step=34.ckpt\n",
      "Loaded model weights from the checkpoint at /Users/benjaminvaca/Documents/USFQ/semestre7/machine_learning/proyecto/lightning_logs/version_231/checkpoints/epoch=0-step=34.ckpt\n"
     ]
    },
    {
     "name": "stdout",
     "output_type": "stream",
     "text": [
      "Validation DataLoader 0: 100%|██████████| 34/34 [00:00<00:00, 459.14it/s]"
     ]
    },
    {
     "name": "stderr",
     "output_type": "stream",
     "text": [
      "Restoring states from the checkpoint path at /Users/benjaminvaca/Documents/USFQ/semestre7/machine_learning/proyecto/lightning_logs/version_231/checkpoints/epoch=0-step=34.ckpt\n"
     ]
    },
    {
     "name": "stdout",
     "output_type": "stream",
     "text": [
      "\n"
     ]
    },
    {
     "name": "stderr",
     "output_type": "stream",
     "text": [
      "Loaded model weights from the checkpoint at /Users/benjaminvaca/Documents/USFQ/semestre7/machine_learning/proyecto/lightning_logs/version_231/checkpoints/epoch=0-step=34.ckpt\n"
     ]
    },
    {
     "name": "stdout",
     "output_type": "stream",
     "text": [
      "Validation DataLoader 0: 100%|██████████| 9/9 [00:00<00:00, 407.74it/s]\n"
     ]
    },
    {
     "name": "stderr",
     "output_type": "stream",
     "text": [
      "Restoring states from the checkpoint path at /Users/benjaminvaca/Documents/USFQ/semestre7/machine_learning/proyecto/lightning_logs/version_231/checkpoints/epoch=0-step=34.ckpt\n",
      "Loaded model weights from the checkpoint at /Users/benjaminvaca/Documents/USFQ/semestre7/machine_learning/proyecto/lightning_logs/version_231/checkpoints/epoch=0-step=34.ckpt\n"
     ]
    },
    {
     "name": "stdout",
     "output_type": "stream",
     "text": [
      "Testing DataLoader 0: 100%|██████████| 11/11 [00:00<00:00, 446.30it/s]\n"
     ]
    },
    {
     "data": {
      "text/html": [
       "<pre style=\"white-space:pre;overflow-x:auto;line-height:normal;font-family:Menlo,'DejaVu Sans Mono',consolas,'Courier New',monospace\">┏━━━━━━━━━━━━━━━━━━━━━━━━━━━┳━━━━━━━━━━━━━━━━━━━━━━━━━━━┓\n",
       "┃<span style=\"font-weight: bold\">        Test metric        </span>┃<span style=\"font-weight: bold\">       DataLoader 0        </span>┃\n",
       "┡━━━━━━━━━━━━━━━━━━━━━━━━━━━╇━━━━━━━━━━━━━━━━━━━━━━━━━━━┩\n",
       "│<span style=\"color: #008080; text-decoration-color: #008080\">      test_f1ma_epoch      </span>│<span style=\"color: #800080; text-decoration-color: #800080\">    0.21385981142520905    </span>│\n",
       "│<span style=\"color: #008080; text-decoration-color: #008080\">      test_ham_epoch       </span>│<span style=\"color: #800080; text-decoration-color: #800080\">    0.34578827023506165    </span>│\n",
       "│<span style=\"color: #008080; text-decoration-color: #008080\">      test_loss_epoch      </span>│<span style=\"color: #800080; text-decoration-color: #800080\">     0.63340163230896      </span>│\n",
       "└───────────────────────────┴───────────────────────────┘\n",
       "</pre>\n"
      ],
      "text/plain": [
       "┏━━━━━━━━━━━━━━━━━━━━━━━━━━━┳━━━━━━━━━━━━━━━━━━━━━━━━━━━┓\n",
       "┃\u001b[1m \u001b[0m\u001b[1m       Test metric       \u001b[0m\u001b[1m \u001b[0m┃\u001b[1m \u001b[0m\u001b[1m      DataLoader 0       \u001b[0m\u001b[1m \u001b[0m┃\n",
       "┡━━━━━━━━━━━━━━━━━━━━━━━━━━━╇━━━━━━━━━━━━━━━━━━━━━━━━━━━┩\n",
       "│\u001b[36m \u001b[0m\u001b[36m     test_f1ma_epoch     \u001b[0m\u001b[36m \u001b[0m│\u001b[35m \u001b[0m\u001b[35m   0.21385981142520905   \u001b[0m\u001b[35m \u001b[0m│\n",
       "│\u001b[36m \u001b[0m\u001b[36m     test_ham_epoch      \u001b[0m\u001b[36m \u001b[0m│\u001b[35m \u001b[0m\u001b[35m   0.34578827023506165   \u001b[0m\u001b[35m \u001b[0m│\n",
       "│\u001b[36m \u001b[0m\u001b[36m     test_loss_epoch     \u001b[0m\u001b[36m \u001b[0m│\u001b[35m \u001b[0m\u001b[35m    0.63340163230896     \u001b[0m\u001b[35m \u001b[0m│\n",
       "└───────────────────────────┴───────────────────────────┘\n"
      ]
     },
     "metadata": {},
     "output_type": "display_data"
    },
    {
     "name": "stdout",
     "output_type": "stream",
     "text": [
      "  loss: 0.6334 | hamming: 0.3458 | f1_macro: 0.2139\n",
      "Fold 3/10\n"
     ]
    },
    {
     "name": "stderr",
     "output_type": "stream",
     "text": [
      "GPU available: True (mps), used: False\n",
      "TPU available: False, using: 0 TPU cores\n",
      "HPU available: False, using: 0 HPUs\n",
      "\n",
      "  | Name       | Type                      | Params | Mode \n",
      "-----------------------------------------------------------------\n",
      "0 | classifier | Sequential                | 240 K  | train\n",
      "1 | loss       | BCEWithLogitsLoss         | 0      | train\n",
      "2 | hamming    | MultilabelHammingDistance | 0      | train\n",
      "3 | f1_macro   | MultilabelF1Score         | 0      | train\n",
      "-----------------------------------------------------------------\n",
      "240 K     Trainable params\n",
      "0         Non-trainable params\n",
      "240 K     Total params\n",
      "0.961     Total estimated model params size (MB)\n",
      "17        Modules in train mode\n",
      "0         Modules in eval mode\n"
     ]
    },
    {
     "name": "stdout",
     "output_type": "stream",
     "text": [
      "Epoch 3: 100%|██████████| 34/34 [00:00<00:00, 198.17it/s, v_num=232, train_loss=0.572, train_ham=0.285, train_f1ma=0.356, val_loss_step=0.545, val_ham_step=0.319, val_f1ma_step=0.146, val_loss_epoch=0.570, val_ham_epoch=0.281, val_f1ma_epoch=0.214] \n"
     ]
    },
    {
     "name": "stderr",
     "output_type": "stream",
     "text": [
      "Restoring states from the checkpoint path at /Users/benjaminvaca/Documents/USFQ/semestre7/machine_learning/proyecto/lightning_logs/version_232/checkpoints/epoch=0-step=34.ckpt\n",
      "Loaded model weights from the checkpoint at /Users/benjaminvaca/Documents/USFQ/semestre7/machine_learning/proyecto/lightning_logs/version_232/checkpoints/epoch=0-step=34.ckpt\n"
     ]
    },
    {
     "name": "stdout",
     "output_type": "stream",
     "text": [
      "Validation DataLoader 0: 100%|██████████| 34/34 [00:00<00:00, 490.15it/s]"
     ]
    },
    {
     "name": "stderr",
     "output_type": "stream",
     "text": [
      "Restoring states from the checkpoint path at /Users/benjaminvaca/Documents/USFQ/semestre7/machine_learning/proyecto/lightning_logs/version_232/checkpoints/epoch=0-step=34.ckpt\n"
     ]
    },
    {
     "name": "stdout",
     "output_type": "stream",
     "text": [
      "\n"
     ]
    },
    {
     "name": "stderr",
     "output_type": "stream",
     "text": [
      "Loaded model weights from the checkpoint at /Users/benjaminvaca/Documents/USFQ/semestre7/machine_learning/proyecto/lightning_logs/version_232/checkpoints/epoch=0-step=34.ckpt\n"
     ]
    },
    {
     "name": "stdout",
     "output_type": "stream",
     "text": [
      "Validation DataLoader 0: 100%|██████████| 9/9 [00:00<00:00, 472.91it/s]\n"
     ]
    },
    {
     "name": "stderr",
     "output_type": "stream",
     "text": [
      "Restoring states from the checkpoint path at /Users/benjaminvaca/Documents/USFQ/semestre7/machine_learning/proyecto/lightning_logs/version_232/checkpoints/epoch=0-step=34.ckpt\n",
      "Loaded model weights from the checkpoint at /Users/benjaminvaca/Documents/USFQ/semestre7/machine_learning/proyecto/lightning_logs/version_232/checkpoints/epoch=0-step=34.ckpt\n"
     ]
    },
    {
     "name": "stdout",
     "output_type": "stream",
     "text": [
      "Testing DataLoader 0: 100%|██████████| 11/11 [00:00<00:00, 460.62it/s]\n"
     ]
    },
    {
     "data": {
      "text/html": [
       "<pre style=\"white-space:pre;overflow-x:auto;line-height:normal;font-family:Menlo,'DejaVu Sans Mono',consolas,'Courier New',monospace\">┏━━━━━━━━━━━━━━━━━━━━━━━━━━━┳━━━━━━━━━━━━━━━━━━━━━━━━━━━┓\n",
       "┃<span style=\"font-weight: bold\">        Test metric        </span>┃<span style=\"font-weight: bold\">       DataLoader 0        </span>┃\n",
       "┡━━━━━━━━━━━━━━━━━━━━━━━━━━━╇━━━━━━━━━━━━━━━━━━━━━━━━━━━┩\n",
       "│<span style=\"color: #008080; text-decoration-color: #008080\">      test_f1ma_epoch      </span>│<span style=\"color: #800080; text-decoration-color: #800080\">    0.19764721393585205    </span>│\n",
       "│<span style=\"color: #008080; text-decoration-color: #008080\">      test_ham_epoch       </span>│<span style=\"color: #800080; text-decoration-color: #800080\">    0.33005571365356445    </span>│\n",
       "│<span style=\"color: #008080; text-decoration-color: #008080\">      test_loss_epoch      </span>│<span style=\"color: #800080; text-decoration-color: #800080\">    0.6220964789390564     </span>│\n",
       "└───────────────────────────┴───────────────────────────┘\n",
       "</pre>\n"
      ],
      "text/plain": [
       "┏━━━━━━━━━━━━━━━━━━━━━━━━━━━┳━━━━━━━━━━━━━━━━━━━━━━━━━━━┓\n",
       "┃\u001b[1m \u001b[0m\u001b[1m       Test metric       \u001b[0m\u001b[1m \u001b[0m┃\u001b[1m \u001b[0m\u001b[1m      DataLoader 0       \u001b[0m\u001b[1m \u001b[0m┃\n",
       "┡━━━━━━━━━━━━━━━━━━━━━━━━━━━╇━━━━━━━━━━━━━━━━━━━━━━━━━━━┩\n",
       "│\u001b[36m \u001b[0m\u001b[36m     test_f1ma_epoch     \u001b[0m\u001b[36m \u001b[0m│\u001b[35m \u001b[0m\u001b[35m   0.19764721393585205   \u001b[0m\u001b[35m \u001b[0m│\n",
       "│\u001b[36m \u001b[0m\u001b[36m     test_ham_epoch      \u001b[0m\u001b[36m \u001b[0m│\u001b[35m \u001b[0m\u001b[35m   0.33005571365356445   \u001b[0m\u001b[35m \u001b[0m│\n",
       "│\u001b[36m \u001b[0m\u001b[36m     test_loss_epoch     \u001b[0m\u001b[36m \u001b[0m│\u001b[35m \u001b[0m\u001b[35m   0.6220964789390564    \u001b[0m\u001b[35m \u001b[0m│\n",
       "└───────────────────────────┴───────────────────────────┘\n"
      ]
     },
     "metadata": {},
     "output_type": "display_data"
    },
    {
     "name": "stdout",
     "output_type": "stream",
     "text": [
      "  loss: 0.6221 | hamming: 0.3301 | f1_macro: 0.1976\n",
      "Fold 4/10\n"
     ]
    },
    {
     "name": "stderr",
     "output_type": "stream",
     "text": [
      "GPU available: True (mps), used: False\n",
      "TPU available: False, using: 0 TPU cores\n",
      "HPU available: False, using: 0 HPUs\n",
      "\n",
      "  | Name       | Type                      | Params | Mode \n",
      "-----------------------------------------------------------------\n",
      "0 | classifier | Sequential                | 240 K  | train\n",
      "1 | loss       | BCEWithLogitsLoss         | 0      | train\n",
      "2 | hamming    | MultilabelHammingDistance | 0      | train\n",
      "3 | f1_macro   | MultilabelF1Score         | 0      | train\n",
      "-----------------------------------------------------------------\n",
      "240 K     Trainable params\n",
      "0         Non-trainable params\n",
      "240 K     Total params\n",
      "0.961     Total estimated model params size (MB)\n",
      "17        Modules in train mode\n",
      "0         Modules in eval mode\n"
     ]
    },
    {
     "name": "stdout",
     "output_type": "stream",
     "text": [
      "Epoch 3: 100%|██████████| 34/34 [00:00<00:00, 184.42it/s, v_num=233, train_loss=0.608, train_ham=0.307, train_f1ma=0.223, val_loss_step=0.597, val_ham_step=0.407, val_f1ma_step=0.0632, val_loss_epoch=0.570, val_ham_epoch=0.299, val_f1ma_epoch=0.162]\n"
     ]
    },
    {
     "name": "stderr",
     "output_type": "stream",
     "text": [
      "Restoring states from the checkpoint path at /Users/benjaminvaca/Documents/USFQ/semestre7/machine_learning/proyecto/lightning_logs/version_233/checkpoints/epoch=0-step=34.ckpt\n",
      "Loaded model weights from the checkpoint at /Users/benjaminvaca/Documents/USFQ/semestre7/machine_learning/proyecto/lightning_logs/version_233/checkpoints/epoch=0-step=34.ckpt\n"
     ]
    },
    {
     "name": "stdout",
     "output_type": "stream",
     "text": [
      "Validation DataLoader 0: 100%|██████████| 34/34 [00:00<00:00, 450.55it/s]"
     ]
    },
    {
     "name": "stderr",
     "output_type": "stream",
     "text": [
      "Restoring states from the checkpoint path at /Users/benjaminvaca/Documents/USFQ/semestre7/machine_learning/proyecto/lightning_logs/version_233/checkpoints/epoch=0-step=34.ckpt\n"
     ]
    },
    {
     "name": "stdout",
     "output_type": "stream",
     "text": [
      "\n"
     ]
    },
    {
     "name": "stderr",
     "output_type": "stream",
     "text": [
      "Loaded model weights from the checkpoint at /Users/benjaminvaca/Documents/USFQ/semestre7/machine_learning/proyecto/lightning_logs/version_233/checkpoints/epoch=0-step=34.ckpt\n"
     ]
    },
    {
     "name": "stdout",
     "output_type": "stream",
     "text": [
      "Validation DataLoader 0: 100%|██████████| 9/9 [00:00<00:00, 461.57it/s]"
     ]
    },
    {
     "name": "stderr",
     "output_type": "stream",
     "text": [
      "Restoring states from the checkpoint path at /Users/benjaminvaca/Documents/USFQ/semestre7/machine_learning/proyecto/lightning_logs/version_233/checkpoints/epoch=0-step=34.ckpt\n"
     ]
    },
    {
     "name": "stdout",
     "output_type": "stream",
     "text": [
      "\n"
     ]
    },
    {
     "name": "stderr",
     "output_type": "stream",
     "text": [
      "Loaded model weights from the checkpoint at /Users/benjaminvaca/Documents/USFQ/semestre7/machine_learning/proyecto/lightning_logs/version_233/checkpoints/epoch=0-step=34.ckpt\n"
     ]
    },
    {
     "name": "stdout",
     "output_type": "stream",
     "text": [
      "Testing DataLoader 0: 100%|██████████| 11/11 [00:00<00:00, 469.82it/s]\n"
     ]
    },
    {
     "data": {
      "text/html": [
       "<pre style=\"white-space:pre;overflow-x:auto;line-height:normal;font-family:Menlo,'DejaVu Sans Mono',consolas,'Courier New',monospace\">┏━━━━━━━━━━━━━━━━━━━━━━━━━━━┳━━━━━━━━━━━━━━━━━━━━━━━━━━━┓\n",
       "┃<span style=\"font-weight: bold\">        Test metric        </span>┃<span style=\"font-weight: bold\">       DataLoader 0        </span>┃\n",
       "┡━━━━━━━━━━━━━━━━━━━━━━━━━━━╇━━━━━━━━━━━━━━━━━━━━━━━━━━━┩\n",
       "│<span style=\"color: #008080; text-decoration-color: #008080\">      test_f1ma_epoch      </span>│<span style=\"color: #800080; text-decoration-color: #800080\">    0.23969560861587524    </span>│\n",
       "│<span style=\"color: #008080; text-decoration-color: #008080\">      test_ham_epoch       </span>│<span style=\"color: #800080; text-decoration-color: #800080\">    0.33398887515068054    </span>│\n",
       "│<span style=\"color: #008080; text-decoration-color: #008080\">      test_loss_epoch      </span>│<span style=\"color: #800080; text-decoration-color: #800080\">    0.6377983689308167     </span>│\n",
       "└───────────────────────────┴───────────────────────────┘\n",
       "</pre>\n"
      ],
      "text/plain": [
       "┏━━━━━━━━━━━━━━━━━━━━━━━━━━━┳━━━━━━━━━━━━━━━━━━━━━━━━━━━┓\n",
       "┃\u001b[1m \u001b[0m\u001b[1m       Test metric       \u001b[0m\u001b[1m \u001b[0m┃\u001b[1m \u001b[0m\u001b[1m      DataLoader 0       \u001b[0m\u001b[1m \u001b[0m┃\n",
       "┡━━━━━━━━━━━━━━━━━━━━━━━━━━━╇━━━━━━━━━━━━━━━━━━━━━━━━━━━┩\n",
       "│\u001b[36m \u001b[0m\u001b[36m     test_f1ma_epoch     \u001b[0m\u001b[36m \u001b[0m│\u001b[35m \u001b[0m\u001b[35m   0.23969560861587524   \u001b[0m\u001b[35m \u001b[0m│\n",
       "│\u001b[36m \u001b[0m\u001b[36m     test_ham_epoch      \u001b[0m\u001b[36m \u001b[0m│\u001b[35m \u001b[0m\u001b[35m   0.33398887515068054   \u001b[0m\u001b[35m \u001b[0m│\n",
       "│\u001b[36m \u001b[0m\u001b[36m     test_loss_epoch     \u001b[0m\u001b[36m \u001b[0m│\u001b[35m \u001b[0m\u001b[35m   0.6377983689308167    \u001b[0m\u001b[35m \u001b[0m│\n",
       "└───────────────────────────┴───────────────────────────┘\n"
      ]
     },
     "metadata": {},
     "output_type": "display_data"
    },
    {
     "name": "stdout",
     "output_type": "stream",
     "text": [
      "  loss: 0.6378 | hamming: 0.3340 | f1_macro: 0.2397\n",
      "Fold 5/10\n"
     ]
    },
    {
     "name": "stderr",
     "output_type": "stream",
     "text": [
      "GPU available: True (mps), used: False\n",
      "TPU available: False, using: 0 TPU cores\n",
      "HPU available: False, using: 0 HPUs\n",
      "\n",
      "  | Name       | Type                      | Params | Mode \n",
      "-----------------------------------------------------------------\n",
      "0 | classifier | Sequential                | 240 K  | train\n",
      "1 | loss       | BCEWithLogitsLoss         | 0      | train\n",
      "2 | hamming    | MultilabelHammingDistance | 0      | train\n",
      "3 | f1_macro   | MultilabelF1Score         | 0      | train\n",
      "-----------------------------------------------------------------\n",
      "240 K     Trainable params\n",
      "0         Non-trainable params\n",
      "240 K     Total params\n",
      "0.961     Total estimated model params size (MB)\n",
      "17        Modules in train mode\n",
      "0         Modules in eval mode\n"
     ]
    },
    {
     "name": "stdout",
     "output_type": "stream",
     "text": [
      "Epoch 4: 100%|██████████| 34/34 [00:00<00:00, 191.30it/s, v_num=234, train_loss=0.522, train_ham=0.278, train_f1ma=0.321, val_loss_step=0.575, val_ham_step=0.311, val_f1ma_step=0.140, val_loss_epoch=0.555, val_ham_epoch=0.276, val_f1ma_epoch=0.207] \n"
     ]
    },
    {
     "name": "stderr",
     "output_type": "stream",
     "text": [
      "Restoring states from the checkpoint path at /Users/benjaminvaca/Documents/USFQ/semestre7/machine_learning/proyecto/lightning_logs/version_234/checkpoints/epoch=1-step=68.ckpt\n",
      "Loaded model weights from the checkpoint at /Users/benjaminvaca/Documents/USFQ/semestre7/machine_learning/proyecto/lightning_logs/version_234/checkpoints/epoch=1-step=68.ckpt\n"
     ]
    },
    {
     "name": "stdout",
     "output_type": "stream",
     "text": [
      "Validation DataLoader 0: 100%|██████████| 34/34 [00:00<00:00, 470.22it/s]\n"
     ]
    },
    {
     "name": "stderr",
     "output_type": "stream",
     "text": [
      "Restoring states from the checkpoint path at /Users/benjaminvaca/Documents/USFQ/semestre7/machine_learning/proyecto/lightning_logs/version_234/checkpoints/epoch=1-step=68.ckpt\n",
      "Loaded model weights from the checkpoint at /Users/benjaminvaca/Documents/USFQ/semestre7/machine_learning/proyecto/lightning_logs/version_234/checkpoints/epoch=1-step=68.ckpt\n"
     ]
    },
    {
     "name": "stdout",
     "output_type": "stream",
     "text": [
      "Validation DataLoader 0: 100%|██████████| 9/9 [00:00<00:00, 442.30it/s]"
     ]
    },
    {
     "name": "stderr",
     "output_type": "stream",
     "text": [
      "Restoring states from the checkpoint path at /Users/benjaminvaca/Documents/USFQ/semestre7/machine_learning/proyecto/lightning_logs/version_234/checkpoints/epoch=1-step=68.ckpt\n"
     ]
    },
    {
     "name": "stdout",
     "output_type": "stream",
     "text": [
      "\n"
     ]
    },
    {
     "name": "stderr",
     "output_type": "stream",
     "text": [
      "Loaded model weights from the checkpoint at /Users/benjaminvaca/Documents/USFQ/semestre7/machine_learning/proyecto/lightning_logs/version_234/checkpoints/epoch=1-step=68.ckpt\n"
     ]
    },
    {
     "name": "stdout",
     "output_type": "stream",
     "text": [
      "Testing DataLoader 0: 100%|██████████| 11/11 [00:00<00:00, 251.24it/s]\n"
     ]
    },
    {
     "data": {
      "text/html": [
       "<pre style=\"white-space:pre;overflow-x:auto;line-height:normal;font-family:Menlo,'DejaVu Sans Mono',consolas,'Courier New',monospace\">┏━━━━━━━━━━━━━━━━━━━━━━━━━━━┳━━━━━━━━━━━━━━━━━━━━━━━━━━━┓\n",
       "┃<span style=\"font-weight: bold\">        Test metric        </span>┃<span style=\"font-weight: bold\">       DataLoader 0        </span>┃\n",
       "┡━━━━━━━━━━━━━━━━━━━━━━━━━━━╇━━━━━━━━━━━━━━━━━━━━━━━━━━━┩\n",
       "│<span style=\"color: #008080; text-decoration-color: #008080\">      test_f1ma_epoch      </span>│<span style=\"color: #800080; text-decoration-color: #800080\">    0.1935482621192932     </span>│\n",
       "│<span style=\"color: #008080; text-decoration-color: #008080\">      test_ham_epoch       </span>│<span style=\"color: #800080; text-decoration-color: #800080\">    0.2976073622703552     </span>│\n",
       "│<span style=\"color: #008080; text-decoration-color: #008080\">      test_loss_epoch      </span>│<span style=\"color: #800080; text-decoration-color: #800080\">    0.5859827995300293     </span>│\n",
       "└───────────────────────────┴───────────────────────────┘\n",
       "</pre>\n"
      ],
      "text/plain": [
       "┏━━━━━━━━━━━━━━━━━━━━━━━━━━━┳━━━━━━━━━━━━━━━━━━━━━━━━━━━┓\n",
       "┃\u001b[1m \u001b[0m\u001b[1m       Test metric       \u001b[0m\u001b[1m \u001b[0m┃\u001b[1m \u001b[0m\u001b[1m      DataLoader 0       \u001b[0m\u001b[1m \u001b[0m┃\n",
       "┡━━━━━━━━━━━━━━━━━━━━━━━━━━━╇━━━━━━━━━━━━━━━━━━━━━━━━━━━┩\n",
       "│\u001b[36m \u001b[0m\u001b[36m     test_f1ma_epoch     \u001b[0m\u001b[36m \u001b[0m│\u001b[35m \u001b[0m\u001b[35m   0.1935482621192932    \u001b[0m\u001b[35m \u001b[0m│\n",
       "│\u001b[36m \u001b[0m\u001b[36m     test_ham_epoch      \u001b[0m\u001b[36m \u001b[0m│\u001b[35m \u001b[0m\u001b[35m   0.2976073622703552    \u001b[0m\u001b[35m \u001b[0m│\n",
       "│\u001b[36m \u001b[0m\u001b[36m     test_loss_epoch     \u001b[0m\u001b[36m \u001b[0m│\u001b[35m \u001b[0m\u001b[35m   0.5859827995300293    \u001b[0m\u001b[35m \u001b[0m│\n",
       "└───────────────────────────┴───────────────────────────┘\n"
      ]
     },
     "metadata": {},
     "output_type": "display_data"
    },
    {
     "name": "stdout",
     "output_type": "stream",
     "text": [
      "  loss: 0.5860 | hamming: 0.2976 | f1_macro: 0.1935\n",
      "Fold 6/10\n"
     ]
    },
    {
     "name": "stderr",
     "output_type": "stream",
     "text": [
      "GPU available: True (mps), used: False\n",
      "TPU available: False, using: 0 TPU cores\n",
      "HPU available: False, using: 0 HPUs\n",
      "\n",
      "  | Name       | Type                      | Params | Mode \n",
      "-----------------------------------------------------------------\n",
      "0 | classifier | Sequential                | 240 K  | train\n",
      "1 | loss       | BCEWithLogitsLoss         | 0      | train\n",
      "2 | hamming    | MultilabelHammingDistance | 0      | train\n",
      "3 | f1_macro   | MultilabelF1Score         | 0      | train\n",
      "-----------------------------------------------------------------\n",
      "240 K     Trainable params\n",
      "0         Non-trainable params\n",
      "240 K     Total params\n",
      "0.961     Total estimated model params size (MB)\n",
      "17        Modules in train mode\n",
      "0         Modules in eval mode\n"
     ]
    },
    {
     "name": "stdout",
     "output_type": "stream",
     "text": [
      "Epoch 3: 100%|██████████| 34/34 [00:00<00:00, 193.82it/s, v_num=235, train_loss=0.576, train_ham=0.287, train_f1ma=0.221, val_loss_step=0.577, val_ham_step=0.333, val_f1ma_step=0.105, val_loss_epoch=0.574, val_ham_epoch=0.302, val_f1ma_epoch=0.149] \n"
     ]
    },
    {
     "name": "stderr",
     "output_type": "stream",
     "text": [
      "Restoring states from the checkpoint path at /Users/benjaminvaca/Documents/USFQ/semestre7/machine_learning/proyecto/lightning_logs/version_235/checkpoints/epoch=0-step=34.ckpt\n",
      "Loaded model weights from the checkpoint at /Users/benjaminvaca/Documents/USFQ/semestre7/machine_learning/proyecto/lightning_logs/version_235/checkpoints/epoch=0-step=34.ckpt\n"
     ]
    },
    {
     "name": "stdout",
     "output_type": "stream",
     "text": [
      "Validation DataLoader 0: 100%|██████████| 34/34 [00:00<00:00, 494.22it/s]"
     ]
    },
    {
     "name": "stderr",
     "output_type": "stream",
     "text": [
      "Restoring states from the checkpoint path at /Users/benjaminvaca/Documents/USFQ/semestre7/machine_learning/proyecto/lightning_logs/version_235/checkpoints/epoch=0-step=34.ckpt\n"
     ]
    },
    {
     "name": "stdout",
     "output_type": "stream",
     "text": [
      "\n"
     ]
    },
    {
     "name": "stderr",
     "output_type": "stream",
     "text": [
      "Loaded model weights from the checkpoint at /Users/benjaminvaca/Documents/USFQ/semestre7/machine_learning/proyecto/lightning_logs/version_235/checkpoints/epoch=0-step=34.ckpt\n"
     ]
    },
    {
     "name": "stdout",
     "output_type": "stream",
     "text": [
      "Validation DataLoader 0: 100%|██████████| 9/9 [00:00<00:00, 234.03it/s]\n"
     ]
    },
    {
     "name": "stderr",
     "output_type": "stream",
     "text": [
      "Restoring states from the checkpoint path at /Users/benjaminvaca/Documents/USFQ/semestre7/machine_learning/proyecto/lightning_logs/version_235/checkpoints/epoch=0-step=34.ckpt\n",
      "Loaded model weights from the checkpoint at /Users/benjaminvaca/Documents/USFQ/semestre7/machine_learning/proyecto/lightning_logs/version_235/checkpoints/epoch=0-step=34.ckpt\n"
     ]
    },
    {
     "name": "stdout",
     "output_type": "stream",
     "text": [
      "Testing DataLoader 0: 100%|██████████| 11/11 [00:00<00:00, 463.79it/s]\n"
     ]
    },
    {
     "data": {
      "text/html": [
       "<pre style=\"white-space:pre;overflow-x:auto;line-height:normal;font-family:Menlo,'DejaVu Sans Mono',consolas,'Courier New',monospace\">┏━━━━━━━━━━━━━━━━━━━━━━━━━━━┳━━━━━━━━━━━━━━━━━━━━━━━━━━━┓\n",
       "┃<span style=\"font-weight: bold\">        Test metric        </span>┃<span style=\"font-weight: bold\">       DataLoader 0        </span>┃\n",
       "┡━━━━━━━━━━━━━━━━━━━━━━━━━━━╇━━━━━━━━━━━━━━━━━━━━━━━━━━━┩\n",
       "│<span style=\"color: #008080; text-decoration-color: #008080\">      test_f1ma_epoch      </span>│<span style=\"color: #800080; text-decoration-color: #800080\">    0.23995298147201538    </span>│\n",
       "│<span style=\"color: #008080; text-decoration-color: #008080\">      test_ham_epoch       </span>│<span style=\"color: #800080; text-decoration-color: #800080\">    0.3736479878425598     </span>│\n",
       "│<span style=\"color: #008080; text-decoration-color: #008080\">      test_loss_epoch      </span>│<span style=\"color: #800080; text-decoration-color: #800080\">    0.6506503224372864     </span>│\n",
       "└───────────────────────────┴───────────────────────────┘\n",
       "</pre>\n"
      ],
      "text/plain": [
       "┏━━━━━━━━━━━━━━━━━━━━━━━━━━━┳━━━━━━━━━━━━━━━━━━━━━━━━━━━┓\n",
       "┃\u001b[1m \u001b[0m\u001b[1m       Test metric       \u001b[0m\u001b[1m \u001b[0m┃\u001b[1m \u001b[0m\u001b[1m      DataLoader 0       \u001b[0m\u001b[1m \u001b[0m┃\n",
       "┡━━━━━━━━━━━━━━━━━━━━━━━━━━━╇━━━━━━━━━━━━━━━━━━━━━━━━━━━┩\n",
       "│\u001b[36m \u001b[0m\u001b[36m     test_f1ma_epoch     \u001b[0m\u001b[36m \u001b[0m│\u001b[35m \u001b[0m\u001b[35m   0.23995298147201538   \u001b[0m\u001b[35m \u001b[0m│\n",
       "│\u001b[36m \u001b[0m\u001b[36m     test_ham_epoch      \u001b[0m\u001b[36m \u001b[0m│\u001b[35m \u001b[0m\u001b[35m   0.3736479878425598    \u001b[0m\u001b[35m \u001b[0m│\n",
       "│\u001b[36m \u001b[0m\u001b[36m     test_loss_epoch     \u001b[0m\u001b[36m \u001b[0m│\u001b[35m \u001b[0m\u001b[35m   0.6506503224372864    \u001b[0m\u001b[35m \u001b[0m│\n",
       "└───────────────────────────┴───────────────────────────┘\n"
      ]
     },
     "metadata": {},
     "output_type": "display_data"
    },
    {
     "name": "stdout",
     "output_type": "stream",
     "text": [
      "  loss: 0.6507 | hamming: 0.3736 | f1_macro: 0.2400\n",
      "Fold 7/10\n"
     ]
    },
    {
     "name": "stderr",
     "output_type": "stream",
     "text": [
      "GPU available: True (mps), used: False\n",
      "TPU available: False, using: 0 TPU cores\n",
      "HPU available: False, using: 0 HPUs\n",
      "\n",
      "  | Name       | Type                      | Params | Mode \n",
      "-----------------------------------------------------------------\n",
      "0 | classifier | Sequential                | 240 K  | train\n",
      "1 | loss       | BCEWithLogitsLoss         | 0      | train\n",
      "2 | hamming    | MultilabelHammingDistance | 0      | train\n",
      "3 | f1_macro   | MultilabelF1Score         | 0      | train\n",
      "-----------------------------------------------------------------\n",
      "240 K     Trainable params\n",
      "0         Non-trainable params\n",
      "240 K     Total params\n",
      "0.961     Total estimated model params size (MB)\n",
      "17        Modules in train mode\n",
      "0         Modules in eval mode\n"
     ]
    },
    {
     "name": "stdout",
     "output_type": "stream",
     "text": [
      "Epoch 3: 100%|██████████| 34/34 [00:00<00:00, 194.59it/s, v_num=236, train_loss=0.588, train_ham=0.291, train_f1ma=0.290, val_loss_step=0.543, val_ham_step=0.368, val_f1ma_step=0.0776, val_loss_epoch=0.570, val_ham_epoch=0.291, val_f1ma_epoch=0.160]\n"
     ]
    },
    {
     "name": "stderr",
     "output_type": "stream",
     "text": [
      "Restoring states from the checkpoint path at /Users/benjaminvaca/Documents/USFQ/semestre7/machine_learning/proyecto/lightning_logs/version_236/checkpoints/epoch=0-step=34.ckpt\n",
      "Loaded model weights from the checkpoint at /Users/benjaminvaca/Documents/USFQ/semestre7/machine_learning/proyecto/lightning_logs/version_236/checkpoints/epoch=0-step=34.ckpt\n"
     ]
    },
    {
     "name": "stdout",
     "output_type": "stream",
     "text": [
      "Validation DataLoader 0: 100%|██████████| 34/34 [00:00<00:00, 435.54it/s]"
     ]
    },
    {
     "name": "stderr",
     "output_type": "stream",
     "text": [
      "Restoring states from the checkpoint path at /Users/benjaminvaca/Documents/USFQ/semestre7/machine_learning/proyecto/lightning_logs/version_236/checkpoints/epoch=0-step=34.ckpt\n"
     ]
    },
    {
     "name": "stdout",
     "output_type": "stream",
     "text": [
      "\n"
     ]
    },
    {
     "name": "stderr",
     "output_type": "stream",
     "text": [
      "Loaded model weights from the checkpoint at /Users/benjaminvaca/Documents/USFQ/semestre7/machine_learning/proyecto/lightning_logs/version_236/checkpoints/epoch=0-step=34.ckpt\n"
     ]
    },
    {
     "name": "stdout",
     "output_type": "stream",
     "text": [
      "Validation DataLoader 0: 100%|██████████| 9/9 [00:00<00:00, 219.51it/s]"
     ]
    },
    {
     "name": "stderr",
     "output_type": "stream",
     "text": [
      "Restoring states from the checkpoint path at /Users/benjaminvaca/Documents/USFQ/semestre7/machine_learning/proyecto/lightning_logs/version_236/checkpoints/epoch=0-step=34.ckpt\n"
     ]
    },
    {
     "name": "stdout",
     "output_type": "stream",
     "text": [
      "\n"
     ]
    },
    {
     "name": "stderr",
     "output_type": "stream",
     "text": [
      "Loaded model weights from the checkpoint at /Users/benjaminvaca/Documents/USFQ/semestre7/machine_learning/proyecto/lightning_logs/version_236/checkpoints/epoch=0-step=34.ckpt\n"
     ]
    },
    {
     "name": "stdout",
     "output_type": "stream",
     "text": [
      "Testing DataLoader 0: 100%|██████████| 11/11 [00:00<00:00, 411.23it/s]\n"
     ]
    },
    {
     "data": {
      "text/html": [
       "<pre style=\"white-space:pre;overflow-x:auto;line-height:normal;font-family:Menlo,'DejaVu Sans Mono',consolas,'Courier New',monospace\">┏━━━━━━━━━━━━━━━━━━━━━━━━━━━┳━━━━━━━━━━━━━━━━━━━━━━━━━━━┓\n",
       "┃<span style=\"font-weight: bold\">        Test metric        </span>┃<span style=\"font-weight: bold\">       DataLoader 0        </span>┃\n",
       "┡━━━━━━━━━━━━━━━━━━━━━━━━━━━╇━━━━━━━━━━━━━━━━━━━━━━━━━━━┩\n",
       "│<span style=\"color: #008080; text-decoration-color: #008080\">      test_f1ma_epoch      </span>│<span style=\"color: #800080; text-decoration-color: #800080\">    0.21987517178058624    </span>│\n",
       "│<span style=\"color: #008080; text-decoration-color: #008080\">      test_ham_epoch       </span>│<span style=\"color: #800080; text-decoration-color: #800080\">    0.3215339183807373     </span>│\n",
       "│<span style=\"color: #008080; text-decoration-color: #008080\">      test_loss_epoch      </span>│<span style=\"color: #800080; text-decoration-color: #800080\">     0.639216423034668     </span>│\n",
       "└───────────────────────────┴───────────────────────────┘\n",
       "</pre>\n"
      ],
      "text/plain": [
       "┏━━━━━━━━━━━━━━━━━━━━━━━━━━━┳━━━━━━━━━━━━━━━━━━━━━━━━━━━┓\n",
       "┃\u001b[1m \u001b[0m\u001b[1m       Test metric       \u001b[0m\u001b[1m \u001b[0m┃\u001b[1m \u001b[0m\u001b[1m      DataLoader 0       \u001b[0m\u001b[1m \u001b[0m┃\n",
       "┡━━━━━━━━━━━━━━━━━━━━━━━━━━━╇━━━━━━━━━━━━━━━━━━━━━━━━━━━┩\n",
       "│\u001b[36m \u001b[0m\u001b[36m     test_f1ma_epoch     \u001b[0m\u001b[36m \u001b[0m│\u001b[35m \u001b[0m\u001b[35m   0.21987517178058624   \u001b[0m\u001b[35m \u001b[0m│\n",
       "│\u001b[36m \u001b[0m\u001b[36m     test_ham_epoch      \u001b[0m\u001b[36m \u001b[0m│\u001b[35m \u001b[0m\u001b[35m   0.3215339183807373    \u001b[0m\u001b[35m \u001b[0m│\n",
       "│\u001b[36m \u001b[0m\u001b[36m     test_loss_epoch     \u001b[0m\u001b[36m \u001b[0m│\u001b[35m \u001b[0m\u001b[35m    0.639216423034668    \u001b[0m\u001b[35m \u001b[0m│\n",
       "└───────────────────────────┴───────────────────────────┘\n"
      ]
     },
     "metadata": {},
     "output_type": "display_data"
    },
    {
     "name": "stdout",
     "output_type": "stream",
     "text": [
      "  loss: 0.6392 | hamming: 0.3215 | f1_macro: 0.2199\n",
      "Fold 8/10\n"
     ]
    },
    {
     "name": "stderr",
     "output_type": "stream",
     "text": [
      "GPU available: True (mps), used: False\n",
      "TPU available: False, using: 0 TPU cores\n",
      "HPU available: False, using: 0 HPUs\n",
      "\n",
      "  | Name       | Type                      | Params | Mode \n",
      "-----------------------------------------------------------------\n",
      "0 | classifier | Sequential                | 240 K  | train\n",
      "1 | loss       | BCEWithLogitsLoss         | 0      | train\n",
      "2 | hamming    | MultilabelHammingDistance | 0      | train\n",
      "3 | f1_macro   | MultilabelF1Score         | 0      | train\n",
      "-----------------------------------------------------------------\n",
      "240 K     Trainable params\n",
      "0         Non-trainable params\n",
      "240 K     Total params\n",
      "0.961     Total estimated model params size (MB)\n",
      "17        Modules in train mode\n",
      "0         Modules in eval mode\n"
     ]
    },
    {
     "name": "stdout",
     "output_type": "stream",
     "text": [
      "Epoch 8: 100%|██████████| 34/34 [00:00<00:00, 184.97it/s, v_num=237, train_loss=0.559, train_ham=0.289, train_f1ma=0.292, val_loss_step=0.575, val_ham_step=0.244, val_f1ma_step=0.140, val_loss_epoch=0.556, val_ham_epoch=0.317, val_f1ma_epoch=0.157] \n"
     ]
    },
    {
     "name": "stderr",
     "output_type": "stream",
     "text": [
      "Restoring states from the checkpoint path at /Users/benjaminvaca/Documents/USFQ/semestre7/machine_learning/proyecto/lightning_logs/version_237/checkpoints/epoch=5-step=204.ckpt\n",
      "Loaded model weights from the checkpoint at /Users/benjaminvaca/Documents/USFQ/semestre7/machine_learning/proyecto/lightning_logs/version_237/checkpoints/epoch=5-step=204.ckpt\n"
     ]
    },
    {
     "name": "stdout",
     "output_type": "stream",
     "text": [
      "Validation DataLoader 0: 100%|██████████| 34/34 [00:00<00:00, 450.92it/s]\n"
     ]
    },
    {
     "name": "stderr",
     "output_type": "stream",
     "text": [
      "Restoring states from the checkpoint path at /Users/benjaminvaca/Documents/USFQ/semestre7/machine_learning/proyecto/lightning_logs/version_237/checkpoints/epoch=5-step=204.ckpt\n",
      "Loaded model weights from the checkpoint at /Users/benjaminvaca/Documents/USFQ/semestre7/machine_learning/proyecto/lightning_logs/version_237/checkpoints/epoch=5-step=204.ckpt\n"
     ]
    },
    {
     "name": "stdout",
     "output_type": "stream",
     "text": [
      "Validation DataLoader 0: 100%|██████████| 9/9 [00:00<00:00, 415.63it/s]\n"
     ]
    },
    {
     "name": "stderr",
     "output_type": "stream",
     "text": [
      "Restoring states from the checkpoint path at /Users/benjaminvaca/Documents/USFQ/semestre7/machine_learning/proyecto/lightning_logs/version_237/checkpoints/epoch=5-step=204.ckpt\n",
      "Loaded model weights from the checkpoint at /Users/benjaminvaca/Documents/USFQ/semestre7/machine_learning/proyecto/lightning_logs/version_237/checkpoints/epoch=5-step=204.ckpt\n"
     ]
    },
    {
     "name": "stdout",
     "output_type": "stream",
     "text": [
      "Testing DataLoader 0: 100%|██████████| 11/11 [00:00<00:00, 420.12it/s]\n"
     ]
    },
    {
     "data": {
      "text/html": [
       "<pre style=\"white-space:pre;overflow-x:auto;line-height:normal;font-family:Menlo,'DejaVu Sans Mono',consolas,'Courier New',monospace\">┏━━━━━━━━━━━━━━━━━━━━━━━━━━━┳━━━━━━━━━━━━━━━━━━━━━━━━━━━┓\n",
       "┃<span style=\"font-weight: bold\">        Test metric        </span>┃<span style=\"font-weight: bold\">       DataLoader 0        </span>┃\n",
       "┡━━━━━━━━━━━━━━━━━━━━━━━━━━━╇━━━━━━━━━━━━━━━━━━━━━━━━━━━┩\n",
       "│<span style=\"color: #008080; text-decoration-color: #008080\">      test_f1ma_epoch      </span>│<span style=\"color: #800080; text-decoration-color: #800080\">    0.1847493052482605     </span>│\n",
       "│<span style=\"color: #008080; text-decoration-color: #008080\">      test_ham_epoch       </span>│<span style=\"color: #800080; text-decoration-color: #800080\">    0.2730252146720886     </span>│\n",
       "│<span style=\"color: #008080; text-decoration-color: #008080\">      test_loss_epoch      </span>│<span style=\"color: #800080; text-decoration-color: #800080\">    0.5565916299819946     </span>│\n",
       "└───────────────────────────┴───────────────────────────┘\n",
       "</pre>\n"
      ],
      "text/plain": [
       "┏━━━━━━━━━━━━━━━━━━━━━━━━━━━┳━━━━━━━━━━━━━━━━━━━━━━━━━━━┓\n",
       "┃\u001b[1m \u001b[0m\u001b[1m       Test metric       \u001b[0m\u001b[1m \u001b[0m┃\u001b[1m \u001b[0m\u001b[1m      DataLoader 0       \u001b[0m\u001b[1m \u001b[0m┃\n",
       "┡━━━━━━━━━━━━━━━━━━━━━━━━━━━╇━━━━━━━━━━━━━━━━━━━━━━━━━━━┩\n",
       "│\u001b[36m \u001b[0m\u001b[36m     test_f1ma_epoch     \u001b[0m\u001b[36m \u001b[0m│\u001b[35m \u001b[0m\u001b[35m   0.1847493052482605    \u001b[0m\u001b[35m \u001b[0m│\n",
       "│\u001b[36m \u001b[0m\u001b[36m     test_ham_epoch      \u001b[0m\u001b[36m \u001b[0m│\u001b[35m \u001b[0m\u001b[35m   0.2730252146720886    \u001b[0m\u001b[35m \u001b[0m│\n",
       "│\u001b[36m \u001b[0m\u001b[36m     test_loss_epoch     \u001b[0m\u001b[36m \u001b[0m│\u001b[35m \u001b[0m\u001b[35m   0.5565916299819946    \u001b[0m\u001b[35m \u001b[0m│\n",
       "└───────────────────────────┴───────────────────────────┘\n"
      ]
     },
     "metadata": {},
     "output_type": "display_data"
    },
    {
     "name": "stdout",
     "output_type": "stream",
     "text": [
      "  loss: 0.5566 | hamming: 0.2730 | f1_macro: 0.1847\n",
      "Fold 9/10\n"
     ]
    },
    {
     "name": "stderr",
     "output_type": "stream",
     "text": [
      "GPU available: True (mps), used: False\n",
      "TPU available: False, using: 0 TPU cores\n",
      "HPU available: False, using: 0 HPUs\n",
      "\n",
      "  | Name       | Type                      | Params | Mode \n",
      "-----------------------------------------------------------------\n",
      "0 | classifier | Sequential                | 240 K  | train\n",
      "1 | loss       | BCEWithLogitsLoss         | 0      | train\n",
      "2 | hamming    | MultilabelHammingDistance | 0      | train\n",
      "3 | f1_macro   | MultilabelF1Score         | 0      | train\n",
      "-----------------------------------------------------------------\n",
      "240 K     Trainable params\n",
      "0         Non-trainable params\n",
      "240 K     Total params\n",
      "0.961     Total estimated model params size (MB)\n",
      "17        Modules in train mode\n",
      "0         Modules in eval mode\n"
     ]
    },
    {
     "name": "stdout",
     "output_type": "stream",
     "text": [
      "Epoch 3: 100%|██████████| 34/34 [00:00<00:00, 182.78it/s, v_num=238, train_loss=0.562, train_ham=0.293, train_f1ma=0.243, val_loss_step=0.582, val_ham_step=0.430, val_f1ma_step=0.0278, val_loss_epoch=0.563, val_ham_epoch=0.288, val_f1ma_epoch=0.176]\n"
     ]
    },
    {
     "name": "stderr",
     "output_type": "stream",
     "text": [
      "Restoring states from the checkpoint path at /Users/benjaminvaca/Documents/USFQ/semestre7/machine_learning/proyecto/lightning_logs/version_238/checkpoints/epoch=0-step=34.ckpt\n",
      "Loaded model weights from the checkpoint at /Users/benjaminvaca/Documents/USFQ/semestre7/machine_learning/proyecto/lightning_logs/version_238/checkpoints/epoch=0-step=34.ckpt\n"
     ]
    },
    {
     "name": "stdout",
     "output_type": "stream",
     "text": [
      "Validation DataLoader 0: 100%|██████████| 34/34 [00:00<00:00, 480.96it/s]"
     ]
    },
    {
     "name": "stderr",
     "output_type": "stream",
     "text": [
      "Restoring states from the checkpoint path at /Users/benjaminvaca/Documents/USFQ/semestre7/machine_learning/proyecto/lightning_logs/version_238/checkpoints/epoch=0-step=34.ckpt\n"
     ]
    },
    {
     "name": "stdout",
     "output_type": "stream",
     "text": [
      "\n"
     ]
    },
    {
     "name": "stderr",
     "output_type": "stream",
     "text": [
      "Loaded model weights from the checkpoint at /Users/benjaminvaca/Documents/USFQ/semestre7/machine_learning/proyecto/lightning_logs/version_238/checkpoints/epoch=0-step=34.ckpt\n"
     ]
    },
    {
     "name": "stdout",
     "output_type": "stream",
     "text": [
      "Validation DataLoader 0: 100%|██████████| 9/9 [00:00<00:00, 441.89it/s]\n"
     ]
    },
    {
     "name": "stderr",
     "output_type": "stream",
     "text": [
      "Restoring states from the checkpoint path at /Users/benjaminvaca/Documents/USFQ/semestre7/machine_learning/proyecto/lightning_logs/version_238/checkpoints/epoch=0-step=34.ckpt\n",
      "Loaded model weights from the checkpoint at /Users/benjaminvaca/Documents/USFQ/semestre7/machine_learning/proyecto/lightning_logs/version_238/checkpoints/epoch=0-step=34.ckpt\n"
     ]
    },
    {
     "name": "stdout",
     "output_type": "stream",
     "text": [
      "Testing DataLoader 0: 100%|██████████| 11/11 [00:00<00:00, 243.54it/s]\n"
     ]
    },
    {
     "data": {
      "text/html": [
       "<pre style=\"white-space:pre;overflow-x:auto;line-height:normal;font-family:Menlo,'DejaVu Sans Mono',consolas,'Courier New',monospace\">┏━━━━━━━━━━━━━━━━━━━━━━━━━━━┳━━━━━━━━━━━━━━━━━━━━━━━━━━━┓\n",
       "┃<span style=\"font-weight: bold\">        Test metric        </span>┃<span style=\"font-weight: bold\">       DataLoader 0        </span>┃\n",
       "┡━━━━━━━━━━━━━━━━━━━━━━━━━━━╇━━━━━━━━━━━━━━━━━━━━━━━━━━━┩\n",
       "│<span style=\"color: #008080; text-decoration-color: #008080\">      test_f1ma_epoch      </span>│<span style=\"color: #800080; text-decoration-color: #800080\">    0.20920945703983307    </span>│\n",
       "│<span style=\"color: #008080; text-decoration-color: #008080\">      test_ham_epoch       </span>│<span style=\"color: #800080; text-decoration-color: #800080\">    0.31825628876686096    </span>│\n",
       "│<span style=\"color: #008080; text-decoration-color: #008080\">      test_loss_epoch      </span>│<span style=\"color: #800080; text-decoration-color: #800080\">    0.6295502781867981     </span>│\n",
       "└───────────────────────────┴───────────────────────────┘\n",
       "</pre>\n"
      ],
      "text/plain": [
       "┏━━━━━━━━━━━━━━━━━━━━━━━━━━━┳━━━━━━━━━━━━━━━━━━━━━━━━━━━┓\n",
       "┃\u001b[1m \u001b[0m\u001b[1m       Test metric       \u001b[0m\u001b[1m \u001b[0m┃\u001b[1m \u001b[0m\u001b[1m      DataLoader 0       \u001b[0m\u001b[1m \u001b[0m┃\n",
       "┡━━━━━━━━━━━━━━━━━━━━━━━━━━━╇━━━━━━━━━━━━━━━━━━━━━━━━━━━┩\n",
       "│\u001b[36m \u001b[0m\u001b[36m     test_f1ma_epoch     \u001b[0m\u001b[36m \u001b[0m│\u001b[35m \u001b[0m\u001b[35m   0.20920945703983307   \u001b[0m\u001b[35m \u001b[0m│\n",
       "│\u001b[36m \u001b[0m\u001b[36m     test_ham_epoch      \u001b[0m\u001b[36m \u001b[0m│\u001b[35m \u001b[0m\u001b[35m   0.31825628876686096   \u001b[0m\u001b[35m \u001b[0m│\n",
       "│\u001b[36m \u001b[0m\u001b[36m     test_loss_epoch     \u001b[0m\u001b[36m \u001b[0m│\u001b[35m \u001b[0m\u001b[35m   0.6295502781867981    \u001b[0m\u001b[35m \u001b[0m│\n",
       "└───────────────────────────┴───────────────────────────┘\n"
      ]
     },
     "metadata": {},
     "output_type": "display_data"
    },
    {
     "name": "stdout",
     "output_type": "stream",
     "text": [
      "  loss: 0.6296 | hamming: 0.3183 | f1_macro: 0.2092\n",
      "Fold 10/10\n"
     ]
    },
    {
     "name": "stderr",
     "output_type": "stream",
     "text": [
      "GPU available: True (mps), used: False\n",
      "TPU available: False, using: 0 TPU cores\n",
      "HPU available: False, using: 0 HPUs\n",
      "\n",
      "  | Name       | Type                      | Params | Mode \n",
      "-----------------------------------------------------------------\n",
      "0 | classifier | Sequential                | 240 K  | train\n",
      "1 | loss       | BCEWithLogitsLoss         | 0      | train\n",
      "2 | hamming    | MultilabelHammingDistance | 0      | train\n",
      "3 | f1_macro   | MultilabelF1Score         | 0      | train\n",
      "-----------------------------------------------------------------\n",
      "240 K     Trainable params\n",
      "0         Non-trainable params\n",
      "240 K     Total params\n",
      "0.961     Total estimated model params size (MB)\n",
      "17        Modules in train mode\n",
      "0         Modules in eval mode\n"
     ]
    },
    {
     "name": "stdout",
     "output_type": "stream",
     "text": [
      "Epoch 3: 100%|██████████| 34/34 [00:00<00:00, 188.71it/s, v_num=239, train_loss=0.588, train_ham=0.344, train_f1ma=0.193, val_loss_step=0.598, val_ham_step=0.430, val_f1ma_step=0.0278, val_loss_epoch=0.577, val_ham_epoch=0.320, val_f1ma_epoch=0.153]\n"
     ]
    },
    {
     "name": "stderr",
     "output_type": "stream",
     "text": [
      "Restoring states from the checkpoint path at /Users/benjaminvaca/Documents/USFQ/semestre7/machine_learning/proyecto/lightning_logs/version_239/checkpoints/epoch=0-step=34.ckpt\n",
      "Loaded model weights from the checkpoint at /Users/benjaminvaca/Documents/USFQ/semestre7/machine_learning/proyecto/lightning_logs/version_239/checkpoints/epoch=0-step=34.ckpt\n"
     ]
    },
    {
     "name": "stdout",
     "output_type": "stream",
     "text": [
      "Validation DataLoader 0: 100%|██████████| 34/34 [00:00<00:00, 385.94it/s]"
     ]
    },
    {
     "name": "stderr",
     "output_type": "stream",
     "text": [
      "Restoring states from the checkpoint path at /Users/benjaminvaca/Documents/USFQ/semestre7/machine_learning/proyecto/lightning_logs/version_239/checkpoints/epoch=0-step=34.ckpt\n"
     ]
    },
    {
     "name": "stdout",
     "output_type": "stream",
     "text": [
      "\n"
     ]
    },
    {
     "name": "stderr",
     "output_type": "stream",
     "text": [
      "Loaded model weights from the checkpoint at /Users/benjaminvaca/Documents/USFQ/semestre7/machine_learning/proyecto/lightning_logs/version_239/checkpoints/epoch=0-step=34.ckpt\n"
     ]
    },
    {
     "name": "stdout",
     "output_type": "stream",
     "text": [
      "Validation DataLoader 0: 100%|██████████| 9/9 [00:00<00:00, 424.47it/s]\n"
     ]
    },
    {
     "name": "stderr",
     "output_type": "stream",
     "text": [
      "Restoring states from the checkpoint path at /Users/benjaminvaca/Documents/USFQ/semestre7/machine_learning/proyecto/lightning_logs/version_239/checkpoints/epoch=0-step=34.ckpt\n",
      "Loaded model weights from the checkpoint at /Users/benjaminvaca/Documents/USFQ/semestre7/machine_learning/proyecto/lightning_logs/version_239/checkpoints/epoch=0-step=34.ckpt\n"
     ]
    },
    {
     "name": "stdout",
     "output_type": "stream",
     "text": [
      "Testing DataLoader 0: 100%|██████████| 11/11 [00:00<00:00, 357.41it/s]\n"
     ]
    },
    {
     "data": {
      "text/html": [
       "<pre style=\"white-space:pre;overflow-x:auto;line-height:normal;font-family:Menlo,'DejaVu Sans Mono',consolas,'Courier New',monospace\">┏━━━━━━━━━━━━━━━━━━━━━━━━━━━┳━━━━━━━━━━━━━━━━━━━━━━━━━━━┓\n",
       "┃<span style=\"font-weight: bold\">        Test metric        </span>┃<span style=\"font-weight: bold\">       DataLoader 0        </span>┃\n",
       "┡━━━━━━━━━━━━━━━━━━━━━━━━━━━╇━━━━━━━━━━━━━━━━━━━━━━━━━━━┩\n",
       "│<span style=\"color: #008080; text-decoration-color: #008080\">      test_f1ma_epoch      </span>│<span style=\"color: #800080; text-decoration-color: #800080\">    0.19869408011436462    </span>│\n",
       "│<span style=\"color: #008080; text-decoration-color: #008080\">      test_ham_epoch       </span>│<span style=\"color: #800080; text-decoration-color: #800080\">     0.326450377702713     </span>│\n",
       "│<span style=\"color: #008080; text-decoration-color: #008080\">      test_loss_epoch      </span>│<span style=\"color: #800080; text-decoration-color: #800080\">    0.6392646431922913     </span>│\n",
       "└───────────────────────────┴───────────────────────────┘\n",
       "</pre>\n"
      ],
      "text/plain": [
       "┏━━━━━━━━━━━━━━━━━━━━━━━━━━━┳━━━━━━━━━━━━━━━━━━━━━━━━━━━┓\n",
       "┃\u001b[1m \u001b[0m\u001b[1m       Test metric       \u001b[0m\u001b[1m \u001b[0m┃\u001b[1m \u001b[0m\u001b[1m      DataLoader 0       \u001b[0m\u001b[1m \u001b[0m┃\n",
       "┡━━━━━━━━━━━━━━━━━━━━━━━━━━━╇━━━━━━━━━━━━━━━━━━━━━━━━━━━┩\n",
       "│\u001b[36m \u001b[0m\u001b[36m     test_f1ma_epoch     \u001b[0m\u001b[36m \u001b[0m│\u001b[35m \u001b[0m\u001b[35m   0.19869408011436462   \u001b[0m\u001b[35m \u001b[0m│\n",
       "│\u001b[36m \u001b[0m\u001b[36m     test_ham_epoch      \u001b[0m\u001b[36m \u001b[0m│\u001b[35m \u001b[0m\u001b[35m    0.326450377702713    \u001b[0m\u001b[35m \u001b[0m│\n",
       "│\u001b[36m \u001b[0m\u001b[36m     test_loss_epoch     \u001b[0m\u001b[36m \u001b[0m│\u001b[35m \u001b[0m\u001b[35m   0.6392646431922913    \u001b[0m\u001b[35m \u001b[0m│\n",
       "└───────────────────────────┴───────────────────────────┘\n"
      ]
     },
     "metadata": {},
     "output_type": "display_data"
    },
    {
     "name": "stdout",
     "output_type": "stream",
     "text": [
      "  loss: 0.6393 | hamming: 0.3265 | f1_macro: 0.1987\n",
      "\n",
      "F1-macro promedio: 0.2086 ± 0.0187\n",
      "Hamming promedio: 0.3264 ± 0.0259\n",
      "Pérdida promedio:         0.6234 ± 0.0278\n",
      "HU=[256, 128, 64]  L2=0.0001 → val_f1ma: 0.2086\n",
      "Fold 1/10\n"
     ]
    },
    {
     "name": "stderr",
     "output_type": "stream",
     "text": [
      "GPU available: True (mps), used: False\n",
      "TPU available: False, using: 0 TPU cores\n",
      "HPU available: False, using: 0 HPUs\n",
      "\n",
      "  | Name       | Type                      | Params | Mode \n",
      "-----------------------------------------------------------------\n",
      "0 | classifier | Sequential                | 333 K  | train\n",
      "1 | loss       | BCEWithLogitsLoss         | 0      | train\n",
      "2 | hamming    | MultilabelHammingDistance | 0      | train\n",
      "3 | f1_macro   | MultilabelF1Score         | 0      | train\n",
      "-----------------------------------------------------------------\n",
      "333 K     Trainable params\n",
      "0         Non-trainable params\n",
      "333 K     Total params\n",
      "1.332     Total estimated model params size (MB)\n",
      "17        Modules in train mode\n",
      "0         Modules in eval mode\n"
     ]
    },
    {
     "name": "stdout",
     "output_type": "stream",
     "text": [
      "Epoch 5: 100%|██████████| 34/34 [00:00<00:00, 150.61it/s, v_num=240, train_loss=0.556, train_ham=0.284, train_f1ma=0.350, val_loss_step=0.529, val_ham_step=0.361, val_f1ma_step=0.0889, val_loss_epoch=0.561, val_ham_epoch=0.288, val_f1ma_epoch=0.167]"
     ]
    },
    {
     "name": "stderr",
     "output_type": "stream",
     "text": [
      "Restoring states from the checkpoint path at /Users/benjaminvaca/Documents/USFQ/semestre7/machine_learning/proyecto/lightning_logs/version_240/checkpoints/epoch=2-step=102.ckpt\n"
     ]
    },
    {
     "name": "stdout",
     "output_type": "stream",
     "text": [
      "\n"
     ]
    },
    {
     "name": "stderr",
     "output_type": "stream",
     "text": [
      "Loaded model weights from the checkpoint at /Users/benjaminvaca/Documents/USFQ/semestre7/machine_learning/proyecto/lightning_logs/version_240/checkpoints/epoch=2-step=102.ckpt\n"
     ]
    },
    {
     "name": "stdout",
     "output_type": "stream",
     "text": [
      "Validation DataLoader 0: 100%|██████████| 34/34 [00:00<00:00, 464.61it/s]\n"
     ]
    },
    {
     "name": "stderr",
     "output_type": "stream",
     "text": [
      "Restoring states from the checkpoint path at /Users/benjaminvaca/Documents/USFQ/semestre7/machine_learning/proyecto/lightning_logs/version_240/checkpoints/epoch=2-step=102.ckpt\n",
      "Loaded model weights from the checkpoint at /Users/benjaminvaca/Documents/USFQ/semestre7/machine_learning/proyecto/lightning_logs/version_240/checkpoints/epoch=2-step=102.ckpt\n"
     ]
    },
    {
     "name": "stdout",
     "output_type": "stream",
     "text": [
      "Validation DataLoader 0: 100%|██████████| 9/9 [00:00<00:00, 432.80it/s]"
     ]
    },
    {
     "name": "stderr",
     "output_type": "stream",
     "text": [
      "Restoring states from the checkpoint path at /Users/benjaminvaca/Documents/USFQ/semestre7/machine_learning/proyecto/lightning_logs/version_240/checkpoints/epoch=2-step=102.ckpt\n"
     ]
    },
    {
     "name": "stdout",
     "output_type": "stream",
     "text": [
      "\n"
     ]
    },
    {
     "name": "stderr",
     "output_type": "stream",
     "text": [
      "Loaded model weights from the checkpoint at /Users/benjaminvaca/Documents/USFQ/semestre7/machine_learning/proyecto/lightning_logs/version_240/checkpoints/epoch=2-step=102.ckpt\n"
     ]
    },
    {
     "name": "stdout",
     "output_type": "stream",
     "text": [
      "Testing DataLoader 0: 100%|██████████| 11/11 [00:00<00:00, 443.10it/s]\n"
     ]
    },
    {
     "data": {
      "text/html": [
       "<pre style=\"white-space:pre;overflow-x:auto;line-height:normal;font-family:Menlo,'DejaVu Sans Mono',consolas,'Courier New',monospace\">┏━━━━━━━━━━━━━━━━━━━━━━━━━━━┳━━━━━━━━━━━━━━━━━━━━━━━━━━━┓\n",
       "┃<span style=\"font-weight: bold\">        Test metric        </span>┃<span style=\"font-weight: bold\">       DataLoader 0        </span>┃\n",
       "┡━━━━━━━━━━━━━━━━━━━━━━━━━━━╇━━━━━━━━━━━━━━━━━━━━━━━━━━━┩\n",
       "│<span style=\"color: #008080; text-decoration-color: #008080\">      test_f1ma_epoch      </span>│<span style=\"color: #800080; text-decoration-color: #800080\">    0.1592807173728943     </span>│\n",
       "│<span style=\"color: #008080; text-decoration-color: #008080\">      test_ham_epoch       </span>│<span style=\"color: #800080; text-decoration-color: #800080\">    0.29498526453971863    </span>│\n",
       "│<span style=\"color: #008080; text-decoration-color: #008080\">      test_loss_epoch      </span>│<span style=\"color: #800080; text-decoration-color: #800080\">     0.578981876373291     </span>│\n",
       "└───────────────────────────┴───────────────────────────┘\n",
       "</pre>\n"
      ],
      "text/plain": [
       "┏━━━━━━━━━━━━━━━━━━━━━━━━━━━┳━━━━━━━━━━━━━━━━━━━━━━━━━━━┓\n",
       "┃\u001b[1m \u001b[0m\u001b[1m       Test metric       \u001b[0m\u001b[1m \u001b[0m┃\u001b[1m \u001b[0m\u001b[1m      DataLoader 0       \u001b[0m\u001b[1m \u001b[0m┃\n",
       "┡━━━━━━━━━━━━━━━━━━━━━━━━━━━╇━━━━━━━━━━━━━━━━━━━━━━━━━━━┩\n",
       "│\u001b[36m \u001b[0m\u001b[36m     test_f1ma_epoch     \u001b[0m\u001b[36m \u001b[0m│\u001b[35m \u001b[0m\u001b[35m   0.1592807173728943    \u001b[0m\u001b[35m \u001b[0m│\n",
       "│\u001b[36m \u001b[0m\u001b[36m     test_ham_epoch      \u001b[0m\u001b[36m \u001b[0m│\u001b[35m \u001b[0m\u001b[35m   0.29498526453971863   \u001b[0m\u001b[35m \u001b[0m│\n",
       "│\u001b[36m \u001b[0m\u001b[36m     test_loss_epoch     \u001b[0m\u001b[36m \u001b[0m│\u001b[35m \u001b[0m\u001b[35m    0.578981876373291    \u001b[0m\u001b[35m \u001b[0m│\n",
       "└───────────────────────────┴───────────────────────────┘\n"
      ]
     },
     "metadata": {},
     "output_type": "display_data"
    },
    {
     "name": "stdout",
     "output_type": "stream",
     "text": [
      "  loss: 0.5790 | hamming: 0.2950 | f1_macro: 0.1593\n",
      "Fold 2/10\n"
     ]
    },
    {
     "name": "stderr",
     "output_type": "stream",
     "text": [
      "GPU available: True (mps), used: False\n",
      "TPU available: False, using: 0 TPU cores\n",
      "HPU available: False, using: 0 HPUs\n",
      "\n",
      "  | Name       | Type                      | Params | Mode \n",
      "-----------------------------------------------------------------\n",
      "0 | classifier | Sequential                | 333 K  | train\n",
      "1 | loss       | BCEWithLogitsLoss         | 0      | train\n",
      "2 | hamming    | MultilabelHammingDistance | 0      | train\n",
      "3 | f1_macro   | MultilabelF1Score         | 0      | train\n",
      "-----------------------------------------------------------------\n",
      "333 K     Trainable params\n",
      "0         Non-trainable params\n",
      "333 K     Total params\n",
      "1.332     Total estimated model params size (MB)\n",
      "17        Modules in train mode\n",
      "0         Modules in eval mode\n"
     ]
    },
    {
     "name": "stdout",
     "output_type": "stream",
     "text": [
      "Epoch 10: 100%|██████████| 34/34 [00:00<00:00, 172.82it/s, v_num=241, train_loss=0.556, train_ham=0.284, train_f1ma=0.307, val_loss_step=0.562, val_ham_step=0.375, val_f1ma_step=0.0795, val_loss_epoch=0.568, val_ham_epoch=0.301, val_f1ma_epoch=0.165]"
     ]
    },
    {
     "name": "stderr",
     "output_type": "stream",
     "text": [
      "Restoring states from the checkpoint path at /Users/benjaminvaca/Documents/USFQ/semestre7/machine_learning/proyecto/lightning_logs/version_241/checkpoints/epoch=7-step=272.ckpt\n"
     ]
    },
    {
     "name": "stdout",
     "output_type": "stream",
     "text": [
      "\n"
     ]
    },
    {
     "name": "stderr",
     "output_type": "stream",
     "text": [
      "Loaded model weights from the checkpoint at /Users/benjaminvaca/Documents/USFQ/semestre7/machine_learning/proyecto/lightning_logs/version_241/checkpoints/epoch=7-step=272.ckpt\n"
     ]
    },
    {
     "name": "stdout",
     "output_type": "stream",
     "text": [
      "Validation DataLoader 0: 100%|██████████| 34/34 [00:00<00:00, 355.34it/s]\n"
     ]
    },
    {
     "name": "stderr",
     "output_type": "stream",
     "text": [
      "Restoring states from the checkpoint path at /Users/benjaminvaca/Documents/USFQ/semestre7/machine_learning/proyecto/lightning_logs/version_241/checkpoints/epoch=7-step=272.ckpt\n",
      "Loaded model weights from the checkpoint at /Users/benjaminvaca/Documents/USFQ/semestre7/machine_learning/proyecto/lightning_logs/version_241/checkpoints/epoch=7-step=272.ckpt\n"
     ]
    },
    {
     "name": "stdout",
     "output_type": "stream",
     "text": [
      "Validation DataLoader 0: 100%|██████████| 9/9 [00:00<00:00, 414.40it/s]"
     ]
    },
    {
     "name": "stderr",
     "output_type": "stream",
     "text": [
      "Restoring states from the checkpoint path at /Users/benjaminvaca/Documents/USFQ/semestre7/machine_learning/proyecto/lightning_logs/version_241/checkpoints/epoch=7-step=272.ckpt\n"
     ]
    },
    {
     "name": "stdout",
     "output_type": "stream",
     "text": [
      "\n"
     ]
    },
    {
     "name": "stderr",
     "output_type": "stream",
     "text": [
      "Loaded model weights from the checkpoint at /Users/benjaminvaca/Documents/USFQ/semestre7/machine_learning/proyecto/lightning_logs/version_241/checkpoints/epoch=7-step=272.ckpt\n"
     ]
    },
    {
     "name": "stdout",
     "output_type": "stream",
     "text": [
      "Testing DataLoader 0: 100%|██████████| 11/11 [00:00<00:00, 273.36it/s]\n"
     ]
    },
    {
     "data": {
      "text/html": [
       "<pre style=\"white-space:pre;overflow-x:auto;line-height:normal;font-family:Menlo,'DejaVu Sans Mono',consolas,'Courier New',monospace\">┏━━━━━━━━━━━━━━━━━━━━━━━━━━━┳━━━━━━━━━━━━━━━━━━━━━━━━━━━┓\n",
       "┃<span style=\"font-weight: bold\">        Test metric        </span>┃<span style=\"font-weight: bold\">       DataLoader 0        </span>┃\n",
       "┡━━━━━━━━━━━━━━━━━━━━━━━━━━━╇━━━━━━━━━━━━━━━━━━━━━━━━━━━┩\n",
       "│<span style=\"color: #008080; text-decoration-color: #008080\">      test_f1ma_epoch      </span>│<span style=\"color: #800080; text-decoration-color: #800080\">    0.16476497054100037    </span>│\n",
       "│<span style=\"color: #008080; text-decoration-color: #008080\">      test_ham_epoch       </span>│<span style=\"color: #800080; text-decoration-color: #800080\">    0.2913798689842224     </span>│\n",
       "│<span style=\"color: #008080; text-decoration-color: #008080\">      test_loss_epoch      </span>│<span style=\"color: #800080; text-decoration-color: #800080\">    0.5642707347869873     </span>│\n",
       "└───────────────────────────┴───────────────────────────┘\n",
       "</pre>\n"
      ],
      "text/plain": [
       "┏━━━━━━━━━━━━━━━━━━━━━━━━━━━┳━━━━━━━━━━━━━━━━━━━━━━━━━━━┓\n",
       "┃\u001b[1m \u001b[0m\u001b[1m       Test metric       \u001b[0m\u001b[1m \u001b[0m┃\u001b[1m \u001b[0m\u001b[1m      DataLoader 0       \u001b[0m\u001b[1m \u001b[0m┃\n",
       "┡━━━━━━━━━━━━━━━━━━━━━━━━━━━╇━━━━━━━━━━━━━━━━━━━━━━━━━━━┩\n",
       "│\u001b[36m \u001b[0m\u001b[36m     test_f1ma_epoch     \u001b[0m\u001b[36m \u001b[0m│\u001b[35m \u001b[0m\u001b[35m   0.16476497054100037   \u001b[0m\u001b[35m \u001b[0m│\n",
       "│\u001b[36m \u001b[0m\u001b[36m     test_ham_epoch      \u001b[0m\u001b[36m \u001b[0m│\u001b[35m \u001b[0m\u001b[35m   0.2913798689842224    \u001b[0m\u001b[35m \u001b[0m│\n",
       "│\u001b[36m \u001b[0m\u001b[36m     test_loss_epoch     \u001b[0m\u001b[36m \u001b[0m│\u001b[35m \u001b[0m\u001b[35m   0.5642707347869873    \u001b[0m\u001b[35m \u001b[0m│\n",
       "└───────────────────────────┴───────────────────────────┘\n"
      ]
     },
     "metadata": {},
     "output_type": "display_data"
    },
    {
     "name": "stderr",
     "output_type": "stream",
     "text": [
      "GPU available: True (mps), used: False\n",
      "TPU available: False, using: 0 TPU cores\n",
      "HPU available: False, using: 0 HPUs\n"
     ]
    },
    {
     "name": "stdout",
     "output_type": "stream",
     "text": [
      "  loss: 0.5643 | hamming: 0.2914 | f1_macro: 0.1648\n",
      "Fold 3/10\n"
     ]
    },
    {
     "name": "stderr",
     "output_type": "stream",
     "text": [
      "\n",
      "  | Name       | Type                      | Params | Mode \n",
      "-----------------------------------------------------------------\n",
      "0 | classifier | Sequential                | 333 K  | train\n",
      "1 | loss       | BCEWithLogitsLoss         | 0      | train\n",
      "2 | hamming    | MultilabelHammingDistance | 0      | train\n",
      "3 | f1_macro   | MultilabelF1Score         | 0      | train\n",
      "-----------------------------------------------------------------\n",
      "333 K     Trainable params\n",
      "0         Non-trainable params\n",
      "333 K     Total params\n",
      "1.332     Total estimated model params size (MB)\n",
      "17        Modules in train mode\n",
      "0         Modules in eval mode\n"
     ]
    },
    {
     "name": "stdout",
     "output_type": "stream",
     "text": [
      "Epoch 3: 100%|██████████| 34/34 [00:00<00:00, 161.91it/s, v_num=242, train_loss=0.552, train_ham=0.293, train_f1ma=0.310, val_loss_step=0.515, val_ham_step=0.222, val_f1ma_step=0.111, val_loss_epoch=0.582, val_ham_epoch=0.328, val_f1ma_epoch=0.120] \n"
     ]
    },
    {
     "name": "stderr",
     "output_type": "stream",
     "text": [
      "Restoring states from the checkpoint path at /Users/benjaminvaca/Documents/USFQ/semestre7/machine_learning/proyecto/lightning_logs/version_242/checkpoints/epoch=0-step=34.ckpt\n",
      "Loaded model weights from the checkpoint at /Users/benjaminvaca/Documents/USFQ/semestre7/machine_learning/proyecto/lightning_logs/version_242/checkpoints/epoch=0-step=34.ckpt\n"
     ]
    },
    {
     "name": "stdout",
     "output_type": "stream",
     "text": [
      "Validation DataLoader 0: 100%|██████████| 34/34 [00:00<00:00, 453.44it/s]"
     ]
    },
    {
     "name": "stderr",
     "output_type": "stream",
     "text": [
      "Restoring states from the checkpoint path at /Users/benjaminvaca/Documents/USFQ/semestre7/machine_learning/proyecto/lightning_logs/version_242/checkpoints/epoch=0-step=34.ckpt\n"
     ]
    },
    {
     "name": "stdout",
     "output_type": "stream",
     "text": [
      "\n"
     ]
    },
    {
     "name": "stderr",
     "output_type": "stream",
     "text": [
      "Loaded model weights from the checkpoint at /Users/benjaminvaca/Documents/USFQ/semestre7/machine_learning/proyecto/lightning_logs/version_242/checkpoints/epoch=0-step=34.ckpt\n"
     ]
    },
    {
     "name": "stdout",
     "output_type": "stream",
     "text": [
      "Validation DataLoader 0: 100%|██████████| 9/9 [00:00<00:00, 214.63it/s]\n"
     ]
    },
    {
     "name": "stderr",
     "output_type": "stream",
     "text": [
      "Restoring states from the checkpoint path at /Users/benjaminvaca/Documents/USFQ/semestre7/machine_learning/proyecto/lightning_logs/version_242/checkpoints/epoch=0-step=34.ckpt\n",
      "Loaded model weights from the checkpoint at /Users/benjaminvaca/Documents/USFQ/semestre7/machine_learning/proyecto/lightning_logs/version_242/checkpoints/epoch=0-step=34.ckpt\n"
     ]
    },
    {
     "name": "stdout",
     "output_type": "stream",
     "text": [
      "Testing DataLoader 0: 100%|██████████| 11/11 [00:00<00:00, 426.64it/s]\n"
     ]
    },
    {
     "data": {
      "text/html": [
       "<pre style=\"white-space:pre;overflow-x:auto;line-height:normal;font-family:Menlo,'DejaVu Sans Mono',consolas,'Courier New',monospace\">┏━━━━━━━━━━━━━━━━━━━━━━━━━━━┳━━━━━━━━━━━━━━━━━━━━━━━━━━━┓\n",
       "┃<span style=\"font-weight: bold\">        Test metric        </span>┃<span style=\"font-weight: bold\">       DataLoader 0        </span>┃\n",
       "┡━━━━━━━━━━━━━━━━━━━━━━━━━━━╇━━━━━━━━━━━━━━━━━━━━━━━━━━━┩\n",
       "│<span style=\"color: #008080; text-decoration-color: #008080\">      test_f1ma_epoch      </span>│<span style=\"color: #800080; text-decoration-color: #800080\">    0.18503981828689575    </span>│\n",
       "│<span style=\"color: #008080; text-decoration-color: #008080\">      test_ham_epoch       </span>│<span style=\"color: #800080; text-decoration-color: #800080\">    0.3110455572605133     </span>│\n",
       "│<span style=\"color: #008080; text-decoration-color: #008080\">      test_loss_epoch      </span>│<span style=\"color: #800080; text-decoration-color: #800080\">    0.6020177602767944     </span>│\n",
       "└───────────────────────────┴───────────────────────────┘\n",
       "</pre>\n"
      ],
      "text/plain": [
       "┏━━━━━━━━━━━━━━━━━━━━━━━━━━━┳━━━━━━━━━━━━━━━━━━━━━━━━━━━┓\n",
       "┃\u001b[1m \u001b[0m\u001b[1m       Test metric       \u001b[0m\u001b[1m \u001b[0m┃\u001b[1m \u001b[0m\u001b[1m      DataLoader 0       \u001b[0m\u001b[1m \u001b[0m┃\n",
       "┡━━━━━━━━━━━━━━━━━━━━━━━━━━━╇━━━━━━━━━━━━━━━━━━━━━━━━━━━┩\n",
       "│\u001b[36m \u001b[0m\u001b[36m     test_f1ma_epoch     \u001b[0m\u001b[36m \u001b[0m│\u001b[35m \u001b[0m\u001b[35m   0.18503981828689575   \u001b[0m\u001b[35m \u001b[0m│\n",
       "│\u001b[36m \u001b[0m\u001b[36m     test_ham_epoch      \u001b[0m\u001b[36m \u001b[0m│\u001b[35m \u001b[0m\u001b[35m   0.3110455572605133    \u001b[0m\u001b[35m \u001b[0m│\n",
       "│\u001b[36m \u001b[0m\u001b[36m     test_loss_epoch     \u001b[0m\u001b[36m \u001b[0m│\u001b[35m \u001b[0m\u001b[35m   0.6020177602767944    \u001b[0m\u001b[35m \u001b[0m│\n",
       "└───────────────────────────┴───────────────────────────┘\n"
      ]
     },
     "metadata": {},
     "output_type": "display_data"
    },
    {
     "name": "stdout",
     "output_type": "stream",
     "text": [
      "  loss: 0.6020 | hamming: 0.3110 | f1_macro: 0.1850\n",
      "Fold 4/10\n"
     ]
    },
    {
     "name": "stderr",
     "output_type": "stream",
     "text": [
      "GPU available: True (mps), used: False\n",
      "TPU available: False, using: 0 TPU cores\n",
      "HPU available: False, using: 0 HPUs\n",
      "\n",
      "  | Name       | Type                      | Params | Mode \n",
      "-----------------------------------------------------------------\n",
      "0 | classifier | Sequential                | 333 K  | train\n",
      "1 | loss       | BCEWithLogitsLoss         | 0      | train\n",
      "2 | hamming    | MultilabelHammingDistance | 0      | train\n",
      "3 | f1_macro   | MultilabelF1Score         | 0      | train\n",
      "-----------------------------------------------------------------\n",
      "333 K     Trainable params\n",
      "0         Non-trainable params\n",
      "333 K     Total params\n",
      "1.332     Total estimated model params size (MB)\n",
      "17        Modules in train mode\n",
      "0         Modules in eval mode\n"
     ]
    },
    {
     "name": "stdout",
     "output_type": "stream",
     "text": [
      "Epoch 9: 100%|██████████| 34/34 [00:00<00:00, 172.71it/s, v_num=243, train_loss=0.564, train_ham=0.330, train_f1ma=0.298, val_loss_step=0.552, val_ham_step=0.326, val_f1ma_step=0.114, val_loss_epoch=0.565, val_ham_epoch=0.293, val_f1ma_epoch=0.160] "
     ]
    },
    {
     "name": "stderr",
     "output_type": "stream",
     "text": [
      "Restoring states from the checkpoint path at /Users/benjaminvaca/Documents/USFQ/semestre7/machine_learning/proyecto/lightning_logs/version_243/checkpoints/epoch=6-step=238.ckpt\n"
     ]
    },
    {
     "name": "stdout",
     "output_type": "stream",
     "text": [
      "\n"
     ]
    },
    {
     "name": "stderr",
     "output_type": "stream",
     "text": [
      "Loaded model weights from the checkpoint at /Users/benjaminvaca/Documents/USFQ/semestre7/machine_learning/proyecto/lightning_logs/version_243/checkpoints/epoch=6-step=238.ckpt\n"
     ]
    },
    {
     "name": "stdout",
     "output_type": "stream",
     "text": [
      "Validation DataLoader 0: 100%|██████████| 34/34 [00:00<00:00, 466.05it/s]"
     ]
    },
    {
     "name": "stderr",
     "output_type": "stream",
     "text": [
      "Restoring states from the checkpoint path at /Users/benjaminvaca/Documents/USFQ/semestre7/machine_learning/proyecto/lightning_logs/version_243/checkpoints/epoch=6-step=238.ckpt\n"
     ]
    },
    {
     "name": "stdout",
     "output_type": "stream",
     "text": [
      "\n"
     ]
    },
    {
     "name": "stderr",
     "output_type": "stream",
     "text": [
      "Loaded model weights from the checkpoint at /Users/benjaminvaca/Documents/USFQ/semestre7/machine_learning/proyecto/lightning_logs/version_243/checkpoints/epoch=6-step=238.ckpt\n"
     ]
    },
    {
     "name": "stdout",
     "output_type": "stream",
     "text": [
      "Validation DataLoader 0: 100%|██████████| 9/9 [00:00<00:00, 418.84it/s]\n"
     ]
    },
    {
     "name": "stderr",
     "output_type": "stream",
     "text": [
      "Restoring states from the checkpoint path at /Users/benjaminvaca/Documents/USFQ/semestre7/machine_learning/proyecto/lightning_logs/version_243/checkpoints/epoch=6-step=238.ckpt\n",
      "Loaded model weights from the checkpoint at /Users/benjaminvaca/Documents/USFQ/semestre7/machine_learning/proyecto/lightning_logs/version_243/checkpoints/epoch=6-step=238.ckpt\n"
     ]
    },
    {
     "name": "stdout",
     "output_type": "stream",
     "text": [
      "Testing DataLoader 0: 100%|██████████| 11/11 [00:00<00:00, 240.85it/s]\n"
     ]
    },
    {
     "data": {
      "text/html": [
       "<pre style=\"white-space:pre;overflow-x:auto;line-height:normal;font-family:Menlo,'DejaVu Sans Mono',consolas,'Courier New',monospace\">┏━━━━━━━━━━━━━━━━━━━━━━━━━━━┳━━━━━━━━━━━━━━━━━━━━━━━━━━━┓\n",
       "┃<span style=\"font-weight: bold\">        Test metric        </span>┃<span style=\"font-weight: bold\">       DataLoader 0        </span>┃\n",
       "┡━━━━━━━━━━━━━━━━━━━━━━━━━━━╇━━━━━━━━━━━━━━━━━━━━━━━━━━━┩\n",
       "│<span style=\"color: #008080; text-decoration-color: #008080\">      test_f1ma_epoch      </span>│<span style=\"color: #800080; text-decoration-color: #800080\">    0.16593174636363983    </span>│\n",
       "│<span style=\"color: #008080; text-decoration-color: #008080\">      test_ham_epoch       </span>│<span style=\"color: #800080; text-decoration-color: #800080\">    0.2933464050292969     </span>│\n",
       "│<span style=\"color: #008080; text-decoration-color: #008080\">      test_loss_epoch      </span>│<span style=\"color: #800080; text-decoration-color: #800080\">    0.5674823522567749     </span>│\n",
       "└───────────────────────────┴───────────────────────────┘\n",
       "</pre>\n"
      ],
      "text/plain": [
       "┏━━━━━━━━━━━━━━━━━━━━━━━━━━━┳━━━━━━━━━━━━━━━━━━━━━━━━━━━┓\n",
       "┃\u001b[1m \u001b[0m\u001b[1m       Test metric       \u001b[0m\u001b[1m \u001b[0m┃\u001b[1m \u001b[0m\u001b[1m      DataLoader 0       \u001b[0m\u001b[1m \u001b[0m┃\n",
       "┡━━━━━━━━━━━━━━━━━━━━━━━━━━━╇━━━━━━━━━━━━━━━━━━━━━━━━━━━┩\n",
       "│\u001b[36m \u001b[0m\u001b[36m     test_f1ma_epoch     \u001b[0m\u001b[36m \u001b[0m│\u001b[35m \u001b[0m\u001b[35m   0.16593174636363983   \u001b[0m\u001b[35m \u001b[0m│\n",
       "│\u001b[36m \u001b[0m\u001b[36m     test_ham_epoch      \u001b[0m\u001b[36m \u001b[0m│\u001b[35m \u001b[0m\u001b[35m   0.2933464050292969    \u001b[0m\u001b[35m \u001b[0m│\n",
       "│\u001b[36m \u001b[0m\u001b[36m     test_loss_epoch     \u001b[0m\u001b[36m \u001b[0m│\u001b[35m \u001b[0m\u001b[35m   0.5674823522567749    \u001b[0m\u001b[35m \u001b[0m│\n",
       "└───────────────────────────┴───────────────────────────┘\n"
      ]
     },
     "metadata": {},
     "output_type": "display_data"
    },
    {
     "name": "stdout",
     "output_type": "stream",
     "text": [
      "  loss: 0.5675 | hamming: 0.2933 | f1_macro: 0.1659\n",
      "Fold 5/10\n"
     ]
    },
    {
     "name": "stderr",
     "output_type": "stream",
     "text": [
      "GPU available: True (mps), used: False\n",
      "TPU available: False, using: 0 TPU cores\n",
      "HPU available: False, using: 0 HPUs\n",
      "\n",
      "  | Name       | Type                      | Params | Mode \n",
      "-----------------------------------------------------------------\n",
      "0 | classifier | Sequential                | 333 K  | train\n",
      "1 | loss       | BCEWithLogitsLoss         | 0      | train\n",
      "2 | hamming    | MultilabelHammingDistance | 0      | train\n",
      "3 | f1_macro   | MultilabelF1Score         | 0      | train\n",
      "-----------------------------------------------------------------\n",
      "333 K     Trainable params\n",
      "0         Non-trainable params\n",
      "333 K     Total params\n",
      "1.332     Total estimated model params size (MB)\n",
      "17        Modules in train mode\n",
      "0         Modules in eval mode\n"
     ]
    },
    {
     "name": "stdout",
     "output_type": "stream",
     "text": [
      "Epoch 4: 100%|██████████| 34/34 [00:00<00:00, 170.85it/s, v_num=244, train_loss=0.544, train_ham=0.293, train_f1ma=0.248, val_loss_step=0.531, val_ham_step=0.193, val_f1ma_step=0.158, val_loss_epoch=0.574, val_ham_epoch=0.309, val_f1ma_epoch=0.156] \n"
     ]
    },
    {
     "name": "stderr",
     "output_type": "stream",
     "text": [
      "Restoring states from the checkpoint path at /Users/benjaminvaca/Documents/USFQ/semestre7/machine_learning/proyecto/lightning_logs/version_244/checkpoints/epoch=1-step=68.ckpt\n",
      "Loaded model weights from the checkpoint at /Users/benjaminvaca/Documents/USFQ/semestre7/machine_learning/proyecto/lightning_logs/version_244/checkpoints/epoch=1-step=68.ckpt\n"
     ]
    },
    {
     "name": "stdout",
     "output_type": "stream",
     "text": [
      "Validation DataLoader 0: 100%|██████████| 34/34 [00:00<00:00, 336.67it/s]\n"
     ]
    },
    {
     "name": "stderr",
     "output_type": "stream",
     "text": [
      "Restoring states from the checkpoint path at /Users/benjaminvaca/Documents/USFQ/semestre7/machine_learning/proyecto/lightning_logs/version_244/checkpoints/epoch=1-step=68.ckpt\n",
      "Loaded model weights from the checkpoint at /Users/benjaminvaca/Documents/USFQ/semestre7/machine_learning/proyecto/lightning_logs/version_244/checkpoints/epoch=1-step=68.ckpt\n"
     ]
    },
    {
     "name": "stdout",
     "output_type": "stream",
     "text": [
      "Validation DataLoader 0: 100%|██████████| 9/9 [00:00<00:00, 433.40it/s]"
     ]
    },
    {
     "name": "stderr",
     "output_type": "stream",
     "text": [
      "Restoring states from the checkpoint path at /Users/benjaminvaca/Documents/USFQ/semestre7/machine_learning/proyecto/lightning_logs/version_244/checkpoints/epoch=1-step=68.ckpt\n"
     ]
    },
    {
     "name": "stdout",
     "output_type": "stream",
     "text": [
      "\n"
     ]
    },
    {
     "name": "stderr",
     "output_type": "stream",
     "text": [
      "Loaded model weights from the checkpoint at /Users/benjaminvaca/Documents/USFQ/semestre7/machine_learning/proyecto/lightning_logs/version_244/checkpoints/epoch=1-step=68.ckpt\n"
     ]
    },
    {
     "name": "stdout",
     "output_type": "stream",
     "text": [
      "Testing DataLoader 0: 100%|██████████| 11/11 [00:00<00:00, 418.52it/s]\n"
     ]
    },
    {
     "data": {
      "text/html": [
       "<pre style=\"white-space:pre;overflow-x:auto;line-height:normal;font-family:Menlo,'DejaVu Sans Mono',consolas,'Courier New',monospace\">┏━━━━━━━━━━━━━━━━━━━━━━━━━━━┳━━━━━━━━━━━━━━━━━━━━━━━━━━━┓\n",
       "┃<span style=\"font-weight: bold\">        Test metric        </span>┃<span style=\"font-weight: bold\">       DataLoader 0        </span>┃\n",
       "┡━━━━━━━━━━━━━━━━━━━━━━━━━━━╇━━━━━━━━━━━━━━━━━━━━━━━━━━━┩\n",
       "│<span style=\"color: #008080; text-decoration-color: #008080\">      test_f1ma_epoch      </span>│<span style=\"color: #800080; text-decoration-color: #800080\">    0.1685764044523239     </span>│\n",
       "│<span style=\"color: #008080; text-decoration-color: #008080\">      test_ham_epoch       </span>│<span style=\"color: #800080; text-decoration-color: #800080\">    0.2992461323738098     </span>│\n",
       "│<span style=\"color: #008080; text-decoration-color: #008080\">      test_loss_epoch      </span>│<span style=\"color: #800080; text-decoration-color: #800080\">    0.5761222839355469     </span>│\n",
       "└───────────────────────────┴───────────────────────────┘\n",
       "</pre>\n"
      ],
      "text/plain": [
       "┏━━━━━━━━━━━━━━━━━━━━━━━━━━━┳━━━━━━━━━━━━━━━━━━━━━━━━━━━┓\n",
       "┃\u001b[1m \u001b[0m\u001b[1m       Test metric       \u001b[0m\u001b[1m \u001b[0m┃\u001b[1m \u001b[0m\u001b[1m      DataLoader 0       \u001b[0m\u001b[1m \u001b[0m┃\n",
       "┡━━━━━━━━━━━━━━━━━━━━━━━━━━━╇━━━━━━━━━━━━━━━━━━━━━━━━━━━┩\n",
       "│\u001b[36m \u001b[0m\u001b[36m     test_f1ma_epoch     \u001b[0m\u001b[36m \u001b[0m│\u001b[35m \u001b[0m\u001b[35m   0.1685764044523239    \u001b[0m\u001b[35m \u001b[0m│\n",
       "│\u001b[36m \u001b[0m\u001b[36m     test_ham_epoch      \u001b[0m\u001b[36m \u001b[0m│\u001b[35m \u001b[0m\u001b[35m   0.2992461323738098    \u001b[0m\u001b[35m \u001b[0m│\n",
       "│\u001b[36m \u001b[0m\u001b[36m     test_loss_epoch     \u001b[0m\u001b[36m \u001b[0m│\u001b[35m \u001b[0m\u001b[35m   0.5761222839355469    \u001b[0m\u001b[35m \u001b[0m│\n",
       "└───────────────────────────┴───────────────────────────┘\n"
      ]
     },
     "metadata": {},
     "output_type": "display_data"
    },
    {
     "name": "stdout",
     "output_type": "stream",
     "text": [
      "  loss: 0.5761 | hamming: 0.2992 | f1_macro: 0.1686\n",
      "Fold 6/10\n"
     ]
    },
    {
     "name": "stderr",
     "output_type": "stream",
     "text": [
      "GPU available: True (mps), used: False\n",
      "TPU available: False, using: 0 TPU cores\n",
      "HPU available: False, using: 0 HPUs\n",
      "\n",
      "  | Name       | Type                      | Params | Mode \n",
      "-----------------------------------------------------------------\n",
      "0 | classifier | Sequential                | 333 K  | train\n",
      "1 | loss       | BCEWithLogitsLoss         | 0      | train\n",
      "2 | hamming    | MultilabelHammingDistance | 0      | train\n",
      "3 | f1_macro   | MultilabelF1Score         | 0      | train\n",
      "-----------------------------------------------------------------\n",
      "333 K     Trainable params\n",
      "0         Non-trainable params\n",
      "333 K     Total params\n",
      "1.332     Total estimated model params size (MB)\n",
      "17        Modules in train mode\n",
      "0         Modules in eval mode\n"
     ]
    },
    {
     "name": "stdout",
     "output_type": "stream",
     "text": [
      "Epoch 8: 100%|██████████| 34/34 [00:00<00:00, 175.05it/s, v_num=245, train_loss=0.545, train_ham=0.268, train_f1ma=0.372, val_loss_step=0.545, val_ham_step=0.312, val_f1ma_step=0.127, val_loss_epoch=0.571, val_ham_epoch=0.304, val_f1ma_epoch=0.154] \n"
     ]
    },
    {
     "name": "stderr",
     "output_type": "stream",
     "text": [
      "Restoring states from the checkpoint path at /Users/benjaminvaca/Documents/USFQ/semestre7/machine_learning/proyecto/lightning_logs/version_245/checkpoints/epoch=5-step=204.ckpt\n",
      "Loaded model weights from the checkpoint at /Users/benjaminvaca/Documents/USFQ/semestre7/machine_learning/proyecto/lightning_logs/version_245/checkpoints/epoch=5-step=204.ckpt\n"
     ]
    },
    {
     "name": "stdout",
     "output_type": "stream",
     "text": [
      "Validation DataLoader 0: 100%|██████████| 34/34 [00:00<00:00, 471.54it/s]"
     ]
    },
    {
     "name": "stderr",
     "output_type": "stream",
     "text": [
      "Restoring states from the checkpoint path at /Users/benjaminvaca/Documents/USFQ/semestre7/machine_learning/proyecto/lightning_logs/version_245/checkpoints/epoch=5-step=204.ckpt\n"
     ]
    },
    {
     "name": "stdout",
     "output_type": "stream",
     "text": [
      "\n"
     ]
    },
    {
     "name": "stderr",
     "output_type": "stream",
     "text": [
      "Loaded model weights from the checkpoint at /Users/benjaminvaca/Documents/USFQ/semestre7/machine_learning/proyecto/lightning_logs/version_245/checkpoints/epoch=5-step=204.ckpt\n"
     ]
    },
    {
     "name": "stdout",
     "output_type": "stream",
     "text": [
      "Validation DataLoader 0: 100%|██████████| 9/9 [00:00<00:00, 438.34it/s]"
     ]
    },
    {
     "name": "stderr",
     "output_type": "stream",
     "text": [
      "Restoring states from the checkpoint path at /Users/benjaminvaca/Documents/USFQ/semestre7/machine_learning/proyecto/lightning_logs/version_245/checkpoints/epoch=5-step=204.ckpt\n"
     ]
    },
    {
     "name": "stdout",
     "output_type": "stream",
     "text": [
      "\n"
     ]
    },
    {
     "name": "stderr",
     "output_type": "stream",
     "text": [
      "Loaded model weights from the checkpoint at /Users/benjaminvaca/Documents/USFQ/semestre7/machine_learning/proyecto/lightning_logs/version_245/checkpoints/epoch=5-step=204.ckpt\n"
     ]
    },
    {
     "name": "stdout",
     "output_type": "stream",
     "text": [
      "Testing DataLoader 0: 100%|██████████| 11/11 [00:00<00:00, 453.51it/s]\n"
     ]
    },
    {
     "data": {
      "text/html": [
       "<pre style=\"white-space:pre;overflow-x:auto;line-height:normal;font-family:Menlo,'DejaVu Sans Mono',consolas,'Courier New',monospace\">┏━━━━━━━━━━━━━━━━━━━━━━━━━━━┳━━━━━━━━━━━━━━━━━━━━━━━━━━━┓\n",
       "┃<span style=\"font-weight: bold\">        Test metric        </span>┃<span style=\"font-weight: bold\">       DataLoader 0        </span>┃\n",
       "┡━━━━━━━━━━━━━━━━━━━━━━━━━━━╇━━━━━━━━━━━━━━━━━━━━━━━━━━━┩\n",
       "│<span style=\"color: #008080; text-decoration-color: #008080\">      test_f1ma_epoch      </span>│<span style=\"color: #800080; text-decoration-color: #800080\">    0.15915866196155548    </span>│\n",
       "│<span style=\"color: #008080; text-decoration-color: #008080\">      test_ham_epoch       </span>│<span style=\"color: #800080; text-decoration-color: #800080\">    0.2917076349258423     </span>│\n",
       "│<span style=\"color: #008080; text-decoration-color: #008080\">      test_loss_epoch      </span>│<span style=\"color: #800080; text-decoration-color: #800080\">     0.566623866558075     </span>│\n",
       "└───────────────────────────┴───────────────────────────┘\n",
       "</pre>\n"
      ],
      "text/plain": [
       "┏━━━━━━━━━━━━━━━━━━━━━━━━━━━┳━━━━━━━━━━━━━━━━━━━━━━━━━━━┓\n",
       "┃\u001b[1m \u001b[0m\u001b[1m       Test metric       \u001b[0m\u001b[1m \u001b[0m┃\u001b[1m \u001b[0m\u001b[1m      DataLoader 0       \u001b[0m\u001b[1m \u001b[0m┃\n",
       "┡━━━━━━━━━━━━━━━━━━━━━━━━━━━╇━━━━━━━━━━━━━━━━━━━━━━━━━━━┩\n",
       "│\u001b[36m \u001b[0m\u001b[36m     test_f1ma_epoch     \u001b[0m\u001b[36m \u001b[0m│\u001b[35m \u001b[0m\u001b[35m   0.15915866196155548   \u001b[0m\u001b[35m \u001b[0m│\n",
       "│\u001b[36m \u001b[0m\u001b[36m     test_ham_epoch      \u001b[0m\u001b[36m \u001b[0m│\u001b[35m \u001b[0m\u001b[35m   0.2917076349258423    \u001b[0m\u001b[35m \u001b[0m│\n",
       "│\u001b[36m \u001b[0m\u001b[36m     test_loss_epoch     \u001b[0m\u001b[36m \u001b[0m│\u001b[35m \u001b[0m\u001b[35m    0.566623866558075    \u001b[0m\u001b[35m \u001b[0m│\n",
       "└───────────────────────────┴───────────────────────────┘\n"
      ]
     },
     "metadata": {},
     "output_type": "display_data"
    },
    {
     "name": "stdout",
     "output_type": "stream",
     "text": [
      "  loss: 0.5666 | hamming: 0.2917 | f1_macro: 0.1592\n",
      "Fold 7/10\n"
     ]
    },
    {
     "name": "stderr",
     "output_type": "stream",
     "text": [
      "GPU available: True (mps), used: False\n",
      "TPU available: False, using: 0 TPU cores\n",
      "HPU available: False, using: 0 HPUs\n",
      "\n",
      "  | Name       | Type                      | Params | Mode \n",
      "-----------------------------------------------------------------\n",
      "0 | classifier | Sequential                | 333 K  | train\n",
      "1 | loss       | BCEWithLogitsLoss         | 0      | train\n",
      "2 | hamming    | MultilabelHammingDistance | 0      | train\n",
      "3 | f1_macro   | MultilabelF1Score         | 0      | train\n",
      "-----------------------------------------------------------------\n",
      "333 K     Trainable params\n",
      "0         Non-trainable params\n",
      "333 K     Total params\n",
      "1.332     Total estimated model params size (MB)\n",
      "17        Modules in train mode\n",
      "0         Modules in eval mode\n"
     ]
    },
    {
     "name": "stdout",
     "output_type": "stream",
     "text": [
      "Epoch 6: 100%|██████████| 34/34 [00:00<00:00, 176.42it/s, v_num=246, train_loss=0.544, train_ham=0.276, train_f1ma=0.337, val_loss_step=0.502, val_ham_step=0.208, val_f1ma_step=0.136, val_loss_epoch=0.574, val_ham_epoch=0.312, val_f1ma_epoch=0.147] "
     ]
    },
    {
     "name": "stderr",
     "output_type": "stream",
     "text": [
      "Restoring states from the checkpoint path at /Users/benjaminvaca/Documents/USFQ/semestre7/machine_learning/proyecto/lightning_logs/version_246/checkpoints/epoch=3-step=136.ckpt\n",
      "Loaded model weights from the checkpoint at /Users/benjaminvaca/Documents/USFQ/semestre7/machine_learning/proyecto/lightning_logs/version_246/checkpoints/epoch=3-step=136.ckpt\n"
     ]
    },
    {
     "name": "stdout",
     "output_type": "stream",
     "text": [
      "\n",
      "Validation DataLoader 0: 100%|██████████| 34/34 [00:00<00:00, 355.60it/s]"
     ]
    },
    {
     "name": "stderr",
     "output_type": "stream",
     "text": [
      "Restoring states from the checkpoint path at /Users/benjaminvaca/Documents/USFQ/semestre7/machine_learning/proyecto/lightning_logs/version_246/checkpoints/epoch=3-step=136.ckpt\n"
     ]
    },
    {
     "name": "stdout",
     "output_type": "stream",
     "text": [
      "\n"
     ]
    },
    {
     "name": "stderr",
     "output_type": "stream",
     "text": [
      "Loaded model weights from the checkpoint at /Users/benjaminvaca/Documents/USFQ/semestre7/machine_learning/proyecto/lightning_logs/version_246/checkpoints/epoch=3-step=136.ckpt\n"
     ]
    },
    {
     "name": "stdout",
     "output_type": "stream",
     "text": [
      "Validation DataLoader 0: 100%|██████████| 9/9 [00:00<00:00, 453.45it/s]"
     ]
    },
    {
     "name": "stderr",
     "output_type": "stream",
     "text": [
      "Restoring states from the checkpoint path at /Users/benjaminvaca/Documents/USFQ/semestre7/machine_learning/proyecto/lightning_logs/version_246/checkpoints/epoch=3-step=136.ckpt\n"
     ]
    },
    {
     "name": "stdout",
     "output_type": "stream",
     "text": [
      "\n"
     ]
    },
    {
     "name": "stderr",
     "output_type": "stream",
     "text": [
      "Loaded model weights from the checkpoint at /Users/benjaminvaca/Documents/USFQ/semestre7/machine_learning/proyecto/lightning_logs/version_246/checkpoints/epoch=3-step=136.ckpt\n"
     ]
    },
    {
     "name": "stdout",
     "output_type": "stream",
     "text": [
      "Testing DataLoader 0: 100%|██████████| 11/11 [00:00<00:00, 470.10it/s]\n"
     ]
    },
    {
     "data": {
      "text/html": [
       "<pre style=\"white-space:pre;overflow-x:auto;line-height:normal;font-family:Menlo,'DejaVu Sans Mono',consolas,'Courier New',monospace\">┏━━━━━━━━━━━━━━━━━━━━━━━━━━━┳━━━━━━━━━━━━━━━━━━━━━━━━━━━┓\n",
       "┃<span style=\"font-weight: bold\">        Test metric        </span>┃<span style=\"font-weight: bold\">       DataLoader 0        </span>┃\n",
       "┡━━━━━━━━━━━━━━━━━━━━━━━━━━━╇━━━━━━━━━━━━━━━━━━━━━━━━━━━┩\n",
       "│<span style=\"color: #008080; text-decoration-color: #008080\">      test_f1ma_epoch      </span>│<span style=\"color: #800080; text-decoration-color: #800080\">    0.17158326506614685    </span>│\n",
       "│<span style=\"color: #008080; text-decoration-color: #008080\">      test_ham_epoch       </span>│<span style=\"color: #800080; text-decoration-color: #800080\">    0.2822025418281555     </span>│\n",
       "│<span style=\"color: #008080; text-decoration-color: #008080\">      test_loss_epoch      </span>│<span style=\"color: #800080; text-decoration-color: #800080\">    0.5723153352737427     </span>│\n",
       "└───────────────────────────┴───────────────────────────┘\n",
       "</pre>\n"
      ],
      "text/plain": [
       "┏━━━━━━━━━━━━━━━━━━━━━━━━━━━┳━━━━━━━━━━━━━━━━━━━━━━━━━━━┓\n",
       "┃\u001b[1m \u001b[0m\u001b[1m       Test metric       \u001b[0m\u001b[1m \u001b[0m┃\u001b[1m \u001b[0m\u001b[1m      DataLoader 0       \u001b[0m\u001b[1m \u001b[0m┃\n",
       "┡━━━━━━━━━━━━━━━━━━━━━━━━━━━╇━━━━━━━━━━━━━━━━━━━━━━━━━━━┩\n",
       "│\u001b[36m \u001b[0m\u001b[36m     test_f1ma_epoch     \u001b[0m\u001b[36m \u001b[0m│\u001b[35m \u001b[0m\u001b[35m   0.17158326506614685   \u001b[0m\u001b[35m \u001b[0m│\n",
       "│\u001b[36m \u001b[0m\u001b[36m     test_ham_epoch      \u001b[0m\u001b[36m \u001b[0m│\u001b[35m \u001b[0m\u001b[35m   0.2822025418281555    \u001b[0m\u001b[35m \u001b[0m│\n",
       "│\u001b[36m \u001b[0m\u001b[36m     test_loss_epoch     \u001b[0m\u001b[36m \u001b[0m│\u001b[35m \u001b[0m\u001b[35m   0.5723153352737427    \u001b[0m\u001b[35m \u001b[0m│\n",
       "└───────────────────────────┴───────────────────────────┘\n"
      ]
     },
     "metadata": {},
     "output_type": "display_data"
    },
    {
     "name": "stdout",
     "output_type": "stream",
     "text": [
      "  loss: 0.5723 | hamming: 0.2822 | f1_macro: 0.1716\n",
      "Fold 8/10\n"
     ]
    },
    {
     "name": "stderr",
     "output_type": "stream",
     "text": [
      "GPU available: True (mps), used: False\n",
      "TPU available: False, using: 0 TPU cores\n",
      "HPU available: False, using: 0 HPUs\n",
      "\n",
      "  | Name       | Type                      | Params | Mode \n",
      "-----------------------------------------------------------------\n",
      "0 | classifier | Sequential                | 333 K  | train\n",
      "1 | loss       | BCEWithLogitsLoss         | 0      | train\n",
      "2 | hamming    | MultilabelHammingDistance | 0      | train\n",
      "3 | f1_macro   | MultilabelF1Score         | 0      | train\n",
      "-----------------------------------------------------------------\n",
      "333 K     Trainable params\n",
      "0         Non-trainable params\n",
      "333 K     Total params\n",
      "1.332     Total estimated model params size (MB)\n",
      "17        Modules in train mode\n",
      "0         Modules in eval mode\n"
     ]
    },
    {
     "name": "stdout",
     "output_type": "stream",
     "text": [
      "Epoch 8: 100%|██████████| 34/34 [00:00<00:00, 176.56it/s, v_num=247, train_loss=0.575, train_ham=0.311, train_f1ma=0.282, val_loss_step=0.598, val_ham_step=0.393, val_f1ma_step=0.0509, val_loss_epoch=0.558, val_ham_epoch=0.284, val_f1ma_epoch=0.162] \n"
     ]
    },
    {
     "name": "stderr",
     "output_type": "stream",
     "text": [
      "Restoring states from the checkpoint path at /Users/benjaminvaca/Documents/USFQ/semestre7/machine_learning/proyecto/lightning_logs/version_247/checkpoints/epoch=5-step=204.ckpt\n",
      "Loaded model weights from the checkpoint at /Users/benjaminvaca/Documents/USFQ/semestre7/machine_learning/proyecto/lightning_logs/version_247/checkpoints/epoch=5-step=204.ckpt\n"
     ]
    },
    {
     "name": "stdout",
     "output_type": "stream",
     "text": [
      "Validation DataLoader 0: 100%|██████████| 34/34 [00:00<00:00, 436.28it/s]\n"
     ]
    },
    {
     "name": "stderr",
     "output_type": "stream",
     "text": [
      "Restoring states from the checkpoint path at /Users/benjaminvaca/Documents/USFQ/semestre7/machine_learning/proyecto/lightning_logs/version_247/checkpoints/epoch=5-step=204.ckpt\n",
      "Loaded model weights from the checkpoint at /Users/benjaminvaca/Documents/USFQ/semestre7/machine_learning/proyecto/lightning_logs/version_247/checkpoints/epoch=5-step=204.ckpt\n"
     ]
    },
    {
     "name": "stdout",
     "output_type": "stream",
     "text": [
      "Validation DataLoader 0: 100%|██████████| 9/9 [00:00<00:00, 204.32it/s]"
     ]
    },
    {
     "name": "stderr",
     "output_type": "stream",
     "text": [
      "Restoring states from the checkpoint path at /Users/benjaminvaca/Documents/USFQ/semestre7/machine_learning/proyecto/lightning_logs/version_247/checkpoints/epoch=5-step=204.ckpt\n"
     ]
    },
    {
     "name": "stdout",
     "output_type": "stream",
     "text": [
      "\n"
     ]
    },
    {
     "name": "stderr",
     "output_type": "stream",
     "text": [
      "Loaded model weights from the checkpoint at /Users/benjaminvaca/Documents/USFQ/semestre7/machine_learning/proyecto/lightning_logs/version_247/checkpoints/epoch=5-step=204.ckpt\n"
     ]
    },
    {
     "name": "stdout",
     "output_type": "stream",
     "text": [
      "Testing DataLoader 0: 100%|██████████| 11/11 [00:00<00:00, 399.51it/s]\n"
     ]
    },
    {
     "data": {
      "text/html": [
       "<pre style=\"white-space:pre;overflow-x:auto;line-height:normal;font-family:Menlo,'DejaVu Sans Mono',consolas,'Courier New',monospace\">┏━━━━━━━━━━━━━━━━━━━━━━━━━━━┳━━━━━━━━━━━━━━━━━━━━━━━━━━━┓\n",
       "┃<span style=\"font-weight: bold\">        Test metric        </span>┃<span style=\"font-weight: bold\">       DataLoader 0        </span>┃\n",
       "┡━━━━━━━━━━━━━━━━━━━━━━━━━━━╇━━━━━━━━━━━━━━━━━━━━━━━━━━━┩\n",
       "│<span style=\"color: #008080; text-decoration-color: #008080\">      test_f1ma_epoch      </span>│<span style=\"color: #800080; text-decoration-color: #800080\">    0.1683831810951233     </span>│\n",
       "│<span style=\"color: #008080; text-decoration-color: #008080\">      test_ham_epoch       </span>│<span style=\"color: #800080; text-decoration-color: #800080\">    0.28679123520851135    </span>│\n",
       "│<span style=\"color: #008080; text-decoration-color: #008080\">      test_loss_epoch      </span>│<span style=\"color: #800080; text-decoration-color: #800080\">    0.5661500692367554     </span>│\n",
       "└───────────────────────────┴───────────────────────────┘\n",
       "</pre>\n"
      ],
      "text/plain": [
       "┏━━━━━━━━━━━━━━━━━━━━━━━━━━━┳━━━━━━━━━━━━━━━━━━━━━━━━━━━┓\n",
       "┃\u001b[1m \u001b[0m\u001b[1m       Test metric       \u001b[0m\u001b[1m \u001b[0m┃\u001b[1m \u001b[0m\u001b[1m      DataLoader 0       \u001b[0m\u001b[1m \u001b[0m┃\n",
       "┡━━━━━━━━━━━━━━━━━━━━━━━━━━━╇━━━━━━━━━━━━━━━━━━━━━━━━━━━┩\n",
       "│\u001b[36m \u001b[0m\u001b[36m     test_f1ma_epoch     \u001b[0m\u001b[36m \u001b[0m│\u001b[35m \u001b[0m\u001b[35m   0.1683831810951233    \u001b[0m\u001b[35m \u001b[0m│\n",
       "│\u001b[36m \u001b[0m\u001b[36m     test_ham_epoch      \u001b[0m\u001b[36m \u001b[0m│\u001b[35m \u001b[0m\u001b[35m   0.28679123520851135   \u001b[0m\u001b[35m \u001b[0m│\n",
       "│\u001b[36m \u001b[0m\u001b[36m     test_loss_epoch     \u001b[0m\u001b[36m \u001b[0m│\u001b[35m \u001b[0m\u001b[35m   0.5661500692367554    \u001b[0m\u001b[35m \u001b[0m│\n",
       "└───────────────────────────┴───────────────────────────┘\n"
      ]
     },
     "metadata": {},
     "output_type": "display_data"
    },
    {
     "name": "stdout",
     "output_type": "stream",
     "text": [
      "  loss: 0.5662 | hamming: 0.2868 | f1_macro: 0.1684\n",
      "Fold 9/10\n"
     ]
    },
    {
     "name": "stderr",
     "output_type": "stream",
     "text": [
      "GPU available: True (mps), used: False\n",
      "TPU available: False, using: 0 TPU cores\n",
      "HPU available: False, using: 0 HPUs\n",
      "\n",
      "  | Name       | Type                      | Params | Mode \n",
      "-----------------------------------------------------------------\n",
      "0 | classifier | Sequential                | 333 K  | train\n",
      "1 | loss       | BCEWithLogitsLoss         | 0      | train\n",
      "2 | hamming    | MultilabelHammingDistance | 0      | train\n",
      "3 | f1_macro   | MultilabelF1Score         | 0      | train\n",
      "-----------------------------------------------------------------\n",
      "333 K     Trainable params\n",
      "0         Non-trainable params\n",
      "333 K     Total params\n",
      "1.332     Total estimated model params size (MB)\n",
      "17        Modules in train mode\n",
      "0         Modules in eval mode\n"
     ]
    },
    {
     "name": "stdout",
     "output_type": "stream",
     "text": [
      "Epoch 9: 100%|██████████| 34/34 [00:00<00:00, 177.58it/s, v_num=248, train_loss=0.537, train_ham=0.281, train_f1ma=0.330, val_loss_step=0.607, val_ham_step=0.422, val_f1ma_step=0.0278, val_loss_epoch=0.555, val_ham_epoch=0.289, val_f1ma_epoch=0.174]\n"
     ]
    },
    {
     "name": "stderr",
     "output_type": "stream",
     "text": [
      "Restoring states from the checkpoint path at /Users/benjaminvaca/Documents/USFQ/semestre7/machine_learning/proyecto/lightning_logs/version_248/checkpoints/epoch=6-step=238.ckpt\n",
      "Loaded model weights from the checkpoint at /Users/benjaminvaca/Documents/USFQ/semestre7/machine_learning/proyecto/lightning_logs/version_248/checkpoints/epoch=6-step=238.ckpt\n"
     ]
    },
    {
     "name": "stdout",
     "output_type": "stream",
     "text": [
      "Validation DataLoader 0: 100%|██████████| 34/34 [00:00<00:00, 491.68it/s]"
     ]
    },
    {
     "name": "stderr",
     "output_type": "stream",
     "text": [
      "Restoring states from the checkpoint path at /Users/benjaminvaca/Documents/USFQ/semestre7/machine_learning/proyecto/lightning_logs/version_248/checkpoints/epoch=6-step=238.ckpt\n"
     ]
    },
    {
     "name": "stdout",
     "output_type": "stream",
     "text": [
      "\n"
     ]
    },
    {
     "name": "stderr",
     "output_type": "stream",
     "text": [
      "Loaded model weights from the checkpoint at /Users/benjaminvaca/Documents/USFQ/semestre7/machine_learning/proyecto/lightning_logs/version_248/checkpoints/epoch=6-step=238.ckpt\n"
     ]
    },
    {
     "name": "stdout",
     "output_type": "stream",
     "text": [
      "Validation DataLoader 0: 100%|██████████| 9/9 [00:00<00:00, 477.12it/s]"
     ]
    },
    {
     "name": "stderr",
     "output_type": "stream",
     "text": [
      "Restoring states from the checkpoint path at /Users/benjaminvaca/Documents/USFQ/semestre7/machine_learning/proyecto/lightning_logs/version_248/checkpoints/epoch=6-step=238.ckpt\n"
     ]
    },
    {
     "name": "stdout",
     "output_type": "stream",
     "text": [
      "\n"
     ]
    },
    {
     "name": "stderr",
     "output_type": "stream",
     "text": [
      "Loaded model weights from the checkpoint at /Users/benjaminvaca/Documents/USFQ/semestre7/machine_learning/proyecto/lightning_logs/version_248/checkpoints/epoch=6-step=238.ckpt\n"
     ]
    },
    {
     "name": "stdout",
     "output_type": "stream",
     "text": [
      "Testing DataLoader 0: 100%|██████████| 11/11 [00:00<00:00, 247.89it/s]\n"
     ]
    },
    {
     "data": {
      "text/html": [
       "<pre style=\"white-space:pre;overflow-x:auto;line-height:normal;font-family:Menlo,'DejaVu Sans Mono',consolas,'Courier New',monospace\">┏━━━━━━━━━━━━━━━━━━━━━━━━━━━┳━━━━━━━━━━━━━━━━━━━━━━━━━━━┓\n",
       "┃<span style=\"font-weight: bold\">        Test metric        </span>┃<span style=\"font-weight: bold\">       DataLoader 0        </span>┃\n",
       "┡━━━━━━━━━━━━━━━━━━━━━━━━━━━╇━━━━━━━━━━━━━━━━━━━━━━━━━━━┩\n",
       "│<span style=\"color: #008080; text-decoration-color: #008080\">      test_f1ma_epoch      </span>│<span style=\"color: #800080; text-decoration-color: #800080\">    0.16080056130886078    </span>│\n",
       "│<span style=\"color: #008080; text-decoration-color: #008080\">      test_ham_epoch       </span>│<span style=\"color: #800080; text-decoration-color: #800080\">    0.28711897134780884    </span>│\n",
       "│<span style=\"color: #008080; text-decoration-color: #008080\">      test_loss_epoch      </span>│<span style=\"color: #800080; text-decoration-color: #800080\">    0.5543873906135559     </span>│\n",
       "└───────────────────────────┴───────────────────────────┘\n",
       "</pre>\n"
      ],
      "text/plain": [
       "┏━━━━━━━━━━━━━━━━━━━━━━━━━━━┳━━━━━━━━━━━━━━━━━━━━━━━━━━━┓\n",
       "┃\u001b[1m \u001b[0m\u001b[1m       Test metric       \u001b[0m\u001b[1m \u001b[0m┃\u001b[1m \u001b[0m\u001b[1m      DataLoader 0       \u001b[0m\u001b[1m \u001b[0m┃\n",
       "┡━━━━━━━━━━━━━━━━━━━━━━━━━━━╇━━━━━━━━━━━━━━━━━━━━━━━━━━━┩\n",
       "│\u001b[36m \u001b[0m\u001b[36m     test_f1ma_epoch     \u001b[0m\u001b[36m \u001b[0m│\u001b[35m \u001b[0m\u001b[35m   0.16080056130886078   \u001b[0m\u001b[35m \u001b[0m│\n",
       "│\u001b[36m \u001b[0m\u001b[36m     test_ham_epoch      \u001b[0m\u001b[36m \u001b[0m│\u001b[35m \u001b[0m\u001b[35m   0.28711897134780884   \u001b[0m\u001b[35m \u001b[0m│\n",
       "│\u001b[36m \u001b[0m\u001b[36m     test_loss_epoch     \u001b[0m\u001b[36m \u001b[0m│\u001b[35m \u001b[0m\u001b[35m   0.5543873906135559    \u001b[0m\u001b[35m \u001b[0m│\n",
       "└───────────────────────────┴───────────────────────────┘\n"
      ]
     },
     "metadata": {},
     "output_type": "display_data"
    },
    {
     "name": "stdout",
     "output_type": "stream",
     "text": [
      "  loss: 0.5544 | hamming: 0.2871 | f1_macro: 0.1608\n",
      "Fold 10/10\n"
     ]
    },
    {
     "name": "stderr",
     "output_type": "stream",
     "text": [
      "GPU available: True (mps), used: False\n",
      "TPU available: False, using: 0 TPU cores\n",
      "HPU available: False, using: 0 HPUs\n",
      "\n",
      "  | Name       | Type                      | Params | Mode \n",
      "-----------------------------------------------------------------\n",
      "0 | classifier | Sequential                | 333 K  | train\n",
      "1 | loss       | BCEWithLogitsLoss         | 0      | train\n",
      "2 | hamming    | MultilabelHammingDistance | 0      | train\n",
      "3 | f1_macro   | MultilabelF1Score         | 0      | train\n",
      "-----------------------------------------------------------------\n",
      "333 K     Trainable params\n",
      "0         Non-trainable params\n",
      "333 K     Total params\n",
      "1.332     Total estimated model params size (MB)\n",
      "17        Modules in train mode\n",
      "0         Modules in eval mode\n"
     ]
    },
    {
     "name": "stdout",
     "output_type": "stream",
     "text": [
      "Epoch 5: 100%|██████████| 34/34 [00:00<00:00, 170.93it/s, v_num=249, train_loss=0.576, train_ham=0.285, train_f1ma=0.284, val_loss_step=0.568, val_ham_step=0.370, val_f1ma_step=0.0729, val_loss_epoch=0.567, val_ham_epoch=0.291, val_f1ma_epoch=0.166]\n"
     ]
    },
    {
     "name": "stderr",
     "output_type": "stream",
     "text": [
      "Restoring states from the checkpoint path at /Users/benjaminvaca/Documents/USFQ/semestre7/machine_learning/proyecto/lightning_logs/version_249/checkpoints/epoch=2-step=102.ckpt\n",
      "Loaded model weights from the checkpoint at /Users/benjaminvaca/Documents/USFQ/semestre7/machine_learning/proyecto/lightning_logs/version_249/checkpoints/epoch=2-step=102.ckpt\n"
     ]
    },
    {
     "name": "stdout",
     "output_type": "stream",
     "text": [
      "Validation DataLoader 0: 100%|██████████| 34/34 [00:00<00:00, 480.92it/s]"
     ]
    },
    {
     "name": "stderr",
     "output_type": "stream",
     "text": [
      "Restoring states from the checkpoint path at /Users/benjaminvaca/Documents/USFQ/semestre7/machine_learning/proyecto/lightning_logs/version_249/checkpoints/epoch=2-step=102.ckpt\n"
     ]
    },
    {
     "name": "stdout",
     "output_type": "stream",
     "text": [
      "\n"
     ]
    },
    {
     "name": "stderr",
     "output_type": "stream",
     "text": [
      "Loaded model weights from the checkpoint at /Users/benjaminvaca/Documents/USFQ/semestre7/machine_learning/proyecto/lightning_logs/version_249/checkpoints/epoch=2-step=102.ckpt\n"
     ]
    },
    {
     "name": "stdout",
     "output_type": "stream",
     "text": [
      "Validation DataLoader 0: 100%|██████████| 9/9 [00:00<00:00, 482.26it/s]"
     ]
    },
    {
     "name": "stderr",
     "output_type": "stream",
     "text": [
      "Restoring states from the checkpoint path at /Users/benjaminvaca/Documents/USFQ/semestre7/machine_learning/proyecto/lightning_logs/version_249/checkpoints/epoch=2-step=102.ckpt\n"
     ]
    },
    {
     "name": "stdout",
     "output_type": "stream",
     "text": [
      "\n"
     ]
    },
    {
     "name": "stderr",
     "output_type": "stream",
     "text": [
      "Loaded model weights from the checkpoint at /Users/benjaminvaca/Documents/USFQ/semestre7/machine_learning/proyecto/lightning_logs/version_249/checkpoints/epoch=2-step=102.ckpt\n"
     ]
    },
    {
     "name": "stdout",
     "output_type": "stream",
     "text": [
      "Testing DataLoader 0: 100%|██████████| 11/11 [00:00<00:00, 461.41it/s]\n"
     ]
    },
    {
     "data": {
      "text/html": [
       "<pre style=\"white-space:pre;overflow-x:auto;line-height:normal;font-family:Menlo,'DejaVu Sans Mono',consolas,'Courier New',monospace\">┏━━━━━━━━━━━━━━━━━━━━━━━━━━━┳━━━━━━━━━━━━━━━━━━━━━━━━━━━┓\n",
       "┃<span style=\"font-weight: bold\">        Test metric        </span>┃<span style=\"font-weight: bold\">       DataLoader 0        </span>┃\n",
       "┡━━━━━━━━━━━━━━━━━━━━━━━━━━━╇━━━━━━━━━━━━━━━━━━━━━━━━━━━┩\n",
       "│<span style=\"color: #008080; text-decoration-color: #008080\">      test_f1ma_epoch      </span>│<span style=\"color: #800080; text-decoration-color: #800080\">    0.1787697821855545     </span>│\n",
       "│<span style=\"color: #008080; text-decoration-color: #008080\">      test_ham_epoch       </span>│<span style=\"color: #800080; text-decoration-color: #800080\">    0.2799082100391388     </span>│\n",
       "│<span style=\"color: #008080; text-decoration-color: #008080\">      test_loss_epoch      </span>│<span style=\"color: #800080; text-decoration-color: #800080\">    0.5705420970916748     </span>│\n",
       "└───────────────────────────┴───────────────────────────┘\n",
       "</pre>\n"
      ],
      "text/plain": [
       "┏━━━━━━━━━━━━━━━━━━━━━━━━━━━┳━━━━━━━━━━━━━━━━━━━━━━━━━━━┓\n",
       "┃\u001b[1m \u001b[0m\u001b[1m       Test metric       \u001b[0m\u001b[1m \u001b[0m┃\u001b[1m \u001b[0m\u001b[1m      DataLoader 0       \u001b[0m\u001b[1m \u001b[0m┃\n",
       "┡━━━━━━━━━━━━━━━━━━━━━━━━━━━╇━━━━━━━━━━━━━━━━━━━━━━━━━━━┩\n",
       "│\u001b[36m \u001b[0m\u001b[36m     test_f1ma_epoch     \u001b[0m\u001b[36m \u001b[0m│\u001b[35m \u001b[0m\u001b[35m   0.1787697821855545    \u001b[0m\u001b[35m \u001b[0m│\n",
       "│\u001b[36m \u001b[0m\u001b[36m     test_ham_epoch      \u001b[0m\u001b[36m \u001b[0m│\u001b[35m \u001b[0m\u001b[35m   0.2799082100391388    \u001b[0m\u001b[35m \u001b[0m│\n",
       "│\u001b[36m \u001b[0m\u001b[36m     test_loss_epoch     \u001b[0m\u001b[36m \u001b[0m│\u001b[35m \u001b[0m\u001b[35m   0.5705420970916748    \u001b[0m\u001b[35m \u001b[0m│\n",
       "└───────────────────────────┴───────────────────────────┘\n"
      ]
     },
     "metadata": {},
     "output_type": "display_data"
    },
    {
     "name": "stdout",
     "output_type": "stream",
     "text": [
      "  loss: 0.5705 | hamming: 0.2799 | f1_macro: 0.1788\n",
      "\n",
      "F1-macro promedio: 0.1682 ± 0.0080\n",
      "Hamming promedio: 0.2918 ± 0.0085\n",
      "Pérdida promedio:         0.5719 ± 0.0119\n",
      "HU=[256, 256, 256]  L2=0.01 → val_f1ma: 0.1682\n",
      "Fold 1/10\n"
     ]
    },
    {
     "name": "stderr",
     "output_type": "stream",
     "text": [
      "GPU available: True (mps), used: False\n",
      "TPU available: False, using: 0 TPU cores\n",
      "HPU available: False, using: 0 HPUs\n",
      "\n",
      "  | Name       | Type                      | Params | Mode \n",
      "-----------------------------------------------------------------\n",
      "0 | classifier | Sequential                | 333 K  | train\n",
      "1 | loss       | BCEWithLogitsLoss         | 0      | train\n",
      "2 | hamming    | MultilabelHammingDistance | 0      | train\n",
      "3 | f1_macro   | MultilabelF1Score         | 0      | train\n",
      "-----------------------------------------------------------------\n",
      "333 K     Trainable params\n",
      "0         Non-trainable params\n",
      "333 K     Total params\n",
      "1.332     Total estimated model params size (MB)\n",
      "17        Modules in train mode\n",
      "0         Modules in eval mode\n"
     ]
    },
    {
     "name": "stdout",
     "output_type": "stream",
     "text": [
      "Epoch 4: 100%|██████████| 34/34 [00:00<00:00, 186.52it/s, v_num=250, train_loss=0.561, train_ham=0.307, train_f1ma=0.279, val_loss_step=0.551, val_ham_step=0.361, val_f1ma_step=0.088, val_loss_epoch=0.547, val_ham_epoch=0.275, val_f1ma_epoch=0.206] "
     ]
    },
    {
     "name": "stderr",
     "output_type": "stream",
     "text": [
      "Restoring states from the checkpoint path at /Users/benjaminvaca/Documents/USFQ/semestre7/machine_learning/proyecto/lightning_logs/version_250/checkpoints/epoch=1-step=68.ckpt\n"
     ]
    },
    {
     "name": "stdout",
     "output_type": "stream",
     "text": [
      "\n"
     ]
    },
    {
     "name": "stderr",
     "output_type": "stream",
     "text": [
      "Loaded model weights from the checkpoint at /Users/benjaminvaca/Documents/USFQ/semestre7/machine_learning/proyecto/lightning_logs/version_250/checkpoints/epoch=1-step=68.ckpt\n"
     ]
    },
    {
     "name": "stdout",
     "output_type": "stream",
     "text": [
      "Validation DataLoader 0: 100%|██████████| 34/34 [00:00<00:00, 497.27it/s]"
     ]
    },
    {
     "name": "stderr",
     "output_type": "stream",
     "text": [
      "Restoring states from the checkpoint path at /Users/benjaminvaca/Documents/USFQ/semestre7/machine_learning/proyecto/lightning_logs/version_250/checkpoints/epoch=1-step=68.ckpt\n"
     ]
    },
    {
     "name": "stdout",
     "output_type": "stream",
     "text": [
      "\n"
     ]
    },
    {
     "name": "stderr",
     "output_type": "stream",
     "text": [
      "Loaded model weights from the checkpoint at /Users/benjaminvaca/Documents/USFQ/semestre7/machine_learning/proyecto/lightning_logs/version_250/checkpoints/epoch=1-step=68.ckpt\n"
     ]
    },
    {
     "name": "stdout",
     "output_type": "stream",
     "text": [
      "Validation DataLoader 0: 100%|██████████| 9/9 [00:00<00:00, 473.39it/s]\n"
     ]
    },
    {
     "name": "stderr",
     "output_type": "stream",
     "text": [
      "Restoring states from the checkpoint path at /Users/benjaminvaca/Documents/USFQ/semestre7/machine_learning/proyecto/lightning_logs/version_250/checkpoints/epoch=1-step=68.ckpt\n",
      "Loaded model weights from the checkpoint at /Users/benjaminvaca/Documents/USFQ/semestre7/machine_learning/proyecto/lightning_logs/version_250/checkpoints/epoch=1-step=68.ckpt\n"
     ]
    },
    {
     "name": "stdout",
     "output_type": "stream",
     "text": [
      "Testing DataLoader 0: 100%|██████████| 11/11 [00:00<00:00, 478.40it/s]\n"
     ]
    },
    {
     "data": {
      "text/html": [
       "<pre style=\"white-space:pre;overflow-x:auto;line-height:normal;font-family:Menlo,'DejaVu Sans Mono',consolas,'Courier New',monospace\">┏━━━━━━━━━━━━━━━━━━━━━━━━━━━┳━━━━━━━━━━━━━━━━━━━━━━━━━━━┓\n",
       "┃<span style=\"font-weight: bold\">        Test metric        </span>┃<span style=\"font-weight: bold\">       DataLoader 0        </span>┃\n",
       "┡━━━━━━━━━━━━━━━━━━━━━━━━━━━╇━━━━━━━━━━━━━━━━━━━━━━━━━━━┩\n",
       "│<span style=\"color: #008080; text-decoration-color: #008080\">      test_f1ma_epoch      </span>│<span style=\"color: #800080; text-decoration-color: #800080\">    0.2271798700094223     </span>│\n",
       "│<span style=\"color: #008080; text-decoration-color: #008080\">      test_ham_epoch       </span>│<span style=\"color: #800080; text-decoration-color: #800080\">    0.28449687361717224    </span>│\n",
       "│<span style=\"color: #008080; text-decoration-color: #008080\">      test_loss_epoch      </span>│<span style=\"color: #800080; text-decoration-color: #800080\">    0.5703866481781006     </span>│\n",
       "└───────────────────────────┴───────────────────────────┘\n",
       "</pre>\n"
      ],
      "text/plain": [
       "┏━━━━━━━━━━━━━━━━━━━━━━━━━━━┳━━━━━━━━━━━━━━━━━━━━━━━━━━━┓\n",
       "┃\u001b[1m \u001b[0m\u001b[1m       Test metric       \u001b[0m\u001b[1m \u001b[0m┃\u001b[1m \u001b[0m\u001b[1m      DataLoader 0       \u001b[0m\u001b[1m \u001b[0m┃\n",
       "┡━━━━━━━━━━━━━━━━━━━━━━━━━━━╇━━━━━━━━━━━━━━━━━━━━━━━━━━━┩\n",
       "│\u001b[36m \u001b[0m\u001b[36m     test_f1ma_epoch     \u001b[0m\u001b[36m \u001b[0m│\u001b[35m \u001b[0m\u001b[35m   0.2271798700094223    \u001b[0m\u001b[35m \u001b[0m│\n",
       "│\u001b[36m \u001b[0m\u001b[36m     test_ham_epoch      \u001b[0m\u001b[36m \u001b[0m│\u001b[35m \u001b[0m\u001b[35m   0.28449687361717224   \u001b[0m\u001b[35m \u001b[0m│\n",
       "│\u001b[36m \u001b[0m\u001b[36m     test_loss_epoch     \u001b[0m\u001b[36m \u001b[0m│\u001b[35m \u001b[0m\u001b[35m   0.5703866481781006    \u001b[0m\u001b[35m \u001b[0m│\n",
       "└───────────────────────────┴───────────────────────────┘\n"
      ]
     },
     "metadata": {},
     "output_type": "display_data"
    },
    {
     "name": "stdout",
     "output_type": "stream",
     "text": [
      "  loss: 0.5704 | hamming: 0.2845 | f1_macro: 0.2272\n",
      "Fold 2/10\n"
     ]
    },
    {
     "name": "stderr",
     "output_type": "stream",
     "text": [
      "GPU available: True (mps), used: False\n",
      "TPU available: False, using: 0 TPU cores\n",
      "HPU available: False, using: 0 HPUs\n",
      "\n",
      "  | Name       | Type                      | Params | Mode \n",
      "-----------------------------------------------------------------\n",
      "0 | classifier | Sequential                | 333 K  | train\n",
      "1 | loss       | BCEWithLogitsLoss         | 0      | train\n",
      "2 | hamming    | MultilabelHammingDistance | 0      | train\n",
      "3 | f1_macro   | MultilabelF1Score         | 0      | train\n",
      "-----------------------------------------------------------------\n",
      "333 K     Trainable params\n",
      "0         Non-trainable params\n",
      "333 K     Total params\n",
      "1.332     Total estimated model params size (MB)\n",
      "17        Modules in train mode\n",
      "0         Modules in eval mode\n"
     ]
    },
    {
     "name": "stdout",
     "output_type": "stream",
     "text": [
      "Epoch 4: 100%|██████████| 34/34 [00:00<00:00, 187.04it/s, v_num=251, train_loss=0.562, train_ham=0.299, train_f1ma=0.280, val_loss_step=0.639, val_ham_step=0.431, val_f1ma_step=0.0378, val_loss_epoch=0.565, val_ham_epoch=0.312, val_f1ma_epoch=0.169]\n"
     ]
    },
    {
     "name": "stderr",
     "output_type": "stream",
     "text": [
      "Restoring states from the checkpoint path at /Users/benjaminvaca/Documents/USFQ/semestre7/machine_learning/proyecto/lightning_logs/version_251/checkpoints/epoch=1-step=68.ckpt\n",
      "Loaded model weights from the checkpoint at /Users/benjaminvaca/Documents/USFQ/semestre7/machine_learning/proyecto/lightning_logs/version_251/checkpoints/epoch=1-step=68.ckpt\n"
     ]
    },
    {
     "name": "stdout",
     "output_type": "stream",
     "text": [
      "Validation DataLoader 0: 100%|██████████| 34/34 [00:00<00:00, 504.51it/s]\n"
     ]
    },
    {
     "name": "stderr",
     "output_type": "stream",
     "text": [
      "Restoring states from the checkpoint path at /Users/benjaminvaca/Documents/USFQ/semestre7/machine_learning/proyecto/lightning_logs/version_251/checkpoints/epoch=1-step=68.ckpt\n",
      "Loaded model weights from the checkpoint at /Users/benjaminvaca/Documents/USFQ/semestre7/machine_learning/proyecto/lightning_logs/version_251/checkpoints/epoch=1-step=68.ckpt\n"
     ]
    },
    {
     "name": "stdout",
     "output_type": "stream",
     "text": [
      "Validation DataLoader 0: 100%|██████████| 9/9 [00:00<00:00, 221.41it/s]"
     ]
    },
    {
     "name": "stderr",
     "output_type": "stream",
     "text": [
      "Restoring states from the checkpoint path at /Users/benjaminvaca/Documents/USFQ/semestre7/machine_learning/proyecto/lightning_logs/version_251/checkpoints/epoch=1-step=68.ckpt\n"
     ]
    },
    {
     "name": "stdout",
     "output_type": "stream",
     "text": [
      "\n"
     ]
    },
    {
     "name": "stderr",
     "output_type": "stream",
     "text": [
      "Loaded model weights from the checkpoint at /Users/benjaminvaca/Documents/USFQ/semestre7/machine_learning/proyecto/lightning_logs/version_251/checkpoints/epoch=1-step=68.ckpt\n"
     ]
    },
    {
     "name": "stdout",
     "output_type": "stream",
     "text": [
      "Testing DataLoader 0: 100%|██████████| 11/11 [00:00<00:00, 428.79it/s]\n"
     ]
    },
    {
     "data": {
      "text/html": [
       "<pre style=\"white-space:pre;overflow-x:auto;line-height:normal;font-family:Menlo,'DejaVu Sans Mono',consolas,'Courier New',monospace\">┏━━━━━━━━━━━━━━━━━━━━━━━━━━━┳━━━━━━━━━━━━━━━━━━━━━━━━━━━┓\n",
       "┃<span style=\"font-weight: bold\">        Test metric        </span>┃<span style=\"font-weight: bold\">       DataLoader 0        </span>┃\n",
       "┡━━━━━━━━━━━━━━━━━━━━━━━━━━━╇━━━━━━━━━━━━━━━━━━━━━━━━━━━┩\n",
       "│<span style=\"color: #008080; text-decoration-color: #008080\">      test_f1ma_epoch      </span>│<span style=\"color: #800080; text-decoration-color: #800080\">    0.17762093245983124    </span>│\n",
       "│<span style=\"color: #008080; text-decoration-color: #008080\">      test_ham_epoch       </span>│<span style=\"color: #800080; text-decoration-color: #800080\">    0.2910521328449249     </span>│\n",
       "│<span style=\"color: #008080; text-decoration-color: #008080\">      test_loss_epoch      </span>│<span style=\"color: #800080; text-decoration-color: #800080\">    0.5739039778709412     </span>│\n",
       "└───────────────────────────┴───────────────────────────┘\n",
       "</pre>\n"
      ],
      "text/plain": [
       "┏━━━━━━━━━━━━━━━━━━━━━━━━━━━┳━━━━━━━━━━━━━━━━━━━━━━━━━━━┓\n",
       "┃\u001b[1m \u001b[0m\u001b[1m       Test metric       \u001b[0m\u001b[1m \u001b[0m┃\u001b[1m \u001b[0m\u001b[1m      DataLoader 0       \u001b[0m\u001b[1m \u001b[0m┃\n",
       "┡━━━━━━━━━━━━━━━━━━━━━━━━━━━╇━━━━━━━━━━━━━━━━━━━━━━━━━━━┩\n",
       "│\u001b[36m \u001b[0m\u001b[36m     test_f1ma_epoch     \u001b[0m\u001b[36m \u001b[0m│\u001b[35m \u001b[0m\u001b[35m   0.17762093245983124   \u001b[0m\u001b[35m \u001b[0m│\n",
       "│\u001b[36m \u001b[0m\u001b[36m     test_ham_epoch      \u001b[0m\u001b[36m \u001b[0m│\u001b[35m \u001b[0m\u001b[35m   0.2910521328449249    \u001b[0m\u001b[35m \u001b[0m│\n",
       "│\u001b[36m \u001b[0m\u001b[36m     test_loss_epoch     \u001b[0m\u001b[36m \u001b[0m│\u001b[35m \u001b[0m\u001b[35m   0.5739039778709412    \u001b[0m\u001b[35m \u001b[0m│\n",
       "└───────────────────────────┴───────────────────────────┘\n"
      ]
     },
     "metadata": {},
     "output_type": "display_data"
    },
    {
     "name": "stdout",
     "output_type": "stream",
     "text": [
      "  loss: 0.5739 | hamming: 0.2911 | f1_macro: 0.1776\n",
      "Fold 3/10\n"
     ]
    },
    {
     "name": "stderr",
     "output_type": "stream",
     "text": [
      "GPU available: True (mps), used: False\n",
      "TPU available: False, using: 0 TPU cores\n",
      "HPU available: False, using: 0 HPUs\n",
      "\n",
      "  | Name       | Type                      | Params | Mode \n",
      "-----------------------------------------------------------------\n",
      "0 | classifier | Sequential                | 333 K  | train\n",
      "1 | loss       | BCEWithLogitsLoss         | 0      | train\n",
      "2 | hamming    | MultilabelHammingDistance | 0      | train\n",
      "3 | f1_macro   | MultilabelF1Score         | 0      | train\n",
      "-----------------------------------------------------------------\n",
      "333 K     Trainable params\n",
      "0         Non-trainable params\n",
      "333 K     Total params\n",
      "1.332     Total estimated model params size (MB)\n",
      "17        Modules in train mode\n",
      "0         Modules in eval mode\n"
     ]
    },
    {
     "name": "stdout",
     "output_type": "stream",
     "text": [
      "Epoch 5: 100%|██████████| 34/34 [00:00<00:00, 164.36it/s, v_num=252, train_loss=0.517, train_ham=0.263, train_f1ma=0.341, val_loss_step=0.515, val_ham_step=0.215, val_f1ma_step=0.137, val_loss_epoch=0.570, val_ham_epoch=0.323, val_f1ma_epoch=0.163] \n"
     ]
    },
    {
     "name": "stderr",
     "output_type": "stream",
     "text": [
      "Restoring states from the checkpoint path at /Users/benjaminvaca/Documents/USFQ/semestre7/machine_learning/proyecto/lightning_logs/version_252/checkpoints/epoch=2-step=102.ckpt\n",
      "Loaded model weights from the checkpoint at /Users/benjaminvaca/Documents/USFQ/semestre7/machine_learning/proyecto/lightning_logs/version_252/checkpoints/epoch=2-step=102.ckpt\n"
     ]
    },
    {
     "name": "stdout",
     "output_type": "stream",
     "text": [
      "Validation DataLoader 0: 100%|██████████| 34/34 [00:00<00:00, 490.15it/s]\n"
     ]
    },
    {
     "name": "stderr",
     "output_type": "stream",
     "text": [
      "Restoring states from the checkpoint path at /Users/benjaminvaca/Documents/USFQ/semestre7/machine_learning/proyecto/lightning_logs/version_252/checkpoints/epoch=2-step=102.ckpt\n",
      "Loaded model weights from the checkpoint at /Users/benjaminvaca/Documents/USFQ/semestre7/machine_learning/proyecto/lightning_logs/version_252/checkpoints/epoch=2-step=102.ckpt\n"
     ]
    },
    {
     "name": "stdout",
     "output_type": "stream",
     "text": [
      "Validation DataLoader 0: 100%|██████████| 9/9 [00:00<00:00, 448.43it/s]"
     ]
    },
    {
     "name": "stderr",
     "output_type": "stream",
     "text": [
      "Restoring states from the checkpoint path at /Users/benjaminvaca/Documents/USFQ/semestre7/machine_learning/proyecto/lightning_logs/version_252/checkpoints/epoch=2-step=102.ckpt\n"
     ]
    },
    {
     "name": "stdout",
     "output_type": "stream",
     "text": [
      "\n"
     ]
    },
    {
     "name": "stderr",
     "output_type": "stream",
     "text": [
      "Loaded model weights from the checkpoint at /Users/benjaminvaca/Documents/USFQ/semestre7/machine_learning/proyecto/lightning_logs/version_252/checkpoints/epoch=2-step=102.ckpt\n"
     ]
    },
    {
     "name": "stdout",
     "output_type": "stream",
     "text": [
      "Testing DataLoader 0: 100%|██████████| 11/11 [00:00<00:00, 437.22it/s]\n"
     ]
    },
    {
     "data": {
      "text/html": [
       "<pre style=\"white-space:pre;overflow-x:auto;line-height:normal;font-family:Menlo,'DejaVu Sans Mono',consolas,'Courier New',monospace\">┏━━━━━━━━━━━━━━━━━━━━━━━━━━━┳━━━━━━━━━━━━━━━━━━━━━━━━━━━┓\n",
       "┃<span style=\"font-weight: bold\">        Test metric        </span>┃<span style=\"font-weight: bold\">       DataLoader 0        </span>┃\n",
       "┡━━━━━━━━━━━━━━━━━━━━━━━━━━━╇━━━━━━━━━━━━━━━━━━━━━━━━━━━┩\n",
       "│<span style=\"color: #008080; text-decoration-color: #008080\">      test_f1ma_epoch      </span>│<span style=\"color: #800080; text-decoration-color: #800080\">    0.16516834497451782    </span>│\n",
       "│<span style=\"color: #008080; text-decoration-color: #008080\">      test_ham_epoch       </span>│<span style=\"color: #800080; text-decoration-color: #800080\">    0.3048180937767029     </span>│\n",
       "│<span style=\"color: #008080; text-decoration-color: #008080\">      test_loss_epoch      </span>│<span style=\"color: #800080; text-decoration-color: #800080\">    0.5695518851280212     </span>│\n",
       "└───────────────────────────┴───────────────────────────┘\n",
       "</pre>\n"
      ],
      "text/plain": [
       "┏━━━━━━━━━━━━━━━━━━━━━━━━━━━┳━━━━━━━━━━━━━━━━━━━━━━━━━━━┓\n",
       "┃\u001b[1m \u001b[0m\u001b[1m       Test metric       \u001b[0m\u001b[1m \u001b[0m┃\u001b[1m \u001b[0m\u001b[1m      DataLoader 0       \u001b[0m\u001b[1m \u001b[0m┃\n",
       "┡━━━━━━━━━━━━━━━━━━━━━━━━━━━╇━━━━━━━━━━━━━━━━━━━━━━━━━━━┩\n",
       "│\u001b[36m \u001b[0m\u001b[36m     test_f1ma_epoch     \u001b[0m\u001b[36m \u001b[0m│\u001b[35m \u001b[0m\u001b[35m   0.16516834497451782   \u001b[0m\u001b[35m \u001b[0m│\n",
       "│\u001b[36m \u001b[0m\u001b[36m     test_ham_epoch      \u001b[0m\u001b[36m \u001b[0m│\u001b[35m \u001b[0m\u001b[35m   0.3048180937767029    \u001b[0m\u001b[35m \u001b[0m│\n",
       "│\u001b[36m \u001b[0m\u001b[36m     test_loss_epoch     \u001b[0m\u001b[36m \u001b[0m│\u001b[35m \u001b[0m\u001b[35m   0.5695518851280212    \u001b[0m\u001b[35m \u001b[0m│\n",
       "└───────────────────────────┴───────────────────────────┘\n"
      ]
     },
     "metadata": {},
     "output_type": "display_data"
    },
    {
     "name": "stdout",
     "output_type": "stream",
     "text": [
      "  loss: 0.5696 | hamming: 0.3048 | f1_macro: 0.1652\n",
      "Fold 4/10\n"
     ]
    },
    {
     "name": "stderr",
     "output_type": "stream",
     "text": [
      "GPU available: True (mps), used: False\n",
      "TPU available: False, using: 0 TPU cores\n",
      "HPU available: False, using: 0 HPUs\n",
      "\n",
      "  | Name       | Type                      | Params | Mode \n",
      "-----------------------------------------------------------------\n",
      "0 | classifier | Sequential                | 333 K  | train\n",
      "1 | loss       | BCEWithLogitsLoss         | 0      | train\n",
      "2 | hamming    | MultilabelHammingDistance | 0      | train\n",
      "3 | f1_macro   | MultilabelF1Score         | 0      | train\n",
      "-----------------------------------------------------------------\n",
      "333 K     Trainable params\n",
      "0         Non-trainable params\n",
      "333 K     Total params\n",
      "1.332     Total estimated model params size (MB)\n",
      "17        Modules in train mode\n",
      "0         Modules in eval mode\n"
     ]
    },
    {
     "name": "stdout",
     "output_type": "stream",
     "text": [
      "Epoch 3: 100%|██████████| 34/34 [00:00<00:00, 183.84it/s, v_num=253, train_loss=0.588, train_ham=0.333, train_f1ma=0.227, val_loss_step=0.565, val_ham_step=0.244, val_f1ma_step=0.150, val_loss_epoch=0.565, val_ham_epoch=0.310, val_f1ma_epoch=0.147] \n"
     ]
    },
    {
     "name": "stderr",
     "output_type": "stream",
     "text": [
      "Restoring states from the checkpoint path at /Users/benjaminvaca/Documents/USFQ/semestre7/machine_learning/proyecto/lightning_logs/version_253/checkpoints/epoch=0-step=34.ckpt\n",
      "Loaded model weights from the checkpoint at /Users/benjaminvaca/Documents/USFQ/semestre7/machine_learning/proyecto/lightning_logs/version_253/checkpoints/epoch=0-step=34.ckpt\n"
     ]
    },
    {
     "name": "stdout",
     "output_type": "stream",
     "text": [
      "Validation DataLoader 0: 100%|██████████| 34/34 [00:00<00:00, 497.61it/s]\n"
     ]
    },
    {
     "name": "stderr",
     "output_type": "stream",
     "text": [
      "Restoring states from the checkpoint path at /Users/benjaminvaca/Documents/USFQ/semestre7/machine_learning/proyecto/lightning_logs/version_253/checkpoints/epoch=0-step=34.ckpt\n",
      "Loaded model weights from the checkpoint at /Users/benjaminvaca/Documents/USFQ/semestre7/machine_learning/proyecto/lightning_logs/version_253/checkpoints/epoch=0-step=34.ckpt\n"
     ]
    },
    {
     "name": "stdout",
     "output_type": "stream",
     "text": [
      "Validation DataLoader 0: 100%|██████████| 9/9 [00:00<00:00, 464.18it/s]"
     ]
    },
    {
     "name": "stderr",
     "output_type": "stream",
     "text": [
      "Restoring states from the checkpoint path at /Users/benjaminvaca/Documents/USFQ/semestre7/machine_learning/proyecto/lightning_logs/version_253/checkpoints/epoch=0-step=34.ckpt\n"
     ]
    },
    {
     "name": "stdout",
     "output_type": "stream",
     "text": [
      "\n"
     ]
    },
    {
     "name": "stderr",
     "output_type": "stream",
     "text": [
      "Loaded model weights from the checkpoint at /Users/benjaminvaca/Documents/USFQ/semestre7/machine_learning/proyecto/lightning_logs/version_253/checkpoints/epoch=0-step=34.ckpt\n"
     ]
    },
    {
     "name": "stdout",
     "output_type": "stream",
     "text": [
      "Testing DataLoader 0: 100%|██████████| 11/11 [00:00<00:00, 483.65it/s]\n"
     ]
    },
    {
     "data": {
      "text/html": [
       "<pre style=\"white-space:pre;overflow-x:auto;line-height:normal;font-family:Menlo,'DejaVu Sans Mono',consolas,'Courier New',monospace\">┏━━━━━━━━━━━━━━━━━━━━━━━━━━━┳━━━━━━━━━━━━━━━━━━━━━━━━━━━┓\n",
       "┃<span style=\"font-weight: bold\">        Test metric        </span>┃<span style=\"font-weight: bold\">       DataLoader 0        </span>┃\n",
       "┡━━━━━━━━━━━━━━━━━━━━━━━━━━━╇━━━━━━━━━━━━━━━━━━━━━━━━━━━┩\n",
       "│<span style=\"color: #008080; text-decoration-color: #008080\">      test_f1ma_epoch      </span>│<span style=\"color: #800080; text-decoration-color: #800080\">    0.21442149579524994    </span>│\n",
       "│<span style=\"color: #008080; text-decoration-color: #008080\">      test_ham_epoch       </span>│<span style=\"color: #800080; text-decoration-color: #800080\">    0.31301212310791016    </span>│\n",
       "│<span style=\"color: #008080; text-decoration-color: #008080\">      test_loss_epoch      </span>│<span style=\"color: #800080; text-decoration-color: #800080\">    0.5918697714805603     </span>│\n",
       "└───────────────────────────┴───────────────────────────┘\n",
       "</pre>\n"
      ],
      "text/plain": [
       "┏━━━━━━━━━━━━━━━━━━━━━━━━━━━┳━━━━━━━━━━━━━━━━━━━━━━━━━━━┓\n",
       "┃\u001b[1m \u001b[0m\u001b[1m       Test metric       \u001b[0m\u001b[1m \u001b[0m┃\u001b[1m \u001b[0m\u001b[1m      DataLoader 0       \u001b[0m\u001b[1m \u001b[0m┃\n",
       "┡━━━━━━━━━━━━━━━━━━━━━━━━━━━╇━━━━━━━━━━━━━━━━━━━━━━━━━━━┩\n",
       "│\u001b[36m \u001b[0m\u001b[36m     test_f1ma_epoch     \u001b[0m\u001b[36m \u001b[0m│\u001b[35m \u001b[0m\u001b[35m   0.21442149579524994   \u001b[0m\u001b[35m \u001b[0m│\n",
       "│\u001b[36m \u001b[0m\u001b[36m     test_ham_epoch      \u001b[0m\u001b[36m \u001b[0m│\u001b[35m \u001b[0m\u001b[35m   0.31301212310791016   \u001b[0m\u001b[35m \u001b[0m│\n",
       "│\u001b[36m \u001b[0m\u001b[36m     test_loss_epoch     \u001b[0m\u001b[36m \u001b[0m│\u001b[35m \u001b[0m\u001b[35m   0.5918697714805603    \u001b[0m\u001b[35m \u001b[0m│\n",
       "└───────────────────────────┴───────────────────────────┘\n"
      ]
     },
     "metadata": {},
     "output_type": "display_data"
    },
    {
     "name": "stdout",
     "output_type": "stream",
     "text": [
      "  loss: 0.5919 | hamming: 0.3130 | f1_macro: 0.2144\n",
      "Fold 5/10\n"
     ]
    },
    {
     "name": "stderr",
     "output_type": "stream",
     "text": [
      "GPU available: True (mps), used: False\n",
      "TPU available: False, using: 0 TPU cores\n",
      "HPU available: False, using: 0 HPUs\n",
      "\n",
      "  | Name       | Type                      | Params | Mode \n",
      "-----------------------------------------------------------------\n",
      "0 | classifier | Sequential                | 333 K  | train\n",
      "1 | loss       | BCEWithLogitsLoss         | 0      | train\n",
      "2 | hamming    | MultilabelHammingDistance | 0      | train\n",
      "3 | f1_macro   | MultilabelF1Score         | 0      | train\n",
      "-----------------------------------------------------------------\n",
      "333 K     Trainable params\n",
      "0         Non-trainable params\n",
      "333 K     Total params\n",
      "1.332     Total estimated model params size (MB)\n",
      "17        Modules in train mode\n",
      "0         Modules in eval mode\n"
     ]
    },
    {
     "name": "stdout",
     "output_type": "stream",
     "text": [
      "Epoch 4: 100%|██████████| 34/34 [00:00<00:00, 188.00it/s, v_num=254, train_loss=0.562, train_ham=0.285, train_f1ma=0.320, val_loss_step=0.546, val_ham_step=0.333, val_f1ma_step=0.119, val_loss_epoch=0.556, val_ham_epoch=0.285, val_f1ma_epoch=0.173]\n"
     ]
    },
    {
     "name": "stderr",
     "output_type": "stream",
     "text": [
      "Restoring states from the checkpoint path at /Users/benjaminvaca/Documents/USFQ/semestre7/machine_learning/proyecto/lightning_logs/version_254/checkpoints/epoch=1-step=68.ckpt\n",
      "Loaded model weights from the checkpoint at /Users/benjaminvaca/Documents/USFQ/semestre7/machine_learning/proyecto/lightning_logs/version_254/checkpoints/epoch=1-step=68.ckpt\n"
     ]
    },
    {
     "name": "stdout",
     "output_type": "stream",
     "text": [
      "Validation DataLoader 0: 100%|██████████| 34/34 [00:00<00:00, 496.77it/s]"
     ]
    },
    {
     "name": "stderr",
     "output_type": "stream",
     "text": [
      "Restoring states from the checkpoint path at /Users/benjaminvaca/Documents/USFQ/semestre7/machine_learning/proyecto/lightning_logs/version_254/checkpoints/epoch=1-step=68.ckpt\n"
     ]
    },
    {
     "name": "stdout",
     "output_type": "stream",
     "text": [
      "\n"
     ]
    },
    {
     "name": "stderr",
     "output_type": "stream",
     "text": [
      "Loaded model weights from the checkpoint at /Users/benjaminvaca/Documents/USFQ/semestre7/machine_learning/proyecto/lightning_logs/version_254/checkpoints/epoch=1-step=68.ckpt\n"
     ]
    },
    {
     "name": "stdout",
     "output_type": "stream",
     "text": [
      "Validation DataLoader 0: 100%|██████████| 9/9 [00:00<00:00, 442.66it/s]\n"
     ]
    },
    {
     "name": "stderr",
     "output_type": "stream",
     "text": [
      "Restoring states from the checkpoint path at /Users/benjaminvaca/Documents/USFQ/semestre7/machine_learning/proyecto/lightning_logs/version_254/checkpoints/epoch=1-step=68.ckpt\n",
      "Loaded model weights from the checkpoint at /Users/benjaminvaca/Documents/USFQ/semestre7/machine_learning/proyecto/lightning_logs/version_254/checkpoints/epoch=1-step=68.ckpt\n"
     ]
    },
    {
     "name": "stdout",
     "output_type": "stream",
     "text": [
      "Testing DataLoader 0: 100%|██████████| 11/11 [00:00<00:00, 246.23it/s]\n"
     ]
    },
    {
     "data": {
      "text/html": [
       "<pre style=\"white-space:pre;overflow-x:auto;line-height:normal;font-family:Menlo,'DejaVu Sans Mono',consolas,'Courier New',monospace\">┏━━━━━━━━━━━━━━━━━━━━━━━━━━━┳━━━━━━━━━━━━━━━━━━━━━━━━━━━┓\n",
       "┃<span style=\"font-weight: bold\">        Test metric        </span>┃<span style=\"font-weight: bold\">       DataLoader 0        </span>┃\n",
       "┡━━━━━━━━━━━━━━━━━━━━━━━━━━━╇━━━━━━━━━━━━━━━━━━━━━━━━━━━┩\n",
       "│<span style=\"color: #008080; text-decoration-color: #008080\">      test_f1ma_epoch      </span>│<span style=\"color: #800080; text-decoration-color: #800080\">    0.22822757065296173    </span>│\n",
       "│<span style=\"color: #008080; text-decoration-color: #008080\">      test_ham_epoch       </span>│<span style=\"color: #800080; text-decoration-color: #800080\">    0.28548017144203186    </span>│\n",
       "│<span style=\"color: #008080; text-decoration-color: #008080\">      test_loss_epoch      </span>│<span style=\"color: #800080; text-decoration-color: #800080\">    0.5695949196815491     </span>│\n",
       "└───────────────────────────┴───────────────────────────┘\n",
       "</pre>\n"
      ],
      "text/plain": [
       "┏━━━━━━━━━━━━━━━━━━━━━━━━━━━┳━━━━━━━━━━━━━━━━━━━━━━━━━━━┓\n",
       "┃\u001b[1m \u001b[0m\u001b[1m       Test metric       \u001b[0m\u001b[1m \u001b[0m┃\u001b[1m \u001b[0m\u001b[1m      DataLoader 0       \u001b[0m\u001b[1m \u001b[0m┃\n",
       "┡━━━━━━━━━━━━━━━━━━━━━━━━━━━╇━━━━━━━━━━━━━━━━━━━━━━━━━━━┩\n",
       "│\u001b[36m \u001b[0m\u001b[36m     test_f1ma_epoch     \u001b[0m\u001b[36m \u001b[0m│\u001b[35m \u001b[0m\u001b[35m   0.22822757065296173   \u001b[0m\u001b[35m \u001b[0m│\n",
       "│\u001b[36m \u001b[0m\u001b[36m     test_ham_epoch      \u001b[0m\u001b[36m \u001b[0m│\u001b[35m \u001b[0m\u001b[35m   0.28548017144203186   \u001b[0m\u001b[35m \u001b[0m│\n",
       "│\u001b[36m \u001b[0m\u001b[36m     test_loss_epoch     \u001b[0m\u001b[36m \u001b[0m│\u001b[35m \u001b[0m\u001b[35m   0.5695949196815491    \u001b[0m\u001b[35m \u001b[0m│\n",
       "└───────────────────────────┴───────────────────────────┘\n"
      ]
     },
     "metadata": {},
     "output_type": "display_data"
    },
    {
     "name": "stdout",
     "output_type": "stream",
     "text": [
      "  loss: 0.5696 | hamming: 0.2855 | f1_macro: 0.2282\n",
      "Fold 6/10\n"
     ]
    },
    {
     "name": "stderr",
     "output_type": "stream",
     "text": [
      "GPU available: True (mps), used: False\n",
      "TPU available: False, using: 0 TPU cores\n",
      "HPU available: False, using: 0 HPUs\n",
      "\n",
      "  | Name       | Type                      | Params | Mode \n",
      "-----------------------------------------------------------------\n",
      "0 | classifier | Sequential                | 333 K  | train\n",
      "1 | loss       | BCEWithLogitsLoss         | 0      | train\n",
      "2 | hamming    | MultilabelHammingDistance | 0      | train\n",
      "3 | f1_macro   | MultilabelF1Score         | 0      | train\n",
      "-----------------------------------------------------------------\n",
      "333 K     Trainable params\n",
      "0         Non-trainable params\n",
      "333 K     Total params\n",
      "1.332     Total estimated model params size (MB)\n",
      "17        Modules in train mode\n",
      "0         Modules in eval mode\n"
     ]
    },
    {
     "name": "stdout",
     "output_type": "stream",
     "text": [
      "Epoch 5: 100%|██████████| 34/34 [00:00<00:00, 183.64it/s, v_num=255, train_loss=0.536, train_ham=0.268, train_f1ma=0.379, val_loss_step=0.581, val_ham_step=0.354, val_f1ma_step=0.114, val_loss_epoch=0.561, val_ham_epoch=0.298, val_f1ma_epoch=0.178] \n"
     ]
    },
    {
     "name": "stderr",
     "output_type": "stream",
     "text": [
      "Restoring states from the checkpoint path at /Users/benjaminvaca/Documents/USFQ/semestre7/machine_learning/proyecto/lightning_logs/version_255/checkpoints/epoch=2-step=102.ckpt\n",
      "Loaded model weights from the checkpoint at /Users/benjaminvaca/Documents/USFQ/semestre7/machine_learning/proyecto/lightning_logs/version_255/checkpoints/epoch=2-step=102.ckpt\n"
     ]
    },
    {
     "name": "stdout",
     "output_type": "stream",
     "text": [
      "Validation DataLoader 0: 100%|██████████| 34/34 [00:00<00:00, 445.86it/s]"
     ]
    },
    {
     "name": "stderr",
     "output_type": "stream",
     "text": [
      "Restoring states from the checkpoint path at /Users/benjaminvaca/Documents/USFQ/semestre7/machine_learning/proyecto/lightning_logs/version_255/checkpoints/epoch=2-step=102.ckpt\n"
     ]
    },
    {
     "name": "stdout",
     "output_type": "stream",
     "text": [
      "\n"
     ]
    },
    {
     "name": "stderr",
     "output_type": "stream",
     "text": [
      "Loaded model weights from the checkpoint at /Users/benjaminvaca/Documents/USFQ/semestre7/machine_learning/proyecto/lightning_logs/version_255/checkpoints/epoch=2-step=102.ckpt\n"
     ]
    },
    {
     "name": "stdout",
     "output_type": "stream",
     "text": [
      "Validation DataLoader 0: 100%|██████████| 9/9 [00:00<00:00, 467.36it/s]"
     ]
    },
    {
     "name": "stderr",
     "output_type": "stream",
     "text": [
      "Restoring states from the checkpoint path at /Users/benjaminvaca/Documents/USFQ/semestre7/machine_learning/proyecto/lightning_logs/version_255/checkpoints/epoch=2-step=102.ckpt\n"
     ]
    },
    {
     "name": "stdout",
     "output_type": "stream",
     "text": [
      "\n"
     ]
    },
    {
     "name": "stderr",
     "output_type": "stream",
     "text": [
      "Loaded model weights from the checkpoint at /Users/benjaminvaca/Documents/USFQ/semestre7/machine_learning/proyecto/lightning_logs/version_255/checkpoints/epoch=2-step=102.ckpt\n"
     ]
    },
    {
     "name": "stdout",
     "output_type": "stream",
     "text": [
      "Testing DataLoader 0: 100%|██████████| 11/11 [00:00<00:00, 450.52it/s]\n"
     ]
    },
    {
     "data": {
      "text/html": [
       "<pre style=\"white-space:pre;overflow-x:auto;line-height:normal;font-family:Menlo,'DejaVu Sans Mono',consolas,'Courier New',monospace\">┏━━━━━━━━━━━━━━━━━━━━━━━━━━━┳━━━━━━━━━━━━━━━━━━━━━━━━━━━┓\n",
       "┃<span style=\"font-weight: bold\">        Test metric        </span>┃<span style=\"font-weight: bold\">       DataLoader 0        </span>┃\n",
       "┡━━━━━━━━━━━━━━━━━━━━━━━━━━━╇━━━━━━━━━━━━━━━━━━━━━━━━━━━┩\n",
       "│<span style=\"color: #008080; text-decoration-color: #008080\">      test_f1ma_epoch      </span>│<span style=\"color: #800080; text-decoration-color: #800080\">    0.18405309319496155    </span>│\n",
       "│<span style=\"color: #008080; text-decoration-color: #008080\">      test_ham_epoch       </span>│<span style=\"color: #800080; text-decoration-color: #800080\">    0.2818748354911804     </span>│\n",
       "│<span style=\"color: #008080; text-decoration-color: #008080\">      test_loss_epoch      </span>│<span style=\"color: #800080; text-decoration-color: #800080\">     0.569046676158905     </span>│\n",
       "└───────────────────────────┴───────────────────────────┘\n",
       "</pre>\n"
      ],
      "text/plain": [
       "┏━━━━━━━━━━━━━━━━━━━━━━━━━━━┳━━━━━━━━━━━━━━━━━━━━━━━━━━━┓\n",
       "┃\u001b[1m \u001b[0m\u001b[1m       Test metric       \u001b[0m\u001b[1m \u001b[0m┃\u001b[1m \u001b[0m\u001b[1m      DataLoader 0       \u001b[0m\u001b[1m \u001b[0m┃\n",
       "┡━━━━━━━━━━━━━━━━━━━━━━━━━━━╇━━━━━━━━━━━━━━━━━━━━━━━━━━━┩\n",
       "│\u001b[36m \u001b[0m\u001b[36m     test_f1ma_epoch     \u001b[0m\u001b[36m \u001b[0m│\u001b[35m \u001b[0m\u001b[35m   0.18405309319496155   \u001b[0m\u001b[35m \u001b[0m│\n",
       "│\u001b[36m \u001b[0m\u001b[36m     test_ham_epoch      \u001b[0m\u001b[36m \u001b[0m│\u001b[35m \u001b[0m\u001b[35m   0.2818748354911804    \u001b[0m\u001b[35m \u001b[0m│\n",
       "│\u001b[36m \u001b[0m\u001b[36m     test_loss_epoch     \u001b[0m\u001b[36m \u001b[0m│\u001b[35m \u001b[0m\u001b[35m    0.569046676158905    \u001b[0m\u001b[35m \u001b[0m│\n",
       "└───────────────────────────┴───────────────────────────┘\n"
      ]
     },
     "metadata": {},
     "output_type": "display_data"
    },
    {
     "name": "stdout",
     "output_type": "stream",
     "text": [
      "  loss: 0.5690 | hamming: 0.2819 | f1_macro: 0.1841\n",
      "Fold 7/10\n"
     ]
    },
    {
     "name": "stderr",
     "output_type": "stream",
     "text": [
      "GPU available: True (mps), used: False\n",
      "TPU available: False, using: 0 TPU cores\n",
      "HPU available: False, using: 0 HPUs\n",
      "\n",
      "  | Name       | Type                      | Params | Mode \n",
      "-----------------------------------------------------------------\n",
      "0 | classifier | Sequential                | 333 K  | train\n",
      "1 | loss       | BCEWithLogitsLoss         | 0      | train\n",
      "2 | hamming    | MultilabelHammingDistance | 0      | train\n",
      "3 | f1_macro   | MultilabelF1Score         | 0      | train\n",
      "-----------------------------------------------------------------\n",
      "333 K     Trainable params\n",
      "0         Non-trainable params\n",
      "333 K     Total params\n",
      "1.332     Total estimated model params size (MB)\n",
      "17        Modules in train mode\n",
      "0         Modules in eval mode\n"
     ]
    },
    {
     "name": "stdout",
     "output_type": "stream",
     "text": [
      "Epoch 15: 100%|██████████| 34/34 [00:00<00:00, 188.09it/s, v_num=256, train_loss=0.485, train_ham=0.199, train_f1ma=0.511, val_loss_step=0.555, val_ham_step=0.382, val_f1ma_step=0.0776, val_loss_epoch=0.559, val_ham_epoch=0.286, val_f1ma_epoch=0.219]\n"
     ]
    },
    {
     "name": "stderr",
     "output_type": "stream",
     "text": [
      "Restoring states from the checkpoint path at /Users/benjaminvaca/Documents/USFQ/semestre7/machine_learning/proyecto/lightning_logs/version_256/checkpoints/epoch=12-step=442.ckpt\n",
      "Loaded model weights from the checkpoint at /Users/benjaminvaca/Documents/USFQ/semestre7/machine_learning/proyecto/lightning_logs/version_256/checkpoints/epoch=12-step=442.ckpt\n"
     ]
    },
    {
     "name": "stdout",
     "output_type": "stream",
     "text": [
      "Validation DataLoader 0: 100%|██████████| 34/34 [00:00<00:00, 508.49it/s]\n"
     ]
    },
    {
     "name": "stderr",
     "output_type": "stream",
     "text": [
      "Restoring states from the checkpoint path at /Users/benjaminvaca/Documents/USFQ/semestre7/machine_learning/proyecto/lightning_logs/version_256/checkpoints/epoch=12-step=442.ckpt\n",
      "Loaded model weights from the checkpoint at /Users/benjaminvaca/Documents/USFQ/semestre7/machine_learning/proyecto/lightning_logs/version_256/checkpoints/epoch=12-step=442.ckpt\n"
     ]
    },
    {
     "name": "stdout",
     "output_type": "stream",
     "text": [
      "Validation DataLoader 0: 100%|██████████| 9/9 [00:00<00:00, 250.17it/s]"
     ]
    },
    {
     "name": "stderr",
     "output_type": "stream",
     "text": [
      "Restoring states from the checkpoint path at /Users/benjaminvaca/Documents/USFQ/semestre7/machine_learning/proyecto/lightning_logs/version_256/checkpoints/epoch=12-step=442.ckpt\n"
     ]
    },
    {
     "name": "stdout",
     "output_type": "stream",
     "text": [
      "\n"
     ]
    },
    {
     "name": "stderr",
     "output_type": "stream",
     "text": [
      "Loaded model weights from the checkpoint at /Users/benjaminvaca/Documents/USFQ/semestre7/machine_learning/proyecto/lightning_logs/version_256/checkpoints/epoch=12-step=442.ckpt\n"
     ]
    },
    {
     "name": "stdout",
     "output_type": "stream",
     "text": [
      "Testing DataLoader 0: 100%|██████████| 11/11 [00:00<00:00, 470.49it/s]\n"
     ]
    },
    {
     "data": {
      "text/html": [
       "<pre style=\"white-space:pre;overflow-x:auto;line-height:normal;font-family:Menlo,'DejaVu Sans Mono',consolas,'Courier New',monospace\">┏━━━━━━━━━━━━━━━━━━━━━━━━━━━┳━━━━━━━━━━━━━━━━━━━━━━━━━━━┓\n",
       "┃<span style=\"font-weight: bold\">        Test metric        </span>┃<span style=\"font-weight: bold\">       DataLoader 0        </span>┃\n",
       "┡━━━━━━━━━━━━━━━━━━━━━━━━━━━╇━━━━━━━━━━━━━━━━━━━━━━━━━━━┩\n",
       "│<span style=\"color: #008080; text-decoration-color: #008080\">      test_f1ma_epoch      </span>│<span style=\"color: #800080; text-decoration-color: #800080\">    0.20940382778644562    </span>│\n",
       "│<span style=\"color: #008080; text-decoration-color: #008080\">      test_ham_epoch       </span>│<span style=\"color: #800080; text-decoration-color: #800080\">    0.2812192440032959     </span>│\n",
       "│<span style=\"color: #008080; text-decoration-color: #008080\">      test_loss_epoch      </span>│<span style=\"color: #800080; text-decoration-color: #800080\">     0.542117178440094     </span>│\n",
       "└───────────────────────────┴───────────────────────────┘\n",
       "</pre>\n"
      ],
      "text/plain": [
       "┏━━━━━━━━━━━━━━━━━━━━━━━━━━━┳━━━━━━━━━━━━━━━━━━━━━━━━━━━┓\n",
       "┃\u001b[1m \u001b[0m\u001b[1m       Test metric       \u001b[0m\u001b[1m \u001b[0m┃\u001b[1m \u001b[0m\u001b[1m      DataLoader 0       \u001b[0m\u001b[1m \u001b[0m┃\n",
       "┡━━━━━━━━━━━━━━━━━━━━━━━━━━━╇━━━━━━━━━━━━━━━━━━━━━━━━━━━┩\n",
       "│\u001b[36m \u001b[0m\u001b[36m     test_f1ma_epoch     \u001b[0m\u001b[36m \u001b[0m│\u001b[35m \u001b[0m\u001b[35m   0.20940382778644562   \u001b[0m\u001b[35m \u001b[0m│\n",
       "│\u001b[36m \u001b[0m\u001b[36m     test_ham_epoch      \u001b[0m\u001b[36m \u001b[0m│\u001b[35m \u001b[0m\u001b[35m   0.2812192440032959    \u001b[0m\u001b[35m \u001b[0m│\n",
       "│\u001b[36m \u001b[0m\u001b[36m     test_loss_epoch     \u001b[0m\u001b[36m \u001b[0m│\u001b[35m \u001b[0m\u001b[35m    0.542117178440094    \u001b[0m\u001b[35m \u001b[0m│\n",
       "└───────────────────────────┴───────────────────────────┘\n"
      ]
     },
     "metadata": {},
     "output_type": "display_data"
    },
    {
     "name": "stdout",
     "output_type": "stream",
     "text": [
      "  loss: 0.5421 | hamming: 0.2812 | f1_macro: 0.2094\n",
      "Fold 8/10\n"
     ]
    },
    {
     "name": "stderr",
     "output_type": "stream",
     "text": [
      "GPU available: True (mps), used: False\n",
      "TPU available: False, using: 0 TPU cores\n",
      "HPU available: False, using: 0 HPUs\n",
      "\n",
      "  | Name       | Type                      | Params | Mode \n",
      "-----------------------------------------------------------------\n",
      "0 | classifier | Sequential                | 333 K  | train\n",
      "1 | loss       | BCEWithLogitsLoss         | 0      | train\n",
      "2 | hamming    | MultilabelHammingDistance | 0      | train\n",
      "3 | f1_macro   | MultilabelF1Score         | 0      | train\n",
      "-----------------------------------------------------------------\n",
      "333 K     Trainable params\n",
      "0         Non-trainable params\n",
      "333 K     Total params\n",
      "1.332     Total estimated model params size (MB)\n",
      "17        Modules in train mode\n",
      "0         Modules in eval mode\n"
     ]
    },
    {
     "name": "stdout",
     "output_type": "stream",
     "text": [
      "Epoch 4: 100%|██████████| 34/34 [00:00<00:00, 191.69it/s, v_num=257, train_loss=0.574, train_ham=0.285, train_f1ma=0.344, val_loss_step=0.613, val_ham_step=0.370, val_f1ma_step=0.0838, val_loss_epoch=0.554, val_ham_epoch=0.289, val_f1ma_epoch=0.172]\n"
     ]
    },
    {
     "name": "stderr",
     "output_type": "stream",
     "text": [
      "Restoring states from the checkpoint path at /Users/benjaminvaca/Documents/USFQ/semestre7/machine_learning/proyecto/lightning_logs/version_257/checkpoints/epoch=1-step=68.ckpt\n",
      "Loaded model weights from the checkpoint at /Users/benjaminvaca/Documents/USFQ/semestre7/machine_learning/proyecto/lightning_logs/version_257/checkpoints/epoch=1-step=68.ckpt\n"
     ]
    },
    {
     "name": "stdout",
     "output_type": "stream",
     "text": [
      "Validation DataLoader 0: 100%|██████████| 34/34 [00:00<00:00, 396.07it/s]\n"
     ]
    },
    {
     "name": "stderr",
     "output_type": "stream",
     "text": [
      "Restoring states from the checkpoint path at /Users/benjaminvaca/Documents/USFQ/semestre7/machine_learning/proyecto/lightning_logs/version_257/checkpoints/epoch=1-step=68.ckpt\n",
      "Loaded model weights from the checkpoint at /Users/benjaminvaca/Documents/USFQ/semestre7/machine_learning/proyecto/lightning_logs/version_257/checkpoints/epoch=1-step=68.ckpt\n"
     ]
    },
    {
     "name": "stdout",
     "output_type": "stream",
     "text": [
      "Validation DataLoader 0: 100%|██████████| 9/9 [00:00<00:00, 469.48it/s]"
     ]
    },
    {
     "name": "stderr",
     "output_type": "stream",
     "text": [
      "Restoring states from the checkpoint path at /Users/benjaminvaca/Documents/USFQ/semestre7/machine_learning/proyecto/lightning_logs/version_257/checkpoints/epoch=1-step=68.ckpt\n"
     ]
    },
    {
     "name": "stdout",
     "output_type": "stream",
     "text": [
      "\n"
     ]
    },
    {
     "name": "stderr",
     "output_type": "stream",
     "text": [
      "Loaded model weights from the checkpoint at /Users/benjaminvaca/Documents/USFQ/semestre7/machine_learning/proyecto/lightning_logs/version_257/checkpoints/epoch=1-step=68.ckpt\n"
     ]
    },
    {
     "name": "stdout",
     "output_type": "stream",
     "text": [
      "Testing DataLoader 0: 100%|██████████| 11/11 [00:00<00:00, 482.39it/s]\n"
     ]
    },
    {
     "data": {
      "text/html": [
       "<pre style=\"white-space:pre;overflow-x:auto;line-height:normal;font-family:Menlo,'DejaVu Sans Mono',consolas,'Courier New',monospace\">┏━━━━━━━━━━━━━━━━━━━━━━━━━━━┳━━━━━━━━━━━━━━━━━━━━━━━━━━━┓\n",
       "┃<span style=\"font-weight: bold\">        Test metric        </span>┃<span style=\"font-weight: bold\">       DataLoader 0        </span>┃\n",
       "┡━━━━━━━━━━━━━━━━━━━━━━━━━━━╇━━━━━━━━━━━━━━━━━━━━━━━━━━━┩\n",
       "│<span style=\"color: #008080; text-decoration-color: #008080\">      test_f1ma_epoch      </span>│<span style=\"color: #800080; text-decoration-color: #800080\">    0.16848771274089813    </span>│\n",
       "│<span style=\"color: #008080; text-decoration-color: #008080\">      test_ham_epoch       </span>│<span style=\"color: #800080; text-decoration-color: #800080\">    0.2848246693611145     </span>│\n",
       "│<span style=\"color: #008080; text-decoration-color: #008080\">      test_loss_epoch      </span>│<span style=\"color: #800080; text-decoration-color: #800080\">    0.5720657110214233     </span>│\n",
       "└───────────────────────────┴───────────────────────────┘\n",
       "</pre>\n"
      ],
      "text/plain": [
       "┏━━━━━━━━━━━━━━━━━━━━━━━━━━━┳━━━━━━━━━━━━━━━━━━━━━━━━━━━┓\n",
       "┃\u001b[1m \u001b[0m\u001b[1m       Test metric       \u001b[0m\u001b[1m \u001b[0m┃\u001b[1m \u001b[0m\u001b[1m      DataLoader 0       \u001b[0m\u001b[1m \u001b[0m┃\n",
       "┡━━━━━━━━━━━━━━━━━━━━━━━━━━━╇━━━━━━━━━━━━━━━━━━━━━━━━━━━┩\n",
       "│\u001b[36m \u001b[0m\u001b[36m     test_f1ma_epoch     \u001b[0m\u001b[36m \u001b[0m│\u001b[35m \u001b[0m\u001b[35m   0.16848771274089813   \u001b[0m\u001b[35m \u001b[0m│\n",
       "│\u001b[36m \u001b[0m\u001b[36m     test_ham_epoch      \u001b[0m\u001b[36m \u001b[0m│\u001b[35m \u001b[0m\u001b[35m   0.2848246693611145    \u001b[0m\u001b[35m \u001b[0m│\n",
       "│\u001b[36m \u001b[0m\u001b[36m     test_loss_epoch     \u001b[0m\u001b[36m \u001b[0m│\u001b[35m \u001b[0m\u001b[35m   0.5720657110214233    \u001b[0m\u001b[35m \u001b[0m│\n",
       "└───────────────────────────┴───────────────────────────┘\n"
      ]
     },
     "metadata": {},
     "output_type": "display_data"
    },
    {
     "name": "stdout",
     "output_type": "stream",
     "text": [
      "  loss: 0.5721 | hamming: 0.2848 | f1_macro: 0.1685\n",
      "Fold 9/10\n"
     ]
    },
    {
     "name": "stderr",
     "output_type": "stream",
     "text": [
      "GPU available: True (mps), used: False\n",
      "TPU available: False, using: 0 TPU cores\n",
      "HPU available: False, using: 0 HPUs\n",
      "\n",
      "  | Name       | Type                      | Params | Mode \n",
      "-----------------------------------------------------------------\n",
      "0 | classifier | Sequential                | 333 K  | train\n",
      "1 | loss       | BCEWithLogitsLoss         | 0      | train\n",
      "2 | hamming    | MultilabelHammingDistance | 0      | train\n",
      "3 | f1_macro   | MultilabelF1Score         | 0      | train\n",
      "-----------------------------------------------------------------\n",
      "333 K     Trainable params\n",
      "0         Non-trainable params\n",
      "333 K     Total params\n",
      "1.332     Total estimated model params size (MB)\n",
      "17        Modules in train mode\n",
      "0         Modules in eval mode\n"
     ]
    },
    {
     "name": "stdout",
     "output_type": "stream",
     "text": [
      "Epoch 8: 100%|██████████| 34/34 [00:00<00:00, 190.78it/s, v_num=258, train_loss=0.514, train_ham=0.274, train_f1ma=0.355, val_loss_step=0.525, val_ham_step=0.222, val_f1ma_step=0.144, val_loss_epoch=0.541, val_ham_epoch=0.297, val_f1ma_epoch=0.200] \n"
     ]
    },
    {
     "name": "stderr",
     "output_type": "stream",
     "text": [
      "Restoring states from the checkpoint path at /Users/benjaminvaca/Documents/USFQ/semestre7/machine_learning/proyecto/lightning_logs/version_258/checkpoints/epoch=5-step=204.ckpt\n",
      "Loaded model weights from the checkpoint at /Users/benjaminvaca/Documents/USFQ/semestre7/machine_learning/proyecto/lightning_logs/version_258/checkpoints/epoch=5-step=204.ckpt\n"
     ]
    },
    {
     "name": "stdout",
     "output_type": "stream",
     "text": [
      "Validation DataLoader 0: 100%|██████████| 34/34 [00:00<00:00, 514.98it/s]\n"
     ]
    },
    {
     "name": "stderr",
     "output_type": "stream",
     "text": [
      "Restoring states from the checkpoint path at /Users/benjaminvaca/Documents/USFQ/semestre7/machine_learning/proyecto/lightning_logs/version_258/checkpoints/epoch=5-step=204.ckpt\n",
      "Loaded model weights from the checkpoint at /Users/benjaminvaca/Documents/USFQ/semestre7/machine_learning/proyecto/lightning_logs/version_258/checkpoints/epoch=5-step=204.ckpt\n"
     ]
    },
    {
     "name": "stdout",
     "output_type": "stream",
     "text": [
      "Validation DataLoader 0: 100%|██████████| 9/9 [00:00<00:00, 483.89it/s]\n"
     ]
    },
    {
     "name": "stderr",
     "output_type": "stream",
     "text": [
      "Restoring states from the checkpoint path at /Users/benjaminvaca/Documents/USFQ/semestre7/machine_learning/proyecto/lightning_logs/version_258/checkpoints/epoch=5-step=204.ckpt\n",
      "Loaded model weights from the checkpoint at /Users/benjaminvaca/Documents/USFQ/semestre7/machine_learning/proyecto/lightning_logs/version_258/checkpoints/epoch=5-step=204.ckpt\n"
     ]
    },
    {
     "name": "stdout",
     "output_type": "stream",
     "text": [
      "Testing DataLoader 0: 100%|██████████| 11/11 [00:00<00:00, 257.32it/s]\n"
     ]
    },
    {
     "data": {
      "text/html": [
       "<pre style=\"white-space:pre;overflow-x:auto;line-height:normal;font-family:Menlo,'DejaVu Sans Mono',consolas,'Courier New',monospace\">┏━━━━━━━━━━━━━━━━━━━━━━━━━━━┳━━━━━━━━━━━━━━━━━━━━━━━━━━━┓\n",
       "┃<span style=\"font-weight: bold\">        Test metric        </span>┃<span style=\"font-weight: bold\">       DataLoader 0        </span>┃\n",
       "┡━━━━━━━━━━━━━━━━━━━━━━━━━━━╇━━━━━━━━━━━━━━━━━━━━━━━━━━━┩\n",
       "│<span style=\"color: #008080; text-decoration-color: #008080\">      test_f1ma_epoch      </span>│<span style=\"color: #800080; text-decoration-color: #800080\">    0.19748207926750183    </span>│\n",
       "│<span style=\"color: #008080; text-decoration-color: #008080\">      test_ham_epoch       </span>│<span style=\"color: #800080; text-decoration-color: #800080\">    0.29203540086746216    </span>│\n",
       "│<span style=\"color: #008080; text-decoration-color: #008080\">      test_loss_epoch      </span>│<span style=\"color: #800080; text-decoration-color: #800080\">    0.5598934888839722     </span>│\n",
       "└───────────────────────────┴───────────────────────────┘\n",
       "</pre>\n"
      ],
      "text/plain": [
       "┏━━━━━━━━━━━━━━━━━━━━━━━━━━━┳━━━━━━━━━━━━━━━━━━━━━━━━━━━┓\n",
       "┃\u001b[1m \u001b[0m\u001b[1m       Test metric       \u001b[0m\u001b[1m \u001b[0m┃\u001b[1m \u001b[0m\u001b[1m      DataLoader 0       \u001b[0m\u001b[1m \u001b[0m┃\n",
       "┡━━━━━━━━━━━━━━━━━━━━━━━━━━━╇━━━━━━━━━━━━━━━━━━━━━━━━━━━┩\n",
       "│\u001b[36m \u001b[0m\u001b[36m     test_f1ma_epoch     \u001b[0m\u001b[36m \u001b[0m│\u001b[35m \u001b[0m\u001b[35m   0.19748207926750183   \u001b[0m\u001b[35m \u001b[0m│\n",
       "│\u001b[36m \u001b[0m\u001b[36m     test_ham_epoch      \u001b[0m\u001b[36m \u001b[0m│\u001b[35m \u001b[0m\u001b[35m   0.29203540086746216   \u001b[0m\u001b[35m \u001b[0m│\n",
       "│\u001b[36m \u001b[0m\u001b[36m     test_loss_epoch     \u001b[0m\u001b[36m \u001b[0m│\u001b[35m \u001b[0m\u001b[35m   0.5598934888839722    \u001b[0m\u001b[35m \u001b[0m│\n",
       "└───────────────────────────┴───────────────────────────┘\n"
      ]
     },
     "metadata": {},
     "output_type": "display_data"
    },
    {
     "name": "stdout",
     "output_type": "stream",
     "text": [
      "  loss: 0.5599 | hamming: 0.2920 | f1_macro: 0.1975\n",
      "Fold 10/10\n"
     ]
    },
    {
     "name": "stderr",
     "output_type": "stream",
     "text": [
      "GPU available: True (mps), used: False\n",
      "TPU available: False, using: 0 TPU cores\n",
      "HPU available: False, using: 0 HPUs\n",
      "\n",
      "  | Name       | Type                      | Params | Mode \n",
      "-----------------------------------------------------------------\n",
      "0 | classifier | Sequential                | 333 K  | train\n",
      "1 | loss       | BCEWithLogitsLoss         | 0      | train\n",
      "2 | hamming    | MultilabelHammingDistance | 0      | train\n",
      "3 | f1_macro   | MultilabelF1Score         | 0      | train\n",
      "-----------------------------------------------------------------\n",
      "333 K     Trainable params\n",
      "0         Non-trainable params\n",
      "333 K     Total params\n",
      "1.332     Total estimated model params size (MB)\n",
      "17        Modules in train mode\n",
      "0         Modules in eval mode\n"
     ]
    },
    {
     "name": "stdout",
     "output_type": "stream",
     "text": [
      "Epoch 7: 100%|██████████| 34/34 [00:00<00:00, 193.64it/s, v_num=259, train_loss=0.555, train_ham=0.289, train_f1ma=0.360, val_loss_step=0.543, val_ham_step=0.304, val_f1ma_step=0.126, val_loss_epoch=0.555, val_ham_epoch=0.285, val_f1ma_epoch=0.209] \n"
     ]
    },
    {
     "name": "stderr",
     "output_type": "stream",
     "text": [
      "Restoring states from the checkpoint path at /Users/benjaminvaca/Documents/USFQ/semestre7/machine_learning/proyecto/lightning_logs/version_259/checkpoints/epoch=4-step=170.ckpt\n",
      "Loaded model weights from the checkpoint at /Users/benjaminvaca/Documents/USFQ/semestre7/machine_learning/proyecto/lightning_logs/version_259/checkpoints/epoch=4-step=170.ckpt\n"
     ]
    },
    {
     "name": "stdout",
     "output_type": "stream",
     "text": [
      "Validation DataLoader 0: 100%|██████████| 34/34 [00:00<00:00, 513.39it/s]\n"
     ]
    },
    {
     "name": "stderr",
     "output_type": "stream",
     "text": [
      "Restoring states from the checkpoint path at /Users/benjaminvaca/Documents/USFQ/semestre7/machine_learning/proyecto/lightning_logs/version_259/checkpoints/epoch=4-step=170.ckpt\n",
      "Loaded model weights from the checkpoint at /Users/benjaminvaca/Documents/USFQ/semestre7/machine_learning/proyecto/lightning_logs/version_259/checkpoints/epoch=4-step=170.ckpt\n"
     ]
    },
    {
     "name": "stdout",
     "output_type": "stream",
     "text": [
      "Validation DataLoader 0: 100%|██████████| 9/9 [00:00<00:00, 473.46it/s]"
     ]
    },
    {
     "name": "stderr",
     "output_type": "stream",
     "text": [
      "Restoring states from the checkpoint path at /Users/benjaminvaca/Documents/USFQ/semestre7/machine_learning/proyecto/lightning_logs/version_259/checkpoints/epoch=4-step=170.ckpt\n"
     ]
    },
    {
     "name": "stdout",
     "output_type": "stream",
     "text": [
      "\n"
     ]
    },
    {
     "name": "stderr",
     "output_type": "stream",
     "text": [
      "Loaded model weights from the checkpoint at /Users/benjaminvaca/Documents/USFQ/semestre7/machine_learning/proyecto/lightning_logs/version_259/checkpoints/epoch=4-step=170.ckpt\n"
     ]
    },
    {
     "name": "stdout",
     "output_type": "stream",
     "text": [
      "Testing DataLoader 0: 100%|██████████| 11/11 [00:00<00:00, 478.78it/s]\n"
     ]
    },
    {
     "data": {
      "text/html": [
       "<pre style=\"white-space:pre;overflow-x:auto;line-height:normal;font-family:Menlo,'DejaVu Sans Mono',consolas,'Courier New',monospace\">┏━━━━━━━━━━━━━━━━━━━━━━━━━━━┳━━━━━━━━━━━━━━━━━━━━━━━━━━━┓\n",
       "┃<span style=\"font-weight: bold\">        Test metric        </span>┃<span style=\"font-weight: bold\">       DataLoader 0        </span>┃\n",
       "┡━━━━━━━━━━━━━━━━━━━━━━━━━━━╇━━━━━━━━━━━━━━━━━━━━━━━━━━━┩\n",
       "│<span style=\"color: #008080; text-decoration-color: #008080\">      test_f1ma_epoch      </span>│<span style=\"color: #800080; text-decoration-color: #800080\">    0.2022278606891632     </span>│\n",
       "│<span style=\"color: #008080; text-decoration-color: #008080\">      test_ham_epoch       </span>│<span style=\"color: #800080; text-decoration-color: #800080\">    0.2756473124027252     </span>│\n",
       "│<span style=\"color: #008080; text-decoration-color: #008080\">      test_loss_epoch      </span>│<span style=\"color: #800080; text-decoration-color: #800080\">    0.5534750819206238     </span>│\n",
       "└───────────────────────────┴───────────────────────────┘\n",
       "</pre>\n"
      ],
      "text/plain": [
       "┏━━━━━━━━━━━━━━━━━━━━━━━━━━━┳━━━━━━━━━━━━━━━━━━━━━━━━━━━┓\n",
       "┃\u001b[1m \u001b[0m\u001b[1m       Test metric       \u001b[0m\u001b[1m \u001b[0m┃\u001b[1m \u001b[0m\u001b[1m      DataLoader 0       \u001b[0m\u001b[1m \u001b[0m┃\n",
       "┡━━━━━━━━━━━━━━━━━━━━━━━━━━━╇━━━━━━━━━━━━━━━━━━━━━━━━━━━┩\n",
       "│\u001b[36m \u001b[0m\u001b[36m     test_f1ma_epoch     \u001b[0m\u001b[36m \u001b[0m│\u001b[35m \u001b[0m\u001b[35m   0.2022278606891632    \u001b[0m\u001b[35m \u001b[0m│\n",
       "│\u001b[36m \u001b[0m\u001b[36m     test_ham_epoch      \u001b[0m\u001b[36m \u001b[0m│\u001b[35m \u001b[0m\u001b[35m   0.2756473124027252    \u001b[0m\u001b[35m \u001b[0m│\n",
       "│\u001b[36m \u001b[0m\u001b[36m     test_loss_epoch     \u001b[0m\u001b[36m \u001b[0m│\u001b[35m \u001b[0m\u001b[35m   0.5534750819206238    \u001b[0m\u001b[35m \u001b[0m│\n",
       "└───────────────────────────┴───────────────────────────┘\n"
      ]
     },
     "metadata": {},
     "output_type": "display_data"
    },
    {
     "name": "stdout",
     "output_type": "stream",
     "text": [
      "  loss: 0.5535 | hamming: 0.2756 | f1_macro: 0.2022\n",
      "\n",
      "F1-macro promedio: 0.1974 ± 0.0218\n",
      "Hamming promedio: 0.2894 ± 0.0109\n",
      "Pérdida promedio:         0.5672 ± 0.0125\n",
      "HU=[256, 256, 256]  L2=0.001 → val_f1ma: 0.1974\n",
      "Fold 1/10\n"
     ]
    },
    {
     "name": "stderr",
     "output_type": "stream",
     "text": [
      "GPU available: True (mps), used: False\n",
      "TPU available: False, using: 0 TPU cores\n",
      "HPU available: False, using: 0 HPUs\n",
      "\n",
      "  | Name       | Type                      | Params | Mode \n",
      "-----------------------------------------------------------------\n",
      "0 | classifier | Sequential                | 333 K  | train\n",
      "1 | loss       | BCEWithLogitsLoss         | 0      | train\n",
      "2 | hamming    | MultilabelHammingDistance | 0      | train\n",
      "3 | f1_macro   | MultilabelF1Score         | 0      | train\n",
      "-----------------------------------------------------------------\n",
      "333 K     Trainable params\n",
      "0         Non-trainable params\n",
      "333 K     Total params\n",
      "1.332     Total estimated model params size (MB)\n",
      "17        Modules in train mode\n",
      "0         Modules in eval mode\n"
     ]
    },
    {
     "name": "stdout",
     "output_type": "stream",
     "text": [
      "Epoch 4: 100%|██████████| 34/34 [00:00<00:00, 193.06it/s, v_num=260, train_loss=0.595, train_ham=0.322, train_f1ma=0.275, val_loss_step=0.564, val_ham_step=0.382, val_f1ma_step=0.0691, val_loss_epoch=0.548, val_ham_epoch=0.275, val_f1ma_epoch=0.210]\n"
     ]
    },
    {
     "name": "stderr",
     "output_type": "stream",
     "text": [
      "Restoring states from the checkpoint path at /Users/benjaminvaca/Documents/USFQ/semestre7/machine_learning/proyecto/lightning_logs/version_260/checkpoints/epoch=1-step=68.ckpt\n",
      "Loaded model weights from the checkpoint at /Users/benjaminvaca/Documents/USFQ/semestre7/machine_learning/proyecto/lightning_logs/version_260/checkpoints/epoch=1-step=68.ckpt\n"
     ]
    },
    {
     "name": "stdout",
     "output_type": "stream",
     "text": [
      "Validation DataLoader 0: 100%|██████████| 34/34 [00:00<00:00, 525.90it/s]\n"
     ]
    },
    {
     "name": "stderr",
     "output_type": "stream",
     "text": [
      "Restoring states from the checkpoint path at /Users/benjaminvaca/Documents/USFQ/semestre7/machine_learning/proyecto/lightning_logs/version_260/checkpoints/epoch=1-step=68.ckpt\n",
      "Loaded model weights from the checkpoint at /Users/benjaminvaca/Documents/USFQ/semestre7/machine_learning/proyecto/lightning_logs/version_260/checkpoints/epoch=1-step=68.ckpt\n"
     ]
    },
    {
     "name": "stdout",
     "output_type": "stream",
     "text": [
      "Validation DataLoader 0: 100%|██████████| 9/9 [00:00<00:00, 491.83it/s]\n"
     ]
    },
    {
     "name": "stderr",
     "output_type": "stream",
     "text": [
      "Restoring states from the checkpoint path at /Users/benjaminvaca/Documents/USFQ/semestre7/machine_learning/proyecto/lightning_logs/version_260/checkpoints/epoch=1-step=68.ckpt\n",
      "Loaded model weights from the checkpoint at /Users/benjaminvaca/Documents/USFQ/semestre7/machine_learning/proyecto/lightning_logs/version_260/checkpoints/epoch=1-step=68.ckpt\n"
     ]
    },
    {
     "name": "stdout",
     "output_type": "stream",
     "text": [
      "Testing DataLoader 0: 100%|██████████| 11/11 [00:00<00:00, 249.73it/s]\n"
     ]
    },
    {
     "data": {
      "text/html": [
       "<pre style=\"white-space:pre;overflow-x:auto;line-height:normal;font-family:Menlo,'DejaVu Sans Mono',consolas,'Courier New',monospace\">┏━━━━━━━━━━━━━━━━━━━━━━━━━━━┳━━━━━━━━━━━━━━━━━━━━━━━━━━━┓\n",
       "┃<span style=\"font-weight: bold\">        Test metric        </span>┃<span style=\"font-weight: bold\">       DataLoader 0        </span>┃\n",
       "┡━━━━━━━━━━━━━━━━━━━━━━━━━━━╇━━━━━━━━━━━━━━━━━━━━━━━━━━━┩\n",
       "│<span style=\"color: #008080; text-decoration-color: #008080\">      test_f1ma_epoch      </span>│<span style=\"color: #800080; text-decoration-color: #800080\">    0.23429447412490845    </span>│\n",
       "│<span style=\"color: #008080; text-decoration-color: #008080\">      test_ham_epoch       </span>│<span style=\"color: #800080; text-decoration-color: #800080\">    0.2910521328449249     </span>│\n",
       "│<span style=\"color: #008080; text-decoration-color: #008080\">      test_loss_epoch      </span>│<span style=\"color: #800080; text-decoration-color: #800080\">    0.5726178884506226     </span>│\n",
       "└───────────────────────────┴───────────────────────────┘\n",
       "</pre>\n"
      ],
      "text/plain": [
       "┏━━━━━━━━━━━━━━━━━━━━━━━━━━━┳━━━━━━━━━━━━━━━━━━━━━━━━━━━┓\n",
       "┃\u001b[1m \u001b[0m\u001b[1m       Test metric       \u001b[0m\u001b[1m \u001b[0m┃\u001b[1m \u001b[0m\u001b[1m      DataLoader 0       \u001b[0m\u001b[1m \u001b[0m┃\n",
       "┡━━━━━━━━━━━━━━━━━━━━━━━━━━━╇━━━━━━━━━━━━━━━━━━━━━━━━━━━┩\n",
       "│\u001b[36m \u001b[0m\u001b[36m     test_f1ma_epoch     \u001b[0m\u001b[36m \u001b[0m│\u001b[35m \u001b[0m\u001b[35m   0.23429447412490845   \u001b[0m\u001b[35m \u001b[0m│\n",
       "│\u001b[36m \u001b[0m\u001b[36m     test_ham_epoch      \u001b[0m\u001b[36m \u001b[0m│\u001b[35m \u001b[0m\u001b[35m   0.2910521328449249    \u001b[0m\u001b[35m \u001b[0m│\n",
       "│\u001b[36m \u001b[0m\u001b[36m     test_loss_epoch     \u001b[0m\u001b[36m \u001b[0m│\u001b[35m \u001b[0m\u001b[35m   0.5726178884506226    \u001b[0m\u001b[35m \u001b[0m│\n",
       "└───────────────────────────┴───────────────────────────┘\n"
      ]
     },
     "metadata": {},
     "output_type": "display_data"
    },
    {
     "name": "stdout",
     "output_type": "stream",
     "text": [
      "  loss: 0.5726 | hamming: 0.2911 | f1_macro: 0.2343\n",
      "Fold 2/10\n"
     ]
    },
    {
     "name": "stderr",
     "output_type": "stream",
     "text": [
      "GPU available: True (mps), used: False\n",
      "TPU available: False, using: 0 TPU cores\n",
      "HPU available: False, using: 0 HPUs\n",
      "\n",
      "  | Name       | Type                      | Params | Mode \n",
      "-----------------------------------------------------------------\n",
      "0 | classifier | Sequential                | 333 K  | train\n",
      "1 | loss       | BCEWithLogitsLoss         | 0      | train\n",
      "2 | hamming    | MultilabelHammingDistance | 0      | train\n",
      "3 | f1_macro   | MultilabelF1Score         | 0      | train\n",
      "-----------------------------------------------------------------\n",
      "333 K     Trainable params\n",
      "0         Non-trainable params\n",
      "333 K     Total params\n",
      "1.332     Total estimated model params size (MB)\n",
      "17        Modules in train mode\n",
      "0         Modules in eval mode\n"
     ]
    },
    {
     "name": "stdout",
     "output_type": "stream",
     "text": [
      "Epoch 4: 100%|██████████| 34/34 [00:00<00:00, 188.27it/s, v_num=261, train_loss=0.612, train_ham=0.307, train_f1ma=0.323, val_loss_step=0.592, val_ham_step=0.319, val_f1ma_step=0.120, val_loss_epoch=0.559, val_ham_epoch=0.305, val_f1ma_epoch=0.198] \n"
     ]
    },
    {
     "name": "stderr",
     "output_type": "stream",
     "text": [
      "Restoring states from the checkpoint path at /Users/benjaminvaca/Documents/USFQ/semestre7/machine_learning/proyecto/lightning_logs/version_261/checkpoints/epoch=1-step=68.ckpt\n",
      "Loaded model weights from the checkpoint at /Users/benjaminvaca/Documents/USFQ/semestre7/machine_learning/proyecto/lightning_logs/version_261/checkpoints/epoch=1-step=68.ckpt\n"
     ]
    },
    {
     "name": "stdout",
     "output_type": "stream",
     "text": [
      "Validation DataLoader 0: 100%|██████████| 34/34 [00:00<00:00, 498.79it/s]"
     ]
    },
    {
     "name": "stderr",
     "output_type": "stream",
     "text": [
      "Restoring states from the checkpoint path at /Users/benjaminvaca/Documents/USFQ/semestre7/machine_learning/proyecto/lightning_logs/version_261/checkpoints/epoch=1-step=68.ckpt\n"
     ]
    },
    {
     "name": "stdout",
     "output_type": "stream",
     "text": [
      "\n"
     ]
    },
    {
     "name": "stderr",
     "output_type": "stream",
     "text": [
      "Loaded model weights from the checkpoint at /Users/benjaminvaca/Documents/USFQ/semestre7/machine_learning/proyecto/lightning_logs/version_261/checkpoints/epoch=1-step=68.ckpt\n"
     ]
    },
    {
     "name": "stdout",
     "output_type": "stream",
     "text": [
      "Validation DataLoader 0: 100%|██████████| 9/9 [00:00<00:00, 219.41it/s]"
     ]
    },
    {
     "name": "stderr",
     "output_type": "stream",
     "text": [
      "Restoring states from the checkpoint path at /Users/benjaminvaca/Documents/USFQ/semestre7/machine_learning/proyecto/lightning_logs/version_261/checkpoints/epoch=1-step=68.ckpt\n"
     ]
    },
    {
     "name": "stdout",
     "output_type": "stream",
     "text": [
      "\n"
     ]
    },
    {
     "name": "stderr",
     "output_type": "stream",
     "text": [
      "Loaded model weights from the checkpoint at /Users/benjaminvaca/Documents/USFQ/semestre7/machine_learning/proyecto/lightning_logs/version_261/checkpoints/epoch=1-step=68.ckpt\n"
     ]
    },
    {
     "name": "stdout",
     "output_type": "stream",
     "text": [
      "Testing DataLoader 0: 100%|██████████| 11/11 [00:00<00:00, 427.49it/s]\n"
     ]
    },
    {
     "data": {
      "text/html": [
       "<pre style=\"white-space:pre;overflow-x:auto;line-height:normal;font-family:Menlo,'DejaVu Sans Mono',consolas,'Courier New',monospace\">┏━━━━━━━━━━━━━━━━━━━━━━━━━━━┳━━━━━━━━━━━━━━━━━━━━━━━━━━━┓\n",
       "┃<span style=\"font-weight: bold\">        Test metric        </span>┃<span style=\"font-weight: bold\">       DataLoader 0        </span>┃\n",
       "┡━━━━━━━━━━━━━━━━━━━━━━━━━━━╇━━━━━━━━━━━━━━━━━━━━━━━━━━━┩\n",
       "│<span style=\"color: #008080; text-decoration-color: #008080\">      test_f1ma_epoch      </span>│<span style=\"color: #800080; text-decoration-color: #800080\">    0.2287963628768921     </span>│\n",
       "│<span style=\"color: #008080; text-decoration-color: #008080\">      test_ham_epoch       </span>│<span style=\"color: #800080; text-decoration-color: #800080\">    0.29498526453971863    </span>│\n",
       "│<span style=\"color: #008080; text-decoration-color: #008080\">      test_loss_epoch      </span>│<span style=\"color: #800080; text-decoration-color: #800080\">    0.5734009146690369     </span>│\n",
       "└───────────────────────────┴───────────────────────────┘\n",
       "</pre>\n"
      ],
      "text/plain": [
       "┏━━━━━━━━━━━━━━━━━━━━━━━━━━━┳━━━━━━━━━━━━━━━━━━━━━━━━━━━┓\n",
       "┃\u001b[1m \u001b[0m\u001b[1m       Test metric       \u001b[0m\u001b[1m \u001b[0m┃\u001b[1m \u001b[0m\u001b[1m      DataLoader 0       \u001b[0m\u001b[1m \u001b[0m┃\n",
       "┡━━━━━━━━━━━━━━━━━━━━━━━━━━━╇━━━━━━━━━━━━━━━━━━━━━━━━━━━┩\n",
       "│\u001b[36m \u001b[0m\u001b[36m     test_f1ma_epoch     \u001b[0m\u001b[36m \u001b[0m│\u001b[35m \u001b[0m\u001b[35m   0.2287963628768921    \u001b[0m\u001b[35m \u001b[0m│\n",
       "│\u001b[36m \u001b[0m\u001b[36m     test_ham_epoch      \u001b[0m\u001b[36m \u001b[0m│\u001b[35m \u001b[0m\u001b[35m   0.29498526453971863   \u001b[0m\u001b[35m \u001b[0m│\n",
       "│\u001b[36m \u001b[0m\u001b[36m     test_loss_epoch     \u001b[0m\u001b[36m \u001b[0m│\u001b[35m \u001b[0m\u001b[35m   0.5734009146690369    \u001b[0m\u001b[35m \u001b[0m│\n",
       "└───────────────────────────┴───────────────────────────┘\n"
      ]
     },
     "metadata": {},
     "output_type": "display_data"
    },
    {
     "name": "stdout",
     "output_type": "stream",
     "text": [
      "  loss: 0.5734 | hamming: 0.2950 | f1_macro: 0.2288\n",
      "Fold 3/10\n"
     ]
    },
    {
     "name": "stderr",
     "output_type": "stream",
     "text": [
      "GPU available: True (mps), used: False\n",
      "TPU available: False, using: 0 TPU cores\n",
      "HPU available: False, using: 0 HPUs\n",
      "\n",
      "  | Name       | Type                      | Params | Mode \n",
      "-----------------------------------------------------------------\n",
      "0 | classifier | Sequential                | 333 K  | train\n",
      "1 | loss       | BCEWithLogitsLoss         | 0      | train\n",
      "2 | hamming    | MultilabelHammingDistance | 0      | train\n",
      "3 | f1_macro   | MultilabelF1Score         | 0      | train\n",
      "-----------------------------------------------------------------\n",
      "333 K     Trainable params\n",
      "0         Non-trainable params\n",
      "333 K     Total params\n",
      "1.332     Total estimated model params size (MB)\n",
      "17        Modules in train mode\n",
      "0         Modules in eval mode\n"
     ]
    },
    {
     "name": "stdout",
     "output_type": "stream",
     "text": [
      "Epoch 5: 100%|██████████| 34/34 [00:00<00:00, 179.75it/s, v_num=262, train_loss=0.527, train_ham=0.270, train_f1ma=0.354, val_loss_step=0.529, val_ham_step=0.407, val_f1ma_step=0.0523, val_loss_epoch=0.558, val_ham_epoch=0.288, val_f1ma_epoch=0.205]\n"
     ]
    },
    {
     "name": "stderr",
     "output_type": "stream",
     "text": [
      "Restoring states from the checkpoint path at /Users/benjaminvaca/Documents/USFQ/semestre7/machine_learning/proyecto/lightning_logs/version_262/checkpoints/epoch=2-step=102.ckpt\n",
      "Loaded model weights from the checkpoint at /Users/benjaminvaca/Documents/USFQ/semestre7/machine_learning/proyecto/lightning_logs/version_262/checkpoints/epoch=2-step=102.ckpt\n"
     ]
    },
    {
     "name": "stdout",
     "output_type": "stream",
     "text": [
      "Validation DataLoader 0: 100%|██████████| 34/34 [00:00<00:00, 513.60it/s]\n"
     ]
    },
    {
     "name": "stderr",
     "output_type": "stream",
     "text": [
      "Restoring states from the checkpoint path at /Users/benjaminvaca/Documents/USFQ/semestre7/machine_learning/proyecto/lightning_logs/version_262/checkpoints/epoch=2-step=102.ckpt\n",
      "Loaded model weights from the checkpoint at /Users/benjaminvaca/Documents/USFQ/semestre7/machine_learning/proyecto/lightning_logs/version_262/checkpoints/epoch=2-step=102.ckpt\n"
     ]
    },
    {
     "name": "stdout",
     "output_type": "stream",
     "text": [
      "Validation DataLoader 0: 100%|██████████| 9/9 [00:00<00:00, 486.62it/s]"
     ]
    },
    {
     "name": "stderr",
     "output_type": "stream",
     "text": [
      "Restoring states from the checkpoint path at /Users/benjaminvaca/Documents/USFQ/semestre7/machine_learning/proyecto/lightning_logs/version_262/checkpoints/epoch=2-step=102.ckpt\n"
     ]
    },
    {
     "name": "stdout",
     "output_type": "stream",
     "text": [
      "\n"
     ]
    },
    {
     "name": "stderr",
     "output_type": "stream",
     "text": [
      "Loaded model weights from the checkpoint at /Users/benjaminvaca/Documents/USFQ/semestre7/machine_learning/proyecto/lightning_logs/version_262/checkpoints/epoch=2-step=102.ckpt\n"
     ]
    },
    {
     "name": "stdout",
     "output_type": "stream",
     "text": [
      "Testing DataLoader 0: 100%|██████████| 11/11 [00:00<00:00, 477.47it/s]\n"
     ]
    },
    {
     "data": {
      "text/html": [
       "<pre style=\"white-space:pre;overflow-x:auto;line-height:normal;font-family:Menlo,'DejaVu Sans Mono',consolas,'Courier New',monospace\">┏━━━━━━━━━━━━━━━━━━━━━━━━━━━┳━━━━━━━━━━━━━━━━━━━━━━━━━━━┓\n",
       "┃<span style=\"font-weight: bold\">        Test metric        </span>┃<span style=\"font-weight: bold\">       DataLoader 0        </span>┃\n",
       "┡━━━━━━━━━━━━━━━━━━━━━━━━━━━╇━━━━━━━━━━━━━━━━━━━━━━━━━━━┩\n",
       "│<span style=\"color: #008080; text-decoration-color: #008080\">      test_f1ma_epoch      </span>│<span style=\"color: #800080; text-decoration-color: #800080\">    0.2161467969417572     </span>│\n",
       "│<span style=\"color: #008080; text-decoration-color: #008080\">      test_ham_epoch       </span>│<span style=\"color: #800080; text-decoration-color: #800080\">    0.28023597598075867    </span>│\n",
       "│<span style=\"color: #008080; text-decoration-color: #008080\">      test_loss_epoch      </span>│<span style=\"color: #800080; text-decoration-color: #800080\">    0.5670644640922546     </span>│\n",
       "└───────────────────────────┴───────────────────────────┘\n",
       "</pre>\n"
      ],
      "text/plain": [
       "┏━━━━━━━━━━━━━━━━━━━━━━━━━━━┳━━━━━━━━━━━━━━━━━━━━━━━━━━━┓\n",
       "┃\u001b[1m \u001b[0m\u001b[1m       Test metric       \u001b[0m\u001b[1m \u001b[0m┃\u001b[1m \u001b[0m\u001b[1m      DataLoader 0       \u001b[0m\u001b[1m \u001b[0m┃\n",
       "┡━━━━━━━━━━━━━━━━━━━━━━━━━━━╇━━━━━━━━━━━━━━━━━━━━━━━━━━━┩\n",
       "│\u001b[36m \u001b[0m\u001b[36m     test_f1ma_epoch     \u001b[0m\u001b[36m \u001b[0m│\u001b[35m \u001b[0m\u001b[35m   0.2161467969417572    \u001b[0m\u001b[35m \u001b[0m│\n",
       "│\u001b[36m \u001b[0m\u001b[36m     test_ham_epoch      \u001b[0m\u001b[36m \u001b[0m│\u001b[35m \u001b[0m\u001b[35m   0.28023597598075867   \u001b[0m\u001b[35m \u001b[0m│\n",
       "│\u001b[36m \u001b[0m\u001b[36m     test_loss_epoch     \u001b[0m\u001b[36m \u001b[0m│\u001b[35m \u001b[0m\u001b[35m   0.5670644640922546    \u001b[0m\u001b[35m \u001b[0m│\n",
       "└───────────────────────────┴───────────────────────────┘\n"
      ]
     },
     "metadata": {},
     "output_type": "display_data"
    },
    {
     "name": "stdout",
     "output_type": "stream",
     "text": [
      "  loss: 0.5671 | hamming: 0.2802 | f1_macro: 0.2161\n",
      "Fold 4/10\n"
     ]
    },
    {
     "name": "stderr",
     "output_type": "stream",
     "text": [
      "GPU available: True (mps), used: False\n",
      "TPU available: False, using: 0 TPU cores\n",
      "HPU available: False, using: 0 HPUs\n",
      "\n",
      "  | Name       | Type                      | Params | Mode \n",
      "-----------------------------------------------------------------\n",
      "0 | classifier | Sequential                | 333 K  | train\n",
      "1 | loss       | BCEWithLogitsLoss         | 0      | train\n",
      "2 | hamming    | MultilabelHammingDistance | 0      | train\n",
      "3 | f1_macro   | MultilabelF1Score         | 0      | train\n",
      "-----------------------------------------------------------------\n",
      "333 K     Trainable params\n",
      "0         Non-trainable params\n",
      "333 K     Total params\n",
      "1.332     Total estimated model params size (MB)\n",
      "17        Modules in train mode\n",
      "0         Modules in eval mode\n"
     ]
    },
    {
     "name": "stdout",
     "output_type": "stream",
     "text": [
      "Epoch 8: 100%|██████████| 34/34 [00:00<00:00, 191.32it/s, v_num=263, train_loss=0.602, train_ham=0.296, train_f1ma=0.326, val_loss_step=0.537, val_ham_step=0.289, val_f1ma_step=0.150, val_loss_epoch=0.551, val_ham_epoch=0.277, val_f1ma_epoch=0.204] \n"
     ]
    },
    {
     "name": "stderr",
     "output_type": "stream",
     "text": [
      "Restoring states from the checkpoint path at /Users/benjaminvaca/Documents/USFQ/semestre7/machine_learning/proyecto/lightning_logs/version_263/checkpoints/epoch=5-step=204.ckpt\n",
      "Loaded model weights from the checkpoint at /Users/benjaminvaca/Documents/USFQ/semestre7/machine_learning/proyecto/lightning_logs/version_263/checkpoints/epoch=5-step=204.ckpt\n"
     ]
    },
    {
     "name": "stdout",
     "output_type": "stream",
     "text": [
      "Validation DataLoader 0: 100%|██████████| 34/34 [00:00<00:00, 386.06it/s]"
     ]
    },
    {
     "name": "stderr",
     "output_type": "stream",
     "text": [
      "Restoring states from the checkpoint path at /Users/benjaminvaca/Documents/USFQ/semestre7/machine_learning/proyecto/lightning_logs/version_263/checkpoints/epoch=5-step=204.ckpt\n"
     ]
    },
    {
     "name": "stdout",
     "output_type": "stream",
     "text": [
      "\n"
     ]
    },
    {
     "name": "stderr",
     "output_type": "stream",
     "text": [
      "Loaded model weights from the checkpoint at /Users/benjaminvaca/Documents/USFQ/semestre7/machine_learning/proyecto/lightning_logs/version_263/checkpoints/epoch=5-step=204.ckpt\n"
     ]
    },
    {
     "name": "stdout",
     "output_type": "stream",
     "text": [
      "Validation DataLoader 0: 100%|██████████| 9/9 [00:00<00:00, 430.79it/s]"
     ]
    },
    {
     "name": "stderr",
     "output_type": "stream",
     "text": [
      "Restoring states from the checkpoint path at /Users/benjaminvaca/Documents/USFQ/semestre7/machine_learning/proyecto/lightning_logs/version_263/checkpoints/epoch=5-step=204.ckpt\n"
     ]
    },
    {
     "name": "stdout",
     "output_type": "stream",
     "text": [
      "\n"
     ]
    },
    {
     "name": "stderr",
     "output_type": "stream",
     "text": [
      "Loaded model weights from the checkpoint at /Users/benjaminvaca/Documents/USFQ/semestre7/machine_learning/proyecto/lightning_logs/version_263/checkpoints/epoch=5-step=204.ckpt\n"
     ]
    },
    {
     "name": "stdout",
     "output_type": "stream",
     "text": [
      "Testing DataLoader 0: 100%|██████████| 11/11 [00:00<00:00, 474.08it/s]\n"
     ]
    },
    {
     "data": {
      "text/html": [
       "<pre style=\"white-space:pre;overflow-x:auto;line-height:normal;font-family:Menlo,'DejaVu Sans Mono',consolas,'Courier New',monospace\">┏━━━━━━━━━━━━━━━━━━━━━━━━━━━┳━━━━━━━━━━━━━━━━━━━━━━━━━━━┓\n",
       "┃<span style=\"font-weight: bold\">        Test metric        </span>┃<span style=\"font-weight: bold\">       DataLoader 0        </span>┃\n",
       "┡━━━━━━━━━━━━━━━━━━━━━━━━━━━╇━━━━━━━━━━━━━━━━━━━━━━━━━━━┩\n",
       "│<span style=\"color: #008080; text-decoration-color: #008080\">      test_f1ma_epoch      </span>│<span style=\"color: #800080; text-decoration-color: #800080\">    0.20030511915683746    </span>│\n",
       "│<span style=\"color: #008080; text-decoration-color: #008080\">      test_ham_epoch       </span>│<span style=\"color: #800080; text-decoration-color: #800080\">    0.2753196060657501     </span>│\n",
       "│<span style=\"color: #008080; text-decoration-color: #008080\">      test_loss_epoch      </span>│<span style=\"color: #800080; text-decoration-color: #800080\">    0.5524527430534363     </span>│\n",
       "└───────────────────────────┴───────────────────────────┘\n",
       "</pre>\n"
      ],
      "text/plain": [
       "┏━━━━━━━━━━━━━━━━━━━━━━━━━━━┳━━━━━━━━━━━━━━━━━━━━━━━━━━━┓\n",
       "┃\u001b[1m \u001b[0m\u001b[1m       Test metric       \u001b[0m\u001b[1m \u001b[0m┃\u001b[1m \u001b[0m\u001b[1m      DataLoader 0       \u001b[0m\u001b[1m \u001b[0m┃\n",
       "┡━━━━━━━━━━━━━━━━━━━━━━━━━━━╇━━━━━━━━━━━━━━━━━━━━━━━━━━━┩\n",
       "│\u001b[36m \u001b[0m\u001b[36m     test_f1ma_epoch     \u001b[0m\u001b[36m \u001b[0m│\u001b[35m \u001b[0m\u001b[35m   0.20030511915683746   \u001b[0m\u001b[35m \u001b[0m│\n",
       "│\u001b[36m \u001b[0m\u001b[36m     test_ham_epoch      \u001b[0m\u001b[36m \u001b[0m│\u001b[35m \u001b[0m\u001b[35m   0.2753196060657501    \u001b[0m\u001b[35m \u001b[0m│\n",
       "│\u001b[36m \u001b[0m\u001b[36m     test_loss_epoch     \u001b[0m\u001b[36m \u001b[0m│\u001b[35m \u001b[0m\u001b[35m   0.5524527430534363    \u001b[0m\u001b[35m \u001b[0m│\n",
       "└───────────────────────────┴───────────────────────────┘\n"
      ]
     },
     "metadata": {},
     "output_type": "display_data"
    },
    {
     "name": "stdout",
     "output_type": "stream",
     "text": [
      "  loss: 0.5525 | hamming: 0.2753 | f1_macro: 0.2003\n",
      "Fold 5/10\n"
     ]
    },
    {
     "name": "stderr",
     "output_type": "stream",
     "text": [
      "GPU available: True (mps), used: False\n",
      "TPU available: False, using: 0 TPU cores\n",
      "HPU available: False, using: 0 HPUs\n",
      "\n",
      "  | Name       | Type                      | Params | Mode \n",
      "-----------------------------------------------------------------\n",
      "0 | classifier | Sequential                | 333 K  | train\n",
      "1 | loss       | BCEWithLogitsLoss         | 0      | train\n",
      "2 | hamming    | MultilabelHammingDistance | 0      | train\n",
      "3 | f1_macro   | MultilabelF1Score         | 0      | train\n",
      "-----------------------------------------------------------------\n",
      "333 K     Trainable params\n",
      "0         Non-trainable params\n",
      "333 K     Total params\n",
      "1.332     Total estimated model params size (MB)\n",
      "17        Modules in train mode\n",
      "0         Modules in eval mode\n"
     ]
    },
    {
     "name": "stdout",
     "output_type": "stream",
     "text": [
      "Epoch 12: 100%|██████████| 34/34 [00:00<00:00, 187.10it/s, v_num=264, train_loss=0.506, train_ham=0.263, train_f1ma=0.410, val_loss_step=0.509, val_ham_step=0.289, val_f1ma_step=0.153, val_loss_epoch=0.558, val_ham_epoch=0.281, val_f1ma_epoch=0.218]\n"
     ]
    },
    {
     "name": "stderr",
     "output_type": "stream",
     "text": [
      "Restoring states from the checkpoint path at /Users/benjaminvaca/Documents/USFQ/semestre7/machine_learning/proyecto/lightning_logs/version_264/checkpoints/epoch=9-step=340.ckpt\n",
      "Loaded model weights from the checkpoint at /Users/benjaminvaca/Documents/USFQ/semestre7/machine_learning/proyecto/lightning_logs/version_264/checkpoints/epoch=9-step=340.ckpt\n"
     ]
    },
    {
     "name": "stdout",
     "output_type": "stream",
     "text": [
      "Validation DataLoader 0: 100%|██████████| 34/34 [00:00<00:00, 509.54it/s]"
     ]
    },
    {
     "name": "stderr",
     "output_type": "stream",
     "text": [
      "Restoring states from the checkpoint path at /Users/benjaminvaca/Documents/USFQ/semestre7/machine_learning/proyecto/lightning_logs/version_264/checkpoints/epoch=9-step=340.ckpt\n"
     ]
    },
    {
     "name": "stdout",
     "output_type": "stream",
     "text": [
      "\n"
     ]
    },
    {
     "name": "stderr",
     "output_type": "stream",
     "text": [
      "Loaded model weights from the checkpoint at /Users/benjaminvaca/Documents/USFQ/semestre7/machine_learning/proyecto/lightning_logs/version_264/checkpoints/epoch=9-step=340.ckpt\n"
     ]
    },
    {
     "name": "stdout",
     "output_type": "stream",
     "text": [
      "Validation DataLoader 0: 100%|██████████| 9/9 [00:00<00:00, 504.14it/s]"
     ]
    },
    {
     "name": "stderr",
     "output_type": "stream",
     "text": [
      "Restoring states from the checkpoint path at /Users/benjaminvaca/Documents/USFQ/semestre7/machine_learning/proyecto/lightning_logs/version_264/checkpoints/epoch=9-step=340.ckpt\n"
     ]
    },
    {
     "name": "stdout",
     "output_type": "stream",
     "text": [
      "\n"
     ]
    },
    {
     "name": "stderr",
     "output_type": "stream",
     "text": [
      "Loaded model weights from the checkpoint at /Users/benjaminvaca/Documents/USFQ/semestre7/machine_learning/proyecto/lightning_logs/version_264/checkpoints/epoch=9-step=340.ckpt\n"
     ]
    },
    {
     "name": "stdout",
     "output_type": "stream",
     "text": [
      "Testing DataLoader 0: 100%|██████████| 11/11 [00:00<00:00, 478.05it/s]\n"
     ]
    },
    {
     "data": {
      "text/html": [
       "<pre style=\"white-space:pre;overflow-x:auto;line-height:normal;font-family:Menlo,'DejaVu Sans Mono',consolas,'Courier New',monospace\">┏━━━━━━━━━━━━━━━━━━━━━━━━━━━┳━━━━━━━━━━━━━━━━━━━━━━━━━━━┓\n",
       "┃<span style=\"font-weight: bold\">        Test metric        </span>┃<span style=\"font-weight: bold\">       DataLoader 0        </span>┃\n",
       "┡━━━━━━━━━━━━━━━━━━━━━━━━━━━╇━━━━━━━━━━━━━━━━━━━━━━━━━━━┩\n",
       "│<span style=\"color: #008080; text-decoration-color: #008080\">      test_f1ma_epoch      </span>│<span style=\"color: #800080; text-decoration-color: #800080\">    0.20773755013942719    </span>│\n",
       "│<span style=\"color: #008080; text-decoration-color: #008080\">      test_ham_epoch       </span>│<span style=\"color: #800080; text-decoration-color: #800080\">    0.2785971760749817     </span>│\n",
       "│<span style=\"color: #008080; text-decoration-color: #008080\">      test_loss_epoch      </span>│<span style=\"color: #800080; text-decoration-color: #800080\">    0.5581307411193848     </span>│\n",
       "└───────────────────────────┴───────────────────────────┘\n",
       "</pre>\n"
      ],
      "text/plain": [
       "┏━━━━━━━━━━━━━━━━━━━━━━━━━━━┳━━━━━━━━━━━━━━━━━━━━━━━━━━━┓\n",
       "┃\u001b[1m \u001b[0m\u001b[1m       Test metric       \u001b[0m\u001b[1m \u001b[0m┃\u001b[1m \u001b[0m\u001b[1m      DataLoader 0       \u001b[0m\u001b[1m \u001b[0m┃\n",
       "┡━━━━━━━━━━━━━━━━━━━━━━━━━━━╇━━━━━━━━━━━━━━━━━━━━━━━━━━━┩\n",
       "│\u001b[36m \u001b[0m\u001b[36m     test_f1ma_epoch     \u001b[0m\u001b[36m \u001b[0m│\u001b[35m \u001b[0m\u001b[35m   0.20773755013942719   \u001b[0m\u001b[35m \u001b[0m│\n",
       "│\u001b[36m \u001b[0m\u001b[36m     test_ham_epoch      \u001b[0m\u001b[36m \u001b[0m│\u001b[35m \u001b[0m\u001b[35m   0.2785971760749817    \u001b[0m\u001b[35m \u001b[0m│\n",
       "│\u001b[36m \u001b[0m\u001b[36m     test_loss_epoch     \u001b[0m\u001b[36m \u001b[0m│\u001b[35m \u001b[0m\u001b[35m   0.5581307411193848    \u001b[0m\u001b[35m \u001b[0m│\n",
       "└───────────────────────────┴───────────────────────────┘\n"
      ]
     },
     "metadata": {},
     "output_type": "display_data"
    },
    {
     "name": "stdout",
     "output_type": "stream",
     "text": [
      "  loss: 0.5581 | hamming: 0.2786 | f1_macro: 0.2077\n",
      "Fold 6/10\n"
     ]
    },
    {
     "name": "stderr",
     "output_type": "stream",
     "text": [
      "GPU available: True (mps), used: False\n",
      "TPU available: False, using: 0 TPU cores\n",
      "HPU available: False, using: 0 HPUs\n",
      "\n",
      "  | Name       | Type                      | Params | Mode \n",
      "-----------------------------------------------------------------\n",
      "0 | classifier | Sequential                | 333 K  | train\n",
      "1 | loss       | BCEWithLogitsLoss         | 0      | train\n",
      "2 | hamming    | MultilabelHammingDistance | 0      | train\n",
      "3 | f1_macro   | MultilabelF1Score         | 0      | train\n",
      "-----------------------------------------------------------------\n",
      "333 K     Trainable params\n",
      "0         Non-trainable params\n",
      "333 K     Total params\n",
      "1.332     Total estimated model params size (MB)\n",
      "17        Modules in train mode\n",
      "0         Modules in eval mode\n"
     ]
    },
    {
     "name": "stdout",
     "output_type": "stream",
     "text": [
      "Epoch 4: 100%|██████████| 34/34 [00:00<00:00, 195.11it/s, v_num=265, train_loss=0.565, train_ham=0.314, train_f1ma=0.286, val_loss_step=0.572, val_ham_step=0.326, val_f1ma_step=0.128, val_loss_epoch=0.562, val_ham_epoch=0.297, val_f1ma_epoch=0.193]\n"
     ]
    },
    {
     "name": "stderr",
     "output_type": "stream",
     "text": [
      "Restoring states from the checkpoint path at /Users/benjaminvaca/Documents/USFQ/semestre7/machine_learning/proyecto/lightning_logs/version_265/checkpoints/epoch=1-step=68.ckpt\n",
      "Loaded model weights from the checkpoint at /Users/benjaminvaca/Documents/USFQ/semestre7/machine_learning/proyecto/lightning_logs/version_265/checkpoints/epoch=1-step=68.ckpt\n"
     ]
    },
    {
     "name": "stdout",
     "output_type": "stream",
     "text": [
      "Validation DataLoader 0: 100%|██████████| 34/34 [00:00<00:00, 511.99it/s]"
     ]
    },
    {
     "name": "stderr",
     "output_type": "stream",
     "text": [
      "Restoring states from the checkpoint path at /Users/benjaminvaca/Documents/USFQ/semestre7/machine_learning/proyecto/lightning_logs/version_265/checkpoints/epoch=1-step=68.ckpt\n"
     ]
    },
    {
     "name": "stdout",
     "output_type": "stream",
     "text": [
      "\n"
     ]
    },
    {
     "name": "stderr",
     "output_type": "stream",
     "text": [
      "Loaded model weights from the checkpoint at /Users/benjaminvaca/Documents/USFQ/semestre7/machine_learning/proyecto/lightning_logs/version_265/checkpoints/epoch=1-step=68.ckpt\n"
     ]
    },
    {
     "name": "stdout",
     "output_type": "stream",
     "text": [
      "Validation DataLoader 0: 100%|██████████| 9/9 [00:00<00:00, 479.39it/s]\n"
     ]
    },
    {
     "name": "stderr",
     "output_type": "stream",
     "text": [
      "Restoring states from the checkpoint path at /Users/benjaminvaca/Documents/USFQ/semestre7/machine_learning/proyecto/lightning_logs/version_265/checkpoints/epoch=1-step=68.ckpt\n",
      "Loaded model weights from the checkpoint at /Users/benjaminvaca/Documents/USFQ/semestre7/machine_learning/proyecto/lightning_logs/version_265/checkpoints/epoch=1-step=68.ckpt\n"
     ]
    },
    {
     "name": "stdout",
     "output_type": "stream",
     "text": [
      "Testing DataLoader 0: 100%|██████████| 11/11 [00:00<00:00, 255.60it/s]\n"
     ]
    },
    {
     "data": {
      "text/html": [
       "<pre style=\"white-space:pre;overflow-x:auto;line-height:normal;font-family:Menlo,'DejaVu Sans Mono',consolas,'Courier New',monospace\">┏━━━━━━━━━━━━━━━━━━━━━━━━━━━┳━━━━━━━━━━━━━━━━━━━━━━━━━━━┓\n",
       "┃<span style=\"font-weight: bold\">        Test metric        </span>┃<span style=\"font-weight: bold\">       DataLoader 0        </span>┃\n",
       "┡━━━━━━━━━━━━━━━━━━━━━━━━━━━╇━━━━━━━━━━━━━━━━━━━━━━━━━━━┩\n",
       "│<span style=\"color: #008080; text-decoration-color: #008080\">      test_f1ma_epoch      </span>│<span style=\"color: #800080; text-decoration-color: #800080\">    0.22950290143489838    </span>│\n",
       "│<span style=\"color: #008080; text-decoration-color: #008080\">      test_ham_epoch       </span>│<span style=\"color: #800080; text-decoration-color: #800080\">    0.28711897134780884    </span>│\n",
       "│<span style=\"color: #008080; text-decoration-color: #008080\">      test_loss_epoch      </span>│<span style=\"color: #800080; text-decoration-color: #800080\">    0.5720284581184387     </span>│\n",
       "└───────────────────────────┴───────────────────────────┘\n",
       "</pre>\n"
      ],
      "text/plain": [
       "┏━━━━━━━━━━━━━━━━━━━━━━━━━━━┳━━━━━━━━━━━━━━━━━━━━━━━━━━━┓\n",
       "┃\u001b[1m \u001b[0m\u001b[1m       Test metric       \u001b[0m\u001b[1m \u001b[0m┃\u001b[1m \u001b[0m\u001b[1m      DataLoader 0       \u001b[0m\u001b[1m \u001b[0m┃\n",
       "┡━━━━━━━━━━━━━━━━━━━━━━━━━━━╇━━━━━━━━━━━━━━━━━━━━━━━━━━━┩\n",
       "│\u001b[36m \u001b[0m\u001b[36m     test_f1ma_epoch     \u001b[0m\u001b[36m \u001b[0m│\u001b[35m \u001b[0m\u001b[35m   0.22950290143489838   \u001b[0m\u001b[35m \u001b[0m│\n",
       "│\u001b[36m \u001b[0m\u001b[36m     test_ham_epoch      \u001b[0m\u001b[36m \u001b[0m│\u001b[35m \u001b[0m\u001b[35m   0.28711897134780884   \u001b[0m\u001b[35m \u001b[0m│\n",
       "│\u001b[36m \u001b[0m\u001b[36m     test_loss_epoch     \u001b[0m\u001b[36m \u001b[0m│\u001b[35m \u001b[0m\u001b[35m   0.5720284581184387    \u001b[0m\u001b[35m \u001b[0m│\n",
       "└───────────────────────────┴───────────────────────────┘\n"
      ]
     },
     "metadata": {},
     "output_type": "display_data"
    },
    {
     "name": "stdout",
     "output_type": "stream",
     "text": [
      "  loss: 0.5720 | hamming: 0.2871 | f1_macro: 0.2295\n",
      "Fold 7/10\n"
     ]
    },
    {
     "name": "stderr",
     "output_type": "stream",
     "text": [
      "GPU available: True (mps), used: False\n",
      "TPU available: False, using: 0 TPU cores\n",
      "HPU available: False, using: 0 HPUs\n",
      "\n",
      "  | Name       | Type                      | Params | Mode \n",
      "-----------------------------------------------------------------\n",
      "0 | classifier | Sequential                | 333 K  | train\n",
      "1 | loss       | BCEWithLogitsLoss         | 0      | train\n",
      "2 | hamming    | MultilabelHammingDistance | 0      | train\n",
      "3 | f1_macro   | MultilabelF1Score         | 0      | train\n",
      "-----------------------------------------------------------------\n",
      "333 K     Trainable params\n",
      "0         Non-trainable params\n",
      "333 K     Total params\n",
      "1.332     Total estimated model params size (MB)\n",
      "17        Modules in train mode\n",
      "0         Modules in eval mode\n"
     ]
    },
    {
     "name": "stdout",
     "output_type": "stream",
     "text": [
      "Epoch 3: 100%|██████████| 34/34 [00:00<00:00, 192.64it/s, v_num=266, train_loss=0.565, train_ham=0.303, train_f1ma=0.300, val_loss_step=0.505, val_ham_step=0.243, val_f1ma_step=0.121, val_loss_epoch=0.559, val_ham_epoch=0.298, val_f1ma_epoch=0.167] \n"
     ]
    },
    {
     "name": "stderr",
     "output_type": "stream",
     "text": [
      "Restoring states from the checkpoint path at /Users/benjaminvaca/Documents/USFQ/semestre7/machine_learning/proyecto/lightning_logs/version_266/checkpoints/epoch=0-step=34.ckpt\n",
      "Loaded model weights from the checkpoint at /Users/benjaminvaca/Documents/USFQ/semestre7/machine_learning/proyecto/lightning_logs/version_266/checkpoints/epoch=0-step=34.ckpt\n"
     ]
    },
    {
     "name": "stdout",
     "output_type": "stream",
     "text": [
      "Validation DataLoader 0: 100%|██████████| 34/34 [00:00<00:00, 388.86it/s]"
     ]
    },
    {
     "name": "stderr",
     "output_type": "stream",
     "text": [
      "Restoring states from the checkpoint path at /Users/benjaminvaca/Documents/USFQ/semestre7/machine_learning/proyecto/lightning_logs/version_266/checkpoints/epoch=0-step=34.ckpt\n"
     ]
    },
    {
     "name": "stdout",
     "output_type": "stream",
     "text": [
      "\n"
     ]
    },
    {
     "name": "stderr",
     "output_type": "stream",
     "text": [
      "Loaded model weights from the checkpoint at /Users/benjaminvaca/Documents/USFQ/semestre7/machine_learning/proyecto/lightning_logs/version_266/checkpoints/epoch=0-step=34.ckpt\n"
     ]
    },
    {
     "name": "stdout",
     "output_type": "stream",
     "text": [
      "Validation DataLoader 0: 100%|██████████| 9/9 [00:00<00:00, 467.05it/s]"
     ]
    },
    {
     "name": "stderr",
     "output_type": "stream",
     "text": [
      "Restoring states from the checkpoint path at /Users/benjaminvaca/Documents/USFQ/semestre7/machine_learning/proyecto/lightning_logs/version_266/checkpoints/epoch=0-step=34.ckpt\n"
     ]
    },
    {
     "name": "stdout",
     "output_type": "stream",
     "text": [
      "\n"
     ]
    },
    {
     "name": "stderr",
     "output_type": "stream",
     "text": [
      "Loaded model weights from the checkpoint at /Users/benjaminvaca/Documents/USFQ/semestre7/machine_learning/proyecto/lightning_logs/version_266/checkpoints/epoch=0-step=34.ckpt\n"
     ]
    },
    {
     "name": "stdout",
     "output_type": "stream",
     "text": [
      "Testing DataLoader 0: 100%|██████████| 11/11 [00:00<00:00, 492.65it/s]\n"
     ]
    },
    {
     "data": {
      "text/html": [
       "<pre style=\"white-space:pre;overflow-x:auto;line-height:normal;font-family:Menlo,'DejaVu Sans Mono',consolas,'Courier New',monospace\">┏━━━━━━━━━━━━━━━━━━━━━━━━━━━┳━━━━━━━━━━━━━━━━━━━━━━━━━━━┓\n",
       "┃<span style=\"font-weight: bold\">        Test metric        </span>┃<span style=\"font-weight: bold\">       DataLoader 0        </span>┃\n",
       "┡━━━━━━━━━━━━━━━━━━━━━━━━━━━╇━━━━━━━━━━━━━━━━━━━━━━━━━━━┩\n",
       "│<span style=\"color: #008080; text-decoration-color: #008080\">      test_f1ma_epoch      </span>│<span style=\"color: #800080; text-decoration-color: #800080\">    0.19620133936405182    </span>│\n",
       "│<span style=\"color: #008080; text-decoration-color: #008080\">      test_ham_epoch       </span>│<span style=\"color: #800080; text-decoration-color: #800080\">    0.29629629850387573    </span>│\n",
       "│<span style=\"color: #008080; text-decoration-color: #008080\">      test_loss_epoch      </span>│<span style=\"color: #800080; text-decoration-color: #800080\">    0.5886610746383667     </span>│\n",
       "└───────────────────────────┴───────────────────────────┘\n",
       "</pre>\n"
      ],
      "text/plain": [
       "┏━━━━━━━━━━━━━━━━━━━━━━━━━━━┳━━━━━━━━━━━━━━━━━━━━━━━━━━━┓\n",
       "┃\u001b[1m \u001b[0m\u001b[1m       Test metric       \u001b[0m\u001b[1m \u001b[0m┃\u001b[1m \u001b[0m\u001b[1m      DataLoader 0       \u001b[0m\u001b[1m \u001b[0m┃\n",
       "┡━━━━━━━━━━━━━━━━━━━━━━━━━━━╇━━━━━━━━━━━━━━━━━━━━━━━━━━━┩\n",
       "│\u001b[36m \u001b[0m\u001b[36m     test_f1ma_epoch     \u001b[0m\u001b[36m \u001b[0m│\u001b[35m \u001b[0m\u001b[35m   0.19620133936405182   \u001b[0m\u001b[35m \u001b[0m│\n",
       "│\u001b[36m \u001b[0m\u001b[36m     test_ham_epoch      \u001b[0m\u001b[36m \u001b[0m│\u001b[35m \u001b[0m\u001b[35m   0.29629629850387573   \u001b[0m\u001b[35m \u001b[0m│\n",
       "│\u001b[36m \u001b[0m\u001b[36m     test_loss_epoch     \u001b[0m\u001b[36m \u001b[0m│\u001b[35m \u001b[0m\u001b[35m   0.5886610746383667    \u001b[0m\u001b[35m \u001b[0m│\n",
       "└───────────────────────────┴───────────────────────────┘\n"
      ]
     },
     "metadata": {},
     "output_type": "display_data"
    },
    {
     "name": "stdout",
     "output_type": "stream",
     "text": [
      "  loss: 0.5887 | hamming: 0.2963 | f1_macro: 0.1962\n",
      "Fold 8/10\n"
     ]
    },
    {
     "name": "stderr",
     "output_type": "stream",
     "text": [
      "GPU available: True (mps), used: False\n",
      "TPU available: False, using: 0 TPU cores\n",
      "HPU available: False, using: 0 HPUs\n",
      "\n",
      "  | Name       | Type                      | Params | Mode \n",
      "-----------------------------------------------------------------\n",
      "0 | classifier | Sequential                | 333 K  | train\n",
      "1 | loss       | BCEWithLogitsLoss         | 0      | train\n",
      "2 | hamming    | MultilabelHammingDistance | 0      | train\n",
      "3 | f1_macro   | MultilabelF1Score         | 0      | train\n",
      "-----------------------------------------------------------------\n",
      "333 K     Trainable params\n",
      "0         Non-trainable params\n",
      "333 K     Total params\n",
      "1.332     Total estimated model params size (MB)\n",
      "17        Modules in train mode\n",
      "0         Modules in eval mode\n"
     ]
    },
    {
     "name": "stdout",
     "output_type": "stream",
     "text": [
      "Epoch 5: 100%|██████████| 34/34 [00:00<00:00, 194.29it/s, v_num=267, train_loss=0.594, train_ham=0.315, train_f1ma=0.275, val_loss_step=0.589, val_ham_step=0.393, val_f1ma_step=0.0838, val_loss_epoch=0.547, val_ham_epoch=0.284, val_f1ma_epoch=0.203]\n"
     ]
    },
    {
     "name": "stderr",
     "output_type": "stream",
     "text": [
      "Restoring states from the checkpoint path at /Users/benjaminvaca/Documents/USFQ/semestre7/machine_learning/proyecto/lightning_logs/version_267/checkpoints/epoch=2-step=102.ckpt\n",
      "Loaded model weights from the checkpoint at /Users/benjaminvaca/Documents/USFQ/semestre7/machine_learning/proyecto/lightning_logs/version_267/checkpoints/epoch=2-step=102.ckpt\n"
     ]
    },
    {
     "name": "stdout",
     "output_type": "stream",
     "text": [
      "Validation DataLoader 0: 100%|██████████| 34/34 [00:00<00:00, 519.02it/s]"
     ]
    },
    {
     "name": "stderr",
     "output_type": "stream",
     "text": [
      "Restoring states from the checkpoint path at /Users/benjaminvaca/Documents/USFQ/semestre7/machine_learning/proyecto/lightning_logs/version_267/checkpoints/epoch=2-step=102.ckpt\n"
     ]
    },
    {
     "name": "stdout",
     "output_type": "stream",
     "text": [
      "\n"
     ]
    },
    {
     "name": "stderr",
     "output_type": "stream",
     "text": [
      "Loaded model weights from the checkpoint at /Users/benjaminvaca/Documents/USFQ/semestre7/machine_learning/proyecto/lightning_logs/version_267/checkpoints/epoch=2-step=102.ckpt\n"
     ]
    },
    {
     "name": "stdout",
     "output_type": "stream",
     "text": [
      "Validation DataLoader 0: 100%|██████████| 9/9 [00:00<00:00, 475.51it/s]\n"
     ]
    },
    {
     "name": "stderr",
     "output_type": "stream",
     "text": [
      "Restoring states from the checkpoint path at /Users/benjaminvaca/Documents/USFQ/semestre7/machine_learning/proyecto/lightning_logs/version_267/checkpoints/epoch=2-step=102.ckpt\n",
      "Loaded model weights from the checkpoint at /Users/benjaminvaca/Documents/USFQ/semestre7/machine_learning/proyecto/lightning_logs/version_267/checkpoints/epoch=2-step=102.ckpt\n"
     ]
    },
    {
     "name": "stdout",
     "output_type": "stream",
     "text": [
      "Testing DataLoader 0: 100%|██████████| 11/11 [00:00<00:00, 474.87it/s]\n"
     ]
    },
    {
     "data": {
      "text/html": [
       "<pre style=\"white-space:pre;overflow-x:auto;line-height:normal;font-family:Menlo,'DejaVu Sans Mono',consolas,'Courier New',monospace\">┏━━━━━━━━━━━━━━━━━━━━━━━━━━━┳━━━━━━━━━━━━━━━━━━━━━━━━━━━┓\n",
       "┃<span style=\"font-weight: bold\">        Test metric        </span>┃<span style=\"font-weight: bold\">       DataLoader 0        </span>┃\n",
       "┡━━━━━━━━━━━━━━━━━━━━━━━━━━━╇━━━━━━━━━━━━━━━━━━━━━━━━━━━┩\n",
       "│<span style=\"color: #008080; text-decoration-color: #008080\">      test_f1ma_epoch      </span>│<span style=\"color: #800080; text-decoration-color: #800080\">    0.2028321772813797     </span>│\n",
       "│<span style=\"color: #008080; text-decoration-color: #008080\">      test_ham_epoch       </span>│<span style=\"color: #800080; text-decoration-color: #800080\">    0.27892494201660156    </span>│\n",
       "│<span style=\"color: #008080; text-decoration-color: #008080\">      test_loss_epoch      </span>│<span style=\"color: #800080; text-decoration-color: #800080\">     0.56369549036026      </span>│\n",
       "└───────────────────────────┴───────────────────────────┘\n",
       "</pre>\n"
      ],
      "text/plain": [
       "┏━━━━━━━━━━━━━━━━━━━━━━━━━━━┳━━━━━━━━━━━━━━━━━━━━━━━━━━━┓\n",
       "┃\u001b[1m \u001b[0m\u001b[1m       Test metric       \u001b[0m\u001b[1m \u001b[0m┃\u001b[1m \u001b[0m\u001b[1m      DataLoader 0       \u001b[0m\u001b[1m \u001b[0m┃\n",
       "┡━━━━━━━━━━━━━━━━━━━━━━━━━━━╇━━━━━━━━━━━━━━━━━━━━━━━━━━━┩\n",
       "│\u001b[36m \u001b[0m\u001b[36m     test_f1ma_epoch     \u001b[0m\u001b[36m \u001b[0m│\u001b[35m \u001b[0m\u001b[35m   0.2028321772813797    \u001b[0m\u001b[35m \u001b[0m│\n",
       "│\u001b[36m \u001b[0m\u001b[36m     test_ham_epoch      \u001b[0m\u001b[36m \u001b[0m│\u001b[35m \u001b[0m\u001b[35m   0.27892494201660156   \u001b[0m\u001b[35m \u001b[0m│\n",
       "│\u001b[36m \u001b[0m\u001b[36m     test_loss_epoch     \u001b[0m\u001b[36m \u001b[0m│\u001b[35m \u001b[0m\u001b[35m    0.56369549036026     \u001b[0m\u001b[35m \u001b[0m│\n",
       "└───────────────────────────┴───────────────────────────┘\n"
      ]
     },
     "metadata": {},
     "output_type": "display_data"
    },
    {
     "name": "stdout",
     "output_type": "stream",
     "text": [
      "  loss: 0.5637 | hamming: 0.2789 | f1_macro: 0.2028\n",
      "Fold 9/10\n"
     ]
    },
    {
     "name": "stderr",
     "output_type": "stream",
     "text": [
      "GPU available: True (mps), used: False\n",
      "TPU available: False, using: 0 TPU cores\n",
      "HPU available: False, using: 0 HPUs\n",
      "\n",
      "  | Name       | Type                      | Params | Mode \n",
      "-----------------------------------------------------------------\n",
      "0 | classifier | Sequential                | 333 K  | train\n",
      "1 | loss       | BCEWithLogitsLoss         | 0      | train\n",
      "2 | hamming    | MultilabelHammingDistance | 0      | train\n",
      "3 | f1_macro   | MultilabelF1Score         | 0      | train\n",
      "-----------------------------------------------------------------\n",
      "333 K     Trainable params\n",
      "0         Non-trainable params\n",
      "333 K     Total params\n",
      "1.332     Total estimated model params size (MB)\n",
      "17        Modules in train mode\n",
      "0         Modules in eval mode\n"
     ]
    },
    {
     "name": "stdout",
     "output_type": "stream",
     "text": [
      "Epoch 3: 100%|██████████| 34/34 [00:00<00:00, 196.19it/s, v_num=268, train_loss=0.559, train_ham=0.293, train_f1ma=0.296, val_loss_step=0.546, val_ham_step=0.385, val_f1ma_step=0.0632, val_loss_epoch=0.557, val_ham_epoch=0.288, val_f1ma_epoch=0.192]\n"
     ]
    },
    {
     "name": "stderr",
     "output_type": "stream",
     "text": [
      "Restoring states from the checkpoint path at /Users/benjaminvaca/Documents/USFQ/semestre7/machine_learning/proyecto/lightning_logs/version_268/checkpoints/epoch=0-step=34.ckpt\n",
      "Loaded model weights from the checkpoint at /Users/benjaminvaca/Documents/USFQ/semestre7/machine_learning/proyecto/lightning_logs/version_268/checkpoints/epoch=0-step=34.ckpt\n"
     ]
    },
    {
     "name": "stdout",
     "output_type": "stream",
     "text": [
      "Validation DataLoader 0: 100%|██████████| 34/34 [00:00<00:00, 525.27it/s]"
     ]
    },
    {
     "name": "stderr",
     "output_type": "stream",
     "text": [
      "Restoring states from the checkpoint path at /Users/benjaminvaca/Documents/USFQ/semestre7/machine_learning/proyecto/lightning_logs/version_268/checkpoints/epoch=0-step=34.ckpt\n"
     ]
    },
    {
     "name": "stdout",
     "output_type": "stream",
     "text": [
      "\n"
     ]
    },
    {
     "name": "stderr",
     "output_type": "stream",
     "text": [
      "Loaded model weights from the checkpoint at /Users/benjaminvaca/Documents/USFQ/semestre7/machine_learning/proyecto/lightning_logs/version_268/checkpoints/epoch=0-step=34.ckpt\n"
     ]
    },
    {
     "name": "stdout",
     "output_type": "stream",
     "text": [
      "Validation DataLoader 0: 100%|██████████| 9/9 [00:00<00:00, 493.52it/s]"
     ]
    },
    {
     "name": "stderr",
     "output_type": "stream",
     "text": [
      "Restoring states from the checkpoint path at /Users/benjaminvaca/Documents/USFQ/semestre7/machine_learning/proyecto/lightning_logs/version_268/checkpoints/epoch=0-step=34.ckpt\n"
     ]
    },
    {
     "name": "stdout",
     "output_type": "stream",
     "text": [
      "\n"
     ]
    },
    {
     "name": "stderr",
     "output_type": "stream",
     "text": [
      "Loaded model weights from the checkpoint at /Users/benjaminvaca/Documents/USFQ/semestre7/machine_learning/proyecto/lightning_logs/version_268/checkpoints/epoch=0-step=34.ckpt\n"
     ]
    },
    {
     "name": "stdout",
     "output_type": "stream",
     "text": [
      "Testing DataLoader 0: 100%|██████████| 11/11 [00:00<00:00, 463.39it/s]\n"
     ]
    },
    {
     "data": {
      "text/html": [
       "<pre style=\"white-space:pre;overflow-x:auto;line-height:normal;font-family:Menlo,'DejaVu Sans Mono',consolas,'Courier New',monospace\">┏━━━━━━━━━━━━━━━━━━━━━━━━━━━┳━━━━━━━━━━━━━━━━━━━━━━━━━━━┓\n",
       "┃<span style=\"font-weight: bold\">        Test metric        </span>┃<span style=\"font-weight: bold\">       DataLoader 0        </span>┃\n",
       "┡━━━━━━━━━━━━━━━━━━━━━━━━━━━╇━━━━━━━━━━━━━━━━━━━━━━━━━━━┩\n",
       "│<span style=\"color: #008080; text-decoration-color: #008080\">      test_f1ma_epoch      </span>│<span style=\"color: #800080; text-decoration-color: #800080\">    0.2014688402414322     </span>│\n",
       "│<span style=\"color: #008080; text-decoration-color: #008080\">      test_ham_epoch       </span>│<span style=\"color: #800080; text-decoration-color: #800080\">    0.30383479595184326    </span>│\n",
       "│<span style=\"color: #008080; text-decoration-color: #008080\">      test_loss_epoch      </span>│<span style=\"color: #800080; text-decoration-color: #800080\">    0.5903877019882202     </span>│\n",
       "└───────────────────────────┴───────────────────────────┘\n",
       "</pre>\n"
      ],
      "text/plain": [
       "┏━━━━━━━━━━━━━━━━━━━━━━━━━━━┳━━━━━━━━━━━━━━━━━━━━━━━━━━━┓\n",
       "┃\u001b[1m \u001b[0m\u001b[1m       Test metric       \u001b[0m\u001b[1m \u001b[0m┃\u001b[1m \u001b[0m\u001b[1m      DataLoader 0       \u001b[0m\u001b[1m \u001b[0m┃\n",
       "┡━━━━━━━━━━━━━━━━━━━━━━━━━━━╇━━━━━━━━━━━━━━━━━━━━━━━━━━━┩\n",
       "│\u001b[36m \u001b[0m\u001b[36m     test_f1ma_epoch     \u001b[0m\u001b[36m \u001b[0m│\u001b[35m \u001b[0m\u001b[35m   0.2014688402414322    \u001b[0m\u001b[35m \u001b[0m│\n",
       "│\u001b[36m \u001b[0m\u001b[36m     test_ham_epoch      \u001b[0m\u001b[36m \u001b[0m│\u001b[35m \u001b[0m\u001b[35m   0.30383479595184326   \u001b[0m\u001b[35m \u001b[0m│\n",
       "│\u001b[36m \u001b[0m\u001b[36m     test_loss_epoch     \u001b[0m\u001b[36m \u001b[0m│\u001b[35m \u001b[0m\u001b[35m   0.5903877019882202    \u001b[0m\u001b[35m \u001b[0m│\n",
       "└───────────────────────────┴───────────────────────────┘\n"
      ]
     },
     "metadata": {},
     "output_type": "display_data"
    },
    {
     "name": "stdout",
     "output_type": "stream",
     "text": [
      "  loss: 0.5904 | hamming: 0.3038 | f1_macro: 0.2015\n",
      "Fold 10/10\n"
     ]
    },
    {
     "name": "stderr",
     "output_type": "stream",
     "text": [
      "GPU available: True (mps), used: False\n",
      "TPU available: False, using: 0 TPU cores\n",
      "HPU available: False, using: 0 HPUs\n",
      "\n",
      "  | Name       | Type                      | Params | Mode \n",
      "-----------------------------------------------------------------\n",
      "0 | classifier | Sequential                | 333 K  | train\n",
      "1 | loss       | BCEWithLogitsLoss         | 0      | train\n",
      "2 | hamming    | MultilabelHammingDistance | 0      | train\n",
      "3 | f1_macro   | MultilabelF1Score         | 0      | train\n",
      "-----------------------------------------------------------------\n",
      "333 K     Trainable params\n",
      "0         Non-trainable params\n",
      "333 K     Total params\n",
      "1.332     Total estimated model params size (MB)\n",
      "17        Modules in train mode\n",
      "0         Modules in eval mode\n"
     ]
    },
    {
     "name": "stdout",
     "output_type": "stream",
     "text": [
      "Epoch 4: 100%|██████████| 34/34 [00:00<00:00, 194.74it/s, v_num=269, train_loss=0.601, train_ham=0.322, train_f1ma=0.223, val_loss_step=0.548, val_ham_step=0.259, val_f1ma_step=0.136, val_loss_epoch=0.567, val_ham_epoch=0.316, val_f1ma_epoch=0.172] \n"
     ]
    },
    {
     "name": "stderr",
     "output_type": "stream",
     "text": [
      "Restoring states from the checkpoint path at /Users/benjaminvaca/Documents/USFQ/semestre7/machine_learning/proyecto/lightning_logs/version_269/checkpoints/epoch=1-step=68.ckpt\n",
      "Loaded model weights from the checkpoint at /Users/benjaminvaca/Documents/USFQ/semestre7/machine_learning/proyecto/lightning_logs/version_269/checkpoints/epoch=1-step=68.ckpt\n"
     ]
    },
    {
     "name": "stdout",
     "output_type": "stream",
     "text": [
      "Validation DataLoader 0: 100%|██████████| 34/34 [00:00<00:00, 523.03it/s]"
     ]
    },
    {
     "name": "stderr",
     "output_type": "stream",
     "text": [
      "Restoring states from the checkpoint path at /Users/benjaminvaca/Documents/USFQ/semestre7/machine_learning/proyecto/lightning_logs/version_269/checkpoints/epoch=1-step=68.ckpt\n"
     ]
    },
    {
     "name": "stdout",
     "output_type": "stream",
     "text": [
      "\n"
     ]
    },
    {
     "name": "stderr",
     "output_type": "stream",
     "text": [
      "Loaded model weights from the checkpoint at /Users/benjaminvaca/Documents/USFQ/semestre7/machine_learning/proyecto/lightning_logs/version_269/checkpoints/epoch=1-step=68.ckpt\n"
     ]
    },
    {
     "name": "stdout",
     "output_type": "stream",
     "text": [
      "Validation DataLoader 0: 100%|██████████| 9/9 [00:00<00:00, 499.26it/s]"
     ]
    },
    {
     "name": "stderr",
     "output_type": "stream",
     "text": [
      "Restoring states from the checkpoint path at /Users/benjaminvaca/Documents/USFQ/semestre7/machine_learning/proyecto/lightning_logs/version_269/checkpoints/epoch=1-step=68.ckpt\n"
     ]
    },
    {
     "name": "stdout",
     "output_type": "stream",
     "text": [
      "\n"
     ]
    },
    {
     "name": "stderr",
     "output_type": "stream",
     "text": [
      "Loaded model weights from the checkpoint at /Users/benjaminvaca/Documents/USFQ/semestre7/machine_learning/proyecto/lightning_logs/version_269/checkpoints/epoch=1-step=68.ckpt\n"
     ]
    },
    {
     "name": "stdout",
     "output_type": "stream",
     "text": [
      "Testing DataLoader 0: 100%|██████████| 11/11 [00:00<00:00, 258.10it/s]\n"
     ]
    },
    {
     "data": {
      "text/html": [
       "<pre style=\"white-space:pre;overflow-x:auto;line-height:normal;font-family:Menlo,'DejaVu Sans Mono',consolas,'Courier New',monospace\">┏━━━━━━━━━━━━━━━━━━━━━━━━━━━┳━━━━━━━━━━━━━━━━━━━━━━━━━━━┓\n",
       "┃<span style=\"font-weight: bold\">        Test metric        </span>┃<span style=\"font-weight: bold\">       DataLoader 0        </span>┃\n",
       "┡━━━━━━━━━━━━━━━━━━━━━━━━━━━╇━━━━━━━━━━━━━━━━━━━━━━━━━━━┩\n",
       "│<span style=\"color: #008080; text-decoration-color: #008080\">      test_f1ma_epoch      </span>│<span style=\"color: #800080; text-decoration-color: #800080\">    0.22941149771213531    </span>│\n",
       "│<span style=\"color: #008080; text-decoration-color: #008080\">      test_ham_epoch       </span>│<span style=\"color: #800080; text-decoration-color: #800080\">    0.29367420077323914    </span>│\n",
       "│<span style=\"color: #008080; text-decoration-color: #008080\">      test_loss_epoch      </span>│<span style=\"color: #800080; text-decoration-color: #800080\">    0.5756273865699768     </span>│\n",
       "└───────────────────────────┴───────────────────────────┘\n",
       "</pre>\n"
      ],
      "text/plain": [
       "┏━━━━━━━━━━━━━━━━━━━━━━━━━━━┳━━━━━━━━━━━━━━━━━━━━━━━━━━━┓\n",
       "┃\u001b[1m \u001b[0m\u001b[1m       Test metric       \u001b[0m\u001b[1m \u001b[0m┃\u001b[1m \u001b[0m\u001b[1m      DataLoader 0       \u001b[0m\u001b[1m \u001b[0m┃\n",
       "┡━━━━━━━━━━━━━━━━━━━━━━━━━━━╇━━━━━━━━━━━━━━━━━━━━━━━━━━━┩\n",
       "│\u001b[36m \u001b[0m\u001b[36m     test_f1ma_epoch     \u001b[0m\u001b[36m \u001b[0m│\u001b[35m \u001b[0m\u001b[35m   0.22941149771213531   \u001b[0m\u001b[35m \u001b[0m│\n",
       "│\u001b[36m \u001b[0m\u001b[36m     test_ham_epoch      \u001b[0m\u001b[36m \u001b[0m│\u001b[35m \u001b[0m\u001b[35m   0.29367420077323914   \u001b[0m\u001b[35m \u001b[0m│\n",
       "│\u001b[36m \u001b[0m\u001b[36m     test_loss_epoch     \u001b[0m\u001b[36m \u001b[0m│\u001b[35m \u001b[0m\u001b[35m   0.5756273865699768    \u001b[0m\u001b[35m \u001b[0m│\n",
       "└───────────────────────────┴───────────────────────────┘\n"
      ]
     },
     "metadata": {},
     "output_type": "display_data"
    },
    {
     "name": "stdout",
     "output_type": "stream",
     "text": [
      "  loss: 0.5756 | hamming: 0.2937 | f1_macro: 0.2294\n",
      "\n",
      "F1-macro promedio: 0.2147 ± 0.0139\n",
      "Hamming promedio: 0.2880 ± 0.0090\n",
      "Pérdida promedio:         0.5714 ± 0.0114\n",
      "HU=[256, 256, 256]  L2=0.0001 → val_f1ma: 0.2147\n",
      "🏆 Mejor configuración: {'hidden_units': [256, 256, 256], 'lambda_L2': 0.0001} → val_f1ma: 0.21466970592737197\n"
     ]
    }
   ],
   "source": [
    "best_score = -float('inf')\n",
    "best_params = None\n",
    "\n",
    "grid_results = {} \n",
    "for p in param_grid:\n",
    "    # devuelvo sólo la media de val_f1ma:\n",
    "    mean_val_f1 = ValidacionCruzada(\n",
    "        hidden_units = p['hidden_units'],\n",
    "        Xtrain       = X_train,\n",
    "        ytrain       = y_trainOHE,\n",
    "        Xtest        = X_test,\n",
    "        ytest        = y_testOHE,\n",
    "        batch_size   = 32,\n",
    "        n_splits     = 5,\n",
    "        n_repeats    = 2,\n",
    "        max_epochs   = 50,\n",
    "        lambda_L2    = p['lambda_L2'],\n",
    "    )['avg_f1_macro']\n",
    "\n",
    "    arch_str = \"-\".join(map(str, p['hidden_units']))\n",
    "    grid_results[(arch_str, p['lambda_L2'])] = mean_val_f1\n",
    "    print(f\"HU={p['hidden_units']}  L2={p['lambda_L2']} → val_f1ma: {mean_val_f1:.4f}\")\n",
    "    if mean_val_f1 > best_score:\n",
    "        best_score = mean_val_f1\n",
    "        best_params = p\n",
    "\n",
    "print(\"🏆 Mejor configuración:\", best_params, \"→ val_f1ma:\", best_score)\n"
   ]
  },
  {
   "cell_type": "code",
   "execution_count": 31,
   "metadata": {},
   "outputs": [
    {
     "data": {
      "text/plain": [
       "Reusing TensorBoard on port 6006 (pid 25004), started 0:00:02 ago. (Use '!kill 25004' to kill it.)"
      ]
     },
     "metadata": {},
     "output_type": "display_data"
    },
    {
     "data": {
      "text/html": [
       "\n",
       "      <iframe id=\"tensorboard-frame-a32bdb6f90eb053a\" width=\"100%\" height=\"800\" frameborder=\"0\">\n",
       "      </iframe>\n",
       "      <script>\n",
       "        (function() {\n",
       "          const frame = document.getElementById(\"tensorboard-frame-a32bdb6f90eb053a\");\n",
       "          const url = new URL(\"http://localhost\");\n",
       "          const port = 6006;\n",
       "          if (port) {\n",
       "            url.port = port;\n",
       "          }\n",
       "          frame.src = url;\n",
       "        })();\n",
       "      </script>\n",
       "    "
      ],
      "text/plain": [
       "<IPython.core.display.HTML object>"
      ]
     },
     "metadata": {},
     "output_type": "display_data"
    }
   ],
   "source": [
    "%reload_ext tensorboard\n",
    "%tensorboard --logdir \"lightning_logs\""
   ]
  },
  {
   "cell_type": "code",
   "execution_count": 30,
   "metadata": {},
   "outputs": [
    {
     "data": {
      "image/png": "[encoded data removed]",
      "text/plain": [
       "<Figure size 640x480 with 2 Axes>"
      ]
     },
     "metadata": {},
     "output_type": "display_data"
    }
   ],
   "source": [
    "import numpy as np\n",
    "import matplotlib.pyplot as plt\n",
    "\n",
    "archs = sorted({k[0] for k in grid_results})\n",
    "l2s   = sorted({k[1] for k in grid_results})\n",
    "heat  = np.zeros((len(l2s), len(archs)))\n",
    "\n",
    "for i, l2 in enumerate(l2s):\n",
    "    for j, arch in enumerate(archs):\n",
    "        heat[i, j] = grid_results[(arch, l2)]\n",
    "\n",
    "plt.imshow(heat, origin='lower', aspect='auto')\n",
    "plt.colorbar(label='Mean valid. F1-macro')\n",
    "plt.xticks(np.arange(len(archs)), archs, rotation=45)\n",
    "plt.yticks(np.arange(len(l2s)), l2s)\n",
    "plt.xlabel('Hidden layers')\n",
    "plt.ylabel('λ (L2)')\n",
    "plt.title('Grid Search: valid. F1-macro')\n",
    "plt.tight_layout()\n",
    "plt.show()\n"
   ]
  }
 ],
 "metadata": {
  "kernelspec": {
   "display_name": "Python 3",
   "language": "python",
   "name": "python3"
  },
  "language_info": {
   "codemirror_mode": {
    "name": "ipython",
    "version": 3
   },
   "file_extension": ".py",
   "mimetype": "text/x-python",
   "name": "python",
   "nbconvert_exporter": "python",
   "pygments_lexer": "ipython3",
   "version": "3.12.7"
  }
 },
 "nbformat": 4,
 "nbformat_minor": 2
}
