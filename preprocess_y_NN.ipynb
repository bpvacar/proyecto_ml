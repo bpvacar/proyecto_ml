{
 "cells": [
  {
   "cell_type": "markdown",
   "metadata": {},
   "source": [
    "## preparar la base de datos"
   ]
  },
  {
   "cell_type": "code",
   "execution_count": 22,
   "metadata": {},
   "outputs": [
    {
     "name": "stdout",
     "output_type": "stream",
     "text": [
      "❌ Faltan archivos: V → en /Users/benjaminvaca/Documents/USFQ/semestre7/machine_learning/proyecto/Base-sismos-2024/1 Stiker Slip (SS)/Mag. 4-6/Vs30. 200-400\n",
      "❌ Faltan archivos: V → en /Users/benjaminvaca/Documents/USFQ/semestre7/machine_learning/proyecto/Base-sismos-2024/1 Stiker Slip (SS)/Mag. 4-6/Vs30. 200-400\n",
      "❌ Faltan archivos: V → en /Users/benjaminvaca/Documents/USFQ/semestre7/machine_learning/proyecto/Base-sismos-2024/1 Stiker Slip (SS)/Mag. 4-6/Vs30. 200-400\n",
      "📁 1 Stiker Slip (SS) | Mag. 4-6 | Vs30. 200-400 → ✅ 97 eventos válidos\n",
      "❌ Faltan archivos: V → en /Users/benjaminvaca/Documents/USFQ/semestre7/machine_learning/proyecto/Base-sismos-2024/1 Stiker Slip (SS)/Mag. 4-6/Vs30. 400-600\n",
      "❌ Faltan archivos: V → en /Users/benjaminvaca/Documents/USFQ/semestre7/machine_learning/proyecto/Base-sismos-2024/1 Stiker Slip (SS)/Mag. 4-6/Vs30. 400-600\n",
      "📁 1 Stiker Slip (SS) | Mag. 4-6 | Vs30. 400-600 → ✅ 98 eventos válidos\n",
      "📁 1 Stiker Slip (SS) | Mag. 4-6 | Vs30. 0-200 → ✅ 40 eventos válidos\n",
      "❌ Faltan archivos: V → en /Users/benjaminvaca/Documents/USFQ/semestre7/machine_learning/proyecto/Base-sismos-2024/1 Stiker Slip (SS)/Mag. 4-6/Vs30. 600-\n",
      "❌ Faltan archivos: V → en /Users/benjaminvaca/Documents/USFQ/semestre7/machine_learning/proyecto/Base-sismos-2024/1 Stiker Slip (SS)/Mag. 4-6/Vs30. 600-\n",
      "❌ Faltan archivos: V → en /Users/benjaminvaca/Documents/USFQ/semestre7/machine_learning/proyecto/Base-sismos-2024/1 Stiker Slip (SS)/Mag. 4-6/Vs30. 600-\n",
      "📁 1 Stiker Slip (SS) | Mag. 4-6 | Vs30. 600- → ✅ 88 eventos válidos\n",
      "❌ Faltan archivos: V → en /Users/benjaminvaca/Documents/USFQ/semestre7/machine_learning/proyecto/Base-sismos-2024/1 Stiker Slip (SS)/Mag. 6-8/Vs30. 200-400\n",
      "📁 1 Stiker Slip (SS) | Mag. 6-8 | Vs30. 200-400 → ✅ 60 eventos válidos\n",
      "📁 1 Stiker Slip (SS) | Mag. 6-8 | Vs30. 400-600 → ✅ 101 eventos válidos\n",
      "❌ Faltan archivos: V → en /Users/benjaminvaca/Documents/USFQ/semestre7/machine_learning/proyecto/Base-sismos-2024/1 Stiker Slip (SS)/Mag. 6-8/Vs30. 0-200\n",
      "❌ Faltan archivos: H1 → en /Users/benjaminvaca/Documents/USFQ/semestre7/machine_learning/proyecto/Base-sismos-2024/1 Stiker Slip (SS)/Mag. 6-8/Vs30. 0-200\n",
      "❌ Faltan archivos: H1 → en /Users/benjaminvaca/Documents/USFQ/semestre7/machine_learning/proyecto/Base-sismos-2024/1 Stiker Slip (SS)/Mag. 6-8/Vs30. 0-200\n",
      "❌ Faltan archivos: H1 → en /Users/benjaminvaca/Documents/USFQ/semestre7/machine_learning/proyecto/Base-sismos-2024/1 Stiker Slip (SS)/Mag. 6-8/Vs30. 0-200\n",
      "❌ Faltan archivos: H1 → en /Users/benjaminvaca/Documents/USFQ/semestre7/machine_learning/proyecto/Base-sismos-2024/1 Stiker Slip (SS)/Mag. 6-8/Vs30. 0-200\n",
      "❌ Faltan archivos: H1 → en /Users/benjaminvaca/Documents/USFQ/semestre7/machine_learning/proyecto/Base-sismos-2024/1 Stiker Slip (SS)/Mag. 6-8/Vs30. 0-200\n",
      "❌ Faltan archivos: H1 → en /Users/benjaminvaca/Documents/USFQ/semestre7/machine_learning/proyecto/Base-sismos-2024/1 Stiker Slip (SS)/Mag. 6-8/Vs30. 0-200\n",
      "❌ Faltan archivos: H2 → en /Users/benjaminvaca/Documents/USFQ/semestre7/machine_learning/proyecto/Base-sismos-2024/1 Stiker Slip (SS)/Mag. 6-8/Vs30. 0-200\n",
      "❌ Faltan archivos: H2 → en /Users/benjaminvaca/Documents/USFQ/semestre7/machine_learning/proyecto/Base-sismos-2024/1 Stiker Slip (SS)/Mag. 6-8/Vs30. 0-200\n",
      "❌ Faltan archivos: H1 → en /Users/benjaminvaca/Documents/USFQ/semestre7/machine_learning/proyecto/Base-sismos-2024/1 Stiker Slip (SS)/Mag. 6-8/Vs30. 0-200\n",
      "❌ Faltan archivos: H1 → en /Users/benjaminvaca/Documents/USFQ/semestre7/machine_learning/proyecto/Base-sismos-2024/1 Stiker Slip (SS)/Mag. 6-8/Vs30. 0-200\n",
      "❌ Faltan archivos: H1 → en /Users/benjaminvaca/Documents/USFQ/semestre7/machine_learning/proyecto/Base-sismos-2024/1 Stiker Slip (SS)/Mag. 6-8/Vs30. 0-200\n",
      "❌ Faltan archivos: H1 → en /Users/benjaminvaca/Documents/USFQ/semestre7/machine_learning/proyecto/Base-sismos-2024/1 Stiker Slip (SS)/Mag. 6-8/Vs30. 0-200\n",
      "❌ Faltan archivos: H1 → en /Users/benjaminvaca/Documents/USFQ/semestre7/machine_learning/proyecto/Base-sismos-2024/1 Stiker Slip (SS)/Mag. 6-8/Vs30. 0-200\n",
      "❌ Faltan archivos: H1 → en /Users/benjaminvaca/Documents/USFQ/semestre7/machine_learning/proyecto/Base-sismos-2024/1 Stiker Slip (SS)/Mag. 6-8/Vs30. 0-200\n",
      "❌ Faltan archivos: H1 → en /Users/benjaminvaca/Documents/USFQ/semestre7/machine_learning/proyecto/Base-sismos-2024/1 Stiker Slip (SS)/Mag. 6-8/Vs30. 0-200\n",
      "❌ Faltan archivos: H1 → en /Users/benjaminvaca/Documents/USFQ/semestre7/machine_learning/proyecto/Base-sismos-2024/1 Stiker Slip (SS)/Mag. 6-8/Vs30. 0-200\n",
      "❌ Faltan archivos: H1 → en /Users/benjaminvaca/Documents/USFQ/semestre7/machine_learning/proyecto/Base-sismos-2024/1 Stiker Slip (SS)/Mag. 6-8/Vs30. 0-200\n",
      "❌ Faltan archivos: H1 → en /Users/benjaminvaca/Documents/USFQ/semestre7/machine_learning/proyecto/Base-sismos-2024/1 Stiker Slip (SS)/Mag. 6-8/Vs30. 0-200\n",
      "❌ Faltan archivos: H1 → en /Users/benjaminvaca/Documents/USFQ/semestre7/machine_learning/proyecto/Base-sismos-2024/1 Stiker Slip (SS)/Mag. 6-8/Vs30. 0-200\n",
      "❌ Faltan archivos: H1 → en /Users/benjaminvaca/Documents/USFQ/semestre7/machine_learning/proyecto/Base-sismos-2024/1 Stiker Slip (SS)/Mag. 6-8/Vs30. 0-200\n",
      "❌ Faltan archivos: H1 → en /Users/benjaminvaca/Documents/USFQ/semestre7/machine_learning/proyecto/Base-sismos-2024/1 Stiker Slip (SS)/Mag. 6-8/Vs30. 0-200\n",
      "❌ Faltan archivos: H1 → en /Users/benjaminvaca/Documents/USFQ/semestre7/machine_learning/proyecto/Base-sismos-2024/1 Stiker Slip (SS)/Mag. 6-8/Vs30. 0-200\n",
      "❌ Faltan archivos: H1 → en /Users/benjaminvaca/Documents/USFQ/semestre7/machine_learning/proyecto/Base-sismos-2024/1 Stiker Slip (SS)/Mag. 6-8/Vs30. 0-200\n",
      "❌ Faltan archivos: H1 → en /Users/benjaminvaca/Documents/USFQ/semestre7/machine_learning/proyecto/Base-sismos-2024/1 Stiker Slip (SS)/Mag. 6-8/Vs30. 0-200\n",
      "❌ Faltan archivos: H1 → en /Users/benjaminvaca/Documents/USFQ/semestre7/machine_learning/proyecto/Base-sismos-2024/1 Stiker Slip (SS)/Mag. 6-8/Vs30. 0-200\n",
      "❌ Faltan archivos: H1 → en /Users/benjaminvaca/Documents/USFQ/semestre7/machine_learning/proyecto/Base-sismos-2024/1 Stiker Slip (SS)/Mag. 6-8/Vs30. 0-200\n",
      "❌ Faltan archivos: H1 → en /Users/benjaminvaca/Documents/USFQ/semestre7/machine_learning/proyecto/Base-sismos-2024/1 Stiker Slip (SS)/Mag. 6-8/Vs30. 0-200\n",
      "❌ Faltan archivos: H1 → en /Users/benjaminvaca/Documents/USFQ/semestre7/machine_learning/proyecto/Base-sismos-2024/1 Stiker Slip (SS)/Mag. 6-8/Vs30. 0-200\n",
      "❌ Faltan archivos: H1 → en /Users/benjaminvaca/Documents/USFQ/semestre7/machine_learning/proyecto/Base-sismos-2024/1 Stiker Slip (SS)/Mag. 6-8/Vs30. 0-200\n",
      "❌ Faltan archivos: H1 → en /Users/benjaminvaca/Documents/USFQ/semestre7/machine_learning/proyecto/Base-sismos-2024/1 Stiker Slip (SS)/Mag. 6-8/Vs30. 0-200\n",
      "❌ Faltan archivos: H1 → en /Users/benjaminvaca/Documents/USFQ/semestre7/machine_learning/proyecto/Base-sismos-2024/1 Stiker Slip (SS)/Mag. 6-8/Vs30. 0-200\n",
      "❌ Faltan archivos: H1 → en /Users/benjaminvaca/Documents/USFQ/semestre7/machine_learning/proyecto/Base-sismos-2024/1 Stiker Slip (SS)/Mag. 6-8/Vs30. 0-200\n",
      "❌ Faltan archivos: H1 → en /Users/benjaminvaca/Documents/USFQ/semestre7/machine_learning/proyecto/Base-sismos-2024/1 Stiker Slip (SS)/Mag. 6-8/Vs30. 0-200\n",
      "❌ Faltan archivos: H1 → en /Users/benjaminvaca/Documents/USFQ/semestre7/machine_learning/proyecto/Base-sismos-2024/1 Stiker Slip (SS)/Mag. 6-8/Vs30. 0-200\n",
      "❌ Faltan archivos: H1 → en /Users/benjaminvaca/Documents/USFQ/semestre7/machine_learning/proyecto/Base-sismos-2024/1 Stiker Slip (SS)/Mag. 6-8/Vs30. 0-200\n",
      "❌ Faltan archivos: H1 → en /Users/benjaminvaca/Documents/USFQ/semestre7/machine_learning/proyecto/Base-sismos-2024/1 Stiker Slip (SS)/Mag. 6-8/Vs30. 0-200\n",
      "❌ Faltan archivos: H1 → en /Users/benjaminvaca/Documents/USFQ/semestre7/machine_learning/proyecto/Base-sismos-2024/1 Stiker Slip (SS)/Mag. 6-8/Vs30. 0-200\n",
      "❌ Faltan archivos: H1 → en /Users/benjaminvaca/Documents/USFQ/semestre7/machine_learning/proyecto/Base-sismos-2024/1 Stiker Slip (SS)/Mag. 6-8/Vs30. 0-200\n",
      "❌ Faltan archivos: H1 → en /Users/benjaminvaca/Documents/USFQ/semestre7/machine_learning/proyecto/Base-sismos-2024/1 Stiker Slip (SS)/Mag. 6-8/Vs30. 0-200\n",
      "❌ Faltan archivos: H1 → en /Users/benjaminvaca/Documents/USFQ/semestre7/machine_learning/proyecto/Base-sismos-2024/1 Stiker Slip (SS)/Mag. 6-8/Vs30. 0-200\n",
      "❌ Faltan archivos: H1 → en /Users/benjaminvaca/Documents/USFQ/semestre7/machine_learning/proyecto/Base-sismos-2024/1 Stiker Slip (SS)/Mag. 6-8/Vs30. 0-200\n",
      "❌ Faltan archivos: H1 → en /Users/benjaminvaca/Documents/USFQ/semestre7/machine_learning/proyecto/Base-sismos-2024/1 Stiker Slip (SS)/Mag. 6-8/Vs30. 0-200\n",
      "❌ Faltan archivos: H1 → en /Users/benjaminvaca/Documents/USFQ/semestre7/machine_learning/proyecto/Base-sismos-2024/1 Stiker Slip (SS)/Mag. 6-8/Vs30. 0-200\n",
      "❌ Faltan archivos: H1 → en /Users/benjaminvaca/Documents/USFQ/semestre7/machine_learning/proyecto/Base-sismos-2024/1 Stiker Slip (SS)/Mag. 6-8/Vs30. 0-200\n",
      "❌ Faltan archivos: H1 → en /Users/benjaminvaca/Documents/USFQ/semestre7/machine_learning/proyecto/Base-sismos-2024/1 Stiker Slip (SS)/Mag. 6-8/Vs30. 0-200\n",
      "❌ Faltan archivos: H1 → en /Users/benjaminvaca/Documents/USFQ/semestre7/machine_learning/proyecto/Base-sismos-2024/1 Stiker Slip (SS)/Mag. 6-8/Vs30. 0-200\n",
      "❌ Faltan archivos: H1 → en /Users/benjaminvaca/Documents/USFQ/semestre7/machine_learning/proyecto/Base-sismos-2024/1 Stiker Slip (SS)/Mag. 6-8/Vs30. 0-200\n",
      "❌ Faltan archivos: H1 → en /Users/benjaminvaca/Documents/USFQ/semestre7/machine_learning/proyecto/Base-sismos-2024/1 Stiker Slip (SS)/Mag. 6-8/Vs30. 0-200\n",
      "❌ Faltan archivos: H1 → en /Users/benjaminvaca/Documents/USFQ/semestre7/machine_learning/proyecto/Base-sismos-2024/1 Stiker Slip (SS)/Mag. 6-8/Vs30. 0-200\n",
      "❌ Faltan archivos: H1 → en /Users/benjaminvaca/Documents/USFQ/semestre7/machine_learning/proyecto/Base-sismos-2024/1 Stiker Slip (SS)/Mag. 6-8/Vs30. 0-200\n",
      "❌ Faltan archivos: H1 → en /Users/benjaminvaca/Documents/USFQ/semestre7/machine_learning/proyecto/Base-sismos-2024/1 Stiker Slip (SS)/Mag. 6-8/Vs30. 0-200\n",
      "📁 1 Stiker Slip (SS) | Mag. 6-8 | Vs30. 0-200 → ✅ 37 eventos válidos\n",
      "📁 1 Stiker Slip (SS) | Mag. 6-8 | Vs30. 600- → ✅ 76 eventos válidos\n",
      "📁 2 Normal-Oblique | Mag. 4-6 | Vs30. 200-400 → ✅ 101 eventos válidos\n",
      "❌ Faltan archivos: V → en /Users/benjaminvaca/Documents/USFQ/semestre7/machine_learning/proyecto/Base-sismos-2024/2 Normal-Oblique/Mag. 4-6/Vs30. 400-600\n",
      "❌ Faltan archivos: V → en /Users/benjaminvaca/Documents/USFQ/semestre7/machine_learning/proyecto/Base-sismos-2024/2 Normal-Oblique/Mag. 4-6/Vs30. 400-600\n",
      "❌ Faltan archivos: V → en /Users/benjaminvaca/Documents/USFQ/semestre7/machine_learning/proyecto/Base-sismos-2024/2 Normal-Oblique/Mag. 4-6/Vs30. 400-600\n",
      "❌ Faltan archivos: V → en /Users/benjaminvaca/Documents/USFQ/semestre7/machine_learning/proyecto/Base-sismos-2024/2 Normal-Oblique/Mag. 4-6/Vs30. 400-600\n",
      "❌ Faltan archivos: V → en /Users/benjaminvaca/Documents/USFQ/semestre7/machine_learning/proyecto/Base-sismos-2024/2 Normal-Oblique/Mag. 4-6/Vs30. 400-600\n",
      "📁 2 Normal-Oblique | Mag. 4-6 | Vs30. 400-600 → ✅ 91 eventos válidos\n",
      "📁 2 Normal-Oblique | Mag. 4-6 | Vs30. 0-200 → ✅ 7 eventos válidos\n",
      "❌ Faltan archivos: V → en /Users/benjaminvaca/Documents/USFQ/semestre7/machine_learning/proyecto/Base-sismos-2024/2 Normal-Oblique/Mag. 4-6/Vs30. 600-\n",
      "❌ Faltan archivos: V → en /Users/benjaminvaca/Documents/USFQ/semestre7/machine_learning/proyecto/Base-sismos-2024/2 Normal-Oblique/Mag. 4-6/Vs30. 600-\n",
      "📁 2 Normal-Oblique | Mag. 4-6 | Vs30. 600- → ✅ 99 eventos válidos\n",
      "❌ Faltan archivos: V → en /Users/benjaminvaca/Documents/USFQ/semestre7/machine_learning/proyecto/Base-sismos-2024/2 Normal-Oblique/Mag. 6-8/Vs30. 200-400\n",
      "❌ Faltan archivos: V → en /Users/benjaminvaca/Documents/USFQ/semestre7/machine_learning/proyecto/Base-sismos-2024/2 Normal-Oblique/Mag. 6-8/Vs30. 200-400\n",
      "❌ Faltan archivos: V → en /Users/benjaminvaca/Documents/USFQ/semestre7/machine_learning/proyecto/Base-sismos-2024/2 Normal-Oblique/Mag. 6-8/Vs30. 200-400\n",
      "❌ Faltan archivos: V → en /Users/benjaminvaca/Documents/USFQ/semestre7/machine_learning/proyecto/Base-sismos-2024/2 Normal-Oblique/Mag. 6-8/Vs30. 200-400\n",
      "📁 2 Normal-Oblique | Mag. 6-8 | Vs30. 200-400 → ✅ 34 eventos válidos\n",
      "📁 2 Normal-Oblique | Mag. 6-8 | Vs30. 400-600 → ✅ 60 eventos válidos\n",
      "📁 2 Normal-Oblique | Mag. 6-8 | Vs30. 0-200 → ✅ 1 eventos válidos\n",
      "📁 2 Normal-Oblique | Mag. 6-8 | Vs30. 600- → ✅ 14 eventos válidos\n",
      "❌ Faltan archivos: V → en /Users/benjaminvaca/Documents/USFQ/semestre7/machine_learning/proyecto/Base-sismos-2024/3 Reverse-Oblique/Mag. 4-6/Vs30. 200-400\n",
      "❌ Faltan archivos: V → en /Users/benjaminvaca/Documents/USFQ/semestre7/machine_learning/proyecto/Base-sismos-2024/3 Reverse-Oblique/Mag. 4-6/Vs30. 200-400\n",
      "📁 3 Reverse-Oblique | Mag. 4-6 | Vs30. 200-400 → ✅ 98 eventos válidos\n",
      "❌ Faltan archivos: V → en /Users/benjaminvaca/Documents/USFQ/semestre7/machine_learning/proyecto/Base-sismos-2024/3 Reverse-Oblique/Mag. 4-6/Vs30. 400-600\n",
      "❌ Faltan archivos: V → en /Users/benjaminvaca/Documents/USFQ/semestre7/machine_learning/proyecto/Base-sismos-2024/3 Reverse-Oblique/Mag. 4-6/Vs30. 400-600\n",
      "❌ Faltan archivos: V → en /Users/benjaminvaca/Documents/USFQ/semestre7/machine_learning/proyecto/Base-sismos-2024/3 Reverse-Oblique/Mag. 4-6/Vs30. 400-600\n",
      "❌ Faltan archivos: V → en /Users/benjaminvaca/Documents/USFQ/semestre7/machine_learning/proyecto/Base-sismos-2024/3 Reverse-Oblique/Mag. 4-6/Vs30. 400-600\n",
      "❌ Faltan archivos: V → en /Users/benjaminvaca/Documents/USFQ/semestre7/machine_learning/proyecto/Base-sismos-2024/3 Reverse-Oblique/Mag. 4-6/Vs30. 400-600\n",
      "❌ Faltan archivos: V → en /Users/benjaminvaca/Documents/USFQ/semestre7/machine_learning/proyecto/Base-sismos-2024/3 Reverse-Oblique/Mag. 4-6/Vs30. 400-600\n",
      "❌ Faltan archivos: V → en /Users/benjaminvaca/Documents/USFQ/semestre7/machine_learning/proyecto/Base-sismos-2024/3 Reverse-Oblique/Mag. 4-6/Vs30. 400-600\n",
      "❌ Faltan archivos: V → en /Users/benjaminvaca/Documents/USFQ/semestre7/machine_learning/proyecto/Base-sismos-2024/3 Reverse-Oblique/Mag. 4-6/Vs30. 400-600\n",
      "📁 3 Reverse-Oblique | Mag. 4-6 | Vs30. 400-600 → ✅ 88 eventos válidos\n",
      "📁 3 Reverse-Oblique | Mag. 4-6 | Vs30. 0-200 → ✅ 35 eventos válidos\n",
      "❌ Faltan archivos: V → en /Users/benjaminvaca/Documents/USFQ/semestre7/machine_learning/proyecto/Base-sismos-2024/3 Reverse-Oblique/Mag. 4-6/Vs30. 600-\n",
      "📁 3 Reverse-Oblique | Mag. 4-6 | Vs30. 600- → ✅ 100 eventos válidos\n",
      "❌ Faltan archivos: V → en /Users/benjaminvaca/Documents/USFQ/semestre7/machine_learning/proyecto/Base-sismos-2024/3 Reverse-Oblique/Mag. 6-8/Vs30. 200-400\n",
      "❌ Faltan archivos: V → en /Users/benjaminvaca/Documents/USFQ/semestre7/machine_learning/proyecto/Base-sismos-2024/3 Reverse-Oblique/Mag. 6-8/Vs30. 200-400\n",
      "❌ Faltan archivos: V → en /Users/benjaminvaca/Documents/USFQ/semestre7/machine_learning/proyecto/Base-sismos-2024/3 Reverse-Oblique/Mag. 6-8/Vs30. 200-400\n",
      "❌ Faltan archivos: V → en /Users/benjaminvaca/Documents/USFQ/semestre7/machine_learning/proyecto/Base-sismos-2024/3 Reverse-Oblique/Mag. 6-8/Vs30. 200-400\n",
      "📁 3 Reverse-Oblique | Mag. 6-8 | Vs30. 200-400 → ✅ 96 eventos válidos\n",
      "❌ Faltan archivos: V → en /Users/benjaminvaca/Documents/USFQ/semestre7/machine_learning/proyecto/Base-sismos-2024/3 Reverse-Oblique/Mag. 6-8/Vs30. 400-600\n",
      "📁 3 Reverse-Oblique | Mag. 6-8 | Vs30. 400-600 → ✅ 95 eventos válidos\n",
      "📁 3 Reverse-Oblique | Mag. 6-8 | Vs30. 0-200 → ✅ 81 eventos válidos\n",
      "❌ Faltan archivos: V → en /Users/benjaminvaca/Documents/USFQ/semestre7/machine_learning/proyecto/Base-sismos-2024/3 Reverse-Oblique/Mag. 6-8/Vs30. 600-\n",
      "❌ Faltan archivos: V → en /Users/benjaminvaca/Documents/USFQ/semestre7/machine_learning/proyecto/Base-sismos-2024/3 Reverse-Oblique/Mag. 6-8/Vs30. 600-\n",
      "📁 3 Reverse-Oblique | Mag. 6-8 | Vs30. 600- → ✅ 99 eventos válidos\n",
      "\n",
      "📄 Archivo CSV generado: eventos_validos.csv\n",
      "\n",
      "🎯 TOTAL GLOBAL de eventos válidos con los tres componentes: 1696\n"
     ]
    }
   ],
   "source": [
    "# código funciona perfectamente\n",
    "import os\n",
    "import csv\n",
    "\n",
    "def cargar_lineas_validas(csv_path, salto=34):\n",
    "    lineas = []\n",
    "    with open(csv_path, 'r', encoding='utf-8', errors='ignore') as f:\n",
    "        for i, line in enumerate(f):\n",
    "            if i >= salto:\n",
    "                if line.strip() == \"\":\n",
    "                    break\n",
    "                lineas.append(line.strip())\n",
    "    return lineas\n",
    "\n",
    "def encontrar_ruta_componente(archivo, dirs_prioridad):\n",
    "    for d in dirs_prioridad:\n",
    "        posible = os.path.join(d, archivo)\n",
    "        if os.path.exists(posible):\n",
    "            return posible\n",
    "    return None\n",
    "\n",
    "def procesar_vs30(tipo, magnitud, vs30, vs30_path, registros_validos):\n",
    "    componentes = {\n",
    "        \"H1\": os.path.join(vs30_path, \"Componente Horizontal 1\"),\n",
    "        \"H2\": os.path.join(vs30_path, \"Componente Horizontal 2\"),\n",
    "        \"V\":  os.path.join(vs30_path, \"Componente Vertical\")\n",
    "    }\n",
    "    search_csv = os.path.join(vs30_path, \"_SearchResults.csv\")\n",
    "    if not os.path.isfile(search_csv):\n",
    "        print(f\"⚠️ No se encuentra el archivo CSV: {search_csv}\")\n",
    "        return 0\n",
    "\n",
    "    lineas = cargar_lineas_validas(search_csv)\n",
    "    if not lineas:\n",
    "        print(f\"⚠️ No se encontraron líneas válidas en el CSV: {search_csv}\")\n",
    "        return 0\n",
    "\n",
    "    validos = 0\n",
    "    for linea in lineas:\n",
    "        row = linea.split(\",\")\n",
    "        if len(row) < 3:\n",
    "            continue\n",
    "        arch_h1, arch_h2, arch_v = row[-3].strip(), row[-2].strip(), row[-1].strip()\n",
    "        ruta_h1 = encontrar_ruta_componente(arch_h1, [componentes[\"H1\"], componentes[\"H2\"], componentes[\"V\"]])\n",
    "        ruta_h2 = encontrar_ruta_componente(arch_h2, [componentes[\"H2\"], componentes[\"H1\"]])\n",
    "        ruta_v  = encontrar_ruta_componente(arch_v,  [componentes[\"V\"],  componentes[\"H1\"], componentes[\"H2\"]])\n",
    "        \n",
    "        if ruta_h1 and ruta_h2 and ruta_v:\n",
    "            validos += 1\n",
    "            registros_validos.append({\n",
    "                \"Tipo de evento\": tipo,\n",
    "                \"Magnitud\": magnitud,\n",
    "                \"Vs30\": vs30,\n",
    "                \"Archivo H1\": arch_h1,\n",
    "                \"Ruta H1\": ruta_h1,\n",
    "                \"Archivo H2\": arch_h2,\n",
    "                \"Ruta H2\": ruta_h2,\n",
    "                \"Archivo V\": arch_v,\n",
    "                \"Ruta V\": ruta_v\n",
    "            })\n",
    "        else:\n",
    "            print(\"❌ Faltan archivos:\", end=\" \")\n",
    "            if not ruta_h1: print(\"H1\", end=\" \")\n",
    "            if not ruta_h2: print(\"H2\", end=\" \")\n",
    "            if not ruta_v:  print(\"V\",  end=\" \")\n",
    "            print(f\"→ en {vs30_path}\")\n",
    "    return validos\n",
    "\n",
    "def contar_eventos_validos_y_guardar_csv(base_path, tipos_evento, archivo_salida=\"eventos_validos.csv\"):\n",
    "    total_global = 0\n",
    "    registros_validos = []\n",
    "\n",
    "    for tipo in tipos_evento:\n",
    "        tipo_path = os.path.join(base_path, tipo)\n",
    "        if not os.path.isdir(tipo_path):\n",
    "            print(f\"❌ No existe la carpeta de tipo: {tipo_path}\")\n",
    "            continue\n",
    "\n",
    "        for magnitud in os.listdir(tipo_path):\n",
    "            mag_path = os.path.join(tipo_path, magnitud)\n",
    "            if not os.path.isdir(mag_path):\n",
    "                continue\n",
    "\n",
    "            for vs30 in os.listdir(mag_path):\n",
    "                vs30_path = os.path.join(mag_path, vs30)\n",
    "                if not os.path.isdir(vs30_path):\n",
    "                    continue\n",
    "\n",
    "                total_local = procesar_vs30(tipo, magnitud, vs30, vs30_path, registros_validos)\n",
    "                total_global += total_local\n",
    "\n",
    "                estado = \"✅\" if total_local > 0 else \"⚠️\"\n",
    "                print(f\"📁 {tipo} | {magnitud} | {vs30} → {estado} {total_local} eventos válidos\")\n",
    "\n",
    "    # Guardar CSV\n",
    "    if registros_validos:\n",
    "        campos = list(registros_validos[0].keys())\n",
    "        with open(archivo_salida, 'w', newline='', encoding='utf-8') as f:\n",
    "            writer = csv.DictWriter(f, fieldnames=campos)\n",
    "            writer.writeheader()\n",
    "            writer.writerows(registros_validos)\n",
    "        print(f\"\\n📄 Archivo CSV generado: {archivo_salida}\")\n",
    "    else:\n",
    "        print(\"\\n⚠️ No se generó ningún registro válido, no se creó el CSV.\")\n",
    "\n",
    "    return total_global\n",
    "\n",
    "# Ejecutar\n",
    "base_dir = os.path.join(os.getcwd(), \"Base-sismos-2024\")\n",
    "tipos = [\"1 Stiker Slip (SS)\", \"2 Normal-Oblique\", \"3 Reverse-Oblique\"]\n",
    "total = contar_eventos_validos_y_guardar_csv(base_dir, tipos)\n",
    "print(\"\\n🎯 TOTAL GLOBAL de eventos válidos con los tres componentes:\", total)\n"
   ]
  },
  {
   "cell_type": "code",
   "execution_count": 23,
   "metadata": {},
   "outputs": [],
   "source": [
    "import pandas as pd"
   ]
  },
  {
   "cell_type": "code",
   "execution_count": 24,
   "metadata": {},
   "outputs": [],
   "source": [
    "df_completo = pd.read_csv('eventos_validos.csv', encoding='utf-8')"
   ]
  },
  {
   "cell_type": "code",
   "execution_count": 25,
   "metadata": {},
   "outputs": [],
   "source": [
    "# Creación del ID\n",
    "import pandas as pd\n",
    "import numpy as np\n",
    "ph1=df_completo['Archivo H1'].str.split('_').str[:2].str.join('_')\n",
    "ph2=df_completo['Archivo H2'].str.split('_').str[:2].str.join('_')\n",
    "phv=df_completo['Archivo V'].str.split('_').str[:2].str.join('_')\n",
    "\n",
    "mascara = (ph1 == ph2) & (ph1 == phv)\n",
    "df_completo.loc[mascara, 'Evento ID'] = ph1[mascara]\n",
    "columnas = ['Evento ID']+ [c for c in df_completo.columns if c != 'Evento ID']\n",
    "df_completo = df_completo[columnas] #Reordenar, luego esto se lo meteria en el codigo de Andres para que eeste mas clean\n",
    "\n",
    "#Nose como funciono esto, pero chat ayudo\n",
    "ocurrencias = df_completo.groupby('Evento ID').cumcount()\n",
    "mask_segundas = ocurrencias == 1\n",
    "\n",
    "# 3) Renombra sólo esas filas, añadiendo \"_2\" al final\n",
    "df_completo.loc[mask_segundas, 'Evento ID'] = (\n",
    "    df_completo.loc[mask_segundas, 'Evento ID'] + '_2'\n",
    ")\n",
    "\n",
    "df_completo['Evento ID'].nunique()\n",
    "df_completo.to_csv('eventos_actualizado.csv', index=False) #OJO A LOS NOMBRES DE ARCHIVO\n"
   ]
  },
  {
   "cell_type": "code",
   "execution_count": 26,
   "metadata": {},
   "outputs": [],
   "source": [
    "# Creo que tiene ya todo junto\n",
    "import re\n",
    "\n",
    "def processNGAfile3(filepath, scalefactor=None):\n",
    "    \"\"\"\n",
    "    Lee un .AT2 y devuelve (npts, dt, time, inp_acc), buscando dinámicamente\n",
    "    la línea con NPTS= y DT=, y detectando el inicio de los datos numéricos.\n",
    "    \"\"\"\n",
    "    if scalefactor is None:\n",
    "        scalefactor = 1.0\n",
    "\n",
    "    with open(filepath, 'r') as f:\n",
    "        lines = f.readlines()\n",
    "\n",
    "    # 1) Buscar NPTS y DT en las primeras 20 líneas\n",
    "    npts = dt = None\n",
    "    for line in lines[:20]:\n",
    "        m_n = re.search(r'NPTS\\s*=\\s*([0-9]+)', line)\n",
    "        m_d = re.search(r'DT\\s*=\\s*([0-9]*\\.?[0-9]+)', line)\n",
    "        if m_n: npts = int(m_n.group(1))\n",
    "        if m_d: dt   = float(m_d.group(1))\n",
    "        if npts is not None and dt is not None:\n",
    "            break\n",
    "    if npts is None or dt is None:\n",
    "        raise ValueError(f\"No se encontró NPTS/DT en {filepath}\")\n",
    "\n",
    "    # 2) Detectar el índice donde empiezan los datos (línea con floats)\n",
    "    start_idx = None\n",
    "    num_pattern = re.compile(r'^[-+]?[0-9]*\\.?[0-9]+')\n",
    "    for i, line in enumerate(lines):\n",
    "        tokens = line.strip().split()\n",
    "        # si TODOS los tokens tienen formato numérico, asumimos datos\n",
    "        if tokens and all(num_pattern.match(t) for t in tokens):\n",
    "            start_idx = i\n",
    "            break\n",
    "    if start_idx is None:\n",
    "        raise ValueError(f\"No se encontró inicio de datos en {filepath}\")\n",
    "\n",
    "    # 3) Leer todos los valores desde start_idx en adelante\n",
    "    acc_data = []\n",
    "    for line in lines[start_idx:]:\n",
    "        for tok in line.strip().split():\n",
    "            acc_data.append(float(tok) * scalefactor)\n",
    "\n",
    "    inp_acc = np.array(acc_data, dtype=float)\n",
    "    time    = np.arange(len(acc_data)) * dt\n",
    "\n",
    "    return npts, dt, time, inp_acc\n"
   ]
  },
  {
   "cell_type": "code",
   "execution_count": 27,
   "metadata": {},
   "outputs": [],
   "source": [
    "#Verificacion de que se estan leyendo bien los datos que nos interesan para hacer la normalizacion\n",
    "import pandas as pd\n",
    "\n",
    "def agregar_dt_npts(df, comp_cols=('Ruta H1','Ruta H2','Ruta V')):\n",
    "    \"\"\"\n",
    "    A un DataFrame que ya contiene rutas completas en comp_cols,\n",
    "    le añade dos columnas por componente: NPTS_<sufijo> y DT_<sufijo>.\n",
    "\n",
    "    Parámetros\n",
    "    ----------\n",
    "    df : pd.DataFrame\n",
    "        Debe tener al menos las columnas indicadas en comp_cols, con la ruta\n",
    "        completa al archivo .AT2 en cada celda.\n",
    "    comp_cols : tuple de str\n",
    "        Nombres de las columnas de df con las rutas para H1, H2 y V.\n",
    "\n",
    "    Devuelve\n",
    "    -------\n",
    "    pd.DataFrame\n",
    "        Copia de df con las 6 columnas adicionales.\n",
    "    \"\"\"\n",
    "    df2 = df.copy()\n",
    "\n",
    "    for comp in comp_cols:\n",
    "        npts_list = []\n",
    "        dt_list   = []\n",
    "\n",
    "        # Procesa cada ruta de archivo directamente\n",
    "        for filepath in df2[comp]:\n",
    "            # Llama a tu parser robusto:\n",
    "            npts, dt,_,_ = processNGAfile3(filepath)\n",
    "            npts_list.append(int(npts))\n",
    "            dt_list.append(float(dt))\n",
    "\n",
    "        # Extrae sufijo 'H1','H2' o 'V' a partir del nombre de la columna\n",
    "        suf = comp.split()[-1]\n",
    "\n",
    "        # Añade las nuevas columnas\n",
    "        df2[f'NPTS_{suf}'] = npts_list\n",
    "        df2[f'DT_{suf}']   = dt_list\n",
    "\n",
    "    return df2\n"
   ]
  },
  {
   "cell_type": "code",
   "execution_count": 28,
   "metadata": {},
   "outputs": [],
   "source": [
    "df_completo=agregar_dt_npts(df_completo,comp_cols=('Ruta H1','Ruta H2','Ruta V'))"
   ]
  },
  {
   "cell_type": "code",
   "execution_count": 29,
   "metadata": {},
   "outputs": [],
   "source": [
    "\n",
    "# Lista con todos los nuevos nombres, en el orden actual de las columnas\n",
    "df_completo.columns = ['Evento ID', 'Tipo de evento', 'Magnitud', 'Vs30',\n",
    "              'Archivo H2', 'Ruta H2', 'Archivo H1', 'Ruta H1',\n",
    "              'Archivo V', 'Ruta V', 'NPTS_H2', 'DT_H2', 'NPTS_H1', 'DT_H1', 'NPTS_HV', 'DT_HV']"
   ]
  },
  {
   "cell_type": "code",
   "execution_count": 30,
   "metadata": {},
   "outputs": [],
   "source": [
    "import numpy as np\n",
    "from scipy.interpolate import interp1d\n",
    "\n",
    "def normalizar_frecuencia_muestreo(tiempo, aceleracion, dt_obj=0.01):\n",
    "    t0, t1 = tiempo[0], tiempo[-1]\n",
    "    t_new   = np.arange(t0, t1, dt_obj)\n",
    "    f       = interp1d(tiempo, aceleracion,\n",
    "                       kind='linear',\n",
    "                       fill_value='extrapolate')\n",
    "    acc_new = f(t_new)\n",
    "    return t_new, acc_new"
   ]
  },
  {
   "cell_type": "code",
   "execution_count": 31,
   "metadata": {},
   "outputs": [],
   "source": [
    "\n",
    "def estandarización(df, comp_cols=('Ruta H1','Ruta H2','Ruta V'),\n",
    "                          parser=processNGAfile3,\n",
    "                          dt_obj=0.01):\n",
    "\n",
    "    for label in ['H1','H2','V']:\n",
    "        df[f'Acc_{label}_std'] = None\n",
    "    df['NPTS_common'] = None\n",
    "    df['DT_common']   = None\n",
    "\n",
    "    # 2) Recorre cada evento (fila) de df\n",
    "    for idx, row in df.iterrows():\n",
    "        remuestreos = {}\n",
    "\n",
    "        # 2a) Leer y remuestrear\n",
    "        for label, col in zip(['H1','H2','V'], comp_cols):\n",
    "            npts, dt, tiempo, acc = parser(row[col])\n",
    "            # avisar si el dt original no es el esperado\n",
    "            if abs(dt - dt_obj) > 1e-8:\n",
    "                print(f\"[Aviso] dt original {dt}≠{dt_obj} en fila {idx} / {label}\")\n",
    "            # remuestreo\n",
    "            _, acc_norm = normalizar_frecuencia_muestreo(tiempo, acc, dt_obj=dt_obj)\n",
    "            remuestreos[label] = acc_norm\n",
    "\n",
    "        # 2b) Determinar longitud mínima común\n",
    "        min_len = min(len(a) for a in remuestreos.values())\n",
    "        df.at[idx, 'NPTS_common'] = min_len\n",
    "        df.at[idx, 'DT_common']   = dt_obj\n",
    "\n",
    "        # 2c) Truncar y guardar en df\n",
    "        for label in ['H1','H2','V']:\n",
    "            df.at[idx, f'Acc_{label}_std'] = remuestreos[label][:min_len].tolist()\n",
    "\n",
    "    return df"
   ]
  },
  {
   "cell_type": "code",
   "execution_count": 32,
   "metadata": {},
   "outputs": [
    {
     "name": "stdout",
     "output_type": "stream",
     "text": [
      "[Aviso] dt original 0.005≠0.01 en fila 0 / H1\n",
      "[Aviso] dt original 0.005≠0.01 en fila 0 / H2\n",
      "[Aviso] dt original 0.005≠0.01 en fila 0 / V\n",
      "[Aviso] dt original 0.005≠0.01 en fila 1 / H1\n",
      "[Aviso] dt original 0.005≠0.01 en fila 1 / H2\n",
      "[Aviso] dt original 0.005≠0.01 en fila 1 / V\n",
      "[Aviso] dt original 0.005≠0.01 en fila 2 / H1\n",
      "[Aviso] dt original 0.005≠0.01 en fila 2 / H2\n",
      "[Aviso] dt original 0.005≠0.01 en fila 2 / V\n",
      "[Aviso] dt original 0.005≠0.01 en fila 3 / H1\n",
      "[Aviso] dt original 0.005≠0.01 en fila 3 / H2\n",
      "[Aviso] dt original 0.005≠0.01 en fila 3 / V\n",
      "[Aviso] dt original 0.005≠0.01 en fila 4 / H1\n",
      "[Aviso] dt original 0.005≠0.01 en fila 4 / H2\n",
      "[Aviso] dt original 0.005≠0.01 en fila 4 / V\n",
      "[Aviso] dt original 0.005≠0.01 en fila 5 / H1\n",
      "[Aviso] dt original 0.005≠0.01 en fila 5 / H2\n",
      "[Aviso] dt original 0.005≠0.01 en fila 5 / V\n",
      "[Aviso] dt original 0.005≠0.01 en fila 6 / H1\n",
      "[Aviso] dt original 0.005≠0.01 en fila 6 / H2\n",
      "[Aviso] dt original 0.005≠0.01 en fila 6 / V\n",
      "[Aviso] dt original 0.005≠0.01 en fila 7 / H1\n",
      "[Aviso] dt original 0.005≠0.01 en fila 7 / H2\n",
      "[Aviso] dt original 0.005≠0.01 en fila 7 / V\n",
      "[Aviso] dt original 0.005≠0.01 en fila 8 / H1\n",
      "[Aviso] dt original 0.005≠0.01 en fila 8 / H2\n",
      "[Aviso] dt original 0.005≠0.01 en fila 8 / V\n",
      "[Aviso] dt original 0.005≠0.01 en fila 9 / H1\n",
      "[Aviso] dt original 0.005≠0.01 en fila 9 / H2\n",
      "[Aviso] dt original 0.005≠0.01 en fila 9 / V\n",
      "[Aviso] dt original 0.005≠0.01 en fila 10 / H1\n",
      "[Aviso] dt original 0.005≠0.01 en fila 10 / H2\n",
      "[Aviso] dt original 0.005≠0.01 en fila 10 / V\n",
      "[Aviso] dt original 0.005≠0.01 en fila 11 / H1\n",
      "[Aviso] dt original 0.005≠0.01 en fila 11 / H2\n",
      "[Aviso] dt original 0.005≠0.01 en fila 11 / V\n",
      "[Aviso] dt original 0.005≠0.01 en fila 12 / H1\n",
      "[Aviso] dt original 0.005≠0.01 en fila 12 / H2\n",
      "[Aviso] dt original 0.005≠0.01 en fila 12 / V\n",
      "[Aviso] dt original 0.005≠0.01 en fila 13 / H1\n",
      "[Aviso] dt original 0.005≠0.01 en fila 13 / H2\n",
      "[Aviso] dt original 0.005≠0.01 en fila 13 / V\n",
      "[Aviso] dt original 0.005≠0.01 en fila 14 / H1\n",
      "[Aviso] dt original 0.005≠0.01 en fila 14 / H2\n",
      "[Aviso] dt original 0.005≠0.01 en fila 14 / V\n",
      "[Aviso] dt original 0.005≠0.01 en fila 15 / H1\n",
      "[Aviso] dt original 0.005≠0.01 en fila 15 / H2\n",
      "[Aviso] dt original 0.005≠0.01 en fila 15 / V\n",
      "[Aviso] dt original 0.005≠0.01 en fila 16 / H1\n",
      "[Aviso] dt original 0.005≠0.01 en fila 16 / H2\n",
      "[Aviso] dt original 0.005≠0.01 en fila 16 / V\n",
      "[Aviso] dt original 0.005≠0.01 en fila 17 / H1\n",
      "[Aviso] dt original 0.005≠0.01 en fila 17 / H2\n",
      "[Aviso] dt original 0.005≠0.01 en fila 17 / V\n",
      "[Aviso] dt original 0.005≠0.01 en fila 18 / H1\n",
      "[Aviso] dt original 0.005≠0.01 en fila 18 / H2\n",
      "[Aviso] dt original 0.005≠0.01 en fila 18 / V\n",
      "[Aviso] dt original 0.005≠0.01 en fila 19 / H1\n",
      "[Aviso] dt original 0.005≠0.01 en fila 19 / H2\n",
      "[Aviso] dt original 0.005≠0.01 en fila 19 / V\n",
      "[Aviso] dt original 0.005≠0.01 en fila 20 / H1\n",
      "[Aviso] dt original 0.005≠0.01 en fila 20 / H2\n",
      "[Aviso] dt original 0.005≠0.01 en fila 20 / V\n",
      "[Aviso] dt original 0.005≠0.01 en fila 21 / H1\n",
      "[Aviso] dt original 0.005≠0.01 en fila 21 / H2\n",
      "[Aviso] dt original 0.005≠0.01 en fila 21 / V\n",
      "[Aviso] dt original 0.005≠0.01 en fila 22 / H1\n",
      "[Aviso] dt original 0.005≠0.01 en fila 22 / H2\n",
      "[Aviso] dt original 0.005≠0.01 en fila 22 / V\n",
      "[Aviso] dt original 0.005≠0.01 en fila 23 / H1\n",
      "[Aviso] dt original 0.005≠0.01 en fila 23 / H2\n",
      "[Aviso] dt original 0.005≠0.01 en fila 23 / V\n",
      "[Aviso] dt original 0.005≠0.01 en fila 24 / H1\n",
      "[Aviso] dt original 0.005≠0.01 en fila 24 / H2\n",
      "[Aviso] dt original 0.005≠0.01 en fila 24 / V\n",
      "[Aviso] dt original 0.005≠0.01 en fila 25 / H1\n",
      "[Aviso] dt original 0.005≠0.01 en fila 25 / H2\n",
      "[Aviso] dt original 0.005≠0.01 en fila 25 / V\n",
      "[Aviso] dt original 0.005≠0.01 en fila 26 / H1\n",
      "[Aviso] dt original 0.005≠0.01 en fila 26 / H2\n",
      "[Aviso] dt original 0.005≠0.01 en fila 26 / V\n",
      "[Aviso] dt original 0.005≠0.01 en fila 27 / H1\n",
      "[Aviso] dt original 0.005≠0.01 en fila 27 / H2\n",
      "[Aviso] dt original 0.005≠0.01 en fila 27 / V\n",
      "[Aviso] dt original 0.005≠0.01 en fila 28 / H1\n",
      "[Aviso] dt original 0.005≠0.01 en fila 28 / H2\n",
      "[Aviso] dt original 0.005≠0.01 en fila 28 / V\n",
      "[Aviso] dt original 0.005≠0.01 en fila 29 / H1\n",
      "[Aviso] dt original 0.005≠0.01 en fila 29 / H2\n",
      "[Aviso] dt original 0.005≠0.01 en fila 29 / V\n",
      "[Aviso] dt original 0.005≠0.01 en fila 30 / H1\n",
      "[Aviso] dt original 0.005≠0.01 en fila 30 / H2\n",
      "[Aviso] dt original 0.005≠0.01 en fila 30 / V\n",
      "[Aviso] dt original 0.005≠0.01 en fila 31 / H1\n",
      "[Aviso] dt original 0.005≠0.01 en fila 31 / H2\n",
      "[Aviso] dt original 0.005≠0.01 en fila 31 / V\n",
      "[Aviso] dt original 0.005≠0.01 en fila 32 / H1\n",
      "[Aviso] dt original 0.005≠0.01 en fila 32 / H2\n",
      "[Aviso] dt original 0.005≠0.01 en fila 32 / V\n",
      "[Aviso] dt original 0.005≠0.01 en fila 33 / H1\n",
      "[Aviso] dt original 0.005≠0.01 en fila 33 / H2\n",
      "[Aviso] dt original 0.005≠0.01 en fila 33 / V\n",
      "[Aviso] dt original 0.005≠0.01 en fila 34 / H1\n",
      "[Aviso] dt original 0.005≠0.01 en fila 34 / H2\n",
      "[Aviso] dt original 0.005≠0.01 en fila 34 / V\n",
      "[Aviso] dt original 0.005≠0.01 en fila 35 / H1\n",
      "[Aviso] dt original 0.005≠0.01 en fila 35 / H2\n",
      "[Aviso] dt original 0.005≠0.01 en fila 35 / V\n",
      "[Aviso] dt original 0.005≠0.01 en fila 36 / H1\n",
      "[Aviso] dt original 0.005≠0.01 en fila 36 / H2\n",
      "[Aviso] dt original 0.005≠0.01 en fila 36 / V\n",
      "[Aviso] dt original 0.005≠0.01 en fila 37 / H1\n",
      "[Aviso] dt original 0.005≠0.01 en fila 37 / H2\n",
      "[Aviso] dt original 0.005≠0.01 en fila 37 / V\n",
      "[Aviso] dt original 0.005≠0.01 en fila 38 / H1\n",
      "[Aviso] dt original 0.005≠0.01 en fila 38 / H2\n",
      "[Aviso] dt original 0.005≠0.01 en fila 38 / V\n",
      "[Aviso] dt original 0.005≠0.01 en fila 39 / H1\n",
      "[Aviso] dt original 0.005≠0.01 en fila 39 / H2\n",
      "[Aviso] dt original 0.005≠0.01 en fila 39 / V\n",
      "[Aviso] dt original 0.005≠0.01 en fila 40 / H1\n",
      "[Aviso] dt original 0.005≠0.01 en fila 40 / H2\n",
      "[Aviso] dt original 0.005≠0.01 en fila 40 / V\n",
      "[Aviso] dt original 0.005≠0.01 en fila 41 / H1\n",
      "[Aviso] dt original 0.005≠0.01 en fila 41 / H2\n",
      "[Aviso] dt original 0.005≠0.01 en fila 41 / V\n",
      "[Aviso] dt original 0.005≠0.01 en fila 42 / H1\n",
      "[Aviso] dt original 0.005≠0.01 en fila 42 / H2\n",
      "[Aviso] dt original 0.005≠0.01 en fila 42 / V\n",
      "[Aviso] dt original 0.005≠0.01 en fila 43 / H1\n",
      "[Aviso] dt original 0.005≠0.01 en fila 43 / H2\n",
      "[Aviso] dt original 0.005≠0.01 en fila 43 / V\n",
      "[Aviso] dt original 0.005≠0.01 en fila 44 / H1\n",
      "[Aviso] dt original 0.005≠0.01 en fila 44 / H2\n",
      "[Aviso] dt original 0.005≠0.01 en fila 44 / V\n",
      "[Aviso] dt original 0.005≠0.01 en fila 45 / H1\n",
      "[Aviso] dt original 0.005≠0.01 en fila 45 / H2\n",
      "[Aviso] dt original 0.005≠0.01 en fila 45 / V\n",
      "[Aviso] dt original 0.005≠0.01 en fila 46 / H1\n",
      "[Aviso] dt original 0.005≠0.01 en fila 46 / H2\n",
      "[Aviso] dt original 0.005≠0.01 en fila 46 / V\n",
      "[Aviso] dt original 0.005≠0.01 en fila 47 / H1\n",
      "[Aviso] dt original 0.005≠0.01 en fila 47 / H2\n",
      "[Aviso] dt original 0.005≠0.01 en fila 47 / V\n",
      "[Aviso] dt original 0.005≠0.01 en fila 48 / H1\n",
      "[Aviso] dt original 0.005≠0.01 en fila 48 / H2\n",
      "[Aviso] dt original 0.005≠0.01 en fila 48 / V\n",
      "[Aviso] dt original 0.005≠0.01 en fila 49 / H1\n",
      "[Aviso] dt original 0.005≠0.01 en fila 49 / H2\n",
      "[Aviso] dt original 0.005≠0.01 en fila 49 / V\n",
      "[Aviso] dt original 0.005≠0.01 en fila 50 / H1\n",
      "[Aviso] dt original 0.005≠0.01 en fila 50 / H2\n",
      "[Aviso] dt original 0.005≠0.01 en fila 50 / V\n",
      "[Aviso] dt original 0.005≠0.01 en fila 51 / H1\n",
      "[Aviso] dt original 0.005≠0.01 en fila 51 / H2\n",
      "[Aviso] dt original 0.005≠0.01 en fila 51 / V\n",
      "[Aviso] dt original 0.005≠0.01 en fila 52 / H1\n",
      "[Aviso] dt original 0.005≠0.01 en fila 52 / H2\n",
      "[Aviso] dt original 0.005≠0.01 en fila 52 / V\n",
      "[Aviso] dt original 0.005≠0.01 en fila 53 / H1\n",
      "[Aviso] dt original 0.005≠0.01 en fila 53 / H2\n",
      "[Aviso] dt original 0.005≠0.01 en fila 53 / V\n",
      "[Aviso] dt original 0.005≠0.01 en fila 54 / H1\n",
      "[Aviso] dt original 0.005≠0.01 en fila 54 / H2\n",
      "[Aviso] dt original 0.005≠0.01 en fila 54 / V\n",
      "[Aviso] dt original 0.005≠0.01 en fila 55 / H1\n",
      "[Aviso] dt original 0.005≠0.01 en fila 55 / H2\n",
      "[Aviso] dt original 0.005≠0.01 en fila 55 / V\n",
      "[Aviso] dt original 0.005≠0.01 en fila 56 / H1\n",
      "[Aviso] dt original 0.005≠0.01 en fila 56 / H2\n",
      "[Aviso] dt original 0.005≠0.01 en fila 56 / V\n",
      "[Aviso] dt original 0.005≠0.01 en fila 57 / H1\n",
      "[Aviso] dt original 0.005≠0.01 en fila 57 / H2\n",
      "[Aviso] dt original 0.005≠0.01 en fila 57 / V\n",
      "[Aviso] dt original 0.005≠0.01 en fila 58 / H1\n",
      "[Aviso] dt original 0.005≠0.01 en fila 58 / H2\n",
      "[Aviso] dt original 0.005≠0.01 en fila 58 / V\n",
      "[Aviso] dt original 0.005≠0.01 en fila 59 / H1\n",
      "[Aviso] dt original 0.005≠0.01 en fila 59 / H2\n",
      "[Aviso] dt original 0.005≠0.01 en fila 59 / V\n",
      "[Aviso] dt original 0.005≠0.01 en fila 60 / H1\n",
      "[Aviso] dt original 0.005≠0.01 en fila 60 / H2\n",
      "[Aviso] dt original 0.005≠0.01 en fila 60 / V\n",
      "[Aviso] dt original 0.005≠0.01 en fila 61 / H1\n",
      "[Aviso] dt original 0.005≠0.01 en fila 61 / H2\n",
      "[Aviso] dt original 0.005≠0.01 en fila 61 / V\n",
      "[Aviso] dt original 0.005≠0.01 en fila 62 / H1\n",
      "[Aviso] dt original 0.005≠0.01 en fila 62 / H2\n",
      "[Aviso] dt original 0.005≠0.01 en fila 62 / V\n",
      "[Aviso] dt original 0.005≠0.01 en fila 63 / H1\n",
      "[Aviso] dt original 0.005≠0.01 en fila 63 / H2\n",
      "[Aviso] dt original 0.005≠0.01 en fila 63 / V\n",
      "[Aviso] dt original 0.005≠0.01 en fila 64 / H1\n",
      "[Aviso] dt original 0.005≠0.01 en fila 64 / H2\n",
      "[Aviso] dt original 0.005≠0.01 en fila 64 / V\n",
      "[Aviso] dt original 0.005≠0.01 en fila 65 / H1\n",
      "[Aviso] dt original 0.005≠0.01 en fila 65 / H2\n",
      "[Aviso] dt original 0.005≠0.01 en fila 65 / V\n",
      "[Aviso] dt original 0.005≠0.01 en fila 66 / H1\n",
      "[Aviso] dt original 0.005≠0.01 en fila 66 / H2\n",
      "[Aviso] dt original 0.005≠0.01 en fila 66 / V\n",
      "[Aviso] dt original 0.005≠0.01 en fila 67 / H1\n",
      "[Aviso] dt original 0.005≠0.01 en fila 67 / H2\n",
      "[Aviso] dt original 0.005≠0.01 en fila 67 / V\n",
      "[Aviso] dt original 0.005≠0.01 en fila 68 / H1\n",
      "[Aviso] dt original 0.005≠0.01 en fila 68 / H2\n",
      "[Aviso] dt original 0.005≠0.01 en fila 68 / V\n",
      "[Aviso] dt original 0.005≠0.01 en fila 69 / H1\n",
      "[Aviso] dt original 0.005≠0.01 en fila 69 / H2\n",
      "[Aviso] dt original 0.005≠0.01 en fila 69 / V\n",
      "[Aviso] dt original 0.005≠0.01 en fila 70 / H1\n",
      "[Aviso] dt original 0.005≠0.01 en fila 70 / H2\n",
      "[Aviso] dt original 0.005≠0.01 en fila 70 / V\n",
      "[Aviso] dt original 0.005≠0.01 en fila 71 / H1\n",
      "[Aviso] dt original 0.005≠0.01 en fila 71 / H2\n",
      "[Aviso] dt original 0.005≠0.01 en fila 71 / V\n",
      "[Aviso] dt original 0.005≠0.01 en fila 72 / H1\n",
      "[Aviso] dt original 0.005≠0.01 en fila 72 / H2\n",
      "[Aviso] dt original 0.005≠0.01 en fila 72 / V\n",
      "[Aviso] dt original 0.005≠0.01 en fila 73 / H1\n",
      "[Aviso] dt original 0.005≠0.01 en fila 73 / H2\n",
      "[Aviso] dt original 0.005≠0.01 en fila 73 / V\n",
      "[Aviso] dt original 0.005≠0.01 en fila 74 / H1\n",
      "[Aviso] dt original 0.005≠0.01 en fila 74 / H2\n",
      "[Aviso] dt original 0.005≠0.01 en fila 74 / V\n",
      "[Aviso] dt original 0.005≠0.01 en fila 75 / H1\n",
      "[Aviso] dt original 0.005≠0.01 en fila 75 / H2\n",
      "[Aviso] dt original 0.005≠0.01 en fila 75 / V\n",
      "[Aviso] dt original 0.005≠0.01 en fila 76 / H1\n",
      "[Aviso] dt original 0.005≠0.01 en fila 76 / H2\n",
      "[Aviso] dt original 0.005≠0.01 en fila 76 / V\n",
      "[Aviso] dt original 0.005≠0.01 en fila 77 / H1\n",
      "[Aviso] dt original 0.005≠0.01 en fila 77 / H2\n",
      "[Aviso] dt original 0.005≠0.01 en fila 77 / V\n",
      "[Aviso] dt original 0.005≠0.01 en fila 78 / H1\n",
      "[Aviso] dt original 0.005≠0.01 en fila 78 / H2\n",
      "[Aviso] dt original 0.005≠0.01 en fila 78 / V\n",
      "[Aviso] dt original 0.005≠0.01 en fila 79 / H1\n",
      "[Aviso] dt original 0.005≠0.01 en fila 79 / H2\n",
      "[Aviso] dt original 0.005≠0.01 en fila 79 / V\n",
      "[Aviso] dt original 0.005≠0.01 en fila 80 / H1\n",
      "[Aviso] dt original 0.005≠0.01 en fila 80 / H2\n",
      "[Aviso] dt original 0.005≠0.01 en fila 80 / V\n",
      "[Aviso] dt original 0.005≠0.01 en fila 81 / H1\n",
      "[Aviso] dt original 0.005≠0.01 en fila 81 / H2\n",
      "[Aviso] dt original 0.005≠0.01 en fila 81 / V\n",
      "[Aviso] dt original 0.005≠0.01 en fila 82 / H1\n",
      "[Aviso] dt original 0.005≠0.01 en fila 82 / H2\n",
      "[Aviso] dt original 0.005≠0.01 en fila 82 / V\n",
      "[Aviso] dt original 0.005≠0.01 en fila 83 / H1\n",
      "[Aviso] dt original 0.005≠0.01 en fila 83 / H2\n",
      "[Aviso] dt original 0.005≠0.01 en fila 83 / V\n",
      "[Aviso] dt original 0.005≠0.01 en fila 84 / H1\n",
      "[Aviso] dt original 0.005≠0.01 en fila 84 / H2\n",
      "[Aviso] dt original 0.005≠0.01 en fila 84 / V\n",
      "[Aviso] dt original 0.005≠0.01 en fila 85 / H1\n",
      "[Aviso] dt original 0.005≠0.01 en fila 85 / H2\n",
      "[Aviso] dt original 0.005≠0.01 en fila 85 / V\n",
      "[Aviso] dt original 0.005≠0.01 en fila 86 / H1\n",
      "[Aviso] dt original 0.005≠0.01 en fila 86 / H2\n",
      "[Aviso] dt original 0.005≠0.01 en fila 86 / V\n",
      "[Aviso] dt original 0.005≠0.01 en fila 87 / H1\n",
      "[Aviso] dt original 0.005≠0.01 en fila 87 / H2\n",
      "[Aviso] dt original 0.005≠0.01 en fila 87 / V\n",
      "[Aviso] dt original 0.02≠0.01 en fila 88 / H1\n",
      "[Aviso] dt original 0.02≠0.01 en fila 88 / H2\n",
      "[Aviso] dt original 0.02≠0.01 en fila 88 / V\n",
      "[Aviso] dt original 0.02≠0.01 en fila 89 / H1\n",
      "[Aviso] dt original 0.02≠0.01 en fila 89 / H2\n",
      "[Aviso] dt original 0.02≠0.01 en fila 89 / V\n",
      "[Aviso] dt original 0.02≠0.01 en fila 90 / H1\n",
      "[Aviso] dt original 0.02≠0.01 en fila 90 / H2\n",
      "[Aviso] dt original 0.02≠0.01 en fila 90 / V\n",
      "[Aviso] dt original 0.02≠0.01 en fila 91 / H1\n",
      "[Aviso] dt original 0.02≠0.01 en fila 91 / H2\n",
      "[Aviso] dt original 0.02≠0.01 en fila 91 / V\n",
      "[Aviso] dt original 0.005≠0.01 en fila 92 / H1\n",
      "[Aviso] dt original 0.005≠0.01 en fila 92 / H2\n",
      "[Aviso] dt original 0.005≠0.01 en fila 92 / V\n",
      "[Aviso] dt original 0.005≠0.01 en fila 93 / H1\n",
      "[Aviso] dt original 0.005≠0.01 en fila 93 / H2\n",
      "[Aviso] dt original 0.005≠0.01 en fila 93 / V\n",
      "[Aviso] dt original 0.005≠0.01 en fila 94 / H1\n",
      "[Aviso] dt original 0.005≠0.01 en fila 94 / H2\n",
      "[Aviso] dt original 0.005≠0.01 en fila 94 / V\n",
      "[Aviso] dt original 0.005≠0.01 en fila 95 / H1\n",
      "[Aviso] dt original 0.005≠0.01 en fila 95 / H2\n",
      "[Aviso] dt original 0.005≠0.01 en fila 95 / V\n",
      "[Aviso] dt original 0.005≠0.01 en fila 96 / H1\n",
      "[Aviso] dt original 0.005≠0.01 en fila 96 / H2\n",
      "[Aviso] dt original 0.005≠0.01 en fila 96 / V\n",
      "[Aviso] dt original 0.005≠0.01 en fila 99 / H1\n",
      "[Aviso] dt original 0.005≠0.01 en fila 99 / H2\n",
      "[Aviso] dt original 0.005≠0.01 en fila 99 / V\n",
      "[Aviso] dt original 0.005≠0.01 en fila 100 / H1\n",
      "[Aviso] dt original 0.005≠0.01 en fila 100 / H2\n",
      "[Aviso] dt original 0.005≠0.01 en fila 100 / V\n",
      "[Aviso] dt original 0.005≠0.01 en fila 101 / H1\n",
      "[Aviso] dt original 0.005≠0.01 en fila 101 / H2\n",
      "[Aviso] dt original 0.005≠0.01 en fila 101 / V\n",
      "[Aviso] dt original 0.005≠0.01 en fila 102 / H1\n",
      "[Aviso] dt original 0.005≠0.01 en fila 102 / H2\n",
      "[Aviso] dt original 0.005≠0.01 en fila 102 / V\n",
      "[Aviso] dt original 0.005≠0.01 en fila 103 / H1\n",
      "[Aviso] dt original 0.005≠0.01 en fila 103 / H2\n",
      "[Aviso] dt original 0.005≠0.01 en fila 103 / V\n",
      "[Aviso] dt original 0.005≠0.01 en fila 104 / H1\n",
      "[Aviso] dt original 0.005≠0.01 en fila 104 / H2\n",
      "[Aviso] dt original 0.005≠0.01 en fila 104 / V\n",
      "[Aviso] dt original 0.005≠0.01 en fila 105 / H1\n",
      "[Aviso] dt original 0.005≠0.01 en fila 105 / H2\n",
      "[Aviso] dt original 0.005≠0.01 en fila 105 / V\n",
      "[Aviso] dt original 0.005≠0.01 en fila 106 / H1\n",
      "[Aviso] dt original 0.005≠0.01 en fila 106 / H2\n",
      "[Aviso] dt original 0.005≠0.01 en fila 106 / V\n",
      "[Aviso] dt original 0.005≠0.01 en fila 107 / H1\n",
      "[Aviso] dt original 0.005≠0.01 en fila 107 / H2\n",
      "[Aviso] dt original 0.005≠0.01 en fila 107 / V\n",
      "[Aviso] dt original 0.005≠0.01 en fila 108 / H1\n",
      "[Aviso] dt original 0.005≠0.01 en fila 108 / H2\n",
      "[Aviso] dt original 0.005≠0.01 en fila 108 / V\n",
      "[Aviso] dt original 0.005≠0.01 en fila 109 / H1\n",
      "[Aviso] dt original 0.005≠0.01 en fila 109 / H2\n",
      "[Aviso] dt original 0.005≠0.01 en fila 109 / V\n",
      "[Aviso] dt original 0.005≠0.01 en fila 110 / H1\n",
      "[Aviso] dt original 0.005≠0.01 en fila 110 / H2\n",
      "[Aviso] dt original 0.005≠0.01 en fila 110 / V\n",
      "[Aviso] dt original 0.005≠0.01 en fila 111 / H1\n",
      "[Aviso] dt original 0.005≠0.01 en fila 111 / H2\n",
      "[Aviso] dt original 0.005≠0.01 en fila 111 / V\n",
      "[Aviso] dt original 0.005≠0.01 en fila 112 / H1\n",
      "[Aviso] dt original 0.005≠0.01 en fila 112 / H2\n",
      "[Aviso] dt original 0.005≠0.01 en fila 112 / V\n",
      "[Aviso] dt original 0.005≠0.01 en fila 113 / H1\n",
      "[Aviso] dt original 0.005≠0.01 en fila 113 / H2\n",
      "[Aviso] dt original 0.005≠0.01 en fila 113 / V\n",
      "[Aviso] dt original 0.005≠0.01 en fila 114 / H1\n",
      "[Aviso] dt original 0.005≠0.01 en fila 114 / H2\n",
      "[Aviso] dt original 0.005≠0.01 en fila 114 / V\n",
      "[Aviso] dt original 0.005≠0.01 en fila 115 / H1\n",
      "[Aviso] dt original 0.005≠0.01 en fila 115 / H2\n",
      "[Aviso] dt original 0.005≠0.01 en fila 115 / V\n",
      "[Aviso] dt original 0.005≠0.01 en fila 116 / H1\n",
      "[Aviso] dt original 0.005≠0.01 en fila 116 / H2\n",
      "[Aviso] dt original 0.005≠0.01 en fila 116 / V\n",
      "[Aviso] dt original 0.005≠0.01 en fila 117 / H1\n",
      "[Aviso] dt original 0.005≠0.01 en fila 117 / H2\n",
      "[Aviso] dt original 0.005≠0.01 en fila 117 / V\n",
      "[Aviso] dt original 0.005≠0.01 en fila 118 / H1\n",
      "[Aviso] dt original 0.005≠0.01 en fila 118 / H2\n",
      "[Aviso] dt original 0.005≠0.01 en fila 118 / V\n",
      "[Aviso] dt original 0.005≠0.01 en fila 119 / H1\n",
      "[Aviso] dt original 0.005≠0.01 en fila 119 / H2\n",
      "[Aviso] dt original 0.005≠0.01 en fila 119 / V\n",
      "[Aviso] dt original 0.005≠0.01 en fila 120 / H1\n",
      "[Aviso] dt original 0.005≠0.01 en fila 120 / H2\n",
      "[Aviso] dt original 0.005≠0.01 en fila 120 / V\n",
      "[Aviso] dt original 0.005≠0.01 en fila 121 / H1\n",
      "[Aviso] dt original 0.005≠0.01 en fila 121 / H2\n",
      "[Aviso] dt original 0.005≠0.01 en fila 121 / V\n",
      "[Aviso] dt original 0.005≠0.01 en fila 122 / H1\n",
      "[Aviso] dt original 0.005≠0.01 en fila 122 / H2\n",
      "[Aviso] dt original 0.005≠0.01 en fila 122 / V\n",
      "[Aviso] dt original 0.005≠0.01 en fila 123 / H1\n",
      "[Aviso] dt original 0.005≠0.01 en fila 123 / H2\n",
      "[Aviso] dt original 0.005≠0.01 en fila 123 / V\n",
      "[Aviso] dt original 0.005≠0.01 en fila 124 / H1\n",
      "[Aviso] dt original 0.005≠0.01 en fila 124 / H2\n",
      "[Aviso] dt original 0.005≠0.01 en fila 124 / V\n",
      "[Aviso] dt original 0.005≠0.01 en fila 125 / H1\n",
      "[Aviso] dt original 0.005≠0.01 en fila 125 / H2\n",
      "[Aviso] dt original 0.005≠0.01 en fila 125 / V\n",
      "[Aviso] dt original 0.005≠0.01 en fila 126 / H1\n",
      "[Aviso] dt original 0.005≠0.01 en fila 126 / H2\n",
      "[Aviso] dt original 0.005≠0.01 en fila 126 / V\n",
      "[Aviso] dt original 0.005≠0.01 en fila 127 / H1\n",
      "[Aviso] dt original 0.005≠0.01 en fila 127 / H2\n",
      "[Aviso] dt original 0.005≠0.01 en fila 127 / V\n",
      "[Aviso] dt original 0.005≠0.01 en fila 128 / H1\n",
      "[Aviso] dt original 0.005≠0.01 en fila 128 / H2\n",
      "[Aviso] dt original 0.005≠0.01 en fila 128 / V\n",
      "[Aviso] dt original 0.005≠0.01 en fila 129 / H1\n",
      "[Aviso] dt original 0.005≠0.01 en fila 129 / H2\n",
      "[Aviso] dt original 0.005≠0.01 en fila 129 / V\n",
      "[Aviso] dt original 0.005≠0.01 en fila 130 / H1\n",
      "[Aviso] dt original 0.005≠0.01 en fila 130 / H2\n",
      "[Aviso] dt original 0.005≠0.01 en fila 130 / V\n",
      "[Aviso] dt original 0.005≠0.01 en fila 131 / H1\n",
      "[Aviso] dt original 0.005≠0.01 en fila 131 / H2\n",
      "[Aviso] dt original 0.005≠0.01 en fila 131 / V\n",
      "[Aviso] dt original 0.005≠0.01 en fila 132 / H1\n",
      "[Aviso] dt original 0.005≠0.01 en fila 132 / H2\n",
      "[Aviso] dt original 0.005≠0.01 en fila 132 / V\n",
      "[Aviso] dt original 0.005≠0.01 en fila 133 / H1\n",
      "[Aviso] dt original 0.005≠0.01 en fila 133 / H2\n",
      "[Aviso] dt original 0.005≠0.01 en fila 133 / V\n",
      "[Aviso] dt original 0.005≠0.01 en fila 134 / H1\n",
      "[Aviso] dt original 0.005≠0.01 en fila 134 / H2\n",
      "[Aviso] dt original 0.005≠0.01 en fila 134 / V\n",
      "[Aviso] dt original 0.005≠0.01 en fila 136 / H1\n",
      "[Aviso] dt original 0.005≠0.01 en fila 136 / H2\n",
      "[Aviso] dt original 0.005≠0.01 en fila 136 / V\n",
      "[Aviso] dt original 0.005≠0.01 en fila 137 / H1\n",
      "[Aviso] dt original 0.005≠0.01 en fila 137 / H2\n",
      "[Aviso] dt original 0.005≠0.01 en fila 137 / V\n",
      "[Aviso] dt original 0.005≠0.01 en fila 138 / H1\n",
      "[Aviso] dt original 0.005≠0.01 en fila 138 / H2\n",
      "[Aviso] dt original 0.005≠0.01 en fila 138 / V\n",
      "[Aviso] dt original 0.005≠0.01 en fila 139 / H1\n",
      "[Aviso] dt original 0.005≠0.01 en fila 139 / H2\n",
      "[Aviso] dt original 0.005≠0.01 en fila 139 / V\n",
      "[Aviso] dt original 0.005≠0.01 en fila 140 / H1\n",
      "[Aviso] dt original 0.005≠0.01 en fila 140 / H2\n",
      "[Aviso] dt original 0.005≠0.01 en fila 140 / V\n",
      "[Aviso] dt original 0.005≠0.01 en fila 141 / H1\n",
      "[Aviso] dt original 0.005≠0.01 en fila 141 / H2\n",
      "[Aviso] dt original 0.005≠0.01 en fila 141 / V\n",
      "[Aviso] dt original 0.005≠0.01 en fila 142 / H1\n",
      "[Aviso] dt original 0.005≠0.01 en fila 142 / H2\n",
      "[Aviso] dt original 0.005≠0.01 en fila 142 / V\n",
      "[Aviso] dt original 0.005≠0.01 en fila 143 / H1\n",
      "[Aviso] dt original 0.005≠0.01 en fila 143 / H2\n",
      "[Aviso] dt original 0.005≠0.01 en fila 143 / V\n",
      "[Aviso] dt original 0.005≠0.01 en fila 144 / H1\n",
      "[Aviso] dt original 0.005≠0.01 en fila 144 / H2\n",
      "[Aviso] dt original 0.005≠0.01 en fila 144 / V\n",
      "[Aviso] dt original 0.005≠0.01 en fila 145 / H1\n",
      "[Aviso] dt original 0.005≠0.01 en fila 145 / H2\n",
      "[Aviso] dt original 0.005≠0.01 en fila 145 / V\n",
      "[Aviso] dt original 0.005≠0.01 en fila 146 / H1\n",
      "[Aviso] dt original 0.005≠0.01 en fila 146 / H2\n",
      "[Aviso] dt original 0.005≠0.01 en fila 146 / V\n",
      "[Aviso] dt original 0.005≠0.01 en fila 147 / H1\n",
      "[Aviso] dt original 0.005≠0.01 en fila 147 / H2\n",
      "[Aviso] dt original 0.005≠0.01 en fila 147 / V\n",
      "[Aviso] dt original 0.005≠0.01 en fila 148 / H1\n",
      "[Aviso] dt original 0.005≠0.01 en fila 148 / H2\n",
      "[Aviso] dt original 0.005≠0.01 en fila 148 / V\n",
      "[Aviso] dt original 0.005≠0.01 en fila 149 / H1\n",
      "[Aviso] dt original 0.005≠0.01 en fila 149 / H2\n",
      "[Aviso] dt original 0.005≠0.01 en fila 149 / V\n",
      "[Aviso] dt original 0.005≠0.01 en fila 150 / H1\n",
      "[Aviso] dt original 0.005≠0.01 en fila 150 / H2\n",
      "[Aviso] dt original 0.005≠0.01 en fila 150 / V\n",
      "[Aviso] dt original 0.005≠0.01 en fila 151 / H1\n",
      "[Aviso] dt original 0.005≠0.01 en fila 151 / H2\n",
      "[Aviso] dt original 0.005≠0.01 en fila 151 / V\n",
      "[Aviso] dt original 0.005≠0.01 en fila 154 / H1\n",
      "[Aviso] dt original 0.005≠0.01 en fila 154 / H2\n",
      "[Aviso] dt original 0.005≠0.01 en fila 154 / V\n",
      "[Aviso] dt original 0.005≠0.01 en fila 155 / H1\n",
      "[Aviso] dt original 0.005≠0.01 en fila 155 / H2\n",
      "[Aviso] dt original 0.005≠0.01 en fila 155 / V\n",
      "[Aviso] dt original 0.005≠0.01 en fila 156 / H1\n",
      "[Aviso] dt original 0.005≠0.01 en fila 156 / H2\n",
      "[Aviso] dt original 0.005≠0.01 en fila 156 / V\n",
      "[Aviso] dt original 0.005≠0.01 en fila 157 / H1\n",
      "[Aviso] dt original 0.005≠0.01 en fila 157 / H2\n",
      "[Aviso] dt original 0.005≠0.01 en fila 157 / V\n",
      "[Aviso] dt original 0.005≠0.01 en fila 158 / H1\n",
      "[Aviso] dt original 0.005≠0.01 en fila 158 / H2\n",
      "[Aviso] dt original 0.005≠0.01 en fila 158 / V\n",
      "[Aviso] dt original 0.005≠0.01 en fila 159 / H1\n",
      "[Aviso] dt original 0.005≠0.01 en fila 159 / H2\n",
      "[Aviso] dt original 0.005≠0.01 en fila 159 / V\n",
      "[Aviso] dt original 0.005≠0.01 en fila 160 / H1\n",
      "[Aviso] dt original 0.005≠0.01 en fila 160 / H2\n",
      "[Aviso] dt original 0.005≠0.01 en fila 160 / V\n",
      "[Aviso] dt original 0.005≠0.01 en fila 161 / H1\n",
      "[Aviso] dt original 0.005≠0.01 en fila 161 / H2\n",
      "[Aviso] dt original 0.005≠0.01 en fila 161 / V\n",
      "[Aviso] dt original 0.005≠0.01 en fila 162 / H1\n",
      "[Aviso] dt original 0.005≠0.01 en fila 162 / H2\n",
      "[Aviso] dt original 0.005≠0.01 en fila 162 / V\n",
      "[Aviso] dt original 0.005≠0.01 en fila 163 / H1\n",
      "[Aviso] dt original 0.005≠0.01 en fila 163 / H2\n",
      "[Aviso] dt original 0.005≠0.01 en fila 163 / V\n",
      "[Aviso] dt original 0.005≠0.01 en fila 164 / H1\n",
      "[Aviso] dt original 0.005≠0.01 en fila 164 / H2\n",
      "[Aviso] dt original 0.005≠0.01 en fila 164 / V\n",
      "[Aviso] dt original 0.005≠0.01 en fila 165 / H1\n",
      "[Aviso] dt original 0.005≠0.01 en fila 165 / H2\n",
      "[Aviso] dt original 0.005≠0.01 en fila 165 / V\n",
      "[Aviso] dt original 0.005≠0.01 en fila 166 / H1\n",
      "[Aviso] dt original 0.005≠0.01 en fila 166 / H2\n",
      "[Aviso] dt original 0.005≠0.01 en fila 166 / V\n",
      "[Aviso] dt original 0.005≠0.01 en fila 167 / H1\n",
      "[Aviso] dt original 0.005≠0.01 en fila 167 / H2\n",
      "[Aviso] dt original 0.005≠0.01 en fila 167 / V\n",
      "[Aviso] dt original 0.005≠0.01 en fila 168 / H1\n",
      "[Aviso] dt original 0.005≠0.01 en fila 168 / H2\n",
      "[Aviso] dt original 0.005≠0.01 en fila 168 / V\n",
      "[Aviso] dt original 0.005≠0.01 en fila 169 / H1\n",
      "[Aviso] dt original 0.005≠0.01 en fila 169 / H2\n",
      "[Aviso] dt original 0.005≠0.01 en fila 169 / V\n",
      "[Aviso] dt original 0.005≠0.01 en fila 170 / H1\n",
      "[Aviso] dt original 0.005≠0.01 en fila 170 / H2\n",
      "[Aviso] dt original 0.005≠0.01 en fila 170 / V\n",
      "[Aviso] dt original 0.005≠0.01 en fila 171 / H1\n",
      "[Aviso] dt original 0.005≠0.01 en fila 171 / H2\n",
      "[Aviso] dt original 0.005≠0.01 en fila 171 / V\n",
      "[Aviso] dt original 0.005≠0.01 en fila 172 / H1\n",
      "[Aviso] dt original 0.005≠0.01 en fila 172 / H2\n",
      "[Aviso] dt original 0.005≠0.01 en fila 172 / V\n",
      "[Aviso] dt original 0.0125≠0.01 en fila 173 / H1\n",
      "[Aviso] dt original 0.0125≠0.01 en fila 173 / H2\n",
      "[Aviso] dt original 0.0125≠0.01 en fila 173 / V\n",
      "[Aviso] dt original 0.005≠0.01 en fila 174 / H1\n",
      "[Aviso] dt original 0.005≠0.01 en fila 174 / H2\n",
      "[Aviso] dt original 0.005≠0.01 en fila 174 / V\n",
      "[Aviso] dt original 0.005≠0.01 en fila 175 / H1\n",
      "[Aviso] dt original 0.005≠0.01 en fila 175 / H2\n",
      "[Aviso] dt original 0.005≠0.01 en fila 175 / V\n",
      "[Aviso] dt original 0.005≠0.01 en fila 176 / H1\n",
      "[Aviso] dt original 0.005≠0.01 en fila 176 / H2\n",
      "[Aviso] dt original 0.005≠0.01 en fila 176 / V\n",
      "[Aviso] dt original 0.005≠0.01 en fila 177 / H1\n",
      "[Aviso] dt original 0.005≠0.01 en fila 177 / H2\n",
      "[Aviso] dt original 0.005≠0.01 en fila 177 / V\n",
      "[Aviso] dt original 0.005≠0.01 en fila 178 / H1\n",
      "[Aviso] dt original 0.005≠0.01 en fila 178 / H2\n",
      "[Aviso] dt original 0.005≠0.01 en fila 178 / V\n",
      "[Aviso] dt original 0.005≠0.01 en fila 179 / H1\n",
      "[Aviso] dt original 0.005≠0.01 en fila 179 / H2\n",
      "[Aviso] dt original 0.005≠0.01 en fila 179 / V\n",
      "[Aviso] dt original 0.005≠0.01 en fila 180 / H1\n",
      "[Aviso] dt original 0.005≠0.01 en fila 180 / H2\n",
      "[Aviso] dt original 0.005≠0.01 en fila 180 / V\n",
      "[Aviso] dt original 0.005≠0.01 en fila 181 / H1\n",
      "[Aviso] dt original 0.005≠0.01 en fila 181 / H2\n",
      "[Aviso] dt original 0.005≠0.01 en fila 181 / V\n",
      "[Aviso] dt original 0.005≠0.01 en fila 182 / H1\n",
      "[Aviso] dt original 0.005≠0.01 en fila 182 / H2\n",
      "[Aviso] dt original 0.005≠0.01 en fila 182 / V\n",
      "[Aviso] dt original 0.005≠0.01 en fila 183 / H1\n",
      "[Aviso] dt original 0.005≠0.01 en fila 183 / H2\n",
      "[Aviso] dt original 0.005≠0.01 en fila 183 / V\n",
      "[Aviso] dt original 0.005≠0.01 en fila 184 / H1\n",
      "[Aviso] dt original 0.005≠0.01 en fila 184 / H2\n",
      "[Aviso] dt original 0.005≠0.01 en fila 184 / V\n",
      "[Aviso] dt original 0.005≠0.01 en fila 185 / H1\n",
      "[Aviso] dt original 0.005≠0.01 en fila 185 / H2\n",
      "[Aviso] dt original 0.005≠0.01 en fila 185 / V\n",
      "[Aviso] dt original 0.005≠0.01 en fila 186 / H1\n",
      "[Aviso] dt original 0.005≠0.01 en fila 186 / H2\n",
      "[Aviso] dt original 0.005≠0.01 en fila 186 / V\n",
      "[Aviso] dt original 0.005≠0.01 en fila 187 / H1\n",
      "[Aviso] dt original 0.005≠0.01 en fila 187 / H2\n",
      "[Aviso] dt original 0.005≠0.01 en fila 187 / V\n",
      "[Aviso] dt original 0.005≠0.01 en fila 188 / H1\n",
      "[Aviso] dt original 0.005≠0.01 en fila 188 / H2\n",
      "[Aviso] dt original 0.005≠0.01 en fila 188 / V\n",
      "[Aviso] dt original 0.005≠0.01 en fila 189 / H1\n",
      "[Aviso] dt original 0.005≠0.01 en fila 189 / H2\n",
      "[Aviso] dt original 0.005≠0.01 en fila 189 / V\n",
      "[Aviso] dt original 0.005≠0.01 en fila 190 / H1\n",
      "[Aviso] dt original 0.005≠0.01 en fila 190 / H2\n",
      "[Aviso] dt original 0.005≠0.01 en fila 190 / V\n",
      "[Aviso] dt original 0.005≠0.01 en fila 191 / H1\n",
      "[Aviso] dt original 0.005≠0.01 en fila 191 / H2\n",
      "[Aviso] dt original 0.005≠0.01 en fila 191 / V\n",
      "[Aviso] dt original 0.005≠0.01 en fila 192 / H1\n",
      "[Aviso] dt original 0.005≠0.01 en fila 192 / H2\n",
      "[Aviso] dt original 0.005≠0.01 en fila 192 / V\n",
      "[Aviso] dt original 0.005≠0.01 en fila 193 / H1\n",
      "[Aviso] dt original 0.005≠0.01 en fila 193 / H2\n",
      "[Aviso] dt original 0.005≠0.01 en fila 193 / V\n",
      "[Aviso] dt original 0.005≠0.01 en fila 194 / H1\n",
      "[Aviso] dt original 0.005≠0.01 en fila 194 / H2\n",
      "[Aviso] dt original 0.005≠0.01 en fila 194 / V\n",
      "[Aviso] dt original 0.005≠0.01 en fila 195 / H1\n",
      "[Aviso] dt original 0.005≠0.01 en fila 195 / H2\n",
      "[Aviso] dt original 0.005≠0.01 en fila 195 / V\n",
      "[Aviso] dt original 0.005≠0.01 en fila 196 / H1\n",
      "[Aviso] dt original 0.005≠0.01 en fila 196 / H2\n",
      "[Aviso] dt original 0.005≠0.01 en fila 196 / V\n",
      "[Aviso] dt original 0.005≠0.01 en fila 197 / H1\n",
      "[Aviso] dt original 0.005≠0.01 en fila 197 / H2\n",
      "[Aviso] dt original 0.005≠0.01 en fila 197 / V\n",
      "[Aviso] dt original 0.005≠0.01 en fila 198 / H1\n",
      "[Aviso] dt original 0.005≠0.01 en fila 198 / H2\n",
      "[Aviso] dt original 0.005≠0.01 en fila 198 / V\n",
      "[Aviso] dt original 0.005≠0.01 en fila 199 / H1\n",
      "[Aviso] dt original 0.005≠0.01 en fila 199 / H2\n",
      "[Aviso] dt original 0.005≠0.01 en fila 199 / V\n",
      "[Aviso] dt original 0.005≠0.01 en fila 200 / H1\n",
      "[Aviso] dt original 0.005≠0.01 en fila 200 / H2\n",
      "[Aviso] dt original 0.005≠0.01 en fila 200 / V\n",
      "[Aviso] dt original 0.005≠0.01 en fila 201 / H1\n",
      "[Aviso] dt original 0.005≠0.01 en fila 201 / H2\n",
      "[Aviso] dt original 0.005≠0.01 en fila 201 / V\n",
      "[Aviso] dt original 0.005≠0.01 en fila 202 / H1\n",
      "[Aviso] dt original 0.005≠0.01 en fila 202 / H2\n",
      "[Aviso] dt original 0.005≠0.01 en fila 202 / V\n",
      "[Aviso] dt original 0.005≠0.01 en fila 203 / H1\n",
      "[Aviso] dt original 0.005≠0.01 en fila 203 / H2\n",
      "[Aviso] dt original 0.005≠0.01 en fila 203 / V\n",
      "[Aviso] dt original 0.005≠0.01 en fila 204 / H1\n",
      "[Aviso] dt original 0.005≠0.01 en fila 204 / H2\n",
      "[Aviso] dt original 0.005≠0.01 en fila 204 / V\n",
      "[Aviso] dt original 0.005≠0.01 en fila 205 / H1\n",
      "[Aviso] dt original 0.005≠0.01 en fila 205 / H2\n",
      "[Aviso] dt original 0.005≠0.01 en fila 205 / V\n",
      "[Aviso] dt original 0.005≠0.01 en fila 206 / H1\n",
      "[Aviso] dt original 0.005≠0.01 en fila 206 / H2\n",
      "[Aviso] dt original 0.005≠0.01 en fila 206 / V\n",
      "[Aviso] dt original 0.005≠0.01 en fila 207 / H1\n",
      "[Aviso] dt original 0.005≠0.01 en fila 207 / H2\n",
      "[Aviso] dt original 0.005≠0.01 en fila 207 / V\n",
      "[Aviso] dt original 0.005≠0.01 en fila 208 / H1\n",
      "[Aviso] dt original 0.005≠0.01 en fila 208 / H2\n",
      "[Aviso] dt original 0.005≠0.01 en fila 208 / V\n",
      "[Aviso] dt original 0.005≠0.01 en fila 209 / H1\n",
      "[Aviso] dt original 0.005≠0.01 en fila 209 / H2\n",
      "[Aviso] dt original 0.005≠0.01 en fila 209 / V\n",
      "[Aviso] dt original 0.005≠0.01 en fila 210 / H1\n",
      "[Aviso] dt original 0.005≠0.01 en fila 210 / H2\n",
      "[Aviso] dt original 0.005≠0.01 en fila 210 / V\n",
      "[Aviso] dt original 0.005≠0.01 en fila 213 / H1\n",
      "[Aviso] dt original 0.005≠0.01 en fila 213 / H2\n",
      "[Aviso] dt original 0.005≠0.01 en fila 213 / V\n",
      "[Aviso] dt original 0.005≠0.01 en fila 214 / H1\n",
      "[Aviso] dt original 0.005≠0.01 en fila 214 / H2\n",
      "[Aviso] dt original 0.005≠0.01 en fila 214 / V\n",
      "[Aviso] dt original 0.005≠0.01 en fila 222 / H1\n",
      "[Aviso] dt original 0.005≠0.01 en fila 222 / H2\n",
      "[Aviso] dt original 0.005≠0.01 en fila 222 / V\n",
      "[Aviso] dt original 0.005≠0.01 en fila 229 / H1\n",
      "[Aviso] dt original 0.005≠0.01 en fila 229 / H2\n",
      "[Aviso] dt original 0.005≠0.01 en fila 229 / V\n",
      "[Aviso] dt original 0.005≠0.01 en fila 230 / H1\n",
      "[Aviso] dt original 0.005≠0.01 en fila 230 / H2\n",
      "[Aviso] dt original 0.005≠0.01 en fila 230 / V\n",
      "[Aviso] dt original 0.005≠0.01 en fila 231 / H1\n",
      "[Aviso] dt original 0.005≠0.01 en fila 231 / H2\n",
      "[Aviso] dt original 0.005≠0.01 en fila 231 / V\n",
      "[Aviso] dt original 0.005≠0.01 en fila 232 / H1\n",
      "[Aviso] dt original 0.005≠0.01 en fila 232 / H2\n",
      "[Aviso] dt original 0.005≠0.01 en fila 232 / V\n",
      "[Aviso] dt original 0.005≠0.01 en fila 235 / H1\n",
      "[Aviso] dt original 0.005≠0.01 en fila 235 / H2\n",
      "[Aviso] dt original 0.005≠0.01 en fila 235 / V\n",
      "[Aviso] dt original 0.005≠0.01 en fila 236 / H1\n",
      "[Aviso] dt original 0.005≠0.01 en fila 236 / H2\n",
      "[Aviso] dt original 0.005≠0.01 en fila 236 / V\n",
      "[Aviso] dt original 0.005≠0.01 en fila 237 / H1\n",
      "[Aviso] dt original 0.005≠0.01 en fila 237 / H2\n",
      "[Aviso] dt original 0.005≠0.01 en fila 237 / V\n",
      "[Aviso] dt original 0.005≠0.01 en fila 238 / H1\n",
      "[Aviso] dt original 0.005≠0.01 en fila 238 / H2\n",
      "[Aviso] dt original 0.005≠0.01 en fila 238 / V\n",
      "[Aviso] dt original 0.005≠0.01 en fila 239 / H1\n",
      "[Aviso] dt original 0.005≠0.01 en fila 239 / H2\n",
      "[Aviso] dt original 0.005≠0.01 en fila 239 / V\n",
      "[Aviso] dt original 0.005≠0.01 en fila 240 / H1\n",
      "[Aviso] dt original 0.005≠0.01 en fila 240 / H2\n",
      "[Aviso] dt original 0.005≠0.01 en fila 240 / V\n",
      "[Aviso] dt original 0.005≠0.01 en fila 241 / H1\n",
      "[Aviso] dt original 0.005≠0.01 en fila 241 / H2\n",
      "[Aviso] dt original 0.005≠0.01 en fila 241 / V\n",
      "[Aviso] dt original 0.005≠0.01 en fila 243 / H1\n",
      "[Aviso] dt original 0.005≠0.01 en fila 243 / H2\n",
      "[Aviso] dt original 0.005≠0.01 en fila 243 / V\n",
      "[Aviso] dt original 0.005≠0.01 en fila 244 / H1\n",
      "[Aviso] dt original 0.005≠0.01 en fila 244 / H2\n",
      "[Aviso] dt original 0.005≠0.01 en fila 244 / V\n",
      "[Aviso] dt original 0.005≠0.01 en fila 245 / H1\n",
      "[Aviso] dt original 0.005≠0.01 en fila 245 / H2\n",
      "[Aviso] dt original 0.005≠0.01 en fila 245 / V\n",
      "[Aviso] dt original 0.005≠0.01 en fila 248 / H1\n",
      "[Aviso] dt original 0.005≠0.01 en fila 248 / H2\n",
      "[Aviso] dt original 0.005≠0.01 en fila 248 / V\n",
      "[Aviso] dt original 0.005≠0.01 en fila 249 / H1\n",
      "[Aviso] dt original 0.005≠0.01 en fila 249 / H2\n",
      "[Aviso] dt original 0.005≠0.01 en fila 249 / V\n",
      "[Aviso] dt original 0.005≠0.01 en fila 250 / H1\n",
      "[Aviso] dt original 0.005≠0.01 en fila 250 / H2\n",
      "[Aviso] dt original 0.005≠0.01 en fila 250 / V\n",
      "[Aviso] dt original 0.005≠0.01 en fila 251 / H1\n",
      "[Aviso] dt original 0.005≠0.01 en fila 251 / H2\n",
      "[Aviso] dt original 0.005≠0.01 en fila 251 / V\n",
      "[Aviso] dt original 0.005≠0.01 en fila 252 / H1\n",
      "[Aviso] dt original 0.005≠0.01 en fila 252 / H2\n",
      "[Aviso] dt original 0.005≠0.01 en fila 252 / V\n",
      "[Aviso] dt original 0.005≠0.01 en fila 253 / H1\n",
      "[Aviso] dt original 0.005≠0.01 en fila 253 / H2\n",
      "[Aviso] dt original 0.005≠0.01 en fila 253 / V\n",
      "[Aviso] dt original 0.005≠0.01 en fila 254 / H1\n",
      "[Aviso] dt original 0.005≠0.01 en fila 254 / H2\n",
      "[Aviso] dt original 0.005≠0.01 en fila 254 / V\n",
      "[Aviso] dt original 0.00244≠0.01 en fila 255 / H1\n",
      "[Aviso] dt original 0.00244≠0.01 en fila 255 / H2\n",
      "[Aviso] dt original 0.00244≠0.01 en fila 255 / V\n",
      "[Aviso] dt original 0.0125≠0.01 en fila 256 / H1\n",
      "[Aviso] dt original 0.0125≠0.01 en fila 256 / H2\n",
      "[Aviso] dt original 0.0125≠0.01 en fila 256 / V\n",
      "[Aviso] dt original 0.0125≠0.01 en fila 265 / H1\n",
      "[Aviso] dt original 0.0125≠0.01 en fila 265 / H2\n",
      "[Aviso] dt original 0.0125≠0.01 en fila 265 / V\n",
      "[Aviso] dt original 0.005≠0.01 en fila 269 / H1\n",
      "[Aviso] dt original 0.005≠0.01 en fila 269 / H2\n",
      "[Aviso] dt original 0.005≠0.01 en fila 269 / V\n",
      "[Aviso] dt original 0.005≠0.01 en fila 270 / H1\n",
      "[Aviso] dt original 0.005≠0.01 en fila 270 / H2\n",
      "[Aviso] dt original 0.005≠0.01 en fila 270 / V\n",
      "[Aviso] dt original 0.0125≠0.01 en fila 272 / H1\n",
      "[Aviso] dt original 0.0125≠0.01 en fila 272 / H2\n",
      "[Aviso] dt original 0.0125≠0.01 en fila 272 / V\n",
      "[Aviso] dt original 0.0125≠0.01 en fila 279 / H1\n",
      "[Aviso] dt original 0.0125≠0.01 en fila 279 / H2\n",
      "[Aviso] dt original 0.0125≠0.01 en fila 279 / V\n",
      "[Aviso] dt original 0.0125≠0.01 en fila 280 / H1\n",
      "[Aviso] dt original 0.0125≠0.01 en fila 280 / H2\n",
      "[Aviso] dt original 0.0125≠0.01 en fila 280 / V\n",
      "[Aviso] dt original 0.0125≠0.01 en fila 281 / H1\n",
      "[Aviso] dt original 0.0125≠0.01 en fila 281 / H2\n",
      "[Aviso] dt original 0.0125≠0.01 en fila 281 / V\n",
      "[Aviso] dt original 0.0125≠0.01 en fila 282 / H1\n",
      "[Aviso] dt original 0.0125≠0.01 en fila 282 / H2\n",
      "[Aviso] dt original 0.0125≠0.01 en fila 282 / V\n",
      "[Aviso] dt original 0.0125≠0.01 en fila 308 / H1\n",
      "[Aviso] dt original 0.0125≠0.01 en fila 308 / H2\n",
      "[Aviso] dt original 0.0125≠0.01 en fila 308 / V\n",
      "[Aviso] dt original 0.005≠0.01 en fila 324 / H1\n",
      "[Aviso] dt original 0.005≠0.01 en fila 324 / H2\n",
      "[Aviso] dt original 0.005≠0.01 en fila 324 / V\n",
      "[Aviso] dt original 0.005≠0.01 en fila 325 / H1\n",
      "[Aviso] dt original 0.005≠0.01 en fila 325 / H2\n",
      "[Aviso] dt original 0.005≠0.01 en fila 325 / V\n",
      "[Aviso] dt original 0.005≠0.01 en fila 326 / H1\n",
      "[Aviso] dt original 0.005≠0.01 en fila 326 / H2\n",
      "[Aviso] dt original 0.005≠0.01 en fila 326 / V\n",
      "[Aviso] dt original 0.005≠0.01 en fila 327 / H1\n",
      "[Aviso] dt original 0.005≠0.01 en fila 327 / H2\n",
      "[Aviso] dt original 0.005≠0.01 en fila 327 / V\n",
      "[Aviso] dt original 0.005≠0.01 en fila 328 / H1\n",
      "[Aviso] dt original 0.005≠0.01 en fila 328 / H2\n",
      "[Aviso] dt original 0.005≠0.01 en fila 328 / V\n",
      "[Aviso] dt original 0.005≠0.01 en fila 332 / H1\n",
      "[Aviso] dt original 0.005≠0.01 en fila 332 / H2\n",
      "[Aviso] dt original 0.005≠0.01 en fila 332 / V\n",
      "[Aviso] dt original 0.005≠0.01 en fila 333 / H1\n",
      "[Aviso] dt original 0.005≠0.01 en fila 333 / H2\n",
      "[Aviso] dt original 0.005≠0.01 en fila 333 / V\n",
      "[Aviso] dt original 0.005≠0.01 en fila 334 / H1\n",
      "[Aviso] dt original 0.005≠0.01 en fila 334 / H2\n",
      "[Aviso] dt original 0.005≠0.01 en fila 334 / V\n",
      "[Aviso] dt original 0.005≠0.01 en fila 337 / H1\n",
      "[Aviso] dt original 0.005≠0.01 en fila 337 / H2\n",
      "[Aviso] dt original 0.005≠0.01 en fila 337 / V\n",
      "[Aviso] dt original 0.005≠0.01 en fila 338 / H1\n",
      "[Aviso] dt original 0.005≠0.01 en fila 338 / H2\n",
      "[Aviso] dt original 0.005≠0.01 en fila 338 / V\n",
      "[Aviso] dt original 0.005≠0.01 en fila 339 / H1\n",
      "[Aviso] dt original 0.005≠0.01 en fila 339 / H2\n",
      "[Aviso] dt original 0.005≠0.01 en fila 339 / V\n",
      "[Aviso] dt original 0.005≠0.01 en fila 340 / H1\n",
      "[Aviso] dt original 0.005≠0.01 en fila 340 / H2\n",
      "[Aviso] dt original 0.005≠0.01 en fila 340 / V\n",
      "[Aviso] dt original 0.005≠0.01 en fila 342 / H1\n",
      "[Aviso] dt original 0.005≠0.01 en fila 342 / H2\n",
      "[Aviso] dt original 0.005≠0.01 en fila 342 / V\n",
      "[Aviso] dt original 0.005≠0.01 en fila 345 / H1\n",
      "[Aviso] dt original 0.005≠0.01 en fila 345 / H2\n",
      "[Aviso] dt original 0.005≠0.01 en fila 345 / V\n",
      "[Aviso] dt original 0.005≠0.01 en fila 346 / H1\n",
      "[Aviso] dt original 0.005≠0.01 en fila 346 / H2\n",
      "[Aviso] dt original 0.005≠0.01 en fila 346 / V\n",
      "[Aviso] dt original 0.005≠0.01 en fila 347 / H1\n",
      "[Aviso] dt original 0.005≠0.01 en fila 347 / H2\n",
      "[Aviso] dt original 0.005≠0.01 en fila 347 / V\n",
      "[Aviso] dt original 0.005≠0.01 en fila 348 / H1\n",
      "[Aviso] dt original 0.005≠0.01 en fila 348 / H2\n",
      "[Aviso] dt original 0.005≠0.01 en fila 348 / V\n",
      "[Aviso] dt original 0.005≠0.01 en fila 349 / H1\n",
      "[Aviso] dt original 0.005≠0.01 en fila 349 / H2\n",
      "[Aviso] dt original 0.005≠0.01 en fila 349 / V\n",
      "[Aviso] dt original 0.005≠0.01 en fila 350 / H1\n",
      "[Aviso] dt original 0.005≠0.01 en fila 350 / H2\n",
      "[Aviso] dt original 0.005≠0.01 en fila 350 / V\n",
      "[Aviso] dt original 0.005≠0.01 en fila 351 / H1\n",
      "[Aviso] dt original 0.005≠0.01 en fila 351 / H2\n",
      "[Aviso] dt original 0.005≠0.01 en fila 351 / V\n",
      "[Aviso] dt original 0.005≠0.01 en fila 352 / H1\n",
      "[Aviso] dt original 0.005≠0.01 en fila 352 / H2\n",
      "[Aviso] dt original 0.005≠0.01 en fila 352 / V\n",
      "[Aviso] dt original 0.005≠0.01 en fila 353 / H1\n",
      "[Aviso] dt original 0.005≠0.01 en fila 353 / H2\n",
      "[Aviso] dt original 0.005≠0.01 en fila 353 / V\n",
      "[Aviso] dt original 0.005≠0.01 en fila 354 / H1\n",
      "[Aviso] dt original 0.005≠0.01 en fila 354 / H2\n",
      "[Aviso] dt original 0.005≠0.01 en fila 354 / V\n",
      "[Aviso] dt original 0.005≠0.01 en fila 355 / H1\n",
      "[Aviso] dt original 0.005≠0.01 en fila 355 / H2\n",
      "[Aviso] dt original 0.005≠0.01 en fila 355 / V\n",
      "[Aviso] dt original 0.005≠0.01 en fila 356 / H1\n",
      "[Aviso] dt original 0.005≠0.01 en fila 356 / H2\n",
      "[Aviso] dt original 0.005≠0.01 en fila 356 / V\n",
      "[Aviso] dt original 0.005≠0.01 en fila 357 / H1\n",
      "[Aviso] dt original 0.005≠0.01 en fila 357 / H2\n",
      "[Aviso] dt original 0.005≠0.01 en fila 357 / V\n",
      "[Aviso] dt original 0.005≠0.01 en fila 358 / H1\n",
      "[Aviso] dt original 0.005≠0.01 en fila 358 / H2\n",
      "[Aviso] dt original 0.005≠0.01 en fila 358 / V\n",
      "[Aviso] dt original 0.005≠0.01 en fila 359 / H1\n",
      "[Aviso] dt original 0.005≠0.01 en fila 359 / H2\n",
      "[Aviso] dt original 0.005≠0.01 en fila 359 / V\n",
      "[Aviso] dt original 0.005≠0.01 en fila 360 / H1\n",
      "[Aviso] dt original 0.005≠0.01 en fila 360 / H2\n",
      "[Aviso] dt original 0.005≠0.01 en fila 360 / V\n",
      "[Aviso] dt original 0.005≠0.01 en fila 364 / H1\n",
      "[Aviso] dt original 0.005≠0.01 en fila 364 / H2\n",
      "[Aviso] dt original 0.005≠0.01 en fila 364 / V\n",
      "[Aviso] dt original 0.005≠0.01 en fila 365 / H1\n",
      "[Aviso] dt original 0.005≠0.01 en fila 365 / H2\n",
      "[Aviso] dt original 0.005≠0.01 en fila 365 / V\n",
      "[Aviso] dt original 0.005≠0.01 en fila 366 / H1\n",
      "[Aviso] dt original 0.005≠0.01 en fila 366 / H2\n",
      "[Aviso] dt original 0.005≠0.01 en fila 366 / V\n",
      "[Aviso] dt original 0.005≠0.01 en fila 367 / H1\n",
      "[Aviso] dt original 0.005≠0.01 en fila 367 / H2\n",
      "[Aviso] dt original 0.005≠0.01 en fila 367 / V\n",
      "[Aviso] dt original 0.005≠0.01 en fila 368 / H1\n",
      "[Aviso] dt original 0.005≠0.01 en fila 368 / H2\n",
      "[Aviso] dt original 0.005≠0.01 en fila 368 / V\n",
      "[Aviso] dt original 0.005≠0.01 en fila 369 / H1\n",
      "[Aviso] dt original 0.005≠0.01 en fila 369 / H2\n",
      "[Aviso] dt original 0.005≠0.01 en fila 369 / V\n",
      "[Aviso] dt original 0.005≠0.01 en fila 370 / H1\n",
      "[Aviso] dt original 0.005≠0.01 en fila 370 / H2\n",
      "[Aviso] dt original 0.005≠0.01 en fila 370 / V\n",
      "[Aviso] dt original 0.005≠0.01 en fila 371 / H1\n",
      "[Aviso] dt original 0.005≠0.01 en fila 371 / H2\n",
      "[Aviso] dt original 0.005≠0.01 en fila 371 / V\n",
      "[Aviso] dt original 0.005≠0.01 en fila 372 / H1\n",
      "[Aviso] dt original 0.005≠0.01 en fila 372 / H2\n",
      "[Aviso] dt original 0.005≠0.01 en fila 372 / V\n",
      "[Aviso] dt original 0.005≠0.01 en fila 373 / H1\n",
      "[Aviso] dt original 0.005≠0.01 en fila 373 / H2\n",
      "[Aviso] dt original 0.005≠0.01 en fila 373 / V\n",
      "[Aviso] dt original 0.005≠0.01 en fila 374 / H1\n",
      "[Aviso] dt original 0.005≠0.01 en fila 374 / H2\n",
      "[Aviso] dt original 0.005≠0.01 en fila 374 / V\n",
      "[Aviso] dt original 0.005≠0.01 en fila 375 / H1\n",
      "[Aviso] dt original 0.005≠0.01 en fila 375 / H2\n",
      "[Aviso] dt original 0.005≠0.01 en fila 375 / V\n",
      "[Aviso] dt original 0.005≠0.01 en fila 376 / H1\n",
      "[Aviso] dt original 0.005≠0.01 en fila 376 / H2\n",
      "[Aviso] dt original 0.005≠0.01 en fila 376 / V\n",
      "[Aviso] dt original 0.005≠0.01 en fila 377 / H1\n",
      "[Aviso] dt original 0.005≠0.01 en fila 377 / H2\n",
      "[Aviso] dt original 0.005≠0.01 en fila 377 / V\n",
      "[Aviso] dt original 0.005≠0.01 en fila 378 / H1\n",
      "[Aviso] dt original 0.005≠0.01 en fila 378 / H2\n",
      "[Aviso] dt original 0.005≠0.01 en fila 378 / V\n",
      "[Aviso] dt original 0.005≠0.01 en fila 379 / H1\n",
      "[Aviso] dt original 0.005≠0.01 en fila 379 / H2\n",
      "[Aviso] dt original 0.005≠0.01 en fila 379 / V\n",
      "[Aviso] dt original 0.005≠0.01 en fila 380 / H1\n",
      "[Aviso] dt original 0.005≠0.01 en fila 380 / H2\n",
      "[Aviso] dt original 0.005≠0.01 en fila 380 / V\n",
      "[Aviso] dt original 0.005≠0.01 en fila 381 / H1\n",
      "[Aviso] dt original 0.005≠0.01 en fila 381 / H2\n",
      "[Aviso] dt original 0.005≠0.01 en fila 381 / V\n",
      "[Aviso] dt original 0.005≠0.01 en fila 382 / H1\n",
      "[Aviso] dt original 0.005≠0.01 en fila 382 / H2\n",
      "[Aviso] dt original 0.005≠0.01 en fila 382 / V\n",
      "[Aviso] dt original 0.005≠0.01 en fila 385 / H1\n",
      "[Aviso] dt original 0.005≠0.01 en fila 385 / H2\n",
      "[Aviso] dt original 0.005≠0.01 en fila 385 / V\n",
      "[Aviso] dt original 0.005≠0.01 en fila 389 / H1\n",
      "[Aviso] dt original 0.005≠0.01 en fila 389 / H2\n",
      "[Aviso] dt original 0.005≠0.01 en fila 389 / V\n",
      "[Aviso] dt original 0.005≠0.01 en fila 390 / H1\n",
      "[Aviso] dt original 0.005≠0.01 en fila 390 / H2\n",
      "[Aviso] dt original 0.005≠0.01 en fila 390 / V\n",
      "[Aviso] dt original 0.0024≠0.01 en fila 393 / H1\n",
      "[Aviso] dt original 0.0024≠0.01 en fila 393 / H2\n",
      "[Aviso] dt original 0.0024≠0.01 en fila 393 / V\n",
      "[Aviso] dt original 0.005≠0.01 en fila 394 / H1\n",
      "[Aviso] dt original 0.005≠0.01 en fila 394 / H2\n",
      "[Aviso] dt original 0.005≠0.01 en fila 394 / V\n",
      "[Aviso] dt original 0.005≠0.01 en fila 395 / H1\n",
      "[Aviso] dt original 0.005≠0.01 en fila 395 / H2\n",
      "[Aviso] dt original 0.005≠0.01 en fila 395 / V\n",
      "[Aviso] dt original 0.005≠0.01 en fila 396 / H1\n",
      "[Aviso] dt original 0.005≠0.01 en fila 396 / H2\n",
      "[Aviso] dt original 0.005≠0.01 en fila 396 / V\n",
      "[Aviso] dt original 0.005≠0.01 en fila 397 / H1\n",
      "[Aviso] dt original 0.005≠0.01 en fila 397 / H2\n",
      "[Aviso] dt original 0.005≠0.01 en fila 397 / V\n",
      "[Aviso] dt original 0.005≠0.01 en fila 398 / H1\n",
      "[Aviso] dt original 0.005≠0.01 en fila 398 / H2\n",
      "[Aviso] dt original 0.005≠0.01 en fila 398 / V\n",
      "[Aviso] dt original 0.005≠0.01 en fila 399 / H1\n",
      "[Aviso] dt original 0.005≠0.01 en fila 399 / H2\n",
      "[Aviso] dt original 0.005≠0.01 en fila 399 / V\n",
      "[Aviso] dt original 0.005≠0.01 en fila 400 / H1\n",
      "[Aviso] dt original 0.005≠0.01 en fila 400 / H2\n",
      "[Aviso] dt original 0.005≠0.01 en fila 400 / V\n",
      "[Aviso] dt original 0.005≠0.01 en fila 401 / H1\n",
      "[Aviso] dt original 0.005≠0.01 en fila 401 / H2\n",
      "[Aviso] dt original 0.005≠0.01 en fila 401 / V\n",
      "[Aviso] dt original 0.005≠0.01 en fila 402 / H1\n",
      "[Aviso] dt original 0.005≠0.01 en fila 402 / H2\n",
      "[Aviso] dt original 0.005≠0.01 en fila 402 / V\n",
      "[Aviso] dt original 0.005≠0.01 en fila 403 / H1\n",
      "[Aviso] dt original 0.005≠0.01 en fila 403 / H2\n",
      "[Aviso] dt original 0.005≠0.01 en fila 403 / V\n",
      "[Aviso] dt original 0.005≠0.01 en fila 404 / H1\n",
      "[Aviso] dt original 0.005≠0.01 en fila 404 / H2\n",
      "[Aviso] dt original 0.005≠0.01 en fila 404 / V\n",
      "[Aviso] dt original 0.005≠0.01 en fila 405 / H1\n",
      "[Aviso] dt original 0.005≠0.01 en fila 405 / H2\n",
      "[Aviso] dt original 0.005≠0.01 en fila 405 / V\n",
      "[Aviso] dt original 0.005≠0.01 en fila 406 / H1\n",
      "[Aviso] dt original 0.005≠0.01 en fila 406 / H2\n",
      "[Aviso] dt original 0.005≠0.01 en fila 406 / V\n",
      "[Aviso] dt original 0.005≠0.01 en fila 407 / H1\n",
      "[Aviso] dt original 0.005≠0.01 en fila 407 / H2\n",
      "[Aviso] dt original 0.005≠0.01 en fila 407 / V\n",
      "[Aviso] dt original 0.005≠0.01 en fila 408 / H1\n",
      "[Aviso] dt original 0.005≠0.01 en fila 408 / H2\n",
      "[Aviso] dt original 0.005≠0.01 en fila 408 / V\n",
      "[Aviso] dt original 0.005≠0.01 en fila 409 / H1\n",
      "[Aviso] dt original 0.005≠0.01 en fila 409 / H2\n",
      "[Aviso] dt original 0.005≠0.01 en fila 409 / V\n",
      "[Aviso] dt original 0.005≠0.01 en fila 410 / H1\n",
      "[Aviso] dt original 0.005≠0.01 en fila 410 / H2\n",
      "[Aviso] dt original 0.005≠0.01 en fila 410 / V\n",
      "[Aviso] dt original 0.02≠0.01 en fila 411 / H1\n",
      "[Aviso] dt original 0.02≠0.01 en fila 411 / H2\n",
      "[Aviso] dt original 0.02≠0.01 en fila 411 / V\n",
      "[Aviso] dt original 0.005≠0.01 en fila 412 / H1\n",
      "[Aviso] dt original 0.005≠0.01 en fila 412 / H2\n",
      "[Aviso] dt original 0.005≠0.01 en fila 412 / V\n",
      "[Aviso] dt original 0.005≠0.01 en fila 413 / H1\n",
      "[Aviso] dt original 0.005≠0.01 en fila 413 / H2\n",
      "[Aviso] dt original 0.005≠0.01 en fila 413 / V\n",
      "[Aviso] dt original 0.005≠0.01 en fila 414 / H1\n",
      "[Aviso] dt original 0.005≠0.01 en fila 414 / H2\n",
      "[Aviso] dt original 0.005≠0.01 en fila 414 / V\n",
      "[Aviso] dt original 0.02≠0.01 en fila 419 / H1\n",
      "[Aviso] dt original 0.02≠0.01 en fila 419 / H2\n",
      "[Aviso] dt original 0.02≠0.01 en fila 419 / V\n",
      "[Aviso] dt original 0.02≠0.01 en fila 423 / H1\n",
      "[Aviso] dt original 0.02≠0.01 en fila 423 / H2\n",
      "[Aviso] dt original 0.02≠0.01 en fila 423 / V\n",
      "[Aviso] dt original 0.02≠0.01 en fila 424 / H1\n",
      "[Aviso] dt original 0.02≠0.01 en fila 424 / H2\n",
      "[Aviso] dt original 0.02≠0.01 en fila 424 / V\n",
      "[Aviso] dt original 0.005≠0.01 en fila 427 / H1\n",
      "[Aviso] dt original 0.005≠0.01 en fila 427 / H2\n",
      "[Aviso] dt original 0.005≠0.01 en fila 427 / V\n",
      "[Aviso] dt original 0.005≠0.01 en fila 429 / H1\n",
      "[Aviso] dt original 0.005≠0.01 en fila 429 / H2\n",
      "[Aviso] dt original 0.005≠0.01 en fila 429 / V\n",
      "[Aviso] dt original 0.005≠0.01 en fila 431 / H1\n",
      "[Aviso] dt original 0.005≠0.01 en fila 431 / H2\n",
      "[Aviso] dt original 0.005≠0.01 en fila 431 / V\n",
      "[Aviso] dt original 0.005≠0.01 en fila 432 / H1\n",
      "[Aviso] dt original 0.005≠0.01 en fila 432 / H2\n",
      "[Aviso] dt original 0.005≠0.01 en fila 432 / V\n",
      "[Aviso] dt original 0.005≠0.01 en fila 434 / H1\n",
      "[Aviso] dt original 0.005≠0.01 en fila 434 / H2\n",
      "[Aviso] dt original 0.005≠0.01 en fila 434 / V\n",
      "[Aviso] dt original 0.005≠0.01 en fila 440 / H1\n",
      "[Aviso] dt original 0.005≠0.01 en fila 440 / H2\n",
      "[Aviso] dt original 0.005≠0.01 en fila 440 / V\n",
      "[Aviso] dt original 0.005≠0.01 en fila 443 / H1\n",
      "[Aviso] dt original 0.005≠0.01 en fila 443 / H2\n",
      "[Aviso] dt original 0.005≠0.01 en fila 443 / V\n",
      "[Aviso] dt original 0.005≠0.01 en fila 444 / H1\n",
      "[Aviso] dt original 0.005≠0.01 en fila 444 / H2\n",
      "[Aviso] dt original 0.005≠0.01 en fila 444 / V\n",
      "[Aviso] dt original 0.005≠0.01 en fila 445 / H1\n",
      "[Aviso] dt original 0.005≠0.01 en fila 445 / H2\n",
      "[Aviso] dt original 0.005≠0.01 en fila 445 / V\n",
      "[Aviso] dt original 0.005≠0.01 en fila 446 / H1\n",
      "[Aviso] dt original 0.005≠0.01 en fila 446 / H2\n",
      "[Aviso] dt original 0.005≠0.01 en fila 446 / V\n",
      "[Aviso] dt original 0.005≠0.01 en fila 447 / H1\n",
      "[Aviso] dt original 0.005≠0.01 en fila 447 / H2\n",
      "[Aviso] dt original 0.005≠0.01 en fila 447 / V\n",
      "[Aviso] dt original 0.005≠0.01 en fila 448 / H1\n",
      "[Aviso] dt original 0.005≠0.01 en fila 448 / H2\n",
      "[Aviso] dt original 0.005≠0.01 en fila 448 / V\n",
      "[Aviso] dt original 0.005≠0.01 en fila 449 / H1\n",
      "[Aviso] dt original 0.005≠0.01 en fila 449 / H2\n",
      "[Aviso] dt original 0.005≠0.01 en fila 449 / V\n",
      "[Aviso] dt original 0.005≠0.01 en fila 450 / H1\n",
      "[Aviso] dt original 0.005≠0.01 en fila 450 / H2\n",
      "[Aviso] dt original 0.005≠0.01 en fila 450 / V\n",
      "[Aviso] dt original 0.005≠0.01 en fila 451 / H1\n",
      "[Aviso] dt original 0.005≠0.01 en fila 451 / H2\n",
      "[Aviso] dt original 0.005≠0.01 en fila 451 / V\n",
      "[Aviso] dt original 0.005≠0.01 en fila 452 / H1\n",
      "[Aviso] dt original 0.005≠0.01 en fila 452 / H2\n",
      "[Aviso] dt original 0.005≠0.01 en fila 452 / V\n",
      "[Aviso] dt original 0.005≠0.01 en fila 453 / H1\n",
      "[Aviso] dt original 0.005≠0.01 en fila 453 / H2\n",
      "[Aviso] dt original 0.005≠0.01 en fila 453 / V\n",
      "[Aviso] dt original 0.005≠0.01 en fila 454 / H1\n",
      "[Aviso] dt original 0.005≠0.01 en fila 454 / H2\n",
      "[Aviso] dt original 0.005≠0.01 en fila 454 / V\n",
      "[Aviso] dt original 0.005≠0.01 en fila 455 / H1\n",
      "[Aviso] dt original 0.005≠0.01 en fila 455 / H2\n",
      "[Aviso] dt original 0.005≠0.01 en fila 455 / V\n",
      "[Aviso] dt original 0.005≠0.01 en fila 456 / H1\n",
      "[Aviso] dt original 0.005≠0.01 en fila 456 / H2\n",
      "[Aviso] dt original 0.005≠0.01 en fila 456 / V\n",
      "[Aviso] dt original 0.005≠0.01 en fila 457 / H1\n",
      "[Aviso] dt original 0.005≠0.01 en fila 457 / H2\n",
      "[Aviso] dt original 0.005≠0.01 en fila 457 / V\n",
      "[Aviso] dt original 0.005≠0.01 en fila 458 / H1\n",
      "[Aviso] dt original 0.005≠0.01 en fila 458 / H2\n",
      "[Aviso] dt original 0.005≠0.01 en fila 458 / V\n",
      "[Aviso] dt original 0.005≠0.01 en fila 459 / H1\n",
      "[Aviso] dt original 0.005≠0.01 en fila 459 / H2\n",
      "[Aviso] dt original 0.005≠0.01 en fila 459 / V\n",
      "[Aviso] dt original 0.005≠0.01 en fila 461 / H1\n",
      "[Aviso] dt original 0.005≠0.01 en fila 461 / H2\n",
      "[Aviso] dt original 0.005≠0.01 en fila 461 / V\n",
      "[Aviso] dt original 0.005≠0.01 en fila 462 / H1\n",
      "[Aviso] dt original 0.005≠0.01 en fila 462 / H2\n",
      "[Aviso] dt original 0.005≠0.01 en fila 462 / V\n",
      "[Aviso] dt original 0.005≠0.01 en fila 463 / H1\n",
      "[Aviso] dt original 0.005≠0.01 en fila 463 / H2\n",
      "[Aviso] dt original 0.005≠0.01 en fila 463 / V\n",
      "[Aviso] dt original 0.005≠0.01 en fila 464 / H1\n",
      "[Aviso] dt original 0.005≠0.01 en fila 464 / H2\n",
      "[Aviso] dt original 0.005≠0.01 en fila 464 / V\n",
      "[Aviso] dt original 0.005≠0.01 en fila 465 / H1\n",
      "[Aviso] dt original 0.005≠0.01 en fila 465 / H2\n",
      "[Aviso] dt original 0.005≠0.01 en fila 465 / V\n",
      "[Aviso] dt original 0.005≠0.01 en fila 466 / H1\n",
      "[Aviso] dt original 0.005≠0.01 en fila 466 / H2\n",
      "[Aviso] dt original 0.005≠0.01 en fila 466 / V\n",
      "[Aviso] dt original 0.005≠0.01 en fila 467 / H1\n",
      "[Aviso] dt original 0.005≠0.01 en fila 467 / H2\n",
      "[Aviso] dt original 0.005≠0.01 en fila 467 / V\n",
      "[Aviso] dt original 0.005≠0.01 en fila 468 / H1\n",
      "[Aviso] dt original 0.005≠0.01 en fila 468 / H2\n",
      "[Aviso] dt original 0.005≠0.01 en fila 468 / V\n",
      "[Aviso] dt original 0.005≠0.01 en fila 469 / H1\n",
      "[Aviso] dt original 0.005≠0.01 en fila 469 / H2\n",
      "[Aviso] dt original 0.005≠0.01 en fila 469 / V\n",
      "[Aviso] dt original 0.005≠0.01 en fila 470 / H1\n",
      "[Aviso] dt original 0.005≠0.01 en fila 470 / H2\n",
      "[Aviso] dt original 0.005≠0.01 en fila 470 / V\n",
      "[Aviso] dt original 0.005≠0.01 en fila 471 / H1\n",
      "[Aviso] dt original 0.005≠0.01 en fila 471 / H2\n",
      "[Aviso] dt original 0.005≠0.01 en fila 471 / V\n",
      "[Aviso] dt original 0.005≠0.01 en fila 472 / H1\n",
      "[Aviso] dt original 0.005≠0.01 en fila 472 / H2\n",
      "[Aviso] dt original 0.005≠0.01 en fila 472 / V\n",
      "[Aviso] dt original 0.005≠0.01 en fila 473 / H1\n",
      "[Aviso] dt original 0.005≠0.01 en fila 473 / H2\n",
      "[Aviso] dt original 0.005≠0.01 en fila 473 / V\n",
      "[Aviso] dt original 0.005≠0.01 en fila 474 / H1\n",
      "[Aviso] dt original 0.005≠0.01 en fila 474 / H2\n",
      "[Aviso] dt original 0.005≠0.01 en fila 474 / V\n",
      "[Aviso] dt original 0.005≠0.01 en fila 475 / H1\n",
      "[Aviso] dt original 0.005≠0.01 en fila 475 / H2\n",
      "[Aviso] dt original 0.005≠0.01 en fila 475 / V\n",
      "[Aviso] dt original 0.005≠0.01 en fila 476 / H1\n",
      "[Aviso] dt original 0.005≠0.01 en fila 476 / H2\n",
      "[Aviso] dt original 0.005≠0.01 en fila 476 / V\n",
      "[Aviso] dt original 0.005≠0.01 en fila 477 / H1\n",
      "[Aviso] dt original 0.005≠0.01 en fila 477 / H2\n",
      "[Aviso] dt original 0.005≠0.01 en fila 477 / V\n",
      "[Aviso] dt original 0.005≠0.01 en fila 478 / H1\n",
      "[Aviso] dt original 0.005≠0.01 en fila 478 / H2\n",
      "[Aviso] dt original 0.005≠0.01 en fila 478 / V\n",
      "[Aviso] dt original 0.004≠0.01 en fila 479 / H1\n",
      "[Aviso] dt original 0.004≠0.01 en fila 479 / H2\n",
      "[Aviso] dt original 0.004≠0.01 en fila 479 / V\n",
      "[Aviso] dt original 0.004≠0.01 en fila 480 / H1\n",
      "[Aviso] dt original 0.004≠0.01 en fila 480 / H2\n",
      "[Aviso] dt original 0.004≠0.01 en fila 480 / V\n",
      "[Aviso] dt original 0.005≠0.01 en fila 481 / H1\n",
      "[Aviso] dt original 0.005≠0.01 en fila 481 / H2\n",
      "[Aviso] dt original 0.005≠0.01 en fila 481 / V\n",
      "[Aviso] dt original 0.005≠0.01 en fila 482 / H1\n",
      "[Aviso] dt original 0.005≠0.01 en fila 482 / H2\n",
      "[Aviso] dt original 0.005≠0.01 en fila 482 / V\n",
      "[Aviso] dt original 0.005≠0.01 en fila 483 / H1\n",
      "[Aviso] dt original 0.005≠0.01 en fila 483 / H2\n",
      "[Aviso] dt original 0.005≠0.01 en fila 483 / V\n",
      "[Aviso] dt original 0.005≠0.01 en fila 484 / H1\n",
      "[Aviso] dt original 0.005≠0.01 en fila 484 / H2\n",
      "[Aviso] dt original 0.005≠0.01 en fila 484 / V\n",
      "[Aviso] dt original 0.005≠0.01 en fila 485 / H1\n",
      "[Aviso] dt original 0.005≠0.01 en fila 485 / H2\n",
      "[Aviso] dt original 0.005≠0.01 en fila 485 / V\n",
      "[Aviso] dt original 0.005≠0.01 en fila 486 / H1\n",
      "[Aviso] dt original 0.005≠0.01 en fila 486 / H2\n",
      "[Aviso] dt original 0.005≠0.01 en fila 486 / V\n",
      "[Aviso] dt original 0.005≠0.01 en fila 487 / H1\n",
      "[Aviso] dt original 0.005≠0.01 en fila 487 / H2\n",
      "[Aviso] dt original 0.005≠0.01 en fila 487 / V\n",
      "[Aviso] dt original 0.005≠0.01 en fila 488 / H1\n",
      "[Aviso] dt original 0.005≠0.01 en fila 488 / H2\n",
      "[Aviso] dt original 0.005≠0.01 en fila 488 / V\n",
      "[Aviso] dt original 0.005≠0.01 en fila 489 / H1\n",
      "[Aviso] dt original 0.005≠0.01 en fila 489 / H2\n",
      "[Aviso] dt original 0.005≠0.01 en fila 489 / V\n",
      "[Aviso] dt original 0.005≠0.01 en fila 490 / H1\n",
      "[Aviso] dt original 0.005≠0.01 en fila 490 / H2\n",
      "[Aviso] dt original 0.005≠0.01 en fila 490 / V\n",
      "[Aviso] dt original 0.005≠0.01 en fila 491 / H1\n",
      "[Aviso] dt original 0.005≠0.01 en fila 491 / H2\n",
      "[Aviso] dt original 0.005≠0.01 en fila 491 / V\n",
      "[Aviso] dt original 0.005≠0.01 en fila 492 / H1\n",
      "[Aviso] dt original 0.005≠0.01 en fila 492 / H2\n",
      "[Aviso] dt original 0.005≠0.01 en fila 492 / V\n",
      "[Aviso] dt original 0.005≠0.01 en fila 493 / H1\n",
      "[Aviso] dt original 0.005≠0.01 en fila 493 / H2\n",
      "[Aviso] dt original 0.005≠0.01 en fila 493 / V\n",
      "[Aviso] dt original 0.005≠0.01 en fila 494 / H1\n",
      "[Aviso] dt original 0.005≠0.01 en fila 494 / H2\n",
      "[Aviso] dt original 0.005≠0.01 en fila 494 / V\n",
      "[Aviso] dt original 0.005≠0.01 en fila 495 / H1\n",
      "[Aviso] dt original 0.005≠0.01 en fila 495 / H2\n",
      "[Aviso] dt original 0.005≠0.01 en fila 495 / V\n",
      "[Aviso] dt original 0.005≠0.01 en fila 497 / H1\n",
      "[Aviso] dt original 0.005≠0.01 en fila 497 / H2\n",
      "[Aviso] dt original 0.005≠0.01 en fila 497 / V\n",
      "[Aviso] dt original 0.005≠0.01 en fila 498 / H1\n",
      "[Aviso] dt original 0.005≠0.01 en fila 498 / H2\n",
      "[Aviso] dt original 0.005≠0.01 en fila 498 / V\n",
      "[Aviso] dt original 0.004≠0.01 en fila 499 / H1\n",
      "[Aviso] dt original 0.004≠0.01 en fila 499 / H2\n",
      "[Aviso] dt original 0.004≠0.01 en fila 499 / V\n",
      "[Aviso] dt original 0.005≠0.01 en fila 500 / H1\n",
      "[Aviso] dt original 0.005≠0.01 en fila 500 / H2\n",
      "[Aviso] dt original 0.005≠0.01 en fila 500 / V\n",
      "[Aviso] dt original 0.005≠0.01 en fila 501 / H1\n",
      "[Aviso] dt original 0.005≠0.01 en fila 501 / H2\n",
      "[Aviso] dt original 0.005≠0.01 en fila 501 / V\n",
      "[Aviso] dt original 0.005≠0.01 en fila 502 / H1\n",
      "[Aviso] dt original 0.005≠0.01 en fila 502 / H2\n",
      "[Aviso] dt original 0.005≠0.01 en fila 502 / V\n",
      "[Aviso] dt original 0.004≠0.01 en fila 503 / H1\n",
      "[Aviso] dt original 0.004≠0.01 en fila 503 / H2\n",
      "[Aviso] dt original 0.004≠0.01 en fila 503 / V\n",
      "[Aviso] dt original 0.005≠0.01 en fila 504 / H1\n",
      "[Aviso] dt original 0.005≠0.01 en fila 504 / H2\n",
      "[Aviso] dt original 0.005≠0.01 en fila 504 / V\n",
      "[Aviso] dt original 0.005≠0.01 en fila 505 / H1\n",
      "[Aviso] dt original 0.005≠0.01 en fila 505 / H2\n",
      "[Aviso] dt original 0.005≠0.01 en fila 505 / V\n",
      "[Aviso] dt original 0.005≠0.01 en fila 506 / H1\n",
      "[Aviso] dt original 0.005≠0.01 en fila 506 / H2\n",
      "[Aviso] dt original 0.005≠0.01 en fila 506 / V\n",
      "[Aviso] dt original 0.005≠0.01 en fila 507 / H1\n",
      "[Aviso] dt original 0.005≠0.01 en fila 507 / H2\n",
      "[Aviso] dt original 0.005≠0.01 en fila 507 / V\n",
      "[Aviso] dt original 0.005≠0.01 en fila 508 / H1\n",
      "[Aviso] dt original 0.005≠0.01 en fila 508 / H2\n",
      "[Aviso] dt original 0.005≠0.01 en fila 508 / V\n",
      "[Aviso] dt original 0.005≠0.01 en fila 509 / H1\n",
      "[Aviso] dt original 0.005≠0.01 en fila 509 / H2\n",
      "[Aviso] dt original 0.005≠0.01 en fila 509 / V\n",
      "[Aviso] dt original 0.005≠0.01 en fila 510 / H1\n",
      "[Aviso] dt original 0.005≠0.01 en fila 510 / H2\n",
      "[Aviso] dt original 0.005≠0.01 en fila 510 / V\n",
      "[Aviso] dt original 0.004≠0.01 en fila 511 / H1\n",
      "[Aviso] dt original 0.004≠0.01 en fila 511 / H2\n",
      "[Aviso] dt original 0.004≠0.01 en fila 511 / V\n",
      "[Aviso] dt original 0.004≠0.01 en fila 512 / H1\n",
      "[Aviso] dt original 0.004≠0.01 en fila 512 / H2\n",
      "[Aviso] dt original 0.004≠0.01 en fila 512 / V\n",
      "[Aviso] dt original 0.004≠0.01 en fila 513 / H1\n",
      "[Aviso] dt original 0.004≠0.01 en fila 513 / H2\n",
      "[Aviso] dt original 0.004≠0.01 en fila 513 / V\n",
      "[Aviso] dt original 0.005≠0.01 en fila 514 / H1\n",
      "[Aviso] dt original 0.005≠0.01 en fila 514 / H2\n",
      "[Aviso] dt original 0.005≠0.01 en fila 514 / V\n",
      "[Aviso] dt original 0.005≠0.01 en fila 515 / H1\n",
      "[Aviso] dt original 0.005≠0.01 en fila 515 / H2\n",
      "[Aviso] dt original 0.005≠0.01 en fila 515 / V\n",
      "[Aviso] dt original 0.005≠0.01 en fila 516 / H1\n",
      "[Aviso] dt original 0.005≠0.01 en fila 516 / H2\n",
      "[Aviso] dt original 0.005≠0.01 en fila 516 / V\n",
      "[Aviso] dt original 0.004≠0.01 en fila 517 / H1\n",
      "[Aviso] dt original 0.004≠0.01 en fila 517 / H2\n",
      "[Aviso] dt original 0.004≠0.01 en fila 517 / V\n",
      "[Aviso] dt original 0.005≠0.01 en fila 518 / H1\n",
      "[Aviso] dt original 0.005≠0.01 en fila 518 / H2\n",
      "[Aviso] dt original 0.005≠0.01 en fila 518 / V\n",
      "[Aviso] dt original 0.005≠0.01 en fila 519 / H1\n",
      "[Aviso] dt original 0.005≠0.01 en fila 519 / H2\n",
      "[Aviso] dt original 0.005≠0.01 en fila 519 / V\n",
      "[Aviso] dt original 0.005≠0.01 en fila 520 / H1\n",
      "[Aviso] dt original 0.005≠0.01 en fila 520 / H2\n",
      "[Aviso] dt original 0.005≠0.01 en fila 520 / V\n",
      "[Aviso] dt original 0.005≠0.01 en fila 521 / H1\n",
      "[Aviso] dt original 0.005≠0.01 en fila 521 / H2\n",
      "[Aviso] dt original 0.005≠0.01 en fila 521 / V\n",
      "[Aviso] dt original 0.005≠0.01 en fila 522 / H1\n",
      "[Aviso] dt original 0.005≠0.01 en fila 522 / H2\n",
      "[Aviso] dt original 0.005≠0.01 en fila 522 / V\n",
      "[Aviso] dt original 0.005≠0.01 en fila 523 / H1\n",
      "[Aviso] dt original 0.005≠0.01 en fila 523 / H2\n",
      "[Aviso] dt original 0.005≠0.01 en fila 523 / V\n",
      "[Aviso] dt original 0.02≠0.01 en fila 524 / H1\n",
      "[Aviso] dt original 0.02≠0.01 en fila 524 / H2\n",
      "[Aviso] dt original 0.02≠0.01 en fila 524 / V\n",
      "[Aviso] dt original 0.02≠0.01 en fila 525 / H1\n",
      "[Aviso] dt original 0.02≠0.01 en fila 525 / H2\n",
      "[Aviso] dt original 0.02≠0.01 en fila 525 / V\n",
      "[Aviso] dt original 0.02≠0.01 en fila 527 / H1\n",
      "[Aviso] dt original 0.02≠0.01 en fila 527 / H2\n",
      "[Aviso] dt original 0.02≠0.01 en fila 527 / V\n",
      "[Aviso] dt original 0.02≠0.01 en fila 529 / H1\n",
      "[Aviso] dt original 0.02≠0.01 en fila 529 / H2\n",
      "[Aviso] dt original 0.02≠0.01 en fila 529 / V\n",
      "[Aviso] dt original 0.02≠0.01 en fila 531 / H1\n",
      "[Aviso] dt original 0.02≠0.01 en fila 531 / H2\n",
      "[Aviso] dt original 0.02≠0.01 en fila 531 / V\n",
      "[Aviso] dt original 0.02≠0.01 en fila 532 / H1\n",
      "[Aviso] dt original 0.02≠0.01 en fila 532 / H2\n",
      "[Aviso] dt original 0.02≠0.01 en fila 532 / V\n",
      "[Aviso] dt original 0.005≠0.01 en fila 534 / H1\n",
      "[Aviso] dt original 0.005≠0.01 en fila 534 / H2\n",
      "[Aviso] dt original 0.005≠0.01 en fila 534 / V\n",
      "[Aviso] dt original 0.005≠0.01 en fila 535 / H1\n",
      "[Aviso] dt original 0.005≠0.01 en fila 535 / H2\n",
      "[Aviso] dt original 0.005≠0.01 en fila 535 / V\n",
      "[Aviso] dt original 0.0078≠0.01 en fila 536 / H1\n",
      "[Aviso] dt original 0.0078≠0.01 en fila 536 / H2\n",
      "[Aviso] dt original 0.0078≠0.01 en fila 536 / V\n",
      "[Aviso] dt original 0.005≠0.01 en fila 539 / H1\n",
      "[Aviso] dt original 0.005≠0.01 en fila 539 / H2\n",
      "[Aviso] dt original 0.005≠0.01 en fila 539 / V\n",
      "[Aviso] dt original 0.02≠0.01 en fila 540 / H1\n",
      "[Aviso] dt original 0.02≠0.01 en fila 540 / H2\n",
      "[Aviso] dt original 0.02≠0.01 en fila 540 / V\n",
      "[Aviso] dt original 0.005≠0.01 en fila 541 / H1\n",
      "[Aviso] dt original 0.005≠0.01 en fila 541 / H2\n",
      "[Aviso] dt original 0.005≠0.01 en fila 541 / V\n",
      "[Aviso] dt original 0.005≠0.01 en fila 542 / H1\n",
      "[Aviso] dt original 0.005≠0.01 en fila 542 / H2\n",
      "[Aviso] dt original 0.005≠0.01 en fila 542 / V\n",
      "[Aviso] dt original 0.005≠0.01 en fila 543 / H1\n",
      "[Aviso] dt original 0.005≠0.01 en fila 543 / H2\n",
      "[Aviso] dt original 0.005≠0.01 en fila 543 / V\n",
      "[Aviso] dt original 0.005≠0.01 en fila 545 / H1\n",
      "[Aviso] dt original 0.005≠0.01 en fila 545 / H2\n",
      "[Aviso] dt original 0.005≠0.01 en fila 545 / V\n",
      "[Aviso] dt original 0.005≠0.01 en fila 546 / H1\n",
      "[Aviso] dt original 0.005≠0.01 en fila 546 / H2\n",
      "[Aviso] dt original 0.005≠0.01 en fila 546 / V\n",
      "[Aviso] dt original 0.02≠0.01 en fila 547 / H1\n",
      "[Aviso] dt original 0.02≠0.01 en fila 547 / H2\n",
      "[Aviso] dt original 0.02≠0.01 en fila 547 / V\n",
      "[Aviso] dt original 0.005≠0.01 en fila 548 / H1\n",
      "[Aviso] dt original 0.005≠0.01 en fila 548 / H2\n",
      "[Aviso] dt original 0.005≠0.01 en fila 548 / V\n",
      "[Aviso] dt original 0.005≠0.01 en fila 549 / H1\n",
      "[Aviso] dt original 0.005≠0.01 en fila 549 / H2\n",
      "[Aviso] dt original 0.005≠0.01 en fila 549 / V\n",
      "[Aviso] dt original 0.005≠0.01 en fila 550 / H1\n",
      "[Aviso] dt original 0.005≠0.01 en fila 550 / H2\n",
      "[Aviso] dt original 0.005≠0.01 en fila 550 / V\n",
      "[Aviso] dt original 0.005≠0.01 en fila 551 / H1\n",
      "[Aviso] dt original 0.005≠0.01 en fila 551 / H2\n",
      "[Aviso] dt original 0.005≠0.01 en fila 551 / V\n",
      "[Aviso] dt original 0.005≠0.01 en fila 552 / H1\n",
      "[Aviso] dt original 0.005≠0.01 en fila 552 / H2\n",
      "[Aviso] dt original 0.005≠0.01 en fila 552 / V\n",
      "[Aviso] dt original 0.004≠0.01 en fila 553 / H1\n",
      "[Aviso] dt original 0.004≠0.01 en fila 553 / H2\n",
      "[Aviso] dt original 0.004≠0.01 en fila 553 / V\n",
      "[Aviso] dt original 0.005≠0.01 en fila 554 / H1\n",
      "[Aviso] dt original 0.005≠0.01 en fila 554 / H2\n",
      "[Aviso] dt original 0.005≠0.01 en fila 554 / V\n",
      "[Aviso] dt original 0.005≠0.01 en fila 555 / H1\n",
      "[Aviso] dt original 0.005≠0.01 en fila 555 / H2\n",
      "[Aviso] dt original 0.005≠0.01 en fila 555 / V\n",
      "[Aviso] dt original 0.005≠0.01 en fila 556 / H1\n",
      "[Aviso] dt original 0.005≠0.01 en fila 556 / H2\n",
      "[Aviso] dt original 0.005≠0.01 en fila 556 / V\n",
      "[Aviso] dt original 0.005≠0.01 en fila 557 / H1\n",
      "[Aviso] dt original 0.005≠0.01 en fila 557 / H2\n",
      "[Aviso] dt original 0.005≠0.01 en fila 557 / V\n",
      "[Aviso] dt original 0.005≠0.01 en fila 558 / H1\n",
      "[Aviso] dt original 0.005≠0.01 en fila 558 / H2\n",
      "[Aviso] dt original 0.005≠0.01 en fila 558 / V\n",
      "[Aviso] dt original 0.005≠0.01 en fila 559 / H1\n",
      "[Aviso] dt original 0.005≠0.01 en fila 559 / H2\n",
      "[Aviso] dt original 0.005≠0.01 en fila 559 / V\n",
      "[Aviso] dt original 0.004≠0.01 en fila 560 / H1\n",
      "[Aviso] dt original 0.004≠0.01 en fila 560 / H2\n",
      "[Aviso] dt original 0.004≠0.01 en fila 560 / V\n",
      "[Aviso] dt original 0.005≠0.01 en fila 561 / H1\n",
      "[Aviso] dt original 0.005≠0.01 en fila 561 / H2\n",
      "[Aviso] dt original 0.005≠0.01 en fila 561 / V\n",
      "[Aviso] dt original 0.005≠0.01 en fila 562 / H1\n",
      "[Aviso] dt original 0.005≠0.01 en fila 562 / H2\n",
      "[Aviso] dt original 0.005≠0.01 en fila 562 / V\n",
      "[Aviso] dt original 0.004≠0.01 en fila 563 / H1\n",
      "[Aviso] dt original 0.004≠0.01 en fila 563 / H2\n",
      "[Aviso] dt original 0.004≠0.01 en fila 563 / V\n",
      "[Aviso] dt original 0.005≠0.01 en fila 564 / H1\n",
      "[Aviso] dt original 0.005≠0.01 en fila 564 / H2\n",
      "[Aviso] dt original 0.005≠0.01 en fila 564 / V\n",
      "[Aviso] dt original 0.005≠0.01 en fila 565 / H1\n",
      "[Aviso] dt original 0.005≠0.01 en fila 565 / H2\n",
      "[Aviso] dt original 0.005≠0.01 en fila 565 / V\n",
      "[Aviso] dt original 0.005≠0.01 en fila 566 / H1\n",
      "[Aviso] dt original 0.005≠0.01 en fila 566 / H2\n",
      "[Aviso] dt original 0.005≠0.01 en fila 566 / V\n",
      "[Aviso] dt original 0.005≠0.01 en fila 567 / H1\n",
      "[Aviso] dt original 0.005≠0.01 en fila 567 / H2\n",
      "[Aviso] dt original 0.005≠0.01 en fila 567 / V\n",
      "[Aviso] dt original 0.005≠0.01 en fila 568 / H1\n",
      "[Aviso] dt original 0.005≠0.01 en fila 568 / H2\n",
      "[Aviso] dt original 0.005≠0.01 en fila 568 / V\n",
      "[Aviso] dt original 0.005≠0.01 en fila 569 / H1\n",
      "[Aviso] dt original 0.005≠0.01 en fila 569 / H2\n",
      "[Aviso] dt original 0.005≠0.01 en fila 569 / V\n",
      "[Aviso] dt original 0.005≠0.01 en fila 570 / H1\n",
      "[Aviso] dt original 0.005≠0.01 en fila 570 / H2\n",
      "[Aviso] dt original 0.005≠0.01 en fila 570 / V\n",
      "[Aviso] dt original 0.004≠0.01 en fila 571 / H1\n",
      "[Aviso] dt original 0.004≠0.01 en fila 571 / H2\n",
      "[Aviso] dt original 0.004≠0.01 en fila 571 / V\n",
      "[Aviso] dt original 0.004≠0.01 en fila 572 / H1\n",
      "[Aviso] dt original 0.004≠0.01 en fila 572 / H2\n",
      "[Aviso] dt original 0.004≠0.01 en fila 572 / V\n",
      "[Aviso] dt original 0.005≠0.01 en fila 573 / H1\n",
      "[Aviso] dt original 0.005≠0.01 en fila 573 / H2\n",
      "[Aviso] dt original 0.005≠0.01 en fila 573 / V\n",
      "[Aviso] dt original 0.005≠0.01 en fila 574 / H1\n",
      "[Aviso] dt original 0.005≠0.01 en fila 574 / H2\n",
      "[Aviso] dt original 0.005≠0.01 en fila 574 / V\n",
      "[Aviso] dt original 0.005≠0.01 en fila 575 / H1\n",
      "[Aviso] dt original 0.005≠0.01 en fila 575 / H2\n",
      "[Aviso] dt original 0.005≠0.01 en fila 575 / V\n",
      "[Aviso] dt original 0.005≠0.01 en fila 576 / H1\n",
      "[Aviso] dt original 0.005≠0.01 en fila 576 / H2\n",
      "[Aviso] dt original 0.005≠0.01 en fila 576 / V\n",
      "[Aviso] dt original 0.005≠0.01 en fila 577 / H1\n",
      "[Aviso] dt original 0.005≠0.01 en fila 577 / H2\n",
      "[Aviso] dt original 0.005≠0.01 en fila 577 / V\n",
      "[Aviso] dt original 0.004≠0.01 en fila 578 / H1\n",
      "[Aviso] dt original 0.004≠0.01 en fila 578 / H2\n",
      "[Aviso] dt original 0.004≠0.01 en fila 578 / V\n",
      "[Aviso] dt original 0.004≠0.01 en fila 579 / H1\n",
      "[Aviso] dt original 0.004≠0.01 en fila 579 / H2\n",
      "[Aviso] dt original 0.004≠0.01 en fila 579 / V\n",
      "[Aviso] dt original 0.005≠0.01 en fila 580 / H1\n",
      "[Aviso] dt original 0.005≠0.01 en fila 580 / H2\n",
      "[Aviso] dt original 0.005≠0.01 en fila 580 / V\n",
      "[Aviso] dt original 0.005≠0.01 en fila 585 / H1\n",
      "[Aviso] dt original 0.005≠0.01 en fila 585 / H2\n",
      "[Aviso] dt original 0.005≠0.01 en fila 585 / V\n",
      "[Aviso] dt original 0.005≠0.01 en fila 586 / H1\n",
      "[Aviso] dt original 0.005≠0.01 en fila 586 / H2\n",
      "[Aviso] dt original 0.005≠0.01 en fila 586 / V\n",
      "[Aviso] dt original 0.005≠0.01 en fila 587 / H1\n",
      "[Aviso] dt original 0.005≠0.01 en fila 587 / H2\n",
      "[Aviso] dt original 0.005≠0.01 en fila 587 / V\n",
      "[Aviso] dt original 0.005≠0.01 en fila 588 / H1\n",
      "[Aviso] dt original 0.005≠0.01 en fila 588 / H2\n",
      "[Aviso] dt original 0.005≠0.01 en fila 588 / V\n",
      "[Aviso] dt original 0.005≠0.01 en fila 589 / H1\n",
      "[Aviso] dt original 0.005≠0.01 en fila 589 / H2\n",
      "[Aviso] dt original 0.005≠0.01 en fila 589 / V\n",
      "[Aviso] dt original 0.005≠0.01 en fila 590 / H1\n",
      "[Aviso] dt original 0.005≠0.01 en fila 590 / H2\n",
      "[Aviso] dt original 0.005≠0.01 en fila 590 / V\n",
      "[Aviso] dt original 0.005≠0.01 en fila 591 / H1\n",
      "[Aviso] dt original 0.005≠0.01 en fila 591 / H2\n",
      "[Aviso] dt original 0.005≠0.01 en fila 591 / V\n",
      "[Aviso] dt original 0.005≠0.01 en fila 595 / H1\n",
      "[Aviso] dt original 0.005≠0.01 en fila 595 / H2\n",
      "[Aviso] dt original 0.005≠0.01 en fila 595 / V\n",
      "[Aviso] dt original 0.005≠0.01 en fila 596 / H1\n",
      "[Aviso] dt original 0.005≠0.01 en fila 596 / H2\n",
      "[Aviso] dt original 0.005≠0.01 en fila 596 / V\n",
      "[Aviso] dt original 0.005≠0.01 en fila 597 / H1\n",
      "[Aviso] dt original 0.005≠0.01 en fila 597 / H2\n",
      "[Aviso] dt original 0.005≠0.01 en fila 597 / V\n",
      "[Aviso] dt original 0.005≠0.01 en fila 598 / H1\n",
      "[Aviso] dt original 0.005≠0.01 en fila 598 / H2\n",
      "[Aviso] dt original 0.005≠0.01 en fila 598 / V\n",
      "[Aviso] dt original 0.005≠0.01 en fila 599 / H1\n",
      "[Aviso] dt original 0.005≠0.01 en fila 599 / H2\n",
      "[Aviso] dt original 0.005≠0.01 en fila 599 / V\n",
      "[Aviso] dt original 0.005≠0.01 en fila 600 / H1\n",
      "[Aviso] dt original 0.005≠0.01 en fila 600 / H2\n",
      "[Aviso] dt original 0.005≠0.01 en fila 600 / V\n",
      "[Aviso] dt original 0.005≠0.01 en fila 601 / H1\n",
      "[Aviso] dt original 0.005≠0.01 en fila 601 / H2\n",
      "[Aviso] dt original 0.005≠0.01 en fila 601 / V\n",
      "[Aviso] dt original 0.005≠0.01 en fila 602 / H1\n",
      "[Aviso] dt original 0.005≠0.01 en fila 602 / H2\n",
      "[Aviso] dt original 0.005≠0.01 en fila 602 / V\n",
      "[Aviso] dt original 0.005≠0.01 en fila 603 / H1\n",
      "[Aviso] dt original 0.005≠0.01 en fila 603 / H2\n",
      "[Aviso] dt original 0.005≠0.01 en fila 603 / V\n",
      "[Aviso] dt original 0.02≠0.01 en fila 604 / H1\n",
      "[Aviso] dt original 0.02≠0.01 en fila 604 / H2\n",
      "[Aviso] dt original 0.02≠0.01 en fila 604 / V\n",
      "[Aviso] dt original 0.00244≠0.01 en fila 605 / H1\n",
      "[Aviso] dt original 0.00244≠0.01 en fila 605 / H2\n",
      "[Aviso] dt original 0.00244≠0.01 en fila 605 / V\n",
      "[Aviso] dt original 0.00244≠0.01 en fila 606 / H1\n",
      "[Aviso] dt original 0.00244≠0.01 en fila 606 / H2\n",
      "[Aviso] dt original 0.00244≠0.01 en fila 606 / V\n",
      "[Aviso] dt original 0.0024≠0.01 en fila 614 / H1\n",
      "[Aviso] dt original 0.0024≠0.01 en fila 614 / H2\n",
      "[Aviso] dt original 0.0024≠0.01 en fila 614 / V\n",
      "[Aviso] dt original 0.0024≠0.01 en fila 615 / H1\n",
      "[Aviso] dt original 0.0024≠0.01 en fila 615 / H2\n",
      "[Aviso] dt original 0.0024≠0.01 en fila 615 / V\n",
      "[Aviso] dt original 0.0024≠0.01 en fila 616 / H1\n",
      "[Aviso] dt original 0.0024≠0.01 en fila 616 / H2\n",
      "[Aviso] dt original 0.0024≠0.01 en fila 616 / V\n",
      "[Aviso] dt original 0.0024≠0.01 en fila 617 / H1\n",
      "[Aviso] dt original 0.0024≠0.01 en fila 617 / H2\n",
      "[Aviso] dt original 0.0024≠0.01 en fila 617 / V\n",
      "[Aviso] dt original 0.02≠0.01 en fila 618 / H1\n",
      "[Aviso] dt original 0.02≠0.01 en fila 618 / H2\n",
      "[Aviso] dt original 0.02≠0.01 en fila 618 / V\n",
      "[Aviso] dt original 0.005≠0.01 en fila 619 / H1\n",
      "[Aviso] dt original 0.005≠0.01 en fila 619 / H2\n",
      "[Aviso] dt original 0.005≠0.01 en fila 619 / V\n",
      "[Aviso] dt original 0.005≠0.01 en fila 620 / H1\n",
      "[Aviso] dt original 0.005≠0.01 en fila 620 / H2\n",
      "[Aviso] dt original 0.005≠0.01 en fila 620 / V\n",
      "[Aviso] dt original 0.005≠0.01 en fila 621 / H1\n",
      "[Aviso] dt original 0.005≠0.01 en fila 621 / H2\n",
      "[Aviso] dt original 0.005≠0.01 en fila 621 / V\n",
      "[Aviso] dt original 0.005≠0.01 en fila 622 / H1\n",
      "[Aviso] dt original 0.005≠0.01 en fila 622 / H2\n",
      "[Aviso] dt original 0.005≠0.01 en fila 622 / V\n",
      "[Aviso] dt original 0.02≠0.01 en fila 623 / H1\n",
      "[Aviso] dt original 0.02≠0.01 en fila 623 / H2\n",
      "[Aviso] dt original 0.02≠0.01 en fila 623 / V\n",
      "[Aviso] dt original 0.02≠0.01 en fila 624 / H1\n",
      "[Aviso] dt original 0.02≠0.01 en fila 624 / H2\n",
      "[Aviso] dt original 0.02≠0.01 en fila 624 / V\n",
      "[Aviso] dt original 0.02≠0.01 en fila 625 / H1\n",
      "[Aviso] dt original 0.02≠0.01 en fila 625 / H2\n",
      "[Aviso] dt original 0.02≠0.01 en fila 625 / V\n",
      "[Aviso] dt original 0.02≠0.01 en fila 626 / H1\n",
      "[Aviso] dt original 0.02≠0.01 en fila 626 / H2\n",
      "[Aviso] dt original 0.02≠0.01 en fila 626 / V\n",
      "[Aviso] dt original 0.005≠0.01 en fila 627 / H1\n",
      "[Aviso] dt original 0.005≠0.01 en fila 627 / H2\n",
      "[Aviso] dt original 0.005≠0.01 en fila 627 / V\n",
      "[Aviso] dt original 0.005≠0.01 en fila 629 / H1\n",
      "[Aviso] dt original 0.005≠0.01 en fila 629 / H2\n",
      "[Aviso] dt original 0.005≠0.01 en fila 629 / V\n",
      "[Aviso] dt original 0.005≠0.01 en fila 630 / H1\n",
      "[Aviso] dt original 0.005≠0.01 en fila 630 / H2\n",
      "[Aviso] dt original 0.005≠0.01 en fila 630 / V\n",
      "[Aviso] dt original 0.005≠0.01 en fila 631 / H1\n",
      "[Aviso] dt original 0.005≠0.01 en fila 631 / H2\n",
      "[Aviso] dt original 0.005≠0.01 en fila 631 / V\n",
      "[Aviso] dt original 0.005≠0.01 en fila 634 / H1\n",
      "[Aviso] dt original 0.005≠0.01 en fila 634 / H2\n",
      "[Aviso] dt original 0.005≠0.01 en fila 634 / V\n",
      "[Aviso] dt original 0.005≠0.01 en fila 635 / H1\n",
      "[Aviso] dt original 0.005≠0.01 en fila 635 / H2\n",
      "[Aviso] dt original 0.005≠0.01 en fila 635 / V\n",
      "[Aviso] dt original 0.005≠0.01 en fila 636 / H1\n",
      "[Aviso] dt original 0.005≠0.01 en fila 636 / H2\n",
      "[Aviso] dt original 0.005≠0.01 en fila 636 / V\n",
      "[Aviso] dt original 0.005≠0.01 en fila 637 / H1\n",
      "[Aviso] dt original 0.005≠0.01 en fila 637 / H2\n",
      "[Aviso] dt original 0.005≠0.01 en fila 637 / V\n",
      "[Aviso] dt original 0.005≠0.01 en fila 641 / H1\n",
      "[Aviso] dt original 0.005≠0.01 en fila 641 / H2\n",
      "[Aviso] dt original 0.005≠0.01 en fila 641 / V\n",
      "[Aviso] dt original 0.005≠0.01 en fila 643 / H1\n",
      "[Aviso] dt original 0.005≠0.01 en fila 643 / H2\n",
      "[Aviso] dt original 0.005≠0.01 en fila 643 / V\n",
      "[Aviso] dt original 0.005≠0.01 en fila 645 / H1\n",
      "[Aviso] dt original 0.005≠0.01 en fila 645 / H2\n",
      "[Aviso] dt original 0.005≠0.01 en fila 645 / V\n",
      "[Aviso] dt original 0.005≠0.01 en fila 648 / H1\n",
      "[Aviso] dt original 0.005≠0.01 en fila 648 / H2\n",
      "[Aviso] dt original 0.005≠0.01 en fila 648 / V\n",
      "[Aviso] dt original 0.005≠0.01 en fila 649 / H1\n",
      "[Aviso] dt original 0.005≠0.01 en fila 649 / H2\n",
      "[Aviso] dt original 0.005≠0.01 en fila 649 / V\n",
      "[Aviso] dt original 0.005≠0.01 en fila 653 / H1\n",
      "[Aviso] dt original 0.005≠0.01 en fila 653 / H2\n",
      "[Aviso] dt original 0.005≠0.01 en fila 653 / V\n",
      "[Aviso] dt original 0.005≠0.01 en fila 654 / H1\n",
      "[Aviso] dt original 0.005≠0.01 en fila 654 / H2\n",
      "[Aviso] dt original 0.005≠0.01 en fila 654 / V\n",
      "[Aviso] dt original 0.005≠0.01 en fila 656 / H1\n",
      "[Aviso] dt original 0.005≠0.01 en fila 656 / H2\n",
      "[Aviso] dt original 0.005≠0.01 en fila 656 / V\n",
      "[Aviso] dt original 0.005≠0.01 en fila 657 / H1\n",
      "[Aviso] dt original 0.005≠0.01 en fila 657 / H2\n",
      "[Aviso] dt original 0.005≠0.01 en fila 657 / V\n",
      "[Aviso] dt original 0.005≠0.01 en fila 665 / H1\n",
      "[Aviso] dt original 0.005≠0.01 en fila 665 / H2\n",
      "[Aviso] dt original 0.005≠0.01 en fila 665 / V\n",
      "[Aviso] dt original 0.005≠0.01 en fila 666 / H1\n",
      "[Aviso] dt original 0.005≠0.01 en fila 666 / H2\n",
      "[Aviso] dt original 0.005≠0.01 en fila 666 / V\n",
      "[Aviso] dt original 0.005≠0.01 en fila 667 / H1\n",
      "[Aviso] dt original 0.005≠0.01 en fila 667 / H2\n",
      "[Aviso] dt original 0.005≠0.01 en fila 667 / V\n",
      "[Aviso] dt original 0.005≠0.01 en fila 668 / H1\n",
      "[Aviso] dt original 0.005≠0.01 en fila 668 / H2\n",
      "[Aviso] dt original 0.005≠0.01 en fila 668 / V\n",
      "[Aviso] dt original 0.005≠0.01 en fila 669 / H1\n",
      "[Aviso] dt original 0.005≠0.01 en fila 669 / H2\n",
      "[Aviso] dt original 0.005≠0.01 en fila 669 / V\n",
      "[Aviso] dt original 0.00244≠0.01 en fila 673 / H1\n",
      "[Aviso] dt original 0.00244≠0.01 en fila 673 / H2\n",
      "[Aviso] dt original 0.00244≠0.01 en fila 673 / V\n",
      "[Aviso] dt original 0.005≠0.01 en fila 698 / H1\n",
      "[Aviso] dt original 0.005≠0.01 en fila 698 / H2\n",
      "[Aviso] dt original 0.005≠0.01 en fila 698 / V\n",
      "[Aviso] dt original 0.005≠0.01 en fila 699 / H1\n",
      "[Aviso] dt original 0.005≠0.01 en fila 699 / H2\n",
      "[Aviso] dt original 0.005≠0.01 en fila 699 / V\n",
      "[Aviso] dt original 0.005≠0.01 en fila 700 / H1\n",
      "[Aviso] dt original 0.005≠0.01 en fila 700 / H2\n",
      "[Aviso] dt original 0.005≠0.01 en fila 700 / V\n",
      "[Aviso] dt original 0.005≠0.01 en fila 701 / H1\n",
      "[Aviso] dt original 0.005≠0.01 en fila 701 / H2\n",
      "[Aviso] dt original 0.005≠0.01 en fila 701 / V\n",
      "[Aviso] dt original 0.005≠0.01 en fila 702 / H1\n",
      "[Aviso] dt original 0.005≠0.01 en fila 702 / H2\n",
      "[Aviso] dt original 0.005≠0.01 en fila 702 / V\n",
      "[Aviso] dt original 0.005≠0.01 en fila 703 / H1\n",
      "[Aviso] dt original 0.005≠0.01 en fila 703 / H2\n",
      "[Aviso] dt original 0.005≠0.01 en fila 703 / V\n",
      "[Aviso] dt original 0.002≠0.01 en fila 706 / H1\n",
      "[Aviso] dt original 0.002≠0.01 en fila 706 / H2\n",
      "[Aviso] dt original 0.002≠0.01 en fila 706 / V\n",
      "[Aviso] dt original 0.002≠0.01 en fila 707 / H1\n",
      "[Aviso] dt original 0.002≠0.01 en fila 707 / H2\n",
      "[Aviso] dt original 0.002≠0.01 en fila 707 / V\n",
      "[Aviso] dt original 0.002≠0.01 en fila 708 / H1\n",
      "[Aviso] dt original 0.002≠0.01 en fila 708 / H2\n",
      "[Aviso] dt original 0.002≠0.01 en fila 708 / V\n",
      "[Aviso] dt original 0.0024≠0.01 en fila 709 / H1\n",
      "[Aviso] dt original 0.0024≠0.01 en fila 709 / H2\n",
      "[Aviso] dt original 0.0024≠0.01 en fila 709 / V\n",
      "[Aviso] dt original 0.00244≠0.01 en fila 710 / H1\n",
      "[Aviso] dt original 0.00244≠0.01 en fila 710 / H2\n",
      "[Aviso] dt original 0.00244≠0.01 en fila 710 / V\n",
      "[Aviso] dt original 0.00244≠0.01 en fila 711 / H1\n",
      "[Aviso] dt original 0.00244≠0.01 en fila 711 / H2\n",
      "[Aviso] dt original 0.00244≠0.01 en fila 711 / V\n",
      "[Aviso] dt original 0.00244≠0.01 en fila 712 / H1\n",
      "[Aviso] dt original 0.00244≠0.01 en fila 712 / H2\n",
      "[Aviso] dt original 0.00244≠0.01 en fila 712 / V\n",
      "[Aviso] dt original 0.00244≠0.01 en fila 713 / H1\n",
      "[Aviso] dt original 0.00244≠0.01 en fila 713 / H2\n",
      "[Aviso] dt original 0.00244≠0.01 en fila 713 / V\n",
      "[Aviso] dt original 0.0024≠0.01 en fila 714 / H1\n",
      "[Aviso] dt original 0.0024≠0.01 en fila 714 / H2\n",
      "[Aviso] dt original 0.0024≠0.01 en fila 714 / V\n",
      "[Aviso] dt original 0.0024≠0.01 en fila 715 / H1\n",
      "[Aviso] dt original 0.0024≠0.01 en fila 715 / H2\n",
      "[Aviso] dt original 0.0024≠0.01 en fila 715 / V\n",
      "[Aviso] dt original 0.0024≠0.01 en fila 716 / H1\n",
      "[Aviso] dt original 0.0024≠0.01 en fila 716 / H2\n",
      "[Aviso] dt original 0.0024≠0.01 en fila 716 / V\n",
      "[Aviso] dt original 0.0024≠0.01 en fila 717 / H1\n",
      "[Aviso] dt original 0.0024≠0.01 en fila 717 / H2\n",
      "[Aviso] dt original 0.0024≠0.01 en fila 717 / V\n",
      "[Aviso] dt original 0.0028≠0.01 en fila 718 / H1\n",
      "[Aviso] dt original 0.0028≠0.01 en fila 718 / H2\n",
      "[Aviso] dt original 0.0028≠0.01 en fila 718 / V\n",
      "[Aviso] dt original 0.0028≠0.01 en fila 719 / H1\n",
      "[Aviso] dt original 0.0028≠0.01 en fila 719 / H2\n",
      "[Aviso] dt original 0.0028≠0.01 en fila 719 / V\n",
      "[Aviso] dt original 0.005≠0.01 en fila 720 / H1\n",
      "[Aviso] dt original 0.005≠0.01 en fila 720 / H2\n",
      "[Aviso] dt original 0.005≠0.01 en fila 720 / V\n",
      "[Aviso] dt original 0.005≠0.01 en fila 721 / H1\n",
      "[Aviso] dt original 0.005≠0.01 en fila 721 / H2\n",
      "[Aviso] dt original 0.005≠0.01 en fila 721 / V\n",
      "[Aviso] dt original 0.005≠0.01 en fila 722 / H1\n",
      "[Aviso] dt original 0.005≠0.01 en fila 722 / H2\n",
      "[Aviso] dt original 0.005≠0.01 en fila 722 / V\n",
      "[Aviso] dt original 0.005≠0.01 en fila 723 / H1\n",
      "[Aviso] dt original 0.005≠0.01 en fila 723 / H2\n",
      "[Aviso] dt original 0.005≠0.01 en fila 723 / V\n",
      "[Aviso] dt original 0.005≠0.01 en fila 724 / H1\n",
      "[Aviso] dt original 0.005≠0.01 en fila 724 / H2\n",
      "[Aviso] dt original 0.005≠0.01 en fila 724 / V\n",
      "[Aviso] dt original 0.005≠0.01 en fila 725 / H1\n",
      "[Aviso] dt original 0.005≠0.01 en fila 725 / H2\n",
      "[Aviso] dt original 0.005≠0.01 en fila 725 / V\n",
      "[Aviso] dt original 0.005≠0.01 en fila 726 / H1\n",
      "[Aviso] dt original 0.005≠0.01 en fila 726 / H2\n",
      "[Aviso] dt original 0.005≠0.01 en fila 726 / V\n",
      "[Aviso] dt original 0.02≠0.01 en fila 727 / H1\n",
      "[Aviso] dt original 0.02≠0.01 en fila 727 / H2\n",
      "[Aviso] dt original 0.02≠0.01 en fila 727 / V\n",
      "[Aviso] dt original 0.02≠0.01 en fila 728 / H1\n",
      "[Aviso] dt original 0.02≠0.01 en fila 728 / H2\n",
      "[Aviso] dt original 0.02≠0.01 en fila 728 / V\n",
      "[Aviso] dt original 0.005≠0.01 en fila 729 / H1\n",
      "[Aviso] dt original 0.005≠0.01 en fila 729 / H2\n",
      "[Aviso] dt original 0.005≠0.01 en fila 729 / V\n",
      "[Aviso] dt original 0.005≠0.01 en fila 730 / H1\n",
      "[Aviso] dt original 0.005≠0.01 en fila 730 / H2\n",
      "[Aviso] dt original 0.005≠0.01 en fila 730 / V\n",
      "[Aviso] dt original 0.005≠0.01 en fila 731 / H1\n",
      "[Aviso] dt original 0.005≠0.01 en fila 731 / H2\n",
      "[Aviso] dt original 0.005≠0.01 en fila 731 / V\n",
      "[Aviso] dt original 0.005≠0.01 en fila 732 / H1\n",
      "[Aviso] dt original 0.005≠0.01 en fila 732 / H2\n",
      "[Aviso] dt original 0.005≠0.01 en fila 732 / V\n",
      "[Aviso] dt original 0.005≠0.01 en fila 734 / H1\n",
      "[Aviso] dt original 0.005≠0.01 en fila 734 / H2\n",
      "[Aviso] dt original 0.005≠0.01 en fila 734 / V\n",
      "[Aviso] dt original 0.005≠0.01 en fila 737 / H1\n",
      "[Aviso] dt original 0.005≠0.01 en fila 737 / H2\n",
      "[Aviso] dt original 0.005≠0.01 en fila 737 / V\n",
      "[Aviso] dt original 0.005≠0.01 en fila 743 / H1\n",
      "[Aviso] dt original 0.005≠0.01 en fila 743 / H2\n",
      "[Aviso] dt original 0.005≠0.01 en fila 743 / V\n",
      "[Aviso] dt original 0.005≠0.01 en fila 746 / H1\n",
      "[Aviso] dt original 0.005≠0.01 en fila 746 / H2\n",
      "[Aviso] dt original 0.005≠0.01 en fila 746 / V\n",
      "[Aviso] dt original 0.005≠0.01 en fila 747 / H1\n",
      "[Aviso] dt original 0.005≠0.01 en fila 747 / H2\n",
      "[Aviso] dt original 0.005≠0.01 en fila 747 / V\n",
      "[Aviso] dt original 0.005≠0.01 en fila 748 / H1\n",
      "[Aviso] dt original 0.005≠0.01 en fila 748 / H2\n",
      "[Aviso] dt original 0.005≠0.01 en fila 748 / V\n",
      "[Aviso] dt original 0.005≠0.01 en fila 750 / H1\n",
      "[Aviso] dt original 0.005≠0.01 en fila 750 / H2\n",
      "[Aviso] dt original 0.005≠0.01 en fila 750 / V\n",
      "[Aviso] dt original 0.00244≠0.01 en fila 751 / H1\n",
      "[Aviso] dt original 0.00244≠0.01 en fila 751 / H2\n",
      "[Aviso] dt original 0.00244≠0.01 en fila 751 / V\n",
      "[Aviso] dt original 0.005≠0.01 en fila 752 / H1\n",
      "[Aviso] dt original 0.005≠0.01 en fila 752 / H2\n",
      "[Aviso] dt original 0.005≠0.01 en fila 752 / V\n",
      "[Aviso] dt original 0.00244≠0.01 en fila 753 / H1\n",
      "[Aviso] dt original 0.00244≠0.01 en fila 753 / H2\n",
      "[Aviso] dt original 0.00244≠0.01 en fila 753 / V\n",
      "[Aviso] dt original 0.00244≠0.01 en fila 754 / H1\n",
      "[Aviso] dt original 0.00244≠0.01 en fila 754 / H2\n",
      "[Aviso] dt original 0.00244≠0.01 en fila 754 / V\n",
      "[Aviso] dt original 0.0024≠0.01 en fila 755 / H1\n",
      "[Aviso] dt original 0.0024≠0.01 en fila 755 / H2\n",
      "[Aviso] dt original 0.0024≠0.01 en fila 755 / V\n",
      "[Aviso] dt original 0.00244≠0.01 en fila 756 / H1\n",
      "[Aviso] dt original 0.00244≠0.01 en fila 756 / H2\n",
      "[Aviso] dt original 0.00244≠0.01 en fila 756 / V\n",
      "[Aviso] dt original 0.00244≠0.01 en fila 757 / H1\n",
      "[Aviso] dt original 0.00244≠0.01 en fila 757 / H2\n",
      "[Aviso] dt original 0.00244≠0.01 en fila 757 / V\n",
      "[Aviso] dt original 0.005≠0.01 en fila 758 / H1\n",
      "[Aviso] dt original 0.005≠0.01 en fila 758 / H2\n",
      "[Aviso] dt original 0.005≠0.01 en fila 758 / V\n",
      "[Aviso] dt original 0.005≠0.01 en fila 759 / H1\n",
      "[Aviso] dt original 0.005≠0.01 en fila 759 / H2\n",
      "[Aviso] dt original 0.005≠0.01 en fila 759 / V\n",
      "[Aviso] dt original 0.005≠0.01 en fila 760 / H1\n",
      "[Aviso] dt original 0.005≠0.01 en fila 760 / H2\n",
      "[Aviso] dt original 0.005≠0.01 en fila 760 / V\n",
      "[Aviso] dt original 0.005≠0.01 en fila 761 / H1\n",
      "[Aviso] dt original 0.005≠0.01 en fila 761 / H2\n",
      "[Aviso] dt original 0.005≠0.01 en fila 761 / V\n",
      "[Aviso] dt original 0.005≠0.01 en fila 762 / H1\n",
      "[Aviso] dt original 0.005≠0.01 en fila 762 / H2\n",
      "[Aviso] dt original 0.005≠0.01 en fila 762 / V\n",
      "[Aviso] dt original 0.005≠0.01 en fila 763 / H1\n",
      "[Aviso] dt original 0.005≠0.01 en fila 763 / H2\n",
      "[Aviso] dt original 0.005≠0.01 en fila 763 / V\n",
      "[Aviso] dt original 0.005≠0.01 en fila 764 / H1\n",
      "[Aviso] dt original 0.005≠0.01 en fila 764 / H2\n",
      "[Aviso] dt original 0.005≠0.01 en fila 764 / V\n",
      "[Aviso] dt original 0.005≠0.01 en fila 765 / H1\n",
      "[Aviso] dt original 0.005≠0.01 en fila 765 / H2\n",
      "[Aviso] dt original 0.005≠0.01 en fila 765 / V\n",
      "[Aviso] dt original 0.005≠0.01 en fila 766 / H1\n",
      "[Aviso] dt original 0.005≠0.01 en fila 766 / H2\n",
      "[Aviso] dt original 0.005≠0.01 en fila 766 / V\n",
      "[Aviso] dt original 0.00244≠0.01 en fila 767 / H1\n",
      "[Aviso] dt original 0.00244≠0.01 en fila 767 / H2\n",
      "[Aviso] dt original 0.00244≠0.01 en fila 767 / V\n",
      "[Aviso] dt original 0.005≠0.01 en fila 768 / H1\n",
      "[Aviso] dt original 0.005≠0.01 en fila 768 / H2\n",
      "[Aviso] dt original 0.005≠0.01 en fila 768 / V\n",
      "[Aviso] dt original 0.00247≠0.01 en fila 769 / H1\n",
      "[Aviso] dt original 0.00247≠0.01 en fila 769 / H2\n",
      "[Aviso] dt original 0.00247≠0.01 en fila 769 / V\n",
      "[Aviso] dt original 0.005≠0.01 en fila 770 / H1\n",
      "[Aviso] dt original 0.005≠0.01 en fila 770 / H2\n",
      "[Aviso] dt original 0.005≠0.01 en fila 770 / V\n",
      "[Aviso] dt original 0.00244≠0.01 en fila 771 / H1\n",
      "[Aviso] dt original 0.00244≠0.01 en fila 771 / H2\n",
      "[Aviso] dt original 0.00244≠0.01 en fila 771 / V\n",
      "[Aviso] dt original 0.00244≠0.01 en fila 772 / H1\n",
      "[Aviso] dt original 0.00244≠0.01 en fila 772 / H2\n",
      "[Aviso] dt original 0.00244≠0.01 en fila 772 / V\n",
      "[Aviso] dt original 0.00247≠0.01 en fila 773 / H1\n",
      "[Aviso] dt original 0.00247≠0.01 en fila 773 / H2\n",
      "[Aviso] dt original 0.00247≠0.01 en fila 773 / V\n",
      "[Aviso] dt original 0.00244≠0.01 en fila 774 / H1\n",
      "[Aviso] dt original 0.00244≠0.01 en fila 774 / H2\n",
      "[Aviso] dt original 0.00244≠0.01 en fila 774 / V\n",
      "[Aviso] dt original 0.005≠0.01 en fila 775 / H1\n",
      "[Aviso] dt original 0.005≠0.01 en fila 775 / H2\n",
      "[Aviso] dt original 0.005≠0.01 en fila 775 / V\n",
      "[Aviso] dt original 0.00244≠0.01 en fila 776 / H1\n",
      "[Aviso] dt original 0.00244≠0.01 en fila 776 / H2\n",
      "[Aviso] dt original 0.00244≠0.01 en fila 776 / V\n",
      "[Aviso] dt original 0.005≠0.01 en fila 777 / H1\n",
      "[Aviso] dt original 0.005≠0.01 en fila 777 / H2\n",
      "[Aviso] dt original 0.005≠0.01 en fila 777 / V\n",
      "[Aviso] dt original 0.00244≠0.01 en fila 778 / H1\n",
      "[Aviso] dt original 0.00244≠0.01 en fila 778 / H2\n",
      "[Aviso] dt original 0.00244≠0.01 en fila 778 / V\n",
      "[Aviso] dt original 0.005≠0.01 en fila 779 / H1\n",
      "[Aviso] dt original 0.005≠0.01 en fila 779 / H2\n",
      "[Aviso] dt original 0.005≠0.01 en fila 779 / V\n",
      "[Aviso] dt original 0.00244≠0.01 en fila 780 / H1\n",
      "[Aviso] dt original 0.00244≠0.01 en fila 780 / H2\n",
      "[Aviso] dt original 0.00244≠0.01 en fila 780 / V\n",
      "[Aviso] dt original 0.00244≠0.01 en fila 781 / H1\n",
      "[Aviso] dt original 0.00244≠0.01 en fila 781 / H2\n",
      "[Aviso] dt original 0.00244≠0.01 en fila 781 / V\n",
      "[Aviso] dt original 0.00244≠0.01 en fila 782 / H1\n",
      "[Aviso] dt original 0.00244≠0.01 en fila 782 / H2\n",
      "[Aviso] dt original 0.00244≠0.01 en fila 782 / V\n",
      "[Aviso] dt original 0.00244≠0.01 en fila 783 / H1\n",
      "[Aviso] dt original 0.00244≠0.01 en fila 783 / H2\n",
      "[Aviso] dt original 0.00244≠0.01 en fila 783 / V\n",
      "[Aviso] dt original 0.00244≠0.01 en fila 784 / H1\n",
      "[Aviso] dt original 0.00244≠0.01 en fila 784 / H2\n",
      "[Aviso] dt original 0.00244≠0.01 en fila 784 / V\n",
      "[Aviso] dt original 0.00244≠0.01 en fila 785 / H1\n",
      "[Aviso] dt original 0.00244≠0.01 en fila 785 / H2\n",
      "[Aviso] dt original 0.00244≠0.01 en fila 785 / V\n",
      "[Aviso] dt original 0.005≠0.01 en fila 786 / H1\n",
      "[Aviso] dt original 0.005≠0.01 en fila 786 / H2\n",
      "[Aviso] dt original 0.005≠0.01 en fila 786 / V\n",
      "[Aviso] dt original 0.005≠0.01 en fila 787 / H1\n",
      "[Aviso] dt original 0.005≠0.01 en fila 787 / H2\n",
      "[Aviso] dt original 0.005≠0.01 en fila 787 / V\n",
      "[Aviso] dt original 0.005≠0.01 en fila 788 / H1\n",
      "[Aviso] dt original 0.005≠0.01 en fila 788 / H2\n",
      "[Aviso] dt original 0.005≠0.01 en fila 788 / V\n",
      "[Aviso] dt original 0.005≠0.01 en fila 789 / H1\n",
      "[Aviso] dt original 0.005≠0.01 en fila 789 / H2\n",
      "[Aviso] dt original 0.005≠0.01 en fila 789 / V\n",
      "[Aviso] dt original 0.005≠0.01 en fila 790 / H1\n",
      "[Aviso] dt original 0.005≠0.01 en fila 790 / H2\n",
      "[Aviso] dt original 0.005≠0.01 en fila 790 / V\n",
      "[Aviso] dt original 0.005≠0.01 en fila 791 / H1\n",
      "[Aviso] dt original 0.005≠0.01 en fila 791 / H2\n",
      "[Aviso] dt original 0.005≠0.01 en fila 791 / V\n",
      "[Aviso] dt original 0.005≠0.01 en fila 796 / H1\n",
      "[Aviso] dt original 0.005≠0.01 en fila 796 / H2\n",
      "[Aviso] dt original 0.005≠0.01 en fila 796 / V\n",
      "[Aviso] dt original 0.005≠0.01 en fila 797 / H1\n",
      "[Aviso] dt original 0.005≠0.01 en fila 797 / H2\n",
      "[Aviso] dt original 0.005≠0.01 en fila 797 / V\n",
      "[Aviso] dt original 0.005≠0.01 en fila 799 / H1\n",
      "[Aviso] dt original 0.005≠0.01 en fila 799 / H2\n",
      "[Aviso] dt original 0.005≠0.01 en fila 799 / V\n",
      "[Aviso] dt original 0.005≠0.01 en fila 801 / H1\n",
      "[Aviso] dt original 0.005≠0.01 en fila 801 / H2\n",
      "[Aviso] dt original 0.005≠0.01 en fila 801 / V\n",
      "[Aviso] dt original 0.005≠0.01 en fila 803 / H1\n",
      "[Aviso] dt original 0.005≠0.01 en fila 803 / H2\n",
      "[Aviso] dt original 0.005≠0.01 en fila 803 / V\n",
      "[Aviso] dt original 0.005≠0.01 en fila 804 / H1\n",
      "[Aviso] dt original 0.005≠0.01 en fila 804 / H2\n",
      "[Aviso] dt original 0.005≠0.01 en fila 804 / V\n",
      "[Aviso] dt original 0.00247≠0.01 en fila 805 / H1\n",
      "[Aviso] dt original 0.00247≠0.01 en fila 805 / H2\n",
      "[Aviso] dt original 0.00247≠0.01 en fila 805 / V\n",
      "[Aviso] dt original 0.00244≠0.01 en fila 806 / H1\n",
      "[Aviso] dt original 0.00244≠0.01 en fila 806 / H2\n",
      "[Aviso] dt original 0.00244≠0.01 en fila 806 / V\n",
      "[Aviso] dt original 0.00244≠0.01 en fila 807 / H1\n",
      "[Aviso] dt original 0.00244≠0.01 en fila 807 / H2\n",
      "[Aviso] dt original 0.00244≠0.01 en fila 807 / V\n",
      "[Aviso] dt original 0.005≠0.01 en fila 808 / H1\n",
      "[Aviso] dt original 0.005≠0.01 en fila 808 / H2\n",
      "[Aviso] dt original 0.005≠0.01 en fila 808 / V\n",
      "[Aviso] dt original 0.00333≠0.01 en fila 809 / H1\n",
      "[Aviso] dt original 0.00333≠0.01 en fila 809 / H2\n",
      "[Aviso] dt original 0.00333≠0.01 en fila 809 / V\n",
      "[Aviso] dt original 0.005≠0.01 en fila 810 / H1\n",
      "[Aviso] dt original 0.005≠0.01 en fila 810 / H2\n",
      "[Aviso] dt original 0.005≠0.01 en fila 810 / V\n",
      "[Aviso] dt original 0.005≠0.01 en fila 811 / H1\n",
      "[Aviso] dt original 0.005≠0.01 en fila 811 / H2\n",
      "[Aviso] dt original 0.005≠0.01 en fila 811 / V\n",
      "[Aviso] dt original 0.005≠0.01 en fila 812 / H1\n",
      "[Aviso] dt original 0.005≠0.01 en fila 812 / H2\n",
      "[Aviso] dt original 0.005≠0.01 en fila 812 / V\n",
      "[Aviso] dt original 0.005≠0.01 en fila 813 / H1\n",
      "[Aviso] dt original 0.005≠0.01 en fila 813 / H2\n",
      "[Aviso] dt original 0.005≠0.01 en fila 813 / V\n",
      "[Aviso] dt original 0.005≠0.01 en fila 814 / H1\n",
      "[Aviso] dt original 0.005≠0.01 en fila 814 / H2\n",
      "[Aviso] dt original 0.005≠0.01 en fila 814 / V\n",
      "[Aviso] dt original 0.005≠0.01 en fila 815 / H1\n",
      "[Aviso] dt original 0.005≠0.01 en fila 815 / H2\n",
      "[Aviso] dt original 0.005≠0.01 en fila 815 / V\n",
      "[Aviso] dt original 0.005≠0.01 en fila 816 / H1\n",
      "[Aviso] dt original 0.005≠0.01 en fila 816 / H2\n",
      "[Aviso] dt original 0.005≠0.01 en fila 816 / V\n",
      "[Aviso] dt original 0.005≠0.01 en fila 817 / H1\n",
      "[Aviso] dt original 0.005≠0.01 en fila 817 / H2\n",
      "[Aviso] dt original 0.005≠0.01 en fila 817 / V\n",
      "[Aviso] dt original 0.005≠0.01 en fila 818 / H1\n",
      "[Aviso] dt original 0.005≠0.01 en fila 818 / H2\n",
      "[Aviso] dt original 0.005≠0.01 en fila 818 / V\n",
      "[Aviso] dt original 0.005≠0.01 en fila 819 / H1\n",
      "[Aviso] dt original 0.005≠0.01 en fila 819 / H2\n",
      "[Aviso] dt original 0.005≠0.01 en fila 819 / V\n",
      "[Aviso] dt original 0.005≠0.01 en fila 820 / H1\n",
      "[Aviso] dt original 0.005≠0.01 en fila 820 / H2\n",
      "[Aviso] dt original 0.005≠0.01 en fila 820 / V\n",
      "[Aviso] dt original 0.005≠0.01 en fila 821 / H1\n",
      "[Aviso] dt original 0.005≠0.01 en fila 821 / H2\n",
      "[Aviso] dt original 0.005≠0.01 en fila 821 / V\n",
      "[Aviso] dt original 0.005≠0.01 en fila 822 / H1\n",
      "[Aviso] dt original 0.005≠0.01 en fila 822 / H2\n",
      "[Aviso] dt original 0.005≠0.01 en fila 822 / V\n",
      "[Aviso] dt original 0.005≠0.01 en fila 823 / H1\n",
      "[Aviso] dt original 0.005≠0.01 en fila 823 / H2\n",
      "[Aviso] dt original 0.005≠0.01 en fila 823 / V\n",
      "[Aviso] dt original 0.005≠0.01 en fila 824 / H1\n",
      "[Aviso] dt original 0.005≠0.01 en fila 824 / H2\n",
      "[Aviso] dt original 0.005≠0.01 en fila 824 / V\n",
      "[Aviso] dt original 0.005≠0.01 en fila 825 / H1\n",
      "[Aviso] dt original 0.005≠0.01 en fila 825 / H2\n",
      "[Aviso] dt original 0.005≠0.01 en fila 825 / V\n",
      "[Aviso] dt original 0.005≠0.01 en fila 826 / H1\n",
      "[Aviso] dt original 0.005≠0.01 en fila 826 / H2\n",
      "[Aviso] dt original 0.005≠0.01 en fila 826 / V\n",
      "[Aviso] dt original 0.005≠0.01 en fila 827 / H1\n",
      "[Aviso] dt original 0.005≠0.01 en fila 827 / H2\n",
      "[Aviso] dt original 0.005≠0.01 en fila 827 / V\n",
      "[Aviso] dt original 0.005≠0.01 en fila 828 / H1\n",
      "[Aviso] dt original 0.005≠0.01 en fila 828 / H2\n",
      "[Aviso] dt original 0.005≠0.01 en fila 828 / V\n",
      "[Aviso] dt original 0.0125≠0.01 en fila 839 / H1\n",
      "[Aviso] dt original 0.0125≠0.01 en fila 839 / H2\n",
      "[Aviso] dt original 0.0125≠0.01 en fila 839 / V\n",
      "[Aviso] dt original 0.0125≠0.01 en fila 848 / H1\n",
      "[Aviso] dt original 0.0125≠0.01 en fila 848 / H2\n",
      "[Aviso] dt original 0.0125≠0.01 en fila 848 / V\n",
      "[Aviso] dt original 0.0125≠0.01 en fila 853 / H1\n",
      "[Aviso] dt original 0.0125≠0.01 en fila 853 / H2\n",
      "[Aviso] dt original 0.0125≠0.01 en fila 853 / V\n",
      "[Aviso] dt original 0.0125≠0.01 en fila 867 / H1\n",
      "[Aviso] dt original 0.0125≠0.01 en fila 867 / H2\n",
      "[Aviso] dt original 0.0125≠0.01 en fila 867 / V\n",
      "[Aviso] dt original 0.0125≠0.01 en fila 870 / H1\n",
      "[Aviso] dt original 0.0125≠0.01 en fila 870 / H2\n",
      "[Aviso] dt original 0.0125≠0.01 en fila 870 / V\n",
      "[Aviso] dt original 0.0125≠0.01 en fila 880 / H1\n",
      "[Aviso] dt original 0.0125≠0.01 en fila 880 / H2\n",
      "[Aviso] dt original 0.0125≠0.01 en fila 880 / V\n",
      "[Aviso] dt original 0.0125≠0.01 en fila 881 / H1\n",
      "[Aviso] dt original 0.0125≠0.01 en fila 881 / H2\n",
      "[Aviso] dt original 0.0125≠0.01 en fila 881 / V\n",
      "[Aviso] dt original 0.0125≠0.01 en fila 885 / H1\n",
      "[Aviso] dt original 0.0125≠0.01 en fila 885 / H2\n",
      "[Aviso] dt original 0.0125≠0.01 en fila 885 / V\n",
      "[Aviso] dt original 0.0125≠0.01 en fila 889 / H1\n",
      "[Aviso] dt original 0.0125≠0.01 en fila 889 / H2\n",
      "[Aviso] dt original 0.0125≠0.01 en fila 889 / V\n",
      "[Aviso] dt original 0.0125≠0.01 en fila 892 / H1\n",
      "[Aviso] dt original 0.0125≠0.01 en fila 892 / H2\n",
      "[Aviso] dt original 0.0125≠0.01 en fila 892 / V\n",
      "[Aviso] dt original 0.005≠0.01 en fila 894 / H1\n",
      "[Aviso] dt original 0.005≠0.01 en fila 894 / H2\n",
      "[Aviso] dt original 0.005≠0.01 en fila 894 / V\n",
      "[Aviso] dt original 0.005≠0.01 en fila 895 / H1\n",
      "[Aviso] dt original 0.005≠0.01 en fila 895 / H2\n",
      "[Aviso] dt original 0.005≠0.01 en fila 895 / V\n",
      "[Aviso] dt original 0.005≠0.01 en fila 896 / H1\n",
      "[Aviso] dt original 0.005≠0.01 en fila 896 / H2\n",
      "[Aviso] dt original 0.005≠0.01 en fila 896 / V\n",
      "[Aviso] dt original 0.0029≠0.01 en fila 897 / H1\n",
      "[Aviso] dt original 0.0029≠0.01 en fila 897 / H2\n",
      "[Aviso] dt original 0.0029≠0.01 en fila 897 / V\n",
      "[Aviso] dt original 0.0024≠0.01 en fila 898 / H1\n",
      "[Aviso] dt original 0.0024≠0.01 en fila 898 / H2\n",
      "[Aviso] dt original 0.0024≠0.01 en fila 898 / V\n",
      "[Aviso] dt original 0.0029≠0.01 en fila 899 / H1\n",
      "[Aviso] dt original 0.0029≠0.01 en fila 899 / H2\n",
      "[Aviso] dt original 0.0029≠0.01 en fila 899 / V\n",
      "[Aviso] dt original 0.0024≠0.01 en fila 900 / H1\n",
      "[Aviso] dt original 0.0024≠0.01 en fila 900 / H2\n",
      "[Aviso] dt original 0.0024≠0.01 en fila 900 / V\n",
      "[Aviso] dt original 0.02≠0.01 en fila 902 / H1\n",
      "[Aviso] dt original 0.02≠0.01 en fila 902 / H2\n",
      "[Aviso] dt original 0.02≠0.01 en fila 902 / V\n",
      "[Aviso] dt original 0.02≠0.01 en fila 903 / H1\n",
      "[Aviso] dt original 0.02≠0.01 en fila 903 / H2\n",
      "[Aviso] dt original 0.02≠0.01 en fila 903 / V\n",
      "[Aviso] dt original 0.0024≠0.01 en fila 904 / H1\n",
      "[Aviso] dt original 0.0024≠0.01 en fila 904 / H2\n",
      "[Aviso] dt original 0.0024≠0.01 en fila 904 / V\n",
      "[Aviso] dt original 0.005≠0.01 en fila 905 / H1\n",
      "[Aviso] dt original 0.005≠0.01 en fila 905 / H2\n",
      "[Aviso] dt original 0.005≠0.01 en fila 905 / V\n",
      "[Aviso] dt original 0.005≠0.01 en fila 906 / H1\n",
      "[Aviso] dt original 0.005≠0.01 en fila 906 / H2\n",
      "[Aviso] dt original 0.005≠0.01 en fila 906 / V\n",
      "[Aviso] dt original 0.0039≠0.01 en fila 907 / H1\n",
      "[Aviso] dt original 0.0039≠0.01 en fila 907 / H2\n",
      "[Aviso] dt original 0.0039≠0.01 en fila 907 / V\n",
      "[Aviso] dt original 0.005≠0.01 en fila 908 / H1\n",
      "[Aviso] dt original 0.005≠0.01 en fila 908 / H2\n",
      "[Aviso] dt original 0.005≠0.01 en fila 908 / V\n",
      "[Aviso] dt original 0.02≠0.01 en fila 909 / H1\n",
      "[Aviso] dt original 0.02≠0.01 en fila 909 / H2\n",
      "[Aviso] dt original 0.02≠0.01 en fila 909 / V\n",
      "[Aviso] dt original 0.005≠0.01 en fila 910 / H1\n",
      "[Aviso] dt original 0.005≠0.01 en fila 910 / H2\n",
      "[Aviso] dt original 0.005≠0.01 en fila 910 / V\n",
      "[Aviso] dt original 0.005≠0.01 en fila 911 / H1\n",
      "[Aviso] dt original 0.005≠0.01 en fila 911 / H2\n",
      "[Aviso] dt original 0.005≠0.01 en fila 911 / V\n",
      "[Aviso] dt original 0.005≠0.01 en fila 912 / H1\n",
      "[Aviso] dt original 0.005≠0.01 en fila 912 / H2\n",
      "[Aviso] dt original 0.005≠0.01 en fila 912 / V\n",
      "[Aviso] dt original 0.005≠0.01 en fila 913 / H1\n",
      "[Aviso] dt original 0.005≠0.01 en fila 913 / H2\n",
      "[Aviso] dt original 0.005≠0.01 en fila 913 / V\n",
      "[Aviso] dt original 0.005≠0.01 en fila 914 / H1\n",
      "[Aviso] dt original 0.005≠0.01 en fila 914 / H2\n",
      "[Aviso] dt original 0.005≠0.01 en fila 914 / V\n",
      "[Aviso] dt original 0.005≠0.01 en fila 915 / H1\n",
      "[Aviso] dt original 0.005≠0.01 en fila 915 / H2\n",
      "[Aviso] dt original 0.005≠0.01 en fila 915 / V\n",
      "[Aviso] dt original 0.005≠0.01 en fila 916 / H1\n",
      "[Aviso] dt original 0.005≠0.01 en fila 916 / H2\n",
      "[Aviso] dt original 0.005≠0.01 en fila 916 / V\n",
      "[Aviso] dt original 0.005≠0.01 en fila 917 / H1\n",
      "[Aviso] dt original 0.005≠0.01 en fila 917 / H2\n",
      "[Aviso] dt original 0.005≠0.01 en fila 917 / V\n",
      "[Aviso] dt original 0.005≠0.01 en fila 918 / H1\n",
      "[Aviso] dt original 0.005≠0.01 en fila 918 / H2\n",
      "[Aviso] dt original 0.005≠0.01 en fila 918 / V\n",
      "[Aviso] dt original 0.005≠0.01 en fila 919 / H1\n",
      "[Aviso] dt original 0.005≠0.01 en fila 919 / H2\n",
      "[Aviso] dt original 0.005≠0.01 en fila 919 / V\n",
      "[Aviso] dt original 0.005≠0.01 en fila 920 / H1\n",
      "[Aviso] dt original 0.005≠0.01 en fila 920 / H2\n",
      "[Aviso] dt original 0.005≠0.01 en fila 920 / V\n",
      "[Aviso] dt original 0.005≠0.01 en fila 921 / H1\n",
      "[Aviso] dt original 0.005≠0.01 en fila 921 / H2\n",
      "[Aviso] dt original 0.005≠0.01 en fila 921 / V\n",
      "[Aviso] dt original 0.005≠0.01 en fila 922 / H1\n",
      "[Aviso] dt original 0.005≠0.01 en fila 922 / H2\n",
      "[Aviso] dt original 0.005≠0.01 en fila 922 / V\n",
      "[Aviso] dt original 0.005≠0.01 en fila 923 / H1\n",
      "[Aviso] dt original 0.005≠0.01 en fila 923 / H2\n",
      "[Aviso] dt original 0.005≠0.01 en fila 923 / V\n",
      "[Aviso] dt original 0.005≠0.01 en fila 924 / H1\n",
      "[Aviso] dt original 0.005≠0.01 en fila 924 / H2\n",
      "[Aviso] dt original 0.005≠0.01 en fila 924 / V\n",
      "[Aviso] dt original 0.005≠0.01 en fila 925 / H1\n",
      "[Aviso] dt original 0.005≠0.01 en fila 925 / H2\n",
      "[Aviso] dt original 0.005≠0.01 en fila 925 / V\n",
      "[Aviso] dt original 0.005≠0.01 en fila 926 / H1\n",
      "[Aviso] dt original 0.005≠0.01 en fila 926 / H2\n",
      "[Aviso] dt original 0.005≠0.01 en fila 926 / V\n",
      "[Aviso] dt original 0.005≠0.01 en fila 927 / H1\n",
      "[Aviso] dt original 0.005≠0.01 en fila 927 / H2\n",
      "[Aviso] dt original 0.005≠0.01 en fila 927 / V\n",
      "[Aviso] dt original 0.005≠0.01 en fila 928 / H1\n",
      "[Aviso] dt original 0.005≠0.01 en fila 928 / H2\n",
      "[Aviso] dt original 0.005≠0.01 en fila 928 / V\n",
      "[Aviso] dt original 0.005≠0.01 en fila 929 / H1\n",
      "[Aviso] dt original 0.005≠0.01 en fila 929 / H2\n",
      "[Aviso] dt original 0.005≠0.01 en fila 929 / V\n",
      "[Aviso] dt original 0.0029≠0.01 en fila 930 / H1\n",
      "[Aviso] dt original 0.0029≠0.01 en fila 930 / H2\n",
      "[Aviso] dt original 0.0029≠0.01 en fila 930 / V\n",
      "[Aviso] dt original 0.0029≠0.01 en fila 931 / H1\n",
      "[Aviso] dt original 0.0029≠0.01 en fila 931 / H2\n",
      "[Aviso] dt original 0.0029≠0.01 en fila 931 / V\n",
      "[Aviso] dt original 0.0029≠0.01 en fila 932 / H1\n",
      "[Aviso] dt original 0.0029≠0.01 en fila 932 / H2\n",
      "[Aviso] dt original 0.0029≠0.01 en fila 932 / V\n",
      "[Aviso] dt original 0.0024≠0.01 en fila 933 / H1\n",
      "[Aviso] dt original 0.0024≠0.01 en fila 933 / H2\n",
      "[Aviso] dt original 0.0024≠0.01 en fila 933 / V\n",
      "[Aviso] dt original 0.0029≠0.01 en fila 934 / H1\n",
      "[Aviso] dt original 0.0029≠0.01 en fila 934 / H2\n",
      "[Aviso] dt original 0.0029≠0.01 en fila 934 / V\n",
      "[Aviso] dt original 0.0029≠0.01 en fila 935 / H1\n",
      "[Aviso] dt original 0.0029≠0.01 en fila 935 / H2\n",
      "[Aviso] dt original 0.0029≠0.01 en fila 935 / V\n",
      "[Aviso] dt original 0.0029≠0.01 en fila 936 / H1\n",
      "[Aviso] dt original 0.0029≠0.01 en fila 936 / H2\n",
      "[Aviso] dt original 0.0029≠0.01 en fila 936 / V\n",
      "[Aviso] dt original 0.0029≠0.01 en fila 937 / H1\n",
      "[Aviso] dt original 0.0029≠0.01 en fila 937 / H2\n",
      "[Aviso] dt original 0.0029≠0.01 en fila 937 / V\n",
      "[Aviso] dt original 0.0029≠0.01 en fila 938 / H1\n",
      "[Aviso] dt original 0.0029≠0.01 en fila 938 / H2\n",
      "[Aviso] dt original 0.0029≠0.01 en fila 938 / V\n",
      "[Aviso] dt original 0.0029≠0.01 en fila 939 / H1\n",
      "[Aviso] dt original 0.0029≠0.01 en fila 939 / H2\n",
      "[Aviso] dt original 0.0029≠0.01 en fila 939 / V\n",
      "[Aviso] dt original 0.0029≠0.01 en fila 940 / H1\n",
      "[Aviso] dt original 0.0029≠0.01 en fila 940 / H2\n",
      "[Aviso] dt original 0.0029≠0.01 en fila 940 / V\n",
      "[Aviso] dt original 0.0024≠0.01 en fila 941 / H1\n",
      "[Aviso] dt original 0.0024≠0.01 en fila 941 / H2\n",
      "[Aviso] dt original 0.0024≠0.01 en fila 941 / V\n",
      "[Aviso] dt original 0.0029≠0.01 en fila 942 / H1\n",
      "[Aviso] dt original 0.0029≠0.01 en fila 942 / H2\n",
      "[Aviso] dt original 0.0029≠0.01 en fila 942 / V\n",
      "[Aviso] dt original 0.0029≠0.01 en fila 943 / H1\n",
      "[Aviso] dt original 0.0029≠0.01 en fila 943 / H2\n",
      "[Aviso] dt original 0.0029≠0.01 en fila 943 / V\n",
      "[Aviso] dt original 0.0029≠0.01 en fila 944 / H1\n",
      "[Aviso] dt original 0.0029≠0.01 en fila 944 / H2\n",
      "[Aviso] dt original 0.0029≠0.01 en fila 944 / V\n",
      "[Aviso] dt original 0.02≠0.01 en fila 945 / H1\n",
      "[Aviso] dt original 0.02≠0.01 en fila 945 / H2\n",
      "[Aviso] dt original 0.02≠0.01 en fila 945 / V\n",
      "[Aviso] dt original 0.02≠0.01 en fila 946 / H1\n",
      "[Aviso] dt original 0.02≠0.01 en fila 946 / H2\n",
      "[Aviso] dt original 0.02≠0.01 en fila 946 / V\n",
      "[Aviso] dt original 0.02≠0.01 en fila 947 / H1\n",
      "[Aviso] dt original 0.02≠0.01 en fila 947 / H2\n",
      "[Aviso] dt original 0.02≠0.01 en fila 947 / V\n",
      "[Aviso] dt original 0.005≠0.01 en fila 950 / H1\n",
      "[Aviso] dt original 0.005≠0.01 en fila 950 / H2\n",
      "[Aviso] dt original 0.005≠0.01 en fila 950 / V\n",
      "[Aviso] dt original 0.005≠0.01 en fila 951 / H1\n",
      "[Aviso] dt original 0.005≠0.01 en fila 951 / H2\n",
      "[Aviso] dt original 0.005≠0.01 en fila 951 / V\n",
      "[Aviso] dt original 0.005≠0.01 en fila 952 / H1\n",
      "[Aviso] dt original 0.005≠0.01 en fila 952 / H2\n",
      "[Aviso] dt original 0.005≠0.01 en fila 952 / V\n",
      "[Aviso] dt original 0.0078≠0.01 en fila 953 / H1\n",
      "[Aviso] dt original 0.0078≠0.01 en fila 953 / H2\n",
      "[Aviso] dt original 0.0078≠0.01 en fila 953 / V\n",
      "[Aviso] dt original 0.005≠0.01 en fila 954 / H1\n",
      "[Aviso] dt original 0.005≠0.01 en fila 954 / H2\n",
      "[Aviso] dt original 0.005≠0.01 en fila 954 / V\n",
      "[Aviso] dt original 0.0078≠0.01 en fila 955 / H1\n",
      "[Aviso] dt original 0.0078≠0.01 en fila 955 / H2\n",
      "[Aviso] dt original 0.0078≠0.01 en fila 955 / V\n",
      "[Aviso] dt original 0.005≠0.01 en fila 956 / H1\n",
      "[Aviso] dt original 0.005≠0.01 en fila 956 / H2\n",
      "[Aviso] dt original 0.005≠0.01 en fila 956 / V\n",
      "[Aviso] dt original 0.0078≠0.01 en fila 957 / H1\n",
      "[Aviso] dt original 0.0078≠0.01 en fila 957 / H2\n",
      "[Aviso] dt original 0.0078≠0.01 en fila 957 / V\n",
      "[Aviso] dt original 0.0078≠0.01 en fila 958 / H1\n",
      "[Aviso] dt original 0.0078≠0.01 en fila 958 / H2\n",
      "[Aviso] dt original 0.0078≠0.01 en fila 958 / V\n",
      "[Aviso] dt original 0.005≠0.01 en fila 959 / H1\n",
      "[Aviso] dt original 0.005≠0.01 en fila 959 / H2\n",
      "[Aviso] dt original 0.005≠0.01 en fila 959 / V\n",
      "[Aviso] dt original 0.005≠0.01 en fila 960 / H1\n",
      "[Aviso] dt original 0.005≠0.01 en fila 960 / H2\n",
      "[Aviso] dt original 0.005≠0.01 en fila 960 / V\n",
      "[Aviso] dt original 0.005≠0.01 en fila 961 / H1\n",
      "[Aviso] dt original 0.005≠0.01 en fila 961 / H2\n",
      "[Aviso] dt original 0.005≠0.01 en fila 961 / V\n",
      "[Aviso] dt original 0.005≠0.01 en fila 962 / H1\n",
      "[Aviso] dt original 0.005≠0.01 en fila 962 / H2\n",
      "[Aviso] dt original 0.005≠0.01 en fila 962 / V\n",
      "[Aviso] dt original 0.005≠0.01 en fila 963 / H1\n",
      "[Aviso] dt original 0.005≠0.01 en fila 963 / H2\n",
      "[Aviso] dt original 0.005≠0.01 en fila 963 / V\n",
      "[Aviso] dt original 0.005≠0.01 en fila 964 / H1\n",
      "[Aviso] dt original 0.005≠0.01 en fila 964 / H2\n",
      "[Aviso] dt original 0.005≠0.01 en fila 964 / V\n",
      "[Aviso] dt original 0.005≠0.01 en fila 965 / H1\n",
      "[Aviso] dt original 0.005≠0.01 en fila 965 / H2\n",
      "[Aviso] dt original 0.005≠0.01 en fila 965 / V\n",
      "[Aviso] dt original 0.005≠0.01 en fila 966 / H1\n",
      "[Aviso] dt original 0.005≠0.01 en fila 966 / H2\n",
      "[Aviso] dt original 0.005≠0.01 en fila 966 / V\n",
      "[Aviso] dt original 0.005≠0.01 en fila 967 / H1\n",
      "[Aviso] dt original 0.005≠0.01 en fila 967 / H2\n",
      "[Aviso] dt original 0.005≠0.01 en fila 967 / V\n",
      "[Aviso] dt original 0.005≠0.01 en fila 968 / H1\n",
      "[Aviso] dt original 0.005≠0.01 en fila 968 / H2\n",
      "[Aviso] dt original 0.005≠0.01 en fila 968 / V\n",
      "[Aviso] dt original 0.005≠0.01 en fila 969 / H1\n",
      "[Aviso] dt original 0.005≠0.01 en fila 969 / H2\n",
      "[Aviso] dt original 0.005≠0.01 en fila 969 / V\n",
      "[Aviso] dt original 0.005≠0.01 en fila 970 / H1\n",
      "[Aviso] dt original 0.005≠0.01 en fila 970 / H2\n",
      "[Aviso] dt original 0.005≠0.01 en fila 970 / V\n",
      "[Aviso] dt original 0.005≠0.01 en fila 971 / H1\n",
      "[Aviso] dt original 0.005≠0.01 en fila 971 / H2\n",
      "[Aviso] dt original 0.005≠0.01 en fila 971 / V\n",
      "[Aviso] dt original 0.005≠0.01 en fila 972 / H1\n",
      "[Aviso] dt original 0.005≠0.01 en fila 972 / H2\n",
      "[Aviso] dt original 0.005≠0.01 en fila 972 / V\n",
      "[Aviso] dt original 0.005≠0.01 en fila 973 / H1\n",
      "[Aviso] dt original 0.005≠0.01 en fila 973 / H2\n",
      "[Aviso] dt original 0.005≠0.01 en fila 973 / V\n",
      "[Aviso] dt original 0.005≠0.01 en fila 974 / H1\n",
      "[Aviso] dt original 0.005≠0.01 en fila 974 / H2\n",
      "[Aviso] dt original 0.005≠0.01 en fila 974 / V\n",
      "[Aviso] dt original 0.005≠0.01 en fila 975 / H1\n",
      "[Aviso] dt original 0.005≠0.01 en fila 975 / H2\n",
      "[Aviso] dt original 0.005≠0.01 en fila 975 / V\n",
      "[Aviso] dt original 0.005≠0.01 en fila 976 / H1\n",
      "[Aviso] dt original 0.005≠0.01 en fila 976 / H2\n",
      "[Aviso] dt original 0.005≠0.01 en fila 976 / V\n",
      "[Aviso] dt original 0.005≠0.01 en fila 977 / H1\n",
      "[Aviso] dt original 0.005≠0.01 en fila 977 / H2\n",
      "[Aviso] dt original 0.005≠0.01 en fila 977 / V\n",
      "[Aviso] dt original 0.005≠0.01 en fila 978 / H1\n",
      "[Aviso] dt original 0.005≠0.01 en fila 978 / H2\n",
      "[Aviso] dt original 0.005≠0.01 en fila 978 / V\n",
      "[Aviso] dt original 0.005≠0.01 en fila 979 / H1\n",
      "[Aviso] dt original 0.005≠0.01 en fila 979 / H2\n",
      "[Aviso] dt original 0.005≠0.01 en fila 979 / V\n",
      "[Aviso] dt original 0.005≠0.01 en fila 980 / H1\n",
      "[Aviso] dt original 0.005≠0.01 en fila 980 / H2\n",
      "[Aviso] dt original 0.005≠0.01 en fila 980 / V\n",
      "[Aviso] dt original 0.005≠0.01 en fila 981 / H1\n",
      "[Aviso] dt original 0.005≠0.01 en fila 981 / H2\n",
      "[Aviso] dt original 0.005≠0.01 en fila 981 / V\n",
      "[Aviso] dt original 0.005≠0.01 en fila 982 / H1\n",
      "[Aviso] dt original 0.005≠0.01 en fila 982 / H2\n",
      "[Aviso] dt original 0.005≠0.01 en fila 982 / V\n",
      "[Aviso] dt original 0.005≠0.01 en fila 983 / H1\n",
      "[Aviso] dt original 0.005≠0.01 en fila 983 / H2\n",
      "[Aviso] dt original 0.005≠0.01 en fila 983 / V\n",
      "[Aviso] dt original 0.005≠0.01 en fila 984 / H1\n",
      "[Aviso] dt original 0.005≠0.01 en fila 984 / H2\n",
      "[Aviso] dt original 0.005≠0.01 en fila 984 / V\n",
      "[Aviso] dt original 0.005≠0.01 en fila 985 / H1\n",
      "[Aviso] dt original 0.005≠0.01 en fila 985 / H2\n",
      "[Aviso] dt original 0.005≠0.01 en fila 985 / V\n",
      "[Aviso] dt original 0.005≠0.01 en fila 986 / H1\n",
      "[Aviso] dt original 0.005≠0.01 en fila 986 / H2\n",
      "[Aviso] dt original 0.005≠0.01 en fila 986 / V\n",
      "[Aviso] dt original 0.005≠0.01 en fila 987 / H1\n",
      "[Aviso] dt original 0.005≠0.01 en fila 987 / H2\n",
      "[Aviso] dt original 0.005≠0.01 en fila 987 / V\n",
      "[Aviso] dt original 0.005≠0.01 en fila 988 / H1\n",
      "[Aviso] dt original 0.005≠0.01 en fila 988 / H2\n",
      "[Aviso] dt original 0.005≠0.01 en fila 988 / V\n",
      "[Aviso] dt original 0.005≠0.01 en fila 989 / H1\n",
      "[Aviso] dt original 0.005≠0.01 en fila 989 / H2\n",
      "[Aviso] dt original 0.005≠0.01 en fila 989 / V\n",
      "[Aviso] dt original 0.0029≠0.01 en fila 990 / H1\n",
      "[Aviso] dt original 0.0029≠0.01 en fila 990 / H2\n",
      "[Aviso] dt original 0.0029≠0.01 en fila 990 / V\n",
      "[Aviso] dt original 0.0029≠0.01 en fila 991 / H1\n",
      "[Aviso] dt original 0.0029≠0.01 en fila 991 / H2\n",
      "[Aviso] dt original 0.0029≠0.01 en fila 991 / V\n",
      "[Aviso] dt original 0.0029≠0.01 en fila 992 / H1\n",
      "[Aviso] dt original 0.0029≠0.01 en fila 992 / H2\n",
      "[Aviso] dt original 0.0029≠0.01 en fila 992 / V\n",
      "[Aviso] dt original 0.005≠0.01 en fila 993 / H1\n",
      "[Aviso] dt original 0.005≠0.01 en fila 993 / H2\n",
      "[Aviso] dt original 0.005≠0.01 en fila 993 / V\n",
      "[Aviso] dt original 0.005≠0.01 en fila 994 / H1\n",
      "[Aviso] dt original 0.005≠0.01 en fila 994 / H2\n",
      "[Aviso] dt original 0.005≠0.01 en fila 994 / V\n",
      "[Aviso] dt original 0.005≠0.01 en fila 995 / H1\n",
      "[Aviso] dt original 0.005≠0.01 en fila 995 / H2\n",
      "[Aviso] dt original 0.005≠0.01 en fila 995 / V\n",
      "[Aviso] dt original 0.005≠0.01 en fila 996 / H1\n",
      "[Aviso] dt original 0.005≠0.01 en fila 996 / H2\n",
      "[Aviso] dt original 0.005≠0.01 en fila 996 / V\n",
      "[Aviso] dt original 0.005≠0.01 en fila 997 / H1\n",
      "[Aviso] dt original 0.005≠0.01 en fila 997 / H2\n",
      "[Aviso] dt original 0.005≠0.01 en fila 997 / V\n",
      "[Aviso] dt original 0.005≠0.01 en fila 998 / H1\n",
      "[Aviso] dt original 0.005≠0.01 en fila 998 / H2\n",
      "[Aviso] dt original 0.005≠0.01 en fila 998 / V\n",
      "[Aviso] dt original 0.005≠0.01 en fila 999 / H1\n",
      "[Aviso] dt original 0.005≠0.01 en fila 999 / H2\n",
      "[Aviso] dt original 0.005≠0.01 en fila 999 / V\n",
      "[Aviso] dt original 0.005≠0.01 en fila 1000 / H1\n",
      "[Aviso] dt original 0.005≠0.01 en fila 1000 / H2\n",
      "[Aviso] dt original 0.005≠0.01 en fila 1000 / V\n",
      "[Aviso] dt original 0.005≠0.01 en fila 1001 / H1\n",
      "[Aviso] dt original 0.005≠0.01 en fila 1001 / H2\n",
      "[Aviso] dt original 0.005≠0.01 en fila 1001 / V\n",
      "[Aviso] dt original 0.005≠0.01 en fila 1002 / H1\n",
      "[Aviso] dt original 0.005≠0.01 en fila 1002 / H2\n",
      "[Aviso] dt original 0.005≠0.01 en fila 1002 / V\n",
      "[Aviso] dt original 0.005≠0.01 en fila 1003 / H1\n",
      "[Aviso] dt original 0.005≠0.01 en fila 1003 / H2\n",
      "[Aviso] dt original 0.005≠0.01 en fila 1003 / V\n",
      "[Aviso] dt original 0.005≠0.01 en fila 1004 / H1\n",
      "[Aviso] dt original 0.005≠0.01 en fila 1004 / H2\n",
      "[Aviso] dt original 0.005≠0.01 en fila 1004 / V\n",
      "[Aviso] dt original 0.005≠0.01 en fila 1005 / H1\n",
      "[Aviso] dt original 0.005≠0.01 en fila 1005 / H2\n",
      "[Aviso] dt original 0.005≠0.01 en fila 1005 / V\n",
      "[Aviso] dt original 0.005≠0.01 en fila 1006 / H1\n",
      "[Aviso] dt original 0.005≠0.01 en fila 1006 / H2\n",
      "[Aviso] dt original 0.005≠0.01 en fila 1006 / V\n",
      "[Aviso] dt original 0.00244≠0.01 en fila 1007 / H1\n",
      "[Aviso] dt original 0.00244≠0.01 en fila 1007 / H2\n",
      "[Aviso] dt original 0.00244≠0.01 en fila 1007 / V\n",
      "[Aviso] dt original 0.005≠0.01 en fila 1008 / H1\n",
      "[Aviso] dt original 0.005≠0.01 en fila 1008 / H2\n",
      "[Aviso] dt original 0.005≠0.01 en fila 1008 / V\n",
      "[Aviso] dt original 0.005≠0.01 en fila 1009 / H1\n",
      "[Aviso] dt original 0.005≠0.01 en fila 1009 / H2\n",
      "[Aviso] dt original 0.005≠0.01 en fila 1009 / V\n",
      "[Aviso] dt original 0.005≠0.01 en fila 1017 / H1\n",
      "[Aviso] dt original 0.005≠0.01 en fila 1017 / H2\n",
      "[Aviso] dt original 0.005≠0.01 en fila 1017 / V\n",
      "[Aviso] dt original 0.005≠0.01 en fila 1018 / H1\n",
      "[Aviso] dt original 0.005≠0.01 en fila 1018 / H2\n",
      "[Aviso] dt original 0.005≠0.01 en fila 1018 / V\n",
      "[Aviso] dt original 0.005≠0.01 en fila 1019 / H1\n",
      "[Aviso] dt original 0.005≠0.01 en fila 1019 / H2\n",
      "[Aviso] dt original 0.005≠0.01 en fila 1019 / V\n",
      "[Aviso] dt original 0.005≠0.01 en fila 1020 / H1\n",
      "[Aviso] dt original 0.005≠0.01 en fila 1020 / H2\n",
      "[Aviso] dt original 0.005≠0.01 en fila 1020 / V\n",
      "[Aviso] dt original 0.005≠0.01 en fila 1021 / H1\n",
      "[Aviso] dt original 0.005≠0.01 en fila 1021 / H2\n",
      "[Aviso] dt original 0.005≠0.01 en fila 1021 / V\n",
      "[Aviso] dt original 0.005≠0.01 en fila 1022 / H1\n",
      "[Aviso] dt original 0.005≠0.01 en fila 1022 / H2\n",
      "[Aviso] dt original 0.005≠0.01 en fila 1022 / V\n",
      "[Aviso] dt original 0.005≠0.01 en fila 1023 / H1\n",
      "[Aviso] dt original 0.005≠0.01 en fila 1023 / H2\n",
      "[Aviso] dt original 0.005≠0.01 en fila 1023 / V\n",
      "[Aviso] dt original 0.005≠0.01 en fila 1024 / H1\n",
      "[Aviso] dt original 0.005≠0.01 en fila 1024 / H2\n",
      "[Aviso] dt original 0.005≠0.01 en fila 1024 / V\n",
      "[Aviso] dt original 0.005≠0.01 en fila 1025 / H1\n",
      "[Aviso] dt original 0.005≠0.01 en fila 1025 / H2\n",
      "[Aviso] dt original 0.005≠0.01 en fila 1025 / V\n",
      "[Aviso] dt original 0.005≠0.01 en fila 1026 / H1\n",
      "[Aviso] dt original 0.005≠0.01 en fila 1026 / H2\n",
      "[Aviso] dt original 0.005≠0.01 en fila 1026 / V\n",
      "[Aviso] dt original 0.005≠0.01 en fila 1027 / H1\n",
      "[Aviso] dt original 0.005≠0.01 en fila 1027 / H2\n",
      "[Aviso] dt original 0.005≠0.01 en fila 1027 / V\n",
      "[Aviso] dt original 0.005≠0.01 en fila 1028 / H1\n",
      "[Aviso] dt original 0.005≠0.01 en fila 1028 / H2\n",
      "[Aviso] dt original 0.005≠0.01 en fila 1028 / V\n",
      "[Aviso] dt original 0.005≠0.01 en fila 1029 / H1\n",
      "[Aviso] dt original 0.005≠0.01 en fila 1029 / H2\n",
      "[Aviso] dt original 0.005≠0.01 en fila 1029 / V\n",
      "[Aviso] dt original 0.005≠0.01 en fila 1030 / H1\n",
      "[Aviso] dt original 0.005≠0.01 en fila 1030 / H2\n",
      "[Aviso] dt original 0.005≠0.01 en fila 1030 / V\n",
      "[Aviso] dt original 0.005≠0.01 en fila 1031 / H1\n",
      "[Aviso] dt original 0.005≠0.01 en fila 1031 / H2\n",
      "[Aviso] dt original 0.005≠0.01 en fila 1031 / V\n",
      "[Aviso] dt original 0.005≠0.01 en fila 1032 / H1\n",
      "[Aviso] dt original 0.005≠0.01 en fila 1032 / H2\n",
      "[Aviso] dt original 0.005≠0.01 en fila 1032 / V\n",
      "[Aviso] dt original 0.005≠0.01 en fila 1033 / H1\n",
      "[Aviso] dt original 0.005≠0.01 en fila 1033 / H2\n",
      "[Aviso] dt original 0.005≠0.01 en fila 1033 / V\n",
      "[Aviso] dt original 0.005≠0.01 en fila 1034 / H1\n",
      "[Aviso] dt original 0.005≠0.01 en fila 1034 / H2\n",
      "[Aviso] dt original 0.005≠0.01 en fila 1034 / V\n",
      "[Aviso] dt original 0.005≠0.01 en fila 1035 / H1\n",
      "[Aviso] dt original 0.005≠0.01 en fila 1035 / H2\n",
      "[Aviso] dt original 0.005≠0.01 en fila 1035 / V\n",
      "[Aviso] dt original 0.005≠0.01 en fila 1036 / H1\n",
      "[Aviso] dt original 0.005≠0.01 en fila 1036 / H2\n",
      "[Aviso] dt original 0.005≠0.01 en fila 1036 / V\n",
      "[Aviso] dt original 0.005≠0.01 en fila 1037 / H1\n",
      "[Aviso] dt original 0.005≠0.01 en fila 1037 / H2\n",
      "[Aviso] dt original 0.005≠0.01 en fila 1037 / V\n",
      "[Aviso] dt original 0.005≠0.01 en fila 1038 / H1\n",
      "[Aviso] dt original 0.005≠0.01 en fila 1038 / H2\n",
      "[Aviso] dt original 0.005≠0.01 en fila 1038 / V\n",
      "[Aviso] dt original 0.005≠0.01 en fila 1039 / H1\n",
      "[Aviso] dt original 0.005≠0.01 en fila 1039 / H2\n",
      "[Aviso] dt original 0.005≠0.01 en fila 1039 / V\n",
      "[Aviso] dt original 0.005≠0.01 en fila 1040 / H1\n",
      "[Aviso] dt original 0.005≠0.01 en fila 1040 / H2\n",
      "[Aviso] dt original 0.005≠0.01 en fila 1040 / V\n",
      "[Aviso] dt original 0.005≠0.01 en fila 1041 / H1\n",
      "[Aviso] dt original 0.005≠0.01 en fila 1041 / H2\n",
      "[Aviso] dt original 0.005≠0.01 en fila 1041 / V\n",
      "[Aviso] dt original 0.005≠0.01 en fila 1042 / H1\n",
      "[Aviso] dt original 0.005≠0.01 en fila 1042 / H2\n",
      "[Aviso] dt original 0.005≠0.01 en fila 1042 / V\n",
      "[Aviso] dt original 0.005≠0.01 en fila 1043 / H1\n",
      "[Aviso] dt original 0.005≠0.01 en fila 1043 / H2\n",
      "[Aviso] dt original 0.005≠0.01 en fila 1043 / V\n",
      "[Aviso] dt original 0.005≠0.01 en fila 1044 / H1\n",
      "[Aviso] dt original 0.005≠0.01 en fila 1044 / H2\n",
      "[Aviso] dt original 0.005≠0.01 en fila 1044 / V\n",
      "[Aviso] dt original 0.005≠0.01 en fila 1045 / H1\n",
      "[Aviso] dt original 0.005≠0.01 en fila 1045 / H2\n",
      "[Aviso] dt original 0.005≠0.01 en fila 1045 / V\n",
      "[Aviso] dt original 0.005≠0.01 en fila 1046 / H1\n",
      "[Aviso] dt original 0.005≠0.01 en fila 1046 / H2\n",
      "[Aviso] dt original 0.005≠0.01 en fila 1046 / V\n",
      "[Aviso] dt original 0.005≠0.01 en fila 1047 / H1\n",
      "[Aviso] dt original 0.005≠0.01 en fila 1047 / H2\n",
      "[Aviso] dt original 0.005≠0.01 en fila 1047 / V\n",
      "[Aviso] dt original 0.005≠0.01 en fila 1048 / H1\n",
      "[Aviso] dt original 0.005≠0.01 en fila 1048 / H2\n",
      "[Aviso] dt original 0.005≠0.01 en fila 1048 / V\n",
      "[Aviso] dt original 0.005≠0.01 en fila 1049 / H1\n",
      "[Aviso] dt original 0.005≠0.01 en fila 1049 / H2\n",
      "[Aviso] dt original 0.005≠0.01 en fila 1049 / V\n",
      "[Aviso] dt original 0.005≠0.01 en fila 1050 / H1\n",
      "[Aviso] dt original 0.005≠0.01 en fila 1050 / H2\n",
      "[Aviso] dt original 0.005≠0.01 en fila 1050 / V\n",
      "[Aviso] dt original 0.005≠0.01 en fila 1051 / H1\n",
      "[Aviso] dt original 0.005≠0.01 en fila 1051 / H2\n",
      "[Aviso] dt original 0.005≠0.01 en fila 1051 / V\n",
      "[Aviso] dt original 0.005≠0.01 en fila 1052 / H1\n",
      "[Aviso] dt original 0.005≠0.01 en fila 1052 / H2\n",
      "[Aviso] dt original 0.005≠0.01 en fila 1052 / V\n",
      "[Aviso] dt original 0.005≠0.01 en fila 1053 / H1\n",
      "[Aviso] dt original 0.005≠0.01 en fila 1053 / H2\n",
      "[Aviso] dt original 0.005≠0.01 en fila 1053 / V\n",
      "[Aviso] dt original 0.005≠0.01 en fila 1054 / H1\n",
      "[Aviso] dt original 0.005≠0.01 en fila 1054 / H2\n",
      "[Aviso] dt original 0.005≠0.01 en fila 1054 / V\n",
      "[Aviso] dt original 0.005≠0.01 en fila 1055 / H1\n",
      "[Aviso] dt original 0.005≠0.01 en fila 1055 / H2\n",
      "[Aviso] dt original 0.005≠0.01 en fila 1055 / V\n",
      "[Aviso] dt original 0.005≠0.01 en fila 1056 / H1\n",
      "[Aviso] dt original 0.005≠0.01 en fila 1056 / H2\n",
      "[Aviso] dt original 0.005≠0.01 en fila 1056 / V\n",
      "[Aviso] dt original 0.005≠0.01 en fila 1057 / H1\n",
      "[Aviso] dt original 0.005≠0.01 en fila 1057 / H2\n",
      "[Aviso] dt original 0.005≠0.01 en fila 1057 / V\n",
      "[Aviso] dt original 0.005≠0.01 en fila 1058 / H1\n",
      "[Aviso] dt original 0.005≠0.01 en fila 1058 / H2\n",
      "[Aviso] dt original 0.005≠0.01 en fila 1058 / V\n",
      "[Aviso] dt original 0.005≠0.01 en fila 1059 / H1\n",
      "[Aviso] dt original 0.005≠0.01 en fila 1059 / H2\n",
      "[Aviso] dt original 0.005≠0.01 en fila 1059 / V\n",
      "[Aviso] dt original 0.005≠0.01 en fila 1060 / H1\n",
      "[Aviso] dt original 0.005≠0.01 en fila 1060 / H2\n",
      "[Aviso] dt original 0.005≠0.01 en fila 1060 / V\n",
      "[Aviso] dt original 0.005≠0.01 en fila 1061 / H1\n",
      "[Aviso] dt original 0.005≠0.01 en fila 1061 / H2\n",
      "[Aviso] dt original 0.005≠0.01 en fila 1061 / V\n",
      "[Aviso] dt original 0.005≠0.01 en fila 1062 / H1\n",
      "[Aviso] dt original 0.005≠0.01 en fila 1062 / H2\n",
      "[Aviso] dt original 0.005≠0.01 en fila 1062 / V\n",
      "[Aviso] dt original 0.005≠0.01 en fila 1063 / H1\n",
      "[Aviso] dt original 0.005≠0.01 en fila 1063 / H2\n",
      "[Aviso] dt original 0.005≠0.01 en fila 1063 / V\n",
      "[Aviso] dt original 0.005≠0.01 en fila 1064 / H1\n",
      "[Aviso] dt original 0.005≠0.01 en fila 1064 / H2\n",
      "[Aviso] dt original 0.005≠0.01 en fila 1064 / V\n",
      "[Aviso] dt original 0.005≠0.01 en fila 1065 / H1\n",
      "[Aviso] dt original 0.005≠0.01 en fila 1065 / H2\n",
      "[Aviso] dt original 0.005≠0.01 en fila 1065 / V\n",
      "[Aviso] dt original 0.005≠0.01 en fila 1066 / H1\n",
      "[Aviso] dt original 0.005≠0.01 en fila 1066 / H2\n",
      "[Aviso] dt original 0.005≠0.01 en fila 1066 / V\n",
      "[Aviso] dt original 0.005≠0.01 en fila 1067 / H1\n",
      "[Aviso] dt original 0.005≠0.01 en fila 1067 / H2\n",
      "[Aviso] dt original 0.005≠0.01 en fila 1067 / V\n",
      "[Aviso] dt original 0.005≠0.01 en fila 1068 / H1\n",
      "[Aviso] dt original 0.005≠0.01 en fila 1068 / H2\n",
      "[Aviso] dt original 0.005≠0.01 en fila 1068 / V\n",
      "[Aviso] dt original 0.005≠0.01 en fila 1069 / H1\n",
      "[Aviso] dt original 0.005≠0.01 en fila 1069 / H2\n",
      "[Aviso] dt original 0.005≠0.01 en fila 1069 / V\n",
      "[Aviso] dt original 0.005≠0.01 en fila 1070 / H1\n",
      "[Aviso] dt original 0.005≠0.01 en fila 1070 / H2\n",
      "[Aviso] dt original 0.005≠0.01 en fila 1070 / V\n",
      "[Aviso] dt original 0.005≠0.01 en fila 1071 / H1\n",
      "[Aviso] dt original 0.005≠0.01 en fila 1071 / H2\n",
      "[Aviso] dt original 0.005≠0.01 en fila 1071 / V\n",
      "[Aviso] dt original 0.005≠0.01 en fila 1072 / H1\n",
      "[Aviso] dt original 0.005≠0.01 en fila 1072 / H2\n",
      "[Aviso] dt original 0.005≠0.01 en fila 1072 / V\n",
      "[Aviso] dt original 0.005≠0.01 en fila 1073 / H1\n",
      "[Aviso] dt original 0.005≠0.01 en fila 1073 / H2\n",
      "[Aviso] dt original 0.005≠0.01 en fila 1073 / V\n",
      "[Aviso] dt original 0.005≠0.01 en fila 1074 / H1\n",
      "[Aviso] dt original 0.005≠0.01 en fila 1074 / H2\n",
      "[Aviso] dt original 0.005≠0.01 en fila 1074 / V\n",
      "[Aviso] dt original 0.005≠0.01 en fila 1075 / H1\n",
      "[Aviso] dt original 0.005≠0.01 en fila 1075 / H2\n",
      "[Aviso] dt original 0.005≠0.01 en fila 1075 / V\n",
      "[Aviso] dt original 0.005≠0.01 en fila 1076 / H1\n",
      "[Aviso] dt original 0.005≠0.01 en fila 1076 / H2\n",
      "[Aviso] dt original 0.005≠0.01 en fila 1076 / V\n",
      "[Aviso] dt original 0.005≠0.01 en fila 1077 / H1\n",
      "[Aviso] dt original 0.005≠0.01 en fila 1077 / H2\n",
      "[Aviso] dt original 0.005≠0.01 en fila 1077 / V\n",
      "[Aviso] dt original 0.005≠0.01 en fila 1078 / H1\n",
      "[Aviso] dt original 0.005≠0.01 en fila 1078 / H2\n",
      "[Aviso] dt original 0.005≠0.01 en fila 1078 / V\n",
      "[Aviso] dt original 0.005≠0.01 en fila 1079 / H1\n",
      "[Aviso] dt original 0.005≠0.01 en fila 1079 / H2\n",
      "[Aviso] dt original 0.005≠0.01 en fila 1079 / V\n",
      "[Aviso] dt original 0.005≠0.01 en fila 1080 / H1\n",
      "[Aviso] dt original 0.005≠0.01 en fila 1080 / H2\n",
      "[Aviso] dt original 0.005≠0.01 en fila 1080 / V\n",
      "[Aviso] dt original 0.005≠0.01 en fila 1081 / H1\n",
      "[Aviso] dt original 0.005≠0.01 en fila 1081 / H2\n",
      "[Aviso] dt original 0.005≠0.01 en fila 1081 / V\n",
      "[Aviso] dt original 0.005≠0.01 en fila 1082 / H1\n",
      "[Aviso] dt original 0.005≠0.01 en fila 1082 / H2\n",
      "[Aviso] dt original 0.005≠0.01 en fila 1082 / V\n",
      "[Aviso] dt original 0.005≠0.01 en fila 1083 / H1\n",
      "[Aviso] dt original 0.005≠0.01 en fila 1083 / H2\n",
      "[Aviso] dt original 0.005≠0.01 en fila 1083 / V\n",
      "[Aviso] dt original 0.005≠0.01 en fila 1084 / H1\n",
      "[Aviso] dt original 0.005≠0.01 en fila 1084 / H2\n",
      "[Aviso] dt original 0.005≠0.01 en fila 1084 / V\n",
      "[Aviso] dt original 0.005≠0.01 en fila 1085 / H1\n",
      "[Aviso] dt original 0.005≠0.01 en fila 1085 / H2\n",
      "[Aviso] dt original 0.005≠0.01 en fila 1085 / V\n",
      "[Aviso] dt original 0.005≠0.01 en fila 1086 / H1\n",
      "[Aviso] dt original 0.005≠0.01 en fila 1086 / H2\n",
      "[Aviso] dt original 0.005≠0.01 en fila 1086 / V\n",
      "[Aviso] dt original 0.005≠0.01 en fila 1087 / H1\n",
      "[Aviso] dt original 0.005≠0.01 en fila 1087 / H2\n",
      "[Aviso] dt original 0.005≠0.01 en fila 1087 / V\n",
      "[Aviso] dt original 0.005≠0.01 en fila 1088 / H1\n",
      "[Aviso] dt original 0.005≠0.01 en fila 1088 / H2\n",
      "[Aviso] dt original 0.005≠0.01 en fila 1088 / V\n",
      "[Aviso] dt original 0.005≠0.01 en fila 1089 / H1\n",
      "[Aviso] dt original 0.005≠0.01 en fila 1089 / H2\n",
      "[Aviso] dt original 0.005≠0.01 en fila 1089 / V\n",
      "[Aviso] dt original 0.005≠0.01 en fila 1090 / H1\n",
      "[Aviso] dt original 0.005≠0.01 en fila 1090 / H2\n",
      "[Aviso] dt original 0.005≠0.01 en fila 1090 / V\n",
      "[Aviso] dt original 0.005≠0.01 en fila 1091 / H1\n",
      "[Aviso] dt original 0.005≠0.01 en fila 1091 / H2\n",
      "[Aviso] dt original 0.005≠0.01 en fila 1091 / V\n",
      "[Aviso] dt original 0.005≠0.01 en fila 1092 / H1\n",
      "[Aviso] dt original 0.005≠0.01 en fila 1092 / H2\n",
      "[Aviso] dt original 0.005≠0.01 en fila 1092 / V\n",
      "[Aviso] dt original 0.005≠0.01 en fila 1093 / H1\n",
      "[Aviso] dt original 0.005≠0.01 en fila 1093 / H2\n",
      "[Aviso] dt original 0.005≠0.01 en fila 1093 / V\n",
      "[Aviso] dt original 0.005≠0.01 en fila 1094 / H1\n",
      "[Aviso] dt original 0.005≠0.01 en fila 1094 / H2\n",
      "[Aviso] dt original 0.005≠0.01 en fila 1094 / V\n",
      "[Aviso] dt original 0.005≠0.01 en fila 1095 / H1\n",
      "[Aviso] dt original 0.005≠0.01 en fila 1095 / H2\n",
      "[Aviso] dt original 0.005≠0.01 en fila 1095 / V\n",
      "[Aviso] dt original 0.005≠0.01 en fila 1096 / H1\n",
      "[Aviso] dt original 0.005≠0.01 en fila 1096 / H2\n",
      "[Aviso] dt original 0.005≠0.01 en fila 1096 / V\n",
      "[Aviso] dt original 0.005≠0.01 en fila 1097 / H1\n",
      "[Aviso] dt original 0.005≠0.01 en fila 1097 / H2\n",
      "[Aviso] dt original 0.005≠0.01 en fila 1097 / V\n",
      "[Aviso] dt original 0.005≠0.01 en fila 1098 / H1\n",
      "[Aviso] dt original 0.005≠0.01 en fila 1098 / H2\n",
      "[Aviso] dt original 0.005≠0.01 en fila 1098 / V\n",
      "[Aviso] dt original 0.005≠0.01 en fila 1099 / H1\n",
      "[Aviso] dt original 0.005≠0.01 en fila 1099 / H2\n",
      "[Aviso] dt original 0.005≠0.01 en fila 1099 / V\n",
      "[Aviso] dt original 0.005≠0.01 en fila 1100 / H1\n",
      "[Aviso] dt original 0.005≠0.01 en fila 1100 / H2\n",
      "[Aviso] dt original 0.005≠0.01 en fila 1100 / V\n",
      "[Aviso] dt original 0.005≠0.01 en fila 1101 / H1\n",
      "[Aviso] dt original 0.005≠0.01 en fila 1101 / H2\n",
      "[Aviso] dt original 0.005≠0.01 en fila 1101 / V\n",
      "[Aviso] dt original 0.005≠0.01 en fila 1102 / H1\n",
      "[Aviso] dt original 0.005≠0.01 en fila 1102 / H2\n",
      "[Aviso] dt original 0.005≠0.01 en fila 1102 / V\n",
      "[Aviso] dt original 0.005≠0.01 en fila 1103 / H1\n",
      "[Aviso] dt original 0.005≠0.01 en fila 1103 / H2\n",
      "[Aviso] dt original 0.005≠0.01 en fila 1103 / V\n",
      "[Aviso] dt original 0.005≠0.01 en fila 1104 / H1\n",
      "[Aviso] dt original 0.005≠0.01 en fila 1104 / H2\n",
      "[Aviso] dt original 0.005≠0.01 en fila 1104 / V\n",
      "[Aviso] dt original 0.005≠0.01 en fila 1105 / H1\n",
      "[Aviso] dt original 0.005≠0.01 en fila 1105 / H2\n",
      "[Aviso] dt original 0.005≠0.01 en fila 1105 / V\n",
      "[Aviso] dt original 0.005≠0.01 en fila 1106 / H1\n",
      "[Aviso] dt original 0.005≠0.01 en fila 1106 / H2\n",
      "[Aviso] dt original 0.005≠0.01 en fila 1106 / V\n",
      "[Aviso] dt original 0.00244≠0.01 en fila 1107 / H1\n",
      "[Aviso] dt original 0.00244≠0.01 en fila 1107 / H2\n",
      "[Aviso] dt original 0.00244≠0.01 en fila 1107 / V\n",
      "[Aviso] dt original 0.005≠0.01 en fila 1108 / H1\n",
      "[Aviso] dt original 0.005≠0.01 en fila 1108 / H2\n",
      "[Aviso] dt original 0.005≠0.01 en fila 1108 / V\n",
      "[Aviso] dt original 0.005≠0.01 en fila 1111 / H1\n",
      "[Aviso] dt original 0.005≠0.01 en fila 1111 / H2\n",
      "[Aviso] dt original 0.005≠0.01 en fila 1111 / V\n",
      "[Aviso] dt original 0.005≠0.01 en fila 1112 / H1\n",
      "[Aviso] dt original 0.005≠0.01 en fila 1112 / H2\n",
      "[Aviso] dt original 0.005≠0.01 en fila 1112 / V\n",
      "[Aviso] dt original 0.005≠0.01 en fila 1113 / H1\n",
      "[Aviso] dt original 0.005≠0.01 en fila 1113 / H2\n",
      "[Aviso] dt original 0.005≠0.01 en fila 1113 / V\n",
      "[Aviso] dt original 0.005≠0.01 en fila 1114 / H1\n",
      "[Aviso] dt original 0.005≠0.01 en fila 1114 / H2\n",
      "[Aviso] dt original 0.005≠0.01 en fila 1114 / V\n",
      "[Aviso] dt original 0.005≠0.01 en fila 1115 / H1\n",
      "[Aviso] dt original 0.005≠0.01 en fila 1115 / H2\n",
      "[Aviso] dt original 0.005≠0.01 en fila 1115 / V\n",
      "[Aviso] dt original 0.005≠0.01 en fila 1116 / H1\n",
      "[Aviso] dt original 0.005≠0.01 en fila 1116 / H2\n",
      "[Aviso] dt original 0.005≠0.01 en fila 1116 / V\n",
      "[Aviso] dt original 0.005≠0.01 en fila 1117 / H1\n",
      "[Aviso] dt original 0.005≠0.01 en fila 1117 / H2\n",
      "[Aviso] dt original 0.005≠0.01 en fila 1117 / V\n",
      "[Aviso] dt original 0.005≠0.01 en fila 1118 / H1\n",
      "[Aviso] dt original 0.005≠0.01 en fila 1118 / H2\n",
      "[Aviso] dt original 0.005≠0.01 en fila 1118 / V\n",
      "[Aviso] dt original 0.005≠0.01 en fila 1119 / H1\n",
      "[Aviso] dt original 0.005≠0.01 en fila 1119 / H2\n",
      "[Aviso] dt original 0.005≠0.01 en fila 1119 / V\n",
      "[Aviso] dt original 0.005≠0.01 en fila 1120 / H1\n",
      "[Aviso] dt original 0.005≠0.01 en fila 1120 / H2\n",
      "[Aviso] dt original 0.005≠0.01 en fila 1120 / V\n",
      "[Aviso] dt original 0.005≠0.01 en fila 1121 / H1\n",
      "[Aviso] dt original 0.005≠0.01 en fila 1121 / H2\n",
      "[Aviso] dt original 0.005≠0.01 en fila 1121 / V\n",
      "[Aviso] dt original 0.005≠0.01 en fila 1122 / H1\n",
      "[Aviso] dt original 0.005≠0.01 en fila 1122 / H2\n",
      "[Aviso] dt original 0.005≠0.01 en fila 1122 / V\n",
      "[Aviso] dt original 0.005≠0.01 en fila 1123 / H1\n",
      "[Aviso] dt original 0.005≠0.01 en fila 1123 / H2\n",
      "[Aviso] dt original 0.005≠0.01 en fila 1123 / V\n",
      "[Aviso] dt original 0.005≠0.01 en fila 1124 / H1\n",
      "[Aviso] dt original 0.005≠0.01 en fila 1124 / H2\n",
      "[Aviso] dt original 0.005≠0.01 en fila 1124 / V\n",
      "[Aviso] dt original 0.005≠0.01 en fila 1125 / H1\n",
      "[Aviso] dt original 0.005≠0.01 en fila 1125 / H2\n",
      "[Aviso] dt original 0.005≠0.01 en fila 1125 / V\n",
      "[Aviso] dt original 0.005≠0.01 en fila 1126 / H1\n",
      "[Aviso] dt original 0.005≠0.01 en fila 1126 / H2\n",
      "[Aviso] dt original 0.005≠0.01 en fila 1126 / V\n",
      "[Aviso] dt original 0.005≠0.01 en fila 1127 / H1\n",
      "[Aviso] dt original 0.005≠0.01 en fila 1127 / H2\n",
      "[Aviso] dt original 0.005≠0.01 en fila 1127 / V\n",
      "[Aviso] dt original 0.005≠0.01 en fila 1128 / H1\n",
      "[Aviso] dt original 0.005≠0.01 en fila 1128 / H2\n",
      "[Aviso] dt original 0.005≠0.01 en fila 1128 / V\n",
      "[Aviso] dt original 0.005≠0.01 en fila 1129 / H1\n",
      "[Aviso] dt original 0.005≠0.01 en fila 1129 / H2\n",
      "[Aviso] dt original 0.005≠0.01 en fila 1129 / V\n",
      "[Aviso] dt original 0.005≠0.01 en fila 1130 / H1\n",
      "[Aviso] dt original 0.005≠0.01 en fila 1130 / H2\n",
      "[Aviso] dt original 0.005≠0.01 en fila 1130 / V\n",
      "[Aviso] dt original 0.005≠0.01 en fila 1131 / H1\n",
      "[Aviso] dt original 0.005≠0.01 en fila 1131 / H2\n",
      "[Aviso] dt original 0.005≠0.01 en fila 1131 / V\n",
      "[Aviso] dt original 0.005≠0.01 en fila 1132 / H1\n",
      "[Aviso] dt original 0.005≠0.01 en fila 1132 / H2\n",
      "[Aviso] dt original 0.005≠0.01 en fila 1132 / V\n",
      "[Aviso] dt original 0.005≠0.01 en fila 1133 / H1\n",
      "[Aviso] dt original 0.005≠0.01 en fila 1133 / H2\n",
      "[Aviso] dt original 0.005≠0.01 en fila 1133 / V\n",
      "[Aviso] dt original 0.005≠0.01 en fila 1134 / H1\n",
      "[Aviso] dt original 0.005≠0.01 en fila 1134 / H2\n",
      "[Aviso] dt original 0.005≠0.01 en fila 1134 / V\n",
      "[Aviso] dt original 0.005≠0.01 en fila 1135 / H1\n",
      "[Aviso] dt original 0.005≠0.01 en fila 1135 / H2\n",
      "[Aviso] dt original 0.005≠0.01 en fila 1135 / V\n",
      "[Aviso] dt original 0.005≠0.01 en fila 1136 / H1\n",
      "[Aviso] dt original 0.005≠0.01 en fila 1136 / H2\n",
      "[Aviso] dt original 0.005≠0.01 en fila 1136 / V\n",
      "[Aviso] dt original 0.005≠0.01 en fila 1137 / H1\n",
      "[Aviso] dt original 0.005≠0.01 en fila 1137 / H2\n",
      "[Aviso] dt original 0.005≠0.01 en fila 1137 / V\n",
      "[Aviso] dt original 0.005≠0.01 en fila 1138 / H1\n",
      "[Aviso] dt original 0.005≠0.01 en fila 1138 / H2\n",
      "[Aviso] dt original 0.005≠0.01 en fila 1138 / V\n",
      "[Aviso] dt original 0.005≠0.01 en fila 1139 / H1\n",
      "[Aviso] dt original 0.005≠0.01 en fila 1139 / H2\n",
      "[Aviso] dt original 0.005≠0.01 en fila 1139 / V\n",
      "[Aviso] dt original 0.005≠0.01 en fila 1140 / H1\n",
      "[Aviso] dt original 0.005≠0.01 en fila 1140 / H2\n",
      "[Aviso] dt original 0.005≠0.01 en fila 1140 / V\n",
      "[Aviso] dt original 0.005≠0.01 en fila 1141 / H1\n",
      "[Aviso] dt original 0.005≠0.01 en fila 1141 / H2\n",
      "[Aviso] dt original 0.005≠0.01 en fila 1141 / V\n",
      "[Aviso] dt original 0.005≠0.01 en fila 1142 / H1\n",
      "[Aviso] dt original 0.005≠0.01 en fila 1142 / H2\n",
      "[Aviso] dt original 0.005≠0.01 en fila 1142 / V\n",
      "[Aviso] dt original 0.005≠0.01 en fila 1143 / H1\n",
      "[Aviso] dt original 0.005≠0.01 en fila 1143 / H2\n",
      "[Aviso] dt original 0.005≠0.01 en fila 1143 / V\n",
      "[Aviso] dt original 0.005≠0.01 en fila 1144 / H1\n",
      "[Aviso] dt original 0.005≠0.01 en fila 1144 / H2\n",
      "[Aviso] dt original 0.005≠0.01 en fila 1144 / V\n",
      "[Aviso] dt original 0.005≠0.01 en fila 1145 / H1\n",
      "[Aviso] dt original 0.005≠0.01 en fila 1145 / H2\n",
      "[Aviso] dt original 0.005≠0.01 en fila 1145 / V\n",
      "[Aviso] dt original 0.005≠0.01 en fila 1146 / H1\n",
      "[Aviso] dt original 0.005≠0.01 en fila 1146 / H2\n",
      "[Aviso] dt original 0.005≠0.01 en fila 1146 / V\n",
      "[Aviso] dt original 0.005≠0.01 en fila 1147 / H1\n",
      "[Aviso] dt original 0.005≠0.01 en fila 1147 / H2\n",
      "[Aviso] dt original 0.005≠0.01 en fila 1147 / V\n",
      "[Aviso] dt original 0.005≠0.01 en fila 1148 / H1\n",
      "[Aviso] dt original 0.005≠0.01 en fila 1148 / H2\n",
      "[Aviso] dt original 0.005≠0.01 en fila 1148 / V\n",
      "[Aviso] dt original 0.005≠0.01 en fila 1149 / H1\n",
      "[Aviso] dt original 0.005≠0.01 en fila 1149 / H2\n",
      "[Aviso] dt original 0.005≠0.01 en fila 1149 / V\n",
      "[Aviso] dt original 0.005≠0.01 en fila 1150 / H1\n",
      "[Aviso] dt original 0.005≠0.01 en fila 1150 / H2\n",
      "[Aviso] dt original 0.005≠0.01 en fila 1150 / V\n",
      "[Aviso] dt original 0.005≠0.01 en fila 1151 / H1\n",
      "[Aviso] dt original 0.005≠0.01 en fila 1151 / H2\n",
      "[Aviso] dt original 0.005≠0.01 en fila 1151 / V\n",
      "[Aviso] dt original 0.005≠0.01 en fila 1152 / H1\n",
      "[Aviso] dt original 0.005≠0.01 en fila 1152 / H2\n",
      "[Aviso] dt original 0.005≠0.01 en fila 1152 / V\n",
      "[Aviso] dt original 0.005≠0.01 en fila 1153 / H1\n",
      "[Aviso] dt original 0.005≠0.01 en fila 1153 / H2\n",
      "[Aviso] dt original 0.005≠0.01 en fila 1153 / V\n",
      "[Aviso] dt original 0.005≠0.01 en fila 1154 / H1\n",
      "[Aviso] dt original 0.005≠0.01 en fila 1154 / H2\n",
      "[Aviso] dt original 0.005≠0.01 en fila 1154 / V\n",
      "[Aviso] dt original 0.005≠0.01 en fila 1155 / H1\n",
      "[Aviso] dt original 0.005≠0.01 en fila 1155 / H2\n",
      "[Aviso] dt original 0.005≠0.01 en fila 1155 / V\n",
      "[Aviso] dt original 0.005≠0.01 en fila 1156 / H1\n",
      "[Aviso] dt original 0.005≠0.01 en fila 1156 / H2\n",
      "[Aviso] dt original 0.005≠0.01 en fila 1156 / V\n",
      "[Aviso] dt original 0.02≠0.01 en fila 1157 / H1\n",
      "[Aviso] dt original 0.02≠0.01 en fila 1157 / H2\n",
      "[Aviso] dt original 0.02≠0.01 en fila 1157 / V\n",
      "[Aviso] dt original 0.02≠0.01 en fila 1158 / H1\n",
      "[Aviso] dt original 0.02≠0.01 en fila 1158 / H2\n",
      "[Aviso] dt original 0.02≠0.01 en fila 1158 / V\n",
      "[Aviso] dt original 0.02≠0.01 en fila 1159 / H1\n",
      "[Aviso] dt original 0.02≠0.01 en fila 1159 / H2\n",
      "[Aviso] dt original 0.02≠0.01 en fila 1159 / V\n",
      "[Aviso] dt original 0.02≠0.01 en fila 1161 / H1\n",
      "[Aviso] dt original 0.02≠0.01 en fila 1161 / H2\n",
      "[Aviso] dt original 0.02≠0.01 en fila 1161 / V\n",
      "[Aviso] dt original 0.02≠0.01 en fila 1163 / H1\n",
      "[Aviso] dt original 0.02≠0.01 en fila 1163 / H2\n",
      "[Aviso] dt original 0.02≠0.01 en fila 1163 / V\n",
      "[Aviso] dt original 0.02≠0.01 en fila 1164 / H1\n",
      "[Aviso] dt original 0.02≠0.01 en fila 1164 / H2\n",
      "[Aviso] dt original 0.02≠0.01 en fila 1164 / V\n",
      "[Aviso] dt original 0.02≠0.01 en fila 1167 / H1\n",
      "[Aviso] dt original 0.02≠0.01 en fila 1167 / H2\n",
      "[Aviso] dt original 0.02≠0.01 en fila 1167 / V\n",
      "[Aviso] dt original 0.02≠0.01 en fila 1172 / H1\n",
      "[Aviso] dt original 0.02≠0.01 en fila 1172 / H2\n",
      "[Aviso] dt original 0.02≠0.01 en fila 1172 / V\n",
      "[Aviso] dt original 0.004≠0.01 en fila 1175 / H1\n",
      "[Aviso] dt original 0.004≠0.01 en fila 1175 / H2\n",
      "[Aviso] dt original 0.004≠0.01 en fila 1175 / V\n",
      "[Aviso] dt original 0.004≠0.01 en fila 1176 / H1\n",
      "[Aviso] dt original 0.004≠0.01 en fila 1176 / H2\n",
      "[Aviso] dt original 0.004≠0.01 en fila 1176 / V\n",
      "[Aviso] dt original 0.005≠0.01 en fila 1177 / H1\n",
      "[Aviso] dt original 0.005≠0.01 en fila 1177 / H2\n",
      "[Aviso] dt original 0.005≠0.01 en fila 1177 / V\n",
      "[Aviso] dt original 0.005≠0.01 en fila 1178 / H1\n",
      "[Aviso] dt original 0.005≠0.01 en fila 1178 / H2\n",
      "[Aviso] dt original 0.005≠0.01 en fila 1178 / V\n",
      "[Aviso] dt original 0.005≠0.01 en fila 1179 / H1\n",
      "[Aviso] dt original 0.005≠0.01 en fila 1179 / H2\n",
      "[Aviso] dt original 0.005≠0.01 en fila 1179 / V\n",
      "[Aviso] dt original 0.005≠0.01 en fila 1180 / H1\n",
      "[Aviso] dt original 0.005≠0.01 en fila 1180 / H2\n",
      "[Aviso] dt original 0.005≠0.01 en fila 1180 / V\n",
      "[Aviso] dt original 0.005≠0.01 en fila 1181 / H1\n",
      "[Aviso] dt original 0.005≠0.01 en fila 1181 / H2\n",
      "[Aviso] dt original 0.005≠0.01 en fila 1181 / V\n",
      "[Aviso] dt original 0.005≠0.01 en fila 1182 / H1\n",
      "[Aviso] dt original 0.005≠0.01 en fila 1182 / H2\n",
      "[Aviso] dt original 0.005≠0.01 en fila 1182 / V\n",
      "[Aviso] dt original 0.005≠0.01 en fila 1183 / H1\n",
      "[Aviso] dt original 0.005≠0.01 en fila 1183 / H2\n",
      "[Aviso] dt original 0.005≠0.01 en fila 1183 / V\n",
      "[Aviso] dt original 0.004≠0.01 en fila 1184 / H1\n",
      "[Aviso] dt original 0.004≠0.01 en fila 1184 / H2\n",
      "[Aviso] dt original 0.004≠0.01 en fila 1184 / V\n",
      "[Aviso] dt original 0.005≠0.01 en fila 1185 / H1\n",
      "[Aviso] dt original 0.005≠0.01 en fila 1185 / H2\n",
      "[Aviso] dt original 0.005≠0.01 en fila 1185 / V\n",
      "[Aviso] dt original 0.005≠0.01 en fila 1186 / H1\n",
      "[Aviso] dt original 0.005≠0.01 en fila 1186 / H2\n",
      "[Aviso] dt original 0.005≠0.01 en fila 1186 / V\n",
      "[Aviso] dt original 0.005≠0.01 en fila 1187 / H1\n",
      "[Aviso] dt original 0.005≠0.01 en fila 1187 / H2\n",
      "[Aviso] dt original 0.005≠0.01 en fila 1187 / V\n",
      "[Aviso] dt original 0.005≠0.01 en fila 1188 / H1\n",
      "[Aviso] dt original 0.005≠0.01 en fila 1188 / H2\n",
      "[Aviso] dt original 0.005≠0.01 en fila 1188 / V\n",
      "[Aviso] dt original 0.005≠0.01 en fila 1189 / H1\n",
      "[Aviso] dt original 0.005≠0.01 en fila 1189 / H2\n",
      "[Aviso] dt original 0.005≠0.01 en fila 1189 / V\n",
      "[Aviso] dt original 0.005≠0.01 en fila 1190 / H1\n",
      "[Aviso] dt original 0.005≠0.01 en fila 1190 / H2\n",
      "[Aviso] dt original 0.005≠0.01 en fila 1190 / V\n",
      "[Aviso] dt original 0.005≠0.01 en fila 1191 / H1\n",
      "[Aviso] dt original 0.005≠0.01 en fila 1191 / H2\n",
      "[Aviso] dt original 0.005≠0.01 en fila 1191 / V\n",
      "[Aviso] dt original 0.004≠0.01 en fila 1192 / H1\n",
      "[Aviso] dt original 0.004≠0.01 en fila 1192 / H2\n",
      "[Aviso] dt original 0.004≠0.01 en fila 1192 / V\n",
      "[Aviso] dt original 0.005≠0.01 en fila 1193 / H1\n",
      "[Aviso] dt original 0.005≠0.01 en fila 1193 / H2\n",
      "[Aviso] dt original 0.005≠0.01 en fila 1193 / V\n",
      "[Aviso] dt original 0.005≠0.01 en fila 1194 / H1\n",
      "[Aviso] dt original 0.005≠0.01 en fila 1194 / H2\n",
      "[Aviso] dt original 0.005≠0.01 en fila 1194 / V\n",
      "[Aviso] dt original 0.005≠0.01 en fila 1195 / H1\n",
      "[Aviso] dt original 0.005≠0.01 en fila 1195 / H2\n",
      "[Aviso] dt original 0.005≠0.01 en fila 1195 / V\n",
      "[Aviso] dt original 0.004≠0.01 en fila 1196 / H1\n",
      "[Aviso] dt original 0.004≠0.01 en fila 1196 / H2\n",
      "[Aviso] dt original 0.004≠0.01 en fila 1196 / V\n",
      "[Aviso] dt original 0.005≠0.01 en fila 1197 / H1\n",
      "[Aviso] dt original 0.005≠0.01 en fila 1197 / H2\n",
      "[Aviso] dt original 0.005≠0.01 en fila 1197 / V\n",
      "[Aviso] dt original 0.005≠0.01 en fila 1198 / H1\n",
      "[Aviso] dt original 0.005≠0.01 en fila 1198 / H2\n",
      "[Aviso] dt original 0.005≠0.01 en fila 1198 / V\n",
      "[Aviso] dt original 0.005≠0.01 en fila 1199 / H1\n",
      "[Aviso] dt original 0.005≠0.01 en fila 1199 / H2\n",
      "[Aviso] dt original 0.005≠0.01 en fila 1199 / V\n",
      "[Aviso] dt original 0.005≠0.01 en fila 1200 / H1\n",
      "[Aviso] dt original 0.005≠0.01 en fila 1200 / H2\n",
      "[Aviso] dt original 0.005≠0.01 en fila 1200 / V\n",
      "[Aviso] dt original 0.005≠0.01 en fila 1201 / H1\n",
      "[Aviso] dt original 0.005≠0.01 en fila 1201 / H2\n",
      "[Aviso] dt original 0.005≠0.01 en fila 1201 / V\n",
      "[Aviso] dt original 0.005≠0.01 en fila 1202 / H1\n",
      "[Aviso] dt original 0.005≠0.01 en fila 1202 / H2\n",
      "[Aviso] dt original 0.005≠0.01 en fila 1202 / V\n",
      "[Aviso] dt original 0.004≠0.01 en fila 1203 / H1\n",
      "[Aviso] dt original 0.004≠0.01 en fila 1203 / H2\n",
      "[Aviso] dt original 0.004≠0.01 en fila 1203 / V\n",
      "[Aviso] dt original 0.004≠0.01 en fila 1204 / H1\n",
      "[Aviso] dt original 0.004≠0.01 en fila 1204 / H2\n",
      "[Aviso] dt original 0.004≠0.01 en fila 1204 / V\n",
      "[Aviso] dt original 0.004≠0.01 en fila 1205 / H1\n",
      "[Aviso] dt original 0.004≠0.01 en fila 1205 / H2\n",
      "[Aviso] dt original 0.004≠0.01 en fila 1205 / V\n",
      "[Aviso] dt original 0.004≠0.01 en fila 1206 / H1\n",
      "[Aviso] dt original 0.004≠0.01 en fila 1206 / H2\n",
      "[Aviso] dt original 0.004≠0.01 en fila 1206 / V\n",
      "[Aviso] dt original 0.004≠0.01 en fila 1207 / H1\n",
      "[Aviso] dt original 0.004≠0.01 en fila 1207 / H2\n",
      "[Aviso] dt original 0.004≠0.01 en fila 1207 / V\n",
      "[Aviso] dt original 0.004≠0.01 en fila 1208 / H1\n",
      "[Aviso] dt original 0.004≠0.01 en fila 1208 / H2\n",
      "[Aviso] dt original 0.004≠0.01 en fila 1208 / V\n",
      "[Aviso] dt original 0.004≠0.01 en fila 1209 / H1\n",
      "[Aviso] dt original 0.004≠0.01 en fila 1209 / H2\n",
      "[Aviso] dt original 0.004≠0.01 en fila 1209 / V\n",
      "[Aviso] dt original 0.004≠0.01 en fila 1210 / H1\n",
      "[Aviso] dt original 0.004≠0.01 en fila 1210 / H2\n",
      "[Aviso] dt original 0.004≠0.01 en fila 1210 / V\n",
      "[Aviso] dt original 0.005≠0.01 en fila 1211 / H1\n",
      "[Aviso] dt original 0.005≠0.01 en fila 1211 / H2\n",
      "[Aviso] dt original 0.005≠0.01 en fila 1211 / V\n",
      "[Aviso] dt original 0.005≠0.01 en fila 1212 / H1\n",
      "[Aviso] dt original 0.005≠0.01 en fila 1212 / H2\n",
      "[Aviso] dt original 0.005≠0.01 en fila 1212 / V\n",
      "[Aviso] dt original 0.005≠0.01 en fila 1213 / H1\n",
      "[Aviso] dt original 0.005≠0.01 en fila 1213 / H2\n",
      "[Aviso] dt original 0.005≠0.01 en fila 1213 / V\n",
      "[Aviso] dt original 0.005≠0.01 en fila 1214 / H1\n",
      "[Aviso] dt original 0.005≠0.01 en fila 1214 / H2\n",
      "[Aviso] dt original 0.005≠0.01 en fila 1214 / V\n",
      "[Aviso] dt original 0.005≠0.01 en fila 1215 / H1\n",
      "[Aviso] dt original 0.005≠0.01 en fila 1215 / H2\n",
      "[Aviso] dt original 0.005≠0.01 en fila 1215 / V\n",
      "[Aviso] dt original 0.005≠0.01 en fila 1216 / H1\n",
      "[Aviso] dt original 0.005≠0.01 en fila 1216 / H2\n",
      "[Aviso] dt original 0.005≠0.01 en fila 1216 / V\n",
      "[Aviso] dt original 0.005≠0.01 en fila 1217 / H1\n",
      "[Aviso] dt original 0.005≠0.01 en fila 1217 / H2\n",
      "[Aviso] dt original 0.005≠0.01 en fila 1217 / V\n",
      "[Aviso] dt original 0.005≠0.01 en fila 1218 / H1\n",
      "[Aviso] dt original 0.005≠0.01 en fila 1218 / H2\n",
      "[Aviso] dt original 0.005≠0.01 en fila 1218 / V\n",
      "[Aviso] dt original 0.005≠0.01 en fila 1219 / H1\n",
      "[Aviso] dt original 0.005≠0.01 en fila 1219 / H2\n",
      "[Aviso] dt original 0.005≠0.01 en fila 1219 / V\n",
      "[Aviso] dt original 0.005≠0.01 en fila 1220 / H1\n",
      "[Aviso] dt original 0.005≠0.01 en fila 1220 / H2\n",
      "[Aviso] dt original 0.005≠0.01 en fila 1220 / V\n",
      "[Aviso] dt original 0.005≠0.01 en fila 1221 / H1\n",
      "[Aviso] dt original 0.005≠0.01 en fila 1221 / H2\n",
      "[Aviso] dt original 0.005≠0.01 en fila 1221 / V\n",
      "[Aviso] dt original 0.004≠0.01 en fila 1222 / H1\n",
      "[Aviso] dt original 0.004≠0.01 en fila 1222 / H2\n",
      "[Aviso] dt original 0.004≠0.01 en fila 1222 / V\n",
      "[Aviso] dt original 0.005≠0.01 en fila 1225 / H1\n",
      "[Aviso] dt original 0.005≠0.01 en fila 1225 / H2\n",
      "[Aviso] dt original 0.005≠0.01 en fila 1225 / V\n",
      "[Aviso] dt original 0.005≠0.01 en fila 1226 / H1\n",
      "[Aviso] dt original 0.005≠0.01 en fila 1226 / H2\n",
      "[Aviso] dt original 0.005≠0.01 en fila 1226 / V\n",
      "[Aviso] dt original 0.005≠0.01 en fila 1227 / H1\n",
      "[Aviso] dt original 0.005≠0.01 en fila 1227 / H2\n",
      "[Aviso] dt original 0.005≠0.01 en fila 1227 / V\n",
      "[Aviso] dt original 0.00244≠0.01 en fila 1228 / H1\n",
      "[Aviso] dt original 0.00244≠0.01 en fila 1228 / H2\n",
      "[Aviso] dt original 0.00244≠0.01 en fila 1228 / V\n",
      "[Aviso] dt original 0.005≠0.01 en fila 1229 / H1\n",
      "[Aviso] dt original 0.005≠0.01 en fila 1229 / H2\n",
      "[Aviso] dt original 0.005≠0.01 en fila 1229 / V\n",
      "[Aviso] dt original 0.005≠0.01 en fila 1230 / H1\n",
      "[Aviso] dt original 0.005≠0.01 en fila 1230 / H2\n",
      "[Aviso] dt original 0.005≠0.01 en fila 1230 / V\n",
      "[Aviso] dt original 0.005≠0.01 en fila 1231 / H1\n",
      "[Aviso] dt original 0.005≠0.01 en fila 1231 / H2\n",
      "[Aviso] dt original 0.005≠0.01 en fila 1231 / V\n",
      "[Aviso] dt original 0.005≠0.01 en fila 1232 / H1\n",
      "[Aviso] dt original 0.005≠0.01 en fila 1232 / H2\n",
      "[Aviso] dt original 0.005≠0.01 en fila 1232 / V\n",
      "[Aviso] dt original 0.005≠0.01 en fila 1233 / H1\n",
      "[Aviso] dt original 0.005≠0.01 en fila 1233 / H2\n",
      "[Aviso] dt original 0.005≠0.01 en fila 1233 / V\n",
      "[Aviso] dt original 0.005≠0.01 en fila 1234 / H1\n",
      "[Aviso] dt original 0.005≠0.01 en fila 1234 / H2\n",
      "[Aviso] dt original 0.005≠0.01 en fila 1234 / V\n",
      "[Aviso] dt original 0.005≠0.01 en fila 1235 / H1\n",
      "[Aviso] dt original 0.005≠0.01 en fila 1235 / H2\n",
      "[Aviso] dt original 0.005≠0.01 en fila 1235 / V\n",
      "[Aviso] dt original 0.005≠0.01 en fila 1236 / H1\n",
      "[Aviso] dt original 0.005≠0.01 en fila 1236 / H2\n",
      "[Aviso] dt original 0.005≠0.01 en fila 1236 / V\n",
      "[Aviso] dt original 0.005≠0.01 en fila 1237 / H1\n",
      "[Aviso] dt original 0.005≠0.01 en fila 1237 / H2\n",
      "[Aviso] dt original 0.005≠0.01 en fila 1237 / V\n",
      "[Aviso] dt original 0.005≠0.01 en fila 1238 / H1\n",
      "[Aviso] dt original 0.005≠0.01 en fila 1238 / H2\n",
      "[Aviso] dt original 0.005≠0.01 en fila 1238 / V\n",
      "[Aviso] dt original 0.005≠0.01 en fila 1239 / H1\n",
      "[Aviso] dt original 0.005≠0.01 en fila 1239 / H2\n",
      "[Aviso] dt original 0.005≠0.01 en fila 1239 / V\n",
      "[Aviso] dt original 0.005≠0.01 en fila 1240 / H1\n",
      "[Aviso] dt original 0.005≠0.01 en fila 1240 / H2\n",
      "[Aviso] dt original 0.005≠0.01 en fila 1240 / V\n",
      "[Aviso] dt original 0.02≠0.01 en fila 1241 / H1\n",
      "[Aviso] dt original 0.02≠0.01 en fila 1241 / H2\n",
      "[Aviso] dt original 0.02≠0.01 en fila 1241 / V\n",
      "[Aviso] dt original 0.02≠0.01 en fila 1242 / H1\n",
      "[Aviso] dt original 0.02≠0.01 en fila 1242 / H2\n",
      "[Aviso] dt original 0.02≠0.01 en fila 1242 / V\n",
      "[Aviso] dt original 0.02≠0.01 en fila 1243 / H1\n",
      "[Aviso] dt original 0.02≠0.01 en fila 1243 / H2\n",
      "[Aviso] dt original 0.02≠0.01 en fila 1243 / V\n",
      "[Aviso] dt original 0.005≠0.01 en fila 1245 / H1\n",
      "[Aviso] dt original 0.005≠0.01 en fila 1245 / H2\n",
      "[Aviso] dt original 0.005≠0.01 en fila 1245 / V\n",
      "[Aviso] dt original 0.005≠0.01 en fila 1246 / H1\n",
      "[Aviso] dt original 0.005≠0.01 en fila 1246 / H2\n",
      "[Aviso] dt original 0.005≠0.01 en fila 1246 / V\n",
      "[Aviso] dt original 0.005≠0.01 en fila 1247 / H1\n",
      "[Aviso] dt original 0.005≠0.01 en fila 1247 / H2\n",
      "[Aviso] dt original 0.005≠0.01 en fila 1247 / V\n",
      "[Aviso] dt original 0.005≠0.01 en fila 1248 / H1\n",
      "[Aviso] dt original 0.005≠0.01 en fila 1248 / H2\n",
      "[Aviso] dt original 0.005≠0.01 en fila 1248 / V\n",
      "[Aviso] dt original 0.004≠0.01 en fila 1249 / H1\n",
      "[Aviso] dt original 0.004≠0.01 en fila 1249 / H2\n",
      "[Aviso] dt original 0.004≠0.01 en fila 1249 / V\n",
      "[Aviso] dt original 0.005≠0.01 en fila 1250 / H1\n",
      "[Aviso] dt original 0.005≠0.01 en fila 1250 / H2\n",
      "[Aviso] dt original 0.005≠0.01 en fila 1250 / V\n",
      "[Aviso] dt original 0.005≠0.01 en fila 1251 / H1\n",
      "[Aviso] dt original 0.005≠0.01 en fila 1251 / H2\n",
      "[Aviso] dt original 0.005≠0.01 en fila 1251 / V\n",
      "[Aviso] dt original 0.005≠0.01 en fila 1252 / H1\n",
      "[Aviso] dt original 0.005≠0.01 en fila 1252 / H2\n",
      "[Aviso] dt original 0.005≠0.01 en fila 1252 / V\n",
      "[Aviso] dt original 0.005≠0.01 en fila 1253 / H1\n",
      "[Aviso] dt original 0.005≠0.01 en fila 1253 / H2\n",
      "[Aviso] dt original 0.005≠0.01 en fila 1253 / V\n",
      "[Aviso] dt original 0.005≠0.01 en fila 1254 / H1\n",
      "[Aviso] dt original 0.005≠0.01 en fila 1254 / H2\n",
      "[Aviso] dt original 0.005≠0.01 en fila 1254 / V\n",
      "[Aviso] dt original 0.005≠0.01 en fila 1255 / H1\n",
      "[Aviso] dt original 0.005≠0.01 en fila 1255 / H2\n",
      "[Aviso] dt original 0.005≠0.01 en fila 1255 / V\n",
      "[Aviso] dt original 0.005≠0.01 en fila 1256 / H1\n",
      "[Aviso] dt original 0.005≠0.01 en fila 1256 / H2\n",
      "[Aviso] dt original 0.005≠0.01 en fila 1256 / V\n",
      "[Aviso] dt original 0.004≠0.01 en fila 1257 / H1\n",
      "[Aviso] dt original 0.004≠0.01 en fila 1257 / H2\n",
      "[Aviso] dt original 0.004≠0.01 en fila 1257 / V\n",
      "[Aviso] dt original 0.005≠0.01 en fila 1258 / H1\n",
      "[Aviso] dt original 0.005≠0.01 en fila 1258 / H2\n",
      "[Aviso] dt original 0.005≠0.01 en fila 1258 / V\n",
      "[Aviso] dt original 0.004≠0.01 en fila 1259 / H1\n",
      "[Aviso] dt original 0.004≠0.01 en fila 1259 / H2\n",
      "[Aviso] dt original 0.004≠0.01 en fila 1259 / V\n",
      "[Aviso] dt original 0.004≠0.01 en fila 1260 / H1\n",
      "[Aviso] dt original 0.004≠0.01 en fila 1260 / H2\n",
      "[Aviso] dt original 0.004≠0.01 en fila 1260 / V\n",
      "[Aviso] dt original 0.004≠0.01 en fila 1261 / H1\n",
      "[Aviso] dt original 0.004≠0.01 en fila 1261 / H2\n",
      "[Aviso] dt original 0.004≠0.01 en fila 1261 / V\n",
      "[Aviso] dt original 0.005≠0.01 en fila 1262 / H1\n",
      "[Aviso] dt original 0.005≠0.01 en fila 1262 / H2\n",
      "[Aviso] dt original 0.005≠0.01 en fila 1262 / V\n",
      "[Aviso] dt original 0.005≠0.01 en fila 1263 / H1\n",
      "[Aviso] dt original 0.005≠0.01 en fila 1263 / H2\n",
      "[Aviso] dt original 0.005≠0.01 en fila 1263 / V\n",
      "[Aviso] dt original 0.005≠0.01 en fila 1264 / H1\n",
      "[Aviso] dt original 0.005≠0.01 en fila 1264 / H2\n",
      "[Aviso] dt original 0.005≠0.01 en fila 1264 / V\n",
      "[Aviso] dt original 0.004≠0.01 en fila 1265 / H1\n",
      "[Aviso] dt original 0.004≠0.01 en fila 1265 / H2\n",
      "[Aviso] dt original 0.004≠0.01 en fila 1265 / V\n",
      "[Aviso] dt original 0.005≠0.01 en fila 1266 / H1\n",
      "[Aviso] dt original 0.005≠0.01 en fila 1266 / H2\n",
      "[Aviso] dt original 0.005≠0.01 en fila 1266 / V\n",
      "[Aviso] dt original 0.005≠0.01 en fila 1267 / H1\n",
      "[Aviso] dt original 0.005≠0.01 en fila 1267 / H2\n",
      "[Aviso] dt original 0.005≠0.01 en fila 1267 / V\n",
      "[Aviso] dt original 0.005≠0.01 en fila 1268 / H1\n",
      "[Aviso] dt original 0.005≠0.01 en fila 1268 / H2\n",
      "[Aviso] dt original 0.005≠0.01 en fila 1268 / V\n",
      "[Aviso] dt original 0.005≠0.01 en fila 1269 / H1\n",
      "[Aviso] dt original 0.005≠0.01 en fila 1269 / H2\n",
      "[Aviso] dt original 0.005≠0.01 en fila 1269 / V\n",
      "[Aviso] dt original 0.005≠0.01 en fila 1270 / H1\n",
      "[Aviso] dt original 0.005≠0.01 en fila 1270 / H2\n",
      "[Aviso] dt original 0.005≠0.01 en fila 1270 / V\n",
      "[Aviso] dt original 0.004≠0.01 en fila 1271 / H1\n",
      "[Aviso] dt original 0.004≠0.01 en fila 1271 / H2\n",
      "[Aviso] dt original 0.004≠0.01 en fila 1271 / V\n",
      "[Aviso] dt original 0.004≠0.01 en fila 1272 / H1\n",
      "[Aviso] dt original 0.004≠0.01 en fila 1272 / H2\n",
      "[Aviso] dt original 0.004≠0.01 en fila 1272 / V\n",
      "[Aviso] dt original 0.004≠0.01 en fila 1273 / H1\n",
      "[Aviso] dt original 0.004≠0.01 en fila 1273 / H2\n",
      "[Aviso] dt original 0.004≠0.01 en fila 1273 / V\n",
      "[Aviso] dt original 0.005≠0.01 en fila 1274 / H1\n",
      "[Aviso] dt original 0.005≠0.01 en fila 1274 / H2\n",
      "[Aviso] dt original 0.005≠0.01 en fila 1274 / V\n",
      "[Aviso] dt original 0.005≠0.01 en fila 1275 / H1\n",
      "[Aviso] dt original 0.005≠0.01 en fila 1275 / H2\n",
      "[Aviso] dt original 0.005≠0.01 en fila 1275 / V\n",
      "[Aviso] dt original 0.005≠0.01 en fila 1276 / H1\n",
      "[Aviso] dt original 0.005≠0.01 en fila 1276 / H2\n",
      "[Aviso] dt original 0.005≠0.01 en fila 1276 / V\n",
      "[Aviso] dt original 0.005≠0.01 en fila 1277 / H1\n",
      "[Aviso] dt original 0.005≠0.01 en fila 1277 / H2\n",
      "[Aviso] dt original 0.005≠0.01 en fila 1277 / V\n",
      "[Aviso] dt original 0.005≠0.01 en fila 1278 / H1\n",
      "[Aviso] dt original 0.005≠0.01 en fila 1278 / H2\n",
      "[Aviso] dt original 0.005≠0.01 en fila 1278 / V\n",
      "[Aviso] dt original 0.005≠0.01 en fila 1279 / H1\n",
      "[Aviso] dt original 0.005≠0.01 en fila 1279 / H2\n",
      "[Aviso] dt original 0.005≠0.01 en fila 1279 / V\n",
      "[Aviso] dt original 0.005≠0.01 en fila 1280 / H1\n",
      "[Aviso] dt original 0.005≠0.01 en fila 1280 / H2\n",
      "[Aviso] dt original 0.005≠0.01 en fila 1280 / V\n",
      "[Aviso] dt original 0.005≠0.01 en fila 1281 / H1\n",
      "[Aviso] dt original 0.005≠0.01 en fila 1281 / H2\n",
      "[Aviso] dt original 0.005≠0.01 en fila 1281 / V\n",
      "[Aviso] dt original 0.005≠0.01 en fila 1282 / H1\n",
      "[Aviso] dt original 0.005≠0.01 en fila 1282 / H2\n",
      "[Aviso] dt original 0.005≠0.01 en fila 1282 / V\n",
      "[Aviso] dt original 0.005≠0.01 en fila 1283 / H1\n",
      "[Aviso] dt original 0.005≠0.01 en fila 1283 / H2\n",
      "[Aviso] dt original 0.005≠0.01 en fila 1283 / V\n",
      "[Aviso] dt original 0.004≠0.01 en fila 1284 / H1\n",
      "[Aviso] dt original 0.004≠0.01 en fila 1284 / H2\n",
      "[Aviso] dt original 0.004≠0.01 en fila 1284 / V\n",
      "[Aviso] dt original 0.004≠0.01 en fila 1285 / H1\n",
      "[Aviso] dt original 0.004≠0.01 en fila 1285 / H2\n",
      "[Aviso] dt original 0.004≠0.01 en fila 1285 / V\n",
      "[Aviso] dt original 0.005≠0.01 en fila 1286 / H1\n",
      "[Aviso] dt original 0.005≠0.01 en fila 1286 / H2\n",
      "[Aviso] dt original 0.005≠0.01 en fila 1286 / V\n",
      "[Aviso] dt original 0.005≠0.01 en fila 1287 / H1\n",
      "[Aviso] dt original 0.005≠0.01 en fila 1287 / H2\n",
      "[Aviso] dt original 0.005≠0.01 en fila 1287 / V\n",
      "[Aviso] dt original 0.005≠0.01 en fila 1288 / H1\n",
      "[Aviso] dt original 0.005≠0.01 en fila 1288 / H2\n",
      "[Aviso] dt original 0.005≠0.01 en fila 1288 / V\n",
      "[Aviso] dt original 0.005≠0.01 en fila 1289 / H1\n",
      "[Aviso] dt original 0.005≠0.01 en fila 1289 / H2\n",
      "[Aviso] dt original 0.005≠0.01 en fila 1289 / V\n",
      "[Aviso] dt original 0.004≠0.01 en fila 1290 / H1\n",
      "[Aviso] dt original 0.004≠0.01 en fila 1290 / H2\n",
      "[Aviso] dt original 0.004≠0.01 en fila 1290 / V\n",
      "[Aviso] dt original 0.004≠0.01 en fila 1291 / H1\n",
      "[Aviso] dt original 0.004≠0.01 en fila 1291 / H2\n",
      "[Aviso] dt original 0.004≠0.01 en fila 1291 / V\n",
      "[Aviso] dt original 0.005≠0.01 en fila 1292 / H1\n",
      "[Aviso] dt original 0.005≠0.01 en fila 1292 / H2\n",
      "[Aviso] dt original 0.005≠0.01 en fila 1292 / V\n",
      "[Aviso] dt original 0.005≠0.01 en fila 1293 / H1\n",
      "[Aviso] dt original 0.005≠0.01 en fila 1293 / H2\n",
      "[Aviso] dt original 0.005≠0.01 en fila 1293 / V\n",
      "[Aviso] dt original 0.02≠0.01 en fila 1294 / H1\n",
      "[Aviso] dt original 0.02≠0.01 en fila 1294 / H2\n",
      "[Aviso] dt original 0.02≠0.01 en fila 1294 / V\n",
      "[Aviso] dt original 0.005≠0.01 en fila 1296 / H1\n",
      "[Aviso] dt original 0.005≠0.01 en fila 1296 / H2\n",
      "[Aviso] dt original 0.005≠0.01 en fila 1296 / V\n",
      "[Aviso] dt original 0.0125≠0.01 en fila 1303 / H1\n",
      "[Aviso] dt original 0.0125≠0.01 en fila 1303 / H2\n",
      "[Aviso] dt original 0.0125≠0.01 en fila 1303 / V\n",
      "[Aviso] dt original 0.0125≠0.01 en fila 1311 / H1\n",
      "[Aviso] dt original 0.0125≠0.01 en fila 1311 / H2\n",
      "[Aviso] dt original 0.0125≠0.01 en fila 1311 / V\n",
      "[Aviso] dt original 0.0125≠0.01 en fila 1318 / H1\n",
      "[Aviso] dt original 0.0125≠0.01 en fila 1318 / H2\n",
      "[Aviso] dt original 0.0125≠0.01 en fila 1318 / V\n",
      "[Aviso] dt original 0.0125≠0.01 en fila 1323 / H1\n",
      "[Aviso] dt original 0.0125≠0.01 en fila 1323 / H2\n",
      "[Aviso] dt original 0.0125≠0.01 en fila 1323 / V\n",
      "[Aviso] dt original 0.005≠0.01 en fila 1325 / H1\n",
      "[Aviso] dt original 0.005≠0.01 en fila 1325 / H2\n",
      "[Aviso] dt original 0.005≠0.01 en fila 1325 / V\n",
      "[Aviso] dt original 0.005≠0.01 en fila 1327 / H1\n",
      "[Aviso] dt original 0.005≠0.01 en fila 1327 / H2\n",
      "[Aviso] dt original 0.005≠0.01 en fila 1327 / V\n",
      "[Aviso] dt original 0.005≠0.01 en fila 1329 / H1\n",
      "[Aviso] dt original 0.005≠0.01 en fila 1329 / H2\n",
      "[Aviso] dt original 0.005≠0.01 en fila 1329 / V\n",
      "[Aviso] dt original 0.005≠0.01 en fila 1330 / H1\n",
      "[Aviso] dt original 0.005≠0.01 en fila 1330 / H2\n",
      "[Aviso] dt original 0.005≠0.01 en fila 1330 / V\n",
      "[Aviso] dt original 0.005≠0.01 en fila 1331 / H1\n",
      "[Aviso] dt original 0.005≠0.01 en fila 1331 / H2\n",
      "[Aviso] dt original 0.005≠0.01 en fila 1331 / V\n",
      "[Aviso] dt original 0.005≠0.01 en fila 1332 / H1\n",
      "[Aviso] dt original 0.005≠0.01 en fila 1332 / H2\n",
      "[Aviso] dt original 0.005≠0.01 en fila 1332 / V\n",
      "[Aviso] dt original 0.005≠0.01 en fila 1333 / H1\n",
      "[Aviso] dt original 0.005≠0.01 en fila 1333 / H2\n",
      "[Aviso] dt original 0.005≠0.01 en fila 1333 / V\n",
      "[Aviso] dt original 0.005≠0.01 en fila 1334 / H1\n",
      "[Aviso] dt original 0.005≠0.01 en fila 1334 / H2\n",
      "[Aviso] dt original 0.005≠0.01 en fila 1334 / V\n",
      "[Aviso] dt original 0.005≠0.01 en fila 1335 / H1\n",
      "[Aviso] dt original 0.005≠0.01 en fila 1335 / H2\n",
      "[Aviso] dt original 0.005≠0.01 en fila 1335 / V\n",
      "[Aviso] dt original 0.005≠0.01 en fila 1338 / H1\n",
      "[Aviso] dt original 0.005≠0.01 en fila 1338 / H2\n",
      "[Aviso] dt original 0.005≠0.01 en fila 1338 / V\n",
      "[Aviso] dt original 0.005≠0.01 en fila 1339 / H1\n",
      "[Aviso] dt original 0.005≠0.01 en fila 1339 / H2\n",
      "[Aviso] dt original 0.005≠0.01 en fila 1339 / V\n",
      "[Aviso] dt original 0.005≠0.01 en fila 1341 / H1\n",
      "[Aviso] dt original 0.005≠0.01 en fila 1341 / H2\n",
      "[Aviso] dt original 0.005≠0.01 en fila 1341 / V\n",
      "[Aviso] dt original 0.005≠0.01 en fila 1342 / H1\n",
      "[Aviso] dt original 0.005≠0.01 en fila 1342 / H2\n",
      "[Aviso] dt original 0.005≠0.01 en fila 1342 / V\n",
      "[Aviso] dt original 0.005≠0.01 en fila 1343 / H1\n",
      "[Aviso] dt original 0.005≠0.01 en fila 1343 / H2\n",
      "[Aviso] dt original 0.005≠0.01 en fila 1343 / V\n",
      "[Aviso] dt original 0.005≠0.01 en fila 1344 / H1\n",
      "[Aviso] dt original 0.005≠0.01 en fila 1344 / H2\n",
      "[Aviso] dt original 0.005≠0.01 en fila 1344 / V\n",
      "[Aviso] dt original 0.005≠0.01 en fila 1345 / H1\n",
      "[Aviso] dt original 0.005≠0.01 en fila 1345 / H2\n",
      "[Aviso] dt original 0.005≠0.01 en fila 1345 / V\n",
      "[Aviso] dt original 0.005≠0.01 en fila 1346 / H1\n",
      "[Aviso] dt original 0.005≠0.01 en fila 1346 / H2\n",
      "[Aviso] dt original 0.005≠0.01 en fila 1346 / V\n",
      "[Aviso] dt original 0.005≠0.01 en fila 1347 / H1\n",
      "[Aviso] dt original 0.005≠0.01 en fila 1347 / H2\n",
      "[Aviso] dt original 0.005≠0.01 en fila 1347 / V\n",
      "[Aviso] dt original 0.005≠0.01 en fila 1348 / H1\n",
      "[Aviso] dt original 0.005≠0.01 en fila 1348 / H2\n",
      "[Aviso] dt original 0.005≠0.01 en fila 1348 / V\n",
      "[Aviso] dt original 0.0066≠0.01 en fila 1349 / H1\n",
      "[Aviso] dt original 0.0066≠0.01 en fila 1349 / H2\n",
      "[Aviso] dt original 0.0066≠0.01 en fila 1349 / V\n",
      "[Aviso] dt original 0.02≠0.01 en fila 1350 / H1\n",
      "[Aviso] dt original 0.02≠0.01 en fila 1350 / H2\n",
      "[Aviso] dt original 0.02≠0.01 en fila 1350 / V\n",
      "[Aviso] dt original 0.02≠0.01 en fila 1351 / H1\n",
      "[Aviso] dt original 0.02≠0.01 en fila 1351 / H2\n",
      "[Aviso] dt original 0.02≠0.01 en fila 1351 / V\n",
      "[Aviso] dt original 0.02≠0.01 en fila 1352 / H1\n",
      "[Aviso] dt original 0.02≠0.01 en fila 1352 / H2\n",
      "[Aviso] dt original 0.02≠0.01 en fila 1352 / V\n",
      "[Aviso] dt original 0.02≠0.01 en fila 1353 / H1\n",
      "[Aviso] dt original 0.02≠0.01 en fila 1353 / H2\n",
      "[Aviso] dt original 0.02≠0.01 en fila 1353 / V\n",
      "[Aviso] dt original 0.02≠0.01 en fila 1354 / H1\n",
      "[Aviso] dt original 0.02≠0.01 en fila 1354 / H2\n",
      "[Aviso] dt original 0.02≠0.01 en fila 1354 / V\n",
      "[Aviso] dt original 0.005≠0.01 en fila 1385 / H1\n",
      "[Aviso] dt original 0.005≠0.01 en fila 1385 / H2\n",
      "[Aviso] dt original 0.005≠0.01 en fila 1385 / V\n",
      "[Aviso] dt original 0.005≠0.01 en fila 1386 / H1\n",
      "[Aviso] dt original 0.005≠0.01 en fila 1386 / H2\n",
      "[Aviso] dt original 0.005≠0.01 en fila 1386 / V\n",
      "[Aviso] dt original 0.005≠0.01 en fila 1403 / H1\n",
      "[Aviso] dt original 0.005≠0.01 en fila 1403 / H2\n",
      "[Aviso] dt original 0.005≠0.01 en fila 1403 / V\n",
      "[Aviso] dt original 0.005≠0.01 en fila 1404 / H1\n",
      "[Aviso] dt original 0.005≠0.01 en fila 1404 / H2\n",
      "[Aviso] dt original 0.005≠0.01 en fila 1404 / V\n",
      "[Aviso] dt original 0.005≠0.01 en fila 1405 / H1\n",
      "[Aviso] dt original 0.005≠0.01 en fila 1405 / H2\n",
      "[Aviso] dt original 0.005≠0.01 en fila 1405 / V\n",
      "[Aviso] dt original 0.005≠0.01 en fila 1406 / H1\n",
      "[Aviso] dt original 0.005≠0.01 en fila 1406 / H2\n",
      "[Aviso] dt original 0.005≠0.01 en fila 1406 / V\n",
      "[Aviso] dt original 0.005≠0.01 en fila 1407 / H1\n",
      "[Aviso] dt original 0.005≠0.01 en fila 1407 / H2\n",
      "[Aviso] dt original 0.005≠0.01 en fila 1407 / V\n",
      "[Aviso] dt original 0.005≠0.01 en fila 1408 / H1\n",
      "[Aviso] dt original 0.005≠0.01 en fila 1408 / H2\n",
      "[Aviso] dt original 0.005≠0.01 en fila 1408 / V\n",
      "[Aviso] dt original 0.005≠0.01 en fila 1409 / H1\n",
      "[Aviso] dt original 0.005≠0.01 en fila 1409 / H2\n",
      "[Aviso] dt original 0.005≠0.01 en fila 1409 / V\n",
      "[Aviso] dt original 0.005≠0.01 en fila 1410 / H1\n",
      "[Aviso] dt original 0.005≠0.01 en fila 1410 / H2\n",
      "[Aviso] dt original 0.005≠0.01 en fila 1410 / V\n",
      "[Aviso] dt original 0.005≠0.01 en fila 1411 / H1\n",
      "[Aviso] dt original 0.005≠0.01 en fila 1411 / H2\n",
      "[Aviso] dt original 0.005≠0.01 en fila 1411 / V\n",
      "[Aviso] dt original 0.005≠0.01 en fila 1412 / H1\n",
      "[Aviso] dt original 0.005≠0.01 en fila 1412 / H2\n",
      "[Aviso] dt original 0.005≠0.01 en fila 1412 / V\n",
      "[Aviso] dt original 0.005≠0.01 en fila 1413 / H1\n",
      "[Aviso] dt original 0.005≠0.01 en fila 1413 / H2\n",
      "[Aviso] dt original 0.005≠0.01 en fila 1413 / V\n",
      "[Aviso] dt original 0.005≠0.01 en fila 1414 / H1\n",
      "[Aviso] dt original 0.005≠0.01 en fila 1414 / H2\n",
      "[Aviso] dt original 0.005≠0.01 en fila 1414 / V\n",
      "[Aviso] dt original 0.005≠0.01 en fila 1415 / H1\n",
      "[Aviso] dt original 0.005≠0.01 en fila 1415 / H2\n",
      "[Aviso] dt original 0.005≠0.01 en fila 1415 / V\n",
      "[Aviso] dt original 0.005≠0.01 en fila 1416 / H1\n",
      "[Aviso] dt original 0.005≠0.01 en fila 1416 / H2\n",
      "[Aviso] dt original 0.005≠0.01 en fila 1416 / V\n",
      "[Aviso] dt original 0.005≠0.01 en fila 1417 / H1\n",
      "[Aviso] dt original 0.005≠0.01 en fila 1417 / H2\n",
      "[Aviso] dt original 0.005≠0.01 en fila 1417 / V\n",
      "[Aviso] dt original 0.005≠0.01 en fila 1418 / H1\n",
      "[Aviso] dt original 0.005≠0.01 en fila 1418 / H2\n",
      "[Aviso] dt original 0.005≠0.01 en fila 1418 / V\n",
      "[Aviso] dt original 0.005≠0.01 en fila 1424 / H1\n",
      "[Aviso] dt original 0.005≠0.01 en fila 1424 / H2\n",
      "[Aviso] dt original 0.005≠0.01 en fila 1424 / V\n",
      "[Aviso] dt original 0.005≠0.01 en fila 1425 / H1\n",
      "[Aviso] dt original 0.005≠0.01 en fila 1425 / H2\n",
      "[Aviso] dt original 0.005≠0.01 en fila 1425 / V\n",
      "[Aviso] dt original 0.005≠0.01 en fila 1427 / H1\n",
      "[Aviso] dt original 0.005≠0.01 en fila 1427 / H2\n",
      "[Aviso] dt original 0.005≠0.01 en fila 1427 / V\n",
      "[Aviso] dt original 0.005≠0.01 en fila 1428 / H1\n",
      "[Aviso] dt original 0.005≠0.01 en fila 1428 / H2\n",
      "[Aviso] dt original 0.005≠0.01 en fila 1428 / V\n",
      "[Aviso] dt original 0.005≠0.01 en fila 1433 / H1\n",
      "[Aviso] dt original 0.005≠0.01 en fila 1433 / H2\n",
      "[Aviso] dt original 0.005≠0.01 en fila 1433 / V\n",
      "[Aviso] dt original 0.005≠0.01 en fila 1435 / H1\n",
      "[Aviso] dt original 0.005≠0.01 en fila 1435 / H2\n",
      "[Aviso] dt original 0.005≠0.01 en fila 1435 / V\n",
      "[Aviso] dt original 0.005≠0.01 en fila 1436 / H1\n",
      "[Aviso] dt original 0.005≠0.01 en fila 1436 / H2\n",
      "[Aviso] dt original 0.005≠0.01 en fila 1436 / V\n",
      "[Aviso] dt original 0.005≠0.01 en fila 1437 / H1\n",
      "[Aviso] dt original 0.005≠0.01 en fila 1437 / H2\n",
      "[Aviso] dt original 0.005≠0.01 en fila 1437 / V\n",
      "[Aviso] dt original 0.02≠0.01 en fila 1438 / H1\n",
      "[Aviso] dt original 0.02≠0.01 en fila 1438 / H2\n",
      "[Aviso] dt original 0.02≠0.01 en fila 1438 / V\n",
      "[Aviso] dt original 0.005≠0.01 en fila 1450 / H1\n",
      "[Aviso] dt original 0.005≠0.01 en fila 1450 / H2\n",
      "[Aviso] dt original 0.005≠0.01 en fila 1450 / V\n",
      "[Aviso] dt original 0.005≠0.01 en fila 1451 / H1\n",
      "[Aviso] dt original 0.005≠0.01 en fila 1451 / H2\n",
      "[Aviso] dt original 0.005≠0.01 en fila 1451 / V\n",
      "[Aviso] dt original 0.005≠0.01 en fila 1452 / H1\n",
      "[Aviso] dt original 0.005≠0.01 en fila 1452 / H2\n",
      "[Aviso] dt original 0.005≠0.01 en fila 1452 / V\n",
      "[Aviso] dt original 0.005≠0.01 en fila 1453 / H1\n",
      "[Aviso] dt original 0.005≠0.01 en fila 1453 / H2\n",
      "[Aviso] dt original 0.005≠0.01 en fila 1453 / V\n",
      "[Aviso] dt original 0.005≠0.01 en fila 1454 / H1\n",
      "[Aviso] dt original 0.005≠0.01 en fila 1454 / H2\n",
      "[Aviso] dt original 0.005≠0.01 en fila 1454 / V\n",
      "[Aviso] dt original 0.005≠0.01 en fila 1455 / H1\n",
      "[Aviso] dt original 0.005≠0.01 en fila 1455 / H2\n",
      "[Aviso] dt original 0.005≠0.01 en fila 1455 / V\n",
      "[Aviso] dt original 0.005≠0.01 en fila 1456 / H1\n",
      "[Aviso] dt original 0.005≠0.01 en fila 1456 / H2\n",
      "[Aviso] dt original 0.005≠0.01 en fila 1456 / V\n",
      "[Aviso] dt original 0.005≠0.01 en fila 1457 / H1\n",
      "[Aviso] dt original 0.005≠0.01 en fila 1457 / H2\n",
      "[Aviso] dt original 0.005≠0.01 en fila 1457 / V\n",
      "[Aviso] dt original 0.005≠0.01 en fila 1458 / H1\n",
      "[Aviso] dt original 0.005≠0.01 en fila 1458 / H2\n",
      "[Aviso] dt original 0.005≠0.01 en fila 1458 / V\n",
      "[Aviso] dt original 0.005≠0.01 en fila 1459 / H1\n",
      "[Aviso] dt original 0.005≠0.01 en fila 1459 / H2\n",
      "[Aviso] dt original 0.005≠0.01 en fila 1459 / V\n",
      "[Aviso] dt original 0.005≠0.01 en fila 1460 / H1\n",
      "[Aviso] dt original 0.005≠0.01 en fila 1460 / H2\n",
      "[Aviso] dt original 0.005≠0.01 en fila 1460 / V\n",
      "[Aviso] dt original 0.005≠0.01 en fila 1461 / H1\n",
      "[Aviso] dt original 0.005≠0.01 en fila 1461 / H2\n",
      "[Aviso] dt original 0.005≠0.01 en fila 1461 / V\n",
      "[Aviso] dt original 0.005≠0.01 en fila 1462 / H1\n",
      "[Aviso] dt original 0.005≠0.01 en fila 1462 / H2\n",
      "[Aviso] dt original 0.005≠0.01 en fila 1462 / V\n",
      "[Aviso] dt original 0.005≠0.01 en fila 1463 / H1\n",
      "[Aviso] dt original 0.005≠0.01 en fila 1463 / H2\n",
      "[Aviso] dt original 0.005≠0.01 en fila 1463 / V\n",
      "[Aviso] dt original 0.005≠0.01 en fila 1464 / H1\n",
      "[Aviso] dt original 0.005≠0.01 en fila 1464 / H2\n",
      "[Aviso] dt original 0.005≠0.01 en fila 1464 / V\n",
      "[Aviso] dt original 0.005≠0.01 en fila 1465 / H1\n",
      "[Aviso] dt original 0.005≠0.01 en fila 1465 / H2\n",
      "[Aviso] dt original 0.005≠0.01 en fila 1465 / V\n",
      "[Aviso] dt original 0.005≠0.01 en fila 1466 / H1\n",
      "[Aviso] dt original 0.005≠0.01 en fila 1466 / H2\n",
      "[Aviso] dt original 0.005≠0.01 en fila 1466 / V\n",
      "[Aviso] dt original 0.005≠0.01 en fila 1467 / H1\n",
      "[Aviso] dt original 0.005≠0.01 en fila 1467 / H2\n",
      "[Aviso] dt original 0.005≠0.01 en fila 1467 / V\n",
      "[Aviso] dt original 0.005≠0.01 en fila 1468 / H1\n",
      "[Aviso] dt original 0.005≠0.01 en fila 1468 / H2\n",
      "[Aviso] dt original 0.005≠0.01 en fila 1468 / V\n",
      "[Aviso] dt original 0.005≠0.01 en fila 1469 / H1\n",
      "[Aviso] dt original 0.005≠0.01 en fila 1469 / H2\n",
      "[Aviso] dt original 0.005≠0.01 en fila 1469 / V\n",
      "[Aviso] dt original 0.005≠0.01 en fila 1470 / H1\n",
      "[Aviso] dt original 0.005≠0.01 en fila 1470 / H2\n",
      "[Aviso] dt original 0.005≠0.01 en fila 1470 / V\n",
      "[Aviso] dt original 0.005≠0.01 en fila 1471 / H1\n",
      "[Aviso] dt original 0.005≠0.01 en fila 1471 / H2\n",
      "[Aviso] dt original 0.005≠0.01 en fila 1471 / V\n",
      "[Aviso] dt original 0.005≠0.01 en fila 1472 / H1\n",
      "[Aviso] dt original 0.005≠0.01 en fila 1472 / H2\n",
      "[Aviso] dt original 0.005≠0.01 en fila 1472 / V\n",
      "[Aviso] dt original 0.005≠0.01 en fila 1473 / H1\n",
      "[Aviso] dt original 0.005≠0.01 en fila 1473 / H2\n",
      "[Aviso] dt original 0.005≠0.01 en fila 1473 / V\n",
      "[Aviso] dt original 0.005≠0.01 en fila 1474 / H1\n",
      "[Aviso] dt original 0.005≠0.01 en fila 1474 / H2\n",
      "[Aviso] dt original 0.005≠0.01 en fila 1474 / V\n",
      "[Aviso] dt original 0.005≠0.01 en fila 1475 / H1\n",
      "[Aviso] dt original 0.005≠0.01 en fila 1475 / H2\n",
      "[Aviso] dt original 0.005≠0.01 en fila 1475 / V\n",
      "[Aviso] dt original 0.005≠0.01 en fila 1476 / H1\n",
      "[Aviso] dt original 0.005≠0.01 en fila 1476 / H2\n",
      "[Aviso] dt original 0.005≠0.01 en fila 1476 / V\n",
      "[Aviso] dt original 0.005≠0.01 en fila 1477 / H1\n",
      "[Aviso] dt original 0.005≠0.01 en fila 1477 / H2\n",
      "[Aviso] dt original 0.005≠0.01 en fila 1477 / V\n",
      "[Aviso] dt original 0.005≠0.01 en fila 1478 / H1\n",
      "[Aviso] dt original 0.005≠0.01 en fila 1478 / H2\n",
      "[Aviso] dt original 0.005≠0.01 en fila 1478 / V\n",
      "[Aviso] dt original 0.005≠0.01 en fila 1479 / H1\n",
      "[Aviso] dt original 0.005≠0.01 en fila 1479 / H2\n",
      "[Aviso] dt original 0.005≠0.01 en fila 1479 / V\n",
      "[Aviso] dt original 0.005≠0.01 en fila 1480 / H1\n",
      "[Aviso] dt original 0.005≠0.01 en fila 1480 / H2\n",
      "[Aviso] dt original 0.005≠0.01 en fila 1480 / V\n",
      "[Aviso] dt original 0.005≠0.01 en fila 1481 / H1\n",
      "[Aviso] dt original 0.005≠0.01 en fila 1481 / H2\n",
      "[Aviso] dt original 0.005≠0.01 en fila 1481 / V\n",
      "[Aviso] dt original 0.0078≠0.01 en fila 1482 / H1\n",
      "[Aviso] dt original 0.0078≠0.01 en fila 1482 / H2\n",
      "[Aviso] dt original 0.0078≠0.01 en fila 1482 / V\n",
      "[Aviso] dt original 0.0078≠0.01 en fila 1483 / H1\n",
      "[Aviso] dt original 0.0078≠0.01 en fila 1483 / H2\n",
      "[Aviso] dt original 0.0078≠0.01 en fila 1483 / V\n",
      "[Aviso] dt original 0.0078≠0.01 en fila 1484 / H1\n",
      "[Aviso] dt original 0.0078≠0.01 en fila 1484 / H2\n",
      "[Aviso] dt original 0.0078≠0.01 en fila 1484 / V\n",
      "[Aviso] dt original 0.02≠0.01 en fila 1485 / H1\n",
      "[Aviso] dt original 0.02≠0.01 en fila 1485 / H2\n",
      "[Aviso] dt original 0.02≠0.01 en fila 1485 / V\n",
      "[Aviso] dt original 0.02≠0.01 en fila 1486 / H1\n",
      "[Aviso] dt original 0.02≠0.01 en fila 1486 / H2\n",
      "[Aviso] dt original 0.02≠0.01 en fila 1486 / V\n",
      "[Aviso] dt original 0.02≠0.01 en fila 1487 / H1\n",
      "[Aviso] dt original 0.02≠0.01 en fila 1487 / H2\n",
      "[Aviso] dt original 0.02≠0.01 en fila 1487 / V\n",
      "[Aviso] dt original 0.02≠0.01 en fila 1488 / H1\n",
      "[Aviso] dt original 0.02≠0.01 en fila 1488 / H2\n",
      "[Aviso] dt original 0.02≠0.01 en fila 1488 / V\n",
      "[Aviso] dt original 0.02≠0.01 en fila 1489 / H1\n",
      "[Aviso] dt original 0.02≠0.01 en fila 1489 / H2\n",
      "[Aviso] dt original 0.02≠0.01 en fila 1489 / V\n",
      "[Aviso] dt original 0.02≠0.01 en fila 1490 / H1\n",
      "[Aviso] dt original 0.02≠0.01 en fila 1490 / H2\n",
      "[Aviso] dt original 0.02≠0.01 en fila 1490 / V\n",
      "[Aviso] dt original 0.02≠0.01 en fila 1491 / H1\n",
      "[Aviso] dt original 0.02≠0.01 en fila 1491 / H2\n",
      "[Aviso] dt original 0.02≠0.01 en fila 1491 / V\n",
      "[Aviso] dt original 0.02≠0.01 en fila 1496 / H1\n",
      "[Aviso] dt original 0.02≠0.01 en fila 1496 / H2\n",
      "[Aviso] dt original 0.02≠0.01 en fila 1496 / V\n",
      "[Aviso] dt original 0.005≠0.01 en fila 1498 / H1\n",
      "[Aviso] dt original 0.005≠0.01 en fila 1498 / H2\n",
      "[Aviso] dt original 0.005≠0.01 en fila 1498 / V\n",
      "[Aviso] dt original 0.005≠0.01 en fila 1499 / H1\n",
      "[Aviso] dt original 0.005≠0.01 en fila 1499 / H2\n",
      "[Aviso] dt original 0.005≠0.01 en fila 1499 / V\n",
      "[Aviso] dt original 0.02≠0.01 en fila 1502 / H1\n",
      "[Aviso] dt original 0.02≠0.01 en fila 1502 / H2\n",
      "[Aviso] dt original 0.02≠0.01 en fila 1502 / V\n",
      "[Aviso] dt original 0.02≠0.01 en fila 1503 / H1\n",
      "[Aviso] dt original 0.02≠0.01 en fila 1503 / H2\n",
      "[Aviso] dt original 0.02≠0.01 en fila 1503 / V\n",
      "[Aviso] dt original 0.02≠0.01 en fila 1504 / H1\n",
      "[Aviso] dt original 0.02≠0.01 en fila 1504 / H2\n",
      "[Aviso] dt original 0.02≠0.01 en fila 1504 / V\n",
      "[Aviso] dt original 0.02≠0.01 en fila 1505 / H1\n",
      "[Aviso] dt original 0.02≠0.01 en fila 1505 / H2\n",
      "[Aviso] dt original 0.02≠0.01 en fila 1505 / V\n",
      "[Aviso] dt original 0.02≠0.01 en fila 1506 / H1\n",
      "[Aviso] dt original 0.02≠0.01 en fila 1506 / H2\n",
      "[Aviso] dt original 0.02≠0.01 en fila 1506 / V\n",
      "[Aviso] dt original 0.02≠0.01 en fila 1507 / H1\n",
      "[Aviso] dt original 0.02≠0.01 en fila 1507 / H2\n",
      "[Aviso] dt original 0.02≠0.01 en fila 1507 / V\n",
      "[Aviso] dt original 0.02≠0.01 en fila 1509 / H1\n",
      "[Aviso] dt original 0.02≠0.01 en fila 1509 / H2\n",
      "[Aviso] dt original 0.02≠0.01 en fila 1509 / V\n",
      "[Aviso] dt original 0.02≠0.01 en fila 1511 / H1\n",
      "[Aviso] dt original 0.02≠0.01 en fila 1511 / H2\n",
      "[Aviso] dt original 0.02≠0.01 en fila 1511 / V\n",
      "[Aviso] dt original 0.02≠0.01 en fila 1513 / H1\n",
      "[Aviso] dt original 0.02≠0.01 en fila 1513 / H2\n",
      "[Aviso] dt original 0.02≠0.01 en fila 1513 / V\n",
      "[Aviso] dt original 0.02≠0.01 en fila 1515 / H1\n",
      "[Aviso] dt original 0.02≠0.01 en fila 1515 / H2\n",
      "[Aviso] dt original 0.02≠0.01 en fila 1515 / V\n",
      "[Aviso] dt original 0.005≠0.01 en fila 1516 / H1\n",
      "[Aviso] dt original 0.005≠0.01 en fila 1516 / H2\n",
      "[Aviso] dt original 0.005≠0.01 en fila 1516 / V\n",
      "[Aviso] dt original 0.005≠0.01 en fila 1519 / H1\n",
      "[Aviso] dt original 0.005≠0.01 en fila 1519 / H2\n",
      "[Aviso] dt original 0.005≠0.01 en fila 1519 / V\n",
      "[Aviso] dt original 0.005≠0.01 en fila 1520 / H1\n",
      "[Aviso] dt original 0.005≠0.01 en fila 1520 / H2\n",
      "[Aviso] dt original 0.005≠0.01 en fila 1520 / V\n",
      "[Aviso] dt original 0.005≠0.01 en fila 1521 / H1\n",
      "[Aviso] dt original 0.005≠0.01 en fila 1521 / H2\n",
      "[Aviso] dt original 0.005≠0.01 en fila 1521 / V\n",
      "[Aviso] dt original 0.005≠0.01 en fila 1522 / H1\n",
      "[Aviso] dt original 0.005≠0.01 en fila 1522 / H2\n",
      "[Aviso] dt original 0.005≠0.01 en fila 1522 / V\n",
      "[Aviso] dt original 0.005≠0.01 en fila 1523 / H1\n",
      "[Aviso] dt original 0.005≠0.01 en fila 1523 / H2\n",
      "[Aviso] dt original 0.005≠0.01 en fila 1523 / V\n",
      "[Aviso] dt original 0.005≠0.01 en fila 1524 / H1\n",
      "[Aviso] dt original 0.005≠0.01 en fila 1524 / H2\n",
      "[Aviso] dt original 0.005≠0.01 en fila 1524 / V\n",
      "[Aviso] dt original 0.005≠0.01 en fila 1525 / H1\n",
      "[Aviso] dt original 0.005≠0.01 en fila 1525 / H2\n",
      "[Aviso] dt original 0.005≠0.01 en fila 1525 / V\n",
      "[Aviso] dt original 0.005≠0.01 en fila 1526 / H1\n",
      "[Aviso] dt original 0.005≠0.01 en fila 1526 / H2\n",
      "[Aviso] dt original 0.005≠0.01 en fila 1526 / V\n",
      "[Aviso] dt original 0.005≠0.01 en fila 1527 / H1\n",
      "[Aviso] dt original 0.005≠0.01 en fila 1527 / H2\n",
      "[Aviso] dt original 0.005≠0.01 en fila 1527 / V\n",
      "[Aviso] dt original 0.004≠0.01 en fila 1530 / H1\n",
      "[Aviso] dt original 0.004≠0.01 en fila 1530 / H2\n",
      "[Aviso] dt original 0.004≠0.01 en fila 1530 / V\n",
      "[Aviso] dt original 0.004≠0.01 en fila 1531 / H1\n",
      "[Aviso] dt original 0.004≠0.01 en fila 1531 / H2\n",
      "[Aviso] dt original 0.004≠0.01 en fila 1531 / V\n",
      "[Aviso] dt original 0.005≠0.01 en fila 1532 / H1\n",
      "[Aviso] dt original 0.005≠0.01 en fila 1532 / H2\n",
      "[Aviso] dt original 0.005≠0.01 en fila 1532 / V\n",
      "[Aviso] dt original 0.005≠0.01 en fila 1533 / H1\n",
      "[Aviso] dt original 0.005≠0.01 en fila 1533 / H2\n",
      "[Aviso] dt original 0.005≠0.01 en fila 1533 / V\n",
      "[Aviso] dt original 0.005≠0.01 en fila 1534 / H1\n",
      "[Aviso] dt original 0.005≠0.01 en fila 1534 / H2\n",
      "[Aviso] dt original 0.005≠0.01 en fila 1534 / V\n",
      "[Aviso] dt original 0.004≠0.01 en fila 1535 / H1\n",
      "[Aviso] dt original 0.004≠0.01 en fila 1535 / H2\n",
      "[Aviso] dt original 0.004≠0.01 en fila 1535 / V\n",
      "[Aviso] dt original 0.005≠0.01 en fila 1536 / H1\n",
      "[Aviso] dt original 0.005≠0.01 en fila 1536 / H2\n",
      "[Aviso] dt original 0.005≠0.01 en fila 1536 / V\n",
      "[Aviso] dt original 0.005≠0.01 en fila 1537 / H1\n",
      "[Aviso] dt original 0.005≠0.01 en fila 1537 / H2\n",
      "[Aviso] dt original 0.005≠0.01 en fila 1537 / V\n",
      "[Aviso] dt original 0.005≠0.01 en fila 1538 / H1\n",
      "[Aviso] dt original 0.005≠0.01 en fila 1538 / H2\n",
      "[Aviso] dt original 0.005≠0.01 en fila 1538 / V\n",
      "[Aviso] dt original 0.005≠0.01 en fila 1539 / H1\n",
      "[Aviso] dt original 0.005≠0.01 en fila 1539 / H2\n",
      "[Aviso] dt original 0.005≠0.01 en fila 1539 / V\n",
      "[Aviso] dt original 0.005≠0.01 en fila 1540 / H1\n",
      "[Aviso] dt original 0.005≠0.01 en fila 1540 / H2\n",
      "[Aviso] dt original 0.005≠0.01 en fila 1540 / V\n",
      "[Aviso] dt original 0.005≠0.01 en fila 1541 / H1\n",
      "[Aviso] dt original 0.005≠0.01 en fila 1541 / H2\n",
      "[Aviso] dt original 0.005≠0.01 en fila 1541 / V\n",
      "[Aviso] dt original 0.004≠0.01 en fila 1542 / H1\n",
      "[Aviso] dt original 0.004≠0.01 en fila 1542 / H2\n",
      "[Aviso] dt original 0.004≠0.01 en fila 1542 / V\n",
      "[Aviso] dt original 0.004≠0.01 en fila 1543 / H1\n",
      "[Aviso] dt original 0.004≠0.01 en fila 1543 / H2\n",
      "[Aviso] dt original 0.004≠0.01 en fila 1543 / V\n",
      "[Aviso] dt original 0.004≠0.01 en fila 1544 / H1\n",
      "[Aviso] dt original 0.004≠0.01 en fila 1544 / H2\n",
      "[Aviso] dt original 0.004≠0.01 en fila 1544 / V\n",
      "[Aviso] dt original 0.004≠0.01 en fila 1545 / H1\n",
      "[Aviso] dt original 0.004≠0.01 en fila 1545 / H2\n",
      "[Aviso] dt original 0.004≠0.01 en fila 1545 / V\n",
      "[Aviso] dt original 0.004≠0.01 en fila 1546 / H1\n",
      "[Aviso] dt original 0.004≠0.01 en fila 1546 / H2\n",
      "[Aviso] dt original 0.004≠0.01 en fila 1546 / V\n",
      "[Aviso] dt original 0.005≠0.01 en fila 1547 / H1\n",
      "[Aviso] dt original 0.005≠0.01 en fila 1547 / H2\n",
      "[Aviso] dt original 0.005≠0.01 en fila 1547 / V\n",
      "[Aviso] dt original 0.004≠0.01 en fila 1548 / H1\n",
      "[Aviso] dt original 0.004≠0.01 en fila 1548 / H2\n",
      "[Aviso] dt original 0.004≠0.01 en fila 1548 / V\n",
      "[Aviso] dt original 0.004≠0.01 en fila 1549 / H1\n",
      "[Aviso] dt original 0.004≠0.01 en fila 1549 / H2\n",
      "[Aviso] dt original 0.004≠0.01 en fila 1549 / V\n",
      "[Aviso] dt original 0.004≠0.01 en fila 1550 / H1\n",
      "[Aviso] dt original 0.004≠0.01 en fila 1550 / H2\n",
      "[Aviso] dt original 0.004≠0.01 en fila 1550 / V\n",
      "[Aviso] dt original 0.005≠0.01 en fila 1551 / H1\n",
      "[Aviso] dt original 0.005≠0.01 en fila 1551 / H2\n",
      "[Aviso] dt original 0.005≠0.01 en fila 1551 / V\n",
      "[Aviso] dt original 0.005≠0.01 en fila 1552 / H1\n",
      "[Aviso] dt original 0.005≠0.01 en fila 1552 / H2\n",
      "[Aviso] dt original 0.005≠0.01 en fila 1552 / V\n",
      "[Aviso] dt original 0.005≠0.01 en fila 1553 / H1\n",
      "[Aviso] dt original 0.005≠0.01 en fila 1553 / H2\n",
      "[Aviso] dt original 0.005≠0.01 en fila 1553 / V\n",
      "[Aviso] dt original 0.005≠0.01 en fila 1554 / H1\n",
      "[Aviso] dt original 0.005≠0.01 en fila 1554 / H2\n",
      "[Aviso] dt original 0.005≠0.01 en fila 1554 / V\n",
      "[Aviso] dt original 0.005≠0.01 en fila 1555 / H1\n",
      "[Aviso] dt original 0.005≠0.01 en fila 1555 / H2\n",
      "[Aviso] dt original 0.005≠0.01 en fila 1555 / V\n",
      "[Aviso] dt original 0.005≠0.01 en fila 1556 / H1\n",
      "[Aviso] dt original 0.005≠0.01 en fila 1556 / H2\n",
      "[Aviso] dt original 0.005≠0.01 en fila 1556 / V\n",
      "[Aviso] dt original 0.005≠0.01 en fila 1557 / H1\n",
      "[Aviso] dt original 0.005≠0.01 en fila 1557 / H2\n",
      "[Aviso] dt original 0.005≠0.01 en fila 1557 / V\n",
      "[Aviso] dt original 0.005≠0.01 en fila 1558 / H1\n",
      "[Aviso] dt original 0.005≠0.01 en fila 1558 / H2\n",
      "[Aviso] dt original 0.005≠0.01 en fila 1558 / V\n",
      "[Aviso] dt original 0.005≠0.01 en fila 1559 / H1\n",
      "[Aviso] dt original 0.005≠0.01 en fila 1559 / H2\n",
      "[Aviso] dt original 0.005≠0.01 en fila 1559 / V\n",
      "[Aviso] dt original 0.005≠0.01 en fila 1560 / H1\n",
      "[Aviso] dt original 0.005≠0.01 en fila 1560 / H2\n",
      "[Aviso] dt original 0.005≠0.01 en fila 1560 / V\n",
      "[Aviso] dt original 0.005≠0.01 en fila 1561 / H1\n",
      "[Aviso] dt original 0.005≠0.01 en fila 1561 / H2\n",
      "[Aviso] dt original 0.005≠0.01 en fila 1561 / V\n",
      "[Aviso] dt original 0.005≠0.01 en fila 1562 / H1\n",
      "[Aviso] dt original 0.005≠0.01 en fila 1562 / H2\n",
      "[Aviso] dt original 0.005≠0.01 en fila 1562 / V\n",
      "[Aviso] dt original 0.005≠0.01 en fila 1563 / H1\n",
      "[Aviso] dt original 0.005≠0.01 en fila 1563 / H2\n",
      "[Aviso] dt original 0.005≠0.01 en fila 1563 / V\n",
      "[Aviso] dt original 0.005≠0.01 en fila 1564 / H1\n",
      "[Aviso] dt original 0.005≠0.01 en fila 1564 / H2\n",
      "[Aviso] dt original 0.005≠0.01 en fila 1564 / V\n",
      "[Aviso] dt original 0.004≠0.01 en fila 1565 / H1\n",
      "[Aviso] dt original 0.004≠0.01 en fila 1565 / H2\n",
      "[Aviso] dt original 0.004≠0.01 en fila 1565 / V\n",
      "[Aviso] dt original 0.005≠0.01 en fila 1566 / H1\n",
      "[Aviso] dt original 0.005≠0.01 en fila 1566 / H2\n",
      "[Aviso] dt original 0.005≠0.01 en fila 1566 / V\n",
      "[Aviso] dt original 0.005≠0.01 en fila 1567 / H1\n",
      "[Aviso] dt original 0.005≠0.01 en fila 1567 / H2\n",
      "[Aviso] dt original 0.005≠0.01 en fila 1567 / V\n",
      "[Aviso] dt original 0.005≠0.01 en fila 1568 / H1\n",
      "[Aviso] dt original 0.005≠0.01 en fila 1568 / H2\n",
      "[Aviso] dt original 0.005≠0.01 en fila 1568 / V\n",
      "[Aviso] dt original 0.004≠0.01 en fila 1569 / H1\n",
      "[Aviso] dt original 0.004≠0.01 en fila 1569 / H2\n",
      "[Aviso] dt original 0.004≠0.01 en fila 1569 / V\n",
      "[Aviso] dt original 0.005≠0.01 en fila 1570 / H1\n",
      "[Aviso] dt original 0.005≠0.01 en fila 1570 / H2\n",
      "[Aviso] dt original 0.005≠0.01 en fila 1570 / V\n",
      "[Aviso] dt original 0.005≠0.01 en fila 1571 / H1\n",
      "[Aviso] dt original 0.005≠0.01 en fila 1571 / H2\n",
      "[Aviso] dt original 0.005≠0.01 en fila 1571 / V\n",
      "[Aviso] dt original 0.005≠0.01 en fila 1572 / H1\n",
      "[Aviso] dt original 0.005≠0.01 en fila 1572 / H2\n",
      "[Aviso] dt original 0.005≠0.01 en fila 1572 / V\n",
      "[Aviso] dt original 0.005≠0.01 en fila 1573 / H1\n",
      "[Aviso] dt original 0.005≠0.01 en fila 1573 / H2\n",
      "[Aviso] dt original 0.005≠0.01 en fila 1573 / V\n",
      "[Aviso] dt original 0.005≠0.01 en fila 1574 / H1\n",
      "[Aviso] dt original 0.005≠0.01 en fila 1574 / H2\n",
      "[Aviso] dt original 0.005≠0.01 en fila 1574 / V\n",
      "[Aviso] dt original 0.005≠0.01 en fila 1575 / H1\n",
      "[Aviso] dt original 0.005≠0.01 en fila 1575 / H2\n",
      "[Aviso] dt original 0.005≠0.01 en fila 1575 / V\n",
      "[Aviso] dt original 0.004≠0.01 en fila 1576 / H1\n",
      "[Aviso] dt original 0.004≠0.01 en fila 1576 / H2\n",
      "[Aviso] dt original 0.004≠0.01 en fila 1576 / V\n",
      "[Aviso] dt original 0.004≠0.01 en fila 1577 / H1\n",
      "[Aviso] dt original 0.004≠0.01 en fila 1577 / H2\n",
      "[Aviso] dt original 0.004≠0.01 en fila 1577 / V\n",
      "[Aviso] dt original 0.004≠0.01 en fila 1578 / H1\n",
      "[Aviso] dt original 0.004≠0.01 en fila 1578 / H2\n",
      "[Aviso] dt original 0.004≠0.01 en fila 1578 / V\n",
      "[Aviso] dt original 0.004≠0.01 en fila 1579 / H1\n",
      "[Aviso] dt original 0.004≠0.01 en fila 1579 / H2\n",
      "[Aviso] dt original 0.004≠0.01 en fila 1579 / V\n",
      "[Aviso] dt original 0.004≠0.01 en fila 1580 / H1\n",
      "[Aviso] dt original 0.004≠0.01 en fila 1580 / H2\n",
      "[Aviso] dt original 0.004≠0.01 en fila 1580 / V\n",
      "[Aviso] dt original 0.004≠0.01 en fila 1581 / H1\n",
      "[Aviso] dt original 0.004≠0.01 en fila 1581 / H2\n",
      "[Aviso] dt original 0.004≠0.01 en fila 1581 / V\n",
      "[Aviso] dt original 0.005≠0.01 en fila 1582 / H1\n",
      "[Aviso] dt original 0.005≠0.01 en fila 1582 / H2\n",
      "[Aviso] dt original 0.005≠0.01 en fila 1582 / V\n",
      "[Aviso] dt original 0.005≠0.01 en fila 1583 / H1\n",
      "[Aviso] dt original 0.005≠0.01 en fila 1583 / H2\n",
      "[Aviso] dt original 0.005≠0.01 en fila 1583 / V\n",
      "[Aviso] dt original 0.004≠0.01 en fila 1584 / H1\n",
      "[Aviso] dt original 0.004≠0.01 en fila 1584 / H2\n",
      "[Aviso] dt original 0.004≠0.01 en fila 1584 / V\n",
      "[Aviso] dt original 0.005≠0.01 en fila 1585 / H1\n",
      "[Aviso] dt original 0.005≠0.01 en fila 1585 / H2\n",
      "[Aviso] dt original 0.005≠0.01 en fila 1585 / V\n",
      "[Aviso] dt original 0.005≠0.01 en fila 1586 / H1\n",
      "[Aviso] dt original 0.005≠0.01 en fila 1586 / H2\n",
      "[Aviso] dt original 0.005≠0.01 en fila 1586 / V\n",
      "[Aviso] dt original 0.005≠0.01 en fila 1587 / H1\n",
      "[Aviso] dt original 0.005≠0.01 en fila 1587 / H2\n",
      "[Aviso] dt original 0.005≠0.01 en fila 1587 / V\n",
      "[Aviso] dt original 0.004≠0.01 en fila 1588 / H1\n",
      "[Aviso] dt original 0.004≠0.01 en fila 1588 / H2\n",
      "[Aviso] dt original 0.004≠0.01 en fila 1588 / V\n",
      "[Aviso] dt original 0.005≠0.01 en fila 1589 / H1\n",
      "[Aviso] dt original 0.005≠0.01 en fila 1589 / H2\n",
      "[Aviso] dt original 0.005≠0.01 en fila 1589 / V\n",
      "[Aviso] dt original 0.005≠0.01 en fila 1590 / H1\n",
      "[Aviso] dt original 0.005≠0.01 en fila 1590 / H2\n",
      "[Aviso] dt original 0.005≠0.01 en fila 1590 / V\n",
      "[Aviso] dt original 0.005≠0.01 en fila 1591 / H1\n",
      "[Aviso] dt original 0.005≠0.01 en fila 1591 / H2\n",
      "[Aviso] dt original 0.005≠0.01 en fila 1591 / V\n",
      "[Aviso] dt original 0.005≠0.01 en fila 1592 / H1\n",
      "[Aviso] dt original 0.005≠0.01 en fila 1592 / H2\n",
      "[Aviso] dt original 0.005≠0.01 en fila 1592 / V\n",
      "[Aviso] dt original 0.005≠0.01 en fila 1593 / H1\n",
      "[Aviso] dt original 0.005≠0.01 en fila 1593 / H2\n",
      "[Aviso] dt original 0.005≠0.01 en fila 1593 / V\n",
      "[Aviso] dt original 0.005≠0.01 en fila 1594 / H1\n",
      "[Aviso] dt original 0.005≠0.01 en fila 1594 / H2\n",
      "[Aviso] dt original 0.005≠0.01 en fila 1594 / V\n",
      "[Aviso] dt original 0.005≠0.01 en fila 1595 / H1\n",
      "[Aviso] dt original 0.005≠0.01 en fila 1595 / H2\n",
      "[Aviso] dt original 0.005≠0.01 en fila 1595 / V\n",
      "[Aviso] dt original 0.004≠0.01 en fila 1596 / H1\n",
      "[Aviso] dt original 0.004≠0.01 en fila 1596 / H2\n",
      "[Aviso] dt original 0.004≠0.01 en fila 1596 / V\n",
      "[Aviso] dt original 0.02≠0.01 en fila 1604 / H1\n",
      "[Aviso] dt original 0.02≠0.01 en fila 1604 / H2\n",
      "[Aviso] dt original 0.02≠0.01 en fila 1604 / V\n",
      "[Aviso] dt original 0.0025≠0.01 en fila 1607 / H1\n",
      "[Aviso] dt original 0.0025≠0.01 en fila 1607 / H2\n",
      "[Aviso] dt original 0.0025≠0.01 en fila 1607 / V\n",
      "[Aviso] dt original 0.0025≠0.01 en fila 1608 / H1\n",
      "[Aviso] dt original 0.0025≠0.01 en fila 1608 / H2\n",
      "[Aviso] dt original 0.0025≠0.01 en fila 1608 / V\n",
      "[Aviso] dt original 0.005≠0.01 en fila 1609 / H1\n",
      "[Aviso] dt original 0.005≠0.01 en fila 1609 / H2\n",
      "[Aviso] dt original 0.005≠0.01 en fila 1609 / V\n",
      "[Aviso] dt original 0.005≠0.01 en fila 1610 / H1\n",
      "[Aviso] dt original 0.005≠0.01 en fila 1610 / H2\n",
      "[Aviso] dt original 0.005≠0.01 en fila 1610 / V\n",
      "[Aviso] dt original 0.005≠0.01 en fila 1611 / H1\n",
      "[Aviso] dt original 0.005≠0.01 en fila 1611 / H2\n",
      "[Aviso] dt original 0.005≠0.01 en fila 1611 / V\n",
      "[Aviso] dt original 0.005≠0.01 en fila 1613 / H1\n",
      "[Aviso] dt original 0.005≠0.01 en fila 1613 / H2\n",
      "[Aviso] dt original 0.005≠0.01 en fila 1613 / V\n",
      "[Aviso] dt original 0.005≠0.01 en fila 1614 / H1\n",
      "[Aviso] dt original 0.005≠0.01 en fila 1614 / H2\n",
      "[Aviso] dt original 0.005≠0.01 en fila 1614 / V\n",
      "[Aviso] dt original 0.005≠0.01 en fila 1615 / H1\n",
      "[Aviso] dt original 0.005≠0.01 en fila 1615 / H2\n",
      "[Aviso] dt original 0.005≠0.01 en fila 1615 / V\n",
      "[Aviso] dt original 0.005≠0.01 en fila 1616 / H1\n",
      "[Aviso] dt original 0.005≠0.01 en fila 1616 / H2\n",
      "[Aviso] dt original 0.005≠0.01 en fila 1616 / V\n",
      "[Aviso] dt original 0.005≠0.01 en fila 1617 / H1\n",
      "[Aviso] dt original 0.005≠0.01 en fila 1617 / H2\n",
      "[Aviso] dt original 0.005≠0.01 en fila 1617 / V\n",
      "[Aviso] dt original 0.005≠0.01 en fila 1618 / H1\n",
      "[Aviso] dt original 0.005≠0.01 en fila 1618 / H2\n",
      "[Aviso] dt original 0.005≠0.01 en fila 1618 / V\n",
      "[Aviso] dt original 0.005≠0.01 en fila 1619 / H1\n",
      "[Aviso] dt original 0.005≠0.01 en fila 1619 / H2\n",
      "[Aviso] dt original 0.005≠0.01 en fila 1619 / V\n",
      "[Aviso] dt original 0.005≠0.01 en fila 1620 / H1\n",
      "[Aviso] dt original 0.005≠0.01 en fila 1620 / H2\n",
      "[Aviso] dt original 0.005≠0.01 en fila 1620 / V\n",
      "[Aviso] dt original 0.005≠0.01 en fila 1621 / H1\n",
      "[Aviso] dt original 0.005≠0.01 en fila 1621 / H2\n",
      "[Aviso] dt original 0.005≠0.01 en fila 1621 / V\n",
      "[Aviso] dt original 0.005≠0.01 en fila 1622 / H1\n",
      "[Aviso] dt original 0.005≠0.01 en fila 1622 / H2\n",
      "[Aviso] dt original 0.005≠0.01 en fila 1622 / V\n",
      "[Aviso] dt original 0.005≠0.01 en fila 1623 / H1\n",
      "[Aviso] dt original 0.005≠0.01 en fila 1623 / H2\n",
      "[Aviso] dt original 0.005≠0.01 en fila 1623 / V\n",
      "[Aviso] dt original 0.005≠0.01 en fila 1624 / H1\n",
      "[Aviso] dt original 0.005≠0.01 en fila 1624 / H2\n",
      "[Aviso] dt original 0.005≠0.01 en fila 1624 / V\n",
      "[Aviso] dt original 0.005≠0.01 en fila 1625 / H1\n",
      "[Aviso] dt original 0.005≠0.01 en fila 1625 / H2\n",
      "[Aviso] dt original 0.005≠0.01 en fila 1625 / V\n",
      "[Aviso] dt original 0.005≠0.01 en fila 1626 / H1\n",
      "[Aviso] dt original 0.005≠0.01 en fila 1626 / H2\n",
      "[Aviso] dt original 0.005≠0.01 en fila 1626 / V\n",
      "[Aviso] dt original 0.005≠0.01 en fila 1627 / H1\n",
      "[Aviso] dt original 0.005≠0.01 en fila 1627 / H2\n",
      "[Aviso] dt original 0.005≠0.01 en fila 1627 / V\n",
      "[Aviso] dt original 0.005≠0.01 en fila 1630 / H1\n",
      "[Aviso] dt original 0.005≠0.01 en fila 1630 / H2\n",
      "[Aviso] dt original 0.005≠0.01 en fila 1630 / V\n",
      "[Aviso] dt original 0.02≠0.01 en fila 1632 / H1\n",
      "[Aviso] dt original 0.02≠0.01 en fila 1632 / H2\n",
      "[Aviso] dt original 0.02≠0.01 en fila 1632 / V\n",
      "[Aviso] dt original 0.02≠0.01 en fila 1633 / H1\n",
      "[Aviso] dt original 0.02≠0.01 en fila 1633 / H2\n",
      "[Aviso] dt original 0.02≠0.01 en fila 1633 / V\n",
      "[Aviso] dt original 0.02≠0.01 en fila 1634 / H1\n",
      "[Aviso] dt original 0.02≠0.01 en fila 1634 / H2\n",
      "[Aviso] dt original 0.02≠0.01 en fila 1634 / V\n",
      "[Aviso] dt original 0.005≠0.01 en fila 1636 / H1\n",
      "[Aviso] dt original 0.005≠0.01 en fila 1636 / H2\n",
      "[Aviso] dt original 0.005≠0.01 en fila 1636 / V\n",
      "[Aviso] dt original 0.005≠0.01 en fila 1637 / H1\n",
      "[Aviso] dt original 0.005≠0.01 en fila 1637 / H2\n",
      "[Aviso] dt original 0.005≠0.01 en fila 1637 / V\n",
      "[Aviso] dt original 0.005≠0.01 en fila 1638 / H1\n",
      "[Aviso] dt original 0.005≠0.01 en fila 1638 / H2\n",
      "[Aviso] dt original 0.005≠0.01 en fila 1638 / V\n",
      "[Aviso] dt original 0.005≠0.01 en fila 1639 / H1\n",
      "[Aviso] dt original 0.005≠0.01 en fila 1639 / H2\n",
      "[Aviso] dt original 0.005≠0.01 en fila 1639 / V\n",
      "[Aviso] dt original 0.004≠0.01 en fila 1640 / H1\n",
      "[Aviso] dt original 0.004≠0.01 en fila 1640 / H2\n",
      "[Aviso] dt original 0.004≠0.01 en fila 1640 / V\n",
      "[Aviso] dt original 0.005≠0.01 en fila 1641 / H1\n",
      "[Aviso] dt original 0.005≠0.01 en fila 1641 / H2\n",
      "[Aviso] dt original 0.005≠0.01 en fila 1641 / V\n",
      "[Aviso] dt original 0.005≠0.01 en fila 1642 / H1\n",
      "[Aviso] dt original 0.005≠0.01 en fila 1642 / H2\n",
      "[Aviso] dt original 0.005≠0.01 en fila 1642 / V\n",
      "[Aviso] dt original 0.005≠0.01 en fila 1643 / H1\n",
      "[Aviso] dt original 0.005≠0.01 en fila 1643 / H2\n",
      "[Aviso] dt original 0.005≠0.01 en fila 1643 / V\n",
      "[Aviso] dt original 0.005≠0.01 en fila 1644 / H1\n",
      "[Aviso] dt original 0.005≠0.01 en fila 1644 / H2\n",
      "[Aviso] dt original 0.005≠0.01 en fila 1644 / V\n",
      "[Aviso] dt original 0.005≠0.01 en fila 1645 / H1\n",
      "[Aviso] dt original 0.005≠0.01 en fila 1645 / H2\n",
      "[Aviso] dt original 0.005≠0.01 en fila 1645 / V\n",
      "[Aviso] dt original 0.005≠0.01 en fila 1646 / H1\n",
      "[Aviso] dt original 0.005≠0.01 en fila 1646 / H2\n",
      "[Aviso] dt original 0.005≠0.01 en fila 1646 / V\n",
      "[Aviso] dt original 0.005≠0.01 en fila 1647 / H1\n",
      "[Aviso] dt original 0.005≠0.01 en fila 1647 / H2\n",
      "[Aviso] dt original 0.005≠0.01 en fila 1647 / V\n",
      "[Aviso] dt original 0.004≠0.01 en fila 1648 / H1\n",
      "[Aviso] dt original 0.004≠0.01 en fila 1648 / H2\n",
      "[Aviso] dt original 0.004≠0.01 en fila 1648 / V\n",
      "[Aviso] dt original 0.005≠0.01 en fila 1649 / H1\n",
      "[Aviso] dt original 0.005≠0.01 en fila 1649 / H2\n",
      "[Aviso] dt original 0.005≠0.01 en fila 1649 / V\n",
      "[Aviso] dt original 0.004≠0.01 en fila 1650 / H1\n",
      "[Aviso] dt original 0.004≠0.01 en fila 1650 / H2\n",
      "[Aviso] dt original 0.004≠0.01 en fila 1650 / V\n",
      "[Aviso] dt original 0.004≠0.01 en fila 1651 / H1\n",
      "[Aviso] dt original 0.004≠0.01 en fila 1651 / H2\n",
      "[Aviso] dt original 0.004≠0.01 en fila 1651 / V\n",
      "[Aviso] dt original 0.004≠0.01 en fila 1652 / H1\n",
      "[Aviso] dt original 0.004≠0.01 en fila 1652 / H2\n",
      "[Aviso] dt original 0.004≠0.01 en fila 1652 / V\n",
      "[Aviso] dt original 0.005≠0.01 en fila 1653 / H1\n",
      "[Aviso] dt original 0.005≠0.01 en fila 1653 / H2\n",
      "[Aviso] dt original 0.005≠0.01 en fila 1653 / V\n",
      "[Aviso] dt original 0.005≠0.01 en fila 1654 / H1\n",
      "[Aviso] dt original 0.005≠0.01 en fila 1654 / H2\n",
      "[Aviso] dt original 0.005≠0.01 en fila 1654 / V\n",
      "[Aviso] dt original 0.005≠0.01 en fila 1655 / H1\n",
      "[Aviso] dt original 0.005≠0.01 en fila 1655 / H2\n",
      "[Aviso] dt original 0.005≠0.01 en fila 1655 / V\n",
      "[Aviso] dt original 0.004≠0.01 en fila 1656 / H1\n",
      "[Aviso] dt original 0.004≠0.01 en fila 1656 / H2\n",
      "[Aviso] dt original 0.004≠0.01 en fila 1656 / V\n",
      "[Aviso] dt original 0.004≠0.01 en fila 1657 / H1\n",
      "[Aviso] dt original 0.004≠0.01 en fila 1657 / H2\n",
      "[Aviso] dt original 0.004≠0.01 en fila 1657 / V\n",
      "[Aviso] dt original 0.005≠0.01 en fila 1658 / H1\n",
      "[Aviso] dt original 0.005≠0.01 en fila 1658 / H2\n",
      "[Aviso] dt original 0.005≠0.01 en fila 1658 / V\n",
      "[Aviso] dt original 0.004≠0.01 en fila 1659 / H1\n",
      "[Aviso] dt original 0.004≠0.01 en fila 1659 / H2\n",
      "[Aviso] dt original 0.004≠0.01 en fila 1659 / V\n",
      "[Aviso] dt original 0.005≠0.01 en fila 1660 / H1\n",
      "[Aviso] dt original 0.005≠0.01 en fila 1660 / H2\n",
      "[Aviso] dt original 0.005≠0.01 en fila 1660 / V\n",
      "[Aviso] dt original 0.005≠0.01 en fila 1661 / H1\n",
      "[Aviso] dt original 0.005≠0.01 en fila 1661 / H2\n",
      "[Aviso] dt original 0.005≠0.01 en fila 1661 / V\n",
      "[Aviso] dt original 0.005≠0.01 en fila 1662 / H1\n",
      "[Aviso] dt original 0.005≠0.01 en fila 1662 / H2\n",
      "[Aviso] dt original 0.005≠0.01 en fila 1662 / V\n",
      "[Aviso] dt original 0.005≠0.01 en fila 1663 / H1\n",
      "[Aviso] dt original 0.005≠0.01 en fila 1663 / H2\n",
      "[Aviso] dt original 0.005≠0.01 en fila 1663 / V\n",
      "[Aviso] dt original 0.005≠0.01 en fila 1664 / H1\n",
      "[Aviso] dt original 0.005≠0.01 en fila 1664 / H2\n",
      "[Aviso] dt original 0.005≠0.01 en fila 1664 / V\n",
      "[Aviso] dt original 0.005≠0.01 en fila 1665 / H1\n",
      "[Aviso] dt original 0.005≠0.01 en fila 1665 / H2\n",
      "[Aviso] dt original 0.005≠0.01 en fila 1665 / V\n",
      "[Aviso] dt original 0.005≠0.01 en fila 1666 / H1\n",
      "[Aviso] dt original 0.005≠0.01 en fila 1666 / H2\n",
      "[Aviso] dt original 0.005≠0.01 en fila 1666 / V\n",
      "[Aviso] dt original 0.005≠0.01 en fila 1667 / H1\n",
      "[Aviso] dt original 0.005≠0.01 en fila 1667 / H2\n",
      "[Aviso] dt original 0.005≠0.01 en fila 1667 / V\n",
      "[Aviso] dt original 0.005≠0.01 en fila 1668 / H1\n",
      "[Aviso] dt original 0.005≠0.01 en fila 1668 / H2\n",
      "[Aviso] dt original 0.005≠0.01 en fila 1668 / V\n",
      "[Aviso] dt original 0.005≠0.01 en fila 1669 / H1\n",
      "[Aviso] dt original 0.005≠0.01 en fila 1669 / H2\n",
      "[Aviso] dt original 0.005≠0.01 en fila 1669 / V\n",
      "[Aviso] dt original 0.004≠0.01 en fila 1670 / H1\n",
      "[Aviso] dt original 0.004≠0.01 en fila 1670 / H2\n",
      "[Aviso] dt original 0.004≠0.01 en fila 1670 / V\n",
      "[Aviso] dt original 0.004≠0.01 en fila 1671 / H1\n",
      "[Aviso] dt original 0.004≠0.01 en fila 1671 / H2\n",
      "[Aviso] dt original 0.004≠0.01 en fila 1671 / V\n",
      "[Aviso] dt original 0.004≠0.01 en fila 1672 / H1\n",
      "[Aviso] dt original 0.004≠0.01 en fila 1672 / H2\n",
      "[Aviso] dt original 0.004≠0.01 en fila 1672 / V\n",
      "[Aviso] dt original 0.004≠0.01 en fila 1673 / H1\n",
      "[Aviso] dt original 0.004≠0.01 en fila 1673 / H2\n",
      "[Aviso] dt original 0.004≠0.01 en fila 1673 / V\n",
      "[Aviso] dt original 0.004≠0.01 en fila 1674 / H1\n",
      "[Aviso] dt original 0.004≠0.01 en fila 1674 / H2\n",
      "[Aviso] dt original 0.004≠0.01 en fila 1674 / V\n",
      "[Aviso] dt original 0.005≠0.01 en fila 1675 / H1\n",
      "[Aviso] dt original 0.005≠0.01 en fila 1675 / H2\n",
      "[Aviso] dt original 0.005≠0.01 en fila 1675 / V\n",
      "[Aviso] dt original 0.005≠0.01 en fila 1676 / H1\n",
      "[Aviso] dt original 0.005≠0.01 en fila 1676 / H2\n",
      "[Aviso] dt original 0.005≠0.01 en fila 1676 / V\n",
      "[Aviso] dt original 0.005≠0.01 en fila 1677 / H1\n",
      "[Aviso] dt original 0.005≠0.01 en fila 1677 / H2\n",
      "[Aviso] dt original 0.005≠0.01 en fila 1677 / V\n",
      "[Aviso] dt original 0.005≠0.01 en fila 1678 / H1\n",
      "[Aviso] dt original 0.005≠0.01 en fila 1678 / H2\n",
      "[Aviso] dt original 0.005≠0.01 en fila 1678 / V\n",
      "[Aviso] dt original 0.005≠0.01 en fila 1679 / H1\n",
      "[Aviso] dt original 0.005≠0.01 en fila 1679 / H2\n",
      "[Aviso] dt original 0.005≠0.01 en fila 1679 / V\n",
      "[Aviso] dt original 0.005≠0.01 en fila 1680 / H1\n",
      "[Aviso] dt original 0.005≠0.01 en fila 1680 / H2\n",
      "[Aviso] dt original 0.005≠0.01 en fila 1680 / V\n",
      "[Aviso] dt original 0.005≠0.01 en fila 1681 / H1\n",
      "[Aviso] dt original 0.005≠0.01 en fila 1681 / H2\n",
      "[Aviso] dt original 0.005≠0.01 en fila 1681 / V\n",
      "[Aviso] dt original 0.005≠0.01 en fila 1682 / H1\n",
      "[Aviso] dt original 0.005≠0.01 en fila 1682 / H2\n",
      "[Aviso] dt original 0.005≠0.01 en fila 1682 / V\n",
      "[Aviso] dt original 0.005≠0.01 en fila 1683 / H1\n",
      "[Aviso] dt original 0.005≠0.01 en fila 1683 / H2\n",
      "[Aviso] dt original 0.005≠0.01 en fila 1683 / V\n",
      "[Aviso] dt original 0.005≠0.01 en fila 1684 / H1\n",
      "[Aviso] dt original 0.005≠0.01 en fila 1684 / H2\n",
      "[Aviso] dt original 0.005≠0.01 en fila 1684 / V\n",
      "[Aviso] dt original 0.005≠0.01 en fila 1685 / H1\n",
      "[Aviso] dt original 0.005≠0.01 en fila 1685 / H2\n",
      "[Aviso] dt original 0.005≠0.01 en fila 1685 / V\n",
      "[Aviso] dt original 0.005≠0.01 en fila 1686 / H1\n",
      "[Aviso] dt original 0.005≠0.01 en fila 1686 / H2\n",
      "[Aviso] dt original 0.005≠0.01 en fila 1686 / V\n",
      "[Aviso] dt original 0.004≠0.01 en fila 1687 / H1\n",
      "[Aviso] dt original 0.004≠0.01 en fila 1687 / H2\n",
      "[Aviso] dt original 0.004≠0.01 en fila 1687 / V\n",
      "[Aviso] dt original 0.004≠0.01 en fila 1688 / H1\n",
      "[Aviso] dt original 0.004≠0.01 en fila 1688 / H2\n",
      "[Aviso] dt original 0.004≠0.01 en fila 1688 / V\n",
      "[Aviso] dt original 0.005≠0.01 en fila 1689 / H1\n",
      "[Aviso] dt original 0.005≠0.01 en fila 1689 / H2\n",
      "[Aviso] dt original 0.005≠0.01 en fila 1689 / V\n",
      "[Aviso] dt original 0.005≠0.01 en fila 1690 / H1\n",
      "[Aviso] dt original 0.005≠0.01 en fila 1690 / H2\n",
      "[Aviso] dt original 0.005≠0.01 en fila 1690 / V\n",
      "[Aviso] dt original 0.005≠0.01 en fila 1691 / H1\n",
      "[Aviso] dt original 0.005≠0.01 en fila 1691 / H2\n",
      "[Aviso] dt original 0.005≠0.01 en fila 1691 / V\n",
      "[Aviso] dt original 0.005≠0.01 en fila 1692 / H1\n",
      "[Aviso] dt original 0.005≠0.01 en fila 1692 / H2\n",
      "[Aviso] dt original 0.005≠0.01 en fila 1692 / V\n",
      "[Aviso] dt original 0.005≠0.01 en fila 1693 / H1\n",
      "[Aviso] dt original 0.005≠0.01 en fila 1693 / H2\n",
      "[Aviso] dt original 0.005≠0.01 en fila 1693 / V\n",
      "[Aviso] dt original 0.005≠0.01 en fila 1694 / H1\n",
      "[Aviso] dt original 0.005≠0.01 en fila 1694 / H2\n",
      "[Aviso] dt original 0.005≠0.01 en fila 1694 / V\n",
      "[Aviso] dt original 0.004≠0.01 en fila 1695 / H1\n",
      "[Aviso] dt original 0.004≠0.01 en fila 1695 / H2\n",
      "[Aviso] dt original 0.004≠0.01 en fila 1695 / V\n"
     ]
    }
   ],
   "source": [
    "df_completo = estandarización(df_completo,\n",
    "                                           comp_cols=('Ruta H1','Ruta H2','Ruta V'),\n",
    "                                           parser=processNGAfile3,dt_obj=0.01)\n",
    "\n"
   ]
  },
  {
   "cell_type": "code",
   "execution_count": 33,
   "metadata": {},
   "outputs": [],
   "source": [
    "def FFT_featuring(aceleracion): \n",
    "\n",
    "    FFT = np.fft.rfft(aceleracion, n=512) \n",
    "    magnitud = np.abs(FFT)\n",
    "\n",
    "    return magnitud"
   ]
  },
  {
   "cell_type": "code",
   "execution_count": 34,
   "metadata": {},
   "outputs": [],
   "source": [
    "import ast\n",
    "df_completo['mag_H1'] = df_completo['Acc_H1_std'].apply(lambda x: FFT_featuring(x))\n",
    "df_completo['mag_H2'] = df_completo['Acc_H2_std'].apply(lambda x: FFT_featuring(x))\n",
    "df_completo['mag_V']  = df_completo['Acc_V_std'].apply(lambda x: FFT_featuring(x))\n",
    "\n",
    "# 3. Concatenar las tres magnitudes en una columna de 'features'\n",
    "df_completo['features_sep'] = df_completo.apply(\n",
    "    lambda r: np.concatenate([r['mag_H1'], r['mag_H2'], r['mag_V']]),\n",
    "    axis=1\n",
    ")\n",
    "\n",
    "#Mientras respetes la consistencia de segmentos, no “se mezclan” físicamente las componentes: H1 nunca aparece donde va H2, porque tus índices delimitarán qué parte del vector pertenece a cada canal. Entender mejor , tal vez sea importante guardar ese orden?"
   ]
  },
  {
   "cell_type": "code",
   "execution_count": 35,
   "metadata": {},
   "outputs": [],
   "source": [
    "df_pre = df_completo.copy()\n",
    "df_pre.drop(columns=[ 'Archivo H2',\n",
    "       'Ruta H2', 'Archivo H1', 'Ruta H1', 'Archivo V', 'Ruta V', 'NPTS_H2',\n",
    "       'DT_H2', 'NPTS_H1', 'DT_H1', 'NPTS_HV', 'DT_HV', 'Acc_H1_std',\n",
    "       'Acc_H2_std', 'Acc_V_std', 'NPTS_common', 'DT_common'], inplace=True)"
   ]
  },
  {
   "cell_type": "code",
   "execution_count": 36,
   "metadata": {},
   "outputs": [
    {
     "name": "stdout",
     "output_type": "stream",
     "text": [
      "Requirement already satisfied: iterative-stratification in /Users/benjaminvaca/.pyenv/versions/3.12.7/lib/python3.12/site-packages (0.1.9)\n",
      "Requirement already satisfied: numpy in /Users/benjaminvaca/.pyenv/versions/3.12.7/lib/python3.12/site-packages (from iterative-stratification) (2.1.2)\n",
      "Requirement already satisfied: scipy in /Users/benjaminvaca/.pyenv/versions/3.12.7/lib/python3.12/site-packages (from iterative-stratification) (1.15.1)\n",
      "Requirement already satisfied: scikit-learn in /Users/benjaminvaca/.pyenv/versions/3.12.7/lib/python3.12/site-packages (from iterative-stratification) (1.6.1)\n",
      "Requirement already satisfied: joblib>=1.2.0 in /Users/benjaminvaca/.pyenv/versions/3.12.7/lib/python3.12/site-packages (from scikit-learn->iterative-stratification) (1.4.2)\n",
      "Requirement already satisfied: threadpoolctl>=3.1.0 in /Users/benjaminvaca/.pyenv/versions/3.12.7/lib/python3.12/site-packages (from scikit-learn->iterative-stratification) (3.5.0)\n",
      "\n",
      "\u001b[1m[\u001b[0m\u001b[34;49mnotice\u001b[0m\u001b[1;39;49m]\u001b[0m\u001b[39;49m A new release of pip is available: \u001b[0m\u001b[31;49m25.0.1\u001b[0m\u001b[39;49m -> \u001b[0m\u001b[32;49m25.1\u001b[0m\n",
      "\u001b[1m[\u001b[0m\u001b[34;49mnotice\u001b[0m\u001b[1;39;49m]\u001b[0m\u001b[39;49m To update, run: \u001b[0m\u001b[32;49mpip install --upgrade pip\u001b[0m\n",
      "Note: you may need to restart the kernel to use updated packages.\n"
     ]
    }
   ],
   "source": [
    "pip install iterative-stratification\n"
   ]
  },
  {
   "cell_type": "code",
   "execution_count": 37,
   "metadata": {},
   "outputs": [],
   "source": [
    "import numpy as np\n",
    "import pandas as pd\n",
    "from iterstrat.ml_stratifiers import MultilabelStratifiedKFold\n",
    "from sklearn.preprocessing import OneHotEncoder"
   ]
  },
  {
   "cell_type": "code",
   "execution_count": 38,
   "metadata": {},
   "outputs": [
    {
     "name": "stdout",
     "output_type": "stream",
     "text": [
      "Training set: 1357 muestras\n",
      "Testing set: 339 muestras\n"
     ]
    }
   ],
   "source": [
    "# Separar la data\n",
    "#X_separado = df_precopy[['mag_H1','mag_H2','mag_V']]\n",
    "\n",
    "X = np.vstack(df_pre['features_sep'].values)  # shape (n_samples, n_feats) #algo esta mal con esto podemos probar despues\n",
    "y_raw = df_pre[['Tipo de evento','Magnitud','Vs30']]\n",
    "\n",
    "\n",
    "mskf = MultilabelStratifiedKFold(n_splits=5, shuffle=True, random_state=42) \n",
    "train_idx, test_idx = next(mskf.split(X, y_raw))\n",
    "X_train, X_test = X[train_idx], X[test_idx]\n",
    "y_train, y_test = y_raw.iloc[train_idx], y_raw.iloc[test_idx]\n",
    "\n",
    "print(f\"Training set: {X_train.shape[0]} muestras\") \n",
    "print(f\"Testing set: {X_test.shape[0]} muestras\")"
   ]
  },
  {
   "cell_type": "code",
   "execution_count": 39,
   "metadata": {},
   "outputs": [],
   "source": [
    "# One hot encoding\n",
    "from sklearn.preprocessing import OneHotEncoder, LabelEncoder\n",
    "\n",
    "encoder = OneHotEncoder(sparse_output=False) \n",
    "\n",
    "y_trainOHE = encoder.fit_transform(y_train)\n",
    "y_testOHE = encoder.transform(y_test)\n"
   ]
  },
  {
   "cell_type": "code",
   "execution_count": 40,
   "metadata": {},
   "outputs": [],
   "source": [
    "import numpy as np\n",
    "from scipy.interpolate import interp1d\n",
    "\n",
    "def normalizar_frecuencia_muestreo(tiempo, aceleracion, dt_obj=0.01):\n",
    "    t0, t1 = tiempo[0], tiempo[-1]\n",
    "    t_new   = np.arange(t0, t1, dt_obj)\n",
    "    f       = interp1d(tiempo, aceleracion,\n",
    "                       kind='linear',\n",
    "                       fill_value='extrapolate')\n",
    "    acc_new = f(t_new)\n",
    "    return t_new, acc_new"
   ]
  },
  {
   "cell_type": "code",
   "execution_count": 41,
   "metadata": {},
   "outputs": [],
   "source": [
    "\n",
    "def estandarización(df, comp_cols=('Ruta H1','Ruta H2','Ruta V'),\n",
    "                          parser=processNGAfile3,\n",
    "                          dt_obj=0.01):\n",
    "\n",
    "    for label in ['H1','H2','V']:\n",
    "        df[f'Acc_{label}_std'] = None\n",
    "    df['NPTS_common'] = None\n",
    "    df['DT_common']   = None\n",
    "\n",
    "    # 2) Recorre cada evento (fila) de df\n",
    "    for idx, row in df.iterrows():\n",
    "        remuestreos = {}\n",
    "\n",
    "        # 2a) Leer y remuestrear\n",
    "        for label, col in zip(['H1','H2','V'], comp_cols):\n",
    "            npts, dt, tiempo, acc = parser(row[col])\n",
    "            # avisar si el dt original no es el esperado\n",
    "            if abs(dt - dt_obj) > 1e-8:\n",
    "                print(f\"[Aviso] dt original {dt}≠{dt_obj} en fila {idx} / {label}\")\n",
    "            # remuestreo\n",
    "            _, acc_norm = normalizar_frecuencia_muestreo(tiempo, acc, dt_obj=dt_obj)\n",
    "            remuestreos[label] = acc_norm\n",
    "\n",
    "        # 2b) Determinar longitud mínima común\n",
    "        min_len = min(len(a) for a in remuestreos.values())\n",
    "        df.at[idx, 'NPTS_common'] = min_len\n",
    "        df.at[idx, 'DT_common']   = dt_obj\n",
    "\n",
    "        # 2c) Truncar y guardar en df\n",
    "        for label in ['H1','H2','V']:\n",
    "            df.at[idx, f'Acc_{label}_std'] = remuestreos[label][:min_len].tolist()\n",
    "\n",
    "    return df"
   ]
  },
  {
   "cell_type": "code",
   "execution_count": 42,
   "metadata": {},
   "outputs": [
    {
     "name": "stdout",
     "output_type": "stream",
     "text": [
      "Requirement already satisfied: lightning in /Users/benjaminvaca/.pyenv/versions/3.12.7/lib/python3.12/site-packages (2.5.1)\n",
      "Requirement already satisfied: PyYAML<8.0,>=5.4 in /Users/benjaminvaca/.pyenv/versions/3.12.7/lib/python3.12/site-packages (from lightning) (6.0.2)\n",
      "Requirement already satisfied: fsspec<2026.0,>=2022.5.0 in /Users/benjaminvaca/.pyenv/versions/3.12.7/lib/python3.12/site-packages (from fsspec[http]<2026.0,>=2022.5.0->lightning) (2024.10.0)\n",
      "Requirement already satisfied: lightning-utilities<2.0,>=0.10.0 in /Users/benjaminvaca/.pyenv/versions/3.12.7/lib/python3.12/site-packages (from lightning) (0.14.3)\n",
      "Requirement already satisfied: packaging<25.0,>=20.0 in /Users/benjaminvaca/.pyenv/versions/3.12.7/lib/python3.12/site-packages (from lightning) (24.1)\n",
      "Requirement already satisfied: torch<4.0,>=2.1.0 in /Users/benjaminvaca/.pyenv/versions/3.12.7/lib/python3.12/site-packages (from lightning) (2.7.0)\n",
      "Requirement already satisfied: torchmetrics<3.0,>=0.7.0 in /Users/benjaminvaca/.pyenv/versions/3.12.7/lib/python3.12/site-packages (from lightning) (1.7.1)\n",
      "Requirement already satisfied: tqdm<6.0,>=4.57.0 in /Users/benjaminvaca/.pyenv/versions/3.12.7/lib/python3.12/site-packages (from lightning) (4.67.1)\n",
      "Requirement already satisfied: typing-extensions<6.0,>=4.4.0 in /Users/benjaminvaca/.pyenv/versions/3.12.7/lib/python3.12/site-packages (from lightning) (4.12.2)\n",
      "Requirement already satisfied: pytorch-lightning in /Users/benjaminvaca/.pyenv/versions/3.12.7/lib/python3.12/site-packages (from lightning) (2.5.1)\n",
      "Requirement already satisfied: aiohttp!=4.0.0a0,!=4.0.0a1 in /Users/benjaminvaca/.pyenv/versions/3.12.7/lib/python3.12/site-packages (from fsspec[http]<2026.0,>=2022.5.0->lightning) (3.11.16)\n",
      "Requirement already satisfied: setuptools in /Users/benjaminvaca/.pyenv/versions/3.12.7/lib/python3.12/site-packages (from lightning-utilities<2.0,>=0.10.0->lightning) (75.6.0)\n",
      "Requirement already satisfied: filelock in /Users/benjaminvaca/.pyenv/versions/3.12.7/lib/python3.12/site-packages (from torch<4.0,>=2.1.0->lightning) (3.16.1)\n",
      "Requirement already satisfied: sympy>=1.13.3 in /Users/benjaminvaca/.pyenv/versions/3.12.7/lib/python3.12/site-packages (from torch<4.0,>=2.1.0->lightning) (1.14.0)\n",
      "Requirement already satisfied: networkx in /Users/benjaminvaca/.pyenv/versions/3.12.7/lib/python3.12/site-packages (from torch<4.0,>=2.1.0->lightning) (3.4.2)\n",
      "Requirement already satisfied: jinja2 in /Users/benjaminvaca/.pyenv/versions/3.12.7/lib/python3.12/site-packages (from torch<4.0,>=2.1.0->lightning) (3.1.4)\n",
      "Requirement already satisfied: numpy>1.20.0 in /Users/benjaminvaca/.pyenv/versions/3.12.7/lib/python3.12/site-packages (from torchmetrics<3.0,>=0.7.0->lightning) (2.1.2)\n",
      "Requirement already satisfied: aiohappyeyeballs>=2.3.0 in /Users/benjaminvaca/.pyenv/versions/3.12.7/lib/python3.12/site-packages (from aiohttp!=4.0.0a0,!=4.0.0a1->fsspec[http]<2026.0,>=2022.5.0->lightning) (2.6.1)\n",
      "Requirement already satisfied: aiosignal>=1.1.2 in /Users/benjaminvaca/.pyenv/versions/3.12.7/lib/python3.12/site-packages (from aiohttp!=4.0.0a0,!=4.0.0a1->fsspec[http]<2026.0,>=2022.5.0->lightning) (1.3.2)\n",
      "Requirement already satisfied: attrs>=17.3.0 in /Users/benjaminvaca/.pyenv/versions/3.12.7/lib/python3.12/site-packages (from aiohttp!=4.0.0a0,!=4.0.0a1->fsspec[http]<2026.0,>=2022.5.0->lightning) (24.2.0)\n",
      "Requirement already satisfied: frozenlist>=1.1.1 in /Users/benjaminvaca/.pyenv/versions/3.12.7/lib/python3.12/site-packages (from aiohttp!=4.0.0a0,!=4.0.0a1->fsspec[http]<2026.0,>=2022.5.0->lightning) (1.5.0)\n",
      "Requirement already satisfied: multidict<7.0,>=4.5 in /Users/benjaminvaca/.pyenv/versions/3.12.7/lib/python3.12/site-packages (from aiohttp!=4.0.0a0,!=4.0.0a1->fsspec[http]<2026.0,>=2022.5.0->lightning) (6.4.3)\n",
      "Requirement already satisfied: propcache>=0.2.0 in /Users/benjaminvaca/.pyenv/versions/3.12.7/lib/python3.12/site-packages (from aiohttp!=4.0.0a0,!=4.0.0a1->fsspec[http]<2026.0,>=2022.5.0->lightning) (0.3.1)\n",
      "Requirement already satisfied: yarl<2.0,>=1.17.0 in /Users/benjaminvaca/.pyenv/versions/3.12.7/lib/python3.12/site-packages (from aiohttp!=4.0.0a0,!=4.0.0a1->fsspec[http]<2026.0,>=2022.5.0->lightning) (1.19.0)\n",
      "Requirement already satisfied: mpmath<1.4,>=1.1.0 in /Users/benjaminvaca/.pyenv/versions/3.12.7/lib/python3.12/site-packages (from sympy>=1.13.3->torch<4.0,>=2.1.0->lightning) (1.3.0)\n",
      "Requirement already satisfied: MarkupSafe>=2.0 in /Users/benjaminvaca/.pyenv/versions/3.12.7/lib/python3.12/site-packages (from jinja2->torch<4.0,>=2.1.0->lightning) (3.0.2)\n",
      "Requirement already satisfied: idna>=2.0 in /Users/benjaminvaca/.pyenv/versions/3.12.7/lib/python3.12/site-packages (from yarl<2.0,>=1.17.0->aiohttp!=4.0.0a0,!=4.0.0a1->fsspec[http]<2026.0,>=2022.5.0->lightning) (3.10)\n",
      "\n",
      "\u001b[1m[\u001b[0m\u001b[34;49mnotice\u001b[0m\u001b[1;39;49m]\u001b[0m\u001b[39;49m A new release of pip is available: \u001b[0m\u001b[31;49m25.0.1\u001b[0m\u001b[39;49m -> \u001b[0m\u001b[32;49m25.1\u001b[0m\n",
      "\u001b[1m[\u001b[0m\u001b[34;49mnotice\u001b[0m\u001b[1;39;49m]\u001b[0m\u001b[39;49m To update, run: \u001b[0m\u001b[32;49mpip install --upgrade pip\u001b[0m\n",
      "Requirement already satisfied: torchmetrics in /Users/benjaminvaca/.pyenv/versions/3.12.7/lib/python3.12/site-packages (1.7.1)\n",
      "Requirement already satisfied: numpy>1.20.0 in /Users/benjaminvaca/.pyenv/versions/3.12.7/lib/python3.12/site-packages (from torchmetrics) (2.1.2)\n",
      "Requirement already satisfied: packaging>17.1 in /Users/benjaminvaca/.pyenv/versions/3.12.7/lib/python3.12/site-packages (from torchmetrics) (24.1)\n",
      "Requirement already satisfied: torch>=2.0.0 in /Users/benjaminvaca/.pyenv/versions/3.12.7/lib/python3.12/site-packages (from torchmetrics) (2.7.0)\n",
      "Requirement already satisfied: lightning-utilities>=0.8.0 in /Users/benjaminvaca/.pyenv/versions/3.12.7/lib/python3.12/site-packages (from torchmetrics) (0.14.3)\n",
      "Requirement already satisfied: setuptools in /Users/benjaminvaca/.pyenv/versions/3.12.7/lib/python3.12/site-packages (from lightning-utilities>=0.8.0->torchmetrics) (75.6.0)\n",
      "Requirement already satisfied: typing_extensions in /Users/benjaminvaca/.pyenv/versions/3.12.7/lib/python3.12/site-packages (from lightning-utilities>=0.8.0->torchmetrics) (4.12.2)\n",
      "Requirement already satisfied: filelock in /Users/benjaminvaca/.pyenv/versions/3.12.7/lib/python3.12/site-packages (from torch>=2.0.0->torchmetrics) (3.16.1)\n",
      "Requirement already satisfied: sympy>=1.13.3 in /Users/benjaminvaca/.pyenv/versions/3.12.7/lib/python3.12/site-packages (from torch>=2.0.0->torchmetrics) (1.14.0)\n",
      "Requirement already satisfied: networkx in /Users/benjaminvaca/.pyenv/versions/3.12.7/lib/python3.12/site-packages (from torch>=2.0.0->torchmetrics) (3.4.2)\n",
      "Requirement already satisfied: jinja2 in /Users/benjaminvaca/.pyenv/versions/3.12.7/lib/python3.12/site-packages (from torch>=2.0.0->torchmetrics) (3.1.4)\n",
      "Requirement already satisfied: fsspec in /Users/benjaminvaca/.pyenv/versions/3.12.7/lib/python3.12/site-packages (from torch>=2.0.0->torchmetrics) (2024.10.0)\n",
      "Requirement already satisfied: mpmath<1.4,>=1.1.0 in /Users/benjaminvaca/.pyenv/versions/3.12.7/lib/python3.12/site-packages (from sympy>=1.13.3->torch>=2.0.0->torchmetrics) (1.3.0)\n",
      "Requirement already satisfied: MarkupSafe>=2.0 in /Users/benjaminvaca/.pyenv/versions/3.12.7/lib/python3.12/site-packages (from jinja2->torch>=2.0.0->torchmetrics) (3.0.2)\n",
      "\n",
      "\u001b[1m[\u001b[0m\u001b[34;49mnotice\u001b[0m\u001b[1;39;49m]\u001b[0m\u001b[39;49m A new release of pip is available: \u001b[0m\u001b[31;49m25.0.1\u001b[0m\u001b[39;49m -> \u001b[0m\u001b[32;49m25.1\u001b[0m\n",
      "\u001b[1m[\u001b[0m\u001b[34;49mnotice\u001b[0m\u001b[1;39;49m]\u001b[0m\u001b[39;49m To update, run: \u001b[0m\u001b[32;49mpip install --upgrade pip\u001b[0m\n"
     ]
    }
   ],
   "source": [
    "!pip install lightning\n",
    "!pip install torchmetrics"
   ]
  },
  {
   "cell_type": "markdown",
   "metadata": {},
   "source": [
    "## RED NEURONAL"
   ]
  },
  {
   "cell_type": "code",
   "execution_count": 43,
   "metadata": {},
   "outputs": [],
   "source": [
    "import lightning as L\n",
    "import torch\n",
    "from torch.utils.data import Dataset, DataLoader, Subset\n",
    "import torchvision.transforms as T\n",
    "import numpy as np\n",
    "\n",
    "class NumpyMultilabelDataset(Dataset):\n",
    "    def __init__(self, X, y, transform=None):\n",
    "        self.X = X\n",
    "        self.y = y\n",
    "        self.transform = transform\n",
    "\n",
    "    def __len__(self):\n",
    "        return len(self.X)\n",
    "\n",
    "    def __getitem__(self, idx):\n",
    "        x = self.X[idx]\n",
    "        if self.transform:\n",
    "            # tu pipeline: numpy → FloatTensor\n",
    "            x = self.transform(x)\n",
    "        # para BCEWithLogitsLoss necesitamos float en y\n",
    "        y = torch.tensor(self.y[idx], dtype=torch.float32)\n",
    "        return x, y\n",
    "\n",
    "class DataModule(L.LightningDataModule):\n",
    "    def __init__(self, X_train, y_train, X_val, y_val, X_test, y_test, batch_size = 64): #De la documentación\n",
    "        super().__init__()\n",
    "        # Particiones\n",
    "        self.X_train = X_train\n",
    "        self.y_train = y_train\n",
    "        self.X_val =  X_val   \n",
    "        self.y_val= y_val\n",
    "        self.X_test  = X_test\n",
    "        self.y_test =y_test\n",
    "        self.batch_size = batch_size\n",
    "\n",
    "        # pipeline de transform: numpy 1D → FloatTensor\n",
    "        self.transform = T.Compose([\n",
    "            T.Lambda(lambda x: torch.tensor(x, dtype=torch.float32)),\n",
    "            # si quisieras centrar/escalar por característica:\n",
    "            # T.Normalize(mean=[...], std=[...])\n",
    "        ])\n",
    "\n",
    "        # metadata para tu modelo\n",
    "        self.input_shape = X_train.shape[1]\n",
    "        self.num_classes = y_train.shape[1]\n",
    "\n",
    "        # placeholders\n",
    "        self.train_dataset   = None\n",
    "        self.val_dataset     = None\n",
    "        self.test_dataset    = None\n",
    "        self.predict_dataset = None\n",
    "\n",
    "    def prepare_data(self):\n",
    "        pass\n",
    "\n",
    "    def setup(self, stage=None):\n",
    "        # solo creamos los datasets con lo que ya tienes\n",
    "        if stage == \"fit\" or stage is None:\n",
    "            self.train_dataset = NumpyMultilabelDataset(self.X_train, self.y_train, transform=self.transform)\n",
    "            self.val_dataset = NumpyMultilabelDataset(self.X_val, self.y_val, transform=self.transform)\n",
    "\n",
    "        if stage == \"test\" or stage is None:\n",
    "            self.test_dataset = NumpyMultilabelDataset(self.X_test, self.y_test, transform=self.transform)\n",
    "\n",
    "        if stage == \"predict\" or stage is None:\n",
    "            # por ejemplo, solo los 5 primeros para demo\n",
    "            full_test = NumpyMultilabelDataset(self.X_test, self.y_test, transform=self.transform)\n",
    "            self.predict_dataset = Subset(full_test, range(5))\n",
    "\n",
    "    def train_dataloader(self):\n",
    "        return DataLoader(self.train_dataset,batch_size=self.batch_size,shuffle=True)\n",
    "\n",
    "    def val_dataloader(self):\n",
    "        return DataLoader(self.val_dataset,batch_size=self.batch_size,shuffle=False)\n",
    "\n",
    "    def test_dataloader(self):\n",
    "        return DataLoader(self.test_dataset,batch_size=self.batch_size,shuffle=False)\n",
    "\n",
    "    def predict_dataloader(self):\n",
    "        return DataLoader(self.predict_dataset,batch_size=self.batch_size,shuffle=False)\n"
   ]
  },
  {
   "cell_type": "code",
   "execution_count": 44,
   "metadata": {},
   "outputs": [
    {
     "name": "stdout",
     "output_type": "stream",
     "text": [
      "Requirement already satisfied: torch-optimizer in /Users/benjaminvaca/.pyenv/versions/3.12.7/lib/python3.12/site-packages (0.3.0)\n",
      "Requirement already satisfied: torch>=1.5.0 in /Users/benjaminvaca/.pyenv/versions/3.12.7/lib/python3.12/site-packages (from torch-optimizer) (2.7.0)\n",
      "Requirement already satisfied: pytorch-ranger>=0.1.1 in /Users/benjaminvaca/.pyenv/versions/3.12.7/lib/python3.12/site-packages (from torch-optimizer) (0.1.1)\n",
      "Requirement already satisfied: filelock in /Users/benjaminvaca/.pyenv/versions/3.12.7/lib/python3.12/site-packages (from torch>=1.5.0->torch-optimizer) (3.16.1)\n",
      "Requirement already satisfied: typing-extensions>=4.10.0 in /Users/benjaminvaca/.pyenv/versions/3.12.7/lib/python3.12/site-packages (from torch>=1.5.0->torch-optimizer) (4.12.2)\n",
      "Requirement already satisfied: setuptools in /Users/benjaminvaca/.pyenv/versions/3.12.7/lib/python3.12/site-packages (from torch>=1.5.0->torch-optimizer) (75.6.0)\n",
      "Requirement already satisfied: sympy>=1.13.3 in /Users/benjaminvaca/.pyenv/versions/3.12.7/lib/python3.12/site-packages (from torch>=1.5.0->torch-optimizer) (1.14.0)\n",
      "Requirement already satisfied: networkx in /Users/benjaminvaca/.pyenv/versions/3.12.7/lib/python3.12/site-packages (from torch>=1.5.0->torch-optimizer) (3.4.2)\n",
      "Requirement already satisfied: jinja2 in /Users/benjaminvaca/.pyenv/versions/3.12.7/lib/python3.12/site-packages (from torch>=1.5.0->torch-optimizer) (3.1.4)\n",
      "Requirement already satisfied: fsspec in /Users/benjaminvaca/.pyenv/versions/3.12.7/lib/python3.12/site-packages (from torch>=1.5.0->torch-optimizer) (2024.10.0)\n",
      "Requirement already satisfied: mpmath<1.4,>=1.1.0 in /Users/benjaminvaca/.pyenv/versions/3.12.7/lib/python3.12/site-packages (from sympy>=1.13.3->torch>=1.5.0->torch-optimizer) (1.3.0)\n",
      "Requirement already satisfied: MarkupSafe>=2.0 in /Users/benjaminvaca/.pyenv/versions/3.12.7/lib/python3.12/site-packages (from jinja2->torch>=1.5.0->torch-optimizer) (3.0.2)\n",
      "\n",
      "\u001b[1m[\u001b[0m\u001b[34;49mnotice\u001b[0m\u001b[1;39;49m]\u001b[0m\u001b[39;49m A new release of pip is available: \u001b[0m\u001b[31;49m25.0.1\u001b[0m\u001b[39;49m -> \u001b[0m\u001b[32;49m25.1\u001b[0m\n",
      "\u001b[1m[\u001b[0m\u001b[34;49mnotice\u001b[0m\u001b[1;39;49m]\u001b[0m\u001b[39;49m To update, run: \u001b[0m\u001b[32;49mpip install --upgrade pip\u001b[0m\n"
     ]
    }
   ],
   "source": [
    "!pip install torch-optimizer"
   ]
  },
  {
   "cell_type": "code",
   "execution_count": 45,
   "metadata": {},
   "outputs": [],
   "source": [
    "import torch\n",
    "import torch.nn as nn\n",
    "import pytorch_lightning as L\n",
    "from torch.utils.data import DataLoader, Dataset, Subset\n",
    "from sklearn.model_selection import RepeatedKFold\n",
    "import numpy as np\n",
    "from torchmetrics.classification import MultilabelF1Score\n",
    "import pandas as pd\n",
    "from torch_optimizer import RAdam\n",
    "from torchmetrics.classification import MultilabelHammingDistance\n",
    "from torchmetrics.classification import MultilabelAUROC, MultilabelPrecisionRecallCurve\n",
    "from torchmetrics.classification import (\n",
    "    MultilabelPrecision,\n",
    "    MultilabelRecall\n",
    ")\n",
    "\n",
    "\n",
    "class Mymodel2(L.LightningModule):\n",
    "    def __init__(self, input_shape, num_classes, hidden_units, lambda_L2=0.0):\n",
    "        super().__init__()\n",
    "        self.hidden_units = hidden_units  # Store the list of hidden units\n",
    "        layers = []\n",
    "\n",
    "        for units in hidden_units: #hidden layers\n",
    "            layers.append(nn.Linear(input_shape, units))\n",
    "            layers.append(nn.BatchNorm1d(units))\n",
    "            layers.append(nn.LeakyReLU(negative_slope=0.01)) #Activcion\n",
    "            layers.append(nn.Dropout(0.3))\n",
    "            input_shape = units\n",
    "        layers.append(nn.Linear(input_shape, num_classes))#output layer, logits 9\n",
    "        self.classifier = nn.Sequential(*layers) #clasificador\n",
    "\n",
    "        self.lambda_L2 = lambda_L2  # L2 regularization strength\n",
    "        self.loss = nn.BCEWithLogitsLoss() #Loss function para problemas multilabel\n",
    "\n",
    "        self.hamming = MultilabelHammingDistance(num_labels=num_classes)\n",
    "        self.f1_macro = MultilabelF1Score(num_labels=num_classes, average='macro')\n",
    "    #for inference\n",
    "    def forward(self, x):\n",
    "        return self.classifier(x)\n",
    "\n",
    "    def configure_optimizers(self):\n",
    "        return torch.optim.Adam(self.parameters(), lr=0.001, weight_decay=self.lambda_L2)\n",
    "\n",
    "    #Que deberia de aumentar en el codigo para poder cumplir con BCEWithLogitsLoss()\n",
    "    def shared_step(self, batch):\n",
    "        x, y = batch              # y debe ser un tensor float32 de shape [B, C]\n",
    "        logits = self(x)          # [B, C]\n",
    "        loss   = self.loss(logits, y)\n",
    "\n",
    "        # convertir logits → probabilidades → predicciones binarias\n",
    "        probs = torch.sigmoid(logits)            # [B, C], en [0,1]\n",
    "        preds = (probs > 0.5).int()              # umbral 0.5 → {0,1}\n",
    "\n",
    "        return loss, probs,preds, y\n",
    "    \n",
    "    def training_step(self, batch, batch_idx):\n",
    "        loss, probs, preds, labels= self.shared_step(batch)\n",
    "\n",
    "        ham = self.hamming(preds, labels.int()) \n",
    "        f1ma=self.f1_macro(preds, labels.int())\n",
    "\n",
    "        self.log('train_loss', loss, logger=True,prog_bar=True)\n",
    "        self.log('train_ham', ham,  logger=True,prog_bar=True)\n",
    "        self.log('train_f1ma', f1ma, logger=True,prog_bar=True)\n",
    "        return loss\n",
    "\n",
    "    def validation_step(self, batch, batch_idx):\n",
    "        loss, probs, preds, labels= self.shared_step(batch)\n",
    "\n",
    "        ham = self.hamming(preds, labels.int()) \n",
    "        f1ma=self.f1_macro(preds, labels.int())\n",
    "\n",
    "        self.log('val_loss', loss, on_step=True, on_epoch=True, logger=True,prog_bar=True)\n",
    "        self.log('val_ham', ham, on_step=True, on_epoch=True, logger=True,prog_bar=True)\n",
    "        self.log('val_f1ma', f1ma, on_step=True, on_epoch=True, logger=True,prog_bar=True)\n",
    "        return loss\n",
    "\n",
    "    def test_step(self, batch, batch_idx):\n",
    "        loss, probs, preds, labels= self.shared_step(batch)\n",
    "\n",
    "        ham = self.hamming(preds, labels.int()) \n",
    "        f1ma=self.f1_macro(preds, labels.int())\n",
    "\n",
    "        self.log('test_loss', loss, on_step=True, on_epoch=True, logger=True,prog_bar=True)\n",
    "        self.log('test_ham', ham, on_step=True, on_epoch=True, logger=True,prog_bar=True)\n",
    "        self.log('test_f1ma', f1ma, on_step=True, on_epoch=True, logger=True,prog_bar=True)\n",
    "        return loss\n",
    "    \n",
    "    def predict_step(self, batch): #not necessary if dataloader with custom collate for prediction available (see OPTION 3 at the end of the notebook)\n",
    "        # this calls forward for the inputs only\n",
    "        inputs, labels = batch\n",
    "        return self(inputs) #return logits, this calls forward\n"
   ]
  },
  {
   "cell_type": "code",
   "execution_count": 46,
   "metadata": {},
   "outputs": [
    {
     "name": "stdout",
     "output_type": "stream",
     "text": [
      "You are using cpu\n",
      "zsh:1: command not found: nvidia-smi\n",
      "zsh:1: command not found: nvidia-smi\n",
      "CUDA_VISIBLE_DEVICES = 0\n"
     ]
    }
   ],
   "source": [
    "import os\n",
    "device = torch.device(\"cuda\" if torch.cuda.is_available() else \"cpu\") #Comando para indicar que queremos usar GPU\n",
    "print(\"You are using\", device)\n",
    "!nvidia-smi #Comando para obtener datos de GPU\n",
    "!nvidia-smi -L\n",
    "num_gpus = 1\n",
    "os.environ[\"CUDA_VISIBLE_DEVICES\"] = \",\".join(str(x) for x in range(num_gpus))\n",
    "print(\"CUDA_VISIBLE_DEVICES =\", os.environ[\"CUDA_VISIBLE_DEVICES\"])"
   ]
  },
  {
   "cell_type": "code",
   "execution_count": 47,
   "metadata": {},
   "outputs": [],
   "source": [
    "from sklearn.model_selection import RepeatedKFold\n",
    "from pytorch_lightning.callbacks import EarlyStopping, ModelCheckpoint\n",
    "import pytorch_lightning as L\n",
    "import numpy as np\n",
    "from sklearn.manifold import TSNE\n",
    "import matplotlib.pyplot as plt\n",
    "\n",
    "\n",
    "def ValidacionCruzada(\n",
    "    hidden_units,\n",
    "    Xtrain,\n",
    "    ytrain,\n",
    "    Xtest,\n",
    "    ytest,\n",
    "    batch_size = 32,\n",
    "    n_splits = 5,\n",
    "    n_repeats = 2,\n",
    "    max_epochs = 50,\n",
    "    lambda_L2 = 0.0,\n",
    "):\n",
    "    \"\"\"\n",
    "    Repeated K-Fold CV para multilabel, registrando todas las métricas.\n",
    "    \"\"\"\n",
    "\n",
    "    rkf = RepeatedKFold(n_splits=n_splits, n_repeats=n_repeats, random_state=42)\n",
    "    # inicializar listas para cada métrica\n",
    "    # listas por métrica\n",
    "    losses      = []\n",
    "    hamming     = []\n",
    "    f1_macro    = []\n",
    "    train_f1mas = []\n",
    "    val_f1mas   = []\n",
    "    test_f1mas  = []\n",
    "\n",
    "    total_folds = n_splits * n_repeats\n",
    "    for fold, (train_idx, val_idx) in enumerate(rkf.split(Xtrain), start=1):\n",
    "        print(f\"Fold {fold}/{total_folds}\")\n",
    "\n",
    "        X_tr, X_val = Xtrain[train_idx], Xtrain[val_idx]\n",
    "        y_tr, y_val = ytrain[train_idx], ytrain[val_idx]\n",
    "\n",
    "        dm = DataModule(\n",
    "            X_train=X_tr, y_train=y_tr,\n",
    "            X_val=  X_val, y_val=  y_val,\n",
    "            X_test= Xtest, y_test=ytest,\n",
    "            batch_size=batch_size\n",
    "        )\n",
    "        dm.prepare_data(); dm.setup()\n",
    "\n",
    "        early_stop = EarlyStopping(\n",
    "            monitor='val_f1ma', mode='max', patience=3\n",
    "        )\n",
    "        ckpt = ModelCheckpoint(\n",
    "            monitor='val_f1ma', mode='max',\n",
    "            save_top_k=5, save_last=True\n",
    "        )\n",
    "\n",
    "        model = Mymodel2(\n",
    "            input_shape=dm.input_shape,\n",
    "            num_classes=dm.num_classes,\n",
    "            hidden_units=hidden_units,\n",
    "            lambda_L2=lambda_L2\n",
    "        )\n",
    "\n",
    "        trainer = L.Trainer(\n",
    "            max_epochs=max_epochs,\n",
    "            callbacks=[early_stop, ckpt],\n",
    "            accelerator=\"gpu\" if (device and device.type==\"cuda\") else \"cpu\",\n",
    "            devices=1,\n",
    "            logger=True\n",
    "        )\n",
    "\n",
    "        trainer.fit(\n",
    "            model,\n",
    "            train_dataloaders=dm.train_dataloader(),\n",
    "            val_dataloaders=  dm.val_dataloader()\n",
    "        )\n",
    "         # 2) extraer F1-macro en TRAIN con el mejor ckpt\n",
    "        train_res = trainer.validate(\n",
    "            model,\n",
    "            dataloaders=dm.train_dataloader(),\n",
    "            ckpt_path='best',\n",
    "            verbose=False\n",
    "        )[0]\n",
    "        train_f1mas.append(train_res['val_f1ma_epoch'])\n",
    "\n",
    "        # 3) extraer F1-macro en VAL con el mismo ckpt\n",
    "        val_res = trainer.validate(\n",
    "            model,\n",
    "            dataloaders=dm.val_dataloader(),\n",
    "            ckpt_path='best',\n",
    "            verbose=False\n",
    "        )[0]\n",
    "        val_f1mas.append(val_res['val_f1ma_epoch'])\n",
    "        res = trainer.test(\n",
    "            model,\n",
    "            dataloaders=dm.test_dataloader(),\n",
    "            ckpt_path='best'\n",
    "        )\n",
    "\n",
    "        # extraer métricas *_epoch\n",
    "        losses.append(    res[0]['test_loss_epoch']   )\n",
    "        hamming.append(   res[0]['test_ham_epoch']    )\n",
    "        f1_macro.append(  res[0]['test_f1ma_epoch']   )\n",
    "\n",
    "\n",
    "        print(\n",
    "            f\"  loss: {losses[-1]:.4f} | hamming: {hamming[-1]:.4f} | \"\n",
    "            f\"f1_macro: {f1_macro[-1]:.4f}\"\n",
    "        )\n",
    "\n",
    "    # calcular medias y desviaciones\n",
    "    def mean_std(lst):\n",
    "        return np.mean(lst), np.std(lst)\n",
    "\n",
    "    avg_loss, std_loss           = mean_std(losses)\n",
    "    avg_ham,  std_ham            = mean_std(hamming)\n",
    "    avg_f1ma, std_f1ma           = mean_std(f1_macro)\n",
    "\n",
    "\n",
    "    print(f\"\\nF1-macro promedio: {avg_f1ma:.4f} ± {std_f1ma:.4f}\")\n",
    "    print(f\"Hamming promedio: {avg_ham:.4f} ± {std_ham:.4f}\")\n",
    "    print(f\"Pérdida promedio:         {avg_loss:.4f} ± {std_loss:.4f}\")\n",
    "\n",
    "    return {\n",
    "        # métricas por fold\n",
    "        'train_f1ma': train_f1mas,\n",
    "        'val_f1ma':   val_f1mas,\n",
    "        'test_f1ma':  test_f1mas,\n",
    "        'losses':     losses,\n",
    "        'hamming':    hamming,\n",
    "        'f1_macro':   f1_macro,\n",
    "\n",
    "        # y si quieres las medias/desv:\n",
    "        'avg_loss':       avg_loss,\n",
    "        'std_loss':       std_loss,\n",
    "        'avg_hamming':    avg_ham,\n",
    "        'std_hamming':    std_ham,\n",
    "        'avg_f1_macro':   avg_f1ma,\n",
    "        'std_f1_macro':   std_f1ma,\n",
    "    }"
   ]
  },
  {
   "cell_type": "code",
   "execution_count": 48,
   "metadata": {},
   "outputs": [],
   "source": [
    "from itertools import product\n",
    "\n",
    "hidden_layers_options = [\n",
    "    [512,256,128],\n",
    "    [256,128,64],\n",
    "    [256,256,256]\n",
    "]\n",
    "lambda_L2_options = [1e-2, 1e-3, 1e-4]\n",
    "\n",
    "param_grid = [\n",
    "    {'hidden_units': hu, 'lambda_L2': l2}\n",
    "    for hu, l2 in product(hidden_layers_options, lambda_L2_options)\n",
    "]\n"
   ]
  },
  {
   "cell_type": "code",
   "execution_count": 49,
   "metadata": {},
   "outputs": [
    {
     "name": "stderr",
     "output_type": "stream",
     "text": [
      "GPU available: True (mps), used: False\n",
      "TPU available: False, using: 0 TPU cores\n",
      "HPU available: False, using: 0 HPUs\n"
     ]
    },
    {
     "name": "stdout",
     "output_type": "stream",
     "text": [
      "Fold 1/10\n"
     ]
    },
    {
     "name": "stderr",
     "output_type": "stream",
     "text": [
      "/Users/benjaminvaca/.pyenv/versions/3.12.7/lib/python3.12/site-packages/pytorch_lightning/trainer/setup.py:177: GPU available but not used. You can set it by doing `Trainer(accelerator='gpu')`.\n",
      "\n",
      "  | Name       | Type                      | Params | Mode \n",
      "-----------------------------------------------------------------\n",
      "0 | classifier | Sequential                | 562 K  | train\n",
      "1 | loss       | BCEWithLogitsLoss         | 0      | train\n",
      "2 | hamming    | MultilabelHammingDistance | 0      | train\n",
      "3 | f1_macro   | MultilabelF1Score         | 0      | train\n",
      "-----------------------------------------------------------------\n",
      "562 K     Trainable params\n",
      "0         Non-trainable params\n",
      "562 K     Total params\n",
      "2.250     Total estimated model params size (MB)\n",
      "17        Modules in train mode\n",
      "0         Modules in eval mode\n"
     ]
    },
    {
     "name": "stdout",
     "output_type": "stream",
     "text": [
      "                                                                            "
     ]
    },
    {
     "name": "stderr",
     "output_type": "stream",
     "text": [
      "/Users/benjaminvaca/.pyenv/versions/3.12.7/lib/python3.12/site-packages/pytorch_lightning/trainer/connectors/data_connector.py:425: The 'val_dataloader' does not have many workers which may be a bottleneck. Consider increasing the value of the `num_workers` argument` to `num_workers=11` in the `DataLoader` to improve performance.\n",
      "/Users/benjaminvaca/.pyenv/versions/3.12.7/lib/python3.12/site-packages/pytorch_lightning/trainer/connectors/data_connector.py:425: The 'train_dataloader' does not have many workers which may be a bottleneck. Consider increasing the value of the `num_workers` argument` to `num_workers=11` in the `DataLoader` to improve performance.\n",
      "/Users/benjaminvaca/.pyenv/versions/3.12.7/lib/python3.12/site-packages/pytorch_lightning/loops/fit_loop.py:310: The number of training batches (34) is smaller than the logging interval Trainer(log_every_n_steps=50). Set a lower value for log_every_n_steps if you want to see logs for the training epoch.\n"
     ]
    },
    {
     "name": "stdout",
     "output_type": "stream",
     "text": [
      "Epoch 10: 100%|██████████| 34/34 [00:00<00:00, 137.50it/s, v_num=90, train_loss=0.539, train_ham=0.291, train_f1ma=0.237, val_loss_step=0.543, val_ham_step=0.354, val_f1ma_step=0.088, val_loss_epoch=0.569, val_ham_epoch=0.290, val_f1ma_epoch=0.151] \n"
     ]
    },
    {
     "name": "stderr",
     "output_type": "stream",
     "text": [
      "Restoring states from the checkpoint path at /Users/benjaminvaca/Documents/USFQ/semestre7/machine_learning/proyecto/lightning_logs/version_90/checkpoints/epoch=7-step=272.ckpt\n",
      "Loaded model weights from the checkpoint at /Users/benjaminvaca/Documents/USFQ/semestre7/machine_learning/proyecto/lightning_logs/version_90/checkpoints/epoch=7-step=272.ckpt\n",
      "/Users/benjaminvaca/.pyenv/versions/3.12.7/lib/python3.12/site-packages/pytorch_lightning/trainer/connectors/data_connector.py:476: Your `val_dataloader`'s sampler has shuffling enabled, it is strongly recommended that you turn shuffling off for val/test dataloaders.\n"
     ]
    },
    {
     "name": "stdout",
     "output_type": "stream",
     "text": [
      "Validation DataLoader 0: 100%|██████████| 34/34 [00:00<00:00, 412.37it/s]"
     ]
    },
    {
     "name": "stderr",
     "output_type": "stream",
     "text": [
      "Restoring states from the checkpoint path at /Users/benjaminvaca/Documents/USFQ/semestre7/machine_learning/proyecto/lightning_logs/version_90/checkpoints/epoch=7-step=272.ckpt\n"
     ]
    },
    {
     "name": "stdout",
     "output_type": "stream",
     "text": [
      "\n"
     ]
    },
    {
     "name": "stderr",
     "output_type": "stream",
     "text": [
      "Loaded model weights from the checkpoint at /Users/benjaminvaca/Documents/USFQ/semestre7/machine_learning/proyecto/lightning_logs/version_90/checkpoints/epoch=7-step=272.ckpt\n"
     ]
    },
    {
     "name": "stdout",
     "output_type": "stream",
     "text": [
      "Validation DataLoader 0: 100%|██████████| 9/9 [00:00<00:00, 334.66it/s]"
     ]
    },
    {
     "name": "stderr",
     "output_type": "stream",
     "text": [
      "Restoring states from the checkpoint path at /Users/benjaminvaca/Documents/USFQ/semestre7/machine_learning/proyecto/lightning_logs/version_90/checkpoints/epoch=7-step=272.ckpt\n"
     ]
    },
    {
     "name": "stdout",
     "output_type": "stream",
     "text": [
      "\n"
     ]
    },
    {
     "name": "stderr",
     "output_type": "stream",
     "text": [
      "Loaded model weights from the checkpoint at /Users/benjaminvaca/Documents/USFQ/semestre7/machine_learning/proyecto/lightning_logs/version_90/checkpoints/epoch=7-step=272.ckpt\n",
      "/Users/benjaminvaca/.pyenv/versions/3.12.7/lib/python3.12/site-packages/pytorch_lightning/trainer/connectors/data_connector.py:425: The 'test_dataloader' does not have many workers which may be a bottleneck. Consider increasing the value of the `num_workers` argument` to `num_workers=11` in the `DataLoader` to improve performance.\n"
     ]
    },
    {
     "name": "stdout",
     "output_type": "stream",
     "text": [
      "Testing DataLoader 0: 100%|██████████| 11/11 [00:00<00:00, 352.09it/s]\n"
     ]
    },
    {
     "data": {
      "text/html": [
       "<pre style=\"white-space:pre;overflow-x:auto;line-height:normal;font-family:Menlo,'DejaVu Sans Mono',consolas,'Courier New',monospace\">┏━━━━━━━━━━━━━━━━━━━━━━━━━━━┳━━━━━━━━━━━━━━━━━━━━━━━━━━━┓\n",
       "┃<span style=\"font-weight: bold\">        Test metric        </span>┃<span style=\"font-weight: bold\">       DataLoader 0        </span>┃\n",
       "┡━━━━━━━━━━━━━━━━━━━━━━━━━━━╇━━━━━━━━━━━━━━━━━━━━━━━━━━━┩\n",
       "│<span style=\"color: #008080; text-decoration-color: #008080\">      test_f1ma_epoch      </span>│<span style=\"color: #800080; text-decoration-color: #800080\">    0.18575559556484222    </span>│\n",
       "│<span style=\"color: #008080; text-decoration-color: #008080\">      test_ham_epoch       </span>│<span style=\"color: #800080; text-decoration-color: #800080\">    0.28810226917266846    </span>│\n",
       "│<span style=\"color: #008080; text-decoration-color: #008080\">      test_loss_epoch      </span>│<span style=\"color: #800080; text-decoration-color: #800080\">    0.5674682259559631     </span>│\n",
       "└───────────────────────────┴───────────────────────────┘\n",
       "</pre>\n"
      ],
      "text/plain": [
       "┏━━━━━━━━━━━━━━━━━━━━━━━━━━━┳━━━━━━━━━━━━━━━━━━━━━━━━━━━┓\n",
       "┃\u001b[1m \u001b[0m\u001b[1m       Test metric       \u001b[0m\u001b[1m \u001b[0m┃\u001b[1m \u001b[0m\u001b[1m      DataLoader 0       \u001b[0m\u001b[1m \u001b[0m┃\n",
       "┡━━━━━━━━━━━━━━━━━━━━━━━━━━━╇━━━━━━━━━━━━━━━━━━━━━━━━━━━┩\n",
       "│\u001b[36m \u001b[0m\u001b[36m     test_f1ma_epoch     \u001b[0m\u001b[36m \u001b[0m│\u001b[35m \u001b[0m\u001b[35m   0.18575559556484222   \u001b[0m\u001b[35m \u001b[0m│\n",
       "│\u001b[36m \u001b[0m\u001b[36m     test_ham_epoch      \u001b[0m\u001b[36m \u001b[0m│\u001b[35m \u001b[0m\u001b[35m   0.28810226917266846   \u001b[0m\u001b[35m \u001b[0m│\n",
       "│\u001b[36m \u001b[0m\u001b[36m     test_loss_epoch     \u001b[0m\u001b[36m \u001b[0m│\u001b[35m \u001b[0m\u001b[35m   0.5674682259559631    \u001b[0m\u001b[35m \u001b[0m│\n",
       "└───────────────────────────┴───────────────────────────┘\n"
      ]
     },
     "metadata": {},
     "output_type": "display_data"
    },
    {
     "name": "stdout",
     "output_type": "stream",
     "text": [
      "  loss: 0.5675 | hamming: 0.2881 | f1_macro: 0.1858\n",
      "Fold 2/10\n"
     ]
    },
    {
     "name": "stderr",
     "output_type": "stream",
     "text": [
      "GPU available: True (mps), used: False\n",
      "TPU available: False, using: 0 TPU cores\n",
      "HPU available: False, using: 0 HPUs\n",
      "/Users/benjaminvaca/.pyenv/versions/3.12.7/lib/python3.12/site-packages/pytorch_lightning/trainer/setup.py:177: GPU available but not used. You can set it by doing `Trainer(accelerator='gpu')`.\n",
      "\n",
      "  | Name       | Type                      | Params | Mode \n",
      "-----------------------------------------------------------------\n",
      "0 | classifier | Sequential                | 562 K  | train\n",
      "1 | loss       | BCEWithLogitsLoss         | 0      | train\n",
      "2 | hamming    | MultilabelHammingDistance | 0      | train\n",
      "3 | f1_macro   | MultilabelF1Score         | 0      | train\n",
      "-----------------------------------------------------------------\n",
      "562 K     Trainable params\n",
      "0         Non-trainable params\n",
      "562 K     Total params\n",
      "2.250     Total estimated model params size (MB)\n",
      "17        Modules in train mode\n",
      "0         Modules in eval mode\n"
     ]
    },
    {
     "name": "stdout",
     "output_type": "stream",
     "text": [
      "Epoch 6: 100%|██████████| 34/34 [00:00<00:00, 148.50it/s, v_num=91, train_loss=0.553, train_ham=0.276, train_f1ma=0.246, val_loss_step=0.603, val_ham_step=0.410, val_f1ma_step=0.0494, val_loss_epoch=0.567, val_ham_epoch=0.295, val_f1ma_epoch=0.168]"
     ]
    },
    {
     "name": "stderr",
     "output_type": "stream",
     "text": [
      "Restoring states from the checkpoint path at /Users/benjaminvaca/Documents/USFQ/semestre7/machine_learning/proyecto/lightning_logs/version_91/checkpoints/epoch=3-step=136.ckpt\n"
     ]
    },
    {
     "name": "stdout",
     "output_type": "stream",
     "text": [
      "\n"
     ]
    },
    {
     "name": "stderr",
     "output_type": "stream",
     "text": [
      "Loaded model weights from the checkpoint at /Users/benjaminvaca/Documents/USFQ/semestre7/machine_learning/proyecto/lightning_logs/version_91/checkpoints/epoch=3-step=136.ckpt\n"
     ]
    },
    {
     "name": "stdout",
     "output_type": "stream",
     "text": [
      "Validation DataLoader 0: 100%|██████████| 34/34 [00:00<00:00, 428.80it/s]"
     ]
    },
    {
     "name": "stderr",
     "output_type": "stream",
     "text": [
      "Restoring states from the checkpoint path at /Users/benjaminvaca/Documents/USFQ/semestre7/machine_learning/proyecto/lightning_logs/version_91/checkpoints/epoch=3-step=136.ckpt\n"
     ]
    },
    {
     "name": "stdout",
     "output_type": "stream",
     "text": [
      "\n"
     ]
    },
    {
     "name": "stderr",
     "output_type": "stream",
     "text": [
      "Loaded model weights from the checkpoint at /Users/benjaminvaca/Documents/USFQ/semestre7/machine_learning/proyecto/lightning_logs/version_91/checkpoints/epoch=3-step=136.ckpt\n"
     ]
    },
    {
     "name": "stdout",
     "output_type": "stream",
     "text": [
      "Validation DataLoader 0: 100%|██████████| 9/9 [00:00<00:00, 390.91it/s]"
     ]
    },
    {
     "name": "stderr",
     "output_type": "stream",
     "text": [
      "Restoring states from the checkpoint path at /Users/benjaminvaca/Documents/USFQ/semestre7/machine_learning/proyecto/lightning_logs/version_91/checkpoints/epoch=3-step=136.ckpt\n"
     ]
    },
    {
     "name": "stdout",
     "output_type": "stream",
     "text": [
      "\n"
     ]
    },
    {
     "name": "stderr",
     "output_type": "stream",
     "text": [
      "Loaded model weights from the checkpoint at /Users/benjaminvaca/Documents/USFQ/semestre7/machine_learning/proyecto/lightning_logs/version_91/checkpoints/epoch=3-step=136.ckpt\n"
     ]
    },
    {
     "name": "stdout",
     "output_type": "stream",
     "text": [
      "Testing DataLoader 0: 100%|██████████| 11/11 [00:00<00:00, 165.37it/s]\n"
     ]
    },
    {
     "data": {
      "text/html": [
       "<pre style=\"white-space:pre;overflow-x:auto;line-height:normal;font-family:Menlo,'DejaVu Sans Mono',consolas,'Courier New',monospace\">┏━━━━━━━━━━━━━━━━━━━━━━━━━━━┳━━━━━━━━━━━━━━━━━━━━━━━━━━━┓\n",
       "┃<span style=\"font-weight: bold\">        Test metric        </span>┃<span style=\"font-weight: bold\">       DataLoader 0        </span>┃\n",
       "┡━━━━━━━━━━━━━━━━━━━━━━━━━━━╇━━━━━━━━━━━━━━━━━━━━━━━━━━━┩\n",
       "│<span style=\"color: #008080; text-decoration-color: #008080\">      test_f1ma_epoch      </span>│<span style=\"color: #800080; text-decoration-color: #800080\">    0.16018438339233398    </span>│\n",
       "│<span style=\"color: #008080; text-decoration-color: #008080\">      test_ham_epoch       </span>│<span style=\"color: #800080; text-decoration-color: #800080\">    0.28416913747787476    </span>│\n",
       "│<span style=\"color: #008080; text-decoration-color: #008080\">      test_loss_epoch      </span>│<span style=\"color: #800080; text-decoration-color: #800080\">    0.5720858573913574     </span>│\n",
       "└───────────────────────────┴───────────────────────────┘\n",
       "</pre>\n"
      ],
      "text/plain": [
       "┏━━━━━━━━━━━━━━━━━━━━━━━━━━━┳━━━━━━━━━━━━━━━━━━━━━━━━━━━┓\n",
       "┃\u001b[1m \u001b[0m\u001b[1m       Test metric       \u001b[0m\u001b[1m \u001b[0m┃\u001b[1m \u001b[0m\u001b[1m      DataLoader 0       \u001b[0m\u001b[1m \u001b[0m┃\n",
       "┡━━━━━━━━━━━━━━━━━━━━━━━━━━━╇━━━━━━━━━━━━━━━━━━━━━━━━━━━┩\n",
       "│\u001b[36m \u001b[0m\u001b[36m     test_f1ma_epoch     \u001b[0m\u001b[36m \u001b[0m│\u001b[35m \u001b[0m\u001b[35m   0.16018438339233398   \u001b[0m\u001b[35m \u001b[0m│\n",
       "│\u001b[36m \u001b[0m\u001b[36m     test_ham_epoch      \u001b[0m\u001b[36m \u001b[0m│\u001b[35m \u001b[0m\u001b[35m   0.28416913747787476   \u001b[0m\u001b[35m \u001b[0m│\n",
       "│\u001b[36m \u001b[0m\u001b[36m     test_loss_epoch     \u001b[0m\u001b[36m \u001b[0m│\u001b[35m \u001b[0m\u001b[35m   0.5720858573913574    \u001b[0m\u001b[35m \u001b[0m│\n",
       "└───────────────────────────┴───────────────────────────┘\n"
      ]
     },
     "metadata": {},
     "output_type": "display_data"
    },
    {
     "name": "stdout",
     "output_type": "stream",
     "text": [
      "  loss: 0.5721 | hamming: 0.2842 | f1_macro: 0.1602\n",
      "Fold 3/10\n"
     ]
    },
    {
     "name": "stderr",
     "output_type": "stream",
     "text": [
      "GPU available: True (mps), used: False\n",
      "TPU available: False, using: 0 TPU cores\n",
      "HPU available: False, using: 0 HPUs\n",
      "\n",
      "  | Name       | Type                      | Params | Mode \n",
      "-----------------------------------------------------------------\n",
      "0 | classifier | Sequential                | 562 K  | train\n",
      "1 | loss       | BCEWithLogitsLoss         | 0      | train\n",
      "2 | hamming    | MultilabelHammingDistance | 0      | train\n",
      "3 | f1_macro   | MultilabelF1Score         | 0      | train\n",
      "-----------------------------------------------------------------\n",
      "562 K     Trainable params\n",
      "0         Non-trainable params\n",
      "562 K     Total params\n",
      "2.250     Total estimated model params size (MB)\n",
      "17        Modules in train mode\n",
      "0         Modules in eval mode\n"
     ]
    },
    {
     "name": "stdout",
     "output_type": "stream",
     "text": [
      "Epoch 3: 100%|██████████| 34/34 [00:00<00:00, 149.95it/s, v_num=92, train_loss=0.545, train_ham=0.307, train_f1ma=0.259, val_loss_step=0.542, val_ham_step=0.400, val_f1ma_step=0.0523, val_loss_epoch=0.581, val_ham_epoch=0.299, val_f1ma_epoch=0.139]\n"
     ]
    },
    {
     "name": "stderr",
     "output_type": "stream",
     "text": [
      "Restoring states from the checkpoint path at /Users/benjaminvaca/Documents/USFQ/semestre7/machine_learning/proyecto/lightning_logs/version_92/checkpoints/epoch=0-step=34.ckpt\n",
      "Loaded model weights from the checkpoint at /Users/benjaminvaca/Documents/USFQ/semestre7/machine_learning/proyecto/lightning_logs/version_92/checkpoints/epoch=0-step=34.ckpt\n"
     ]
    },
    {
     "name": "stdout",
     "output_type": "stream",
     "text": [
      "Validation DataLoader 0: 100%|██████████| 34/34 [00:00<00:00, 427.69it/s]"
     ]
    },
    {
     "name": "stderr",
     "output_type": "stream",
     "text": [
      "Restoring states from the checkpoint path at /Users/benjaminvaca/Documents/USFQ/semestre7/machine_learning/proyecto/lightning_logs/version_92/checkpoints/epoch=0-step=34.ckpt\n"
     ]
    },
    {
     "name": "stdout",
     "output_type": "stream",
     "text": [
      "\n"
     ]
    },
    {
     "name": "stderr",
     "output_type": "stream",
     "text": [
      "Loaded model weights from the checkpoint at /Users/benjaminvaca/Documents/USFQ/semestre7/machine_learning/proyecto/lightning_logs/version_92/checkpoints/epoch=0-step=34.ckpt\n"
     ]
    },
    {
     "name": "stdout",
     "output_type": "stream",
     "text": [
      "Validation DataLoader 0: 100%|██████████| 9/9 [00:00<00:00, 386.52it/s]"
     ]
    },
    {
     "name": "stderr",
     "output_type": "stream",
     "text": [
      "Restoring states from the checkpoint path at /Users/benjaminvaca/Documents/USFQ/semestre7/machine_learning/proyecto/lightning_logs/version_92/checkpoints/epoch=0-step=34.ckpt\n"
     ]
    },
    {
     "name": "stdout",
     "output_type": "stream",
     "text": [
      "\n"
     ]
    },
    {
     "name": "stderr",
     "output_type": "stream",
     "text": [
      "Loaded model weights from the checkpoint at /Users/benjaminvaca/Documents/USFQ/semestre7/machine_learning/proyecto/lightning_logs/version_92/checkpoints/epoch=0-step=34.ckpt\n"
     ]
    },
    {
     "name": "stdout",
     "output_type": "stream",
     "text": [
      "Testing DataLoader 0: 100%|██████████| 11/11 [00:00<00:00, 383.57it/s]\n"
     ]
    },
    {
     "data": {
      "text/html": [
       "<pre style=\"white-space:pre;overflow-x:auto;line-height:normal;font-family:Menlo,'DejaVu Sans Mono',consolas,'Courier New',monospace\">┏━━━━━━━━━━━━━━━━━━━━━━━━━━━┳━━━━━━━━━━━━━━━━━━━━━━━━━━━┓\n",
       "┃<span style=\"font-weight: bold\">        Test metric        </span>┃<span style=\"font-weight: bold\">       DataLoader 0        </span>┃\n",
       "┡━━━━━━━━━━━━━━━━━━━━━━━━━━━╇━━━━━━━━━━━━━━━━━━━━━━━━━━━┩\n",
       "│<span style=\"color: #008080; text-decoration-color: #008080\">      test_f1ma_epoch      </span>│<span style=\"color: #800080; text-decoration-color: #800080\">    0.21277274191379547    </span>│\n",
       "│<span style=\"color: #008080; text-decoration-color: #008080\">      test_ham_epoch       </span>│<span style=\"color: #800080; text-decoration-color: #800080\">     0.305473655462265     </span>│\n",
       "│<span style=\"color: #008080; text-decoration-color: #008080\">      test_loss_epoch      </span>│<span style=\"color: #800080; text-decoration-color: #800080\">    0.6108357906341553     </span>│\n",
       "└───────────────────────────┴───────────────────────────┘\n",
       "</pre>\n"
      ],
      "text/plain": [
       "┏━━━━━━━━━━━━━━━━━━━━━━━━━━━┳━━━━━━━━━━━━━━━━━━━━━━━━━━━┓\n",
       "┃\u001b[1m \u001b[0m\u001b[1m       Test metric       \u001b[0m\u001b[1m \u001b[0m┃\u001b[1m \u001b[0m\u001b[1m      DataLoader 0       \u001b[0m\u001b[1m \u001b[0m┃\n",
       "┡━━━━━━━━━━━━━━━━━━━━━━━━━━━╇━━━━━━━━━━━━━━━━━━━━━━━━━━━┩\n",
       "│\u001b[36m \u001b[0m\u001b[36m     test_f1ma_epoch     \u001b[0m\u001b[36m \u001b[0m│\u001b[35m \u001b[0m\u001b[35m   0.21277274191379547   \u001b[0m\u001b[35m \u001b[0m│\n",
       "│\u001b[36m \u001b[0m\u001b[36m     test_ham_epoch      \u001b[0m\u001b[36m \u001b[0m│\u001b[35m \u001b[0m\u001b[35m    0.305473655462265    \u001b[0m\u001b[35m \u001b[0m│\n",
       "│\u001b[36m \u001b[0m\u001b[36m     test_loss_epoch     \u001b[0m\u001b[36m \u001b[0m│\u001b[35m \u001b[0m\u001b[35m   0.6108357906341553    \u001b[0m\u001b[35m \u001b[0m│\n",
       "└───────────────────────────┴───────────────────────────┘\n"
      ]
     },
     "metadata": {},
     "output_type": "display_data"
    },
    {
     "name": "stdout",
     "output_type": "stream",
     "text": [
      "  loss: 0.6108 | hamming: 0.3055 | f1_macro: 0.2128\n",
      "Fold 4/10\n"
     ]
    },
    {
     "name": "stderr",
     "output_type": "stream",
     "text": [
      "GPU available: True (mps), used: False\n",
      "TPU available: False, using: 0 TPU cores\n",
      "HPU available: False, using: 0 HPUs\n",
      "\n",
      "  | Name       | Type                      | Params | Mode \n",
      "-----------------------------------------------------------------\n",
      "0 | classifier | Sequential                | 562 K  | train\n",
      "1 | loss       | BCEWithLogitsLoss         | 0      | train\n",
      "2 | hamming    | MultilabelHammingDistance | 0      | train\n",
      "3 | f1_macro   | MultilabelF1Score         | 0      | train\n",
      "-----------------------------------------------------------------\n",
      "562 K     Trainable params\n",
      "0         Non-trainable params\n",
      "562 K     Total params\n",
      "2.250     Total estimated model params size (MB)\n",
      "17        Modules in train mode\n",
      "0         Modules in eval mode\n"
     ]
    },
    {
     "name": "stdout",
     "output_type": "stream",
     "text": [
      "Epoch 7: 100%|██████████| 34/34 [00:00<00:00, 134.43it/s, v_num=93, train_loss=0.568, train_ham=0.296, train_f1ma=0.271, val_loss_step=0.575, val_ham_step=0.348, val_f1ma_step=0.0926, val_loss_epoch=0.574, val_ham_epoch=0.293, val_f1ma_epoch=0.132]"
     ]
    },
    {
     "name": "stderr",
     "output_type": "stream",
     "text": [
      "Restoring states from the checkpoint path at /Users/benjaminvaca/Documents/USFQ/semestre7/machine_learning/proyecto/lightning_logs/version_93/checkpoints/epoch=4-step=170.ckpt\n"
     ]
    },
    {
     "name": "stdout",
     "output_type": "stream",
     "text": [
      "\n"
     ]
    },
    {
     "name": "stderr",
     "output_type": "stream",
     "text": [
      "Loaded model weights from the checkpoint at /Users/benjaminvaca/Documents/USFQ/semestre7/machine_learning/proyecto/lightning_logs/version_93/checkpoints/epoch=4-step=170.ckpt\n"
     ]
    },
    {
     "name": "stdout",
     "output_type": "stream",
     "text": [
      "Validation DataLoader 0: 100%|██████████| 34/34 [00:00<00:00, 445.64it/s]"
     ]
    },
    {
     "name": "stderr",
     "output_type": "stream",
     "text": [
      "Restoring states from the checkpoint path at /Users/benjaminvaca/Documents/USFQ/semestre7/machine_learning/proyecto/lightning_logs/version_93/checkpoints/epoch=4-step=170.ckpt\n"
     ]
    },
    {
     "name": "stdout",
     "output_type": "stream",
     "text": [
      "\n"
     ]
    },
    {
     "name": "stderr",
     "output_type": "stream",
     "text": [
      "Loaded model weights from the checkpoint at /Users/benjaminvaca/Documents/USFQ/semestre7/machine_learning/proyecto/lightning_logs/version_93/checkpoints/epoch=4-step=170.ckpt\n"
     ]
    },
    {
     "name": "stdout",
     "output_type": "stream",
     "text": [
      "Validation DataLoader 0: 100%|██████████| 9/9 [00:00<00:00, 399.73it/s]"
     ]
    },
    {
     "name": "stderr",
     "output_type": "stream",
     "text": [
      "Restoring states from the checkpoint path at /Users/benjaminvaca/Documents/USFQ/semestre7/machine_learning/proyecto/lightning_logs/version_93/checkpoints/epoch=4-step=170.ckpt\n"
     ]
    },
    {
     "name": "stdout",
     "output_type": "stream",
     "text": [
      "\n"
     ]
    },
    {
     "name": "stderr",
     "output_type": "stream",
     "text": [
      "Loaded model weights from the checkpoint at /Users/benjaminvaca/Documents/USFQ/semestre7/machine_learning/proyecto/lightning_logs/version_93/checkpoints/epoch=4-step=170.ckpt\n"
     ]
    },
    {
     "name": "stdout",
     "output_type": "stream",
     "text": [
      "Testing DataLoader 0: 100%|██████████| 11/11 [00:00<00:00, 403.49it/s]\n"
     ]
    },
    {
     "data": {
      "text/html": [
       "<pre style=\"white-space:pre;overflow-x:auto;line-height:normal;font-family:Menlo,'DejaVu Sans Mono',consolas,'Courier New',monospace\">┏━━━━━━━━━━━━━━━━━━━━━━━━━━━┳━━━━━━━━━━━━━━━━━━━━━━━━━━━┓\n",
       "┃<span style=\"font-weight: bold\">        Test metric        </span>┃<span style=\"font-weight: bold\">       DataLoader 0        </span>┃\n",
       "┡━━━━━━━━━━━━━━━━━━━━━━━━━━━╇━━━━━━━━━━━━━━━━━━━━━━━━━━━┩\n",
       "│<span style=\"color: #008080; text-decoration-color: #008080\">      test_f1ma_epoch      </span>│<span style=\"color: #800080; text-decoration-color: #800080\">    0.13729876279830933    </span>│\n",
       "│<span style=\"color: #008080; text-decoration-color: #008080\">      test_ham_epoch       </span>│<span style=\"color: #800080; text-decoration-color: #800080\">    0.2900688350200653     </span>│\n",
       "│<span style=\"color: #008080; text-decoration-color: #008080\">      test_loss_epoch      </span>│<span style=\"color: #800080; text-decoration-color: #800080\">    0.5765975713729858     </span>│\n",
       "└───────────────────────────┴───────────────────────────┘\n",
       "</pre>\n"
      ],
      "text/plain": [
       "┏━━━━━━━━━━━━━━━━━━━━━━━━━━━┳━━━━━━━━━━━━━━━━━━━━━━━━━━━┓\n",
       "┃\u001b[1m \u001b[0m\u001b[1m       Test metric       \u001b[0m\u001b[1m \u001b[0m┃\u001b[1m \u001b[0m\u001b[1m      DataLoader 0       \u001b[0m\u001b[1m \u001b[0m┃\n",
       "┡━━━━━━━━━━━━━━━━━━━━━━━━━━━╇━━━━━━━━━━━━━━━━━━━━━━━━━━━┩\n",
       "│\u001b[36m \u001b[0m\u001b[36m     test_f1ma_epoch     \u001b[0m\u001b[36m \u001b[0m│\u001b[35m \u001b[0m\u001b[35m   0.13729876279830933   \u001b[0m\u001b[35m \u001b[0m│\n",
       "│\u001b[36m \u001b[0m\u001b[36m     test_ham_epoch      \u001b[0m\u001b[36m \u001b[0m│\u001b[35m \u001b[0m\u001b[35m   0.2900688350200653    \u001b[0m\u001b[35m \u001b[0m│\n",
       "│\u001b[36m \u001b[0m\u001b[36m     test_loss_epoch     \u001b[0m\u001b[36m \u001b[0m│\u001b[35m \u001b[0m\u001b[35m   0.5765975713729858    \u001b[0m\u001b[35m \u001b[0m│\n",
       "└───────────────────────────┴───────────────────────────┘\n"
      ]
     },
     "metadata": {},
     "output_type": "display_data"
    },
    {
     "name": "stdout",
     "output_type": "stream",
     "text": [
      "  loss: 0.5766 | hamming: 0.2901 | f1_macro: 0.1373\n",
      "Fold 5/10\n"
     ]
    },
    {
     "name": "stderr",
     "output_type": "stream",
     "text": [
      "GPU available: True (mps), used: False\n",
      "TPU available: False, using: 0 TPU cores\n",
      "HPU available: False, using: 0 HPUs\n",
      "\n",
      "  | Name       | Type                      | Params | Mode \n",
      "-----------------------------------------------------------------\n",
      "0 | classifier | Sequential                | 562 K  | train\n",
      "1 | loss       | BCEWithLogitsLoss         | 0      | train\n",
      "2 | hamming    | MultilabelHammingDistance | 0      | train\n",
      "3 | f1_macro   | MultilabelF1Score         | 0      | train\n",
      "-----------------------------------------------------------------\n",
      "562 K     Trainable params\n",
      "0         Non-trainable params\n",
      "562 K     Total params\n",
      "2.250     Total estimated model params size (MB)\n",
      "17        Modules in train mode\n",
      "0         Modules in eval mode\n"
     ]
    },
    {
     "name": "stdout",
     "output_type": "stream",
     "text": [
      "Epoch 3: 100%|██████████| 34/34 [00:00<00:00, 130.41it/s, v_num=94, train_loss=0.580, train_ham=0.311, train_f1ma=0.198, val_loss_step=0.532, val_ham_step=0.244, val_f1ma_step=0.117, val_loss_epoch=0.580, val_ham_epoch=0.324, val_f1ma_epoch=0.110] \n"
     ]
    },
    {
     "name": "stderr",
     "output_type": "stream",
     "text": [
      "Restoring states from the checkpoint path at /Users/benjaminvaca/Documents/USFQ/semestre7/machine_learning/proyecto/lightning_logs/version_94/checkpoints/epoch=0-step=34.ckpt\n",
      "Loaded model weights from the checkpoint at /Users/benjaminvaca/Documents/USFQ/semestre7/machine_learning/proyecto/lightning_logs/version_94/checkpoints/epoch=0-step=34.ckpt\n"
     ]
    },
    {
     "name": "stdout",
     "output_type": "stream",
     "text": [
      "Validation DataLoader 0: 100%|██████████| 34/34 [00:00<00:00, 444.97it/s]\n"
     ]
    },
    {
     "name": "stderr",
     "output_type": "stream",
     "text": [
      "Restoring states from the checkpoint path at /Users/benjaminvaca/Documents/USFQ/semestre7/machine_learning/proyecto/lightning_logs/version_94/checkpoints/epoch=0-step=34.ckpt\n",
      "Loaded model weights from the checkpoint at /Users/benjaminvaca/Documents/USFQ/semestre7/machine_learning/proyecto/lightning_logs/version_94/checkpoints/epoch=0-step=34.ckpt\n"
     ]
    },
    {
     "name": "stdout",
     "output_type": "stream",
     "text": [
      "Validation DataLoader 0: 100%|██████████| 9/9 [00:00<00:00, 405.60it/s]"
     ]
    },
    {
     "name": "stderr",
     "output_type": "stream",
     "text": [
      "Restoring states from the checkpoint path at /Users/benjaminvaca/Documents/USFQ/semestre7/machine_learning/proyecto/lightning_logs/version_94/checkpoints/epoch=0-step=34.ckpt\n",
      "Loaded model weights from the checkpoint at /Users/benjaminvaca/Documents/USFQ/semestre7/machine_learning/proyecto/lightning_logs/version_94/checkpoints/epoch=0-step=34.ckpt\n"
     ]
    },
    {
     "name": "stdout",
     "output_type": "stream",
     "text": [
      "\n",
      "Testing DataLoader 0: 100%|██████████| 11/11 [00:00<00:00, 396.14it/s]\n"
     ]
    },
    {
     "data": {
      "text/html": [
       "<pre style=\"white-space:pre;overflow-x:auto;line-height:normal;font-family:Menlo,'DejaVu Sans Mono',consolas,'Courier New',monospace\">┏━━━━━━━━━━━━━━━━━━━━━━━━━━━┳━━━━━━━━━━━━━━━━━━━━━━━━━━━┓\n",
       "┃<span style=\"font-weight: bold\">        Test metric        </span>┃<span style=\"font-weight: bold\">       DataLoader 0        </span>┃\n",
       "┡━━━━━━━━━━━━━━━━━━━━━━━━━━━╇━━━━━━━━━━━━━━━━━━━━━━━━━━━┩\n",
       "│<span style=\"color: #008080; text-decoration-color: #008080\">      test_f1ma_epoch      </span>│<span style=\"color: #800080; text-decoration-color: #800080\">    0.19287215173244476    </span>│\n",
       "│<span style=\"color: #008080; text-decoration-color: #008080\">      test_ham_epoch       </span>│<span style=\"color: #800080; text-decoration-color: #800080\">    0.32350051403045654    </span>│\n",
       "│<span style=\"color: #008080; text-decoration-color: #008080\">      test_loss_epoch      </span>│<span style=\"color: #800080; text-decoration-color: #800080\">     0.602177083492279     </span>│\n",
       "└───────────────────────────┴───────────────────────────┘\n",
       "</pre>\n"
      ],
      "text/plain": [
       "┏━━━━━━━━━━━━━━━━━━━━━━━━━━━┳━━━━━━━━━━━━━━━━━━━━━━━━━━━┓\n",
       "┃\u001b[1m \u001b[0m\u001b[1m       Test metric       \u001b[0m\u001b[1m \u001b[0m┃\u001b[1m \u001b[0m\u001b[1m      DataLoader 0       \u001b[0m\u001b[1m \u001b[0m┃\n",
       "┡━━━━━━━━━━━━━━━━━━━━━━━━━━━╇━━━━━━━━━━━━━━━━━━━━━━━━━━━┩\n",
       "│\u001b[36m \u001b[0m\u001b[36m     test_f1ma_epoch     \u001b[0m\u001b[36m \u001b[0m│\u001b[35m \u001b[0m\u001b[35m   0.19287215173244476   \u001b[0m\u001b[35m \u001b[0m│\n",
       "│\u001b[36m \u001b[0m\u001b[36m     test_ham_epoch      \u001b[0m\u001b[36m \u001b[0m│\u001b[35m \u001b[0m\u001b[35m   0.32350051403045654   \u001b[0m\u001b[35m \u001b[0m│\n",
       "│\u001b[36m \u001b[0m\u001b[36m     test_loss_epoch     \u001b[0m\u001b[36m \u001b[0m│\u001b[35m \u001b[0m\u001b[35m    0.602177083492279    \u001b[0m\u001b[35m \u001b[0m│\n",
       "└───────────────────────────┴───────────────────────────┘\n"
      ]
     },
     "metadata": {},
     "output_type": "display_data"
    },
    {
     "name": "stdout",
     "output_type": "stream",
     "text": [
      "  loss: 0.6022 | hamming: 0.3235 | f1_macro: 0.1929\n",
      "Fold 6/10\n"
     ]
    },
    {
     "name": "stderr",
     "output_type": "stream",
     "text": [
      "GPU available: True (mps), used: False\n",
      "TPU available: False, using: 0 TPU cores\n",
      "HPU available: False, using: 0 HPUs\n",
      "\n",
      "  | Name       | Type                      | Params | Mode \n",
      "-----------------------------------------------------------------\n",
      "0 | classifier | Sequential                | 562 K  | train\n",
      "1 | loss       | BCEWithLogitsLoss         | 0      | train\n",
      "2 | hamming    | MultilabelHammingDistance | 0      | train\n",
      "3 | f1_macro   | MultilabelF1Score         | 0      | train\n",
      "-----------------------------------------------------------------\n",
      "562 K     Trainable params\n",
      "0         Non-trainable params\n",
      "562 K     Total params\n",
      "2.250     Total estimated model params size (MB)\n",
      "17        Modules in train mode\n",
      "0         Modules in eval mode\n"
     ]
    },
    {
     "name": "stdout",
     "output_type": "stream",
     "text": [
      "Epoch 9: 100%|██████████| 34/34 [00:00<00:00, 146.56it/s, v_num=95, train_loss=0.575, train_ham=0.352, train_f1ma=0.197, val_loss_step=0.584, val_ham_step=0.312, val_f1ma_step=0.128, val_loss_epoch=0.566, val_ham_epoch=0.293, val_f1ma_epoch=0.145] \n"
     ]
    },
    {
     "name": "stderr",
     "output_type": "stream",
     "text": [
      "Restoring states from the checkpoint path at /Users/benjaminvaca/Documents/USFQ/semestre7/machine_learning/proyecto/lightning_logs/version_95/checkpoints/epoch=6-step=238.ckpt\n",
      "Loaded model weights from the checkpoint at /Users/benjaminvaca/Documents/USFQ/semestre7/machine_learning/proyecto/lightning_logs/version_95/checkpoints/epoch=6-step=238.ckpt\n"
     ]
    },
    {
     "name": "stdout",
     "output_type": "stream",
     "text": [
      "Validation DataLoader 0: 100%|██████████| 34/34 [00:00<00:00, 455.42it/s]\n"
     ]
    },
    {
     "name": "stderr",
     "output_type": "stream",
     "text": [
      "Restoring states from the checkpoint path at /Users/benjaminvaca/Documents/USFQ/semestre7/machine_learning/proyecto/lightning_logs/version_95/checkpoints/epoch=6-step=238.ckpt\n",
      "Loaded model weights from the checkpoint at /Users/benjaminvaca/Documents/USFQ/semestre7/machine_learning/proyecto/lightning_logs/version_95/checkpoints/epoch=6-step=238.ckpt\n"
     ]
    },
    {
     "name": "stdout",
     "output_type": "stream",
     "text": [
      "Validation DataLoader 0: 100%|██████████| 9/9 [00:00<00:00, 433.86it/s]"
     ]
    },
    {
     "name": "stderr",
     "output_type": "stream",
     "text": [
      "Restoring states from the checkpoint path at /Users/benjaminvaca/Documents/USFQ/semestre7/machine_learning/proyecto/lightning_logs/version_95/checkpoints/epoch=6-step=238.ckpt\n"
     ]
    },
    {
     "name": "stdout",
     "output_type": "stream",
     "text": [
      "\n"
     ]
    },
    {
     "name": "stderr",
     "output_type": "stream",
     "text": [
      "Loaded model weights from the checkpoint at /Users/benjaminvaca/Documents/USFQ/semestre7/machine_learning/proyecto/lightning_logs/version_95/checkpoints/epoch=6-step=238.ckpt\n"
     ]
    },
    {
     "name": "stdout",
     "output_type": "stream",
     "text": [
      "Testing DataLoader 0: 100%|██████████| 11/11 [00:00<00:00, 447.08it/s]\n"
     ]
    },
    {
     "data": {
      "text/html": [
       "<pre style=\"white-space:pre;overflow-x:auto;line-height:normal;font-family:Menlo,'DejaVu Sans Mono',consolas,'Courier New',monospace\">┏━━━━━━━━━━━━━━━━━━━━━━━━━━━┳━━━━━━━━━━━━━━━━━━━━━━━━━━━┓\n",
       "┃<span style=\"font-weight: bold\">        Test metric        </span>┃<span style=\"font-weight: bold\">       DataLoader 0        </span>┃\n",
       "┡━━━━━━━━━━━━━━━━━━━━━━━━━━━╇━━━━━━━━━━━━━━━━━━━━━━━━━━━┩\n",
       "│<span style=\"color: #008080; text-decoration-color: #008080\">      test_f1ma_epoch      </span>│<span style=\"color: #800080; text-decoration-color: #800080\">    0.1492723524570465     </span>│\n",
       "│<span style=\"color: #008080; text-decoration-color: #008080\">      test_ham_epoch       </span>│<span style=\"color: #800080; text-decoration-color: #800080\">    0.2851524353027344     </span>│\n",
       "│<span style=\"color: #008080; text-decoration-color: #008080\">      test_loss_epoch      </span>│<span style=\"color: #800080; text-decoration-color: #800080\">    0.5690519213676453     </span>│\n",
       "└───────────────────────────┴───────────────────────────┘\n",
       "</pre>\n"
      ],
      "text/plain": [
       "┏━━━━━━━━━━━━━━━━━━━━━━━━━━━┳━━━━━━━━━━━━━━━━━━━━━━━━━━━┓\n",
       "┃\u001b[1m \u001b[0m\u001b[1m       Test metric       \u001b[0m\u001b[1m \u001b[0m┃\u001b[1m \u001b[0m\u001b[1m      DataLoader 0       \u001b[0m\u001b[1m \u001b[0m┃\n",
       "┡━━━━━━━━━━━━━━━━━━━━━━━━━━━╇━━━━━━━━━━━━━━━━━━━━━━━━━━━┩\n",
       "│\u001b[36m \u001b[0m\u001b[36m     test_f1ma_epoch     \u001b[0m\u001b[36m \u001b[0m│\u001b[35m \u001b[0m\u001b[35m   0.1492723524570465    \u001b[0m\u001b[35m \u001b[0m│\n",
       "│\u001b[36m \u001b[0m\u001b[36m     test_ham_epoch      \u001b[0m\u001b[36m \u001b[0m│\u001b[35m \u001b[0m\u001b[35m   0.2851524353027344    \u001b[0m\u001b[35m \u001b[0m│\n",
       "│\u001b[36m \u001b[0m\u001b[36m     test_loss_epoch     \u001b[0m\u001b[36m \u001b[0m│\u001b[35m \u001b[0m\u001b[35m   0.5690519213676453    \u001b[0m\u001b[35m \u001b[0m│\n",
       "└───────────────────────────┴───────────────────────────┘\n"
      ]
     },
     "metadata": {},
     "output_type": "display_data"
    },
    {
     "name": "stdout",
     "output_type": "stream",
     "text": [
      "  loss: 0.5691 | hamming: 0.2852 | f1_macro: 0.1493\n",
      "Fold 7/10\n"
     ]
    },
    {
     "name": "stderr",
     "output_type": "stream",
     "text": [
      "GPU available: True (mps), used: False\n",
      "TPU available: False, using: 0 TPU cores\n",
      "HPU available: False, using: 0 HPUs\n",
      "\n",
      "  | Name       | Type                      | Params | Mode \n",
      "-----------------------------------------------------------------\n",
      "0 | classifier | Sequential                | 562 K  | train\n",
      "1 | loss       | BCEWithLogitsLoss         | 0      | train\n",
      "2 | hamming    | MultilabelHammingDistance | 0      | train\n",
      "3 | f1_macro   | MultilabelF1Score         | 0      | train\n",
      "-----------------------------------------------------------------\n",
      "562 K     Trainable params\n",
      "0         Non-trainable params\n",
      "562 K     Total params\n",
      "2.250     Total estimated model params size (MB)\n",
      "17        Modules in train mode\n",
      "0         Modules in eval mode\n"
     ]
    },
    {
     "name": "stdout",
     "output_type": "stream",
     "text": [
      "Epoch 5: 100%|██████████| 34/34 [00:00<00:00, 140.14it/s, v_num=96, train_loss=0.550, train_ham=0.337, train_f1ma=0.198, val_loss_step=0.533, val_ham_step=0.215, val_f1ma_step=0.124, val_loss_epoch=0.580, val_ham_epoch=0.303, val_f1ma_epoch=0.125] \n"
     ]
    },
    {
     "name": "stderr",
     "output_type": "stream",
     "text": [
      "Restoring states from the checkpoint path at /Users/benjaminvaca/Documents/USFQ/semestre7/machine_learning/proyecto/lightning_logs/version_96/checkpoints/epoch=2-step=102.ckpt\n",
      "Loaded model weights from the checkpoint at /Users/benjaminvaca/Documents/USFQ/semestre7/machine_learning/proyecto/lightning_logs/version_96/checkpoints/epoch=2-step=102.ckpt\n"
     ]
    },
    {
     "name": "stdout",
     "output_type": "stream",
     "text": [
      "Validation DataLoader 0: 100%|██████████| 34/34 [00:00<00:00, 472.07it/s]"
     ]
    },
    {
     "name": "stderr",
     "output_type": "stream",
     "text": [
      "Restoring states from the checkpoint path at /Users/benjaminvaca/Documents/USFQ/semestre7/machine_learning/proyecto/lightning_logs/version_96/checkpoints/epoch=2-step=102.ckpt\n"
     ]
    },
    {
     "name": "stdout",
     "output_type": "stream",
     "text": [
      "\n"
     ]
    },
    {
     "name": "stderr",
     "output_type": "stream",
     "text": [
      "Loaded model weights from the checkpoint at /Users/benjaminvaca/Documents/USFQ/semestre7/machine_learning/proyecto/lightning_logs/version_96/checkpoints/epoch=2-step=102.ckpt\n"
     ]
    },
    {
     "name": "stdout",
     "output_type": "stream",
     "text": [
      "Validation DataLoader 0: 100%|██████████| 9/9 [00:00<00:00, 455.90it/s]"
     ]
    },
    {
     "name": "stderr",
     "output_type": "stream",
     "text": [
      "Restoring states from the checkpoint path at /Users/benjaminvaca/Documents/USFQ/semestre7/machine_learning/proyecto/lightning_logs/version_96/checkpoints/epoch=2-step=102.ckpt\n"
     ]
    },
    {
     "name": "stdout",
     "output_type": "stream",
     "text": [
      "\n"
     ]
    },
    {
     "name": "stderr",
     "output_type": "stream",
     "text": [
      "Loaded model weights from the checkpoint at /Users/benjaminvaca/Documents/USFQ/semestre7/machine_learning/proyecto/lightning_logs/version_96/checkpoints/epoch=2-step=102.ckpt\n"
     ]
    },
    {
     "name": "stdout",
     "output_type": "stream",
     "text": [
      "Testing DataLoader 0: 100%|██████████| 11/11 [00:00<00:00, 375.49it/s]\n"
     ]
    },
    {
     "data": {
      "text/html": [
       "<pre style=\"white-space:pre;overflow-x:auto;line-height:normal;font-family:Menlo,'DejaVu Sans Mono',consolas,'Courier New',monospace\">┏━━━━━━━━━━━━━━━━━━━━━━━━━━━┳━━━━━━━━━━━━━━━━━━━━━━━━━━━┓\n",
       "┃<span style=\"font-weight: bold\">        Test metric        </span>┃<span style=\"font-weight: bold\">       DataLoader 0        </span>┃\n",
       "┡━━━━━━━━━━━━━━━━━━━━━━━━━━━╇━━━━━━━━━━━━━━━━━━━━━━━━━━━┩\n",
       "│<span style=\"color: #008080; text-decoration-color: #008080\">      test_f1ma_epoch      </span>│<span style=\"color: #800080; text-decoration-color: #800080\">    0.14029914140701294    </span>│\n",
       "│<span style=\"color: #008080; text-decoration-color: #008080\">      test_ham_epoch       </span>│<span style=\"color: #800080; text-decoration-color: #800080\">    0.2900688350200653     </span>│\n",
       "│<span style=\"color: #008080; text-decoration-color: #008080\">      test_loss_epoch      </span>│<span style=\"color: #800080; text-decoration-color: #800080\">    0.5794512033462524     </span>│\n",
       "└───────────────────────────┴───────────────────────────┘\n",
       "</pre>\n"
      ],
      "text/plain": [
       "┏━━━━━━━━━━━━━━━━━━━━━━━━━━━┳━━━━━━━━━━━━━━━━━━━━━━━━━━━┓\n",
       "┃\u001b[1m \u001b[0m\u001b[1m       Test metric       \u001b[0m\u001b[1m \u001b[0m┃\u001b[1m \u001b[0m\u001b[1m      DataLoader 0       \u001b[0m\u001b[1m \u001b[0m┃\n",
       "┡━━━━━━━━━━━━━━━━━━━━━━━━━━━╇━━━━━━━━━━━━━━━━━━━━━━━━━━━┩\n",
       "│\u001b[36m \u001b[0m\u001b[36m     test_f1ma_epoch     \u001b[0m\u001b[36m \u001b[0m│\u001b[35m \u001b[0m\u001b[35m   0.14029914140701294   \u001b[0m\u001b[35m \u001b[0m│\n",
       "│\u001b[36m \u001b[0m\u001b[36m     test_ham_epoch      \u001b[0m\u001b[36m \u001b[0m│\u001b[35m \u001b[0m\u001b[35m   0.2900688350200653    \u001b[0m\u001b[35m \u001b[0m│\n",
       "│\u001b[36m \u001b[0m\u001b[36m     test_loss_epoch     \u001b[0m\u001b[36m \u001b[0m│\u001b[35m \u001b[0m\u001b[35m   0.5794512033462524    \u001b[0m\u001b[35m \u001b[0m│\n",
       "└───────────────────────────┴───────────────────────────┘\n"
      ]
     },
     "metadata": {},
     "output_type": "display_data"
    },
    {
     "name": "stdout",
     "output_type": "stream",
     "text": [
      "  loss: 0.5795 | hamming: 0.2901 | f1_macro: 0.1403\n",
      "Fold 8/10\n"
     ]
    },
    {
     "name": "stderr",
     "output_type": "stream",
     "text": [
      "GPU available: True (mps), used: False\n",
      "TPU available: False, using: 0 TPU cores\n",
      "HPU available: False, using: 0 HPUs\n",
      "\n",
      "  | Name       | Type                      | Params | Mode \n",
      "-----------------------------------------------------------------\n",
      "0 | classifier | Sequential                | 562 K  | train\n",
      "1 | loss       | BCEWithLogitsLoss         | 0      | train\n",
      "2 | hamming    | MultilabelHammingDistance | 0      | train\n",
      "3 | f1_macro   | MultilabelF1Score         | 0      | train\n",
      "-----------------------------------------------------------------\n",
      "562 K     Trainable params\n",
      "0         Non-trainable params\n",
      "562 K     Total params\n",
      "2.250     Total estimated model params size (MB)\n",
      "17        Modules in train mode\n",
      "0         Modules in eval mode\n"
     ]
    },
    {
     "name": "stdout",
     "output_type": "stream",
     "text": [
      "Epoch 5: 100%|██████████| 34/34 [00:00<00:00, 172.71it/s, v_num=97, train_loss=0.557, train_ham=0.300, train_f1ma=0.289, val_loss_step=0.582, val_ham_step=0.407, val_f1ma_step=0.040, val_loss_epoch=0.562, val_ham_epoch=0.285, val_f1ma_epoch=0.159] "
     ]
    },
    {
     "name": "stderr",
     "output_type": "stream",
     "text": [
      "Restoring states from the checkpoint path at /Users/benjaminvaca/Documents/USFQ/semestre7/machine_learning/proyecto/lightning_logs/version_97/checkpoints/epoch=2-step=102.ckpt\n"
     ]
    },
    {
     "name": "stdout",
     "output_type": "stream",
     "text": [
      "\n"
     ]
    },
    {
     "name": "stderr",
     "output_type": "stream",
     "text": [
      "Loaded model weights from the checkpoint at /Users/benjaminvaca/Documents/USFQ/semestre7/machine_learning/proyecto/lightning_logs/version_97/checkpoints/epoch=2-step=102.ckpt\n"
     ]
    },
    {
     "name": "stdout",
     "output_type": "stream",
     "text": [
      "Validation DataLoader 0: 100%|██████████| 34/34 [00:00<00:00, 463.50it/s]"
     ]
    },
    {
     "name": "stderr",
     "output_type": "stream",
     "text": [
      "Restoring states from the checkpoint path at /Users/benjaminvaca/Documents/USFQ/semestre7/machine_learning/proyecto/lightning_logs/version_97/checkpoints/epoch=2-step=102.ckpt\n"
     ]
    },
    {
     "name": "stdout",
     "output_type": "stream",
     "text": [
      "\n"
     ]
    },
    {
     "name": "stderr",
     "output_type": "stream",
     "text": [
      "Loaded model weights from the checkpoint at /Users/benjaminvaca/Documents/USFQ/semestre7/machine_learning/proyecto/lightning_logs/version_97/checkpoints/epoch=2-step=102.ckpt\n"
     ]
    },
    {
     "name": "stdout",
     "output_type": "stream",
     "text": [
      "Validation DataLoader 0: 100%|██████████| 9/9 [00:00<00:00, 437.53it/s]\n"
     ]
    },
    {
     "name": "stderr",
     "output_type": "stream",
     "text": [
      "Restoring states from the checkpoint path at /Users/benjaminvaca/Documents/USFQ/semestre7/machine_learning/proyecto/lightning_logs/version_97/checkpoints/epoch=2-step=102.ckpt\n",
      "Loaded model weights from the checkpoint at /Users/benjaminvaca/Documents/USFQ/semestre7/machine_learning/proyecto/lightning_logs/version_97/checkpoints/epoch=2-step=102.ckpt\n"
     ]
    },
    {
     "name": "stdout",
     "output_type": "stream",
     "text": [
      "Testing DataLoader 0: 100%|██████████| 11/11 [00:00<00:00, 426.18it/s]\n"
     ]
    },
    {
     "data": {
      "text/html": [
       "<pre style=\"white-space:pre;overflow-x:auto;line-height:normal;font-family:Menlo,'DejaVu Sans Mono',consolas,'Courier New',monospace\">┏━━━━━━━━━━━━━━━━━━━━━━━━━━━┳━━━━━━━━━━━━━━━━━━━━━━━━━━━┓\n",
       "┃<span style=\"font-weight: bold\">        Test metric        </span>┃<span style=\"font-weight: bold\">       DataLoader 0        </span>┃\n",
       "┡━━━━━━━━━━━━━━━━━━━━━━━━━━━╇━━━━━━━━━━━━━━━━━━━━━━━━━━━┩\n",
       "│<span style=\"color: #008080; text-decoration-color: #008080\">      test_f1ma_epoch      </span>│<span style=\"color: #800080; text-decoration-color: #800080\">    0.13317257165908813    </span>│\n",
       "│<span style=\"color: #008080; text-decoration-color: #008080\">      test_ham_epoch       </span>│<span style=\"color: #800080; text-decoration-color: #800080\">    0.3005571961402893     </span>│\n",
       "│<span style=\"color: #008080; text-decoration-color: #008080\">      test_loss_epoch      </span>│<span style=\"color: #800080; text-decoration-color: #800080\">    0.5794424414634705     </span>│\n",
       "└───────────────────────────┴───────────────────────────┘\n",
       "</pre>\n"
      ],
      "text/plain": [
       "┏━━━━━━━━━━━━━━━━━━━━━━━━━━━┳━━━━━━━━━━━━━━━━━━━━━━━━━━━┓\n",
       "┃\u001b[1m \u001b[0m\u001b[1m       Test metric       \u001b[0m\u001b[1m \u001b[0m┃\u001b[1m \u001b[0m\u001b[1m      DataLoader 0       \u001b[0m\u001b[1m \u001b[0m┃\n",
       "┡━━━━━━━━━━━━━━━━━━━━━━━━━━━╇━━━━━━━━━━━━━━━━━━━━━━━━━━━┩\n",
       "│\u001b[36m \u001b[0m\u001b[36m     test_f1ma_epoch     \u001b[0m\u001b[36m \u001b[0m│\u001b[35m \u001b[0m\u001b[35m   0.13317257165908813   \u001b[0m\u001b[35m \u001b[0m│\n",
       "│\u001b[36m \u001b[0m\u001b[36m     test_ham_epoch      \u001b[0m\u001b[36m \u001b[0m│\u001b[35m \u001b[0m\u001b[35m   0.3005571961402893    \u001b[0m\u001b[35m \u001b[0m│\n",
       "│\u001b[36m \u001b[0m\u001b[36m     test_loss_epoch     \u001b[0m\u001b[36m \u001b[0m│\u001b[35m \u001b[0m\u001b[35m   0.5794424414634705    \u001b[0m\u001b[35m \u001b[0m│\n",
       "└───────────────────────────┴───────────────────────────┘\n"
      ]
     },
     "metadata": {},
     "output_type": "display_data"
    },
    {
     "name": "stdout",
     "output_type": "stream",
     "text": [
      "  loss: 0.5794 | hamming: 0.3006 | f1_macro: 0.1332\n",
      "Fold 9/10\n"
     ]
    },
    {
     "name": "stderr",
     "output_type": "stream",
     "text": [
      "GPU available: True (mps), used: False\n",
      "TPU available: False, using: 0 TPU cores\n",
      "HPU available: False, using: 0 HPUs\n",
      "\n",
      "  | Name       | Type                      | Params | Mode \n",
      "-----------------------------------------------------------------\n",
      "0 | classifier | Sequential                | 562 K  | train\n",
      "1 | loss       | BCEWithLogitsLoss         | 0      | train\n",
      "2 | hamming    | MultilabelHammingDistance | 0      | train\n",
      "3 | f1_macro   | MultilabelF1Score         | 0      | train\n",
      "-----------------------------------------------------------------\n",
      "562 K     Trainable params\n",
      "0         Non-trainable params\n",
      "562 K     Total params\n",
      "2.250     Total estimated model params size (MB)\n",
      "17        Modules in train mode\n",
      "0         Modules in eval mode\n"
     ]
    },
    {
     "name": "stdout",
     "output_type": "stream",
     "text": [
      "Epoch 5: 100%|██████████| 34/34 [00:00<00:00, 173.03it/s, v_num=98, train_loss=0.584, train_ham=0.311, train_f1ma=0.225, val_loss_step=0.575, val_ham_step=0.385, val_f1ma_step=0.0632, val_loss_epoch=0.569, val_ham_epoch=0.290, val_f1ma_epoch=0.160]"
     ]
    },
    {
     "name": "stderr",
     "output_type": "stream",
     "text": [
      "Restoring states from the checkpoint path at /Users/benjaminvaca/Documents/USFQ/semestre7/machine_learning/proyecto/lightning_logs/version_98/checkpoints/epoch=2-step=102.ckpt\n"
     ]
    },
    {
     "name": "stdout",
     "output_type": "stream",
     "text": [
      "\n"
     ]
    },
    {
     "name": "stderr",
     "output_type": "stream",
     "text": [
      "Loaded model weights from the checkpoint at /Users/benjaminvaca/Documents/USFQ/semestre7/machine_learning/proyecto/lightning_logs/version_98/checkpoints/epoch=2-step=102.ckpt\n"
     ]
    },
    {
     "name": "stdout",
     "output_type": "stream",
     "text": [
      "Validation DataLoader 0: 100%|██████████| 34/34 [00:00<00:00, 480.84it/s]\n"
     ]
    },
    {
     "name": "stderr",
     "output_type": "stream",
     "text": [
      "Restoring states from the checkpoint path at /Users/benjaminvaca/Documents/USFQ/semestre7/machine_learning/proyecto/lightning_logs/version_98/checkpoints/epoch=2-step=102.ckpt\n",
      "Loaded model weights from the checkpoint at /Users/benjaminvaca/Documents/USFQ/semestre7/machine_learning/proyecto/lightning_logs/version_98/checkpoints/epoch=2-step=102.ckpt\n"
     ]
    },
    {
     "name": "stdout",
     "output_type": "stream",
     "text": [
      "Validation DataLoader 0: 100%|██████████| 9/9 [00:00<00:00, 406.43it/s]"
     ]
    },
    {
     "name": "stderr",
     "output_type": "stream",
     "text": [
      "Restoring states from the checkpoint path at /Users/benjaminvaca/Documents/USFQ/semestre7/machine_learning/proyecto/lightning_logs/version_98/checkpoints/epoch=2-step=102.ckpt\n"
     ]
    },
    {
     "name": "stdout",
     "output_type": "stream",
     "text": [
      "\n"
     ]
    },
    {
     "name": "stderr",
     "output_type": "stream",
     "text": [
      "Loaded model weights from the checkpoint at /Users/benjaminvaca/Documents/USFQ/semestre7/machine_learning/proyecto/lightning_logs/version_98/checkpoints/epoch=2-step=102.ckpt\n"
     ]
    },
    {
     "name": "stdout",
     "output_type": "stream",
     "text": [
      "Testing DataLoader 0: 100%|██████████| 11/11 [00:00<00:00, 417.14it/s]\n"
     ]
    },
    {
     "data": {
      "text/html": [
       "<pre style=\"white-space:pre;overflow-x:auto;line-height:normal;font-family:Menlo,'DejaVu Sans Mono',consolas,'Courier New',monospace\">┏━━━━━━━━━━━━━━━━━━━━━━━━━━━┳━━━━━━━━━━━━━━━━━━━━━━━━━━━┓\n",
       "┃<span style=\"font-weight: bold\">        Test metric        </span>┃<span style=\"font-weight: bold\">       DataLoader 0        </span>┃\n",
       "┡━━━━━━━━━━━━━━━━━━━━━━━━━━━╇━━━━━━━━━━━━━━━━━━━━━━━━━━━┩\n",
       "│<span style=\"color: #008080; text-decoration-color: #008080\">      test_f1ma_epoch      </span>│<span style=\"color: #800080; text-decoration-color: #800080\">    0.15890726447105408    </span>│\n",
       "│<span style=\"color: #008080; text-decoration-color: #008080\">      test_ham_epoch       </span>│<span style=\"color: #800080; text-decoration-color: #800080\">    0.2995739281177521     </span>│\n",
       "│<span style=\"color: #008080; text-decoration-color: #008080\">      test_loss_epoch      </span>│<span style=\"color: #800080; text-decoration-color: #800080\">    0.5759359002113342     </span>│\n",
       "└───────────────────────────┴───────────────────────────┘\n",
       "</pre>\n"
      ],
      "text/plain": [
       "┏━━━━━━━━━━━━━━━━━━━━━━━━━━━┳━━━━━━━━━━━━━━━━━━━━━━━━━━━┓\n",
       "┃\u001b[1m \u001b[0m\u001b[1m       Test metric       \u001b[0m\u001b[1m \u001b[0m┃\u001b[1m \u001b[0m\u001b[1m      DataLoader 0       \u001b[0m\u001b[1m \u001b[0m┃\n",
       "┡━━━━━━━━━━━━━━━━━━━━━━━━━━━╇━━━━━━━━━━━━━━━━━━━━━━━━━━━┩\n",
       "│\u001b[36m \u001b[0m\u001b[36m     test_f1ma_epoch     \u001b[0m\u001b[36m \u001b[0m│\u001b[35m \u001b[0m\u001b[35m   0.15890726447105408   \u001b[0m\u001b[35m \u001b[0m│\n",
       "│\u001b[36m \u001b[0m\u001b[36m     test_ham_epoch      \u001b[0m\u001b[36m \u001b[0m│\u001b[35m \u001b[0m\u001b[35m   0.2995739281177521    \u001b[0m\u001b[35m \u001b[0m│\n",
       "│\u001b[36m \u001b[0m\u001b[36m     test_loss_epoch     \u001b[0m\u001b[36m \u001b[0m│\u001b[35m \u001b[0m\u001b[35m   0.5759359002113342    \u001b[0m\u001b[35m \u001b[0m│\n",
       "└───────────────────────────┴───────────────────────────┘\n"
      ]
     },
     "metadata": {},
     "output_type": "display_data"
    },
    {
     "name": "stdout",
     "output_type": "stream",
     "text": [
      "  loss: 0.5759 | hamming: 0.2996 | f1_macro: 0.1589\n",
      "Fold 10/10\n"
     ]
    },
    {
     "name": "stderr",
     "output_type": "stream",
     "text": [
      "GPU available: True (mps), used: False\n",
      "TPU available: False, using: 0 TPU cores\n",
      "HPU available: False, using: 0 HPUs\n",
      "\n",
      "  | Name       | Type                      | Params | Mode \n",
      "-----------------------------------------------------------------\n",
      "0 | classifier | Sequential                | 562 K  | train\n",
      "1 | loss       | BCEWithLogitsLoss         | 0      | train\n",
      "2 | hamming    | MultilabelHammingDistance | 0      | train\n",
      "3 | f1_macro   | MultilabelF1Score         | 0      | train\n",
      "-----------------------------------------------------------------\n",
      "562 K     Trainable params\n",
      "0         Non-trainable params\n",
      "562 K     Total params\n",
      "2.250     Total estimated model params size (MB)\n",
      "17        Modules in train mode\n",
      "0         Modules in eval mode\n"
     ]
    },
    {
     "name": "stdout",
     "output_type": "stream",
     "text": [
      "Epoch 7: 100%|██████████| 34/34 [00:00<00:00, 181.55it/s, v_num=99, train_loss=0.554, train_ham=0.296, train_f1ma=0.248, val_loss_step=0.574, val_ham_step=0.267, val_f1ma_step=0.113, val_loss_epoch=0.579, val_ham_epoch=0.317, val_f1ma_epoch=0.132] \n"
     ]
    },
    {
     "name": "stderr",
     "output_type": "stream",
     "text": [
      "Restoring states from the checkpoint path at /Users/benjaminvaca/Documents/USFQ/semestre7/machine_learning/proyecto/lightning_logs/version_99/checkpoints/epoch=4-step=170.ckpt\n",
      "Loaded model weights from the checkpoint at /Users/benjaminvaca/Documents/USFQ/semestre7/machine_learning/proyecto/lightning_logs/version_99/checkpoints/epoch=4-step=170.ckpt\n"
     ]
    },
    {
     "name": "stdout",
     "output_type": "stream",
     "text": [
      "Validation DataLoader 0: 100%|██████████| 34/34 [00:00<00:00, 485.06it/s]"
     ]
    },
    {
     "name": "stderr",
     "output_type": "stream",
     "text": [
      "Restoring states from the checkpoint path at /Users/benjaminvaca/Documents/USFQ/semestre7/machine_learning/proyecto/lightning_logs/version_99/checkpoints/epoch=4-step=170.ckpt\n"
     ]
    },
    {
     "name": "stdout",
     "output_type": "stream",
     "text": [
      "\n"
     ]
    },
    {
     "name": "stderr",
     "output_type": "stream",
     "text": [
      "Loaded model weights from the checkpoint at /Users/benjaminvaca/Documents/USFQ/semestre7/machine_learning/proyecto/lightning_logs/version_99/checkpoints/epoch=4-step=170.ckpt\n"
     ]
    },
    {
     "name": "stdout",
     "output_type": "stream",
     "text": [
      "Validation DataLoader 0: 100%|██████████| 9/9 [00:00<00:00, 444.62it/s]\n"
     ]
    },
    {
     "name": "stderr",
     "output_type": "stream",
     "text": [
      "Restoring states from the checkpoint path at /Users/benjaminvaca/Documents/USFQ/semestre7/machine_learning/proyecto/lightning_logs/version_99/checkpoints/epoch=4-step=170.ckpt\n",
      "Loaded model weights from the checkpoint at /Users/benjaminvaca/Documents/USFQ/semestre7/machine_learning/proyecto/lightning_logs/version_99/checkpoints/epoch=4-step=170.ckpt\n"
     ]
    },
    {
     "name": "stdout",
     "output_type": "stream",
     "text": [
      "Testing DataLoader 0: 100%|██████████| 11/11 [00:00<00:00, 474.22it/s]\n"
     ]
    },
    {
     "data": {
      "text/html": [
       "<pre style=\"white-space:pre;overflow-x:auto;line-height:normal;font-family:Menlo,'DejaVu Sans Mono',consolas,'Courier New',monospace\">┏━━━━━━━━━━━━━━━━━━━━━━━━━━━┳━━━━━━━━━━━━━━━━━━━━━━━━━━━┓\n",
       "┃<span style=\"font-weight: bold\">        Test metric        </span>┃<span style=\"font-weight: bold\">       DataLoader 0        </span>┃\n",
       "┡━━━━━━━━━━━━━━━━━━━━━━━━━━━╇━━━━━━━━━━━━━━━━━━━━━━━━━━━┩\n",
       "│<span style=\"color: #008080; text-decoration-color: #008080\">      test_f1ma_epoch      </span>│<span style=\"color: #800080; text-decoration-color: #800080\">    0.1444435566663742     </span>│\n",
       "│<span style=\"color: #008080; text-decoration-color: #008080\">      test_ham_epoch       </span>│<span style=\"color: #800080; text-decoration-color: #800080\">    0.2887578010559082     </span>│\n",
       "│<span style=\"color: #008080; text-decoration-color: #008080\">      test_loss_epoch      </span>│<span style=\"color: #800080; text-decoration-color: #800080\">    0.5646771192550659     </span>│\n",
       "└───────────────────────────┴───────────────────────────┘\n",
       "</pre>\n"
      ],
      "text/plain": [
       "┏━━━━━━━━━━━━━━━━━━━━━━━━━━━┳━━━━━━━━━━━━━━━━━━━━━━━━━━━┓\n",
       "┃\u001b[1m \u001b[0m\u001b[1m       Test metric       \u001b[0m\u001b[1m \u001b[0m┃\u001b[1m \u001b[0m\u001b[1m      DataLoader 0       \u001b[0m\u001b[1m \u001b[0m┃\n",
       "┡━━━━━━━━━━━━━━━━━━━━━━━━━━━╇━━━━━━━━━━━━━━━━━━━━━━━━━━━┩\n",
       "│\u001b[36m \u001b[0m\u001b[36m     test_f1ma_epoch     \u001b[0m\u001b[36m \u001b[0m│\u001b[35m \u001b[0m\u001b[35m   0.1444435566663742    \u001b[0m\u001b[35m \u001b[0m│\n",
       "│\u001b[36m \u001b[0m\u001b[36m     test_ham_epoch      \u001b[0m\u001b[36m \u001b[0m│\u001b[35m \u001b[0m\u001b[35m   0.2887578010559082    \u001b[0m\u001b[35m \u001b[0m│\n",
       "│\u001b[36m \u001b[0m\u001b[36m     test_loss_epoch     \u001b[0m\u001b[36m \u001b[0m│\u001b[35m \u001b[0m\u001b[35m   0.5646771192550659    \u001b[0m\u001b[35m \u001b[0m│\n",
       "└───────────────────────────┴───────────────────────────┘\n"
      ]
     },
     "metadata": {},
     "output_type": "display_data"
    },
    {
     "name": "stdout",
     "output_type": "stream",
     "text": [
      "  loss: 0.5647 | hamming: 0.2888 | f1_macro: 0.1444\n",
      "\n",
      "F1-macro promedio: 0.1615 ± 0.0255\n",
      "Hamming promedio: 0.2955 ± 0.0115\n",
      "Pérdida promedio:         0.5798 ± 0.0143\n",
      "HU=[512, 256, 128]  L2=0.01 → val_f1ma: 0.1615\n",
      "Fold 1/10\n"
     ]
    },
    {
     "name": "stderr",
     "output_type": "stream",
     "text": [
      "GPU available: True (mps), used: False\n",
      "TPU available: False, using: 0 TPU cores\n",
      "HPU available: False, using: 0 HPUs\n",
      "\n",
      "  | Name       | Type                      | Params | Mode \n",
      "-----------------------------------------------------------------\n",
      "0 | classifier | Sequential                | 562 K  | train\n",
      "1 | loss       | BCEWithLogitsLoss         | 0      | train\n",
      "2 | hamming    | MultilabelHammingDistance | 0      | train\n",
      "3 | f1_macro   | MultilabelF1Score         | 0      | train\n",
      "-----------------------------------------------------------------\n",
      "562 K     Trainable params\n",
      "0         Non-trainable params\n",
      "562 K     Total params\n",
      "2.250     Total estimated model params size (MB)\n",
      "17        Modules in train mode\n",
      "0         Modules in eval mode\n"
     ]
    },
    {
     "name": "stdout",
     "output_type": "stream",
     "text": [
      "Epoch 3: 100%|██████████| 34/34 [00:00<00:00, 172.10it/s, v_num=100, train_loss=0.569, train_ham=0.310, train_f1ma=0.286, val_loss_step=0.530, val_ham_step=0.368, val_f1ma_step=0.0795, val_loss_epoch=0.557, val_ham_epoch=0.285, val_f1ma_epoch=0.172]"
     ]
    },
    {
     "name": "stderr",
     "output_type": "stream",
     "text": [
      "Restoring states from the checkpoint path at /Users/benjaminvaca/Documents/USFQ/semestre7/machine_learning/proyecto/lightning_logs/version_100/checkpoints/epoch=0-step=34.ckpt\n"
     ]
    },
    {
     "name": "stdout",
     "output_type": "stream",
     "text": [
      "\n"
     ]
    },
    {
     "name": "stderr",
     "output_type": "stream",
     "text": [
      "Loaded model weights from the checkpoint at /Users/benjaminvaca/Documents/USFQ/semestre7/machine_learning/proyecto/lightning_logs/version_100/checkpoints/epoch=0-step=34.ckpt\n"
     ]
    },
    {
     "name": "stdout",
     "output_type": "stream",
     "text": [
      "Validation DataLoader 0: 100%|██████████| 34/34 [00:00<00:00, 490.95it/s]"
     ]
    },
    {
     "name": "stderr",
     "output_type": "stream",
     "text": [
      "Restoring states from the checkpoint path at /Users/benjaminvaca/Documents/USFQ/semestre7/machine_learning/proyecto/lightning_logs/version_100/checkpoints/epoch=0-step=34.ckpt\n"
     ]
    },
    {
     "name": "stdout",
     "output_type": "stream",
     "text": [
      "\n"
     ]
    },
    {
     "name": "stderr",
     "output_type": "stream",
     "text": [
      "Loaded model weights from the checkpoint at /Users/benjaminvaca/Documents/USFQ/semestre7/machine_learning/proyecto/lightning_logs/version_100/checkpoints/epoch=0-step=34.ckpt\n"
     ]
    },
    {
     "name": "stdout",
     "output_type": "stream",
     "text": [
      "Validation DataLoader 0: 100%|██████████| 9/9 [00:00<00:00, 174.27it/s]\n"
     ]
    },
    {
     "name": "stderr",
     "output_type": "stream",
     "text": [
      "Restoring states from the checkpoint path at /Users/benjaminvaca/Documents/USFQ/semestre7/machine_learning/proyecto/lightning_logs/version_100/checkpoints/epoch=0-step=34.ckpt\n",
      "Loaded model weights from the checkpoint at /Users/benjaminvaca/Documents/USFQ/semestre7/machine_learning/proyecto/lightning_logs/version_100/checkpoints/epoch=0-step=34.ckpt\n"
     ]
    },
    {
     "name": "stdout",
     "output_type": "stream",
     "text": [
      "Testing DataLoader 0: 100%|██████████| 11/11 [00:00<00:00, 436.73it/s]\n"
     ]
    },
    {
     "data": {
      "text/html": [
       "<pre style=\"white-space:pre;overflow-x:auto;line-height:normal;font-family:Menlo,'DejaVu Sans Mono',consolas,'Courier New',monospace\">┏━━━━━━━━━━━━━━━━━━━━━━━━━━━┳━━━━━━━━━━━━━━━━━━━━━━━━━━━┓\n",
       "┃<span style=\"font-weight: bold\">        Test metric        </span>┃<span style=\"font-weight: bold\">       DataLoader 0        </span>┃\n",
       "┡━━━━━━━━━━━━━━━━━━━━━━━━━━━╇━━━━━━━━━━━━━━━━━━━━━━━━━━━┩\n",
       "│<span style=\"color: #008080; text-decoration-color: #008080\">      test_f1ma_epoch      </span>│<span style=\"color: #800080; text-decoration-color: #800080\">    0.1907544881105423     </span>│\n",
       "│<span style=\"color: #008080; text-decoration-color: #008080\">      test_ham_epoch       </span>│<span style=\"color: #800080; text-decoration-color: #800080\">    0.30907902121543884    </span>│\n",
       "│<span style=\"color: #008080; text-decoration-color: #008080\">      test_loss_epoch      </span>│<span style=\"color: #800080; text-decoration-color: #800080\">     0.606070339679718     </span>│\n",
       "└───────────────────────────┴───────────────────────────┘\n",
       "</pre>\n"
      ],
      "text/plain": [
       "┏━━━━━━━━━━━━━━━━━━━━━━━━━━━┳━━━━━━━━━━━━━━━━━━━━━━━━━━━┓\n",
       "┃\u001b[1m \u001b[0m\u001b[1m       Test metric       \u001b[0m\u001b[1m \u001b[0m┃\u001b[1m \u001b[0m\u001b[1m      DataLoader 0       \u001b[0m\u001b[1m \u001b[0m┃\n",
       "┡━━━━━━━━━━━━━━━━━━━━━━━━━━━╇━━━━━━━━━━━━━━━━━━━━━━━━━━━┩\n",
       "│\u001b[36m \u001b[0m\u001b[36m     test_f1ma_epoch     \u001b[0m\u001b[36m \u001b[0m│\u001b[35m \u001b[0m\u001b[35m   0.1907544881105423    \u001b[0m\u001b[35m \u001b[0m│\n",
       "│\u001b[36m \u001b[0m\u001b[36m     test_ham_epoch      \u001b[0m\u001b[36m \u001b[0m│\u001b[35m \u001b[0m\u001b[35m   0.30907902121543884   \u001b[0m\u001b[35m \u001b[0m│\n",
       "│\u001b[36m \u001b[0m\u001b[36m     test_loss_epoch     \u001b[0m\u001b[36m \u001b[0m│\u001b[35m \u001b[0m\u001b[35m    0.606070339679718    \u001b[0m\u001b[35m \u001b[0m│\n",
       "└───────────────────────────┴───────────────────────────┘\n"
      ]
     },
     "metadata": {},
     "output_type": "display_data"
    },
    {
     "name": "stdout",
     "output_type": "stream",
     "text": [
      "  loss: 0.6061 | hamming: 0.3091 | f1_macro: 0.1908\n",
      "Fold 2/10\n"
     ]
    },
    {
     "name": "stderr",
     "output_type": "stream",
     "text": [
      "GPU available: True (mps), used: False\n",
      "TPU available: False, using: 0 TPU cores\n",
      "HPU available: False, using: 0 HPUs\n",
      "\n",
      "  | Name       | Type                      | Params | Mode \n",
      "-----------------------------------------------------------------\n",
      "0 | classifier | Sequential                | 562 K  | train\n",
      "1 | loss       | BCEWithLogitsLoss         | 0      | train\n",
      "2 | hamming    | MultilabelHammingDistance | 0      | train\n",
      "3 | f1_macro   | MultilabelF1Score         | 0      | train\n",
      "-----------------------------------------------------------------\n",
      "562 K     Trainable params\n",
      "0         Non-trainable params\n",
      "562 K     Total params\n",
      "2.250     Total estimated model params size (MB)\n",
      "17        Modules in train mode\n",
      "0         Modules in eval mode\n"
     ]
    },
    {
     "name": "stdout",
     "output_type": "stream",
     "text": [
      "Epoch 4: 100%|██████████| 34/34 [00:00<00:00, 177.21it/s, v_num=101, train_loss=0.525, train_ham=0.253, train_f1ma=0.437, val_loss_step=0.596, val_ham_step=0.396, val_f1ma_step=0.0691, val_loss_epoch=0.558, val_ham_epoch=0.296, val_f1ma_epoch=0.164]"
     ]
    },
    {
     "name": "stderr",
     "output_type": "stream",
     "text": [
      "Restoring states from the checkpoint path at /Users/benjaminvaca/Documents/USFQ/semestre7/machine_learning/proyecto/lightning_logs/version_101/checkpoints/epoch=1-step=68.ckpt\n",
      "Loaded model weights from the checkpoint at /Users/benjaminvaca/Documents/USFQ/semestre7/machine_learning/proyecto/lightning_logs/version_101/checkpoints/epoch=1-step=68.ckpt\n"
     ]
    },
    {
     "name": "stdout",
     "output_type": "stream",
     "text": [
      "\n",
      "Validation DataLoader 0: 100%|██████████| 34/34 [00:00<00:00, 487.99it/s]"
     ]
    },
    {
     "name": "stderr",
     "output_type": "stream",
     "text": [
      "Restoring states from the checkpoint path at /Users/benjaminvaca/Documents/USFQ/semestre7/machine_learning/proyecto/lightning_logs/version_101/checkpoints/epoch=1-step=68.ckpt\n"
     ]
    },
    {
     "name": "stdout",
     "output_type": "stream",
     "text": [
      "\n"
     ]
    },
    {
     "name": "stderr",
     "output_type": "stream",
     "text": [
      "Loaded model weights from the checkpoint at /Users/benjaminvaca/Documents/USFQ/semestre7/machine_learning/proyecto/lightning_logs/version_101/checkpoints/epoch=1-step=68.ckpt\n"
     ]
    },
    {
     "name": "stdout",
     "output_type": "stream",
     "text": [
      "Validation DataLoader 0: 100%|██████████| 9/9 [00:00<00:00, 443.67it/s]\n"
     ]
    },
    {
     "name": "stderr",
     "output_type": "stream",
     "text": [
      "Restoring states from the checkpoint path at /Users/benjaminvaca/Documents/USFQ/semestre7/machine_learning/proyecto/lightning_logs/version_101/checkpoints/epoch=1-step=68.ckpt\n",
      "Loaded model weights from the checkpoint at /Users/benjaminvaca/Documents/USFQ/semestre7/machine_learning/proyecto/lightning_logs/version_101/checkpoints/epoch=1-step=68.ckpt\n"
     ]
    },
    {
     "name": "stdout",
     "output_type": "stream",
     "text": [
      "Testing DataLoader 0: 100%|██████████| 11/11 [00:00<00:00, 458.54it/s]\n"
     ]
    },
    {
     "data": {
      "text/html": [
       "<pre style=\"white-space:pre;overflow-x:auto;line-height:normal;font-family:Menlo,'DejaVu Sans Mono',consolas,'Courier New',monospace\">┏━━━━━━━━━━━━━━━━━━━━━━━━━━━┳━━━━━━━━━━━━━━━━━━━━━━━━━━━┓\n",
       "┃<span style=\"font-weight: bold\">        Test metric        </span>┃<span style=\"font-weight: bold\">       DataLoader 0        </span>┃\n",
       "┡━━━━━━━━━━━━━━━━━━━━━━━━━━━╇━━━━━━━━━━━━━━━━━━━━━━━━━━━┩\n",
       "│<span style=\"color: #008080; text-decoration-color: #008080\">      test_f1ma_epoch      </span>│<span style=\"color: #800080; text-decoration-color: #800080\">    0.20696182548999786    </span>│\n",
       "│<span style=\"color: #008080; text-decoration-color: #008080\">      test_ham_epoch       </span>│<span style=\"color: #800080; text-decoration-color: #800080\">    0.2930186986923218     </span>│\n",
       "│<span style=\"color: #008080; text-decoration-color: #008080\">      test_loss_epoch      </span>│<span style=\"color: #800080; text-decoration-color: #800080\">     0.576691746711731     </span>│\n",
       "└───────────────────────────┴───────────────────────────┘\n",
       "</pre>\n"
      ],
      "text/plain": [
       "┏━━━━━━━━━━━━━━━━━━━━━━━━━━━┳━━━━━━━━━━━━━━━━━━━━━━━━━━━┓\n",
       "┃\u001b[1m \u001b[0m\u001b[1m       Test metric       \u001b[0m\u001b[1m \u001b[0m┃\u001b[1m \u001b[0m\u001b[1m      DataLoader 0       \u001b[0m\u001b[1m \u001b[0m┃\n",
       "┡━━━━━━━━━━━━━━━━━━━━━━━━━━━╇━━━━━━━━━━━━━━━━━━━━━━━━━━━┩\n",
       "│\u001b[36m \u001b[0m\u001b[36m     test_f1ma_epoch     \u001b[0m\u001b[36m \u001b[0m│\u001b[35m \u001b[0m\u001b[35m   0.20696182548999786   \u001b[0m\u001b[35m \u001b[0m│\n",
       "│\u001b[36m \u001b[0m\u001b[36m     test_ham_epoch      \u001b[0m\u001b[36m \u001b[0m│\u001b[35m \u001b[0m\u001b[35m   0.2930186986923218    \u001b[0m\u001b[35m \u001b[0m│\n",
       "│\u001b[36m \u001b[0m\u001b[36m     test_loss_epoch     \u001b[0m\u001b[36m \u001b[0m│\u001b[35m \u001b[0m\u001b[35m    0.576691746711731    \u001b[0m\u001b[35m \u001b[0m│\n",
       "└───────────────────────────┴───────────────────────────┘\n"
      ]
     },
     "metadata": {},
     "output_type": "display_data"
    },
    {
     "name": "stdout",
     "output_type": "stream",
     "text": [
      "  loss: 0.5767 | hamming: 0.2930 | f1_macro: 0.2070\n",
      "Fold 3/10\n"
     ]
    },
    {
     "name": "stderr",
     "output_type": "stream",
     "text": [
      "GPU available: True (mps), used: False\n",
      "TPU available: False, using: 0 TPU cores\n",
      "HPU available: False, using: 0 HPUs\n",
      "\n",
      "  | Name       | Type                      | Params | Mode \n",
      "-----------------------------------------------------------------\n",
      "0 | classifier | Sequential                | 562 K  | train\n",
      "1 | loss       | BCEWithLogitsLoss         | 0      | train\n",
      "2 | hamming    | MultilabelHammingDistance | 0      | train\n",
      "3 | f1_macro   | MultilabelF1Score         | 0      | train\n",
      "-----------------------------------------------------------------\n",
      "562 K     Trainable params\n",
      "0         Non-trainable params\n",
      "562 K     Total params\n",
      "2.250     Total estimated model params size (MB)\n",
      "17        Modules in train mode\n",
      "0         Modules in eval mode\n"
     ]
    },
    {
     "name": "stdout",
     "output_type": "stream",
     "text": [
      "Epoch 3: 100%|██████████| 34/34 [00:00<00:00, 172.84it/s, v_num=102, train_loss=0.560, train_ham=0.281, train_f1ma=0.345, val_loss_step=0.554, val_ham_step=0.400, val_f1ma_step=0.0523, val_loss_epoch=0.568, val_ham_epoch=0.298, val_f1ma_epoch=0.155]"
     ]
    },
    {
     "name": "stderr",
     "output_type": "stream",
     "text": [
      "Restoring states from the checkpoint path at /Users/benjaminvaca/Documents/USFQ/semestre7/machine_learning/proyecto/lightning_logs/version_102/checkpoints/epoch=0-step=34.ckpt\n"
     ]
    },
    {
     "name": "stdout",
     "output_type": "stream",
     "text": [
      "\n"
     ]
    },
    {
     "name": "stderr",
     "output_type": "stream",
     "text": [
      "Loaded model weights from the checkpoint at /Users/benjaminvaca/Documents/USFQ/semestre7/machine_learning/proyecto/lightning_logs/version_102/checkpoints/epoch=0-step=34.ckpt\n"
     ]
    },
    {
     "name": "stdout",
     "output_type": "stream",
     "text": [
      "Validation DataLoader 0: 100%|██████████| 34/34 [00:00<00:00, 492.90it/s]\n"
     ]
    },
    {
     "name": "stderr",
     "output_type": "stream",
     "text": [
      "Restoring states from the checkpoint path at /Users/benjaminvaca/Documents/USFQ/semestre7/machine_learning/proyecto/lightning_logs/version_102/checkpoints/epoch=0-step=34.ckpt\n",
      "Loaded model weights from the checkpoint at /Users/benjaminvaca/Documents/USFQ/semestre7/machine_learning/proyecto/lightning_logs/version_102/checkpoints/epoch=0-step=34.ckpt\n"
     ]
    },
    {
     "name": "stdout",
     "output_type": "stream",
     "text": [
      "Validation DataLoader 0: 100%|██████████| 9/9 [00:00<00:00, 458.78it/s]"
     ]
    },
    {
     "name": "stderr",
     "output_type": "stream",
     "text": [
      "Restoring states from the checkpoint path at /Users/benjaminvaca/Documents/USFQ/semestre7/machine_learning/proyecto/lightning_logs/version_102/checkpoints/epoch=0-step=34.ckpt\n"
     ]
    },
    {
     "name": "stdout",
     "output_type": "stream",
     "text": [
      "\n"
     ]
    },
    {
     "name": "stderr",
     "output_type": "stream",
     "text": [
      "Loaded model weights from the checkpoint at /Users/benjaminvaca/Documents/USFQ/semestre7/machine_learning/proyecto/lightning_logs/version_102/checkpoints/epoch=0-step=34.ckpt\n"
     ]
    },
    {
     "name": "stdout",
     "output_type": "stream",
     "text": [
      "Testing DataLoader 0: 100%|██████████| 11/11 [00:00<00:00, 457.57it/s]\n"
     ]
    },
    {
     "data": {
      "text/html": [
       "<pre style=\"white-space:pre;overflow-x:auto;line-height:normal;font-family:Menlo,'DejaVu Sans Mono',consolas,'Courier New',monospace\">┏━━━━━━━━━━━━━━━━━━━━━━━━━━━┳━━━━━━━━━━━━━━━━━━━━━━━━━━━┓\n",
       "┃<span style=\"font-weight: bold\">        Test metric        </span>┃<span style=\"font-weight: bold\">       DataLoader 0        </span>┃\n",
       "┡━━━━━━━━━━━━━━━━━━━━━━━━━━━╇━━━━━━━━━━━━━━━━━━━━━━━━━━━┩\n",
       "│<span style=\"color: #008080; text-decoration-color: #008080\">      test_f1ma_epoch      </span>│<span style=\"color: #800080; text-decoration-color: #800080\">    0.18436723947525024    </span>│\n",
       "│<span style=\"color: #008080; text-decoration-color: #008080\">      test_ham_epoch       </span>│<span style=\"color: #800080; text-decoration-color: #800080\">    0.31661751866340637    </span>│\n",
       "│<span style=\"color: #008080; text-decoration-color: #008080\">      test_loss_epoch      </span>│<span style=\"color: #800080; text-decoration-color: #800080\">    0.6078035831451416     </span>│\n",
       "└───────────────────────────┴───────────────────────────┘\n",
       "</pre>\n"
      ],
      "text/plain": [
       "┏━━━━━━━━━━━━━━━━━━━━━━━━━━━┳━━━━━━━━━━━━━━━━━━━━━━━━━━━┓\n",
       "┃\u001b[1m \u001b[0m\u001b[1m       Test metric       \u001b[0m\u001b[1m \u001b[0m┃\u001b[1m \u001b[0m\u001b[1m      DataLoader 0       \u001b[0m\u001b[1m \u001b[0m┃\n",
       "┡━━━━━━━━━━━━━━━━━━━━━━━━━━━╇━━━━━━━━━━━━━━━━━━━━━━━━━━━┩\n",
       "│\u001b[36m \u001b[0m\u001b[36m     test_f1ma_epoch     \u001b[0m\u001b[36m \u001b[0m│\u001b[35m \u001b[0m\u001b[35m   0.18436723947525024   \u001b[0m\u001b[35m \u001b[0m│\n",
       "│\u001b[36m \u001b[0m\u001b[36m     test_ham_epoch      \u001b[0m\u001b[36m \u001b[0m│\u001b[35m \u001b[0m\u001b[35m   0.31661751866340637   \u001b[0m\u001b[35m \u001b[0m│\n",
       "│\u001b[36m \u001b[0m\u001b[36m     test_loss_epoch     \u001b[0m\u001b[36m \u001b[0m│\u001b[35m \u001b[0m\u001b[35m   0.6078035831451416    \u001b[0m\u001b[35m \u001b[0m│\n",
       "└───────────────────────────┴───────────────────────────┘\n"
      ]
     },
     "metadata": {},
     "output_type": "display_data"
    },
    {
     "name": "stdout",
     "output_type": "stream",
     "text": [
      "  loss: 0.6078 | hamming: 0.3166 | f1_macro: 0.1844\n",
      "Fold 4/10\n"
     ]
    },
    {
     "name": "stderr",
     "output_type": "stream",
     "text": [
      "GPU available: True (mps), used: False\n",
      "TPU available: False, using: 0 TPU cores\n",
      "HPU available: False, using: 0 HPUs\n",
      "\n",
      "  | Name       | Type                      | Params | Mode \n",
      "-----------------------------------------------------------------\n",
      "0 | classifier | Sequential                | 562 K  | train\n",
      "1 | loss       | BCEWithLogitsLoss         | 0      | train\n",
      "2 | hamming    | MultilabelHammingDistance | 0      | train\n",
      "3 | f1_macro   | MultilabelF1Score         | 0      | train\n",
      "-----------------------------------------------------------------\n",
      "562 K     Trainable params\n",
      "0         Non-trainable params\n",
      "562 K     Total params\n",
      "2.250     Total estimated model params size (MB)\n",
      "17        Modules in train mode\n",
      "0         Modules in eval mode\n"
     ]
    },
    {
     "name": "stdout",
     "output_type": "stream",
     "text": [
      "Epoch 3: 100%|██████████| 34/34 [00:00<00:00, 173.28it/s, v_num=103, train_loss=0.569, train_ham=0.315, train_f1ma=0.235, val_loss_step=0.590, val_ham_step=0.244, val_f1ma_step=0.178, val_loss_epoch=0.579, val_ham_epoch=0.323, val_f1ma_epoch=0.147] "
     ]
    },
    {
     "name": "stderr",
     "output_type": "stream",
     "text": [
      "Restoring states from the checkpoint path at /Users/benjaminvaca/Documents/USFQ/semestre7/machine_learning/proyecto/lightning_logs/version_103/checkpoints/epoch=0-step=34.ckpt\n"
     ]
    },
    {
     "name": "stdout",
     "output_type": "stream",
     "text": [
      "\n"
     ]
    },
    {
     "name": "stderr",
     "output_type": "stream",
     "text": [
      "Loaded model weights from the checkpoint at /Users/benjaminvaca/Documents/USFQ/semestre7/machine_learning/proyecto/lightning_logs/version_103/checkpoints/epoch=0-step=34.ckpt\n"
     ]
    },
    {
     "name": "stdout",
     "output_type": "stream",
     "text": [
      "Validation DataLoader 0: 100%|██████████| 34/34 [00:00<00:00, 476.33it/s]\n"
     ]
    },
    {
     "name": "stderr",
     "output_type": "stream",
     "text": [
      "Restoring states from the checkpoint path at /Users/benjaminvaca/Documents/USFQ/semestre7/machine_learning/proyecto/lightning_logs/version_103/checkpoints/epoch=0-step=34.ckpt\n",
      "Loaded model weights from the checkpoint at /Users/benjaminvaca/Documents/USFQ/semestre7/machine_learning/proyecto/lightning_logs/version_103/checkpoints/epoch=0-step=34.ckpt\n"
     ]
    },
    {
     "name": "stdout",
     "output_type": "stream",
     "text": [
      "Validation DataLoader 0: 100%|██████████| 9/9 [00:00<00:00, 439.66it/s]"
     ]
    },
    {
     "name": "stderr",
     "output_type": "stream",
     "text": [
      "Restoring states from the checkpoint path at /Users/benjaminvaca/Documents/USFQ/semestre7/machine_learning/proyecto/lightning_logs/version_103/checkpoints/epoch=0-step=34.ckpt\n"
     ]
    },
    {
     "name": "stdout",
     "output_type": "stream",
     "text": [
      "\n"
     ]
    },
    {
     "name": "stderr",
     "output_type": "stream",
     "text": [
      "Loaded model weights from the checkpoint at /Users/benjaminvaca/Documents/USFQ/semestre7/machine_learning/proyecto/lightning_logs/version_103/checkpoints/epoch=0-step=34.ckpt\n"
     ]
    },
    {
     "name": "stdout",
     "output_type": "stream",
     "text": [
      "Testing DataLoader 0: 100%|██████████| 11/11 [00:00<00:00, 428.73it/s]\n"
     ]
    },
    {
     "data": {
      "text/html": [
       "<pre style=\"white-space:pre;overflow-x:auto;line-height:normal;font-family:Menlo,'DejaVu Sans Mono',consolas,'Courier New',monospace\">┏━━━━━━━━━━━━━━━━━━━━━━━━━━━┳━━━━━━━━━━━━━━━━━━━━━━━━━━━┓\n",
       "┃<span style=\"font-weight: bold\">        Test metric        </span>┃<span style=\"font-weight: bold\">       DataLoader 0        </span>┃\n",
       "┡━━━━━━━━━━━━━━━━━━━━━━━━━━━╇━━━━━━━━━━━━━━━━━━━━━━━━━━━┩\n",
       "│<span style=\"color: #008080; text-decoration-color: #008080\">      test_f1ma_epoch      </span>│<span style=\"color: #800080; text-decoration-color: #800080\">    0.21397748589515686    </span>│\n",
       "│<span style=\"color: #008080; text-decoration-color: #008080\">      test_ham_epoch       </span>│<span style=\"color: #800080; text-decoration-color: #800080\">    0.31071779131889343    </span>│\n",
       "│<span style=\"color: #008080; text-decoration-color: #008080\">      test_loss_epoch      </span>│<span style=\"color: #800080; text-decoration-color: #800080\">    0.6035587191581726     </span>│\n",
       "└───────────────────────────┴───────────────────────────┘\n",
       "</pre>\n"
      ],
      "text/plain": [
       "┏━━━━━━━━━━━━━━━━━━━━━━━━━━━┳━━━━━━━━━━━━━━━━━━━━━━━━━━━┓\n",
       "┃\u001b[1m \u001b[0m\u001b[1m       Test metric       \u001b[0m\u001b[1m \u001b[0m┃\u001b[1m \u001b[0m\u001b[1m      DataLoader 0       \u001b[0m\u001b[1m \u001b[0m┃\n",
       "┡━━━━━━━━━━━━━━━━━━━━━━━━━━━╇━━━━━━━━━━━━━━━━━━━━━━━━━━━┩\n",
       "│\u001b[36m \u001b[0m\u001b[36m     test_f1ma_epoch     \u001b[0m\u001b[36m \u001b[0m│\u001b[35m \u001b[0m\u001b[35m   0.21397748589515686   \u001b[0m\u001b[35m \u001b[0m│\n",
       "│\u001b[36m \u001b[0m\u001b[36m     test_ham_epoch      \u001b[0m\u001b[36m \u001b[0m│\u001b[35m \u001b[0m\u001b[35m   0.31071779131889343   \u001b[0m\u001b[35m \u001b[0m│\n",
       "│\u001b[36m \u001b[0m\u001b[36m     test_loss_epoch     \u001b[0m\u001b[36m \u001b[0m│\u001b[35m \u001b[0m\u001b[35m   0.6035587191581726    \u001b[0m\u001b[35m \u001b[0m│\n",
       "└───────────────────────────┴───────────────────────────┘\n"
      ]
     },
     "metadata": {},
     "output_type": "display_data"
    },
    {
     "name": "stdout",
     "output_type": "stream",
     "text": [
      "  loss: 0.6036 | hamming: 0.3107 | f1_macro: 0.2140\n",
      "Fold 5/10\n"
     ]
    },
    {
     "name": "stderr",
     "output_type": "stream",
     "text": [
      "GPU available: True (mps), used: False\n",
      "TPU available: False, using: 0 TPU cores\n",
      "HPU available: False, using: 0 HPUs\n",
      "\n",
      "  | Name       | Type                      | Params | Mode \n",
      "-----------------------------------------------------------------\n",
      "0 | classifier | Sequential                | 562 K  | train\n",
      "1 | loss       | BCEWithLogitsLoss         | 0      | train\n",
      "2 | hamming    | MultilabelHammingDistance | 0      | train\n",
      "3 | f1_macro   | MultilabelF1Score         | 0      | train\n",
      "-----------------------------------------------------------------\n",
      "562 K     Trainable params\n",
      "0         Non-trainable params\n",
      "562 K     Total params\n",
      "2.250     Total estimated model params size (MB)\n",
      "17        Modules in train mode\n",
      "0         Modules in eval mode\n"
     ]
    },
    {
     "name": "stdout",
     "output_type": "stream",
     "text": [
      "Epoch 22: 100%|██████████| 34/34 [00:00<00:00, 167.95it/s, v_num=104, train_loss=0.457, train_ham=0.226, train_f1ma=0.502, val_loss_step=0.529, val_ham_step=0.333, val_f1ma_step=0.126, val_loss_epoch=0.553, val_ham_epoch=0.286, val_f1ma_epoch=0.202]"
     ]
    },
    {
     "name": "stderr",
     "output_type": "stream",
     "text": [
      "Restoring states from the checkpoint path at /Users/benjaminvaca/Documents/USFQ/semestre7/machine_learning/proyecto/lightning_logs/version_104/checkpoints/epoch=19-step=680.ckpt\n"
     ]
    },
    {
     "name": "stdout",
     "output_type": "stream",
     "text": [
      "\n"
     ]
    },
    {
     "name": "stderr",
     "output_type": "stream",
     "text": [
      "Loaded model weights from the checkpoint at /Users/benjaminvaca/Documents/USFQ/semestre7/machine_learning/proyecto/lightning_logs/version_104/checkpoints/epoch=19-step=680.ckpt\n"
     ]
    },
    {
     "name": "stdout",
     "output_type": "stream",
     "text": [
      "Validation DataLoader 0: 100%|██████████| 34/34 [00:00<00:00, 458.98it/s]"
     ]
    },
    {
     "name": "stderr",
     "output_type": "stream",
     "text": [
      "Restoring states from the checkpoint path at /Users/benjaminvaca/Documents/USFQ/semestre7/machine_learning/proyecto/lightning_logs/version_104/checkpoints/epoch=19-step=680.ckpt\n"
     ]
    },
    {
     "name": "stdout",
     "output_type": "stream",
     "text": [
      "\n"
     ]
    },
    {
     "name": "stderr",
     "output_type": "stream",
     "text": [
      "Loaded model weights from the checkpoint at /Users/benjaminvaca/Documents/USFQ/semestre7/machine_learning/proyecto/lightning_logs/version_104/checkpoints/epoch=19-step=680.ckpt\n"
     ]
    },
    {
     "name": "stdout",
     "output_type": "stream",
     "text": [
      "Validation DataLoader 0: 100%|██████████| 9/9 [00:00<00:00, 417.34it/s]"
     ]
    },
    {
     "name": "stderr",
     "output_type": "stream",
     "text": [
      "Restoring states from the checkpoint path at /Users/benjaminvaca/Documents/USFQ/semestre7/machine_learning/proyecto/lightning_logs/version_104/checkpoints/epoch=19-step=680.ckpt\n"
     ]
    },
    {
     "name": "stdout",
     "output_type": "stream",
     "text": [
      "\n"
     ]
    },
    {
     "name": "stderr",
     "output_type": "stream",
     "text": [
      "Loaded model weights from the checkpoint at /Users/benjaminvaca/Documents/USFQ/semestre7/machine_learning/proyecto/lightning_logs/version_104/checkpoints/epoch=19-step=680.ckpt\n"
     ]
    },
    {
     "name": "stdout",
     "output_type": "stream",
     "text": [
      "Testing DataLoader 0: 100%|██████████| 11/11 [00:00<00:00, 187.53it/s]\n"
     ]
    },
    {
     "data": {
      "text/html": [
       "<pre style=\"white-space:pre;overflow-x:auto;line-height:normal;font-family:Menlo,'DejaVu Sans Mono',consolas,'Courier New',monospace\">┏━━━━━━━━━━━━━━━━━━━━━━━━━━━┳━━━━━━━━━━━━━━━━━━━━━━━━━━━┓\n",
       "┃<span style=\"font-weight: bold\">        Test metric        </span>┃<span style=\"font-weight: bold\">       DataLoader 0        </span>┃\n",
       "┡━━━━━━━━━━━━━━━━━━━━━━━━━━━╇━━━━━━━━━━━━━━━━━━━━━━━━━━━┩\n",
       "│<span style=\"color: #008080; text-decoration-color: #008080\">      test_f1ma_epoch      </span>│<span style=\"color: #800080; text-decoration-color: #800080\">    0.1989724040031433     </span>│\n",
       "│<span style=\"color: #008080; text-decoration-color: #008080\">      test_ham_epoch       </span>│<span style=\"color: #800080; text-decoration-color: #800080\">     0.283513605594635     </span>│\n",
       "│<span style=\"color: #008080; text-decoration-color: #008080\">      test_loss_epoch      </span>│<span style=\"color: #800080; text-decoration-color: #800080\">    0.5489485859870911     </span>│\n",
       "└───────────────────────────┴───────────────────────────┘\n",
       "</pre>\n"
      ],
      "text/plain": [
       "┏━━━━━━━━━━━━━━━━━━━━━━━━━━━┳━━━━━━━━━━━━━━━━━━━━━━━━━━━┓\n",
       "┃\u001b[1m \u001b[0m\u001b[1m       Test metric       \u001b[0m\u001b[1m \u001b[0m┃\u001b[1m \u001b[0m\u001b[1m      DataLoader 0       \u001b[0m\u001b[1m \u001b[0m┃\n",
       "┡━━━━━━━━━━━━━━━━━━━━━━━━━━━╇━━━━━━━━━━━━━━━━━━━━━━━━━━━┩\n",
       "│\u001b[36m \u001b[0m\u001b[36m     test_f1ma_epoch     \u001b[0m\u001b[36m \u001b[0m│\u001b[35m \u001b[0m\u001b[35m   0.1989724040031433    \u001b[0m\u001b[35m \u001b[0m│\n",
       "│\u001b[36m \u001b[0m\u001b[36m     test_ham_epoch      \u001b[0m\u001b[36m \u001b[0m│\u001b[35m \u001b[0m\u001b[35m    0.283513605594635    \u001b[0m\u001b[35m \u001b[0m│\n",
       "│\u001b[36m \u001b[0m\u001b[36m     test_loss_epoch     \u001b[0m\u001b[36m \u001b[0m│\u001b[35m \u001b[0m\u001b[35m   0.5489485859870911    \u001b[0m\u001b[35m \u001b[0m│\n",
       "└───────────────────────────┴───────────────────────────┘\n"
      ]
     },
     "metadata": {},
     "output_type": "display_data"
    },
    {
     "name": "stdout",
     "output_type": "stream",
     "text": [
      "  loss: 0.5489 | hamming: 0.2835 | f1_macro: 0.1990\n",
      "Fold 6/10\n"
     ]
    },
    {
     "name": "stderr",
     "output_type": "stream",
     "text": [
      "GPU available: True (mps), used: False\n",
      "TPU available: False, using: 0 TPU cores\n",
      "HPU available: False, using: 0 HPUs\n",
      "\n",
      "  | Name       | Type                      | Params | Mode \n",
      "-----------------------------------------------------------------\n",
      "0 | classifier | Sequential                | 562 K  | train\n",
      "1 | loss       | BCEWithLogitsLoss         | 0      | train\n",
      "2 | hamming    | MultilabelHammingDistance | 0      | train\n",
      "3 | f1_macro   | MultilabelF1Score         | 0      | train\n",
      "-----------------------------------------------------------------\n",
      "562 K     Trainable params\n",
      "0         Non-trainable params\n",
      "562 K     Total params\n",
      "2.250     Total estimated model params size (MB)\n",
      "17        Modules in train mode\n",
      "0         Modules in eval mode\n"
     ]
    },
    {
     "name": "stdout",
     "output_type": "stream",
     "text": [
      "Epoch 3: 100%|██████████| 34/34 [00:00<00:00, 163.91it/s, v_num=105, train_loss=0.557, train_ham=0.307, train_f1ma=0.191, val_loss_step=0.597, val_ham_step=0.340, val_f1ma_step=0.114, val_loss_epoch=0.563, val_ham_epoch=0.294, val_f1ma_epoch=0.162] "
     ]
    },
    {
     "name": "stderr",
     "output_type": "stream",
     "text": [
      "Restoring states from the checkpoint path at /Users/benjaminvaca/Documents/USFQ/semestre7/machine_learning/proyecto/lightning_logs/version_105/checkpoints/epoch=0-step=34.ckpt\n"
     ]
    },
    {
     "name": "stdout",
     "output_type": "stream",
     "text": [
      "\n"
     ]
    },
    {
     "name": "stderr",
     "output_type": "stream",
     "text": [
      "Loaded model weights from the checkpoint at /Users/benjaminvaca/Documents/USFQ/semestre7/machine_learning/proyecto/lightning_logs/version_105/checkpoints/epoch=0-step=34.ckpt\n"
     ]
    },
    {
     "name": "stdout",
     "output_type": "stream",
     "text": [
      "Validation DataLoader 0: 100%|██████████| 34/34 [00:00<00:00, 469.08it/s]"
     ]
    },
    {
     "name": "stderr",
     "output_type": "stream",
     "text": [
      "Restoring states from the checkpoint path at /Users/benjaminvaca/Documents/USFQ/semestre7/machine_learning/proyecto/lightning_logs/version_105/checkpoints/epoch=0-step=34.ckpt\n"
     ]
    },
    {
     "name": "stdout",
     "output_type": "stream",
     "text": [
      "\n"
     ]
    },
    {
     "name": "stderr",
     "output_type": "stream",
     "text": [
      "Loaded model weights from the checkpoint at /Users/benjaminvaca/Documents/USFQ/semestre7/machine_learning/proyecto/lightning_logs/version_105/checkpoints/epoch=0-step=34.ckpt\n"
     ]
    },
    {
     "name": "stdout",
     "output_type": "stream",
     "text": [
      "Validation DataLoader 0: 100%|██████████| 9/9 [00:00<00:00, 441.31it/s]"
     ]
    },
    {
     "name": "stderr",
     "output_type": "stream",
     "text": [
      "Restoring states from the checkpoint path at /Users/benjaminvaca/Documents/USFQ/semestre7/machine_learning/proyecto/lightning_logs/version_105/checkpoints/epoch=0-step=34.ckpt\n"
     ]
    },
    {
     "name": "stdout",
     "output_type": "stream",
     "text": [
      "\n"
     ]
    },
    {
     "name": "stderr",
     "output_type": "stream",
     "text": [
      "Loaded model weights from the checkpoint at /Users/benjaminvaca/Documents/USFQ/semestre7/machine_learning/proyecto/lightning_logs/version_105/checkpoints/epoch=0-step=34.ckpt\n"
     ]
    },
    {
     "name": "stdout",
     "output_type": "stream",
     "text": [
      "Testing DataLoader 0: 100%|██████████| 11/11 [00:00<00:00, 413.74it/s]\n"
     ]
    },
    {
     "data": {
      "text/html": [
       "<pre style=\"white-space:pre;overflow-x:auto;line-height:normal;font-family:Menlo,'DejaVu Sans Mono',consolas,'Courier New',monospace\">┏━━━━━━━━━━━━━━━━━━━━━━━━━━━┳━━━━━━━━━━━━━━━━━━━━━━━━━━━┓\n",
       "┃<span style=\"font-weight: bold\">        Test metric        </span>┃<span style=\"font-weight: bold\">       DataLoader 0        </span>┃\n",
       "┡━━━━━━━━━━━━━━━━━━━━━━━━━━━╇━━━━━━━━━━━━━━━━━━━━━━━━━━━┩\n",
       "│<span style=\"color: #008080; text-decoration-color: #008080\">      test_f1ma_epoch      </span>│<span style=\"color: #800080; text-decoration-color: #800080\">    0.2085786610841751     </span>│\n",
       "│<span style=\"color: #008080; text-decoration-color: #008080\">      test_ham_epoch       </span>│<span style=\"color: #800080; text-decoration-color: #800080\">    0.30285149812698364    </span>│\n",
       "│<span style=\"color: #008080; text-decoration-color: #008080\">      test_loss_epoch      </span>│<span style=\"color: #800080; text-decoration-color: #800080\">    0.6075741052627563     </span>│\n",
       "└───────────────────────────┴───────────────────────────┘\n",
       "</pre>\n"
      ],
      "text/plain": [
       "┏━━━━━━━━━━━━━━━━━━━━━━━━━━━┳━━━━━━━━━━━━━━━━━━━━━━━━━━━┓\n",
       "┃\u001b[1m \u001b[0m\u001b[1m       Test metric       \u001b[0m\u001b[1m \u001b[0m┃\u001b[1m \u001b[0m\u001b[1m      DataLoader 0       \u001b[0m\u001b[1m \u001b[0m┃\n",
       "┡━━━━━━━━━━━━━━━━━━━━━━━━━━━╇━━━━━━━━━━━━━━━━━━━━━━━━━━━┩\n",
       "│\u001b[36m \u001b[0m\u001b[36m     test_f1ma_epoch     \u001b[0m\u001b[36m \u001b[0m│\u001b[35m \u001b[0m\u001b[35m   0.2085786610841751    \u001b[0m\u001b[35m \u001b[0m│\n",
       "│\u001b[36m \u001b[0m\u001b[36m     test_ham_epoch      \u001b[0m\u001b[36m \u001b[0m│\u001b[35m \u001b[0m\u001b[35m   0.30285149812698364   \u001b[0m\u001b[35m \u001b[0m│\n",
       "│\u001b[36m \u001b[0m\u001b[36m     test_loss_epoch     \u001b[0m\u001b[36m \u001b[0m│\u001b[35m \u001b[0m\u001b[35m   0.6075741052627563    \u001b[0m\u001b[35m \u001b[0m│\n",
       "└───────────────────────────┴───────────────────────────┘\n"
      ]
     },
     "metadata": {},
     "output_type": "display_data"
    },
    {
     "name": "stdout",
     "output_type": "stream",
     "text": [
      "  loss: 0.6076 | hamming: 0.3029 | f1_macro: 0.2086\n",
      "Fold 7/10\n"
     ]
    },
    {
     "name": "stderr",
     "output_type": "stream",
     "text": [
      "GPU available: True (mps), used: False\n",
      "TPU available: False, using: 0 TPU cores\n",
      "HPU available: False, using: 0 HPUs\n",
      "\n",
      "  | Name       | Type                      | Params | Mode \n",
      "-----------------------------------------------------------------\n",
      "0 | classifier | Sequential                | 562 K  | train\n",
      "1 | loss       | BCEWithLogitsLoss         | 0      | train\n",
      "2 | hamming    | MultilabelHammingDistance | 0      | train\n",
      "3 | f1_macro   | MultilabelF1Score         | 0      | train\n",
      "-----------------------------------------------------------------\n",
      "562 K     Trainable params\n",
      "0         Non-trainable params\n",
      "562 K     Total params\n",
      "2.250     Total estimated model params size (MB)\n",
      "17        Modules in train mode\n",
      "0         Modules in eval mode\n"
     ]
    },
    {
     "name": "stdout",
     "output_type": "stream",
     "text": [
      "Epoch 3: 100%|██████████| 34/34 [00:00<00:00, 165.50it/s, v_num=106, train_loss=0.545, train_ham=0.318, train_f1ma=0.290, val_loss_step=0.541, val_ham_step=0.201, val_f1ma_step=0.146, val_loss_epoch=0.564, val_ham_epoch=0.305, val_f1ma_epoch=0.137] "
     ]
    },
    {
     "name": "stderr",
     "output_type": "stream",
     "text": [
      "Restoring states from the checkpoint path at /Users/benjaminvaca/Documents/USFQ/semestre7/machine_learning/proyecto/lightning_logs/version_106/checkpoints/epoch=0-step=34.ckpt\n"
     ]
    },
    {
     "name": "stdout",
     "output_type": "stream",
     "text": [
      "\n"
     ]
    },
    {
     "name": "stderr",
     "output_type": "stream",
     "text": [
      "Loaded model weights from the checkpoint at /Users/benjaminvaca/Documents/USFQ/semestre7/machine_learning/proyecto/lightning_logs/version_106/checkpoints/epoch=0-step=34.ckpt\n"
     ]
    },
    {
     "name": "stdout",
     "output_type": "stream",
     "text": [
      "Validation DataLoader 0: 100%|██████████| 34/34 [00:00<00:00, 307.65it/s]"
     ]
    },
    {
     "name": "stderr",
     "output_type": "stream",
     "text": [
      "Restoring states from the checkpoint path at /Users/benjaminvaca/Documents/USFQ/semestre7/machine_learning/proyecto/lightning_logs/version_106/checkpoints/epoch=0-step=34.ckpt\n"
     ]
    },
    {
     "name": "stdout",
     "output_type": "stream",
     "text": [
      "\n"
     ]
    },
    {
     "name": "stderr",
     "output_type": "stream",
     "text": [
      "Loaded model weights from the checkpoint at /Users/benjaminvaca/Documents/USFQ/semestre7/machine_learning/proyecto/lightning_logs/version_106/checkpoints/epoch=0-step=34.ckpt\n"
     ]
    },
    {
     "name": "stdout",
     "output_type": "stream",
     "text": [
      "Validation DataLoader 0: 100%|██████████| 9/9 [00:00<00:00, 414.84it/s]"
     ]
    },
    {
     "name": "stderr",
     "output_type": "stream",
     "text": [
      "Restoring states from the checkpoint path at /Users/benjaminvaca/Documents/USFQ/semestre7/machine_learning/proyecto/lightning_logs/version_106/checkpoints/epoch=0-step=34.ckpt\n"
     ]
    },
    {
     "name": "stdout",
     "output_type": "stream",
     "text": [
      "\n"
     ]
    },
    {
     "name": "stderr",
     "output_type": "stream",
     "text": [
      "Loaded model weights from the checkpoint at /Users/benjaminvaca/Documents/USFQ/semestre7/machine_learning/proyecto/lightning_logs/version_106/checkpoints/epoch=0-step=34.ckpt\n"
     ]
    },
    {
     "name": "stdout",
     "output_type": "stream",
     "text": [
      "Testing DataLoader 0: 100%|██████████| 11/11 [00:00<00:00, 424.58it/s]\n"
     ]
    },
    {
     "data": {
      "text/html": [
       "<pre style=\"white-space:pre;overflow-x:auto;line-height:normal;font-family:Menlo,'DejaVu Sans Mono',consolas,'Courier New',monospace\">┏━━━━━━━━━━━━━━━━━━━━━━━━━━━┳━━━━━━━━━━━━━━━━━━━━━━━━━━━┓\n",
       "┃<span style=\"font-weight: bold\">        Test metric        </span>┃<span style=\"font-weight: bold\">       DataLoader 0        </span>┃\n",
       "┡━━━━━━━━━━━━━━━━━━━━━━━━━━━╇━━━━━━━━━━━━━━━━━━━━━━━━━━━┩\n",
       "│<span style=\"color: #008080; text-decoration-color: #008080\">      test_f1ma_epoch      </span>│<span style=\"color: #800080; text-decoration-color: #800080\">    0.1861296147108078     </span>│\n",
       "│<span style=\"color: #008080; text-decoration-color: #008080\">      test_ham_epoch       </span>│<span style=\"color: #800080; text-decoration-color: #800080\">    0.32087841629981995    </span>│\n",
       "│<span style=\"color: #008080; text-decoration-color: #008080\">      test_loss_epoch      </span>│<span style=\"color: #800080; text-decoration-color: #800080\">    0.6101751923561096     </span>│\n",
       "└───────────────────────────┴───────────────────────────┘\n",
       "</pre>\n"
      ],
      "text/plain": [
       "┏━━━━━━━━━━━━━━━━━━━━━━━━━━━┳━━━━━━━━━━━━━━━━━━━━━━━━━━━┓\n",
       "┃\u001b[1m \u001b[0m\u001b[1m       Test metric       \u001b[0m\u001b[1m \u001b[0m┃\u001b[1m \u001b[0m\u001b[1m      DataLoader 0       \u001b[0m\u001b[1m \u001b[0m┃\n",
       "┡━━━━━━━━━━━━━━━━━━━━━━━━━━━╇━━━━━━━━━━━━━━━━━━━━━━━━━━━┩\n",
       "│\u001b[36m \u001b[0m\u001b[36m     test_f1ma_epoch     \u001b[0m\u001b[36m \u001b[0m│\u001b[35m \u001b[0m\u001b[35m   0.1861296147108078    \u001b[0m\u001b[35m \u001b[0m│\n",
       "│\u001b[36m \u001b[0m\u001b[36m     test_ham_epoch      \u001b[0m\u001b[36m \u001b[0m│\u001b[35m \u001b[0m\u001b[35m   0.32087841629981995   \u001b[0m\u001b[35m \u001b[0m│\n",
       "│\u001b[36m \u001b[0m\u001b[36m     test_loss_epoch     \u001b[0m\u001b[36m \u001b[0m│\u001b[35m \u001b[0m\u001b[35m   0.6101751923561096    \u001b[0m\u001b[35m \u001b[0m│\n",
       "└───────────────────────────┴───────────────────────────┘\n"
      ]
     },
     "metadata": {},
     "output_type": "display_data"
    },
    {
     "name": "stdout",
     "output_type": "stream",
     "text": [
      "  loss: 0.6102 | hamming: 0.3209 | f1_macro: 0.1861\n",
      "Fold 8/10\n"
     ]
    },
    {
     "name": "stderr",
     "output_type": "stream",
     "text": [
      "GPU available: True (mps), used: False\n",
      "TPU available: False, using: 0 TPU cores\n",
      "HPU available: False, using: 0 HPUs\n",
      "\n",
      "  | Name       | Type                      | Params | Mode \n",
      "-----------------------------------------------------------------\n",
      "0 | classifier | Sequential                | 562 K  | train\n",
      "1 | loss       | BCEWithLogitsLoss         | 0      | train\n",
      "2 | hamming    | MultilabelHammingDistance | 0      | train\n",
      "3 | f1_macro   | MultilabelF1Score         | 0      | train\n",
      "-----------------------------------------------------------------\n",
      "562 K     Trainable params\n",
      "0         Non-trainable params\n",
      "562 K     Total params\n",
      "2.250     Total estimated model params size (MB)\n",
      "17        Modules in train mode\n",
      "0         Modules in eval mode\n"
     ]
    },
    {
     "name": "stdout",
     "output_type": "stream",
     "text": [
      "Epoch 9: 100%|██████████| 34/34 [00:00<00:00, 174.47it/s, v_num=107, train_loss=0.543, train_ham=0.293, train_f1ma=0.372, val_loss_step=0.571, val_ham_step=0.385, val_f1ma_step=0.0741, val_loss_epoch=0.555, val_ham_epoch=0.287, val_f1ma_epoch=0.195]"
     ]
    },
    {
     "name": "stderr",
     "output_type": "stream",
     "text": [
      "Restoring states from the checkpoint path at /Users/benjaminvaca/Documents/USFQ/semestre7/machine_learning/proyecto/lightning_logs/version_107/checkpoints/epoch=6-step=238.ckpt\n"
     ]
    },
    {
     "name": "stdout",
     "output_type": "stream",
     "text": [
      "\n"
     ]
    },
    {
     "name": "stderr",
     "output_type": "stream",
     "text": [
      "Loaded model weights from the checkpoint at /Users/benjaminvaca/Documents/USFQ/semestre7/machine_learning/proyecto/lightning_logs/version_107/checkpoints/epoch=6-step=238.ckpt\n"
     ]
    },
    {
     "name": "stdout",
     "output_type": "stream",
     "text": [
      "Validation DataLoader 0: 100%|██████████| 34/34 [00:00<00:00, 318.49it/s]"
     ]
    },
    {
     "name": "stderr",
     "output_type": "stream",
     "text": [
      "Restoring states from the checkpoint path at /Users/benjaminvaca/Documents/USFQ/semestre7/machine_learning/proyecto/lightning_logs/version_107/checkpoints/epoch=6-step=238.ckpt\n"
     ]
    },
    {
     "name": "stdout",
     "output_type": "stream",
     "text": [
      "\n"
     ]
    },
    {
     "name": "stderr",
     "output_type": "stream",
     "text": [
      "Loaded model weights from the checkpoint at /Users/benjaminvaca/Documents/USFQ/semestre7/machine_learning/proyecto/lightning_logs/version_107/checkpoints/epoch=6-step=238.ckpt\n"
     ]
    },
    {
     "name": "stdout",
     "output_type": "stream",
     "text": [
      "Validation DataLoader 0: 100%|██████████| 9/9 [00:00<00:00, 424.52it/s]\n"
     ]
    },
    {
     "name": "stderr",
     "output_type": "stream",
     "text": [
      "Restoring states from the checkpoint path at /Users/benjaminvaca/Documents/USFQ/semestre7/machine_learning/proyecto/lightning_logs/version_107/checkpoints/epoch=6-step=238.ckpt\n",
      "Loaded model weights from the checkpoint at /Users/benjaminvaca/Documents/USFQ/semestre7/machine_learning/proyecto/lightning_logs/version_107/checkpoints/epoch=6-step=238.ckpt\n"
     ]
    },
    {
     "name": "stdout",
     "output_type": "stream",
     "text": [
      "Testing DataLoader 0: 100%|██████████| 11/11 [00:00<00:00, 438.48it/s]\n"
     ]
    },
    {
     "data": {
      "text/html": [
       "<pre style=\"white-space:pre;overflow-x:auto;line-height:normal;font-family:Menlo,'DejaVu Sans Mono',consolas,'Courier New',monospace\">┏━━━━━━━━━━━━━━━━━━━━━━━━━━━┳━━━━━━━━━━━━━━━━━━━━━━━━━━━┓\n",
       "┃<span style=\"font-weight: bold\">        Test metric        </span>┃<span style=\"font-weight: bold\">       DataLoader 0        </span>┃\n",
       "┡━━━━━━━━━━━━━━━━━━━━━━━━━━━╇━━━━━━━━━━━━━━━━━━━━━━━━━━━┩\n",
       "│<span style=\"color: #008080; text-decoration-color: #008080\">      test_f1ma_epoch      </span>│<span style=\"color: #800080; text-decoration-color: #800080\">    0.20135845243930817    </span>│\n",
       "│<span style=\"color: #008080; text-decoration-color: #008080\">      test_ham_epoch       </span>│<span style=\"color: #800080; text-decoration-color: #800080\">    0.27236971259117126    </span>│\n",
       "│<span style=\"color: #008080; text-decoration-color: #008080\">      test_loss_epoch      </span>│<span style=\"color: #800080; text-decoration-color: #800080\">    0.5431244373321533     </span>│\n",
       "└───────────────────────────┴───────────────────────────┘\n",
       "</pre>\n"
      ],
      "text/plain": [
       "┏━━━━━━━━━━━━━━━━━━━━━━━━━━━┳━━━━━━━━━━━━━━━━━━━━━━━━━━━┓\n",
       "┃\u001b[1m \u001b[0m\u001b[1m       Test metric       \u001b[0m\u001b[1m \u001b[0m┃\u001b[1m \u001b[0m\u001b[1m      DataLoader 0       \u001b[0m\u001b[1m \u001b[0m┃\n",
       "┡━━━━━━━━━━━━━━━━━━━━━━━━━━━╇━━━━━━━━━━━━━━━━━━━━━━━━━━━┩\n",
       "│\u001b[36m \u001b[0m\u001b[36m     test_f1ma_epoch     \u001b[0m\u001b[36m \u001b[0m│\u001b[35m \u001b[0m\u001b[35m   0.20135845243930817   \u001b[0m\u001b[35m \u001b[0m│\n",
       "│\u001b[36m \u001b[0m\u001b[36m     test_ham_epoch      \u001b[0m\u001b[36m \u001b[0m│\u001b[35m \u001b[0m\u001b[35m   0.27236971259117126   \u001b[0m\u001b[35m \u001b[0m│\n",
       "│\u001b[36m \u001b[0m\u001b[36m     test_loss_epoch     \u001b[0m\u001b[36m \u001b[0m│\u001b[35m \u001b[0m\u001b[35m   0.5431244373321533    \u001b[0m\u001b[35m \u001b[0m│\n",
       "└───────────────────────────┴───────────────────────────┘\n"
      ]
     },
     "metadata": {},
     "output_type": "display_data"
    },
    {
     "name": "stdout",
     "output_type": "stream",
     "text": [
      "  loss: 0.5431 | hamming: 0.2724 | f1_macro: 0.2014\n",
      "Fold 9/10\n"
     ]
    },
    {
     "name": "stderr",
     "output_type": "stream",
     "text": [
      "GPU available: True (mps), used: False\n",
      "TPU available: False, using: 0 TPU cores\n",
      "HPU available: False, using: 0 HPUs\n",
      "\n",
      "  | Name       | Type                      | Params | Mode \n",
      "-----------------------------------------------------------------\n",
      "0 | classifier | Sequential                | 562 K  | train\n",
      "1 | loss       | BCEWithLogitsLoss         | 0      | train\n",
      "2 | hamming    | MultilabelHammingDistance | 0      | train\n",
      "3 | f1_macro   | MultilabelF1Score         | 0      | train\n",
      "-----------------------------------------------------------------\n",
      "562 K     Trainable params\n",
      "0         Non-trainable params\n",
      "562 K     Total params\n",
      "2.250     Total estimated model params size (MB)\n",
      "17        Modules in train mode\n",
      "0         Modules in eval mode\n"
     ]
    },
    {
     "name": "stdout",
     "output_type": "stream",
     "text": [
      "Epoch 3: 100%|██████████| 34/34 [00:00<00:00, 165.59it/s, v_num=108, train_loss=0.577, train_ham=0.330, train_f1ma=0.257, val_loss_step=0.554, val_ham_step=0.378, val_f1ma_step=0.0741, val_loss_epoch=0.562, val_ham_epoch=0.277, val_f1ma_epoch=0.185]\n"
     ]
    },
    {
     "name": "stderr",
     "output_type": "stream",
     "text": [
      "Restoring states from the checkpoint path at /Users/benjaminvaca/Documents/USFQ/semestre7/machine_learning/proyecto/lightning_logs/version_108/checkpoints/epoch=0-step=34.ckpt\n",
      "Loaded model weights from the checkpoint at /Users/benjaminvaca/Documents/USFQ/semestre7/machine_learning/proyecto/lightning_logs/version_108/checkpoints/epoch=0-step=34.ckpt\n"
     ]
    },
    {
     "name": "stdout",
     "output_type": "stream",
     "text": [
      "Validation DataLoader 0: 100%|██████████| 34/34 [00:00<00:00, 477.92it/s]"
     ]
    },
    {
     "name": "stderr",
     "output_type": "stream",
     "text": [
      "Restoring states from the checkpoint path at /Users/benjaminvaca/Documents/USFQ/semestre7/machine_learning/proyecto/lightning_logs/version_108/checkpoints/epoch=0-step=34.ckpt\n"
     ]
    },
    {
     "name": "stdout",
     "output_type": "stream",
     "text": [
      "\n"
     ]
    },
    {
     "name": "stderr",
     "output_type": "stream",
     "text": [
      "Loaded model weights from the checkpoint at /Users/benjaminvaca/Documents/USFQ/semestre7/machine_learning/proyecto/lightning_logs/version_108/checkpoints/epoch=0-step=34.ckpt\n"
     ]
    },
    {
     "name": "stdout",
     "output_type": "stream",
     "text": [
      "Validation DataLoader 0: 100%|██████████| 9/9 [00:00<00:00, 433.38it/s]"
     ]
    },
    {
     "name": "stderr",
     "output_type": "stream",
     "text": [
      "Restoring states from the checkpoint path at /Users/benjaminvaca/Documents/USFQ/semestre7/machine_learning/proyecto/lightning_logs/version_108/checkpoints/epoch=0-step=34.ckpt\n"
     ]
    },
    {
     "name": "stdout",
     "output_type": "stream",
     "text": [
      "\n"
     ]
    },
    {
     "name": "stderr",
     "output_type": "stream",
     "text": [
      "Loaded model weights from the checkpoint at /Users/benjaminvaca/Documents/USFQ/semestre7/machine_learning/proyecto/lightning_logs/version_108/checkpoints/epoch=0-step=34.ckpt\n"
     ]
    },
    {
     "name": "stdout",
     "output_type": "stream",
     "text": [
      "Testing DataLoader 0: 100%|██████████| 11/11 [00:00<00:00, 437.15it/s]\n"
     ]
    },
    {
     "data": {
      "text/html": [
       "<pre style=\"white-space:pre;overflow-x:auto;line-height:normal;font-family:Menlo,'DejaVu Sans Mono',consolas,'Courier New',monospace\">┏━━━━━━━━━━━━━━━━━━━━━━━━━━━┳━━━━━━━━━━━━━━━━━━━━━━━━━━━┓\n",
       "┃<span style=\"font-weight: bold\">        Test metric        </span>┃<span style=\"font-weight: bold\">       DataLoader 0        </span>┃\n",
       "┡━━━━━━━━━━━━━━━━━━━━━━━━━━━╇━━━━━━━━━━━━━━━━━━━━━━━━━━━┩\n",
       "│<span style=\"color: #008080; text-decoration-color: #008080\">      test_f1ma_epoch      </span>│<span style=\"color: #800080; text-decoration-color: #800080\">    0.1902790367603302     </span>│\n",
       "│<span style=\"color: #008080; text-decoration-color: #008080\">      test_ham_epoch       </span>│<span style=\"color: #800080; text-decoration-color: #800080\">    0.3044903576374054     </span>│\n",
       "│<span style=\"color: #008080; text-decoration-color: #008080\">      test_loss_epoch      </span>│<span style=\"color: #800080; text-decoration-color: #800080\">    0.6088916063308716     </span>│\n",
       "└───────────────────────────┴───────────────────────────┘\n",
       "</pre>\n"
      ],
      "text/plain": [
       "┏━━━━━━━━━━━━━━━━━━━━━━━━━━━┳━━━━━━━━━━━━━━━━━━━━━━━━━━━┓\n",
       "┃\u001b[1m \u001b[0m\u001b[1m       Test metric       \u001b[0m\u001b[1m \u001b[0m┃\u001b[1m \u001b[0m\u001b[1m      DataLoader 0       \u001b[0m\u001b[1m \u001b[0m┃\n",
       "┡━━━━━━━━━━━━━━━━━━━━━━━━━━━╇━━━━━━━━━━━━━━━━━━━━━━━━━━━┩\n",
       "│\u001b[36m \u001b[0m\u001b[36m     test_f1ma_epoch     \u001b[0m\u001b[36m \u001b[0m│\u001b[35m \u001b[0m\u001b[35m   0.1902790367603302    \u001b[0m\u001b[35m \u001b[0m│\n",
       "│\u001b[36m \u001b[0m\u001b[36m     test_ham_epoch      \u001b[0m\u001b[36m \u001b[0m│\u001b[35m \u001b[0m\u001b[35m   0.3044903576374054    \u001b[0m\u001b[35m \u001b[0m│\n",
       "│\u001b[36m \u001b[0m\u001b[36m     test_loss_epoch     \u001b[0m\u001b[36m \u001b[0m│\u001b[35m \u001b[0m\u001b[35m   0.6088916063308716    \u001b[0m\u001b[35m \u001b[0m│\n",
       "└───────────────────────────┴───────────────────────────┘\n"
      ]
     },
     "metadata": {},
     "output_type": "display_data"
    },
    {
     "name": "stdout",
     "output_type": "stream",
     "text": [
      "  loss: 0.6089 | hamming: 0.3045 | f1_macro: 0.1903\n",
      "Fold 10/10\n"
     ]
    },
    {
     "name": "stderr",
     "output_type": "stream",
     "text": [
      "GPU available: True (mps), used: False\n",
      "TPU available: False, using: 0 TPU cores\n",
      "HPU available: False, using: 0 HPUs\n",
      "\n",
      "  | Name       | Type                      | Params | Mode \n",
      "-----------------------------------------------------------------\n",
      "0 | classifier | Sequential                | 562 K  | train\n",
      "1 | loss       | BCEWithLogitsLoss         | 0      | train\n",
      "2 | hamming    | MultilabelHammingDistance | 0      | train\n",
      "3 | f1_macro   | MultilabelF1Score         | 0      | train\n",
      "-----------------------------------------------------------------\n",
      "562 K     Trainable params\n",
      "0         Non-trainable params\n",
      "562 K     Total params\n",
      "2.250     Total estimated model params size (MB)\n",
      "17        Modules in train mode\n",
      "0         Modules in eval mode\n"
     ]
    },
    {
     "name": "stdout",
     "output_type": "stream",
     "text": [
      "Epoch 10: 100%|██████████| 34/34 [00:00<00:00, 175.56it/s, v_num=109, train_loss=0.529, train_ham=0.267, train_f1ma=0.421, val_loss_step=0.529, val_ham_step=0.356, val_f1ma_step=0.101, val_loss_epoch=0.567, val_ham_epoch=0.296, val_f1ma_epoch=0.196]"
     ]
    },
    {
     "name": "stderr",
     "output_type": "stream",
     "text": [
      "Restoring states from the checkpoint path at /Users/benjaminvaca/Documents/USFQ/semestre7/machine_learning/proyecto/lightning_logs/version_109/checkpoints/epoch=7-step=272.ckpt\n",
      "Loaded model weights from the checkpoint at /Users/benjaminvaca/Documents/USFQ/semestre7/machine_learning/proyecto/lightning_logs/version_109/checkpoints/epoch=7-step=272.ckpt\n"
     ]
    },
    {
     "name": "stdout",
     "output_type": "stream",
     "text": [
      "\n",
      "Validation DataLoader 0: 100%|██████████| 34/34 [00:00<00:00, 486.81it/s]\n"
     ]
    },
    {
     "name": "stderr",
     "output_type": "stream",
     "text": [
      "Restoring states from the checkpoint path at /Users/benjaminvaca/Documents/USFQ/semestre7/machine_learning/proyecto/lightning_logs/version_109/checkpoints/epoch=7-step=272.ckpt\n",
      "Loaded model weights from the checkpoint at /Users/benjaminvaca/Documents/USFQ/semestre7/machine_learning/proyecto/lightning_logs/version_109/checkpoints/epoch=7-step=272.ckpt\n"
     ]
    },
    {
     "name": "stdout",
     "output_type": "stream",
     "text": [
      "Validation DataLoader 0: 100%|██████████| 9/9 [00:00<00:00, 461.41it/s]\n"
     ]
    },
    {
     "name": "stderr",
     "output_type": "stream",
     "text": [
      "Restoring states from the checkpoint path at /Users/benjaminvaca/Documents/USFQ/semestre7/machine_learning/proyecto/lightning_logs/version_109/checkpoints/epoch=7-step=272.ckpt\n",
      "Loaded model weights from the checkpoint at /Users/benjaminvaca/Documents/USFQ/semestre7/machine_learning/proyecto/lightning_logs/version_109/checkpoints/epoch=7-step=272.ckpt\n"
     ]
    },
    {
     "name": "stdout",
     "output_type": "stream",
     "text": [
      "Testing DataLoader 0: 100%|██████████| 11/11 [00:00<00:00, 444.91it/s]\n"
     ]
    },
    {
     "data": {
      "text/html": [
       "<pre style=\"white-space:pre;overflow-x:auto;line-height:normal;font-family:Menlo,'DejaVu Sans Mono',consolas,'Courier New',monospace\">┏━━━━━━━━━━━━━━━━━━━━━━━━━━━┳━━━━━━━━━━━━━━━━━━━━━━━━━━━┓\n",
       "┃<span style=\"font-weight: bold\">        Test metric        </span>┃<span style=\"font-weight: bold\">       DataLoader 0        </span>┃\n",
       "┡━━━━━━━━━━━━━━━━━━━━━━━━━━━╇━━━━━━━━━━━━━━━━━━━━━━━━━━━┩\n",
       "│<span style=\"color: #008080; text-decoration-color: #008080\">      test_f1ma_epoch      </span>│<span style=\"color: #800080; text-decoration-color: #800080\">    0.1967848539352417     </span>│\n",
       "│<span style=\"color: #008080; text-decoration-color: #008080\">      test_ham_epoch       </span>│<span style=\"color: #800080; text-decoration-color: #800080\">    0.28810226917266846    </span>│\n",
       "│<span style=\"color: #008080; text-decoration-color: #008080\">      test_loss_epoch      </span>│<span style=\"color: #800080; text-decoration-color: #800080\">     0.548396110534668     </span>│\n",
       "└───────────────────────────┴───────────────────────────┘\n",
       "</pre>\n"
      ],
      "text/plain": [
       "┏━━━━━━━━━━━━━━━━━━━━━━━━━━━┳━━━━━━━━━━━━━━━━━━━━━━━━━━━┓\n",
       "┃\u001b[1m \u001b[0m\u001b[1m       Test metric       \u001b[0m\u001b[1m \u001b[0m┃\u001b[1m \u001b[0m\u001b[1m      DataLoader 0       \u001b[0m\u001b[1m \u001b[0m┃\n",
       "┡━━━━━━━━━━━━━━━━━━━━━━━━━━━╇━━━━━━━━━━━━━━━━━━━━━━━━━━━┩\n",
       "│\u001b[36m \u001b[0m\u001b[36m     test_f1ma_epoch     \u001b[0m\u001b[36m \u001b[0m│\u001b[35m \u001b[0m\u001b[35m   0.1967848539352417    \u001b[0m\u001b[35m \u001b[0m│\n",
       "│\u001b[36m \u001b[0m\u001b[36m     test_ham_epoch      \u001b[0m\u001b[36m \u001b[0m│\u001b[35m \u001b[0m\u001b[35m   0.28810226917266846   \u001b[0m\u001b[35m \u001b[0m│\n",
       "│\u001b[36m \u001b[0m\u001b[36m     test_loss_epoch     \u001b[0m\u001b[36m \u001b[0m│\u001b[35m \u001b[0m\u001b[35m    0.548396110534668    \u001b[0m\u001b[35m \u001b[0m│\n",
       "└───────────────────────────┴───────────────────────────┘\n"
      ]
     },
     "metadata": {},
     "output_type": "display_data"
    },
    {
     "name": "stdout",
     "output_type": "stream",
     "text": [
      "  loss: 0.5484 | hamming: 0.2881 | f1_macro: 0.1968\n",
      "\n",
      "F1-macro promedio: 0.1978 ± 0.0095\n",
      "Hamming promedio: 0.3002 ± 0.0147\n",
      "Pérdida promedio:         0.5861 ± 0.0273\n",
      "HU=[512, 256, 128]  L2=0.001 → val_f1ma: 0.1978\n",
      "Fold 1/10\n"
     ]
    },
    {
     "name": "stderr",
     "output_type": "stream",
     "text": [
      "GPU available: True (mps), used: False\n",
      "TPU available: False, using: 0 TPU cores\n",
      "HPU available: False, using: 0 HPUs\n",
      "\n",
      "  | Name       | Type                      | Params | Mode \n",
      "-----------------------------------------------------------------\n",
      "0 | classifier | Sequential                | 562 K  | train\n",
      "1 | loss       | BCEWithLogitsLoss         | 0      | train\n",
      "2 | hamming    | MultilabelHammingDistance | 0      | train\n",
      "3 | f1_macro   | MultilabelF1Score         | 0      | train\n",
      "-----------------------------------------------------------------\n",
      "562 K     Trainable params\n",
      "0         Non-trainable params\n",
      "562 K     Total params\n",
      "2.250     Total estimated model params size (MB)\n",
      "17        Modules in train mode\n",
      "0         Modules in eval mode\n"
     ]
    },
    {
     "name": "stdout",
     "output_type": "stream",
     "text": [
      "Epoch 5: 100%|██████████| 34/34 [00:00<00:00, 171.89it/s, v_num=110, train_loss=0.552, train_ham=0.280, train_f1ma=0.352, val_loss_step=0.535, val_ham_step=0.292, val_f1ma_step=0.139, val_loss_epoch=0.554, val_ham_epoch=0.285, val_f1ma_epoch=0.184] \n"
     ]
    },
    {
     "name": "stderr",
     "output_type": "stream",
     "text": [
      "Restoring states from the checkpoint path at /Users/benjaminvaca/Documents/USFQ/semestre7/machine_learning/proyecto/lightning_logs/version_110/checkpoints/epoch=2-step=102.ckpt\n",
      "Loaded model weights from the checkpoint at /Users/benjaminvaca/Documents/USFQ/semestre7/machine_learning/proyecto/lightning_logs/version_110/checkpoints/epoch=2-step=102.ckpt\n"
     ]
    },
    {
     "name": "stdout",
     "output_type": "stream",
     "text": [
      "Validation DataLoader 0: 100%|██████████| 34/34 [00:00<00:00, 472.73it/s]"
     ]
    },
    {
     "name": "stderr",
     "output_type": "stream",
     "text": [
      "Restoring states from the checkpoint path at /Users/benjaminvaca/Documents/USFQ/semestre7/machine_learning/proyecto/lightning_logs/version_110/checkpoints/epoch=2-step=102.ckpt\n"
     ]
    },
    {
     "name": "stdout",
     "output_type": "stream",
     "text": [
      "\n"
     ]
    },
    {
     "name": "stderr",
     "output_type": "stream",
     "text": [
      "Loaded model weights from the checkpoint at /Users/benjaminvaca/Documents/USFQ/semestre7/machine_learning/proyecto/lightning_logs/version_110/checkpoints/epoch=2-step=102.ckpt\n"
     ]
    },
    {
     "name": "stdout",
     "output_type": "stream",
     "text": [
      "Validation DataLoader 0: 100%|██████████| 9/9 [00:00<00:00, 276.18it/s]"
     ]
    },
    {
     "name": "stderr",
     "output_type": "stream",
     "text": [
      "Restoring states from the checkpoint path at /Users/benjaminvaca/Documents/USFQ/semestre7/machine_learning/proyecto/lightning_logs/version_110/checkpoints/epoch=2-step=102.ckpt\n"
     ]
    },
    {
     "name": "stdout",
     "output_type": "stream",
     "text": [
      "\n"
     ]
    },
    {
     "name": "stderr",
     "output_type": "stream",
     "text": [
      "Loaded model weights from the checkpoint at /Users/benjaminvaca/Documents/USFQ/semestre7/machine_learning/proyecto/lightning_logs/version_110/checkpoints/epoch=2-step=102.ckpt\n"
     ]
    },
    {
     "name": "stdout",
     "output_type": "stream",
     "text": [
      "Testing DataLoader 0: 100%|██████████| 11/11 [00:00<00:00, 416.30it/s]\n"
     ]
    },
    {
     "data": {
      "text/html": [
       "<pre style=\"white-space:pre;overflow-x:auto;line-height:normal;font-family:Menlo,'DejaVu Sans Mono',consolas,'Courier New',monospace\">┏━━━━━━━━━━━━━━━━━━━━━━━━━━━┳━━━━━━━━━━━━━━━━━━━━━━━━━━━┓\n",
       "┃<span style=\"font-weight: bold\">        Test metric        </span>┃<span style=\"font-weight: bold\">       DataLoader 0        </span>┃\n",
       "┡━━━━━━━━━━━━━━━━━━━━━━━━━━━╇━━━━━━━━━━━━━━━━━━━━━━━━━━━┩\n",
       "│<span style=\"color: #008080; text-decoration-color: #008080\">      test_f1ma_epoch      </span>│<span style=\"color: #800080; text-decoration-color: #800080\">    0.17479918897151947    </span>│\n",
       "│<span style=\"color: #008080; text-decoration-color: #008080\">      test_ham_epoch       </span>│<span style=\"color: #800080; text-decoration-color: #800080\">    0.2759751081466675     </span>│\n",
       "│<span style=\"color: #008080; text-decoration-color: #008080\">      test_loss_epoch      </span>│<span style=\"color: #800080; text-decoration-color: #800080\">    0.5643584132194519     </span>│\n",
       "└───────────────────────────┴───────────────────────────┘\n",
       "</pre>\n"
      ],
      "text/plain": [
       "┏━━━━━━━━━━━━━━━━━━━━━━━━━━━┳━━━━━━━━━━━━━━━━━━━━━━━━━━━┓\n",
       "┃\u001b[1m \u001b[0m\u001b[1m       Test metric       \u001b[0m\u001b[1m \u001b[0m┃\u001b[1m \u001b[0m\u001b[1m      DataLoader 0       \u001b[0m\u001b[1m \u001b[0m┃\n",
       "┡━━━━━━━━━━━━━━━━━━━━━━━━━━━╇━━━━━━━━━━━━━━━━━━━━━━━━━━━┩\n",
       "│\u001b[36m \u001b[0m\u001b[36m     test_f1ma_epoch     \u001b[0m\u001b[36m \u001b[0m│\u001b[35m \u001b[0m\u001b[35m   0.17479918897151947   \u001b[0m\u001b[35m \u001b[0m│\n",
       "│\u001b[36m \u001b[0m\u001b[36m     test_ham_epoch      \u001b[0m\u001b[36m \u001b[0m│\u001b[35m \u001b[0m\u001b[35m   0.2759751081466675    \u001b[0m\u001b[35m \u001b[0m│\n",
       "│\u001b[36m \u001b[0m\u001b[36m     test_loss_epoch     \u001b[0m\u001b[36m \u001b[0m│\u001b[35m \u001b[0m\u001b[35m   0.5643584132194519    \u001b[0m\u001b[35m \u001b[0m│\n",
       "└───────────────────────────┴───────────────────────────┘\n"
      ]
     },
     "metadata": {},
     "output_type": "display_data"
    },
    {
     "name": "stdout",
     "output_type": "stream",
     "text": [
      "  loss: 0.5644 | hamming: 0.2760 | f1_macro: 0.1748\n",
      "Fold 2/10\n"
     ]
    },
    {
     "name": "stderr",
     "output_type": "stream",
     "text": [
      "GPU available: True (mps), used: False\n",
      "TPU available: False, using: 0 TPU cores\n",
      "HPU available: False, using: 0 HPUs\n",
      "\n",
      "  | Name       | Type                      | Params | Mode \n",
      "-----------------------------------------------------------------\n",
      "0 | classifier | Sequential                | 562 K  | train\n",
      "1 | loss       | BCEWithLogitsLoss         | 0      | train\n",
      "2 | hamming    | MultilabelHammingDistance | 0      | train\n",
      "3 | f1_macro   | MultilabelF1Score         | 0      | train\n",
      "-----------------------------------------------------------------\n",
      "562 K     Trainable params\n",
      "0         Non-trainable params\n",
      "562 K     Total params\n",
      "2.250     Total estimated model params size (MB)\n",
      "17        Modules in train mode\n",
      "0         Modules in eval mode\n"
     ]
    },
    {
     "name": "stdout",
     "output_type": "stream",
     "text": [
      "Epoch 4: 100%|██████████| 34/34 [00:00<00:00, 171.25it/s, v_num=111, train_loss=0.502, train_ham=0.241, train_f1ma=0.396, val_loss_step=0.607, val_ham_step=0.417, val_f1ma_step=0.0494, val_loss_epoch=0.556, val_ham_epoch=0.307, val_f1ma_epoch=0.161]\n"
     ]
    },
    {
     "name": "stderr",
     "output_type": "stream",
     "text": [
      "Restoring states from the checkpoint path at /Users/benjaminvaca/Documents/USFQ/semestre7/machine_learning/proyecto/lightning_logs/version_111/checkpoints/epoch=1-step=68.ckpt\n",
      "Loaded model weights from the checkpoint at /Users/benjaminvaca/Documents/USFQ/semestre7/machine_learning/proyecto/lightning_logs/version_111/checkpoints/epoch=1-step=68.ckpt\n"
     ]
    },
    {
     "name": "stdout",
     "output_type": "stream",
     "text": [
      "Validation DataLoader 0: 100%|██████████| 34/34 [00:00<00:00, 315.83it/s]"
     ]
    },
    {
     "name": "stderr",
     "output_type": "stream",
     "text": [
      "Restoring states from the checkpoint path at /Users/benjaminvaca/Documents/USFQ/semestre7/machine_learning/proyecto/lightning_logs/version_111/checkpoints/epoch=1-step=68.ckpt\n"
     ]
    },
    {
     "name": "stdout",
     "output_type": "stream",
     "text": [
      "\n"
     ]
    },
    {
     "name": "stderr",
     "output_type": "stream",
     "text": [
      "Loaded model weights from the checkpoint at /Users/benjaminvaca/Documents/USFQ/semestre7/machine_learning/proyecto/lightning_logs/version_111/checkpoints/epoch=1-step=68.ckpt\n"
     ]
    },
    {
     "name": "stdout",
     "output_type": "stream",
     "text": [
      "Validation DataLoader 0: 100%|██████████| 9/9 [00:00<00:00, 423.75it/s]"
     ]
    },
    {
     "name": "stderr",
     "output_type": "stream",
     "text": [
      "Restoring states from the checkpoint path at /Users/benjaminvaca/Documents/USFQ/semestre7/machine_learning/proyecto/lightning_logs/version_111/checkpoints/epoch=1-step=68.ckpt\n"
     ]
    },
    {
     "name": "stdout",
     "output_type": "stream",
     "text": [
      "\n"
     ]
    },
    {
     "name": "stderr",
     "output_type": "stream",
     "text": [
      "Loaded model weights from the checkpoint at /Users/benjaminvaca/Documents/USFQ/semestre7/machine_learning/proyecto/lightning_logs/version_111/checkpoints/epoch=1-step=68.ckpt\n"
     ]
    },
    {
     "name": "stdout",
     "output_type": "stream",
     "text": [
      "Testing DataLoader 0: 100%|██████████| 11/11 [00:00<00:00, 433.73it/s]\n"
     ]
    },
    {
     "data": {
      "text/html": [
       "<pre style=\"white-space:pre;overflow-x:auto;line-height:normal;font-family:Menlo,'DejaVu Sans Mono',consolas,'Courier New',monospace\">┏━━━━━━━━━━━━━━━━━━━━━━━━━━━┳━━━━━━━━━━━━━━━━━━━━━━━━━━━┓\n",
       "┃<span style=\"font-weight: bold\">        Test metric        </span>┃<span style=\"font-weight: bold\">       DataLoader 0        </span>┃\n",
       "┡━━━━━━━━━━━━━━━━━━━━━━━━━━━╇━━━━━━━━━━━━━━━━━━━━━━━━━━━┩\n",
       "│<span style=\"color: #008080; text-decoration-color: #008080\">      test_f1ma_epoch      </span>│<span style=\"color: #800080; text-decoration-color: #800080\">    0.18156160414218903    </span>│\n",
       "│<span style=\"color: #008080; text-decoration-color: #008080\">      test_ham_epoch       </span>│<span style=\"color: #800080; text-decoration-color: #800080\">    0.2910521328449249     </span>│\n",
       "│<span style=\"color: #008080; text-decoration-color: #008080\">      test_loss_epoch      </span>│<span style=\"color: #800080; text-decoration-color: #800080\">    0.5711851716041565     </span>│\n",
       "└───────────────────────────┴───────────────────────────┘\n",
       "</pre>\n"
      ],
      "text/plain": [
       "┏━━━━━━━━━━━━━━━━━━━━━━━━━━━┳━━━━━━━━━━━━━━━━━━━━━━━━━━━┓\n",
       "┃\u001b[1m \u001b[0m\u001b[1m       Test metric       \u001b[0m\u001b[1m \u001b[0m┃\u001b[1m \u001b[0m\u001b[1m      DataLoader 0       \u001b[0m\u001b[1m \u001b[0m┃\n",
       "┡━━━━━━━━━━━━━━━━━━━━━━━━━━━╇━━━━━━━━━━━━━━━━━━━━━━━━━━━┩\n",
       "│\u001b[36m \u001b[0m\u001b[36m     test_f1ma_epoch     \u001b[0m\u001b[36m \u001b[0m│\u001b[35m \u001b[0m\u001b[35m   0.18156160414218903   \u001b[0m\u001b[35m \u001b[0m│\n",
       "│\u001b[36m \u001b[0m\u001b[36m     test_ham_epoch      \u001b[0m\u001b[36m \u001b[0m│\u001b[35m \u001b[0m\u001b[35m   0.2910521328449249    \u001b[0m\u001b[35m \u001b[0m│\n",
       "│\u001b[36m \u001b[0m\u001b[36m     test_loss_epoch     \u001b[0m\u001b[36m \u001b[0m│\u001b[35m \u001b[0m\u001b[35m   0.5711851716041565    \u001b[0m\u001b[35m \u001b[0m│\n",
       "└───────────────────────────┴───────────────────────────┘\n"
      ]
     },
     "metadata": {},
     "output_type": "display_data"
    },
    {
     "name": "stdout",
     "output_type": "stream",
     "text": [
      "  loss: 0.5712 | hamming: 0.2911 | f1_macro: 0.1816\n",
      "Fold 3/10\n"
     ]
    },
    {
     "name": "stderr",
     "output_type": "stream",
     "text": [
      "GPU available: True (mps), used: False\n",
      "TPU available: False, using: 0 TPU cores\n",
      "HPU available: False, using: 0 HPUs\n",
      "\n",
      "  | Name       | Type                      | Params | Mode \n",
      "-----------------------------------------------------------------\n",
      "0 | classifier | Sequential                | 562 K  | train\n",
      "1 | loss       | BCEWithLogitsLoss         | 0      | train\n",
      "2 | hamming    | MultilabelHammingDistance | 0      | train\n",
      "3 | f1_macro   | MultilabelF1Score         | 0      | train\n",
      "-----------------------------------------------------------------\n",
      "562 K     Trainable params\n",
      "0         Non-trainable params\n",
      "562 K     Total params\n",
      "2.250     Total estimated model params size (MB)\n",
      "17        Modules in train mode\n",
      "0         Modules in eval mode\n"
     ]
    },
    {
     "name": "stdout",
     "output_type": "stream",
     "text": [
      "Epoch 3: 100%|██████████| 34/34 [00:00<00:00, 170.33it/s, v_num=112, train_loss=0.557, train_ham=0.300, train_f1ma=0.274, val_loss_step=0.534, val_ham_step=0.215, val_f1ma_step=0.125, val_loss_epoch=0.572, val_ham_epoch=0.323, val_f1ma_epoch=0.146] \n"
     ]
    },
    {
     "name": "stderr",
     "output_type": "stream",
     "text": [
      "Restoring states from the checkpoint path at /Users/benjaminvaca/Documents/USFQ/semestre7/machine_learning/proyecto/lightning_logs/version_112/checkpoints/epoch=0-step=34.ckpt\n",
      "Loaded model weights from the checkpoint at /Users/benjaminvaca/Documents/USFQ/semestre7/machine_learning/proyecto/lightning_logs/version_112/checkpoints/epoch=0-step=34.ckpt\n"
     ]
    },
    {
     "name": "stdout",
     "output_type": "stream",
     "text": [
      "Validation DataLoader 0: 100%|██████████| 34/34 [00:00<00:00, 479.67it/s]"
     ]
    },
    {
     "name": "stderr",
     "output_type": "stream",
     "text": [
      "Restoring states from the checkpoint path at /Users/benjaminvaca/Documents/USFQ/semestre7/machine_learning/proyecto/lightning_logs/version_112/checkpoints/epoch=0-step=34.ckpt\n"
     ]
    },
    {
     "name": "stdout",
     "output_type": "stream",
     "text": [
      "\n"
     ]
    },
    {
     "name": "stderr",
     "output_type": "stream",
     "text": [
      "Loaded model weights from the checkpoint at /Users/benjaminvaca/Documents/USFQ/semestre7/machine_learning/proyecto/lightning_logs/version_112/checkpoints/epoch=0-step=34.ckpt\n"
     ]
    },
    {
     "name": "stdout",
     "output_type": "stream",
     "text": [
      "Validation DataLoader 0: 100%|██████████| 9/9 [00:00<00:00, 426.54it/s]"
     ]
    },
    {
     "name": "stderr",
     "output_type": "stream",
     "text": [
      "Restoring states from the checkpoint path at /Users/benjaminvaca/Documents/USFQ/semestre7/machine_learning/proyecto/lightning_logs/version_112/checkpoints/epoch=0-step=34.ckpt\n"
     ]
    },
    {
     "name": "stdout",
     "output_type": "stream",
     "text": [
      "\n"
     ]
    },
    {
     "name": "stderr",
     "output_type": "stream",
     "text": [
      "Loaded model weights from the checkpoint at /Users/benjaminvaca/Documents/USFQ/semestre7/machine_learning/proyecto/lightning_logs/version_112/checkpoints/epoch=0-step=34.ckpt\n"
     ]
    },
    {
     "name": "stdout",
     "output_type": "stream",
     "text": [
      "Testing DataLoader 0: 100%|██████████| 11/11 [00:00<00:00, 435.23it/s]\n"
     ]
    },
    {
     "data": {
      "text/html": [
       "<pre style=\"white-space:pre;overflow-x:auto;line-height:normal;font-family:Menlo,'DejaVu Sans Mono',consolas,'Courier New',monospace\">┏━━━━━━━━━━━━━━━━━━━━━━━━━━━┳━━━━━━━━━━━━━━━━━━━━━━━━━━━┓\n",
       "┃<span style=\"font-weight: bold\">        Test metric        </span>┃<span style=\"font-weight: bold\">       DataLoader 0        </span>┃\n",
       "┡━━━━━━━━━━━━━━━━━━━━━━━━━━━╇━━━━━━━━━━━━━━━━━━━━━━━━━━━┩\n",
       "│<span style=\"color: #008080; text-decoration-color: #008080\">      test_f1ma_epoch      </span>│<span style=\"color: #800080; text-decoration-color: #800080\">    0.2054012417793274     </span>│\n",
       "│<span style=\"color: #008080; text-decoration-color: #008080\">      test_ham_epoch       </span>│<span style=\"color: #800080; text-decoration-color: #800080\">    0.31694528460502625    </span>│\n",
       "│<span style=\"color: #008080; text-decoration-color: #008080\">      test_loss_epoch      </span>│<span style=\"color: #800080; text-decoration-color: #800080\">    0.6044847965240479     </span>│\n",
       "└───────────────────────────┴───────────────────────────┘\n",
       "</pre>\n"
      ],
      "text/plain": [
       "┏━━━━━━━━━━━━━━━━━━━━━━━━━━━┳━━━━━━━━━━━━━━━━━━━━━━━━━━━┓\n",
       "┃\u001b[1m \u001b[0m\u001b[1m       Test metric       \u001b[0m\u001b[1m \u001b[0m┃\u001b[1m \u001b[0m\u001b[1m      DataLoader 0       \u001b[0m\u001b[1m \u001b[0m┃\n",
       "┡━━━━━━━━━━━━━━━━━━━━━━━━━━━╇━━━━━━━━━━━━━━━━━━━━━━━━━━━┩\n",
       "│\u001b[36m \u001b[0m\u001b[36m     test_f1ma_epoch     \u001b[0m\u001b[36m \u001b[0m│\u001b[35m \u001b[0m\u001b[35m   0.2054012417793274    \u001b[0m\u001b[35m \u001b[0m│\n",
       "│\u001b[36m \u001b[0m\u001b[36m     test_ham_epoch      \u001b[0m\u001b[36m \u001b[0m│\u001b[35m \u001b[0m\u001b[35m   0.31694528460502625   \u001b[0m\u001b[35m \u001b[0m│\n",
       "│\u001b[36m \u001b[0m\u001b[36m     test_loss_epoch     \u001b[0m\u001b[36m \u001b[0m│\u001b[35m \u001b[0m\u001b[35m   0.6044847965240479    \u001b[0m\u001b[35m \u001b[0m│\n",
       "└───────────────────────────┴───────────────────────────┘\n"
      ]
     },
     "metadata": {},
     "output_type": "display_data"
    },
    {
     "name": "stdout",
     "output_type": "stream",
     "text": [
      "  loss: 0.6045 | hamming: 0.3169 | f1_macro: 0.2054\n",
      "Fold 4/10\n"
     ]
    },
    {
     "name": "stderr",
     "output_type": "stream",
     "text": [
      "GPU available: True (mps), used: False\n",
      "TPU available: False, using: 0 TPU cores\n",
      "HPU available: False, using: 0 HPUs\n",
      "\n",
      "  | Name       | Type                      | Params | Mode \n",
      "-----------------------------------------------------------------\n",
      "0 | classifier | Sequential                | 562 K  | train\n",
      "1 | loss       | BCEWithLogitsLoss         | 0      | train\n",
      "2 | hamming    | MultilabelHammingDistance | 0      | train\n",
      "3 | f1_macro   | MultilabelF1Score         | 0      | train\n",
      "-----------------------------------------------------------------\n",
      "562 K     Trainable params\n",
      "0         Non-trainable params\n",
      "562 K     Total params\n",
      "2.250     Total estimated model params size (MB)\n",
      "17        Modules in train mode\n",
      "0         Modules in eval mode\n"
     ]
    },
    {
     "name": "stdout",
     "output_type": "stream",
     "text": [
      "Epoch 3: 100%|██████████| 34/34 [00:00<00:00, 170.56it/s, v_num=113, train_loss=0.563, train_ham=0.293, train_f1ma=0.299, val_loss_step=0.572, val_ham_step=0.289, val_f1ma_step=0.133, val_loss_epoch=0.561, val_ham_epoch=0.303, val_f1ma_epoch=0.184] \n"
     ]
    },
    {
     "name": "stderr",
     "output_type": "stream",
     "text": [
      "Restoring states from the checkpoint path at /Users/benjaminvaca/Documents/USFQ/semestre7/machine_learning/proyecto/lightning_logs/version_113/checkpoints/epoch=0-step=34.ckpt\n",
      "Loaded model weights from the checkpoint at /Users/benjaminvaca/Documents/USFQ/semestre7/machine_learning/proyecto/lightning_logs/version_113/checkpoints/epoch=0-step=34.ckpt\n"
     ]
    },
    {
     "name": "stdout",
     "output_type": "stream",
     "text": [
      "Validation DataLoader 0: 100%|██████████| 34/34 [00:00<00:00, 478.63it/s]"
     ]
    },
    {
     "name": "stderr",
     "output_type": "stream",
     "text": [
      "Restoring states from the checkpoint path at /Users/benjaminvaca/Documents/USFQ/semestre7/machine_learning/proyecto/lightning_logs/version_113/checkpoints/epoch=0-step=34.ckpt\n"
     ]
    },
    {
     "name": "stdout",
     "output_type": "stream",
     "text": [
      "\n"
     ]
    },
    {
     "name": "stderr",
     "output_type": "stream",
     "text": [
      "Loaded model weights from the checkpoint at /Users/benjaminvaca/Documents/USFQ/semestre7/machine_learning/proyecto/lightning_logs/version_113/checkpoints/epoch=0-step=34.ckpt\n"
     ]
    },
    {
     "name": "stdout",
     "output_type": "stream",
     "text": [
      "Validation DataLoader 0: 100%|██████████| 9/9 [00:00<00:00, 432.71it/s]"
     ]
    },
    {
     "name": "stderr",
     "output_type": "stream",
     "text": [
      "Restoring states from the checkpoint path at /Users/benjaminvaca/Documents/USFQ/semestre7/machine_learning/proyecto/lightning_logs/version_113/checkpoints/epoch=0-step=34.ckpt\n"
     ]
    },
    {
     "name": "stdout",
     "output_type": "stream",
     "text": [
      "\n"
     ]
    },
    {
     "name": "stderr",
     "output_type": "stream",
     "text": [
      "Loaded model weights from the checkpoint at /Users/benjaminvaca/Documents/USFQ/semestre7/machine_learning/proyecto/lightning_logs/version_113/checkpoints/epoch=0-step=34.ckpt\n"
     ]
    },
    {
     "name": "stdout",
     "output_type": "stream",
     "text": [
      "Testing DataLoader 0: 100%|██████████| 11/11 [00:00<00:00, 427.30it/s]\n"
     ]
    },
    {
     "data": {
      "text/html": [
       "<pre style=\"white-space:pre;overflow-x:auto;line-height:normal;font-family:Menlo,'DejaVu Sans Mono',consolas,'Courier New',monospace\">┏━━━━━━━━━━━━━━━━━━━━━━━━━━━┳━━━━━━━━━━━━━━━━━━━━━━━━━━━┓\n",
       "┃<span style=\"font-weight: bold\">        Test metric        </span>┃<span style=\"font-weight: bold\">       DataLoader 0        </span>┃\n",
       "┡━━━━━━━━━━━━━━━━━━━━━━━━━━━╇━━━━━━━━━━━━━━━━━━━━━━━━━━━┩\n",
       "│<span style=\"color: #008080; text-decoration-color: #008080\">      test_f1ma_epoch      </span>│<span style=\"color: #800080; text-decoration-color: #800080\">    0.18967261910438538    </span>│\n",
       "│<span style=\"color: #008080; text-decoration-color: #008080\">      test_ham_epoch       </span>│<span style=\"color: #800080; text-decoration-color: #800080\">    0.3097345232963562     </span>│\n",
       "│<span style=\"color: #008080; text-decoration-color: #008080\">      test_loss_epoch      </span>│<span style=\"color: #800080; text-decoration-color: #800080\">    0.6010547876358032     </span>│\n",
       "└───────────────────────────┴───────────────────────────┘\n",
       "</pre>\n"
      ],
      "text/plain": [
       "┏━━━━━━━━━━━━━━━━━━━━━━━━━━━┳━━━━━━━━━━━━━━━━━━━━━━━━━━━┓\n",
       "┃\u001b[1m \u001b[0m\u001b[1m       Test metric       \u001b[0m\u001b[1m \u001b[0m┃\u001b[1m \u001b[0m\u001b[1m      DataLoader 0       \u001b[0m\u001b[1m \u001b[0m┃\n",
       "┡━━━━━━━━━━━━━━━━━━━━━━━━━━━╇━━━━━━━━━━━━━━━━━━━━━━━━━━━┩\n",
       "│\u001b[36m \u001b[0m\u001b[36m     test_f1ma_epoch     \u001b[0m\u001b[36m \u001b[0m│\u001b[35m \u001b[0m\u001b[35m   0.18967261910438538   \u001b[0m\u001b[35m \u001b[0m│\n",
       "│\u001b[36m \u001b[0m\u001b[36m     test_ham_epoch      \u001b[0m\u001b[36m \u001b[0m│\u001b[35m \u001b[0m\u001b[35m   0.3097345232963562    \u001b[0m\u001b[35m \u001b[0m│\n",
       "│\u001b[36m \u001b[0m\u001b[36m     test_loss_epoch     \u001b[0m\u001b[36m \u001b[0m│\u001b[35m \u001b[0m\u001b[35m   0.6010547876358032    \u001b[0m\u001b[35m \u001b[0m│\n",
       "└───────────────────────────┴───────────────────────────┘\n"
      ]
     },
     "metadata": {},
     "output_type": "display_data"
    },
    {
     "name": "stdout",
     "output_type": "stream",
     "text": [
      "  loss: 0.6011 | hamming: 0.3097 | f1_macro: 0.1897\n",
      "Fold 5/10\n"
     ]
    },
    {
     "name": "stderr",
     "output_type": "stream",
     "text": [
      "GPU available: True (mps), used: False\n",
      "TPU available: False, using: 0 TPU cores\n",
      "HPU available: False, using: 0 HPUs\n",
      "\n",
      "  | Name       | Type                      | Params | Mode \n",
      "-----------------------------------------------------------------\n",
      "0 | classifier | Sequential                | 562 K  | train\n",
      "1 | loss       | BCEWithLogitsLoss         | 0      | train\n",
      "2 | hamming    | MultilabelHammingDistance | 0      | train\n",
      "3 | f1_macro   | MultilabelF1Score         | 0      | train\n",
      "-----------------------------------------------------------------\n",
      "562 K     Trainable params\n",
      "0         Non-trainable params\n",
      "562 K     Total params\n",
      "2.250     Total estimated model params size (MB)\n",
      "17        Modules in train mode\n",
      "0         Modules in eval mode\n"
     ]
    },
    {
     "name": "stdout",
     "output_type": "stream",
     "text": [
      "Epoch 3: 100%|██████████| 34/34 [00:00<00:00, 162.50it/s, v_num=114, train_loss=0.539, train_ham=0.252, train_f1ma=0.362, val_loss_step=0.538, val_ham_step=0.333, val_f1ma_step=0.122, val_loss_epoch=0.561, val_ham_epoch=0.291, val_f1ma_epoch=0.192] \n"
     ]
    },
    {
     "name": "stderr",
     "output_type": "stream",
     "text": [
      "Restoring states from the checkpoint path at /Users/benjaminvaca/Documents/USFQ/semestre7/machine_learning/proyecto/lightning_logs/version_114/checkpoints/epoch=0-step=34.ckpt\n",
      "Loaded model weights from the checkpoint at /Users/benjaminvaca/Documents/USFQ/semestre7/machine_learning/proyecto/lightning_logs/version_114/checkpoints/epoch=0-step=34.ckpt\n"
     ]
    },
    {
     "name": "stdout",
     "output_type": "stream",
     "text": [
      "Validation DataLoader 0: 100%|██████████| 34/34 [00:00<00:00, 453.10it/s]"
     ]
    },
    {
     "name": "stderr",
     "output_type": "stream",
     "text": [
      "Restoring states from the checkpoint path at /Users/benjaminvaca/Documents/USFQ/semestre7/machine_learning/proyecto/lightning_logs/version_114/checkpoints/epoch=0-step=34.ckpt\n"
     ]
    },
    {
     "name": "stdout",
     "output_type": "stream",
     "text": [
      "\n"
     ]
    },
    {
     "name": "stderr",
     "output_type": "stream",
     "text": [
      "Loaded model weights from the checkpoint at /Users/benjaminvaca/Documents/USFQ/semestre7/machine_learning/proyecto/lightning_logs/version_114/checkpoints/epoch=0-step=34.ckpt\n"
     ]
    },
    {
     "name": "stdout",
     "output_type": "stream",
     "text": [
      "Validation DataLoader 0: 100%|██████████| 9/9 [00:00<00:00, 170.25it/s]\n"
     ]
    },
    {
     "name": "stderr",
     "output_type": "stream",
     "text": [
      "Restoring states from the checkpoint path at /Users/benjaminvaca/Documents/USFQ/semestre7/machine_learning/proyecto/lightning_logs/version_114/checkpoints/epoch=0-step=34.ckpt\n",
      "Loaded model weights from the checkpoint at /Users/benjaminvaca/Documents/USFQ/semestre7/machine_learning/proyecto/lightning_logs/version_114/checkpoints/epoch=0-step=34.ckpt\n"
     ]
    },
    {
     "name": "stdout",
     "output_type": "stream",
     "text": [
      "Testing DataLoader 0: 100%|██████████| 11/11 [00:00<00:00, 404.36it/s]\n"
     ]
    },
    {
     "data": {
      "text/html": [
       "<pre style=\"white-space:pre;overflow-x:auto;line-height:normal;font-family:Menlo,'DejaVu Sans Mono',consolas,'Courier New',monospace\">┏━━━━━━━━━━━━━━━━━━━━━━━━━━━┳━━━━━━━━━━━━━━━━━━━━━━━━━━━┓\n",
       "┃<span style=\"font-weight: bold\">        Test metric        </span>┃<span style=\"font-weight: bold\">       DataLoader 0        </span>┃\n",
       "┡━━━━━━━━━━━━━━━━━━━━━━━━━━━╇━━━━━━━━━━━━━━━━━━━━━━━━━━━┩\n",
       "│<span style=\"color: #008080; text-decoration-color: #008080\">      test_f1ma_epoch      </span>│<span style=\"color: #800080; text-decoration-color: #800080\">    0.17656080424785614    </span>│\n",
       "│<span style=\"color: #008080; text-decoration-color: #008080\">      test_ham_epoch       </span>│<span style=\"color: #800080; text-decoration-color: #800080\">    0.3136676847934723     </span>│\n",
       "│<span style=\"color: #008080; text-decoration-color: #008080\">      test_loss_epoch      </span>│<span style=\"color: #800080; text-decoration-color: #800080\">    0.5978090167045593     </span>│\n",
       "└───────────────────────────┴───────────────────────────┘\n",
       "</pre>\n"
      ],
      "text/plain": [
       "┏━━━━━━━━━━━━━━━━━━━━━━━━━━━┳━━━━━━━━━━━━━━━━━━━━━━━━━━━┓\n",
       "┃\u001b[1m \u001b[0m\u001b[1m       Test metric       \u001b[0m\u001b[1m \u001b[0m┃\u001b[1m \u001b[0m\u001b[1m      DataLoader 0       \u001b[0m\u001b[1m \u001b[0m┃\n",
       "┡━━━━━━━━━━━━━━━━━━━━━━━━━━━╇━━━━━━━━━━━━━━━━━━━━━━━━━━━┩\n",
       "│\u001b[36m \u001b[0m\u001b[36m     test_f1ma_epoch     \u001b[0m\u001b[36m \u001b[0m│\u001b[35m \u001b[0m\u001b[35m   0.17656080424785614   \u001b[0m\u001b[35m \u001b[0m│\n",
       "│\u001b[36m \u001b[0m\u001b[36m     test_ham_epoch      \u001b[0m\u001b[36m \u001b[0m│\u001b[35m \u001b[0m\u001b[35m   0.3136676847934723    \u001b[0m\u001b[35m \u001b[0m│\n",
       "│\u001b[36m \u001b[0m\u001b[36m     test_loss_epoch     \u001b[0m\u001b[36m \u001b[0m│\u001b[35m \u001b[0m\u001b[35m   0.5978090167045593    \u001b[0m\u001b[35m \u001b[0m│\n",
       "└───────────────────────────┴───────────────────────────┘\n"
      ]
     },
     "metadata": {},
     "output_type": "display_data"
    },
    {
     "name": "stdout",
     "output_type": "stream",
     "text": [
      "  loss: 0.5978 | hamming: 0.3137 | f1_macro: 0.1766\n",
      "Fold 6/10\n"
     ]
    },
    {
     "name": "stderr",
     "output_type": "stream",
     "text": [
      "GPU available: True (mps), used: False\n",
      "TPU available: False, using: 0 TPU cores\n",
      "HPU available: False, using: 0 HPUs\n",
      "\n",
      "  | Name       | Type                      | Params | Mode \n",
      "-----------------------------------------------------------------\n",
      "0 | classifier | Sequential                | 562 K  | train\n",
      "1 | loss       | BCEWithLogitsLoss         | 0      | train\n",
      "2 | hamming    | MultilabelHammingDistance | 0      | train\n",
      "3 | f1_macro   | MultilabelF1Score         | 0      | train\n",
      "-----------------------------------------------------------------\n",
      "562 K     Trainable params\n",
      "0         Non-trainable params\n",
      "562 K     Total params\n",
      "2.250     Total estimated model params size (MB)\n",
      "17        Modules in train mode\n",
      "0         Modules in eval mode\n"
     ]
    },
    {
     "name": "stdout",
     "output_type": "stream",
     "text": [
      "Epoch 4: 100%|██████████| 34/34 [00:00<00:00, 169.24it/s, v_num=115, train_loss=0.525, train_ham=0.287, train_f1ma=0.323, val_loss_step=0.551, val_ham_step=0.306, val_f1ma_step=0.133, val_loss_epoch=0.561, val_ham_epoch=0.293, val_f1ma_epoch=0.170] "
     ]
    },
    {
     "name": "stderr",
     "output_type": "stream",
     "text": [
      "Restoring states from the checkpoint path at /Users/benjaminvaca/Documents/USFQ/semestre7/machine_learning/proyecto/lightning_logs/version_115/checkpoints/epoch=1-step=68.ckpt\n"
     ]
    },
    {
     "name": "stdout",
     "output_type": "stream",
     "text": [
      "\n"
     ]
    },
    {
     "name": "stderr",
     "output_type": "stream",
     "text": [
      "Loaded model weights from the checkpoint at /Users/benjaminvaca/Documents/USFQ/semestre7/machine_learning/proyecto/lightning_logs/version_115/checkpoints/epoch=1-step=68.ckpt\n"
     ]
    },
    {
     "name": "stdout",
     "output_type": "stream",
     "text": [
      "Validation DataLoader 0: 100%|██████████| 34/34 [00:00<00:00, 479.76it/s]"
     ]
    },
    {
     "name": "stderr",
     "output_type": "stream",
     "text": [
      "Restoring states from the checkpoint path at /Users/benjaminvaca/Documents/USFQ/semestre7/machine_learning/proyecto/lightning_logs/version_115/checkpoints/epoch=1-step=68.ckpt\n"
     ]
    },
    {
     "name": "stdout",
     "output_type": "stream",
     "text": [
      "\n"
     ]
    },
    {
     "name": "stderr",
     "output_type": "stream",
     "text": [
      "Loaded model weights from the checkpoint at /Users/benjaminvaca/Documents/USFQ/semestre7/machine_learning/proyecto/lightning_logs/version_115/checkpoints/epoch=1-step=68.ckpt\n"
     ]
    },
    {
     "name": "stdout",
     "output_type": "stream",
     "text": [
      "Validation DataLoader 0: 100%|██████████| 9/9 [00:00<00:00, 440.68it/s]"
     ]
    },
    {
     "name": "stderr",
     "output_type": "stream",
     "text": [
      "Restoring states from the checkpoint path at /Users/benjaminvaca/Documents/USFQ/semestre7/machine_learning/proyecto/lightning_logs/version_115/checkpoints/epoch=1-step=68.ckpt\n"
     ]
    },
    {
     "name": "stdout",
     "output_type": "stream",
     "text": [
      "\n"
     ]
    },
    {
     "name": "stderr",
     "output_type": "stream",
     "text": [
      "Loaded model weights from the checkpoint at /Users/benjaminvaca/Documents/USFQ/semestre7/machine_learning/proyecto/lightning_logs/version_115/checkpoints/epoch=1-step=68.ckpt\n"
     ]
    },
    {
     "name": "stdout",
     "output_type": "stream",
     "text": [
      "Testing DataLoader 0: 100%|██████████| 11/11 [00:00<00:00, 433.07it/s]\n"
     ]
    },
    {
     "data": {
      "text/html": [
       "<pre style=\"white-space:pre;overflow-x:auto;line-height:normal;font-family:Menlo,'DejaVu Sans Mono',consolas,'Courier New',monospace\">┏━━━━━━━━━━━━━━━━━━━━━━━━━━━┳━━━━━━━━━━━━━━━━━━━━━━━━━━━┓\n",
       "┃<span style=\"font-weight: bold\">        Test metric        </span>┃<span style=\"font-weight: bold\">       DataLoader 0        </span>┃\n",
       "┡━━━━━━━━━━━━━━━━━━━━━━━━━━━╇━━━━━━━━━━━━━━━━━━━━━━━━━━━┩\n",
       "│<span style=\"color: #008080; text-decoration-color: #008080\">      test_f1ma_epoch      </span>│<span style=\"color: #800080; text-decoration-color: #800080\">    0.2028864175081253     </span>│\n",
       "│<span style=\"color: #008080; text-decoration-color: #008080\">      test_ham_epoch       </span>│<span style=\"color: #800080; text-decoration-color: #800080\">    0.28843003511428833    </span>│\n",
       "│<span style=\"color: #008080; text-decoration-color: #008080\">      test_loss_epoch      </span>│<span style=\"color: #800080; text-decoration-color: #800080\">     0.570957362651825     </span>│\n",
       "└───────────────────────────┴───────────────────────────┘\n",
       "</pre>\n"
      ],
      "text/plain": [
       "┏━━━━━━━━━━━━━━━━━━━━━━━━━━━┳━━━━━━━━━━━━━━━━━━━━━━━━━━━┓\n",
       "┃\u001b[1m \u001b[0m\u001b[1m       Test metric       \u001b[0m\u001b[1m \u001b[0m┃\u001b[1m \u001b[0m\u001b[1m      DataLoader 0       \u001b[0m\u001b[1m \u001b[0m┃\n",
       "┡━━━━━━━━━━━━━━━━━━━━━━━━━━━╇━━━━━━━━━━━━━━━━━━━━━━━━━━━┩\n",
       "│\u001b[36m \u001b[0m\u001b[36m     test_f1ma_epoch     \u001b[0m\u001b[36m \u001b[0m│\u001b[35m \u001b[0m\u001b[35m   0.2028864175081253    \u001b[0m\u001b[35m \u001b[0m│\n",
       "│\u001b[36m \u001b[0m\u001b[36m     test_ham_epoch      \u001b[0m\u001b[36m \u001b[0m│\u001b[35m \u001b[0m\u001b[35m   0.28843003511428833   \u001b[0m\u001b[35m \u001b[0m│\n",
       "│\u001b[36m \u001b[0m\u001b[36m     test_loss_epoch     \u001b[0m\u001b[36m \u001b[0m│\u001b[35m \u001b[0m\u001b[35m    0.570957362651825    \u001b[0m\u001b[35m \u001b[0m│\n",
       "└───────────────────────────┴───────────────────────────┘\n"
      ]
     },
     "metadata": {},
     "output_type": "display_data"
    },
    {
     "name": "stdout",
     "output_type": "stream",
     "text": [
      "  loss: 0.5710 | hamming: 0.2884 | f1_macro: 0.2029\n",
      "Fold 7/10\n"
     ]
    },
    {
     "name": "stderr",
     "output_type": "stream",
     "text": [
      "GPU available: True (mps), used: False\n",
      "TPU available: False, using: 0 TPU cores\n",
      "HPU available: False, using: 0 HPUs\n",
      "\n",
      "  | Name       | Type                      | Params | Mode \n",
      "-----------------------------------------------------------------\n",
      "0 | classifier | Sequential                | 562 K  | train\n",
      "1 | loss       | BCEWithLogitsLoss         | 0      | train\n",
      "2 | hamming    | MultilabelHammingDistance | 0      | train\n",
      "3 | f1_macro   | MultilabelF1Score         | 0      | train\n",
      "-----------------------------------------------------------------\n",
      "562 K     Trainable params\n",
      "0         Non-trainable params\n",
      "562 K     Total params\n",
      "2.250     Total estimated model params size (MB)\n",
      "17        Modules in train mode\n",
      "0         Modules in eval mode\n"
     ]
    },
    {
     "name": "stdout",
     "output_type": "stream",
     "text": [
      "Epoch 3: 100%|██████████| 34/34 [00:00<00:00, 139.56it/s, v_num=116, train_loss=0.612, train_ham=0.326, train_f1ma=0.200, val_loss_step=0.551, val_ham_step=0.354, val_f1ma_step=0.088, val_loss_epoch=0.558, val_ham_epoch=0.291, val_f1ma_epoch=0.170] "
     ]
    },
    {
     "name": "stderr",
     "output_type": "stream",
     "text": [
      "Restoring states from the checkpoint path at /Users/benjaminvaca/Documents/USFQ/semestre7/machine_learning/proyecto/lightning_logs/version_116/checkpoints/epoch=0-step=34.ckpt\n"
     ]
    },
    {
     "name": "stdout",
     "output_type": "stream",
     "text": [
      "\n"
     ]
    },
    {
     "name": "stderr",
     "output_type": "stream",
     "text": [
      "Loaded model weights from the checkpoint at /Users/benjaminvaca/Documents/USFQ/semestre7/machine_learning/proyecto/lightning_logs/version_116/checkpoints/epoch=0-step=34.ckpt\n"
     ]
    },
    {
     "name": "stdout",
     "output_type": "stream",
     "text": [
      "Validation DataLoader 0: 100%|██████████| 34/34 [00:00<00:00, 475.06it/s]"
     ]
    },
    {
     "name": "stderr",
     "output_type": "stream",
     "text": [
      "Restoring states from the checkpoint path at /Users/benjaminvaca/Documents/USFQ/semestre7/machine_learning/proyecto/lightning_logs/version_116/checkpoints/epoch=0-step=34.ckpt\n"
     ]
    },
    {
     "name": "stdout",
     "output_type": "stream",
     "text": [
      "\n"
     ]
    },
    {
     "name": "stderr",
     "output_type": "stream",
     "text": [
      "Loaded model weights from the checkpoint at /Users/benjaminvaca/Documents/USFQ/semestre7/machine_learning/proyecto/lightning_logs/version_116/checkpoints/epoch=0-step=34.ckpt\n"
     ]
    },
    {
     "name": "stdout",
     "output_type": "stream",
     "text": [
      "Validation DataLoader 0: 100%|██████████| 9/9 [00:00<00:00, 417.17it/s]"
     ]
    },
    {
     "name": "stderr",
     "output_type": "stream",
     "text": [
      "Restoring states from the checkpoint path at /Users/benjaminvaca/Documents/USFQ/semestre7/machine_learning/proyecto/lightning_logs/version_116/checkpoints/epoch=0-step=34.ckpt\n"
     ]
    },
    {
     "name": "stdout",
     "output_type": "stream",
     "text": [
      "\n"
     ]
    },
    {
     "name": "stderr",
     "output_type": "stream",
     "text": [
      "Loaded model weights from the checkpoint at /Users/benjaminvaca/Documents/USFQ/semestre7/machine_learning/proyecto/lightning_logs/version_116/checkpoints/epoch=0-step=34.ckpt\n"
     ]
    },
    {
     "name": "stdout",
     "output_type": "stream",
     "text": [
      "Testing DataLoader 0: 100%|██████████| 11/11 [00:00<00:00, 419.10it/s]\n"
     ]
    },
    {
     "data": {
      "text/html": [
       "<pre style=\"white-space:pre;overflow-x:auto;line-height:normal;font-family:Menlo,'DejaVu Sans Mono',consolas,'Courier New',monospace\">┏━━━━━━━━━━━━━━━━━━━━━━━━━━━┳━━━━━━━━━━━━━━━━━━━━━━━━━━━┓\n",
       "┃<span style=\"font-weight: bold\">        Test metric        </span>┃<span style=\"font-weight: bold\">       DataLoader 0        </span>┃\n",
       "┡━━━━━━━━━━━━━━━━━━━━━━━━━━━╇━━━━━━━━━━━━━━━━━━━━━━━━━━━┩\n",
       "│<span style=\"color: #008080; text-decoration-color: #008080\">      test_f1ma_epoch      </span>│<span style=\"color: #800080; text-decoration-color: #800080\">    0.19193510711193085    </span>│\n",
       "│<span style=\"color: #008080; text-decoration-color: #008080\">      test_ham_epoch       </span>│<span style=\"color: #800080; text-decoration-color: #800080\">    0.3244837522506714     </span>│\n",
       "│<span style=\"color: #008080; text-decoration-color: #008080\">      test_loss_epoch      </span>│<span style=\"color: #800080; text-decoration-color: #800080\">    0.6020888090133667     </span>│\n",
       "└───────────────────────────┴───────────────────────────┘\n",
       "</pre>\n"
      ],
      "text/plain": [
       "┏━━━━━━━━━━━━━━━━━━━━━━━━━━━┳━━━━━━━━━━━━━━━━━━━━━━━━━━━┓\n",
       "┃\u001b[1m \u001b[0m\u001b[1m       Test metric       \u001b[0m\u001b[1m \u001b[0m┃\u001b[1m \u001b[0m\u001b[1m      DataLoader 0       \u001b[0m\u001b[1m \u001b[0m┃\n",
       "┡━━━━━━━━━━━━━━━━━━━━━━━━━━━╇━━━━━━━━━━━━━━━━━━━━━━━━━━━┩\n",
       "│\u001b[36m \u001b[0m\u001b[36m     test_f1ma_epoch     \u001b[0m\u001b[36m \u001b[0m│\u001b[35m \u001b[0m\u001b[35m   0.19193510711193085   \u001b[0m\u001b[35m \u001b[0m│\n",
       "│\u001b[36m \u001b[0m\u001b[36m     test_ham_epoch      \u001b[0m\u001b[36m \u001b[0m│\u001b[35m \u001b[0m\u001b[35m   0.3244837522506714    \u001b[0m\u001b[35m \u001b[0m│\n",
       "│\u001b[36m \u001b[0m\u001b[36m     test_loss_epoch     \u001b[0m\u001b[36m \u001b[0m│\u001b[35m \u001b[0m\u001b[35m   0.6020888090133667    \u001b[0m\u001b[35m \u001b[0m│\n",
       "└───────────────────────────┴───────────────────────────┘\n"
      ]
     },
     "metadata": {},
     "output_type": "display_data"
    },
    {
     "name": "stdout",
     "output_type": "stream",
     "text": [
      "  loss: 0.6021 | hamming: 0.3245 | f1_macro: 0.1919\n",
      "Fold 8/10\n"
     ]
    },
    {
     "name": "stderr",
     "output_type": "stream",
     "text": [
      "GPU available: True (mps), used: False\n",
      "TPU available: False, using: 0 TPU cores\n",
      "HPU available: False, using: 0 HPUs\n",
      "\n",
      "  | Name       | Type                      | Params | Mode \n",
      "-----------------------------------------------------------------\n",
      "0 | classifier | Sequential                | 562 K  | train\n",
      "1 | loss       | BCEWithLogitsLoss         | 0      | train\n",
      "2 | hamming    | MultilabelHammingDistance | 0      | train\n",
      "3 | f1_macro   | MultilabelF1Score         | 0      | train\n",
      "-----------------------------------------------------------------\n",
      "562 K     Trainable params\n",
      "0         Non-trainable params\n",
      "562 K     Total params\n",
      "2.250     Total estimated model params size (MB)\n",
      "17        Modules in train mode\n",
      "0         Modules in eval mode\n"
     ]
    },
    {
     "name": "stdout",
     "output_type": "stream",
     "text": [
      "Epoch 6: 100%|██████████| 34/34 [00:00<00:00, 167.76it/s, v_num=117, train_loss=0.537, train_ham=0.296, train_f1ma=0.344, val_loss_step=0.571, val_ham_step=0.370, val_f1ma_step=0.0926, val_loss_epoch=0.555, val_ham_epoch=0.289, val_f1ma_epoch=0.206]"
     ]
    },
    {
     "name": "stderr",
     "output_type": "stream",
     "text": [
      "Restoring states from the checkpoint path at /Users/benjaminvaca/Documents/USFQ/semestre7/machine_learning/proyecto/lightning_logs/version_117/checkpoints/epoch=3-step=136.ckpt\n"
     ]
    },
    {
     "name": "stdout",
     "output_type": "stream",
     "text": [
      "\n"
     ]
    },
    {
     "name": "stderr",
     "output_type": "stream",
     "text": [
      "Loaded model weights from the checkpoint at /Users/benjaminvaca/Documents/USFQ/semestre7/machine_learning/proyecto/lightning_logs/version_117/checkpoints/epoch=3-step=136.ckpt\n"
     ]
    },
    {
     "name": "stdout",
     "output_type": "stream",
     "text": [
      "Validation DataLoader 0: 100%|██████████| 34/34 [00:00<00:00, 480.97it/s]"
     ]
    },
    {
     "name": "stderr",
     "output_type": "stream",
     "text": [
      "Restoring states from the checkpoint path at /Users/benjaminvaca/Documents/USFQ/semestre7/machine_learning/proyecto/lightning_logs/version_117/checkpoints/epoch=3-step=136.ckpt\n"
     ]
    },
    {
     "name": "stdout",
     "output_type": "stream",
     "text": [
      "\n"
     ]
    },
    {
     "name": "stderr",
     "output_type": "stream",
     "text": [
      "Loaded model weights from the checkpoint at /Users/benjaminvaca/Documents/USFQ/semestre7/machine_learning/proyecto/lightning_logs/version_117/checkpoints/epoch=3-step=136.ckpt\n"
     ]
    },
    {
     "name": "stdout",
     "output_type": "stream",
     "text": [
      "Validation DataLoader 0: 100%|██████████| 9/9 [00:00<00:00, 416.70it/s]"
     ]
    },
    {
     "name": "stderr",
     "output_type": "stream",
     "text": [
      "Restoring states from the checkpoint path at /Users/benjaminvaca/Documents/USFQ/semestre7/machine_learning/proyecto/lightning_logs/version_117/checkpoints/epoch=3-step=136.ckpt\n"
     ]
    },
    {
     "name": "stdout",
     "output_type": "stream",
     "text": [
      "\n"
     ]
    },
    {
     "name": "stderr",
     "output_type": "stream",
     "text": [
      "Loaded model weights from the checkpoint at /Users/benjaminvaca/Documents/USFQ/semestre7/machine_learning/proyecto/lightning_logs/version_117/checkpoints/epoch=3-step=136.ckpt\n"
     ]
    },
    {
     "name": "stdout",
     "output_type": "stream",
     "text": [
      "Testing DataLoader 0: 100%|██████████| 11/11 [00:00<00:00, 429.27it/s]\n"
     ]
    },
    {
     "data": {
      "text/html": [
       "<pre style=\"white-space:pre;overflow-x:auto;line-height:normal;font-family:Menlo,'DejaVu Sans Mono',consolas,'Courier New',monospace\">┏━━━━━━━━━━━━━━━━━━━━━━━━━━━┳━━━━━━━━━━━━━━━━━━━━━━━━━━━┓\n",
       "┃<span style=\"font-weight: bold\">        Test metric        </span>┃<span style=\"font-weight: bold\">       DataLoader 0        </span>┃\n",
       "┡━━━━━━━━━━━━━━━━━━━━━━━━━━━╇━━━━━━━━━━━━━━━━━━━━━━━━━━━┩\n",
       "│<span style=\"color: #008080; text-decoration-color: #008080\">      test_f1ma_epoch      </span>│<span style=\"color: #800080; text-decoration-color: #800080\">    0.21620963513851166    </span>│\n",
       "│<span style=\"color: #008080; text-decoration-color: #008080\">      test_ham_epoch       </span>│<span style=\"color: #800080; text-decoration-color: #800080\">    0.2874467670917511     </span>│\n",
       "│<span style=\"color: #008080; text-decoration-color: #008080\">      test_loss_epoch      </span>│<span style=\"color: #800080; text-decoration-color: #800080\">     0.56601881980896      </span>│\n",
       "└───────────────────────────┴───────────────────────────┘\n",
       "</pre>\n"
      ],
      "text/plain": [
       "┏━━━━━━━━━━━━━━━━━━━━━━━━━━━┳━━━━━━━━━━━━━━━━━━━━━━━━━━━┓\n",
       "┃\u001b[1m \u001b[0m\u001b[1m       Test metric       \u001b[0m\u001b[1m \u001b[0m┃\u001b[1m \u001b[0m\u001b[1m      DataLoader 0       \u001b[0m\u001b[1m \u001b[0m┃\n",
       "┡━━━━━━━━━━━━━━━━━━━━━━━━━━━╇━━━━━━━━━━━━━━━━━━━━━━━━━━━┩\n",
       "│\u001b[36m \u001b[0m\u001b[36m     test_f1ma_epoch     \u001b[0m\u001b[36m \u001b[0m│\u001b[35m \u001b[0m\u001b[35m   0.21620963513851166   \u001b[0m\u001b[35m \u001b[0m│\n",
       "│\u001b[36m \u001b[0m\u001b[36m     test_ham_epoch      \u001b[0m\u001b[36m \u001b[0m│\u001b[35m \u001b[0m\u001b[35m   0.2874467670917511    \u001b[0m\u001b[35m \u001b[0m│\n",
       "│\u001b[36m \u001b[0m\u001b[36m     test_loss_epoch     \u001b[0m\u001b[36m \u001b[0m│\u001b[35m \u001b[0m\u001b[35m    0.56601881980896     \u001b[0m\u001b[35m \u001b[0m│\n",
       "└───────────────────────────┴───────────────────────────┘\n"
      ]
     },
     "metadata": {},
     "output_type": "display_data"
    },
    {
     "name": "stdout",
     "output_type": "stream",
     "text": [
      "  loss: 0.5660 | hamming: 0.2874 | f1_macro: 0.2162\n",
      "Fold 9/10\n"
     ]
    },
    {
     "name": "stderr",
     "output_type": "stream",
     "text": [
      "GPU available: True (mps), used: False\n",
      "TPU available: False, using: 0 TPU cores\n",
      "HPU available: False, using: 0 HPUs\n",
      "\n",
      "  | Name       | Type                      | Params | Mode \n",
      "-----------------------------------------------------------------\n",
      "0 | classifier | Sequential                | 562 K  | train\n",
      "1 | loss       | BCEWithLogitsLoss         | 0      | train\n",
      "2 | hamming    | MultilabelHammingDistance | 0      | train\n",
      "3 | f1_macro   | MultilabelF1Score         | 0      | train\n",
      "-----------------------------------------------------------------\n",
      "562 K     Trainable params\n",
      "0         Non-trainable params\n",
      "562 K     Total params\n",
      "2.250     Total estimated model params size (MB)\n",
      "17        Modules in train mode\n",
      "0         Modules in eval mode\n"
     ]
    },
    {
     "name": "stdout",
     "output_type": "stream",
     "text": [
      "Epoch 8: 100%|██████████| 34/34 [00:00<00:00, 162.54it/s, v_num=118, train_loss=0.506, train_ham=0.267, train_f1ma=0.395, val_loss_step=0.541, val_ham_step=0.400, val_f1ma_step=0.0523, val_loss_epoch=0.548, val_ham_epoch=0.279, val_f1ma_epoch=0.193]\n"
     ]
    },
    {
     "name": "stderr",
     "output_type": "stream",
     "text": [
      "Restoring states from the checkpoint path at /Users/benjaminvaca/Documents/USFQ/semestre7/machine_learning/proyecto/lightning_logs/version_118/checkpoints/epoch=5-step=204.ckpt\n",
      "Loaded model weights from the checkpoint at /Users/benjaminvaca/Documents/USFQ/semestre7/machine_learning/proyecto/lightning_logs/version_118/checkpoints/epoch=5-step=204.ckpt\n"
     ]
    },
    {
     "name": "stdout",
     "output_type": "stream",
     "text": [
      "Validation DataLoader 0: 100%|██████████| 34/34 [00:00<00:00, 463.40it/s]\n"
     ]
    },
    {
     "name": "stderr",
     "output_type": "stream",
     "text": [
      "Restoring states from the checkpoint path at /Users/benjaminvaca/Documents/USFQ/semestre7/machine_learning/proyecto/lightning_logs/version_118/checkpoints/epoch=5-step=204.ckpt\n",
      "Loaded model weights from the checkpoint at /Users/benjaminvaca/Documents/USFQ/semestre7/machine_learning/proyecto/lightning_logs/version_118/checkpoints/epoch=5-step=204.ckpt\n"
     ]
    },
    {
     "name": "stdout",
     "output_type": "stream",
     "text": [
      "Validation DataLoader 0: 100%|██████████| 9/9 [00:00<00:00, 383.57it/s]\n"
     ]
    },
    {
     "name": "stderr",
     "output_type": "stream",
     "text": [
      "Restoring states from the checkpoint path at /Users/benjaminvaca/Documents/USFQ/semestre7/machine_learning/proyecto/lightning_logs/version_118/checkpoints/epoch=5-step=204.ckpt\n",
      "Loaded model weights from the checkpoint at /Users/benjaminvaca/Documents/USFQ/semestre7/machine_learning/proyecto/lightning_logs/version_118/checkpoints/epoch=5-step=204.ckpt\n"
     ]
    },
    {
     "name": "stdout",
     "output_type": "stream",
     "text": [
      "Testing DataLoader 0: 100%|██████████| 11/11 [00:00<00:00, 418.33it/s]\n"
     ]
    },
    {
     "data": {
      "text/html": [
       "<pre style=\"white-space:pre;overflow-x:auto;line-height:normal;font-family:Menlo,'DejaVu Sans Mono',consolas,'Courier New',monospace\">┏━━━━━━━━━━━━━━━━━━━━━━━━━━━┳━━━━━━━━━━━━━━━━━━━━━━━━━━━┓\n",
       "┃<span style=\"font-weight: bold\">        Test metric        </span>┃<span style=\"font-weight: bold\">       DataLoader 0        </span>┃\n",
       "┡━━━━━━━━━━━━━━━━━━━━━━━━━━━╇━━━━━━━━━━━━━━━━━━━━━━━━━━━┩\n",
       "│<span style=\"color: #008080; text-decoration-color: #008080\">      test_f1ma_epoch      </span>│<span style=\"color: #800080; text-decoration-color: #800080\">    0.19763396680355072    </span>│\n",
       "│<span style=\"color: #008080; text-decoration-color: #008080\">      test_ham_epoch       </span>│<span style=\"color: #800080; text-decoration-color: #800080\">    0.28187480568885803    </span>│\n",
       "│<span style=\"color: #008080; text-decoration-color: #008080\">      test_loss_epoch      </span>│<span style=\"color: #800080; text-decoration-color: #800080\">    0.5549625158309937     </span>│\n",
       "└───────────────────────────┴───────────────────────────┘\n",
       "</pre>\n"
      ],
      "text/plain": [
       "┏━━━━━━━━━━━━━━━━━━━━━━━━━━━┳━━━━━━━━━━━━━━━━━━━━━━━━━━━┓\n",
       "┃\u001b[1m \u001b[0m\u001b[1m       Test metric       \u001b[0m\u001b[1m \u001b[0m┃\u001b[1m \u001b[0m\u001b[1m      DataLoader 0       \u001b[0m\u001b[1m \u001b[0m┃\n",
       "┡━━━━━━━━━━━━━━━━━━━━━━━━━━━╇━━━━━━━━━━━━━━━━━━━━━━━━━━━┩\n",
       "│\u001b[36m \u001b[0m\u001b[36m     test_f1ma_epoch     \u001b[0m\u001b[36m \u001b[0m│\u001b[35m \u001b[0m\u001b[35m   0.19763396680355072   \u001b[0m\u001b[35m \u001b[0m│\n",
       "│\u001b[36m \u001b[0m\u001b[36m     test_ham_epoch      \u001b[0m\u001b[36m \u001b[0m│\u001b[35m \u001b[0m\u001b[35m   0.28187480568885803   \u001b[0m\u001b[35m \u001b[0m│\n",
       "│\u001b[36m \u001b[0m\u001b[36m     test_loss_epoch     \u001b[0m\u001b[36m \u001b[0m│\u001b[35m \u001b[0m\u001b[35m   0.5549625158309937    \u001b[0m\u001b[35m \u001b[0m│\n",
       "└───────────────────────────┴───────────────────────────┘\n"
      ]
     },
     "metadata": {},
     "output_type": "display_data"
    },
    {
     "name": "stdout",
     "output_type": "stream",
     "text": [
      "  loss: 0.5550 | hamming: 0.2819 | f1_macro: 0.1976\n",
      "Fold 10/10\n"
     ]
    },
    {
     "name": "stderr",
     "output_type": "stream",
     "text": [
      "GPU available: True (mps), used: False\n",
      "TPU available: False, using: 0 TPU cores\n",
      "HPU available: False, using: 0 HPUs\n",
      "\n",
      "  | Name       | Type                      | Params | Mode \n",
      "-----------------------------------------------------------------\n",
      "0 | classifier | Sequential                | 562 K  | train\n",
      "1 | loss       | BCEWithLogitsLoss         | 0      | train\n",
      "2 | hamming    | MultilabelHammingDistance | 0      | train\n",
      "3 | f1_macro   | MultilabelF1Score         | 0      | train\n",
      "-----------------------------------------------------------------\n",
      "562 K     Trainable params\n",
      "0         Non-trainable params\n",
      "562 K     Total params\n",
      "2.250     Total estimated model params size (MB)\n",
      "17        Modules in train mode\n",
      "0         Modules in eval mode\n"
     ]
    },
    {
     "name": "stdout",
     "output_type": "stream",
     "text": [
      "Epoch 7: 100%|██████████| 34/34 [00:00<00:00, 130.15it/s, v_num=119, train_loss=0.558, train_ham=0.263, train_f1ma=0.404, val_loss_step=0.526, val_ham_step=0.244, val_f1ma_step=0.144, val_loss_epoch=0.559, val_ham_epoch=0.310, val_f1ma_epoch=0.179] "
     ]
    },
    {
     "name": "stderr",
     "output_type": "stream",
     "text": [
      "Restoring states from the checkpoint path at /Users/benjaminvaca/Documents/USFQ/semestre7/machine_learning/proyecto/lightning_logs/version_119/checkpoints/epoch=4-step=170.ckpt\n"
     ]
    },
    {
     "name": "stdout",
     "output_type": "stream",
     "text": [
      "\n"
     ]
    },
    {
     "name": "stderr",
     "output_type": "stream",
     "text": [
      "Loaded model weights from the checkpoint at /Users/benjaminvaca/Documents/USFQ/semestre7/machine_learning/proyecto/lightning_logs/version_119/checkpoints/epoch=4-step=170.ckpt\n"
     ]
    },
    {
     "name": "stdout",
     "output_type": "stream",
     "text": [
      "Validation DataLoader 0: 100%|██████████| 34/34 [00:00<00:00, 370.97it/s]\n"
     ]
    },
    {
     "name": "stderr",
     "output_type": "stream",
     "text": [
      "Restoring states from the checkpoint path at /Users/benjaminvaca/Documents/USFQ/semestre7/machine_learning/proyecto/lightning_logs/version_119/checkpoints/epoch=4-step=170.ckpt\n",
      "Loaded model weights from the checkpoint at /Users/benjaminvaca/Documents/USFQ/semestre7/machine_learning/proyecto/lightning_logs/version_119/checkpoints/epoch=4-step=170.ckpt\n"
     ]
    },
    {
     "name": "stdout",
     "output_type": "stream",
     "text": [
      "Validation DataLoader 0: 100%|██████████| 9/9 [00:00<00:00, 417.44it/s]\n"
     ]
    },
    {
     "name": "stderr",
     "output_type": "stream",
     "text": [
      "Restoring states from the checkpoint path at /Users/benjaminvaca/Documents/USFQ/semestre7/machine_learning/proyecto/lightning_logs/version_119/checkpoints/epoch=4-step=170.ckpt\n",
      "Loaded model weights from the checkpoint at /Users/benjaminvaca/Documents/USFQ/semestre7/machine_learning/proyecto/lightning_logs/version_119/checkpoints/epoch=4-step=170.ckpt\n"
     ]
    },
    {
     "name": "stdout",
     "output_type": "stream",
     "text": [
      "Testing DataLoader 0: 100%|██████████| 11/11 [00:00<00:00, 367.91it/s]\n"
     ]
    },
    {
     "data": {
      "text/html": [
       "<pre style=\"white-space:pre;overflow-x:auto;line-height:normal;font-family:Menlo,'DejaVu Sans Mono',consolas,'Courier New',monospace\">┏━━━━━━━━━━━━━━━━━━━━━━━━━━━┳━━━━━━━━━━━━━━━━━━━━━━━━━━━┓\n",
       "┃<span style=\"font-weight: bold\">        Test metric        </span>┃<span style=\"font-weight: bold\">       DataLoader 0        </span>┃\n",
       "┡━━━━━━━━━━━━━━━━━━━━━━━━━━━╇━━━━━━━━━━━━━━━━━━━━━━━━━━━┩\n",
       "│<span style=\"color: #008080; text-decoration-color: #008080\">      test_f1ma_epoch      </span>│<span style=\"color: #800080; text-decoration-color: #800080\">    0.19039225578308105    </span>│\n",
       "│<span style=\"color: #008080; text-decoration-color: #008080\">      test_ham_epoch       </span>│<span style=\"color: #800080; text-decoration-color: #800080\">    0.2848246395587921     </span>│\n",
       "│<span style=\"color: #008080; text-decoration-color: #008080\">      test_loss_epoch      </span>│<span style=\"color: #800080; text-decoration-color: #800080\">    0.5501247048377991     </span>│\n",
       "└───────────────────────────┴───────────────────────────┘\n",
       "</pre>\n"
      ],
      "text/plain": [
       "┏━━━━━━━━━━━━━━━━━━━━━━━━━━━┳━━━━━━━━━━━━━━━━━━━━━━━━━━━┓\n",
       "┃\u001b[1m \u001b[0m\u001b[1m       Test metric       \u001b[0m\u001b[1m \u001b[0m┃\u001b[1m \u001b[0m\u001b[1m      DataLoader 0       \u001b[0m\u001b[1m \u001b[0m┃\n",
       "┡━━━━━━━━━━━━━━━━━━━━━━━━━━━╇━━━━━━━━━━━━━━━━━━━━━━━━━━━┩\n",
       "│\u001b[36m \u001b[0m\u001b[36m     test_f1ma_epoch     \u001b[0m\u001b[36m \u001b[0m│\u001b[35m \u001b[0m\u001b[35m   0.19039225578308105   \u001b[0m\u001b[35m \u001b[0m│\n",
       "│\u001b[36m \u001b[0m\u001b[36m     test_ham_epoch      \u001b[0m\u001b[36m \u001b[0m│\u001b[35m \u001b[0m\u001b[35m   0.2848246395587921    \u001b[0m\u001b[35m \u001b[0m│\n",
       "│\u001b[36m \u001b[0m\u001b[36m     test_loss_epoch     \u001b[0m\u001b[36m \u001b[0m│\u001b[35m \u001b[0m\u001b[35m   0.5501247048377991    \u001b[0m\u001b[35m \u001b[0m│\n",
       "└───────────────────────────┴───────────────────────────┘\n"
      ]
     },
     "metadata": {},
     "output_type": "display_data"
    },
    {
     "name": "stdout",
     "output_type": "stream",
     "text": [
      "  loss: 0.5501 | hamming: 0.2848 | f1_macro: 0.1904\n",
      "\n",
      "F1-macro promedio: 0.1927 ± 0.0125\n",
      "Hamming promedio: 0.2974 ± 0.0162\n",
      "Pérdida promedio:         0.5783 ± 0.0198\n",
      "HU=[512, 256, 128]  L2=0.0001 → val_f1ma: 0.1927\n",
      "Fold 1/10\n"
     ]
    },
    {
     "name": "stderr",
     "output_type": "stream",
     "text": [
      "GPU available: True (mps), used: False\n",
      "TPU available: False, using: 0 TPU cores\n",
      "HPU available: False, using: 0 HPUs\n",
      "\n",
      "  | Name       | Type                      | Params | Mode \n",
      "-----------------------------------------------------------------\n",
      "0 | classifier | Sequential                | 240 K  | train\n",
      "1 | loss       | BCEWithLogitsLoss         | 0      | train\n",
      "2 | hamming    | MultilabelHammingDistance | 0      | train\n",
      "3 | f1_macro   | MultilabelF1Score         | 0      | train\n",
      "-----------------------------------------------------------------\n",
      "240 K     Trainable params\n",
      "0         Non-trainable params\n",
      "240 K     Total params\n",
      "0.961     Total estimated model params size (MB)\n",
      "17        Modules in train mode\n",
      "0         Modules in eval mode\n"
     ]
    },
    {
     "name": "stdout",
     "output_type": "stream",
     "text": [
      "Epoch 3: 100%|██████████| 34/34 [00:00<00:00, 200.92it/s, v_num=120, train_loss=0.584, train_ham=0.326, train_f1ma=0.227, val_loss_step=0.569, val_ham_step=0.382, val_f1ma_step=0.0575, val_loss_epoch=0.576, val_ham_epoch=0.293, val_f1ma_epoch=0.150]"
     ]
    },
    {
     "name": "stderr",
     "output_type": "stream",
     "text": [
      "Restoring states from the checkpoint path at /Users/benjaminvaca/Documents/USFQ/semestre7/machine_learning/proyecto/lightning_logs/version_120/checkpoints/epoch=0-step=34.ckpt\n"
     ]
    },
    {
     "name": "stdout",
     "output_type": "stream",
     "text": [
      "\n"
     ]
    },
    {
     "name": "stderr",
     "output_type": "stream",
     "text": [
      "Loaded model weights from the checkpoint at /Users/benjaminvaca/Documents/USFQ/semestre7/machine_learning/proyecto/lightning_logs/version_120/checkpoints/epoch=0-step=34.ckpt\n"
     ]
    },
    {
     "name": "stdout",
     "output_type": "stream",
     "text": [
      "Validation DataLoader 0: 100%|██████████| 34/34 [00:00<00:00, 471.38it/s]"
     ]
    },
    {
     "name": "stderr",
     "output_type": "stream",
     "text": [
      "Restoring states from the checkpoint path at /Users/benjaminvaca/Documents/USFQ/semestre7/machine_learning/proyecto/lightning_logs/version_120/checkpoints/epoch=0-step=34.ckpt\n"
     ]
    },
    {
     "name": "stdout",
     "output_type": "stream",
     "text": [
      "\n"
     ]
    },
    {
     "name": "stderr",
     "output_type": "stream",
     "text": [
      "Loaded model weights from the checkpoint at /Users/benjaminvaca/Documents/USFQ/semestre7/machine_learning/proyecto/lightning_logs/version_120/checkpoints/epoch=0-step=34.ckpt\n"
     ]
    },
    {
     "name": "stdout",
     "output_type": "stream",
     "text": [
      "Validation DataLoader 0: 100%|██████████| 9/9 [00:00<00:00, 415.47it/s]\n"
     ]
    },
    {
     "name": "stderr",
     "output_type": "stream",
     "text": [
      "Restoring states from the checkpoint path at /Users/benjaminvaca/Documents/USFQ/semestre7/machine_learning/proyecto/lightning_logs/version_120/checkpoints/epoch=0-step=34.ckpt\n",
      "Loaded model weights from the checkpoint at /Users/benjaminvaca/Documents/USFQ/semestre7/machine_learning/proyecto/lightning_logs/version_120/checkpoints/epoch=0-step=34.ckpt\n"
     ]
    },
    {
     "name": "stdout",
     "output_type": "stream",
     "text": [
      "Testing DataLoader 0: 100%|██████████| 11/11 [00:00<00:00, 462.47it/s]\n"
     ]
    },
    {
     "data": {
      "text/html": [
       "<pre style=\"white-space:pre;overflow-x:auto;line-height:normal;font-family:Menlo,'DejaVu Sans Mono',consolas,'Courier New',monospace\">┏━━━━━━━━━━━━━━━━━━━━━━━━━━━┳━━━━━━━━━━━━━━━━━━━━━━━━━━━┓\n",
       "┃<span style=\"font-weight: bold\">        Test metric        </span>┃<span style=\"font-weight: bold\">       DataLoader 0        </span>┃\n",
       "┡━━━━━━━━━━━━━━━━━━━━━━━━━━━╇━━━━━━━━━━━━━━━━━━━━━━━━━━━┩\n",
       "│<span style=\"color: #008080; text-decoration-color: #008080\">      test_f1ma_epoch      </span>│<span style=\"color: #800080; text-decoration-color: #800080\">    0.1918313354253769     </span>│\n",
       "│<span style=\"color: #008080; text-decoration-color: #008080\">      test_ham_epoch       </span>│<span style=\"color: #800080; text-decoration-color: #800080\">     0.336938738822937     </span>│\n",
       "│<span style=\"color: #008080; text-decoration-color: #008080\">      test_loss_epoch      </span>│<span style=\"color: #800080; text-decoration-color: #800080\">    0.6445072293281555     </span>│\n",
       "└───────────────────────────┴───────────────────────────┘\n",
       "</pre>\n"
      ],
      "text/plain": [
       "┏━━━━━━━━━━━━━━━━━━━━━━━━━━━┳━━━━━━━━━━━━━━━━━━━━━━━━━━━┓\n",
       "┃\u001b[1m \u001b[0m\u001b[1m       Test metric       \u001b[0m\u001b[1m \u001b[0m┃\u001b[1m \u001b[0m\u001b[1m      DataLoader 0       \u001b[0m\u001b[1m \u001b[0m┃\n",
       "┡━━━━━━━━━━━━━━━━━━━━━━━━━━━╇━━━━━━━━━━━━━━━━━━━━━━━━━━━┩\n",
       "│\u001b[36m \u001b[0m\u001b[36m     test_f1ma_epoch     \u001b[0m\u001b[36m \u001b[0m│\u001b[35m \u001b[0m\u001b[35m   0.1918313354253769    \u001b[0m\u001b[35m \u001b[0m│\n",
       "│\u001b[36m \u001b[0m\u001b[36m     test_ham_epoch      \u001b[0m\u001b[36m \u001b[0m│\u001b[35m \u001b[0m\u001b[35m    0.336938738822937    \u001b[0m\u001b[35m \u001b[0m│\n",
       "│\u001b[36m \u001b[0m\u001b[36m     test_loss_epoch     \u001b[0m\u001b[36m \u001b[0m│\u001b[35m \u001b[0m\u001b[35m   0.6445072293281555    \u001b[0m\u001b[35m \u001b[0m│\n",
       "└───────────────────────────┴───────────────────────────┘\n"
      ]
     },
     "metadata": {},
     "output_type": "display_data"
    },
    {
     "name": "stdout",
     "output_type": "stream",
     "text": [
      "  loss: 0.6445 | hamming: 0.3369 | f1_macro: 0.1918\n",
      "Fold 2/10\n"
     ]
    },
    {
     "name": "stderr",
     "output_type": "stream",
     "text": [
      "GPU available: True (mps), used: False\n",
      "TPU available: False, using: 0 TPU cores\n",
      "HPU available: False, using: 0 HPUs\n",
      "\n",
      "  | Name       | Type                      | Params | Mode \n",
      "-----------------------------------------------------------------\n",
      "0 | classifier | Sequential                | 240 K  | train\n",
      "1 | loss       | BCEWithLogitsLoss         | 0      | train\n",
      "2 | hamming    | MultilabelHammingDistance | 0      | train\n",
      "3 | f1_macro   | MultilabelF1Score         | 0      | train\n",
      "-----------------------------------------------------------------\n",
      "240 K     Trainable params\n",
      "0         Non-trainable params\n",
      "240 K     Total params\n",
      "0.961     Total estimated model params size (MB)\n",
      "17        Modules in train mode\n",
      "0         Modules in eval mode\n"
     ]
    },
    {
     "name": "stdout",
     "output_type": "stream",
     "text": [
      "Epoch 3: 100%|██████████| 34/34 [00:00<00:00, 175.92it/s, v_num=121, train_loss=0.546, train_ham=0.280, train_f1ma=0.270, val_loss_step=0.606, val_ham_step=0.431, val_f1ma_step=0.0131, val_loss_epoch=0.583, val_ham_epoch=0.301, val_f1ma_epoch=0.118]"
     ]
    },
    {
     "name": "stderr",
     "output_type": "stream",
     "text": [
      "Restoring states from the checkpoint path at /Users/benjaminvaca/Documents/USFQ/semestre7/machine_learning/proyecto/lightning_logs/version_121/checkpoints/epoch=0-step=34.ckpt\n",
      "Loaded model weights from the checkpoint at /Users/benjaminvaca/Documents/USFQ/semestre7/machine_learning/proyecto/lightning_logs/version_121/checkpoints/epoch=0-step=34.ckpt\n"
     ]
    },
    {
     "name": "stdout",
     "output_type": "stream",
     "text": [
      "\n",
      "Validation DataLoader 0: 100%|██████████| 34/34 [00:00<00:00, 376.10it/s]\n"
     ]
    },
    {
     "name": "stderr",
     "output_type": "stream",
     "text": [
      "Restoring states from the checkpoint path at /Users/benjaminvaca/Documents/USFQ/semestre7/machine_learning/proyecto/lightning_logs/version_121/checkpoints/epoch=0-step=34.ckpt\n",
      "Loaded model weights from the checkpoint at /Users/benjaminvaca/Documents/USFQ/semestre7/machine_learning/proyecto/lightning_logs/version_121/checkpoints/epoch=0-step=34.ckpt\n"
     ]
    },
    {
     "name": "stdout",
     "output_type": "stream",
     "text": [
      "Validation DataLoader 0: 100%|██████████| 9/9 [00:00<00:00, 350.98it/s]"
     ]
    },
    {
     "name": "stderr",
     "output_type": "stream",
     "text": [
      "Restoring states from the checkpoint path at /Users/benjaminvaca/Documents/USFQ/semestre7/machine_learning/proyecto/lightning_logs/version_121/checkpoints/epoch=0-step=34.ckpt\n"
     ]
    },
    {
     "name": "stdout",
     "output_type": "stream",
     "text": [
      "\n"
     ]
    },
    {
     "name": "stderr",
     "output_type": "stream",
     "text": [
      "Loaded model weights from the checkpoint at /Users/benjaminvaca/Documents/USFQ/semestre7/machine_learning/proyecto/lightning_logs/version_121/checkpoints/epoch=0-step=34.ckpt\n"
     ]
    },
    {
     "name": "stdout",
     "output_type": "stream",
     "text": [
      "Testing DataLoader 0: 100%|██████████| 11/11 [00:00<00:00, 159.19it/s]\n"
     ]
    },
    {
     "data": {
      "text/html": [
       "<pre style=\"white-space:pre;overflow-x:auto;line-height:normal;font-family:Menlo,'DejaVu Sans Mono',consolas,'Courier New',monospace\">┏━━━━━━━━━━━━━━━━━━━━━━━━━━━┳━━━━━━━━━━━━━━━━━━━━━━━━━━━┓\n",
       "┃<span style=\"font-weight: bold\">        Test metric        </span>┃<span style=\"font-weight: bold\">       DataLoader 0        </span>┃\n",
       "┡━━━━━━━━━━━━━━━━━━━━━━━━━━━╇━━━━━━━━━━━━━━━━━━━━━━━━━━━┩\n",
       "│<span style=\"color: #008080; text-decoration-color: #008080\">      test_f1ma_epoch      </span>│<span style=\"color: #800080; text-decoration-color: #800080\">    0.19383399188518524    </span>│\n",
       "│<span style=\"color: #008080; text-decoration-color: #008080\">      test_ham_epoch       </span>│<span style=\"color: #800080; text-decoration-color: #800080\">    0.32513928413391113    </span>│\n",
       "│<span style=\"color: #008080; text-decoration-color: #008080\">      test_loss_epoch      </span>│<span style=\"color: #800080; text-decoration-color: #800080\">    0.6410168409347534     </span>│\n",
       "└───────────────────────────┴───────────────────────────┘\n",
       "</pre>\n"
      ],
      "text/plain": [
       "┏━━━━━━━━━━━━━━━━━━━━━━━━━━━┳━━━━━━━━━━━━━━━━━━━━━━━━━━━┓\n",
       "┃\u001b[1m \u001b[0m\u001b[1m       Test metric       \u001b[0m\u001b[1m \u001b[0m┃\u001b[1m \u001b[0m\u001b[1m      DataLoader 0       \u001b[0m\u001b[1m \u001b[0m┃\n",
       "┡━━━━━━━━━━━━━━━━━━━━━━━━━━━╇━━━━━━━━━━━━━━━━━━━━━━━━━━━┩\n",
       "│\u001b[36m \u001b[0m\u001b[36m     test_f1ma_epoch     \u001b[0m\u001b[36m \u001b[0m│\u001b[35m \u001b[0m\u001b[35m   0.19383399188518524   \u001b[0m\u001b[35m \u001b[0m│\n",
       "│\u001b[36m \u001b[0m\u001b[36m     test_ham_epoch      \u001b[0m\u001b[36m \u001b[0m│\u001b[35m \u001b[0m\u001b[35m   0.32513928413391113   \u001b[0m\u001b[35m \u001b[0m│\n",
       "│\u001b[36m \u001b[0m\u001b[36m     test_loss_epoch     \u001b[0m\u001b[36m \u001b[0m│\u001b[35m \u001b[0m\u001b[35m   0.6410168409347534    \u001b[0m\u001b[35m \u001b[0m│\n",
       "└───────────────────────────┴───────────────────────────┘\n"
      ]
     },
     "metadata": {},
     "output_type": "display_data"
    },
    {
     "name": "stdout",
     "output_type": "stream",
     "text": [
      "  loss: 0.6410 | hamming: 0.3251 | f1_macro: 0.1938\n",
      "Fold 3/10\n"
     ]
    },
    {
     "name": "stderr",
     "output_type": "stream",
     "text": [
      "GPU available: True (mps), used: False\n",
      "TPU available: False, using: 0 TPU cores\n",
      "HPU available: False, using: 0 HPUs\n",
      "\n",
      "  | Name       | Type                      | Params | Mode \n",
      "-----------------------------------------------------------------\n",
      "0 | classifier | Sequential                | 240 K  | train\n",
      "1 | loss       | BCEWithLogitsLoss         | 0      | train\n",
      "2 | hamming    | MultilabelHammingDistance | 0      | train\n",
      "3 | f1_macro   | MultilabelF1Score         | 0      | train\n",
      "-----------------------------------------------------------------\n",
      "240 K     Trainable params\n",
      "0         Non-trainable params\n",
      "240 K     Total params\n",
      "0.961     Total estimated model params size (MB)\n",
      "17        Modules in train mode\n",
      "0         Modules in eval mode\n"
     ]
    },
    {
     "name": "stdout",
     "output_type": "stream",
     "text": [
      "Epoch 3: 100%|██████████| 34/34 [00:00<00:00, 190.94it/s, v_num=122, train_loss=0.570, train_ham=0.315, train_f1ma=0.249, val_loss_step=0.556, val_ham_step=0.319, val_f1ma_step=0.111, val_loss_epoch=0.584, val_ham_epoch=0.307, val_f1ma_epoch=0.152] \n"
     ]
    },
    {
     "name": "stderr",
     "output_type": "stream",
     "text": [
      "Restoring states from the checkpoint path at /Users/benjaminvaca/Documents/USFQ/semestre7/machine_learning/proyecto/lightning_logs/version_122/checkpoints/epoch=0-step=34.ckpt\n",
      "Loaded model weights from the checkpoint at /Users/benjaminvaca/Documents/USFQ/semestre7/machine_learning/proyecto/lightning_logs/version_122/checkpoints/epoch=0-step=34.ckpt\n"
     ]
    },
    {
     "name": "stdout",
     "output_type": "stream",
     "text": [
      "Validation DataLoader 0: 100%|██████████| 34/34 [00:00<00:00, 495.44it/s]\n"
     ]
    },
    {
     "name": "stderr",
     "output_type": "stream",
     "text": [
      "Restoring states from the checkpoint path at /Users/benjaminvaca/Documents/USFQ/semestre7/machine_learning/proyecto/lightning_logs/version_122/checkpoints/epoch=0-step=34.ckpt\n",
      "Loaded model weights from the checkpoint at /Users/benjaminvaca/Documents/USFQ/semestre7/machine_learning/proyecto/lightning_logs/version_122/checkpoints/epoch=0-step=34.ckpt\n"
     ]
    },
    {
     "name": "stdout",
     "output_type": "stream",
     "text": [
      "Validation DataLoader 0: 100%|██████████| 9/9 [00:00<00:00, 146.70it/s]"
     ]
    },
    {
     "name": "stderr",
     "output_type": "stream",
     "text": [
      "Restoring states from the checkpoint path at /Users/benjaminvaca/Documents/USFQ/semestre7/machine_learning/proyecto/lightning_logs/version_122/checkpoints/epoch=0-step=34.ckpt\n"
     ]
    },
    {
     "name": "stdout",
     "output_type": "stream",
     "text": [
      "\n"
     ]
    },
    {
     "name": "stderr",
     "output_type": "stream",
     "text": [
      "Loaded model weights from the checkpoint at /Users/benjaminvaca/Documents/USFQ/semestre7/machine_learning/proyecto/lightning_logs/version_122/checkpoints/epoch=0-step=34.ckpt\n"
     ]
    },
    {
     "name": "stdout",
     "output_type": "stream",
     "text": [
      "Testing DataLoader 0: 100%|██████████| 11/11 [00:00<00:00, 428.90it/s]\n"
     ]
    },
    {
     "data": {
      "text/html": [
       "<pre style=\"white-space:pre;overflow-x:auto;line-height:normal;font-family:Menlo,'DejaVu Sans Mono',consolas,'Courier New',monospace\">┏━━━━━━━━━━━━━━━━━━━━━━━━━━━┳━━━━━━━━━━━━━━━━━━━━━━━━━━━┓\n",
       "┃<span style=\"font-weight: bold\">        Test metric        </span>┃<span style=\"font-weight: bold\">       DataLoader 0        </span>┃\n",
       "┡━━━━━━━━━━━━━━━━━━━━━━━━━━━╇━━━━━━━━━━━━━━━━━━━━━━━━━━━┩\n",
       "│<span style=\"color: #008080; text-decoration-color: #008080\">      test_f1ma_epoch      </span>│<span style=\"color: #800080; text-decoration-color: #800080\">    0.18984080851078033    </span>│\n",
       "│<span style=\"color: #008080; text-decoration-color: #008080\">      test_ham_epoch       </span>│<span style=\"color: #800080; text-decoration-color: #800080\">    0.36020976305007935    </span>│\n",
       "│<span style=\"color: #008080; text-decoration-color: #008080\">      test_loss_epoch      </span>│<span style=\"color: #800080; text-decoration-color: #800080\">    0.6410477161407471     </span>│\n",
       "└───────────────────────────┴───────────────────────────┘\n",
       "</pre>\n"
      ],
      "text/plain": [
       "┏━━━━━━━━━━━━━━━━━━━━━━━━━━━┳━━━━━━━━━━━━━━━━━━━━━━━━━━━┓\n",
       "┃\u001b[1m \u001b[0m\u001b[1m       Test metric       \u001b[0m\u001b[1m \u001b[0m┃\u001b[1m \u001b[0m\u001b[1m      DataLoader 0       \u001b[0m\u001b[1m \u001b[0m┃\n",
       "┡━━━━━━━━━━━━━━━━━━━━━━━━━━━╇━━━━━━━━━━━━━━━━━━━━━━━━━━━┩\n",
       "│\u001b[36m \u001b[0m\u001b[36m     test_f1ma_epoch     \u001b[0m\u001b[36m \u001b[0m│\u001b[35m \u001b[0m\u001b[35m   0.18984080851078033   \u001b[0m\u001b[35m \u001b[0m│\n",
       "│\u001b[36m \u001b[0m\u001b[36m     test_ham_epoch      \u001b[0m\u001b[36m \u001b[0m│\u001b[35m \u001b[0m\u001b[35m   0.36020976305007935   \u001b[0m\u001b[35m \u001b[0m│\n",
       "│\u001b[36m \u001b[0m\u001b[36m     test_loss_epoch     \u001b[0m\u001b[36m \u001b[0m│\u001b[35m \u001b[0m\u001b[35m   0.6410477161407471    \u001b[0m\u001b[35m \u001b[0m│\n",
       "└───────────────────────────┴───────────────────────────┘\n"
      ]
     },
     "metadata": {},
     "output_type": "display_data"
    },
    {
     "name": "stdout",
     "output_type": "stream",
     "text": [
      "  loss: 0.6410 | hamming: 0.3602 | f1_macro: 0.1898\n",
      "Fold 4/10\n"
     ]
    },
    {
     "name": "stderr",
     "output_type": "stream",
     "text": [
      "GPU available: True (mps), used: False\n",
      "TPU available: False, using: 0 TPU cores\n",
      "HPU available: False, using: 0 HPUs\n",
      "\n",
      "  | Name       | Type                      | Params | Mode \n",
      "-----------------------------------------------------------------\n",
      "0 | classifier | Sequential                | 240 K  | train\n",
      "1 | loss       | BCEWithLogitsLoss         | 0      | train\n",
      "2 | hamming    | MultilabelHammingDistance | 0      | train\n",
      "3 | f1_macro   | MultilabelF1Score         | 0      | train\n",
      "-----------------------------------------------------------------\n",
      "240 K     Trainable params\n",
      "0         Non-trainable params\n",
      "240 K     Total params\n",
      "0.961     Total estimated model params size (MB)\n",
      "17        Modules in train mode\n",
      "0         Modules in eval mode\n"
     ]
    },
    {
     "name": "stdout",
     "output_type": "stream",
     "text": [
      "Epoch 3: 100%|██████████| 34/34 [00:00<00:00, 202.65it/s, v_num=123, train_loss=0.585, train_ham=0.304, train_f1ma=0.281, val_loss_step=0.572, val_ham_step=0.289, val_f1ma_step=0.140, val_loss_epoch=0.578, val_ham_epoch=0.301, val_f1ma_epoch=0.163] "
     ]
    },
    {
     "name": "stderr",
     "output_type": "stream",
     "text": [
      "Restoring states from the checkpoint path at /Users/benjaminvaca/Documents/USFQ/semestre7/machine_learning/proyecto/lightning_logs/version_123/checkpoints/epoch=0-step=34.ckpt\n"
     ]
    },
    {
     "name": "stdout",
     "output_type": "stream",
     "text": [
      "\n"
     ]
    },
    {
     "name": "stderr",
     "output_type": "stream",
     "text": [
      "Loaded model weights from the checkpoint at /Users/benjaminvaca/Documents/USFQ/semestre7/machine_learning/proyecto/lightning_logs/version_123/checkpoints/epoch=0-step=34.ckpt\n"
     ]
    },
    {
     "name": "stdout",
     "output_type": "stream",
     "text": [
      "Validation DataLoader 0: 100%|██████████| 34/34 [00:00<00:00, 436.44it/s]\n"
     ]
    },
    {
     "name": "stderr",
     "output_type": "stream",
     "text": [
      "Restoring states from the checkpoint path at /Users/benjaminvaca/Documents/USFQ/semestre7/machine_learning/proyecto/lightning_logs/version_123/checkpoints/epoch=0-step=34.ckpt\n",
      "Loaded model weights from the checkpoint at /Users/benjaminvaca/Documents/USFQ/semestre7/machine_learning/proyecto/lightning_logs/version_123/checkpoints/epoch=0-step=34.ckpt\n"
     ]
    },
    {
     "name": "stdout",
     "output_type": "stream",
     "text": [
      "Validation DataLoader 0: 100%|██████████| 9/9 [00:00<00:00, 235.59it/s]\n"
     ]
    },
    {
     "name": "stderr",
     "output_type": "stream",
     "text": [
      "Restoring states from the checkpoint path at /Users/benjaminvaca/Documents/USFQ/semestre7/machine_learning/proyecto/lightning_logs/version_123/checkpoints/epoch=0-step=34.ckpt\n",
      "Loaded model weights from the checkpoint at /Users/benjaminvaca/Documents/USFQ/semestre7/machine_learning/proyecto/lightning_logs/version_123/checkpoints/epoch=0-step=34.ckpt\n"
     ]
    },
    {
     "name": "stdout",
     "output_type": "stream",
     "text": [
      "Testing DataLoader 0: 100%|██████████| 11/11 [00:00<00:00, 369.86it/s]\n"
     ]
    },
    {
     "data": {
      "text/html": [
       "<pre style=\"white-space:pre;overflow-x:auto;line-height:normal;font-family:Menlo,'DejaVu Sans Mono',consolas,'Courier New',monospace\">┏━━━━━━━━━━━━━━━━━━━━━━━━━━━┳━━━━━━━━━━━━━━━━━━━━━━━━━━━┓\n",
       "┃<span style=\"font-weight: bold\">        Test metric        </span>┃<span style=\"font-weight: bold\">       DataLoader 0        </span>┃\n",
       "┡━━━━━━━━━━━━━━━━━━━━━━━━━━━╇━━━━━━━━━━━━━━━━━━━━━━━━━━━┩\n",
       "│<span style=\"color: #008080; text-decoration-color: #008080\">      test_f1ma_epoch      </span>│<span style=\"color: #800080; text-decoration-color: #800080\">    0.19371972978115082    </span>│\n",
       "│<span style=\"color: #008080; text-decoration-color: #008080\">      test_ham_epoch       </span>│<span style=\"color: #800080; text-decoration-color: #800080\">    0.3048180937767029     </span>│\n",
       "│<span style=\"color: #008080; text-decoration-color: #008080\">      test_loss_epoch      </span>│<span style=\"color: #800080; text-decoration-color: #800080\">    0.6309325695037842     </span>│\n",
       "└───────────────────────────┴───────────────────────────┘\n",
       "</pre>\n"
      ],
      "text/plain": [
       "┏━━━━━━━━━━━━━━━━━━━━━━━━━━━┳━━━━━━━━━━━━━━━━━━━━━━━━━━━┓\n",
       "┃\u001b[1m \u001b[0m\u001b[1m       Test metric       \u001b[0m\u001b[1m \u001b[0m┃\u001b[1m \u001b[0m\u001b[1m      DataLoader 0       \u001b[0m\u001b[1m \u001b[0m┃\n",
       "┡━━━━━━━━━━━━━━━━━━━━━━━━━━━╇━━━━━━━━━━━━━━━━━━━━━━━━━━━┩\n",
       "│\u001b[36m \u001b[0m\u001b[36m     test_f1ma_epoch     \u001b[0m\u001b[36m \u001b[0m│\u001b[35m \u001b[0m\u001b[35m   0.19371972978115082   \u001b[0m\u001b[35m \u001b[0m│\n",
       "│\u001b[36m \u001b[0m\u001b[36m     test_ham_epoch      \u001b[0m\u001b[36m \u001b[0m│\u001b[35m \u001b[0m\u001b[35m   0.3048180937767029    \u001b[0m\u001b[35m \u001b[0m│\n",
       "│\u001b[36m \u001b[0m\u001b[36m     test_loss_epoch     \u001b[0m\u001b[36m \u001b[0m│\u001b[35m \u001b[0m\u001b[35m   0.6309325695037842    \u001b[0m\u001b[35m \u001b[0m│\n",
       "└───────────────────────────┴───────────────────────────┘\n"
      ]
     },
     "metadata": {},
     "output_type": "display_data"
    },
    {
     "name": "stdout",
     "output_type": "stream",
     "text": [
      "  loss: 0.6309 | hamming: 0.3048 | f1_macro: 0.1937\n",
      "Fold 5/10\n"
     ]
    },
    {
     "name": "stderr",
     "output_type": "stream",
     "text": [
      "GPU available: True (mps), used: False\n",
      "TPU available: False, using: 0 TPU cores\n",
      "HPU available: False, using: 0 HPUs\n",
      "\n",
      "  | Name       | Type                      | Params | Mode \n",
      "-----------------------------------------------------------------\n",
      "0 | classifier | Sequential                | 240 K  | train\n",
      "1 | loss       | BCEWithLogitsLoss         | 0      | train\n",
      "2 | hamming    | MultilabelHammingDistance | 0      | train\n",
      "3 | f1_macro   | MultilabelF1Score         | 0      | train\n",
      "-----------------------------------------------------------------\n",
      "240 K     Trainable params\n",
      "0         Non-trainable params\n",
      "240 K     Total params\n",
      "0.961     Total estimated model params size (MB)\n",
      "17        Modules in train mode\n",
      "0         Modules in eval mode\n"
     ]
    },
    {
     "name": "stdout",
     "output_type": "stream",
     "text": [
      "Epoch 3: 100%|██████████| 34/34 [00:00<00:00, 183.26it/s, v_num=124, train_loss=0.572, train_ham=0.304, train_f1ma=0.199, val_loss_step=0.569, val_ham_step=0.385, val_f1ma_step=0.0556, val_loss_epoch=0.576, val_ham_epoch=0.300, val_f1ma_epoch=0.138]"
     ]
    },
    {
     "name": "stderr",
     "output_type": "stream",
     "text": [
      "Restoring states from the checkpoint path at /Users/benjaminvaca/Documents/USFQ/semestre7/machine_learning/proyecto/lightning_logs/version_124/checkpoints/epoch=0-step=34.ckpt\n"
     ]
    },
    {
     "name": "stdout",
     "output_type": "stream",
     "text": [
      "\n"
     ]
    },
    {
     "name": "stderr",
     "output_type": "stream",
     "text": [
      "Loaded model weights from the checkpoint at /Users/benjaminvaca/Documents/USFQ/semestre7/machine_learning/proyecto/lightning_logs/version_124/checkpoints/epoch=0-step=34.ckpt\n"
     ]
    },
    {
     "name": "stdout",
     "output_type": "stream",
     "text": [
      "Validation DataLoader 0: 100%|██████████| 34/34 [00:00<00:00, 477.60it/s]"
     ]
    },
    {
     "name": "stderr",
     "output_type": "stream",
     "text": [
      "Restoring states from the checkpoint path at /Users/benjaminvaca/Documents/USFQ/semestre7/machine_learning/proyecto/lightning_logs/version_124/checkpoints/epoch=0-step=34.ckpt\n"
     ]
    },
    {
     "name": "stdout",
     "output_type": "stream",
     "text": [
      "\n"
     ]
    },
    {
     "name": "stderr",
     "output_type": "stream",
     "text": [
      "Loaded model weights from the checkpoint at /Users/benjaminvaca/Documents/USFQ/semestre7/machine_learning/proyecto/lightning_logs/version_124/checkpoints/epoch=0-step=34.ckpt\n"
     ]
    },
    {
     "name": "stdout",
     "output_type": "stream",
     "text": [
      "Validation DataLoader 0: 100%|██████████| 9/9 [00:00<00:00, 431.57it/s]"
     ]
    },
    {
     "name": "stderr",
     "output_type": "stream",
     "text": [
      "Restoring states from the checkpoint path at /Users/benjaminvaca/Documents/USFQ/semestre7/machine_learning/proyecto/lightning_logs/version_124/checkpoints/epoch=0-step=34.ckpt\n"
     ]
    },
    {
     "name": "stdout",
     "output_type": "stream",
     "text": [
      "\n"
     ]
    },
    {
     "name": "stderr",
     "output_type": "stream",
     "text": [
      "Loaded model weights from the checkpoint at /Users/benjaminvaca/Documents/USFQ/semestre7/machine_learning/proyecto/lightning_logs/version_124/checkpoints/epoch=0-step=34.ckpt\n"
     ]
    },
    {
     "name": "stdout",
     "output_type": "stream",
     "text": [
      "Testing DataLoader 0: 100%|██████████| 11/11 [00:00<00:00, 414.67it/s]\n"
     ]
    },
    {
     "data": {
      "text/html": [
       "<pre style=\"white-space:pre;overflow-x:auto;line-height:normal;font-family:Menlo,'DejaVu Sans Mono',consolas,'Courier New',monospace\">┏━━━━━━━━━━━━━━━━━━━━━━━━━━━┳━━━━━━━━━━━━━━━━━━━━━━━━━━━┓\n",
       "┃<span style=\"font-weight: bold\">        Test metric        </span>┃<span style=\"font-weight: bold\">       DataLoader 0        </span>┃\n",
       "┡━━━━━━━━━━━━━━━━━━━━━━━━━━━╇━━━━━━━━━━━━━━━━━━━━━━━━━━━┩\n",
       "│<span style=\"color: #008080; text-decoration-color: #008080\">      test_f1ma_epoch      </span>│<span style=\"color: #800080; text-decoration-color: #800080\">    0.1705302745103836     </span>│\n",
       "│<span style=\"color: #008080; text-decoration-color: #008080\">      test_ham_epoch       </span>│<span style=\"color: #800080; text-decoration-color: #800080\">     0.327105849981308     </span>│\n",
       "│<span style=\"color: #008080; text-decoration-color: #008080\">      test_loss_epoch      </span>│<span style=\"color: #800080; text-decoration-color: #800080\">    0.6386629939079285     </span>│\n",
       "└───────────────────────────┴───────────────────────────┘\n",
       "</pre>\n"
      ],
      "text/plain": [
       "┏━━━━━━━━━━━━━━━━━━━━━━━━━━━┳━━━━━━━━━━━━━━━━━━━━━━━━━━━┓\n",
       "┃\u001b[1m \u001b[0m\u001b[1m       Test metric       \u001b[0m\u001b[1m \u001b[0m┃\u001b[1m \u001b[0m\u001b[1m      DataLoader 0       \u001b[0m\u001b[1m \u001b[0m┃\n",
       "┡━━━━━━━━━━━━━━━━━━━━━━━━━━━╇━━━━━━━━━━━━━━━━━━━━━━━━━━━┩\n",
       "│\u001b[36m \u001b[0m\u001b[36m     test_f1ma_epoch     \u001b[0m\u001b[36m \u001b[0m│\u001b[35m \u001b[0m\u001b[35m   0.1705302745103836    \u001b[0m\u001b[35m \u001b[0m│\n",
       "│\u001b[36m \u001b[0m\u001b[36m     test_ham_epoch      \u001b[0m\u001b[36m \u001b[0m│\u001b[35m \u001b[0m\u001b[35m    0.327105849981308    \u001b[0m\u001b[35m \u001b[0m│\n",
       "│\u001b[36m \u001b[0m\u001b[36m     test_loss_epoch     \u001b[0m\u001b[36m \u001b[0m│\u001b[35m \u001b[0m\u001b[35m   0.6386629939079285    \u001b[0m\u001b[35m \u001b[0m│\n",
       "└───────────────────────────┴───────────────────────────┘\n"
      ]
     },
     "metadata": {},
     "output_type": "display_data"
    },
    {
     "name": "stdout",
     "output_type": "stream",
     "text": [
      "  loss: 0.6387 | hamming: 0.3271 | f1_macro: 0.1705\n",
      "Fold 6/10\n"
     ]
    },
    {
     "name": "stderr",
     "output_type": "stream",
     "text": [
      "GPU available: True (mps), used: False\n",
      "TPU available: False, using: 0 TPU cores\n",
      "HPU available: False, using: 0 HPUs\n",
      "\n",
      "  | Name       | Type                      | Params | Mode \n",
      "-----------------------------------------------------------------\n",
      "0 | classifier | Sequential                | 240 K  | train\n",
      "1 | loss       | BCEWithLogitsLoss         | 0      | train\n",
      "2 | hamming    | MultilabelHammingDistance | 0      | train\n",
      "3 | f1_macro   | MultilabelF1Score         | 0      | train\n",
      "-----------------------------------------------------------------\n",
      "240 K     Trainable params\n",
      "0         Non-trainable params\n",
      "240 K     Total params\n",
      "0.961     Total estimated model params size (MB)\n",
      "17        Modules in train mode\n",
      "0         Modules in eval mode\n"
     ]
    },
    {
     "name": "stdout",
     "output_type": "stream",
     "text": [
      "Epoch 3: 100%|██████████| 34/34 [00:00<00:00, 197.58it/s, v_num=125, train_loss=0.529, train_ham=0.261, train_f1ma=0.285, val_loss_step=0.587, val_ham_step=0.361, val_f1ma_step=0.088, val_loss_epoch=0.584, val_ham_epoch=0.307, val_f1ma_epoch=0.136] \n"
     ]
    },
    {
     "name": "stderr",
     "output_type": "stream",
     "text": [
      "Restoring states from the checkpoint path at /Users/benjaminvaca/Documents/USFQ/semestre7/machine_learning/proyecto/lightning_logs/version_125/checkpoints/epoch=0-step=34.ckpt\n",
      "Loaded model weights from the checkpoint at /Users/benjaminvaca/Documents/USFQ/semestre7/machine_learning/proyecto/lightning_logs/version_125/checkpoints/epoch=0-step=34.ckpt\n"
     ]
    },
    {
     "name": "stdout",
     "output_type": "stream",
     "text": [
      "Validation DataLoader 0: 100%|██████████| 34/34 [00:00<00:00, 492.24it/s]"
     ]
    },
    {
     "name": "stderr",
     "output_type": "stream",
     "text": [
      "Restoring states from the checkpoint path at /Users/benjaminvaca/Documents/USFQ/semestre7/machine_learning/proyecto/lightning_logs/version_125/checkpoints/epoch=0-step=34.ckpt\n"
     ]
    },
    {
     "name": "stdout",
     "output_type": "stream",
     "text": [
      "\n"
     ]
    },
    {
     "name": "stderr",
     "output_type": "stream",
     "text": [
      "Loaded model weights from the checkpoint at /Users/benjaminvaca/Documents/USFQ/semestre7/machine_learning/proyecto/lightning_logs/version_125/checkpoints/epoch=0-step=34.ckpt\n"
     ]
    },
    {
     "name": "stdout",
     "output_type": "stream",
     "text": [
      "Validation DataLoader 0: 100%|██████████| 9/9 [00:00<00:00, 463.50it/s]"
     ]
    },
    {
     "name": "stderr",
     "output_type": "stream",
     "text": [
      "Restoring states from the checkpoint path at /Users/benjaminvaca/Documents/USFQ/semestre7/machine_learning/proyecto/lightning_logs/version_125/checkpoints/epoch=0-step=34.ckpt\n"
     ]
    },
    {
     "name": "stdout",
     "output_type": "stream",
     "text": [
      "\n"
     ]
    },
    {
     "name": "stderr",
     "output_type": "stream",
     "text": [
      "Loaded model weights from the checkpoint at /Users/benjaminvaca/Documents/USFQ/semestre7/machine_learning/proyecto/lightning_logs/version_125/checkpoints/epoch=0-step=34.ckpt\n"
     ]
    },
    {
     "name": "stdout",
     "output_type": "stream",
     "text": [
      "Testing DataLoader 0: 100%|██████████| 11/11 [00:00<00:00, 202.14it/s]\n"
     ]
    },
    {
     "data": {
      "text/html": [
       "<pre style=\"white-space:pre;overflow-x:auto;line-height:normal;font-family:Menlo,'DejaVu Sans Mono',consolas,'Courier New',monospace\">┏━━━━━━━━━━━━━━━━━━━━━━━━━━━┳━━━━━━━━━━━━━━━━━━━━━━━━━━━┓\n",
       "┃<span style=\"font-weight: bold\">        Test metric        </span>┃<span style=\"font-weight: bold\">       DataLoader 0        </span>┃\n",
       "┡━━━━━━━━━━━━━━━━━━━━━━━━━━━╇━━━━━━━━━━━━━━━━━━━━━━━━━━━┩\n",
       "│<span style=\"color: #008080; text-decoration-color: #008080\">      test_f1ma_epoch      </span>│<span style=\"color: #800080; text-decoration-color: #800080\">    0.16281989216804504    </span>│\n",
       "│<span style=\"color: #008080; text-decoration-color: #008080\">      test_ham_epoch       </span>│<span style=\"color: #800080; text-decoration-color: #800080\">    0.34316617250442505    </span>│\n",
       "│<span style=\"color: #008080; text-decoration-color: #008080\">      test_loss_epoch      </span>│<span style=\"color: #800080; text-decoration-color: #800080\">     0.645003080368042     </span>│\n",
       "└───────────────────────────┴───────────────────────────┘\n",
       "</pre>\n"
      ],
      "text/plain": [
       "┏━━━━━━━━━━━━━━━━━━━━━━━━━━━┳━━━━━━━━━━━━━━━━━━━━━━━━━━━┓\n",
       "┃\u001b[1m \u001b[0m\u001b[1m       Test metric       \u001b[0m\u001b[1m \u001b[0m┃\u001b[1m \u001b[0m\u001b[1m      DataLoader 0       \u001b[0m\u001b[1m \u001b[0m┃\n",
       "┡━━━━━━━━━━━━━━━━━━━━━━━━━━━╇━━━━━━━━━━━━━━━━━━━━━━━━━━━┩\n",
       "│\u001b[36m \u001b[0m\u001b[36m     test_f1ma_epoch     \u001b[0m\u001b[36m \u001b[0m│\u001b[35m \u001b[0m\u001b[35m   0.16281989216804504   \u001b[0m\u001b[35m \u001b[0m│\n",
       "│\u001b[36m \u001b[0m\u001b[36m     test_ham_epoch      \u001b[0m\u001b[36m \u001b[0m│\u001b[35m \u001b[0m\u001b[35m   0.34316617250442505   \u001b[0m\u001b[35m \u001b[0m│\n",
       "│\u001b[36m \u001b[0m\u001b[36m     test_loss_epoch     \u001b[0m\u001b[36m \u001b[0m│\u001b[35m \u001b[0m\u001b[35m    0.645003080368042    \u001b[0m\u001b[35m \u001b[0m│\n",
       "└───────────────────────────┴───────────────────────────┘\n"
      ]
     },
     "metadata": {},
     "output_type": "display_data"
    },
    {
     "name": "stdout",
     "output_type": "stream",
     "text": [
      "  loss: 0.6450 | hamming: 0.3432 | f1_macro: 0.1628\n",
      "Fold 7/10\n"
     ]
    },
    {
     "name": "stderr",
     "output_type": "stream",
     "text": [
      "GPU available: True (mps), used: False\n",
      "TPU available: False, using: 0 TPU cores\n",
      "HPU available: False, using: 0 HPUs\n",
      "\n",
      "  | Name       | Type                      | Params | Mode \n",
      "-----------------------------------------------------------------\n",
      "0 | classifier | Sequential                | 240 K  | train\n",
      "1 | loss       | BCEWithLogitsLoss         | 0      | train\n",
      "2 | hamming    | MultilabelHammingDistance | 0      | train\n",
      "3 | f1_macro   | MultilabelF1Score         | 0      | train\n",
      "-----------------------------------------------------------------\n",
      "240 K     Trainable params\n",
      "0         Non-trainable params\n",
      "240 K     Total params\n",
      "0.961     Total estimated model params size (MB)\n",
      "17        Modules in train mode\n",
      "0         Modules in eval mode\n"
     ]
    },
    {
     "name": "stdout",
     "output_type": "stream",
     "text": [
      "Epoch 4: 100%|██████████| 34/34 [00:00<00:00, 193.92it/s, v_num=126, train_loss=0.555, train_ham=0.280, train_f1ma=0.240, val_loss_step=0.569, val_ham_step=0.389, val_f1ma_step=0.0598, val_loss_epoch=0.573, val_ham_epoch=0.295, val_f1ma_epoch=0.127]\n"
     ]
    },
    {
     "name": "stderr",
     "output_type": "stream",
     "text": [
      "Restoring states from the checkpoint path at /Users/benjaminvaca/Documents/USFQ/semestre7/machine_learning/proyecto/lightning_logs/version_126/checkpoints/epoch=1-step=68.ckpt\n",
      "Loaded model weights from the checkpoint at /Users/benjaminvaca/Documents/USFQ/semestre7/machine_learning/proyecto/lightning_logs/version_126/checkpoints/epoch=1-step=68.ckpt\n"
     ]
    },
    {
     "name": "stdout",
     "output_type": "stream",
     "text": [
      "Validation DataLoader 0: 100%|██████████| 34/34 [00:00<00:00, 504.44it/s]"
     ]
    },
    {
     "name": "stderr",
     "output_type": "stream",
     "text": [
      "Restoring states from the checkpoint path at /Users/benjaminvaca/Documents/USFQ/semestre7/machine_learning/proyecto/lightning_logs/version_126/checkpoints/epoch=1-step=68.ckpt\n"
     ]
    },
    {
     "name": "stdout",
     "output_type": "stream",
     "text": [
      "\n"
     ]
    },
    {
     "name": "stderr",
     "output_type": "stream",
     "text": [
      "Loaded model weights from the checkpoint at /Users/benjaminvaca/Documents/USFQ/semestre7/machine_learning/proyecto/lightning_logs/version_126/checkpoints/epoch=1-step=68.ckpt\n"
     ]
    },
    {
     "name": "stdout",
     "output_type": "stream",
     "text": [
      "Validation DataLoader 0: 100%|██████████| 9/9 [00:00<00:00, 491.99it/s]"
     ]
    },
    {
     "name": "stderr",
     "output_type": "stream",
     "text": [
      "Restoring states from the checkpoint path at /Users/benjaminvaca/Documents/USFQ/semestre7/machine_learning/proyecto/lightning_logs/version_126/checkpoints/epoch=1-step=68.ckpt\n"
     ]
    },
    {
     "name": "stdout",
     "output_type": "stream",
     "text": [
      "\n"
     ]
    },
    {
     "name": "stderr",
     "output_type": "stream",
     "text": [
      "Loaded model weights from the checkpoint at /Users/benjaminvaca/Documents/USFQ/semestre7/machine_learning/proyecto/lightning_logs/version_126/checkpoints/epoch=1-step=68.ckpt\n"
     ]
    },
    {
     "name": "stdout",
     "output_type": "stream",
     "text": [
      "Testing DataLoader 0: 100%|██████████| 11/11 [00:00<00:00, 511.99it/s]\n"
     ]
    },
    {
     "data": {
      "text/html": [
       "<pre style=\"white-space:pre;overflow-x:auto;line-height:normal;font-family:Menlo,'DejaVu Sans Mono',consolas,'Courier New',monospace\">┏━━━━━━━━━━━━━━━━━━━━━━━━━━━┳━━━━━━━━━━━━━━━━━━━━━━━━━━━┓\n",
       "┃<span style=\"font-weight: bold\">        Test metric        </span>┃<span style=\"font-weight: bold\">       DataLoader 0        </span>┃\n",
       "┡━━━━━━━━━━━━━━━━━━━━━━━━━━━╇━━━━━━━━━━━━━━━━━━━━━━━━━━━┩\n",
       "│<span style=\"color: #008080; text-decoration-color: #008080\">      test_f1ma_epoch      </span>│<span style=\"color: #800080; text-decoration-color: #800080\">    0.12153208255767822    </span>│\n",
       "│<span style=\"color: #008080; text-decoration-color: #008080\">      test_ham_epoch       </span>│<span style=\"color: #800080; text-decoration-color: #800080\">    0.30285149812698364    </span>│\n",
       "│<span style=\"color: #008080; text-decoration-color: #008080\">      test_loss_epoch      </span>│<span style=\"color: #800080; text-decoration-color: #800080\">    0.6019692420959473     </span>│\n",
       "└───────────────────────────┴───────────────────────────┘\n",
       "</pre>\n"
      ],
      "text/plain": [
       "┏━━━━━━━━━━━━━━━━━━━━━━━━━━━┳━━━━━━━━━━━━━━━━━━━━━━━━━━━┓\n",
       "┃\u001b[1m \u001b[0m\u001b[1m       Test metric       \u001b[0m\u001b[1m \u001b[0m┃\u001b[1m \u001b[0m\u001b[1m      DataLoader 0       \u001b[0m\u001b[1m \u001b[0m┃\n",
       "┡━━━━━━━━━━━━━━━━━━━━━━━━━━━╇━━━━━━━━━━━━━━━━━━━━━━━━━━━┩\n",
       "│\u001b[36m \u001b[0m\u001b[36m     test_f1ma_epoch     \u001b[0m\u001b[36m \u001b[0m│\u001b[35m \u001b[0m\u001b[35m   0.12153208255767822   \u001b[0m\u001b[35m \u001b[0m│\n",
       "│\u001b[36m \u001b[0m\u001b[36m     test_ham_epoch      \u001b[0m\u001b[36m \u001b[0m│\u001b[35m \u001b[0m\u001b[35m   0.30285149812698364   \u001b[0m\u001b[35m \u001b[0m│\n",
       "│\u001b[36m \u001b[0m\u001b[36m     test_loss_epoch     \u001b[0m\u001b[36m \u001b[0m│\u001b[35m \u001b[0m\u001b[35m   0.6019692420959473    \u001b[0m\u001b[35m \u001b[0m│\n",
       "└───────────────────────────┴───────────────────────────┘\n"
      ]
     },
     "metadata": {},
     "output_type": "display_data"
    },
    {
     "name": "stdout",
     "output_type": "stream",
     "text": [
      "  loss: 0.6020 | hamming: 0.3029 | f1_macro: 0.1215\n",
      "Fold 8/10\n"
     ]
    },
    {
     "name": "stderr",
     "output_type": "stream",
     "text": [
      "GPU available: True (mps), used: False\n",
      "TPU available: False, using: 0 TPU cores\n",
      "HPU available: False, using: 0 HPUs\n",
      "\n",
      "  | Name       | Type                      | Params | Mode \n",
      "-----------------------------------------------------------------\n",
      "0 | classifier | Sequential                | 240 K  | train\n",
      "1 | loss       | BCEWithLogitsLoss         | 0      | train\n",
      "2 | hamming    | MultilabelHammingDistance | 0      | train\n",
      "3 | f1_macro   | MultilabelF1Score         | 0      | train\n",
      "-----------------------------------------------------------------\n",
      "240 K     Trainable params\n",
      "0         Non-trainable params\n",
      "240 K     Total params\n",
      "0.961     Total estimated model params size (MB)\n",
      "17        Modules in train mode\n",
      "0         Modules in eval mode\n"
     ]
    },
    {
     "name": "stdout",
     "output_type": "stream",
     "text": [
      "Epoch 3: 100%|██████████| 34/34 [00:00<00:00, 217.54it/s, v_num=127, train_loss=0.548, train_ham=0.267, train_f1ma=0.274, val_loss_step=0.615, val_ham_step=0.393, val_f1ma_step=0.0509, val_loss_epoch=0.576, val_ham_epoch=0.292, val_f1ma_epoch=0.154]\n"
     ]
    },
    {
     "name": "stderr",
     "output_type": "stream",
     "text": [
      "Restoring states from the checkpoint path at /Users/benjaminvaca/Documents/USFQ/semestre7/machine_learning/proyecto/lightning_logs/version_127/checkpoints/epoch=0-step=34.ckpt\n",
      "Loaded model weights from the checkpoint at /Users/benjaminvaca/Documents/USFQ/semestre7/machine_learning/proyecto/lightning_logs/version_127/checkpoints/epoch=0-step=34.ckpt\n"
     ]
    },
    {
     "name": "stdout",
     "output_type": "stream",
     "text": [
      "Validation DataLoader 0: 100%|██████████| 34/34 [00:00<00:00, 557.70it/s]"
     ]
    },
    {
     "name": "stderr",
     "output_type": "stream",
     "text": [
      "Restoring states from the checkpoint path at /Users/benjaminvaca/Documents/USFQ/semestre7/machine_learning/proyecto/lightning_logs/version_127/checkpoints/epoch=0-step=34.ckpt\n"
     ]
    },
    {
     "name": "stdout",
     "output_type": "stream",
     "text": [
      "\n"
     ]
    },
    {
     "name": "stderr",
     "output_type": "stream",
     "text": [
      "Loaded model weights from the checkpoint at /Users/benjaminvaca/Documents/USFQ/semestre7/machine_learning/proyecto/lightning_logs/version_127/checkpoints/epoch=0-step=34.ckpt\n"
     ]
    },
    {
     "name": "stdout",
     "output_type": "stream",
     "text": [
      "Validation DataLoader 0: 100%|██████████| 9/9 [00:00<00:00, 508.98it/s]\n"
     ]
    },
    {
     "name": "stderr",
     "output_type": "stream",
     "text": [
      "Restoring states from the checkpoint path at /Users/benjaminvaca/Documents/USFQ/semestre7/machine_learning/proyecto/lightning_logs/version_127/checkpoints/epoch=0-step=34.ckpt\n",
      "Loaded model weights from the checkpoint at /Users/benjaminvaca/Documents/USFQ/semestre7/machine_learning/proyecto/lightning_logs/version_127/checkpoints/epoch=0-step=34.ckpt\n"
     ]
    },
    {
     "name": "stdout",
     "output_type": "stream",
     "text": [
      "Testing DataLoader 0: 100%|██████████| 11/11 [00:00<00:00, 216.17it/s]\n"
     ]
    },
    {
     "data": {
      "text/html": [
       "<pre style=\"white-space:pre;overflow-x:auto;line-height:normal;font-family:Menlo,'DejaVu Sans Mono',consolas,'Courier New',monospace\">┏━━━━━━━━━━━━━━━━━━━━━━━━━━━┳━━━━━━━━━━━━━━━━━━━━━━━━━━━┓\n",
       "┃<span style=\"font-weight: bold\">        Test metric        </span>┃<span style=\"font-weight: bold\">       DataLoader 0        </span>┃\n",
       "┡━━━━━━━━━━━━━━━━━━━━━━━━━━━╇━━━━━━━━━━━━━━━━━━━━━━━━━━━┩\n",
       "│<span style=\"color: #008080; text-decoration-color: #008080\">      test_f1ma_epoch      </span>│<span style=\"color: #800080; text-decoration-color: #800080\">    0.19690033793449402    </span>│\n",
       "│<span style=\"color: #008080; text-decoration-color: #008080\">      test_ham_epoch       </span>│<span style=\"color: #800080; text-decoration-color: #800080\">    0.3254670798778534     </span>│\n",
       "│<span style=\"color: #008080; text-decoration-color: #008080\">      test_loss_epoch      </span>│<span style=\"color: #800080; text-decoration-color: #800080\">    0.6312897801399231     </span>│\n",
       "└───────────────────────────┴───────────────────────────┘\n",
       "</pre>\n"
      ],
      "text/plain": [
       "┏━━━━━━━━━━━━━━━━━━━━━━━━━━━┳━━━━━━━━━━━━━━━━━━━━━━━━━━━┓\n",
       "┃\u001b[1m \u001b[0m\u001b[1m       Test metric       \u001b[0m\u001b[1m \u001b[0m┃\u001b[1m \u001b[0m\u001b[1m      DataLoader 0       \u001b[0m\u001b[1m \u001b[0m┃\n",
       "┡━━━━━━━━━━━━━━━━━━━━━━━━━━━╇━━━━━━━━━━━━━━━━━━━━━━━━━━━┩\n",
       "│\u001b[36m \u001b[0m\u001b[36m     test_f1ma_epoch     \u001b[0m\u001b[36m \u001b[0m│\u001b[35m \u001b[0m\u001b[35m   0.19690033793449402   \u001b[0m\u001b[35m \u001b[0m│\n",
       "│\u001b[36m \u001b[0m\u001b[36m     test_ham_epoch      \u001b[0m\u001b[36m \u001b[0m│\u001b[35m \u001b[0m\u001b[35m   0.3254670798778534    \u001b[0m\u001b[35m \u001b[0m│\n",
       "│\u001b[36m \u001b[0m\u001b[36m     test_loss_epoch     \u001b[0m\u001b[36m \u001b[0m│\u001b[35m \u001b[0m\u001b[35m   0.6312897801399231    \u001b[0m\u001b[35m \u001b[0m│\n",
       "└───────────────────────────┴───────────────────────────┘\n"
      ]
     },
     "metadata": {},
     "output_type": "display_data"
    },
    {
     "name": "stdout",
     "output_type": "stream",
     "text": [
      "  loss: 0.6313 | hamming: 0.3255 | f1_macro: 0.1969\n",
      "Fold 9/10\n"
     ]
    },
    {
     "name": "stderr",
     "output_type": "stream",
     "text": [
      "GPU available: True (mps), used: False\n",
      "TPU available: False, using: 0 TPU cores\n",
      "HPU available: False, using: 0 HPUs\n",
      "\n",
      "  | Name       | Type                      | Params | Mode \n",
      "-----------------------------------------------------------------\n",
      "0 | classifier | Sequential                | 240 K  | train\n",
      "1 | loss       | BCEWithLogitsLoss         | 0      | train\n",
      "2 | hamming    | MultilabelHammingDistance | 0      | train\n",
      "3 | f1_macro   | MultilabelF1Score         | 0      | train\n",
      "-----------------------------------------------------------------\n",
      "240 K     Trainable params\n",
      "0         Non-trainable params\n",
      "240 K     Total params\n",
      "0.961     Total estimated model params size (MB)\n",
      "17        Modules in train mode\n",
      "0         Modules in eval mode\n"
     ]
    },
    {
     "name": "stdout",
     "output_type": "stream",
     "text": [
      "Epoch 3: 100%|██████████| 34/34 [00:00<00:00, 205.02it/s, v_num=128, train_loss=0.585, train_ham=0.322, train_f1ma=0.191, val_loss_step=0.565, val_ham_step=0.378, val_f1ma_step=0.0741, val_loss_epoch=0.575, val_ham_epoch=0.289, val_f1ma_epoch=0.171]\n"
     ]
    },
    {
     "name": "stderr",
     "output_type": "stream",
     "text": [
      "Restoring states from the checkpoint path at /Users/benjaminvaca/Documents/USFQ/semestre7/machine_learning/proyecto/lightning_logs/version_128/checkpoints/epoch=0-step=34.ckpt\n",
      "Loaded model weights from the checkpoint at /Users/benjaminvaca/Documents/USFQ/semestre7/machine_learning/proyecto/lightning_logs/version_128/checkpoints/epoch=0-step=34.ckpt\n"
     ]
    },
    {
     "name": "stdout",
     "output_type": "stream",
     "text": [
      "Validation DataLoader 0: 100%|██████████| 34/34 [00:00<00:00, 533.08it/s]\n"
     ]
    },
    {
     "name": "stderr",
     "output_type": "stream",
     "text": [
      "Restoring states from the checkpoint path at /Users/benjaminvaca/Documents/USFQ/semestre7/machine_learning/proyecto/lightning_logs/version_128/checkpoints/epoch=0-step=34.ckpt\n",
      "Loaded model weights from the checkpoint at /Users/benjaminvaca/Documents/USFQ/semestre7/machine_learning/proyecto/lightning_logs/version_128/checkpoints/epoch=0-step=34.ckpt\n"
     ]
    },
    {
     "name": "stdout",
     "output_type": "stream",
     "text": [
      "Validation DataLoader 0: 100%|██████████| 9/9 [00:00<00:00, 473.61it/s]"
     ]
    },
    {
     "name": "stderr",
     "output_type": "stream",
     "text": [
      "Restoring states from the checkpoint path at /Users/benjaminvaca/Documents/USFQ/semestre7/machine_learning/proyecto/lightning_logs/version_128/checkpoints/epoch=0-step=34.ckpt\n"
     ]
    },
    {
     "name": "stdout",
     "output_type": "stream",
     "text": [
      "\n"
     ]
    },
    {
     "name": "stderr",
     "output_type": "stream",
     "text": [
      "Loaded model weights from the checkpoint at /Users/benjaminvaca/Documents/USFQ/semestre7/machine_learning/proyecto/lightning_logs/version_128/checkpoints/epoch=0-step=34.ckpt\n"
     ]
    },
    {
     "name": "stdout",
     "output_type": "stream",
     "text": [
      "Testing DataLoader 0: 100%|██████████| 11/11 [00:00<00:00, 530.14it/s]\n"
     ]
    },
    {
     "data": {
      "text/html": [
       "<pre style=\"white-space:pre;overflow-x:auto;line-height:normal;font-family:Menlo,'DejaVu Sans Mono',consolas,'Courier New',monospace\">┏━━━━━━━━━━━━━━━━━━━━━━━━━━━┳━━━━━━━━━━━━━━━━━━━━━━━━━━━┓\n",
       "┃<span style=\"font-weight: bold\">        Test metric        </span>┃<span style=\"font-weight: bold\">       DataLoader 0        </span>┃\n",
       "┡━━━━━━━━━━━━━━━━━━━━━━━━━━━╇━━━━━━━━━━━━━━━━━━━━━━━━━━━┩\n",
       "│<span style=\"color: #008080; text-decoration-color: #008080\">      test_f1ma_epoch      </span>│<span style=\"color: #800080; text-decoration-color: #800080\">    0.17990683019161224    </span>│\n",
       "│<span style=\"color: #008080; text-decoration-color: #008080\">      test_ham_epoch       </span>│<span style=\"color: #800080; text-decoration-color: #800080\">    0.3333333134651184     </span>│\n",
       "│<span style=\"color: #008080; text-decoration-color: #008080\">      test_loss_epoch      </span>│<span style=\"color: #800080; text-decoration-color: #800080\">    0.6358088254928589     </span>│\n",
       "└───────────────────────────┴───────────────────────────┘\n",
       "</pre>\n"
      ],
      "text/plain": [
       "┏━━━━━━━━━━━━━━━━━━━━━━━━━━━┳━━━━━━━━━━━━━━━━━━━━━━━━━━━┓\n",
       "┃\u001b[1m \u001b[0m\u001b[1m       Test metric       \u001b[0m\u001b[1m \u001b[0m┃\u001b[1m \u001b[0m\u001b[1m      DataLoader 0       \u001b[0m\u001b[1m \u001b[0m┃\n",
       "┡━━━━━━━━━━━━━━━━━━━━━━━━━━━╇━━━━━━━━━━━━━━━━━━━━━━━━━━━┩\n",
       "│\u001b[36m \u001b[0m\u001b[36m     test_f1ma_epoch     \u001b[0m\u001b[36m \u001b[0m│\u001b[35m \u001b[0m\u001b[35m   0.17990683019161224   \u001b[0m\u001b[35m \u001b[0m│\n",
       "│\u001b[36m \u001b[0m\u001b[36m     test_ham_epoch      \u001b[0m\u001b[36m \u001b[0m│\u001b[35m \u001b[0m\u001b[35m   0.3333333134651184    \u001b[0m\u001b[35m \u001b[0m│\n",
       "│\u001b[36m \u001b[0m\u001b[36m     test_loss_epoch     \u001b[0m\u001b[36m \u001b[0m│\u001b[35m \u001b[0m\u001b[35m   0.6358088254928589    \u001b[0m\u001b[35m \u001b[0m│\n",
       "└───────────────────────────┴───────────────────────────┘\n"
      ]
     },
     "metadata": {},
     "output_type": "display_data"
    },
    {
     "name": "stdout",
     "output_type": "stream",
     "text": [
      "  loss: 0.6358 | hamming: 0.3333 | f1_macro: 0.1799\n",
      "Fold 10/10\n"
     ]
    },
    {
     "name": "stderr",
     "output_type": "stream",
     "text": [
      "GPU available: True (mps), used: False\n",
      "TPU available: False, using: 0 TPU cores\n",
      "HPU available: False, using: 0 HPUs\n",
      "\n",
      "  | Name       | Type                      | Params | Mode \n",
      "-----------------------------------------------------------------\n",
      "0 | classifier | Sequential                | 240 K  | train\n",
      "1 | loss       | BCEWithLogitsLoss         | 0      | train\n",
      "2 | hamming    | MultilabelHammingDistance | 0      | train\n",
      "3 | f1_macro   | MultilabelF1Score         | 0      | train\n",
      "-----------------------------------------------------------------\n",
      "240 K     Trainable params\n",
      "0         Non-trainable params\n",
      "240 K     Total params\n",
      "0.961     Total estimated model params size (MB)\n",
      "17        Modules in train mode\n",
      "0         Modules in eval mode\n"
     ]
    },
    {
     "name": "stdout",
     "output_type": "stream",
     "text": [
      "Epoch 10: 100%|██████████| 34/34 [00:00<00:00, 204.41it/s, v_num=129, train_loss=0.562, train_ham=0.296, train_f1ma=0.283, val_loss_step=0.552, val_ham_step=0.326, val_f1ma_step=0.110, val_loss_epoch=0.572, val_ham_epoch=0.301, val_f1ma_epoch=0.150]\n"
     ]
    },
    {
     "name": "stderr",
     "output_type": "stream",
     "text": [
      "Restoring states from the checkpoint path at /Users/benjaminvaca/Documents/USFQ/semestre7/machine_learning/proyecto/lightning_logs/version_129/checkpoints/epoch=7-step=272.ckpt\n",
      "Loaded model weights from the checkpoint at /Users/benjaminvaca/Documents/USFQ/semestre7/machine_learning/proyecto/lightning_logs/version_129/checkpoints/epoch=7-step=272.ckpt\n"
     ]
    },
    {
     "name": "stdout",
     "output_type": "stream",
     "text": [
      "Validation DataLoader 0: 100%|██████████| 34/34 [00:00<00:00, 530.99it/s]\n"
     ]
    },
    {
     "name": "stderr",
     "output_type": "stream",
     "text": [
      "Restoring states from the checkpoint path at /Users/benjaminvaca/Documents/USFQ/semestre7/machine_learning/proyecto/lightning_logs/version_129/checkpoints/epoch=7-step=272.ckpt\n",
      "Loaded model weights from the checkpoint at /Users/benjaminvaca/Documents/USFQ/semestre7/machine_learning/proyecto/lightning_logs/version_129/checkpoints/epoch=7-step=272.ckpt\n"
     ]
    },
    {
     "name": "stdout",
     "output_type": "stream",
     "text": [
      "Validation DataLoader 0: 100%|██████████| 9/9 [00:00<00:00, 511.40it/s]"
     ]
    },
    {
     "name": "stderr",
     "output_type": "stream",
     "text": [
      "Restoring states from the checkpoint path at /Users/benjaminvaca/Documents/USFQ/semestre7/machine_learning/proyecto/lightning_logs/version_129/checkpoints/epoch=7-step=272.ckpt\n"
     ]
    },
    {
     "name": "stdout",
     "output_type": "stream",
     "text": [
      "\n"
     ]
    },
    {
     "name": "stderr",
     "output_type": "stream",
     "text": [
      "Loaded model weights from the checkpoint at /Users/benjaminvaca/Documents/USFQ/semestre7/machine_learning/proyecto/lightning_logs/version_129/checkpoints/epoch=7-step=272.ckpt\n"
     ]
    },
    {
     "name": "stdout",
     "output_type": "stream",
     "text": [
      "Testing DataLoader 0: 100%|██████████| 11/11 [00:00<00:00, 508.38it/s]\n"
     ]
    },
    {
     "data": {
      "text/html": [
       "<pre style=\"white-space:pre;overflow-x:auto;line-height:normal;font-family:Menlo,'DejaVu Sans Mono',consolas,'Courier New',monospace\">┏━━━━━━━━━━━━━━━━━━━━━━━━━━━┳━━━━━━━━━━━━━━━━━━━━━━━━━━━┓\n",
       "┃<span style=\"font-weight: bold\">        Test metric        </span>┃<span style=\"font-weight: bold\">       DataLoader 0        </span>┃\n",
       "┡━━━━━━━━━━━━━━━━━━━━━━━━━━━╇━━━━━━━━━━━━━━━━━━━━━━━━━━━┩\n",
       "│<span style=\"color: #008080; text-decoration-color: #008080\">      test_f1ma_epoch      </span>│<span style=\"color: #800080; text-decoration-color: #800080\">    0.12775494158267975    </span>│\n",
       "│<span style=\"color: #008080; text-decoration-color: #008080\">      test_ham_epoch       </span>│<span style=\"color: #800080; text-decoration-color: #800080\">    0.2969518005847931     </span>│\n",
       "│<span style=\"color: #008080; text-decoration-color: #008080\">      test_loss_epoch      </span>│<span style=\"color: #800080; text-decoration-color: #800080\">    0.5731253027915955     </span>│\n",
       "└───────────────────────────┴───────────────────────────┘\n",
       "</pre>\n"
      ],
      "text/plain": [
       "┏━━━━━━━━━━━━━━━━━━━━━━━━━━━┳━━━━━━━━━━━━━━━━━━━━━━━━━━━┓\n",
       "┃\u001b[1m \u001b[0m\u001b[1m       Test metric       \u001b[0m\u001b[1m \u001b[0m┃\u001b[1m \u001b[0m\u001b[1m      DataLoader 0       \u001b[0m\u001b[1m \u001b[0m┃\n",
       "┡━━━━━━━━━━━━━━━━━━━━━━━━━━━╇━━━━━━━━━━━━━━━━━━━━━━━━━━━┩\n",
       "│\u001b[36m \u001b[0m\u001b[36m     test_f1ma_epoch     \u001b[0m\u001b[36m \u001b[0m│\u001b[35m \u001b[0m\u001b[35m   0.12775494158267975   \u001b[0m\u001b[35m \u001b[0m│\n",
       "│\u001b[36m \u001b[0m\u001b[36m     test_ham_epoch      \u001b[0m\u001b[36m \u001b[0m│\u001b[35m \u001b[0m\u001b[35m   0.2969518005847931    \u001b[0m\u001b[35m \u001b[0m│\n",
       "│\u001b[36m \u001b[0m\u001b[36m     test_loss_epoch     \u001b[0m\u001b[36m \u001b[0m│\u001b[35m \u001b[0m\u001b[35m   0.5731253027915955    \u001b[0m\u001b[35m \u001b[0m│\n",
       "└───────────────────────────┴───────────────────────────┘\n"
      ]
     },
     "metadata": {},
     "output_type": "display_data"
    },
    {
     "name": "stdout",
     "output_type": "stream",
     "text": [
      "  loss: 0.5731 | hamming: 0.2970 | f1_macro: 0.1278\n",
      "\n",
      "F1-macro promedio: 0.1729 ± 0.0263\n",
      "Hamming promedio: 0.3256 ± 0.0186\n",
      "Pérdida promedio:         0.6283 ± 0.0219\n",
      "HU=[256, 128, 64]  L2=0.01 → val_f1ma: 0.1729\n",
      "Fold 1/10\n"
     ]
    },
    {
     "name": "stderr",
     "output_type": "stream",
     "text": [
      "GPU available: True (mps), used: False\n",
      "TPU available: False, using: 0 TPU cores\n",
      "HPU available: False, using: 0 HPUs\n",
      "\n",
      "  | Name       | Type                      | Params | Mode \n",
      "-----------------------------------------------------------------\n",
      "0 | classifier | Sequential                | 240 K  | train\n",
      "1 | loss       | BCEWithLogitsLoss         | 0      | train\n",
      "2 | hamming    | MultilabelHammingDistance | 0      | train\n",
      "3 | f1_macro   | MultilabelF1Score         | 0      | train\n",
      "-----------------------------------------------------------------\n",
      "240 K     Trainable params\n",
      "0         Non-trainable params\n",
      "240 K     Total params\n",
      "0.961     Total estimated model params size (MB)\n",
      "17        Modules in train mode\n",
      "0         Modules in eval mode\n"
     ]
    },
    {
     "name": "stdout",
     "output_type": "stream",
     "text": [
      "Epoch 10: 100%|██████████| 34/34 [00:00<00:00, 152.94it/s, v_num=130, train_loss=0.561, train_ham=0.310, train_f1ma=0.275, val_loss_step=0.538, val_ham_step=0.368, val_f1ma_step=0.0795, val_loss_epoch=0.555, val_ham_epoch=0.288, val_f1ma_epoch=0.171]"
     ]
    },
    {
     "name": "stderr",
     "output_type": "stream",
     "text": [
      "Restoring states from the checkpoint path at /Users/benjaminvaca/Documents/USFQ/semestre7/machine_learning/proyecto/lightning_logs/version_130/checkpoints/epoch=7-step=272.ckpt\n"
     ]
    },
    {
     "name": "stdout",
     "output_type": "stream",
     "text": [
      "\n"
     ]
    },
    {
     "name": "stderr",
     "output_type": "stream",
     "text": [
      "Loaded model weights from the checkpoint at /Users/benjaminvaca/Documents/USFQ/semestre7/machine_learning/proyecto/lightning_logs/version_130/checkpoints/epoch=7-step=272.ckpt\n"
     ]
    },
    {
     "name": "stdout",
     "output_type": "stream",
     "text": [
      "Validation DataLoader 0: 100%|██████████| 34/34 [00:00<00:00, 505.33it/s]"
     ]
    },
    {
     "name": "stderr",
     "output_type": "stream",
     "text": [
      "Restoring states from the checkpoint path at /Users/benjaminvaca/Documents/USFQ/semestre7/machine_learning/proyecto/lightning_logs/version_130/checkpoints/epoch=7-step=272.ckpt\n"
     ]
    },
    {
     "name": "stdout",
     "output_type": "stream",
     "text": [
      "\n"
     ]
    },
    {
     "name": "stderr",
     "output_type": "stream",
     "text": [
      "Loaded model weights from the checkpoint at /Users/benjaminvaca/Documents/USFQ/semestre7/machine_learning/proyecto/lightning_logs/version_130/checkpoints/epoch=7-step=272.ckpt\n"
     ]
    },
    {
     "name": "stdout",
     "output_type": "stream",
     "text": [
      "Validation DataLoader 0: 100%|██████████| 9/9 [00:00<00:00, 480.59it/s]\n"
     ]
    },
    {
     "name": "stderr",
     "output_type": "stream",
     "text": [
      "Restoring states from the checkpoint path at /Users/benjaminvaca/Documents/USFQ/semestre7/machine_learning/proyecto/lightning_logs/version_130/checkpoints/epoch=7-step=272.ckpt\n",
      "Loaded model weights from the checkpoint at /Users/benjaminvaca/Documents/USFQ/semestre7/machine_learning/proyecto/lightning_logs/version_130/checkpoints/epoch=7-step=272.ckpt\n"
     ]
    },
    {
     "name": "stdout",
     "output_type": "stream",
     "text": [
      "Testing DataLoader 0: 100%|██████████| 11/11 [00:00<00:00, 508.85it/s]\n"
     ]
    },
    {
     "data": {
      "text/html": [
       "<pre style=\"white-space:pre;overflow-x:auto;line-height:normal;font-family:Menlo,'DejaVu Sans Mono',consolas,'Courier New',monospace\">┏━━━━━━━━━━━━━━━━━━━━━━━━━━━┳━━━━━━━━━━━━━━━━━━━━━━━━━━━┓\n",
       "┃<span style=\"font-weight: bold\">        Test metric        </span>┃<span style=\"font-weight: bold\">       DataLoader 0        </span>┃\n",
       "┡━━━━━━━━━━━━━━━━━━━━━━━━━━━╇━━━━━━━━━━━━━━━━━━━━━━━━━━━┩\n",
       "│<span style=\"color: #008080; text-decoration-color: #008080\">      test_f1ma_epoch      </span>│<span style=\"color: #800080; text-decoration-color: #800080\">    0.14997826516628265    </span>│\n",
       "│<span style=\"color: #008080; text-decoration-color: #008080\">      test_ham_epoch       </span>│<span style=\"color: #800080; text-decoration-color: #800080\">    0.2910521328449249     </span>│\n",
       "│<span style=\"color: #008080; text-decoration-color: #008080\">      test_loss_epoch      </span>│<span style=\"color: #800080; text-decoration-color: #800080\">    0.5602818727493286     </span>│\n",
       "└───────────────────────────┴───────────────────────────┘\n",
       "</pre>\n"
      ],
      "text/plain": [
       "┏━━━━━━━━━━━━━━━━━━━━━━━━━━━┳━━━━━━━━━━━━━━━━━━━━━━━━━━━┓\n",
       "┃\u001b[1m \u001b[0m\u001b[1m       Test metric       \u001b[0m\u001b[1m \u001b[0m┃\u001b[1m \u001b[0m\u001b[1m      DataLoader 0       \u001b[0m\u001b[1m \u001b[0m┃\n",
       "┡━━━━━━━━━━━━━━━━━━━━━━━━━━━╇━━━━━━━━━━━━━━━━━━━━━━━━━━━┩\n",
       "│\u001b[36m \u001b[0m\u001b[36m     test_f1ma_epoch     \u001b[0m\u001b[36m \u001b[0m│\u001b[35m \u001b[0m\u001b[35m   0.14997826516628265   \u001b[0m\u001b[35m \u001b[0m│\n",
       "│\u001b[36m \u001b[0m\u001b[36m     test_ham_epoch      \u001b[0m\u001b[36m \u001b[0m│\u001b[35m \u001b[0m\u001b[35m   0.2910521328449249    \u001b[0m\u001b[35m \u001b[0m│\n",
       "│\u001b[36m \u001b[0m\u001b[36m     test_loss_epoch     \u001b[0m\u001b[36m \u001b[0m│\u001b[35m \u001b[0m\u001b[35m   0.5602818727493286    \u001b[0m\u001b[35m \u001b[0m│\n",
       "└───────────────────────────┴───────────────────────────┘\n"
      ]
     },
     "metadata": {},
     "output_type": "display_data"
    },
    {
     "name": "stdout",
     "output_type": "stream",
     "text": [
      "  loss: 0.5603 | hamming: 0.2911 | f1_macro: 0.1500\n",
      "Fold 2/10\n"
     ]
    },
    {
     "name": "stderr",
     "output_type": "stream",
     "text": [
      "GPU available: True (mps), used: False\n",
      "TPU available: False, using: 0 TPU cores\n",
      "HPU available: False, using: 0 HPUs\n",
      "\n",
      "  | Name       | Type                      | Params | Mode \n",
      "-----------------------------------------------------------------\n",
      "0 | classifier | Sequential                | 240 K  | train\n",
      "1 | loss       | BCEWithLogitsLoss         | 0      | train\n",
      "2 | hamming    | MultilabelHammingDistance | 0      | train\n",
      "3 | f1_macro   | MultilabelF1Score         | 0      | train\n",
      "-----------------------------------------------------------------\n",
      "240 K     Trainable params\n",
      "0         Non-trainable params\n",
      "240 K     Total params\n",
      "0.961     Total estimated model params size (MB)\n",
      "17        Modules in train mode\n",
      "0         Modules in eval mode\n"
     ]
    },
    {
     "name": "stdout",
     "output_type": "stream",
     "text": [
      "Epoch 3: 100%|██████████| 34/34 [00:00<00:00, 214.39it/s, v_num=131, train_loss=0.571, train_ham=0.299, train_f1ma=0.266, val_loss_step=0.622, val_ham_step=0.438, val_f1ma_step=0.0131, val_loss_epoch=0.572, val_ham_epoch=0.301, val_f1ma_epoch=0.152]\n"
     ]
    },
    {
     "name": "stderr",
     "output_type": "stream",
     "text": [
      "Restoring states from the checkpoint path at /Users/benjaminvaca/Documents/USFQ/semestre7/machine_learning/proyecto/lightning_logs/version_131/checkpoints/epoch=0-step=34.ckpt\n",
      "Loaded model weights from the checkpoint at /Users/benjaminvaca/Documents/USFQ/semestre7/machine_learning/proyecto/lightning_logs/version_131/checkpoints/epoch=0-step=34.ckpt\n"
     ]
    },
    {
     "name": "stdout",
     "output_type": "stream",
     "text": [
      "Validation DataLoader 0: 100%|██████████| 34/34 [00:00<00:00, 538.63it/s]\n"
     ]
    },
    {
     "name": "stderr",
     "output_type": "stream",
     "text": [
      "Restoring states from the checkpoint path at /Users/benjaminvaca/Documents/USFQ/semestre7/machine_learning/proyecto/lightning_logs/version_131/checkpoints/epoch=0-step=34.ckpt\n",
      "Loaded model weights from the checkpoint at /Users/benjaminvaca/Documents/USFQ/semestre7/machine_learning/proyecto/lightning_logs/version_131/checkpoints/epoch=0-step=34.ckpt\n"
     ]
    },
    {
     "name": "stdout",
     "output_type": "stream",
     "text": [
      "Validation DataLoader 0: 100%|██████████| 9/9 [00:00<00:00, 514.79it/s]"
     ]
    },
    {
     "name": "stderr",
     "output_type": "stream",
     "text": [
      "Restoring states from the checkpoint path at /Users/benjaminvaca/Documents/USFQ/semestre7/machine_learning/proyecto/lightning_logs/version_131/checkpoints/epoch=0-step=34.ckpt\n"
     ]
    },
    {
     "name": "stdout",
     "output_type": "stream",
     "text": [
      "\n"
     ]
    },
    {
     "name": "stderr",
     "output_type": "stream",
     "text": [
      "Loaded model weights from the checkpoint at /Users/benjaminvaca/Documents/USFQ/semestre7/machine_learning/proyecto/lightning_logs/version_131/checkpoints/epoch=0-step=34.ckpt\n"
     ]
    },
    {
     "name": "stdout",
     "output_type": "stream",
     "text": [
      "Testing DataLoader 0: 100%|██████████| 11/11 [00:00<00:00, 485.52it/s]\n"
     ]
    },
    {
     "data": {
      "text/html": [
       "<pre style=\"white-space:pre;overflow-x:auto;line-height:normal;font-family:Menlo,'DejaVu Sans Mono',consolas,'Courier New',monospace\">┏━━━━━━━━━━━━━━━━━━━━━━━━━━━┳━━━━━━━━━━━━━━━━━━━━━━━━━━━┓\n",
       "┃<span style=\"font-weight: bold\">        Test metric        </span>┃<span style=\"font-weight: bold\">       DataLoader 0        </span>┃\n",
       "┡━━━━━━━━━━━━━━━━━━━━━━━━━━━╇━━━━━━━━━━━━━━━━━━━━━━━━━━━┩\n",
       "│<span style=\"color: #008080; text-decoration-color: #008080\">      test_f1ma_epoch      </span>│<span style=\"color: #800080; text-decoration-color: #800080\">    0.18348199129104614    </span>│\n",
       "│<span style=\"color: #008080; text-decoration-color: #008080\">      test_ham_epoch       </span>│<span style=\"color: #800080; text-decoration-color: #800080\">    0.3218616843223572     </span>│\n",
       "│<span style=\"color: #008080; text-decoration-color: #008080\">      test_loss_epoch      </span>│<span style=\"color: #800080; text-decoration-color: #800080\">    0.6212949752807617     </span>│\n",
       "└───────────────────────────┴───────────────────────────┘\n",
       "</pre>\n"
      ],
      "text/plain": [
       "┏━━━━━━━━━━━━━━━━━━━━━━━━━━━┳━━━━━━━━━━━━━━━━━━━━━━━━━━━┓\n",
       "┃\u001b[1m \u001b[0m\u001b[1m       Test metric       \u001b[0m\u001b[1m \u001b[0m┃\u001b[1m \u001b[0m\u001b[1m      DataLoader 0       \u001b[0m\u001b[1m \u001b[0m┃\n",
       "┡━━━━━━━━━━━━━━━━━━━━━━━━━━━╇━━━━━━━━━━━━━━━━━━━━━━━━━━━┩\n",
       "│\u001b[36m \u001b[0m\u001b[36m     test_f1ma_epoch     \u001b[0m\u001b[36m \u001b[0m│\u001b[35m \u001b[0m\u001b[35m   0.18348199129104614   \u001b[0m\u001b[35m \u001b[0m│\n",
       "│\u001b[36m \u001b[0m\u001b[36m     test_ham_epoch      \u001b[0m\u001b[36m \u001b[0m│\u001b[35m \u001b[0m\u001b[35m   0.3218616843223572    \u001b[0m\u001b[35m \u001b[0m│\n",
       "│\u001b[36m \u001b[0m\u001b[36m     test_loss_epoch     \u001b[0m\u001b[36m \u001b[0m│\u001b[35m \u001b[0m\u001b[35m   0.6212949752807617    \u001b[0m\u001b[35m \u001b[0m│\n",
       "└───────────────────────────┴───────────────────────────┘\n"
      ]
     },
     "metadata": {},
     "output_type": "display_data"
    },
    {
     "name": "stdout",
     "output_type": "stream",
     "text": [
      "  loss: 0.6213 | hamming: 0.3219 | f1_macro: 0.1835\n",
      "Fold 3/10\n"
     ]
    },
    {
     "name": "stderr",
     "output_type": "stream",
     "text": [
      "GPU available: True (mps), used: False\n",
      "TPU available: False, using: 0 TPU cores\n",
      "HPU available: False, using: 0 HPUs\n",
      "\n",
      "  | Name       | Type                      | Params | Mode \n",
      "-----------------------------------------------------------------\n",
      "0 | classifier | Sequential                | 240 K  | train\n",
      "1 | loss       | BCEWithLogitsLoss         | 0      | train\n",
      "2 | hamming    | MultilabelHammingDistance | 0      | train\n",
      "3 | f1_macro   | MultilabelF1Score         | 0      | train\n",
      "-----------------------------------------------------------------\n",
      "240 K     Trainable params\n",
      "0         Non-trainable params\n",
      "240 K     Total params\n",
      "0.961     Total estimated model params size (MB)\n",
      "17        Modules in train mode\n",
      "0         Modules in eval mode\n"
     ]
    },
    {
     "name": "stdout",
     "output_type": "stream",
     "text": [
      "Epoch 5: 100%|██████████| 34/34 [00:00<00:00, 203.43it/s, v_num=132, train_loss=0.583, train_ham=0.330, train_f1ma=0.223, val_loss_step=0.538, val_ham_step=0.415, val_f1ma_step=0.040, val_loss_epoch=0.572, val_ham_epoch=0.296, val_f1ma_epoch=0.159] \n"
     ]
    },
    {
     "name": "stderr",
     "output_type": "stream",
     "text": [
      "Restoring states from the checkpoint path at /Users/benjaminvaca/Documents/USFQ/semestre7/machine_learning/proyecto/lightning_logs/version_132/checkpoints/epoch=2-step=102.ckpt\n",
      "Loaded model weights from the checkpoint at /Users/benjaminvaca/Documents/USFQ/semestre7/machine_learning/proyecto/lightning_logs/version_132/checkpoints/epoch=2-step=102.ckpt\n"
     ]
    },
    {
     "name": "stdout",
     "output_type": "stream",
     "text": [
      "Validation DataLoader 0: 100%|██████████| 34/34 [00:00<00:00, 516.26it/s]\n"
     ]
    },
    {
     "name": "stderr",
     "output_type": "stream",
     "text": [
      "Restoring states from the checkpoint path at /Users/benjaminvaca/Documents/USFQ/semestre7/machine_learning/proyecto/lightning_logs/version_132/checkpoints/epoch=2-step=102.ckpt\n",
      "Loaded model weights from the checkpoint at /Users/benjaminvaca/Documents/USFQ/semestre7/machine_learning/proyecto/lightning_logs/version_132/checkpoints/epoch=2-step=102.ckpt\n"
     ]
    },
    {
     "name": "stdout",
     "output_type": "stream",
     "text": [
      "Validation DataLoader 0: 100%|██████████| 9/9 [00:00<00:00, 488.90it/s]"
     ]
    },
    {
     "name": "stderr",
     "output_type": "stream",
     "text": [
      "Restoring states from the checkpoint path at /Users/benjaminvaca/Documents/USFQ/semestre7/machine_learning/proyecto/lightning_logs/version_132/checkpoints/epoch=2-step=102.ckpt\n"
     ]
    },
    {
     "name": "stdout",
     "output_type": "stream",
     "text": [
      "\n"
     ]
    },
    {
     "name": "stderr",
     "output_type": "stream",
     "text": [
      "Loaded model weights from the checkpoint at /Users/benjaminvaca/Documents/USFQ/semestre7/machine_learning/proyecto/lightning_logs/version_132/checkpoints/epoch=2-step=102.ckpt\n"
     ]
    },
    {
     "name": "stdout",
     "output_type": "stream",
     "text": [
      "Testing DataLoader 0: 100%|██████████| 11/11 [00:00<00:00, 465.88it/s]\n"
     ]
    },
    {
     "data": {
      "text/html": [
       "<pre style=\"white-space:pre;overflow-x:auto;line-height:normal;font-family:Menlo,'DejaVu Sans Mono',consolas,'Courier New',monospace\">┏━━━━━━━━━━━━━━━━━━━━━━━━━━━┳━━━━━━━━━━━━━━━━━━━━━━━━━━━┓\n",
       "┃<span style=\"font-weight: bold\">        Test metric        </span>┃<span style=\"font-weight: bold\">       DataLoader 0        </span>┃\n",
       "┡━━━━━━━━━━━━━━━━━━━━━━━━━━━╇━━━━━━━━━━━━━━━━━━━━━━━━━━━┩\n",
       "│<span style=\"color: #008080; text-decoration-color: #008080\">      test_f1ma_epoch      </span>│<span style=\"color: #800080; text-decoration-color: #800080\">     0.155185267329216     </span>│\n",
       "│<span style=\"color: #008080; text-decoration-color: #008080\">      test_ham_epoch       </span>│<span style=\"color: #800080; text-decoration-color: #800080\">    0.2913798689842224     </span>│\n",
       "│<span style=\"color: #008080; text-decoration-color: #008080\">      test_loss_epoch      </span>│<span style=\"color: #800080; text-decoration-color: #800080\">    0.5812886953353882     </span>│\n",
       "└───────────────────────────┴───────────────────────────┘\n",
       "</pre>\n"
      ],
      "text/plain": [
       "┏━━━━━━━━━━━━━━━━━━━━━━━━━━━┳━━━━━━━━━━━━━━━━━━━━━━━━━━━┓\n",
       "┃\u001b[1m \u001b[0m\u001b[1m       Test metric       \u001b[0m\u001b[1m \u001b[0m┃\u001b[1m \u001b[0m\u001b[1m      DataLoader 0       \u001b[0m\u001b[1m \u001b[0m┃\n",
       "┡━━━━━━━━━━━━━━━━━━━━━━━━━━━╇━━━━━━━━━━━━━━━━━━━━━━━━━━━┩\n",
       "│\u001b[36m \u001b[0m\u001b[36m     test_f1ma_epoch     \u001b[0m\u001b[36m \u001b[0m│\u001b[35m \u001b[0m\u001b[35m    0.155185267329216    \u001b[0m\u001b[35m \u001b[0m│\n",
       "│\u001b[36m \u001b[0m\u001b[36m     test_ham_epoch      \u001b[0m\u001b[36m \u001b[0m│\u001b[35m \u001b[0m\u001b[35m   0.2913798689842224    \u001b[0m\u001b[35m \u001b[0m│\n",
       "│\u001b[36m \u001b[0m\u001b[36m     test_loss_epoch     \u001b[0m\u001b[36m \u001b[0m│\u001b[35m \u001b[0m\u001b[35m   0.5812886953353882    \u001b[0m\u001b[35m \u001b[0m│\n",
       "└───────────────────────────┴───────────────────────────┘\n"
      ]
     },
     "metadata": {},
     "output_type": "display_data"
    },
    {
     "name": "stdout",
     "output_type": "stream",
     "text": [
      "  loss: 0.5813 | hamming: 0.2914 | f1_macro: 0.1552\n",
      "Fold 4/10\n"
     ]
    },
    {
     "name": "stderr",
     "output_type": "stream",
     "text": [
      "GPU available: True (mps), used: False\n",
      "TPU available: False, using: 0 TPU cores\n",
      "HPU available: False, using: 0 HPUs\n",
      "\n",
      "  | Name       | Type                      | Params | Mode \n",
      "-----------------------------------------------------------------\n",
      "0 | classifier | Sequential                | 240 K  | train\n",
      "1 | loss       | BCEWithLogitsLoss         | 0      | train\n",
      "2 | hamming    | MultilabelHammingDistance | 0      | train\n",
      "3 | f1_macro   | MultilabelF1Score         | 0      | train\n",
      "-----------------------------------------------------------------\n",
      "240 K     Trainable params\n",
      "0         Non-trainable params\n",
      "240 K     Total params\n",
      "0.961     Total estimated model params size (MB)\n",
      "17        Modules in train mode\n",
      "0         Modules in eval mode\n"
     ]
    },
    {
     "name": "stdout",
     "output_type": "stream",
     "text": [
      "Epoch 3: 100%|██████████| 34/34 [00:00<00:00, 208.05it/s, v_num=133, train_loss=0.560, train_ham=0.293, train_f1ma=0.294, val_loss_step=0.581, val_ham_step=0.385, val_f1ma_step=0.0607, val_loss_epoch=0.572, val_ham_epoch=0.297, val_f1ma_epoch=0.149]"
     ]
    },
    {
     "name": "stderr",
     "output_type": "stream",
     "text": [
      "Restoring states from the checkpoint path at /Users/benjaminvaca/Documents/USFQ/semestre7/machine_learning/proyecto/lightning_logs/version_133/checkpoints/epoch=0-step=34.ckpt\n"
     ]
    },
    {
     "name": "stdout",
     "output_type": "stream",
     "text": [
      "\n"
     ]
    },
    {
     "name": "stderr",
     "output_type": "stream",
     "text": [
      "Loaded model weights from the checkpoint at /Users/benjaminvaca/Documents/USFQ/semestre7/machine_learning/proyecto/lightning_logs/version_133/checkpoints/epoch=0-step=34.ckpt\n"
     ]
    },
    {
     "name": "stdout",
     "output_type": "stream",
     "text": [
      "Validation DataLoader 0: 100%|██████████| 34/34 [00:00<00:00, 515.79it/s]\n"
     ]
    },
    {
     "name": "stderr",
     "output_type": "stream",
     "text": [
      "Restoring states from the checkpoint path at /Users/benjaminvaca/Documents/USFQ/semestre7/machine_learning/proyecto/lightning_logs/version_133/checkpoints/epoch=0-step=34.ckpt\n",
      "Loaded model weights from the checkpoint at /Users/benjaminvaca/Documents/USFQ/semestre7/machine_learning/proyecto/lightning_logs/version_133/checkpoints/epoch=0-step=34.ckpt\n"
     ]
    },
    {
     "name": "stdout",
     "output_type": "stream",
     "text": [
      "Validation DataLoader 0: 100%|██████████| 9/9 [00:00<00:00, 497.16it/s]"
     ]
    },
    {
     "name": "stderr",
     "output_type": "stream",
     "text": [
      "Restoring states from the checkpoint path at /Users/benjaminvaca/Documents/USFQ/semestre7/machine_learning/proyecto/lightning_logs/version_133/checkpoints/epoch=0-step=34.ckpt\n"
     ]
    },
    {
     "name": "stdout",
     "output_type": "stream",
     "text": [
      "\n"
     ]
    },
    {
     "name": "stderr",
     "output_type": "stream",
     "text": [
      "Loaded model weights from the checkpoint at /Users/benjaminvaca/Documents/USFQ/semestre7/machine_learning/proyecto/lightning_logs/version_133/checkpoints/epoch=0-step=34.ckpt\n"
     ]
    },
    {
     "name": "stdout",
     "output_type": "stream",
     "text": [
      "Testing DataLoader 0: 100%|██████████| 11/11 [00:00<00:00, 517.55it/s]\n"
     ]
    },
    {
     "data": {
      "text/html": [
       "<pre style=\"white-space:pre;overflow-x:auto;line-height:normal;font-family:Menlo,'DejaVu Sans Mono',consolas,'Courier New',monospace\">┏━━━━━━━━━━━━━━━━━━━━━━━━━━━┳━━━━━━━━━━━━━━━━━━━━━━━━━━━┓\n",
       "┃<span style=\"font-weight: bold\">        Test metric        </span>┃<span style=\"font-weight: bold\">       DataLoader 0        </span>┃\n",
       "┡━━━━━━━━━━━━━━━━━━━━━━━━━━━╇━━━━━━━━━━━━━━━━━━━━━━━━━━━┩\n",
       "│<span style=\"color: #008080; text-decoration-color: #008080\">      test_f1ma_epoch      </span>│<span style=\"color: #800080; text-decoration-color: #800080\">    0.1983606368303299     </span>│\n",
       "│<span style=\"color: #008080; text-decoration-color: #008080\">      test_ham_epoch       </span>│<span style=\"color: #800080; text-decoration-color: #800080\">    0.31563419103622437    </span>│\n",
       "│<span style=\"color: #008080; text-decoration-color: #008080\">      test_loss_epoch      </span>│<span style=\"color: #800080; text-decoration-color: #800080\">    0.6262832283973694     </span>│\n",
       "└───────────────────────────┴───────────────────────────┘\n",
       "</pre>\n"
      ],
      "text/plain": [
       "┏━━━━━━━━━━━━━━━━━━━━━━━━━━━┳━━━━━━━━━━━━━━━━━━━━━━━━━━━┓\n",
       "┃\u001b[1m \u001b[0m\u001b[1m       Test metric       \u001b[0m\u001b[1m \u001b[0m┃\u001b[1m \u001b[0m\u001b[1m      DataLoader 0       \u001b[0m\u001b[1m \u001b[0m┃\n",
       "┡━━━━━━━━━━━━━━━━━━━━━━━━━━━╇━━━━━━━━━━━━━━━━━━━━━━━━━━━┩\n",
       "│\u001b[36m \u001b[0m\u001b[36m     test_f1ma_epoch     \u001b[0m\u001b[36m \u001b[0m│\u001b[35m \u001b[0m\u001b[35m   0.1983606368303299    \u001b[0m\u001b[35m \u001b[0m│\n",
       "│\u001b[36m \u001b[0m\u001b[36m     test_ham_epoch      \u001b[0m\u001b[36m \u001b[0m│\u001b[35m \u001b[0m\u001b[35m   0.31563419103622437   \u001b[0m\u001b[35m \u001b[0m│\n",
       "│\u001b[36m \u001b[0m\u001b[36m     test_loss_epoch     \u001b[0m\u001b[36m \u001b[0m│\u001b[35m \u001b[0m\u001b[35m   0.6262832283973694    \u001b[0m\u001b[35m \u001b[0m│\n",
       "└───────────────────────────┴───────────────────────────┘\n"
      ]
     },
     "metadata": {},
     "output_type": "display_data"
    },
    {
     "name": "stdout",
     "output_type": "stream",
     "text": [
      "  loss: 0.6263 | hamming: 0.3156 | f1_macro: 0.1984\n",
      "Fold 5/10\n"
     ]
    },
    {
     "name": "stderr",
     "output_type": "stream",
     "text": [
      "GPU available: True (mps), used: False\n",
      "TPU available: False, using: 0 TPU cores\n",
      "HPU available: False, using: 0 HPUs\n",
      "\n",
      "  | Name       | Type                      | Params | Mode \n",
      "-----------------------------------------------------------------\n",
      "0 | classifier | Sequential                | 240 K  | train\n",
      "1 | loss       | BCEWithLogitsLoss         | 0      | train\n",
      "2 | hamming    | MultilabelHammingDistance | 0      | train\n",
      "3 | f1_macro   | MultilabelF1Score         | 0      | train\n",
      "-----------------------------------------------------------------\n",
      "240 K     Trainable params\n",
      "0         Non-trainable params\n",
      "240 K     Total params\n",
      "0.961     Total estimated model params size (MB)\n",
      "17        Modules in train mode\n",
      "0         Modules in eval mode\n"
     ]
    },
    {
     "name": "stdout",
     "output_type": "stream",
     "text": [
      "Epoch 3: 100%|██████████| 34/34 [00:00<00:00, 188.82it/s, v_num=134, train_loss=0.531, train_ham=0.233, train_f1ma=0.395, val_loss_step=0.566, val_ham_step=0.393, val_f1ma_step=0.0468, val_loss_epoch=0.567, val_ham_epoch=0.289, val_f1ma_epoch=0.167]"
     ]
    },
    {
     "name": "stderr",
     "output_type": "stream",
     "text": [
      "Restoring states from the checkpoint path at /Users/benjaminvaca/Documents/USFQ/semestre7/machine_learning/proyecto/lightning_logs/version_134/checkpoints/epoch=0-step=34.ckpt\n"
     ]
    },
    {
     "name": "stdout",
     "output_type": "stream",
     "text": [
      "\n"
     ]
    },
    {
     "name": "stderr",
     "output_type": "stream",
     "text": [
      "Loaded model weights from the checkpoint at /Users/benjaminvaca/Documents/USFQ/semestre7/machine_learning/proyecto/lightning_logs/version_134/checkpoints/epoch=0-step=34.ckpt\n"
     ]
    },
    {
     "name": "stdout",
     "output_type": "stream",
     "text": [
      "Validation DataLoader 0: 100%|██████████| 34/34 [00:00<00:00, 556.66it/s]\n"
     ]
    },
    {
     "name": "stderr",
     "output_type": "stream",
     "text": [
      "Restoring states from the checkpoint path at /Users/benjaminvaca/Documents/USFQ/semestre7/machine_learning/proyecto/lightning_logs/version_134/checkpoints/epoch=0-step=34.ckpt\n",
      "Loaded model weights from the checkpoint at /Users/benjaminvaca/Documents/USFQ/semestre7/machine_learning/proyecto/lightning_logs/version_134/checkpoints/epoch=0-step=34.ckpt\n"
     ]
    },
    {
     "name": "stdout",
     "output_type": "stream",
     "text": [
      "Validation DataLoader 0: 100%|██████████| 9/9 [00:00<00:00, 532.35it/s]"
     ]
    },
    {
     "name": "stderr",
     "output_type": "stream",
     "text": [
      "Restoring states from the checkpoint path at /Users/benjaminvaca/Documents/USFQ/semestre7/machine_learning/proyecto/lightning_logs/version_134/checkpoints/epoch=0-step=34.ckpt\n"
     ]
    },
    {
     "name": "stdout",
     "output_type": "stream",
     "text": [
      "\n"
     ]
    },
    {
     "name": "stderr",
     "output_type": "stream",
     "text": [
      "Loaded model weights from the checkpoint at /Users/benjaminvaca/Documents/USFQ/semestre7/machine_learning/proyecto/lightning_logs/version_134/checkpoints/epoch=0-step=34.ckpt\n"
     ]
    },
    {
     "name": "stdout",
     "output_type": "stream",
     "text": [
      "Testing DataLoader 0: 100%|██████████| 11/11 [00:00<00:00, 523.68it/s]\n"
     ]
    },
    {
     "data": {
      "text/html": [
       "<pre style=\"white-space:pre;overflow-x:auto;line-height:normal;font-family:Menlo,'DejaVu Sans Mono',consolas,'Courier New',monospace\">┏━━━━━━━━━━━━━━━━━━━━━━━━━━━┳━━━━━━━━━━━━━━━━━━━━━━━━━━━┓\n",
       "┃<span style=\"font-weight: bold\">        Test metric        </span>┃<span style=\"font-weight: bold\">       DataLoader 0        </span>┃\n",
       "┡━━━━━━━━━━━━━━━━━━━━━━━━━━━╇━━━━━━━━━━━━━━━━━━━━━━━━━━━┩\n",
       "│<span style=\"color: #008080; text-decoration-color: #008080\">      test_f1ma_epoch      </span>│<span style=\"color: #800080; text-decoration-color: #800080\">    0.17537841200828552    </span>│\n",
       "│<span style=\"color: #008080; text-decoration-color: #008080\">      test_ham_epoch       </span>│<span style=\"color: #800080; text-decoration-color: #800080\">    0.34677156805992126    </span>│\n",
       "│<span style=\"color: #008080; text-decoration-color: #008080\">      test_loss_epoch      </span>│<span style=\"color: #800080; text-decoration-color: #800080\">    0.6329363584518433     </span>│\n",
       "└───────────────────────────┴───────────────────────────┘\n",
       "</pre>\n"
      ],
      "text/plain": [
       "┏━━━━━━━━━━━━━━━━━━━━━━━━━━━┳━━━━━━━━━━━━━━━━━━━━━━━━━━━┓\n",
       "┃\u001b[1m \u001b[0m\u001b[1m       Test metric       \u001b[0m\u001b[1m \u001b[0m┃\u001b[1m \u001b[0m\u001b[1m      DataLoader 0       \u001b[0m\u001b[1m \u001b[0m┃\n",
       "┡━━━━━━━━━━━━━━━━━━━━━━━━━━━╇━━━━━━━━━━━━━━━━━━━━━━━━━━━┩\n",
       "│\u001b[36m \u001b[0m\u001b[36m     test_f1ma_epoch     \u001b[0m\u001b[36m \u001b[0m│\u001b[35m \u001b[0m\u001b[35m   0.17537841200828552   \u001b[0m\u001b[35m \u001b[0m│\n",
       "│\u001b[36m \u001b[0m\u001b[36m     test_ham_epoch      \u001b[0m\u001b[36m \u001b[0m│\u001b[35m \u001b[0m\u001b[35m   0.34677156805992126   \u001b[0m\u001b[35m \u001b[0m│\n",
       "│\u001b[36m \u001b[0m\u001b[36m     test_loss_epoch     \u001b[0m\u001b[36m \u001b[0m│\u001b[35m \u001b[0m\u001b[35m   0.6329363584518433    \u001b[0m\u001b[35m \u001b[0m│\n",
       "└───────────────────────────┴───────────────────────────┘\n"
      ]
     },
     "metadata": {},
     "output_type": "display_data"
    },
    {
     "name": "stdout",
     "output_type": "stream",
     "text": [
      "  loss: 0.6329 | hamming: 0.3468 | f1_macro: 0.1754\n",
      "Fold 6/10\n"
     ]
    },
    {
     "name": "stderr",
     "output_type": "stream",
     "text": [
      "GPU available: True (mps), used: False\n",
      "TPU available: False, using: 0 TPU cores\n",
      "HPU available: False, using: 0 HPUs\n",
      "\n",
      "  | Name       | Type                      | Params | Mode \n",
      "-----------------------------------------------------------------\n",
      "0 | classifier | Sequential                | 240 K  | train\n",
      "1 | loss       | BCEWithLogitsLoss         | 0      | train\n",
      "2 | hamming    | MultilabelHammingDistance | 0      | train\n",
      "3 | f1_macro   | MultilabelF1Score         | 0      | train\n",
      "-----------------------------------------------------------------\n",
      "240 K     Trainable params\n",
      "0         Non-trainable params\n",
      "240 K     Total params\n",
      "0.961     Total estimated model params size (MB)\n",
      "17        Modules in train mode\n",
      "0         Modules in eval mode\n"
     ]
    },
    {
     "name": "stdout",
     "output_type": "stream",
     "text": [
      "Epoch 3: 100%|██████████| 34/34 [00:00<00:00, 207.78it/s, v_num=135, train_loss=0.585, train_ham=0.291, train_f1ma=0.301, val_loss_step=0.599, val_ham_step=0.361, val_f1ma_step=0.088, val_loss_epoch=0.568, val_ham_epoch=0.301, val_f1ma_epoch=0.142] \n"
     ]
    },
    {
     "name": "stderr",
     "output_type": "stream",
     "text": [
      "Restoring states from the checkpoint path at /Users/benjaminvaca/Documents/USFQ/semestre7/machine_learning/proyecto/lightning_logs/version_135/checkpoints/epoch=0-step=34.ckpt\n",
      "Loaded model weights from the checkpoint at /Users/benjaminvaca/Documents/USFQ/semestre7/machine_learning/proyecto/lightning_logs/version_135/checkpoints/epoch=0-step=34.ckpt\n"
     ]
    },
    {
     "name": "stdout",
     "output_type": "stream",
     "text": [
      "Validation DataLoader 0: 100%|██████████| 34/34 [00:00<00:00, 540.55it/s]\n"
     ]
    },
    {
     "name": "stderr",
     "output_type": "stream",
     "text": [
      "Restoring states from the checkpoint path at /Users/benjaminvaca/Documents/USFQ/semestre7/machine_learning/proyecto/lightning_logs/version_135/checkpoints/epoch=0-step=34.ckpt\n",
      "Loaded model weights from the checkpoint at /Users/benjaminvaca/Documents/USFQ/semestre7/machine_learning/proyecto/lightning_logs/version_135/checkpoints/epoch=0-step=34.ckpt\n"
     ]
    },
    {
     "name": "stdout",
     "output_type": "stream",
     "text": [
      "Validation DataLoader 0: 100%|██████████| 9/9 [00:00<00:00, 517.30it/s]"
     ]
    },
    {
     "name": "stderr",
     "output_type": "stream",
     "text": [
      "Restoring states from the checkpoint path at /Users/benjaminvaca/Documents/USFQ/semestre7/machine_learning/proyecto/lightning_logs/version_135/checkpoints/epoch=0-step=34.ckpt\n"
     ]
    },
    {
     "name": "stdout",
     "output_type": "stream",
     "text": [
      "\n"
     ]
    },
    {
     "name": "stderr",
     "output_type": "stream",
     "text": [
      "Loaded model weights from the checkpoint at /Users/benjaminvaca/Documents/USFQ/semestre7/machine_learning/proyecto/lightning_logs/version_135/checkpoints/epoch=0-step=34.ckpt\n"
     ]
    },
    {
     "name": "stdout",
     "output_type": "stream",
     "text": [
      "Testing DataLoader 0: 100%|██████████| 11/11 [00:00<00:00, 515.47it/s]\n"
     ]
    },
    {
     "data": {
      "text/html": [
       "<pre style=\"white-space:pre;overflow-x:auto;line-height:normal;font-family:Menlo,'DejaVu Sans Mono',consolas,'Courier New',monospace\">┏━━━━━━━━━━━━━━━━━━━━━━━━━━━┳━━━━━━━━━━━━━━━━━━━━━━━━━━━┓\n",
       "┃<span style=\"font-weight: bold\">        Test metric        </span>┃<span style=\"font-weight: bold\">       DataLoader 0        </span>┃\n",
       "┡━━━━━━━━━━━━━━━━━━━━━━━━━━━╇━━━━━━━━━━━━━━━━━━━━━━━━━━━┩\n",
       "│<span style=\"color: #008080; text-decoration-color: #008080\">      test_f1ma_epoch      </span>│<span style=\"color: #800080; text-decoration-color: #800080\">    0.13324177265167236    </span>│\n",
       "│<span style=\"color: #008080; text-decoration-color: #008080\">      test_ham_epoch       </span>│<span style=\"color: #800080; text-decoration-color: #800080\">    0.3136676251888275     </span>│\n",
       "│<span style=\"color: #008080; text-decoration-color: #008080\">      test_loss_epoch      </span>│<span style=\"color: #800080; text-decoration-color: #800080\">    0.6313782930374146     </span>│\n",
       "└───────────────────────────┴───────────────────────────┘\n",
       "</pre>\n"
      ],
      "text/plain": [
       "┏━━━━━━━━━━━━━━━━━━━━━━━━━━━┳━━━━━━━━━━━━━━━━━━━━━━━━━━━┓\n",
       "┃\u001b[1m \u001b[0m\u001b[1m       Test metric       \u001b[0m\u001b[1m \u001b[0m┃\u001b[1m \u001b[0m\u001b[1m      DataLoader 0       \u001b[0m\u001b[1m \u001b[0m┃\n",
       "┡━━━━━━━━━━━━━━━━━━━━━━━━━━━╇━━━━━━━━━━━━━━━━━━━━━━━━━━━┩\n",
       "│\u001b[36m \u001b[0m\u001b[36m     test_f1ma_epoch     \u001b[0m\u001b[36m \u001b[0m│\u001b[35m \u001b[0m\u001b[35m   0.13324177265167236   \u001b[0m\u001b[35m \u001b[0m│\n",
       "│\u001b[36m \u001b[0m\u001b[36m     test_ham_epoch      \u001b[0m\u001b[36m \u001b[0m│\u001b[35m \u001b[0m\u001b[35m   0.3136676251888275    \u001b[0m\u001b[35m \u001b[0m│\n",
       "│\u001b[36m \u001b[0m\u001b[36m     test_loss_epoch     \u001b[0m\u001b[36m \u001b[0m│\u001b[35m \u001b[0m\u001b[35m   0.6313782930374146    \u001b[0m\u001b[35m \u001b[0m│\n",
       "└───────────────────────────┴───────────────────────────┘\n"
      ]
     },
     "metadata": {},
     "output_type": "display_data"
    },
    {
     "name": "stdout",
     "output_type": "stream",
     "text": [
      "  loss: 0.6314 | hamming: 0.3137 | f1_macro: 0.1332\n",
      "Fold 7/10\n"
     ]
    },
    {
     "name": "stderr",
     "output_type": "stream",
     "text": [
      "GPU available: True (mps), used: False\n",
      "TPU available: False, using: 0 TPU cores\n",
      "HPU available: False, using: 0 HPUs\n",
      "\n",
      "  | Name       | Type                      | Params | Mode \n",
      "-----------------------------------------------------------------\n",
      "0 | classifier | Sequential                | 240 K  | train\n",
      "1 | loss       | BCEWithLogitsLoss         | 0      | train\n",
      "2 | hamming    | MultilabelHammingDistance | 0      | train\n",
      "3 | f1_macro   | MultilabelF1Score         | 0      | train\n",
      "-----------------------------------------------------------------\n",
      "240 K     Trainable params\n",
      "0         Non-trainable params\n",
      "240 K     Total params\n",
      "0.961     Total estimated model params size (MB)\n",
      "17        Modules in train mode\n",
      "0         Modules in eval mode\n"
     ]
    },
    {
     "name": "stdout",
     "output_type": "stream",
     "text": [
      "Epoch 3: 100%|██████████| 34/34 [00:00<00:00, 214.02it/s, v_num=136, train_loss=0.579, train_ham=0.330, train_f1ma=0.215, val_loss_step=0.564, val_ham_step=0.417, val_f1ma_step=0.0247, val_loss_epoch=0.575, val_ham_epoch=0.300, val_f1ma_epoch=0.138]\n"
     ]
    },
    {
     "name": "stderr",
     "output_type": "stream",
     "text": [
      "Restoring states from the checkpoint path at /Users/benjaminvaca/Documents/USFQ/semestre7/machine_learning/proyecto/lightning_logs/version_136/checkpoints/epoch=0-step=34.ckpt\n",
      "Loaded model weights from the checkpoint at /Users/benjaminvaca/Documents/USFQ/semestre7/machine_learning/proyecto/lightning_logs/version_136/checkpoints/epoch=0-step=34.ckpt\n"
     ]
    },
    {
     "name": "stdout",
     "output_type": "stream",
     "text": [
      "Validation DataLoader 0: 100%|██████████| 34/34 [00:00<00:00, 532.45it/s]"
     ]
    },
    {
     "name": "stderr",
     "output_type": "stream",
     "text": [
      "Restoring states from the checkpoint path at /Users/benjaminvaca/Documents/USFQ/semestre7/machine_learning/proyecto/lightning_logs/version_136/checkpoints/epoch=0-step=34.ckpt\n"
     ]
    },
    {
     "name": "stdout",
     "output_type": "stream",
     "text": [
      "\n"
     ]
    },
    {
     "name": "stderr",
     "output_type": "stream",
     "text": [
      "Loaded model weights from the checkpoint at /Users/benjaminvaca/Documents/USFQ/semestre7/machine_learning/proyecto/lightning_logs/version_136/checkpoints/epoch=0-step=34.ckpt\n"
     ]
    },
    {
     "name": "stdout",
     "output_type": "stream",
     "text": [
      "Validation DataLoader 0: 100%|██████████| 9/9 [00:00<00:00, 501.09it/s]\n"
     ]
    },
    {
     "name": "stderr",
     "output_type": "stream",
     "text": [
      "Restoring states from the checkpoint path at /Users/benjaminvaca/Documents/USFQ/semestre7/machine_learning/proyecto/lightning_logs/version_136/checkpoints/epoch=0-step=34.ckpt\n",
      "Loaded model weights from the checkpoint at /Users/benjaminvaca/Documents/USFQ/semestre7/machine_learning/proyecto/lightning_logs/version_136/checkpoints/epoch=0-step=34.ckpt\n"
     ]
    },
    {
     "name": "stdout",
     "output_type": "stream",
     "text": [
      "Testing DataLoader 0: 100%|██████████| 11/11 [00:00<00:00, 502.57it/s]\n"
     ]
    },
    {
     "data": {
      "text/html": [
       "<pre style=\"white-space:pre;overflow-x:auto;line-height:normal;font-family:Menlo,'DejaVu Sans Mono',consolas,'Courier New',monospace\">┏━━━━━━━━━━━━━━━━━━━━━━━━━━━┳━━━━━━━━━━━━━━━━━━━━━━━━━━━┓\n",
       "┃<span style=\"font-weight: bold\">        Test metric        </span>┃<span style=\"font-weight: bold\">       DataLoader 0        </span>┃\n",
       "┡━━━━━━━━━━━━━━━━━━━━━━━━━━━╇━━━━━━━━━━━━━━━━━━━━━━━━━━━┩\n",
       "│<span style=\"color: #008080; text-decoration-color: #008080\">      test_f1ma_epoch      </span>│<span style=\"color: #800080; text-decoration-color: #800080\">    0.2135966271162033     </span>│\n",
       "│<span style=\"color: #008080; text-decoration-color: #008080\">      test_ham_epoch       </span>│<span style=\"color: #800080; text-decoration-color: #800080\">    0.32087838649749756    </span>│\n",
       "│<span style=\"color: #008080; text-decoration-color: #008080\">      test_loss_epoch      </span>│<span style=\"color: #800080; text-decoration-color: #800080\">    0.6299422979354858     </span>│\n",
       "└───────────────────────────┴───────────────────────────┘\n",
       "</pre>\n"
      ],
      "text/plain": [
       "┏━━━━━━━━━━━━━━━━━━━━━━━━━━━┳━━━━━━━━━━━━━━━━━━━━━━━━━━━┓\n",
       "┃\u001b[1m \u001b[0m\u001b[1m       Test metric       \u001b[0m\u001b[1m \u001b[0m┃\u001b[1m \u001b[0m\u001b[1m      DataLoader 0       \u001b[0m\u001b[1m \u001b[0m┃\n",
       "┡━━━━━━━━━━━━━━━━━━━━━━━━━━━╇━━━━━━━━━━━━━━━━━━━━━━━━━━━┩\n",
       "│\u001b[36m \u001b[0m\u001b[36m     test_f1ma_epoch     \u001b[0m\u001b[36m \u001b[0m│\u001b[35m \u001b[0m\u001b[35m   0.2135966271162033    \u001b[0m\u001b[35m \u001b[0m│\n",
       "│\u001b[36m \u001b[0m\u001b[36m     test_ham_epoch      \u001b[0m\u001b[36m \u001b[0m│\u001b[35m \u001b[0m\u001b[35m   0.32087838649749756   \u001b[0m\u001b[35m \u001b[0m│\n",
       "│\u001b[36m \u001b[0m\u001b[36m     test_loss_epoch     \u001b[0m\u001b[36m \u001b[0m│\u001b[35m \u001b[0m\u001b[35m   0.6299422979354858    \u001b[0m\u001b[35m \u001b[0m│\n",
       "└───────────────────────────┴───────────────────────────┘\n"
      ]
     },
     "metadata": {},
     "output_type": "display_data"
    },
    {
     "name": "stdout",
     "output_type": "stream",
     "text": [
      "  loss: 0.6299 | hamming: 0.3209 | f1_macro: 0.2136\n",
      "Fold 8/10\n"
     ]
    },
    {
     "name": "stderr",
     "output_type": "stream",
     "text": [
      "GPU available: True (mps), used: False\n",
      "TPU available: False, using: 0 TPU cores\n",
      "HPU available: False, using: 0 HPUs\n",
      "\n",
      "  | Name       | Type                      | Params | Mode \n",
      "-----------------------------------------------------------------\n",
      "0 | classifier | Sequential                | 240 K  | train\n",
      "1 | loss       | BCEWithLogitsLoss         | 0      | train\n",
      "2 | hamming    | MultilabelHammingDistance | 0      | train\n",
      "3 | f1_macro   | MultilabelF1Score         | 0      | train\n",
      "-----------------------------------------------------------------\n",
      "240 K     Trainable params\n",
      "0         Non-trainable params\n",
      "240 K     Total params\n",
      "0.961     Total estimated model params size (MB)\n",
      "17        Modules in train mode\n",
      "0         Modules in eval mode\n"
     ]
    },
    {
     "name": "stdout",
     "output_type": "stream",
     "text": [
      "Epoch 3: 100%|██████████| 34/34 [00:00<00:00, 215.92it/s, v_num=137, train_loss=0.538, train_ham=0.300, train_f1ma=0.318, val_loss_step=0.588, val_ham_step=0.378, val_f1ma_step=0.0741, val_loss_epoch=0.572, val_ham_epoch=0.292, val_f1ma_epoch=0.162]\n"
     ]
    },
    {
     "name": "stderr",
     "output_type": "stream",
     "text": [
      "Restoring states from the checkpoint path at /Users/benjaminvaca/Documents/USFQ/semestre7/machine_learning/proyecto/lightning_logs/version_137/checkpoints/epoch=0-step=34.ckpt\n",
      "Loaded model weights from the checkpoint at /Users/benjaminvaca/Documents/USFQ/semestre7/machine_learning/proyecto/lightning_logs/version_137/checkpoints/epoch=0-step=34.ckpt\n"
     ]
    },
    {
     "name": "stdout",
     "output_type": "stream",
     "text": [
      "Validation DataLoader 0: 100%|██████████| 34/34 [00:00<00:00, 523.15it/s]\n"
     ]
    },
    {
     "name": "stderr",
     "output_type": "stream",
     "text": [
      "Restoring states from the checkpoint path at /Users/benjaminvaca/Documents/USFQ/semestre7/machine_learning/proyecto/lightning_logs/version_137/checkpoints/epoch=0-step=34.ckpt\n",
      "Loaded model weights from the checkpoint at /Users/benjaminvaca/Documents/USFQ/semestre7/machine_learning/proyecto/lightning_logs/version_137/checkpoints/epoch=0-step=34.ckpt\n"
     ]
    },
    {
     "name": "stdout",
     "output_type": "stream",
     "text": [
      "Validation DataLoader 0: 100%|██████████| 9/9 [00:00<00:00, 500.17it/s]\n"
     ]
    },
    {
     "name": "stderr",
     "output_type": "stream",
     "text": [
      "Restoring states from the checkpoint path at /Users/benjaminvaca/Documents/USFQ/semestre7/machine_learning/proyecto/lightning_logs/version_137/checkpoints/epoch=0-step=34.ckpt\n",
      "Loaded model weights from the checkpoint at /Users/benjaminvaca/Documents/USFQ/semestre7/machine_learning/proyecto/lightning_logs/version_137/checkpoints/epoch=0-step=34.ckpt\n"
     ]
    },
    {
     "name": "stdout",
     "output_type": "stream",
     "text": [
      "Testing DataLoader 0: 100%|██████████| 11/11 [00:00<00:00, 500.11it/s]\n"
     ]
    },
    {
     "data": {
      "text/html": [
       "<pre style=\"white-space:pre;overflow-x:auto;line-height:normal;font-family:Menlo,'DejaVu Sans Mono',consolas,'Courier New',monospace\">┏━━━━━━━━━━━━━━━━━━━━━━━━━━━┳━━━━━━━━━━━━━━━━━━━━━━━━━━━┓\n",
       "┃<span style=\"font-weight: bold\">        Test metric        </span>┃<span style=\"font-weight: bold\">       DataLoader 0        </span>┃\n",
       "┡━━━━━━━━━━━━━━━━━━━━━━━━━━━╇━━━━━━━━━━━━━━━━━━━━━━━━━━━┩\n",
       "│<span style=\"color: #008080; text-decoration-color: #008080\">      test_f1ma_epoch      </span>│<span style=\"color: #800080; text-decoration-color: #800080\">    0.23804393410682678    </span>│\n",
       "│<span style=\"color: #008080; text-decoration-color: #008080\">      test_ham_epoch       </span>│<span style=\"color: #800080; text-decoration-color: #800080\">    0.3280891180038452     </span>│\n",
       "│<span style=\"color: #008080; text-decoration-color: #008080\">      test_loss_epoch      </span>│<span style=\"color: #800080; text-decoration-color: #800080\">    0.6344616413116455     </span>│\n",
       "└───────────────────────────┴───────────────────────────┘\n",
       "</pre>\n"
      ],
      "text/plain": [
       "┏━━━━━━━━━━━━━━━━━━━━━━━━━━━┳━━━━━━━━━━━━━━━━━━━━━━━━━━━┓\n",
       "┃\u001b[1m \u001b[0m\u001b[1m       Test metric       \u001b[0m\u001b[1m \u001b[0m┃\u001b[1m \u001b[0m\u001b[1m      DataLoader 0       \u001b[0m\u001b[1m \u001b[0m┃\n",
       "┡━━━━━━━━━━━━━━━━━━━━━━━━━━━╇━━━━━━━━━━━━━━━━━━━━━━━━━━━┩\n",
       "│\u001b[36m \u001b[0m\u001b[36m     test_f1ma_epoch     \u001b[0m\u001b[36m \u001b[0m│\u001b[35m \u001b[0m\u001b[35m   0.23804393410682678   \u001b[0m\u001b[35m \u001b[0m│\n",
       "│\u001b[36m \u001b[0m\u001b[36m     test_ham_epoch      \u001b[0m\u001b[36m \u001b[0m│\u001b[35m \u001b[0m\u001b[35m   0.3280891180038452    \u001b[0m\u001b[35m \u001b[0m│\n",
       "│\u001b[36m \u001b[0m\u001b[36m     test_loss_epoch     \u001b[0m\u001b[36m \u001b[0m│\u001b[35m \u001b[0m\u001b[35m   0.6344616413116455    \u001b[0m\u001b[35m \u001b[0m│\n",
       "└───────────────────────────┴───────────────────────────┘\n"
      ]
     },
     "metadata": {},
     "output_type": "display_data"
    },
    {
     "name": "stdout",
     "output_type": "stream",
     "text": [
      "  loss: 0.6345 | hamming: 0.3281 | f1_macro: 0.2380\n",
      "Fold 9/10\n"
     ]
    },
    {
     "name": "stderr",
     "output_type": "stream",
     "text": [
      "GPU available: True (mps), used: False\n",
      "TPU available: False, using: 0 TPU cores\n",
      "HPU available: False, using: 0 HPUs\n",
      "\n",
      "  | Name       | Type                      | Params | Mode \n",
      "-----------------------------------------------------------------\n",
      "0 | classifier | Sequential                | 240 K  | train\n",
      "1 | loss       | BCEWithLogitsLoss         | 0      | train\n",
      "2 | hamming    | MultilabelHammingDistance | 0      | train\n",
      "3 | f1_macro   | MultilabelF1Score         | 0      | train\n",
      "-----------------------------------------------------------------\n",
      "240 K     Trainable params\n",
      "0         Non-trainable params\n",
      "240 K     Total params\n",
      "0.961     Total estimated model params size (MB)\n",
      "17        Modules in train mode\n",
      "0         Modules in eval mode\n"
     ]
    },
    {
     "name": "stdout",
     "output_type": "stream",
     "text": [
      "Epoch 11: 100%|██████████| 34/34 [00:00<00:00, 191.21it/s, v_num=138, train_loss=0.500, train_ham=0.281, train_f1ma=0.326, val_loss_step=0.538, val_ham_step=0.400, val_f1ma_step=0.0523, val_loss_epoch=0.545, val_ham_epoch=0.282, val_f1ma_epoch=0.193]"
     ]
    },
    {
     "name": "stderr",
     "output_type": "stream",
     "text": [
      "Restoring states from the checkpoint path at /Users/benjaminvaca/Documents/USFQ/semestre7/machine_learning/proyecto/lightning_logs/version_138/checkpoints/epoch=8-step=306.ckpt\n"
     ]
    },
    {
     "name": "stdout",
     "output_type": "stream",
     "text": [
      "\n"
     ]
    },
    {
     "name": "stderr",
     "output_type": "stream",
     "text": [
      "Loaded model weights from the checkpoint at /Users/benjaminvaca/Documents/USFQ/semestre7/machine_learning/proyecto/lightning_logs/version_138/checkpoints/epoch=8-step=306.ckpt\n"
     ]
    },
    {
     "name": "stdout",
     "output_type": "stream",
     "text": [
      "Validation DataLoader 0: 100%|██████████| 34/34 [00:00<00:00, 476.99it/s]"
     ]
    },
    {
     "name": "stderr",
     "output_type": "stream",
     "text": [
      "Restoring states from the checkpoint path at /Users/benjaminvaca/Documents/USFQ/semestre7/machine_learning/proyecto/lightning_logs/version_138/checkpoints/epoch=8-step=306.ckpt\n"
     ]
    },
    {
     "name": "stdout",
     "output_type": "stream",
     "text": [
      "\n"
     ]
    },
    {
     "name": "stderr",
     "output_type": "stream",
     "text": [
      "Loaded model weights from the checkpoint at /Users/benjaminvaca/Documents/USFQ/semestre7/machine_learning/proyecto/lightning_logs/version_138/checkpoints/epoch=8-step=306.ckpt\n"
     ]
    },
    {
     "name": "stdout",
     "output_type": "stream",
     "text": [
      "Validation DataLoader 0: 100%|██████████| 9/9 [00:00<00:00, 430.54it/s]"
     ]
    },
    {
     "name": "stderr",
     "output_type": "stream",
     "text": [
      "Restoring states from the checkpoint path at /Users/benjaminvaca/Documents/USFQ/semestre7/machine_learning/proyecto/lightning_logs/version_138/checkpoints/epoch=8-step=306.ckpt\n"
     ]
    },
    {
     "name": "stdout",
     "output_type": "stream",
     "text": [
      "\n"
     ]
    },
    {
     "name": "stderr",
     "output_type": "stream",
     "text": [
      "Loaded model weights from the checkpoint at /Users/benjaminvaca/Documents/USFQ/semestre7/machine_learning/proyecto/lightning_logs/version_138/checkpoints/epoch=8-step=306.ckpt\n"
     ]
    },
    {
     "name": "stdout",
     "output_type": "stream",
     "text": [
      "Testing DataLoader 0: 100%|██████████| 11/11 [00:00<00:00, 454.57it/s]\n"
     ]
    },
    {
     "data": {
      "text/html": [
       "<pre style=\"white-space:pre;overflow-x:auto;line-height:normal;font-family:Menlo,'DejaVu Sans Mono',consolas,'Courier New',monospace\">┏━━━━━━━━━━━━━━━━━━━━━━━━━━━┳━━━━━━━━━━━━━━━━━━━━━━━━━━━┓\n",
       "┃<span style=\"font-weight: bold\">        Test metric        </span>┃<span style=\"font-weight: bold\">       DataLoader 0        </span>┃\n",
       "┡━━━━━━━━━━━━━━━━━━━━━━━━━━━╇━━━━━━━━━━━━━━━━━━━━━━━━━━━┩\n",
       "│<span style=\"color: #008080; text-decoration-color: #008080\">      test_f1ma_epoch      </span>│<span style=\"color: #800080; text-decoration-color: #800080\">    0.18770122528076172    </span>│\n",
       "│<span style=\"color: #008080; text-decoration-color: #008080\">      test_ham_epoch       </span>│<span style=\"color: #800080; text-decoration-color: #800080\">    0.28023597598075867    </span>│\n",
       "│<span style=\"color: #008080; text-decoration-color: #008080\">      test_loss_epoch      </span>│<span style=\"color: #800080; text-decoration-color: #800080\">    0.5548688173294067     </span>│\n",
       "└───────────────────────────┴───────────────────────────┘\n",
       "</pre>\n"
      ],
      "text/plain": [
       "┏━━━━━━━━━━━━━━━━━━━━━━━━━━━┳━━━━━━━━━━━━━━━━━━━━━━━━━━━┓\n",
       "┃\u001b[1m \u001b[0m\u001b[1m       Test metric       \u001b[0m\u001b[1m \u001b[0m┃\u001b[1m \u001b[0m\u001b[1m      DataLoader 0       \u001b[0m\u001b[1m \u001b[0m┃\n",
       "┡━━━━━━━━━━━━━━━━━━━━━━━━━━━╇━━━━━━━━━━━━━━━━━━━━━━━━━━━┩\n",
       "│\u001b[36m \u001b[0m\u001b[36m     test_f1ma_epoch     \u001b[0m\u001b[36m \u001b[0m│\u001b[35m \u001b[0m\u001b[35m   0.18770122528076172   \u001b[0m\u001b[35m \u001b[0m│\n",
       "│\u001b[36m \u001b[0m\u001b[36m     test_ham_epoch      \u001b[0m\u001b[36m \u001b[0m│\u001b[35m \u001b[0m\u001b[35m   0.28023597598075867   \u001b[0m\u001b[35m \u001b[0m│\n",
       "│\u001b[36m \u001b[0m\u001b[36m     test_loss_epoch     \u001b[0m\u001b[36m \u001b[0m│\u001b[35m \u001b[0m\u001b[35m   0.5548688173294067    \u001b[0m\u001b[35m \u001b[0m│\n",
       "└───────────────────────────┴───────────────────────────┘\n"
      ]
     },
     "metadata": {},
     "output_type": "display_data"
    },
    {
     "name": "stdout",
     "output_type": "stream",
     "text": [
      "  loss: 0.5549 | hamming: 0.2802 | f1_macro: 0.1877\n",
      "Fold 10/10\n"
     ]
    },
    {
     "name": "stderr",
     "output_type": "stream",
     "text": [
      "GPU available: True (mps), used: False\n",
      "TPU available: False, using: 0 TPU cores\n",
      "HPU available: False, using: 0 HPUs\n",
      "\n",
      "  | Name       | Type                      | Params | Mode \n",
      "-----------------------------------------------------------------\n",
      "0 | classifier | Sequential                | 240 K  | train\n",
      "1 | loss       | BCEWithLogitsLoss         | 0      | train\n",
      "2 | hamming    | MultilabelHammingDistance | 0      | train\n",
      "3 | f1_macro   | MultilabelF1Score         | 0      | train\n",
      "-----------------------------------------------------------------\n",
      "240 K     Trainable params\n",
      "0         Non-trainable params\n",
      "240 K     Total params\n",
      "0.961     Total estimated model params size (MB)\n",
      "17        Modules in train mode\n",
      "0         Modules in eval mode\n"
     ]
    },
    {
     "name": "stdout",
     "output_type": "stream",
     "text": [
      "Epoch 12: 100%|██████████| 34/34 [00:00<00:00, 218.90it/s, v_num=139, train_loss=0.517, train_ham=0.267, train_f1ma=0.348, val_loss_step=0.575, val_ham_step=0.393, val_f1ma_step=0.0729, val_loss_epoch=0.564, val_ham_epoch=0.293, val_f1ma_epoch=0.205]"
     ]
    },
    {
     "name": "stderr",
     "output_type": "stream",
     "text": [
      "Restoring states from the checkpoint path at /Users/benjaminvaca/Documents/USFQ/semestre7/machine_learning/proyecto/lightning_logs/version_139/checkpoints/epoch=9-step=340.ckpt\n"
     ]
    },
    {
     "name": "stdout",
     "output_type": "stream",
     "text": [
      "\n"
     ]
    },
    {
     "name": "stderr",
     "output_type": "stream",
     "text": [
      "Loaded model weights from the checkpoint at /Users/benjaminvaca/Documents/USFQ/semestre7/machine_learning/proyecto/lightning_logs/version_139/checkpoints/epoch=9-step=340.ckpt\n"
     ]
    },
    {
     "name": "stdout",
     "output_type": "stream",
     "text": [
      "Validation DataLoader 0: 100%|██████████| 34/34 [00:00<00:00, 548.74it/s]\n"
     ]
    },
    {
     "name": "stderr",
     "output_type": "stream",
     "text": [
      "Restoring states from the checkpoint path at /Users/benjaminvaca/Documents/USFQ/semestre7/machine_learning/proyecto/lightning_logs/version_139/checkpoints/epoch=9-step=340.ckpt\n",
      "Loaded model weights from the checkpoint at /Users/benjaminvaca/Documents/USFQ/semestre7/machine_learning/proyecto/lightning_logs/version_139/checkpoints/epoch=9-step=340.ckpt\n"
     ]
    },
    {
     "name": "stdout",
     "output_type": "stream",
     "text": [
      "Validation DataLoader 0: 100%|██████████| 9/9 [00:00<00:00, 499.69it/s]"
     ]
    },
    {
     "name": "stderr",
     "output_type": "stream",
     "text": [
      "Restoring states from the checkpoint path at /Users/benjaminvaca/Documents/USFQ/semestre7/machine_learning/proyecto/lightning_logs/version_139/checkpoints/epoch=9-step=340.ckpt\n"
     ]
    },
    {
     "name": "stdout",
     "output_type": "stream",
     "text": [
      "\n"
     ]
    },
    {
     "name": "stderr",
     "output_type": "stream",
     "text": [
      "Loaded model weights from the checkpoint at /Users/benjaminvaca/Documents/USFQ/semestre7/machine_learning/proyecto/lightning_logs/version_139/checkpoints/epoch=9-step=340.ckpt\n"
     ]
    },
    {
     "name": "stdout",
     "output_type": "stream",
     "text": [
      "Testing DataLoader 0: 100%|██████████| 11/11 [00:00<00:00, 495.43it/s]\n"
     ]
    },
    {
     "data": {
      "text/html": [
       "<pre style=\"white-space:pre;overflow-x:auto;line-height:normal;font-family:Menlo,'DejaVu Sans Mono',consolas,'Courier New',monospace\">┏━━━━━━━━━━━━━━━━━━━━━━━━━━━┳━━━━━━━━━━━━━━━━━━━━━━━━━━━┓\n",
       "┃<span style=\"font-weight: bold\">        Test metric        </span>┃<span style=\"font-weight: bold\">       DataLoader 0        </span>┃\n",
       "┡━━━━━━━━━━━━━━━━━━━━━━━━━━━╇━━━━━━━━━━━━━━━━━━━━━━━━━━━┩\n",
       "│<span style=\"color: #008080; text-decoration-color: #008080\">      test_f1ma_epoch      </span>│<span style=\"color: #800080; text-decoration-color: #800080\">    0.18661506474018097    </span>│\n",
       "│<span style=\"color: #008080; text-decoration-color: #008080\">      test_ham_epoch       </span>│<span style=\"color: #800080; text-decoration-color: #800080\">    0.2822025716304779     </span>│\n",
       "│<span style=\"color: #008080; text-decoration-color: #008080\">      test_loss_epoch      </span>│<span style=\"color: #800080; text-decoration-color: #800080\">    0.5556779503822327     </span>│\n",
       "└───────────────────────────┴───────────────────────────┘\n",
       "</pre>\n"
      ],
      "text/plain": [
       "┏━━━━━━━━━━━━━━━━━━━━━━━━━━━┳━━━━━━━━━━━━━━━━━━━━━━━━━━━┓\n",
       "┃\u001b[1m \u001b[0m\u001b[1m       Test metric       \u001b[0m\u001b[1m \u001b[0m┃\u001b[1m \u001b[0m\u001b[1m      DataLoader 0       \u001b[0m\u001b[1m \u001b[0m┃\n",
       "┡━━━━━━━━━━━━━━━━━━━━━━━━━━━╇━━━━━━━━━━━━━━━━━━━━━━━━━━━┩\n",
       "│\u001b[36m \u001b[0m\u001b[36m     test_f1ma_epoch     \u001b[0m\u001b[36m \u001b[0m│\u001b[35m \u001b[0m\u001b[35m   0.18661506474018097   \u001b[0m\u001b[35m \u001b[0m│\n",
       "│\u001b[36m \u001b[0m\u001b[36m     test_ham_epoch      \u001b[0m\u001b[36m \u001b[0m│\u001b[35m \u001b[0m\u001b[35m   0.2822025716304779    \u001b[0m\u001b[35m \u001b[0m│\n",
       "│\u001b[36m \u001b[0m\u001b[36m     test_loss_epoch     \u001b[0m\u001b[36m \u001b[0m│\u001b[35m \u001b[0m\u001b[35m   0.5556779503822327    \u001b[0m\u001b[35m \u001b[0m│\n",
       "└───────────────────────────┴───────────────────────────┘\n"
      ]
     },
     "metadata": {},
     "output_type": "display_data"
    },
    {
     "name": "stdout",
     "output_type": "stream",
     "text": [
      "  loss: 0.5557 | hamming: 0.2822 | f1_macro: 0.1866\n",
      "\n",
      "F1-macro promedio: 0.1822 ± 0.0294\n",
      "Hamming promedio: 0.3092 ± 0.0208\n",
      "Pérdida promedio:         0.6028 ± 0.0334\n",
      "HU=[256, 128, 64]  L2=0.001 → val_f1ma: 0.1822\n",
      "Fold 1/10\n"
     ]
    },
    {
     "name": "stderr",
     "output_type": "stream",
     "text": [
      "GPU available: True (mps), used: False\n",
      "TPU available: False, using: 0 TPU cores\n",
      "HPU available: False, using: 0 HPUs\n",
      "\n",
      "  | Name       | Type                      | Params | Mode \n",
      "-----------------------------------------------------------------\n",
      "0 | classifier | Sequential                | 240 K  | train\n",
      "1 | loss       | BCEWithLogitsLoss         | 0      | train\n",
      "2 | hamming    | MultilabelHammingDistance | 0      | train\n",
      "3 | f1_macro   | MultilabelF1Score         | 0      | train\n",
      "-----------------------------------------------------------------\n",
      "240 K     Trainable params\n",
      "0         Non-trainable params\n",
      "240 K     Total params\n",
      "0.961     Total estimated model params size (MB)\n",
      "17        Modules in train mode\n",
      "0         Modules in eval mode\n"
     ]
    },
    {
     "name": "stdout",
     "output_type": "stream",
     "text": [
      "Epoch 17: 100%|██████████| 34/34 [00:00<00:00, 207.38it/s, v_num=140, train_loss=0.479, train_ham=0.253, train_f1ma=0.379, val_loss_step=0.501, val_ham_step=0.354, val_f1ma_step=0.088, val_loss_epoch=0.538, val_ham_epoch=0.274, val_f1ma_epoch=0.215] \n"
     ]
    },
    {
     "name": "stderr",
     "output_type": "stream",
     "text": [
      "Restoring states from the checkpoint path at /Users/benjaminvaca/Documents/USFQ/semestre7/machine_learning/proyecto/lightning_logs/version_140/checkpoints/epoch=14-step=510.ckpt\n",
      "Loaded model weights from the checkpoint at /Users/benjaminvaca/Documents/USFQ/semestre7/machine_learning/proyecto/lightning_logs/version_140/checkpoints/epoch=14-step=510.ckpt\n"
     ]
    },
    {
     "name": "stdout",
     "output_type": "stream",
     "text": [
      "Validation DataLoader 0: 100%|██████████| 34/34 [00:00<00:00, 280.54it/s]"
     ]
    },
    {
     "name": "stderr",
     "output_type": "stream",
     "text": [
      "Restoring states from the checkpoint path at /Users/benjaminvaca/Documents/USFQ/semestre7/machine_learning/proyecto/lightning_logs/version_140/checkpoints/epoch=14-step=510.ckpt\n"
     ]
    },
    {
     "name": "stdout",
     "output_type": "stream",
     "text": [
      "\n"
     ]
    },
    {
     "name": "stderr",
     "output_type": "stream",
     "text": [
      "Loaded model weights from the checkpoint at /Users/benjaminvaca/Documents/USFQ/semestre7/machine_learning/proyecto/lightning_logs/version_140/checkpoints/epoch=14-step=510.ckpt\n"
     ]
    },
    {
     "name": "stdout",
     "output_type": "stream",
     "text": [
      "Validation DataLoader 0: 100%|██████████| 9/9 [00:00<00:00, 495.49it/s]"
     ]
    },
    {
     "name": "stderr",
     "output_type": "stream",
     "text": [
      "Restoring states from the checkpoint path at /Users/benjaminvaca/Documents/USFQ/semestre7/machine_learning/proyecto/lightning_logs/version_140/checkpoints/epoch=14-step=510.ckpt\n"
     ]
    },
    {
     "name": "stdout",
     "output_type": "stream",
     "text": [
      "\n"
     ]
    },
    {
     "name": "stderr",
     "output_type": "stream",
     "text": [
      "Loaded model weights from the checkpoint at /Users/benjaminvaca/Documents/USFQ/semestre7/machine_learning/proyecto/lightning_logs/version_140/checkpoints/epoch=14-step=510.ckpt\n"
     ]
    },
    {
     "name": "stdout",
     "output_type": "stream",
     "text": [
      "Testing DataLoader 0: 100%|██████████| 11/11 [00:00<00:00, 423.89it/s]\n"
     ]
    },
    {
     "data": {
      "text/html": [
       "<pre style=\"white-space:pre;overflow-x:auto;line-height:normal;font-family:Menlo,'DejaVu Sans Mono',consolas,'Courier New',monospace\">┏━━━━━━━━━━━━━━━━━━━━━━━━━━━┳━━━━━━━━━━━━━━━━━━━━━━━━━━━┓\n",
       "┃<span style=\"font-weight: bold\">        Test metric        </span>┃<span style=\"font-weight: bold\">       DataLoader 0        </span>┃\n",
       "┡━━━━━━━━━━━━━━━━━━━━━━━━━━━╇━━━━━━━━━━━━━━━━━━━━━━━━━━━┩\n",
       "│<span style=\"color: #008080; text-decoration-color: #008080\">      test_f1ma_epoch      </span>│<span style=\"color: #800080; text-decoration-color: #800080\">    0.1951814889907837     </span>│\n",
       "│<span style=\"color: #008080; text-decoration-color: #008080\">      test_ham_epoch       </span>│<span style=\"color: #800080; text-decoration-color: #800080\">    0.27925270795822144    </span>│\n",
       "│<span style=\"color: #008080; text-decoration-color: #008080\">      test_loss_epoch      </span>│<span style=\"color: #800080; text-decoration-color: #800080\">    0.5442534685134888     </span>│\n",
       "└───────────────────────────┴───────────────────────────┘\n",
       "</pre>\n"
      ],
      "text/plain": [
       "┏━━━━━━━━━━━━━━━━━━━━━━━━━━━┳━━━━━━━━━━━━━━━━━━━━━━━━━━━┓\n",
       "┃\u001b[1m \u001b[0m\u001b[1m       Test metric       \u001b[0m\u001b[1m \u001b[0m┃\u001b[1m \u001b[0m\u001b[1m      DataLoader 0       \u001b[0m\u001b[1m \u001b[0m┃\n",
       "┡━━━━━━━━━━━━━━━━━━━━━━━━━━━╇━━━━━━━━━━━━━━━━━━━━━━━━━━━┩\n",
       "│\u001b[36m \u001b[0m\u001b[36m     test_f1ma_epoch     \u001b[0m\u001b[36m \u001b[0m│\u001b[35m \u001b[0m\u001b[35m   0.1951814889907837    \u001b[0m\u001b[35m \u001b[0m│\n",
       "│\u001b[36m \u001b[0m\u001b[36m     test_ham_epoch      \u001b[0m\u001b[36m \u001b[0m│\u001b[35m \u001b[0m\u001b[35m   0.27925270795822144   \u001b[0m\u001b[35m \u001b[0m│\n",
       "│\u001b[36m \u001b[0m\u001b[36m     test_loss_epoch     \u001b[0m\u001b[36m \u001b[0m│\u001b[35m \u001b[0m\u001b[35m   0.5442534685134888    \u001b[0m\u001b[35m \u001b[0m│\n",
       "└───────────────────────────┴───────────────────────────┘\n"
      ]
     },
     "metadata": {},
     "output_type": "display_data"
    },
    {
     "name": "stdout",
     "output_type": "stream",
     "text": [
      "  loss: 0.5443 | hamming: 0.2793 | f1_macro: 0.1952\n",
      "Fold 2/10\n"
     ]
    },
    {
     "name": "stderr",
     "output_type": "stream",
     "text": [
      "GPU available: True (mps), used: False\n",
      "TPU available: False, using: 0 TPU cores\n",
      "HPU available: False, using: 0 HPUs\n",
      "\n",
      "  | Name       | Type                      | Params | Mode \n",
      "-----------------------------------------------------------------\n",
      "0 | classifier | Sequential                | 240 K  | train\n",
      "1 | loss       | BCEWithLogitsLoss         | 0      | train\n",
      "2 | hamming    | MultilabelHammingDistance | 0      | train\n",
      "3 | f1_macro   | MultilabelF1Score         | 0      | train\n",
      "-----------------------------------------------------------------\n",
      "240 K     Trainable params\n",
      "0         Non-trainable params\n",
      "240 K     Total params\n",
      "0.961     Total estimated model params size (MB)\n",
      "17        Modules in train mode\n",
      "0         Modules in eval mode\n"
     ]
    },
    {
     "name": "stdout",
     "output_type": "stream",
     "text": [
      "Epoch 3: 100%|██████████| 34/34 [00:00<00:00, 180.88it/s, v_num=141, train_loss=0.569, train_ham=0.268, train_f1ma=0.327, val_loss_step=0.608, val_ham_step=0.444, val_f1ma_step=0.0131, val_loss_epoch=0.566, val_ham_epoch=0.292, val_f1ma_epoch=0.169]\n"
     ]
    },
    {
     "name": "stderr",
     "output_type": "stream",
     "text": [
      "Restoring states from the checkpoint path at /Users/benjaminvaca/Documents/USFQ/semestre7/machine_learning/proyecto/lightning_logs/version_141/checkpoints/epoch=0-step=34.ckpt\n",
      "Loaded model weights from the checkpoint at /Users/benjaminvaca/Documents/USFQ/semestre7/machine_learning/proyecto/lightning_logs/version_141/checkpoints/epoch=0-step=34.ckpt\n"
     ]
    },
    {
     "name": "stdout",
     "output_type": "stream",
     "text": [
      "Validation DataLoader 0: 100%|██████████| 34/34 [00:00<00:00, 376.55it/s]"
     ]
    },
    {
     "name": "stderr",
     "output_type": "stream",
     "text": [
      "Restoring states from the checkpoint path at /Users/benjaminvaca/Documents/USFQ/semestre7/machine_learning/proyecto/lightning_logs/version_141/checkpoints/epoch=0-step=34.ckpt\n"
     ]
    },
    {
     "name": "stdout",
     "output_type": "stream",
     "text": [
      "\n"
     ]
    },
    {
     "name": "stderr",
     "output_type": "stream",
     "text": [
      "Loaded model weights from the checkpoint at /Users/benjaminvaca/Documents/USFQ/semestre7/machine_learning/proyecto/lightning_logs/version_141/checkpoints/epoch=0-step=34.ckpt\n"
     ]
    },
    {
     "name": "stdout",
     "output_type": "stream",
     "text": [
      "Validation DataLoader 0: 100%|██████████| 9/9 [00:00<00:00, 351.85it/s]\n"
     ]
    },
    {
     "name": "stderr",
     "output_type": "stream",
     "text": [
      "Restoring states from the checkpoint path at /Users/benjaminvaca/Documents/USFQ/semestre7/machine_learning/proyecto/lightning_logs/version_141/checkpoints/epoch=0-step=34.ckpt\n",
      "Loaded model weights from the checkpoint at /Users/benjaminvaca/Documents/USFQ/semestre7/machine_learning/proyecto/lightning_logs/version_141/checkpoints/epoch=0-step=34.ckpt\n"
     ]
    },
    {
     "name": "stdout",
     "output_type": "stream",
     "text": [
      "Testing DataLoader 0: 100%|██████████| 11/11 [00:00<00:00, 268.01it/s]\n"
     ]
    },
    {
     "data": {
      "text/html": [
       "<pre style=\"white-space:pre;overflow-x:auto;line-height:normal;font-family:Menlo,'DejaVu Sans Mono',consolas,'Courier New',monospace\">┏━━━━━━━━━━━━━━━━━━━━━━━━━━━┳━━━━━━━━━━━━━━━━━━━━━━━━━━━┓\n",
       "┃<span style=\"font-weight: bold\">        Test metric        </span>┃<span style=\"font-weight: bold\">       DataLoader 0        </span>┃\n",
       "┡━━━━━━━━━━━━━━━━━━━━━━━━━━━╇━━━━━━━━━━━━━━━━━━━━━━━━━━━┩\n",
       "│<span style=\"color: #008080; text-decoration-color: #008080\">      test_f1ma_epoch      </span>│<span style=\"color: #800080; text-decoration-color: #800080\">    0.1906215250492096     </span>│\n",
       "│<span style=\"color: #008080; text-decoration-color: #008080\">      test_ham_epoch       </span>│<span style=\"color: #800080; text-decoration-color: #800080\">    0.32382825016975403    </span>│\n",
       "│<span style=\"color: #008080; text-decoration-color: #008080\">      test_loss_epoch      </span>│<span style=\"color: #800080; text-decoration-color: #800080\">    0.6380779147148132     </span>│\n",
       "└───────────────────────────┴───────────────────────────┘\n",
       "</pre>\n"
      ],
      "text/plain": [
       "┏━━━━━━━━━━━━━━━━━━━━━━━━━━━┳━━━━━━━━━━━━━━━━━━━━━━━━━━━┓\n",
       "┃\u001b[1m \u001b[0m\u001b[1m       Test metric       \u001b[0m\u001b[1m \u001b[0m┃\u001b[1m \u001b[0m\u001b[1m      DataLoader 0       \u001b[0m\u001b[1m \u001b[0m┃\n",
       "┡━━━━━━━━━━━━━━━━━━━━━━━━━━━╇━━━━━━━━━━━━━━━━━━━━━━━━━━━┩\n",
       "│\u001b[36m \u001b[0m\u001b[36m     test_f1ma_epoch     \u001b[0m\u001b[36m \u001b[0m│\u001b[35m \u001b[0m\u001b[35m   0.1906215250492096    \u001b[0m\u001b[35m \u001b[0m│\n",
       "│\u001b[36m \u001b[0m\u001b[36m     test_ham_epoch      \u001b[0m\u001b[36m \u001b[0m│\u001b[35m \u001b[0m\u001b[35m   0.32382825016975403   \u001b[0m\u001b[35m \u001b[0m│\n",
       "│\u001b[36m \u001b[0m\u001b[36m     test_loss_epoch     \u001b[0m\u001b[36m \u001b[0m│\u001b[35m \u001b[0m\u001b[35m   0.6380779147148132    \u001b[0m\u001b[35m \u001b[0m│\n",
       "└───────────────────────────┴───────────────────────────┘\n"
      ]
     },
     "metadata": {},
     "output_type": "display_data"
    },
    {
     "name": "stdout",
     "output_type": "stream",
     "text": [
      "  loss: 0.6381 | hamming: 0.3238 | f1_macro: 0.1906\n",
      "Fold 3/10\n"
     ]
    },
    {
     "name": "stderr",
     "output_type": "stream",
     "text": [
      "GPU available: True (mps), used: False\n",
      "TPU available: False, using: 0 TPU cores\n",
      "HPU available: False, using: 0 HPUs\n",
      "\n",
      "  | Name       | Type                      | Params | Mode \n",
      "-----------------------------------------------------------------\n",
      "0 | classifier | Sequential                | 240 K  | train\n",
      "1 | loss       | BCEWithLogitsLoss         | 0      | train\n",
      "2 | hamming    | MultilabelHammingDistance | 0      | train\n",
      "3 | f1_macro   | MultilabelF1Score         | 0      | train\n",
      "-----------------------------------------------------------------\n",
      "240 K     Trainable params\n",
      "0         Non-trainable params\n",
      "240 K     Total params\n",
      "0.961     Total estimated model params size (MB)\n",
      "17        Modules in train mode\n",
      "0         Modules in eval mode\n"
     ]
    },
    {
     "name": "stdout",
     "output_type": "stream",
     "text": [
      "Epoch 3: 100%|██████████| 34/34 [00:00<00:00, 209.85it/s, v_num=142, train_loss=0.560, train_ham=0.293, train_f1ma=0.295, val_loss_step=0.555, val_ham_step=0.400, val_f1ma_step=0.0523, val_loss_epoch=0.566, val_ham_epoch=0.294, val_f1ma_epoch=0.162]"
     ]
    },
    {
     "name": "stderr",
     "output_type": "stream",
     "text": [
      "Restoring states from the checkpoint path at /Users/benjaminvaca/Documents/USFQ/semestre7/machine_learning/proyecto/lightning_logs/version_142/checkpoints/epoch=0-step=34.ckpt\n"
     ]
    },
    {
     "name": "stdout",
     "output_type": "stream",
     "text": [
      "\n"
     ]
    },
    {
     "name": "stderr",
     "output_type": "stream",
     "text": [
      "Loaded model weights from the checkpoint at /Users/benjaminvaca/Documents/USFQ/semestre7/machine_learning/proyecto/lightning_logs/version_142/checkpoints/epoch=0-step=34.ckpt\n"
     ]
    },
    {
     "name": "stdout",
     "output_type": "stream",
     "text": [
      "Validation DataLoader 0: 100%|██████████| 34/34 [00:00<00:00, 490.30it/s]"
     ]
    },
    {
     "name": "stderr",
     "output_type": "stream",
     "text": [
      "Restoring states from the checkpoint path at /Users/benjaminvaca/Documents/USFQ/semestre7/machine_learning/proyecto/lightning_logs/version_142/checkpoints/epoch=0-step=34.ckpt\n"
     ]
    },
    {
     "name": "stdout",
     "output_type": "stream",
     "text": [
      "\n"
     ]
    },
    {
     "name": "stderr",
     "output_type": "stream",
     "text": [
      "Loaded model weights from the checkpoint at /Users/benjaminvaca/Documents/USFQ/semestre7/machine_learning/proyecto/lightning_logs/version_142/checkpoints/epoch=0-step=34.ckpt\n"
     ]
    },
    {
     "name": "stdout",
     "output_type": "stream",
     "text": [
      "Validation DataLoader 0: 100%|██████████| 9/9 [00:00<00:00, 371.41it/s]\n"
     ]
    },
    {
     "name": "stderr",
     "output_type": "stream",
     "text": [
      "Restoring states from the checkpoint path at /Users/benjaminvaca/Documents/USFQ/semestre7/machine_learning/proyecto/lightning_logs/version_142/checkpoints/epoch=0-step=34.ckpt\n",
      "Loaded model weights from the checkpoint at /Users/benjaminvaca/Documents/USFQ/semestre7/machine_learning/proyecto/lightning_logs/version_142/checkpoints/epoch=0-step=34.ckpt\n"
     ]
    },
    {
     "name": "stdout",
     "output_type": "stream",
     "text": [
      "Testing DataLoader 0: 100%|██████████| 11/11 [00:00<00:00, 450.12it/s]\n"
     ]
    },
    {
     "data": {
      "text/html": [
       "<pre style=\"white-space:pre;overflow-x:auto;line-height:normal;font-family:Menlo,'DejaVu Sans Mono',consolas,'Courier New',monospace\">┏━━━━━━━━━━━━━━━━━━━━━━━━━━━┳━━━━━━━━━━━━━━━━━━━━━━━━━━━┓\n",
       "┃<span style=\"font-weight: bold\">        Test metric        </span>┃<span style=\"font-weight: bold\">       DataLoader 0        </span>┃\n",
       "┡━━━━━━━━━━━━━━━━━━━━━━━━━━━╇━━━━━━━━━━━━━━━━━━━━━━━━━━━┩\n",
       "│<span style=\"color: #008080; text-decoration-color: #008080\">      test_f1ma_epoch      </span>│<span style=\"color: #800080; text-decoration-color: #800080\">    0.2017350047826767     </span>│\n",
       "│<span style=\"color: #008080; text-decoration-color: #008080\">      test_ham_epoch       </span>│<span style=\"color: #800080; text-decoration-color: #800080\">    0.32350048422813416    </span>│\n",
       "│<span style=\"color: #008080; text-decoration-color: #008080\">      test_loss_epoch      </span>│<span style=\"color: #800080; text-decoration-color: #800080\">    0.6267994046211243     </span>│\n",
       "└───────────────────────────┴───────────────────────────┘\n",
       "</pre>\n"
      ],
      "text/plain": [
       "┏━━━━━━━━━━━━━━━━━━━━━━━━━━━┳━━━━━━━━━━━━━━━━━━━━━━━━━━━┓\n",
       "┃\u001b[1m \u001b[0m\u001b[1m       Test metric       \u001b[0m\u001b[1m \u001b[0m┃\u001b[1m \u001b[0m\u001b[1m      DataLoader 0       \u001b[0m\u001b[1m \u001b[0m┃\n",
       "┡━━━━━━━━━━━━━━━━━━━━━━━━━━━╇━━━━━━━━━━━━━━━━━━━━━━━━━━━┩\n",
       "│\u001b[36m \u001b[0m\u001b[36m     test_f1ma_epoch     \u001b[0m\u001b[36m \u001b[0m│\u001b[35m \u001b[0m\u001b[35m   0.2017350047826767    \u001b[0m\u001b[35m \u001b[0m│\n",
       "│\u001b[36m \u001b[0m\u001b[36m     test_ham_epoch      \u001b[0m\u001b[36m \u001b[0m│\u001b[35m \u001b[0m\u001b[35m   0.32350048422813416   \u001b[0m\u001b[35m \u001b[0m│\n",
       "│\u001b[36m \u001b[0m\u001b[36m     test_loss_epoch     \u001b[0m\u001b[36m \u001b[0m│\u001b[35m \u001b[0m\u001b[35m   0.6267994046211243    \u001b[0m\u001b[35m \u001b[0m│\n",
       "└───────────────────────────┴───────────────────────────┘\n"
      ]
     },
     "metadata": {},
     "output_type": "display_data"
    },
    {
     "name": "stdout",
     "output_type": "stream",
     "text": [
      "  loss: 0.6268 | hamming: 0.3235 | f1_macro: 0.2017\n",
      "Fold 4/10\n"
     ]
    },
    {
     "name": "stderr",
     "output_type": "stream",
     "text": [
      "GPU available: True (mps), used: False\n",
      "TPU available: False, using: 0 TPU cores\n",
      "HPU available: False, using: 0 HPUs\n",
      "\n",
      "  | Name       | Type                      | Params | Mode \n",
      "-----------------------------------------------------------------\n",
      "0 | classifier | Sequential                | 240 K  | train\n",
      "1 | loss       | BCEWithLogitsLoss         | 0      | train\n",
      "2 | hamming    | MultilabelHammingDistance | 0      | train\n",
      "3 | f1_macro   | MultilabelF1Score         | 0      | train\n",
      "-----------------------------------------------------------------\n",
      "240 K     Trainable params\n",
      "0         Non-trainable params\n",
      "240 K     Total params\n",
      "0.961     Total estimated model params size (MB)\n",
      "17        Modules in train mode\n",
      "0         Modules in eval mode\n"
     ]
    },
    {
     "name": "stdout",
     "output_type": "stream",
     "text": [
      "Epoch 3: 100%|██████████| 34/34 [00:00<00:00, 214.83it/s, v_num=143, train_loss=0.586, train_ham=0.326, train_f1ma=0.221, val_loss_step=0.600, val_ham_step=0.363, val_f1ma_step=0.0774, val_loss_epoch=0.573, val_ham_epoch=0.295, val_f1ma_epoch=0.164]\n"
     ]
    },
    {
     "name": "stderr",
     "output_type": "stream",
     "text": [
      "Restoring states from the checkpoint path at /Users/benjaminvaca/Documents/USFQ/semestre7/machine_learning/proyecto/lightning_logs/version_143/checkpoints/epoch=0-step=34.ckpt\n",
      "Loaded model weights from the checkpoint at /Users/benjaminvaca/Documents/USFQ/semestre7/machine_learning/proyecto/lightning_logs/version_143/checkpoints/epoch=0-step=34.ckpt\n"
     ]
    },
    {
     "name": "stdout",
     "output_type": "stream",
     "text": [
      "Validation DataLoader 0: 100%|██████████| 34/34 [00:00<00:00, 555.22it/s]"
     ]
    },
    {
     "name": "stderr",
     "output_type": "stream",
     "text": [
      "Restoring states from the checkpoint path at /Users/benjaminvaca/Documents/USFQ/semestre7/machine_learning/proyecto/lightning_logs/version_143/checkpoints/epoch=0-step=34.ckpt\n"
     ]
    },
    {
     "name": "stdout",
     "output_type": "stream",
     "text": [
      "\n"
     ]
    },
    {
     "name": "stderr",
     "output_type": "stream",
     "text": [
      "Loaded model weights from the checkpoint at /Users/benjaminvaca/Documents/USFQ/semestre7/machine_learning/proyecto/lightning_logs/version_143/checkpoints/epoch=0-step=34.ckpt\n"
     ]
    },
    {
     "name": "stdout",
     "output_type": "stream",
     "text": [
      "Validation DataLoader 0: 100%|██████████| 9/9 [00:00<00:00, 190.17it/s]\n"
     ]
    },
    {
     "name": "stderr",
     "output_type": "stream",
     "text": [
      "Restoring states from the checkpoint path at /Users/benjaminvaca/Documents/USFQ/semestre7/machine_learning/proyecto/lightning_logs/version_143/checkpoints/epoch=0-step=34.ckpt\n",
      "Loaded model weights from the checkpoint at /Users/benjaminvaca/Documents/USFQ/semestre7/machine_learning/proyecto/lightning_logs/version_143/checkpoints/epoch=0-step=34.ckpt\n"
     ]
    },
    {
     "name": "stdout",
     "output_type": "stream",
     "text": [
      "Testing DataLoader 0: 100%|██████████| 11/11 [00:00<00:00, 504.08it/s]\n"
     ]
    },
    {
     "data": {
      "text/html": [
       "<pre style=\"white-space:pre;overflow-x:auto;line-height:normal;font-family:Menlo,'DejaVu Sans Mono',consolas,'Courier New',monospace\">┏━━━━━━━━━━━━━━━━━━━━━━━━━━━┳━━━━━━━━━━━━━━━━━━━━━━━━━━━┓\n",
       "┃<span style=\"font-weight: bold\">        Test metric        </span>┃<span style=\"font-weight: bold\">       DataLoader 0        </span>┃\n",
       "┡━━━━━━━━━━━━━━━━━━━━━━━━━━━╇━━━━━━━━━━━━━━━━━━━━━━━━━━━┩\n",
       "│<span style=\"color: #008080; text-decoration-color: #008080\">      test_f1ma_epoch      </span>│<span style=\"color: #800080; text-decoration-color: #800080\">    0.23246942460536957    </span>│\n",
       "│<span style=\"color: #008080; text-decoration-color: #008080\">      test_ham_epoch       </span>│<span style=\"color: #800080; text-decoration-color: #800080\">    0.3126843571662903     </span>│\n",
       "│<span style=\"color: #008080; text-decoration-color: #008080\">      test_loss_epoch      </span>│<span style=\"color: #800080; text-decoration-color: #800080\">    0.6394614577293396     </span>│\n",
       "└───────────────────────────┴───────────────────────────┘\n",
       "</pre>\n"
      ],
      "text/plain": [
       "┏━━━━━━━━━━━━━━━━━━━━━━━━━━━┳━━━━━━━━━━━━━━━━━━━━━━━━━━━┓\n",
       "┃\u001b[1m \u001b[0m\u001b[1m       Test metric       \u001b[0m\u001b[1m \u001b[0m┃\u001b[1m \u001b[0m\u001b[1m      DataLoader 0       \u001b[0m\u001b[1m \u001b[0m┃\n",
       "┡━━━━━━━━━━━━━━━━━━━━━━━━━━━╇━━━━━━━━━━━━━━━━━━━━━━━━━━━┩\n",
       "│\u001b[36m \u001b[0m\u001b[36m     test_f1ma_epoch     \u001b[0m\u001b[36m \u001b[0m│\u001b[35m \u001b[0m\u001b[35m   0.23246942460536957   \u001b[0m\u001b[35m \u001b[0m│\n",
       "│\u001b[36m \u001b[0m\u001b[36m     test_ham_epoch      \u001b[0m\u001b[36m \u001b[0m│\u001b[35m \u001b[0m\u001b[35m   0.3126843571662903    \u001b[0m\u001b[35m \u001b[0m│\n",
       "│\u001b[36m \u001b[0m\u001b[36m     test_loss_epoch     \u001b[0m\u001b[36m \u001b[0m│\u001b[35m \u001b[0m\u001b[35m   0.6394614577293396    \u001b[0m\u001b[35m \u001b[0m│\n",
       "└───────────────────────────┴───────────────────────────┘\n"
      ]
     },
     "metadata": {},
     "output_type": "display_data"
    },
    {
     "name": "stdout",
     "output_type": "stream",
     "text": [
      "  loss: 0.6395 | hamming: 0.3127 | f1_macro: 0.2325\n",
      "Fold 5/10\n"
     ]
    },
    {
     "name": "stderr",
     "output_type": "stream",
     "text": [
      "GPU available: True (mps), used: False\n",
      "TPU available: False, using: 0 TPU cores\n",
      "HPU available: False, using: 0 HPUs\n",
      "\n",
      "  | Name       | Type                      | Params | Mode \n",
      "-----------------------------------------------------------------\n",
      "0 | classifier | Sequential                | 240 K  | train\n",
      "1 | loss       | BCEWithLogitsLoss         | 0      | train\n",
      "2 | hamming    | MultilabelHammingDistance | 0      | train\n",
      "3 | f1_macro   | MultilabelF1Score         | 0      | train\n",
      "-----------------------------------------------------------------\n",
      "240 K     Trainable params\n",
      "0         Non-trainable params\n",
      "240 K     Total params\n",
      "0.961     Total estimated model params size (MB)\n",
      "17        Modules in train mode\n",
      "0         Modules in eval mode\n"
     ]
    },
    {
     "name": "stdout",
     "output_type": "stream",
     "text": [
      "Epoch 3: 100%|██████████| 34/34 [00:00<00:00, 195.00it/s, v_num=144, train_loss=0.574, train_ham=0.304, train_f1ma=0.231, val_loss_step=0.559, val_ham_step=0.378, val_f1ma_step=0.0729, val_loss_epoch=0.560, val_ham_epoch=0.287, val_f1ma_epoch=0.168]\n"
     ]
    },
    {
     "name": "stderr",
     "output_type": "stream",
     "text": [
      "Restoring states from the checkpoint path at /Users/benjaminvaca/Documents/USFQ/semestre7/machine_learning/proyecto/lightning_logs/version_144/checkpoints/epoch=0-step=34.ckpt\n",
      "Loaded model weights from the checkpoint at /Users/benjaminvaca/Documents/USFQ/semestre7/machine_learning/proyecto/lightning_logs/version_144/checkpoints/epoch=0-step=34.ckpt\n"
     ]
    },
    {
     "name": "stdout",
     "output_type": "stream",
     "text": [
      "Validation DataLoader 0: 100%|██████████| 34/34 [00:00<00:00, 496.52it/s]"
     ]
    },
    {
     "name": "stderr",
     "output_type": "stream",
     "text": [
      "Restoring states from the checkpoint path at /Users/benjaminvaca/Documents/USFQ/semestre7/machine_learning/proyecto/lightning_logs/version_144/checkpoints/epoch=0-step=34.ckpt\n"
     ]
    },
    {
     "name": "stdout",
     "output_type": "stream",
     "text": [
      "\n"
     ]
    },
    {
     "name": "stderr",
     "output_type": "stream",
     "text": [
      "Loaded model weights from the checkpoint at /Users/benjaminvaca/Documents/USFQ/semestre7/machine_learning/proyecto/lightning_logs/version_144/checkpoints/epoch=0-step=34.ckpt\n"
     ]
    },
    {
     "name": "stdout",
     "output_type": "stream",
     "text": [
      "Validation DataLoader 0: 100%|██████████| 9/9 [00:00<00:00, 475.06it/s]\n"
     ]
    },
    {
     "name": "stderr",
     "output_type": "stream",
     "text": [
      "Restoring states from the checkpoint path at /Users/benjaminvaca/Documents/USFQ/semestre7/machine_learning/proyecto/lightning_logs/version_144/checkpoints/epoch=0-step=34.ckpt\n",
      "Loaded model weights from the checkpoint at /Users/benjaminvaca/Documents/USFQ/semestre7/machine_learning/proyecto/lightning_logs/version_144/checkpoints/epoch=0-step=34.ckpt\n"
     ]
    },
    {
     "name": "stdout",
     "output_type": "stream",
     "text": [
      "Testing DataLoader 0: 100%|██████████| 11/11 [00:00<00:00, 471.41it/s]\n"
     ]
    },
    {
     "data": {
      "text/html": [
       "<pre style=\"white-space:pre;overflow-x:auto;line-height:normal;font-family:Menlo,'DejaVu Sans Mono',consolas,'Courier New',monospace\">┏━━━━━━━━━━━━━━━━━━━━━━━━━━━┳━━━━━━━━━━━━━━━━━━━━━━━━━━━┓\n",
       "┃<span style=\"font-weight: bold\">        Test metric        </span>┃<span style=\"font-weight: bold\">       DataLoader 0        </span>┃\n",
       "┡━━━━━━━━━━━━━━━━━━━━━━━━━━━╇━━━━━━━━━━━━━━━━━━━━━━━━━━━┩\n",
       "│<span style=\"color: #008080; text-decoration-color: #008080\">      test_f1ma_epoch      </span>│<span style=\"color: #800080; text-decoration-color: #800080\">    0.1742270141839981     </span>│\n",
       "│<span style=\"color: #008080; text-decoration-color: #008080\">      test_ham_epoch       </span>│<span style=\"color: #800080; text-decoration-color: #800080\">    0.3290724456310272     </span>│\n",
       "│<span style=\"color: #008080; text-decoration-color: #008080\">      test_loss_epoch      </span>│<span style=\"color: #800080; text-decoration-color: #800080\">    0.6344636082649231     </span>│\n",
       "└───────────────────────────┴───────────────────────────┘\n",
       "</pre>\n"
      ],
      "text/plain": [
       "┏━━━━━━━━━━━━━━━━━━━━━━━━━━━┳━━━━━━━━━━━━━━━━━━━━━━━━━━━┓\n",
       "┃\u001b[1m \u001b[0m\u001b[1m       Test metric       \u001b[0m\u001b[1m \u001b[0m┃\u001b[1m \u001b[0m\u001b[1m      DataLoader 0       \u001b[0m\u001b[1m \u001b[0m┃\n",
       "┡━━━━━━━━━━━━━━━━━━━━━━━━━━━╇━━━━━━━━━━━━━━━━━━━━━━━━━━━┩\n",
       "│\u001b[36m \u001b[0m\u001b[36m     test_f1ma_epoch     \u001b[0m\u001b[36m \u001b[0m│\u001b[35m \u001b[0m\u001b[35m   0.1742270141839981    \u001b[0m\u001b[35m \u001b[0m│\n",
       "│\u001b[36m \u001b[0m\u001b[36m     test_ham_epoch      \u001b[0m\u001b[36m \u001b[0m│\u001b[35m \u001b[0m\u001b[35m   0.3290724456310272    \u001b[0m\u001b[35m \u001b[0m│\n",
       "│\u001b[36m \u001b[0m\u001b[36m     test_loss_epoch     \u001b[0m\u001b[36m \u001b[0m│\u001b[35m \u001b[0m\u001b[35m   0.6344636082649231    \u001b[0m\u001b[35m \u001b[0m│\n",
       "└───────────────────────────┴───────────────────────────┘\n"
      ]
     },
     "metadata": {},
     "output_type": "display_data"
    },
    {
     "name": "stdout",
     "output_type": "stream",
     "text": [
      "  loss: 0.6345 | hamming: 0.3291 | f1_macro: 0.1742\n",
      "Fold 6/10\n"
     ]
    },
    {
     "name": "stderr",
     "output_type": "stream",
     "text": [
      "GPU available: True (mps), used: False\n",
      "TPU available: False, using: 0 TPU cores\n",
      "HPU available: False, using: 0 HPUs\n",
      "\n",
      "  | Name       | Type                      | Params | Mode \n",
      "-----------------------------------------------------------------\n",
      "0 | classifier | Sequential                | 240 K  | train\n",
      "1 | loss       | BCEWithLogitsLoss         | 0      | train\n",
      "2 | hamming    | MultilabelHammingDistance | 0      | train\n",
      "3 | f1_macro   | MultilabelF1Score         | 0      | train\n",
      "-----------------------------------------------------------------\n",
      "240 K     Trainable params\n",
      "0         Non-trainable params\n",
      "240 K     Total params\n",
      "0.961     Total estimated model params size (MB)\n",
      "17        Modules in train mode\n",
      "0         Modules in eval mode\n"
     ]
    },
    {
     "name": "stdout",
     "output_type": "stream",
     "text": [
      "Epoch 3: 100%|██████████| 34/34 [00:00<00:00, 187.62it/s, v_num=145, train_loss=0.603, train_ham=0.314, train_f1ma=0.266, val_loss_step=0.595, val_ham_step=0.347, val_f1ma_step=0.114, val_loss_epoch=0.571, val_ham_epoch=0.304, val_f1ma_epoch=0.171] \n"
     ]
    },
    {
     "name": "stderr",
     "output_type": "stream",
     "text": [
      "Restoring states from the checkpoint path at /Users/benjaminvaca/Documents/USFQ/semestre7/machine_learning/proyecto/lightning_logs/version_145/checkpoints/epoch=0-step=34.ckpt\n",
      "Loaded model weights from the checkpoint at /Users/benjaminvaca/Documents/USFQ/semestre7/machine_learning/proyecto/lightning_logs/version_145/checkpoints/epoch=0-step=34.ckpt\n"
     ]
    },
    {
     "name": "stdout",
     "output_type": "stream",
     "text": [
      "Validation DataLoader 0: 100%|██████████| 34/34 [00:00<00:00, 450.81it/s]\n"
     ]
    },
    {
     "name": "stderr",
     "output_type": "stream",
     "text": [
      "Restoring states from the checkpoint path at /Users/benjaminvaca/Documents/USFQ/semestre7/machine_learning/proyecto/lightning_logs/version_145/checkpoints/epoch=0-step=34.ckpt\n",
      "Loaded model weights from the checkpoint at /Users/benjaminvaca/Documents/USFQ/semestre7/machine_learning/proyecto/lightning_logs/version_145/checkpoints/epoch=0-step=34.ckpt\n"
     ]
    },
    {
     "name": "stdout",
     "output_type": "stream",
     "text": [
      "Validation DataLoader 0: 100%|██████████| 9/9 [00:00<00:00, 436.68it/s]\n"
     ]
    },
    {
     "name": "stderr",
     "output_type": "stream",
     "text": [
      "Restoring states from the checkpoint path at /Users/benjaminvaca/Documents/USFQ/semestre7/machine_learning/proyecto/lightning_logs/version_145/checkpoints/epoch=0-step=34.ckpt\n",
      "Loaded model weights from the checkpoint at /Users/benjaminvaca/Documents/USFQ/semestre7/machine_learning/proyecto/lightning_logs/version_145/checkpoints/epoch=0-step=34.ckpt\n"
     ]
    },
    {
     "name": "stdout",
     "output_type": "stream",
     "text": [
      "Testing DataLoader 0: 100%|██████████| 11/11 [00:00<00:00, 160.75it/s]\n"
     ]
    },
    {
     "data": {
      "text/html": [
       "<pre style=\"white-space:pre;overflow-x:auto;line-height:normal;font-family:Menlo,'DejaVu Sans Mono',consolas,'Courier New',monospace\">┏━━━━━━━━━━━━━━━━━━━━━━━━━━━┳━━━━━━━━━━━━━━━━━━━━━━━━━━━┓\n",
       "┃<span style=\"font-weight: bold\">        Test metric        </span>┃<span style=\"font-weight: bold\">       DataLoader 0        </span>┃\n",
       "┡━━━━━━━━━━━━━━━━━━━━━━━━━━━╇━━━━━━━━━━━━━━━━━━━━━━━━━━━┩\n",
       "│<span style=\"color: #008080; text-decoration-color: #008080\">      test_f1ma_epoch      </span>│<span style=\"color: #800080; text-decoration-color: #800080\">    0.23927056789398193    </span>│\n",
       "│<span style=\"color: #008080; text-decoration-color: #008080\">      test_ham_epoch       </span>│<span style=\"color: #800080; text-decoration-color: #800080\">    0.30809569358825684    </span>│\n",
       "│<span style=\"color: #008080; text-decoration-color: #008080\">      test_loss_epoch      </span>│<span style=\"color: #800080; text-decoration-color: #800080\">    0.6253422498703003     </span>│\n",
       "└───────────────────────────┴───────────────────────────┘\n",
       "</pre>\n"
      ],
      "text/plain": [
       "┏━━━━━━━━━━━━━━━━━━━━━━━━━━━┳━━━━━━━━━━━━━━━━━━━━━━━━━━━┓\n",
       "┃\u001b[1m \u001b[0m\u001b[1m       Test metric       \u001b[0m\u001b[1m \u001b[0m┃\u001b[1m \u001b[0m\u001b[1m      DataLoader 0       \u001b[0m\u001b[1m \u001b[0m┃\n",
       "┡━━━━━━━━━━━━━━━━━━━━━━━━━━━╇━━━━━━━━━━━━━━━━━━━━━━━━━━━┩\n",
       "│\u001b[36m \u001b[0m\u001b[36m     test_f1ma_epoch     \u001b[0m\u001b[36m \u001b[0m│\u001b[35m \u001b[0m\u001b[35m   0.23927056789398193   \u001b[0m\u001b[35m \u001b[0m│\n",
       "│\u001b[36m \u001b[0m\u001b[36m     test_ham_epoch      \u001b[0m\u001b[36m \u001b[0m│\u001b[35m \u001b[0m\u001b[35m   0.30809569358825684   \u001b[0m\u001b[35m \u001b[0m│\n",
       "│\u001b[36m \u001b[0m\u001b[36m     test_loss_epoch     \u001b[0m\u001b[36m \u001b[0m│\u001b[35m \u001b[0m\u001b[35m   0.6253422498703003    \u001b[0m\u001b[35m \u001b[0m│\n",
       "└───────────────────────────┴───────────────────────────┘\n"
      ]
     },
     "metadata": {},
     "output_type": "display_data"
    },
    {
     "name": "stdout",
     "output_type": "stream",
     "text": [
      "  loss: 0.6253 | hamming: 0.3081 | f1_macro: 0.2393\n",
      "Fold 7/10\n"
     ]
    },
    {
     "name": "stderr",
     "output_type": "stream",
     "text": [
      "GPU available: True (mps), used: False\n",
      "TPU available: False, using: 0 TPU cores\n",
      "HPU available: False, using: 0 HPUs\n",
      "\n",
      "  | Name       | Type                      | Params | Mode \n",
      "-----------------------------------------------------------------\n",
      "0 | classifier | Sequential                | 240 K  | train\n",
      "1 | loss       | BCEWithLogitsLoss         | 0      | train\n",
      "2 | hamming    | MultilabelHammingDistance | 0      | train\n",
      "3 | f1_macro   | MultilabelF1Score         | 0      | train\n",
      "-----------------------------------------------------------------\n",
      "240 K     Trainable params\n",
      "0         Non-trainable params\n",
      "240 K     Total params\n",
      "0.961     Total estimated model params size (MB)\n",
      "17        Modules in train mode\n",
      "0         Modules in eval mode\n"
     ]
    },
    {
     "name": "stdout",
     "output_type": "stream",
     "text": [
      "Epoch 3: 100%|██████████| 34/34 [00:00<00:00, 209.94it/s, v_num=146, train_loss=0.592, train_ham=0.307, train_f1ma=0.247, val_loss_step=0.544, val_ham_step=0.382, val_f1ma_step=0.0529, val_loss_epoch=0.565, val_ham_epoch=0.291, val_f1ma_epoch=0.167]"
     ]
    },
    {
     "name": "stderr",
     "output_type": "stream",
     "text": [
      "Restoring states from the checkpoint path at /Users/benjaminvaca/Documents/USFQ/semestre7/machine_learning/proyecto/lightning_logs/version_146/checkpoints/epoch=0-step=34.ckpt\n"
     ]
    },
    {
     "name": "stdout",
     "output_type": "stream",
     "text": [
      "\n"
     ]
    },
    {
     "name": "stderr",
     "output_type": "stream",
     "text": [
      "Loaded model weights from the checkpoint at /Users/benjaminvaca/Documents/USFQ/semestre7/machine_learning/proyecto/lightning_logs/version_146/checkpoints/epoch=0-step=34.ckpt\n"
     ]
    },
    {
     "name": "stdout",
     "output_type": "stream",
     "text": [
      "Validation DataLoader 0: 100%|██████████| 34/34 [00:00<00:00, 547.51it/s]"
     ]
    },
    {
     "name": "stderr",
     "output_type": "stream",
     "text": [
      "Restoring states from the checkpoint path at /Users/benjaminvaca/Documents/USFQ/semestre7/machine_learning/proyecto/lightning_logs/version_146/checkpoints/epoch=0-step=34.ckpt\n"
     ]
    },
    {
     "name": "stdout",
     "output_type": "stream",
     "text": [
      "\n"
     ]
    },
    {
     "name": "stderr",
     "output_type": "stream",
     "text": [
      "Loaded model weights from the checkpoint at /Users/benjaminvaca/Documents/USFQ/semestre7/machine_learning/proyecto/lightning_logs/version_146/checkpoints/epoch=0-step=34.ckpt\n"
     ]
    },
    {
     "name": "stdout",
     "output_type": "stream",
     "text": [
      "Validation DataLoader 0: 100%|██████████| 9/9 [00:00<00:00, 520.72it/s]"
     ]
    },
    {
     "name": "stderr",
     "output_type": "stream",
     "text": [
      "Restoring states from the checkpoint path at /Users/benjaminvaca/Documents/USFQ/semestre7/machine_learning/proyecto/lightning_logs/version_146/checkpoints/epoch=0-step=34.ckpt\n"
     ]
    },
    {
     "name": "stdout",
     "output_type": "stream",
     "text": [
      "\n"
     ]
    },
    {
     "name": "stderr",
     "output_type": "stream",
     "text": [
      "Loaded model weights from the checkpoint at /Users/benjaminvaca/Documents/USFQ/semestre7/machine_learning/proyecto/lightning_logs/version_146/checkpoints/epoch=0-step=34.ckpt\n"
     ]
    },
    {
     "name": "stdout",
     "output_type": "stream",
     "text": [
      "Testing DataLoader 0: 100%|██████████| 11/11 [00:00<00:00, 541.18it/s]\n"
     ]
    },
    {
     "data": {
      "text/html": [
       "<pre style=\"white-space:pre;overflow-x:auto;line-height:normal;font-family:Menlo,'DejaVu Sans Mono',consolas,'Courier New',monospace\">┏━━━━━━━━━━━━━━━━━━━━━━━━━━━┳━━━━━━━━━━━━━━━━━━━━━━━━━━━┓\n",
       "┃<span style=\"font-weight: bold\">        Test metric        </span>┃<span style=\"font-weight: bold\">       DataLoader 0        </span>┃\n",
       "┡━━━━━━━━━━━━━━━━━━━━━━━━━━━╇━━━━━━━━━━━━━━━━━━━━━━━━━━━┩\n",
       "│<span style=\"color: #008080; text-decoration-color: #008080\">      test_f1ma_epoch      </span>│<span style=\"color: #800080; text-decoration-color: #800080\">    0.21726252138614655    </span>│\n",
       "│<span style=\"color: #008080; text-decoration-color: #008080\">      test_ham_epoch       </span>│<span style=\"color: #800080; text-decoration-color: #800080\">    0.33529993891716003    </span>│\n",
       "│<span style=\"color: #008080; text-decoration-color: #008080\">      test_loss_epoch      </span>│<span style=\"color: #800080; text-decoration-color: #800080\">    0.6311615705490112     </span>│\n",
       "└───────────────────────────┴───────────────────────────┘\n",
       "</pre>\n"
      ],
      "text/plain": [
       "┏━━━━━━━━━━━━━━━━━━━━━━━━━━━┳━━━━━━━━━━━━━━━━━━━━━━━━━━━┓\n",
       "┃\u001b[1m \u001b[0m\u001b[1m       Test metric       \u001b[0m\u001b[1m \u001b[0m┃\u001b[1m \u001b[0m\u001b[1m      DataLoader 0       \u001b[0m\u001b[1m \u001b[0m┃\n",
       "┡━━━━━━━━━━━━━━━━━━━━━━━━━━━╇━━━━━━━━━━━━━━━━━━━━━━━━━━━┩\n",
       "│\u001b[36m \u001b[0m\u001b[36m     test_f1ma_epoch     \u001b[0m\u001b[36m \u001b[0m│\u001b[35m \u001b[0m\u001b[35m   0.21726252138614655   \u001b[0m\u001b[35m \u001b[0m│\n",
       "│\u001b[36m \u001b[0m\u001b[36m     test_ham_epoch      \u001b[0m\u001b[36m \u001b[0m│\u001b[35m \u001b[0m\u001b[35m   0.33529993891716003   \u001b[0m\u001b[35m \u001b[0m│\n",
       "│\u001b[36m \u001b[0m\u001b[36m     test_loss_epoch     \u001b[0m\u001b[36m \u001b[0m│\u001b[35m \u001b[0m\u001b[35m   0.6311615705490112    \u001b[0m\u001b[35m \u001b[0m│\n",
       "└───────────────────────────┴───────────────────────────┘\n"
      ]
     },
     "metadata": {},
     "output_type": "display_data"
    },
    {
     "name": "stdout",
     "output_type": "stream",
     "text": [
      "  loss: 0.6312 | hamming: 0.3353 | f1_macro: 0.2173\n",
      "Fold 8/10\n"
     ]
    },
    {
     "name": "stderr",
     "output_type": "stream",
     "text": [
      "GPU available: True (mps), used: False\n",
      "TPU available: False, using: 0 TPU cores\n",
      "HPU available: False, using: 0 HPUs\n",
      "\n",
      "  | Name       | Type                      | Params | Mode \n",
      "-----------------------------------------------------------------\n",
      "0 | classifier | Sequential                | 240 K  | train\n",
      "1 | loss       | BCEWithLogitsLoss         | 0      | train\n",
      "2 | hamming    | MultilabelHammingDistance | 0      | train\n",
      "3 | f1_macro   | MultilabelF1Score         | 0      | train\n",
      "-----------------------------------------------------------------\n",
      "240 K     Trainable params\n",
      "0         Non-trainable params\n",
      "240 K     Total params\n",
      "0.961     Total estimated model params size (MB)\n",
      "17        Modules in train mode\n",
      "0         Modules in eval mode\n"
     ]
    },
    {
     "name": "stdout",
     "output_type": "stream",
     "text": [
      "Epoch 3: 100%|██████████| 34/34 [00:00<00:00, 212.32it/s, v_num=147, train_loss=0.569, train_ham=0.319, train_f1ma=0.237, val_loss_step=0.595, val_ham_step=0.415, val_f1ma_step=0.037, val_loss_epoch=0.563, val_ham_epoch=0.286, val_f1ma_epoch=0.183] \n"
     ]
    },
    {
     "name": "stderr",
     "output_type": "stream",
     "text": [
      "Restoring states from the checkpoint path at /Users/benjaminvaca/Documents/USFQ/semestre7/machine_learning/proyecto/lightning_logs/version_147/checkpoints/epoch=0-step=34.ckpt\n",
      "Loaded model weights from the checkpoint at /Users/benjaminvaca/Documents/USFQ/semestre7/machine_learning/proyecto/lightning_logs/version_147/checkpoints/epoch=0-step=34.ckpt\n"
     ]
    },
    {
     "name": "stdout",
     "output_type": "stream",
     "text": [
      "Validation DataLoader 0: 100%|██████████| 34/34 [00:00<00:00, 526.76it/s]\n"
     ]
    },
    {
     "name": "stderr",
     "output_type": "stream",
     "text": [
      "Restoring states from the checkpoint path at /Users/benjaminvaca/Documents/USFQ/semestre7/machine_learning/proyecto/lightning_logs/version_147/checkpoints/epoch=0-step=34.ckpt\n",
      "Loaded model weights from the checkpoint at /Users/benjaminvaca/Documents/USFQ/semestre7/machine_learning/proyecto/lightning_logs/version_147/checkpoints/epoch=0-step=34.ckpt\n"
     ]
    },
    {
     "name": "stdout",
     "output_type": "stream",
     "text": [
      "Validation DataLoader 0: 100%|██████████| 9/9 [00:00<00:00, 513.49it/s]\n"
     ]
    },
    {
     "name": "stderr",
     "output_type": "stream",
     "text": [
      "Restoring states from the checkpoint path at /Users/benjaminvaca/Documents/USFQ/semestre7/machine_learning/proyecto/lightning_logs/version_147/checkpoints/epoch=0-step=34.ckpt\n",
      "Loaded model weights from the checkpoint at /Users/benjaminvaca/Documents/USFQ/semestre7/machine_learning/proyecto/lightning_logs/version_147/checkpoints/epoch=0-step=34.ckpt\n"
     ]
    },
    {
     "name": "stdout",
     "output_type": "stream",
     "text": [
      "Testing DataLoader 0: 100%|██████████| 11/11 [00:00<00:00, 518.18it/s]\n"
     ]
    },
    {
     "data": {
      "text/html": [
       "<pre style=\"white-space:pre;overflow-x:auto;line-height:normal;font-family:Menlo,'DejaVu Sans Mono',consolas,'Courier New',monospace\">┏━━━━━━━━━━━━━━━━━━━━━━━━━━━┳━━━━━━━━━━━━━━━━━━━━━━━━━━━┓\n",
       "┃<span style=\"font-weight: bold\">        Test metric        </span>┃<span style=\"font-weight: bold\">       DataLoader 0        </span>┃\n",
       "┡━━━━━━━━━━━━━━━━━━━━━━━━━━━╇━━━━━━━━━━━━━━━━━━━━━━━━━━━┩\n",
       "│<span style=\"color: #008080; text-decoration-color: #008080\">      test_f1ma_epoch      </span>│<span style=\"color: #800080; text-decoration-color: #800080\">    0.18963225185871124    </span>│\n",
       "│<span style=\"color: #008080; text-decoration-color: #008080\">      test_ham_epoch       </span>│<span style=\"color: #800080; text-decoration-color: #800080\">    0.33562764525413513    </span>│\n",
       "│<span style=\"color: #008080; text-decoration-color: #008080\">      test_loss_epoch      </span>│<span style=\"color: #800080; text-decoration-color: #800080\">    0.6300491094589233     </span>│\n",
       "└───────────────────────────┴───────────────────────────┘\n",
       "</pre>\n"
      ],
      "text/plain": [
       "┏━━━━━━━━━━━━━━━━━━━━━━━━━━━┳━━━━━━━━━━━━━━━━━━━━━━━━━━━┓\n",
       "┃\u001b[1m \u001b[0m\u001b[1m       Test metric       \u001b[0m\u001b[1m \u001b[0m┃\u001b[1m \u001b[0m\u001b[1m      DataLoader 0       \u001b[0m\u001b[1m \u001b[0m┃\n",
       "┡━━━━━━━━━━━━━━━━━━━━━━━━━━━╇━━━━━━━━━━━━━━━━━━━━━━━━━━━┩\n",
       "│\u001b[36m \u001b[0m\u001b[36m     test_f1ma_epoch     \u001b[0m\u001b[36m \u001b[0m│\u001b[35m \u001b[0m\u001b[35m   0.18963225185871124   \u001b[0m\u001b[35m \u001b[0m│\n",
       "│\u001b[36m \u001b[0m\u001b[36m     test_ham_epoch      \u001b[0m\u001b[36m \u001b[0m│\u001b[35m \u001b[0m\u001b[35m   0.33562764525413513   \u001b[0m\u001b[35m \u001b[0m│\n",
       "│\u001b[36m \u001b[0m\u001b[36m     test_loss_epoch     \u001b[0m\u001b[36m \u001b[0m│\u001b[35m \u001b[0m\u001b[35m   0.6300491094589233    \u001b[0m\u001b[35m \u001b[0m│\n",
       "└───────────────────────────┴───────────────────────────┘\n"
      ]
     },
     "metadata": {},
     "output_type": "display_data"
    },
    {
     "name": "stdout",
     "output_type": "stream",
     "text": [
      "  loss: 0.6300 | hamming: 0.3356 | f1_macro: 0.1896\n",
      "Fold 9/10\n"
     ]
    },
    {
     "name": "stderr",
     "output_type": "stream",
     "text": [
      "GPU available: True (mps), used: False\n",
      "TPU available: False, using: 0 TPU cores\n",
      "HPU available: False, using: 0 HPUs\n",
      "\n",
      "  | Name       | Type                      | Params | Mode \n",
      "-----------------------------------------------------------------\n",
      "0 | classifier | Sequential                | 240 K  | train\n",
      "1 | loss       | BCEWithLogitsLoss         | 0      | train\n",
      "2 | hamming    | MultilabelHammingDistance | 0      | train\n",
      "3 | f1_macro   | MultilabelF1Score         | 0      | train\n",
      "-----------------------------------------------------------------\n",
      "240 K     Trainable params\n",
      "0         Non-trainable params\n",
      "240 K     Total params\n",
      "0.961     Total estimated model params size (MB)\n",
      "17        Modules in train mode\n",
      "0         Modules in eval mode\n"
     ]
    },
    {
     "name": "stdout",
     "output_type": "stream",
     "text": [
      "Epoch 4: 100%|██████████| 34/34 [00:00<00:00, 206.50it/s, v_num=148, train_loss=0.586, train_ham=0.311, train_f1ma=0.254, val_loss_step=0.585, val_ham_step=0.430, val_f1ma_step=0.0261, val_loss_epoch=0.559, val_ham_epoch=0.288, val_f1ma_epoch=0.191]"
     ]
    },
    {
     "name": "stderr",
     "output_type": "stream",
     "text": [
      "Restoring states from the checkpoint path at /Users/benjaminvaca/Documents/USFQ/semestre7/machine_learning/proyecto/lightning_logs/version_148/checkpoints/epoch=1-step=68.ckpt\n"
     ]
    },
    {
     "name": "stdout",
     "output_type": "stream",
     "text": [
      "\n"
     ]
    },
    {
     "name": "stderr",
     "output_type": "stream",
     "text": [
      "Loaded model weights from the checkpoint at /Users/benjaminvaca/Documents/USFQ/semestre7/machine_learning/proyecto/lightning_logs/version_148/checkpoints/epoch=1-step=68.ckpt\n"
     ]
    },
    {
     "name": "stdout",
     "output_type": "stream",
     "text": [
      "Validation DataLoader 0: 100%|██████████| 34/34 [00:00<00:00, 504.36it/s]\n"
     ]
    },
    {
     "name": "stderr",
     "output_type": "stream",
     "text": [
      "Restoring states from the checkpoint path at /Users/benjaminvaca/Documents/USFQ/semestre7/machine_learning/proyecto/lightning_logs/version_148/checkpoints/epoch=1-step=68.ckpt\n",
      "Loaded model weights from the checkpoint at /Users/benjaminvaca/Documents/USFQ/semestre7/machine_learning/proyecto/lightning_logs/version_148/checkpoints/epoch=1-step=68.ckpt\n"
     ]
    },
    {
     "name": "stdout",
     "output_type": "stream",
     "text": [
      "Validation DataLoader 0: 100%|██████████| 9/9 [00:00<00:00, 476.64it/s]\n"
     ]
    },
    {
     "name": "stderr",
     "output_type": "stream",
     "text": [
      "Restoring states from the checkpoint path at /Users/benjaminvaca/Documents/USFQ/semestre7/machine_learning/proyecto/lightning_logs/version_148/checkpoints/epoch=1-step=68.ckpt\n",
      "Loaded model weights from the checkpoint at /Users/benjaminvaca/Documents/USFQ/semestre7/machine_learning/proyecto/lightning_logs/version_148/checkpoints/epoch=1-step=68.ckpt\n"
     ]
    },
    {
     "name": "stdout",
     "output_type": "stream",
     "text": [
      "Testing DataLoader 0: 100%|██████████| 11/11 [00:00<00:00, 470.57it/s]\n"
     ]
    },
    {
     "data": {
      "text/html": [
       "<pre style=\"white-space:pre;overflow-x:auto;line-height:normal;font-family:Menlo,'DejaVu Sans Mono',consolas,'Courier New',monospace\">┏━━━━━━━━━━━━━━━━━━━━━━━━━━━┳━━━━━━━━━━━━━━━━━━━━━━━━━━━┓\n",
       "┃<span style=\"font-weight: bold\">        Test metric        </span>┃<span style=\"font-weight: bold\">       DataLoader 0        </span>┃\n",
       "┡━━━━━━━━━━━━━━━━━━━━━━━━━━━╇━━━━━━━━━━━━━━━━━━━━━━━━━━━┩\n",
       "│<span style=\"color: #008080; text-decoration-color: #008080\">      test_f1ma_epoch      </span>│<span style=\"color: #800080; text-decoration-color: #800080\">    0.19361519813537598    </span>│\n",
       "│<span style=\"color: #008080; text-decoration-color: #008080\">      test_ham_epoch       </span>│<span style=\"color: #800080; text-decoration-color: #800080\">    0.31596195697784424    </span>│\n",
       "│<span style=\"color: #008080; text-decoration-color: #008080\">      test_loss_epoch      </span>│<span style=\"color: #800080; text-decoration-color: #800080\">    0.5958124399185181     </span>│\n",
       "└───────────────────────────┴───────────────────────────┘\n",
       "</pre>\n"
      ],
      "text/plain": [
       "┏━━━━━━━━━━━━━━━━━━━━━━━━━━━┳━━━━━━━━━━━━━━━━━━━━━━━━━━━┓\n",
       "┃\u001b[1m \u001b[0m\u001b[1m       Test metric       \u001b[0m\u001b[1m \u001b[0m┃\u001b[1m \u001b[0m\u001b[1m      DataLoader 0       \u001b[0m\u001b[1m \u001b[0m┃\n",
       "┡━━━━━━━━━━━━━━━━━━━━━━━━━━━╇━━━━━━━━━━━━━━━━━━━━━━━━━━━┩\n",
       "│\u001b[36m \u001b[0m\u001b[36m     test_f1ma_epoch     \u001b[0m\u001b[36m \u001b[0m│\u001b[35m \u001b[0m\u001b[35m   0.19361519813537598   \u001b[0m\u001b[35m \u001b[0m│\n",
       "│\u001b[36m \u001b[0m\u001b[36m     test_ham_epoch      \u001b[0m\u001b[36m \u001b[0m│\u001b[35m \u001b[0m\u001b[35m   0.31596195697784424   \u001b[0m\u001b[35m \u001b[0m│\n",
       "│\u001b[36m \u001b[0m\u001b[36m     test_loss_epoch     \u001b[0m\u001b[36m \u001b[0m│\u001b[35m \u001b[0m\u001b[35m   0.5958124399185181    \u001b[0m\u001b[35m \u001b[0m│\n",
       "└───────────────────────────┴───────────────────────────┘\n"
      ]
     },
     "metadata": {},
     "output_type": "display_data"
    },
    {
     "name": "stdout",
     "output_type": "stream",
     "text": [
      "  loss: 0.5958 | hamming: 0.3160 | f1_macro: 0.1936\n",
      "Fold 10/10\n"
     ]
    },
    {
     "name": "stderr",
     "output_type": "stream",
     "text": [
      "GPU available: True (mps), used: False\n",
      "TPU available: False, using: 0 TPU cores\n",
      "HPU available: False, using: 0 HPUs\n",
      "\n",
      "  | Name       | Type                      | Params | Mode \n",
      "-----------------------------------------------------------------\n",
      "0 | classifier | Sequential                | 240 K  | train\n",
      "1 | loss       | BCEWithLogitsLoss         | 0      | train\n",
      "2 | hamming    | MultilabelHammingDistance | 0      | train\n",
      "3 | f1_macro   | MultilabelF1Score         | 0      | train\n",
      "-----------------------------------------------------------------\n",
      "240 K     Trainable params\n",
      "0         Non-trainable params\n",
      "240 K     Total params\n",
      "0.961     Total estimated model params size (MB)\n",
      "17        Modules in train mode\n",
      "0         Modules in eval mode\n"
     ]
    },
    {
     "name": "stdout",
     "output_type": "stream",
     "text": [
      "Epoch 3: 100%|██████████| 34/34 [00:00<00:00, 198.77it/s, v_num=149, train_loss=0.593, train_ham=0.296, train_f1ma=0.223, val_loss_step=0.588, val_ham_step=0.407, val_f1ma_step=0.0662, val_loss_epoch=0.572, val_ham_epoch=0.303, val_f1ma_epoch=0.195]\n"
     ]
    },
    {
     "name": "stderr",
     "output_type": "stream",
     "text": [
      "Restoring states from the checkpoint path at /Users/benjaminvaca/Documents/USFQ/semestre7/machine_learning/proyecto/lightning_logs/version_149/checkpoints/epoch=0-step=34.ckpt\n",
      "Loaded model weights from the checkpoint at /Users/benjaminvaca/Documents/USFQ/semestre7/machine_learning/proyecto/lightning_logs/version_149/checkpoints/epoch=0-step=34.ckpt\n"
     ]
    },
    {
     "name": "stdout",
     "output_type": "stream",
     "text": [
      "Validation DataLoader 0: 100%|██████████| 34/34 [00:00<00:00, 548.05it/s]\n"
     ]
    },
    {
     "name": "stderr",
     "output_type": "stream",
     "text": [
      "Restoring states from the checkpoint path at /Users/benjaminvaca/Documents/USFQ/semestre7/machine_learning/proyecto/lightning_logs/version_149/checkpoints/epoch=0-step=34.ckpt\n",
      "Loaded model weights from the checkpoint at /Users/benjaminvaca/Documents/USFQ/semestre7/machine_learning/proyecto/lightning_logs/version_149/checkpoints/epoch=0-step=34.ckpt\n"
     ]
    },
    {
     "name": "stdout",
     "output_type": "stream",
     "text": [
      "Validation DataLoader 0: 100%|██████████| 9/9 [00:00<00:00, 520.72it/s]\n"
     ]
    },
    {
     "name": "stderr",
     "output_type": "stream",
     "text": [
      "Restoring states from the checkpoint path at /Users/benjaminvaca/Documents/USFQ/semestre7/machine_learning/proyecto/lightning_logs/version_149/checkpoints/epoch=0-step=34.ckpt\n",
      "Loaded model weights from the checkpoint at /Users/benjaminvaca/Documents/USFQ/semestre7/machine_learning/proyecto/lightning_logs/version_149/checkpoints/epoch=0-step=34.ckpt\n"
     ]
    },
    {
     "name": "stdout",
     "output_type": "stream",
     "text": [
      "Testing DataLoader 0: 100%|██████████| 11/11 [00:00<00:00, 354.68it/s]\n"
     ]
    },
    {
     "data": {
      "text/html": [
       "<pre style=\"white-space:pre;overflow-x:auto;line-height:normal;font-family:Menlo,'DejaVu Sans Mono',consolas,'Courier New',monospace\">┏━━━━━━━━━━━━━━━━━━━━━━━━━━━┳━━━━━━━━━━━━━━━━━━━━━━━━━━━┓\n",
       "┃<span style=\"font-weight: bold\">        Test metric        </span>┃<span style=\"font-weight: bold\">       DataLoader 0        </span>┃\n",
       "┡━━━━━━━━━━━━━━━━━━━━━━━━━━━╇━━━━━━━━━━━━━━━━━━━━━━━━━━━┩\n",
       "│<span style=\"color: #008080; text-decoration-color: #008080\">      test_f1ma_epoch      </span>│<span style=\"color: #800080; text-decoration-color: #800080\">    0.2297014743089676     </span>│\n",
       "│<span style=\"color: #008080; text-decoration-color: #008080\">      test_ham_epoch       </span>│<span style=\"color: #800080; text-decoration-color: #800080\">    0.3438217043876648     </span>│\n",
       "│<span style=\"color: #008080; text-decoration-color: #008080\">      test_loss_epoch      </span>│<span style=\"color: #800080; text-decoration-color: #800080\">    0.6313085556030273     </span>│\n",
       "└───────────────────────────┴───────────────────────────┘\n",
       "</pre>\n"
      ],
      "text/plain": [
       "┏━━━━━━━━━━━━━━━━━━━━━━━━━━━┳━━━━━━━━━━━━━━━━━━━━━━━━━━━┓\n",
       "┃\u001b[1m \u001b[0m\u001b[1m       Test metric       \u001b[0m\u001b[1m \u001b[0m┃\u001b[1m \u001b[0m\u001b[1m      DataLoader 0       \u001b[0m\u001b[1m \u001b[0m┃\n",
       "┡━━━━━━━━━━━━━━━━━━━━━━━━━━━╇━━━━━━━━━━━━━━━━━━━━━━━━━━━┩\n",
       "│\u001b[36m \u001b[0m\u001b[36m     test_f1ma_epoch     \u001b[0m\u001b[36m \u001b[0m│\u001b[35m \u001b[0m\u001b[35m   0.2297014743089676    \u001b[0m\u001b[35m \u001b[0m│\n",
       "│\u001b[36m \u001b[0m\u001b[36m     test_ham_epoch      \u001b[0m\u001b[36m \u001b[0m│\u001b[35m \u001b[0m\u001b[35m   0.3438217043876648    \u001b[0m\u001b[35m \u001b[0m│\n",
       "│\u001b[36m \u001b[0m\u001b[36m     test_loss_epoch     \u001b[0m\u001b[36m \u001b[0m│\u001b[35m \u001b[0m\u001b[35m   0.6313085556030273    \u001b[0m\u001b[35m \u001b[0m│\n",
       "└───────────────────────────┴───────────────────────────┘\n"
      ]
     },
     "metadata": {},
     "output_type": "display_data"
    },
    {
     "name": "stdout",
     "output_type": "stream",
     "text": [
      "  loss: 0.6313 | hamming: 0.3438 | f1_macro: 0.2297\n",
      "\n",
      "F1-macro promedio: 0.2064 ± 0.0207\n",
      "Hamming promedio: 0.3207 ± 0.0174\n",
      "Pérdida promedio:         0.6197 ± 0.0277\n",
      "HU=[256, 128, 64]  L2=0.0001 → val_f1ma: 0.2064\n",
      "Fold 1/10\n"
     ]
    },
    {
     "name": "stderr",
     "output_type": "stream",
     "text": [
      "GPU available: True (mps), used: False\n",
      "TPU available: False, using: 0 TPU cores\n",
      "HPU available: False, using: 0 HPUs\n",
      "\n",
      "  | Name       | Type                      | Params | Mode \n",
      "-----------------------------------------------------------------\n",
      "0 | classifier | Sequential                | 333 K  | train\n",
      "1 | loss       | BCEWithLogitsLoss         | 0      | train\n",
      "2 | hamming    | MultilabelHammingDistance | 0      | train\n",
      "3 | f1_macro   | MultilabelF1Score         | 0      | train\n",
      "-----------------------------------------------------------------\n",
      "333 K     Trainable params\n",
      "0         Non-trainable params\n",
      "333 K     Total params\n",
      "1.332     Total estimated model params size (MB)\n",
      "17        Modules in train mode\n",
      "0         Modules in eval mode\n"
     ]
    },
    {
     "name": "stdout",
     "output_type": "stream",
     "text": [
      "Epoch 3: 100%|██████████| 34/34 [00:00<00:00, 190.33it/s, v_num=150, train_loss=0.527, train_ham=0.291, train_f1ma=0.292, val_loss_step=0.548, val_ham_step=0.389, val_f1ma_step=0.0702, val_loss_epoch=0.563, val_ham_epoch=0.289, val_f1ma_epoch=0.161]\n"
     ]
    },
    {
     "name": "stderr",
     "output_type": "stream",
     "text": [
      "Restoring states from the checkpoint path at /Users/benjaminvaca/Documents/USFQ/semestre7/machine_learning/proyecto/lightning_logs/version_150/checkpoints/epoch=0-step=34.ckpt\n",
      "Loaded model weights from the checkpoint at /Users/benjaminvaca/Documents/USFQ/semestre7/machine_learning/proyecto/lightning_logs/version_150/checkpoints/epoch=0-step=34.ckpt\n"
     ]
    },
    {
     "name": "stdout",
     "output_type": "stream",
     "text": [
      "Validation DataLoader 0: 100%|██████████| 34/34 [00:00<00:00, 535.63it/s]"
     ]
    },
    {
     "name": "stderr",
     "output_type": "stream",
     "text": [
      "Restoring states from the checkpoint path at /Users/benjaminvaca/Documents/USFQ/semestre7/machine_learning/proyecto/lightning_logs/version_150/checkpoints/epoch=0-step=34.ckpt\n"
     ]
    },
    {
     "name": "stdout",
     "output_type": "stream",
     "text": [
      "\n"
     ]
    },
    {
     "name": "stderr",
     "output_type": "stream",
     "text": [
      "Loaded model weights from the checkpoint at /Users/benjaminvaca/Documents/USFQ/semestre7/machine_learning/proyecto/lightning_logs/version_150/checkpoints/epoch=0-step=34.ckpt\n"
     ]
    },
    {
     "name": "stdout",
     "output_type": "stream",
     "text": [
      "Validation DataLoader 0: 100%|██████████| 9/9 [00:00<00:00, 507.73it/s]\n"
     ]
    },
    {
     "name": "stderr",
     "output_type": "stream",
     "text": [
      "Restoring states from the checkpoint path at /Users/benjaminvaca/Documents/USFQ/semestre7/machine_learning/proyecto/lightning_logs/version_150/checkpoints/epoch=0-step=34.ckpt\n",
      "Loaded model weights from the checkpoint at /Users/benjaminvaca/Documents/USFQ/semestre7/machine_learning/proyecto/lightning_logs/version_150/checkpoints/epoch=0-step=34.ckpt\n"
     ]
    },
    {
     "name": "stdout",
     "output_type": "stream",
     "text": [
      "Testing DataLoader 0: 100%|██████████| 11/11 [00:00<00:00, 507.41it/s]\n"
     ]
    },
    {
     "data": {
      "text/html": [
       "<pre style=\"white-space:pre;overflow-x:auto;line-height:normal;font-family:Menlo,'DejaVu Sans Mono',consolas,'Courier New',monospace\">┏━━━━━━━━━━━━━━━━━━━━━━━━━━━┳━━━━━━━━━━━━━━━━━━━━━━━━━━━┓\n",
       "┃<span style=\"font-weight: bold\">        Test metric        </span>┃<span style=\"font-weight: bold\">       DataLoader 0        </span>┃\n",
       "┡━━━━━━━━━━━━━━━━━━━━━━━━━━━╇━━━━━━━━━━━━━━━━━━━━━━━━━━━┩\n",
       "│<span style=\"color: #008080; text-decoration-color: #008080\">      test_f1ma_epoch      </span>│<span style=\"color: #800080; text-decoration-color: #800080\">     0.170683354139328     </span>│\n",
       "│<span style=\"color: #008080; text-decoration-color: #008080\">      test_ham_epoch       </span>│<span style=\"color: #800080; text-decoration-color: #800080\">    0.3015404939651489     </span>│\n",
       "│<span style=\"color: #008080; text-decoration-color: #008080\">      test_loss_epoch      </span>│<span style=\"color: #800080; text-decoration-color: #800080\">    0.5936747193336487     </span>│\n",
       "└───────────────────────────┴───────────────────────────┘\n",
       "</pre>\n"
      ],
      "text/plain": [
       "┏━━━━━━━━━━━━━━━━━━━━━━━━━━━┳━━━━━━━━━━━━━━━━━━━━━━━━━━━┓\n",
       "┃\u001b[1m \u001b[0m\u001b[1m       Test metric       \u001b[0m\u001b[1m \u001b[0m┃\u001b[1m \u001b[0m\u001b[1m      DataLoader 0       \u001b[0m\u001b[1m \u001b[0m┃\n",
       "┡━━━━━━━━━━━━━━━━━━━━━━━━━━━╇━━━━━━━━━━━━━━━━━━━━━━━━━━━┩\n",
       "│\u001b[36m \u001b[0m\u001b[36m     test_f1ma_epoch     \u001b[0m\u001b[36m \u001b[0m│\u001b[35m \u001b[0m\u001b[35m    0.170683354139328    \u001b[0m\u001b[35m \u001b[0m│\n",
       "│\u001b[36m \u001b[0m\u001b[36m     test_ham_epoch      \u001b[0m\u001b[36m \u001b[0m│\u001b[35m \u001b[0m\u001b[35m   0.3015404939651489    \u001b[0m\u001b[35m \u001b[0m│\n",
       "│\u001b[36m \u001b[0m\u001b[36m     test_loss_epoch     \u001b[0m\u001b[36m \u001b[0m│\u001b[35m \u001b[0m\u001b[35m   0.5936747193336487    \u001b[0m\u001b[35m \u001b[0m│\n",
       "└───────────────────────────┴───────────────────────────┘\n"
      ]
     },
     "metadata": {},
     "output_type": "display_data"
    },
    {
     "name": "stdout",
     "output_type": "stream",
     "text": [
      "  loss: 0.5937 | hamming: 0.3015 | f1_macro: 0.1707\n",
      "Fold 2/10\n"
     ]
    },
    {
     "name": "stderr",
     "output_type": "stream",
     "text": [
      "GPU available: True (mps), used: False\n",
      "TPU available: False, using: 0 TPU cores\n",
      "HPU available: False, using: 0 HPUs\n",
      "\n",
      "  | Name       | Type                      | Params | Mode \n",
      "-----------------------------------------------------------------\n",
      "0 | classifier | Sequential                | 333 K  | train\n",
      "1 | loss       | BCEWithLogitsLoss         | 0      | train\n",
      "2 | hamming    | MultilabelHammingDistance | 0      | train\n",
      "3 | f1_macro   | MultilabelF1Score         | 0      | train\n",
      "-----------------------------------------------------------------\n",
      "333 K     Trainable params\n",
      "0         Non-trainable params\n",
      "333 K     Total params\n",
      "1.332     Total estimated model params size (MB)\n",
      "17        Modules in train mode\n",
      "0         Modules in eval mode\n"
     ]
    },
    {
     "name": "stdout",
     "output_type": "stream",
     "text": [
      "Epoch 4: 100%|██████████| 34/34 [00:00<00:00, 183.55it/s, v_num=151, train_loss=0.593, train_ham=0.314, train_f1ma=0.214, val_loss_step=0.580, val_ham_step=0.410, val_f1ma_step=0.0378, val_loss_epoch=0.566, val_ham_epoch=0.295, val_f1ma_epoch=0.139]\n"
     ]
    },
    {
     "name": "stderr",
     "output_type": "stream",
     "text": [
      "Restoring states from the checkpoint path at /Users/benjaminvaca/Documents/USFQ/semestre7/machine_learning/proyecto/lightning_logs/version_151/checkpoints/epoch=1-step=68.ckpt\n",
      "Loaded model weights from the checkpoint at /Users/benjaminvaca/Documents/USFQ/semestre7/machine_learning/proyecto/lightning_logs/version_151/checkpoints/epoch=1-step=68.ckpt\n"
     ]
    },
    {
     "name": "stdout",
     "output_type": "stream",
     "text": [
      "Validation DataLoader 0: 100%|██████████| 34/34 [00:00<00:00, 482.00it/s]"
     ]
    },
    {
     "name": "stderr",
     "output_type": "stream",
     "text": [
      "Restoring states from the checkpoint path at /Users/benjaminvaca/Documents/USFQ/semestre7/machine_learning/proyecto/lightning_logs/version_151/checkpoints/epoch=1-step=68.ckpt\n"
     ]
    },
    {
     "name": "stdout",
     "output_type": "stream",
     "text": [
      "\n"
     ]
    },
    {
     "name": "stderr",
     "output_type": "stream",
     "text": [
      "Loaded model weights from the checkpoint at /Users/benjaminvaca/Documents/USFQ/semestre7/machine_learning/proyecto/lightning_logs/version_151/checkpoints/epoch=1-step=68.ckpt\n"
     ]
    },
    {
     "name": "stdout",
     "output_type": "stream",
     "text": [
      "Validation DataLoader 0: 100%|██████████| 9/9 [00:00<00:00, 212.94it/s]\n"
     ]
    },
    {
     "name": "stderr",
     "output_type": "stream",
     "text": [
      "Restoring states from the checkpoint path at /Users/benjaminvaca/Documents/USFQ/semestre7/machine_learning/proyecto/lightning_logs/version_151/checkpoints/epoch=1-step=68.ckpt\n",
      "Loaded model weights from the checkpoint at /Users/benjaminvaca/Documents/USFQ/semestre7/machine_learning/proyecto/lightning_logs/version_151/checkpoints/epoch=1-step=68.ckpt\n"
     ]
    },
    {
     "name": "stdout",
     "output_type": "stream",
     "text": [
      "Testing DataLoader 0: 100%|██████████| 11/11 [00:00<00:00, 385.16it/s]\n"
     ]
    },
    {
     "data": {
      "text/html": [
       "<pre style=\"white-space:pre;overflow-x:auto;line-height:normal;font-family:Menlo,'DejaVu Sans Mono',consolas,'Courier New',monospace\">┏━━━━━━━━━━━━━━━━━━━━━━━━━━━┳━━━━━━━━━━━━━━━━━━━━━━━━━━━┓\n",
       "┃<span style=\"font-weight: bold\">        Test metric        </span>┃<span style=\"font-weight: bold\">       DataLoader 0        </span>┃\n",
       "┡━━━━━━━━━━━━━━━━━━━━━━━━━━━╇━━━━━━━━━━━━━━━━━━━━━━━━━━━┩\n",
       "│<span style=\"color: #008080; text-decoration-color: #008080\">      test_f1ma_epoch      </span>│<span style=\"color: #800080; text-decoration-color: #800080\">    0.19604434072971344    </span>│\n",
       "│<span style=\"color: #008080; text-decoration-color: #008080\">      test_ham_epoch       </span>│<span style=\"color: #800080; text-decoration-color: #800080\">    0.2913798689842224     </span>│\n",
       "│<span style=\"color: #008080; text-decoration-color: #008080\">      test_loss_epoch      </span>│<span style=\"color: #800080; text-decoration-color: #800080\">    0.5787256956100464     </span>│\n",
       "└───────────────────────────┴───────────────────────────┘\n",
       "</pre>\n"
      ],
      "text/plain": [
       "┏━━━━━━━━━━━━━━━━━━━━━━━━━━━┳━━━━━━━━━━━━━━━━━━━━━━━━━━━┓\n",
       "┃\u001b[1m \u001b[0m\u001b[1m       Test metric       \u001b[0m\u001b[1m \u001b[0m┃\u001b[1m \u001b[0m\u001b[1m      DataLoader 0       \u001b[0m\u001b[1m \u001b[0m┃\n",
       "┡━━━━━━━━━━━━━━━━━━━━━━━━━━━╇━━━━━━━━━━━━━━━━━━━━━━━━━━━┩\n",
       "│\u001b[36m \u001b[0m\u001b[36m     test_f1ma_epoch     \u001b[0m\u001b[36m \u001b[0m│\u001b[35m \u001b[0m\u001b[35m   0.19604434072971344   \u001b[0m\u001b[35m \u001b[0m│\n",
       "│\u001b[36m \u001b[0m\u001b[36m     test_ham_epoch      \u001b[0m\u001b[36m \u001b[0m│\u001b[35m \u001b[0m\u001b[35m   0.2913798689842224    \u001b[0m\u001b[35m \u001b[0m│\n",
       "│\u001b[36m \u001b[0m\u001b[36m     test_loss_epoch     \u001b[0m\u001b[36m \u001b[0m│\u001b[35m \u001b[0m\u001b[35m   0.5787256956100464    \u001b[0m\u001b[35m \u001b[0m│\n",
       "└───────────────────────────┴───────────────────────────┘\n"
      ]
     },
     "metadata": {},
     "output_type": "display_data"
    },
    {
     "name": "stdout",
     "output_type": "stream",
     "text": [
      "  loss: 0.5787 | hamming: 0.2914 | f1_macro: 0.1960\n",
      "Fold 3/10\n"
     ]
    },
    {
     "name": "stderr",
     "output_type": "stream",
     "text": [
      "GPU available: True (mps), used: False\n",
      "TPU available: False, using: 0 TPU cores\n",
      "HPU available: False, using: 0 HPUs\n",
      "\n",
      "  | Name       | Type                      | Params | Mode \n",
      "-----------------------------------------------------------------\n",
      "0 | classifier | Sequential                | 333 K  | train\n",
      "1 | loss       | BCEWithLogitsLoss         | 0      | train\n",
      "2 | hamming    | MultilabelHammingDistance | 0      | train\n",
      "3 | f1_macro   | MultilabelF1Score         | 0      | train\n",
      "-----------------------------------------------------------------\n",
      "333 K     Trainable params\n",
      "0         Non-trainable params\n",
      "333 K     Total params\n",
      "1.332     Total estimated model params size (MB)\n",
      "17        Modules in train mode\n",
      "0         Modules in eval mode\n"
     ]
    },
    {
     "name": "stdout",
     "output_type": "stream",
     "text": [
      "Epoch 6: 100%|██████████| 34/34 [00:00<00:00, 188.89it/s, v_num=152, train_loss=0.588, train_ham=0.337, train_f1ma=0.271, val_loss_step=0.569, val_ham_step=0.400, val_f1ma_step=0.0523, val_loss_epoch=0.568, val_ham_epoch=0.298, val_f1ma_epoch=0.163]\n"
     ]
    },
    {
     "name": "stderr",
     "output_type": "stream",
     "text": [
      "Restoring states from the checkpoint path at /Users/benjaminvaca/Documents/USFQ/semestre7/machine_learning/proyecto/lightning_logs/version_152/checkpoints/epoch=3-step=136.ckpt\n",
      "Loaded model weights from the checkpoint at /Users/benjaminvaca/Documents/USFQ/semestre7/machine_learning/proyecto/lightning_logs/version_152/checkpoints/epoch=3-step=136.ckpt\n"
     ]
    },
    {
     "name": "stdout",
     "output_type": "stream",
     "text": [
      "Validation DataLoader 0: 100%|██████████| 34/34 [00:00<00:00, 538.72it/s]\n"
     ]
    },
    {
     "name": "stderr",
     "output_type": "stream",
     "text": [
      "Restoring states from the checkpoint path at /Users/benjaminvaca/Documents/USFQ/semestre7/machine_learning/proyecto/lightning_logs/version_152/checkpoints/epoch=3-step=136.ckpt\n",
      "Loaded model weights from the checkpoint at /Users/benjaminvaca/Documents/USFQ/semestre7/machine_learning/proyecto/lightning_logs/version_152/checkpoints/epoch=3-step=136.ckpt\n"
     ]
    },
    {
     "name": "stdout",
     "output_type": "stream",
     "text": [
      "Validation DataLoader 0: 100%|██████████| 9/9 [00:00<00:00, 500.77it/s]\n"
     ]
    },
    {
     "name": "stderr",
     "output_type": "stream",
     "text": [
      "Restoring states from the checkpoint path at /Users/benjaminvaca/Documents/USFQ/semestre7/machine_learning/proyecto/lightning_logs/version_152/checkpoints/epoch=3-step=136.ckpt\n",
      "Loaded model weights from the checkpoint at /Users/benjaminvaca/Documents/USFQ/semestre7/machine_learning/proyecto/lightning_logs/version_152/checkpoints/epoch=3-step=136.ckpt\n"
     ]
    },
    {
     "name": "stdout",
     "output_type": "stream",
     "text": [
      "Testing DataLoader 0: 100%|██████████| 11/11 [00:00<00:00, 499.27it/s]\n"
     ]
    },
    {
     "data": {
      "text/html": [
       "<pre style=\"white-space:pre;overflow-x:auto;line-height:normal;font-family:Menlo,'DejaVu Sans Mono',consolas,'Courier New',monospace\">┏━━━━━━━━━━━━━━━━━━━━━━━━━━━┳━━━━━━━━━━━━━━━━━━━━━━━━━━━┓\n",
       "┃<span style=\"font-weight: bold\">        Test metric        </span>┃<span style=\"font-weight: bold\">       DataLoader 0        </span>┃\n",
       "┡━━━━━━━━━━━━━━━━━━━━━━━━━━━╇━━━━━━━━━━━━━━━━━━━━━━━━━━━┩\n",
       "│<span style=\"color: #008080; text-decoration-color: #008080\">      test_f1ma_epoch      </span>│<span style=\"color: #800080; text-decoration-color: #800080\">    0.1364125907421112     </span>│\n",
       "│<span style=\"color: #008080; text-decoration-color: #008080\">      test_ham_epoch       </span>│<span style=\"color: #800080; text-decoration-color: #800080\">    0.2835135757923126     </span>│\n",
       "│<span style=\"color: #008080; text-decoration-color: #008080\">      test_loss_epoch      </span>│<span style=\"color: #800080; text-decoration-color: #800080\">    0.5666582584381104     </span>│\n",
       "└───────────────────────────┴───────────────────────────┘\n",
       "</pre>\n"
      ],
      "text/plain": [
       "┏━━━━━━━━━━━━━━━━━━━━━━━━━━━┳━━━━━━━━━━━━━━━━━━━━━━━━━━━┓\n",
       "┃\u001b[1m \u001b[0m\u001b[1m       Test metric       \u001b[0m\u001b[1m \u001b[0m┃\u001b[1m \u001b[0m\u001b[1m      DataLoader 0       \u001b[0m\u001b[1m \u001b[0m┃\n",
       "┡━━━━━━━━━━━━━━━━━━━━━━━━━━━╇━━━━━━━━━━━━━━━━━━━━━━━━━━━┩\n",
       "│\u001b[36m \u001b[0m\u001b[36m     test_f1ma_epoch     \u001b[0m\u001b[36m \u001b[0m│\u001b[35m \u001b[0m\u001b[35m   0.1364125907421112    \u001b[0m\u001b[35m \u001b[0m│\n",
       "│\u001b[36m \u001b[0m\u001b[36m     test_ham_epoch      \u001b[0m\u001b[36m \u001b[0m│\u001b[35m \u001b[0m\u001b[35m   0.2835135757923126    \u001b[0m\u001b[35m \u001b[0m│\n",
       "│\u001b[36m \u001b[0m\u001b[36m     test_loss_epoch     \u001b[0m\u001b[36m \u001b[0m│\u001b[35m \u001b[0m\u001b[35m   0.5666582584381104    \u001b[0m\u001b[35m \u001b[0m│\n",
       "└───────────────────────────┴───────────────────────────┘\n"
      ]
     },
     "metadata": {},
     "output_type": "display_data"
    },
    {
     "name": "stdout",
     "output_type": "stream",
     "text": [
      "  loss: 0.5667 | hamming: 0.2835 | f1_macro: 0.1364\n",
      "Fold 4/10\n"
     ]
    },
    {
     "name": "stderr",
     "output_type": "stream",
     "text": [
      "GPU available: True (mps), used: False\n",
      "TPU available: False, using: 0 TPU cores\n",
      "HPU available: False, using: 0 HPUs\n",
      "\n",
      "  | Name       | Type                      | Params | Mode \n",
      "-----------------------------------------------------------------\n",
      "0 | classifier | Sequential                | 333 K  | train\n",
      "1 | loss       | BCEWithLogitsLoss         | 0      | train\n",
      "2 | hamming    | MultilabelHammingDistance | 0      | train\n",
      "3 | f1_macro   | MultilabelF1Score         | 0      | train\n",
      "-----------------------------------------------------------------\n",
      "333 K     Trainable params\n",
      "0         Non-trainable params\n",
      "333 K     Total params\n",
      "1.332     Total estimated model params size (MB)\n",
      "17        Modules in train mode\n",
      "0         Modules in eval mode\n"
     ]
    },
    {
     "name": "stdout",
     "output_type": "stream",
     "text": [
      "Epoch 3: 100%|██████████| 34/34 [00:00<00:00, 195.80it/s, v_num=153, train_loss=0.574, train_ham=0.293, train_f1ma=0.273, val_loss_step=0.565, val_ham_step=0.230, val_f1ma_step=0.125, val_loss_epoch=0.576, val_ham_epoch=0.314, val_f1ma_epoch=0.135] \n"
     ]
    },
    {
     "name": "stderr",
     "output_type": "stream",
     "text": [
      "Restoring states from the checkpoint path at /Users/benjaminvaca/Documents/USFQ/semestre7/machine_learning/proyecto/lightning_logs/version_153/checkpoints/epoch=0-step=34.ckpt\n",
      "Loaded model weights from the checkpoint at /Users/benjaminvaca/Documents/USFQ/semestre7/machine_learning/proyecto/lightning_logs/version_153/checkpoints/epoch=0-step=34.ckpt\n"
     ]
    },
    {
     "name": "stdout",
     "output_type": "stream",
     "text": [
      "Validation DataLoader 0: 100%|██████████| 34/34 [00:00<00:00, 540.18it/s]"
     ]
    },
    {
     "name": "stderr",
     "output_type": "stream",
     "text": [
      "Restoring states from the checkpoint path at /Users/benjaminvaca/Documents/USFQ/semestre7/machine_learning/proyecto/lightning_logs/version_153/checkpoints/epoch=0-step=34.ckpt\n"
     ]
    },
    {
     "name": "stdout",
     "output_type": "stream",
     "text": [
      "\n"
     ]
    },
    {
     "name": "stderr",
     "output_type": "stream",
     "text": [
      "Loaded model weights from the checkpoint at /Users/benjaminvaca/Documents/USFQ/semestre7/machine_learning/proyecto/lightning_logs/version_153/checkpoints/epoch=0-step=34.ckpt\n"
     ]
    },
    {
     "name": "stdout",
     "output_type": "stream",
     "text": [
      "Validation DataLoader 0: 100%|██████████| 9/9 [00:00<00:00, 515.43it/s]"
     ]
    },
    {
     "name": "stderr",
     "output_type": "stream",
     "text": [
      "Restoring states from the checkpoint path at /Users/benjaminvaca/Documents/USFQ/semestre7/machine_learning/proyecto/lightning_logs/version_153/checkpoints/epoch=0-step=34.ckpt\n"
     ]
    },
    {
     "name": "stdout",
     "output_type": "stream",
     "text": [
      "\n"
     ]
    },
    {
     "name": "stderr",
     "output_type": "stream",
     "text": [
      "Loaded model weights from the checkpoint at /Users/benjaminvaca/Documents/USFQ/semestre7/machine_learning/proyecto/lightning_logs/version_153/checkpoints/epoch=0-step=34.ckpt\n"
     ]
    },
    {
     "name": "stdout",
     "output_type": "stream",
     "text": [
      "Testing DataLoader 0: 100%|██████████| 11/11 [00:00<00:00, 513.54it/s]\n"
     ]
    },
    {
     "data": {
      "text/html": [
       "<pre style=\"white-space:pre;overflow-x:auto;line-height:normal;font-family:Menlo,'DejaVu Sans Mono',consolas,'Courier New',monospace\">┏━━━━━━━━━━━━━━━━━━━━━━━━━━━┳━━━━━━━━━━━━━━━━━━━━━━━━━━━┓\n",
       "┃<span style=\"font-weight: bold\">        Test metric        </span>┃<span style=\"font-weight: bold\">       DataLoader 0        </span>┃\n",
       "┡━━━━━━━━━━━━━━━━━━━━━━━━━━━╇━━━━━━━━━━━━━━━━━━━━━━━━━━━┩\n",
       "│<span style=\"color: #008080; text-decoration-color: #008080\">      test_f1ma_epoch      </span>│<span style=\"color: #800080; text-decoration-color: #800080\">    0.18762338161468506    </span>│\n",
       "│<span style=\"color: #008080; text-decoration-color: #008080\">      test_ham_epoch       </span>│<span style=\"color: #800080; text-decoration-color: #800080\">    0.30022943019866943    </span>│\n",
       "│<span style=\"color: #008080; text-decoration-color: #008080\">      test_loss_epoch      </span>│<span style=\"color: #800080; text-decoration-color: #800080\">    0.6045694947242737     </span>│\n",
       "└───────────────────────────┴───────────────────────────┘\n",
       "</pre>\n"
      ],
      "text/plain": [
       "┏━━━━━━━━━━━━━━━━━━━━━━━━━━━┳━━━━━━━━━━━━━━━━━━━━━━━━━━━┓\n",
       "┃\u001b[1m \u001b[0m\u001b[1m       Test metric       \u001b[0m\u001b[1m \u001b[0m┃\u001b[1m \u001b[0m\u001b[1m      DataLoader 0       \u001b[0m\u001b[1m \u001b[0m┃\n",
       "┡━━━━━━━━━━━━━━━━━━━━━━━━━━━╇━━━━━━━━━━━━━━━━━━━━━━━━━━━┩\n",
       "│\u001b[36m \u001b[0m\u001b[36m     test_f1ma_epoch     \u001b[0m\u001b[36m \u001b[0m│\u001b[35m \u001b[0m\u001b[35m   0.18762338161468506   \u001b[0m\u001b[35m \u001b[0m│\n",
       "│\u001b[36m \u001b[0m\u001b[36m     test_ham_epoch      \u001b[0m\u001b[36m \u001b[0m│\u001b[35m \u001b[0m\u001b[35m   0.30022943019866943   \u001b[0m\u001b[35m \u001b[0m│\n",
       "│\u001b[36m \u001b[0m\u001b[36m     test_loss_epoch     \u001b[0m\u001b[36m \u001b[0m│\u001b[35m \u001b[0m\u001b[35m   0.6045694947242737    \u001b[0m\u001b[35m \u001b[0m│\n",
       "└───────────────────────────┴───────────────────────────┘\n"
      ]
     },
     "metadata": {},
     "output_type": "display_data"
    },
    {
     "name": "stdout",
     "output_type": "stream",
     "text": [
      "  loss: 0.6046 | hamming: 0.3002 | f1_macro: 0.1876\n",
      "Fold 5/10\n"
     ]
    },
    {
     "name": "stderr",
     "output_type": "stream",
     "text": [
      "GPU available: True (mps), used: False\n",
      "TPU available: False, using: 0 TPU cores\n",
      "HPU available: False, using: 0 HPUs\n",
      "\n",
      "  | Name       | Type                      | Params | Mode \n",
      "-----------------------------------------------------------------\n",
      "0 | classifier | Sequential                | 333 K  | train\n",
      "1 | loss       | BCEWithLogitsLoss         | 0      | train\n",
      "2 | hamming    | MultilabelHammingDistance | 0      | train\n",
      "3 | f1_macro   | MultilabelF1Score         | 0      | train\n",
      "-----------------------------------------------------------------\n",
      "333 K     Trainable params\n",
      "0         Non-trainable params\n",
      "333 K     Total params\n",
      "1.332     Total estimated model params size (MB)\n",
      "17        Modules in train mode\n",
      "0         Modules in eval mode\n"
     ]
    },
    {
     "name": "stdout",
     "output_type": "stream",
     "text": [
      "Epoch 6: 100%|██████████| 34/34 [00:00<00:00, 187.97it/s, v_num=154, train_loss=0.575, train_ham=0.307, train_f1ma=0.282, val_loss_step=0.509, val_ham_step=0.237, val_f1ma_step=0.163, val_loss_epoch=0.579, val_ham_epoch=0.315, val_f1ma_epoch=0.145] \n"
     ]
    },
    {
     "name": "stderr",
     "output_type": "stream",
     "text": [
      "Restoring states from the checkpoint path at /Users/benjaminvaca/Documents/USFQ/semestre7/machine_learning/proyecto/lightning_logs/version_154/checkpoints/epoch=3-step=136.ckpt\n",
      "Loaded model weights from the checkpoint at /Users/benjaminvaca/Documents/USFQ/semestre7/machine_learning/proyecto/lightning_logs/version_154/checkpoints/epoch=3-step=136.ckpt\n"
     ]
    },
    {
     "name": "stdout",
     "output_type": "stream",
     "text": [
      "Validation DataLoader 0: 100%|██████████| 34/34 [00:00<00:00, 542.70it/s]"
     ]
    },
    {
     "name": "stderr",
     "output_type": "stream",
     "text": [
      "Restoring states from the checkpoint path at /Users/benjaminvaca/Documents/USFQ/semestre7/machine_learning/proyecto/lightning_logs/version_154/checkpoints/epoch=3-step=136.ckpt\n"
     ]
    },
    {
     "name": "stdout",
     "output_type": "stream",
     "text": [
      "\n"
     ]
    },
    {
     "name": "stderr",
     "output_type": "stream",
     "text": [
      "Loaded model weights from the checkpoint at /Users/benjaminvaca/Documents/USFQ/semestre7/machine_learning/proyecto/lightning_logs/version_154/checkpoints/epoch=3-step=136.ckpt\n"
     ]
    },
    {
     "name": "stdout",
     "output_type": "stream",
     "text": [
      "Validation DataLoader 0: 100%|██████████| 9/9 [00:00<00:00, 526.28it/s]"
     ]
    },
    {
     "name": "stderr",
     "output_type": "stream",
     "text": [
      "Restoring states from the checkpoint path at /Users/benjaminvaca/Documents/USFQ/semestre7/machine_learning/proyecto/lightning_logs/version_154/checkpoints/epoch=3-step=136.ckpt\n"
     ]
    },
    {
     "name": "stdout",
     "output_type": "stream",
     "text": [
      "\n"
     ]
    },
    {
     "name": "stderr",
     "output_type": "stream",
     "text": [
      "Loaded model weights from the checkpoint at /Users/benjaminvaca/Documents/USFQ/semestre7/machine_learning/proyecto/lightning_logs/version_154/checkpoints/epoch=3-step=136.ckpt\n"
     ]
    },
    {
     "name": "stdout",
     "output_type": "stream",
     "text": [
      "Testing DataLoader 0: 100%|██████████| 11/11 [00:00<00:00, 184.84it/s]\n"
     ]
    },
    {
     "data": {
      "text/html": [
       "<pre style=\"white-space:pre;overflow-x:auto;line-height:normal;font-family:Menlo,'DejaVu Sans Mono',consolas,'Courier New',monospace\">┏━━━━━━━━━━━━━━━━━━━━━━━━━━━┳━━━━━━━━━━━━━━━━━━━━━━━━━━━┓\n",
       "┃<span style=\"font-weight: bold\">        Test metric        </span>┃<span style=\"font-weight: bold\">       DataLoader 0        </span>┃\n",
       "┡━━━━━━━━━━━━━━━━━━━━━━━━━━━╇━━━━━━━━━━━━━━━━━━━━━━━━━━━┩\n",
       "│<span style=\"color: #008080; text-decoration-color: #008080\">      test_f1ma_epoch      </span>│<span style=\"color: #800080; text-decoration-color: #800080\">    0.15266788005828857    </span>│\n",
       "│<span style=\"color: #008080; text-decoration-color: #008080\">      test_ham_epoch       </span>│<span style=\"color: #800080; text-decoration-color: #800080\">    0.2874467670917511     </span>│\n",
       "│<span style=\"color: #008080; text-decoration-color: #008080\">      test_loss_epoch      </span>│<span style=\"color: #800080; text-decoration-color: #800080\">    0.5649282932281494     </span>│\n",
       "└───────────────────────────┴───────────────────────────┘\n",
       "</pre>\n"
      ],
      "text/plain": [
       "┏━━━━━━━━━━━━━━━━━━━━━━━━━━━┳━━━━━━━━━━━━━━━━━━━━━━━━━━━┓\n",
       "┃\u001b[1m \u001b[0m\u001b[1m       Test metric       \u001b[0m\u001b[1m \u001b[0m┃\u001b[1m \u001b[0m\u001b[1m      DataLoader 0       \u001b[0m\u001b[1m \u001b[0m┃\n",
       "┡━━━━━━━━━━━━━━━━━━━━━━━━━━━╇━━━━━━━━━━━━━━━━━━━━━━━━━━━┩\n",
       "│\u001b[36m \u001b[0m\u001b[36m     test_f1ma_epoch     \u001b[0m\u001b[36m \u001b[0m│\u001b[35m \u001b[0m\u001b[35m   0.15266788005828857   \u001b[0m\u001b[35m \u001b[0m│\n",
       "│\u001b[36m \u001b[0m\u001b[36m     test_ham_epoch      \u001b[0m\u001b[36m \u001b[0m│\u001b[35m \u001b[0m\u001b[35m   0.2874467670917511    \u001b[0m\u001b[35m \u001b[0m│\n",
       "│\u001b[36m \u001b[0m\u001b[36m     test_loss_epoch     \u001b[0m\u001b[36m \u001b[0m│\u001b[35m \u001b[0m\u001b[35m   0.5649282932281494    \u001b[0m\u001b[35m \u001b[0m│\n",
       "└───────────────────────────┴───────────────────────────┘\n"
      ]
     },
     "metadata": {},
     "output_type": "display_data"
    },
    {
     "name": "stdout",
     "output_type": "stream",
     "text": [
      "  loss: 0.5649 | hamming: 0.2874 | f1_macro: 0.1527\n",
      "Fold 6/10\n"
     ]
    },
    {
     "name": "stderr",
     "output_type": "stream",
     "text": [
      "GPU available: True (mps), used: False\n",
      "TPU available: False, using: 0 TPU cores\n",
      "HPU available: False, using: 0 HPUs\n",
      "\n",
      "  | Name       | Type                      | Params | Mode \n",
      "-----------------------------------------------------------------\n",
      "0 | classifier | Sequential                | 333 K  | train\n",
      "1 | loss       | BCEWithLogitsLoss         | 0      | train\n",
      "2 | hamming    | MultilabelHammingDistance | 0      | train\n",
      "3 | f1_macro   | MultilabelF1Score         | 0      | train\n",
      "-----------------------------------------------------------------\n",
      "333 K     Trainable params\n",
      "0         Non-trainable params\n",
      "333 K     Total params\n",
      "1.332     Total estimated model params size (MB)\n",
      "17        Modules in train mode\n",
      "0         Modules in eval mode\n"
     ]
    },
    {
     "name": "stdout",
     "output_type": "stream",
     "text": [
      "Epoch 3: 100%|██████████| 34/34 [00:00<00:00, 182.05it/s, v_num=155, train_loss=0.627, train_ham=0.307, train_f1ma=0.268, val_loss_step=0.576, val_ham_step=0.326, val_f1ma_step=0.121, val_loss_epoch=0.568, val_ham_epoch=0.299, val_f1ma_epoch=0.162] \n"
     ]
    },
    {
     "name": "stderr",
     "output_type": "stream",
     "text": [
      "Restoring states from the checkpoint path at /Users/benjaminvaca/Documents/USFQ/semestre7/machine_learning/proyecto/lightning_logs/version_155/checkpoints/epoch=0-step=34.ckpt\n",
      "Loaded model weights from the checkpoint at /Users/benjaminvaca/Documents/USFQ/semestre7/machine_learning/proyecto/lightning_logs/version_155/checkpoints/epoch=0-step=34.ckpt\n"
     ]
    },
    {
     "name": "stdout",
     "output_type": "stream",
     "text": [
      "Validation DataLoader 0: 100%|██████████| 34/34 [00:00<00:00, 475.78it/s]"
     ]
    },
    {
     "name": "stderr",
     "output_type": "stream",
     "text": [
      "Restoring states from the checkpoint path at /Users/benjaminvaca/Documents/USFQ/semestre7/machine_learning/proyecto/lightning_logs/version_155/checkpoints/epoch=0-step=34.ckpt\n"
     ]
    },
    {
     "name": "stdout",
     "output_type": "stream",
     "text": [
      "\n"
     ]
    },
    {
     "name": "stderr",
     "output_type": "stream",
     "text": [
      "Loaded model weights from the checkpoint at /Users/benjaminvaca/Documents/USFQ/semestre7/machine_learning/proyecto/lightning_logs/version_155/checkpoints/epoch=0-step=34.ckpt\n"
     ]
    },
    {
     "name": "stdout",
     "output_type": "stream",
     "text": [
      "Validation DataLoader 0: 100%|██████████| 9/9 [00:00<00:00, 440.42it/s]"
     ]
    },
    {
     "name": "stderr",
     "output_type": "stream",
     "text": [
      "Restoring states from the checkpoint path at /Users/benjaminvaca/Documents/USFQ/semestre7/machine_learning/proyecto/lightning_logs/version_155/checkpoints/epoch=0-step=34.ckpt\n"
     ]
    },
    {
     "name": "stdout",
     "output_type": "stream",
     "text": [
      "\n"
     ]
    },
    {
     "name": "stderr",
     "output_type": "stream",
     "text": [
      "Loaded model weights from the checkpoint at /Users/benjaminvaca/Documents/USFQ/semestre7/machine_learning/proyecto/lightning_logs/version_155/checkpoints/epoch=0-step=34.ckpt\n"
     ]
    },
    {
     "name": "stdout",
     "output_type": "stream",
     "text": [
      "Testing DataLoader 0: 100%|██████████| 11/11 [00:00<00:00, 454.62it/s]\n"
     ]
    },
    {
     "data": {
      "text/html": [
       "<pre style=\"white-space:pre;overflow-x:auto;line-height:normal;font-family:Menlo,'DejaVu Sans Mono',consolas,'Courier New',monospace\">┏━━━━━━━━━━━━━━━━━━━━━━━━━━━┳━━━━━━━━━━━━━━━━━━━━━━━━━━━┓\n",
       "┃<span style=\"font-weight: bold\">        Test metric        </span>┃<span style=\"font-weight: bold\">       DataLoader 0        </span>┃\n",
       "┡━━━━━━━━━━━━━━━━━━━━━━━━━━━╇━━━━━━━━━━━━━━━━━━━━━━━━━━━┩\n",
       "│<span style=\"color: #008080; text-decoration-color: #008080\">      test_f1ma_epoch      </span>│<span style=\"color: #800080; text-decoration-color: #800080\">    0.17900200188159943    </span>│\n",
       "│<span style=\"color: #008080; text-decoration-color: #008080\">      test_ham_epoch       </span>│<span style=\"color: #800080; text-decoration-color: #800080\">    0.3058013617992401     </span>│\n",
       "│<span style=\"color: #008080; text-decoration-color: #008080\">      test_loss_epoch      </span>│<span style=\"color: #800080; text-decoration-color: #800080\">    0.5934541821479797     </span>│\n",
       "└───────────────────────────┴───────────────────────────┘\n",
       "</pre>\n"
      ],
      "text/plain": [
       "┏━━━━━━━━━━━━━━━━━━━━━━━━━━━┳━━━━━━━━━━━━━━━━━━━━━━━━━━━┓\n",
       "┃\u001b[1m \u001b[0m\u001b[1m       Test metric       \u001b[0m\u001b[1m \u001b[0m┃\u001b[1m \u001b[0m\u001b[1m      DataLoader 0       \u001b[0m\u001b[1m \u001b[0m┃\n",
       "┡━━━━━━━━━━━━━━━━━━━━━━━━━━━╇━━━━━━━━━━━━━━━━━━━━━━━━━━━┩\n",
       "│\u001b[36m \u001b[0m\u001b[36m     test_f1ma_epoch     \u001b[0m\u001b[36m \u001b[0m│\u001b[35m \u001b[0m\u001b[35m   0.17900200188159943   \u001b[0m\u001b[35m \u001b[0m│\n",
       "│\u001b[36m \u001b[0m\u001b[36m     test_ham_epoch      \u001b[0m\u001b[36m \u001b[0m│\u001b[35m \u001b[0m\u001b[35m   0.3058013617992401    \u001b[0m\u001b[35m \u001b[0m│\n",
       "│\u001b[36m \u001b[0m\u001b[36m     test_loss_epoch     \u001b[0m\u001b[36m \u001b[0m│\u001b[35m \u001b[0m\u001b[35m   0.5934541821479797    \u001b[0m\u001b[35m \u001b[0m│\n",
       "└───────────────────────────┴───────────────────────────┘\n"
      ]
     },
     "metadata": {},
     "output_type": "display_data"
    },
    {
     "name": "stdout",
     "output_type": "stream",
     "text": [
      "  loss: 0.5935 | hamming: 0.3058 | f1_macro: 0.1790\n",
      "Fold 7/10\n"
     ]
    },
    {
     "name": "stderr",
     "output_type": "stream",
     "text": [
      "GPU available: True (mps), used: False\n",
      "TPU available: False, using: 0 TPU cores\n",
      "HPU available: False, using: 0 HPUs\n",
      "\n",
      "  | Name       | Type                      | Params | Mode \n",
      "-----------------------------------------------------------------\n",
      "0 | classifier | Sequential                | 333 K  | train\n",
      "1 | loss       | BCEWithLogitsLoss         | 0      | train\n",
      "2 | hamming    | MultilabelHammingDistance | 0      | train\n",
      "3 | f1_macro   | MultilabelF1Score         | 0      | train\n",
      "-----------------------------------------------------------------\n",
      "333 K     Trainable params\n",
      "0         Non-trainable params\n",
      "333 K     Total params\n",
      "1.332     Total estimated model params size (MB)\n",
      "17        Modules in train mode\n",
      "0         Modules in eval mode\n"
     ]
    },
    {
     "name": "stdout",
     "output_type": "stream",
     "text": [
      "Epoch 5: 100%|██████████| 34/34 [00:00<00:00, 187.44it/s, v_num=156, train_loss=0.611, train_ham=0.345, train_f1ma=0.188, val_loss_step=0.546, val_ham_step=0.375, val_f1ma_step=0.0729, val_loss_epoch=0.574, val_ham_epoch=0.294, val_f1ma_epoch=0.144]\n"
     ]
    },
    {
     "name": "stderr",
     "output_type": "stream",
     "text": [
      "Restoring states from the checkpoint path at /Users/benjaminvaca/Documents/USFQ/semestre7/machine_learning/proyecto/lightning_logs/version_156/checkpoints/epoch=2-step=102.ckpt\n",
      "Loaded model weights from the checkpoint at /Users/benjaminvaca/Documents/USFQ/semestre7/machine_learning/proyecto/lightning_logs/version_156/checkpoints/epoch=2-step=102.ckpt\n"
     ]
    },
    {
     "name": "stdout",
     "output_type": "stream",
     "text": [
      "Validation DataLoader 0: 100%|██████████| 34/34 [00:00<00:00, 400.24it/s]\n"
     ]
    },
    {
     "name": "stderr",
     "output_type": "stream",
     "text": [
      "Restoring states from the checkpoint path at /Users/benjaminvaca/Documents/USFQ/semestre7/machine_learning/proyecto/lightning_logs/version_156/checkpoints/epoch=2-step=102.ckpt\n",
      "Loaded model weights from the checkpoint at /Users/benjaminvaca/Documents/USFQ/semestre7/machine_learning/proyecto/lightning_logs/version_156/checkpoints/epoch=2-step=102.ckpt\n"
     ]
    },
    {
     "name": "stdout",
     "output_type": "stream",
     "text": [
      "Validation DataLoader 0: 100%|██████████| 9/9 [00:00<00:00, 336.68it/s]\n"
     ]
    },
    {
     "name": "stderr",
     "output_type": "stream",
     "text": [
      "Restoring states from the checkpoint path at /Users/benjaminvaca/Documents/USFQ/semestre7/machine_learning/proyecto/lightning_logs/version_156/checkpoints/epoch=2-step=102.ckpt\n",
      "Loaded model weights from the checkpoint at /Users/benjaminvaca/Documents/USFQ/semestre7/machine_learning/proyecto/lightning_logs/version_156/checkpoints/epoch=2-step=102.ckpt\n"
     ]
    },
    {
     "name": "stdout",
     "output_type": "stream",
     "text": [
      "Testing DataLoader 0: 100%|██████████| 11/11 [00:00<00:00, 462.71it/s]\n"
     ]
    },
    {
     "data": {
      "text/html": [
       "<pre style=\"white-space:pre;overflow-x:auto;line-height:normal;font-family:Menlo,'DejaVu Sans Mono',consolas,'Courier New',monospace\">┏━━━━━━━━━━━━━━━━━━━━━━━━━━━┳━━━━━━━━━━━━━━━━━━━━━━━━━━━┓\n",
       "┃<span style=\"font-weight: bold\">        Test metric        </span>┃<span style=\"font-weight: bold\">       DataLoader 0        </span>┃\n",
       "┡━━━━━━━━━━━━━━━━━━━━━━━━━━━╇━━━━━━━━━━━━━━━━━━━━━━━━━━━┩\n",
       "│<span style=\"color: #008080; text-decoration-color: #008080\">      test_f1ma_epoch      </span>│<span style=\"color: #800080; text-decoration-color: #800080\">    0.16295219957828522    </span>│\n",
       "│<span style=\"color: #008080; text-decoration-color: #008080\">      test_ham_epoch       </span>│<span style=\"color: #800080; text-decoration-color: #800080\">    0.30252376198768616    </span>│\n",
       "│<span style=\"color: #008080; text-decoration-color: #008080\">      test_loss_epoch      </span>│<span style=\"color: #800080; text-decoration-color: #800080\">    0.5783679485321045     </span>│\n",
       "└───────────────────────────┴───────────────────────────┘\n",
       "</pre>\n"
      ],
      "text/plain": [
       "┏━━━━━━━━━━━━━━━━━━━━━━━━━━━┳━━━━━━━━━━━━━━━━━━━━━━━━━━━┓\n",
       "┃\u001b[1m \u001b[0m\u001b[1m       Test metric       \u001b[0m\u001b[1m \u001b[0m┃\u001b[1m \u001b[0m\u001b[1m      DataLoader 0       \u001b[0m\u001b[1m \u001b[0m┃\n",
       "┡━━━━━━━━━━━━━━━━━━━━━━━━━━━╇━━━━━━━━━━━━━━━━━━━━━━━━━━━┩\n",
       "│\u001b[36m \u001b[0m\u001b[36m     test_f1ma_epoch     \u001b[0m\u001b[36m \u001b[0m│\u001b[35m \u001b[0m\u001b[35m   0.16295219957828522   \u001b[0m\u001b[35m \u001b[0m│\n",
       "│\u001b[36m \u001b[0m\u001b[36m     test_ham_epoch      \u001b[0m\u001b[36m \u001b[0m│\u001b[35m \u001b[0m\u001b[35m   0.30252376198768616   \u001b[0m\u001b[35m \u001b[0m│\n",
       "│\u001b[36m \u001b[0m\u001b[36m     test_loss_epoch     \u001b[0m\u001b[36m \u001b[0m│\u001b[35m \u001b[0m\u001b[35m   0.5783679485321045    \u001b[0m\u001b[35m \u001b[0m│\n",
       "└───────────────────────────┴───────────────────────────┘\n"
      ]
     },
     "metadata": {},
     "output_type": "display_data"
    },
    {
     "name": "stdout",
     "output_type": "stream",
     "text": [
      "  loss: 0.5784 | hamming: 0.3025 | f1_macro: 0.1630\n",
      "Fold 8/10\n"
     ]
    },
    {
     "name": "stderr",
     "output_type": "stream",
     "text": [
      "GPU available: True (mps), used: False\n",
      "TPU available: False, using: 0 TPU cores\n",
      "HPU available: False, using: 0 HPUs\n",
      "\n",
      "  | Name       | Type                      | Params | Mode \n",
      "-----------------------------------------------------------------\n",
      "0 | classifier | Sequential                | 333 K  | train\n",
      "1 | loss       | BCEWithLogitsLoss         | 0      | train\n",
      "2 | hamming    | MultilabelHammingDistance | 0      | train\n",
      "3 | f1_macro   | MultilabelF1Score         | 0      | train\n",
      "-----------------------------------------------------------------\n",
      "333 K     Trainable params\n",
      "0         Non-trainable params\n",
      "333 K     Total params\n",
      "1.332     Total estimated model params size (MB)\n",
      "17        Modules in train mode\n",
      "0         Modules in eval mode\n"
     ]
    },
    {
     "name": "stdout",
     "output_type": "stream",
     "text": [
      "Epoch 5: 100%|██████████| 34/34 [00:00<00:00, 167.77it/s, v_num=157, train_loss=0.526, train_ham=0.259, train_f1ma=0.341, val_loss_step=0.585, val_ham_step=0.385, val_f1ma_step=0.0632, val_loss_epoch=0.565, val_ham_epoch=0.278, val_f1ma_epoch=0.153]"
     ]
    },
    {
     "name": "stderr",
     "output_type": "stream",
     "text": [
      "Restoring states from the checkpoint path at /Users/benjaminvaca/Documents/USFQ/semestre7/machine_learning/proyecto/lightning_logs/version_157/checkpoints/epoch=2-step=102.ckpt\n"
     ]
    },
    {
     "name": "stdout",
     "output_type": "stream",
     "text": [
      "\n"
     ]
    },
    {
     "name": "stderr",
     "output_type": "stream",
     "text": [
      "Loaded model weights from the checkpoint at /Users/benjaminvaca/Documents/USFQ/semestre7/machine_learning/proyecto/lightning_logs/version_157/checkpoints/epoch=2-step=102.ckpt\n"
     ]
    },
    {
     "name": "stdout",
     "output_type": "stream",
     "text": [
      "Validation DataLoader 0: 100%|██████████| 34/34 [00:00<00:00, 469.61it/s]\n"
     ]
    },
    {
     "name": "stderr",
     "output_type": "stream",
     "text": [
      "Restoring states from the checkpoint path at /Users/benjaminvaca/Documents/USFQ/semestre7/machine_learning/proyecto/lightning_logs/version_157/checkpoints/epoch=2-step=102.ckpt\n",
      "Loaded model weights from the checkpoint at /Users/benjaminvaca/Documents/USFQ/semestre7/machine_learning/proyecto/lightning_logs/version_157/checkpoints/epoch=2-step=102.ckpt\n"
     ]
    },
    {
     "name": "stdout",
     "output_type": "stream",
     "text": [
      "Validation DataLoader 0: 100%|██████████| 9/9 [00:00<00:00, 406.72it/s]\n"
     ]
    },
    {
     "name": "stderr",
     "output_type": "stream",
     "text": [
      "Restoring states from the checkpoint path at /Users/benjaminvaca/Documents/USFQ/semestre7/machine_learning/proyecto/lightning_logs/version_157/checkpoints/epoch=2-step=102.ckpt\n",
      "Loaded model weights from the checkpoint at /Users/benjaminvaca/Documents/USFQ/semestre7/machine_learning/proyecto/lightning_logs/version_157/checkpoints/epoch=2-step=102.ckpt\n"
     ]
    },
    {
     "name": "stdout",
     "output_type": "stream",
     "text": [
      "Testing DataLoader 0: 100%|██████████| 11/11 [00:00<00:00, 417.84it/s]\n"
     ]
    },
    {
     "data": {
      "text/html": [
       "<pre style=\"white-space:pre;overflow-x:auto;line-height:normal;font-family:Menlo,'DejaVu Sans Mono',consolas,'Courier New',monospace\">┏━━━━━━━━━━━━━━━━━━━━━━━━━━━┳━━━━━━━━━━━━━━━━━━━━━━━━━━━┓\n",
       "┃<span style=\"font-weight: bold\">        Test metric        </span>┃<span style=\"font-weight: bold\">       DataLoader 0        </span>┃\n",
       "┡━━━━━━━━━━━━━━━━━━━━━━━━━━━╇━━━━━━━━━━━━━━━━━━━━━━━━━━━┩\n",
       "│<span style=\"color: #008080; text-decoration-color: #008080\">      test_f1ma_epoch      </span>│<span style=\"color: #800080; text-decoration-color: #800080\">    0.16895616054534912    </span>│\n",
       "│<span style=\"color: #008080; text-decoration-color: #008080\">      test_ham_epoch       </span>│<span style=\"color: #800080; text-decoration-color: #800080\">    0.2871190011501312     </span>│\n",
       "│<span style=\"color: #008080; text-decoration-color: #008080\">      test_loss_epoch      </span>│<span style=\"color: #800080; text-decoration-color: #800080\">     0.571270227432251     </span>│\n",
       "└───────────────────────────┴───────────────────────────┘\n",
       "</pre>\n"
      ],
      "text/plain": [
       "┏━━━━━━━━━━━━━━━━━━━━━━━━━━━┳━━━━━━━━━━━━━━━━━━━━━━━━━━━┓\n",
       "┃\u001b[1m \u001b[0m\u001b[1m       Test metric       \u001b[0m\u001b[1m \u001b[0m┃\u001b[1m \u001b[0m\u001b[1m      DataLoader 0       \u001b[0m\u001b[1m \u001b[0m┃\n",
       "┡━━━━━━━━━━━━━━━━━━━━━━━━━━━╇━━━━━━━━━━━━━━━━━━━━━━━━━━━┩\n",
       "│\u001b[36m \u001b[0m\u001b[36m     test_f1ma_epoch     \u001b[0m\u001b[36m \u001b[0m│\u001b[35m \u001b[0m\u001b[35m   0.16895616054534912   \u001b[0m\u001b[35m \u001b[0m│\n",
       "│\u001b[36m \u001b[0m\u001b[36m     test_ham_epoch      \u001b[0m\u001b[36m \u001b[0m│\u001b[35m \u001b[0m\u001b[35m   0.2871190011501312    \u001b[0m\u001b[35m \u001b[0m│\n",
       "│\u001b[36m \u001b[0m\u001b[36m     test_loss_epoch     \u001b[0m\u001b[36m \u001b[0m│\u001b[35m \u001b[0m\u001b[35m    0.571270227432251    \u001b[0m\u001b[35m \u001b[0m│\n",
       "└───────────────────────────┴───────────────────────────┘\n"
      ]
     },
     "metadata": {},
     "output_type": "display_data"
    },
    {
     "name": "stdout",
     "output_type": "stream",
     "text": [
      "  loss: 0.5713 | hamming: 0.2871 | f1_macro: 0.1690\n",
      "Fold 9/10\n"
     ]
    },
    {
     "name": "stderr",
     "output_type": "stream",
     "text": [
      "GPU available: True (mps), used: False\n",
      "TPU available: False, using: 0 TPU cores\n",
      "HPU available: False, using: 0 HPUs\n",
      "\n",
      "  | Name       | Type                      | Params | Mode \n",
      "-----------------------------------------------------------------\n",
      "0 | classifier | Sequential                | 333 K  | train\n",
      "1 | loss       | BCEWithLogitsLoss         | 0      | train\n",
      "2 | hamming    | MultilabelHammingDistance | 0      | train\n",
      "3 | f1_macro   | MultilabelF1Score         | 0      | train\n",
      "-----------------------------------------------------------------\n",
      "333 K     Trainable params\n",
      "0         Non-trainable params\n",
      "333 K     Total params\n",
      "1.332     Total estimated model params size (MB)\n",
      "17        Modules in train mode\n",
      "0         Modules in eval mode\n"
     ]
    },
    {
     "name": "stdout",
     "output_type": "stream",
     "text": [
      "Epoch 3: 100%|██████████| 34/34 [00:00<00:00, 189.44it/s, v_num=158, train_loss=0.524, train_ham=0.270, train_f1ma=0.393, val_loss_step=0.563, val_ham_step=0.244, val_f1ma_step=0.129, val_loss_epoch=0.571, val_ham_epoch=0.319, val_f1ma_epoch=0.139] \n"
     ]
    },
    {
     "name": "stderr",
     "output_type": "stream",
     "text": [
      "Restoring states from the checkpoint path at /Users/benjaminvaca/Documents/USFQ/semestre7/machine_learning/proyecto/lightning_logs/version_158/checkpoints/epoch=0-step=34.ckpt\n",
      "Loaded model weights from the checkpoint at /Users/benjaminvaca/Documents/USFQ/semestre7/machine_learning/proyecto/lightning_logs/version_158/checkpoints/epoch=0-step=34.ckpt\n"
     ]
    },
    {
     "name": "stdout",
     "output_type": "stream",
     "text": [
      "Validation DataLoader 0: 100%|██████████| 34/34 [00:00<00:00, 491.33it/s]"
     ]
    },
    {
     "name": "stderr",
     "output_type": "stream",
     "text": [
      "Restoring states from the checkpoint path at /Users/benjaminvaca/Documents/USFQ/semestre7/machine_learning/proyecto/lightning_logs/version_158/checkpoints/epoch=0-step=34.ckpt\n"
     ]
    },
    {
     "name": "stdout",
     "output_type": "stream",
     "text": [
      "\n"
     ]
    },
    {
     "name": "stderr",
     "output_type": "stream",
     "text": [
      "Loaded model weights from the checkpoint at /Users/benjaminvaca/Documents/USFQ/semestre7/machine_learning/proyecto/lightning_logs/version_158/checkpoints/epoch=0-step=34.ckpt\n"
     ]
    },
    {
     "name": "stdout",
     "output_type": "stream",
     "text": [
      "Validation DataLoader 0: 100%|██████████| 9/9 [00:00<00:00, 446.74it/s]\n"
     ]
    },
    {
     "name": "stderr",
     "output_type": "stream",
     "text": [
      "Restoring states from the checkpoint path at /Users/benjaminvaca/Documents/USFQ/semestre7/machine_learning/proyecto/lightning_logs/version_158/checkpoints/epoch=0-step=34.ckpt\n",
      "Loaded model weights from the checkpoint at /Users/benjaminvaca/Documents/USFQ/semestre7/machine_learning/proyecto/lightning_logs/version_158/checkpoints/epoch=0-step=34.ckpt\n"
     ]
    },
    {
     "name": "stdout",
     "output_type": "stream",
     "text": [
      "Testing DataLoader 0: 100%|██████████| 11/11 [00:00<00:00, 475.10it/s]\n"
     ]
    },
    {
     "data": {
      "text/html": [
       "<pre style=\"white-space:pre;overflow-x:auto;line-height:normal;font-family:Menlo,'DejaVu Sans Mono',consolas,'Courier New',monospace\">┏━━━━━━━━━━━━━━━━━━━━━━━━━━━┳━━━━━━━━━━━━━━━━━━━━━━━━━━━┓\n",
       "┃<span style=\"font-weight: bold\">        Test metric        </span>┃<span style=\"font-weight: bold\">       DataLoader 0        </span>┃\n",
       "┡━━━━━━━━━━━━━━━━━━━━━━━━━━━╇━━━━━━━━━━━━━━━━━━━━━━━━━━━┩\n",
       "│<span style=\"color: #008080; text-decoration-color: #008080\">      test_f1ma_epoch      </span>│<span style=\"color: #800080; text-decoration-color: #800080\">    0.1295025646686554     </span>│\n",
       "│<span style=\"color: #008080; text-decoration-color: #008080\">      test_ham_epoch       </span>│<span style=\"color: #800080; text-decoration-color: #800080\">    0.3110455572605133     </span>│\n",
       "│<span style=\"color: #008080; text-decoration-color: #008080\">      test_loss_epoch      </span>│<span style=\"color: #800080; text-decoration-color: #800080\">    0.5996693968772888     </span>│\n",
       "└───────────────────────────┴───────────────────────────┘\n",
       "</pre>\n"
      ],
      "text/plain": [
       "┏━━━━━━━━━━━━━━━━━━━━━━━━━━━┳━━━━━━━━━━━━━━━━━━━━━━━━━━━┓\n",
       "┃\u001b[1m \u001b[0m\u001b[1m       Test metric       \u001b[0m\u001b[1m \u001b[0m┃\u001b[1m \u001b[0m\u001b[1m      DataLoader 0       \u001b[0m\u001b[1m \u001b[0m┃\n",
       "┡━━━━━━━━━━━━━━━━━━━━━━━━━━━╇━━━━━━━━━━━━━━━━━━━━━━━━━━━┩\n",
       "│\u001b[36m \u001b[0m\u001b[36m     test_f1ma_epoch     \u001b[0m\u001b[36m \u001b[0m│\u001b[35m \u001b[0m\u001b[35m   0.1295025646686554    \u001b[0m\u001b[35m \u001b[0m│\n",
       "│\u001b[36m \u001b[0m\u001b[36m     test_ham_epoch      \u001b[0m\u001b[36m \u001b[0m│\u001b[35m \u001b[0m\u001b[35m   0.3110455572605133    \u001b[0m\u001b[35m \u001b[0m│\n",
       "│\u001b[36m \u001b[0m\u001b[36m     test_loss_epoch     \u001b[0m\u001b[36m \u001b[0m│\u001b[35m \u001b[0m\u001b[35m   0.5996693968772888    \u001b[0m\u001b[35m \u001b[0m│\n",
       "└───────────────────────────┴───────────────────────────┘\n"
      ]
     },
     "metadata": {},
     "output_type": "display_data"
    },
    {
     "name": "stdout",
     "output_type": "stream",
     "text": [
      "  loss: 0.5997 | hamming: 0.3110 | f1_macro: 0.1295\n",
      "Fold 10/10\n"
     ]
    },
    {
     "name": "stderr",
     "output_type": "stream",
     "text": [
      "GPU available: True (mps), used: False\n",
      "TPU available: False, using: 0 TPU cores\n",
      "HPU available: False, using: 0 HPUs\n",
      "\n",
      "  | Name       | Type                      | Params | Mode \n",
      "-----------------------------------------------------------------\n",
      "0 | classifier | Sequential                | 333 K  | train\n",
      "1 | loss       | BCEWithLogitsLoss         | 0      | train\n",
      "2 | hamming    | MultilabelHammingDistance | 0      | train\n",
      "3 | f1_macro   | MultilabelF1Score         | 0      | train\n",
      "-----------------------------------------------------------------\n",
      "333 K     Trainable params\n",
      "0         Non-trainable params\n",
      "333 K     Total params\n",
      "1.332     Total estimated model params size (MB)\n",
      "17        Modules in train mode\n",
      "0         Modules in eval mode\n"
     ]
    },
    {
     "name": "stdout",
     "output_type": "stream",
     "text": [
      "Epoch 6: 100%|██████████| 34/34 [00:00<00:00, 194.55it/s, v_num=159, train_loss=0.548, train_ham=0.278, train_f1ma=0.223, val_loss_step=0.599, val_ham_step=0.437, val_f1ma_step=0.0139, val_loss_epoch=0.571, val_ham_epoch=0.296, val_f1ma_epoch=0.175]\n"
     ]
    },
    {
     "name": "stderr",
     "output_type": "stream",
     "text": [
      "Restoring states from the checkpoint path at /Users/benjaminvaca/Documents/USFQ/semestre7/machine_learning/proyecto/lightning_logs/version_159/checkpoints/epoch=3-step=136.ckpt\n",
      "Loaded model weights from the checkpoint at /Users/benjaminvaca/Documents/USFQ/semestre7/machine_learning/proyecto/lightning_logs/version_159/checkpoints/epoch=3-step=136.ckpt\n"
     ]
    },
    {
     "name": "stdout",
     "output_type": "stream",
     "text": [
      "Validation DataLoader 0: 100%|██████████| 34/34 [00:00<00:00, 518.25it/s]"
     ]
    },
    {
     "name": "stderr",
     "output_type": "stream",
     "text": [
      "Restoring states from the checkpoint path at /Users/benjaminvaca/Documents/USFQ/semestre7/machine_learning/proyecto/lightning_logs/version_159/checkpoints/epoch=3-step=136.ckpt\n"
     ]
    },
    {
     "name": "stdout",
     "output_type": "stream",
     "text": [
      "\n"
     ]
    },
    {
     "name": "stderr",
     "output_type": "stream",
     "text": [
      "Loaded model weights from the checkpoint at /Users/benjaminvaca/Documents/USFQ/semestre7/machine_learning/proyecto/lightning_logs/version_159/checkpoints/epoch=3-step=136.ckpt\n"
     ]
    },
    {
     "name": "stdout",
     "output_type": "stream",
     "text": [
      "Validation DataLoader 0: 100%|██████████| 9/9 [00:00<00:00, 507.21it/s]"
     ]
    },
    {
     "name": "stderr",
     "output_type": "stream",
     "text": [
      "Restoring states from the checkpoint path at /Users/benjaminvaca/Documents/USFQ/semestre7/machine_learning/proyecto/lightning_logs/version_159/checkpoints/epoch=3-step=136.ckpt\n"
     ]
    },
    {
     "name": "stdout",
     "output_type": "stream",
     "text": [
      "\n"
     ]
    },
    {
     "name": "stderr",
     "output_type": "stream",
     "text": [
      "Loaded model weights from the checkpoint at /Users/benjaminvaca/Documents/USFQ/semestre7/machine_learning/proyecto/lightning_logs/version_159/checkpoints/epoch=3-step=136.ckpt\n"
     ]
    },
    {
     "name": "stdout",
     "output_type": "stream",
     "text": [
      "Testing DataLoader 0: 100%|██████████| 11/11 [00:00<00:00, 186.91it/s]\n"
     ]
    },
    {
     "data": {
      "text/html": [
       "<pre style=\"white-space:pre;overflow-x:auto;line-height:normal;font-family:Menlo,'DejaVu Sans Mono',consolas,'Courier New',monospace\">┏━━━━━━━━━━━━━━━━━━━━━━━━━━━┳━━━━━━━━━━━━━━━━━━━━━━━━━━━┓\n",
       "┃<span style=\"font-weight: bold\">        Test metric        </span>┃<span style=\"font-weight: bold\">       DataLoader 0        </span>┃\n",
       "┡━━━━━━━━━━━━━━━━━━━━━━━━━━━╇━━━━━━━━━━━━━━━━━━━━━━━━━━━┩\n",
       "│<span style=\"color: #008080; text-decoration-color: #008080\">      test_f1ma_epoch      </span>│<span style=\"color: #800080; text-decoration-color: #800080\">    0.18104252219200134    </span>│\n",
       "│<span style=\"color: #008080; text-decoration-color: #008080\">      test_ham_epoch       </span>│<span style=\"color: #800080; text-decoration-color: #800080\">    0.28023597598075867    </span>│\n",
       "│<span style=\"color: #008080; text-decoration-color: #008080\">      test_loss_epoch      </span>│<span style=\"color: #800080; text-decoration-color: #800080\">    0.5627202987670898     </span>│\n",
       "└───────────────────────────┴───────────────────────────┘\n",
       "</pre>\n"
      ],
      "text/plain": [
       "┏━━━━━━━━━━━━━━━━━━━━━━━━━━━┳━━━━━━━━━━━━━━━━━━━━━━━━━━━┓\n",
       "┃\u001b[1m \u001b[0m\u001b[1m       Test metric       \u001b[0m\u001b[1m \u001b[0m┃\u001b[1m \u001b[0m\u001b[1m      DataLoader 0       \u001b[0m\u001b[1m \u001b[0m┃\n",
       "┡━━━━━━━━━━━━━━━━━━━━━━━━━━━╇━━━━━━━━━━━━━━━━━━━━━━━━━━━┩\n",
       "│\u001b[36m \u001b[0m\u001b[36m     test_f1ma_epoch     \u001b[0m\u001b[36m \u001b[0m│\u001b[35m \u001b[0m\u001b[35m   0.18104252219200134   \u001b[0m\u001b[35m \u001b[0m│\n",
       "│\u001b[36m \u001b[0m\u001b[36m     test_ham_epoch      \u001b[0m\u001b[36m \u001b[0m│\u001b[35m \u001b[0m\u001b[35m   0.28023597598075867   \u001b[0m\u001b[35m \u001b[0m│\n",
       "│\u001b[36m \u001b[0m\u001b[36m     test_loss_epoch     \u001b[0m\u001b[36m \u001b[0m│\u001b[35m \u001b[0m\u001b[35m   0.5627202987670898    \u001b[0m\u001b[35m \u001b[0m│\n",
       "└───────────────────────────┴───────────────────────────┘\n"
      ]
     },
     "metadata": {},
     "output_type": "display_data"
    },
    {
     "name": "stdout",
     "output_type": "stream",
     "text": [
      "  loss: 0.5627 | hamming: 0.2802 | f1_macro: 0.1810\n",
      "\n",
      "F1-macro promedio: 0.1665 ± 0.0205\n",
      "Hamming promedio: 0.2951 ± 0.0099\n",
      "Pérdida promedio:         0.5814 ± 0.0146\n",
      "HU=[256, 256, 256]  L2=0.01 → val_f1ma: 0.1665\n",
      "Fold 1/10\n"
     ]
    },
    {
     "name": "stderr",
     "output_type": "stream",
     "text": [
      "GPU available: True (mps), used: False\n",
      "TPU available: False, using: 0 TPU cores\n",
      "HPU available: False, using: 0 HPUs\n",
      "\n",
      "  | Name       | Type                      | Params | Mode \n",
      "-----------------------------------------------------------------\n",
      "0 | classifier | Sequential                | 333 K  | train\n",
      "1 | loss       | BCEWithLogitsLoss         | 0      | train\n",
      "2 | hamming    | MultilabelHammingDistance | 0      | train\n",
      "3 | f1_macro   | MultilabelF1Score         | 0      | train\n",
      "-----------------------------------------------------------------\n",
      "333 K     Trainable params\n",
      "0         Non-trainable params\n",
      "333 K     Total params\n",
      "1.332     Total estimated model params size (MB)\n",
      "17        Modules in train mode\n",
      "0         Modules in eval mode\n"
     ]
    },
    {
     "name": "stdout",
     "output_type": "stream",
     "text": [
      "Epoch 6: 100%|██████████| 34/34 [00:00<00:00, 189.92it/s, v_num=160, train_loss=0.530, train_ham=0.253, train_f1ma=0.407, val_loss_step=0.521, val_ham_step=0.194, val_f1ma_step=0.156, val_loss_epoch=0.550, val_ham_epoch=0.297, val_f1ma_epoch=0.183] \n"
     ]
    },
    {
     "name": "stderr",
     "output_type": "stream",
     "text": [
      "Restoring states from the checkpoint path at /Users/benjaminvaca/Documents/USFQ/semestre7/machine_learning/proyecto/lightning_logs/version_160/checkpoints/epoch=3-step=136.ckpt\n",
      "Loaded model weights from the checkpoint at /Users/benjaminvaca/Documents/USFQ/semestre7/machine_learning/proyecto/lightning_logs/version_160/checkpoints/epoch=3-step=136.ckpt\n"
     ]
    },
    {
     "name": "stdout",
     "output_type": "stream",
     "text": [
      "Validation DataLoader 0: 100%|██████████| 34/34 [00:00<00:00, 522.01it/s]\n"
     ]
    },
    {
     "name": "stderr",
     "output_type": "stream",
     "text": [
      "Restoring states from the checkpoint path at /Users/benjaminvaca/Documents/USFQ/semestre7/machine_learning/proyecto/lightning_logs/version_160/checkpoints/epoch=3-step=136.ckpt\n",
      "Loaded model weights from the checkpoint at /Users/benjaminvaca/Documents/USFQ/semestre7/machine_learning/proyecto/lightning_logs/version_160/checkpoints/epoch=3-step=136.ckpt\n"
     ]
    },
    {
     "name": "stdout",
     "output_type": "stream",
     "text": [
      "Validation DataLoader 0: 100%|██████████| 9/9 [00:00<00:00, 492.69it/s]\n"
     ]
    },
    {
     "name": "stderr",
     "output_type": "stream",
     "text": [
      "Restoring states from the checkpoint path at /Users/benjaminvaca/Documents/USFQ/semestre7/machine_learning/proyecto/lightning_logs/version_160/checkpoints/epoch=3-step=136.ckpt\n",
      "Loaded model weights from the checkpoint at /Users/benjaminvaca/Documents/USFQ/semestre7/machine_learning/proyecto/lightning_logs/version_160/checkpoints/epoch=3-step=136.ckpt\n"
     ]
    },
    {
     "name": "stdout",
     "output_type": "stream",
     "text": [
      "Testing DataLoader 0: 100%|██████████| 11/11 [00:00<00:00, 450.43it/s]\n"
     ]
    },
    {
     "data": {
      "text/html": [
       "<pre style=\"white-space:pre;overflow-x:auto;line-height:normal;font-family:Menlo,'DejaVu Sans Mono',consolas,'Courier New',monospace\">┏━━━━━━━━━━━━━━━━━━━━━━━━━━━┳━━━━━━━━━━━━━━━━━━━━━━━━━━━┓\n",
       "┃<span style=\"font-weight: bold\">        Test metric        </span>┃<span style=\"font-weight: bold\">       DataLoader 0        </span>┃\n",
       "┡━━━━━━━━━━━━━━━━━━━━━━━━━━━╇━━━━━━━━━━━━━━━━━━━━━━━━━━━┩\n",
       "│<span style=\"color: #008080; text-decoration-color: #008080\">      test_f1ma_epoch      </span>│<span style=\"color: #800080; text-decoration-color: #800080\">    0.18299952149391174    </span>│\n",
       "│<span style=\"color: #008080; text-decoration-color: #008080\">      test_ham_epoch       </span>│<span style=\"color: #800080; text-decoration-color: #800080\">    0.28416913747787476    </span>│\n",
       "│<span style=\"color: #008080; text-decoration-color: #008080\">      test_loss_epoch      </span>│<span style=\"color: #800080; text-decoration-color: #800080\">    0.5603844523429871     </span>│\n",
       "└───────────────────────────┴───────────────────────────┘\n",
       "</pre>\n"
      ],
      "text/plain": [
       "┏━━━━━━━━━━━━━━━━━━━━━━━━━━━┳━━━━━━━━━━━━━━━━━━━━━━━━━━━┓\n",
       "┃\u001b[1m \u001b[0m\u001b[1m       Test metric       \u001b[0m\u001b[1m \u001b[0m┃\u001b[1m \u001b[0m\u001b[1m      DataLoader 0       \u001b[0m\u001b[1m \u001b[0m┃\n",
       "┡━━━━━━━━━━━━━━━━━━━━━━━━━━━╇━━━━━━━━━━━━━━━━━━━━━━━━━━━┩\n",
       "│\u001b[36m \u001b[0m\u001b[36m     test_f1ma_epoch     \u001b[0m\u001b[36m \u001b[0m│\u001b[35m \u001b[0m\u001b[35m   0.18299952149391174   \u001b[0m\u001b[35m \u001b[0m│\n",
       "│\u001b[36m \u001b[0m\u001b[36m     test_ham_epoch      \u001b[0m\u001b[36m \u001b[0m│\u001b[35m \u001b[0m\u001b[35m   0.28416913747787476   \u001b[0m\u001b[35m \u001b[0m│\n",
       "│\u001b[36m \u001b[0m\u001b[36m     test_loss_epoch     \u001b[0m\u001b[36m \u001b[0m│\u001b[35m \u001b[0m\u001b[35m   0.5603844523429871    \u001b[0m\u001b[35m \u001b[0m│\n",
       "└───────────────────────────┴───────────────────────────┘\n"
      ]
     },
     "metadata": {},
     "output_type": "display_data"
    },
    {
     "name": "stdout",
     "output_type": "stream",
     "text": [
      "  loss: 0.5604 | hamming: 0.2842 | f1_macro: 0.1830\n",
      "Fold 2/10\n"
     ]
    },
    {
     "name": "stderr",
     "output_type": "stream",
     "text": [
      "GPU available: True (mps), used: False\n",
      "TPU available: False, using: 0 TPU cores\n",
      "HPU available: False, using: 0 HPUs\n",
      "\n",
      "  | Name       | Type                      | Params | Mode \n",
      "-----------------------------------------------------------------\n",
      "0 | classifier | Sequential                | 333 K  | train\n",
      "1 | loss       | BCEWithLogitsLoss         | 0      | train\n",
      "2 | hamming    | MultilabelHammingDistance | 0      | train\n",
      "3 | f1_macro   | MultilabelF1Score         | 0      | train\n",
      "-----------------------------------------------------------------\n",
      "333 K     Trainable params\n",
      "0         Non-trainable params\n",
      "333 K     Total params\n",
      "1.332     Total estimated model params size (MB)\n",
      "17        Modules in train mode\n",
      "0         Modules in eval mode\n"
     ]
    },
    {
     "name": "stdout",
     "output_type": "stream",
     "text": [
      "Epoch 3: 100%|██████████| 34/34 [00:00<00:00, 157.58it/s, v_num=161, train_loss=0.517, train_ham=0.257, train_f1ma=0.399, val_loss_step=0.621, val_ham_step=0.431, val_f1ma_step=0.0378, val_loss_epoch=0.563, val_ham_epoch=0.304, val_f1ma_epoch=0.172]\n"
     ]
    },
    {
     "name": "stderr",
     "output_type": "stream",
     "text": [
      "Restoring states from the checkpoint path at /Users/benjaminvaca/Documents/USFQ/semestre7/machine_learning/proyecto/lightning_logs/version_161/checkpoints/epoch=0-step=34.ckpt\n",
      "Loaded model weights from the checkpoint at /Users/benjaminvaca/Documents/USFQ/semestre7/machine_learning/proyecto/lightning_logs/version_161/checkpoints/epoch=0-step=34.ckpt\n"
     ]
    },
    {
     "name": "stdout",
     "output_type": "stream",
     "text": [
      "Validation DataLoader 0: 100%|██████████| 34/34 [00:00<00:00, 545.32it/s]"
     ]
    },
    {
     "name": "stderr",
     "output_type": "stream",
     "text": [
      "Restoring states from the checkpoint path at /Users/benjaminvaca/Documents/USFQ/semestre7/machine_learning/proyecto/lightning_logs/version_161/checkpoints/epoch=0-step=34.ckpt\n"
     ]
    },
    {
     "name": "stdout",
     "output_type": "stream",
     "text": [
      "\n"
     ]
    },
    {
     "name": "stderr",
     "output_type": "stream",
     "text": [
      "Loaded model weights from the checkpoint at /Users/benjaminvaca/Documents/USFQ/semestre7/machine_learning/proyecto/lightning_logs/version_161/checkpoints/epoch=0-step=34.ckpt\n"
     ]
    },
    {
     "name": "stdout",
     "output_type": "stream",
     "text": [
      "Validation DataLoader 0: 100%|██████████| 9/9 [00:00<00:00, 512.17it/s]"
     ]
    },
    {
     "name": "stderr",
     "output_type": "stream",
     "text": [
      "Restoring states from the checkpoint path at /Users/benjaminvaca/Documents/USFQ/semestre7/machine_learning/proyecto/lightning_logs/version_161/checkpoints/epoch=0-step=34.ckpt\n"
     ]
    },
    {
     "name": "stdout",
     "output_type": "stream",
     "text": [
      "\n"
     ]
    },
    {
     "name": "stderr",
     "output_type": "stream",
     "text": [
      "Loaded model weights from the checkpoint at /Users/benjaminvaca/Documents/USFQ/semestre7/machine_learning/proyecto/lightning_logs/version_161/checkpoints/epoch=0-step=34.ckpt\n"
     ]
    },
    {
     "name": "stdout",
     "output_type": "stream",
     "text": [
      "Testing DataLoader 0: 100%|██████████| 11/11 [00:00<00:00, 521.53it/s]\n"
     ]
    },
    {
     "data": {
      "text/html": [
       "<pre style=\"white-space:pre;overflow-x:auto;line-height:normal;font-family:Menlo,'DejaVu Sans Mono',consolas,'Courier New',monospace\">┏━━━━━━━━━━━━━━━━━━━━━━━━━━━┳━━━━━━━━━━━━━━━━━━━━━━━━━━━┓\n",
       "┃<span style=\"font-weight: bold\">        Test metric        </span>┃<span style=\"font-weight: bold\">       DataLoader 0        </span>┃\n",
       "┡━━━━━━━━━━━━━━━━━━━━━━━━━━━╇━━━━━━━━━━━━━━━━━━━━━━━━━━━┩\n",
       "│<span style=\"color: #008080; text-decoration-color: #008080\">      test_f1ma_epoch      </span>│<span style=\"color: #800080; text-decoration-color: #800080\">    0.21058262884616852    </span>│\n",
       "│<span style=\"color: #008080; text-decoration-color: #008080\">      test_ham_epoch       </span>│<span style=\"color: #800080; text-decoration-color: #800080\">    0.31170108914375305    </span>│\n",
       "│<span style=\"color: #008080; text-decoration-color: #008080\">      test_loss_epoch      </span>│<span style=\"color: #800080; text-decoration-color: #800080\">    0.5914610624313354     </span>│\n",
       "└───────────────────────────┴───────────────────────────┘\n",
       "</pre>\n"
      ],
      "text/plain": [
       "┏━━━━━━━━━━━━━━━━━━━━━━━━━━━┳━━━━━━━━━━━━━━━━━━━━━━━━━━━┓\n",
       "┃\u001b[1m \u001b[0m\u001b[1m       Test metric       \u001b[0m\u001b[1m \u001b[0m┃\u001b[1m \u001b[0m\u001b[1m      DataLoader 0       \u001b[0m\u001b[1m \u001b[0m┃\n",
       "┡━━━━━━━━━━━━━━━━━━━━━━━━━━━╇━━━━━━━━━━━━━━━━━━━━━━━━━━━┩\n",
       "│\u001b[36m \u001b[0m\u001b[36m     test_f1ma_epoch     \u001b[0m\u001b[36m \u001b[0m│\u001b[35m \u001b[0m\u001b[35m   0.21058262884616852   \u001b[0m\u001b[35m \u001b[0m│\n",
       "│\u001b[36m \u001b[0m\u001b[36m     test_ham_epoch      \u001b[0m\u001b[36m \u001b[0m│\u001b[35m \u001b[0m\u001b[35m   0.31170108914375305   \u001b[0m\u001b[35m \u001b[0m│\n",
       "│\u001b[36m \u001b[0m\u001b[36m     test_loss_epoch     \u001b[0m\u001b[36m \u001b[0m│\u001b[35m \u001b[0m\u001b[35m   0.5914610624313354    \u001b[0m\u001b[35m \u001b[0m│\n",
       "└───────────────────────────┴───────────────────────────┘\n"
      ]
     },
     "metadata": {},
     "output_type": "display_data"
    },
    {
     "name": "stdout",
     "output_type": "stream",
     "text": [
      "  loss: 0.5915 | hamming: 0.3117 | f1_macro: 0.2106\n",
      "Fold 3/10\n"
     ]
    },
    {
     "name": "stderr",
     "output_type": "stream",
     "text": [
      "GPU available: True (mps), used: False\n",
      "TPU available: False, using: 0 TPU cores\n",
      "HPU available: False, using: 0 HPUs\n",
      "\n",
      "  | Name       | Type                      | Params | Mode \n",
      "-----------------------------------------------------------------\n",
      "0 | classifier | Sequential                | 333 K  | train\n",
      "1 | loss       | BCEWithLogitsLoss         | 0      | train\n",
      "2 | hamming    | MultilabelHammingDistance | 0      | train\n",
      "3 | f1_macro   | MultilabelF1Score         | 0      | train\n",
      "-----------------------------------------------------------------\n",
      "333 K     Trainable params\n",
      "0         Non-trainable params\n",
      "333 K     Total params\n",
      "1.332     Total estimated model params size (MB)\n",
      "17        Modules in train mode\n",
      "0         Modules in eval mode\n"
     ]
    },
    {
     "name": "stdout",
     "output_type": "stream",
     "text": [
      "Epoch 13: 100%|██████████| 34/34 [00:00<00:00, 190.09it/s, v_num=162, train_loss=0.563, train_ham=0.296, train_f1ma=0.258, val_loss_step=0.519, val_ham_step=0.400, val_f1ma_step=0.0523, val_loss_epoch=0.558, val_ham_epoch=0.284, val_f1ma_epoch=0.213]\n"
     ]
    },
    {
     "name": "stderr",
     "output_type": "stream",
     "text": [
      "Restoring states from the checkpoint path at /Users/benjaminvaca/Documents/USFQ/semestre7/machine_learning/proyecto/lightning_logs/version_162/checkpoints/epoch=10-step=374.ckpt\n",
      "Loaded model weights from the checkpoint at /Users/benjaminvaca/Documents/USFQ/semestre7/machine_learning/proyecto/lightning_logs/version_162/checkpoints/epoch=10-step=374.ckpt\n"
     ]
    },
    {
     "name": "stdout",
     "output_type": "stream",
     "text": [
      "Validation DataLoader 0: 100%|██████████| 34/34 [00:00<00:00, 325.65it/s]"
     ]
    },
    {
     "name": "stderr",
     "output_type": "stream",
     "text": [
      "Restoring states from the checkpoint path at /Users/benjaminvaca/Documents/USFQ/semestre7/machine_learning/proyecto/lightning_logs/version_162/checkpoints/epoch=10-step=374.ckpt\n"
     ]
    },
    {
     "name": "stdout",
     "output_type": "stream",
     "text": [
      "\n"
     ]
    },
    {
     "name": "stderr",
     "output_type": "stream",
     "text": [
      "Loaded model weights from the checkpoint at /Users/benjaminvaca/Documents/USFQ/semestre7/machine_learning/proyecto/lightning_logs/version_162/checkpoints/epoch=10-step=374.ckpt\n"
     ]
    },
    {
     "name": "stdout",
     "output_type": "stream",
     "text": [
      "Validation DataLoader 0: 100%|██████████| 9/9 [00:00<00:00, 484.42it/s]\n"
     ]
    },
    {
     "name": "stderr",
     "output_type": "stream",
     "text": [
      "Restoring states from the checkpoint path at /Users/benjaminvaca/Documents/USFQ/semestre7/machine_learning/proyecto/lightning_logs/version_162/checkpoints/epoch=10-step=374.ckpt\n",
      "Loaded model weights from the checkpoint at /Users/benjaminvaca/Documents/USFQ/semestre7/machine_learning/proyecto/lightning_logs/version_162/checkpoints/epoch=10-step=374.ckpt\n"
     ]
    },
    {
     "name": "stdout",
     "output_type": "stream",
     "text": [
      "Testing DataLoader 0: 100%|██████████| 11/11 [00:00<00:00, 493.58it/s]\n"
     ]
    },
    {
     "data": {
      "text/html": [
       "<pre style=\"white-space:pre;overflow-x:auto;line-height:normal;font-family:Menlo,'DejaVu Sans Mono',consolas,'Courier New',monospace\">┏━━━━━━━━━━━━━━━━━━━━━━━━━━━┳━━━━━━━━━━━━━━━━━━━━━━━━━━━┓\n",
       "┃<span style=\"font-weight: bold\">        Test metric        </span>┃<span style=\"font-weight: bold\">       DataLoader 0        </span>┃\n",
       "┡━━━━━━━━━━━━━━━━━━━━━━━━━━━╇━━━━━━━━━━━━━━━━━━━━━━━━━━━┩\n",
       "│<span style=\"color: #008080; text-decoration-color: #008080\">      test_f1ma_epoch      </span>│<span style=\"color: #800080; text-decoration-color: #800080\">    0.2006293535232544     </span>│\n",
       "│<span style=\"color: #008080; text-decoration-color: #008080\">      test_ham_epoch       </span>│<span style=\"color: #800080; text-decoration-color: #800080\">    0.2782694101333618     </span>│\n",
       "│<span style=\"color: #008080; text-decoration-color: #008080\">      test_loss_epoch      </span>│<span style=\"color: #800080; text-decoration-color: #800080\">    0.5468458533287048     </span>│\n",
       "└───────────────────────────┴───────────────────────────┘\n",
       "</pre>\n"
      ],
      "text/plain": [
       "┏━━━━━━━━━━━━━━━━━━━━━━━━━━━┳━━━━━━━━━━━━━━━━━━━━━━━━━━━┓\n",
       "┃\u001b[1m \u001b[0m\u001b[1m       Test metric       \u001b[0m\u001b[1m \u001b[0m┃\u001b[1m \u001b[0m\u001b[1m      DataLoader 0       \u001b[0m\u001b[1m \u001b[0m┃\n",
       "┡━━━━━━━━━━━━━━━━━━━━━━━━━━━╇━━━━━━━━━━━━━━━━━━━━━━━━━━━┩\n",
       "│\u001b[36m \u001b[0m\u001b[36m     test_f1ma_epoch     \u001b[0m\u001b[36m \u001b[0m│\u001b[35m \u001b[0m\u001b[35m   0.2006293535232544    \u001b[0m\u001b[35m \u001b[0m│\n",
       "│\u001b[36m \u001b[0m\u001b[36m     test_ham_epoch      \u001b[0m\u001b[36m \u001b[0m│\u001b[35m \u001b[0m\u001b[35m   0.2782694101333618    \u001b[0m\u001b[35m \u001b[0m│\n",
       "│\u001b[36m \u001b[0m\u001b[36m     test_loss_epoch     \u001b[0m\u001b[36m \u001b[0m│\u001b[35m \u001b[0m\u001b[35m   0.5468458533287048    \u001b[0m\u001b[35m \u001b[0m│\n",
       "└───────────────────────────┴───────────────────────────┘\n"
      ]
     },
     "metadata": {},
     "output_type": "display_data"
    },
    {
     "name": "stdout",
     "output_type": "stream",
     "text": [
      "  loss: 0.5468 | hamming: 0.2783 | f1_macro: 0.2006\n",
      "Fold 4/10\n"
     ]
    },
    {
     "name": "stderr",
     "output_type": "stream",
     "text": [
      "GPU available: True (mps), used: False\n",
      "TPU available: False, using: 0 TPU cores\n",
      "HPU available: False, using: 0 HPUs\n",
      "\n",
      "  | Name       | Type                      | Params | Mode \n",
      "-----------------------------------------------------------------\n",
      "0 | classifier | Sequential                | 333 K  | train\n",
      "1 | loss       | BCEWithLogitsLoss         | 0      | train\n",
      "2 | hamming    | MultilabelHammingDistance | 0      | train\n",
      "3 | f1_macro   | MultilabelF1Score         | 0      | train\n",
      "-----------------------------------------------------------------\n",
      "333 K     Trainable params\n",
      "0         Non-trainable params\n",
      "333 K     Total params\n",
      "1.332     Total estimated model params size (MB)\n",
      "17        Modules in train mode\n",
      "0         Modules in eval mode\n"
     ]
    },
    {
     "name": "stdout",
     "output_type": "stream",
     "text": [
      "Epoch 6: 100%|██████████| 34/34 [00:00<00:00, 191.80it/s, v_num=163, train_loss=0.617, train_ham=0.341, train_f1ma=0.224, val_loss_step=0.549, val_ham_step=0.319, val_f1ma_step=0.126, val_loss_epoch=0.561, val_ham_epoch=0.293, val_f1ma_epoch=0.189] \n"
     ]
    },
    {
     "name": "stderr",
     "output_type": "stream",
     "text": [
      "Restoring states from the checkpoint path at /Users/benjaminvaca/Documents/USFQ/semestre7/machine_learning/proyecto/lightning_logs/version_163/checkpoints/epoch=3-step=136.ckpt\n",
      "Loaded model weights from the checkpoint at /Users/benjaminvaca/Documents/USFQ/semestre7/machine_learning/proyecto/lightning_logs/version_163/checkpoints/epoch=3-step=136.ckpt\n"
     ]
    },
    {
     "name": "stdout",
     "output_type": "stream",
     "text": [
      "Validation DataLoader 0: 100%|██████████| 34/34 [00:00<00:00, 521.05it/s]\n"
     ]
    },
    {
     "name": "stderr",
     "output_type": "stream",
     "text": [
      "Restoring states from the checkpoint path at /Users/benjaminvaca/Documents/USFQ/semestre7/machine_learning/proyecto/lightning_logs/version_163/checkpoints/epoch=3-step=136.ckpt\n",
      "Loaded model weights from the checkpoint at /Users/benjaminvaca/Documents/USFQ/semestre7/machine_learning/proyecto/lightning_logs/version_163/checkpoints/epoch=3-step=136.ckpt\n"
     ]
    },
    {
     "name": "stdout",
     "output_type": "stream",
     "text": [
      "Validation DataLoader 0: 100%|██████████| 9/9 [00:00<00:00, 462.58it/s]"
     ]
    },
    {
     "name": "stderr",
     "output_type": "stream",
     "text": [
      "Restoring states from the checkpoint path at /Users/benjaminvaca/Documents/USFQ/semestre7/machine_learning/proyecto/lightning_logs/version_163/checkpoints/epoch=3-step=136.ckpt\n"
     ]
    },
    {
     "name": "stdout",
     "output_type": "stream",
     "text": [
      "\n"
     ]
    },
    {
     "name": "stderr",
     "output_type": "stream",
     "text": [
      "Loaded model weights from the checkpoint at /Users/benjaminvaca/Documents/USFQ/semestre7/machine_learning/proyecto/lightning_logs/version_163/checkpoints/epoch=3-step=136.ckpt\n"
     ]
    },
    {
     "name": "stdout",
     "output_type": "stream",
     "text": [
      "Testing DataLoader 0: 100%|██████████| 11/11 [00:00<00:00, 463.18it/s]\n"
     ]
    },
    {
     "data": {
      "text/html": [
       "<pre style=\"white-space:pre;overflow-x:auto;line-height:normal;font-family:Menlo,'DejaVu Sans Mono',consolas,'Courier New',monospace\">┏━━━━━━━━━━━━━━━━━━━━━━━━━━━┳━━━━━━━━━━━━━━━━━━━━━━━━━━━┓\n",
       "┃<span style=\"font-weight: bold\">        Test metric        </span>┃<span style=\"font-weight: bold\">       DataLoader 0        </span>┃\n",
       "┡━━━━━━━━━━━━━━━━━━━━━━━━━━━╇━━━━━━━━━━━━━━━━━━━━━━━━━━━┩\n",
       "│<span style=\"color: #008080; text-decoration-color: #008080\">      test_f1ma_epoch      </span>│<span style=\"color: #800080; text-decoration-color: #800080\">    0.23649640381336212    </span>│\n",
       "│<span style=\"color: #008080; text-decoration-color: #008080\">      test_ham_epoch       </span>│<span style=\"color: #800080; text-decoration-color: #800080\">    0.28154703974723816    </span>│\n",
       "│<span style=\"color: #008080; text-decoration-color: #008080\">      test_loss_epoch      </span>│<span style=\"color: #800080; text-decoration-color: #800080\">     0.559344470500946     </span>│\n",
       "└───────────────────────────┴───────────────────────────┘\n",
       "</pre>\n"
      ],
      "text/plain": [
       "┏━━━━━━━━━━━━━━━━━━━━━━━━━━━┳━━━━━━━━━━━━━━━━━━━━━━━━━━━┓\n",
       "┃\u001b[1m \u001b[0m\u001b[1m       Test metric       \u001b[0m\u001b[1m \u001b[0m┃\u001b[1m \u001b[0m\u001b[1m      DataLoader 0       \u001b[0m\u001b[1m \u001b[0m┃\n",
       "┡━━━━━━━━━━━━━━━━━━━━━━━━━━━╇━━━━━━━━━━━━━━━━━━━━━━━━━━━┩\n",
       "│\u001b[36m \u001b[0m\u001b[36m     test_f1ma_epoch     \u001b[0m\u001b[36m \u001b[0m│\u001b[35m \u001b[0m\u001b[35m   0.23649640381336212   \u001b[0m\u001b[35m \u001b[0m│\n",
       "│\u001b[36m \u001b[0m\u001b[36m     test_ham_epoch      \u001b[0m\u001b[36m \u001b[0m│\u001b[35m \u001b[0m\u001b[35m   0.28154703974723816   \u001b[0m\u001b[35m \u001b[0m│\n",
       "│\u001b[36m \u001b[0m\u001b[36m     test_loss_epoch     \u001b[0m\u001b[36m \u001b[0m│\u001b[35m \u001b[0m\u001b[35m    0.559344470500946    \u001b[0m\u001b[35m \u001b[0m│\n",
       "└───────────────────────────┴───────────────────────────┘\n"
      ]
     },
     "metadata": {},
     "output_type": "display_data"
    },
    {
     "name": "stdout",
     "output_type": "stream",
     "text": [
      "  loss: 0.5593 | hamming: 0.2815 | f1_macro: 0.2365\n",
      "Fold 5/10\n"
     ]
    },
    {
     "name": "stderr",
     "output_type": "stream",
     "text": [
      "GPU available: True (mps), used: False\n",
      "TPU available: False, using: 0 TPU cores\n",
      "HPU available: False, using: 0 HPUs\n",
      "\n",
      "  | Name       | Type                      | Params | Mode \n",
      "-----------------------------------------------------------------\n",
      "0 | classifier | Sequential                | 333 K  | train\n",
      "1 | loss       | BCEWithLogitsLoss         | 0      | train\n",
      "2 | hamming    | MultilabelHammingDistance | 0      | train\n",
      "3 | f1_macro   | MultilabelF1Score         | 0      | train\n",
      "-----------------------------------------------------------------\n",
      "333 K     Trainable params\n",
      "0         Non-trainable params\n",
      "333 K     Total params\n",
      "1.332     Total estimated model params size (MB)\n",
      "17        Modules in train mode\n",
      "0         Modules in eval mode\n"
     ]
    },
    {
     "name": "stdout",
     "output_type": "stream",
     "text": [
      "Epoch 3: 100%|██████████| 34/34 [00:00<00:00, 197.79it/s, v_num=164, train_loss=0.528, train_ham=0.281, train_f1ma=0.304, val_loss_step=0.595, val_ham_step=0.370, val_f1ma_step=0.104, val_loss_epoch=0.565, val_ham_epoch=0.287, val_f1ma_epoch=0.187] \n"
     ]
    },
    {
     "name": "stderr",
     "output_type": "stream",
     "text": [
      "Restoring states from the checkpoint path at /Users/benjaminvaca/Documents/USFQ/semestre7/machine_learning/proyecto/lightning_logs/version_164/checkpoints/epoch=0-step=34.ckpt\n",
      "Loaded model weights from the checkpoint at /Users/benjaminvaca/Documents/USFQ/semestre7/machine_learning/proyecto/lightning_logs/version_164/checkpoints/epoch=0-step=34.ckpt\n"
     ]
    },
    {
     "name": "stdout",
     "output_type": "stream",
     "text": [
      "Validation DataLoader 0: 100%|██████████| 34/34 [00:00<00:00, 535.60it/s]"
     ]
    },
    {
     "name": "stderr",
     "output_type": "stream",
     "text": [
      "Restoring states from the checkpoint path at /Users/benjaminvaca/Documents/USFQ/semestre7/machine_learning/proyecto/lightning_logs/version_164/checkpoints/epoch=0-step=34.ckpt\n"
     ]
    },
    {
     "name": "stdout",
     "output_type": "stream",
     "text": [
      "\n"
     ]
    },
    {
     "name": "stderr",
     "output_type": "stream",
     "text": [
      "Loaded model weights from the checkpoint at /Users/benjaminvaca/Documents/USFQ/semestre7/machine_learning/proyecto/lightning_logs/version_164/checkpoints/epoch=0-step=34.ckpt\n"
     ]
    },
    {
     "name": "stdout",
     "output_type": "stream",
     "text": [
      "Validation DataLoader 0: 100%|██████████| 9/9 [00:00<00:00, 477.66it/s]\n"
     ]
    },
    {
     "name": "stderr",
     "output_type": "stream",
     "text": [
      "Restoring states from the checkpoint path at /Users/benjaminvaca/Documents/USFQ/semestre7/machine_learning/proyecto/lightning_logs/version_164/checkpoints/epoch=0-step=34.ckpt\n",
      "Loaded model weights from the checkpoint at /Users/benjaminvaca/Documents/USFQ/semestre7/machine_learning/proyecto/lightning_logs/version_164/checkpoints/epoch=0-step=34.ckpt\n"
     ]
    },
    {
     "name": "stdout",
     "output_type": "stream",
     "text": [
      "Testing DataLoader 0: 100%|██████████| 11/11 [00:00<00:00, 513.94it/s]\n"
     ]
    },
    {
     "data": {
      "text/html": [
       "<pre style=\"white-space:pre;overflow-x:auto;line-height:normal;font-family:Menlo,'DejaVu Sans Mono',consolas,'Courier New',monospace\">┏━━━━━━━━━━━━━━━━━━━━━━━━━━━┳━━━━━━━━━━━━━━━━━━━━━━━━━━━┓\n",
       "┃<span style=\"font-weight: bold\">        Test metric        </span>┃<span style=\"font-weight: bold\">       DataLoader 0        </span>┃\n",
       "┡━━━━━━━━━━━━━━━━━━━━━━━━━━━╇━━━━━━━━━━━━━━━━━━━━━━━━━━━┩\n",
       "│<span style=\"color: #008080; text-decoration-color: #008080\">      test_f1ma_epoch      </span>│<span style=\"color: #800080; text-decoration-color: #800080\">    0.18257646262645721    </span>│\n",
       "│<span style=\"color: #008080; text-decoration-color: #008080\">      test_ham_epoch       </span>│<span style=\"color: #800080; text-decoration-color: #800080\">    0.31170105934143066    </span>│\n",
       "│<span style=\"color: #008080; text-decoration-color: #008080\">      test_loss_epoch      </span>│<span style=\"color: #800080; text-decoration-color: #800080\">    0.5957585573196411     </span>│\n",
       "└───────────────────────────┴───────────────────────────┘\n",
       "</pre>\n"
      ],
      "text/plain": [
       "┏━━━━━━━━━━━━━━━━━━━━━━━━━━━┳━━━━━━━━━━━━━━━━━━━━━━━━━━━┓\n",
       "┃\u001b[1m \u001b[0m\u001b[1m       Test metric       \u001b[0m\u001b[1m \u001b[0m┃\u001b[1m \u001b[0m\u001b[1m      DataLoader 0       \u001b[0m\u001b[1m \u001b[0m┃\n",
       "┡━━━━━━━━━━━━━━━━━━━━━━━━━━━╇━━━━━━━━━━━━━━━━━━━━━━━━━━━┩\n",
       "│\u001b[36m \u001b[0m\u001b[36m     test_f1ma_epoch     \u001b[0m\u001b[36m \u001b[0m│\u001b[35m \u001b[0m\u001b[35m   0.18257646262645721   \u001b[0m\u001b[35m \u001b[0m│\n",
       "│\u001b[36m \u001b[0m\u001b[36m     test_ham_epoch      \u001b[0m\u001b[36m \u001b[0m│\u001b[35m \u001b[0m\u001b[35m   0.31170105934143066   \u001b[0m\u001b[35m \u001b[0m│\n",
       "│\u001b[36m \u001b[0m\u001b[36m     test_loss_epoch     \u001b[0m\u001b[36m \u001b[0m│\u001b[35m \u001b[0m\u001b[35m   0.5957585573196411    \u001b[0m\u001b[35m \u001b[0m│\n",
       "└───────────────────────────┴───────────────────────────┘\n"
      ]
     },
     "metadata": {},
     "output_type": "display_data"
    },
    {
     "name": "stdout",
     "output_type": "stream",
     "text": [
      "  loss: 0.5958 | hamming: 0.3117 | f1_macro: 0.1826\n",
      "Fold 6/10\n"
     ]
    },
    {
     "name": "stderr",
     "output_type": "stream",
     "text": [
      "GPU available: True (mps), used: False\n",
      "TPU available: False, using: 0 TPU cores\n",
      "HPU available: False, using: 0 HPUs\n",
      "\n",
      "  | Name       | Type                      | Params | Mode \n",
      "-----------------------------------------------------------------\n",
      "0 | classifier | Sequential                | 333 K  | train\n",
      "1 | loss       | BCEWithLogitsLoss         | 0      | train\n",
      "2 | hamming    | MultilabelHammingDistance | 0      | train\n",
      "3 | f1_macro   | MultilabelF1Score         | 0      | train\n",
      "-----------------------------------------------------------------\n",
      "333 K     Trainable params\n",
      "0         Non-trainable params\n",
      "333 K     Total params\n",
      "1.332     Total estimated model params size (MB)\n",
      "17        Modules in train mode\n",
      "0         Modules in eval mode\n"
     ]
    },
    {
     "name": "stdout",
     "output_type": "stream",
     "text": [
      "Epoch 16: 100%|██████████| 34/34 [00:00<00:00, 195.97it/s, v_num=165, train_loss=0.506, train_ham=0.245, train_f1ma=0.440, val_loss_step=0.548, val_ham_step=0.333, val_f1ma_step=0.127, val_loss_epoch=0.558, val_ham_epoch=0.297, val_f1ma_epoch=0.198]\n"
     ]
    },
    {
     "name": "stderr",
     "output_type": "stream",
     "text": [
      "Restoring states from the checkpoint path at /Users/benjaminvaca/Documents/USFQ/semestre7/machine_learning/proyecto/lightning_logs/version_165/checkpoints/epoch=13-step=476.ckpt\n",
      "Loaded model weights from the checkpoint at /Users/benjaminvaca/Documents/USFQ/semestre7/machine_learning/proyecto/lightning_logs/version_165/checkpoints/epoch=13-step=476.ckpt\n"
     ]
    },
    {
     "name": "stdout",
     "output_type": "stream",
     "text": [
      "Validation DataLoader 0: 100%|██████████| 34/34 [00:00<00:00, 519.43it/s]"
     ]
    },
    {
     "name": "stderr",
     "output_type": "stream",
     "text": [
      "Restoring states from the checkpoint path at /Users/benjaminvaca/Documents/USFQ/semestre7/machine_learning/proyecto/lightning_logs/version_165/checkpoints/epoch=13-step=476.ckpt\n"
     ]
    },
    {
     "name": "stdout",
     "output_type": "stream",
     "text": [
      "\n"
     ]
    },
    {
     "name": "stderr",
     "output_type": "stream",
     "text": [
      "Loaded model weights from the checkpoint at /Users/benjaminvaca/Documents/USFQ/semestre7/machine_learning/proyecto/lightning_logs/version_165/checkpoints/epoch=13-step=476.ckpt\n"
     ]
    },
    {
     "name": "stdout",
     "output_type": "stream",
     "text": [
      "Validation DataLoader 0: 100%|██████████| 9/9 [00:00<00:00, 504.68it/s]\n"
     ]
    },
    {
     "name": "stderr",
     "output_type": "stream",
     "text": [
      "Restoring states from the checkpoint path at /Users/benjaminvaca/Documents/USFQ/semestre7/machine_learning/proyecto/lightning_logs/version_165/checkpoints/epoch=13-step=476.ckpt\n",
      "Loaded model weights from the checkpoint at /Users/benjaminvaca/Documents/USFQ/semestre7/machine_learning/proyecto/lightning_logs/version_165/checkpoints/epoch=13-step=476.ckpt\n"
     ]
    },
    {
     "name": "stdout",
     "output_type": "stream",
     "text": [
      "Testing DataLoader 0: 100%|██████████| 11/11 [00:00<00:00, 479.85it/s]\n"
     ]
    },
    {
     "data": {
      "text/html": [
       "<pre style=\"white-space:pre;overflow-x:auto;line-height:normal;font-family:Menlo,'DejaVu Sans Mono',consolas,'Courier New',monospace\">┏━━━━━━━━━━━━━━━━━━━━━━━━━━━┳━━━━━━━━━━━━━━━━━━━━━━━━━━━┓\n",
       "┃<span style=\"font-weight: bold\">        Test metric        </span>┃<span style=\"font-weight: bold\">       DataLoader 0        </span>┃\n",
       "┡━━━━━━━━━━━━━━━━━━━━━━━━━━━╇━━━━━━━━━━━━━━━━━━━━━━━━━━━┩\n",
       "│<span style=\"color: #008080; text-decoration-color: #008080\">      test_f1ma_epoch      </span>│<span style=\"color: #800080; text-decoration-color: #800080\">    0.24500809609889984    </span>│\n",
       "│<span style=\"color: #008080; text-decoration-color: #008080\">      test_ham_epoch       </span>│<span style=\"color: #800080; text-decoration-color: #800080\">    0.28154703974723816    </span>│\n",
       "│<span style=\"color: #008080; text-decoration-color: #008080\">      test_loss_epoch      </span>│<span style=\"color: #800080; text-decoration-color: #800080\">    0.5552992224693298     </span>│\n",
       "└───────────────────────────┴───────────────────────────┘\n",
       "</pre>\n"
      ],
      "text/plain": [
       "┏━━━━━━━━━━━━━━━━━━━━━━━━━━━┳━━━━━━━━━━━━━━━━━━━━━━━━━━━┓\n",
       "┃\u001b[1m \u001b[0m\u001b[1m       Test metric       \u001b[0m\u001b[1m \u001b[0m┃\u001b[1m \u001b[0m\u001b[1m      DataLoader 0       \u001b[0m\u001b[1m \u001b[0m┃\n",
       "┡━━━━━━━━━━━━━━━━━━━━━━━━━━━╇━━━━━━━━━━━━━━━━━━━━━━━━━━━┩\n",
       "│\u001b[36m \u001b[0m\u001b[36m     test_f1ma_epoch     \u001b[0m\u001b[36m \u001b[0m│\u001b[35m \u001b[0m\u001b[35m   0.24500809609889984   \u001b[0m\u001b[35m \u001b[0m│\n",
       "│\u001b[36m \u001b[0m\u001b[36m     test_ham_epoch      \u001b[0m\u001b[36m \u001b[0m│\u001b[35m \u001b[0m\u001b[35m   0.28154703974723816   \u001b[0m\u001b[35m \u001b[0m│\n",
       "│\u001b[36m \u001b[0m\u001b[36m     test_loss_epoch     \u001b[0m\u001b[36m \u001b[0m│\u001b[35m \u001b[0m\u001b[35m   0.5552992224693298    \u001b[0m\u001b[35m \u001b[0m│\n",
       "└───────────────────────────┴───────────────────────────┘\n"
      ]
     },
     "metadata": {},
     "output_type": "display_data"
    },
    {
     "name": "stdout",
     "output_type": "stream",
     "text": [
      "  loss: 0.5553 | hamming: 0.2815 | f1_macro: 0.2450\n",
      "Fold 7/10\n"
     ]
    },
    {
     "name": "stderr",
     "output_type": "stream",
     "text": [
      "GPU available: True (mps), used: False\n",
      "TPU available: False, using: 0 TPU cores\n",
      "HPU available: False, using: 0 HPUs\n",
      "\n",
      "  | Name       | Type                      | Params | Mode \n",
      "-----------------------------------------------------------------\n",
      "0 | classifier | Sequential                | 333 K  | train\n",
      "1 | loss       | BCEWithLogitsLoss         | 0      | train\n",
      "2 | hamming    | MultilabelHammingDistance | 0      | train\n",
      "3 | f1_macro   | MultilabelF1Score         | 0      | train\n",
      "-----------------------------------------------------------------\n",
      "333 K     Trainable params\n",
      "0         Non-trainable params\n",
      "333 K     Total params\n",
      "1.332     Total estimated model params size (MB)\n",
      "17        Modules in train mode\n",
      "0         Modules in eval mode\n"
     ]
    },
    {
     "name": "stdout",
     "output_type": "stream",
     "text": [
      "Epoch 14: 100%|██████████| 34/34 [00:00<00:00, 150.30it/s, v_num=166, train_loss=0.536, train_ham=0.287, train_f1ma=0.375, val_loss_step=0.529, val_ham_step=0.368, val_f1ma_step=0.088, val_loss_epoch=0.553, val_ham_epoch=0.288, val_f1ma_epoch=0.197] "
     ]
    },
    {
     "name": "stderr",
     "output_type": "stream",
     "text": [
      "Restoring states from the checkpoint path at /Users/benjaminvaca/Documents/USFQ/semestre7/machine_learning/proyecto/lightning_logs/version_166/checkpoints/epoch=11-step=408.ckpt\n"
     ]
    },
    {
     "name": "stdout",
     "output_type": "stream",
     "text": [
      "\n"
     ]
    },
    {
     "name": "stderr",
     "output_type": "stream",
     "text": [
      "Loaded model weights from the checkpoint at /Users/benjaminvaca/Documents/USFQ/semestre7/machine_learning/proyecto/lightning_logs/version_166/checkpoints/epoch=11-step=408.ckpt\n"
     ]
    },
    {
     "name": "stdout",
     "output_type": "stream",
     "text": [
      "Validation DataLoader 0: 100%|██████████| 34/34 [00:00<00:00, 386.50it/s]"
     ]
    },
    {
     "name": "stderr",
     "output_type": "stream",
     "text": [
      "Restoring states from the checkpoint path at /Users/benjaminvaca/Documents/USFQ/semestre7/machine_learning/proyecto/lightning_logs/version_166/checkpoints/epoch=11-step=408.ckpt\n"
     ]
    },
    {
     "name": "stdout",
     "output_type": "stream",
     "text": [
      "\n"
     ]
    },
    {
     "name": "stderr",
     "output_type": "stream",
     "text": [
      "Loaded model weights from the checkpoint at /Users/benjaminvaca/Documents/USFQ/semestre7/machine_learning/proyecto/lightning_logs/version_166/checkpoints/epoch=11-step=408.ckpt\n"
     ]
    },
    {
     "name": "stdout",
     "output_type": "stream",
     "text": [
      "Validation DataLoader 0: 100%|██████████| 9/9 [00:00<00:00, 394.53it/s]\n"
     ]
    },
    {
     "name": "stderr",
     "output_type": "stream",
     "text": [
      "Restoring states from the checkpoint path at /Users/benjaminvaca/Documents/USFQ/semestre7/machine_learning/proyecto/lightning_logs/version_166/checkpoints/epoch=11-step=408.ckpt\n",
      "Loaded model weights from the checkpoint at /Users/benjaminvaca/Documents/USFQ/semestre7/machine_learning/proyecto/lightning_logs/version_166/checkpoints/epoch=11-step=408.ckpt\n"
     ]
    },
    {
     "name": "stdout",
     "output_type": "stream",
     "text": [
      "Testing DataLoader 0: 100%|██████████| 11/11 [00:00<00:00, 364.15it/s]\n"
     ]
    },
    {
     "data": {
      "text/html": [
       "<pre style=\"white-space:pre;overflow-x:auto;line-height:normal;font-family:Menlo,'DejaVu Sans Mono',consolas,'Courier New',monospace\">┏━━━━━━━━━━━━━━━━━━━━━━━━━━━┳━━━━━━━━━━━━━━━━━━━━━━━━━━━┓\n",
       "┃<span style=\"font-weight: bold\">        Test metric        </span>┃<span style=\"font-weight: bold\">       DataLoader 0        </span>┃\n",
       "┡━━━━━━━━━━━━━━━━━━━━━━━━━━━╇━━━━━━━━━━━━━━━━━━━━━━━━━━━┩\n",
       "│<span style=\"color: #008080; text-decoration-color: #008080\">      test_f1ma_epoch      </span>│<span style=\"color: #800080; text-decoration-color: #800080\">    0.21141934394836426    </span>│\n",
       "│<span style=\"color: #008080; text-decoration-color: #008080\">      test_ham_epoch       </span>│<span style=\"color: #800080; text-decoration-color: #800080\">    0.26974761486053467    </span>│\n",
       "│<span style=\"color: #008080; text-decoration-color: #008080\">      test_loss_epoch      </span>│<span style=\"color: #800080; text-decoration-color: #800080\">     0.551490068435669     </span>│\n",
       "└───────────────────────────┴───────────────────────────┘\n",
       "</pre>\n"
      ],
      "text/plain": [
       "┏━━━━━━━━━━━━━━━━━━━━━━━━━━━┳━━━━━━━━━━━━━━━━━━━━━━━━━━━┓\n",
       "┃\u001b[1m \u001b[0m\u001b[1m       Test metric       \u001b[0m\u001b[1m \u001b[0m┃\u001b[1m \u001b[0m\u001b[1m      DataLoader 0       \u001b[0m\u001b[1m \u001b[0m┃\n",
       "┡━━━━━━━━━━━━━━━━━━━━━━━━━━━╇━━━━━━━━━━━━━━━━━━━━━━━━━━━┩\n",
       "│\u001b[36m \u001b[0m\u001b[36m     test_f1ma_epoch     \u001b[0m\u001b[36m \u001b[0m│\u001b[35m \u001b[0m\u001b[35m   0.21141934394836426   \u001b[0m\u001b[35m \u001b[0m│\n",
       "│\u001b[36m \u001b[0m\u001b[36m     test_ham_epoch      \u001b[0m\u001b[36m \u001b[0m│\u001b[35m \u001b[0m\u001b[35m   0.26974761486053467   \u001b[0m\u001b[35m \u001b[0m│\n",
       "│\u001b[36m \u001b[0m\u001b[36m     test_loss_epoch     \u001b[0m\u001b[36m \u001b[0m│\u001b[35m \u001b[0m\u001b[35m    0.551490068435669    \u001b[0m\u001b[35m \u001b[0m│\n",
       "└───────────────────────────┴───────────────────────────┘\n"
      ]
     },
     "metadata": {},
     "output_type": "display_data"
    },
    {
     "name": "stdout",
     "output_type": "stream",
     "text": [
      "  loss: 0.5515 | hamming: 0.2697 | f1_macro: 0.2114\n",
      "Fold 8/10\n"
     ]
    },
    {
     "name": "stderr",
     "output_type": "stream",
     "text": [
      "GPU available: True (mps), used: False\n",
      "TPU available: False, using: 0 TPU cores\n",
      "HPU available: False, using: 0 HPUs\n",
      "\n",
      "  | Name       | Type                      | Params | Mode \n",
      "-----------------------------------------------------------------\n",
      "0 | classifier | Sequential                | 333 K  | train\n",
      "1 | loss       | BCEWithLogitsLoss         | 0      | train\n",
      "2 | hamming    | MultilabelHammingDistance | 0      | train\n",
      "3 | f1_macro   | MultilabelF1Score         | 0      | train\n",
      "-----------------------------------------------------------------\n",
      "333 K     Trainable params\n",
      "0         Non-trainable params\n",
      "333 K     Total params\n",
      "1.332     Total estimated model params size (MB)\n",
      "17        Modules in train mode\n",
      "0         Modules in eval mode\n"
     ]
    },
    {
     "name": "stdout",
     "output_type": "stream",
     "text": [
      "Epoch 5: 100%|██████████| 34/34 [00:00<00:00, 193.45it/s, v_num=167, train_loss=0.535, train_ham=0.293, train_f1ma=0.323, val_loss_step=0.571, val_ham_step=0.237, val_f1ma_step=0.129, val_loss_epoch=0.563, val_ham_epoch=0.313, val_f1ma_epoch=0.164] \n"
     ]
    },
    {
     "name": "stderr",
     "output_type": "stream",
     "text": [
      "Restoring states from the checkpoint path at /Users/benjaminvaca/Documents/USFQ/semestre7/machine_learning/proyecto/lightning_logs/version_167/checkpoints/epoch=2-step=102.ckpt\n",
      "Loaded model weights from the checkpoint at /Users/benjaminvaca/Documents/USFQ/semestre7/machine_learning/proyecto/lightning_logs/version_167/checkpoints/epoch=2-step=102.ckpt\n"
     ]
    },
    {
     "name": "stdout",
     "output_type": "stream",
     "text": [
      "Validation DataLoader 0: 100%|██████████| 34/34 [00:00<00:00, 524.61it/s]"
     ]
    },
    {
     "name": "stderr",
     "output_type": "stream",
     "text": [
      "Restoring states from the checkpoint path at /Users/benjaminvaca/Documents/USFQ/semestre7/machine_learning/proyecto/lightning_logs/version_167/checkpoints/epoch=2-step=102.ckpt\n"
     ]
    },
    {
     "name": "stdout",
     "output_type": "stream",
     "text": [
      "\n"
     ]
    },
    {
     "name": "stderr",
     "output_type": "stream",
     "text": [
      "Loaded model weights from the checkpoint at /Users/benjaminvaca/Documents/USFQ/semestre7/machine_learning/proyecto/lightning_logs/version_167/checkpoints/epoch=2-step=102.ckpt\n"
     ]
    },
    {
     "name": "stdout",
     "output_type": "stream",
     "text": [
      "Validation DataLoader 0: 100%|██████████| 9/9 [00:00<00:00, 494.23it/s]"
     ]
    },
    {
     "name": "stderr",
     "output_type": "stream",
     "text": [
      "Restoring states from the checkpoint path at /Users/benjaminvaca/Documents/USFQ/semestre7/machine_learning/proyecto/lightning_logs/version_167/checkpoints/epoch=2-step=102.ckpt\n"
     ]
    },
    {
     "name": "stdout",
     "output_type": "stream",
     "text": [
      "\n"
     ]
    },
    {
     "name": "stderr",
     "output_type": "stream",
     "text": [
      "Loaded model weights from the checkpoint at /Users/benjaminvaca/Documents/USFQ/semestre7/machine_learning/proyecto/lightning_logs/version_167/checkpoints/epoch=2-step=102.ckpt\n"
     ]
    },
    {
     "name": "stdout",
     "output_type": "stream",
     "text": [
      "Testing DataLoader 0: 100%|██████████| 11/11 [00:00<00:00, 466.18it/s]\n"
     ]
    },
    {
     "data": {
      "text/html": [
       "<pre style=\"white-space:pre;overflow-x:auto;line-height:normal;font-family:Menlo,'DejaVu Sans Mono',consolas,'Courier New',monospace\">┏━━━━━━━━━━━━━━━━━━━━━━━━━━━┳━━━━━━━━━━━━━━━━━━━━━━━━━━━┓\n",
       "┃<span style=\"font-weight: bold\">        Test metric        </span>┃<span style=\"font-weight: bold\">       DataLoader 0        </span>┃\n",
       "┡━━━━━━━━━━━━━━━━━━━━━━━━━━━╇━━━━━━━━━━━━━━━━━━━━━━━━━━━┩\n",
       "│<span style=\"color: #008080; text-decoration-color: #008080\">      test_f1ma_epoch      </span>│<span style=\"color: #800080; text-decoration-color: #800080\">    0.2163737714290619     </span>│\n",
       "│<span style=\"color: #008080; text-decoration-color: #008080\">      test_ham_epoch       </span>│<span style=\"color: #800080; text-decoration-color: #800080\">    0.2877744734287262     </span>│\n",
       "│<span style=\"color: #008080; text-decoration-color: #008080\">      test_loss_epoch      </span>│<span style=\"color: #800080; text-decoration-color: #800080\">    0.5619534850120544     </span>│\n",
       "└───────────────────────────┴───────────────────────────┘\n",
       "</pre>\n"
      ],
      "text/plain": [
       "┏━━━━━━━━━━━━━━━━━━━━━━━━━━━┳━━━━━━━━━━━━━━━━━━━━━━━━━━━┓\n",
       "┃\u001b[1m \u001b[0m\u001b[1m       Test metric       \u001b[0m\u001b[1m \u001b[0m┃\u001b[1m \u001b[0m\u001b[1m      DataLoader 0       \u001b[0m\u001b[1m \u001b[0m┃\n",
       "┡━━━━━━━━━━━━━━━━━━━━━━━━━━━╇━━━━━━━━━━━━━━━━━━━━━━━━━━━┩\n",
       "│\u001b[36m \u001b[0m\u001b[36m     test_f1ma_epoch     \u001b[0m\u001b[36m \u001b[0m│\u001b[35m \u001b[0m\u001b[35m   0.2163737714290619    \u001b[0m\u001b[35m \u001b[0m│\n",
       "│\u001b[36m \u001b[0m\u001b[36m     test_ham_epoch      \u001b[0m\u001b[36m \u001b[0m│\u001b[35m \u001b[0m\u001b[35m   0.2877744734287262    \u001b[0m\u001b[35m \u001b[0m│\n",
       "│\u001b[36m \u001b[0m\u001b[36m     test_loss_epoch     \u001b[0m\u001b[36m \u001b[0m│\u001b[35m \u001b[0m\u001b[35m   0.5619534850120544    \u001b[0m\u001b[35m \u001b[0m│\n",
       "└───────────────────────────┴───────────────────────────┘\n"
      ]
     },
     "metadata": {},
     "output_type": "display_data"
    },
    {
     "name": "stdout",
     "output_type": "stream",
     "text": [
      "  loss: 0.5620 | hamming: 0.2878 | f1_macro: 0.2164\n",
      "Fold 9/10\n"
     ]
    },
    {
     "name": "stderr",
     "output_type": "stream",
     "text": [
      "GPU available: True (mps), used: False\n",
      "TPU available: False, using: 0 TPU cores\n",
      "HPU available: False, using: 0 HPUs\n",
      "\n",
      "  | Name       | Type                      | Params | Mode \n",
      "-----------------------------------------------------------------\n",
      "0 | classifier | Sequential                | 333 K  | train\n",
      "1 | loss       | BCEWithLogitsLoss         | 0      | train\n",
      "2 | hamming    | MultilabelHammingDistance | 0      | train\n",
      "3 | f1_macro   | MultilabelF1Score         | 0      | train\n",
      "-----------------------------------------------------------------\n",
      "333 K     Trainable params\n",
      "0         Non-trainable params\n",
      "333 K     Total params\n",
      "1.332     Total estimated model params size (MB)\n",
      "17        Modules in train mode\n",
      "0         Modules in eval mode\n"
     ]
    },
    {
     "name": "stdout",
     "output_type": "stream",
     "text": [
      "Epoch 12: 100%|██████████| 34/34 [00:00<00:00, 195.65it/s, v_num=168, train_loss=0.518, train_ham=0.285, train_f1ma=0.347, val_loss_step=0.517, val_ham_step=0.385, val_f1ma_step=0.0741, val_loss_epoch=0.548, val_ham_epoch=0.281, val_f1ma_epoch=0.201]\n"
     ]
    },
    {
     "name": "stderr",
     "output_type": "stream",
     "text": [
      "Restoring states from the checkpoint path at /Users/benjaminvaca/Documents/USFQ/semestre7/machine_learning/proyecto/lightning_logs/version_168/checkpoints/epoch=9-step=340.ckpt\n",
      "Loaded model weights from the checkpoint at /Users/benjaminvaca/Documents/USFQ/semestre7/machine_learning/proyecto/lightning_logs/version_168/checkpoints/epoch=9-step=340.ckpt\n"
     ]
    },
    {
     "name": "stdout",
     "output_type": "stream",
     "text": [
      "Validation DataLoader 0: 100%|██████████| 34/34 [00:00<00:00, 478.95it/s]"
     ]
    },
    {
     "name": "stderr",
     "output_type": "stream",
     "text": [
      "Restoring states from the checkpoint path at /Users/benjaminvaca/Documents/USFQ/semestre7/machine_learning/proyecto/lightning_logs/version_168/checkpoints/epoch=9-step=340.ckpt\n"
     ]
    },
    {
     "name": "stdout",
     "output_type": "stream",
     "text": [
      "\n"
     ]
    },
    {
     "name": "stderr",
     "output_type": "stream",
     "text": [
      "Loaded model weights from the checkpoint at /Users/benjaminvaca/Documents/USFQ/semestre7/machine_learning/proyecto/lightning_logs/version_168/checkpoints/epoch=9-step=340.ckpt\n"
     ]
    },
    {
     "name": "stdout",
     "output_type": "stream",
     "text": [
      "Validation DataLoader 0: 100%|██████████| 9/9 [00:00<00:00, 449.73it/s]"
     ]
    },
    {
     "name": "stderr",
     "output_type": "stream",
     "text": [
      "Restoring states from the checkpoint path at /Users/benjaminvaca/Documents/USFQ/semestre7/machine_learning/proyecto/lightning_logs/version_168/checkpoints/epoch=9-step=340.ckpt\n"
     ]
    },
    {
     "name": "stdout",
     "output_type": "stream",
     "text": [
      "\n"
     ]
    },
    {
     "name": "stderr",
     "output_type": "stream",
     "text": [
      "Loaded model weights from the checkpoint at /Users/benjaminvaca/Documents/USFQ/semestre7/machine_learning/proyecto/lightning_logs/version_168/checkpoints/epoch=9-step=340.ckpt\n"
     ]
    },
    {
     "name": "stdout",
     "output_type": "stream",
     "text": [
      "Testing DataLoader 0: 100%|██████████| 11/11 [00:00<00:00, 439.58it/s]\n"
     ]
    },
    {
     "data": {
      "text/html": [
       "<pre style=\"white-space:pre;overflow-x:auto;line-height:normal;font-family:Menlo,'DejaVu Sans Mono',consolas,'Courier New',monospace\">┏━━━━━━━━━━━━━━━━━━━━━━━━━━━┳━━━━━━━━━━━━━━━━━━━━━━━━━━━┓\n",
       "┃<span style=\"font-weight: bold\">        Test metric        </span>┃<span style=\"font-weight: bold\">       DataLoader 0        </span>┃\n",
       "┡━━━━━━━━━━━━━━━━━━━━━━━━━━━╇━━━━━━━━━━━━━━━━━━━━━━━━━━━┩\n",
       "│<span style=\"color: #008080; text-decoration-color: #008080\">      test_f1ma_epoch      </span>│<span style=\"color: #800080; text-decoration-color: #800080\">    0.20101478695869446    </span>│\n",
       "│<span style=\"color: #008080; text-decoration-color: #008080\">      test_ham_epoch       </span>│<span style=\"color: #800080; text-decoration-color: #800080\">    0.27794164419174194    </span>│\n",
       "│<span style=\"color: #008080; text-decoration-color: #008080\">      test_loss_epoch      </span>│<span style=\"color: #800080; text-decoration-color: #800080\">    0.5497477650642395     </span>│\n",
       "└───────────────────────────┴───────────────────────────┘\n",
       "</pre>\n"
      ],
      "text/plain": [
       "┏━━━━━━━━━━━━━━━━━━━━━━━━━━━┳━━━━━━━━━━━━━━━━━━━━━━━━━━━┓\n",
       "┃\u001b[1m \u001b[0m\u001b[1m       Test metric       \u001b[0m\u001b[1m \u001b[0m┃\u001b[1m \u001b[0m\u001b[1m      DataLoader 0       \u001b[0m\u001b[1m \u001b[0m┃\n",
       "┡━━━━━━━━━━━━━━━━━━━━━━━━━━━╇━━━━━━━━━━━━━━━━━━━━━━━━━━━┩\n",
       "│\u001b[36m \u001b[0m\u001b[36m     test_f1ma_epoch     \u001b[0m\u001b[36m \u001b[0m│\u001b[35m \u001b[0m\u001b[35m   0.20101478695869446   \u001b[0m\u001b[35m \u001b[0m│\n",
       "│\u001b[36m \u001b[0m\u001b[36m     test_ham_epoch      \u001b[0m\u001b[36m \u001b[0m│\u001b[35m \u001b[0m\u001b[35m   0.27794164419174194   \u001b[0m\u001b[35m \u001b[0m│\n",
       "│\u001b[36m \u001b[0m\u001b[36m     test_loss_epoch     \u001b[0m\u001b[36m \u001b[0m│\u001b[35m \u001b[0m\u001b[35m   0.5497477650642395    \u001b[0m\u001b[35m \u001b[0m│\n",
       "└───────────────────────────┴───────────────────────────┘\n"
      ]
     },
     "metadata": {},
     "output_type": "display_data"
    },
    {
     "name": "stdout",
     "output_type": "stream",
     "text": [
      "  loss: 0.5497 | hamming: 0.2779 | f1_macro: 0.2010\n",
      "Fold 10/10\n"
     ]
    },
    {
     "name": "stderr",
     "output_type": "stream",
     "text": [
      "GPU available: True (mps), used: False\n",
      "TPU available: False, using: 0 TPU cores\n",
      "HPU available: False, using: 0 HPUs\n",
      "\n",
      "  | Name       | Type                      | Params | Mode \n",
      "-----------------------------------------------------------------\n",
      "0 | classifier | Sequential                | 333 K  | train\n",
      "1 | loss       | BCEWithLogitsLoss         | 0      | train\n",
      "2 | hamming    | MultilabelHammingDistance | 0      | train\n",
      "3 | f1_macro   | MultilabelF1Score         | 0      | train\n",
      "-----------------------------------------------------------------\n",
      "333 K     Trainable params\n",
      "0         Non-trainable params\n",
      "333 K     Total params\n",
      "1.332     Total estimated model params size (MB)\n",
      "17        Modules in train mode\n",
      "0         Modules in eval mode\n"
     ]
    },
    {
     "name": "stdout",
     "output_type": "stream",
     "text": [
      "Epoch 9: 100%|██████████| 34/34 [00:00<00:00, 166.34it/s, v_num=169, train_loss=0.495, train_ham=0.237, train_f1ma=0.350, val_loss_step=0.525, val_ham_step=0.326, val_f1ma_step=0.126, val_loss_epoch=0.558, val_ham_epoch=0.292, val_f1ma_epoch=0.196] \n"
     ]
    },
    {
     "name": "stderr",
     "output_type": "stream",
     "text": [
      "Restoring states from the checkpoint path at /Users/benjaminvaca/Documents/USFQ/semestre7/machine_learning/proyecto/lightning_logs/version_169/checkpoints/epoch=6-step=238.ckpt\n",
      "Loaded model weights from the checkpoint at /Users/benjaminvaca/Documents/USFQ/semestre7/machine_learning/proyecto/lightning_logs/version_169/checkpoints/epoch=6-step=238.ckpt\n"
     ]
    },
    {
     "name": "stdout",
     "output_type": "stream",
     "text": [
      "Validation DataLoader 0: 100%|██████████| 34/34 [00:00<00:00, 517.56it/s]\n"
     ]
    },
    {
     "name": "stderr",
     "output_type": "stream",
     "text": [
      "Restoring states from the checkpoint path at /Users/benjaminvaca/Documents/USFQ/semestre7/machine_learning/proyecto/lightning_logs/version_169/checkpoints/epoch=6-step=238.ckpt\n",
      "Loaded model weights from the checkpoint at /Users/benjaminvaca/Documents/USFQ/semestre7/machine_learning/proyecto/lightning_logs/version_169/checkpoints/epoch=6-step=238.ckpt\n"
     ]
    },
    {
     "name": "stdout",
     "output_type": "stream",
     "text": [
      "Validation DataLoader 0: 100%|██████████| 9/9 [00:00<00:00, 471.75it/s]"
     ]
    },
    {
     "name": "stderr",
     "output_type": "stream",
     "text": [
      "Restoring states from the checkpoint path at /Users/benjaminvaca/Documents/USFQ/semestre7/machine_learning/proyecto/lightning_logs/version_169/checkpoints/epoch=6-step=238.ckpt\n",
      "Loaded model weights from the checkpoint at /Users/benjaminvaca/Documents/USFQ/semestre7/machine_learning/proyecto/lightning_logs/version_169/checkpoints/epoch=6-step=238.ckpt\n"
     ]
    },
    {
     "name": "stdout",
     "output_type": "stream",
     "text": [
      "\n",
      "Testing DataLoader 0: 100%|██████████| 11/11 [00:00<00:00, 505.42it/s]\n"
     ]
    },
    {
     "data": {
      "text/html": [
       "<pre style=\"white-space:pre;overflow-x:auto;line-height:normal;font-family:Menlo,'DejaVu Sans Mono',consolas,'Courier New',monospace\">┏━━━━━━━━━━━━━━━━━━━━━━━━━━━┳━━━━━━━━━━━━━━━━━━━━━━━━━━━┓\n",
       "┃<span style=\"font-weight: bold\">        Test metric        </span>┃<span style=\"font-weight: bold\">       DataLoader 0        </span>┃\n",
       "┡━━━━━━━━━━━━━━━━━━━━━━━━━━━╇━━━━━━━━━━━━━━━━━━━━━━━━━━━┩\n",
       "│<span style=\"color: #008080; text-decoration-color: #008080\">      test_f1ma_epoch      </span>│<span style=\"color: #800080; text-decoration-color: #800080\">    0.19133113324642181    </span>│\n",
       "│<span style=\"color: #008080; text-decoration-color: #008080\">      test_ham_epoch       </span>│<span style=\"color: #800080; text-decoration-color: #800080\">    0.28941330313682556    </span>│\n",
       "│<span style=\"color: #008080; text-decoration-color: #008080\">      test_loss_epoch      </span>│<span style=\"color: #800080; text-decoration-color: #800080\">    0.5537034273147583     </span>│\n",
       "└───────────────────────────┴───────────────────────────┘\n",
       "</pre>\n"
      ],
      "text/plain": [
       "┏━━━━━━━━━━━━━━━━━━━━━━━━━━━┳━━━━━━━━━━━━━━━━━━━━━━━━━━━┓\n",
       "┃\u001b[1m \u001b[0m\u001b[1m       Test metric       \u001b[0m\u001b[1m \u001b[0m┃\u001b[1m \u001b[0m\u001b[1m      DataLoader 0       \u001b[0m\u001b[1m \u001b[0m┃\n",
       "┡━━━━━━━━━━━━━━━━━━━━━━━━━━━╇━━━━━━━━━━━━━━━━━━━━━━━━━━━┩\n",
       "│\u001b[36m \u001b[0m\u001b[36m     test_f1ma_epoch     \u001b[0m\u001b[36m \u001b[0m│\u001b[35m \u001b[0m\u001b[35m   0.19133113324642181   \u001b[0m\u001b[35m \u001b[0m│\n",
       "│\u001b[36m \u001b[0m\u001b[36m     test_ham_epoch      \u001b[0m\u001b[36m \u001b[0m│\u001b[35m \u001b[0m\u001b[35m   0.28941330313682556   \u001b[0m\u001b[35m \u001b[0m│\n",
       "│\u001b[36m \u001b[0m\u001b[36m     test_loss_epoch     \u001b[0m\u001b[36m \u001b[0m│\u001b[35m \u001b[0m\u001b[35m   0.5537034273147583    \u001b[0m\u001b[35m \u001b[0m│\n",
       "└───────────────────────────┴───────────────────────────┘\n"
      ]
     },
     "metadata": {},
     "output_type": "display_data"
    },
    {
     "name": "stdout",
     "output_type": "stream",
     "text": [
      "  loss: 0.5537 | hamming: 0.2894 | f1_macro: 0.1913\n",
      "\n",
      "F1-macro promedio: 0.2078 ± 0.0198\n",
      "Hamming promedio: 0.2874 ± 0.0132\n",
      "Pérdida promedio:         0.5626 ± 0.0162\n",
      "HU=[256, 256, 256]  L2=0.001 → val_f1ma: 0.2078\n",
      "Fold 1/10\n"
     ]
    },
    {
     "name": "stderr",
     "output_type": "stream",
     "text": [
      "GPU available: True (mps), used: False\n",
      "TPU available: False, using: 0 TPU cores\n",
      "HPU available: False, using: 0 HPUs\n",
      "\n",
      "  | Name       | Type                      | Params | Mode \n",
      "-----------------------------------------------------------------\n",
      "0 | classifier | Sequential                | 333 K  | train\n",
      "1 | loss       | BCEWithLogitsLoss         | 0      | train\n",
      "2 | hamming    | MultilabelHammingDistance | 0      | train\n",
      "3 | f1_macro   | MultilabelF1Score         | 0      | train\n",
      "-----------------------------------------------------------------\n",
      "333 K     Trainable params\n",
      "0         Non-trainable params\n",
      "333 K     Total params\n",
      "1.332     Total estimated model params size (MB)\n",
      "17        Modules in train mode\n",
      "0         Modules in eval mode\n"
     ]
    },
    {
     "name": "stdout",
     "output_type": "stream",
     "text": [
      "Epoch 14: 100%|██████████| 34/34 [00:00<00:00, 191.85it/s, v_num=170, train_loss=0.602, train_ham=0.326, train_f1ma=0.284, val_loss_step=0.542, val_ham_step=0.368, val_f1ma_step=0.0889, val_loss_epoch=0.545, val_ham_epoch=0.284, val_f1ma_epoch=0.228]"
     ]
    },
    {
     "name": "stderr",
     "output_type": "stream",
     "text": [
      "Restoring states from the checkpoint path at /Users/benjaminvaca/Documents/USFQ/semestre7/machine_learning/proyecto/lightning_logs/version_170/checkpoints/epoch=11-step=408.ckpt\n"
     ]
    },
    {
     "name": "stdout",
     "output_type": "stream",
     "text": [
      "\n"
     ]
    },
    {
     "name": "stderr",
     "output_type": "stream",
     "text": [
      "Loaded model weights from the checkpoint at /Users/benjaminvaca/Documents/USFQ/semestre7/machine_learning/proyecto/lightning_logs/version_170/checkpoints/epoch=11-step=408.ckpt\n"
     ]
    },
    {
     "name": "stdout",
     "output_type": "stream",
     "text": [
      "Validation DataLoader 0: 100%|██████████| 34/34 [00:00<00:00, 524.02it/s]\n"
     ]
    },
    {
     "name": "stderr",
     "output_type": "stream",
     "text": [
      "Restoring states from the checkpoint path at /Users/benjaminvaca/Documents/USFQ/semestre7/machine_learning/proyecto/lightning_logs/version_170/checkpoints/epoch=11-step=408.ckpt\n",
      "Loaded model weights from the checkpoint at /Users/benjaminvaca/Documents/USFQ/semestre7/machine_learning/proyecto/lightning_logs/version_170/checkpoints/epoch=11-step=408.ckpt\n"
     ]
    },
    {
     "name": "stdout",
     "output_type": "stream",
     "text": [
      "Validation DataLoader 0: 100%|██████████| 9/9 [00:00<00:00, 477.38it/s]\n"
     ]
    },
    {
     "name": "stderr",
     "output_type": "stream",
     "text": [
      "Restoring states from the checkpoint path at /Users/benjaminvaca/Documents/USFQ/semestre7/machine_learning/proyecto/lightning_logs/version_170/checkpoints/epoch=11-step=408.ckpt\n",
      "Loaded model weights from the checkpoint at /Users/benjaminvaca/Documents/USFQ/semestre7/machine_learning/proyecto/lightning_logs/version_170/checkpoints/epoch=11-step=408.ckpt\n"
     ]
    },
    {
     "name": "stdout",
     "output_type": "stream",
     "text": [
      "Testing DataLoader 0: 100%|██████████| 11/11 [00:00<00:00, 475.92it/s]\n"
     ]
    },
    {
     "data": {
      "text/html": [
       "<pre style=\"white-space:pre;overflow-x:auto;line-height:normal;font-family:Menlo,'DejaVu Sans Mono',consolas,'Courier New',monospace\">┏━━━━━━━━━━━━━━━━━━━━━━━━━━━┳━━━━━━━━━━━━━━━━━━━━━━━━━━━┓\n",
       "┃<span style=\"font-weight: bold\">        Test metric        </span>┃<span style=\"font-weight: bold\">       DataLoader 0        </span>┃\n",
       "┡━━━━━━━━━━━━━━━━━━━━━━━━━━━╇━━━━━━━━━━━━━━━━━━━━━━━━━━━┩\n",
       "│<span style=\"color: #008080; text-decoration-color: #008080\">      test_f1ma_epoch      </span>│<span style=\"color: #800080; text-decoration-color: #800080\">    0.21384137868881226    </span>│\n",
       "│<span style=\"color: #008080; text-decoration-color: #008080\">      test_ham_epoch       </span>│<span style=\"color: #800080; text-decoration-color: #800080\">    0.28318583965301514    </span>│\n",
       "│<span style=\"color: #008080; text-decoration-color: #008080\">      test_loss_epoch      </span>│<span style=\"color: #800080; text-decoration-color: #800080\">    0.5530020594596863     </span>│\n",
       "└───────────────────────────┴───────────────────────────┘\n",
       "</pre>\n"
      ],
      "text/plain": [
       "┏━━━━━━━━━━━━━━━━━━━━━━━━━━━┳━━━━━━━━━━━━━━━━━━━━━━━━━━━┓\n",
       "┃\u001b[1m \u001b[0m\u001b[1m       Test metric       \u001b[0m\u001b[1m \u001b[0m┃\u001b[1m \u001b[0m\u001b[1m      DataLoader 0       \u001b[0m\u001b[1m \u001b[0m┃\n",
       "┡━━━━━━━━━━━━━━━━━━━━━━━━━━━╇━━━━━━━━━━━━━━━━━━━━━━━━━━━┩\n",
       "│\u001b[36m \u001b[0m\u001b[36m     test_f1ma_epoch     \u001b[0m\u001b[36m \u001b[0m│\u001b[35m \u001b[0m\u001b[35m   0.21384137868881226   \u001b[0m\u001b[35m \u001b[0m│\n",
       "│\u001b[36m \u001b[0m\u001b[36m     test_ham_epoch      \u001b[0m\u001b[36m \u001b[0m│\u001b[35m \u001b[0m\u001b[35m   0.28318583965301514   \u001b[0m\u001b[35m \u001b[0m│\n",
       "│\u001b[36m \u001b[0m\u001b[36m     test_loss_epoch     \u001b[0m\u001b[36m \u001b[0m│\u001b[35m \u001b[0m\u001b[35m   0.5530020594596863    \u001b[0m\u001b[35m \u001b[0m│\n",
       "└───────────────────────────┴───────────────────────────┘\n"
      ]
     },
     "metadata": {},
     "output_type": "display_data"
    },
    {
     "name": "stdout",
     "output_type": "stream",
     "text": [
      "  loss: 0.5530 | hamming: 0.2832 | f1_macro: 0.2138\n",
      "Fold 2/10\n"
     ]
    },
    {
     "name": "stderr",
     "output_type": "stream",
     "text": [
      "GPU available: True (mps), used: False\n",
      "TPU available: False, using: 0 TPU cores\n",
      "HPU available: False, using: 0 HPUs\n",
      "\n",
      "  | Name       | Type                      | Params | Mode \n",
      "-----------------------------------------------------------------\n",
      "0 | classifier | Sequential                | 333 K  | train\n",
      "1 | loss       | BCEWithLogitsLoss         | 0      | train\n",
      "2 | hamming    | MultilabelHammingDistance | 0      | train\n",
      "3 | f1_macro   | MultilabelF1Score         | 0      | train\n",
      "-----------------------------------------------------------------\n",
      "333 K     Trainable params\n",
      "0         Non-trainable params\n",
      "333 K     Total params\n",
      "1.332     Total estimated model params size (MB)\n",
      "17        Modules in train mode\n",
      "0         Modules in eval mode\n"
     ]
    },
    {
     "name": "stdout",
     "output_type": "stream",
     "text": [
      "Epoch 6: 100%|██████████| 34/34 [00:00<00:00, 189.82it/s, v_num=171, train_loss=0.567, train_ham=0.307, train_f1ma=0.295, val_loss_step=0.600, val_ham_step=0.410, val_f1ma_step=0.085, val_loss_epoch=0.560, val_ham_epoch=0.307, val_f1ma_epoch=0.189] \n"
     ]
    },
    {
     "name": "stderr",
     "output_type": "stream",
     "text": [
      "Restoring states from the checkpoint path at /Users/benjaminvaca/Documents/USFQ/semestre7/machine_learning/proyecto/lightning_logs/version_171/checkpoints/epoch=3-step=136.ckpt\n",
      "Loaded model weights from the checkpoint at /Users/benjaminvaca/Documents/USFQ/semestre7/machine_learning/proyecto/lightning_logs/version_171/checkpoints/epoch=3-step=136.ckpt\n"
     ]
    },
    {
     "name": "stdout",
     "output_type": "stream",
     "text": [
      "Validation DataLoader 0: 100%|██████████| 34/34 [00:00<00:00, 326.09it/s]"
     ]
    },
    {
     "name": "stderr",
     "output_type": "stream",
     "text": [
      "Restoring states from the checkpoint path at /Users/benjaminvaca/Documents/USFQ/semestre7/machine_learning/proyecto/lightning_logs/version_171/checkpoints/epoch=3-step=136.ckpt\n"
     ]
    },
    {
     "name": "stdout",
     "output_type": "stream",
     "text": [
      "\n"
     ]
    },
    {
     "name": "stderr",
     "output_type": "stream",
     "text": [
      "Loaded model weights from the checkpoint at /Users/benjaminvaca/Documents/USFQ/semestre7/machine_learning/proyecto/lightning_logs/version_171/checkpoints/epoch=3-step=136.ckpt\n"
     ]
    },
    {
     "name": "stdout",
     "output_type": "stream",
     "text": [
      "Validation DataLoader 0: 100%|██████████| 9/9 [00:00<00:00, 470.59it/s]"
     ]
    },
    {
     "name": "stderr",
     "output_type": "stream",
     "text": [
      "Restoring states from the checkpoint path at /Users/benjaminvaca/Documents/USFQ/semestre7/machine_learning/proyecto/lightning_logs/version_171/checkpoints/epoch=3-step=136.ckpt\n"
     ]
    },
    {
     "name": "stdout",
     "output_type": "stream",
     "text": [
      "\n"
     ]
    },
    {
     "name": "stderr",
     "output_type": "stream",
     "text": [
      "Loaded model weights from the checkpoint at /Users/benjaminvaca/Documents/USFQ/semestre7/machine_learning/proyecto/lightning_logs/version_171/checkpoints/epoch=3-step=136.ckpt\n"
     ]
    },
    {
     "name": "stdout",
     "output_type": "stream",
     "text": [
      "Testing DataLoader 0: 100%|██████████| 11/11 [00:00<00:00, 495.76it/s]\n"
     ]
    },
    {
     "data": {
      "text/html": [
       "<pre style=\"white-space:pre;overflow-x:auto;line-height:normal;font-family:Menlo,'DejaVu Sans Mono',consolas,'Courier New',monospace\">┏━━━━━━━━━━━━━━━━━━━━━━━━━━━┳━━━━━━━━━━━━━━━━━━━━━━━━━━━┓\n",
       "┃<span style=\"font-weight: bold\">        Test metric        </span>┃<span style=\"font-weight: bold\">       DataLoader 0        </span>┃\n",
       "┡━━━━━━━━━━━━━━━━━━━━━━━━━━━╇━━━━━━━━━━━━━━━━━━━━━━━━━━━┩\n",
       "│<span style=\"color: #008080; text-decoration-color: #008080\">      test_f1ma_epoch      </span>│<span style=\"color: #800080; text-decoration-color: #800080\">    0.2401251345872879     </span>│\n",
       "│<span style=\"color: #008080; text-decoration-color: #008080\">      test_ham_epoch       </span>│<span style=\"color: #800080; text-decoration-color: #800080\">    0.2825303375720978     </span>│\n",
       "│<span style=\"color: #008080; text-decoration-color: #008080\">      test_loss_epoch      </span>│<span style=\"color: #800080; text-decoration-color: #800080\">    0.5570589303970337     </span>│\n",
       "└───────────────────────────┴───────────────────────────┘\n",
       "</pre>\n"
      ],
      "text/plain": [
       "┏━━━━━━━━━━━━━━━━━━━━━━━━━━━┳━━━━━━━━━━━━━━━━━━━━━━━━━━━┓\n",
       "┃\u001b[1m \u001b[0m\u001b[1m       Test metric       \u001b[0m\u001b[1m \u001b[0m┃\u001b[1m \u001b[0m\u001b[1m      DataLoader 0       \u001b[0m\u001b[1m \u001b[0m┃\n",
       "┡━━━━━━━━━━━━━━━━━━━━━━━━━━━╇━━━━━━━━━━━━━━━━━━━━━━━━━━━┩\n",
       "│\u001b[36m \u001b[0m\u001b[36m     test_f1ma_epoch     \u001b[0m\u001b[36m \u001b[0m│\u001b[35m \u001b[0m\u001b[35m   0.2401251345872879    \u001b[0m\u001b[35m \u001b[0m│\n",
       "│\u001b[36m \u001b[0m\u001b[36m     test_ham_epoch      \u001b[0m\u001b[36m \u001b[0m│\u001b[35m \u001b[0m\u001b[35m   0.2825303375720978    \u001b[0m\u001b[35m \u001b[0m│\n",
       "│\u001b[36m \u001b[0m\u001b[36m     test_loss_epoch     \u001b[0m\u001b[36m \u001b[0m│\u001b[35m \u001b[0m\u001b[35m   0.5570589303970337    \u001b[0m\u001b[35m \u001b[0m│\n",
       "└───────────────────────────┴───────────────────────────┘\n"
      ]
     },
     "metadata": {},
     "output_type": "display_data"
    },
    {
     "name": "stdout",
     "output_type": "stream",
     "text": [
      "  loss: 0.5571 | hamming: 0.2825 | f1_macro: 0.2401\n",
      "Fold 3/10\n"
     ]
    },
    {
     "name": "stderr",
     "output_type": "stream",
     "text": [
      "GPU available: True (mps), used: False\n",
      "TPU available: False, using: 0 TPU cores\n",
      "HPU available: False, using: 0 HPUs\n",
      "\n",
      "  | Name       | Type                      | Params | Mode \n",
      "-----------------------------------------------------------------\n",
      "0 | classifier | Sequential                | 333 K  | train\n",
      "1 | loss       | BCEWithLogitsLoss         | 0      | train\n",
      "2 | hamming    | MultilabelHammingDistance | 0      | train\n",
      "3 | f1_macro   | MultilabelF1Score         | 0      | train\n",
      "-----------------------------------------------------------------\n",
      "333 K     Trainable params\n",
      "0         Non-trainable params\n",
      "333 K     Total params\n",
      "1.332     Total estimated model params size (MB)\n",
      "17        Modules in train mode\n",
      "0         Modules in eval mode\n"
     ]
    },
    {
     "name": "stdout",
     "output_type": "stream",
     "text": [
      "Epoch 7: 100%|██████████| 34/34 [00:00<00:00, 196.20it/s, v_num=172, train_loss=0.523, train_ham=0.252, train_f1ma=0.401, val_loss_step=0.553, val_ham_step=0.407, val_f1ma_step=0.0523, val_loss_epoch=0.564, val_ham_epoch=0.303, val_f1ma_epoch=0.192]\n"
     ]
    },
    {
     "name": "stderr",
     "output_type": "stream",
     "text": [
      "Restoring states from the checkpoint path at /Users/benjaminvaca/Documents/USFQ/semestre7/machine_learning/proyecto/lightning_logs/version_172/checkpoints/epoch=4-step=170.ckpt\n",
      "Loaded model weights from the checkpoint at /Users/benjaminvaca/Documents/USFQ/semestre7/machine_learning/proyecto/lightning_logs/version_172/checkpoints/epoch=4-step=170.ckpt\n"
     ]
    },
    {
     "name": "stdout",
     "output_type": "stream",
     "text": [
      "Validation DataLoader 0: 100%|██████████| 34/34 [00:00<00:00, 547.53it/s]\n"
     ]
    },
    {
     "name": "stderr",
     "output_type": "stream",
     "text": [
      "Restoring states from the checkpoint path at /Users/benjaminvaca/Documents/USFQ/semestre7/machine_learning/proyecto/lightning_logs/version_172/checkpoints/epoch=4-step=170.ckpt\n",
      "Loaded model weights from the checkpoint at /Users/benjaminvaca/Documents/USFQ/semestre7/machine_learning/proyecto/lightning_logs/version_172/checkpoints/epoch=4-step=170.ckpt\n"
     ]
    },
    {
     "name": "stdout",
     "output_type": "stream",
     "text": [
      "Validation DataLoader 0: 100%|██████████| 9/9 [00:00<00:00, 526.19it/s]\n"
     ]
    },
    {
     "name": "stderr",
     "output_type": "stream",
     "text": [
      "Restoring states from the checkpoint path at /Users/benjaminvaca/Documents/USFQ/semestre7/machine_learning/proyecto/lightning_logs/version_172/checkpoints/epoch=4-step=170.ckpt\n",
      "Loaded model weights from the checkpoint at /Users/benjaminvaca/Documents/USFQ/semestre7/machine_learning/proyecto/lightning_logs/version_172/checkpoints/epoch=4-step=170.ckpt\n"
     ]
    },
    {
     "name": "stdout",
     "output_type": "stream",
     "text": [
      "Testing DataLoader 0: 100%|██████████| 11/11 [00:00<00:00, 519.70it/s]\n"
     ]
    },
    {
     "data": {
      "text/html": [
       "<pre style=\"white-space:pre;overflow-x:auto;line-height:normal;font-family:Menlo,'DejaVu Sans Mono',consolas,'Courier New',monospace\">┏━━━━━━━━━━━━━━━━━━━━━━━━━━━┳━━━━━━━━━━━━━━━━━━━━━━━━━━━┓\n",
       "┃<span style=\"font-weight: bold\">        Test metric        </span>┃<span style=\"font-weight: bold\">       DataLoader 0        </span>┃\n",
       "┡━━━━━━━━━━━━━━━━━━━━━━━━━━━╇━━━━━━━━━━━━━━━━━━━━━━━━━━━┩\n",
       "│<span style=\"color: #008080; text-decoration-color: #008080\">      test_f1ma_epoch      </span>│<span style=\"color: #800080; text-decoration-color: #800080\">    0.1862114667892456     </span>│\n",
       "│<span style=\"color: #008080; text-decoration-color: #008080\">      test_ham_epoch       </span>│<span style=\"color: #800080; text-decoration-color: #800080\">    0.29236316680908203    </span>│\n",
       "│<span style=\"color: #008080; text-decoration-color: #008080\">      test_loss_epoch      </span>│<span style=\"color: #800080; text-decoration-color: #800080\">    0.5593215823173523     </span>│\n",
       "└───────────────────────────┴───────────────────────────┘\n",
       "</pre>\n"
      ],
      "text/plain": [
       "┏━━━━━━━━━━━━━━━━━━━━━━━━━━━┳━━━━━━━━━━━━━━━━━━━━━━━━━━━┓\n",
       "┃\u001b[1m \u001b[0m\u001b[1m       Test metric       \u001b[0m\u001b[1m \u001b[0m┃\u001b[1m \u001b[0m\u001b[1m      DataLoader 0       \u001b[0m\u001b[1m \u001b[0m┃\n",
       "┡━━━━━━━━━━━━━━━━━━━━━━━━━━━╇━━━━━━━━━━━━━━━━━━━━━━━━━━━┩\n",
       "│\u001b[36m \u001b[0m\u001b[36m     test_f1ma_epoch     \u001b[0m\u001b[36m \u001b[0m│\u001b[35m \u001b[0m\u001b[35m   0.1862114667892456    \u001b[0m\u001b[35m \u001b[0m│\n",
       "│\u001b[36m \u001b[0m\u001b[36m     test_ham_epoch      \u001b[0m\u001b[36m \u001b[0m│\u001b[35m \u001b[0m\u001b[35m   0.29236316680908203   \u001b[0m\u001b[35m \u001b[0m│\n",
       "│\u001b[36m \u001b[0m\u001b[36m     test_loss_epoch     \u001b[0m\u001b[36m \u001b[0m│\u001b[35m \u001b[0m\u001b[35m   0.5593215823173523    \u001b[0m\u001b[35m \u001b[0m│\n",
       "└───────────────────────────┴───────────────────────────┘\n"
      ]
     },
     "metadata": {},
     "output_type": "display_data"
    },
    {
     "name": "stdout",
     "output_type": "stream",
     "text": [
      "  loss: 0.5593 | hamming: 0.2924 | f1_macro: 0.1862\n",
      "Fold 4/10\n"
     ]
    },
    {
     "name": "stderr",
     "output_type": "stream",
     "text": [
      "GPU available: True (mps), used: False\n",
      "TPU available: False, using: 0 TPU cores\n",
      "HPU available: False, using: 0 HPUs\n",
      "\n",
      "  | Name       | Type                      | Params | Mode \n",
      "-----------------------------------------------------------------\n",
      "0 | classifier | Sequential                | 333 K  | train\n",
      "1 | loss       | BCEWithLogitsLoss         | 0      | train\n",
      "2 | hamming    | MultilabelHammingDistance | 0      | train\n",
      "3 | f1_macro   | MultilabelF1Score         | 0      | train\n",
      "-----------------------------------------------------------------\n",
      "333 K     Trainable params\n",
      "0         Non-trainable params\n",
      "333 K     Total params\n",
      "1.332     Total estimated model params size (MB)\n",
      "17        Modules in train mode\n",
      "0         Modules in eval mode\n"
     ]
    },
    {
     "name": "stdout",
     "output_type": "stream",
     "text": [
      "Epoch 6: 100%|██████████| 34/34 [00:00<00:00, 194.03it/s, v_num=173, train_loss=0.533, train_ham=0.274, train_f1ma=0.298, val_loss_step=0.525, val_ham_step=0.296, val_f1ma_step=0.133, val_loss_epoch=0.556, val_ham_epoch=0.282, val_f1ma_epoch=0.178] \n"
     ]
    },
    {
     "name": "stderr",
     "output_type": "stream",
     "text": [
      "Restoring states from the checkpoint path at /Users/benjaminvaca/Documents/USFQ/semestre7/machine_learning/proyecto/lightning_logs/version_173/checkpoints/epoch=3-step=136.ckpt\n",
      "Loaded model weights from the checkpoint at /Users/benjaminvaca/Documents/USFQ/semestre7/machine_learning/proyecto/lightning_logs/version_173/checkpoints/epoch=3-step=136.ckpt\n"
     ]
    },
    {
     "name": "stdout",
     "output_type": "stream",
     "text": [
      "Validation DataLoader 0: 100%|██████████| 34/34 [00:00<00:00, 533.90it/s]\n"
     ]
    },
    {
     "name": "stderr",
     "output_type": "stream",
     "text": [
      "Restoring states from the checkpoint path at /Users/benjaminvaca/Documents/USFQ/semestre7/machine_learning/proyecto/lightning_logs/version_173/checkpoints/epoch=3-step=136.ckpt\n",
      "Loaded model weights from the checkpoint at /Users/benjaminvaca/Documents/USFQ/semestre7/machine_learning/proyecto/lightning_logs/version_173/checkpoints/epoch=3-step=136.ckpt\n"
     ]
    },
    {
     "name": "stdout",
     "output_type": "stream",
     "text": [
      "Validation DataLoader 0: 100%|██████████| 9/9 [00:00<00:00, 500.56it/s]"
     ]
    },
    {
     "name": "stderr",
     "output_type": "stream",
     "text": [
      "Restoring states from the checkpoint path at /Users/benjaminvaca/Documents/USFQ/semestre7/machine_learning/proyecto/lightning_logs/version_173/checkpoints/epoch=3-step=136.ckpt\n"
     ]
    },
    {
     "name": "stdout",
     "output_type": "stream",
     "text": [
      "\n"
     ]
    },
    {
     "name": "stderr",
     "output_type": "stream",
     "text": [
      "Loaded model weights from the checkpoint at /Users/benjaminvaca/Documents/USFQ/semestre7/machine_learning/proyecto/lightning_logs/version_173/checkpoints/epoch=3-step=136.ckpt\n"
     ]
    },
    {
     "name": "stdout",
     "output_type": "stream",
     "text": [
      "Testing DataLoader 0: 100%|██████████| 11/11 [00:00<00:00, 502.72it/s]\n"
     ]
    },
    {
     "data": {
      "text/html": [
       "<pre style=\"white-space:pre;overflow-x:auto;line-height:normal;font-family:Menlo,'DejaVu Sans Mono',consolas,'Courier New',monospace\">┏━━━━━━━━━━━━━━━━━━━━━━━━━━━┳━━━━━━━━━━━━━━━━━━━━━━━━━━━┓\n",
       "┃<span style=\"font-weight: bold\">        Test metric        </span>┃<span style=\"font-weight: bold\">       DataLoader 0        </span>┃\n",
       "┡━━━━━━━━━━━━━━━━━━━━━━━━━━━╇━━━━━━━━━━━━━━━━━━━━━━━━━━━┩\n",
       "│<span style=\"color: #008080; text-decoration-color: #008080\">      test_f1ma_epoch      </span>│<span style=\"color: #800080; text-decoration-color: #800080\">    0.19092677533626556    </span>│\n",
       "│<span style=\"color: #008080; text-decoration-color: #008080\">      test_ham_epoch       </span>│<span style=\"color: #800080; text-decoration-color: #800080\">    0.28318580985069275    </span>│\n",
       "│<span style=\"color: #008080; text-decoration-color: #008080\">      test_loss_epoch      </span>│<span style=\"color: #800080; text-decoration-color: #800080\">    0.5579675436019897     </span>│\n",
       "└───────────────────────────┴───────────────────────────┘\n",
       "</pre>\n"
      ],
      "text/plain": [
       "┏━━━━━━━━━━━━━━━━━━━━━━━━━━━┳━━━━━━━━━━━━━━━━━━━━━━━━━━━┓\n",
       "┃\u001b[1m \u001b[0m\u001b[1m       Test metric       \u001b[0m\u001b[1m \u001b[0m┃\u001b[1m \u001b[0m\u001b[1m      DataLoader 0       \u001b[0m\u001b[1m \u001b[0m┃\n",
       "┡━━━━━━━━━━━━━━━━━━━━━━━━━━━╇━━━━━━━━━━━━━━━━━━━━━━━━━━━┩\n",
       "│\u001b[36m \u001b[0m\u001b[36m     test_f1ma_epoch     \u001b[0m\u001b[36m \u001b[0m│\u001b[35m \u001b[0m\u001b[35m   0.19092677533626556   \u001b[0m\u001b[35m \u001b[0m│\n",
       "│\u001b[36m \u001b[0m\u001b[36m     test_ham_epoch      \u001b[0m\u001b[36m \u001b[0m│\u001b[35m \u001b[0m\u001b[35m   0.28318580985069275   \u001b[0m\u001b[35m \u001b[0m│\n",
       "│\u001b[36m \u001b[0m\u001b[36m     test_loss_epoch     \u001b[0m\u001b[36m \u001b[0m│\u001b[35m \u001b[0m\u001b[35m   0.5579675436019897    \u001b[0m\u001b[35m \u001b[0m│\n",
       "└───────────────────────────┴───────────────────────────┘\n"
      ]
     },
     "metadata": {},
     "output_type": "display_data"
    },
    {
     "name": "stdout",
     "output_type": "stream",
     "text": [
      "  loss: 0.5580 | hamming: 0.2832 | f1_macro: 0.1909\n",
      "Fold 5/10\n"
     ]
    },
    {
     "name": "stderr",
     "output_type": "stream",
     "text": [
      "GPU available: True (mps), used: False\n",
      "TPU available: False, using: 0 TPU cores\n",
      "HPU available: False, using: 0 HPUs\n",
      "\n",
      "  | Name       | Type                      | Params | Mode \n",
      "-----------------------------------------------------------------\n",
      "0 | classifier | Sequential                | 333 K  | train\n",
      "1 | loss       | BCEWithLogitsLoss         | 0      | train\n",
      "2 | hamming    | MultilabelHammingDistance | 0      | train\n",
      "3 | f1_macro   | MultilabelF1Score         | 0      | train\n",
      "-----------------------------------------------------------------\n",
      "333 K     Trainable params\n",
      "0         Non-trainable params\n",
      "333 K     Total params\n",
      "1.332     Total estimated model params size (MB)\n",
      "17        Modules in train mode\n",
      "0         Modules in eval mode\n"
     ]
    },
    {
     "name": "stdout",
     "output_type": "stream",
     "text": [
      "Epoch 3: 100%|██████████| 34/34 [00:00<00:00, 197.73it/s, v_num=174, train_loss=0.585, train_ham=0.315, train_f1ma=0.295, val_loss_step=0.561, val_ham_step=0.333, val_f1ma_step=0.128, val_loss_epoch=0.560, val_ham_epoch=0.289, val_f1ma_epoch=0.189]\n"
     ]
    },
    {
     "name": "stderr",
     "output_type": "stream",
     "text": [
      "Restoring states from the checkpoint path at /Users/benjaminvaca/Documents/USFQ/semestre7/machine_learning/proyecto/lightning_logs/version_174/checkpoints/epoch=0-step=34.ckpt\n",
      "Loaded model weights from the checkpoint at /Users/benjaminvaca/Documents/USFQ/semestre7/machine_learning/proyecto/lightning_logs/version_174/checkpoints/epoch=0-step=34.ckpt\n"
     ]
    },
    {
     "name": "stdout",
     "output_type": "stream",
     "text": [
      "Validation DataLoader 0: 100%|██████████| 34/34 [00:00<00:00, 520.08it/s]"
     ]
    },
    {
     "name": "stderr",
     "output_type": "stream",
     "text": [
      "Restoring states from the checkpoint path at /Users/benjaminvaca/Documents/USFQ/semestre7/machine_learning/proyecto/lightning_logs/version_174/checkpoints/epoch=0-step=34.ckpt\n"
     ]
    },
    {
     "name": "stdout",
     "output_type": "stream",
     "text": [
      "\n"
     ]
    },
    {
     "name": "stderr",
     "output_type": "stream",
     "text": [
      "Loaded model weights from the checkpoint at /Users/benjaminvaca/Documents/USFQ/semestre7/machine_learning/proyecto/lightning_logs/version_174/checkpoints/epoch=0-step=34.ckpt\n"
     ]
    },
    {
     "name": "stdout",
     "output_type": "stream",
     "text": [
      "Validation DataLoader 0: 100%|██████████| 9/9 [00:00<00:00, 508.50it/s]\n"
     ]
    },
    {
     "name": "stderr",
     "output_type": "stream",
     "text": [
      "Restoring states from the checkpoint path at /Users/benjaminvaca/Documents/USFQ/semestre7/machine_learning/proyecto/lightning_logs/version_174/checkpoints/epoch=0-step=34.ckpt\n",
      "Loaded model weights from the checkpoint at /Users/benjaminvaca/Documents/USFQ/semestre7/machine_learning/proyecto/lightning_logs/version_174/checkpoints/epoch=0-step=34.ckpt\n"
     ]
    },
    {
     "name": "stdout",
     "output_type": "stream",
     "text": [
      "Testing DataLoader 0: 100%|██████████| 11/11 [00:00<00:00, 513.94it/s]\n"
     ]
    },
    {
     "data": {
      "text/html": [
       "<pre style=\"white-space:pre;overflow-x:auto;line-height:normal;font-family:Menlo,'DejaVu Sans Mono',consolas,'Courier New',monospace\">┏━━━━━━━━━━━━━━━━━━━━━━━━━━━┳━━━━━━━━━━━━━━━━━━━━━━━━━━━┓\n",
       "┃<span style=\"font-weight: bold\">        Test metric        </span>┃<span style=\"font-weight: bold\">       DataLoader 0        </span>┃\n",
       "┡━━━━━━━━━━━━━━━━━━━━━━━━━━━╇━━━━━━━━━━━━━━━━━━━━━━━━━━━┩\n",
       "│<span style=\"color: #008080; text-decoration-color: #008080\">      test_f1ma_epoch      </span>│<span style=\"color: #800080; text-decoration-color: #800080\">    0.20303194224834442    </span>│\n",
       "│<span style=\"color: #008080; text-decoration-color: #008080\">      test_ham_epoch       </span>│<span style=\"color: #800080; text-decoration-color: #800080\">    0.31170108914375305    </span>│\n",
       "│<span style=\"color: #008080; text-decoration-color: #008080\">      test_loss_epoch      </span>│<span style=\"color: #800080; text-decoration-color: #800080\">    0.5888118147850037     </span>│\n",
       "└───────────────────────────┴───────────────────────────┘\n",
       "</pre>\n"
      ],
      "text/plain": [
       "┏━━━━━━━━━━━━━━━━━━━━━━━━━━━┳━━━━━━━━━━━━━━━━━━━━━━━━━━━┓\n",
       "┃\u001b[1m \u001b[0m\u001b[1m       Test metric       \u001b[0m\u001b[1m \u001b[0m┃\u001b[1m \u001b[0m\u001b[1m      DataLoader 0       \u001b[0m\u001b[1m \u001b[0m┃\n",
       "┡━━━━━━━━━━━━━━━━━━━━━━━━━━━╇━━━━━━━━━━━━━━━━━━━━━━━━━━━┩\n",
       "│\u001b[36m \u001b[0m\u001b[36m     test_f1ma_epoch     \u001b[0m\u001b[36m \u001b[0m│\u001b[35m \u001b[0m\u001b[35m   0.20303194224834442   \u001b[0m\u001b[35m \u001b[0m│\n",
       "│\u001b[36m \u001b[0m\u001b[36m     test_ham_epoch      \u001b[0m\u001b[36m \u001b[0m│\u001b[35m \u001b[0m\u001b[35m   0.31170108914375305   \u001b[0m\u001b[35m \u001b[0m│\n",
       "│\u001b[36m \u001b[0m\u001b[36m     test_loss_epoch     \u001b[0m\u001b[36m \u001b[0m│\u001b[35m \u001b[0m\u001b[35m   0.5888118147850037    \u001b[0m\u001b[35m \u001b[0m│\n",
       "└───────────────────────────┴───────────────────────────┘\n"
      ]
     },
     "metadata": {},
     "output_type": "display_data"
    },
    {
     "name": "stdout",
     "output_type": "stream",
     "text": [
      "  loss: 0.5888 | hamming: 0.3117 | f1_macro: 0.2030\n",
      "Fold 6/10\n"
     ]
    },
    {
     "name": "stderr",
     "output_type": "stream",
     "text": [
      "GPU available: True (mps), used: False\n",
      "TPU available: False, using: 0 TPU cores\n",
      "HPU available: False, using: 0 HPUs\n",
      "\n",
      "  | Name       | Type                      | Params | Mode \n",
      "-----------------------------------------------------------------\n",
      "0 | classifier | Sequential                | 333 K  | train\n",
      "1 | loss       | BCEWithLogitsLoss         | 0      | train\n",
      "2 | hamming    | MultilabelHammingDistance | 0      | train\n",
      "3 | f1_macro   | MultilabelF1Score         | 0      | train\n",
      "-----------------------------------------------------------------\n",
      "333 K     Trainable params\n",
      "0         Non-trainable params\n",
      "333 K     Total params\n",
      "1.332     Total estimated model params size (MB)\n",
      "17        Modules in train mode\n",
      "0         Modules in eval mode\n"
     ]
    },
    {
     "name": "stdout",
     "output_type": "stream",
     "text": [
      "Epoch 8: 100%|██████████| 34/34 [00:00<00:00, 182.73it/s, v_num=175, train_loss=0.491, train_ham=0.218, train_f1ma=0.457, val_loss_step=0.618, val_ham_step=0.368, val_f1ma_step=0.105, val_loss_epoch=0.557, val_ham_epoch=0.292, val_f1ma_epoch=0.186] \n"
     ]
    },
    {
     "name": "stderr",
     "output_type": "stream",
     "text": [
      "Restoring states from the checkpoint path at /Users/benjaminvaca/Documents/USFQ/semestre7/machine_learning/proyecto/lightning_logs/version_175/checkpoints/epoch=5-step=204.ckpt\n",
      "Loaded model weights from the checkpoint at /Users/benjaminvaca/Documents/USFQ/semestre7/machine_learning/proyecto/lightning_logs/version_175/checkpoints/epoch=5-step=204.ckpt\n"
     ]
    },
    {
     "name": "stdout",
     "output_type": "stream",
     "text": [
      "Validation DataLoader 0: 100%|██████████| 34/34 [00:00<00:00, 519.33it/s]\n"
     ]
    },
    {
     "name": "stderr",
     "output_type": "stream",
     "text": [
      "Restoring states from the checkpoint path at /Users/benjaminvaca/Documents/USFQ/semestre7/machine_learning/proyecto/lightning_logs/version_175/checkpoints/epoch=5-step=204.ckpt\n",
      "Loaded model weights from the checkpoint at /Users/benjaminvaca/Documents/USFQ/semestre7/machine_learning/proyecto/lightning_logs/version_175/checkpoints/epoch=5-step=204.ckpt\n"
     ]
    },
    {
     "name": "stdout",
     "output_type": "stream",
     "text": [
      "Validation DataLoader 0: 100%|██████████| 9/9 [00:00<00:00, 484.42it/s]\n"
     ]
    },
    {
     "name": "stderr",
     "output_type": "stream",
     "text": [
      "Restoring states from the checkpoint path at /Users/benjaminvaca/Documents/USFQ/semestre7/machine_learning/proyecto/lightning_logs/version_175/checkpoints/epoch=5-step=204.ckpt\n",
      "Loaded model weights from the checkpoint at /Users/benjaminvaca/Documents/USFQ/semestre7/machine_learning/proyecto/lightning_logs/version_175/checkpoints/epoch=5-step=204.ckpt\n"
     ]
    },
    {
     "name": "stdout",
     "output_type": "stream",
     "text": [
      "Testing DataLoader 0: 100%|██████████| 11/11 [00:00<00:00, 512.03it/s]\n"
     ]
    },
    {
     "data": {
      "text/html": [
       "<pre style=\"white-space:pre;overflow-x:auto;line-height:normal;font-family:Menlo,'DejaVu Sans Mono',consolas,'Courier New',monospace\">┏━━━━━━━━━━━━━━━━━━━━━━━━━━━┳━━━━━━━━━━━━━━━━━━━━━━━━━━━┓\n",
       "┃<span style=\"font-weight: bold\">        Test metric        </span>┃<span style=\"font-weight: bold\">       DataLoader 0        </span>┃\n",
       "┡━━━━━━━━━━━━━━━━━━━━━━━━━━━╇━━━━━━━━━━━━━━━━━━━━━━━━━━━┩\n",
       "│<span style=\"color: #008080; text-decoration-color: #008080\">      test_f1ma_epoch      </span>│<span style=\"color: #800080; text-decoration-color: #800080\">    0.2186787873506546     </span>│\n",
       "│<span style=\"color: #008080; text-decoration-color: #008080\">      test_ham_epoch       </span>│<span style=\"color: #800080; text-decoration-color: #800080\">    0.27761387825012207    </span>│\n",
       "│<span style=\"color: #008080; text-decoration-color: #008080\">      test_loss_epoch      </span>│<span style=\"color: #800080; text-decoration-color: #800080\">    0.5503200888633728     </span>│\n",
       "└───────────────────────────┴───────────────────────────┘\n",
       "</pre>\n"
      ],
      "text/plain": [
       "┏━━━━━━━━━━━━━━━━━━━━━━━━━━━┳━━━━━━━━━━━━━━━━━━━━━━━━━━━┓\n",
       "┃\u001b[1m \u001b[0m\u001b[1m       Test metric       \u001b[0m\u001b[1m \u001b[0m┃\u001b[1m \u001b[0m\u001b[1m      DataLoader 0       \u001b[0m\u001b[1m \u001b[0m┃\n",
       "┡━━━━━━━━━━━━━━━━━━━━━━━━━━━╇━━━━━━━━━━━━━━━━━━━━━━━━━━━┩\n",
       "│\u001b[36m \u001b[0m\u001b[36m     test_f1ma_epoch     \u001b[0m\u001b[36m \u001b[0m│\u001b[35m \u001b[0m\u001b[35m   0.2186787873506546    \u001b[0m\u001b[35m \u001b[0m│\n",
       "│\u001b[36m \u001b[0m\u001b[36m     test_ham_epoch      \u001b[0m\u001b[36m \u001b[0m│\u001b[35m \u001b[0m\u001b[35m   0.27761387825012207   \u001b[0m\u001b[35m \u001b[0m│\n",
       "│\u001b[36m \u001b[0m\u001b[36m     test_loss_epoch     \u001b[0m\u001b[36m \u001b[0m│\u001b[35m \u001b[0m\u001b[35m   0.5503200888633728    \u001b[0m\u001b[35m \u001b[0m│\n",
       "└───────────────────────────┴───────────────────────────┘\n"
      ]
     },
     "metadata": {},
     "output_type": "display_data"
    },
    {
     "name": "stdout",
     "output_type": "stream",
     "text": [
      "  loss: 0.5503 | hamming: 0.2776 | f1_macro: 0.2187\n",
      "Fold 7/10\n"
     ]
    },
    {
     "name": "stderr",
     "output_type": "stream",
     "text": [
      "GPU available: True (mps), used: False\n",
      "TPU available: False, using: 0 TPU cores\n",
      "HPU available: False, using: 0 HPUs\n",
      "\n",
      "  | Name       | Type                      | Params | Mode \n",
      "-----------------------------------------------------------------\n",
      "0 | classifier | Sequential                | 333 K  | train\n",
      "1 | loss       | BCEWithLogitsLoss         | 0      | train\n",
      "2 | hamming    | MultilabelHammingDistance | 0      | train\n",
      "3 | f1_macro   | MultilabelF1Score         | 0      | train\n",
      "-----------------------------------------------------------------\n",
      "333 K     Trainable params\n",
      "0         Non-trainable params\n",
      "333 K     Total params\n",
      "1.332     Total estimated model params size (MB)\n",
      "17        Modules in train mode\n",
      "0         Modules in eval mode\n"
     ]
    },
    {
     "name": "stdout",
     "output_type": "stream",
     "text": [
      "Epoch 7: 100%|██████████| 34/34 [00:00<00:00, 203.91it/s, v_num=176, train_loss=0.517, train_ham=0.249, train_f1ma=0.389, val_loss_step=0.519, val_ham_step=0.229, val_f1ma_step=0.139, val_loss_epoch=0.561, val_ham_epoch=0.289, val_f1ma_epoch=0.172] \n"
     ]
    },
    {
     "name": "stderr",
     "output_type": "stream",
     "text": [
      "Restoring states from the checkpoint path at /Users/benjaminvaca/Documents/USFQ/semestre7/machine_learning/proyecto/lightning_logs/version_176/checkpoints/epoch=4-step=170.ckpt\n",
      "Loaded model weights from the checkpoint at /Users/benjaminvaca/Documents/USFQ/semestre7/machine_learning/proyecto/lightning_logs/version_176/checkpoints/epoch=4-step=170.ckpt\n"
     ]
    },
    {
     "name": "stdout",
     "output_type": "stream",
     "text": [
      "Validation DataLoader 0: 100%|██████████| 34/34 [00:00<00:00, 528.42it/s]"
     ]
    },
    {
     "name": "stderr",
     "output_type": "stream",
     "text": [
      "Restoring states from the checkpoint path at /Users/benjaminvaca/Documents/USFQ/semestre7/machine_learning/proyecto/lightning_logs/version_176/checkpoints/epoch=4-step=170.ckpt\n"
     ]
    },
    {
     "name": "stdout",
     "output_type": "stream",
     "text": [
      "\n"
     ]
    },
    {
     "name": "stderr",
     "output_type": "stream",
     "text": [
      "Loaded model weights from the checkpoint at /Users/benjaminvaca/Documents/USFQ/semestre7/machine_learning/proyecto/lightning_logs/version_176/checkpoints/epoch=4-step=170.ckpt\n"
     ]
    },
    {
     "name": "stdout",
     "output_type": "stream",
     "text": [
      "Validation DataLoader 0: 100%|██████████| 9/9 [00:00<00:00, 509.86it/s]"
     ]
    },
    {
     "name": "stderr",
     "output_type": "stream",
     "text": [
      "Restoring states from the checkpoint path at /Users/benjaminvaca/Documents/USFQ/semestre7/machine_learning/proyecto/lightning_logs/version_176/checkpoints/epoch=4-step=170.ckpt\n"
     ]
    },
    {
     "name": "stdout",
     "output_type": "stream",
     "text": [
      "\n"
     ]
    },
    {
     "name": "stderr",
     "output_type": "stream",
     "text": [
      "Loaded model weights from the checkpoint at /Users/benjaminvaca/Documents/USFQ/semestre7/machine_learning/proyecto/lightning_logs/version_176/checkpoints/epoch=4-step=170.ckpt\n"
     ]
    },
    {
     "name": "stdout",
     "output_type": "stream",
     "text": [
      "Testing DataLoader 0: 100%|██████████| 11/11 [00:00<00:00, 223.33it/s]\n"
     ]
    },
    {
     "data": {
      "text/html": [
       "<pre style=\"white-space:pre;overflow-x:auto;line-height:normal;font-family:Menlo,'DejaVu Sans Mono',consolas,'Courier New',monospace\">┏━━━━━━━━━━━━━━━━━━━━━━━━━━━┳━━━━━━━━━━━━━━━━━━━━━━━━━━━┓\n",
       "┃<span style=\"font-weight: bold\">        Test metric        </span>┃<span style=\"font-weight: bold\">       DataLoader 0        </span>┃\n",
       "┡━━━━━━━━━━━━━━━━━━━━━━━━━━━╇━━━━━━━━━━━━━━━━━━━━━━━━━━━┩\n",
       "│<span style=\"color: #008080; text-decoration-color: #008080\">      test_f1ma_epoch      </span>│<span style=\"color: #800080; text-decoration-color: #800080\">    0.18971221148967743    </span>│\n",
       "│<span style=\"color: #008080; text-decoration-color: #008080\">      test_ham_epoch       </span>│<span style=\"color: #800080; text-decoration-color: #800080\">    0.2838413715362549     </span>│\n",
       "│<span style=\"color: #008080; text-decoration-color: #008080\">      test_loss_epoch      </span>│<span style=\"color: #800080; text-decoration-color: #800080\">    0.5541877746582031     </span>│\n",
       "└───────────────────────────┴───────────────────────────┘\n",
       "</pre>\n"
      ],
      "text/plain": [
       "┏━━━━━━━━━━━━━━━━━━━━━━━━━━━┳━━━━━━━━━━━━━━━━━━━━━━━━━━━┓\n",
       "┃\u001b[1m \u001b[0m\u001b[1m       Test metric       \u001b[0m\u001b[1m \u001b[0m┃\u001b[1m \u001b[0m\u001b[1m      DataLoader 0       \u001b[0m\u001b[1m \u001b[0m┃\n",
       "┡━━━━━━━━━━━━━━━━━━━━━━━━━━━╇━━━━━━━━━━━━━━━━━━━━━━━━━━━┩\n",
       "│\u001b[36m \u001b[0m\u001b[36m     test_f1ma_epoch     \u001b[0m\u001b[36m \u001b[0m│\u001b[35m \u001b[0m\u001b[35m   0.18971221148967743   \u001b[0m\u001b[35m \u001b[0m│\n",
       "│\u001b[36m \u001b[0m\u001b[36m     test_ham_epoch      \u001b[0m\u001b[36m \u001b[0m│\u001b[35m \u001b[0m\u001b[35m   0.2838413715362549    \u001b[0m\u001b[35m \u001b[0m│\n",
       "│\u001b[36m \u001b[0m\u001b[36m     test_loss_epoch     \u001b[0m\u001b[36m \u001b[0m│\u001b[35m \u001b[0m\u001b[35m   0.5541877746582031    \u001b[0m\u001b[35m \u001b[0m│\n",
       "└───────────────────────────┴───────────────────────────┘\n"
      ]
     },
     "metadata": {},
     "output_type": "display_data"
    },
    {
     "name": "stdout",
     "output_type": "stream",
     "text": [
      "  loss: 0.5542 | hamming: 0.2838 | f1_macro: 0.1897\n",
      "Fold 8/10\n"
     ]
    },
    {
     "name": "stderr",
     "output_type": "stream",
     "text": [
      "GPU available: True (mps), used: False\n",
      "TPU available: False, using: 0 TPU cores\n",
      "HPU available: False, using: 0 HPUs\n",
      "\n",
      "  | Name       | Type                      | Params | Mode \n",
      "-----------------------------------------------------------------\n",
      "0 | classifier | Sequential                | 333 K  | train\n",
      "1 | loss       | BCEWithLogitsLoss         | 0      | train\n",
      "2 | hamming    | MultilabelHammingDistance | 0      | train\n",
      "3 | f1_macro   | MultilabelF1Score         | 0      | train\n",
      "-----------------------------------------------------------------\n",
      "333 K     Trainable params\n",
      "0         Non-trainable params\n",
      "333 K     Total params\n",
      "1.332     Total estimated model params size (MB)\n",
      "17        Modules in train mode\n",
      "0         Modules in eval mode\n"
     ]
    },
    {
     "name": "stdout",
     "output_type": "stream",
     "text": [
      "Epoch 12: 100%|██████████| 34/34 [00:00<00:00, 196.58it/s, v_num=177, train_loss=0.484, train_ham=0.215, train_f1ma=0.505, val_loss_step=0.598, val_ham_step=0.385, val_f1ma_step=0.0838, val_loss_epoch=0.551, val_ham_epoch=0.285, val_f1ma_epoch=0.215]"
     ]
    },
    {
     "name": "stderr",
     "output_type": "stream",
     "text": [
      "Restoring states from the checkpoint path at /Users/benjaminvaca/Documents/USFQ/semestre7/machine_learning/proyecto/lightning_logs/version_177/checkpoints/epoch=9-step=340.ckpt\n"
     ]
    },
    {
     "name": "stdout",
     "output_type": "stream",
     "text": [
      "\n"
     ]
    },
    {
     "name": "stderr",
     "output_type": "stream",
     "text": [
      "Loaded model weights from the checkpoint at /Users/benjaminvaca/Documents/USFQ/semestre7/machine_learning/proyecto/lightning_logs/version_177/checkpoints/epoch=9-step=340.ckpt\n"
     ]
    },
    {
     "name": "stdout",
     "output_type": "stream",
     "text": [
      "Validation DataLoader 0: 100%|██████████| 34/34 [00:00<00:00, 539.99it/s]"
     ]
    },
    {
     "name": "stderr",
     "output_type": "stream",
     "text": [
      "Restoring states from the checkpoint path at /Users/benjaminvaca/Documents/USFQ/semestre7/machine_learning/proyecto/lightning_logs/version_177/checkpoints/epoch=9-step=340.ckpt\n"
     ]
    },
    {
     "name": "stdout",
     "output_type": "stream",
     "text": [
      "\n"
     ]
    },
    {
     "name": "stderr",
     "output_type": "stream",
     "text": [
      "Loaded model weights from the checkpoint at /Users/benjaminvaca/Documents/USFQ/semestre7/machine_learning/proyecto/lightning_logs/version_177/checkpoints/epoch=9-step=340.ckpt\n"
     ]
    },
    {
     "name": "stdout",
     "output_type": "stream",
     "text": [
      "Validation DataLoader 0: 100%|██████████| 9/9 [00:00<00:00, 166.80it/s]\n"
     ]
    },
    {
     "name": "stderr",
     "output_type": "stream",
     "text": [
      "Restoring states from the checkpoint path at /Users/benjaminvaca/Documents/USFQ/semestre7/machine_learning/proyecto/lightning_logs/version_177/checkpoints/epoch=9-step=340.ckpt\n",
      "Loaded model weights from the checkpoint at /Users/benjaminvaca/Documents/USFQ/semestre7/machine_learning/proyecto/lightning_logs/version_177/checkpoints/epoch=9-step=340.ckpt\n"
     ]
    },
    {
     "name": "stdout",
     "output_type": "stream",
     "text": [
      "Testing DataLoader 0: 100%|██████████| 11/11 [00:00<00:00, 483.52it/s]\n"
     ]
    },
    {
     "data": {
      "text/html": [
       "<pre style=\"white-space:pre;overflow-x:auto;line-height:normal;font-family:Menlo,'DejaVu Sans Mono',consolas,'Courier New',monospace\">┏━━━━━━━━━━━━━━━━━━━━━━━━━━━┳━━━━━━━━━━━━━━━━━━━━━━━━━━━┓\n",
       "┃<span style=\"font-weight: bold\">        Test metric        </span>┃<span style=\"font-weight: bold\">       DataLoader 0        </span>┃\n",
       "┡━━━━━━━━━━━━━━━━━━━━━━━━━━━╇━━━━━━━━━━━━━━━━━━━━━━━━━━━┩\n",
       "│<span style=\"color: #008080; text-decoration-color: #008080\">      test_f1ma_epoch      </span>│<span style=\"color: #800080; text-decoration-color: #800080\">    0.2095438838005066     </span>│\n",
       "│<span style=\"color: #008080; text-decoration-color: #008080\">      test_ham_epoch       </span>│<span style=\"color: #800080; text-decoration-color: #800080\">    0.2743363082408905     </span>│\n",
       "│<span style=\"color: #008080; text-decoration-color: #008080\">      test_loss_epoch      </span>│<span style=\"color: #800080; text-decoration-color: #800080\">    0.5421301126480103     </span>│\n",
       "└───────────────────────────┴───────────────────────────┘\n",
       "</pre>\n"
      ],
      "text/plain": [
       "┏━━━━━━━━━━━━━━━━━━━━━━━━━━━┳━━━━━━━━━━━━━━━━━━━━━━━━━━━┓\n",
       "┃\u001b[1m \u001b[0m\u001b[1m       Test metric       \u001b[0m\u001b[1m \u001b[0m┃\u001b[1m \u001b[0m\u001b[1m      DataLoader 0       \u001b[0m\u001b[1m \u001b[0m┃\n",
       "┡━━━━━━━━━━━━━━━━━━━━━━━━━━━╇━━━━━━━━━━━━━━━━━━━━━━━━━━━┩\n",
       "│\u001b[36m \u001b[0m\u001b[36m     test_f1ma_epoch     \u001b[0m\u001b[36m \u001b[0m│\u001b[35m \u001b[0m\u001b[35m   0.2095438838005066    \u001b[0m\u001b[35m \u001b[0m│\n",
       "│\u001b[36m \u001b[0m\u001b[36m     test_ham_epoch      \u001b[0m\u001b[36m \u001b[0m│\u001b[35m \u001b[0m\u001b[35m   0.2743363082408905    \u001b[0m\u001b[35m \u001b[0m│\n",
       "│\u001b[36m \u001b[0m\u001b[36m     test_loss_epoch     \u001b[0m\u001b[36m \u001b[0m│\u001b[35m \u001b[0m\u001b[35m   0.5421301126480103    \u001b[0m\u001b[35m \u001b[0m│\n",
       "└───────────────────────────┴───────────────────────────┘\n"
      ]
     },
     "metadata": {},
     "output_type": "display_data"
    },
    {
     "name": "stdout",
     "output_type": "stream",
     "text": [
      "  loss: 0.5421 | hamming: 0.2743 | f1_macro: 0.2095\n",
      "Fold 9/10\n"
     ]
    },
    {
     "name": "stderr",
     "output_type": "stream",
     "text": [
      "GPU available: True (mps), used: False\n",
      "TPU available: False, using: 0 TPU cores\n",
      "HPU available: False, using: 0 HPUs\n",
      "\n",
      "  | Name       | Type                      | Params | Mode \n",
      "-----------------------------------------------------------------\n",
      "0 | classifier | Sequential                | 333 K  | train\n",
      "1 | loss       | BCEWithLogitsLoss         | 0      | train\n",
      "2 | hamming    | MultilabelHammingDistance | 0      | train\n",
      "3 | f1_macro   | MultilabelF1Score         | 0      | train\n",
      "-----------------------------------------------------------------\n",
      "333 K     Trainable params\n",
      "0         Non-trainable params\n",
      "333 K     Total params\n",
      "1.332     Total estimated model params size (MB)\n",
      "17        Modules in train mode\n",
      "0         Modules in eval mode\n"
     ]
    },
    {
     "name": "stdout",
     "output_type": "stream",
     "text": [
      "Epoch 4: 100%|██████████| 34/34 [00:00<00:00, 204.47it/s, v_num=178, train_loss=0.562, train_ham=0.259, train_f1ma=0.356, val_loss_step=0.562, val_ham_step=0.393, val_f1ma_step=0.0632, val_loss_epoch=0.540, val_ham_epoch=0.278, val_f1ma_epoch=0.215]\n"
     ]
    },
    {
     "name": "stderr",
     "output_type": "stream",
     "text": [
      "Restoring states from the checkpoint path at /Users/benjaminvaca/Documents/USFQ/semestre7/machine_learning/proyecto/lightning_logs/version_178/checkpoints/epoch=1-step=68.ckpt\n",
      "Loaded model weights from the checkpoint at /Users/benjaminvaca/Documents/USFQ/semestre7/machine_learning/proyecto/lightning_logs/version_178/checkpoints/epoch=1-step=68.ckpt\n"
     ]
    },
    {
     "name": "stdout",
     "output_type": "stream",
     "text": [
      "Validation DataLoader 0: 100%|██████████| 34/34 [00:00<00:00, 534.01it/s]"
     ]
    },
    {
     "name": "stderr",
     "output_type": "stream",
     "text": [
      "Restoring states from the checkpoint path at /Users/benjaminvaca/Documents/USFQ/semestre7/machine_learning/proyecto/lightning_logs/version_178/checkpoints/epoch=1-step=68.ckpt\n"
     ]
    },
    {
     "name": "stdout",
     "output_type": "stream",
     "text": [
      "\n"
     ]
    },
    {
     "name": "stderr",
     "output_type": "stream",
     "text": [
      "Loaded model weights from the checkpoint at /Users/benjaminvaca/Documents/USFQ/semestre7/machine_learning/proyecto/lightning_logs/version_178/checkpoints/epoch=1-step=68.ckpt\n"
     ]
    },
    {
     "name": "stdout",
     "output_type": "stream",
     "text": [
      "Validation DataLoader 0: 100%|██████████| 9/9 [00:00<00:00, 516.77it/s]"
     ]
    },
    {
     "name": "stderr",
     "output_type": "stream",
     "text": [
      "Restoring states from the checkpoint path at /Users/benjaminvaca/Documents/USFQ/semestre7/machine_learning/proyecto/lightning_logs/version_178/checkpoints/epoch=1-step=68.ckpt\n"
     ]
    },
    {
     "name": "stdout",
     "output_type": "stream",
     "text": [
      "\n"
     ]
    },
    {
     "name": "stderr",
     "output_type": "stream",
     "text": [
      "Loaded model weights from the checkpoint at /Users/benjaminvaca/Documents/USFQ/semestre7/machine_learning/proyecto/lightning_logs/version_178/checkpoints/epoch=1-step=68.ckpt\n"
     ]
    },
    {
     "name": "stdout",
     "output_type": "stream",
     "text": [
      "Testing DataLoader 0: 100%|██████████| 11/11 [00:00<00:00, 513.71it/s]\n"
     ]
    },
    {
     "data": {
      "text/html": [
       "<pre style=\"white-space:pre;overflow-x:auto;line-height:normal;font-family:Menlo,'DejaVu Sans Mono',consolas,'Courier New',monospace\">┏━━━━━━━━━━━━━━━━━━━━━━━━━━━┳━━━━━━━━━━━━━━━━━━━━━━━━━━━┓\n",
       "┃<span style=\"font-weight: bold\">        Test metric        </span>┃<span style=\"font-weight: bold\">       DataLoader 0        </span>┃\n",
       "┡━━━━━━━━━━━━━━━━━━━━━━━━━━━╇━━━━━━━━━━━━━━━━━━━━━━━━━━━┩\n",
       "│<span style=\"color: #008080; text-decoration-color: #008080\">      test_f1ma_epoch      </span>│<span style=\"color: #800080; text-decoration-color: #800080\">    0.2214079350233078     </span>│\n",
       "│<span style=\"color: #008080; text-decoration-color: #008080\">      test_ham_epoch       </span>│<span style=\"color: #800080; text-decoration-color: #800080\">    0.27892497181892395    </span>│\n",
       "│<span style=\"color: #008080; text-decoration-color: #008080\">      test_loss_epoch      </span>│<span style=\"color: #800080; text-decoration-color: #800080\">    0.5698091983795166     </span>│\n",
       "└───────────────────────────┴───────────────────────────┘\n",
       "</pre>\n"
      ],
      "text/plain": [
       "┏━━━━━━━━━━━━━━━━━━━━━━━━━━━┳━━━━━━━━━━━━━━━━━━━━━━━━━━━┓\n",
       "┃\u001b[1m \u001b[0m\u001b[1m       Test metric       \u001b[0m\u001b[1m \u001b[0m┃\u001b[1m \u001b[0m\u001b[1m      DataLoader 0       \u001b[0m\u001b[1m \u001b[0m┃\n",
       "┡━━━━━━━━━━━━━━━━━━━━━━━━━━━╇━━━━━━━━━━━━━━━━━━━━━━━━━━━┩\n",
       "│\u001b[36m \u001b[0m\u001b[36m     test_f1ma_epoch     \u001b[0m\u001b[36m \u001b[0m│\u001b[35m \u001b[0m\u001b[35m   0.2214079350233078    \u001b[0m\u001b[35m \u001b[0m│\n",
       "│\u001b[36m \u001b[0m\u001b[36m     test_ham_epoch      \u001b[0m\u001b[36m \u001b[0m│\u001b[35m \u001b[0m\u001b[35m   0.27892497181892395   \u001b[0m\u001b[35m \u001b[0m│\n",
       "│\u001b[36m \u001b[0m\u001b[36m     test_loss_epoch     \u001b[0m\u001b[36m \u001b[0m│\u001b[35m \u001b[0m\u001b[35m   0.5698091983795166    \u001b[0m\u001b[35m \u001b[0m│\n",
       "└───────────────────────────┴───────────────────────────┘\n"
      ]
     },
     "metadata": {},
     "output_type": "display_data"
    },
    {
     "name": "stdout",
     "output_type": "stream",
     "text": [
      "  loss: 0.5698 | hamming: 0.2789 | f1_macro: 0.2214\n",
      "Fold 10/10\n"
     ]
    },
    {
     "name": "stderr",
     "output_type": "stream",
     "text": [
      "GPU available: True (mps), used: False\n",
      "TPU available: False, using: 0 TPU cores\n",
      "HPU available: False, using: 0 HPUs\n",
      "\n",
      "  | Name       | Type                      | Params | Mode \n",
      "-----------------------------------------------------------------\n",
      "0 | classifier | Sequential                | 333 K  | train\n",
      "1 | loss       | BCEWithLogitsLoss         | 0      | train\n",
      "2 | hamming    | MultilabelHammingDistance | 0      | train\n",
      "3 | f1_macro   | MultilabelF1Score         | 0      | train\n",
      "-----------------------------------------------------------------\n",
      "333 K     Trainable params\n",
      "0         Non-trainable params\n",
      "333 K     Total params\n",
      "1.332     Total estimated model params size (MB)\n",
      "17        Modules in train mode\n",
      "0         Modules in eval mode\n"
     ]
    },
    {
     "name": "stdout",
     "output_type": "stream",
     "text": [
      "Epoch 3: 100%|██████████| 34/34 [00:00<00:00, 202.89it/s, v_num=179, train_loss=0.562, train_ham=0.319, train_f1ma=0.285, val_loss_step=0.583, val_ham_step=0.393, val_f1ma_step=0.0741, val_loss_epoch=0.563, val_ham_epoch=0.301, val_f1ma_epoch=0.170]"
     ]
    },
    {
     "name": "stderr",
     "output_type": "stream",
     "text": [
      "Restoring states from the checkpoint path at /Users/benjaminvaca/Documents/USFQ/semestre7/machine_learning/proyecto/lightning_logs/version_179/checkpoints/epoch=0-step=34.ckpt\n"
     ]
    },
    {
     "name": "stdout",
     "output_type": "stream",
     "text": [
      "\n"
     ]
    },
    {
     "name": "stderr",
     "output_type": "stream",
     "text": [
      "Loaded model weights from the checkpoint at /Users/benjaminvaca/Documents/USFQ/semestre7/machine_learning/proyecto/lightning_logs/version_179/checkpoints/epoch=0-step=34.ckpt\n"
     ]
    },
    {
     "name": "stdout",
     "output_type": "stream",
     "text": [
      "Validation DataLoader 0: 100%|██████████| 34/34 [00:00<00:00, 553.84it/s]"
     ]
    },
    {
     "name": "stderr",
     "output_type": "stream",
     "text": [
      "Restoring states from the checkpoint path at /Users/benjaminvaca/Documents/USFQ/semestre7/machine_learning/proyecto/lightning_logs/version_179/checkpoints/epoch=0-step=34.ckpt\n"
     ]
    },
    {
     "name": "stdout",
     "output_type": "stream",
     "text": [
      "\n"
     ]
    },
    {
     "name": "stderr",
     "output_type": "stream",
     "text": [
      "Loaded model weights from the checkpoint at /Users/benjaminvaca/Documents/USFQ/semestre7/machine_learning/proyecto/lightning_logs/version_179/checkpoints/epoch=0-step=34.ckpt\n"
     ]
    },
    {
     "name": "stdout",
     "output_type": "stream",
     "text": [
      "Validation DataLoader 0: 100%|██████████| 9/9 [00:00<00:00, 528.35it/s]"
     ]
    },
    {
     "name": "stderr",
     "output_type": "stream",
     "text": [
      "Restoring states from the checkpoint path at /Users/benjaminvaca/Documents/USFQ/semestre7/machine_learning/proyecto/lightning_logs/version_179/checkpoints/epoch=0-step=34.ckpt\n"
     ]
    },
    {
     "name": "stdout",
     "output_type": "stream",
     "text": [
      "\n"
     ]
    },
    {
     "name": "stderr",
     "output_type": "stream",
     "text": [
      "Loaded model weights from the checkpoint at /Users/benjaminvaca/Documents/USFQ/semestre7/machine_learning/proyecto/lightning_logs/version_179/checkpoints/epoch=0-step=34.ckpt\n"
     ]
    },
    {
     "name": "stdout",
     "output_type": "stream",
     "text": [
      "Testing DataLoader 0: 100%|██████████| 11/11 [00:00<00:00, 192.21it/s]\n"
     ]
    },
    {
     "data": {
      "text/html": [
       "<pre style=\"white-space:pre;overflow-x:auto;line-height:normal;font-family:Menlo,'DejaVu Sans Mono',consolas,'Courier New',monospace\">┏━━━━━━━━━━━━━━━━━━━━━━━━━━━┳━━━━━━━━━━━━━━━━━━━━━━━━━━━┓\n",
       "┃<span style=\"font-weight: bold\">        Test metric        </span>┃<span style=\"font-weight: bold\">       DataLoader 0        </span>┃\n",
       "┡━━━━━━━━━━━━━━━━━━━━━━━━━━━╇━━━━━━━━━━━━━━━━━━━━━━━━━━━┩\n",
       "│<span style=\"color: #008080; text-decoration-color: #008080\">      test_f1ma_epoch      </span>│<span style=\"color: #800080; text-decoration-color: #800080\">    0.16702796518802643    </span>│\n",
       "│<span style=\"color: #008080; text-decoration-color: #008080\">      test_ham_epoch       </span>│<span style=\"color: #800080; text-decoration-color: #800080\">    0.3241560161113739     </span>│\n",
       "│<span style=\"color: #008080; text-decoration-color: #008080\">      test_loss_epoch      </span>│<span style=\"color: #800080; text-decoration-color: #800080\">     0.591900646686554     </span>│\n",
       "└───────────────────────────┴───────────────────────────┘\n",
       "</pre>\n"
      ],
      "text/plain": [
       "┏━━━━━━━━━━━━━━━━━━━━━━━━━━━┳━━━━━━━━━━━━━━━━━━━━━━━━━━━┓\n",
       "┃\u001b[1m \u001b[0m\u001b[1m       Test metric       \u001b[0m\u001b[1m \u001b[0m┃\u001b[1m \u001b[0m\u001b[1m      DataLoader 0       \u001b[0m\u001b[1m \u001b[0m┃\n",
       "┡━━━━━━━━━━━━━━━━━━━━━━━━━━━╇━━━━━━━━━━━━━━━━━━━━━━━━━━━┩\n",
       "│\u001b[36m \u001b[0m\u001b[36m     test_f1ma_epoch     \u001b[0m\u001b[36m \u001b[0m│\u001b[35m \u001b[0m\u001b[35m   0.16702796518802643   \u001b[0m\u001b[35m \u001b[0m│\n",
       "│\u001b[36m \u001b[0m\u001b[36m     test_ham_epoch      \u001b[0m\u001b[36m \u001b[0m│\u001b[35m \u001b[0m\u001b[35m   0.3241560161113739    \u001b[0m\u001b[35m \u001b[0m│\n",
       "│\u001b[36m \u001b[0m\u001b[36m     test_loss_epoch     \u001b[0m\u001b[36m \u001b[0m│\u001b[35m \u001b[0m\u001b[35m    0.591900646686554    \u001b[0m\u001b[35m \u001b[0m│\n",
       "└───────────────────────────┴───────────────────────────┘\n"
      ]
     },
     "metadata": {},
     "output_type": "display_data"
    },
    {
     "name": "stdout",
     "output_type": "stream",
     "text": [
      "  loss: 0.5919 | hamming: 0.3242 | f1_macro: 0.1670\n",
      "\n",
      "F1-macro promedio: 0.2041 ± 0.0200\n",
      "Hamming promedio: 0.2892 ± 0.0153\n",
      "Pérdida promedio:         0.5625 ± 0.0155\n",
      "HU=[256, 256, 256]  L2=0.0001 → val_f1ma: 0.2041\n",
      "🏆 Mejor configuración: {'hidden_units': [256, 256, 256], 'lambda_L2': 0.001} → val_f1ma: 0.20784315019845961\n"
     ]
    }
   ],
   "source": [
    "best_score = -float('inf')\n",
    "best_params = None\n",
    "\n",
    "grid_results = {} \n",
    "for p in param_grid:\n",
    "    # devuelvo sólo la media de val_f1ma:\n",
    "    mean_val_f1 = ValidacionCruzada(\n",
    "        hidden_units = p['hidden_units'],\n",
    "        Xtrain       = X_train,\n",
    "        ytrain       = y_trainOHE,\n",
    "        Xtest        = X_test,\n",
    "        ytest        = y_testOHE,\n",
    "        batch_size   = 32,\n",
    "        n_splits     = 5,\n",
    "        n_repeats    = 2,\n",
    "        max_epochs   = 50,\n",
    "        lambda_L2    = p['lambda_L2'],\n",
    "    )['avg_f1_macro']\n",
    "\n",
    "    arch_str = \"-\".join(map(str, p['hidden_units']))\n",
    "    grid_results[(arch_str, p['lambda_L2'])] = mean_val_f1\n",
    "    print(f\"HU={p['hidden_units']}  L2={p['lambda_L2']} → val_f1ma: {mean_val_f1:.4f}\")\n",
    "    if mean_val_f1 > best_score:\n",
    "        best_score = mean_val_f1\n",
    "        best_params = p\n",
    "\n",
    "print(\"🏆 Mejor configuración:\", best_params, \"→ val_f1ma:\", best_score)\n"
   ]
  },
  {
   "cell_type": "code",
   "execution_count": 52,
   "metadata": {},
   "outputs": [
    {
     "data": {
      "text/plain": [
       "Reusing TensorBoard on port 6006 (pid 17559), started 0:00:43 ago. (Use '!kill 17559' to kill it.)"
      ]
     },
     "metadata": {},
     "output_type": "display_data"
    },
    {
     "data": {
      "text/html": [
       "\n",
       "      <iframe id=\"tensorboard-frame-962c1762b5dc9b44\" width=\"100%\" height=\"800\" frameborder=\"0\">\n",
       "      </iframe>\n",
       "      <script>\n",
       "        (function() {\n",
       "          const frame = document.getElementById(\"tensorboard-frame-962c1762b5dc9b44\");\n",
       "          const url = new URL(\"http://localhost\");\n",
       "          const port = 6006;\n",
       "          if (port) {\n",
       "            url.port = port;\n",
       "          }\n",
       "          frame.src = url;\n",
       "        })();\n",
       "      </script>\n",
       "    "
      ],
      "text/plain": [
       "<IPython.core.display.HTML object>"
      ]
     },
     "metadata": {},
     "output_type": "display_data"
    }
   ],
   "source": [
    "%reload_ext tensorboard\n",
    "%tensorboard --logdir \"lightning_logs\""
   ]
  },
  {
   "cell_type": "code",
   "execution_count": 51,
   "metadata": {},
   "outputs": [
    {
     "data": {
      "image/png": "[encoded data removed]",
      "text/plain": [
       "<Figure size 640x480 with 2 Axes>"
      ]
     },
     "metadata": {},
     "output_type": "display_data"
    }
   ],
   "source": [
    "import numpy as np\n",
    "import matplotlib.pyplot as plt\n",
    "\n",
    "archs = sorted({k[0] for k in grid_results})\n",
    "l2s   = sorted({k[1] for k in grid_results})\n",
    "heat  = np.zeros((len(l2s), len(archs)))\n",
    "\n",
    "for i, l2 in enumerate(l2s):\n",
    "    for j, arch in enumerate(archs):\n",
    "        heat[i, j] = grid_results[(arch, l2)]\n",
    "\n",
    "plt.imshow(heat, origin='lower', aspect='auto')\n",
    "plt.colorbar(label='Mean valid. F1-macro')\n",
    "plt.xticks(np.arange(len(archs)), archs, rotation=45)\n",
    "plt.yticks(np.arange(len(l2s)), l2s)\n",
    "plt.xlabel('Hidden layers')\n",
    "plt.ylabel('λ (L2)')\n",
    "plt.title('Grid Search: valid. F1-macro')\n",
    "plt.tight_layout()\n",
    "plt.show()\n"
   ]
  }
 ],
 "metadata": {
  "kernelspec": {
   "display_name": "Python 3",
   "language": "python",
   "name": "python3"
  },
  "language_info": {
   "codemirror_mode": {
    "name": "ipython",
    "version": 3
   },
   "file_extension": ".py",
   "mimetype": "text/x-python",
   "name": "python",
   "nbconvert_exporter": "python",
   "pygments_lexer": "ipython3",
   "version": "3.12.7"
  }
 },
 "nbformat": 4,
 "nbformat_minor": 2
}
