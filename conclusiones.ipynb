{
 "cells": [
  {
   "cell_type": "markdown",
   "metadata": {},
   "source": [
    "Con respecto al modelo de Random Forest, el modelo obtuvo un accuracy general del 61%, un valor que demuestra un rendimiento moderado al momento de realizar la clasificación multiclase. Asimismo, en los resultados se obtuvo la matriz de Confusión para los tres tipos de eventos y a partir de ella, donde la parte superior corresponde a los labels de los eventos predichos, y los labels a la izquierda son los actuales. Por ello, el evento que se predice de mejor manera es el Reverse Oblicuo. Un dato que se puede corroborar con su recall del 0.77. Y el evento con mayores dificultades es el Sticker Slip, con el menor recall al tener un valor de 0.44 y un f1-score de 0.5. El evento Strike Oblicuo alcanzó un balance adecuado entre su precisión y recall, reflejado en el valor de f1-score de 0.64.\n",
    "\n",
    "Otro de los resultados obtenidos es el valor de los features donde se obtiene un mejor rendimiento. Principalmente en los valores próximos a 100. Al mismo tiempo, el código cuenta con una parte para realizar un ajuste de los hiperparámetros del Random Forest, en este caso demostrando que los valores empleados para la profundidad, la mínima cantidad de hojas, y el número de estimadores son similares a los empleados a lo largo del proyecto. Asimismo, el valor de max_features es empleado con el que se tiene por defecto en la clase, con el objetivo de buscar reducir el overfitting. Al final, el modelo optimizado alcanzó un F1-micro promedio de 0.5826 con una desviación estándar de 0.0209. Demostrando un desempeño aceptable de la clasificación de señales sísmicas que se corrobora con las gráficas.\n",
    "\n",
    "---\n",
    "\n",
    "Para SVM con este flujo obtuvimos:\n",
    "\n",
    "F1 (samples) en CV: 0.5261\n",
    "F1 (samples) en validación: 0.5028\n",
    "Test (tras aplicar umbrales óptimos):\n",
    "micro-F1≈0.50, micro-recall≈0.57, micro-precision≈0.45\n",
    "La clase más frecuente (etiqueta 3) alcanza F1≈0.75, mientras que algunas de soporte menor (p. ej. clases 2 y 4) quedan alrededor de F1≈0.32–0.46.\n",
    "\n",
    "Este flujo con SVM demuestra ser sólido para clases dominantes y alcanza un F1-samples estable en torno a 0.50, pero muestra limitaciones en las categorías menos representadas. Para mejorar la precision en conjunto sin sacrificar el recall, convendría explorar ajustes de umbral por etiqueta, reforzar el entrenamiento de las clases raras (más datos o técnicas de oversampling) y/o combinarlo con otros modelos (ensamble) que compensen sus puntos débiles."
   ]
  }
 ],
 "metadata": {
  "language_info": {
   "name": "python"
  }
 },
 "nbformat": 4,
 "nbformat_minor": 2
}
