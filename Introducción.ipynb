{
 "cells": [
  {
   "cell_type": "markdown",
   "id": "ab7fe49c",
   "metadata": {},
   "source": [
    "## Introducción"
   ]
  },
  {
   "cell_type": "markdown",
   "id": "14674885",
   "metadata": {},
   "source": [
    "El proyecto tiene como propuesta inicial el de realizar diversos modelos para comprobar la funcionalidad de modelos de aprendizaje automático en ciertos eventos de la vida real. En este caso, el proyecto está enfocado en la predicción de sismos teniendo una base de datos de la que se parte para tener una data a la que se realizará un preprocesamiento y un procesamiento para entrenar adecuadamente los modelos. El objetivo de entrenar diferentes modelos es el de comprobar cuál de ellos logra cumplir de mejor manera el fin de predecir adecuadamente el tipo de sismo que se puede presentar. Para ello, se tiene tres modelos de clasificación multietiqueta que son la Red neuronal Feedforward, Random Forest, SVM con kernel RBF."
   ]
  }
 ],
 "metadata": {
  "language_info": {
   "name": "python"
  }
 },
 "nbformat": 4,
 "nbformat_minor": 5
}
